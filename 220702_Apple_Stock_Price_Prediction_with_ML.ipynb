{
  "nbformat": 4,
  "nbformat_minor": 0,
  "metadata": {
    "colab": {
      "name": "220702-Apple_Stock_Price_Prediction_with_ML.ipynb",
      "provenance": [],
      "collapsed_sections": [],
      "authorship_tag": "ABX9TyPbZqJuZqNt+E5PJH4V99KT",
      "include_colab_link": true
    },
    "kernelspec": {
      "name": "python3",
      "display_name": "Python 3"
    },
    "language_info": {
      "name": "python"
    }
  },
  "cells": [
    {
      "cell_type": "markdown",
      "metadata": {
        "id": "view-in-github",
        "colab_type": "text"
      },
      "source": [
        "<a href=\"https://colab.research.google.com/github/JoaquinGonzalezSimon/Data_science_and_ML_from_Medium/blob/main/220702_Apple_Stock_Price_Prediction_with_ML.ipynb\" target=\"_parent\"><img src=\"https://colab.research.google.com/assets/colab-badge.svg\" alt=\"Open In Colab\"/></a>"
      ]
    },
    {
      "cell_type": "markdown",
      "source": [
        "### This project was taken from the following link and I use it to practice my skills\n",
        "\n",
        "https://thecleverprogrammer.com/2021/09/08/apple-stock-price-prediction-with-machine-learning/\n",
        "\n",
        "https://medium.com/coders-camp/180-data-science-and-machine-learning-projects-with-python-6191bc7b9db9"
      ],
      "metadata": {
        "id": "DU0oGxNg-W31"
      }
    },
    {
      "cell_type": "code",
      "execution_count": 1,
      "metadata": {
        "id": "uGDyJrh9-S48"
      },
      "outputs": [],
      "source": [
        "import pandas as pd\n",
        "import numpy as np"
      ]
    },
    {
      "cell_type": "code",
      "source": [
        "from datetime import date, timedelta, datetime"
      ],
      "metadata": {
        "id": "lbDkxXGM-mnZ"
      },
      "execution_count": 2,
      "outputs": []
    },
    {
      "cell_type": "code",
      "source": [
        "date.today()"
      ],
      "metadata": {
        "colab": {
          "base_uri": "https://localhost:8080/"
        },
        "id": "qSfbkFLS-0T7",
        "outputId": "3cb8056c-4948-4356-9fdd-300573ecb099"
      },
      "execution_count": 3,
      "outputs": [
        {
          "output_type": "execute_result",
          "data": {
            "text/plain": [
              "datetime.date(2022, 7, 2)"
            ]
          },
          "metadata": {},
          "execution_count": 3
        }
      ]
    },
    {
      "cell_type": "code",
      "source": [
        "end_date = date.today() - timedelta(1)\n",
        "end_date = end_date.isoformat()\n",
        "end_date"
      ],
      "metadata": {
        "colab": {
          "base_uri": "https://localhost:8080/",
          "height": 36
        },
        "id": "rDeaB3Uo-2QF",
        "outputId": "7f886f5e-e5be-4d4c-93ab-052d0182b099"
      },
      "execution_count": 4,
      "outputs": [
        {
          "output_type": "execute_result",
          "data": {
            "text/plain": [
              "'2022-07-01'"
            ],
            "application/vnd.google.colaboratory.intrinsic+json": {
              "type": "string"
            }
          },
          "metadata": {},
          "execution_count": 4
        }
      ]
    },
    {
      "cell_type": "code",
      "source": [
        "start_date = date.today() - timedelta(365*5)\n",
        "start_date = start_date.isoformat()\n",
        "start_date"
      ],
      "metadata": {
        "colab": {
          "base_uri": "https://localhost:8080/",
          "height": 36
        },
        "id": "LX3oXmiH_M8J",
        "outputId": "1bcf0933-cbe1-41d8-f836-bc5e561984c4"
      },
      "execution_count": 5,
      "outputs": [
        {
          "output_type": "execute_result",
          "data": {
            "text/plain": [
              "'2017-07-03'"
            ],
            "application/vnd.google.colaboratory.intrinsic+json": {
              "type": "string"
            }
          },
          "metadata": {},
          "execution_count": 5
        }
      ]
    },
    {
      "cell_type": "code",
      "source": [
        "!pip install yfinance"
      ],
      "metadata": {
        "colab": {
          "base_uri": "https://localhost:8080/"
        },
        "id": "NfZxdFOM_cQu",
        "outputId": "e9786912-6014-465a-a1f8-8a46b59b30de"
      },
      "execution_count": 6,
      "outputs": [
        {
          "output_type": "stream",
          "name": "stdout",
          "text": [
            "Looking in indexes: https://pypi.org/simple, https://us-python.pkg.dev/colab-wheels/public/simple/\n",
            "Requirement already satisfied: yfinance in /usr/local/lib/python3.7/dist-packages (0.1.72)\n",
            "Requirement already satisfied: requests>=2.26 in /usr/local/lib/python3.7/dist-packages (from yfinance) (2.28.1)\n",
            "Requirement already satisfied: numpy>=1.15 in /usr/local/lib/python3.7/dist-packages (from yfinance) (1.21.6)\n",
            "Requirement already satisfied: pandas>=0.24.0 in /usr/local/lib/python3.7/dist-packages (from yfinance) (1.3.5)\n",
            "Requirement already satisfied: lxml>=4.5.1 in /usr/local/lib/python3.7/dist-packages (from yfinance) (4.9.1)\n",
            "Requirement already satisfied: multitasking>=0.0.7 in /usr/local/lib/python3.7/dist-packages (from yfinance) (0.0.10)\n",
            "Requirement already satisfied: python-dateutil>=2.7.3 in /usr/local/lib/python3.7/dist-packages (from pandas>=0.24.0->yfinance) (2.8.2)\n",
            "Requirement already satisfied: pytz>=2017.3 in /usr/local/lib/python3.7/dist-packages (from pandas>=0.24.0->yfinance) (2022.1)\n",
            "Requirement already satisfied: six>=1.5 in /usr/local/lib/python3.7/dist-packages (from python-dateutil>=2.7.3->pandas>=0.24.0->yfinance) (1.15.0)\n",
            "Requirement already satisfied: urllib3<1.27,>=1.21.1 in /usr/local/lib/python3.7/dist-packages (from requests>=2.26->yfinance) (1.24.3)\n",
            "Requirement already satisfied: certifi>=2017.4.17 in /usr/local/lib/python3.7/dist-packages (from requests>=2.26->yfinance) (2022.6.15)\n",
            "Requirement already satisfied: idna<4,>=2.5 in /usr/local/lib/python3.7/dist-packages (from requests>=2.26->yfinance) (2.10)\n",
            "Requirement already satisfied: charset-normalizer<3,>=2 in /usr/local/lib/python3.7/dist-packages (from requests>=2.26->yfinance) (2.0.12)\n"
          ]
        }
      ]
    },
    {
      "cell_type": "code",
      "source": [
        "import yfinance as yf"
      ],
      "metadata": {
        "id": "Af6TpBUS_gN9"
      },
      "execution_count": 7,
      "outputs": []
    },
    {
      "cell_type": "code",
      "source": [
        "data = yf.download('AAPL', start=start_date, end=end_date, progress=True)"
      ],
      "metadata": {
        "colab": {
          "base_uri": "https://localhost:8080/"
        },
        "id": "i9fWqyk3_ki-",
        "outputId": "d9c086ee-979f-4249-9599-a182b6e0aa2f"
      },
      "execution_count": 8,
      "outputs": [
        {
          "output_type": "stream",
          "name": "stdout",
          "text": [
            "\r[*********************100%***********************]  1 of 1 completed\n"
          ]
        }
      ]
    },
    {
      "cell_type": "code",
      "source": [
        "data.head()"
      ],
      "metadata": {
        "colab": {
          "base_uri": "https://localhost:8080/",
          "height": 237
        },
        "id": "Al1RyhSp_scS",
        "outputId": "7d67c175-9a2b-43c9-e8bb-a38aaee70ebb"
      },
      "execution_count": 9,
      "outputs": [
        {
          "output_type": "execute_result",
          "data": {
            "text/plain": [
              "                 Open       High        Low      Close  Adj Close    Volume\n",
              "Date                                                                       \n",
              "2017-07-03  36.220001  36.325001  35.775002  35.875000  33.961643  57111200\n",
              "2017-07-05  35.922501  36.197498  35.680000  36.022499  34.101276  86278400\n",
              "2017-07-06  35.755001  35.875000  35.602501  35.682499  33.779415  96515200\n",
              "2017-07-07  35.724998  36.187500  35.724998  36.044998  34.122578  76806800\n",
              "2017-07-10  36.027500  36.487499  35.842499  36.264999  34.330849  84362400"
            ],
            "text/html": [
              "\n",
              "  <div id=\"df-45e0c021-7ae4-4343-9741-0c9e6b2f0c1a\">\n",
              "    <div class=\"colab-df-container\">\n",
              "      <div>\n",
              "<style scoped>\n",
              "    .dataframe tbody tr th:only-of-type {\n",
              "        vertical-align: middle;\n",
              "    }\n",
              "\n",
              "    .dataframe tbody tr th {\n",
              "        vertical-align: top;\n",
              "    }\n",
              "\n",
              "    .dataframe thead th {\n",
              "        text-align: right;\n",
              "    }\n",
              "</style>\n",
              "<table border=\"1\" class=\"dataframe\">\n",
              "  <thead>\n",
              "    <tr style=\"text-align: right;\">\n",
              "      <th></th>\n",
              "      <th>Open</th>\n",
              "      <th>High</th>\n",
              "      <th>Low</th>\n",
              "      <th>Close</th>\n",
              "      <th>Adj Close</th>\n",
              "      <th>Volume</th>\n",
              "    </tr>\n",
              "    <tr>\n",
              "      <th>Date</th>\n",
              "      <th></th>\n",
              "      <th></th>\n",
              "      <th></th>\n",
              "      <th></th>\n",
              "      <th></th>\n",
              "      <th></th>\n",
              "    </tr>\n",
              "  </thead>\n",
              "  <tbody>\n",
              "    <tr>\n",
              "      <th>2017-07-03</th>\n",
              "      <td>36.220001</td>\n",
              "      <td>36.325001</td>\n",
              "      <td>35.775002</td>\n",
              "      <td>35.875000</td>\n",
              "      <td>33.961643</td>\n",
              "      <td>57111200</td>\n",
              "    </tr>\n",
              "    <tr>\n",
              "      <th>2017-07-05</th>\n",
              "      <td>35.922501</td>\n",
              "      <td>36.197498</td>\n",
              "      <td>35.680000</td>\n",
              "      <td>36.022499</td>\n",
              "      <td>34.101276</td>\n",
              "      <td>86278400</td>\n",
              "    </tr>\n",
              "    <tr>\n",
              "      <th>2017-07-06</th>\n",
              "      <td>35.755001</td>\n",
              "      <td>35.875000</td>\n",
              "      <td>35.602501</td>\n",
              "      <td>35.682499</td>\n",
              "      <td>33.779415</td>\n",
              "      <td>96515200</td>\n",
              "    </tr>\n",
              "    <tr>\n",
              "      <th>2017-07-07</th>\n",
              "      <td>35.724998</td>\n",
              "      <td>36.187500</td>\n",
              "      <td>35.724998</td>\n",
              "      <td>36.044998</td>\n",
              "      <td>34.122578</td>\n",
              "      <td>76806800</td>\n",
              "    </tr>\n",
              "    <tr>\n",
              "      <th>2017-07-10</th>\n",
              "      <td>36.027500</td>\n",
              "      <td>36.487499</td>\n",
              "      <td>35.842499</td>\n",
              "      <td>36.264999</td>\n",
              "      <td>34.330849</td>\n",
              "      <td>84362400</td>\n",
              "    </tr>\n",
              "  </tbody>\n",
              "</table>\n",
              "</div>\n",
              "      <button class=\"colab-df-convert\" onclick=\"convertToInteractive('df-45e0c021-7ae4-4343-9741-0c9e6b2f0c1a')\"\n",
              "              title=\"Convert this dataframe to an interactive table.\"\n",
              "              style=\"display:none;\">\n",
              "        \n",
              "  <svg xmlns=\"http://www.w3.org/2000/svg\" height=\"24px\"viewBox=\"0 0 24 24\"\n",
              "       width=\"24px\">\n",
              "    <path d=\"M0 0h24v24H0V0z\" fill=\"none\"/>\n",
              "    <path d=\"M18.56 5.44l.94 2.06.94-2.06 2.06-.94-2.06-.94-.94-2.06-.94 2.06-2.06.94zm-11 1L8.5 8.5l.94-2.06 2.06-.94-2.06-.94L8.5 2.5l-.94 2.06-2.06.94zm10 10l.94 2.06.94-2.06 2.06-.94-2.06-.94-.94-2.06-.94 2.06-2.06.94z\"/><path d=\"M17.41 7.96l-1.37-1.37c-.4-.4-.92-.59-1.43-.59-.52 0-1.04.2-1.43.59L10.3 9.45l-7.72 7.72c-.78.78-.78 2.05 0 2.83L4 21.41c.39.39.9.59 1.41.59.51 0 1.02-.2 1.41-.59l7.78-7.78 2.81-2.81c.8-.78.8-2.07 0-2.86zM5.41 20L4 18.59l7.72-7.72 1.47 1.35L5.41 20z\"/>\n",
              "  </svg>\n",
              "      </button>\n",
              "      \n",
              "  <style>\n",
              "    .colab-df-container {\n",
              "      display:flex;\n",
              "      flex-wrap:wrap;\n",
              "      gap: 12px;\n",
              "    }\n",
              "\n",
              "    .colab-df-convert {\n",
              "      background-color: #E8F0FE;\n",
              "      border: none;\n",
              "      border-radius: 50%;\n",
              "      cursor: pointer;\n",
              "      display: none;\n",
              "      fill: #1967D2;\n",
              "      height: 32px;\n",
              "      padding: 0 0 0 0;\n",
              "      width: 32px;\n",
              "    }\n",
              "\n",
              "    .colab-df-convert:hover {\n",
              "      background-color: #E2EBFA;\n",
              "      box-shadow: 0px 1px 2px rgba(60, 64, 67, 0.3), 0px 1px 3px 1px rgba(60, 64, 67, 0.15);\n",
              "      fill: #174EA6;\n",
              "    }\n",
              "\n",
              "    [theme=dark] .colab-df-convert {\n",
              "      background-color: #3B4455;\n",
              "      fill: #D2E3FC;\n",
              "    }\n",
              "\n",
              "    [theme=dark] .colab-df-convert:hover {\n",
              "      background-color: #434B5C;\n",
              "      box-shadow: 0px 1px 3px 1px rgba(0, 0, 0, 0.15);\n",
              "      filter: drop-shadow(0px 1px 2px rgba(0, 0, 0, 0.3));\n",
              "      fill: #FFFFFF;\n",
              "    }\n",
              "  </style>\n",
              "\n",
              "      <script>\n",
              "        const buttonEl =\n",
              "          document.querySelector('#df-45e0c021-7ae4-4343-9741-0c9e6b2f0c1a button.colab-df-convert');\n",
              "        buttonEl.style.display =\n",
              "          google.colab.kernel.accessAllowed ? 'block' : 'none';\n",
              "\n",
              "        async function convertToInteractive(key) {\n",
              "          const element = document.querySelector('#df-45e0c021-7ae4-4343-9741-0c9e6b2f0c1a');\n",
              "          const dataTable =\n",
              "            await google.colab.kernel.invokeFunction('convertToInteractive',\n",
              "                                                     [key], {});\n",
              "          if (!dataTable) return;\n",
              "\n",
              "          const docLinkHtml = 'Like what you see? Visit the ' +\n",
              "            '<a target=\"_blank\" href=https://colab.research.google.com/notebooks/data_table.ipynb>data table notebook</a>'\n",
              "            + ' to learn more about interactive tables.';\n",
              "          element.innerHTML = '';\n",
              "          dataTable['output_type'] = 'display_data';\n",
              "          await google.colab.output.renderOutput(dataTable, element);\n",
              "          const docLink = document.createElement('div');\n",
              "          docLink.innerHTML = docLinkHtml;\n",
              "          element.appendChild(docLink);\n",
              "        }\n",
              "      </script>\n",
              "    </div>\n",
              "  </div>\n",
              "  "
            ]
          },
          "metadata": {},
          "execution_count": 9
        }
      ]
    },
    {
      "cell_type": "code",
      "source": [
        "data.tail()"
      ],
      "metadata": {
        "colab": {
          "base_uri": "https://localhost:8080/",
          "height": 237
        },
        "id": "o_oeomFk_t2O",
        "outputId": "cb1624e0-0752-44b0-e793-a69819915166"
      },
      "execution_count": 10,
      "outputs": [
        {
          "output_type": "execute_result",
          "data": {
            "text/plain": [
              "                  Open        High         Low       Close   Adj Close  \\\n",
              "Date                                                                     \n",
              "2022-06-24  139.899994  141.910004  139.770004  141.660004  141.660004   \n",
              "2022-06-27  142.699997  143.490005  140.970001  141.660004  141.660004   \n",
              "2022-06-28  142.130005  143.419998  137.320007  137.440002  137.440002   \n",
              "2022-06-29  137.460007  140.669998  136.669998  139.229996  139.229996   \n",
              "2022-06-30  137.250000  138.369995  133.770004  136.720001  136.720001   \n",
              "\n",
              "              Volume  \n",
              "Date                  \n",
              "2022-06-24  89116800  \n",
              "2022-06-27  70207900  \n",
              "2022-06-28  67083400  \n",
              "2022-06-29  66242400  \n",
              "2022-06-30  98964500  "
            ],
            "text/html": [
              "\n",
              "  <div id=\"df-cdd0d7d9-4a36-4f7d-a54e-5f92ac011091\">\n",
              "    <div class=\"colab-df-container\">\n",
              "      <div>\n",
              "<style scoped>\n",
              "    .dataframe tbody tr th:only-of-type {\n",
              "        vertical-align: middle;\n",
              "    }\n",
              "\n",
              "    .dataframe tbody tr th {\n",
              "        vertical-align: top;\n",
              "    }\n",
              "\n",
              "    .dataframe thead th {\n",
              "        text-align: right;\n",
              "    }\n",
              "</style>\n",
              "<table border=\"1\" class=\"dataframe\">\n",
              "  <thead>\n",
              "    <tr style=\"text-align: right;\">\n",
              "      <th></th>\n",
              "      <th>Open</th>\n",
              "      <th>High</th>\n",
              "      <th>Low</th>\n",
              "      <th>Close</th>\n",
              "      <th>Adj Close</th>\n",
              "      <th>Volume</th>\n",
              "    </tr>\n",
              "    <tr>\n",
              "      <th>Date</th>\n",
              "      <th></th>\n",
              "      <th></th>\n",
              "      <th></th>\n",
              "      <th></th>\n",
              "      <th></th>\n",
              "      <th></th>\n",
              "    </tr>\n",
              "  </thead>\n",
              "  <tbody>\n",
              "    <tr>\n",
              "      <th>2022-06-24</th>\n",
              "      <td>139.899994</td>\n",
              "      <td>141.910004</td>\n",
              "      <td>139.770004</td>\n",
              "      <td>141.660004</td>\n",
              "      <td>141.660004</td>\n",
              "      <td>89116800</td>\n",
              "    </tr>\n",
              "    <tr>\n",
              "      <th>2022-06-27</th>\n",
              "      <td>142.699997</td>\n",
              "      <td>143.490005</td>\n",
              "      <td>140.970001</td>\n",
              "      <td>141.660004</td>\n",
              "      <td>141.660004</td>\n",
              "      <td>70207900</td>\n",
              "    </tr>\n",
              "    <tr>\n",
              "      <th>2022-06-28</th>\n",
              "      <td>142.130005</td>\n",
              "      <td>143.419998</td>\n",
              "      <td>137.320007</td>\n",
              "      <td>137.440002</td>\n",
              "      <td>137.440002</td>\n",
              "      <td>67083400</td>\n",
              "    </tr>\n",
              "    <tr>\n",
              "      <th>2022-06-29</th>\n",
              "      <td>137.460007</td>\n",
              "      <td>140.669998</td>\n",
              "      <td>136.669998</td>\n",
              "      <td>139.229996</td>\n",
              "      <td>139.229996</td>\n",
              "      <td>66242400</td>\n",
              "    </tr>\n",
              "    <tr>\n",
              "      <th>2022-06-30</th>\n",
              "      <td>137.250000</td>\n",
              "      <td>138.369995</td>\n",
              "      <td>133.770004</td>\n",
              "      <td>136.720001</td>\n",
              "      <td>136.720001</td>\n",
              "      <td>98964500</td>\n",
              "    </tr>\n",
              "  </tbody>\n",
              "</table>\n",
              "</div>\n",
              "      <button class=\"colab-df-convert\" onclick=\"convertToInteractive('df-cdd0d7d9-4a36-4f7d-a54e-5f92ac011091')\"\n",
              "              title=\"Convert this dataframe to an interactive table.\"\n",
              "              style=\"display:none;\">\n",
              "        \n",
              "  <svg xmlns=\"http://www.w3.org/2000/svg\" height=\"24px\"viewBox=\"0 0 24 24\"\n",
              "       width=\"24px\">\n",
              "    <path d=\"M0 0h24v24H0V0z\" fill=\"none\"/>\n",
              "    <path d=\"M18.56 5.44l.94 2.06.94-2.06 2.06-.94-2.06-.94-.94-2.06-.94 2.06-2.06.94zm-11 1L8.5 8.5l.94-2.06 2.06-.94-2.06-.94L8.5 2.5l-.94 2.06-2.06.94zm10 10l.94 2.06.94-2.06 2.06-.94-2.06-.94-.94-2.06-.94 2.06-2.06.94z\"/><path d=\"M17.41 7.96l-1.37-1.37c-.4-.4-.92-.59-1.43-.59-.52 0-1.04.2-1.43.59L10.3 9.45l-7.72 7.72c-.78.78-.78 2.05 0 2.83L4 21.41c.39.39.9.59 1.41.59.51 0 1.02-.2 1.41-.59l7.78-7.78 2.81-2.81c.8-.78.8-2.07 0-2.86zM5.41 20L4 18.59l7.72-7.72 1.47 1.35L5.41 20z\"/>\n",
              "  </svg>\n",
              "      </button>\n",
              "      \n",
              "  <style>\n",
              "    .colab-df-container {\n",
              "      display:flex;\n",
              "      flex-wrap:wrap;\n",
              "      gap: 12px;\n",
              "    }\n",
              "\n",
              "    .colab-df-convert {\n",
              "      background-color: #E8F0FE;\n",
              "      border: none;\n",
              "      border-radius: 50%;\n",
              "      cursor: pointer;\n",
              "      display: none;\n",
              "      fill: #1967D2;\n",
              "      height: 32px;\n",
              "      padding: 0 0 0 0;\n",
              "      width: 32px;\n",
              "    }\n",
              "\n",
              "    .colab-df-convert:hover {\n",
              "      background-color: #E2EBFA;\n",
              "      box-shadow: 0px 1px 2px rgba(60, 64, 67, 0.3), 0px 1px 3px 1px rgba(60, 64, 67, 0.15);\n",
              "      fill: #174EA6;\n",
              "    }\n",
              "\n",
              "    [theme=dark] .colab-df-convert {\n",
              "      background-color: #3B4455;\n",
              "      fill: #D2E3FC;\n",
              "    }\n",
              "\n",
              "    [theme=dark] .colab-df-convert:hover {\n",
              "      background-color: #434B5C;\n",
              "      box-shadow: 0px 1px 3px 1px rgba(0, 0, 0, 0.15);\n",
              "      filter: drop-shadow(0px 1px 2px rgba(0, 0, 0, 0.3));\n",
              "      fill: #FFFFFF;\n",
              "    }\n",
              "  </style>\n",
              "\n",
              "      <script>\n",
              "        const buttonEl =\n",
              "          document.querySelector('#df-cdd0d7d9-4a36-4f7d-a54e-5f92ac011091 button.colab-df-convert');\n",
              "        buttonEl.style.display =\n",
              "          google.colab.kernel.accessAllowed ? 'block' : 'none';\n",
              "\n",
              "        async function convertToInteractive(key) {\n",
              "          const element = document.querySelector('#df-cdd0d7d9-4a36-4f7d-a54e-5f92ac011091');\n",
              "          const dataTable =\n",
              "            await google.colab.kernel.invokeFunction('convertToInteractive',\n",
              "                                                     [key], {});\n",
              "          if (!dataTable) return;\n",
              "\n",
              "          const docLinkHtml = 'Like what you see? Visit the ' +\n",
              "            '<a target=\"_blank\" href=https://colab.research.google.com/notebooks/data_table.ipynb>data table notebook</a>'\n",
              "            + ' to learn more about interactive tables.';\n",
              "          element.innerHTML = '';\n",
              "          dataTable['output_type'] = 'display_data';\n",
              "          await google.colab.output.renderOutput(dataTable, element);\n",
              "          const docLink = document.createElement('div');\n",
              "          docLink.innerHTML = docLinkHtml;\n",
              "          element.appendChild(docLink);\n",
              "        }\n",
              "      </script>\n",
              "    </div>\n",
              "  </div>\n",
              "  "
            ]
          },
          "metadata": {},
          "execution_count": 10
        }
      ]
    },
    {
      "cell_type": "code",
      "source": [
        "import plotly.graph_objects as go"
      ],
      "metadata": {
        "id": "h-f5GcyU_v1T"
      },
      "execution_count": 12,
      "outputs": []
    },
    {
      "cell_type": "code",
      "source": [
        "data.columns = [i.lower() for i in data.columns]"
      ],
      "metadata": {
        "id": "7tBdWkIACQVm"
      },
      "execution_count": 26,
      "outputs": []
    },
    {
      "cell_type": "code",
      "source": [
        "data.info()"
      ],
      "metadata": {
        "colab": {
          "base_uri": "https://localhost:8080/"
        },
        "id": "8qzaBpTIC-X0",
        "outputId": "b3174d8d-9e69-4c9c-d78f-430339408820"
      },
      "execution_count": 27,
      "outputs": [
        {
          "output_type": "stream",
          "name": "stdout",
          "text": [
            "<class 'pandas.core.frame.DataFrame'>\n",
            "DatetimeIndex: 1258 entries, 2017-07-03 to 2022-06-30\n",
            "Data columns (total 6 columns):\n",
            " #   Column     Non-Null Count  Dtype  \n",
            "---  ------     --------------  -----  \n",
            " 0   open       1258 non-null   float64\n",
            " 1   high       1258 non-null   float64\n",
            " 2   low        1258 non-null   float64\n",
            " 3   close      1258 non-null   float64\n",
            " 4   adj close  1258 non-null   float64\n",
            " 5   volume     1258 non-null   int64  \n",
            "dtypes: float64(5), int64(1)\n",
            "memory usage: 68.8 KB\n"
          ]
        }
      ]
    },
    {
      "cell_type": "code",
      "source": [
        "data.reset_index(drop=False, inplace=True)\n",
        "data.head()"
      ],
      "metadata": {
        "colab": {
          "base_uri": "https://localhost:8080/",
          "height": 206
        },
        "id": "TjcQoxeUDD5l",
        "outputId": "d10ba093-f43b-4385-e63a-aa5687c47fc5"
      },
      "execution_count": 33,
      "outputs": [
        {
          "output_type": "execute_result",
          "data": {
            "text/plain": [
              "        Date       open       high        low      close  adj close    volume\n",
              "0 2017-07-03  36.220001  36.325001  35.775002  35.875000  33.961643  57111200\n",
              "1 2017-07-05  35.922501  36.197498  35.680000  36.022499  34.101276  86278400\n",
              "2 2017-07-06  35.755001  35.875000  35.602501  35.682499  33.779415  96515200\n",
              "3 2017-07-07  35.724998  36.187500  35.724998  36.044998  34.122578  76806800\n",
              "4 2017-07-10  36.027500  36.487499  35.842499  36.264999  34.330849  84362400"
            ],
            "text/html": [
              "\n",
              "  <div id=\"df-81d5da6e-d175-4eed-a306-fd4bb05ac89a\">\n",
              "    <div class=\"colab-df-container\">\n",
              "      <div>\n",
              "<style scoped>\n",
              "    .dataframe tbody tr th:only-of-type {\n",
              "        vertical-align: middle;\n",
              "    }\n",
              "\n",
              "    .dataframe tbody tr th {\n",
              "        vertical-align: top;\n",
              "    }\n",
              "\n",
              "    .dataframe thead th {\n",
              "        text-align: right;\n",
              "    }\n",
              "</style>\n",
              "<table border=\"1\" class=\"dataframe\">\n",
              "  <thead>\n",
              "    <tr style=\"text-align: right;\">\n",
              "      <th></th>\n",
              "      <th>Date</th>\n",
              "      <th>open</th>\n",
              "      <th>high</th>\n",
              "      <th>low</th>\n",
              "      <th>close</th>\n",
              "      <th>adj close</th>\n",
              "      <th>volume</th>\n",
              "    </tr>\n",
              "  </thead>\n",
              "  <tbody>\n",
              "    <tr>\n",
              "      <th>0</th>\n",
              "      <td>2017-07-03</td>\n",
              "      <td>36.220001</td>\n",
              "      <td>36.325001</td>\n",
              "      <td>35.775002</td>\n",
              "      <td>35.875000</td>\n",
              "      <td>33.961643</td>\n",
              "      <td>57111200</td>\n",
              "    </tr>\n",
              "    <tr>\n",
              "      <th>1</th>\n",
              "      <td>2017-07-05</td>\n",
              "      <td>35.922501</td>\n",
              "      <td>36.197498</td>\n",
              "      <td>35.680000</td>\n",
              "      <td>36.022499</td>\n",
              "      <td>34.101276</td>\n",
              "      <td>86278400</td>\n",
              "    </tr>\n",
              "    <tr>\n",
              "      <th>2</th>\n",
              "      <td>2017-07-06</td>\n",
              "      <td>35.755001</td>\n",
              "      <td>35.875000</td>\n",
              "      <td>35.602501</td>\n",
              "      <td>35.682499</td>\n",
              "      <td>33.779415</td>\n",
              "      <td>96515200</td>\n",
              "    </tr>\n",
              "    <tr>\n",
              "      <th>3</th>\n",
              "      <td>2017-07-07</td>\n",
              "      <td>35.724998</td>\n",
              "      <td>36.187500</td>\n",
              "      <td>35.724998</td>\n",
              "      <td>36.044998</td>\n",
              "      <td>34.122578</td>\n",
              "      <td>76806800</td>\n",
              "    </tr>\n",
              "    <tr>\n",
              "      <th>4</th>\n",
              "      <td>2017-07-10</td>\n",
              "      <td>36.027500</td>\n",
              "      <td>36.487499</td>\n",
              "      <td>35.842499</td>\n",
              "      <td>36.264999</td>\n",
              "      <td>34.330849</td>\n",
              "      <td>84362400</td>\n",
              "    </tr>\n",
              "  </tbody>\n",
              "</table>\n",
              "</div>\n",
              "      <button class=\"colab-df-convert\" onclick=\"convertToInteractive('df-81d5da6e-d175-4eed-a306-fd4bb05ac89a')\"\n",
              "              title=\"Convert this dataframe to an interactive table.\"\n",
              "              style=\"display:none;\">\n",
              "        \n",
              "  <svg xmlns=\"http://www.w3.org/2000/svg\" height=\"24px\"viewBox=\"0 0 24 24\"\n",
              "       width=\"24px\">\n",
              "    <path d=\"M0 0h24v24H0V0z\" fill=\"none\"/>\n",
              "    <path d=\"M18.56 5.44l.94 2.06.94-2.06 2.06-.94-2.06-.94-.94-2.06-.94 2.06-2.06.94zm-11 1L8.5 8.5l.94-2.06 2.06-.94-2.06-.94L8.5 2.5l-.94 2.06-2.06.94zm10 10l.94 2.06.94-2.06 2.06-.94-2.06-.94-.94-2.06-.94 2.06-2.06.94z\"/><path d=\"M17.41 7.96l-1.37-1.37c-.4-.4-.92-.59-1.43-.59-.52 0-1.04.2-1.43.59L10.3 9.45l-7.72 7.72c-.78.78-.78 2.05 0 2.83L4 21.41c.39.39.9.59 1.41.59.51 0 1.02-.2 1.41-.59l7.78-7.78 2.81-2.81c.8-.78.8-2.07 0-2.86zM5.41 20L4 18.59l7.72-7.72 1.47 1.35L5.41 20z\"/>\n",
              "  </svg>\n",
              "      </button>\n",
              "      \n",
              "  <style>\n",
              "    .colab-df-container {\n",
              "      display:flex;\n",
              "      flex-wrap:wrap;\n",
              "      gap: 12px;\n",
              "    }\n",
              "\n",
              "    .colab-df-convert {\n",
              "      background-color: #E8F0FE;\n",
              "      border: none;\n",
              "      border-radius: 50%;\n",
              "      cursor: pointer;\n",
              "      display: none;\n",
              "      fill: #1967D2;\n",
              "      height: 32px;\n",
              "      padding: 0 0 0 0;\n",
              "      width: 32px;\n",
              "    }\n",
              "\n",
              "    .colab-df-convert:hover {\n",
              "      background-color: #E2EBFA;\n",
              "      box-shadow: 0px 1px 2px rgba(60, 64, 67, 0.3), 0px 1px 3px 1px rgba(60, 64, 67, 0.15);\n",
              "      fill: #174EA6;\n",
              "    }\n",
              "\n",
              "    [theme=dark] .colab-df-convert {\n",
              "      background-color: #3B4455;\n",
              "      fill: #D2E3FC;\n",
              "    }\n",
              "\n",
              "    [theme=dark] .colab-df-convert:hover {\n",
              "      background-color: #434B5C;\n",
              "      box-shadow: 0px 1px 3px 1px rgba(0, 0, 0, 0.15);\n",
              "      filter: drop-shadow(0px 1px 2px rgba(0, 0, 0, 0.3));\n",
              "      fill: #FFFFFF;\n",
              "    }\n",
              "  </style>\n",
              "\n",
              "      <script>\n",
              "        const buttonEl =\n",
              "          document.querySelector('#df-81d5da6e-d175-4eed-a306-fd4bb05ac89a button.colab-df-convert');\n",
              "        buttonEl.style.display =\n",
              "          google.colab.kernel.accessAllowed ? 'block' : 'none';\n",
              "\n",
              "        async function convertToInteractive(key) {\n",
              "          const element = document.querySelector('#df-81d5da6e-d175-4eed-a306-fd4bb05ac89a');\n",
              "          const dataTable =\n",
              "            await google.colab.kernel.invokeFunction('convertToInteractive',\n",
              "                                                     [key], {});\n",
              "          if (!dataTable) return;\n",
              "\n",
              "          const docLinkHtml = 'Like what you see? Visit the ' +\n",
              "            '<a target=\"_blank\" href=https://colab.research.google.com/notebooks/data_table.ipynb>data table notebook</a>'\n",
              "            + ' to learn more about interactive tables.';\n",
              "          element.innerHTML = '';\n",
              "          dataTable['output_type'] = 'display_data';\n",
              "          await google.colab.output.renderOutput(dataTable, element);\n",
              "          const docLink = document.createElement('div');\n",
              "          docLink.innerHTML = docLinkHtml;\n",
              "          element.appendChild(docLink);\n",
              "        }\n",
              "      </script>\n",
              "    </div>\n",
              "  </div>\n",
              "  "
            ]
          },
          "metadata": {},
          "execution_count": 33
        }
      ]
    },
    {
      "cell_type": "code",
      "source": [
        "data = data.rename(columns={'Date':'date', 'adj close':'adj_close'})\n",
        "data.info()"
      ],
      "metadata": {
        "colab": {
          "base_uri": "https://localhost:8080/"
        },
        "id": "Scz7KKBOCFSZ",
        "outputId": "cb5299fd-d2dc-4d46-af9d-27bb2d33c998"
      },
      "execution_count": 34,
      "outputs": [
        {
          "output_type": "stream",
          "name": "stdout",
          "text": [
            "<class 'pandas.core.frame.DataFrame'>\n",
            "RangeIndex: 1258 entries, 0 to 1257\n",
            "Data columns (total 7 columns):\n",
            " #   Column     Non-Null Count  Dtype         \n",
            "---  ------     --------------  -----         \n",
            " 0   date       1258 non-null   datetime64[ns]\n",
            " 1   open       1258 non-null   float64       \n",
            " 2   high       1258 non-null   float64       \n",
            " 3   low        1258 non-null   float64       \n",
            " 4   close      1258 non-null   float64       \n",
            " 5   adj_close  1258 non-null   float64       \n",
            " 6   volume     1258 non-null   int64         \n",
            "dtypes: datetime64[ns](1), float64(5), int64(1)\n",
            "memory usage: 68.9 KB\n"
          ]
        }
      ]
    },
    {
      "cell_type": "code",
      "source": [
        "figure = go.Figure(data=[go.Candlestick(x=data.date, close=data.close, open=data.open, high=data.high, low=data.low)])\n",
        "figure.update_layout(title='Apple stock price analysis', xaxis_rangeslider_visible=True)\n",
        "figure.show()"
      ],
      "metadata": {
        "colab": {
          "base_uri": "https://localhost:8080/",
          "height": 542
        },
        "id": "ait-XvZjDlNQ",
        "outputId": "5a969283-d6de-4f44-c022-a037addb241a"
      },
      "execution_count": 35,
      "outputs": [
        {
          "output_type": "display_data",
          "data": {
            "text/html": [
              "<html>\n",
              "<head><meta charset=\"utf-8\" /></head>\n",
              "<body>\n",
              "    <div>            <script src=\"https://cdnjs.cloudflare.com/ajax/libs/mathjax/2.7.5/MathJax.js?config=TeX-AMS-MML_SVG\"></script><script type=\"text/javascript\">if (window.MathJax) {MathJax.Hub.Config({SVG: {font: \"STIX-Web\"}});}</script>                <script type=\"text/javascript\">window.PlotlyConfig = {MathJaxConfig: 'local'};</script>\n",
              "        <script src=\"https://cdn.plot.ly/plotly-2.8.3.min.js\"></script>                <div id=\"10399029-df74-4b4c-a2ea-5f6defa75ad9\" class=\"plotly-graph-div\" style=\"height:525px; width:100%;\"></div>            <script type=\"text/javascript\">                                    window.PLOTLYENV=window.PLOTLYENV || {};                                    if (document.getElementById(\"10399029-df74-4b4c-a2ea-5f6defa75ad9\")) {                    Plotly.newPlot(                        \"10399029-df74-4b4c-a2ea-5f6defa75ad9\",                        [{\"close\":[35.875,36.022499084472656,35.682498931884766,36.04499816894531,36.26499938964844,36.38249969482422,36.435001373291016,36.942501068115234,37.2599983215332,37.38999938964844,37.52000045776367,37.755001068115234,37.584999084472656,37.567501068115234,38.022499084472656,38.185001373291016,38.3650016784668,37.63999938964844,37.375,37.182498931884766,37.51250076293945,39.28499984741211,38.89250183105469,39.09749984741211,39.70249938964844,40.02000045776367,40.26499938964844,38.83000183105469,39.369998931884766,39.962501525878906,40.400001525878906,40.23749923706055,39.46500015258789,39.375,39.3025016784668,39.94499969482422,39.994998931884766,39.817501068115234,39.96500015258789,40.36750030517578,40.727500915527344,40.837501525878906,41.0,41.01250076293945,40.52000045776367,40.477500915527344,40.314998626708984,39.657501220703125,40.375,40.21500015258789,39.912498474121094,39.56999969482422,39.970001220703125,39.66749954223633,39.682498931884766,39.01750183105469,38.34749984741211,37.97249984741211,37.63750076293945,38.28499984741211,38.557498931884766,38.31999969482422,38.529998779296875,38.45249938964844,38.619998931884766,38.369998931884766,38.84749984741211,38.82500076293945,38.959999084472656,38.974998474121094,39.13750076293945,39.0,39.247501373291016,39.970001220703125,40.11750030517578,39.939998626708984,38.994998931884766,39.0625,39.04249954223633,39.275001525878906,39.102500915527344,39.352500915527344,40.76250076293945,41.68000030517578,42.2599983215332,41.72249984741211,42.02750015258789,43.125,43.5625,43.70249938964844,44.060001373291016,43.970001220703125,43.66749954223633,43.49250030517578,42.834999084472656,42.27000045776367,42.775001525878906,42.537498474121094,42.494998931884766,43.28499984741211,43.7400016784668,43.74250030517578,43.522499084472656,43.26750183105469,42.369998931884766,42.962501525878906,42.76250076293945,42.45000076293945,42.40999984741211,42.252498626708984,42.33000183105469,42.342498779296875,43.16749954223633,42.92499923706055,43.067501068115234,43.05500030517578,43.49250030517578,44.10499954223633,43.6349983215332,43.587501525878906,43.752498626708984,43.752498626708984,42.64250183105469,42.650001525878906,42.77000045776367,42.307498931884766,43.064998626708984,43.057498931884766,43.25749969482422,43.75,43.587501525878906,43.58250045776367,43.5724983215332,43.81999969482422,44.272499084472656,44.04750061035156,44.775001525878906,44.814998626708984,44.6150016784668,44.25,44.2599983215332,43.55500030517578,42.77750015258789,42.877498626708984,41.9900016784668,41.74250030517578,41.85749816894531,41.94499969482422,40.125,39.122501373291016,40.75749969482422,39.8849983215332,38.787498474121094,39.102500915527344,40.6775016784668,41.084999084472656,41.842498779296875,43.247501373291016,43.10749816894531,42.962501525878906,42.76750183105469,43.125,43.875,44.74250030517578,44.59749984741211,44.529998779296875,43.75,44.0525016784668,44.20500183105469,44.16749954223633,43.75749969482422,44.23500061035156,44.994998931884766,45.43000030517578,44.99250030517578,44.61000061035156,44.662498474121094,44.505001068115234,43.82500076293945,43.810001373291016,42.817501068115234,42.212501525878906,41.23500061035156,43.192501068115234,42.084999084472656,41.619998931884766,41.94499969482422,41.66999816894531,42.09749984741211,42.90250015258789,43.20000076293945,42.095001220703125,42.51250076293945,43.3125,43.11000061035156,43.53499984741211,43.682498931884766,43.95500183105469,44.560001373291016,44.459999084472656,43.20000076293945,41.43000030517578,41.310001373291016,40.73500061035156,40.912498474121094,41.05500030517578,40.58000183105469,41.314998626708984,42.275001525878906,44.14250183105469,44.22249984741211,45.95750045776367,46.290000915527344,46.51250076293945,46.84000015258789,47.5099983215332,47.147499084472656,47.037498474121094,46.61000061035156,47.04499816894531,46.747501373291016,46.57749938964844,46.907501220703125,46.790000915527344,47.09000015258789,47.037498474121094,47.14500045776367,46.974998474121094,46.875,46.717498779296875,47.560001373291016,47.95750045776367,48.32749938964844,48.494998931884766,48.3650016784668,47.92499923706055,47.807498931884766,48.06999969482422,47.67499923706055,47.70000076293945,47.209999084472656,47.185001373291016,46.42250061035156,46.625,46.3650016784668,46.22999954223633,45.54249954223633,46.10749816894531,46.040000915527344,46.375,46.27750015258789,46.79499816894531,45.97999954223633,46.349998474121094,46.99250030517578,47.64500045776367,47.587501525878906,46.970001220703125,47.75749969482422,47.83250045776367,47.727500915527344,47.86249923706055,47.599998474121094,47.970001220703125,47.86000061035156,47.90250015258789,48.25,48.70500183105469,48.5525016784668,47.744998931884766,47.477500915527344,47.5724983215332,50.375,51.84749984741211,51.997501373291016,52.26750183105469,51.77750015258789,51.8125,52.220001220703125,51.88249969482422,52.217498779296875,52.4375,52.560001373291016,53.33000183105469,54.39500045776367,53.8650016784668,53.7599983215332,53.76250076293945,53.872501373291016,54.040000915527344,54.48500061035156,54.92499923706055,55.744998931884766,56.25749969482422,56.907501220703125,57.09000015258789,56.717498779296875,55.775001525878906,55.32500076293945,54.58250045776367,55.962501525878906,55.26750183105469,56.602500915527344,55.959999084472656,54.470001220703125,54.560001373291016,54.592498779296875,55.00749969482422,54.415000915527344,55.1974983215332,55.54750061035156,55.10499954223633,56.23749923706055,56.435001373291016,56.814998626708984,57.31999969482422,58.01750183105469,56.997501373291016,56.0724983215332,55.942501068115234,56.717498779296875,54.09000015258789,53.61249923706055,55.52750015258789,54.34000015258789,55.537498474121094,55.29750061035156,54.005001068115234,54.82749938964844,55.162498474121094,55.682498931884766,53.772499084472656,54.95000076293945,54.07500076293945,53.060001373291016,53.32500076293945,54.71500015258789,55.55500030517578,51.869998931884766,50.397499084472656,50.942501068115234,52.48749923706055,52.122501373291016,51.11750030517578,48.54249954223633,48.057498931884766,46.70000076293945,47.852500915527344,48.38249969482422,46.46500015258789,44.244998931884766,44.19499969482422,43.0724983215332,43.654998779296875,43.560001373291016,45.23500061035156,44.88750076293945,44.64500045776367,46.20500183105469,44.17250061035156,43.68000030517578,42.122501373291016,42.400001525878906,42.157501220703125,42.275001525878906,42.73749923706055,41.369998931884766,40.98500061035156,41.51750183105469,40.22249984741211,39.20750045776367,37.682498931884766,36.70750045776367,39.29249954223633,39.037498474121094,39.057498931884766,39.435001373291016,39.47999954223633,35.54750061035156,37.064998626708984,36.98249816894531,37.6875,38.32749938964844,38.45000076293945,38.0724983215332,37.5,38.26750183105469,38.73500061035156,38.96500015258789,39.20500183105469,38.32500076293945,38.47999954223633,38.17499923706055,39.439998626708984,39.07500076293945,38.66999816894531,41.3125,41.61000061035156,41.630001068115234,42.8125,43.54499816894531,43.560001373291016,42.73500061035156,42.602500915527344,42.35749816894531,42.72249984741211,42.54499816894531,42.70000076293945,42.60499954223633,42.73249816894531,43.00749969482422,42.76499938964844,43.24250030517578,43.557498931884766,43.58250045776367,43.717498779296875,43.287498474121094,43.74250030517578,43.962501525878906,43.88249969482422,43.630001068115234,43.125,43.227500915527344,44.724998474121094,45.227500915527344,45.4275016784668,45.932498931884766,46.529998779296875,47.005001068115234,46.63249969482422,47.040000915527344,48.772499084472656,47.76250076293945,47.185001373291016,46.6974983215332,47.11750030517578,47.18000030517578,47.48749923706055,47.810001373291016,48.505001068115234,48.837501525878906,48.92250061035156,49.25,50.025001525878906,49.875,50.154998779296875,49.73749923706055,49.717498779296875,49.807498931884766,49.8125,50.782501220703125,50.96500015258789,51.13249969482422,51.869998931884766,51.790000915527344,51.31999969482422,51.07500076293945,51.15250015258789,50.16749954223633,52.630001068115234,52.287498474121094,52.9375,52.119998931884766,50.71500015258789,50.724998474121094,50.18000030517578,49.29499816894531,46.43000030517578,47.165000915527344,47.72999954223633,47.52000045776367,47.25,45.772499084472656,46.650001525878906,45.69499969482422,44.915000915527344,44.74250030517578,44.557498931884766,44.345001220703125,44.57500076293945,43.76750183105469,43.32500076293945,44.90999984741211,45.6349983215332,46.30500030517578,47.537498474121094,48.14500045776367,48.70249938964844,48.54750061035156,48.537498474121094,48.185001373291016,48.47249984741211,49.61249923706055,49.467498779296875,49.8650016784668,49.69499969482422,49.64500045776367,48.89250183105469,49.95000076293945,49.935001373291016,49.47999954223633,50.38750076293945,50.682498931884766,51.102500915527344,51.057498931884766,50.005001068115234,50.310001373291016,50.807498931884766,50.4375,50.82500076293945,51.3025016784668,51.125,50.837501525878906,51.415000915527344,50.647499084472656,51.80500030517578,52.209999084472656,52.16749954223633,51.755001068115234,51.935001373291016,52.41999816894531,52.19499969482422,53.2599983215332,52.10749816894531,51.005001068115234,48.334999084472656,49.25,49.7599983215332,50.85749816894531,50.247501373291016,50.119998931884766,52.24250030517578,50.6875,50.435001373291016,51.625,52.587501525878906,52.59000015258789,53.15999984741211,53.1150016784668,50.65999984741211,51.622501373291016,51.040000915527344,51.38249969482422,52.252498626708984,52.185001373291016,51.42499923706055,52.29750061035156,53.31999969482422,53.314998626708984,53.54249954223633,54.17499923706055,55.897499084472656,55.772499084472656,54.6875,54.974998474121094,55.17499923706055,55.692501068115234,55.2400016784668,54.432498931884766,54.68000030517578,54.41999816894531,55.25749969482422,54.97249984741211,54.70500183105469,55.99250030517578,56.147499084472656,54.7400016784668,55.20500183105469,56.752498626708984,56.76499938964844,56.099998474121094,56.75749969482422,57.522499084472656,59.0525016784668,58.967498779296875,58.83000183105469,58.592498779296875,58.81999969482422,59.102500915527344,60.127498626708984,59.9900016784668,60.79499816894531,60.89500045776367,61.64500045776367,62.26250076293945,60.8224983215332,60.814998626708984,62.189998626708984,63.95500183105469,64.375,64.28250122070312,64.30999755859375,64.85749816894531,65.03500366210938,65.55000305175781,65.48999786376953,66.11750030517578,65.66000366210938,66.44000244140625,66.7750015258789,66.57250213623047,65.79750061035156,65.50250244140625,65.44499969482422,66.59249877929688,66.07250213623047,66.95999908447266,66.8125,66.04000091552734,64.86250305175781,65.43499755859375,66.3949966430664,67.67749786376953,66.7300033569336,67.12000274658203,67.69249725341797,67.86499786376953,68.7874984741211,69.96499633789062,70.10250091552734,69.93499755859375,70.00499725341797,69.86000061035156,71.0,71.06749725341797,72.47750091552734,72.44999694824219,72.87999725341797,73.4124984741211,75.0875015258789,74.35749816894531,74.94999694824219,74.59750366210938,75.79750061035156,77.40750122070312,77.5824966430664,79.23999786376953,78.16999816894531,77.83499908447266,78.80999755859375,79.68250274658203,79.14250183105469,79.42500305175781,79.80750274658203,79.57749938964844,77.23750305175781,79.42250061035156,81.08499908447266,80.96749877929688,77.37750244140625,77.16500091552734,79.7125015258789,80.36250305175781,81.30249786376953,80.00749969482422,80.38749694824219,79.90249633789062,81.80000305175781,81.21749877929688,81.23750305175781,79.75,80.90499877929688,80.07499694824219,78.26249694824219,74.54499816894531,72.0199966430664,73.1624984741211,68.37999725341797,68.33999633789062,74.70249938964844,72.33000183105469,75.68499755859375,73.2300033569336,72.25749969482422,66.5425033569336,71.33499908447266,68.85749816894531,62.057498931884766,69.49250030517578,60.5525016784668,63.21500015258789,61.66749954223633,61.19499969482422,57.310001373291016,56.092498779296875,61.720001220703125,61.380001068115234,64.61000061035156,61.935001373291016,63.70249938964844,63.5724983215332,60.227500915527344,61.23249816894531,60.352500915527344,65.61750030517578,64.85749816894531,66.51750183105469,66.99749755859375,68.3125,71.76249694824219,71.10749816894531,71.67250061035156,70.69999694824219,69.23249816894531,67.09249877929688,69.0250015258789,68.75749969482422,70.74250030517578,70.7925033569336,69.6449966430664,71.93250274658203,73.44999694824219,72.26750183105469,73.29000091552734,74.38999938964844,75.15750122070312,75.93499755859375,77.53250122070312,78.75250244140625,77.85250091552734,76.9124984741211,77.38500213623047,76.92749786376953,78.73999786376953,78.28500366210938,79.80750274658203,79.2125015258789,79.72250366210938,79.18250274658203,79.52749633789062,79.5625,79.48500061035156,80.4625015258789,80.83499908447266,81.27999877929688,80.58000183105469,82.875,83.36499786376953,85.99749755859375,88.20999908447266,83.9749984741211,84.69999694824219,85.74749755859375,88.0199966430664,87.89749908447266,87.93250274658203,87.43000030517578,89.71749877929688,91.63249969482422,90.01499938964844,91.20999908447266,88.40750122070312,90.44499969482422,91.19999694824219,91.02749633789062,91.02749633789062,93.4625015258789,93.17250061035156,95.34249877929688,95.75250244140625,95.91999816894531,95.47750091552734,97.05750274658203,97.7249984741211,96.52249908447266,96.32749938964844,98.35749816894531,97.0,97.27249908447266,92.84500122070312,92.61499786376953,94.80999755859375,93.25250244140625,95.04000091552734,96.19000244140625,106.26000213623047,108.9375,109.66500091552734,110.0625,113.90249633789062,111.11250305175781,112.72750091552734,109.375,113.01000213623047,115.01000213623047,114.90750122070312,114.60749816894531,115.5625,115.7074966430664,118.2750015258789,124.37000274658203,125.85749816894531,124.82499694824219,126.52249908447266,125.01000213623047,124.80750274658203,129.0399932861328,134.17999267578125,131.39999389648438,120.87999725341797,120.95999908447266,112.81999969482422,117.31999969482422,113.48999786376953,112.0,115.36000061035156,115.54000091552734,112.12999725341797,110.33999633789062,106.83999633789062,110.08000183105469,111.80999755859375,107.12000274658203,108.22000122070312,112.27999877929688,114.95999908447266,114.08999633789062,115.80999755859375,116.79000091552734,113.0199966430664,116.5,113.16000366210938,115.08000183105469,114.97000122070312,116.97000122070312,124.4000015258789,121.0999984741211,121.19000244140625,120.70999908447266,119.0199966430664,115.9800033569336,117.51000213623047,116.87000274658203,115.75,115.04000091552734,115.05000305175781,116.5999984741211,111.19999694824219,115.31999969482422,108.86000061035156,108.7699966430664,110.44000244140625,114.94999694824219,119.02999877929688,118.69000244140625,116.31999969482422,115.97000122070312,119.48999786376953,119.20999908447266,119.26000213623047,120.30000305175781,119.38999938964844,118.02999877929688,118.63999938964844,117.33999633789062,113.8499984741211,115.16999816894531,116.02999877929688,116.58999633789062,119.05000305175781,122.72000122070312,123.08000183105469,122.94000244140625,122.25,123.75,124.37999725341797,121.77999877929688,123.23999786376953,122.41000366210938,121.77999877929688,127.87999725341797,127.80999755859375,128.6999969482422,126.66000366210938,128.22999572753906,131.8800048828125,130.9600067138672,131.97000122070312,136.69000244140625,134.8699951171875,133.72000122070312,132.69000244140625,129.41000366210938,131.00999450683594,126.5999984741211,130.9199981689453,132.0500030517578,128.97999572753906,128.8000030517578,130.88999938964844,128.91000366210938,127.13999938964844,127.83000183105469,132.02999877929688,136.8699951171875,139.07000732421875,142.9199981689453,143.16000366210938,142.05999755859375,137.08999633789062,131.9600067138672,134.13999938964844,134.99000549316406,133.94000244140625,137.38999938964844,136.75999450683594,136.91000366210938,136.00999450683594,135.38999938964844,135.1300048828125,135.3699951171875,133.19000244140625,130.83999633789062,129.7100067138672,129.8699951171875,126.0,125.86000061035156,125.3499984741211,120.98999786376953,121.26000213623047,127.79000091552734,125.12000274658203,122.05999755859375,120.12999725341797,121.41999816894531,116.36000061035156,121.08999633789062,119.9800033569336,121.95999908447266,121.02999877929688,123.98999786376953,125.56999969482422,124.76000213623047,120.52999877929688,119.98999786376953,123.38999938964844,122.54000091552734,120.08999633789062,120.58999633789062,121.20999908447266,121.38999938964844,119.9000015258789,122.1500015258789,123.0,125.9000015258789,126.20999908447266,127.9000015258789,130.36000061035156,133.0,131.24000549316406,134.42999267578125,132.02999877929688,134.5,134.16000366210938,134.83999633789062,133.11000061035156,133.5,131.94000244140625,134.32000732421875,134.72000122070312,134.38999938964844,133.5800018310547,133.47999572753906,131.4600067138672,132.5399932861328,127.8499984741211,128.10000610351562,129.74000549316406,130.2100067138672,126.8499984741211,125.91000366210938,122.7699966430664,124.97000122070312,127.44999694824219,126.2699966430664,124.8499984741211,124.69000244140625,127.30999755859375,125.43000030517578,127.0999984741211,126.9000015258789,126.8499984741211,125.27999877929688,124.61000061035156,124.27999877929688,125.05999755859375,123.54000091552734,125.88999938964844,125.9000015258789,126.73999786376953,127.12999725341797,126.11000061035156,127.3499984741211,130.47999572753906,129.63999938964844,130.14999389648438,131.7899932861328,130.4600067138672,132.3000030517578,133.97999572753906,133.6999969482422,133.41000366210938,133.11000061035156,134.77999877929688,136.3300018310547,136.9600067138672,137.27000427246094,139.9600067138672,142.02000427246094,144.57000732421875,143.24000549316406,145.11000061035156,144.5,145.63999938964844,149.14999389648438,148.47999572753906,146.38999938964844,142.4499969482422,146.14999389648438,145.39999389648438,146.8000030517578,148.55999755859375,148.99000549316406,146.77000427246094,144.97999572753906,145.63999938964844,145.86000061035156,145.52000427246094,147.36000061035156,146.9499969482422,147.05999755859375,146.13999938964844,146.08999633789062,145.60000610351562,145.86000061035156,148.88999938964844,149.10000610351562,151.1199951171875,150.19000244140625,146.36000061035156,146.6999969482422,148.19000244140625,149.7100067138672,149.6199951171875,148.36000061035156,147.5399932861328,148.60000610351562,153.1199951171875,151.8300018310547,152.50999450683594,153.64999389648438,154.3000030517578,156.69000244140625,155.11000061035156,154.07000732421875,148.97000122070312,149.5500030517578,148.1199951171875,149.02999877929688,148.7899932861328,146.05999755859375,142.94000244140625,143.42999267578125,145.85000610351562,146.8300018310547,146.9199981689453,145.3699951171875,141.91000366210938,142.8300018310547,141.5,142.64999389648438,139.13999938964844,141.11000061035156,142.0,143.2899932861328,142.89999389648438,142.80999755859375,141.50999450683594,140.91000366210938,143.75999450683594,144.83999633789062,146.5500030517578,148.75999450683594,149.25999450683594,149.47999572753906,148.69000244140625,148.63999938964844,149.32000732421875,148.85000610351562,152.57000732421875,149.8000030517578,148.9600067138672,150.02000427246094,151.49000549316406,150.9600067138672,151.27999877929688,150.44000244140625,150.80999755859375,147.9199981689453,147.8699951171875,149.99000549316406,150.0,151.0,153.49000549316406,157.8699951171875,160.5500030517578,161.02000427246094,161.41000366210938,161.94000244140625,156.80999755859375,160.24000549316406,165.3000030517578,164.77000427246094,163.75999450683594,161.83999633789062,165.32000732421875,171.17999267578125,175.0800018310547,174.55999755859375,179.4499969482422,175.74000549316406,174.3300018310547,179.3000030517578,172.25999450683594,171.13999938964844,169.75,172.99000549316406,175.63999938964844,176.27999877929688,180.3300018310547,179.2899932861328,179.3800048828125,178.1999969482422,177.57000732421875,182.00999450683594,179.6999969482422,174.9199981689453,172.0,172.1699981689453,172.19000244140625,175.0800018310547,175.52999877929688,172.19000244140625,173.07000732421875,169.8000030517578,166.22999572753906,164.50999450683594,162.41000366210938,161.6199951171875,159.77999877929688,159.69000244140625,159.22000122070312,170.3300018310547,174.77999877929688,174.61000061035156,175.83999633789062,172.89999389648438,172.38999938964844,171.66000366210938,174.8300018310547,176.27999877929688,172.1199951171875,168.63999938964844,168.8800048828125,172.7899932861328,172.5500030517578,168.8800048828125,167.3000030517578,164.32000732421875,160.07000732421875,162.74000549316406,164.85000610351562,165.1199951171875,163.1999969482422,166.55999755859375,166.22999572753906,163.1699981689453,159.3000030517578,157.44000244140625,162.9499969482422,158.52000427246094,154.72999572753906,150.6199951171875,155.08999633789062,159.58999633789062,160.6199951171875,163.97999572753906,165.3800048828125,168.82000732421875,170.2100067138672,174.07000732421875,174.72000122070312,175.60000610351562,178.9600067138672,177.77000427246094,174.61000061035156,174.30999755859375,178.44000244140625,175.05999755859375,171.8300018310547,172.13999938964844,170.08999633789062,165.75,167.66000366210938,170.39999389648438,165.2899932861328,165.07000732421875,167.39999389648438,167.22999572753906,166.4199981689453,161.7899932861328,162.8800048828125,156.8000030517578,156.57000732421875,163.63999938964844,157.64999389648438,157.9600067138672,159.47999572753906,166.02000427246094,156.77000427246094,157.27999877929688,152.05999755859375,154.50999450683594,146.5,142.55999755859375,147.11000061035156,145.5399932861328,149.24000549316406,140.82000732421875,137.35000610351562,137.58999633789062,143.11000061035156,140.36000061035156,140.52000427246094,143.77999877929688,149.63999938964844,148.83999633789062,148.7100067138672,151.2100067138672,145.3800048828125,146.13999938964844,148.7100067138672,147.9600067138672,142.63999938964844,137.1300048828125,131.8800048828125,132.75999450683594,135.42999267578125,130.05999755859375,131.55999755859375,135.8699951171875,135.35000610351562,138.27000427246094,141.66000366210938,141.66000366210938,137.44000244140625,139.22999572753906,136.72000122070312],\"high\":[36.32500076293945,36.1974983215332,35.875,36.1875,36.48749923706055,36.462501525878906,36.54499816894531,37.122501373291016,37.33250045776367,37.724998474121094,37.532501220703125,37.85499954223633,37.935001373291016,37.61000061035156,38.11000061035156,38.459999084472656,38.48249816894531,38.497501373291016,37.557498931884766,37.58250045776367,37.55500030517578,39.9375,39.3025016784668,39.349998474121094,39.72999954223633,40.45750045776367,40.317501068115234,40.0,39.64250183105469,40.0525016784668,40.54999923706055,40.627498626708984,40.1775016784668,39.875,39.47249984741211,40.0,40.11750030517578,40.185001373291016,40.13999938964844,40.5,40.779998779296875,40.97249984741211,41.130001068115234,41.23500061035156,41.0625,40.747501373291016,40.560001373291016,40.287498474121094,40.51250076293945,40.9900016784668,39.9900016784668,39.849998474121094,40.24250030517578,40.125,39.942501068115234,39.564998626708984,38.95000076293945,38.067501068115234,37.95750045776367,38.47999954223633,38.68000030517578,38.56999969482422,38.532501220703125,38.61249923706055,38.772499084472656,38.46500015258789,38.86000061035156,38.872501373291016,39.182498931884766,39.5,39.244998931884766,39.342498779296875,39.31999969482422,40.0,40.217498779296875,40.1775016784668,39.27000045776367,39.4375,39.42250061035156,39.35499954223633,39.38750076293945,39.45750045776367,40.900001525878906,42.01750183105469,42.412498474121094,42.48500061035156,42.125,43.564998626708984,43.747501373291016,43.8125,44.060001373291016,44.025001525878906,43.845001220703125,43.625,43.369998931884766,42.58000183105469,42.967498779296875,42.84749984741211,42.63999938964844,43.42499923706055,43.75,43.875,43.77000045776367,43.717498779296875,43.22999954223633,43.03499984741211,42.91749954223633,43.154998779296875,42.880001068115234,42.54999923706055,42.61000061035156,42.75,43.22249984741211,43.09749984741211,43.3849983215332,43.282501220703125,43.54249954223633,44.29999923706055,43.84749984741211,43.85499954223633,44.005001068115234,43.85499954223633,42.86750030517578,42.69499969482422,42.962501525878906,42.647499084472656,43.07500076293945,43.63750076293945,43.36750030517578,43.842498779296875,43.90250015258789,43.76499938964844,43.57500076293945,43.872501373291016,44.34000015258789,44.84749984741211,44.8125,45.025001525878906,44.89500045776367,44.44499969482422,44.86000061035156,44.32500076293945,43.73749923706055,43.0,42.540000915527344,41.842498779296875,42.11000061035156,42.154998779296875,41.70000076293945,40.970001220703125,40.93000030517578,40.849998474121094,40.25,39.47249984741211,40.97249984741211,41.1875,41.8849983215332,43.272499084472656,43.70500183105469,43.564998626708984,43.529998779296875,43.48749923706055,43.912498474121094,44.84749984741211,45.119998931884766,45.154998779296875,44.94499969482422,44.07500076293945,44.435001373291016,44.5625,43.962501525878906,44.279998779296875,45.0,45.59749984741211,45.875,45.130001068115234,45.060001373291016,44.779998779296875,44.36750030517578,44.20000076293945,43.772499084472656,43.16999816894531,42.47999954223633,43.275001525878906,43.787498474121094,42.505001068115234,42.9375,42.23500061035156,42.1875,43.002498626708984,43.557498931884766,43.119998931884766,43.272499084472656,43.5,43.47999954223633,43.75,43.959999084472656,44.04750061035156,44.73500061035156,44.70500183105469,43.84749984741211,42.80500030517578,41.72999954223633,41.58250045776367,41.35499954223633,41.432498931884766,41.08250045776367,41.814998626708984,42.29999923706055,44.4375,44.375,46.0625,46.91749954223633,46.55500030517578,46.849998474121094,47.592498779296875,47.51499938964844,47.38249969482422,46.76750183105469,47.1150016784668,47.227500915527344,46.95249938964844,47.317501068115234,47.220001220703125,47.125,47.209999084472656,47.412498474121094,47.1875,47.0,47.057498931884766,47.564998626708984,48.35499954223633,48.48500061035156,48.52000045776367,48.54999923706055,48.0,47.99250030517578,48.15250015258789,48.220001220703125,47.89250183105469,47.540000915527344,47.30500030517578,46.58250045776367,46.79999923706055,47.087501525878906,46.537498474121094,46.22999954223633,46.63249969482422,46.81999969482422,46.5525016784668,46.79750061035156,46.82500076293945,46.98749923706055,46.602500915527344,47.10749816894531,47.66999816894531,47.81999969482422,47.44499969482422,47.852500915527344,47.959999084472656,48.162498474121094,47.967498779296875,47.95000076293945,48.13750076293945,48.10749816894531,47.9900016784668,48.415000915527344,48.712501525878906,48.9900016784668,48.79750061035156,48.04999923706055,48.03499984741211,50.439998626708984,52.095001220703125,52.185001373291016,52.3125,52.375,51.95249938964844,52.44499969482422,52.275001525878906,52.73749923706055,52.63999938964844,52.685001373291016,53.45249938964844,54.48749923706055,54.79499816894531,54.29750061035156,54.09000015258789,54.26250076293945,54.224998474121094,54.685001373291016,55.1349983215332,55.872501373291016,57.064998626708984,57.217498779296875,57.29499816894531,57.41749954223633,56.837501525878906,56.342498779296875,55.462501525878906,56.07500076293945,56.25,57.087501525878906,56.709999084472656,55.73749923706055,55.462501525878906,54.904998779296875,55.56999969482422,55.34000015258789,55.314998626708984,55.70500183105469,55.9375,56.61000061035156,56.459999084472656,57.35499954223633,57.5,58.36750030517578,58.087501525878906,57.102500915527344,56.20000076293945,56.817501068115234,56.587501525878906,54.875,55.720001220703125,55.45750045776367,55.747501373291016,55.65999984741211,54.935001373291016,55.314998626708984,55.84000015258789,55.8125,56.057498931884766,55.345001220703125,55.04750061035156,54.92250061035156,53.79499816894531,55.11249923706055,55.59000015258789,53.412498474121094,51.09749984741211,51.18000030517578,52.51499938964844,52.529998779296875,51.502498626708984,49.962501525878906,49.29499816894531,48.619998931884766,47.99250030517578,48.74250030517578,47.67499923706055,45.36750030517578,45.067501068115234,44.150001525878906,43.73749923706055,43.692501068115234,45.3224983215332,45.70000076293945,45.08250045776367,46.23500061035156,45.59749984741211,43.69499969482422,43.622501373291016,42.522499084472656,42.9474983215332,42.97999954223633,43.14250183105469,42.27000045776367,42.087501525878906,41.88249969482422,41.86249923706055,40.52750015258789,39.540000915527344,37.88750076293945,39.307498931884766,39.192501068115234,39.630001068115234,39.84000015258789,39.712501525878906,36.43000030517578,37.13750076293945,37.20750045776367,37.95500183105469,38.63249969482422,38.49250030517578,38.42499923706055,37.817501068115234,38.34749984741211,38.970001220703125,39.415000915527344,39.470001220703125,39.182498931884766,38.78499984741211,38.619998931884766,39.532501220703125,39.08250045776367,39.532501220703125,41.537498474121094,42.25,42.244998931884766,42.915000915527344,43.77000045776367,43.89250183105469,43.48500061035156,42.665000915527344,42.8025016784668,42.75,43.119998931884766,42.814998626708984,42.92499923706055,42.86000061035156,43.33000183105469,43.092498779296875,43.25,43.967498779296875,43.82500076293945,43.75,43.727500915527344,43.787498474121094,44.4375,44.0,43.872501373291016,43.61000061035156,43.26750183105469,44.779998779296875,45.66749954223633,45.82500076293945,46.025001525878906,46.83250045776367,47.09749984741211,47.247501373291016,47.372501373291016,49.08250045776367,49.42250061035156,47.994998931884766,48.220001220703125,47.439998626708984,47.38999938964844,47.52000045776367,47.91999816894531,48.6150016784668,49.125,49.092498779296875,49.275001525878906,50.057498931884766,50.712501525878906,50.185001373291016,50.25,50.03499984741211,49.962501525878906,50.342498779296875,50.845001220703125,51.037498474121094,51.23500061035156,51.9375,52.119998931884766,51.939998626708984,51.25,51.49250030517578,50.849998474121094,53.82749938964844,53.162498474121094,52.959999084472656,52.209999084472656,51.85499954223633,51.334999084472656,50.41999816894531,49.712501525878906,47.369998931884766,47.42499923706055,47.9375,48.11750030517578,47.724998474121094,46.087501525878906,47.0,46.4275016784668,45.1349983215332,45.53499984741211,45.147499084472656,44.837501525878906,44.807498931884766,44.497501373291016,44.47999954223633,44.95750045776367,46.247501373291016,46.36750030517578,47.97999954223633,48.842498779296875,49.0,48.99250030517578,49.1974983215332,48.397499084472656,48.7400016784668,50.0724983215332,49.970001220703125,50.15250015258789,50.212501525878906,50.040000915527344,49.814998626708984,50.247501373291016,50.39250183105469,49.875,51.122501373291016,50.782501220703125,51.11000061035156,51.27000045776367,50.349998474121094,50.377498626708984,50.932498931884766,51.09749984741211,51.0,51.467498779296875,51.52750015258789,51.272499084472656,51.470001220703125,51.625,51.807498931884766,52.227500915527344,52.287498474121094,52.310001373291016,52.432498931884766,52.65999984741211,52.540000915527344,55.342498779296875,54.50749969482422,51.60749816894531,49.662498474121094,49.51750183105469,49.88999938964844,50.88249969482422,50.689998626708984,50.51250076293945,53.03499984741211,51.61000061035156,51.28499984741211,51.790000915527344,53.182498931884766,53.337501525878906,53.412498474121094,53.61000061035156,53.01250076293945,51.79750061035156,52.13750076293945,51.43000030517578,52.33000183105469,52.61249923706055,51.744998931884766,52.369998931884766,53.49250030517578,53.60499954223633,54.11000061035156,54.19499969482422,55.9275016784668,56.60499954223633,55.1974983215332,55.032501220703125,55.20500183105469,55.712501525878906,55.939998626708984,55.63999938964844,54.959999084472656,55.622501373291016,55.375,55.23500061035156,55.2400016784668,56.14500045776367,57.05500030517578,55.89500045776367,55.2400016784668,56.872501373291016,57.48249816894531,57.01499938964844,56.9474983215332,57.61000061035156,59.40999984741211,59.532501220703125,59.412498474121094,58.810001373291016,59.037498474121094,59.39500045776367,60.247501373291016,60.54999923706055,60.810001373291016,61.20000076293945,61.682498931884766,62.3125,62.4375,61.32500076293945,62.29249954223633,63.98249816894531,64.4625015258789,64.54750061035156,64.37249755859375,65.0875015258789,65.11000061035156,65.61750030517578,65.69750213623047,66.19499969482422,66.22000122070312,66.44499969482422,66.85749816894531,67.0,66.5199966430664,66.00250244140625,65.79499816894531,66.61000061035156,66.79000091552734,66.99500274658203,67.0,67.0625,64.88249969482422,65.82749938964844,66.47250366210938,67.75,67.69999694824219,67.51750183105469,67.7750015258789,68.13999938964844,68.82499694824219,70.19750213623047,70.44249725341797,70.4749984741211,70.29499816894531,70.6624984741211,71.0625,71.22250366210938,72.49500274658203,73.49250030517578,73.17250061035156,73.41999816894531,75.1500015258789,75.1449966430664,74.98999786376953,75.2249984741211,76.11000061035156,77.60749816894531,78.1675033569336,79.26750183105469,79.39250183105469,78.875,78.92500305175781,79.68499755859375,79.75499725341797,79.99749755859375,79.88999938964844,80.8324966430664,77.94249725341797,79.5999984741211,81.9625015258789,81.02249908447266,80.66999816894531,78.37249755859375,79.91000366210938,81.19000244140625,81.30500030517578,80.8499984741211,80.38749694824219,80.9749984741211,81.80500030517578,81.55500030517578,81.49500274658203,79.9375,81.14250183105469,81.1624984741211,80.11250305175781,76.04499816894531,75.63249969482422,74.47000122070312,71.5,69.60250091552734,75.36000061035156,76.0,75.8499984741211,74.88749694824219,72.70500183105469,69.52249908447266,71.61000061035156,70.30500030517578,67.5,69.9800033569336,64.7699966430664,64.40249633789062,62.5,63.209999084472656,62.95750045776367,57.125,61.92250061035156,64.5625,64.66999816894531,63.967498779296875,63.880001068115234,65.62249755859375,62.18000030517578,61.287498474121094,61.42499923706055,65.77749633789062,67.92500305175781,66.84249877929688,67.51750183105469,68.42500305175781,72.0625,71.5824966430664,72.05000305175781,71.73750305175781,70.41999816894531,69.3125,69.4749984741211,70.4375,70.75250244140625,71.13500213623047,71.4574966430664,72.4175033569336,73.63249969482422,74.75,73.42250061035156,75.25,75.80999755859375,76.2925033569336,77.5875015258789,79.26249694824219,79.92250061035156,78.98750305175781,77.44750213623047,76.9749984741211,79.125,79.62999725341797,79.87999725341797,80.22250366210938,79.80750274658203,81.05999755859375,79.67749786376953,80.86000061035156,80.2874984741211,80.5875015258789,80.86000061035156,81.55000305175781,81.40499877929688,82.9375,83.4000015258789,86.40249633789062,88.69249725341797,87.76499938964844,86.94999694824219,86.41999816894531,88.30000305175781,88.8499984741211,88.36250305175781,89.13999938964844,89.86499786376953,93.09500122070312,92.19750213623047,91.25,91.33000183105469,90.5425033569336,91.49500274658203,91.83999633789062,92.61750030517578,93.94499969482422,94.65499877929688,95.375,96.31749725341797,95.9800033569336,99.95500183105469,97.25499725341797,99.24749755859375,97.40499877929688,97.14749908447266,98.5,99.25,97.9749984741211,97.07749938964844,92.97000122070312,94.90499877929688,94.55000305175781,95.2300033569336,96.29750061035156,106.41500091552734,111.63749694824219,110.79000091552734,110.39250183105469,114.4124984741211,113.67500305175781,113.7750015258789,112.48249816894531,113.2750015258789,116.0425033569336,115.0,116.0875015258789,116.0,117.1624984741211,118.39250183105469,124.86750030517578,128.78500366210938,125.18000030517578,126.99250030517578,127.48500061035156,126.44249725341797,131.0,134.8000030517578,137.97999572753906,128.83999633789062,123.69999694824219,118.98999786376953,119.13999938964844,120.5,115.2300033569336,115.93000030517578,118.83000183105469,116.0,112.19999694824219,110.87999725341797,110.19000244140625,112.86000061035156,112.11000061035156,110.25,112.44000244140625,115.31999969482422,115.30999755859375,117.26000213623047,117.72000122070312,115.37000274658203,116.6500015258789,116.12000274658203,115.55000305175781,116.4000015258789,117.0,125.18000030517578,125.38999938964844,123.02999877929688,121.19999694824219,121.55000305175781,120.41999816894531,118.9800033569336,118.70999908447266,118.04000091552734,116.55000305175781,116.55000305175781,117.27999877929688,115.43000030517578,116.93000030517578,111.98999786376953,110.68000030517578,111.48999786376953,115.58999633789062,119.62000274658203,119.19999694824219,121.98999786376953,117.58999633789062,119.62999725341797,120.52999877929688,119.66999816894531,120.98999786376953,120.66999816894531,119.81999969482422,119.05999755859375,118.7699966430664,117.62000274658203,115.8499984741211,116.75,117.48999786376953,120.97000122070312,123.47000122070312,123.37000274658203,123.77999877929688,122.86000061035156,124.56999969482422,124.9800033569336,125.94999694824219,123.87000274658203,122.76000213623047,123.3499984741211,127.9000015258789,128.3699951171875,129.5800018310547,129.10000610351562,128.30999755859375,134.41000366210938,132.42999267578125,133.4600067138672,137.33999633789062,138.7899932861328,135.99000549316406,134.74000549316406,133.61000061035156,131.74000549316406,131.0500030517578,131.6300048828125,132.6300048828125,130.1699981689453,129.69000244140625,131.4499969482422,131.0,130.22000122070312,128.7100067138672,132.49000549316406,139.6699981689453,139.85000610351562,145.08999633789062,144.3000030517578,144.3000030517578,141.99000549316406,136.74000549316406,135.3800048828125,136.30999755859375,135.77000427246094,137.39999389648438,137.4199981689453,136.9600067138672,137.8800048828125,136.99000549316406,136.38999938964844,135.52999877929688,136.00999450683594,132.22000122070312,130.0,130.7100067138672,129.72000122070312,126.70999908447266,125.55999755859375,126.45999908447266,124.8499984741211,127.93000030517578,128.72000122070312,125.70999908447266,123.5999984741211,121.94000244140625,121.0,122.05999755859375,122.16999816894531,123.20999908447266,121.16999816894531,124.0,127.22000122070312,125.86000061035156,123.18000030517578,121.43000030517578,123.87000274658203,124.23999786376953,122.9000015258789,121.66000366210938,121.4800033569336,122.58000183105469,120.4000015258789,123.5199966430664,124.18000030517578,126.16000366210938,127.12999725341797,127.91999816894531,130.38999938964844,133.0399932861328,132.85000610351562,134.66000366210938,135.0,135.0,134.6699981689453,135.47000122070312,135.52999877929688,133.75,134.14999389648438,135.1199951171875,135.05999755859375,135.41000366210938,135.02000427246094,137.07000732421875,133.55999755859375,134.07000732421875,131.49000549316406,130.4499969482422,129.75,131.25999450683594,129.5399932861328,126.2699966430664,124.63999938964844,126.1500015258789,127.88999938964844,126.93000030517578,126.98999786376953,124.91999816894531,127.72000122070312,128.0,127.94000244140625,128.32000732421875,127.38999938964844,127.63999938964844,125.80000305175781,125.3499984741211,125.23999786376953,124.8499984741211,126.16000366210938,126.31999969482422,128.4600067138672,127.75,128.19000244140625,127.44000244140625,130.5399932861328,130.60000610351562,130.88999938964844,132.5500030517578,131.50999450683594,132.41000366210938,134.0800018310547,134.32000732421875,134.63999938964844,133.88999938964844,135.25,136.49000549316406,137.41000366210938,137.3300018310547,140.0,143.14999389648438,144.88999938964844,144.05999755859375,145.64999389648438,146.32000732421875,147.4600067138672,149.57000732421875,150.0,149.75999450683594,144.07000732421875,147.10000610351562,146.1300048828125,148.1999969482422,148.72000122070312,149.8300018310547,149.2100067138672,146.97000122070312,146.5500030517578,146.3300018310547,146.9499969482422,148.0399932861328,147.7899932861328,147.83999633789062,147.11000061035156,146.6999969482422,147.7100067138672,146.72000122070312,149.0500030517578,149.44000244140625,151.19000244140625,151.67999267578125,150.72000122070312,148.0,148.5,150.19000244140625,150.86000061035156,150.32000732421875,149.1199951171875,148.75,153.49000549316406,152.8000030517578,154.97999572753906,154.72000122070312,154.6300048828125,157.25999450683594,157.0399932861328,156.11000061035156,155.47999572753906,151.4199981689453,151.07000732421875,149.44000244140625,148.97000122070312,148.82000732421875,144.83999633789062,144.60000610351562,146.42999267578125,147.0800018310547,147.47000122070312,145.9600067138672,144.75,144.4499969482422,144.3800048828125,142.9199981689453,142.2100067138672,142.24000549316406,142.14999389648438,144.22000122070312,144.17999267578125,144.80999755859375,143.25,141.39999389648438,143.8800048828125,144.89999389648438,146.83999633789062,149.1699981689453,149.75,149.63999938964844,150.17999267578125,149.3699951171875,150.83999633789062,149.72999572753906,153.1699981689453,149.94000244140625,149.6999969482422,151.57000732421875,151.97000122070312,152.42999267578125,152.1999969482422,151.57000732421875,151.42999267578125,150.1300048828125,149.42999267578125,150.39999389648438,151.8800048828125,151.49000549316406,155.0,158.6699981689453,161.02000427246094,165.6999969482422,161.8000030517578,162.13999938964844,160.4499969482422,161.19000244140625,165.52000427246094,170.3000030517578,164.1999969482422,164.9600067138672,167.8800048828125,171.5800018310547,175.9600067138672,176.75,179.6300048828125,182.1300048828125,177.74000549316406,179.5,181.13999938964844,173.47000122070312,170.5800018310547,173.1999969482422,175.86000061035156,176.85000610351562,180.4199981689453,181.3300018310547,180.6300048828125,180.57000732421875,179.22999572753906,182.8800048828125,182.94000244140625,180.1699981689453,175.3000030517578,174.13999938964844,172.5,175.17999267578125,177.17999267578125,176.6199951171875,173.77999877929688,172.5399932861328,171.0800018310547,169.67999267578125,166.3300018310547,162.3000030517578,162.75999450683594,164.38999938964844,163.83999633789062,170.35000610351562,175.0,174.83999633789062,175.8800048828125,176.24000549316406,174.10000610351562,173.9499969482422,175.35000610351562,176.64999389648438,175.47999572753906,173.0800018310547,169.5800018310547,172.9499969482422,173.33999633789062,171.91000366210938,170.5399932861328,166.69000244140625,166.14999389648438,162.85000610351562,165.1199951171875,165.4199981689453,166.60000610351562,167.36000061035156,168.91000366210938,165.5500030517578,165.02000427246094,162.8800048828125,163.41000366210938,160.38999938964844,159.27999877929688,154.1199951171875,155.57000732421875,160.0,161.0,164.47999572753906,166.35000610351562,169.4199981689453,172.63999938964844,174.13999938964844,175.27999877929688,175.72999572753906,179.00999450683594,179.61000061035156,178.02999877929688,174.8800048828125,178.49000549316406,178.3000030517578,173.6300048828125,173.36000061035156,171.77999877929688,169.02999877929688,169.8699951171875,171.0399932861328,171.27000427246094,166.60000610351562,167.82000732421875,168.8800048828125,171.52999877929688,167.8699951171875,163.1699981689453,162.33999633789062,159.7899932861328,164.52000427246094,166.1999969482422,158.22999572753906,160.7100067138672,166.47999572753906,164.0800018310547,159.44000244140625,155.8300018310547,156.74000549316406,155.4499969482422,146.1999969482422,148.10000610351562,147.52000427246094,149.77000427246094,147.36000061035156,141.66000366210938,140.6999969482422,143.25999450683594,141.97000122070312,141.7899932861328,144.33999633789062,149.67999267578125,150.66000366210938,151.74000549316406,151.27000427246094,147.97000122070312,148.57000732421875,149.0,149.8699951171875,147.9499969482422,140.75999450683594,135.1999969482422,133.88999938964844,137.33999633789062,132.38999938964844,133.0800018310547,137.05999755859375,137.75999450683594,138.58999633789062,141.91000366210938,143.49000549316406,143.4199981689453,140.6699981689453,138.3699951171875],\"low\":[35.775001525878906,35.68000030517578,35.602500915527344,35.724998474121094,35.842498779296875,36.095001220703125,36.20500183105469,36.36000061035156,36.83250045776367,37.14250183105469,37.16749954223633,37.48749923706055,37.54750061035156,37.220001220703125,37.474998474121094,37.95000076293945,38.26499938964844,36.82500076293945,37.29750061035156,37.032501220703125,37.102500915527344,39.040000915527344,38.755001068115234,38.92250061035156,39.16749954223633,39.567501068115234,39.77750015258789,38.657501220703125,39.01750183105469,39.6875,40.03499984741211,40.037498474121094,39.459999084472656,39.18000030517578,38.77750015258789,39.505001068115234,39.720001220703125,39.63750076293945,39.817501068115234,39.98249816894531,40.0,40.65250015258789,40.869998931884766,40.907501220703125,40.13999938964844,40.130001068115234,40.09000015258789,39.63249969482422,39.97249984741211,39.692501068115234,39.477500915527344,39.522499084472656,39.5,39.5,39.61000061035156,38.45750045776367,38.1875,37.63999938964844,37.290000915527344,37.92250061035156,38.3849983215332,38.17499923706055,38.0,38.18000030517578,38.477500915527344,38.1150016784668,38.51250076293945,38.63999938964844,38.872501373291016,38.775001525878906,38.9375,38.932498931884766,39.102500915527344,39.412498474121094,39.807498931884766,39.900001525878906,38.755001068115234,38.9900016784668,38.875,39.04999923706055,38.817501068115234,39.19499969482422,39.67499923706055,40.93000030517578,41.73500061035156,41.40250015258789,41.31999969482422,42.779998779296875,42.93000030517578,43.400001525878906,43.58250045776367,43.28499984741211,43.567501068115234,43.349998474121094,42.79499816894531,42.095001220703125,42.57500076293945,42.40999984741211,42.38999938964844,42.69499969482422,43.26250076293945,43.662498474121094,43.334999084472656,42.96500015258789,41.790000915527344,42.11000061035156,42.125,42.407501220703125,42.099998474121094,41.6150016784668,42.227500915527344,42.20500183105469,42.1974983215332,42.8650016784668,43.0,42.912498474121094,43.1150016784668,43.71500015258789,43.522499084472656,43.3125,43.525001525878906,43.625,42.41999816894531,42.4275016784668,42.619998931884766,42.30500030517578,42.314998626708984,42.9900016784668,43.02000045776367,43.26250076293945,43.48249816894531,43.352500915527344,43.25,43.622501373291016,43.912498474121094,44.03499984741211,43.76750183105469,44.5625,44.352500915527344,44.150001525878906,44.20500183105469,43.29999923706055,42.63249969482422,42.51499938964844,41.76750183105469,41.17499923706055,41.625,41.689998626708984,40.025001525878906,39.0,38.5,39.76750183105469,38.75749969482422,37.560001373291016,39.377498626708984,40.412498474121094,40.720001220703125,42.25,42.942501068115234,42.85499954223633,42.752498626708984,42.9275016784668,43.3849983215332,44.0525016784668,44.540000915527344,44.51250076293945,43.165000915527344,43.11249923706055,43.630001068115234,44.032501220703125,43.567501068115234,43.76750183105469,44.34749984741211,45.0525016784668,44.810001373291016,44.45249938964844,44.51750183105469,44.404998779296875,43.415000915527344,43.73500061035156,42.814998626708984,42.150001525878906,41.23500061035156,41.61000061035156,41.72999954223633,41.29750061035156,41.724998474121094,41.11750030517578,41.220001220703125,41.192501068115234,43.02000045776367,42.04999923706055,42.462501525878906,42.88249969482422,42.92499923706055,43.2599983215332,43.462501525878906,43.70750045776367,44.102500915527344,44.220001220703125,43.165000915527344,41.35749816894531,41.022499084472656,40.30500030517578,40.602500915527344,40.842498779296875,40.157501220703125,40.459999084472656,41.317501068115234,43.45000076293945,43.61000061035156,44.54249954223633,46.1875,45.91749954223633,46.30500030517578,46.912498474121094,46.86249923706055,46.96500015258789,46.275001525878906,46.5,46.59000015258789,46.532501220703125,46.727500915527344,46.69499969482422,46.439998626708984,46.5525016784668,46.912498474121094,46.717498779296875,46.69499969482422,46.53499984741211,46.9375,47.837501525878906,48.09000015258789,47.97999954223633,48.084999084472656,47.442501068115234,47.5525016784668,47.787498474121094,47.61000061035156,47.55500030517578,47.064998626708984,46.79999923706055,45.86249923706055,46.432498931884766,46.23500061035156,46.17499923706055,45.182498931884766,45.6349983215332,46.00749969482422,45.95000076293945,45.727500915527344,45.85499954223633,45.8849983215332,46.06999969482422,46.29999923706055,47.32500076293945,47.54499816894531,46.90250015258789,47.32749938964844,47.724998474121094,47.60499954223633,47.29999923706055,47.48249816894531,47.42250061035156,47.54249954223633,47.38999938964844,48.01250076293945,48.10749816894531,48.40250015258789,47.525001525878906,47.26750183105469,47.334999084472656,49.32749938964844,50.087501525878906,51.369998931884766,51.76750183105469,51.689998626708984,51.130001068115234,51.79999923706055,51.66749954223633,51.92499923706055,52.064998626708984,52.08250045776367,52.86750030517578,53.290000915527344,53.77750015258789,53.50749969482422,53.459999084472656,53.650001525878906,53.77750015258789,54.08250045776367,54.72999954223633,54.852500915527344,55.599998474121094,56.5,56.657501220703125,56.275001525878906,55.32500076293945,55.1775016784668,54.11750030517578,54.13999938964844,54.959999084472656,55.64250183105469,55.630001068115234,54.317501068115234,54.279998779296875,53.82500076293945,54.787498474121094,54.3224983215332,54.157501220703125,54.92499923706055,54.939998626708984,55.8849983215332,56.005001068115234,56.587501525878906,56.657501220703125,57.44499969482422,56.682498931884766,55.14500045776367,55.04999923706055,55.5625,54.01250076293945,53.08000183105469,54.209999084472656,54.317501068115234,54.189998626708984,54.834999084472656,53.25,54.35749816894531,54.73500061035156,53.67499923706055,53.6349983215332,54.1875,53.16749954223633,51.522499084472656,52.317501068115234,54.154998779296875,54.20249938964844,51.35749816894531,49.54249954223633,50.42250061035156,51.032501220703125,51.6875,50.5625,48.4474983215332,47.86249923706055,46.48249816894531,46.724998474121094,47.3650016784668,46.247501373291016,43.877498626708984,44.13750076293945,43.025001525878906,42.564998626708984,42.720001220703125,43.73249816894531,44.42499923706055,44.25749969482422,45.3025016784668,44.067501068115234,42.60499954223633,42.07500076293945,40.83250045776367,41.75,42.255001068115234,42.38750076293945,41.31999969482422,40.682498931884766,41.09749984741211,39.772499084472656,38.82500076293945,37.407501220703125,36.647499084472656,36.68000030517578,37.51750183105469,38.63750076293945,39.119998931884766,38.557498931884766,35.5,35.95000076293945,36.474998474121094,37.130001068115234,37.407501220703125,37.71500015258789,37.877498626708984,37.30500030517578,37.51250076293945,38.25,38.314998626708984,38.994998931884766,38.154998779296875,37.92499923706055,37.935001373291016,38.58000183105469,38.415000915527344,38.52750015258789,40.057498931884766,41.13999938964844,41.48249816894531,41.81999969482422,43.087501525878906,43.212501525878906,42.584999084472656,42.10499954223633,42.3125,42.42499923706055,42.47999954223633,42.345001220703125,42.4375,42.372501373291016,42.747501373291016,42.57500076293945,42.845001220703125,43.48749923706055,43.29249954223633,43.182498931884766,43.22999954223633,43.22249984741211,43.49250030517578,43.6349983215332,43.48500061035156,43.005001068115234,42.375,43.837501525878906,44.842498779296875,45.22999954223633,45.63999938964844,45.935001373291016,46.4474983215332,46.47999954223633,46.182498931884766,47.45249938964844,47.69499969482422,46.650001525878906,46.14500045776367,46.63750076293945,46.88249969482422,47.1349983215332,47.095001220703125,47.76250076293945,48.287498474121094,48.28499984741211,48.98249816894531,49.084999084472656,49.807498931884766,49.54499816894531,49.61000061035156,49.0525016784668,49.502498626708984,49.63999938964844,49.65250015258789,50.630001068115234,50.584999084472656,50.974998474121094,51.76250076293945,51.279998779296875,50.529998779296875,50.96500015258789,49.77750015258789,52.307498931884766,52.032501220703125,52.557498931884766,50.875,50.20750045776367,50.4375,49.165000915527344,48.192501068115234,45.712501525878906,46.352500915527344,46.505001068115234,47.209999084472656,46.689998626708984,45.06999969482422,46.17499923706055,45.63750076293945,44.45249938964844,44.654998779296875,44.477500915527344,44.0,44.16749954223633,43.747501373291016,42.567501068115234,43.630001068115234,45.28499984741211,45.537498474121094,46.442501068115234,47.904998779296875,48.400001525878906,48.34749984741211,48.400001525878906,47.57500076293945,48.04249954223633,48.8025016784668,49.32749938964844,49.50749969482422,49.537498474121094,49.54249954223633,48.8224983215332,49.337501525878906,49.89250183105469,49.26250076293945,50.162498474121094,50.34000015258789,50.67250061035156,50.724998474121094,49.602500915527344,49.70249938964844,50.38999938964844,50.4275016784668,50.54999923706055,51.0,50.875,50.817501068115234,50.92499923706055,50.59000015258789,50.90250015258789,51.8224983215332,51.79249954223633,51.682498931884766,51.78499984741211,52.11000061035156,51.82749938964844,52.82500076293945,51.685001373291016,50.407501220703125,48.14500045776367,48.5099983215332,48.45500183105469,49.84749984741211,49.8224983215332,49.787498474121094,50.119998931884766,50.647499084472656,49.91749954223633,50.959999084472656,52.50749969482422,52.58000183105469,52.900001525878906,52.6875,50.25,51.26499938964844,50.88249969482422,50.83000183105469,51.665000915527344,51.79999923706055,51.05500030517578,51.83000183105469,52.877498626708984,53.127498626708984,52.76750183105469,52.9275016784668,54.432498931884766,55.71500015258789,54.255001068115234,54.38999938964844,54.779998779296875,54.86000061035156,55.092498779296875,54.36750030517578,54.412498474121094,54.29750061035156,54.28499984741211,54.70750045776367,54.31999969482422,55.1974983215332,56.04999923706055,54.48249816894531,53.782501220703125,55.97249984741211,56.459999084472656,56.08250045776367,56.40999984741211,56.82500076293945,58.07749938964844,58.66749954223633,58.720001220703125,58.29999923706055,58.380001068115234,58.5724983215332,59.33000183105469,59.904998779296875,60.30500030517578,60.45249938964844,60.720001220703125,61.68000030517578,60.64250183105469,60.3025016784668,59.314998626708984,62.290000915527344,63.845001220703125,64.08000183105469,63.842498779296875,64.52749633789062,64.2125015258789,64.56999969482422,65.2300033569336,65.26750183105469,65.5250015258789,65.75250244140625,66.05750274658203,66.34750366210938,65.0999984741211,65.29499816894531,65.20999908447266,65.62999725341797,65.625,66.32749938964844,66.4749984741211,65.86250305175781,64.07250213623047,65.16999816894531,65.68250274658203,66.82499694824219,66.22750091552734,66.46499633789062,67.125,66.83000183105469,67.73249816894531,69.24500274658203,69.69999694824219,69.77999877929688,69.73750305175781,69.63999938964844,70.09249877929688,70.7300033569336,71.17500305175781,72.02999877929688,71.30500030517578,72.37999725341797,73.79750061035156,74.125,73.1875,74.37000274658203,74.29000091552734,76.55000305175781,77.0625,77.7874984741211,78.0425033569336,77.38749694824219,78.02249908447266,78.75,79.0,79.32749938964844,78.9124984741211,79.37999725341797,76.22000122070312,78.04750061035156,80.34500122070312,79.6875,77.07250213623047,75.55500030517578,78.40750122070312,79.73750305175781,80.06500244140625,79.5,78.4625015258789,79.67749786376953,80.36750030517578,80.8375015258789,80.7125015258789,78.65249633789062,80.0,79.55249786376953,77.625,72.30750274658203,71.53250122070312,71.625,68.23999786376953,64.09249877929688,69.43000030517578,71.44999694824219,73.28250122070312,72.85250091552734,70.30750274658203,65.75,67.34249877929688,67.96499633789062,62.0,63.23749923706055,60.0,59.599998474121094,59.279998779296875,60.65250015258789,57.0,53.15250015258789,58.57500076293945,61.07500076293945,61.59000015258789,61.76250076293945,62.349998474121094,63.0,59.782501220703125,59.224998474121094,59.74250030517578,62.345001220703125,64.75,65.30750274658203,66.17500305175781,66.4574966430664,69.51249694824219,70.15750122070312,70.5875015258789,69.21499633789062,69.2125015258789,66.35749816894531,68.05000305175781,68.71749877929688,69.25,69.98750305175781,69.55000305175781,70.97250366210938,72.0875015258789,71.4625015258789,71.58000183105469,73.61499786376953,74.71749877929688,75.49250030517578,76.07250213623047,76.80999755859375,77.72750091552734,75.80249786376953,75.38249969482422,75.05249786376953,77.58000183105469,78.25250244140625,79.12999725341797,78.96749877929688,78.8375015258789,79.125,78.27249908447266,78.90750122070312,79.11750030517578,79.30249786376953,79.73249816894531,80.57499694824219,80.19499969482422,80.80750274658203,81.83000183105469,83.00250244140625,86.52249908447266,83.87000274658203,83.55500030517578,83.1449966430664,86.18000030517578,87.77249908447266,87.30500030517578,86.2874984741211,87.7874984741211,90.56749725341797,89.62999725341797,89.39250183105469,88.25499725341797,87.81999969482422,90.0,90.97750091552734,90.91000366210938,92.46749877929688,93.05750274658203,94.08999633789062,94.67250061035156,94.70500183105469,95.25749969482422,93.87750244140625,96.48999786376953,95.90499877929688,95.83999633789062,96.0625,96.74250030517578,96.60250091552734,92.01000213623047,89.1449966430664,93.4800033569336,93.24749755859375,93.7125015258789,93.76750183105469,100.82499694824219,107.89250183105469,108.38749694824219,108.89749908447266,109.79750061035156,110.2925033569336,110.0,109.10749816894531,110.29750061035156,113.92749786376953,113.04499816894531,113.9625015258789,114.00749969482422,115.61000061035156,115.73249816894531,119.25,123.9375,123.05249786376953,125.0824966430664,123.8324966430664,124.57749938964844,126.0,130.52999877929688,127.0,120.5,110.88999938964844,112.68000030517578,115.26000213623047,112.5,110.0,112.80000305175781,113.61000061035156,112.04000091552734,108.70999908447266,106.08999633789062,103.0999984741211,109.16000366210938,106.7699966430664,105.0,107.66999816894531,112.77999877929688,113.56999969482422,113.62000274658203,115.83000183105469,112.22000122070312,113.55000305175781,112.25,114.12999725341797,114.58999633789062,114.91999816894531,119.27999877929688,119.6500015258789,119.62000274658203,118.1500015258789,118.80999755859375,115.66000366210938,115.62999725341797,116.44999694824219,114.58999633789062,114.27999877929688,112.87999725341797,114.54000091552734,111.0999984741211,112.19999694824219,107.72000122070312,107.31999969482422,108.7300033569336,112.3499984741211,116.87000274658203,116.12999725341797,116.05000305175781,114.12999725341797,116.44000244140625,118.56999969482422,117.87000274658203,118.1500015258789,118.95999908447266,118.0,116.80999755859375,117.29000091552734,113.75,112.58999633789062,115.16999816894531,116.22000122070312,116.80999755859375,120.01000213623047,120.88999938964844,122.20999908447266,121.5199966430664,122.25,123.08999633789062,121.0,120.1500015258789,120.55000305175781,121.54000091552734,124.12999725341797,126.55999755859375,128.0399932861328,126.12000274658203,123.44999694824219,129.64999389648438,130.77999877929688,131.10000610351562,133.50999450683594,134.33999633789062,133.39999389648438,131.72000122070312,126.76000213623047,128.42999267578125,126.37999725341797,127.86000061035156,130.22999572753906,128.5,126.86000061035156,128.49000549316406,128.75999450683594,127.0,126.94000244140625,128.5500030517578,133.58999633789062,135.02000427246094,136.5399932861328,141.3699951171875,140.41000366210938,136.6999969482422,130.2100067138672,130.92999267578125,134.61000061035156,133.61000061035156,134.58999633789062,135.86000061035156,134.9199981689453,135.85000610351562,134.39999389648438,133.77000427246094,133.69000244140625,132.7899932861328,129.47000122070312,127.41000366210938,128.8000030517578,125.5999984741211,118.38999938964844,122.2300033569336,120.54000091552734,121.19999694824219,122.79000091552734,125.01000213623047,121.83999633789062,118.62000274658203,117.56999969482422,116.20999908447266,118.79000091552734,119.44999694824219,121.26000213623047,119.16000366210938,120.41999816894531,124.72000122070312,122.33999633789062,120.31999969482422,119.68000030517578,120.26000213623047,122.13999938964844,120.06999969482422,119.0,118.91999816894531,120.7300033569336,118.86000061035156,121.1500015258789,122.48999786376953,123.06999969482422,125.6500015258789,125.13999938964844,128.52000427246094,129.47000122070312,130.6300048828125,131.92999267578125,131.66000366210938,133.63999938964844,133.27999877929688,133.33999633789062,131.80999755859375,131.3000030517578,131.41000366210938,132.16000366210938,133.55999755859375,134.11000061035156,133.0800018310547,132.4499969482422,131.07000732421875,131.8300018310547,126.69999694824219,127.97000122070312,127.12999725341797,129.47999572753906,126.80999755859375,122.7699966430664,122.25,124.26000213623047,125.8499984741211,125.16999816894531,124.77999877929688,122.86000061035156,125.0999984741211,125.20999908447266,125.94000244140625,126.31999969482422,126.41999816894531,125.08000183105469,124.55000305175781,123.94000244140625,124.05000305175781,123.12999725341797,123.8499984741211,124.83000183105469,126.20999908447266,126.5199966430664,125.94000244140625,126.0999984741211,127.06999969482422,129.38999938964844,128.4600067138672,129.64999389648438,130.24000549316406,129.2100067138672,131.6199951171875,133.22999572753906,132.92999267578125,132.80999755859375,133.35000610351562,134.35000610351562,135.8699951171875,135.75999450683594,137.75,140.07000732421875,142.66000366210938,140.6699981689453,142.64999389648438,144.0,143.6300048828125,147.67999267578125,147.08999633789062,145.8800048828125,141.6699981689453,142.9600067138672,144.6300048828125,145.80999755859375,146.9199981689453,147.6999969482422,145.5500030517578,142.5399932861328,144.5800018310547,144.11000061035156,145.25,145.17999267578125,146.27999877929688,146.1699981689453,145.6300048828125,145.52000427246094,145.3000030517578,145.52999877929688,145.83999633789062,148.27000427246094,146.47000122070312,149.08999633789062,146.14999389648438,144.5,146.77999877929688,147.88999938964844,149.14999389648438,147.8000030517578,147.50999450683594,146.8300018310547,148.61000061035156,151.2899932861328,152.33999633789062,152.39999389648438,153.08999633789062,154.38999938964844,153.97999572753906,153.9499969482422,148.6999969482422,148.75,146.91000366210938,146.3699951171875,147.22000122070312,145.75999450683594,141.27000427246094,142.77999877929688,143.6999969482422,145.63999938964844,145.55999755859375,143.82000732421875,141.69000244140625,142.02999877929688,141.27999877929688,139.11000061035156,138.27000427246094,139.36000061035156,138.3699951171875,142.72000122070312,142.55999755859375,141.80999755859375,141.0399932861328,139.1999969482422,141.50999450683594,143.50999450683594,143.16000366210938,146.5500030517578,148.1199951171875,147.8699951171875,148.63999938964844,147.6199951171875,149.00999450683594,148.49000549316406,149.72000122070312,146.41000366210938,147.8000030517578,148.64999389648438,149.82000732421875,150.63999938964844,150.05999755859375,150.16000366210938,150.05999755859375,147.85000610351562,147.67999267578125,147.47999572753906,149.42999267578125,149.33999633789062,150.99000549316406,153.0500030517578,156.52999877929688,161.0,159.05999755859375,159.63999938964844,156.36000061035156,158.7899932861328,159.9199981689453,164.52999877929688,157.8000030517578,159.72000122070312,164.27999877929688,168.33999633789062,170.6999969482422,173.9199981689453,174.69000244140625,175.52999877929688,172.2100067138672,172.30999755859375,170.75,169.69000244140625,167.4600067138672,169.1199951171875,172.14999389648438,175.27000427246094,177.07000732421875,178.52999877929688,178.13999938964844,178.08999633789062,177.25999450683594,177.7100067138672,179.1199951171875,174.63999938964844,171.63999938964844,171.02999877929688,168.1699981689453,170.82000732421875,174.82000732421875,171.7899932861328,171.08999633789062,169.41000366210938,165.94000244140625,164.17999267578125,162.3000030517578,154.6999969482422,157.02000427246094,157.82000732421875,158.27999877929688,162.8000030517578,169.50999450683594,172.30999755859375,173.3300018310547,172.1199951171875,170.67999267578125,170.9499969482422,171.42999267578125,174.89999389648438,171.5500030517578,168.0399932861328,166.55999755859375,170.25,170.0500030517578,168.47000122070312,166.19000244140625,162.14999389648438,159.75,152.0,160.8699951171875,162.42999267578125,161.97000122070312,162.9499969482422,165.5500030517578,162.10000610351562,159.0399932861328,155.8000030517578,159.41000366210938,155.97999572753906,154.5,150.10000610351562,150.3800048828125,154.4600067138672,157.6300048828125,159.75999450683594,163.00999450683594,164.91000366210938,167.64999389648438,170.2100067138672,172.75,172.0,176.33999633789062,176.6999969482422,174.39999389648438,171.94000244140625,174.44000244140625,174.4199981689453,170.1300048828125,169.85000610351562,169.1999969482422,165.5,166.63999938964844,166.77000427246094,165.0399932861328,163.57000732421875,163.91000366210938,166.10000610351562,165.91000366210938,161.5,158.4600067138672,156.72000122070312,155.3800048828125,158.92999267578125,157.25,153.27000427246094,156.32000732421875,159.25999450683594,154.9499969482422,154.17999267578125,151.49000549316406,152.92999267578125,145.80999755859375,138.8000030517578,143.11000061035156,144.17999267578125,146.67999267578125,139.89999389648438,136.60000610351562,132.61000061035156,137.64999389648438,137.3300018310547,138.33999633789062,137.13999938964844,145.25999450683594,146.83999633789062,147.67999267578125,146.86000061035156,144.4600067138672,144.89999389648438,144.10000610351562,147.4600067138672,142.52999877929688,137.05999755859375,131.44000244140625,131.47999572753906,132.16000366210938,129.0399932861328,129.80999755859375,133.32000732421875,133.91000366210938,135.6300048828125,139.77000427246094,140.97000122070312,137.32000732421875,136.6699981689453,133.77000427246094],\"open\":[36.220001220703125,35.92250061035156,35.755001068115234,35.724998474121094,36.02750015258789,36.182498931884766,36.467498779296875,36.375,36.99250030517578,37.20500183105469,37.29999923706055,37.619998931884766,37.875,37.497501373291016,37.64500045776367,37.95000076293945,38.337501525878906,38.4375,37.47249984741211,37.474998474121094,37.275001525878906,39.81999969482422,39.26250076293945,39.01750183105469,39.26499938964844,39.650001525878906,39.814998626708984,39.974998474121094,39.150001525878906,39.83000183105469,40.165000915527344,40.48500061035156,40.130001068115234,39.46500015258789,39.375,39.557498931884766,39.76750183105469,40.10749816894531,39.912498474121094,40.03499984741211,40.025001525878906,40.95000076293945,40.90999984741211,41.20000076293945,40.9375,40.6775016784668,40.522499084472656,40.21500015258789,40.125,40.65250015258789,39.967498779296875,39.747501373291016,39.61750030517578,40.02750015258789,39.877498626708984,39.474998474121094,38.95000076293945,37.8849983215332,37.497501373291016,37.94499969482422,38.45000076293945,38.47249984741211,38.3025016784668,38.564998626708984,38.502498626708984,38.407501220703125,38.54499816894531,38.74250030517578,38.95249938964844,39.01499938964844,38.99250030517578,39.087501525878906,39.182498931884766,39.474998474121094,39.94499969482422,40.10499954223633,39.1875,39.15250015258789,39.22249984741211,39.0724983215332,39.227500915527344,39.307498931884766,39.8224983215332,40.97249984741211,41.974998474121094,42.467498779296875,41.650001525878906,43.5,43.092498779296875,43.477500915527344,43.665000915527344,43.77750015258789,43.77750015258789,43.375,43.2599983215332,42.49250030517578,42.79499816894531,42.7599983215332,42.5724983215332,42.69499969482422,43.34000015258789,43.775001525878906,43.76250076293945,43.57500076293945,43.157501220703125,42.60749816894531,42.48749923706055,43.119998931884766,42.26499938964844,41.875,42.25749969482422,42.622501373291016,42.29999923706055,43.037498474121094,43.125,43.099998474121094,43.407501220703125,43.720001220703125,43.75749969482422,43.717498779296875,43.54249954223633,43.66999816894531,42.70000076293945,42.525001525878906,42.75,42.630001068115234,42.540000915527344,43.13249969482422,43.1349983215332,43.36000061035156,43.587501525878906,43.63750076293945,43.290000915527344,43.647499084472656,44.04499816894531,44.474998474121094,44.037498474121094,44.842498779296875,44.65250015258789,44.32500076293945,44.32500076293945,44.3125,43.627498626708984,43.0,42.540000915527344,41.38249969482422,41.717498779296875,41.79249954223633,41.5,39.775001525878906,38.70750045776367,40.772499084472656,40.0724983215332,39.26750183105469,39.625,40.48749923706055,40.7599983215332,42.4474983215332,43.09000015258789,43.01250076293945,43.20750045776367,42.95000076293945,43.41749954223633,44.087501525878906,44.775001525878906,44.814998626708984,44.6349983215332,43.20000076293945,43.8025016784668,44.477500915527344,43.73500061035156,43.869998931884766,44.4900016784668,45.0724983215332,45.647499084472656,45.08000183105469,44.625,44.662498474121094,44.33000183105469,43.810001373291016,43.7599983215332,42.5,42.09749984741211,42.01750183105469,43.41999816894531,41.8125,41.95249938964844,41.65999984741211,41.90999984741211,41.220001220703125,43.14500045776367,42.74250030517578,42.470001220703125,43.25,43.057498931884766,43.352500915527344,43.69499969482422,43.75749969482422,44.122501373291016,44.45249938964844,43.439998626708984,42.650001525878906,41.70750045776367,41.41749954223633,40.654998779296875,41.029998779296875,41.0,40.532501220703125,41.602500915527344,43.807498931884766,43.970001220703125,44.5625,46.29499816894531,46.247501373291016,46.63750076293945,46.935001373291016,47.372501373291016,47.252498626708984,46.69499969482422,46.51750183105469,47.0,46.79750061035156,47.0,47.095001220703125,46.587501525878906,47.192501068115234,47.057498931884766,46.900001525878906,46.93000030517578,46.80500030517578,46.997501373291016,47.90999984741211,48.26750183105469,48.407501220703125,48.53499984741211,47.79249954223633,47.837501525878906,47.84749984741211,48.10499954223633,47.88750076293945,47.50749969482422,46.970001220703125,46.28499984741211,46.587501525878906,46.8125,46.529998779296875,45.849998474121094,45.747501373291016,46.307498931884766,46.025001525878906,46.5724983215332,45.95500183105469,46.9474983215332,46.314998626708984,46.35499954223633,47.375,47.6775016784668,47.125,47.38249969482422,47.77000045776367,47.880001068115234,47.4375,47.94499969482422,47.42250061035156,47.94499969482422,47.66999816894531,48.11249923706055,48.26499938964844,48.65250015258789,48.747501373291016,47.974998474121094,47.57500076293945,49.782501220703125,50.14500045776367,51.75749969482422,52.0,52.33000183105469,51.51250076293945,52.38249969482422,51.84000015258789,52.32749938964844,52.540000915527344,52.30500030517578,52.9375,53.36000061035156,54.525001525878906,54.20000076293945,53.525001525878906,53.662498474121094,54.150001525878906,54.287498474121094,54.752498626708984,55.037498474121094,55.8125,56.627498626708984,57.102500915527344,57.247501373291016,56.557498931884766,55.462501525878906,55.23749923706055,54.502498626708984,56.23500061035156,55.880001068115234,56.4375,55.537498474121094,54.4474983215332,54.625,55.060001373291016,55.19499969482422,54.20500183105469,54.9375,55.25,55.95500183105469,56.1974983215332,56.98749923706055,56.8125,57.51250076293945,57.69499969482422,56.9900016784668,55.5525016784668,55.90999984741211,56.3650016784668,53.630001068115234,55.10499954223633,55.290000915527344,54.73249816894531,55.57500076293945,54.46500015258789,54.51499938964844,54.9474983215332,53.95750045776367,55.650001525878906,54.4275016784668,53.974998474121094,54.79750061035156,52.787498474121094,54.220001220703125,54.76250076293945,52.38750076293945,51.07500076293945,50.47999954223633,51.49250030517578,52.494998931884766,51.38750076293945,49.75,47.907501220703125,48.474998474121094,47.09749984741211,47.625,47.5,44.592498779296875,44.932498931884766,43.73500061035156,43.560001373291016,42.877498626708984,44.182498931884766,45.665000915527344,45.0724983215332,46.1150016784668,45.23749923706055,42.939998626708984,43.372501373291016,41.25,42.915000915527344,42.599998474121094,42.622501373291016,42.25,41.36249923706055,41.345001220703125,41.5,40.099998474121094,39.21500015258789,37.037498474121094,37.07500076293945,38.959999084472656,39.375,39.63249969482422,38.72249984741211,35.994998931884766,36.13249969482422,37.17499923706055,37.38999938964844,37.8224983215332,38.125,38.220001220703125,37.712501525878906,37.567501068115234,38.27000045776367,38.54999923706055,39.375,39.102500915527344,38.537498474121094,38.52750015258789,38.869998931884766,38.9474983215332,39.0625,40.8125,41.52750015258789,41.7400016784668,41.852500915527344,43.21500015258789,43.662498474121094,43.099998474121094,42.247501373291016,42.76250076293945,42.525001525878906,42.84749984741211,42.4275016784668,42.8125,42.4275016784668,42.79750061035156,42.95000076293945,42.89500045776367,43.540000915527344,43.4275016784668,43.3025016784668,43.58000183105469,43.56999969482422,43.92250061035156,43.98500061035156,43.66749954223633,43.467498779296875,42.58000183105469,43.872501373291016,45.0,45.5625,45.974998474121094,46.212501525878906,46.45000076293945,47.087501525878906,46.557498931884766,47.505001068115234,48.834999084472656,47.877498626708984,47.915000915527344,47.1875,47.23749923706055,47.45750045776367,47.90999984741211,47.772499084472656,48.3125,48.6974983215332,49.11249923706055,49.10499954223633,50.08000183105469,49.66999816894531,50.212501525878906,49.79999923706055,49.64500045776367,49.8650016784668,49.8849983215332,50.779998779296875,50.70750045776367,51.10749816894531,51.84000015258789,51.70750045776367,51.224998474121094,51.099998474121094,50.76499938964844,52.470001220703125,52.459999084472656,52.72249984741211,51.0724983215332,51.470001220703125,50.474998474121094,50.099998474121094,49.35499954223633,46.9275016784668,46.602500915527344,46.567501068115234,47.477500915527344,46.73249816894531,45.880001068115234,46.30500030517578,46.165000915527344,44.95000076293945,45.04999923706055,44.72999954223633,44.10499954223633,44.48749923706055,44.057498931884766,43.900001525878906,43.86000061035156,46.06999969482422,45.77000045776367,46.627498626708984,47.95249938964844,48.71500015258789,48.48749923706055,48.67499923706055,47.88750076293945,48.224998474121094,49.01250076293945,49.91999816894531,50.092498779296875,49.70000076293945,49.6349983215332,49.60749816894531,49.442501068115234,50.0724983215332,49.66999816894531,50.79249954223633,50.352500915527344,50.81999969482422,50.837501525878906,50.20249938964844,49.79999923706055,50.462501525878906,50.82749938964844,50.61249923706055,51.022499084472656,51.147499084472656,51.01250076293945,51.0,51.4474983215332,50.912498474121094,52.1150016784668,51.91749954223633,52.22249984741211,51.869998931884766,52.1150016784668,52.189998626708984,54.10499954223633,53.474998474121094,51.38249969482422,49.497501373291016,49.07749938964844,48.852500915527344,50.04999923706055,50.32500076293945,49.904998779296875,50.255001068115234,50.790000915527344,50.8650016784668,51.06999969482422,52.654998779296875,52.720001220703125,53.247501373291016,53.29750061035156,52.35749816894531,51.46500015258789,51.96500015258789,51.025001525878906,52.125,52.540000915527344,51.60749816894531,52.09749984741211,53.0,53.51250076293945,53.709999084472656,53.46500015258789,54.51750183105469,56.20000076293945,55.0,54.432498931884766,54.9900016784668,55.26499938964844,55.502498626708984,55.345001220703125,54.73749923706055,55.25749969482422,54.63750076293945,55.0,55.1349983215332,55.224998474121094,56.26750183105469,55.76499938964844,54.60749816894531,56.40999984741211,56.567501068115234,56.45500183105469,56.75749969482422,56.98249816894531,58.23749923706055,58.724998474121094,59.09749984741211,58.342498779296875,58.772499084472656,58.647499084472656,59.380001068115234,60.290000915527344,60.525001525878906,61.127498626708984,60.790000915527344,61.85499954223633,62.24250030517578,61.189998626708984,61.810001373291016,62.3849983215332,64.3324966430664,64.26249694824219,64.19249725341797,64.68499755859375,64.67250061035156,64.57499694824219,65.38749694824219,65.28250122070312,65.9375,65.91999816894531,66.44999694824219,66.9749984741211,66.38500213623047,65.92250061035156,65.64749908447266,65.67749786376953,66.73500061035156,66.3949966430664,66.6500015258789,66.81749725341797,64.57749938964844,65.26750183105469,65.94750213623047,66.87000274658203,67.5,67.1500015258789,67.20249938964844,66.94499969482422,67.86499786376953,69.25,69.89250183105469,69.94999694824219,69.875,70.55750274658203,70.13249969482422,71.17250061035156,71.20500183105469,72.77999877929688,72.36499786376953,72.48249816894531,74.05999755859375,74.2874984741211,73.44750213623047,74.95999908447266,74.29000091552734,76.80999755859375,77.6500015258789,77.91000366210938,79.17500305175781,77.9625015258789,78.39749908447266,79.06749725341797,79.29750061035156,79.6449966430664,79.4800033569336,80.0625,77.51499938964844,78.1500015258789,81.11250305175781,80.13500213623047,80.23249816894531,76.07499694824219,78.82749938964844,80.87999725341797,80.64250183105469,80.59249877929688,78.54499816894531,80.9000015258789,80.36750030517578,81.04750061035156,81.18499755859375,78.83999633789062,80.0,80.65750122070312,79.65499877929688,74.31500244140625,75.23750305175781,71.63249969482422,70.2750015258789,64.31500244140625,70.56999969482422,75.9175033569336,74.11000061035156,73.87999725341797,70.5,65.9375,69.28500366210938,69.34750366210938,63.98500061035156,66.22250366210938,60.48749923706055,61.877498626708984,59.942501068115234,61.84749984741211,61.79499816894531,57.02000045776367,59.09000015258789,62.6875,61.630001068115234,63.1875,62.685001373291016,63.900001525878906,61.625,60.084999084472656,60.70000076293945,62.724998474121094,67.69999694824219,65.68499755859375,67.17500305175781,67.07749938964844,70.0,70.5999984741211,71.84500122070312,71.17250061035156,69.48750305175781,69.06999969482422,68.40249633789062,68.96749877929688,69.30000305175781,70.44999694824219,71.2699966430664,71.18250274658203,72.48999786376953,71.5625,72.2925033569336,73.76499938964844,75.11499786376953,75.80500030517578,76.41000366210938,77.0250015258789,79.4574966430664,78.0374984741211,76.12750244140625,75.0875015258789,78.2925033569336,78.75749969482422,79.16999816894531,79.66500091552734,78.94249725341797,80.875,79.03500366210938,79.19249725341797,79.8125,79.4375,80.1875,81.16500091552734,81.09750366210938,80.8375015258789,82.5625,83.03500366210938,86.9749984741211,87.32749938964844,86.18000030517578,83.3125,87.86499786376953,88.7874984741211,87.85250091552734,88.66000366210938,87.83499908447266,91.0,91.25,90.17500305175781,91.10250091552734,88.3125,90.0199966430664,91.27999877929688,91.9625015258789,92.5,93.85250091552734,94.18000030517578,96.26249694824219,95.33499908447266,97.26499938964844,94.83999633789062,98.98999786376953,96.5625,96.98750305175781,96.4175033569336,99.17250061035156,96.69249725341797,96.99749755859375,90.98750305175781,93.70999908447266,94.36750030517578,93.75,94.1875,102.88500213623047,108.19999694824219,109.13249969482422,109.37750244140625,110.40499877929688,113.20500183105469,112.5999984741211,111.97000122070312,110.49749755859375,114.43000030517578,114.83000183105469,116.0625,114.35250091552734,115.98249816894531,115.75,119.26249694824219,128.69749450683594,124.69750213623047,126.18000030517578,127.14250183105469,126.01249694824219,127.58000183105469,132.75999450683594,137.58999633789062,126.91000366210938,120.06999969482422,113.94999694824219,117.26000213623047,120.36000061035156,114.56999969482422,114.72000122070312,118.33000183105469,115.2300033569336,109.72000122070312,110.4000015258789,104.54000091552734,112.68000030517578,111.62000274658203,105.16999816894531,108.43000030517578,115.01000213623047,114.55000305175781,113.79000091552734,117.63999938964844,112.88999938964844,113.91000366210938,115.69999694824219,114.62000274658203,116.25,115.27999877929688,120.05999755859375,125.2699966430664,121.0,118.72000122070312,121.27999877929688,119.95999908447266,116.19999694824219,116.66999816894531,117.44999694824219,116.38999938964844,114.01000213623047,115.48999786376953,115.05000305175781,112.37000274658203,111.05999755859375,109.11000061035156,109.66000366210938,114.13999938964844,117.94999694824219,118.31999969482422,120.5,115.55000305175781,117.19000244140625,119.62000274658203,119.44000244140625,118.91999816894531,119.55000305175781,118.61000061035156,117.58999633789062,118.63999938964844,117.18000030517578,113.91000366210938,115.55000305175781,116.56999969482422,116.97000122070312,121.01000213623047,122.0199966430664,123.5199966430664,122.5999984741211,122.30999755859375,124.37000274658203,124.52999877929688,120.5,122.43000030517578,122.5999984741211,124.33999633789062,127.41000366210938,128.89999389648438,128.9600067138672,125.0199966430664,131.61000061035156,132.16000366210938,131.32000732421875,133.99000549316406,138.0500030517578,135.5800018310547,134.0800018310547,133.52000427246094,128.88999938964844,127.72000122070312,128.36000061035156,132.42999267578125,129.19000244140625,128.5,128.75999450683594,130.8000030517578,128.77999877929688,127.77999877929688,128.66000366210938,133.8000030517578,136.27999877929688,143.07000732421875,143.60000610351562,143.42999267578125,139.52000427246094,135.8300018310547,133.75,135.72999572753906,135.75999450683594,136.3000030517578,137.35000610351562,136.02999877929688,136.6199951171875,136.47999572753906,135.89999389648438,134.35000610351562,135.49000549316406,131.25,129.1999969482422,130.24000549316406,128.00999450683594,123.76000213623047,124.94000244140625,124.68000030517578,122.58999633789062,123.75,128.41000366210938,124.80999755859375,121.75,120.9800033569336,120.93000030517578,119.02999877929688,121.69000244140625,122.54000091552734,120.4000015258789,121.41000366210938,125.69999694824219,124.05000305175781,122.87999725341797,119.9000015258789,120.33000183105469,123.33000183105469,122.81999969482422,119.54000091552734,120.3499984741211,121.6500015258789,120.11000061035156,121.6500015258789,123.66000366210938,123.87000274658203,126.5,125.83000183105469,128.9499969482422,129.8000030517578,132.52000427246094,132.44000244140625,134.94000244140625,133.82000732421875,134.3000030517578,133.50999450683594,135.02000427246094,132.36000061035156,133.0399932861328,132.16000366210938,134.8300018310547,135.00999450683594,134.30999755859375,136.47000122070312,131.77999877929688,132.0399932861328,131.19000244140625,129.1999969482422,127.88999938964844,130.85000610351562,129.41000366210938,123.5,123.4000015258789,124.58000183105469,126.25,126.81999969482422,126.55999755859375,123.16000366210938,125.2300033569336,127.81999969482422,126.01000213623047,127.81999969482422,126.95999908447266,126.44000244140625,125.56999969482422,125.08000183105469,124.27999877929688,124.68000030517578,124.06999969482422,126.16999816894531,126.5999984741211,127.20999908447266,127.0199966430664,126.52999877929688,127.81999969482422,129.94000244140625,130.3699951171875,129.8000030517578,130.7100067138672,130.3000030517578,132.1300048828125,133.77000427246094,134.4499969482422,133.4600067138672,133.41000366210938,134.8000030517578,136.1699981689453,136.60000610351562,137.89999389648438,140.07000732421875,143.5399932861328,141.5800018310547,142.75,146.2100067138672,144.02999877929688,148.10000610351562,149.24000549316406,148.4600067138672,143.75,143.4600067138672,145.52999877929688,145.94000244140625,147.5500030517578,148.27000427246094,149.1199951171875,144.80999755859375,144.69000244140625,144.3800048828125,146.36000061035156,145.80999755859375,147.27000427246094,146.97999572753906,146.35000610351562,146.1999969482422,146.44000244140625,146.0500030517578,146.19000244140625,148.97000122070312,148.5399932861328,150.22999572753906,149.8000030517578,145.02999877929688,147.44000244140625,148.30999755859375,149.4499969482422,149.80999755859375,148.35000610351562,147.47999572753906,149.0,152.66000366210938,152.8300018310547,153.8699951171875,153.75999450683594,154.97000122070312,156.97999572753906,155.49000549316406,155.0,150.6300048828125,150.35000610351562,148.55999755859375,148.44000244140625,148.82000732421875,143.8000030517578,143.92999267578125,144.4499969482422,146.64999389648438,145.66000366210938,145.47000122070312,143.25,142.47000122070312,143.66000366210938,141.89999389648438,141.75999450683594,139.49000549316406,139.47000122070312,143.05999755859375,144.02999877929688,142.27000427246094,143.22999572753906,141.24000549316406,142.11000061035156,143.77000427246094,143.4499969482422,147.00999450683594,148.6999969482422,148.80999755859375,149.69000244140625,148.67999267578125,149.3300018310547,149.36000061035156,149.82000732421875,147.22000122070312,148.99000549316406,148.66000366210938,150.38999938964844,151.5800018310547,151.88999938964844,151.41000366210938,150.1999969482422,150.02000427246094,148.9600067138672,148.42999267578125,150.3699951171875,149.94000244140625,151.0,153.7100067138672,157.64999389648438,161.67999267578125,161.1199951171875,160.75,159.57000732421875,159.3699951171875,159.99000549316406,167.47999572753906,158.74000549316406,164.02000427246094,164.2899932861328,169.0800018310547,172.1300048828125,174.91000366210938,175.2100067138672,181.1199951171875,175.25,175.11000061035156,179.27999877929688,169.92999267578125,168.27999877929688,171.55999755859375,173.0399932861328,175.85000610351562,177.08999633789062,180.16000366210938,179.3300018310547,179.47000122070312,178.08999633789062,177.8300018310547,182.6300048828125,179.61000061035156,172.6999969482422,172.88999938964844,169.0800018310547,172.32000732421875,176.1199951171875,175.77999877929688,171.33999633789062,171.50999450683594,170.0,166.97999572753906,164.4199981689453,160.02000427246094,158.97999572753906,163.5,162.4499969482422,165.7100067138672,170.16000366210938,174.00999450683594,174.75,174.47999572753906,171.67999267578125,172.86000061035156,171.72999572753906,176.0500030517578,174.13999938964844,172.3300018310547,167.3699951171875,170.97000122070312,171.85000610351562,171.02999877929688,169.82000732421875,164.97999572753906,165.5399932861328,152.5800018310547,163.83999633789062,163.05999755859375,164.6999969482422,164.38999938964844,168.47000122070312,164.49000549316406,163.36000061035156,158.82000732421875,161.47999572753906,160.1999969482422,158.92999267578125,151.4499969482422,150.89999389648438,157.0500030517578,158.61000061035156,160.50999450683594,163.50999450683594,165.50999450683594,167.99000549316406,171.05999755859375,173.8800048828125,172.1699981689453,176.69000244140625,178.5500030517578,177.83999633789062,174.02999877929688,174.57000732421875,177.5,172.36000061035156,171.16000366210938,171.77999877929688,168.7100067138672,168.02000427246094,167.38999938964844,170.6199951171875,163.9199981689453,165.02000427246094,168.75999450683594,168.91000366210938,166.4600067138672,161.1199951171875,162.25,155.91000366210938,159.25,161.83999633789062,156.7100067138672,158.14999389648438,159.6699981689453,163.85000610351562,156.00999450683594,154.92999267578125,155.52000427246094,153.5,142.77000427246094,144.58999633789062,145.5500030517578,148.86000061035156,146.85000610351562,139.8800048828125,139.08999633789062,137.7899932861328,140.80999755859375,138.42999267578125,137.38999938964844,145.38999938964844,149.07000732421875,149.89999389648438,147.8300018310547,146.89999389648438,147.02999877929688,144.35000610351562,148.5800018310547,147.0800018310547,140.27999877929688,132.8699951171875,133.1300048828125,134.2899932861328,132.0800018310547,130.07000732421875,133.4199981689453,134.7899932861328,136.82000732421875,139.89999389648438,142.6999969482422,142.1300048828125,137.4600067138672,137.25],\"x\":[\"2017-07-03T00:00:00\",\"2017-07-05T00:00:00\",\"2017-07-06T00:00:00\",\"2017-07-07T00:00:00\",\"2017-07-10T00:00:00\",\"2017-07-11T00:00:00\",\"2017-07-12T00:00:00\",\"2017-07-13T00:00:00\",\"2017-07-14T00:00:00\",\"2017-07-17T00:00:00\",\"2017-07-18T00:00:00\",\"2017-07-19T00:00:00\",\"2017-07-20T00:00:00\",\"2017-07-21T00:00:00\",\"2017-07-24T00:00:00\",\"2017-07-25T00:00:00\",\"2017-07-26T00:00:00\",\"2017-07-27T00:00:00\",\"2017-07-28T00:00:00\",\"2017-07-31T00:00:00\",\"2017-08-01T00:00:00\",\"2017-08-02T00:00:00\",\"2017-08-03T00:00:00\",\"2017-08-04T00:00:00\",\"2017-08-07T00:00:00\",\"2017-08-08T00:00:00\",\"2017-08-09T00:00:00\",\"2017-08-10T00:00:00\",\"2017-08-11T00:00:00\",\"2017-08-14T00:00:00\",\"2017-08-15T00:00:00\",\"2017-08-16T00:00:00\",\"2017-08-17T00:00:00\",\"2017-08-18T00:00:00\",\"2017-08-21T00:00:00\",\"2017-08-22T00:00:00\",\"2017-08-23T00:00:00\",\"2017-08-24T00:00:00\",\"2017-08-25T00:00:00\",\"2017-08-28T00:00:00\",\"2017-08-29T00:00:00\",\"2017-08-30T00:00:00\",\"2017-08-31T00:00:00\",\"2017-09-01T00:00:00\",\"2017-09-05T00:00:00\",\"2017-09-06T00:00:00\",\"2017-09-07T00:00:00\",\"2017-09-08T00:00:00\",\"2017-09-11T00:00:00\",\"2017-09-12T00:00:00\",\"2017-09-13T00:00:00\",\"2017-09-14T00:00:00\",\"2017-09-15T00:00:00\",\"2017-09-18T00:00:00\",\"2017-09-19T00:00:00\",\"2017-09-20T00:00:00\",\"2017-09-21T00:00:00\",\"2017-09-22T00:00:00\",\"2017-09-25T00:00:00\",\"2017-09-26T00:00:00\",\"2017-09-27T00:00:00\",\"2017-09-28T00:00:00\",\"2017-09-29T00:00:00\",\"2017-10-02T00:00:00\",\"2017-10-03T00:00:00\",\"2017-10-04T00:00:00\",\"2017-10-05T00:00:00\",\"2017-10-06T00:00:00\",\"2017-10-09T00:00:00\",\"2017-10-10T00:00:00\",\"2017-10-11T00:00:00\",\"2017-10-12T00:00:00\",\"2017-10-13T00:00:00\",\"2017-10-16T00:00:00\",\"2017-10-17T00:00:00\",\"2017-10-18T00:00:00\",\"2017-10-19T00:00:00\",\"2017-10-20T00:00:00\",\"2017-10-23T00:00:00\",\"2017-10-24T00:00:00\",\"2017-10-25T00:00:00\",\"2017-10-26T00:00:00\",\"2017-10-27T00:00:00\",\"2017-10-30T00:00:00\",\"2017-10-31T00:00:00\",\"2017-11-01T00:00:00\",\"2017-11-02T00:00:00\",\"2017-11-03T00:00:00\",\"2017-11-06T00:00:00\",\"2017-11-07T00:00:00\",\"2017-11-08T00:00:00\",\"2017-11-09T00:00:00\",\"2017-11-10T00:00:00\",\"2017-11-13T00:00:00\",\"2017-11-14T00:00:00\",\"2017-11-15T00:00:00\",\"2017-11-16T00:00:00\",\"2017-11-17T00:00:00\",\"2017-11-20T00:00:00\",\"2017-11-21T00:00:00\",\"2017-11-22T00:00:00\",\"2017-11-24T00:00:00\",\"2017-11-27T00:00:00\",\"2017-11-28T00:00:00\",\"2017-11-29T00:00:00\",\"2017-11-30T00:00:00\",\"2017-12-01T00:00:00\",\"2017-12-04T00:00:00\",\"2017-12-05T00:00:00\",\"2017-12-06T00:00:00\",\"2017-12-07T00:00:00\",\"2017-12-08T00:00:00\",\"2017-12-11T00:00:00\",\"2017-12-12T00:00:00\",\"2017-12-13T00:00:00\",\"2017-12-14T00:00:00\",\"2017-12-15T00:00:00\",\"2017-12-18T00:00:00\",\"2017-12-19T00:00:00\",\"2017-12-20T00:00:00\",\"2017-12-21T00:00:00\",\"2017-12-22T00:00:00\",\"2017-12-26T00:00:00\",\"2017-12-27T00:00:00\",\"2017-12-28T00:00:00\",\"2017-12-29T00:00:00\",\"2018-01-02T00:00:00\",\"2018-01-03T00:00:00\",\"2018-01-04T00:00:00\",\"2018-01-05T00:00:00\",\"2018-01-08T00:00:00\",\"2018-01-09T00:00:00\",\"2018-01-10T00:00:00\",\"2018-01-11T00:00:00\",\"2018-01-12T00:00:00\",\"2018-01-16T00:00:00\",\"2018-01-17T00:00:00\",\"2018-01-18T00:00:00\",\"2018-01-19T00:00:00\",\"2018-01-22T00:00:00\",\"2018-01-23T00:00:00\",\"2018-01-24T00:00:00\",\"2018-01-25T00:00:00\",\"2018-01-26T00:00:00\",\"2018-01-29T00:00:00\",\"2018-01-30T00:00:00\",\"2018-01-31T00:00:00\",\"2018-02-01T00:00:00\",\"2018-02-02T00:00:00\",\"2018-02-05T00:00:00\",\"2018-02-06T00:00:00\",\"2018-02-07T00:00:00\",\"2018-02-08T00:00:00\",\"2018-02-09T00:00:00\",\"2018-02-12T00:00:00\",\"2018-02-13T00:00:00\",\"2018-02-14T00:00:00\",\"2018-02-15T00:00:00\",\"2018-02-16T00:00:00\",\"2018-02-20T00:00:00\",\"2018-02-21T00:00:00\",\"2018-02-22T00:00:00\",\"2018-02-23T00:00:00\",\"2018-02-26T00:00:00\",\"2018-02-27T00:00:00\",\"2018-02-28T00:00:00\",\"2018-03-01T00:00:00\",\"2018-03-02T00:00:00\",\"2018-03-05T00:00:00\",\"2018-03-06T00:00:00\",\"2018-03-07T00:00:00\",\"2018-03-08T00:00:00\",\"2018-03-09T00:00:00\",\"2018-03-12T00:00:00\",\"2018-03-13T00:00:00\",\"2018-03-14T00:00:00\",\"2018-03-15T00:00:00\",\"2018-03-16T00:00:00\",\"2018-03-19T00:00:00\",\"2018-03-20T00:00:00\",\"2018-03-21T00:00:00\",\"2018-03-22T00:00:00\",\"2018-03-23T00:00:00\",\"2018-03-26T00:00:00\",\"2018-03-27T00:00:00\",\"2018-03-28T00:00:00\",\"2018-03-29T00:00:00\",\"2018-04-02T00:00:00\",\"2018-04-03T00:00:00\",\"2018-04-04T00:00:00\",\"2018-04-05T00:00:00\",\"2018-04-06T00:00:00\",\"2018-04-09T00:00:00\",\"2018-04-10T00:00:00\",\"2018-04-11T00:00:00\",\"2018-04-12T00:00:00\",\"2018-04-13T00:00:00\",\"2018-04-16T00:00:00\",\"2018-04-17T00:00:00\",\"2018-04-18T00:00:00\",\"2018-04-19T00:00:00\",\"2018-04-20T00:00:00\",\"2018-04-23T00:00:00\",\"2018-04-24T00:00:00\",\"2018-04-25T00:00:00\",\"2018-04-26T00:00:00\",\"2018-04-27T00:00:00\",\"2018-04-30T00:00:00\",\"2018-05-01T00:00:00\",\"2018-05-02T00:00:00\",\"2018-05-03T00:00:00\",\"2018-05-04T00:00:00\",\"2018-05-07T00:00:00\",\"2018-05-08T00:00:00\",\"2018-05-09T00:00:00\",\"2018-05-10T00:00:00\",\"2018-05-11T00:00:00\",\"2018-05-14T00:00:00\",\"2018-05-15T00:00:00\",\"2018-05-16T00:00:00\",\"2018-05-17T00:00:00\",\"2018-05-18T00:00:00\",\"2018-05-21T00:00:00\",\"2018-05-22T00:00:00\",\"2018-05-23T00:00:00\",\"2018-05-24T00:00:00\",\"2018-05-25T00:00:00\",\"2018-05-29T00:00:00\",\"2018-05-30T00:00:00\",\"2018-05-31T00:00:00\",\"2018-06-01T00:00:00\",\"2018-06-04T00:00:00\",\"2018-06-05T00:00:00\",\"2018-06-06T00:00:00\",\"2018-06-07T00:00:00\",\"2018-06-08T00:00:00\",\"2018-06-11T00:00:00\",\"2018-06-12T00:00:00\",\"2018-06-13T00:00:00\",\"2018-06-14T00:00:00\",\"2018-06-15T00:00:00\",\"2018-06-18T00:00:00\",\"2018-06-19T00:00:00\",\"2018-06-20T00:00:00\",\"2018-06-21T00:00:00\",\"2018-06-22T00:00:00\",\"2018-06-25T00:00:00\",\"2018-06-26T00:00:00\",\"2018-06-27T00:00:00\",\"2018-06-28T00:00:00\",\"2018-06-29T00:00:00\",\"2018-07-02T00:00:00\",\"2018-07-03T00:00:00\",\"2018-07-05T00:00:00\",\"2018-07-06T00:00:00\",\"2018-07-09T00:00:00\",\"2018-07-10T00:00:00\",\"2018-07-11T00:00:00\",\"2018-07-12T00:00:00\",\"2018-07-13T00:00:00\",\"2018-07-16T00:00:00\",\"2018-07-17T00:00:00\",\"2018-07-18T00:00:00\",\"2018-07-19T00:00:00\",\"2018-07-20T00:00:00\",\"2018-07-23T00:00:00\",\"2018-07-24T00:00:00\",\"2018-07-25T00:00:00\",\"2018-07-26T00:00:00\",\"2018-07-27T00:00:00\",\"2018-07-30T00:00:00\",\"2018-07-31T00:00:00\",\"2018-08-01T00:00:00\",\"2018-08-02T00:00:00\",\"2018-08-03T00:00:00\",\"2018-08-06T00:00:00\",\"2018-08-07T00:00:00\",\"2018-08-08T00:00:00\",\"2018-08-09T00:00:00\",\"2018-08-10T00:00:00\",\"2018-08-13T00:00:00\",\"2018-08-14T00:00:00\",\"2018-08-15T00:00:00\",\"2018-08-16T00:00:00\",\"2018-08-17T00:00:00\",\"2018-08-20T00:00:00\",\"2018-08-21T00:00:00\",\"2018-08-22T00:00:00\",\"2018-08-23T00:00:00\",\"2018-08-24T00:00:00\",\"2018-08-27T00:00:00\",\"2018-08-28T00:00:00\",\"2018-08-29T00:00:00\",\"2018-08-30T00:00:00\",\"2018-08-31T00:00:00\",\"2018-09-04T00:00:00\",\"2018-09-05T00:00:00\",\"2018-09-06T00:00:00\",\"2018-09-07T00:00:00\",\"2018-09-10T00:00:00\",\"2018-09-11T00:00:00\",\"2018-09-12T00:00:00\",\"2018-09-13T00:00:00\",\"2018-09-14T00:00:00\",\"2018-09-17T00:00:00\",\"2018-09-18T00:00:00\",\"2018-09-19T00:00:00\",\"2018-09-20T00:00:00\",\"2018-09-21T00:00:00\",\"2018-09-24T00:00:00\",\"2018-09-25T00:00:00\",\"2018-09-26T00:00:00\",\"2018-09-27T00:00:00\",\"2018-09-28T00:00:00\",\"2018-10-01T00:00:00\",\"2018-10-02T00:00:00\",\"2018-10-03T00:00:00\",\"2018-10-04T00:00:00\",\"2018-10-05T00:00:00\",\"2018-10-08T00:00:00\",\"2018-10-09T00:00:00\",\"2018-10-10T00:00:00\",\"2018-10-11T00:00:00\",\"2018-10-12T00:00:00\",\"2018-10-15T00:00:00\",\"2018-10-16T00:00:00\",\"2018-10-17T00:00:00\",\"2018-10-18T00:00:00\",\"2018-10-19T00:00:00\",\"2018-10-22T00:00:00\",\"2018-10-23T00:00:00\",\"2018-10-24T00:00:00\",\"2018-10-25T00:00:00\",\"2018-10-26T00:00:00\",\"2018-10-29T00:00:00\",\"2018-10-30T00:00:00\",\"2018-10-31T00:00:00\",\"2018-11-01T00:00:00\",\"2018-11-02T00:00:00\",\"2018-11-05T00:00:00\",\"2018-11-06T00:00:00\",\"2018-11-07T00:00:00\",\"2018-11-08T00:00:00\",\"2018-11-09T00:00:00\",\"2018-11-12T00:00:00\",\"2018-11-13T00:00:00\",\"2018-11-14T00:00:00\",\"2018-11-15T00:00:00\",\"2018-11-16T00:00:00\",\"2018-11-19T00:00:00\",\"2018-11-20T00:00:00\",\"2018-11-21T00:00:00\",\"2018-11-23T00:00:00\",\"2018-11-26T00:00:00\",\"2018-11-27T00:00:00\",\"2018-11-28T00:00:00\",\"2018-11-29T00:00:00\",\"2018-11-30T00:00:00\",\"2018-12-03T00:00:00\",\"2018-12-04T00:00:00\",\"2018-12-06T00:00:00\",\"2018-12-07T00:00:00\",\"2018-12-10T00:00:00\",\"2018-12-11T00:00:00\",\"2018-12-12T00:00:00\",\"2018-12-13T00:00:00\",\"2018-12-14T00:00:00\",\"2018-12-17T00:00:00\",\"2018-12-18T00:00:00\",\"2018-12-19T00:00:00\",\"2018-12-20T00:00:00\",\"2018-12-21T00:00:00\",\"2018-12-24T00:00:00\",\"2018-12-26T00:00:00\",\"2018-12-27T00:00:00\",\"2018-12-28T00:00:00\",\"2018-12-31T00:00:00\",\"2019-01-02T00:00:00\",\"2019-01-03T00:00:00\",\"2019-01-04T00:00:00\",\"2019-01-07T00:00:00\",\"2019-01-08T00:00:00\",\"2019-01-09T00:00:00\",\"2019-01-10T00:00:00\",\"2019-01-11T00:00:00\",\"2019-01-14T00:00:00\",\"2019-01-15T00:00:00\",\"2019-01-16T00:00:00\",\"2019-01-17T00:00:00\",\"2019-01-18T00:00:00\",\"2019-01-22T00:00:00\",\"2019-01-23T00:00:00\",\"2019-01-24T00:00:00\",\"2019-01-25T00:00:00\",\"2019-01-28T00:00:00\",\"2019-01-29T00:00:00\",\"2019-01-30T00:00:00\",\"2019-01-31T00:00:00\",\"2019-02-01T00:00:00\",\"2019-02-04T00:00:00\",\"2019-02-05T00:00:00\",\"2019-02-06T00:00:00\",\"2019-02-07T00:00:00\",\"2019-02-08T00:00:00\",\"2019-02-11T00:00:00\",\"2019-02-12T00:00:00\",\"2019-02-13T00:00:00\",\"2019-02-14T00:00:00\",\"2019-02-15T00:00:00\",\"2019-02-19T00:00:00\",\"2019-02-20T00:00:00\",\"2019-02-21T00:00:00\",\"2019-02-22T00:00:00\",\"2019-02-25T00:00:00\",\"2019-02-26T00:00:00\",\"2019-02-27T00:00:00\",\"2019-02-28T00:00:00\",\"2019-03-01T00:00:00\",\"2019-03-04T00:00:00\",\"2019-03-05T00:00:00\",\"2019-03-06T00:00:00\",\"2019-03-07T00:00:00\",\"2019-03-08T00:00:00\",\"2019-03-11T00:00:00\",\"2019-03-12T00:00:00\",\"2019-03-13T00:00:00\",\"2019-03-14T00:00:00\",\"2019-03-15T00:00:00\",\"2019-03-18T00:00:00\",\"2019-03-19T00:00:00\",\"2019-03-20T00:00:00\",\"2019-03-21T00:00:00\",\"2019-03-22T00:00:00\",\"2019-03-25T00:00:00\",\"2019-03-26T00:00:00\",\"2019-03-27T00:00:00\",\"2019-03-28T00:00:00\",\"2019-03-29T00:00:00\",\"2019-04-01T00:00:00\",\"2019-04-02T00:00:00\",\"2019-04-03T00:00:00\",\"2019-04-04T00:00:00\",\"2019-04-05T00:00:00\",\"2019-04-08T00:00:00\",\"2019-04-09T00:00:00\",\"2019-04-10T00:00:00\",\"2019-04-11T00:00:00\",\"2019-04-12T00:00:00\",\"2019-04-15T00:00:00\",\"2019-04-16T00:00:00\",\"2019-04-17T00:00:00\",\"2019-04-18T00:00:00\",\"2019-04-22T00:00:00\",\"2019-04-23T00:00:00\",\"2019-04-24T00:00:00\",\"2019-04-25T00:00:00\",\"2019-04-26T00:00:00\",\"2019-04-29T00:00:00\",\"2019-04-30T00:00:00\",\"2019-05-01T00:00:00\",\"2019-05-02T00:00:00\",\"2019-05-03T00:00:00\",\"2019-05-06T00:00:00\",\"2019-05-07T00:00:00\",\"2019-05-08T00:00:00\",\"2019-05-09T00:00:00\",\"2019-05-10T00:00:00\",\"2019-05-13T00:00:00\",\"2019-05-14T00:00:00\",\"2019-05-15T00:00:00\",\"2019-05-16T00:00:00\",\"2019-05-17T00:00:00\",\"2019-05-20T00:00:00\",\"2019-05-21T00:00:00\",\"2019-05-22T00:00:00\",\"2019-05-23T00:00:00\",\"2019-05-24T00:00:00\",\"2019-05-28T00:00:00\",\"2019-05-29T00:00:00\",\"2019-05-30T00:00:00\",\"2019-05-31T00:00:00\",\"2019-06-03T00:00:00\",\"2019-06-04T00:00:00\",\"2019-06-05T00:00:00\",\"2019-06-06T00:00:00\",\"2019-06-07T00:00:00\",\"2019-06-10T00:00:00\",\"2019-06-11T00:00:00\",\"2019-06-12T00:00:00\",\"2019-06-13T00:00:00\",\"2019-06-14T00:00:00\",\"2019-06-17T00:00:00\",\"2019-06-18T00:00:00\",\"2019-06-19T00:00:00\",\"2019-06-20T00:00:00\",\"2019-06-21T00:00:00\",\"2019-06-24T00:00:00\",\"2019-06-25T00:00:00\",\"2019-06-26T00:00:00\",\"2019-06-27T00:00:00\",\"2019-06-28T00:00:00\",\"2019-07-01T00:00:00\",\"2019-07-02T00:00:00\",\"2019-07-03T00:00:00\",\"2019-07-05T00:00:00\",\"2019-07-08T00:00:00\",\"2019-07-09T00:00:00\",\"2019-07-10T00:00:00\",\"2019-07-11T00:00:00\",\"2019-07-12T00:00:00\",\"2019-07-15T00:00:00\",\"2019-07-16T00:00:00\",\"2019-07-17T00:00:00\",\"2019-07-18T00:00:00\",\"2019-07-19T00:00:00\",\"2019-07-22T00:00:00\",\"2019-07-23T00:00:00\",\"2019-07-24T00:00:00\",\"2019-07-25T00:00:00\",\"2019-07-26T00:00:00\",\"2019-07-29T00:00:00\",\"2019-07-30T00:00:00\",\"2019-07-31T00:00:00\",\"2019-08-01T00:00:00\",\"2019-08-02T00:00:00\",\"2019-08-05T00:00:00\",\"2019-08-06T00:00:00\",\"2019-08-07T00:00:00\",\"2019-08-08T00:00:00\",\"2019-08-09T00:00:00\",\"2019-08-12T00:00:00\",\"2019-08-13T00:00:00\",\"2019-08-14T00:00:00\",\"2019-08-15T00:00:00\",\"2019-08-16T00:00:00\",\"2019-08-19T00:00:00\",\"2019-08-20T00:00:00\",\"2019-08-21T00:00:00\",\"2019-08-22T00:00:00\",\"2019-08-23T00:00:00\",\"2019-08-26T00:00:00\",\"2019-08-27T00:00:00\",\"2019-08-28T00:00:00\",\"2019-08-29T00:00:00\",\"2019-08-30T00:00:00\",\"2019-09-03T00:00:00\",\"2019-09-04T00:00:00\",\"2019-09-05T00:00:00\",\"2019-09-06T00:00:00\",\"2019-09-09T00:00:00\",\"2019-09-10T00:00:00\",\"2019-09-11T00:00:00\",\"2019-09-12T00:00:00\",\"2019-09-13T00:00:00\",\"2019-09-16T00:00:00\",\"2019-09-17T00:00:00\",\"2019-09-18T00:00:00\",\"2019-09-19T00:00:00\",\"2019-09-20T00:00:00\",\"2019-09-23T00:00:00\",\"2019-09-24T00:00:00\",\"2019-09-25T00:00:00\",\"2019-09-26T00:00:00\",\"2019-09-27T00:00:00\",\"2019-09-30T00:00:00\",\"2019-10-01T00:00:00\",\"2019-10-02T00:00:00\",\"2019-10-03T00:00:00\",\"2019-10-04T00:00:00\",\"2019-10-07T00:00:00\",\"2019-10-08T00:00:00\",\"2019-10-09T00:00:00\",\"2019-10-10T00:00:00\",\"2019-10-11T00:00:00\",\"2019-10-14T00:00:00\",\"2019-10-15T00:00:00\",\"2019-10-16T00:00:00\",\"2019-10-17T00:00:00\",\"2019-10-18T00:00:00\",\"2019-10-21T00:00:00\",\"2019-10-22T00:00:00\",\"2019-10-23T00:00:00\",\"2019-10-24T00:00:00\",\"2019-10-25T00:00:00\",\"2019-10-28T00:00:00\",\"2019-10-29T00:00:00\",\"2019-10-30T00:00:00\",\"2019-10-31T00:00:00\",\"2019-11-01T00:00:00\",\"2019-11-04T00:00:00\",\"2019-11-05T00:00:00\",\"2019-11-06T00:00:00\",\"2019-11-07T00:00:00\",\"2019-11-08T00:00:00\",\"2019-11-11T00:00:00\",\"2019-11-12T00:00:00\",\"2019-11-13T00:00:00\",\"2019-11-14T00:00:00\",\"2019-11-15T00:00:00\",\"2019-11-18T00:00:00\",\"2019-11-19T00:00:00\",\"2019-11-20T00:00:00\",\"2019-11-21T00:00:00\",\"2019-11-22T00:00:00\",\"2019-11-25T00:00:00\",\"2019-11-26T00:00:00\",\"2019-11-27T00:00:00\",\"2019-11-29T00:00:00\",\"2019-12-02T00:00:00\",\"2019-12-03T00:00:00\",\"2019-12-04T00:00:00\",\"2019-12-05T00:00:00\",\"2019-12-06T00:00:00\",\"2019-12-09T00:00:00\",\"2019-12-10T00:00:00\",\"2019-12-11T00:00:00\",\"2019-12-12T00:00:00\",\"2019-12-13T00:00:00\",\"2019-12-16T00:00:00\",\"2019-12-17T00:00:00\",\"2019-12-18T00:00:00\",\"2019-12-19T00:00:00\",\"2019-12-20T00:00:00\",\"2019-12-23T00:00:00\",\"2019-12-24T00:00:00\",\"2019-12-26T00:00:00\",\"2019-12-27T00:00:00\",\"2019-12-30T00:00:00\",\"2019-12-31T00:00:00\",\"2020-01-02T00:00:00\",\"2020-01-03T00:00:00\",\"2020-01-06T00:00:00\",\"2020-01-07T00:00:00\",\"2020-01-08T00:00:00\",\"2020-01-09T00:00:00\",\"2020-01-10T00:00:00\",\"2020-01-13T00:00:00\",\"2020-01-14T00:00:00\",\"2020-01-15T00:00:00\",\"2020-01-16T00:00:00\",\"2020-01-17T00:00:00\",\"2020-01-21T00:00:00\",\"2020-01-22T00:00:00\",\"2020-01-23T00:00:00\",\"2020-01-24T00:00:00\",\"2020-01-27T00:00:00\",\"2020-01-28T00:00:00\",\"2020-01-29T00:00:00\",\"2020-01-30T00:00:00\",\"2020-01-31T00:00:00\",\"2020-02-03T00:00:00\",\"2020-02-04T00:00:00\",\"2020-02-05T00:00:00\",\"2020-02-06T00:00:00\",\"2020-02-07T00:00:00\",\"2020-02-10T00:00:00\",\"2020-02-11T00:00:00\",\"2020-02-12T00:00:00\",\"2020-02-13T00:00:00\",\"2020-02-14T00:00:00\",\"2020-02-18T00:00:00\",\"2020-02-19T00:00:00\",\"2020-02-20T00:00:00\",\"2020-02-21T00:00:00\",\"2020-02-24T00:00:00\",\"2020-02-25T00:00:00\",\"2020-02-26T00:00:00\",\"2020-02-27T00:00:00\",\"2020-02-28T00:00:00\",\"2020-03-02T00:00:00\",\"2020-03-03T00:00:00\",\"2020-03-04T00:00:00\",\"2020-03-05T00:00:00\",\"2020-03-06T00:00:00\",\"2020-03-09T00:00:00\",\"2020-03-10T00:00:00\",\"2020-03-11T00:00:00\",\"2020-03-12T00:00:00\",\"2020-03-13T00:00:00\",\"2020-03-16T00:00:00\",\"2020-03-17T00:00:00\",\"2020-03-18T00:00:00\",\"2020-03-19T00:00:00\",\"2020-03-20T00:00:00\",\"2020-03-23T00:00:00\",\"2020-03-24T00:00:00\",\"2020-03-25T00:00:00\",\"2020-03-26T00:00:00\",\"2020-03-27T00:00:00\",\"2020-03-30T00:00:00\",\"2020-03-31T00:00:00\",\"2020-04-01T00:00:00\",\"2020-04-02T00:00:00\",\"2020-04-03T00:00:00\",\"2020-04-06T00:00:00\",\"2020-04-07T00:00:00\",\"2020-04-08T00:00:00\",\"2020-04-09T00:00:00\",\"2020-04-13T00:00:00\",\"2020-04-14T00:00:00\",\"2020-04-15T00:00:00\",\"2020-04-16T00:00:00\",\"2020-04-17T00:00:00\",\"2020-04-20T00:00:00\",\"2020-04-21T00:00:00\",\"2020-04-22T00:00:00\",\"2020-04-23T00:00:00\",\"2020-04-24T00:00:00\",\"2020-04-27T00:00:00\",\"2020-04-28T00:00:00\",\"2020-04-29T00:00:00\",\"2020-04-30T00:00:00\",\"2020-05-01T00:00:00\",\"2020-05-04T00:00:00\",\"2020-05-05T00:00:00\",\"2020-05-06T00:00:00\",\"2020-05-07T00:00:00\",\"2020-05-08T00:00:00\",\"2020-05-11T00:00:00\",\"2020-05-12T00:00:00\",\"2020-05-13T00:00:00\",\"2020-05-14T00:00:00\",\"2020-05-15T00:00:00\",\"2020-05-18T00:00:00\",\"2020-05-19T00:00:00\",\"2020-05-20T00:00:00\",\"2020-05-21T00:00:00\",\"2020-05-22T00:00:00\",\"2020-05-26T00:00:00\",\"2020-05-27T00:00:00\",\"2020-05-28T00:00:00\",\"2020-05-29T00:00:00\",\"2020-06-01T00:00:00\",\"2020-06-02T00:00:00\",\"2020-06-03T00:00:00\",\"2020-06-04T00:00:00\",\"2020-06-05T00:00:00\",\"2020-06-08T00:00:00\",\"2020-06-09T00:00:00\",\"2020-06-10T00:00:00\",\"2020-06-11T00:00:00\",\"2020-06-12T00:00:00\",\"2020-06-15T00:00:00\",\"2020-06-16T00:00:00\",\"2020-06-17T00:00:00\",\"2020-06-18T00:00:00\",\"2020-06-19T00:00:00\",\"2020-06-22T00:00:00\",\"2020-06-23T00:00:00\",\"2020-06-24T00:00:00\",\"2020-06-25T00:00:00\",\"2020-06-26T00:00:00\",\"2020-06-29T00:00:00\",\"2020-06-30T00:00:00\",\"2020-07-01T00:00:00\",\"2020-07-02T00:00:00\",\"2020-07-06T00:00:00\",\"2020-07-07T00:00:00\",\"2020-07-08T00:00:00\",\"2020-07-09T00:00:00\",\"2020-07-10T00:00:00\",\"2020-07-13T00:00:00\",\"2020-07-14T00:00:00\",\"2020-07-15T00:00:00\",\"2020-07-16T00:00:00\",\"2020-07-17T00:00:00\",\"2020-07-20T00:00:00\",\"2020-07-21T00:00:00\",\"2020-07-22T00:00:00\",\"2020-07-23T00:00:00\",\"2020-07-24T00:00:00\",\"2020-07-27T00:00:00\",\"2020-07-28T00:00:00\",\"2020-07-29T00:00:00\",\"2020-07-30T00:00:00\",\"2020-07-31T00:00:00\",\"2020-08-03T00:00:00\",\"2020-08-04T00:00:00\",\"2020-08-05T00:00:00\",\"2020-08-06T00:00:00\",\"2020-08-07T00:00:00\",\"2020-08-10T00:00:00\",\"2020-08-11T00:00:00\",\"2020-08-12T00:00:00\",\"2020-08-13T00:00:00\",\"2020-08-14T00:00:00\",\"2020-08-17T00:00:00\",\"2020-08-18T00:00:00\",\"2020-08-19T00:00:00\",\"2020-08-20T00:00:00\",\"2020-08-21T00:00:00\",\"2020-08-24T00:00:00\",\"2020-08-25T00:00:00\",\"2020-08-26T00:00:00\",\"2020-08-27T00:00:00\",\"2020-08-28T00:00:00\",\"2020-08-31T00:00:00\",\"2020-09-01T00:00:00\",\"2020-09-02T00:00:00\",\"2020-09-03T00:00:00\",\"2020-09-04T00:00:00\",\"2020-09-08T00:00:00\",\"2020-09-09T00:00:00\",\"2020-09-10T00:00:00\",\"2020-09-11T00:00:00\",\"2020-09-14T00:00:00\",\"2020-09-15T00:00:00\",\"2020-09-16T00:00:00\",\"2020-09-17T00:00:00\",\"2020-09-18T00:00:00\",\"2020-09-21T00:00:00\",\"2020-09-22T00:00:00\",\"2020-09-23T00:00:00\",\"2020-09-24T00:00:00\",\"2020-09-25T00:00:00\",\"2020-09-28T00:00:00\",\"2020-09-29T00:00:00\",\"2020-09-30T00:00:00\",\"2020-10-01T00:00:00\",\"2020-10-02T00:00:00\",\"2020-10-05T00:00:00\",\"2020-10-06T00:00:00\",\"2020-10-07T00:00:00\",\"2020-10-08T00:00:00\",\"2020-10-09T00:00:00\",\"2020-10-12T00:00:00\",\"2020-10-13T00:00:00\",\"2020-10-14T00:00:00\",\"2020-10-15T00:00:00\",\"2020-10-16T00:00:00\",\"2020-10-19T00:00:00\",\"2020-10-20T00:00:00\",\"2020-10-21T00:00:00\",\"2020-10-22T00:00:00\",\"2020-10-23T00:00:00\",\"2020-10-26T00:00:00\",\"2020-10-27T00:00:00\",\"2020-10-28T00:00:00\",\"2020-10-29T00:00:00\",\"2020-10-30T00:00:00\",\"2020-11-02T00:00:00\",\"2020-11-03T00:00:00\",\"2020-11-04T00:00:00\",\"2020-11-05T00:00:00\",\"2020-11-06T00:00:00\",\"2020-11-09T00:00:00\",\"2020-11-10T00:00:00\",\"2020-11-11T00:00:00\",\"2020-11-12T00:00:00\",\"2020-11-13T00:00:00\",\"2020-11-16T00:00:00\",\"2020-11-17T00:00:00\",\"2020-11-18T00:00:00\",\"2020-11-19T00:00:00\",\"2020-11-20T00:00:00\",\"2020-11-23T00:00:00\",\"2020-11-24T00:00:00\",\"2020-11-25T00:00:00\",\"2020-11-27T00:00:00\",\"2020-11-30T00:00:00\",\"2020-12-01T00:00:00\",\"2020-12-02T00:00:00\",\"2020-12-03T00:00:00\",\"2020-12-04T00:00:00\",\"2020-12-07T00:00:00\",\"2020-12-08T00:00:00\",\"2020-12-09T00:00:00\",\"2020-12-10T00:00:00\",\"2020-12-11T00:00:00\",\"2020-12-14T00:00:00\",\"2020-12-15T00:00:00\",\"2020-12-16T00:00:00\",\"2020-12-17T00:00:00\",\"2020-12-18T00:00:00\",\"2020-12-21T00:00:00\",\"2020-12-22T00:00:00\",\"2020-12-23T00:00:00\",\"2020-12-24T00:00:00\",\"2020-12-28T00:00:00\",\"2020-12-29T00:00:00\",\"2020-12-30T00:00:00\",\"2020-12-31T00:00:00\",\"2021-01-04T00:00:00\",\"2021-01-05T00:00:00\",\"2021-01-06T00:00:00\",\"2021-01-07T00:00:00\",\"2021-01-08T00:00:00\",\"2021-01-11T00:00:00\",\"2021-01-12T00:00:00\",\"2021-01-13T00:00:00\",\"2021-01-14T00:00:00\",\"2021-01-15T00:00:00\",\"2021-01-19T00:00:00\",\"2021-01-20T00:00:00\",\"2021-01-21T00:00:00\",\"2021-01-22T00:00:00\",\"2021-01-25T00:00:00\",\"2021-01-26T00:00:00\",\"2021-01-27T00:00:00\",\"2021-01-28T00:00:00\",\"2021-01-29T00:00:00\",\"2021-02-01T00:00:00\",\"2021-02-02T00:00:00\",\"2021-02-03T00:00:00\",\"2021-02-04T00:00:00\",\"2021-02-05T00:00:00\",\"2021-02-08T00:00:00\",\"2021-02-09T00:00:00\",\"2021-02-10T00:00:00\",\"2021-02-11T00:00:00\",\"2021-02-12T00:00:00\",\"2021-02-16T00:00:00\",\"2021-02-17T00:00:00\",\"2021-02-18T00:00:00\",\"2021-02-19T00:00:00\",\"2021-02-22T00:00:00\",\"2021-02-23T00:00:00\",\"2021-02-24T00:00:00\",\"2021-02-25T00:00:00\",\"2021-02-26T00:00:00\",\"2021-03-01T00:00:00\",\"2021-03-02T00:00:00\",\"2021-03-03T00:00:00\",\"2021-03-04T00:00:00\",\"2021-03-05T00:00:00\",\"2021-03-08T00:00:00\",\"2021-03-09T00:00:00\",\"2021-03-10T00:00:00\",\"2021-03-11T00:00:00\",\"2021-03-12T00:00:00\",\"2021-03-15T00:00:00\",\"2021-03-16T00:00:00\",\"2021-03-17T00:00:00\",\"2021-03-18T00:00:00\",\"2021-03-19T00:00:00\",\"2021-03-22T00:00:00\",\"2021-03-23T00:00:00\",\"2021-03-24T00:00:00\",\"2021-03-25T00:00:00\",\"2021-03-26T00:00:00\",\"2021-03-29T00:00:00\",\"2021-03-30T00:00:00\",\"2021-03-31T00:00:00\",\"2021-04-01T00:00:00\",\"2021-04-05T00:00:00\",\"2021-04-06T00:00:00\",\"2021-04-07T00:00:00\",\"2021-04-08T00:00:00\",\"2021-04-09T00:00:00\",\"2021-04-12T00:00:00\",\"2021-04-13T00:00:00\",\"2021-04-14T00:00:00\",\"2021-04-15T00:00:00\",\"2021-04-16T00:00:00\",\"2021-04-19T00:00:00\",\"2021-04-20T00:00:00\",\"2021-04-21T00:00:00\",\"2021-04-22T00:00:00\",\"2021-04-23T00:00:00\",\"2021-04-26T00:00:00\",\"2021-04-27T00:00:00\",\"2021-04-28T00:00:00\",\"2021-04-29T00:00:00\",\"2021-04-30T00:00:00\",\"2021-05-03T00:00:00\",\"2021-05-04T00:00:00\",\"2021-05-05T00:00:00\",\"2021-05-06T00:00:00\",\"2021-05-07T00:00:00\",\"2021-05-10T00:00:00\",\"2021-05-11T00:00:00\",\"2021-05-12T00:00:00\",\"2021-05-13T00:00:00\",\"2021-05-14T00:00:00\",\"2021-05-17T00:00:00\",\"2021-05-18T00:00:00\",\"2021-05-19T00:00:00\",\"2021-05-20T00:00:00\",\"2021-05-21T00:00:00\",\"2021-05-24T00:00:00\",\"2021-05-25T00:00:00\",\"2021-05-26T00:00:00\",\"2021-05-27T00:00:00\",\"2021-05-28T00:00:00\",\"2021-06-01T00:00:00\",\"2021-06-02T00:00:00\",\"2021-06-03T00:00:00\",\"2021-06-04T00:00:00\",\"2021-06-07T00:00:00\",\"2021-06-08T00:00:00\",\"2021-06-09T00:00:00\",\"2021-06-10T00:00:00\",\"2021-06-11T00:00:00\",\"2021-06-14T00:00:00\",\"2021-06-15T00:00:00\",\"2021-06-16T00:00:00\",\"2021-06-17T00:00:00\",\"2021-06-18T00:00:00\",\"2021-06-21T00:00:00\",\"2021-06-22T00:00:00\",\"2021-06-23T00:00:00\",\"2021-06-24T00:00:00\",\"2021-06-25T00:00:00\",\"2021-06-28T00:00:00\",\"2021-06-29T00:00:00\",\"2021-06-30T00:00:00\",\"2021-07-01T00:00:00\",\"2021-07-02T00:00:00\",\"2021-07-06T00:00:00\",\"2021-07-07T00:00:00\",\"2021-07-08T00:00:00\",\"2021-07-09T00:00:00\",\"2021-07-12T00:00:00\",\"2021-07-13T00:00:00\",\"2021-07-14T00:00:00\",\"2021-07-15T00:00:00\",\"2021-07-16T00:00:00\",\"2021-07-19T00:00:00\",\"2021-07-20T00:00:00\",\"2021-07-21T00:00:00\",\"2021-07-22T00:00:00\",\"2021-07-23T00:00:00\",\"2021-07-26T00:00:00\",\"2021-07-27T00:00:00\",\"2021-07-28T00:00:00\",\"2021-07-29T00:00:00\",\"2021-07-30T00:00:00\",\"2021-08-02T00:00:00\",\"2021-08-03T00:00:00\",\"2021-08-04T00:00:00\",\"2021-08-05T00:00:00\",\"2021-08-06T00:00:00\",\"2021-08-09T00:00:00\",\"2021-08-10T00:00:00\",\"2021-08-11T00:00:00\",\"2021-08-12T00:00:00\",\"2021-08-13T00:00:00\",\"2021-08-16T00:00:00\",\"2021-08-17T00:00:00\",\"2021-08-18T00:00:00\",\"2021-08-19T00:00:00\",\"2021-08-20T00:00:00\",\"2021-08-23T00:00:00\",\"2021-08-24T00:00:00\",\"2021-08-25T00:00:00\",\"2021-08-26T00:00:00\",\"2021-08-27T00:00:00\",\"2021-08-30T00:00:00\",\"2021-08-31T00:00:00\",\"2021-09-01T00:00:00\",\"2021-09-02T00:00:00\",\"2021-09-03T00:00:00\",\"2021-09-07T00:00:00\",\"2021-09-08T00:00:00\",\"2021-09-09T00:00:00\",\"2021-09-10T00:00:00\",\"2021-09-13T00:00:00\",\"2021-09-14T00:00:00\",\"2021-09-15T00:00:00\",\"2021-09-16T00:00:00\",\"2021-09-17T00:00:00\",\"2021-09-20T00:00:00\",\"2021-09-21T00:00:00\",\"2021-09-22T00:00:00\",\"2021-09-23T00:00:00\",\"2021-09-24T00:00:00\",\"2021-09-27T00:00:00\",\"2021-09-28T00:00:00\",\"2021-09-29T00:00:00\",\"2021-09-30T00:00:00\",\"2021-10-01T00:00:00\",\"2021-10-04T00:00:00\",\"2021-10-05T00:00:00\",\"2021-10-06T00:00:00\",\"2021-10-07T00:00:00\",\"2021-10-08T00:00:00\",\"2021-10-11T00:00:00\",\"2021-10-12T00:00:00\",\"2021-10-13T00:00:00\",\"2021-10-14T00:00:00\",\"2021-10-15T00:00:00\",\"2021-10-18T00:00:00\",\"2021-10-19T00:00:00\",\"2021-10-20T00:00:00\",\"2021-10-21T00:00:00\",\"2021-10-22T00:00:00\",\"2021-10-25T00:00:00\",\"2021-10-26T00:00:00\",\"2021-10-27T00:00:00\",\"2021-10-28T00:00:00\",\"2021-10-29T00:00:00\",\"2021-11-01T00:00:00\",\"2021-11-02T00:00:00\",\"2021-11-03T00:00:00\",\"2021-11-04T00:00:00\",\"2021-11-05T00:00:00\",\"2021-11-08T00:00:00\",\"2021-11-09T00:00:00\",\"2021-11-10T00:00:00\",\"2021-11-11T00:00:00\",\"2021-11-12T00:00:00\",\"2021-11-15T00:00:00\",\"2021-11-16T00:00:00\",\"2021-11-17T00:00:00\",\"2021-11-18T00:00:00\",\"2021-11-19T00:00:00\",\"2021-11-22T00:00:00\",\"2021-11-23T00:00:00\",\"2021-11-24T00:00:00\",\"2021-11-26T00:00:00\",\"2021-11-29T00:00:00\",\"2021-11-30T00:00:00\",\"2021-12-01T00:00:00\",\"2021-12-02T00:00:00\",\"2021-12-03T00:00:00\",\"2021-12-06T00:00:00\",\"2021-12-07T00:00:00\",\"2021-12-08T00:00:00\",\"2021-12-09T00:00:00\",\"2021-12-10T00:00:00\",\"2021-12-13T00:00:00\",\"2021-12-14T00:00:00\",\"2021-12-15T00:00:00\",\"2021-12-16T00:00:00\",\"2021-12-17T00:00:00\",\"2021-12-20T00:00:00\",\"2021-12-21T00:00:00\",\"2021-12-22T00:00:00\",\"2021-12-23T00:00:00\",\"2021-12-27T00:00:00\",\"2021-12-28T00:00:00\",\"2021-12-29T00:00:00\",\"2021-12-30T00:00:00\",\"2021-12-31T00:00:00\",\"2022-01-03T00:00:00\",\"2022-01-04T00:00:00\",\"2022-01-05T00:00:00\",\"2022-01-06T00:00:00\",\"2022-01-07T00:00:00\",\"2022-01-10T00:00:00\",\"2022-01-11T00:00:00\",\"2022-01-12T00:00:00\",\"2022-01-13T00:00:00\",\"2022-01-14T00:00:00\",\"2022-01-18T00:00:00\",\"2022-01-19T00:00:00\",\"2022-01-20T00:00:00\",\"2022-01-21T00:00:00\",\"2022-01-24T00:00:00\",\"2022-01-25T00:00:00\",\"2022-01-26T00:00:00\",\"2022-01-27T00:00:00\",\"2022-01-28T00:00:00\",\"2022-01-31T00:00:00\",\"2022-02-01T00:00:00\",\"2022-02-02T00:00:00\",\"2022-02-03T00:00:00\",\"2022-02-04T00:00:00\",\"2022-02-07T00:00:00\",\"2022-02-08T00:00:00\",\"2022-02-09T00:00:00\",\"2022-02-10T00:00:00\",\"2022-02-11T00:00:00\",\"2022-02-14T00:00:00\",\"2022-02-15T00:00:00\",\"2022-02-16T00:00:00\",\"2022-02-17T00:00:00\",\"2022-02-18T00:00:00\",\"2022-02-22T00:00:00\",\"2022-02-23T00:00:00\",\"2022-02-24T00:00:00\",\"2022-02-25T00:00:00\",\"2022-02-28T00:00:00\",\"2022-03-01T00:00:00\",\"2022-03-02T00:00:00\",\"2022-03-03T00:00:00\",\"2022-03-04T00:00:00\",\"2022-03-07T00:00:00\",\"2022-03-08T00:00:00\",\"2022-03-09T00:00:00\",\"2022-03-10T00:00:00\",\"2022-03-11T00:00:00\",\"2022-03-14T00:00:00\",\"2022-03-15T00:00:00\",\"2022-03-16T00:00:00\",\"2022-03-17T00:00:00\",\"2022-03-18T00:00:00\",\"2022-03-21T00:00:00\",\"2022-03-22T00:00:00\",\"2022-03-23T00:00:00\",\"2022-03-24T00:00:00\",\"2022-03-25T00:00:00\",\"2022-03-28T00:00:00\",\"2022-03-29T00:00:00\",\"2022-03-30T00:00:00\",\"2022-03-31T00:00:00\",\"2022-04-01T00:00:00\",\"2022-04-04T00:00:00\",\"2022-04-05T00:00:00\",\"2022-04-06T00:00:00\",\"2022-04-07T00:00:00\",\"2022-04-08T00:00:00\",\"2022-04-11T00:00:00\",\"2022-04-12T00:00:00\",\"2022-04-13T00:00:00\",\"2022-04-14T00:00:00\",\"2022-04-18T00:00:00\",\"2022-04-19T00:00:00\",\"2022-04-20T00:00:00\",\"2022-04-21T00:00:00\",\"2022-04-22T00:00:00\",\"2022-04-25T00:00:00\",\"2022-04-26T00:00:00\",\"2022-04-27T00:00:00\",\"2022-04-28T00:00:00\",\"2022-04-29T00:00:00\",\"2022-05-02T00:00:00\",\"2022-05-03T00:00:00\",\"2022-05-04T00:00:00\",\"2022-05-05T00:00:00\",\"2022-05-06T00:00:00\",\"2022-05-09T00:00:00\",\"2022-05-10T00:00:00\",\"2022-05-11T00:00:00\",\"2022-05-12T00:00:00\",\"2022-05-13T00:00:00\",\"2022-05-16T00:00:00\",\"2022-05-17T00:00:00\",\"2022-05-18T00:00:00\",\"2022-05-19T00:00:00\",\"2022-05-20T00:00:00\",\"2022-05-23T00:00:00\",\"2022-05-24T00:00:00\",\"2022-05-25T00:00:00\",\"2022-05-26T00:00:00\",\"2022-05-27T00:00:00\",\"2022-05-31T00:00:00\",\"2022-06-01T00:00:00\",\"2022-06-02T00:00:00\",\"2022-06-03T00:00:00\",\"2022-06-06T00:00:00\",\"2022-06-07T00:00:00\",\"2022-06-08T00:00:00\",\"2022-06-09T00:00:00\",\"2022-06-10T00:00:00\",\"2022-06-13T00:00:00\",\"2022-06-14T00:00:00\",\"2022-06-15T00:00:00\",\"2022-06-16T00:00:00\",\"2022-06-17T00:00:00\",\"2022-06-21T00:00:00\",\"2022-06-22T00:00:00\",\"2022-06-23T00:00:00\",\"2022-06-24T00:00:00\",\"2022-06-27T00:00:00\",\"2022-06-28T00:00:00\",\"2022-06-29T00:00:00\",\"2022-06-30T00:00:00\"],\"type\":\"candlestick\"}],                        {\"template\":{\"data\":{\"bar\":[{\"error_x\":{\"color\":\"#2a3f5f\"},\"error_y\":{\"color\":\"#2a3f5f\"},\"marker\":{\"line\":{\"color\":\"#E5ECF6\",\"width\":0.5},\"pattern\":{\"fillmode\":\"overlay\",\"size\":10,\"solidity\":0.2}},\"type\":\"bar\"}],\"barpolar\":[{\"marker\":{\"line\":{\"color\":\"#E5ECF6\",\"width\":0.5},\"pattern\":{\"fillmode\":\"overlay\",\"size\":10,\"solidity\":0.2}},\"type\":\"barpolar\"}],\"carpet\":[{\"aaxis\":{\"endlinecolor\":\"#2a3f5f\",\"gridcolor\":\"white\",\"linecolor\":\"white\",\"minorgridcolor\":\"white\",\"startlinecolor\":\"#2a3f5f\"},\"baxis\":{\"endlinecolor\":\"#2a3f5f\",\"gridcolor\":\"white\",\"linecolor\":\"white\",\"minorgridcolor\":\"white\",\"startlinecolor\":\"#2a3f5f\"},\"type\":\"carpet\"}],\"choropleth\":[{\"colorbar\":{\"outlinewidth\":0,\"ticks\":\"\"},\"type\":\"choropleth\"}],\"contour\":[{\"colorbar\":{\"outlinewidth\":0,\"ticks\":\"\"},\"colorscale\":[[0.0,\"#0d0887\"],[0.1111111111111111,\"#46039f\"],[0.2222222222222222,\"#7201a8\"],[0.3333333333333333,\"#9c179e\"],[0.4444444444444444,\"#bd3786\"],[0.5555555555555556,\"#d8576b\"],[0.6666666666666666,\"#ed7953\"],[0.7777777777777778,\"#fb9f3a\"],[0.8888888888888888,\"#fdca26\"],[1.0,\"#f0f921\"]],\"type\":\"contour\"}],\"contourcarpet\":[{\"colorbar\":{\"outlinewidth\":0,\"ticks\":\"\"},\"type\":\"contourcarpet\"}],\"heatmap\":[{\"colorbar\":{\"outlinewidth\":0,\"ticks\":\"\"},\"colorscale\":[[0.0,\"#0d0887\"],[0.1111111111111111,\"#46039f\"],[0.2222222222222222,\"#7201a8\"],[0.3333333333333333,\"#9c179e\"],[0.4444444444444444,\"#bd3786\"],[0.5555555555555556,\"#d8576b\"],[0.6666666666666666,\"#ed7953\"],[0.7777777777777778,\"#fb9f3a\"],[0.8888888888888888,\"#fdca26\"],[1.0,\"#f0f921\"]],\"type\":\"heatmap\"}],\"heatmapgl\":[{\"colorbar\":{\"outlinewidth\":0,\"ticks\":\"\"},\"colorscale\":[[0.0,\"#0d0887\"],[0.1111111111111111,\"#46039f\"],[0.2222222222222222,\"#7201a8\"],[0.3333333333333333,\"#9c179e\"],[0.4444444444444444,\"#bd3786\"],[0.5555555555555556,\"#d8576b\"],[0.6666666666666666,\"#ed7953\"],[0.7777777777777778,\"#fb9f3a\"],[0.8888888888888888,\"#fdca26\"],[1.0,\"#f0f921\"]],\"type\":\"heatmapgl\"}],\"histogram\":[{\"marker\":{\"pattern\":{\"fillmode\":\"overlay\",\"size\":10,\"solidity\":0.2}},\"type\":\"histogram\"}],\"histogram2d\":[{\"colorbar\":{\"outlinewidth\":0,\"ticks\":\"\"},\"colorscale\":[[0.0,\"#0d0887\"],[0.1111111111111111,\"#46039f\"],[0.2222222222222222,\"#7201a8\"],[0.3333333333333333,\"#9c179e\"],[0.4444444444444444,\"#bd3786\"],[0.5555555555555556,\"#d8576b\"],[0.6666666666666666,\"#ed7953\"],[0.7777777777777778,\"#fb9f3a\"],[0.8888888888888888,\"#fdca26\"],[1.0,\"#f0f921\"]],\"type\":\"histogram2d\"}],\"histogram2dcontour\":[{\"colorbar\":{\"outlinewidth\":0,\"ticks\":\"\"},\"colorscale\":[[0.0,\"#0d0887\"],[0.1111111111111111,\"#46039f\"],[0.2222222222222222,\"#7201a8\"],[0.3333333333333333,\"#9c179e\"],[0.4444444444444444,\"#bd3786\"],[0.5555555555555556,\"#d8576b\"],[0.6666666666666666,\"#ed7953\"],[0.7777777777777778,\"#fb9f3a\"],[0.8888888888888888,\"#fdca26\"],[1.0,\"#f0f921\"]],\"type\":\"histogram2dcontour\"}],\"mesh3d\":[{\"colorbar\":{\"outlinewidth\":0,\"ticks\":\"\"},\"type\":\"mesh3d\"}],\"parcoords\":[{\"line\":{\"colorbar\":{\"outlinewidth\":0,\"ticks\":\"\"}},\"type\":\"parcoords\"}],\"pie\":[{\"automargin\":true,\"type\":\"pie\"}],\"scatter\":[{\"marker\":{\"colorbar\":{\"outlinewidth\":0,\"ticks\":\"\"}},\"type\":\"scatter\"}],\"scatter3d\":[{\"line\":{\"colorbar\":{\"outlinewidth\":0,\"ticks\":\"\"}},\"marker\":{\"colorbar\":{\"outlinewidth\":0,\"ticks\":\"\"}},\"type\":\"scatter3d\"}],\"scattercarpet\":[{\"marker\":{\"colorbar\":{\"outlinewidth\":0,\"ticks\":\"\"}},\"type\":\"scattercarpet\"}],\"scattergeo\":[{\"marker\":{\"colorbar\":{\"outlinewidth\":0,\"ticks\":\"\"}},\"type\":\"scattergeo\"}],\"scattergl\":[{\"marker\":{\"colorbar\":{\"outlinewidth\":0,\"ticks\":\"\"}},\"type\":\"scattergl\"}],\"scattermapbox\":[{\"marker\":{\"colorbar\":{\"outlinewidth\":0,\"ticks\":\"\"}},\"type\":\"scattermapbox\"}],\"scatterpolar\":[{\"marker\":{\"colorbar\":{\"outlinewidth\":0,\"ticks\":\"\"}},\"type\":\"scatterpolar\"}],\"scatterpolargl\":[{\"marker\":{\"colorbar\":{\"outlinewidth\":0,\"ticks\":\"\"}},\"type\":\"scatterpolargl\"}],\"scatterternary\":[{\"marker\":{\"colorbar\":{\"outlinewidth\":0,\"ticks\":\"\"}},\"type\":\"scatterternary\"}],\"surface\":[{\"colorbar\":{\"outlinewidth\":0,\"ticks\":\"\"},\"colorscale\":[[0.0,\"#0d0887\"],[0.1111111111111111,\"#46039f\"],[0.2222222222222222,\"#7201a8\"],[0.3333333333333333,\"#9c179e\"],[0.4444444444444444,\"#bd3786\"],[0.5555555555555556,\"#d8576b\"],[0.6666666666666666,\"#ed7953\"],[0.7777777777777778,\"#fb9f3a\"],[0.8888888888888888,\"#fdca26\"],[1.0,\"#f0f921\"]],\"type\":\"surface\"}],\"table\":[{\"cells\":{\"fill\":{\"color\":\"#EBF0F8\"},\"line\":{\"color\":\"white\"}},\"header\":{\"fill\":{\"color\":\"#C8D4E3\"},\"line\":{\"color\":\"white\"}},\"type\":\"table\"}]},\"layout\":{\"annotationdefaults\":{\"arrowcolor\":\"#2a3f5f\",\"arrowhead\":0,\"arrowwidth\":1},\"autotypenumbers\":\"strict\",\"coloraxis\":{\"colorbar\":{\"outlinewidth\":0,\"ticks\":\"\"}},\"colorscale\":{\"diverging\":[[0,\"#8e0152\"],[0.1,\"#c51b7d\"],[0.2,\"#de77ae\"],[0.3,\"#f1b6da\"],[0.4,\"#fde0ef\"],[0.5,\"#f7f7f7\"],[0.6,\"#e6f5d0\"],[0.7,\"#b8e186\"],[0.8,\"#7fbc41\"],[0.9,\"#4d9221\"],[1,\"#276419\"]],\"sequential\":[[0.0,\"#0d0887\"],[0.1111111111111111,\"#46039f\"],[0.2222222222222222,\"#7201a8\"],[0.3333333333333333,\"#9c179e\"],[0.4444444444444444,\"#bd3786\"],[0.5555555555555556,\"#d8576b\"],[0.6666666666666666,\"#ed7953\"],[0.7777777777777778,\"#fb9f3a\"],[0.8888888888888888,\"#fdca26\"],[1.0,\"#f0f921\"]],\"sequentialminus\":[[0.0,\"#0d0887\"],[0.1111111111111111,\"#46039f\"],[0.2222222222222222,\"#7201a8\"],[0.3333333333333333,\"#9c179e\"],[0.4444444444444444,\"#bd3786\"],[0.5555555555555556,\"#d8576b\"],[0.6666666666666666,\"#ed7953\"],[0.7777777777777778,\"#fb9f3a\"],[0.8888888888888888,\"#fdca26\"],[1.0,\"#f0f921\"]]},\"colorway\":[\"#636efa\",\"#EF553B\",\"#00cc96\",\"#ab63fa\",\"#FFA15A\",\"#19d3f3\",\"#FF6692\",\"#B6E880\",\"#FF97FF\",\"#FECB52\"],\"font\":{\"color\":\"#2a3f5f\"},\"geo\":{\"bgcolor\":\"white\",\"lakecolor\":\"white\",\"landcolor\":\"#E5ECF6\",\"showlakes\":true,\"showland\":true,\"subunitcolor\":\"white\"},\"hoverlabel\":{\"align\":\"left\"},\"hovermode\":\"closest\",\"mapbox\":{\"style\":\"light\"},\"paper_bgcolor\":\"white\",\"plot_bgcolor\":\"#E5ECF6\",\"polar\":{\"angularaxis\":{\"gridcolor\":\"white\",\"linecolor\":\"white\",\"ticks\":\"\"},\"bgcolor\":\"#E5ECF6\",\"radialaxis\":{\"gridcolor\":\"white\",\"linecolor\":\"white\",\"ticks\":\"\"}},\"scene\":{\"xaxis\":{\"backgroundcolor\":\"#E5ECF6\",\"gridcolor\":\"white\",\"gridwidth\":2,\"linecolor\":\"white\",\"showbackground\":true,\"ticks\":\"\",\"zerolinecolor\":\"white\"},\"yaxis\":{\"backgroundcolor\":\"#E5ECF6\",\"gridcolor\":\"white\",\"gridwidth\":2,\"linecolor\":\"white\",\"showbackground\":true,\"ticks\":\"\",\"zerolinecolor\":\"white\"},\"zaxis\":{\"backgroundcolor\":\"#E5ECF6\",\"gridcolor\":\"white\",\"gridwidth\":2,\"linecolor\":\"white\",\"showbackground\":true,\"ticks\":\"\",\"zerolinecolor\":\"white\"}},\"shapedefaults\":{\"line\":{\"color\":\"#2a3f5f\"}},\"ternary\":{\"aaxis\":{\"gridcolor\":\"white\",\"linecolor\":\"white\",\"ticks\":\"\"},\"baxis\":{\"gridcolor\":\"white\",\"linecolor\":\"white\",\"ticks\":\"\"},\"bgcolor\":\"#E5ECF6\",\"caxis\":{\"gridcolor\":\"white\",\"linecolor\":\"white\",\"ticks\":\"\"}},\"title\":{\"x\":0.05},\"xaxis\":{\"automargin\":true,\"gridcolor\":\"white\",\"linecolor\":\"white\",\"ticks\":\"\",\"title\":{\"standoff\":15},\"zerolinecolor\":\"white\",\"zerolinewidth\":2},\"yaxis\":{\"automargin\":true,\"gridcolor\":\"white\",\"linecolor\":\"white\",\"ticks\":\"\",\"title\":{\"standoff\":15},\"zerolinecolor\":\"white\",\"zerolinewidth\":2}}},\"xaxis\":{\"rangeslider\":{\"visible\":true}},\"title\":{\"text\":\"Apple stock price analysis\"}},                        {\"responsive\": true}                    ).then(function(){\n",
              "                            \n",
              "var gd = document.getElementById('10399029-df74-4b4c-a2ea-5f6defa75ad9');\n",
              "var x = new MutationObserver(function (mutations, observer) {{\n",
              "        var display = window.getComputedStyle(gd).display;\n",
              "        if (!display || display === 'none') {{\n",
              "            console.log([gd, 'removed!']);\n",
              "            Plotly.purge(gd);\n",
              "            observer.disconnect();\n",
              "        }}\n",
              "}});\n",
              "\n",
              "// Listen for the removal of the full notebook cells\n",
              "var notebookContainer = gd.closest('#notebook-container');\n",
              "if (notebookContainer) {{\n",
              "    x.observe(notebookContainer, {childList: true});\n",
              "}}\n",
              "\n",
              "// Listen for the clearing of the current output cell\n",
              "var outputEl = gd.closest('.output');\n",
              "if (outputEl) {{\n",
              "    x.observe(outputEl, {childList: true});\n",
              "}}\n",
              "\n",
              "                        })                };                            </script>        </div>\n",
              "</body>\n",
              "</html>"
            ]
          },
          "metadata": {}
        }
      ]
    },
    {
      "cell_type": "code",
      "source": [
        "print(data.corr())"
      ],
      "metadata": {
        "colab": {
          "base_uri": "https://localhost:8080/"
        },
        "id": "r0nQ0fBkEEd0",
        "outputId": "2cdd0ad6-bf96-460f-c5a4-866a9c748395"
      },
      "execution_count": 36,
      "outputs": [
        {
          "output_type": "stream",
          "name": "stdout",
          "text": [
            "               open      high       low     close  adj_close    volume\n",
            "open       1.000000  0.999781  0.999705  0.999408   0.999388 -0.229473\n",
            "high       0.999781  1.000000  0.999653  0.999703   0.999695 -0.222805\n",
            "low        0.999705  0.999653  1.000000  0.999721   0.999695 -0.238280\n",
            "close      0.999408  0.999703  0.999721  1.000000   0.999977 -0.231048\n",
            "adj_close  0.999388  0.999695  0.999695  0.999977   1.000000 -0.230782\n",
            "volume    -0.229473 -0.222805 -0.238280 -0.231048  -0.230782  1.000000\n"
          ]
        }
      ]
    },
    {
      "cell_type": "code",
      "source": [
        "!pip install autots"
      ],
      "metadata": {
        "colab": {
          "base_uri": "https://localhost:8080/"
        },
        "id": "-OnokYlJEJVL",
        "outputId": "bf2ccad0-9431-450c-fcb7-ac6fb72df213"
      },
      "execution_count": 37,
      "outputs": [
        {
          "output_type": "stream",
          "name": "stdout",
          "text": [
            "Looking in indexes: https://pypi.org/simple, https://us-python.pkg.dev/colab-wheels/public/simple/\n",
            "Collecting autots\n",
            "  Downloading AutoTS-0.4.2-py3-none-any.whl (486 kB)\n",
            "\u001b[K     |████████████████████████████████| 486 kB 13.1 MB/s \n",
            "\u001b[?25hRequirement already satisfied: pandas>=0.25.* in /usr/local/lib/python3.7/dist-packages (from autots) (1.3.5)\n",
            "Requirement already satisfied: scikit-learn>=0.20.* in /usr/local/lib/python3.7/dist-packages (from autots) (1.0.2)\n",
            "Requirement already satisfied: numpy>=1.14.6 in /usr/local/lib/python3.7/dist-packages (from autots) (1.21.6)\n",
            "Requirement already satisfied: statsmodels>=0.10.* in /usr/local/lib/python3.7/dist-packages (from autots) (0.10.2)\n",
            "Requirement already satisfied: pytz>=2017.3 in /usr/local/lib/python3.7/dist-packages (from pandas>=0.25.*->autots) (2022.1)\n",
            "Requirement already satisfied: python-dateutil>=2.7.3 in /usr/local/lib/python3.7/dist-packages (from pandas>=0.25.*->autots) (2.8.2)\n",
            "Requirement already satisfied: six>=1.5 in /usr/local/lib/python3.7/dist-packages (from python-dateutil>=2.7.3->pandas>=0.25.*->autots) (1.15.0)\n",
            "Requirement already satisfied: joblib>=0.11 in /usr/local/lib/python3.7/dist-packages (from scikit-learn>=0.20.*->autots) (1.1.0)\n",
            "Requirement already satisfied: scipy>=1.1.0 in /usr/local/lib/python3.7/dist-packages (from scikit-learn>=0.20.*->autots) (1.4.1)\n",
            "Requirement already satisfied: threadpoolctl>=2.0.0 in /usr/local/lib/python3.7/dist-packages (from scikit-learn>=0.20.*->autots) (3.1.0)\n",
            "Requirement already satisfied: patsy>=0.4.0 in /usr/local/lib/python3.7/dist-packages (from statsmodels>=0.10.*->autots) (0.5.2)\n",
            "Installing collected packages: autots\n",
            "Successfully installed autots-0.4.2\n"
          ]
        }
      ]
    },
    {
      "cell_type": "code",
      "source": [
        "from autots import AutoTS"
      ],
      "metadata": {
        "colab": {
          "base_uri": "https://localhost:8080/"
        },
        "id": "6vfVcE8BEOy-",
        "outputId": "3a03ba30-c626-481c-c1b8-d302e120b995"
      },
      "execution_count": 38,
      "outputs": [
        {
          "output_type": "stream",
          "name": "stderr",
          "text": [
            "/usr/local/lib/python3.7/dist-packages/statsmodels/tools/_testing.py:19: FutureWarning:\n",
            "\n",
            "pandas.util.testing is deprecated. Use the functions in the public API at pandas.testing instead.\n",
            "\n"
          ]
        }
      ]
    },
    {
      "cell_type": "code",
      "source": [
        "model = AutoTS(forecast_length=5, frequency='infer', ensemble='simple')\n",
        "model.fit(data, date_col='date', value_col='close', id_col='None')\n",
        "prediction = model.predict()\n",
        "forecast = prediction.forecast\n",
        "print(forecast)"
      ],
      "metadata": {
        "colab": {
          "base_uri": "https://localhost:8080/"
        },
        "id": "AZu0MVl0ERfh",
        "outputId": "b5b89265-d556-4806-e3a4-ee2f1ffe0565"
      },
      "execution_count": 39,
      "outputs": [
        {
          "output_type": "stream",
          "name": "stdout",
          "text": [
            "Inferred frequency is: None\n",
            "Frequency is 'None'! Input frequency not recognized.\n",
            "Model Number: 1 with model AverageValueNaive in generation 0 of 10\n",
            "Model Number: 2 with model AverageValueNaive in generation 0 of 10\n",
            "Model Number: 3 with model AverageValueNaive in generation 0 of 10\n",
            "Model Number: 4 with model DatepartRegression in generation 0 of 10\n",
            "Model Number: 5 with model DatepartRegression in generation 0 of 10\n"
          ]
        },
        {
          "output_type": "stream",
          "name": "stderr",
          "text": [
            "/usr/local/lib/python3.7/dist-packages/sklearn/svm/_base.py:1208: ConvergenceWarning:\n",
            "\n",
            "Liblinear failed to converge, increase the number of iterations.\n",
            "\n"
          ]
        },
        {
          "output_type": "stream",
          "name": "stdout",
          "text": [
            "Model Number: 6 with model DatepartRegression in generation 0 of 10\n"
          ]
        },
        {
          "output_type": "stream",
          "name": "stderr",
          "text": [
            "/usr/local/lib/python3.7/dist-packages/sklearn/neural_network/_multilayer_perceptron.py:549: ConvergenceWarning:\n",
            "\n",
            "lbfgs failed to converge (status=1):\n",
            "STOP: TOTAL NO. of ITERATIONS REACHED LIMIT.\n",
            "\n",
            "Increase the number of iterations (max_iter) or scale the data as shown in:\n",
            "    https://scikit-learn.org/stable/modules/preprocessing.html\n",
            "\n"
          ]
        },
        {
          "output_type": "stream",
          "name": "stdout",
          "text": [
            "Model Number: 7 with model DatepartRegression in generation 0 of 10\n",
            "Epoch 1/50\n",
            "57/57 [==============================] - 8s 7ms/step - loss: 0.4191\n",
            "Epoch 2/50\n",
            "57/57 [==============================] - 0s 7ms/step - loss: 0.4178\n",
            "Epoch 3/50\n",
            "57/57 [==============================] - 0s 7ms/step - loss: 0.4154\n",
            "Epoch 4/50\n",
            "57/57 [==============================] - 0s 7ms/step - loss: 0.4145\n",
            "Epoch 5/50\n",
            "57/57 [==============================] - 0s 7ms/step - loss: 0.4153\n",
            "Epoch 6/50\n",
            "57/57 [==============================] - 0s 7ms/step - loss: 0.4156\n",
            "Epoch 7/50\n",
            "57/57 [==============================] - 0s 7ms/step - loss: 0.4150\n",
            "Epoch 8/50\n",
            "57/57 [==============================] - 0s 7ms/step - loss: 0.4146\n",
            "Epoch 9/50\n",
            "57/57 [==============================] - 0s 7ms/step - loss: 0.4137\n",
            "Epoch 10/50\n",
            "57/57 [==============================] - 0s 6ms/step - loss: 0.4134\n",
            "Epoch 11/50\n",
            "57/57 [==============================] - 0s 7ms/step - loss: 0.4135\n",
            "Epoch 12/50\n",
            "57/57 [==============================] - 0s 6ms/step - loss: 0.4130\n",
            "Epoch 13/50\n",
            "57/57 [==============================] - 0s 7ms/step - loss: 0.4134\n",
            "Epoch 14/50\n",
            "57/57 [==============================] - 0s 7ms/step - loss: 0.4131\n",
            "Epoch 15/50\n",
            "57/57 [==============================] - 0s 7ms/step - loss: 0.4119\n",
            "Epoch 16/50\n",
            "57/57 [==============================] - 0s 6ms/step - loss: 0.4125\n",
            "Epoch 17/50\n",
            "57/57 [==============================] - 0s 6ms/step - loss: 0.4131\n",
            "Epoch 18/50\n",
            "57/57 [==============================] - 0s 6ms/step - loss: 0.4128\n",
            "Epoch 19/50\n",
            "57/57 [==============================] - 0s 7ms/step - loss: 0.4123\n",
            "Epoch 20/50\n",
            "57/57 [==============================] - 0s 6ms/step - loss: 0.4122\n",
            "Epoch 21/50\n",
            "57/57 [==============================] - 0s 7ms/step - loss: 0.4123\n",
            "Epoch 22/50\n",
            "57/57 [==============================] - 0s 6ms/step - loss: 0.4121\n",
            "Epoch 23/50\n",
            "57/57 [==============================] - 0s 6ms/step - loss: 0.4123\n",
            "Epoch 24/50\n",
            "57/57 [==============================] - 0s 7ms/step - loss: 0.4130\n",
            "Epoch 25/50\n",
            "57/57 [==============================] - 0s 7ms/step - loss: 0.4125\n",
            "Epoch 26/50\n",
            "57/57 [==============================] - 0s 7ms/step - loss: 0.4131\n",
            "Epoch 27/50\n",
            "57/57 [==============================] - 0s 6ms/step - loss: 0.4120\n",
            "Epoch 28/50\n",
            "57/57 [==============================] - 0s 7ms/step - loss: 0.4112\n",
            "Epoch 29/50\n",
            "57/57 [==============================] - 0s 6ms/step - loss: 0.4121\n",
            "Epoch 30/50\n",
            "57/57 [==============================] - 0s 7ms/step - loss: 0.4116\n",
            "Epoch 31/50\n",
            "57/57 [==============================] - 0s 6ms/step - loss: 0.4115\n",
            "Epoch 32/50\n",
            "57/57 [==============================] - 0s 6ms/step - loss: 0.4116\n",
            "Epoch 33/50\n",
            "57/57 [==============================] - 0s 7ms/step - loss: 0.4116\n",
            "Epoch 34/50\n",
            "57/57 [==============================] - 0s 7ms/step - loss: 0.4125\n",
            "Epoch 35/50\n",
            "57/57 [==============================] - 0s 6ms/step - loss: 0.4117\n",
            "Epoch 36/50\n",
            "57/57 [==============================] - 0s 6ms/step - loss: 0.4123\n",
            "Epoch 37/50\n",
            "57/57 [==============================] - 0s 7ms/step - loss: 0.4122\n",
            "Epoch 38/50\n",
            "57/57 [==============================] - 0s 7ms/step - loss: 0.4123\n",
            "Epoch 39/50\n",
            "57/57 [==============================] - 0s 7ms/step - loss: 0.4120\n",
            "Epoch 40/50\n",
            "57/57 [==============================] - 0s 7ms/step - loss: 0.4118\n",
            "Epoch 41/50\n",
            "57/57 [==============================] - 0s 7ms/step - loss: 0.4115\n",
            "Epoch 42/50\n",
            "57/57 [==============================] - 0s 7ms/step - loss: 0.4115\n",
            "Epoch 43/50\n",
            "57/57 [==============================] - 0s 7ms/step - loss: 0.4132\n",
            "Epoch 44/50\n",
            "57/57 [==============================] - 0s 7ms/step - loss: 0.4119\n",
            "Epoch 45/50\n",
            "57/57 [==============================] - 0s 7ms/step - loss: 0.4125\n",
            "Epoch 46/50\n",
            "57/57 [==============================] - 0s 7ms/step - loss: 0.4117\n",
            "Epoch 47/50\n",
            "57/57 [==============================] - 0s 7ms/step - loss: 0.4117\n",
            "Epoch 48/50\n",
            "57/57 [==============================] - 0s 7ms/step - loss: 0.4121\n",
            "Epoch 49/50\n",
            "57/57 [==============================] - 0s 7ms/step - loss: 0.4121\n",
            "Epoch 50/50\n",
            "57/57 [==============================] - 0s 7ms/step - loss: 0.4120\n",
            "Model Number: 8 with model ETS in generation 0 of 10\n",
            "ETS error TypeError(\"__init__() got an unexpected keyword argument 'damped_trend'\")\n",
            "Model Number: 9 with model ETS in generation 0 of 10\n",
            "ETS error TypeError(\"__init__() got an unexpected keyword argument 'damped_trend'\")\n",
            "Model Number: 10 with model GLM in generation 0 of 10\n",
            "Template Eval Error: TypeError(\"ufunc 'isfinite' not supported for the input types, and the inputs could not be safely coerced to any supported types according to the casting rule ''safe''\") in model 10: GLM\n",
            "Model Number: 11 with model GLM in generation 0 of 10\n",
            "Model Number: 12 with model GLS in generation 0 of 10\n",
            "Model Number: 13 with model GLS in generation 0 of 10\n",
            "Model Number: 14 with model GluonTS in generation 0 of 10\n",
            "Template Eval Error: ImportError('GluonTS installation not found or installed version is incompatible with AutoTS.') in model 14: GluonTS\n",
            "Model Number: 15 with model GluonTS in generation 0 of 10\n",
            "Template Eval Error: ImportError('GluonTS installation not found or installed version is incompatible with AutoTS.') in model 15: GluonTS\n",
            "Model Number: 16 with model GluonTS in generation 0 of 10\n",
            "Template Eval Error: ImportError('GluonTS installation not found or installed version is incompatible with AutoTS.') in model 16: GluonTS\n",
            "Model Number: 17 with model GluonTS in generation 0 of 10\n",
            "Template Eval Error: ImportError('GluonTS installation not found or installed version is incompatible with AutoTS.') in model 17: GluonTS\n",
            "Model Number: 18 with model GluonTS in generation 0 of 10\n",
            "Template Eval Error: ImportError('GluonTS installation not found or installed version is incompatible with AutoTS.') in model 18: GluonTS\n",
            "Model Number: 19 with model LastValueNaive in generation 0 of 10\n",
            "Model Number: 20 with model LastValueNaive in generation 0 of 10\n",
            "Model Number: 21 with model LastValueNaive in generation 0 of 10\n",
            "Model Number: 22 with model LastValueNaive in generation 0 of 10\n",
            "Model Number: 23 with model SeasonalNaive in generation 0 of 10\n",
            "Model Number: 24 with model SeasonalNaive in generation 0 of 10\n",
            "Model Number: 25 with model SeasonalNaive in generation 0 of 10\n",
            "Model Number: 26 with model UnobservedComponents in generation 0 of 10\n",
            "Template Eval Error: ValueError('Provided exogenous values are not of the appropriate shape. Required (5, 1), got (5,).') in model 26: UnobservedComponents\n",
            "Model Number: 27 with model UnobservedComponents in generation 0 of 10\n",
            "Model Number: 28 with model UnobservedComponents in generation 0 of 10\n",
            "Model Number: 29 with model VAR in generation 0 of 10\n",
            "Template Eval Error: ValueError('Only gave one variable to VAR') in model 29: VAR\n",
            "Model Number: 30 with model VAR in generation 0 of 10\n",
            "Template Eval Error: ValueError('Only gave one variable to VAR') in model 30: VAR\n",
            "Model Number: 31 with model VECM in generation 0 of 10\n",
            "Template Eval Error: ValueError('Only gave one variable to VECM') in model 31: VECM\n",
            "Model Number: 32 with model VECM in generation 0 of 10\n",
            "Template Eval Error: ValueError('Only gave one variable to VECM') in model 32: VECM\n",
            "Model Number: 33 with model WindowRegression in generation 0 of 10\n",
            "Model Number: 34 with model ConstantNaive in generation 0 of 10\n"
          ]
        },
        {
          "output_type": "stream",
          "name": "stderr",
          "text": [
            "/usr/local/lib/python3.7/dist-packages/sklearn/neural_network/_multilayer_perceptron.py:549: ConvergenceWarning:\n",
            "\n",
            "lbfgs failed to converge (status=1):\n",
            "STOP: TOTAL NO. of ITERATIONS REACHED LIMIT.\n",
            "\n",
            "Increase the number of iterations (max_iter) or scale the data as shown in:\n",
            "    https://scikit-learn.org/stable/modules/preprocessing.html\n",
            "\n"
          ]
        },
        {
          "output_type": "stream",
          "name": "stdout",
          "text": [
            "Model Number: 35 with model FBProphet in generation 0 of 10\n"
          ]
        },
        {
          "output_type": "stream",
          "name": "stderr",
          "text": [
            "INFO:fbprophet:Disabling daily seasonality. Run prophet with daily_seasonality=True to override this.\n"
          ]
        },
        {
          "output_type": "stream",
          "name": "stdout",
          "text": [
            "Model Number: 36 with model GluonTS in generation 0 of 10\n",
            "Template Eval Error: ImportError('GluonTS installation not found or installed version is incompatible with AutoTS.') in model 36: GluonTS\n",
            "Model Number: 37 with model MultivariateRegression in generation 0 of 10\n"
          ]
        },
        {
          "output_type": "stream",
          "name": "stderr",
          "text": [
            "[Parallel(n_jobs=-2)]: Using backend SequentialBackend with 1 concurrent workers.\n",
            "[Parallel(n_jobs=-2)]: Done 200 out of 200 | elapsed:    2.5s finished\n",
            "[Parallel(n_jobs=1)]: Using backend SequentialBackend with 1 concurrent workers.\n",
            "[Parallel(n_jobs=1)]: Done 200 out of 200 | elapsed:    0.0s finished\n",
            "[Parallel(n_jobs=1)]: Using backend SequentialBackend with 1 concurrent workers.\n",
            "[Parallel(n_jobs=1)]: Done 200 out of 200 | elapsed:    0.0s finished\n",
            "[Parallel(n_jobs=1)]: Using backend SequentialBackend with 1 concurrent workers.\n",
            "[Parallel(n_jobs=1)]: Done 200 out of 200 | elapsed:    0.0s finished\n",
            "[Parallel(n_jobs=1)]: Using backend SequentialBackend with 1 concurrent workers.\n",
            "[Parallel(n_jobs=1)]: Done 200 out of 200 | elapsed:    0.0s finished\n"
          ]
        },
        {
          "output_type": "stream",
          "name": "stdout",
          "text": [
            "Model Number: 38 with model MultivariateRegression in generation 0 of 10\n",
            "Template Eval Error: ValueError(\"regression_type='User' but not future_regressor supplied.\") in model 38: MultivariateRegression\n",
            "Model Number: 39 with model DatepartRegression in generation 0 of 10\n",
            "Template Eval Error: ValueError(\"regression_type='User' but no future_regressor passed\") in model 39: DatepartRegression\n",
            "Model Number: 40 with model SeasonalNaive in generation 0 of 10\n"
          ]
        },
        {
          "output_type": "stream",
          "name": "stderr",
          "text": [
            "[Parallel(n_jobs=1)]: Using backend SequentialBackend with 1 concurrent workers.\n",
            "[Parallel(n_jobs=1)]: Done 200 out of 200 | elapsed:    0.0s finished\n"
          ]
        },
        {
          "output_type": "stream",
          "name": "stdout",
          "text": [
            "Model Number: 41 with model DatepartRegression in generation 0 of 10\n",
            "Model Number: 42 with model UnobservedComponents in generation 0 of 10\n",
            "Template Eval Error: ValueError('Provided exogenous values are not of the appropriate shape. Required (5, 1), got (5,).') in model 42: UnobservedComponents\n",
            "Model Number: 43 with model UnobservedComponents in generation 0 of 10\n",
            "Template Eval Error: ValueError('Provided exogenous values are not of the appropriate shape. Required (5, 1), got (5,).') in model 43: UnobservedComponents\n",
            "Model Number: 44 with model ETS in generation 0 of 10\n",
            "ETS error TypeError(\"__init__() got an unexpected keyword argument 'damped_trend'\")\n",
            "Model Number: 45 with model VECM in generation 0 of 10\n",
            "Template Eval Error: ValueError('Only gave one variable to VECM') in model 45: VECM\n",
            "Model Number: 46 with model ARDL in generation 0 of 10\n",
            "Template Eval Error: ImportError(\"cannot import name 'ARDL' from 'statsmodels.tsa.api' (/usr/local/lib/python3.7/dist-packages/statsmodels/tsa/api.py)\") in model 46: ARDL\n",
            "Model Number: 47 with model MultivariateMotif in generation 0 of 10\n",
            "Model Number: 48 with model MultivariateMotif in generation 0 of 10\n",
            "Model Number: 49 with model UnivariateMotif in generation 0 of 10\n",
            "Model Number: 50 with model UnivariateMotif in generation 0 of 10\n",
            "Model Number: 51 with model SectionalMotif in generation 0 of 10\n",
            "Model Number: 52 with model SectionalMotif in generation 0 of 10\n",
            "Model Number: 53 with model MultivariateRegression in generation 0 of 10\n"
          ]
        },
        {
          "output_type": "stream",
          "name": "stderr",
          "text": [
            "INFO:fbprophet:Disabling daily seasonality. Run prophet with daily_seasonality=True to override this.\n"
          ]
        },
        {
          "output_type": "stream",
          "name": "stdout",
          "text": [
            "Model Number: 54 with model FBProphet in generation 0 of 10\n",
            "Model Number: 55 with model SeasonalNaive in generation 0 of 10\n",
            "Model Number: 56 with model DatepartRegression in generation 0 of 10\n"
          ]
        },
        {
          "output_type": "stream",
          "name": "stderr",
          "text": [
            "[Parallel(n_jobs=-2)]: Using backend SequentialBackend with 1 concurrent workers.\n"
          ]
        },
        {
          "output_type": "stream",
          "name": "stdout",
          "text": [
            "Model Number: 57 with model NVAR in generation 0 of 10\n"
          ]
        },
        {
          "output_type": "stream",
          "name": "stderr",
          "text": [
            "[Parallel(n_jobs=-2)]: Done 100 out of 100 | elapsed:    0.9s finished\n",
            "[Parallel(n_jobs=1)]: Using backend SequentialBackend with 1 concurrent workers.\n",
            "[Parallel(n_jobs=1)]: Done 100 out of 100 | elapsed:    0.0s finished\n"
          ]
        },
        {
          "output_type": "stream",
          "name": "stdout",
          "text": [
            "Model Number: 58 with model Theta in generation 0 of 10\n",
            "Template Eval Error: ModuleNotFoundError(\"No module named 'statsmodels.tsa.forecasting'\") in model 58: Theta\n",
            "Model Number: 59 with model UnivariateRegression in generation 0 of 10\n",
            "Model Number: 60 with model ConstantNaive in generation 0 of 10\n",
            "Model Number: 61 with model LastValueNaive in generation 0 of 10\n",
            "Model Number: 62 with model AverageValueNaive in generation 0 of 10\n",
            "Model Number: 63 with model GLS in generation 0 of 10\n",
            "Model Number: 64 with model SeasonalNaive in generation 0 of 10\n",
            "Model Number: 65 with model GLM in generation 0 of 10\n",
            "Template Eval Error: ValueError('regression_type=user and no future_regressor passed') in model 65: GLM\n",
            "Model Number: 66 with model ETS in generation 0 of 10\n",
            "ETS error TypeError(\"__init__() got an unexpected keyword argument 'damped_trend'\")\n",
            "Model Number: 67 with model FBProphet in generation 0 of 10\n"
          ]
        },
        {
          "output_type": "stream",
          "name": "stderr",
          "text": [
            "INFO:fbprophet:Disabling daily seasonality. Run prophet with daily_seasonality=True to override this.\n"
          ]
        },
        {
          "output_type": "stream",
          "name": "stdout",
          "text": [
            "Model Number: 68 with model GluonTS in generation 0 of 10\n",
            "Template Eval Error: ImportError('GluonTS installation not found or installed version is incompatible with AutoTS.') in model 68: GluonTS\n",
            "Model Number: 69 with model UnobservedComponents in generation 0 of 10\n",
            "Model Number: 70 with model VAR in generation 0 of 10\n",
            "Template Eval Error: Exception('Transformer STLFilter failed on fit') in model 70: VAR\n",
            "Model Number: 71 with model VECM in generation 0 of 10\n",
            "Template Eval Error: ValueError('Only gave one variable to VECM') in model 71: VECM\n",
            "Model Number: 72 with model WindowRegression in generation 0 of 10\n",
            "Template Eval Error: LightGBMError('[tweedie]: at least one target label is negative') in model 72: WindowRegression\n",
            "Model Number: 73 with model DatepartRegression in generation 0 of 10\n",
            "Template Eval Error: ValueError(\"regression_type='User' but no future_regressor passed\") in model 73: DatepartRegression\n",
            "Model Number: 74 with model UnivariateRegression in generation 0 of 10\n",
            "Model Number: 75 with model MultivariateRegression in generation 0 of 10\n",
            "Template Eval Error: ValueError(\"regression_type='User' but not future_regressor supplied.\") in model 75: MultivariateRegression\n",
            "Model Number: 76 with model UnivariateMotif in generation 0 of 10\n",
            "Model Number: 77 with model MultivariateMotif in generation 0 of 10\n",
            "Model Number: 78 with model SectionalMotif in generation 0 of 10\n",
            "Model Number: 79 with model NVAR in generation 0 of 10\n",
            "Model Number: 80 with model Theta in generation 0 of 10\n",
            "Template Eval Error: ModuleNotFoundError(\"No module named 'statsmodels.tsa.forecasting'\") in model 80: Theta\n",
            "Model Number: 81 with model ARDL in generation 0 of 10\n",
            "Template Eval Error: ImportError(\"cannot import name 'ARDL' from 'statsmodels.tsa.api' (/usr/local/lib/python3.7/dist-packages/statsmodels/tsa/api.py)\") in model 81: ARDL\n",
            "Model Number: 82 with model VAR in generation 0 of 10\n",
            "Template Eval Error: IndexError('tuple index out of range') in model 82: VAR\n",
            "Model Number: 83 with model WindowRegression in generation 0 of 10\n",
            "Model Number: 84 with model GLM in generation 0 of 10\n",
            "Template Eval Error: TypeError(\"ufunc 'isfinite' not supported for the input types, and the inputs could not be safely coerced to any supported types according to the casting rule ''safe''\") in model 84: GLM\n",
            "Model Number: 85 with model NVAR in generation 0 of 10\n",
            "Model Number: 86 with model LastValueNaive in generation 0 of 10\n",
            "Model Number: 87 with model LastValueNaive in generation 0 of 10\n",
            "Model Number: 88 with model LastValueNaive in generation 0 of 10\n",
            "Model Number: 89 with model LastValueNaive in generation 0 of 10\n",
            "Model Number: 90 with model UnivariateMotif in generation 0 of 10\n",
            "Model Number: 91 with model GLM in generation 0 of 10\n",
            "Template Eval Error: TypeError(\"ufunc 'isfinite' not supported for the input types, and the inputs could not be safely coerced to any supported types according to the casting rule ''safe''\") in model 91: GLM\n",
            "Model Number: 92 with model ConstantNaive in generation 0 of 10\n",
            "Model Number: 93 with model GLM in generation 0 of 10\n",
            "Template Eval Error: TypeError(\"ufunc 'isfinite' not supported for the input types, and the inputs could not be safely coerced to any supported types according to the casting rule ''safe''\") in model 93: GLM\n",
            "Model Number: 94 with model MultivariateMotif in generation 0 of 10\n",
            "Model Number: 95 with model LastValueNaive in generation 0 of 10\n",
            "Template Eval Error: Exception('Transformer STLFilter failed on fit') in model 95: LastValueNaive\n",
            "Model Number: 96 with model GLS in generation 0 of 10\n",
            "Model Number: 97 with model UnobservedComponents in generation 0 of 10\n",
            "Template Eval Error: ValueError(\"regression_type='User' but no future_regressor supplied\") in model 97: UnobservedComponents\n",
            "Model Number: 98 with model ETS in generation 0 of 10\n",
            "ETS error TypeError(\"__init__() got an unexpected keyword argument 'damped_trend'\")\n",
            "Model Number: 99 with model UnivariateMotif in generation 0 of 10\n",
            "Model Number: 100 with model LastValueNaive in generation 0 of 10\n",
            "Model Number: 101 with model ConstantNaive in generation 0 of 10\n",
            "Template Eval Error: Exception('Transformer STLFilter failed on fit') in model 101: ConstantNaive\n",
            "Model Number: 102 with model VAR in generation 0 of 10\n",
            "Template Eval Error: ValueError('Only gave one variable to VAR') in model 102: VAR\n",
            "Model Number: 103 with model LastValueNaive in generation 0 of 10\n",
            "Model Number: 104 with model AverageValueNaive in generation 0 of 10\n",
            "Model Number: 105 with model SectionalMotif in generation 0 of 10\n",
            "Model Number: 106 with model MultivariateMotif in generation 0 of 10\n",
            "Template Eval Error: ValueError('Model MultivariateMotif returned NaN for one or more series. fail_on_forecast_nan=True') in model 106: MultivariateMotif\n",
            "Model Number: 107 with model UnobservedComponents in generation 0 of 10\n"
          ]
        },
        {
          "output_type": "stream",
          "name": "stderr",
          "text": [
            "/usr/local/lib/python3.7/dist-packages/numpy/core/_methods.py:48: RuntimeWarning:\n",
            "\n",
            "invalid value encountered in reduce\n",
            "\n"
          ]
        },
        {
          "output_type": "stream",
          "name": "stdout",
          "text": [
            "Model Number: 108 with model WindowRegression in generation 0 of 10\n",
            "Model Number: 109 with model Theta in generation 0 of 10\n",
            "Template Eval Error: ModuleNotFoundError(\"No module named 'statsmodels.tsa.forecasting'\") in model 109: Theta\n",
            "Model Number: 110 with model ConstantNaive in generation 0 of 10\n",
            "Model Number: 111 with model NVAR in generation 0 of 10\n",
            "Model Number: 112 with model ConstantNaive in generation 0 of 10\n",
            "Model Number: 113 with model FBProphet in generation 0 of 10\n"
          ]
        },
        {
          "output_type": "stream",
          "name": "stderr",
          "text": [
            "INFO:fbprophet:Disabling daily seasonality. Run prophet with daily_seasonality=True to override this.\n"
          ]
        },
        {
          "output_type": "stream",
          "name": "stdout",
          "text": [
            "Model Number: 114 with model ConstantNaive in generation 0 of 10\n",
            "Model Number: 115 with model DatepartRegression in generation 0 of 10\n",
            "Epoch 1/50\n",
            "26/26 [==============================] - 8s 13ms/step - loss: 109.0997\n",
            "Epoch 2/50\n",
            "26/26 [==============================] - 0s 12ms/step - loss: 102.7278\n",
            "Epoch 3/50\n",
            "26/26 [==============================] - 0s 11ms/step - loss: 102.8123\n",
            "Epoch 4/50\n",
            "26/26 [==============================] - 0s 13ms/step - loss: 102.2394\n",
            "Epoch 5/50\n",
            "26/26 [==============================] - 0s 12ms/step - loss: 103.7119\n",
            "Epoch 6/50\n",
            "26/26 [==============================] - 0s 12ms/step - loss: 103.8680\n",
            "Epoch 7/50\n",
            "26/26 [==============================] - 0s 13ms/step - loss: 102.5098\n",
            "Epoch 8/50\n",
            "26/26 [==============================] - 0s 13ms/step - loss: 104.8710\n",
            "Epoch 9/50\n",
            "26/26 [==============================] - 0s 12ms/step - loss: 103.0889\n",
            "Epoch 10/50\n",
            "26/26 [==============================] - 0s 13ms/step - loss: 101.6329\n",
            "Epoch 11/50\n",
            "26/26 [==============================] - 0s 14ms/step - loss: 101.0849\n",
            "Epoch 12/50\n",
            "26/26 [==============================] - 0s 12ms/step - loss: 103.3468\n",
            "Epoch 13/50\n",
            "26/26 [==============================] - 0s 12ms/step - loss: 100.5102\n",
            "Epoch 14/50\n",
            "26/26 [==============================] - 0s 12ms/step - loss: 102.7595\n",
            "Epoch 15/50\n",
            "26/26 [==============================] - 0s 13ms/step - loss: 103.8160\n",
            "Epoch 16/50\n",
            "26/26 [==============================] - 0s 12ms/step - loss: 101.3124\n",
            "Epoch 17/50\n",
            "26/26 [==============================] - 0s 12ms/step - loss: 100.6816\n",
            "Epoch 18/50\n",
            "26/26 [==============================] - 0s 13ms/step - loss: 103.3107\n",
            "Epoch 19/50\n",
            "26/26 [==============================] - 0s 12ms/step - loss: 101.0713\n",
            "Epoch 20/50\n",
            "26/26 [==============================] - 0s 12ms/step - loss: 105.1777\n",
            "Epoch 21/50\n",
            "26/26 [==============================] - 0s 13ms/step - loss: 102.6454\n",
            "Epoch 22/50\n",
            "26/26 [==============================] - 0s 12ms/step - loss: 104.3255\n",
            "Epoch 23/50\n",
            "26/26 [==============================] - 0s 12ms/step - loss: 103.3172\n",
            "Epoch 24/50\n",
            "26/26 [==============================] - 0s 12ms/step - loss: 100.9532\n",
            "Epoch 25/50\n",
            "26/26 [==============================] - 0s 12ms/step - loss: 102.5338\n",
            "Epoch 26/50\n",
            "26/26 [==============================] - 0s 12ms/step - loss: 100.5892\n",
            "Epoch 27/50\n",
            "26/26 [==============================] - 0s 12ms/step - loss: 100.4533\n",
            "Epoch 28/50\n",
            "26/26 [==============================] - 0s 11ms/step - loss: 103.4230\n",
            "Epoch 29/50\n",
            "26/26 [==============================] - 0s 11ms/step - loss: 100.3555\n",
            "Epoch 30/50\n",
            "26/26 [==============================] - 0s 13ms/step - loss: 101.9335\n",
            "Epoch 31/50\n",
            "26/26 [==============================] - 0s 12ms/step - loss: 100.7510\n",
            "Epoch 32/50\n",
            "26/26 [==============================] - 0s 12ms/step - loss: 101.1763\n",
            "Epoch 33/50\n",
            "26/26 [==============================] - 0s 13ms/step - loss: 100.8550\n",
            "Epoch 34/50\n",
            "26/26 [==============================] - 0s 12ms/step - loss: 102.6139\n",
            "Epoch 35/50\n",
            "26/26 [==============================] - 0s 12ms/step - loss: 101.6079\n",
            "Epoch 36/50\n",
            "26/26 [==============================] - 0s 13ms/step - loss: 102.4894\n",
            "Epoch 37/50\n",
            "26/26 [==============================] - 0s 14ms/step - loss: 99.6628\n",
            "Epoch 38/50\n",
            "26/26 [==============================] - 0s 13ms/step - loss: 101.3097\n",
            "Epoch 39/50\n",
            "26/26 [==============================] - 0s 13ms/step - loss: 99.4656\n",
            "Epoch 40/50\n",
            "26/26 [==============================] - 0s 12ms/step - loss: 99.7479\n",
            "Epoch 41/50\n",
            "26/26 [==============================] - 0s 12ms/step - loss: 100.4434\n",
            "Epoch 42/50\n",
            "26/26 [==============================] - 0s 12ms/step - loss: 98.9767\n",
            "Epoch 43/50\n",
            "26/26 [==============================] - 0s 12ms/step - loss: 101.7642\n",
            "Epoch 44/50\n",
            "26/26 [==============================] - 0s 12ms/step - loss: 98.7902\n",
            "Epoch 45/50\n",
            "26/26 [==============================] - 0s 13ms/step - loss: 101.4842\n",
            "Epoch 46/50\n",
            "26/26 [==============================] - 0s 12ms/step - loss: 99.0079\n",
            "Epoch 47/50\n",
            "26/26 [==============================] - 0s 12ms/step - loss: 103.7071\n",
            "Epoch 48/50\n",
            "26/26 [==============================] - 0s 12ms/step - loss: 100.3926\n",
            "Epoch 49/50\n",
            "26/26 [==============================] - 0s 12ms/step - loss: 100.4408\n",
            "Epoch 50/50\n",
            "26/26 [==============================] - 0s 12ms/step - loss: 99.4871\n"
          ]
        },
        {
          "output_type": "stream",
          "name": "stderr",
          "text": [
            "INFO:fbprophet:Disabling yearly seasonality. Run prophet with yearly_seasonality=True to override this.\n",
            "INFO:fbprophet:Disabling daily seasonality. Run prophet with daily_seasonality=True to override this.\n"
          ]
        },
        {
          "output_type": "stream",
          "name": "stdout",
          "text": [
            "Model Number: 116 with model FBProphet in generation 0 of 10\n",
            "Model Number: 117 with model ETS in generation 0 of 10\n",
            "ETS error TypeError(\"__init__() got an unexpected keyword argument 'damped_trend'\")\n",
            "Template Eval Error: ValueError('Model ETS returned NaN for one or more series. fail_on_forecast_nan=True') in model 117: ETS\n",
            "Model Number: 118 with model ConstantNaive in generation 0 of 10\n",
            "Model Number: 119 with model UnivariateMotif in generation 0 of 10\n",
            "Model Number: 120 with model ConstantNaive in generation 0 of 10\n",
            "Model Number: 121 with model SeasonalNaive in generation 0 of 10\n",
            "Model Number: 122 with model SeasonalNaive in generation 0 of 10\n",
            "Model Number: 123 with model VAR in generation 0 of 10\n",
            "Template Eval Error: ValueError('Only gave one variable to VAR') in model 123: VAR\n",
            "Model Number: 124 with model GLS in generation 0 of 10\n",
            "Model Number: 125 with model WindowRegression in generation 0 of 10\n",
            "Epoch 1/50\n",
            "78/78 [==============================] - 8s 6ms/step - loss: nan\n",
            "Epoch 2/50\n",
            "78/78 [==============================] - 0s 6ms/step - loss: nan\n",
            "Epoch 3/50\n",
            "78/78 [==============================] - 0s 5ms/step - loss: nan\n",
            "Epoch 4/50\n",
            "78/78 [==============================] - 0s 6ms/step - loss: nan\n",
            "Epoch 5/50\n",
            "78/78 [==============================] - 0s 5ms/step - loss: nan\n",
            "Epoch 6/50\n",
            "78/78 [==============================] - 0s 6ms/step - loss: nan\n",
            "Epoch 7/50\n",
            "78/78 [==============================] - 0s 6ms/step - loss: nan\n",
            "Epoch 8/50\n",
            "78/78 [==============================] - 0s 6ms/step - loss: nan\n",
            "Epoch 9/50\n",
            "78/78 [==============================] - 0s 6ms/step - loss: nan\n",
            "Epoch 10/50\n",
            "78/78 [==============================] - 0s 6ms/step - loss: nan\n",
            "Epoch 11/50\n",
            "78/78 [==============================] - 1s 7ms/step - loss: nan\n",
            "Epoch 12/50\n",
            "78/78 [==============================] - 1s 8ms/step - loss: nan\n",
            "Epoch 13/50\n",
            "78/78 [==============================] - 1s 7ms/step - loss: nan\n",
            "Epoch 14/50\n",
            "78/78 [==============================] - 0s 5ms/step - loss: nan\n",
            "Epoch 15/50\n",
            "78/78 [==============================] - 0s 6ms/step - loss: nan\n",
            "Epoch 16/50\n",
            "78/78 [==============================] - 1s 7ms/step - loss: nan\n",
            "Epoch 17/50\n",
            "78/78 [==============================] - 0s 6ms/step - loss: nan\n",
            "Epoch 18/50\n",
            "78/78 [==============================] - 0s 6ms/step - loss: nan\n",
            "Epoch 19/50\n",
            "78/78 [==============================] - 0s 6ms/step - loss: nan\n",
            "Epoch 20/50\n",
            "78/78 [==============================] - 0s 6ms/step - loss: nan\n",
            "Epoch 21/50\n",
            "78/78 [==============================] - 0s 6ms/step - loss: nan\n",
            "Epoch 22/50\n",
            "78/78 [==============================] - 0s 6ms/step - loss: nan\n",
            "Epoch 23/50\n",
            "78/78 [==============================] - 0s 6ms/step - loss: nan\n",
            "Epoch 24/50\n",
            "78/78 [==============================] - 0s 6ms/step - loss: nan\n",
            "Epoch 25/50\n",
            "78/78 [==============================] - 0s 6ms/step - loss: nan\n",
            "Epoch 26/50\n",
            "78/78 [==============================] - 0s 6ms/step - loss: nan\n",
            "Epoch 27/50\n",
            "78/78 [==============================] - 0s 5ms/step - loss: nan\n",
            "Epoch 28/50\n",
            "78/78 [==============================] - 0s 6ms/step - loss: nan\n",
            "Epoch 29/50\n",
            "78/78 [==============================] - 1s 6ms/step - loss: nan\n",
            "Epoch 30/50\n",
            "78/78 [==============================] - 1s 7ms/step - loss: nan\n",
            "Epoch 31/50\n",
            "78/78 [==============================] - 0s 6ms/step - loss: nan\n",
            "Epoch 32/50\n",
            "78/78 [==============================] - 1s 7ms/step - loss: nan\n",
            "Epoch 33/50\n",
            "78/78 [==============================] - 0s 6ms/step - loss: nan\n",
            "Epoch 34/50\n",
            "78/78 [==============================] - 1s 6ms/step - loss: nan\n",
            "Epoch 35/50\n",
            "78/78 [==============================] - 0s 6ms/step - loss: nan\n",
            "Epoch 36/50\n",
            "78/78 [==============================] - 0s 6ms/step - loss: nan\n",
            "Epoch 37/50\n",
            "78/78 [==============================] - 0s 5ms/step - loss: nan\n",
            "Epoch 38/50\n",
            "78/78 [==============================] - 0s 6ms/step - loss: nan\n",
            "Epoch 39/50\n",
            "78/78 [==============================] - 0s 5ms/step - loss: nan\n",
            "Epoch 40/50\n",
            "78/78 [==============================] - 0s 5ms/step - loss: nan\n",
            "Epoch 41/50\n",
            "78/78 [==============================] - 0s 5ms/step - loss: nan\n",
            "Epoch 42/50\n",
            "78/78 [==============================] - 0s 6ms/step - loss: nan\n",
            "Epoch 43/50\n",
            "78/78 [==============================] - 0s 6ms/step - loss: nan\n",
            "Epoch 44/50\n",
            "78/78 [==============================] - 0s 5ms/step - loss: nan\n",
            "Epoch 45/50\n",
            "78/78 [==============================] - 0s 6ms/step - loss: nan\n",
            "Epoch 46/50\n",
            "78/78 [==============================] - 0s 5ms/step - loss: nan\n",
            "Epoch 47/50\n",
            "78/78 [==============================] - 0s 6ms/step - loss: nan\n",
            "Epoch 48/50\n",
            "78/78 [==============================] - 0s 6ms/step - loss: nan\n",
            "Epoch 49/50\n",
            "78/78 [==============================] - 0s 6ms/step - loss: nan\n",
            "Epoch 50/50\n",
            "78/78 [==============================] - 0s 6ms/step - loss: nan\n",
            "Model Number: 126 with model UnivariateMotif in generation 0 of 10\n",
            "Model Number: 127 with model WindowRegression in generation 0 of 10\n",
            "Template Eval Error: ValueError(\"regression_type='User' but no future_regressor passed\") in model 127: WindowRegression\n",
            "Model Number: 128 with model SeasonalNaive in generation 0 of 10\n",
            "Model Number: 129 with model MultivariateMotif in generation 0 of 10\n",
            "Model Number: 130 with model ARDL in generation 0 of 10\n",
            "Template Eval Error: ValueError(\"regression_type='User' but future_regressor not supplied\") in model 130: ARDL\n",
            "Model Number: 131 with model ConstantNaive in generation 0 of 10\n",
            "Model Number: 132 with model ETS in generation 0 of 10\n",
            "ETS error TypeError(\"__init__() got an unexpected keyword argument 'damped_trend'\")\n",
            "Model Number: 133 with model UnobservedComponents in generation 0 of 10\n",
            "Template Eval Error: ValueError(\"regression_type='User' but no future_regressor supplied\") in model 133: UnobservedComponents\n",
            "Model Number: 134 with model DatepartRegression in generation 0 of 10\n"
          ]
        },
        {
          "output_type": "stream",
          "name": "stderr",
          "text": [
            "[Parallel(n_jobs=-2)]: Using backend SequentialBackend with 1 concurrent workers.\n"
          ]
        },
        {
          "output_type": "stream",
          "name": "stdout",
          "text": [
            "Model Number: 135 with model NVAR in generation 0 of 10\n",
            "Model Number: 136 with model SectionalMotif in generation 0 of 10\n"
          ]
        },
        {
          "output_type": "stream",
          "name": "stderr",
          "text": [
            "[Parallel(n_jobs=-2)]: Done 300 out of 300 | elapsed:    0.8s finished\n",
            "[Parallel(n_jobs=1)]: Using backend SequentialBackend with 1 concurrent workers.\n",
            "[Parallel(n_jobs=1)]: Done 300 out of 300 | elapsed:    0.0s finished\n"
          ]
        },
        {
          "output_type": "stream",
          "name": "stdout",
          "text": [
            "Model Number: 137 with model NVAR in generation 0 of 10\n",
            "Model Number: 138 with model SeasonalNaive in generation 0 of 10\n",
            "Model Number: 139 with model LastValueNaive in generation 0 of 10\n",
            "Model Number: 140 with model MultivariateMotif in generation 0 of 10\n",
            "Model Number: 141 with model ConstantNaive in generation 0 of 10\n",
            "Model Number: 142 with model ETS in generation 0 of 10\n",
            "ETS error TypeError(\"__init__() got an unexpected keyword argument 'damped_trend'\")\n",
            "ETS failed on First with ValueError('endog must be strictly positive when using multiplicative trend or seasonal components.')\n",
            "Model Number: 143 with model ARDL in generation 0 of 10\n",
            "Template Eval Error: ValueError(\"regression_type='User' but future_regressor not supplied\") in model 143: ARDL\n",
            "Model Number: 144 with model DatepartRegression in generation 0 of 10\n",
            "Model Number: 145 with model NVAR in generation 0 of 10\n",
            "Model Number: 146 with model VAR in generation 0 of 10\n",
            "Template Eval Error: ValueError('Only gave one variable to VAR') in model 146: VAR\n",
            "Model Number: 147 with model SeasonalNaive in generation 0 of 10\n",
            "Model Number: 148 with model GLS in generation 0 of 10\n",
            "Model Number: 149 with model AverageValueNaive in generation 0 of 10\n",
            "Model Number: 150 with model ConstantNaive in generation 0 of 10\n",
            "Model Number: 151 with model SectionalMotif in generation 0 of 10\n",
            "Model Number: 152 with model ConstantNaive in generation 0 of 10\n",
            "Model Number: 153 with model LastValueNaive in generation 0 of 10\n",
            "Model Number: 154 with model FBProphet in generation 0 of 10\n"
          ]
        },
        {
          "output_type": "stream",
          "name": "stderr",
          "text": [
            "INFO:fbprophet:Disabling daily seasonality. Run prophet with daily_seasonality=True to override this.\n"
          ]
        },
        {
          "output_type": "stream",
          "name": "stdout",
          "text": [
            "Model Number: 155 with model GluonTS in generation 0 of 10\n",
            "Template Eval Error: Exception('Transformer STLFilter failed on fit') in model 155: GluonTS\n",
            "Model Number: 156 with model VAR in generation 0 of 10\n",
            "Template Eval Error: ValueError('Only gave one variable to VAR') in model 156: VAR\n",
            "Model Number: 157 with model MultivariateMotif in generation 0 of 10\n",
            "Model Number: 158 with model GLS in generation 0 of 10\n",
            "Model Number: 159 with model GLM in generation 0 of 10\n",
            "Model Number: 160 with model LastValueNaive in generation 0 of 10\n",
            "Model Number: 161 with model MultivariateMotif in generation 0 of 10\n",
            "Model Number: 162 with model VAR in generation 0 of 10\n",
            "Template Eval Error: ValueError('Only gave one variable to VAR') in model 162: VAR\n",
            "Model Number: 163 with model LastValueNaive in generation 0 of 10\n",
            "Model Number: 164 with model NVAR in generation 0 of 10\n",
            "Model Number: 165 with model GluonTS in generation 0 of 10\n",
            "Template Eval Error: ImportError('GluonTS installation not found or installed version is incompatible with AutoTS.') in model 165: GluonTS\n",
            "Model Number: 166 with model MultivariateMotif in generation 0 of 10\n",
            "Model Number: 167 with model ARDL in generation 0 of 10\n",
            "Template Eval Error: ValueError(\"regression_type='User' but future_regressor not supplied\") in model 167: ARDL\n",
            "Model Number: 168 with model SectionalMotif in generation 0 of 10\n",
            "Template Eval Error: ValueError(\"regression_type=='User' but no future_regressor supplied\") in model 168: SectionalMotif\n",
            "Model Number: 169 with model AverageValueNaive in generation 0 of 10\n",
            "New Generation: 1 of 10\n",
            "Model Number: 170 with model SectionalMotif in generation 1 of 10\n",
            "Model Number: 171 with model NVAR in generation 1 of 10\n",
            "Model Number: 172 with model MultivariateMotif in generation 1 of 10\n",
            "Model Number: 173 with model MultivariateRegression in generation 1 of 10\n",
            "Model Number: 174 with model MultivariateRegression in generation 1 of 10\n"
          ]
        },
        {
          "output_type": "stream",
          "name": "stderr",
          "text": [
            "[Parallel(n_jobs=-2)]: Using backend SequentialBackend with 1 concurrent workers.\n",
            "[Parallel(n_jobs=-2)]: Done 200 out of 200 | elapsed:    3.0s finished\n",
            "[Parallel(n_jobs=1)]: Using backend SequentialBackend with 1 concurrent workers.\n",
            "[Parallel(n_jobs=1)]: Done 200 out of 200 | elapsed:    0.0s finished\n",
            "[Parallel(n_jobs=1)]: Using backend SequentialBackend with 1 concurrent workers.\n",
            "[Parallel(n_jobs=1)]: Done 200 out of 200 | elapsed:    0.0s finished\n",
            "[Parallel(n_jobs=1)]: Using backend SequentialBackend with 1 concurrent workers.\n",
            "[Parallel(n_jobs=1)]: Done 200 out of 200 | elapsed:    0.0s finished\n",
            "[Parallel(n_jobs=1)]: Using backend SequentialBackend with 1 concurrent workers.\n",
            "[Parallel(n_jobs=1)]: Done 200 out of 200 | elapsed:    0.0s finished\n",
            "[Parallel(n_jobs=1)]: Using backend SequentialBackend with 1 concurrent workers.\n",
            "[Parallel(n_jobs=1)]: Done 200 out of 200 | elapsed:    0.0s finished\n"
          ]
        },
        {
          "output_type": "stream",
          "name": "stdout",
          "text": [
            "Model Number: 175 with model SeasonalNaive in generation 1 of 10\n",
            "Model Number: 176 with model ETS in generation 1 of 10\n",
            "ETS error TypeError(\"__init__() got an unexpected keyword argument 'damped_trend'\")\n",
            "Model Number: 177 with model DatepartRegression in generation 1 of 10\n"
          ]
        },
        {
          "output_type": "stream",
          "name": "stderr",
          "text": [
            "[Parallel(n_jobs=-2)]: Using backend SequentialBackend with 1 concurrent workers.\n"
          ]
        },
        {
          "output_type": "stream",
          "name": "stdout",
          "text": [
            "Model Number: 178 with model NVAR in generation 1 of 10\n"
          ]
        },
        {
          "output_type": "stream",
          "name": "stderr",
          "text": [
            "[Parallel(n_jobs=-2)]: Done 100 out of 100 | elapsed:    0.9s finished\n",
            "[Parallel(n_jobs=1)]: Using backend SequentialBackend with 1 concurrent workers.\n",
            "[Parallel(n_jobs=1)]: Done 100 out of 100 | elapsed:    0.0s finished\n"
          ]
        },
        {
          "output_type": "stream",
          "name": "stdout",
          "text": [
            "Model Number: 179 with model LastValueNaive in generation 1 of 10\n",
            "Model Number: 180 with model LastValueNaive in generation 1 of 10\n",
            "Model Number: 181 with model LastValueNaive in generation 1 of 10\n",
            "Model Number: 182 with model MultivariateMotif in generation 1 of 10\n",
            "Model Number: 183 with model AverageValueNaive in generation 1 of 10\n"
          ]
        },
        {
          "output_type": "stream",
          "name": "stderr",
          "text": [
            "/usr/local/lib/python3.7/dist-packages/scipy/interpolate/polyint.py:511: RuntimeWarning:\n",
            "\n",
            "overflow encountered in multiply\n",
            "\n",
            "/usr/local/lib/python3.7/dist-packages/scipy/interpolate/polyint.py:513: RuntimeWarning:\n",
            "\n",
            "divide by zero encountered in reciprocal\n",
            "\n",
            "/usr/local/lib/python3.7/dist-packages/numpy/core/fromnumeric.py:86: RuntimeWarning:\n",
            "\n",
            "invalid value encountered in reduce\n",
            "\n",
            "/usr/local/lib/python3.7/dist-packages/scipy/interpolate/polyint.py:609: RuntimeWarning:\n",
            "\n",
            "invalid value encountered in true_divide\n",
            "\n"
          ]
        },
        {
          "output_type": "stream",
          "name": "stdout",
          "text": [
            "Model Number: 184 with model LastValueNaive in generation 1 of 10\n",
            "Model Number: 185 with model NVAR in generation 1 of 10\n",
            "Model Number: 186 with model LastValueNaive in generation 1 of 10\n",
            "Model Number: 187 with model DatepartRegression in generation 1 of 10\n",
            "Model Number: 188 with model GLS in generation 1 of 10\n",
            "Model Number: 189 with model GLS in generation 1 of 10\n",
            "Model Number: 190 with model ConstantNaive in generation 1 of 10\n",
            "Model Number: 191 with model NVAR in generation 1 of 10\n",
            "Model Number: 192 with model ETS in generation 1 of 10\n",
            "ETS error TypeError(\"__init__() got an unexpected keyword argument 'damped_trend'\")\n",
            "Model Number: 193 with model FBProphet in generation 1 of 10\n",
            "Template Eval Error: Exception('Transformer Detrend failed on fit') in model 193: FBProphet\n",
            "Model Number: 194 with model UnivariateMotif in generation 1 of 10\n",
            "Model Number: 195 with model MultivariateMotif in generation 1 of 10\n",
            "Model Number: 196 with model ETS in generation 1 of 10\n",
            "ETS error TypeError(\"__init__() got an unexpected keyword argument 'damped_trend'\")\n",
            "Model Number: 197 with model UnivariateRegression in generation 1 of 10\n",
            "Model Number: 198 with model SeasonalNaive in generation 1 of 10\n",
            "Model Number: 199 with model GLM in generation 1 of 10\n",
            "Template Eval Error: ValueError('The first guess on the deviance function returned a nan.  This could be a boundary  problem and should be reported.') in model 199: GLM\n",
            "Model Number: 200 with model NVAR in generation 1 of 10\n",
            "Model Number: 201 with model UnobservedComponents in generation 1 of 10\n",
            "Template Eval Error: ValueError(\"regression_type='User' but no future_regressor supplied\") in model 201: UnobservedComponents\n",
            "Model Number: 202 with model NVAR in generation 1 of 10\n"
          ]
        },
        {
          "output_type": "stream",
          "name": "stderr",
          "text": [
            "/usr/local/lib/python3.7/dist-packages/statsmodels/genmod/families/family.py:1227: RuntimeWarning:\n",
            "\n",
            "divide by zero encountered in log\n",
            "\n",
            "/usr/local/lib/python3.7/dist-packages/statsmodels/genmod/families/family.py:1227: RuntimeWarning:\n",
            "\n",
            "invalid value encountered in multiply\n",
            "\n"
          ]
        },
        {
          "output_type": "stream",
          "name": "stdout",
          "text": [
            "Model Number: 203 with model UnivariateMotif in generation 1 of 10\n",
            "Model Number: 204 with model LastValueNaive in generation 1 of 10\n",
            "Model Number: 205 with model NVAR in generation 1 of 10\n",
            "Model Number: 206 with model UnivariateMotif in generation 1 of 10\n",
            "Model Number: 207 with model GLS in generation 1 of 10\n",
            "Model Number: 208 with model LastValueNaive in generation 1 of 10\n"
          ]
        },
        {
          "output_type": "stream",
          "name": "stderr",
          "text": [
            "/usr/local/lib/python3.7/dist-packages/scipy/interpolate/polyint.py:511: RuntimeWarning:\n",
            "\n",
            "overflow encountered in multiply\n",
            "\n",
            "/usr/local/lib/python3.7/dist-packages/scipy/interpolate/polyint.py:513: RuntimeWarning:\n",
            "\n",
            "divide by zero encountered in reciprocal\n",
            "\n",
            "/usr/local/lib/python3.7/dist-packages/numpy/core/fromnumeric.py:86: RuntimeWarning:\n",
            "\n",
            "invalid value encountered in reduce\n",
            "\n",
            "/usr/local/lib/python3.7/dist-packages/scipy/interpolate/polyint.py:609: RuntimeWarning:\n",
            "\n",
            "invalid value encountered in true_divide\n",
            "\n"
          ]
        },
        {
          "output_type": "stream",
          "name": "stdout",
          "text": [
            "Model Number: 209 with model ETS in generation 1 of 10\n",
            "ETS error TypeError(\"__init__() got an unexpected keyword argument 'damped_trend'\")\n",
            "Model Number: 210 with model WindowRegression in generation 1 of 10\n",
            "Model Number: 211 with model NVAR in generation 1 of 10\n",
            "Model Number: 212 with model UnivariateMotif in generation 1 of 10\n",
            "Template Eval Error: Exception('Transformer STLFilter failed on fit') in model 212: UnivariateMotif\n",
            "Model Number: 213 with model FBProphet in generation 1 of 10\n"
          ]
        },
        {
          "output_type": "stream",
          "name": "stderr",
          "text": [
            "/usr/local/lib/python3.7/dist-packages/scipy/signal/signaltools.py:1456: RuntimeWarning:\n",
            "\n",
            "divide by zero encountered in true_divide\n",
            "\n",
            "/usr/local/lib/python3.7/dist-packages/scipy/signal/signaltools.py:1456: RuntimeWarning:\n",
            "\n",
            "invalid value encountered in multiply\n",
            "\n",
            "INFO:fbprophet:Disabling daily seasonality. Run prophet with daily_seasonality=True to override this.\n"
          ]
        },
        {
          "output_type": "stream",
          "name": "stdout",
          "text": [
            "Model Number: 214 with model SeasonalNaive in generation 1 of 10\n",
            "Model Number: 215 with model DatepartRegression in generation 1 of 10\n",
            "Template Eval Error: ValueError(\"regression_type='User' but no future_regressor passed\") in model 215: DatepartRegression\n",
            "Model Number: 216 with model SeasonalNaive in generation 1 of 10\n",
            "Model Number: 217 with model DatepartRegression in generation 1 of 10\n",
            "Model Number: 218 with model FBProphet in generation 1 of 10\n"
          ]
        },
        {
          "output_type": "stream",
          "name": "stderr",
          "text": [
            "INFO:fbprophet:Disabling daily seasonality. Run prophet with daily_seasonality=True to override this.\n"
          ]
        },
        {
          "output_type": "stream",
          "name": "stdout",
          "text": [
            "Model Number: 219 with model ETS in generation 1 of 10\n",
            "Template Eval Error: Exception('Transformer STLFilter failed on fit') in model 219: ETS\n",
            "Model Number: 220 with model DatepartRegression in generation 1 of 10\n"
          ]
        },
        {
          "output_type": "stream",
          "name": "stderr",
          "text": [
            "[Parallel(n_jobs=-2)]: Using backend SequentialBackend with 1 concurrent workers.\n"
          ]
        },
        {
          "output_type": "stream",
          "name": "stdout",
          "text": [
            "Model Number: 221 with model GLS in generation 1 of 10\n",
            "Model Number: 222 with model SeasonalNaive in generation 1 of 10\n"
          ]
        },
        {
          "output_type": "stream",
          "name": "stderr",
          "text": [
            "[Parallel(n_jobs=-2)]: Done 300 out of 300 | elapsed:    0.6s finished\n",
            "[Parallel(n_jobs=1)]: Using backend SequentialBackend with 1 concurrent workers.\n",
            "[Parallel(n_jobs=1)]: Done 300 out of 300 | elapsed:    0.0s finished\n"
          ]
        },
        {
          "output_type": "stream",
          "name": "stdout",
          "text": [
            "Model Number: 223 with model ConstantNaive in generation 1 of 10\n",
            "Model Number: 224 with model SectionalMotif in generation 1 of 10\n",
            "Template Eval Error: Exception('Transformer STLFilter failed on fit') in model 224: SectionalMotif\n",
            "Model Number: 225 with model FBProphet in generation 1 of 10\n"
          ]
        },
        {
          "output_type": "stream",
          "name": "stderr",
          "text": [
            "INFO:fbprophet:Disabling daily seasonality. Run prophet with daily_seasonality=True to override this.\n"
          ]
        },
        {
          "output_type": "stream",
          "name": "stdout",
          "text": [
            "Model Number: 226 with model MultivariateMotif in generation 1 of 10\n",
            "Model Number: 227 with model SectionalMotif in generation 1 of 10\n",
            "Model Number: 228 with model UnobservedComponents in generation 1 of 10\n",
            "Template Eval Error: LinAlgError('Non-positive-definite forecast error covariance matrix encountered at period 1') in model 228: UnobservedComponents\n",
            "Model Number: 229 with model ETS in generation 1 of 10\n",
            "ETS error TypeError(\"__init__() got an unexpected keyword argument 'damped_trend'\")\n",
            "Model Number: 230 with model ConstantNaive in generation 1 of 10\n",
            "Model Number: 231 with model SeasonalNaive in generation 1 of 10\n",
            "Model Number: 232 with model LastValueNaive in generation 1 of 10\n"
          ]
        },
        {
          "output_type": "stream",
          "name": "stderr",
          "text": [
            "/usr/local/lib/python3.7/dist-packages/sklearn/linear_model/_glm/link.py:90: RuntimeWarning:\n",
            "\n",
            "overflow encountered in exp\n",
            "\n",
            "/usr/local/lib/python3.7/dist-packages/sklearn/linear_model/_glm/link.py:93: RuntimeWarning:\n",
            "\n",
            "overflow encountered in exp\n",
            "\n",
            "/usr/local/lib/python3.7/dist-packages/sklearn/_loss/glm_distribution.py:132: RuntimeWarning:\n",
            "\n",
            "invalid value encountered in true_divide\n",
            "\n",
            "/usr/local/lib/python3.7/dist-packages/sklearn/_loss/glm_distribution.py:323: RuntimeWarning:\n",
            "\n",
            "invalid value encountered in add\n",
            "\n",
            "/usr/local/lib/python3.7/dist-packages/sklearn/linear_model/_glm/glm.py:323: ConvergenceWarning:\n",
            "\n",
            "lbfgs failed to converge (status=2):\n",
            "ABNORMAL_TERMINATION_IN_LNSRCH.\n",
            "\n",
            "Increase the number of iterations (max_iter) or scale the data as shown in:\n",
            "    https://scikit-learn.org/stable/modules/preprocessing.html\n",
            "\n",
            "/usr/local/lib/python3.7/dist-packages/sklearn/linear_model/_glm/link.py:90: RuntimeWarning:\n",
            "\n",
            "overflow encountered in exp\n",
            "\n",
            "/usr/local/lib/python3.7/dist-packages/sklearn/linear_model/_glm/link.py:93: RuntimeWarning:\n",
            "\n",
            "overflow encountered in exp\n",
            "\n",
            "/usr/local/lib/python3.7/dist-packages/sklearn/_loss/glm_distribution.py:132: RuntimeWarning:\n",
            "\n",
            "invalid value encountered in true_divide\n",
            "\n",
            "/usr/local/lib/python3.7/dist-packages/sklearn/_loss/glm_distribution.py:323: RuntimeWarning:\n",
            "\n",
            "invalid value encountered in add\n",
            "\n",
            "/usr/local/lib/python3.7/dist-packages/sklearn/linear_model/_glm/glm.py:323: ConvergenceWarning:\n",
            "\n",
            "lbfgs failed to converge (status=2):\n",
            "ABNORMAL_TERMINATION_IN_LNSRCH.\n",
            "\n",
            "Increase the number of iterations (max_iter) or scale the data as shown in:\n",
            "    https://scikit-learn.org/stable/modules/preprocessing.html\n",
            "\n"
          ]
        },
        {
          "output_type": "stream",
          "name": "stdout",
          "text": [
            "Model Number: 233 with model SectionalMotif in generation 1 of 10\n",
            "Template Eval Error: Exception('Transformer Detrend failed on fit') in model 233: SectionalMotif\n",
            "Model Number: 234 with model UnobservedComponents in generation 1 of 10\n",
            "Model Number: 235 with model SeasonalNaive in generation 1 of 10\n",
            "Model Number: 236 with model MultivariateMotif in generation 1 of 10\n",
            "Model Number: 237 with model NVAR in generation 1 of 10\n",
            "Model Number: 238 with model DatepartRegression in generation 1 of 10\n",
            "Epoch 1/50\n",
            "228/228 [==============================] - 6s 7ms/step - loss: 0.0094\n",
            "Epoch 2/50\n",
            "228/228 [==============================] - 2s 7ms/step - loss: 0.0092\n",
            "Epoch 3/50\n",
            "228/228 [==============================] - 2s 8ms/step - loss: 0.0091\n",
            "Epoch 4/50\n",
            "228/228 [==============================] - 2s 8ms/step - loss: 0.0091\n",
            "Epoch 5/50\n",
            "228/228 [==============================] - 2s 8ms/step - loss: 0.0091\n",
            "Epoch 6/50\n",
            "228/228 [==============================] - 2s 7ms/step - loss: 0.0091\n",
            "Epoch 7/50\n",
            "228/228 [==============================] - 2s 8ms/step - loss: 0.0091\n",
            "Epoch 8/50\n",
            "228/228 [==============================] - 2s 8ms/step - loss: 0.0090\n",
            "Epoch 9/50\n",
            "228/228 [==============================] - 2s 8ms/step - loss: 0.0091\n",
            "Epoch 10/50\n",
            "228/228 [==============================] - 2s 7ms/step - loss: 0.0090\n",
            "Epoch 11/50\n",
            "228/228 [==============================] - 2s 7ms/step - loss: 0.0090\n",
            "Epoch 12/50\n",
            "228/228 [==============================] - 2s 8ms/step - loss: 0.0091\n",
            "Epoch 13/50\n",
            "228/228 [==============================] - 2s 8ms/step - loss: 0.0091\n",
            "Epoch 14/50\n",
            "228/228 [==============================] - 2s 8ms/step - loss: 0.0091\n",
            "Epoch 15/50\n",
            "228/228 [==============================] - 2s 8ms/step - loss: 0.0091\n",
            "Epoch 16/50\n",
            "228/228 [==============================] - 2s 8ms/step - loss: 0.0090\n",
            "Epoch 17/50\n",
            "228/228 [==============================] - 2s 8ms/step - loss: 0.0090\n",
            "Epoch 18/50\n",
            "228/228 [==============================] - 2s 7ms/step - loss: 0.0090\n",
            "Epoch 19/50\n",
            "228/228 [==============================] - 2s 8ms/step - loss: 0.0090\n",
            "Epoch 20/50\n",
            "228/228 [==============================] - 2s 7ms/step - loss: 0.0090\n",
            "Epoch 21/50\n",
            "228/228 [==============================] - 2s 7ms/step - loss: 0.0090\n",
            "Epoch 22/50\n",
            "228/228 [==============================] - 2s 7ms/step - loss: 0.0090\n",
            "Epoch 23/50\n",
            "228/228 [==============================] - 2s 8ms/step - loss: 0.0090\n",
            "Epoch 24/50\n",
            "228/228 [==============================] - 2s 7ms/step - loss: 0.0090\n",
            "Epoch 25/50\n",
            "228/228 [==============================] - 2s 7ms/step - loss: 0.0090\n",
            "Epoch 26/50\n",
            "228/228 [==============================] - 2s 10ms/step - loss: 0.0090\n",
            "Epoch 27/50\n",
            "228/228 [==============================] - 2s 8ms/step - loss: 0.0090\n",
            "Epoch 28/50\n",
            "228/228 [==============================] - 2s 8ms/step - loss: 0.0090\n",
            "Epoch 29/50\n",
            "228/228 [==============================] - 2s 7ms/step - loss: 0.0090\n",
            "Epoch 30/50\n",
            "228/228 [==============================] - 2s 8ms/step - loss: 0.0090\n",
            "Epoch 31/50\n",
            "228/228 [==============================] - 2s 8ms/step - loss: 0.0090\n",
            "Epoch 32/50\n",
            "228/228 [==============================] - 2s 8ms/step - loss: 0.0090\n",
            "Epoch 33/50\n",
            "228/228 [==============================] - 2s 7ms/step - loss: 0.0090\n",
            "Epoch 34/50\n",
            "228/228 [==============================] - 2s 8ms/step - loss: 0.0090\n",
            "Epoch 35/50\n",
            "228/228 [==============================] - 2s 8ms/step - loss: 0.0090\n",
            "Epoch 36/50\n",
            "228/228 [==============================] - 2s 7ms/step - loss: 0.0090\n",
            "Epoch 37/50\n",
            "228/228 [==============================] - 2s 7ms/step - loss: 0.0090\n",
            "Epoch 38/50\n",
            "228/228 [==============================] - 2s 7ms/step - loss: 0.0090\n",
            "Epoch 39/50\n",
            "228/228 [==============================] - 2s 8ms/step - loss: 0.0090\n",
            "Epoch 40/50\n",
            "228/228 [==============================] - 2s 7ms/step - loss: 0.0090\n",
            "Epoch 41/50\n",
            "228/228 [==============================] - 2s 8ms/step - loss: 0.0090\n",
            "Epoch 42/50\n",
            "228/228 [==============================] - 2s 8ms/step - loss: 0.0090\n",
            "Epoch 43/50\n",
            "228/228 [==============================] - 2s 8ms/step - loss: 0.0090\n",
            "Epoch 44/50\n",
            "228/228 [==============================] - 2s 9ms/step - loss: 0.0090\n",
            "Epoch 45/50\n",
            "228/228 [==============================] - 2s 8ms/step - loss: 0.0090\n",
            "Epoch 46/50\n",
            "228/228 [==============================] - 2s 7ms/step - loss: 0.0090\n",
            "Epoch 47/50\n",
            "228/228 [==============================] - 2s 8ms/step - loss: 0.0090\n",
            "Epoch 48/50\n",
            "228/228 [==============================] - 2s 8ms/step - loss: 0.0090\n",
            "Epoch 49/50\n",
            "228/228 [==============================] - 2s 7ms/step - loss: 0.0090\n",
            "Epoch 50/50\n",
            "228/228 [==============================] - 2s 7ms/step - loss: 0.0090\n",
            "Model Number: 239 with model AverageValueNaive in generation 1 of 10\n",
            "Model Number: 240 with model LastValueNaive in generation 1 of 10\n"
          ]
        },
        {
          "output_type": "stream",
          "name": "stderr",
          "text": [
            "INFO:fbprophet:Disabling daily seasonality. Run prophet with daily_seasonality=True to override this.\n"
          ]
        },
        {
          "output_type": "stream",
          "name": "stdout",
          "text": [
            "Model Number: 241 with model FBProphet in generation 1 of 10\n",
            "Model Number: 242 with model MultivariateMotif in generation 1 of 10\n",
            "Model Number: 243 with model NVAR in generation 1 of 10\n",
            "Model Number: 244 with model UnivariateRegression in generation 1 of 10\n",
            "Model Number: 245 with model WindowRegression in generation 1 of 10\n",
            "Template Eval Error: ValueError(\"regression_type='User' but no future_regressor passed\") in model 245: WindowRegression\n",
            "Model Number: 246 with model SeasonalNaive in generation 1 of 10\n",
            "Model Number: 247 with model UnivariateMotif in generation 1 of 10\n",
            "Model Number: 248 with model ETS in generation 1 of 10\n",
            "ETS error TypeError(\"__init__() got an unexpected keyword argument 'damped_trend'\")\n"
          ]
        },
        {
          "output_type": "stream",
          "name": "stderr",
          "text": [
            "/usr/local/lib/python3.7/dist-packages/autots/tools/probabilistic.py:67: RuntimeWarning:\n",
            "\n",
            "invalid value encountered in true_divide\n",
            "\n",
            "/usr/local/lib/python3.7/dist-packages/autots/tools/probabilistic.py:68: RuntimeWarning:\n",
            "\n",
            "divide by zero encountered in true_divide\n",
            "\n"
          ]
        },
        {
          "output_type": "stream",
          "name": "stdout",
          "text": [
            "Model Number: 249 with model ConstantNaive in generation 1 of 10\n",
            "Model Number: 250 with model FBProphet in generation 1 of 10\n",
            "Template Eval Error: Exception('Transformer Detrend failed on fit') in model 250: FBProphet\n",
            "Model Number: 251 with model AverageValueNaive in generation 1 of 10\n",
            "Model Number: 252 with model ConstantNaive in generation 1 of 10\n",
            "Model Number: 253 with model NVAR in generation 1 of 10\n",
            "Model Number: 254 with model ConstantNaive in generation 1 of 10\n",
            "Model Number: 255 with model DatepartRegression in generation 1 of 10\n",
            "Template Eval Error: ValueError(\"regression_type='User' but no future_regressor passed\") in model 255: DatepartRegression\n",
            "Model Number: 256 with model ETS in generation 1 of 10\n",
            "ETS error TypeError(\"__init__() got an unexpected keyword argument 'damped_trend'\")\n",
            "Model Number: 257 with model SectionalMotif in generation 1 of 10\n",
            "Model Number: 258 with model AverageValueNaive in generation 1 of 10\n",
            "Model Number: 259 with model ConstantNaive in generation 1 of 10\n",
            "Model Number: 260 with model LastValueNaive in generation 1 of 10\n",
            "Model Number: 261 with model UnivariateRegression in generation 1 of 10\n",
            "Model Number: 262 with model SectionalMotif in generation 1 of 10\n",
            "Model Number: 263 with model FBProphet in generation 1 of 10\n"
          ]
        },
        {
          "output_type": "stream",
          "name": "stderr",
          "text": [
            "/usr/local/lib/python3.7/dist-packages/autots/tools/probabilistic.py:67: RuntimeWarning:\n",
            "\n",
            "invalid value encountered in true_divide\n",
            "\n",
            "/usr/local/lib/python3.7/dist-packages/autots/tools/probabilistic.py:68: RuntimeWarning:\n",
            "\n",
            "divide by zero encountered in true_divide\n",
            "\n",
            "INFO:fbprophet:Disabling daily seasonality. Run prophet with daily_seasonality=True to override this.\n"
          ]
        },
        {
          "output_type": "stream",
          "name": "stdout",
          "text": [
            "Model Number: 264 with model UnobservedComponents in generation 1 of 10\n",
            "Model Number: 265 with model UnobservedComponents in generation 1 of 10\n",
            "Template Eval Error: ValueError('Provided exogenous values are not of the appropriate shape. Required (5, 1), got (5,).') in model 265: UnobservedComponents\n",
            "Model Number: 266 with model NVAR in generation 1 of 10\n",
            "Model Number: 267 with model NVAR in generation 1 of 10\n",
            "Model Number: 268 with model ConstantNaive in generation 1 of 10\n",
            "Model Number: 269 with model LastValueNaive in generation 1 of 10\n",
            "Model Number: 270 with model SectionalMotif in generation 1 of 10\n",
            "Model Number: 271 with model ConstantNaive in generation 1 of 10\n",
            "Model Number: 272 with model WindowRegression in generation 1 of 10\n",
            "Model Number: 273 with model UnivariateMotif in generation 1 of 10\n",
            "Model Number: 274 with model GLS in generation 1 of 10\n",
            "Model Number: 275 with model UnivariateMotif in generation 1 of 10\n",
            "Model Number: 276 with model MultivariateMotif in generation 1 of 10\n",
            "Model Number: 277 with model ConstantNaive in generation 1 of 10\n",
            "Model Number: 278 with model GLS in generation 1 of 10\n",
            "Model Number: 279 with model FBProphet in generation 1 of 10\n"
          ]
        },
        {
          "output_type": "stream",
          "name": "stderr",
          "text": [
            "INFO:fbprophet:Disabling daily seasonality. Run prophet with daily_seasonality=True to override this.\n"
          ]
        },
        {
          "output_type": "stream",
          "name": "stdout",
          "text": [
            "New Generation: 2 of 10\n",
            "Model Number: 280 with model UnivariateMotif in generation 2 of 10\n",
            "Model Number: 281 with model DatepartRegression in generation 2 of 10\n",
            "Template Eval Error: ValueError(\"regression_type='User' but no future_regressor passed\") in model 281: DatepartRegression\n",
            "Model Number: 282 with model SectionalMotif in generation 2 of 10\n",
            "Model Number: 283 with model MultivariateMotif in generation 2 of 10\n",
            "Model Number: 284 with model AverageValueNaive in generation 2 of 10\n",
            "Model Number: 285 with model ConstantNaive in generation 2 of 10\n",
            "Model Number: 286 with model ETS in generation 2 of 10\n",
            "ETS error TypeError(\"__init__() got an unexpected keyword argument 'damped_trend'\")\n",
            "Model Number: 287 with model UnivariateRegression in generation 2 of 10\n",
            "Template Eval Error: Exception('Transformer Detrend failed on fit') in model 287: UnivariateRegression\n",
            "Model Number: 288 with model DatepartRegression in generation 2 of 10\n"
          ]
        },
        {
          "output_type": "stream",
          "name": "stderr",
          "text": [
            "/usr/local/lib/python3.7/dist-packages/sklearn/svm/_base.py:1208: ConvergenceWarning:\n",
            "\n",
            "Liblinear failed to converge, increase the number of iterations.\n",
            "\n"
          ]
        },
        {
          "output_type": "stream",
          "name": "stdout",
          "text": [
            "Model Number: 289 with model WindowRegression in generation 2 of 10\n",
            "Model Number: 290 with model UnivariateRegression in generation 2 of 10\n",
            "Template Eval Error: ValueError(\"regression_type='User' but not future_regressor supplied.\") in model 290: UnivariateRegression\n",
            "Model Number: 291 with model UnivariateMotif in generation 2 of 10\n",
            "Model Number: 292 with model AverageValueNaive in generation 2 of 10\n",
            "Model Number: 293 with model SectionalMotif in generation 2 of 10\n",
            "Model Number: 294 with model GLS in generation 2 of 10\n",
            "Model Number: 295 with model ETS in generation 2 of 10\n",
            "ETS error TypeError(\"__init__() got an unexpected keyword argument 'damped_trend'\")\n",
            "Model Number: 296 with model GLS in generation 2 of 10\n",
            "Model Number: 297 with model FBProphet in generation 2 of 10\n",
            "Template Eval Error: Exception('Transformer Cointegration failed on fit') in model 297: FBProphet\n",
            "Model Number: 298 with model SectionalMotif in generation 2 of 10\n",
            "Model Number: 299 with model LastValueNaive in generation 2 of 10\n",
            "Model Number: 300 with model LastValueNaive in generation 2 of 10\n",
            "Template Eval Error: Exception('Transformer BTCD failed on fit') in model 300: LastValueNaive\n",
            "Model Number: 301 with model MultivariateMotif in generation 2 of 10\n",
            "Model Number: 302 with model ConstantNaive in generation 2 of 10\n"
          ]
        },
        {
          "output_type": "stream",
          "name": "stderr",
          "text": [
            "/usr/local/lib/python3.7/dist-packages/sklearn/linear_model/_glm/link.py:90: RuntimeWarning:\n",
            "\n",
            "overflow encountered in exp\n",
            "\n",
            "/usr/local/lib/python3.7/dist-packages/sklearn/linear_model/_glm/link.py:93: RuntimeWarning:\n",
            "\n",
            "overflow encountered in exp\n",
            "\n",
            "/usr/local/lib/python3.7/dist-packages/sklearn/_loss/glm_distribution.py:132: RuntimeWarning:\n",
            "\n",
            "invalid value encountered in true_divide\n",
            "\n"
          ]
        },
        {
          "output_type": "stream",
          "name": "stdout",
          "text": [
            "Model Number: 303 with model ETS in generation 2 of 10\n",
            "ETS error TypeError(\"__init__() got an unexpected keyword argument 'damped_trend'\")\n",
            "Model Number: 304 with model SeasonalNaive in generation 2 of 10\n",
            "Model Number: 305 with model WindowRegression in generation 2 of 10\n"
          ]
        },
        {
          "output_type": "stream",
          "name": "stderr",
          "text": [
            "/usr/local/lib/python3.7/dist-packages/sklearn/neural_network/_multilayer_perceptron.py:549: ConvergenceWarning:\n",
            "\n",
            "lbfgs failed to converge (status=1):\n",
            "STOP: TOTAL NO. of ITERATIONS REACHED LIMIT.\n",
            "\n",
            "Increase the number of iterations (max_iter) or scale the data as shown in:\n",
            "    https://scikit-learn.org/stable/modules/preprocessing.html\n",
            "\n"
          ]
        },
        {
          "output_type": "stream",
          "name": "stdout",
          "text": [
            "Model Number: 306 with model LastValueNaive in generation 2 of 10\n",
            "Model Number: 307 with model SectionalMotif in generation 2 of 10\n",
            "Model Number: 308 with model WindowRegression in generation 2 of 10\n",
            "Model Number: 309 with model UnivariateRegression in generation 2 of 10\n",
            "Model Number: 310 with model ConstantNaive in generation 2 of 10\n",
            "Model Number: 311 with model SectionalMotif in generation 2 of 10\n",
            "Model Number: 312 with model WindowRegression in generation 2 of 10\n"
          ]
        },
        {
          "output_type": "stream",
          "name": "stderr",
          "text": [
            "/usr/local/lib/python3.7/dist-packages/sklearn/linear_model/_ridge.py:157: LinAlgWarning:\n",
            "\n",
            "Ill-conditioned matrix (rcond=1.33503e-19): result may not be accurate.\n",
            "\n",
            "/usr/local/lib/python3.7/dist-packages/autots/tools/probabilistic.py:67: RuntimeWarning:\n",
            "\n",
            "invalid value encountered in true_divide\n",
            "\n",
            "/usr/local/lib/python3.7/dist-packages/autots/tools/probabilistic.py:68: RuntimeWarning:\n",
            "\n",
            "divide by zero encountered in true_divide\n",
            "\n"
          ]
        },
        {
          "output_type": "stream",
          "name": "stdout",
          "text": [
            "Model Number: 313 with model UnivariateRegression in generation 2 of 10\n"
          ]
        },
        {
          "output_type": "stream",
          "name": "stderr",
          "text": [
            "/usr/local/lib/python3.7/dist-packages/sklearn/svm/_base.py:1208: ConvergenceWarning:\n",
            "\n",
            "Liblinear failed to converge, increase the number of iterations.\n",
            "\n"
          ]
        },
        {
          "output_type": "stream",
          "name": "stdout",
          "text": [
            "Model Number: 314 with model MultivariateMotif in generation 2 of 10\n",
            "Model Number: 315 with model NVAR in generation 2 of 10\n",
            "Model Number: 316 with model ConstantNaive in generation 2 of 10\n",
            "Model Number: 317 with model MultivariateMotif in generation 2 of 10\n",
            "Model Number: 318 with model MultivariateMotif in generation 2 of 10\n",
            "Model Number: 319 with model MultivariateMotif in generation 2 of 10\n",
            "Model Number: 320 with model UnivariateMotif in generation 2 of 10\n",
            "Model Number: 321 with model GLS in generation 2 of 10\n"
          ]
        },
        {
          "output_type": "stream",
          "name": "stderr",
          "text": [
            "/usr/local/lib/python3.7/dist-packages/autots/tools/probabilistic.py:67: RuntimeWarning:\n",
            "\n",
            "invalid value encountered in true_divide\n",
            "\n",
            "/usr/local/lib/python3.7/dist-packages/autots/tools/probabilistic.py:68: RuntimeWarning:\n",
            "\n",
            "divide by zero encountered in true_divide\n",
            "\n",
            "INFO:fbprophet:Disabling daily seasonality. Run prophet with daily_seasonality=True to override this.\n"
          ]
        },
        {
          "output_type": "stream",
          "name": "stdout",
          "text": [
            "Model Number: 322 with model FBProphet in generation 2 of 10\n",
            "Model Number: 323 with model NVAR in generation 2 of 10\n",
            "Model Number: 324 with model UnobservedComponents in generation 2 of 10\n",
            "Model Number: 325 with model UnivariateMotif in generation 2 of 10\n",
            "Model Number: 326 with model ConstantNaive in generation 2 of 10\n",
            "Model Number: 327 with model NVAR in generation 2 of 10\n",
            "Model Number: 328 with model ConstantNaive in generation 2 of 10\n",
            "Model Number: 329 with model AverageValueNaive in generation 2 of 10\n",
            "Model Number: 330 with model WindowRegression in generation 2 of 10\n",
            "Model Number: 331 with model NVAR in generation 2 of 10\n",
            "Model Number: 332 with model GLS in generation 2 of 10\n",
            "Model Number: 333 with model UnivariateRegression in generation 2 of 10\n",
            "Template Eval Error: Exception('Transformer STLFilter failed on fit') in model 333: UnivariateRegression\n",
            "Model Number: 334 with model GLS in generation 2 of 10\n",
            "Model Number: 335 with model UnobservedComponents in generation 2 of 10\n",
            "Model Number: 336 with model MultivariateRegression in generation 2 of 10\n",
            "Model Number: 337 with model GLS in generation 2 of 10\n",
            "Model Number: 338 with model LastValueNaive in generation 2 of 10\n",
            "Model Number: 339 with model SectionalMotif in generation 2 of 10\n",
            "Model Number: 340 with model GLS in generation 2 of 10\n",
            "Model Number: 341 with model ConstantNaive in generation 2 of 10\n",
            "Model Number: 342 with model LastValueNaive in generation 2 of 10\n",
            "Model Number: 343 with model MultivariateMotif in generation 2 of 10\n",
            "Model Number: 344 with model NVAR in generation 2 of 10\n",
            "Model Number: 345 with model ConstantNaive in generation 2 of 10\n",
            "Model Number: 346 with model FBProphet in generation 2 of 10\n"
          ]
        },
        {
          "output_type": "stream",
          "name": "stderr",
          "text": [
            "INFO:fbprophet:Disabling daily seasonality. Run prophet with daily_seasonality=True to override this.\n"
          ]
        },
        {
          "output_type": "stream",
          "name": "stdout",
          "text": [
            "Model Number: 347 with model UnivariateMotif in generation 2 of 10\n",
            "Model Number: 348 with model NVAR in generation 2 of 10\n",
            "Model Number: 349 with model GLS in generation 2 of 10\n",
            "Model Number: 350 with model SeasonalNaive in generation 2 of 10\n",
            "Model Number: 351 with model UnobservedComponents in generation 2 of 10\n",
            "Template Eval Error: ValueError(\"regression_type='User' but no future_regressor supplied\") in model 351: UnobservedComponents\n",
            "Model Number: 352 with model UnobservedComponents in generation 2 of 10\n",
            "Model Number: 353 with model UnivariateRegression in generation 2 of 10\n",
            "Model Number: 354 with model NVAR in generation 2 of 10\n",
            "Model Number: 355 with model MultivariateRegression in generation 2 of 10\n"
          ]
        },
        {
          "output_type": "stream",
          "name": "stderr",
          "text": [
            "/usr/local/lib/python3.7/dist-packages/sklearn/linear_model/_glm/link.py:90: RuntimeWarning:\n",
            "\n",
            "overflow encountered in exp\n",
            "\n",
            "/usr/local/lib/python3.7/dist-packages/sklearn/linear_model/_glm/link.py:93: RuntimeWarning:\n",
            "\n",
            "overflow encountered in exp\n",
            "\n",
            "/usr/local/lib/python3.7/dist-packages/sklearn/_loss/glm_distribution.py:132: RuntimeWarning:\n",
            "\n",
            "invalid value encountered in true_divide\n",
            "\n",
            "/usr/local/lib/python3.7/dist-packages/autots/tools/probabilistic.py:67: RuntimeWarning:\n",
            "\n",
            "invalid value encountered in true_divide\n",
            "\n",
            "/usr/local/lib/python3.7/dist-packages/autots/tools/probabilistic.py:68: RuntimeWarning:\n",
            "\n",
            "divide by zero encountered in true_divide\n",
            "\n",
            "[Parallel(n_jobs=-2)]: Using backend SequentialBackend with 1 concurrent workers.\n",
            "[Parallel(n_jobs=-2)]: Done 200 out of 200 | elapsed:    3.1s finished\n",
            "[Parallel(n_jobs=1)]: Using backend SequentialBackend with 1 concurrent workers.\n",
            "[Parallel(n_jobs=1)]: Done 200 out of 200 | elapsed:    0.0s finished\n",
            "[Parallel(n_jobs=1)]: Using backend SequentialBackend with 1 concurrent workers.\n",
            "[Parallel(n_jobs=1)]: Done 200 out of 200 | elapsed:    0.0s finished\n",
            "[Parallel(n_jobs=1)]: Using backend SequentialBackend with 1 concurrent workers.\n",
            "[Parallel(n_jobs=1)]: Done 200 out of 200 | elapsed:    0.0s finished\n",
            "[Parallel(n_jobs=1)]: Using backend SequentialBackend with 1 concurrent workers.\n",
            "[Parallel(n_jobs=1)]: Done 200 out of 200 | elapsed:    0.0s finished\n",
            "[Parallel(n_jobs=1)]: Using backend SequentialBackend with 1 concurrent workers.\n",
            "[Parallel(n_jobs=1)]: Done 200 out of 200 | elapsed:    0.0s finished\n"
          ]
        },
        {
          "output_type": "stream",
          "name": "stdout",
          "text": [
            "Model Number: 356 with model ETS in generation 2 of 10\n",
            "ETS error TypeError(\"__init__() got an unexpected keyword argument 'damped_trend'\")\n",
            "Model Number: 357 with model UnivariateMotif in generation 2 of 10\n",
            "Model Number: 358 with model ETS in generation 2 of 10\n",
            "ETS error TypeError(\"__init__() got an unexpected keyword argument 'damped_trend'\")\n",
            "Model Number: 359 with model DatepartRegression in generation 2 of 10\n",
            "Template Eval Error: ValueError('Model DatepartRegression returned NaN for one or more series. fail_on_forecast_nan=True') in model 359: DatepartRegression\n",
            "Model Number: 360 with model UnivariateMotif in generation 2 of 10\n",
            "Model Number: 361 with model NVAR in generation 2 of 10\n",
            "Model Number: 362 with model MultivariateRegression in generation 2 of 10\n"
          ]
        },
        {
          "output_type": "stream",
          "name": "stderr",
          "text": [
            "/usr/local/lib/python3.7/dist-packages/sklearn/neighbors/_regression.py:470: UserWarning:\n",
            "\n",
            "One or more samples have no neighbors within specified radius; predicting NaN.\n",
            "\n",
            "/usr/local/lib/python3.7/dist-packages/sklearn/linear_model/_glm/link.py:90: RuntimeWarning:\n",
            "\n",
            "overflow encountered in exp\n",
            "\n",
            "/usr/local/lib/python3.7/dist-packages/sklearn/linear_model/_glm/link.py:93: RuntimeWarning:\n",
            "\n",
            "overflow encountered in exp\n",
            "\n",
            "/usr/local/lib/python3.7/dist-packages/sklearn/_loss/glm_distribution.py:132: RuntimeWarning:\n",
            "\n",
            "invalid value encountered in true_divide\n",
            "\n"
          ]
        },
        {
          "output_type": "stream",
          "name": "stdout",
          "text": [
            "Model Number: 363 with model ETS in generation 2 of 10\n",
            "ETS error TypeError(\"__init__() got an unexpected keyword argument 'damped_trend'\")\n",
            "ETS failed on First with ValueError('Can only dampen the trend component')\n",
            "Model Number: 364 with model SectionalMotif in generation 2 of 10\n",
            "Model Number: 365 with model SeasonalNaive in generation 2 of 10\n",
            "Model Number: 366 with model ETS in generation 2 of 10\n",
            "ETS error TypeError(\"__init__() got an unexpected keyword argument 'damped_trend'\")\n",
            "Model Number: 367 with model ConstantNaive in generation 2 of 10\n",
            "Model Number: 368 with model UnobservedComponents in generation 2 of 10\n",
            "Template Eval Error: ValueError(\"regression_type='User' but no future_regressor supplied\") in model 368: UnobservedComponents\n",
            "Model Number: 369 with model MultivariateMotif in generation 2 of 10\n",
            "Model Number: 370 with model LastValueNaive in generation 2 of 10\n",
            "Template Eval Error: Exception('Transformer BTCD failed on fit') in model 370: LastValueNaive\n",
            "Model Number: 371 with model MultivariateMotif in generation 2 of 10\n",
            "Model Number: 372 with model SectionalMotif in generation 2 of 10\n",
            "Model Number: 373 with model MultivariateMotif in generation 2 of 10\n",
            "Model Number: 374 with model NVAR in generation 2 of 10\n",
            "Model Number: 375 with model MultivariateRegression in generation 2 of 10\n",
            "Model Number: 376 with model WindowRegression in generation 2 of 10\n",
            "Epoch 1/50\n",
            "114/114 [==============================] - 5s 3ms/step - loss: nan\n",
            "Epoch 2/50\n",
            "114/114 [==============================] - 0s 4ms/step - loss: nan\n",
            "Epoch 3/50\n",
            "114/114 [==============================] - 0s 4ms/step - loss: nan\n",
            "Epoch 4/50\n",
            "114/114 [==============================] - 0s 4ms/step - loss: nan\n",
            "Epoch 5/50\n",
            "114/114 [==============================] - 1s 4ms/step - loss: nan\n",
            "Epoch 6/50\n",
            "114/114 [==============================] - 0s 4ms/step - loss: nan\n",
            "Epoch 7/50\n",
            "114/114 [==============================] - 0s 4ms/step - loss: nan\n",
            "Epoch 8/50\n",
            "114/114 [==============================] - 0s 4ms/step - loss: nan\n",
            "Epoch 9/50\n",
            "114/114 [==============================] - 0s 4ms/step - loss: nan\n",
            "Epoch 10/50\n",
            "114/114 [==============================] - 0s 4ms/step - loss: nan\n",
            "Epoch 11/50\n",
            "114/114 [==============================] - 0s 4ms/step - loss: nan\n",
            "Epoch 12/50\n",
            "114/114 [==============================] - 0s 4ms/step - loss: nan\n",
            "Epoch 13/50\n",
            "114/114 [==============================] - 0s 4ms/step - loss: nan\n",
            "Epoch 14/50\n",
            "114/114 [==============================] - 0s 4ms/step - loss: nan\n",
            "Epoch 15/50\n",
            "114/114 [==============================] - 0s 4ms/step - loss: nan\n",
            "Epoch 16/50\n",
            "114/114 [==============================] - 0s 4ms/step - loss: nan\n",
            "Epoch 17/50\n",
            "114/114 [==============================] - 1s 4ms/step - loss: nan\n",
            "Epoch 18/50\n",
            "114/114 [==============================] - 0s 4ms/step - loss: nan\n",
            "Epoch 19/50\n",
            "114/114 [==============================] - 0s 4ms/step - loss: nan\n",
            "Epoch 20/50\n",
            "114/114 [==============================] - 0s 4ms/step - loss: nan\n",
            "Epoch 21/50\n",
            "114/114 [==============================] - 0s 4ms/step - loss: nan\n",
            "Epoch 22/50\n",
            "114/114 [==============================] - 1s 4ms/step - loss: nan\n",
            "Epoch 23/50\n",
            "114/114 [==============================] - 0s 4ms/step - loss: nan\n",
            "Epoch 24/50\n",
            "114/114 [==============================] - 0s 4ms/step - loss: nan\n",
            "Epoch 25/50\n",
            "114/114 [==============================] - 0s 4ms/step - loss: nan\n",
            "Epoch 26/50\n",
            "114/114 [==============================] - 0s 4ms/step - loss: nan\n",
            "Epoch 27/50\n",
            "114/114 [==============================] - 0s 4ms/step - loss: nan\n",
            "Epoch 28/50\n",
            "114/114 [==============================] - 0s 4ms/step - loss: nan\n",
            "Epoch 29/50\n",
            "114/114 [==============================] - 0s 4ms/step - loss: nan\n",
            "Epoch 30/50\n",
            "114/114 [==============================] - 0s 4ms/step - loss: nan\n",
            "Epoch 31/50\n",
            "114/114 [==============================] - 0s 4ms/step - loss: nan\n",
            "Epoch 32/50\n",
            "114/114 [==============================] - 0s 4ms/step - loss: nan\n",
            "Epoch 33/50\n",
            "114/114 [==============================] - 0s 4ms/step - loss: nan\n",
            "Epoch 34/50\n",
            "114/114 [==============================] - 0s 4ms/step - loss: nan\n",
            "Epoch 35/50\n",
            "114/114 [==============================] - 1s 6ms/step - loss: nan\n",
            "Epoch 36/50\n",
            "114/114 [==============================] - 1s 5ms/step - loss: nan\n",
            "Epoch 37/50\n",
            "114/114 [==============================] - 1s 4ms/step - loss: nan\n",
            "Epoch 38/50\n",
            "114/114 [==============================] - 0s 4ms/step - loss: nan\n",
            "Epoch 39/50\n",
            "114/114 [==============================] - 0s 4ms/step - loss: nan\n",
            "Epoch 40/50\n",
            "114/114 [==============================] - 0s 4ms/step - loss: nan\n",
            "Epoch 41/50\n",
            "114/114 [==============================] - 0s 4ms/step - loss: nan\n",
            "Epoch 42/50\n",
            "114/114 [==============================] - 0s 4ms/step - loss: nan\n",
            "Epoch 43/50\n",
            "114/114 [==============================] - 0s 4ms/step - loss: nan\n",
            "Epoch 44/50\n",
            "114/114 [==============================] - 0s 4ms/step - loss: nan\n",
            "Epoch 45/50\n",
            "114/114 [==============================] - 0s 4ms/step - loss: nan\n",
            "Epoch 46/50\n",
            "114/114 [==============================] - 0s 4ms/step - loss: nan\n",
            "Epoch 47/50\n",
            "114/114 [==============================] - 1s 4ms/step - loss: nan\n",
            "Epoch 48/50\n",
            "114/114 [==============================] - 0s 4ms/step - loss: nan\n",
            "Epoch 49/50\n",
            "114/114 [==============================] - 0s 4ms/step - loss: nan\n",
            "Epoch 50/50\n",
            "114/114 [==============================] - 1s 4ms/step - loss: nan\n",
            "WARNING:tensorflow:5 out of the last 5 calls to <function Model.make_predict_function.<locals>.predict_function at 0x7f6af054f200> triggered tf.function retracing. Tracing is expensive and the excessive number of tracings could be due to (1) creating @tf.function repeatedly in a loop, (2) passing tensors with different shapes, (3) passing Python objects instead of tensors. For (1), please define your @tf.function outside of the loop. For (2), @tf.function has experimental_relax_shapes=True option that relaxes argument shapes that can avoid unnecessary retracing. For (3), please refer to https://www.tensorflow.org/guide/function#controlling_retracing and https://www.tensorflow.org/api_docs/python/tf/function for  more details.\n"
          ]
        },
        {
          "output_type": "stream",
          "name": "stderr",
          "text": [
            "WARNING:tensorflow:5 out of the last 5 calls to <function Model.make_predict_function.<locals>.predict_function at 0x7f6af054f200> triggered tf.function retracing. Tracing is expensive and the excessive number of tracings could be due to (1) creating @tf.function repeatedly in a loop, (2) passing tensors with different shapes, (3) passing Python objects instead of tensors. For (1), please define your @tf.function outside of the loop. For (2), @tf.function has experimental_relax_shapes=True option that relaxes argument shapes that can avoid unnecessary retracing. For (3), please refer to https://www.tensorflow.org/guide/function#controlling_retracing and https://www.tensorflow.org/api_docs/python/tf/function for  more details.\n"
          ]
        },
        {
          "output_type": "stream",
          "name": "stdout",
          "text": [
            "Model Number: 377 with model UnivariateRegression in generation 2 of 10\n",
            "Model Number: 378 with model ConstantNaive in generation 2 of 10\n",
            "Model Number: 379 with model LastValueNaive in generation 2 of 10\n",
            "Model Number: 380 with model GLM in generation 2 of 10\n"
          ]
        },
        {
          "output_type": "stream",
          "name": "stderr",
          "text": [
            "/usr/local/lib/python3.7/dist-packages/autots/tools/probabilistic.py:67: RuntimeWarning:\n",
            "\n",
            "invalid value encountered in true_divide\n",
            "\n",
            "/usr/local/lib/python3.7/dist-packages/autots/tools/probabilistic.py:68: RuntimeWarning:\n",
            "\n",
            "divide by zero encountered in true_divide\n",
            "\n"
          ]
        },
        {
          "output_type": "stream",
          "name": "stdout",
          "text": [
            "Model Number: 381 with model ETS in generation 2 of 10\n",
            "ETS error TypeError(\"__init__() got an unexpected keyword argument 'damped_trend'\")\n",
            "Model Number: 382 with model SectionalMotif in generation 2 of 10\n"
          ]
        },
        {
          "output_type": "stream",
          "name": "stderr",
          "text": [
            "INFO:fbprophet:Disabling daily seasonality. Run prophet with daily_seasonality=True to override this.\n"
          ]
        },
        {
          "output_type": "stream",
          "name": "stdout",
          "text": [
            "Model Number: 383 with model FBProphet in generation 2 of 10\n",
            "Model Number: 384 with model UnobservedComponents in generation 2 of 10\n",
            "Model Number: 385 with model AverageValueNaive in generation 2 of 10\n",
            "Model Number: 386 with model AverageValueNaive in generation 2 of 10\n",
            "Model Number: 387 with model NVAR in generation 2 of 10\n",
            "Model Number: 388 with model AverageValueNaive in generation 2 of 10\n",
            "Model Number: 389 with model NVAR in generation 2 of 10\n",
            "New Generation: 3 of 10\n",
            "Model Number: 390 with model LastValueNaive in generation 3 of 10\n"
          ]
        },
        {
          "output_type": "stream",
          "name": "stderr",
          "text": [
            "INFO:fbprophet:Disabling yearly seasonality. Run prophet with yearly_seasonality=True to override this.\n",
            "INFO:fbprophet:Disabling daily seasonality. Run prophet with daily_seasonality=True to override this.\n"
          ]
        },
        {
          "output_type": "stream",
          "name": "stdout",
          "text": [
            "Model Number: 391 with model FBProphet in generation 3 of 10\n",
            "Model Number: 392 with model SectionalMotif in generation 3 of 10\n",
            "Model Number: 393 with model UnobservedComponents in generation 3 of 10\n",
            "Model Number: 394 with model NVAR in generation 3 of 10\n",
            "Model Number: 395 with model FBProphet in generation 3 of 10\n"
          ]
        },
        {
          "output_type": "stream",
          "name": "stderr",
          "text": [
            "/usr/local/lib/python3.7/dist-packages/sklearn/preprocessing/_data.py:3253: RuntimeWarning:\n",
            "\n",
            "divide by zero encountered in log\n",
            "\n",
            "INFO:fbprophet:Disabling daily seasonality. Run prophet with daily_seasonality=True to override this.\n"
          ]
        },
        {
          "output_type": "stream",
          "name": "stdout",
          "text": [
            "Model Number: 396 with model LastValueNaive in generation 3 of 10\n",
            "Model Number: 397 with model MultivariateRegression in generation 3 of 10\n",
            "Model Number: 398 with model ConstantNaive in generation 3 of 10\n",
            "Model Number: 399 with model NVAR in generation 3 of 10\n",
            "Template Eval Error: Exception('Transformer STLFilter failed on fit') in model 399: NVAR\n",
            "Model Number: 400 with model GLS in generation 3 of 10\n",
            "Model Number: 401 with model ETS in generation 3 of 10\n",
            "ETS error TypeError(\"__init__() got an unexpected keyword argument 'damped_trend'\")\n",
            "Model Number: 402 with model NVAR in generation 3 of 10\n",
            "Model Number: 403 with model WindowRegression in generation 3 of 10\n",
            "Model Number: 404 with model LastValueNaive in generation 3 of 10\n",
            "Model Number: 405 with model NVAR in generation 3 of 10\n",
            "Model Number: 406 with model NVAR in generation 3 of 10\n"
          ]
        },
        {
          "output_type": "stream",
          "name": "stderr",
          "text": [
            "/usr/local/lib/python3.7/dist-packages/sklearn/_loss/glm_distribution.py:132: RuntimeWarning:\n",
            "\n",
            "divide by zero encountered in true_divide\n",
            "\n",
            "/usr/local/lib/python3.7/dist-packages/sklearn/linear_model/_glm/glm.py:42: RuntimeWarning:\n",
            "\n",
            "invalid value encountered in multiply\n",
            "\n",
            "/usr/local/lib/python3.7/dist-packages/sklearn/_loss/glm_distribution.py:323: RuntimeWarning:\n",
            "\n",
            "divide by zero encountered in true_divide\n",
            "\n"
          ]
        },
        {
          "output_type": "stream",
          "name": "stdout",
          "text": [
            "Model Number: 407 with model MultivariateMotif in generation 3 of 10\n",
            "Model Number: 408 with model SectionalMotif in generation 3 of 10\n",
            "Model Number: 409 with model UnobservedComponents in generation 3 of 10\n"
          ]
        },
        {
          "output_type": "stream",
          "name": "stderr",
          "text": [
            "/usr/local/lib/python3.7/dist-packages/sklearn/linear_model/_glm/link.py:90: RuntimeWarning:\n",
            "\n",
            "overflow encountered in exp\n",
            "\n",
            "/usr/local/lib/python3.7/dist-packages/sklearn/linear_model/_glm/link.py:93: RuntimeWarning:\n",
            "\n",
            "overflow encountered in exp\n",
            "\n",
            "/usr/local/lib/python3.7/dist-packages/sklearn/_loss/glm_distribution.py:132: RuntimeWarning:\n",
            "\n",
            "invalid value encountered in true_divide\n",
            "\n",
            "/usr/local/lib/python3.7/dist-packages/sklearn/_loss/glm_distribution.py:323: RuntimeWarning:\n",
            "\n",
            "invalid value encountered in add\n",
            "\n",
            "/usr/local/lib/python3.7/dist-packages/sklearn/linear_model/_glm/glm.py:323: ConvergenceWarning:\n",
            "\n",
            "lbfgs failed to converge (status=2):\n",
            "ABNORMAL_TERMINATION_IN_LNSRCH.\n",
            "\n",
            "Increase the number of iterations (max_iter) or scale the data as shown in:\n",
            "    https://scikit-learn.org/stable/modules/preprocessing.html\n",
            "\n",
            "INFO:fbprophet:Disabling yearly seasonality. Run prophet with yearly_seasonality=True to override this.\n",
            "INFO:fbprophet:Disabling daily seasonality. Run prophet with daily_seasonality=True to override this.\n"
          ]
        },
        {
          "output_type": "stream",
          "name": "stdout",
          "text": [
            "Model Number: 410 with model FBProphet in generation 3 of 10\n",
            "Model Number: 411 with model ConstantNaive in generation 3 of 10\n",
            "Model Number: 412 with model UnobservedComponents in generation 3 of 10\n",
            "Template Eval Error: ValueError(\"regression_type='User' but no future_regressor supplied\") in model 412: UnobservedComponents\n",
            "Model Number: 413 with model MultivariateMotif in generation 3 of 10\n",
            "Model Number: 414 with model NVAR in generation 3 of 10\n",
            "Model Number: 415 with model WindowRegression in generation 3 of 10\n",
            "Model Number: 416 with model WindowRegression in generation 3 of 10\n",
            "Model Number: 417 with model SectionalMotif in generation 3 of 10\n",
            "Model Number: 418 with model ConstantNaive in generation 3 of 10\n",
            "Model Number: 419 with model UnivariateMotif in generation 3 of 10\n"
          ]
        },
        {
          "output_type": "stream",
          "name": "stderr",
          "text": [
            "/usr/local/lib/python3.7/dist-packages/sklearn/linear_model/_glm/link.py:90: RuntimeWarning:\n",
            "\n",
            "overflow encountered in exp\n",
            "\n",
            "/usr/local/lib/python3.7/dist-packages/sklearn/linear_model/_glm/link.py:93: RuntimeWarning:\n",
            "\n",
            "overflow encountered in exp\n",
            "\n",
            "/usr/local/lib/python3.7/dist-packages/sklearn/_loss/glm_distribution.py:132: RuntimeWarning:\n",
            "\n",
            "invalid value encountered in true_divide\n",
            "\n",
            "/usr/local/lib/python3.7/dist-packages/sklearn/linear_model/_glm/link.py:90: RuntimeWarning:\n",
            "\n",
            "overflow encountered in exp\n",
            "\n",
            "/usr/local/lib/python3.7/dist-packages/sklearn/linear_model/_glm/link.py:93: RuntimeWarning:\n",
            "\n",
            "overflow encountered in exp\n",
            "\n",
            "/usr/local/lib/python3.7/dist-packages/sklearn/_loss/glm_distribution.py:132: RuntimeWarning:\n",
            "\n",
            "invalid value encountered in true_divide\n",
            "\n",
            "/usr/local/lib/python3.7/dist-packages/sklearn/linear_model/_glm/link.py:90: RuntimeWarning:\n",
            "\n",
            "overflow encountered in exp\n",
            "\n",
            "/usr/local/lib/python3.7/dist-packages/sklearn/linear_model/_glm/link.py:93: RuntimeWarning:\n",
            "\n",
            "overflow encountered in exp\n",
            "\n",
            "/usr/local/lib/python3.7/dist-packages/sklearn/_loss/glm_distribution.py:132: RuntimeWarning:\n",
            "\n",
            "invalid value encountered in true_divide\n",
            "\n"
          ]
        },
        {
          "output_type": "stream",
          "name": "stdout",
          "text": [
            "Model Number: 420 with model AverageValueNaive in generation 3 of 10\n",
            "Model Number: 421 with model UnivariateRegression in generation 3 of 10\n",
            "Model Number: 422 with model GLS in generation 3 of 10\n",
            "Model Number: 423 with model AverageValueNaive in generation 3 of 10\n",
            "Model Number: 424 with model NVAR in generation 3 of 10\n"
          ]
        },
        {
          "output_type": "stream",
          "name": "stderr",
          "text": [
            "/usr/local/lib/python3.7/dist-packages/sklearn/linear_model/_glm/link.py:90: RuntimeWarning:\n",
            "\n",
            "overflow encountered in exp\n",
            "\n",
            "/usr/local/lib/python3.7/dist-packages/sklearn/linear_model/_glm/link.py:93: RuntimeWarning:\n",
            "\n",
            "overflow encountered in exp\n",
            "\n",
            "/usr/local/lib/python3.7/dist-packages/sklearn/_loss/glm_distribution.py:132: RuntimeWarning:\n",
            "\n",
            "invalid value encountered in true_divide\n",
            "\n",
            "/usr/local/lib/python3.7/dist-packages/sklearn/linear_model/_glm/link.py:90: RuntimeWarning:\n",
            "\n",
            "overflow encountered in exp\n",
            "\n",
            "/usr/local/lib/python3.7/dist-packages/sklearn/linear_model/_glm/link.py:93: RuntimeWarning:\n",
            "\n",
            "overflow encountered in exp\n",
            "\n",
            "/usr/local/lib/python3.7/dist-packages/sklearn/_loss/glm_distribution.py:132: RuntimeWarning:\n",
            "\n",
            "invalid value encountered in true_divide\n",
            "\n",
            "/usr/local/lib/python3.7/dist-packages/sklearn/_loss/glm_distribution.py:323: RuntimeWarning:\n",
            "\n",
            "invalid value encountered in add\n",
            "\n",
            "/usr/local/lib/python3.7/dist-packages/sklearn/linear_model/_glm/glm.py:323: ConvergenceWarning:\n",
            "\n",
            "lbfgs failed to converge (status=2):\n",
            "ABNORMAL_TERMINATION_IN_LNSRCH.\n",
            "\n",
            "Increase the number of iterations (max_iter) or scale the data as shown in:\n",
            "    https://scikit-learn.org/stable/modules/preprocessing.html\n",
            "\n"
          ]
        },
        {
          "output_type": "stream",
          "name": "stdout",
          "text": [
            "Model Number: 425 with model DatepartRegression in generation 3 of 10\n",
            "Template Eval Error: ValueError(\"regression_type='User' but no future_regressor passed\") in model 425: DatepartRegression\n",
            "Model Number: 426 with model UnivariateMotif in generation 3 of 10\n",
            "Model Number: 427 with model UnivariateRegression in generation 3 of 10\n",
            "Template Eval Error: Exception('Transformer Cointegration failed on fit') in model 427: UnivariateRegression\n",
            "Model Number: 428 with model GLS in generation 3 of 10\n",
            "Model Number: 429 with model SeasonalNaive in generation 3 of 10\n",
            "Model Number: 430 with model SectionalMotif in generation 3 of 10\n",
            "Model Number: 431 with model UnivariateMotif in generation 3 of 10\n",
            "Model Number: 432 with model LastValueNaive in generation 3 of 10\n",
            "Model Number: 433 with model SeasonalNaive in generation 3 of 10\n",
            "Model Number: 434 with model ETS in generation 3 of 10\n",
            "ETS error TypeError(\"__init__() got an unexpected keyword argument 'damped_trend'\")\n",
            "Model Number: 435 with model UnivariateMotif in generation 3 of 10\n",
            "Model Number: 436 with model UnivariateMotif in generation 3 of 10\n",
            "Model Number: 437 with model WindowRegression in generation 3 of 10\n",
            "Epoch 1/50\n",
            "114/114 [==============================] - 5s 4ms/step - loss: nan\n",
            "Epoch 2/50\n",
            "114/114 [==============================] - 1s 5ms/step - loss: nan\n",
            "Epoch 3/50\n",
            "114/114 [==============================] - 1s 5ms/step - loss: nan\n",
            "Epoch 4/50\n",
            "114/114 [==============================] - 0s 4ms/step - loss: nan\n",
            "Epoch 5/50\n",
            "114/114 [==============================] - 1s 4ms/step - loss: nan\n",
            "Epoch 6/50\n",
            "114/114 [==============================] - 0s 4ms/step - loss: nan\n",
            "Epoch 7/50\n",
            "114/114 [==============================] - 0s 4ms/step - loss: nan\n",
            "Epoch 8/50\n",
            "114/114 [==============================] - 1s 4ms/step - loss: nan\n",
            "Epoch 9/50\n",
            "114/114 [==============================] - 0s 4ms/step - loss: nan\n",
            "Epoch 10/50\n",
            "114/114 [==============================] - 0s 4ms/step - loss: nan\n",
            "Epoch 11/50\n",
            "114/114 [==============================] - 0s 4ms/step - loss: nan\n",
            "Epoch 12/50\n",
            "114/114 [==============================] - 0s 4ms/step - loss: nan\n",
            "Epoch 13/50\n",
            "114/114 [==============================] - 0s 4ms/step - loss: nan\n",
            "Epoch 14/50\n",
            "114/114 [==============================] - 0s 4ms/step - loss: nan\n",
            "Epoch 15/50\n",
            "114/114 [==============================] - 0s 4ms/step - loss: nan\n",
            "Epoch 16/50\n",
            "114/114 [==============================] - 1s 5ms/step - loss: nan\n",
            "Epoch 17/50\n",
            "114/114 [==============================] - 0s 4ms/step - loss: nan\n",
            "Epoch 18/50\n",
            "114/114 [==============================] - 1s 4ms/step - loss: nan\n",
            "Epoch 19/50\n",
            "114/114 [==============================] - 0s 4ms/step - loss: nan\n",
            "Epoch 20/50\n",
            "114/114 [==============================] - 0s 4ms/step - loss: nan\n",
            "Epoch 21/50\n",
            "114/114 [==============================] - 0s 4ms/step - loss: nan\n",
            "Epoch 22/50\n",
            "114/114 [==============================] - 1s 4ms/step - loss: nan\n",
            "Epoch 23/50\n",
            "114/114 [==============================] - 0s 4ms/step - loss: nan\n",
            "Epoch 24/50\n",
            "114/114 [==============================] - 0s 4ms/step - loss: nan\n",
            "Epoch 25/50\n",
            "114/114 [==============================] - 0s 4ms/step - loss: nan\n",
            "Epoch 26/50\n",
            "114/114 [==============================] - 0s 4ms/step - loss: nan\n",
            "Epoch 27/50\n",
            "114/114 [==============================] - 0s 4ms/step - loss: nan\n",
            "Epoch 28/50\n",
            "114/114 [==============================] - 0s 4ms/step - loss: nan\n",
            "Epoch 29/50\n",
            "114/114 [==============================] - 0s 4ms/step - loss: nan\n",
            "Epoch 30/50\n",
            "114/114 [==============================] - 0s 4ms/step - loss: nan\n",
            "Epoch 31/50\n",
            "114/114 [==============================] - 0s 4ms/step - loss: nan\n",
            "Epoch 32/50\n",
            "114/114 [==============================] - 0s 4ms/step - loss: nan\n",
            "Epoch 33/50\n",
            "114/114 [==============================] - 1s 4ms/step - loss: nan\n",
            "Epoch 34/50\n",
            "114/114 [==============================] - 0s 4ms/step - loss: nan\n",
            "Epoch 35/50\n",
            "114/114 [==============================] - 0s 4ms/step - loss: nan\n",
            "Epoch 36/50\n",
            "114/114 [==============================] - 0s 4ms/step - loss: nan\n",
            "Epoch 37/50\n",
            "114/114 [==============================] - 0s 4ms/step - loss: nan\n",
            "Epoch 38/50\n",
            "114/114 [==============================] - 0s 4ms/step - loss: nan\n",
            "Epoch 39/50\n",
            "114/114 [==============================] - 0s 4ms/step - loss: nan\n",
            "Epoch 40/50\n",
            "114/114 [==============================] - 0s 4ms/step - loss: nan\n",
            "Epoch 41/50\n",
            "114/114 [==============================] - 0s 4ms/step - loss: nan\n",
            "Epoch 42/50\n",
            "114/114 [==============================] - 0s 4ms/step - loss: nan\n",
            "Epoch 43/50\n",
            "114/114 [==============================] - 0s 4ms/step - loss: nan\n",
            "Epoch 44/50\n",
            "114/114 [==============================] - 0s 4ms/step - loss: nan\n",
            "Epoch 45/50\n",
            "114/114 [==============================] - 0s 4ms/step - loss: nan\n",
            "Epoch 46/50\n",
            "114/114 [==============================] - 0s 4ms/step - loss: nan\n",
            "Epoch 47/50\n",
            "114/114 [==============================] - 1s 5ms/step - loss: nan\n",
            "Epoch 48/50\n",
            "114/114 [==============================] - 0s 4ms/step - loss: nan\n",
            "Epoch 49/50\n",
            "114/114 [==============================] - 0s 4ms/step - loss: nan\n",
            "Epoch 50/50\n",
            "114/114 [==============================] - 0s 4ms/step - loss: nan\n",
            "WARNING:tensorflow:6 out of the last 6 calls to <function Model.make_predict_function.<locals>.predict_function at 0x7f6aeff3e200> triggered tf.function retracing. Tracing is expensive and the excessive number of tracings could be due to (1) creating @tf.function repeatedly in a loop, (2) passing tensors with different shapes, (3) passing Python objects instead of tensors. For (1), please define your @tf.function outside of the loop. For (2), @tf.function has experimental_relax_shapes=True option that relaxes argument shapes that can avoid unnecessary retracing. For (3), please refer to https://www.tensorflow.org/guide/function#controlling_retracing and https://www.tensorflow.org/api_docs/python/tf/function for  more details.\n"
          ]
        },
        {
          "output_type": "stream",
          "name": "stderr",
          "text": [
            "WARNING:tensorflow:6 out of the last 6 calls to <function Model.make_predict_function.<locals>.predict_function at 0x7f6aeff3e200> triggered tf.function retracing. Tracing is expensive and the excessive number of tracings could be due to (1) creating @tf.function repeatedly in a loop, (2) passing tensors with different shapes, (3) passing Python objects instead of tensors. For (1), please define your @tf.function outside of the loop. For (2), @tf.function has experimental_relax_shapes=True option that relaxes argument shapes that can avoid unnecessary retracing. For (3), please refer to https://www.tensorflow.org/guide/function#controlling_retracing and https://www.tensorflow.org/api_docs/python/tf/function for  more details.\n"
          ]
        },
        {
          "output_type": "stream",
          "name": "stdout",
          "text": [
            "Model Number: 438 with model MultivariateMotif in generation 3 of 10\n",
            "Model Number: 439 with model DatepartRegression in generation 3 of 10\n",
            "Template Eval Error: ValueError(\"regression_type='User' but no future_regressor passed\") in model 439: DatepartRegression\n",
            "Model Number: 440 with model UnivariateRegression in generation 3 of 10\n",
            "Model Number: 441 with model WindowRegression in generation 3 of 10\n",
            "Model Number: 442 with model NVAR in generation 3 of 10\n",
            "Model Number: 443 with model GLS in generation 3 of 10\n",
            "Model Number: 444 with model ETS in generation 3 of 10\n",
            "ETS error TypeError(\"__init__() got an unexpected keyword argument 'damped_trend'\")\n",
            "Model Number: 445 with model LastValueNaive in generation 3 of 10\n",
            "Model Number: 446 with model GLM in generation 3 of 10\n"
          ]
        },
        {
          "output_type": "stream",
          "name": "stderr",
          "text": [
            "/usr/local/lib/python3.7/dist-packages/sklearn/linear_model/_glm/link.py:90: RuntimeWarning:\n",
            "\n",
            "overflow encountered in exp\n",
            "\n",
            "/usr/local/lib/python3.7/dist-packages/sklearn/linear_model/_glm/link.py:93: RuntimeWarning:\n",
            "\n",
            "overflow encountered in exp\n",
            "\n",
            "/usr/local/lib/python3.7/dist-packages/sklearn/_loss/glm_distribution.py:132: RuntimeWarning:\n",
            "\n",
            "invalid value encountered in true_divide\n",
            "\n",
            "/usr/local/lib/python3.7/dist-packages/sklearn/linear_model/_glm/link.py:90: RuntimeWarning:\n",
            "\n",
            "overflow encountered in exp\n",
            "\n",
            "/usr/local/lib/python3.7/dist-packages/sklearn/linear_model/_glm/link.py:93: RuntimeWarning:\n",
            "\n",
            "overflow encountered in exp\n",
            "\n",
            "/usr/local/lib/python3.7/dist-packages/sklearn/_loss/glm_distribution.py:132: RuntimeWarning:\n",
            "\n",
            "invalid value encountered in true_divide\n",
            "\n"
          ]
        },
        {
          "output_type": "stream",
          "name": "stdout",
          "text": [
            "Model Number: 447 with model GLS in generation 3 of 10\n",
            "Model Number: 448 with model NVAR in generation 3 of 10\n",
            "Model Number: 449 with model UnivariateRegression in generation 3 of 10\n",
            "Model Number: 450 with model SeasonalNaive in generation 3 of 10\n",
            "Model Number: 451 with model SeasonalNaive in generation 3 of 10\n",
            "Model Number: 452 with model GLS in generation 3 of 10\n"
          ]
        },
        {
          "output_type": "stream",
          "name": "stderr",
          "text": [
            "/usr/local/lib/python3.7/dist-packages/sklearn/linear_model/_glm/link.py:90: RuntimeWarning:\n",
            "\n",
            "overflow encountered in exp\n",
            "\n",
            "/usr/local/lib/python3.7/dist-packages/sklearn/linear_model/_glm/link.py:93: RuntimeWarning:\n",
            "\n",
            "overflow encountered in exp\n",
            "\n",
            "/usr/local/lib/python3.7/dist-packages/sklearn/_loss/glm_distribution.py:132: RuntimeWarning:\n",
            "\n",
            "invalid value encountered in true_divide\n",
            "\n",
            "/usr/local/lib/python3.7/dist-packages/sklearn/_loss/glm_distribution.py:323: RuntimeWarning:\n",
            "\n",
            "invalid value encountered in add\n",
            "\n",
            "/usr/local/lib/python3.7/dist-packages/sklearn/linear_model/_glm/glm.py:323: ConvergenceWarning:\n",
            "\n",
            "lbfgs failed to converge (status=2):\n",
            "ABNORMAL_TERMINATION_IN_LNSRCH.\n",
            "\n",
            "Increase the number of iterations (max_iter) or scale the data as shown in:\n",
            "    https://scikit-learn.org/stable/modules/preprocessing.html\n",
            "\n"
          ]
        },
        {
          "output_type": "stream",
          "name": "stdout",
          "text": [
            "Model Number: 453 with model MultivariateMotif in generation 3 of 10\n",
            "Template Eval Error: ValueError('Model MultivariateMotif returned NaN for one or more series. fail_on_forecast_nan=True') in model 453: MultivariateMotif\n",
            "Model Number: 454 with model LastValueNaive in generation 3 of 10\n",
            "Model Number: 455 with model MultivariateMotif in generation 3 of 10\n",
            "Model Number: 456 with model ConstantNaive in generation 3 of 10\n",
            "Model Number: 457 with model ConstantNaive in generation 3 of 10\n"
          ]
        },
        {
          "output_type": "stream",
          "name": "stderr",
          "text": [
            "/usr/local/lib/python3.7/dist-packages/numpy/core/_methods.py:48: RuntimeWarning:\n",
            "\n",
            "invalid value encountered in reduce\n",
            "\n",
            "/usr/local/lib/python3.7/dist-packages/sklearn/base.py:451: UserWarning:\n",
            "\n",
            "X does not have valid feature names, but MLPRegressor was fitted with feature names\n",
            "\n",
            "/usr/local/lib/python3.7/dist-packages/sklearn/base.py:451: UserWarning:\n",
            "\n",
            "X does not have valid feature names, but MLPRegressor was fitted with feature names\n",
            "\n",
            "/usr/local/lib/python3.7/dist-packages/sklearn/base.py:451: UserWarning:\n",
            "\n",
            "X does not have valid feature names, but MLPRegressor was fitted with feature names\n",
            "\n",
            "/usr/local/lib/python3.7/dist-packages/sklearn/base.py:451: UserWarning:\n",
            "\n",
            "X does not have valid feature names, but MLPRegressor was fitted with feature names\n",
            "\n",
            "/usr/local/lib/python3.7/dist-packages/sklearn/base.py:451: UserWarning:\n",
            "\n",
            "X does not have valid feature names, but MLPRegressor was fitted with feature names\n",
            "\n",
            "/usr/local/lib/python3.7/dist-packages/sklearn/base.py:451: UserWarning:\n",
            "\n",
            "X does not have valid feature names, but MLPRegressor was fitted with feature names\n",
            "\n",
            "/usr/local/lib/python3.7/dist-packages/sklearn/base.py:451: UserWarning:\n",
            "\n",
            "X does not have valid feature names, but MLPRegressor was fitted with feature names\n",
            "\n",
            "/usr/local/lib/python3.7/dist-packages/sklearn/base.py:451: UserWarning:\n",
            "\n",
            "X does not have valid feature names, but MLPRegressor was fitted with feature names\n",
            "\n",
            "/usr/local/lib/python3.7/dist-packages/sklearn/base.py:451: UserWarning:\n",
            "\n",
            "X does not have valid feature names, but MLPRegressor was fitted with feature names\n",
            "\n",
            "/usr/local/lib/python3.7/dist-packages/sklearn/base.py:451: UserWarning:\n",
            "\n",
            "X does not have valid feature names, but MLPRegressor was fitted with feature names\n",
            "\n",
            "/usr/local/lib/python3.7/dist-packages/sklearn/base.py:451: UserWarning:\n",
            "\n",
            "X does not have valid feature names, but MLPRegressor was fitted with feature names\n",
            "\n",
            "/usr/local/lib/python3.7/dist-packages/sklearn/base.py:451: UserWarning:\n",
            "\n",
            "X does not have valid feature names, but MLPRegressor was fitted with feature names\n",
            "\n",
            "/usr/local/lib/python3.7/dist-packages/sklearn/base.py:451: UserWarning:\n",
            "\n",
            "X does not have valid feature names, but MLPRegressor was fitted with feature names\n",
            "\n",
            "/usr/local/lib/python3.7/dist-packages/sklearn/base.py:451: UserWarning:\n",
            "\n",
            "X does not have valid feature names, but MLPRegressor was fitted with feature names\n",
            "\n",
            "/usr/local/lib/python3.7/dist-packages/sklearn/base.py:451: UserWarning:\n",
            "\n",
            "X does not have valid feature names, but MLPRegressor was fitted with feature names\n",
            "\n"
          ]
        },
        {
          "output_type": "stream",
          "name": "stdout",
          "text": [
            "Template Eval Error: Exception('Transformer BTCD failed on fit') in model 457: ConstantNaive\n",
            "Model Number: 458 with model LastValueNaive in generation 3 of 10\n",
            "Model Number: 459 with model UnivariateMotif in generation 3 of 10\n",
            "Model Number: 460 with model ETS in generation 3 of 10\n",
            "ETS error TypeError(\"__init__() got an unexpected keyword argument 'damped_trend'\")\n",
            "Model Number: 461 with model ETS in generation 3 of 10\n",
            "ETS error TypeError(\"__init__() got an unexpected keyword argument 'damped_trend'\")\n",
            "Model Number: 462 with model NVAR in generation 3 of 10\n",
            "Model Number: 463 with model AverageValueNaive in generation 3 of 10\n",
            "Model Number: 464 with model GLS in generation 3 of 10\n",
            "Template Eval Error: Exception('Transformer BTCD failed on fit') in model 464: GLS\n",
            "Model Number: 465 with model UnivariateRegression in generation 3 of 10\n",
            "Model Number: 466 with model UnivariateMotif in generation 3 of 10\n",
            "Model Number: 467 with model MultivariateRegression in generation 3 of 10\n",
            "Model Number: 468 with model NVAR in generation 3 of 10\n",
            "Model Number: 469 with model SeasonalNaive in generation 3 of 10\n",
            "Model Number: 470 with model UnobservedComponents in generation 3 of 10\n",
            "Template Eval Error: ValueError(\"regression_type='User' but no future_regressor supplied\") in model 470: UnobservedComponents\n",
            "Model Number: 471 with model ETS in generation 3 of 10\n",
            "ETS error TypeError(\"__init__() got an unexpected keyword argument 'damped_trend'\")\n",
            "Model Number: 472 with model ConstantNaive in generation 3 of 10\n",
            "Model Number: 473 with model ConstantNaive in generation 3 of 10\n",
            "Model Number: 474 with model UnobservedComponents in generation 3 of 10\n",
            "Template Eval Error: ValueError(\"regression_type='User' but no future_regressor supplied\") in model 474: UnobservedComponents\n",
            "Model Number: 475 with model GLM in generation 3 of 10\n",
            "Template Eval Error: TypeError(\"ufunc 'isfinite' not supported for the input types, and the inputs could not be safely coerced to any supported types according to the casting rule ''safe''\") in model 475: GLM\n",
            "Model Number: 476 with model MultivariateMotif in generation 3 of 10\n",
            "Model Number: 477 with model MultivariateMotif in generation 3 of 10\n",
            "Model Number: 478 with model MultivariateRegression in generation 3 of 10\n"
          ]
        },
        {
          "output_type": "stream",
          "name": "stderr",
          "text": [
            "/usr/local/lib/python3.7/dist-packages/sklearn/linear_model/_glm/link.py:90: RuntimeWarning:\n",
            "\n",
            "overflow encountered in exp\n",
            "\n",
            "/usr/local/lib/python3.7/dist-packages/sklearn/linear_model/_glm/link.py:93: RuntimeWarning:\n",
            "\n",
            "overflow encountered in exp\n",
            "\n",
            "/usr/local/lib/python3.7/dist-packages/sklearn/_loss/glm_distribution.py:132: RuntimeWarning:\n",
            "\n",
            "invalid value encountered in true_divide\n",
            "\n"
          ]
        },
        {
          "output_type": "stream",
          "name": "stdout",
          "text": [
            "Model Number: 479 with model MultivariateMotif in generation 3 of 10\n",
            "Model Number: 480 with model UnivariateMotif in generation 3 of 10\n",
            "Model Number: 481 with model SectionalMotif in generation 3 of 10\n",
            "Model Number: 482 with model ConstantNaive in generation 3 of 10\n",
            "Model Number: 483 with model MultivariateMotif in generation 3 of 10\n",
            "Model Number: 484 with model SectionalMotif in generation 3 of 10\n",
            "Model Number: 485 with model ConstantNaive in generation 3 of 10\n",
            "Model Number: 486 with model NVAR in generation 3 of 10\n",
            "Model Number: 487 with model GLS in generation 3 of 10\n",
            "Model Number: 488 with model UnivariateRegression in generation 3 of 10\n",
            "Template Eval Error: ValueError(\"regression_type='User' but not future_regressor supplied.\") in model 488: UnivariateRegression\n",
            "Model Number: 489 with model WindowRegression in generation 3 of 10\n",
            "Model Number: 490 with model NVAR in generation 3 of 10\n",
            "Model Number: 491 with model SectionalMotif in generation 3 of 10\n",
            "Model Number: 492 with model AverageValueNaive in generation 3 of 10\n",
            "Model Number: 493 with model LastValueNaive in generation 3 of 10\n",
            "Model Number: 494 with model WindowRegression in generation 3 of 10\n"
          ]
        },
        {
          "output_type": "stream",
          "name": "stderr",
          "text": [
            "/usr/local/lib/python3.7/dist-packages/sklearn/linear_model/_glm/link.py:90: RuntimeWarning:\n",
            "\n",
            "overflow encountered in exp\n",
            "\n",
            "/usr/local/lib/python3.7/dist-packages/sklearn/linear_model/_glm/link.py:93: RuntimeWarning:\n",
            "\n",
            "overflow encountered in exp\n",
            "\n",
            "/usr/local/lib/python3.7/dist-packages/sklearn/_loss/glm_distribution.py:132: RuntimeWarning:\n",
            "\n",
            "invalid value encountered in true_divide\n",
            "\n"
          ]
        },
        {
          "output_type": "stream",
          "name": "stdout",
          "text": [
            "Model Number: 495 with model GLS in generation 3 of 10\n",
            "Model Number: 496 with model NVAR in generation 3 of 10\n",
            "Model Number: 497 with model LastValueNaive in generation 3 of 10\n",
            "Model Number: 498 with model MultivariateMotif in generation 3 of 10\n",
            "Template Eval Error: Exception('Transformer Detrend failed on fit') in model 498: MultivariateMotif\n",
            "Model Number: 499 with model UnivariateMotif in generation 3 of 10\n"
          ]
        },
        {
          "output_type": "stream",
          "name": "stderr",
          "text": [
            "/usr/local/lib/python3.7/dist-packages/sklearn/linear_model/_glm/link.py:90: RuntimeWarning:\n",
            "\n",
            "overflow encountered in exp\n",
            "\n",
            "/usr/local/lib/python3.7/dist-packages/sklearn/linear_model/_glm/link.py:93: RuntimeWarning:\n",
            "\n",
            "overflow encountered in exp\n",
            "\n",
            "/usr/local/lib/python3.7/dist-packages/sklearn/_loss/glm_distribution.py:132: RuntimeWarning:\n",
            "\n",
            "invalid value encountered in true_divide\n",
            "\n"
          ]
        },
        {
          "output_type": "stream",
          "name": "stdout",
          "text": [
            "New Generation: 4 of 10\n",
            "Model Number: 500 with model SeasonalNaive in generation 4 of 10\n",
            "Model Number: 501 with model UnivariateMotif in generation 4 of 10\n",
            "Model Number: 502 with model UnivariateMotif in generation 4 of 10\n",
            "Model Number: 503 with model UnivariateMotif in generation 4 of 10\n",
            "Model Number: 504 with model GLS in generation 4 of 10\n",
            "Model Number: 505 with model UnivariateMotif in generation 4 of 10\n",
            "Model Number: 506 with model UnivariateMotif in generation 4 of 10\n",
            "Model Number: 507 with model MultivariateMotif in generation 4 of 10\n",
            "Model Number: 508 with model UnivariateMotif in generation 4 of 10\n",
            "Model Number: 509 with model UnivariateMotif in generation 4 of 10\n",
            "Model Number: 510 with model UnivariateRegression in generation 4 of 10\n",
            "Model Number: 511 with model ConstantNaive in generation 4 of 10\n",
            "Template Eval Error: Exception('Transformer BTCD failed on fit') in model 511: ConstantNaive\n",
            "Model Number: 512 with model NVAR in generation 4 of 10\n",
            "Model Number: 513 with model SeasonalNaive in generation 4 of 10\n",
            "Model Number: 514 with model MultivariateMotif in generation 4 of 10\n",
            "Model Number: 515 with model ConstantNaive in generation 4 of 10\n",
            "Template Eval Error: Exception('Transformer BTCD failed on fit') in model 515: ConstantNaive\n",
            "Model Number: 516 with model WindowRegression in generation 4 of 10\n",
            "Model Number: 517 with model MultivariateMotif in generation 4 of 10\n",
            "Model Number: 518 with model SectionalMotif in generation 4 of 10\n",
            "Model Number: 519 with model LastValueNaive in generation 4 of 10\n",
            "Model Number: 520 with model AverageValueNaive in generation 4 of 10\n",
            "Model Number: 521 with model SectionalMotif in generation 4 of 10\n"
          ]
        },
        {
          "output_type": "stream",
          "name": "stderr",
          "text": [
            "/usr/local/lib/python3.7/dist-packages/sklearn/linear_model/_glm/link.py:90: RuntimeWarning:\n",
            "\n",
            "overflow encountered in exp\n",
            "\n",
            "/usr/local/lib/python3.7/dist-packages/sklearn/linear_model/_glm/link.py:93: RuntimeWarning:\n",
            "\n",
            "overflow encountered in exp\n",
            "\n",
            "/usr/local/lib/python3.7/dist-packages/sklearn/_loss/glm_distribution.py:132: RuntimeWarning:\n",
            "\n",
            "invalid value encountered in true_divide\n",
            "\n"
          ]
        },
        {
          "output_type": "stream",
          "name": "stdout",
          "text": [
            "Model Number: 522 with model WindowRegression in generation 4 of 10\n",
            "Epoch 1/100\n",
            "46/46 [==============================] - 9s 87ms/step - loss: 0.6475 - val_loss: 1.1235\n",
            "Epoch 2/100\n",
            "46/46 [==============================] - 4s 77ms/step - loss: 0.6024 - val_loss: 1.1064\n",
            "Epoch 3/100\n",
            "46/46 [==============================] - 4s 93ms/step - loss: 0.5872 - val_loss: 1.1056\n",
            "Epoch 4/100\n",
            "46/46 [==============================] - 4s 76ms/step - loss: 0.5811 - val_loss: 1.0941\n",
            "Epoch 5/100\n",
            "46/46 [==============================] - 4s 80ms/step - loss: 0.5686 - val_loss: 1.0933\n",
            "Epoch 6/100\n",
            "46/46 [==============================] - 4s 80ms/step - loss: 0.5689 - val_loss: 1.0933\n",
            "Epoch 7/100\n",
            "46/46 [==============================] - 4s 78ms/step - loss: 0.5604 - val_loss: 1.0846\n",
            "Epoch 8/100\n",
            "46/46 [==============================] - 4s 80ms/step - loss: 0.5527 - val_loss: 1.0876\n",
            "Epoch 9/100\n",
            "46/46 [==============================] - 4s 79ms/step - loss: 0.5565 - val_loss: 1.0858\n",
            "Epoch 10/100\n",
            "46/46 [==============================] - 4s 79ms/step - loss: 0.5522 - val_loss: 1.0787\n",
            "Epoch 11/100\n",
            "46/46 [==============================] - 4s 79ms/step - loss: 0.5522 - val_loss: 1.0876\n",
            "Epoch 12/100\n",
            "46/46 [==============================] - 4s 80ms/step - loss: 0.5503 - val_loss: 1.0834\n",
            "Epoch 13/100\n",
            "46/46 [==============================] - 4s 79ms/step - loss: 0.5441 - val_loss: 1.0857\n",
            "Epoch 14/100\n",
            "46/46 [==============================] - 4s 81ms/step - loss: 0.5435 - val_loss: 1.0900\n",
            "Epoch 15/100\n",
            "46/46 [==============================] - 4s 78ms/step - loss: 0.5433 - val_loss: 1.0811\n",
            "Epoch 16/100\n",
            "46/46 [==============================] - 4s 78ms/step - loss: 0.5424 - val_loss: 1.0868\n",
            "Epoch 17/100\n",
            "46/46 [==============================] - 4s 77ms/step - loss: 0.5365 - val_loss: 1.0957\n",
            "Epoch 18/100\n",
            "46/46 [==============================] - 4s 78ms/step - loss: 0.5348 - val_loss: 1.0837\n",
            "Epoch 19/100\n",
            "46/46 [==============================] - 4s 76ms/step - loss: 0.5412 - val_loss: 1.0887\n",
            "Epoch 20/100\n",
            "46/46 [==============================] - 3s 73ms/step - loss: 0.5329 - val_loss: 1.0997\n",
            "Model Number: 523 with model NVAR in generation 4 of 10\n",
            "Model Number: 524 with model WindowRegression in generation 4 of 10\n",
            "Template Eval Error: ValueError(\"regression_type='User' but no future_regressor passed\") in model 524: WindowRegression\n",
            "Model Number: 525 with model WindowRegression in generation 4 of 10\n"
          ]
        },
        {
          "output_type": "stream",
          "name": "stderr",
          "text": [
            "/usr/local/lib/python3.7/dist-packages/sklearn/svm/_base.py:1208: ConvergenceWarning:\n",
            "\n",
            "Liblinear failed to converge, increase the number of iterations.\n",
            "\n",
            "/usr/local/lib/python3.7/dist-packages/sklearn/svm/_base.py:1208: ConvergenceWarning:\n",
            "\n",
            "Liblinear failed to converge, increase the number of iterations.\n",
            "\n",
            "/usr/local/lib/python3.7/dist-packages/sklearn/svm/_base.py:1208: ConvergenceWarning:\n",
            "\n",
            "Liblinear failed to converge, increase the number of iterations.\n",
            "\n"
          ]
        },
        {
          "output_type": "stream",
          "name": "stdout",
          "text": [
            "Model Number: 526 with model MultivariateMotif in generation 4 of 10\n"
          ]
        },
        {
          "output_type": "stream",
          "name": "stderr",
          "text": [
            "/usr/local/lib/python3.7/dist-packages/sklearn/svm/_base.py:1208: ConvergenceWarning:\n",
            "\n",
            "Liblinear failed to converge, increase the number of iterations.\n",
            "\n",
            "/usr/local/lib/python3.7/dist-packages/sklearn/svm/_base.py:1208: ConvergenceWarning:\n",
            "\n",
            "Liblinear failed to converge, increase the number of iterations.\n",
            "\n",
            "/usr/local/lib/python3.7/dist-packages/sklearn/linear_model/_glm/link.py:90: RuntimeWarning:\n",
            "\n",
            "overflow encountered in exp\n",
            "\n",
            "/usr/local/lib/python3.7/dist-packages/sklearn/linear_model/_glm/link.py:93: RuntimeWarning:\n",
            "\n",
            "overflow encountered in exp\n",
            "\n",
            "/usr/local/lib/python3.7/dist-packages/sklearn/_loss/glm_distribution.py:132: RuntimeWarning:\n",
            "\n",
            "invalid value encountered in true_divide\n",
            "\n",
            "/usr/local/lib/python3.7/dist-packages/sklearn/_loss/glm_distribution.py:323: RuntimeWarning:\n",
            "\n",
            "invalid value encountered in add\n",
            "\n",
            "/usr/local/lib/python3.7/dist-packages/sklearn/linear_model/_glm/glm.py:323: ConvergenceWarning:\n",
            "\n",
            "lbfgs failed to converge (status=2):\n",
            "ABNORMAL_TERMINATION_IN_LNSRCH.\n",
            "\n",
            "Increase the number of iterations (max_iter) or scale the data as shown in:\n",
            "    https://scikit-learn.org/stable/modules/preprocessing.html\n",
            "\n"
          ]
        },
        {
          "output_type": "stream",
          "name": "stdout",
          "text": [
            "Model Number: 527 with model MultivariateRegression in generation 4 of 10\n",
            "Model Number: 528 with model UnivariateRegression in generation 4 of 10\n",
            "Model Number: 529 with model MultivariateRegression in generation 4 of 10\n",
            "Template Eval Error: ValueError(\"regression_type='User' but not future_regressor supplied.\") in model 529: MultivariateRegression\n",
            "Model Number: 530 with model LastValueNaive in generation 4 of 10\n",
            "Model Number: 531 with model WindowRegression in generation 4 of 10\n"
          ]
        },
        {
          "output_type": "stream",
          "name": "stderr",
          "text": [
            "/usr/local/lib/python3.7/dist-packages/autots/tools/probabilistic.py:67: RuntimeWarning:\n",
            "\n",
            "invalid value encountered in true_divide\n",
            "\n",
            "/usr/local/lib/python3.7/dist-packages/autots/tools/probabilistic.py:68: RuntimeWarning:\n",
            "\n",
            "divide by zero encountered in true_divide\n",
            "\n"
          ]
        },
        {
          "output_type": "stream",
          "name": "stdout",
          "text": [
            "Model Number: 532 with model GLS in generation 4 of 10\n",
            "Model Number: 533 with model SeasonalNaive in generation 4 of 10\n",
            "Model Number: 534 with model LastValueNaive in generation 4 of 10\n",
            "Model Number: 535 with model UnobservedComponents in generation 4 of 10\n",
            "Model Number: 536 with model WindowRegression in generation 4 of 10\n",
            "Model Number: 537 with model UnobservedComponents in generation 4 of 10\n"
          ]
        },
        {
          "output_type": "stream",
          "name": "stderr",
          "text": [
            "INFO:fbprophet:Disabling daily seasonality. Run prophet with daily_seasonality=True to override this.\n"
          ]
        },
        {
          "output_type": "stream",
          "name": "stdout",
          "text": [
            "Model Number: 538 with model FBProphet in generation 4 of 10\n",
            "Model Number: 539 with model SectionalMotif in generation 4 of 10\n"
          ]
        },
        {
          "output_type": "stream",
          "name": "stderr",
          "text": [
            "/usr/local/lib/python3.7/dist-packages/sklearn/base.py:451: UserWarning:\n",
            "\n",
            "X does not have valid feature names, but MLPRegressor was fitted with feature names\n",
            "\n",
            "/usr/local/lib/python3.7/dist-packages/sklearn/base.py:451: UserWarning:\n",
            "\n",
            "X does not have valid feature names, but MLPRegressor was fitted with feature names\n",
            "\n",
            "/usr/local/lib/python3.7/dist-packages/sklearn/base.py:451: UserWarning:\n",
            "\n",
            "X does not have valid feature names, but MLPRegressor was fitted with feature names\n",
            "\n",
            "/usr/local/lib/python3.7/dist-packages/sklearn/base.py:451: UserWarning:\n",
            "\n",
            "X does not have valid feature names, but MLPRegressor was fitted with feature names\n",
            "\n",
            "/usr/local/lib/python3.7/dist-packages/sklearn/base.py:451: UserWarning:\n",
            "\n",
            "X does not have valid feature names, but MLPRegressor was fitted with feature names\n",
            "\n",
            "/usr/local/lib/python3.7/dist-packages/sklearn/base.py:451: UserWarning:\n",
            "\n",
            "X does not have valid feature names, but MLPRegressor was fitted with feature names\n",
            "\n",
            "/usr/local/lib/python3.7/dist-packages/sklearn/base.py:451: UserWarning:\n",
            "\n",
            "X does not have valid feature names, but MLPRegressor was fitted with feature names\n",
            "\n",
            "/usr/local/lib/python3.7/dist-packages/sklearn/base.py:451: UserWarning:\n",
            "\n",
            "X does not have valid feature names, but MLPRegressor was fitted with feature names\n",
            "\n",
            "/usr/local/lib/python3.7/dist-packages/sklearn/base.py:451: UserWarning:\n",
            "\n",
            "X does not have valid feature names, but MLPRegressor was fitted with feature names\n",
            "\n",
            "/usr/local/lib/python3.7/dist-packages/sklearn/base.py:451: UserWarning:\n",
            "\n",
            "X does not have valid feature names, but MLPRegressor was fitted with feature names\n",
            "\n",
            "/usr/local/lib/python3.7/dist-packages/sklearn/base.py:451: UserWarning:\n",
            "\n",
            "X does not have valid feature names, but MLPRegressor was fitted with feature names\n",
            "\n",
            "/usr/local/lib/python3.7/dist-packages/sklearn/base.py:451: UserWarning:\n",
            "\n",
            "X does not have valid feature names, but MLPRegressor was fitted with feature names\n",
            "\n",
            "/usr/local/lib/python3.7/dist-packages/sklearn/base.py:451: UserWarning:\n",
            "\n",
            "X does not have valid feature names, but MLPRegressor was fitted with feature names\n",
            "\n",
            "/usr/local/lib/python3.7/dist-packages/sklearn/base.py:451: UserWarning:\n",
            "\n",
            "X does not have valid feature names, but MLPRegressor was fitted with feature names\n",
            "\n",
            "/usr/local/lib/python3.7/dist-packages/sklearn/base.py:451: UserWarning:\n",
            "\n",
            "X does not have valid feature names, but MLPRegressor was fitted with feature names\n",
            "\n",
            "/usr/local/lib/python3.7/dist-packages/sklearn/base.py:451: UserWarning:\n",
            "\n",
            "X does not have valid feature names, but MLPRegressor was fitted with feature names\n",
            "\n",
            "/usr/local/lib/python3.7/dist-packages/sklearn/base.py:451: UserWarning:\n",
            "\n",
            "X does not have valid feature names, but MLPRegressor was fitted with feature names\n",
            "\n",
            "/usr/local/lib/python3.7/dist-packages/sklearn/base.py:451: UserWarning:\n",
            "\n",
            "X does not have valid feature names, but MLPRegressor was fitted with feature names\n",
            "\n",
            "/usr/local/lib/python3.7/dist-packages/sklearn/base.py:451: UserWarning:\n",
            "\n",
            "X does not have valid feature names, but MLPRegressor was fitted with feature names\n",
            "\n",
            "/usr/local/lib/python3.7/dist-packages/sklearn/base.py:451: UserWarning:\n",
            "\n",
            "X does not have valid feature names, but MLPRegressor was fitted with feature names\n",
            "\n",
            "/usr/local/lib/python3.7/dist-packages/sklearn/base.py:451: UserWarning:\n",
            "\n",
            "X does not have valid feature names, but MLPRegressor was fitted with feature names\n",
            "\n",
            "/usr/local/lib/python3.7/dist-packages/sklearn/base.py:451: UserWarning:\n",
            "\n",
            "X does not have valid feature names, but MLPRegressor was fitted with feature names\n",
            "\n",
            "/usr/local/lib/python3.7/dist-packages/sklearn/base.py:451: UserWarning:\n",
            "\n",
            "X does not have valid feature names, but MLPRegressor was fitted with feature names\n",
            "\n",
            "/usr/local/lib/python3.7/dist-packages/sklearn/base.py:451: UserWarning:\n",
            "\n",
            "X does not have valid feature names, but MLPRegressor was fitted with feature names\n",
            "\n",
            "/usr/local/lib/python3.7/dist-packages/sklearn/base.py:451: UserWarning:\n",
            "\n",
            "X does not have valid feature names, but MLPRegressor was fitted with feature names\n",
            "\n",
            "/usr/local/lib/python3.7/dist-packages/sklearn/base.py:451: UserWarning:\n",
            "\n",
            "X does not have valid feature names, but MLPRegressor was fitted with feature names\n",
            "\n",
            "/usr/local/lib/python3.7/dist-packages/sklearn/base.py:451: UserWarning:\n",
            "\n",
            "X does not have valid feature names, but MLPRegressor was fitted with feature names\n",
            "\n",
            "/usr/local/lib/python3.7/dist-packages/sklearn/base.py:451: UserWarning:\n",
            "\n",
            "X does not have valid feature names, but MLPRegressor was fitted with feature names\n",
            "\n",
            "/usr/local/lib/python3.7/dist-packages/sklearn/base.py:451: UserWarning:\n",
            "\n",
            "X does not have valid feature names, but MLPRegressor was fitted with feature names\n",
            "\n",
            "/usr/local/lib/python3.7/dist-packages/sklearn/base.py:451: UserWarning:\n",
            "\n",
            "X does not have valid feature names, but MLPRegressor was fitted with feature names\n",
            "\n",
            "/usr/local/lib/python3.7/dist-packages/sklearn/base.py:451: UserWarning:\n",
            "\n",
            "X does not have valid feature names, but MLPRegressor was fitted with feature names\n",
            "\n",
            "/usr/local/lib/python3.7/dist-packages/sklearn/base.py:451: UserWarning:\n",
            "\n",
            "X does not have valid feature names, but MLPRegressor was fitted with feature names\n",
            "\n",
            "/usr/local/lib/python3.7/dist-packages/sklearn/base.py:451: UserWarning:\n",
            "\n",
            "X does not have valid feature names, but MLPRegressor was fitted with feature names\n",
            "\n",
            "/usr/local/lib/python3.7/dist-packages/sklearn/base.py:451: UserWarning:\n",
            "\n",
            "X does not have valid feature names, but MLPRegressor was fitted with feature names\n",
            "\n",
            "/usr/local/lib/python3.7/dist-packages/sklearn/base.py:451: UserWarning:\n",
            "\n",
            "X does not have valid feature names, but MLPRegressor was fitted with feature names\n",
            "\n",
            "/usr/local/lib/python3.7/dist-packages/sklearn/base.py:451: UserWarning:\n",
            "\n",
            "X does not have valid feature names, but MLPRegressor was fitted with feature names\n",
            "\n",
            "/usr/local/lib/python3.7/dist-packages/sklearn/base.py:451: UserWarning:\n",
            "\n",
            "X does not have valid feature names, but MLPRegressor was fitted with feature names\n",
            "\n",
            "/usr/local/lib/python3.7/dist-packages/sklearn/base.py:451: UserWarning:\n",
            "\n",
            "X does not have valid feature names, but MLPRegressor was fitted with feature names\n",
            "\n",
            "/usr/local/lib/python3.7/dist-packages/sklearn/base.py:451: UserWarning:\n",
            "\n",
            "X does not have valid feature names, but MLPRegressor was fitted with feature names\n",
            "\n",
            "/usr/local/lib/python3.7/dist-packages/sklearn/base.py:451: UserWarning:\n",
            "\n",
            "X does not have valid feature names, but MLPRegressor was fitted with feature names\n",
            "\n",
            "/usr/local/lib/python3.7/dist-packages/sklearn/base.py:451: UserWarning:\n",
            "\n",
            "X does not have valid feature names, but MLPRegressor was fitted with feature names\n",
            "\n",
            "/usr/local/lib/python3.7/dist-packages/sklearn/base.py:451: UserWarning:\n",
            "\n",
            "X does not have valid feature names, but MLPRegressor was fitted with feature names\n",
            "\n",
            "/usr/local/lib/python3.7/dist-packages/sklearn/base.py:451: UserWarning:\n",
            "\n",
            "X does not have valid feature names, but MLPRegressor was fitted with feature names\n",
            "\n",
            "/usr/local/lib/python3.7/dist-packages/sklearn/base.py:451: UserWarning:\n",
            "\n",
            "X does not have valid feature names, but MLPRegressor was fitted with feature names\n",
            "\n",
            "/usr/local/lib/python3.7/dist-packages/sklearn/base.py:451: UserWarning:\n",
            "\n",
            "X does not have valid feature names, but MLPRegressor was fitted with feature names\n",
            "\n",
            "/usr/local/lib/python3.7/dist-packages/sklearn/base.py:451: UserWarning:\n",
            "\n",
            "X does not have valid feature names, but MLPRegressor was fitted with feature names\n",
            "\n",
            "/usr/local/lib/python3.7/dist-packages/sklearn/base.py:451: UserWarning:\n",
            "\n",
            "X does not have valid feature names, but MLPRegressor was fitted with feature names\n",
            "\n",
            "/usr/local/lib/python3.7/dist-packages/sklearn/base.py:451: UserWarning:\n",
            "\n",
            "X does not have valid feature names, but MLPRegressor was fitted with feature names\n",
            "\n",
            "/usr/local/lib/python3.7/dist-packages/sklearn/base.py:451: UserWarning:\n",
            "\n",
            "X does not have valid feature names, but MLPRegressor was fitted with feature names\n",
            "\n",
            "/usr/local/lib/python3.7/dist-packages/sklearn/base.py:451: UserWarning:\n",
            "\n",
            "X does not have valid feature names, but MLPRegressor was fitted with feature names\n",
            "\n",
            "/usr/local/lib/python3.7/dist-packages/sklearn/base.py:451: UserWarning:\n",
            "\n",
            "X does not have valid feature names, but MLPRegressor was fitted with feature names\n",
            "\n",
            "/usr/local/lib/python3.7/dist-packages/sklearn/base.py:451: UserWarning:\n",
            "\n",
            "X does not have valid feature names, but MLPRegressor was fitted with feature names\n",
            "\n",
            "/usr/local/lib/python3.7/dist-packages/sklearn/base.py:451: UserWarning:\n",
            "\n",
            "X does not have valid feature names, but MLPRegressor was fitted with feature names\n",
            "\n",
            "/usr/local/lib/python3.7/dist-packages/sklearn/base.py:451: UserWarning:\n",
            "\n",
            "X does not have valid feature names, but MLPRegressor was fitted with feature names\n",
            "\n",
            "/usr/local/lib/python3.7/dist-packages/sklearn/base.py:451: UserWarning:\n",
            "\n",
            "X does not have valid feature names, but MLPRegressor was fitted with feature names\n",
            "\n",
            "/usr/local/lib/python3.7/dist-packages/sklearn/base.py:451: UserWarning:\n",
            "\n",
            "X does not have valid feature names, but MLPRegressor was fitted with feature names\n",
            "\n",
            "/usr/local/lib/python3.7/dist-packages/sklearn/base.py:451: UserWarning:\n",
            "\n",
            "X does not have valid feature names, but MLPRegressor was fitted with feature names\n",
            "\n",
            "/usr/local/lib/python3.7/dist-packages/sklearn/base.py:451: UserWarning:\n",
            "\n",
            "X does not have valid feature names, but MLPRegressor was fitted with feature names\n",
            "\n",
            "/usr/local/lib/python3.7/dist-packages/sklearn/base.py:451: UserWarning:\n",
            "\n",
            "X does not have valid feature names, but MLPRegressor was fitted with feature names\n",
            "\n",
            "/usr/local/lib/python3.7/dist-packages/sklearn/base.py:451: UserWarning:\n",
            "\n",
            "X does not have valid feature names, but MLPRegressor was fitted with feature names\n",
            "\n",
            "/usr/local/lib/python3.7/dist-packages/sklearn/base.py:451: UserWarning:\n",
            "\n",
            "X does not have valid feature names, but MLPRegressor was fitted with feature names\n",
            "\n",
            "/usr/local/lib/python3.7/dist-packages/sklearn/base.py:451: UserWarning:\n",
            "\n",
            "X does not have valid feature names, but MLPRegressor was fitted with feature names\n",
            "\n",
            "/usr/local/lib/python3.7/dist-packages/sklearn/base.py:451: UserWarning:\n",
            "\n",
            "X does not have valid feature names, but MLPRegressor was fitted with feature names\n",
            "\n",
            "/usr/local/lib/python3.7/dist-packages/sklearn/base.py:451: UserWarning:\n",
            "\n",
            "X does not have valid feature names, but MLPRegressor was fitted with feature names\n",
            "\n",
            "/usr/local/lib/python3.7/dist-packages/sklearn/base.py:451: UserWarning:\n",
            "\n",
            "X does not have valid feature names, but MLPRegressor was fitted with feature names\n",
            "\n",
            "/usr/local/lib/python3.7/dist-packages/sklearn/base.py:451: UserWarning:\n",
            "\n",
            "X does not have valid feature names, but MLPRegressor was fitted with feature names\n",
            "\n",
            "/usr/local/lib/python3.7/dist-packages/sklearn/base.py:451: UserWarning:\n",
            "\n",
            "X does not have valid feature names, but MLPRegressor was fitted with feature names\n",
            "\n",
            "/usr/local/lib/python3.7/dist-packages/sklearn/base.py:451: UserWarning:\n",
            "\n",
            "X does not have valid feature names, but MLPRegressor was fitted with feature names\n",
            "\n",
            "/usr/local/lib/python3.7/dist-packages/sklearn/base.py:451: UserWarning:\n",
            "\n",
            "X does not have valid feature names, but MLPRegressor was fitted with feature names\n",
            "\n",
            "/usr/local/lib/python3.7/dist-packages/sklearn/base.py:451: UserWarning:\n",
            "\n",
            "X does not have valid feature names, but MLPRegressor was fitted with feature names\n",
            "\n",
            "/usr/local/lib/python3.7/dist-packages/sklearn/base.py:451: UserWarning:\n",
            "\n",
            "X does not have valid feature names, but MLPRegressor was fitted with feature names\n",
            "\n",
            "/usr/local/lib/python3.7/dist-packages/sklearn/base.py:451: UserWarning:\n",
            "\n",
            "X does not have valid feature names, but MLPRegressor was fitted with feature names\n",
            "\n",
            "/usr/local/lib/python3.7/dist-packages/sklearn/base.py:451: UserWarning:\n",
            "\n",
            "X does not have valid feature names, but MLPRegressor was fitted with feature names\n",
            "\n",
            "/usr/local/lib/python3.7/dist-packages/sklearn/base.py:451: UserWarning:\n",
            "\n",
            "X does not have valid feature names, but MLPRegressor was fitted with feature names\n",
            "\n",
            "/usr/local/lib/python3.7/dist-packages/sklearn/base.py:451: UserWarning:\n",
            "\n",
            "X does not have valid feature names, but MLPRegressor was fitted with feature names\n",
            "\n",
            "/usr/local/lib/python3.7/dist-packages/sklearn/base.py:451: UserWarning:\n",
            "\n",
            "X does not have valid feature names, but MLPRegressor was fitted with feature names\n",
            "\n",
            "/usr/local/lib/python3.7/dist-packages/sklearn/base.py:451: UserWarning:\n",
            "\n",
            "X does not have valid feature names, but MLPRegressor was fitted with feature names\n",
            "\n",
            "/usr/local/lib/python3.7/dist-packages/sklearn/base.py:451: UserWarning:\n",
            "\n",
            "X does not have valid feature names, but MLPRegressor was fitted with feature names\n",
            "\n",
            "/usr/local/lib/python3.7/dist-packages/sklearn/base.py:451: UserWarning:\n",
            "\n",
            "X does not have valid feature names, but MLPRegressor was fitted with feature names\n",
            "\n",
            "/usr/local/lib/python3.7/dist-packages/sklearn/base.py:451: UserWarning:\n",
            "\n",
            "X does not have valid feature names, but MLPRegressor was fitted with feature names\n",
            "\n",
            "/usr/local/lib/python3.7/dist-packages/sklearn/base.py:451: UserWarning:\n",
            "\n",
            "X does not have valid feature names, but MLPRegressor was fitted with feature names\n",
            "\n",
            "/usr/local/lib/python3.7/dist-packages/sklearn/base.py:451: UserWarning:\n",
            "\n",
            "X does not have valid feature names, but MLPRegressor was fitted with feature names\n",
            "\n",
            "/usr/local/lib/python3.7/dist-packages/sklearn/base.py:451: UserWarning:\n",
            "\n",
            "X does not have valid feature names, but MLPRegressor was fitted with feature names\n",
            "\n",
            "/usr/local/lib/python3.7/dist-packages/sklearn/base.py:451: UserWarning:\n",
            "\n",
            "X does not have valid feature names, but MLPRegressor was fitted with feature names\n",
            "\n",
            "/usr/local/lib/python3.7/dist-packages/sklearn/base.py:451: UserWarning:\n",
            "\n",
            "X does not have valid feature names, but MLPRegressor was fitted with feature names\n",
            "\n",
            "/usr/local/lib/python3.7/dist-packages/sklearn/base.py:451: UserWarning:\n",
            "\n",
            "X does not have valid feature names, but MLPRegressor was fitted with feature names\n",
            "\n",
            "/usr/local/lib/python3.7/dist-packages/sklearn/base.py:451: UserWarning:\n",
            "\n",
            "X does not have valid feature names, but MLPRegressor was fitted with feature names\n",
            "\n",
            "/usr/local/lib/python3.7/dist-packages/sklearn/base.py:451: UserWarning:\n",
            "\n",
            "X does not have valid feature names, but MLPRegressor was fitted with feature names\n",
            "\n",
            "/usr/local/lib/python3.7/dist-packages/sklearn/base.py:451: UserWarning:\n",
            "\n",
            "X does not have valid feature names, but MLPRegressor was fitted with feature names\n",
            "\n",
            "/usr/local/lib/python3.7/dist-packages/sklearn/base.py:451: UserWarning:\n",
            "\n",
            "X does not have valid feature names, but MLPRegressor was fitted with feature names\n",
            "\n",
            "/usr/local/lib/python3.7/dist-packages/sklearn/base.py:451: UserWarning:\n",
            "\n",
            "X does not have valid feature names, but MLPRegressor was fitted with feature names\n",
            "\n",
            "/usr/local/lib/python3.7/dist-packages/sklearn/base.py:451: UserWarning:\n",
            "\n",
            "X does not have valid feature names, but MLPRegressor was fitted with feature names\n",
            "\n",
            "/usr/local/lib/python3.7/dist-packages/sklearn/base.py:451: UserWarning:\n",
            "\n",
            "X does not have valid feature names, but MLPRegressor was fitted with feature names\n",
            "\n",
            "/usr/local/lib/python3.7/dist-packages/sklearn/base.py:451: UserWarning:\n",
            "\n",
            "X does not have valid feature names, but MLPRegressor was fitted with feature names\n",
            "\n",
            "/usr/local/lib/python3.7/dist-packages/sklearn/base.py:451: UserWarning:\n",
            "\n",
            "X does not have valid feature names, but MLPRegressor was fitted with feature names\n",
            "\n",
            "/usr/local/lib/python3.7/dist-packages/sklearn/base.py:451: UserWarning:\n",
            "\n",
            "X does not have valid feature names, but MLPRegressor was fitted with feature names\n",
            "\n",
            "/usr/local/lib/python3.7/dist-packages/sklearn/base.py:451: UserWarning:\n",
            "\n",
            "X does not have valid feature names, but MLPRegressor was fitted with feature names\n",
            "\n",
            "/usr/local/lib/python3.7/dist-packages/sklearn/base.py:451: UserWarning:\n",
            "\n",
            "X does not have valid feature names, but MLPRegressor was fitted with feature names\n",
            "\n",
            "/usr/local/lib/python3.7/dist-packages/sklearn/base.py:451: UserWarning:\n",
            "\n",
            "X does not have valid feature names, but MLPRegressor was fitted with feature names\n",
            "\n",
            "/usr/local/lib/python3.7/dist-packages/sklearn/base.py:451: UserWarning:\n",
            "\n",
            "X does not have valid feature names, but MLPRegressor was fitted with feature names\n",
            "\n",
            "/usr/local/lib/python3.7/dist-packages/sklearn/base.py:451: UserWarning:\n",
            "\n",
            "X does not have valid feature names, but MLPRegressor was fitted with feature names\n",
            "\n",
            "/usr/local/lib/python3.7/dist-packages/sklearn/base.py:451: UserWarning:\n",
            "\n",
            "X does not have valid feature names, but MLPRegressor was fitted with feature names\n",
            "\n",
            "/usr/local/lib/python3.7/dist-packages/sklearn/base.py:451: UserWarning:\n",
            "\n",
            "X does not have valid feature names, but MLPRegressor was fitted with feature names\n",
            "\n",
            "/usr/local/lib/python3.7/dist-packages/sklearn/base.py:451: UserWarning:\n",
            "\n",
            "X does not have valid feature names, but MLPRegressor was fitted with feature names\n",
            "\n",
            "/usr/local/lib/python3.7/dist-packages/sklearn/base.py:451: UserWarning:\n",
            "\n",
            "X does not have valid feature names, but MLPRegressor was fitted with feature names\n",
            "\n",
            "/usr/local/lib/python3.7/dist-packages/sklearn/base.py:451: UserWarning:\n",
            "\n",
            "X does not have valid feature names, but MLPRegressor was fitted with feature names\n",
            "\n",
            "/usr/local/lib/python3.7/dist-packages/sklearn/base.py:451: UserWarning:\n",
            "\n",
            "X does not have valid feature names, but MLPRegressor was fitted with feature names\n",
            "\n",
            "/usr/local/lib/python3.7/dist-packages/sklearn/base.py:451: UserWarning:\n",
            "\n",
            "X does not have valid feature names, but MLPRegressor was fitted with feature names\n",
            "\n",
            "/usr/local/lib/python3.7/dist-packages/sklearn/base.py:451: UserWarning:\n",
            "\n",
            "X does not have valid feature names, but MLPRegressor was fitted with feature names\n",
            "\n",
            "/usr/local/lib/python3.7/dist-packages/sklearn/base.py:451: UserWarning:\n",
            "\n",
            "X does not have valid feature names, but MLPRegressor was fitted with feature names\n",
            "\n",
            "/usr/local/lib/python3.7/dist-packages/sklearn/base.py:451: UserWarning:\n",
            "\n",
            "X does not have valid feature names, but MLPRegressor was fitted with feature names\n",
            "\n",
            "/usr/local/lib/python3.7/dist-packages/sklearn/base.py:451: UserWarning:\n",
            "\n",
            "X does not have valid feature names, but MLPRegressor was fitted with feature names\n",
            "\n",
            "/usr/local/lib/python3.7/dist-packages/sklearn/base.py:451: UserWarning:\n",
            "\n",
            "X does not have valid feature names, but MLPRegressor was fitted with feature names\n",
            "\n",
            "/usr/local/lib/python3.7/dist-packages/sklearn/base.py:451: UserWarning:\n",
            "\n",
            "X does not have valid feature names, but MLPRegressor was fitted with feature names\n",
            "\n",
            "/usr/local/lib/python3.7/dist-packages/sklearn/base.py:451: UserWarning:\n",
            "\n",
            "X does not have valid feature names, but MLPRegressor was fitted with feature names\n",
            "\n",
            "/usr/local/lib/python3.7/dist-packages/sklearn/base.py:451: UserWarning:\n",
            "\n",
            "X does not have valid feature names, but MLPRegressor was fitted with feature names\n",
            "\n",
            "/usr/local/lib/python3.7/dist-packages/sklearn/base.py:451: UserWarning:\n",
            "\n",
            "X does not have valid feature names, but MLPRegressor was fitted with feature names\n",
            "\n",
            "/usr/local/lib/python3.7/dist-packages/sklearn/base.py:451: UserWarning:\n",
            "\n",
            "X does not have valid feature names, but MLPRegressor was fitted with feature names\n",
            "\n",
            "/usr/local/lib/python3.7/dist-packages/sklearn/base.py:451: UserWarning:\n",
            "\n",
            "X does not have valid feature names, but MLPRegressor was fitted with feature names\n",
            "\n",
            "/usr/local/lib/python3.7/dist-packages/sklearn/base.py:451: UserWarning:\n",
            "\n",
            "X does not have valid feature names, but MLPRegressor was fitted with feature names\n",
            "\n",
            "/usr/local/lib/python3.7/dist-packages/sklearn/base.py:451: UserWarning:\n",
            "\n",
            "X does not have valid feature names, but MLPRegressor was fitted with feature names\n",
            "\n",
            "/usr/local/lib/python3.7/dist-packages/sklearn/base.py:451: UserWarning:\n",
            "\n",
            "X does not have valid feature names, but MLPRegressor was fitted with feature names\n",
            "\n",
            "/usr/local/lib/python3.7/dist-packages/sklearn/base.py:451: UserWarning:\n",
            "\n",
            "X does not have valid feature names, but MLPRegressor was fitted with feature names\n",
            "\n",
            "/usr/local/lib/python3.7/dist-packages/sklearn/base.py:451: UserWarning:\n",
            "\n",
            "X does not have valid feature names, but MLPRegressor was fitted with feature names\n",
            "\n",
            "/usr/local/lib/python3.7/dist-packages/sklearn/base.py:451: UserWarning:\n",
            "\n",
            "X does not have valid feature names, but MLPRegressor was fitted with feature names\n",
            "\n",
            "/usr/local/lib/python3.7/dist-packages/sklearn/base.py:451: UserWarning:\n",
            "\n",
            "X does not have valid feature names, but MLPRegressor was fitted with feature names\n",
            "\n",
            "/usr/local/lib/python3.7/dist-packages/sklearn/base.py:451: UserWarning:\n",
            "\n",
            "X does not have valid feature names, but MLPRegressor was fitted with feature names\n",
            "\n",
            "/usr/local/lib/python3.7/dist-packages/sklearn/base.py:451: UserWarning:\n",
            "\n",
            "X does not have valid feature names, but MLPRegressor was fitted with feature names\n",
            "\n",
            "/usr/local/lib/python3.7/dist-packages/sklearn/base.py:451: UserWarning:\n",
            "\n",
            "X does not have valid feature names, but MLPRegressor was fitted with feature names\n",
            "\n",
            "/usr/local/lib/python3.7/dist-packages/sklearn/base.py:451: UserWarning:\n",
            "\n",
            "X does not have valid feature names, but MLPRegressor was fitted with feature names\n",
            "\n",
            "/usr/local/lib/python3.7/dist-packages/sklearn/base.py:451: UserWarning:\n",
            "\n",
            "X does not have valid feature names, but MLPRegressor was fitted with feature names\n",
            "\n",
            "/usr/local/lib/python3.7/dist-packages/sklearn/base.py:451: UserWarning:\n",
            "\n",
            "X does not have valid feature names, but MLPRegressor was fitted with feature names\n",
            "\n",
            "/usr/local/lib/python3.7/dist-packages/sklearn/base.py:451: UserWarning:\n",
            "\n",
            "X does not have valid feature names, but MLPRegressor was fitted with feature names\n",
            "\n",
            "/usr/local/lib/python3.7/dist-packages/sklearn/base.py:451: UserWarning:\n",
            "\n",
            "X does not have valid feature names, but MLPRegressor was fitted with feature names\n",
            "\n",
            "/usr/local/lib/python3.7/dist-packages/sklearn/base.py:451: UserWarning:\n",
            "\n",
            "X does not have valid feature names, but MLPRegressor was fitted with feature names\n",
            "\n",
            "/usr/local/lib/python3.7/dist-packages/sklearn/base.py:451: UserWarning:\n",
            "\n",
            "X does not have valid feature names, but MLPRegressor was fitted with feature names\n",
            "\n",
            "/usr/local/lib/python3.7/dist-packages/sklearn/base.py:451: UserWarning:\n",
            "\n",
            "X does not have valid feature names, but MLPRegressor was fitted with feature names\n",
            "\n",
            "/usr/local/lib/python3.7/dist-packages/sklearn/base.py:451: UserWarning:\n",
            "\n",
            "X does not have valid feature names, but MLPRegressor was fitted with feature names\n",
            "\n",
            "/usr/local/lib/python3.7/dist-packages/sklearn/base.py:451: UserWarning:\n",
            "\n",
            "X does not have valid feature names, but MLPRegressor was fitted with feature names\n",
            "\n",
            "/usr/local/lib/python3.7/dist-packages/sklearn/base.py:451: UserWarning:\n",
            "\n",
            "X does not have valid feature names, but MLPRegressor was fitted with feature names\n",
            "\n",
            "/usr/local/lib/python3.7/dist-packages/sklearn/base.py:451: UserWarning:\n",
            "\n",
            "X does not have valid feature names, but MLPRegressor was fitted with feature names\n",
            "\n",
            "/usr/local/lib/python3.7/dist-packages/sklearn/base.py:451: UserWarning:\n",
            "\n",
            "X does not have valid feature names, but MLPRegressor was fitted with feature names\n",
            "\n",
            "/usr/local/lib/python3.7/dist-packages/sklearn/base.py:451: UserWarning:\n",
            "\n",
            "X does not have valid feature names, but MLPRegressor was fitted with feature names\n",
            "\n",
            "/usr/local/lib/python3.7/dist-packages/sklearn/base.py:451: UserWarning:\n",
            "\n",
            "X does not have valid feature names, but MLPRegressor was fitted with feature names\n",
            "\n",
            "/usr/local/lib/python3.7/dist-packages/sklearn/base.py:451: UserWarning:\n",
            "\n",
            "X does not have valid feature names, but MLPRegressor was fitted with feature names\n",
            "\n",
            "/usr/local/lib/python3.7/dist-packages/sklearn/base.py:451: UserWarning:\n",
            "\n",
            "X does not have valid feature names, but MLPRegressor was fitted with feature names\n",
            "\n",
            "/usr/local/lib/python3.7/dist-packages/sklearn/base.py:451: UserWarning:\n",
            "\n",
            "X does not have valid feature names, but MLPRegressor was fitted with feature names\n",
            "\n",
            "/usr/local/lib/python3.7/dist-packages/sklearn/base.py:451: UserWarning:\n",
            "\n",
            "X does not have valid feature names, but MLPRegressor was fitted with feature names\n",
            "\n",
            "/usr/local/lib/python3.7/dist-packages/sklearn/base.py:451: UserWarning:\n",
            "\n",
            "X does not have valid feature names, but MLPRegressor was fitted with feature names\n",
            "\n",
            "/usr/local/lib/python3.7/dist-packages/sklearn/base.py:451: UserWarning:\n",
            "\n",
            "X does not have valid feature names, but MLPRegressor was fitted with feature names\n",
            "\n",
            "/usr/local/lib/python3.7/dist-packages/sklearn/base.py:451: UserWarning:\n",
            "\n",
            "X does not have valid feature names, but MLPRegressor was fitted with feature names\n",
            "\n",
            "/usr/local/lib/python3.7/dist-packages/sklearn/base.py:451: UserWarning:\n",
            "\n",
            "X does not have valid feature names, but MLPRegressor was fitted with feature names\n",
            "\n",
            "/usr/local/lib/python3.7/dist-packages/sklearn/base.py:451: UserWarning:\n",
            "\n",
            "X does not have valid feature names, but MLPRegressor was fitted with feature names\n",
            "\n",
            "/usr/local/lib/python3.7/dist-packages/sklearn/base.py:451: UserWarning:\n",
            "\n",
            "X does not have valid feature names, but MLPRegressor was fitted with feature names\n",
            "\n",
            "/usr/local/lib/python3.7/dist-packages/sklearn/base.py:451: UserWarning:\n",
            "\n",
            "X does not have valid feature names, but MLPRegressor was fitted with feature names\n",
            "\n",
            "/usr/local/lib/python3.7/dist-packages/sklearn/base.py:451: UserWarning:\n",
            "\n",
            "X does not have valid feature names, but MLPRegressor was fitted with feature names\n",
            "\n",
            "/usr/local/lib/python3.7/dist-packages/sklearn/base.py:451: UserWarning:\n",
            "\n",
            "X does not have valid feature names, but MLPRegressor was fitted with feature names\n",
            "\n",
            "/usr/local/lib/python3.7/dist-packages/sklearn/base.py:451: UserWarning:\n",
            "\n",
            "X does not have valid feature names, but MLPRegressor was fitted with feature names\n",
            "\n",
            "/usr/local/lib/python3.7/dist-packages/sklearn/base.py:451: UserWarning:\n",
            "\n",
            "X does not have valid feature names, but MLPRegressor was fitted with feature names\n",
            "\n",
            "/usr/local/lib/python3.7/dist-packages/sklearn/base.py:451: UserWarning:\n",
            "\n",
            "X does not have valid feature names, but MLPRegressor was fitted with feature names\n",
            "\n",
            "/usr/local/lib/python3.7/dist-packages/sklearn/base.py:451: UserWarning:\n",
            "\n",
            "X does not have valid feature names, but MLPRegressor was fitted with feature names\n",
            "\n",
            "/usr/local/lib/python3.7/dist-packages/sklearn/base.py:451: UserWarning:\n",
            "\n",
            "X does not have valid feature names, but MLPRegressor was fitted with feature names\n",
            "\n",
            "/usr/local/lib/python3.7/dist-packages/sklearn/base.py:451: UserWarning:\n",
            "\n",
            "X does not have valid feature names, but MLPRegressor was fitted with feature names\n",
            "\n",
            "/usr/local/lib/python3.7/dist-packages/sklearn/base.py:451: UserWarning:\n",
            "\n",
            "X does not have valid feature names, but MLPRegressor was fitted with feature names\n",
            "\n",
            "/usr/local/lib/python3.7/dist-packages/sklearn/base.py:451: UserWarning:\n",
            "\n",
            "X does not have valid feature names, but MLPRegressor was fitted with feature names\n",
            "\n",
            "/usr/local/lib/python3.7/dist-packages/sklearn/base.py:451: UserWarning:\n",
            "\n",
            "X does not have valid feature names, but MLPRegressor was fitted with feature names\n",
            "\n",
            "/usr/local/lib/python3.7/dist-packages/sklearn/base.py:451: UserWarning:\n",
            "\n",
            "X does not have valid feature names, but MLPRegressor was fitted with feature names\n",
            "\n",
            "/usr/local/lib/python3.7/dist-packages/sklearn/base.py:451: UserWarning:\n",
            "\n",
            "X does not have valid feature names, but MLPRegressor was fitted with feature names\n",
            "\n",
            "/usr/local/lib/python3.7/dist-packages/sklearn/base.py:451: UserWarning:\n",
            "\n",
            "X does not have valid feature names, but MLPRegressor was fitted with feature names\n",
            "\n",
            "/usr/local/lib/python3.7/dist-packages/sklearn/base.py:451: UserWarning:\n",
            "\n",
            "X does not have valid feature names, but MLPRegressor was fitted with feature names\n",
            "\n",
            "/usr/local/lib/python3.7/dist-packages/sklearn/base.py:451: UserWarning:\n",
            "\n",
            "X does not have valid feature names, but MLPRegressor was fitted with feature names\n",
            "\n",
            "/usr/local/lib/python3.7/dist-packages/sklearn/base.py:451: UserWarning:\n",
            "\n",
            "X does not have valid feature names, but MLPRegressor was fitted with feature names\n",
            "\n",
            "/usr/local/lib/python3.7/dist-packages/sklearn/base.py:451: UserWarning:\n",
            "\n",
            "X does not have valid feature names, but MLPRegressor was fitted with feature names\n",
            "\n",
            "/usr/local/lib/python3.7/dist-packages/sklearn/base.py:451: UserWarning:\n",
            "\n",
            "X does not have valid feature names, but MLPRegressor was fitted with feature names\n",
            "\n",
            "/usr/local/lib/python3.7/dist-packages/sklearn/base.py:451: UserWarning:\n",
            "\n",
            "X does not have valid feature names, but MLPRegressor was fitted with feature names\n",
            "\n",
            "/usr/local/lib/python3.7/dist-packages/sklearn/base.py:451: UserWarning:\n",
            "\n",
            "X does not have valid feature names, but MLPRegressor was fitted with feature names\n",
            "\n",
            "/usr/local/lib/python3.7/dist-packages/sklearn/base.py:451: UserWarning:\n",
            "\n",
            "X does not have valid feature names, but MLPRegressor was fitted with feature names\n",
            "\n",
            "/usr/local/lib/python3.7/dist-packages/sklearn/base.py:451: UserWarning:\n",
            "\n",
            "X does not have valid feature names, but MLPRegressor was fitted with feature names\n",
            "\n",
            "/usr/local/lib/python3.7/dist-packages/sklearn/base.py:451: UserWarning:\n",
            "\n",
            "X does not have valid feature names, but MLPRegressor was fitted with feature names\n",
            "\n",
            "/usr/local/lib/python3.7/dist-packages/sklearn/base.py:451: UserWarning:\n",
            "\n",
            "X does not have valid feature names, but MLPRegressor was fitted with feature names\n",
            "\n",
            "/usr/local/lib/python3.7/dist-packages/sklearn/base.py:451: UserWarning:\n",
            "\n",
            "X does not have valid feature names, but MLPRegressor was fitted with feature names\n",
            "\n",
            "/usr/local/lib/python3.7/dist-packages/sklearn/base.py:451: UserWarning:\n",
            "\n",
            "X does not have valid feature names, but MLPRegressor was fitted with feature names\n",
            "\n",
            "/usr/local/lib/python3.7/dist-packages/sklearn/base.py:451: UserWarning:\n",
            "\n",
            "X does not have valid feature names, but MLPRegressor was fitted with feature names\n",
            "\n",
            "/usr/local/lib/python3.7/dist-packages/sklearn/base.py:451: UserWarning:\n",
            "\n",
            "X does not have valid feature names, but MLPRegressor was fitted with feature names\n",
            "\n",
            "/usr/local/lib/python3.7/dist-packages/sklearn/base.py:451: UserWarning:\n",
            "\n",
            "X does not have valid feature names, but MLPRegressor was fitted with feature names\n",
            "\n",
            "/usr/local/lib/python3.7/dist-packages/sklearn/base.py:451: UserWarning:\n",
            "\n",
            "X does not have valid feature names, but MLPRegressor was fitted with feature names\n",
            "\n",
            "/usr/local/lib/python3.7/dist-packages/sklearn/base.py:451: UserWarning:\n",
            "\n",
            "X does not have valid feature names, but MLPRegressor was fitted with feature names\n",
            "\n",
            "/usr/local/lib/python3.7/dist-packages/sklearn/base.py:451: UserWarning:\n",
            "\n",
            "X does not have valid feature names, but MLPRegressor was fitted with feature names\n",
            "\n",
            "/usr/local/lib/python3.7/dist-packages/sklearn/base.py:451: UserWarning:\n",
            "\n",
            "X does not have valid feature names, but MLPRegressor was fitted with feature names\n",
            "\n",
            "/usr/local/lib/python3.7/dist-packages/sklearn/base.py:451: UserWarning:\n",
            "\n",
            "X does not have valid feature names, but MLPRegressor was fitted with feature names\n",
            "\n",
            "/usr/local/lib/python3.7/dist-packages/sklearn/base.py:451: UserWarning:\n",
            "\n",
            "X does not have valid feature names, but MLPRegressor was fitted with feature names\n",
            "\n",
            "/usr/local/lib/python3.7/dist-packages/sklearn/base.py:451: UserWarning:\n",
            "\n",
            "X does not have valid feature names, but MLPRegressor was fitted with feature names\n",
            "\n",
            "/usr/local/lib/python3.7/dist-packages/sklearn/base.py:451: UserWarning:\n",
            "\n",
            "X does not have valid feature names, but MLPRegressor was fitted with feature names\n",
            "\n",
            "/usr/local/lib/python3.7/dist-packages/sklearn/base.py:451: UserWarning:\n",
            "\n",
            "X does not have valid feature names, but MLPRegressor was fitted with feature names\n",
            "\n",
            "/usr/local/lib/python3.7/dist-packages/sklearn/base.py:451: UserWarning:\n",
            "\n",
            "X does not have valid feature names, but MLPRegressor was fitted with feature names\n",
            "\n",
            "/usr/local/lib/python3.7/dist-packages/sklearn/base.py:451: UserWarning:\n",
            "\n",
            "X does not have valid feature names, but MLPRegressor was fitted with feature names\n",
            "\n",
            "/usr/local/lib/python3.7/dist-packages/sklearn/base.py:451: UserWarning:\n",
            "\n",
            "X does not have valid feature names, but MLPRegressor was fitted with feature names\n",
            "\n",
            "/usr/local/lib/python3.7/dist-packages/sklearn/base.py:451: UserWarning:\n",
            "\n",
            "X does not have valid feature names, but MLPRegressor was fitted with feature names\n",
            "\n",
            "/usr/local/lib/python3.7/dist-packages/sklearn/base.py:451: UserWarning:\n",
            "\n",
            "X does not have valid feature names, but MLPRegressor was fitted with feature names\n",
            "\n",
            "/usr/local/lib/python3.7/dist-packages/sklearn/base.py:451: UserWarning:\n",
            "\n",
            "X does not have valid feature names, but MLPRegressor was fitted with feature names\n",
            "\n",
            "/usr/local/lib/python3.7/dist-packages/sklearn/base.py:451: UserWarning:\n",
            "\n",
            "X does not have valid feature names, but MLPRegressor was fitted with feature names\n",
            "\n",
            "/usr/local/lib/python3.7/dist-packages/sklearn/base.py:451: UserWarning:\n",
            "\n",
            "X does not have valid feature names, but MLPRegressor was fitted with feature names\n",
            "\n",
            "/usr/local/lib/python3.7/dist-packages/sklearn/base.py:451: UserWarning:\n",
            "\n",
            "X does not have valid feature names, but MLPRegressor was fitted with feature names\n",
            "\n",
            "/usr/local/lib/python3.7/dist-packages/sklearn/base.py:451: UserWarning:\n",
            "\n",
            "X does not have valid feature names, but MLPRegressor was fitted with feature names\n",
            "\n",
            "/usr/local/lib/python3.7/dist-packages/sklearn/base.py:451: UserWarning:\n",
            "\n",
            "X does not have valid feature names, but MLPRegressor was fitted with feature names\n",
            "\n",
            "/usr/local/lib/python3.7/dist-packages/sklearn/base.py:451: UserWarning:\n",
            "\n",
            "X does not have valid feature names, but MLPRegressor was fitted with feature names\n",
            "\n",
            "/usr/local/lib/python3.7/dist-packages/sklearn/base.py:451: UserWarning:\n",
            "\n",
            "X does not have valid feature names, but MLPRegressor was fitted with feature names\n",
            "\n",
            "/usr/local/lib/python3.7/dist-packages/sklearn/base.py:451: UserWarning:\n",
            "\n",
            "X does not have valid feature names, but MLPRegressor was fitted with feature names\n",
            "\n",
            "/usr/local/lib/python3.7/dist-packages/sklearn/base.py:451: UserWarning:\n",
            "\n",
            "X does not have valid feature names, but MLPRegressor was fitted with feature names\n",
            "\n",
            "/usr/local/lib/python3.7/dist-packages/sklearn/base.py:451: UserWarning:\n",
            "\n",
            "X does not have valid feature names, but MLPRegressor was fitted with feature names\n",
            "\n",
            "/usr/local/lib/python3.7/dist-packages/sklearn/base.py:451: UserWarning:\n",
            "\n",
            "X does not have valid feature names, but MLPRegressor was fitted with feature names\n",
            "\n",
            "/usr/local/lib/python3.7/dist-packages/sklearn/base.py:451: UserWarning:\n",
            "\n",
            "X does not have valid feature names, but MLPRegressor was fitted with feature names\n",
            "\n",
            "/usr/local/lib/python3.7/dist-packages/sklearn/base.py:451: UserWarning:\n",
            "\n",
            "X does not have valid feature names, but MLPRegressor was fitted with feature names\n",
            "\n",
            "/usr/local/lib/python3.7/dist-packages/sklearn/base.py:451: UserWarning:\n",
            "\n",
            "X does not have valid feature names, but MLPRegressor was fitted with feature names\n",
            "\n",
            "/usr/local/lib/python3.7/dist-packages/sklearn/base.py:451: UserWarning:\n",
            "\n",
            "X does not have valid feature names, but MLPRegressor was fitted with feature names\n",
            "\n",
            "/usr/local/lib/python3.7/dist-packages/sklearn/base.py:451: UserWarning:\n",
            "\n",
            "X does not have valid feature names, but MLPRegressor was fitted with feature names\n",
            "\n",
            "/usr/local/lib/python3.7/dist-packages/sklearn/base.py:451: UserWarning:\n",
            "\n",
            "X does not have valid feature names, but MLPRegressor was fitted with feature names\n",
            "\n",
            "/usr/local/lib/python3.7/dist-packages/sklearn/base.py:451: UserWarning:\n",
            "\n",
            "X does not have valid feature names, but MLPRegressor was fitted with feature names\n",
            "\n",
            "/usr/local/lib/python3.7/dist-packages/sklearn/base.py:451: UserWarning:\n",
            "\n",
            "X does not have valid feature names, but MLPRegressor was fitted with feature names\n",
            "\n",
            "/usr/local/lib/python3.7/dist-packages/sklearn/base.py:451: UserWarning:\n",
            "\n",
            "X does not have valid feature names, but MLPRegressor was fitted with feature names\n",
            "\n",
            "/usr/local/lib/python3.7/dist-packages/sklearn/base.py:451: UserWarning:\n",
            "\n",
            "X does not have valid feature names, but MLPRegressor was fitted with feature names\n",
            "\n",
            "/usr/local/lib/python3.7/dist-packages/sklearn/base.py:451: UserWarning:\n",
            "\n",
            "X does not have valid feature names, but MLPRegressor was fitted with feature names\n",
            "\n",
            "/usr/local/lib/python3.7/dist-packages/sklearn/base.py:451: UserWarning:\n",
            "\n",
            "X does not have valid feature names, but MLPRegressor was fitted with feature names\n",
            "\n",
            "/usr/local/lib/python3.7/dist-packages/sklearn/base.py:451: UserWarning:\n",
            "\n",
            "X does not have valid feature names, but MLPRegressor was fitted with feature names\n",
            "\n",
            "/usr/local/lib/python3.7/dist-packages/sklearn/base.py:451: UserWarning:\n",
            "\n",
            "X does not have valid feature names, but MLPRegressor was fitted with feature names\n",
            "\n",
            "/usr/local/lib/python3.7/dist-packages/sklearn/base.py:451: UserWarning:\n",
            "\n",
            "X does not have valid feature names, but MLPRegressor was fitted with feature names\n",
            "\n",
            "/usr/local/lib/python3.7/dist-packages/sklearn/base.py:451: UserWarning:\n",
            "\n",
            "X does not have valid feature names, but MLPRegressor was fitted with feature names\n",
            "\n",
            "/usr/local/lib/python3.7/dist-packages/sklearn/base.py:451: UserWarning:\n",
            "\n",
            "X does not have valid feature names, but MLPRegressor was fitted with feature names\n",
            "\n",
            "/usr/local/lib/python3.7/dist-packages/sklearn/base.py:451: UserWarning:\n",
            "\n",
            "X does not have valid feature names, but MLPRegressor was fitted with feature names\n",
            "\n",
            "/usr/local/lib/python3.7/dist-packages/sklearn/base.py:451: UserWarning:\n",
            "\n",
            "X does not have valid feature names, but MLPRegressor was fitted with feature names\n",
            "\n",
            "/usr/local/lib/python3.7/dist-packages/sklearn/base.py:451: UserWarning:\n",
            "\n",
            "X does not have valid feature names, but MLPRegressor was fitted with feature names\n",
            "\n",
            "/usr/local/lib/python3.7/dist-packages/sklearn/base.py:451: UserWarning:\n",
            "\n",
            "X does not have valid feature names, but MLPRegressor was fitted with feature names\n",
            "\n",
            "/usr/local/lib/python3.7/dist-packages/sklearn/base.py:451: UserWarning:\n",
            "\n",
            "X does not have valid feature names, but MLPRegressor was fitted with feature names\n",
            "\n",
            "/usr/local/lib/python3.7/dist-packages/sklearn/base.py:451: UserWarning:\n",
            "\n",
            "X does not have valid feature names, but MLPRegressor was fitted with feature names\n",
            "\n",
            "/usr/local/lib/python3.7/dist-packages/sklearn/base.py:451: UserWarning:\n",
            "\n",
            "X does not have valid feature names, but MLPRegressor was fitted with feature names\n",
            "\n",
            "/usr/local/lib/python3.7/dist-packages/sklearn/base.py:451: UserWarning:\n",
            "\n",
            "X does not have valid feature names, but MLPRegressor was fitted with feature names\n",
            "\n",
            "/usr/local/lib/python3.7/dist-packages/sklearn/base.py:451: UserWarning:\n",
            "\n",
            "X does not have valid feature names, but MLPRegressor was fitted with feature names\n",
            "\n",
            "/usr/local/lib/python3.7/dist-packages/sklearn/base.py:451: UserWarning:\n",
            "\n",
            "X does not have valid feature names, but MLPRegressor was fitted with feature names\n",
            "\n",
            "/usr/local/lib/python3.7/dist-packages/sklearn/base.py:451: UserWarning:\n",
            "\n",
            "X does not have valid feature names, but MLPRegressor was fitted with feature names\n",
            "\n"
          ]
        },
        {
          "output_type": "stream",
          "name": "stdout",
          "text": [
            "Model Number: 540 with model LastValueNaive in generation 4 of 10\n"
          ]
        },
        {
          "output_type": "stream",
          "name": "stderr",
          "text": [
            "/usr/local/lib/python3.7/dist-packages/sklearn/base.py:451: UserWarning:\n",
            "\n",
            "X does not have valid feature names, but MLPRegressor was fitted with feature names\n",
            "\n",
            "/usr/local/lib/python3.7/dist-packages/sklearn/base.py:451: UserWarning:\n",
            "\n",
            "X does not have valid feature names, but MLPRegressor was fitted with feature names\n",
            "\n",
            "/usr/local/lib/python3.7/dist-packages/sklearn/linear_model/_glm/link.py:90: RuntimeWarning:\n",
            "\n",
            "overflow encountered in exp\n",
            "\n",
            "/usr/local/lib/python3.7/dist-packages/sklearn/linear_model/_glm/link.py:93: RuntimeWarning:\n",
            "\n",
            "overflow encountered in exp\n",
            "\n",
            "/usr/local/lib/python3.7/dist-packages/sklearn/_loss/glm_distribution.py:132: RuntimeWarning:\n",
            "\n",
            "invalid value encountered in true_divide\n",
            "\n"
          ]
        },
        {
          "output_type": "stream",
          "name": "stdout",
          "text": [
            "Model Number: 541 with model SectionalMotif in generation 4 of 10\n",
            "Model Number: 542 with model ETS in generation 4 of 10\n",
            "ETS error TypeError(\"__init__() got an unexpected keyword argument 'damped_trend'\")\n",
            "Model Number: 543 with model UnivariateRegression in generation 4 of 10\n",
            "Model Number: 544 with model ETS in generation 4 of 10\n",
            "ETS error TypeError(\"__init__() got an unexpected keyword argument 'damped_trend'\")\n",
            "Model Number: 545 with model ETS in generation 4 of 10\n",
            "ETS error TypeError(\"__init__() got an unexpected keyword argument 'damped_trend'\")\n"
          ]
        },
        {
          "output_type": "stream",
          "name": "stderr",
          "text": [
            "/usr/local/lib/python3.7/dist-packages/autots/tools/probabilistic.py:67: RuntimeWarning:\n",
            "\n",
            "invalid value encountered in true_divide\n",
            "\n",
            "/usr/local/lib/python3.7/dist-packages/autots/tools/probabilistic.py:68: RuntimeWarning:\n",
            "\n",
            "divide by zero encountered in true_divide\n",
            "\n",
            "/usr/local/lib/python3.7/dist-packages/sklearn/linear_model/_glm/link.py:90: RuntimeWarning:\n",
            "\n",
            "overflow encountered in exp\n",
            "\n",
            "/usr/local/lib/python3.7/dist-packages/sklearn/linear_model/_glm/link.py:93: RuntimeWarning:\n",
            "\n",
            "overflow encountered in exp\n",
            "\n",
            "/usr/local/lib/python3.7/dist-packages/sklearn/_loss/glm_distribution.py:132: RuntimeWarning:\n",
            "\n",
            "invalid value encountered in true_divide\n",
            "\n",
            "/usr/local/lib/python3.7/dist-packages/sklearn/_loss/glm_distribution.py:323: RuntimeWarning:\n",
            "\n",
            "invalid value encountered in add\n",
            "\n",
            "/usr/local/lib/python3.7/dist-packages/sklearn/linear_model/_glm/glm.py:323: ConvergenceWarning:\n",
            "\n",
            "lbfgs failed to converge (status=2):\n",
            "ABNORMAL_TERMINATION_IN_LNSRCH.\n",
            "\n",
            "Increase the number of iterations (max_iter) or scale the data as shown in:\n",
            "    https://scikit-learn.org/stable/modules/preprocessing.html\n",
            "\n"
          ]
        },
        {
          "output_type": "stream",
          "name": "stdout",
          "text": [
            "Model Number: 546 with model LastValueNaive in generation 4 of 10\n",
            "Model Number: 547 with model LastValueNaive in generation 4 of 10\n",
            "Model Number: 548 with model AverageValueNaive in generation 4 of 10\n",
            "Model Number: 549 with model UnivariateMotif in generation 4 of 10\n",
            "Model Number: 550 with model GLS in generation 4 of 10\n",
            "Model Number: 551 with model ETS in generation 4 of 10\n",
            "ETS error TypeError(\"__init__() got an unexpected keyword argument 'damped_trend'\")\n",
            "ETS failed on First with ValueError('endog must be strictly positive when using multiplicative trend or seasonal components.')\n",
            "Model Number: 552 with model NVAR in generation 4 of 10\n",
            "Template Eval Error: Exception('Transformer Detrend failed on fit') in model 552: NVAR\n",
            "Model Number: 553 with model UnivariateMotif in generation 4 of 10\n",
            "Template Eval Error: Exception('Transformer Cointegration failed on fit') in model 553: UnivariateMotif\n",
            "Model Number: 554 with model AverageValueNaive in generation 4 of 10\n",
            "Template Eval Error: Exception('Transformer STLFilter failed on fit') in model 554: AverageValueNaive\n",
            "Model Number: 555 with model NVAR in generation 4 of 10\n",
            "Model Number: 556 with model UnivariateMotif in generation 4 of 10\n",
            "Model Number: 557 with model LastValueNaive in generation 4 of 10\n",
            "Model Number: 558 with model GLS in generation 4 of 10\n",
            "Model Number: 559 with model NVAR in generation 4 of 10\n",
            "Model Number: 560 with model FBProphet in generation 4 of 10\n"
          ]
        },
        {
          "output_type": "stream",
          "name": "stderr",
          "text": [
            "INFO:fbprophet:Disabling daily seasonality. Run prophet with daily_seasonality=True to override this.\n"
          ]
        },
        {
          "output_type": "stream",
          "name": "stdout",
          "text": [
            "Model Number: 561 with model MultivariateMotif in generation 4 of 10\n",
            "Model Number: 562 with model UnivariateRegression in generation 4 of 10\n",
            "Model Number: 563 with model WindowRegression in generation 4 of 10\n",
            "Model Number: 564 with model MultivariateMotif in generation 4 of 10\n",
            "Model Number: 565 with model ETS in generation 4 of 10\n",
            "ETS error TypeError(\"__init__() got an unexpected keyword argument 'damped_trend'\")\n",
            "Model Number: 566 with model NVAR in generation 4 of 10\n",
            "Model Number: 567 with model NVAR in generation 4 of 10\n",
            "Model Number: 568 with model DatepartRegression in generation 4 of 10\n"
          ]
        },
        {
          "output_type": "stream",
          "name": "stderr",
          "text": [
            "[Parallel(n_jobs=-2)]: Using backend SequentialBackend with 1 concurrent workers.\n"
          ]
        },
        {
          "output_type": "stream",
          "name": "stdout",
          "text": [
            "Model Number: 569 with model ConstantNaive in generation 4 of 10\n"
          ]
        },
        {
          "output_type": "stream",
          "name": "stderr",
          "text": [
            "[Parallel(n_jobs=-2)]: Done 100 out of 100 | elapsed:    0.5s finished\n",
            "[Parallel(n_jobs=1)]: Using backend SequentialBackend with 1 concurrent workers.\n",
            "[Parallel(n_jobs=1)]: Done 100 out of 100 | elapsed:    0.0s finished\n",
            "/usr/local/lib/python3.7/dist-packages/sklearn/linear_model/_glm/link.py:90: RuntimeWarning:\n",
            "\n",
            "overflow encountered in exp\n",
            "\n",
            "/usr/local/lib/python3.7/dist-packages/sklearn/linear_model/_glm/link.py:93: RuntimeWarning:\n",
            "\n",
            "overflow encountered in exp\n",
            "\n",
            "/usr/local/lib/python3.7/dist-packages/sklearn/_loss/glm_distribution.py:132: RuntimeWarning:\n",
            "\n",
            "invalid value encountered in true_divide\n",
            "\n",
            "/usr/local/lib/python3.7/dist-packages/sklearn/_loss/glm_distribution.py:323: RuntimeWarning:\n",
            "\n",
            "invalid value encountered in add\n",
            "\n",
            "/usr/local/lib/python3.7/dist-packages/sklearn/linear_model/_glm/glm.py:323: ConvergenceWarning:\n",
            "\n",
            "lbfgs failed to converge (status=2):\n",
            "ABNORMAL_TERMINATION_IN_LNSRCH.\n",
            "\n",
            "Increase the number of iterations (max_iter) or scale the data as shown in:\n",
            "    https://scikit-learn.org/stable/modules/preprocessing.html\n",
            "\n"
          ]
        },
        {
          "output_type": "stream",
          "name": "stdout",
          "text": [
            "Model Number: 570 with model UnobservedComponents in generation 4 of 10\n",
            "Model Number: 571 with model FBProphet in generation 4 of 10\n"
          ]
        },
        {
          "output_type": "stream",
          "name": "stderr",
          "text": [
            "INFO:fbprophet:Disabling daily seasonality. Run prophet with daily_seasonality=True to override this.\n"
          ]
        },
        {
          "output_type": "stream",
          "name": "stdout",
          "text": [
            "Model Number: 572 with model GLM in generation 4 of 10\n",
            "Model Number: 573 with model MultivariateMotif in generation 4 of 10\n",
            "Model Number: 574 with model GLS in generation 4 of 10\n",
            "Model Number: 575 with model ConstantNaive in generation 4 of 10\n",
            "Model Number: 576 with model GLS in generation 4 of 10\n",
            "Model Number: 577 with model NVAR in generation 4 of 10\n",
            "Model Number: 578 with model LastValueNaive in generation 4 of 10\n",
            "Model Number: 579 with model GLS in generation 4 of 10\n",
            "Template Eval Error: Exception('Transformer STLFilter failed on fit') in model 579: GLS\n",
            "Model Number: 580 with model SectionalMotif in generation 4 of 10\n",
            "Model Number: 581 with model LastValueNaive in generation 4 of 10\n",
            "Model Number: 582 with model UnivariateRegression in generation 4 of 10\n"
          ]
        },
        {
          "output_type": "stream",
          "name": "stderr",
          "text": [
            "/usr/local/lib/python3.7/dist-packages/sklearn/linear_model/_glm/link.py:90: RuntimeWarning:\n",
            "\n",
            "overflow encountered in exp\n",
            "\n",
            "/usr/local/lib/python3.7/dist-packages/sklearn/linear_model/_glm/link.py:93: RuntimeWarning:\n",
            "\n",
            "overflow encountered in exp\n",
            "\n",
            "/usr/local/lib/python3.7/dist-packages/sklearn/_loss/glm_distribution.py:132: RuntimeWarning:\n",
            "\n",
            "invalid value encountered in true_divide\n",
            "\n"
          ]
        },
        {
          "output_type": "stream",
          "name": "stdout",
          "text": [
            "Model Number: 583 with model WindowRegression in generation 4 of 10\n",
            "Model Number: 584 with model SectionalMotif in generation 4 of 10\n",
            "Model Number: 585 with model UnivariateMotif in generation 4 of 10\n"
          ]
        },
        {
          "output_type": "stream",
          "name": "stderr",
          "text": [
            "/usr/local/lib/python3.7/dist-packages/sklearn/neural_network/_multilayer_perceptron.py:549: ConvergenceWarning:\n",
            "\n",
            "lbfgs failed to converge (status=1):\n",
            "STOP: TOTAL NO. of ITERATIONS REACHED LIMIT.\n",
            "\n",
            "Increase the number of iterations (max_iter) or scale the data as shown in:\n",
            "    https://scikit-learn.org/stable/modules/preprocessing.html\n",
            "\n",
            "/usr/local/lib/python3.7/dist-packages/sklearn/linear_model/_glm/link.py:90: RuntimeWarning:\n",
            "\n",
            "overflow encountered in exp\n",
            "\n",
            "/usr/local/lib/python3.7/dist-packages/sklearn/linear_model/_glm/link.py:93: RuntimeWarning:\n",
            "\n",
            "overflow encountered in exp\n",
            "\n",
            "/usr/local/lib/python3.7/dist-packages/sklearn/_loss/glm_distribution.py:132: RuntimeWarning:\n",
            "\n",
            "invalid value encountered in true_divide\n",
            "\n"
          ]
        },
        {
          "output_type": "stream",
          "name": "stdout",
          "text": [
            "Model Number: 586 with model ConstantNaive in generation 4 of 10\n",
            "Model Number: 587 with model GLS in generation 4 of 10\n",
            "Template Eval Error: Exception('Transformer Detrend failed on fit') in model 587: GLS\n",
            "Model Number: 588 with model SectionalMotif in generation 4 of 10\n",
            "Model Number: 589 with model FBProphet in generation 4 of 10\n"
          ]
        },
        {
          "output_type": "stream",
          "name": "stderr",
          "text": [
            "/usr/local/lib/python3.7/dist-packages/sklearn/linear_model/_glm/link.py:90: RuntimeWarning:\n",
            "\n",
            "overflow encountered in exp\n",
            "\n",
            "/usr/local/lib/python3.7/dist-packages/sklearn/linear_model/_glm/link.py:93: RuntimeWarning:\n",
            "\n",
            "overflow encountered in exp\n",
            "\n",
            "/usr/local/lib/python3.7/dist-packages/sklearn/_loss/glm_distribution.py:132: RuntimeWarning:\n",
            "\n",
            "invalid value encountered in true_divide\n",
            "\n",
            "/usr/local/lib/python3.7/dist-packages/sklearn/_loss/glm_distribution.py:323: RuntimeWarning:\n",
            "\n",
            "invalid value encountered in add\n",
            "\n",
            "/usr/local/lib/python3.7/dist-packages/sklearn/linear_model/_glm/glm.py:323: ConvergenceWarning:\n",
            "\n",
            "lbfgs failed to converge (status=2):\n",
            "ABNORMAL_TERMINATION_IN_LNSRCH.\n",
            "\n",
            "Increase the number of iterations (max_iter) or scale the data as shown in:\n",
            "    https://scikit-learn.org/stable/modules/preprocessing.html\n",
            "\n",
            "/usr/local/lib/python3.7/dist-packages/sklearn/_loss/glm_distribution.py:132: RuntimeWarning:\n",
            "\n",
            "divide by zero encountered in true_divide\n",
            "\n",
            "/usr/local/lib/python3.7/dist-packages/sklearn/linear_model/_glm/glm.py:42: RuntimeWarning:\n",
            "\n",
            "invalid value encountered in multiply\n",
            "\n",
            "/usr/local/lib/python3.7/dist-packages/sklearn/_loss/glm_distribution.py:331: RuntimeWarning:\n",
            "\n",
            "divide by zero encountered in power\n",
            "\n",
            "INFO:fbprophet:Disabling daily seasonality. Run prophet with daily_seasonality=True to override this.\n"
          ]
        },
        {
          "output_type": "stream",
          "name": "stdout",
          "text": [
            "Model Number: 590 with model SectionalMotif in generation 4 of 10\n",
            "Template Eval Error: Exception('Transformer BTCD failed on fit') in model 590: SectionalMotif\n",
            "Model Number: 591 with model AverageValueNaive in generation 4 of 10\n",
            "Model Number: 592 with model AverageValueNaive in generation 4 of 10\n",
            "Model Number: 593 with model LastValueNaive in generation 4 of 10\n",
            "Model Number: 594 with model ConstantNaive in generation 4 of 10\n",
            "Model Number: 595 with model WindowRegression in generation 4 of 10\n",
            "Epoch 1/50\n",
            "114/114 [==============================] - 5s 4ms/step - loss: nan\n",
            "Epoch 2/50\n",
            "114/114 [==============================] - 1s 4ms/step - loss: nan\n",
            "Epoch 3/50\n",
            "114/114 [==============================] - 1s 4ms/step - loss: nan\n",
            "Epoch 4/50\n",
            "114/114 [==============================] - 0s 4ms/step - loss: nan\n",
            "Epoch 5/50\n",
            "114/114 [==============================] - 1s 4ms/step - loss: nan\n",
            "Epoch 6/50\n",
            "114/114 [==============================] - 0s 4ms/step - loss: nan\n",
            "Epoch 7/50\n",
            "114/114 [==============================] - 1s 4ms/step - loss: nan\n",
            "Epoch 8/50\n",
            "114/114 [==============================] - 1s 5ms/step - loss: nan\n",
            "Epoch 9/50\n",
            "114/114 [==============================] - 1s 4ms/step - loss: nan\n",
            "Epoch 10/50\n",
            "114/114 [==============================] - 1s 4ms/step - loss: nan\n",
            "Epoch 11/50\n",
            "114/114 [==============================] - 1s 4ms/step - loss: nan\n",
            "Epoch 12/50\n",
            "114/114 [==============================] - 1s 4ms/step - loss: nan\n",
            "Epoch 13/50\n",
            "114/114 [==============================] - 1s 4ms/step - loss: nan\n",
            "Epoch 14/50\n",
            "114/114 [==============================] - 0s 4ms/step - loss: nan\n",
            "Epoch 15/50\n",
            "114/114 [==============================] - 0s 4ms/step - loss: nan\n",
            "Epoch 16/50\n",
            "114/114 [==============================] - 1s 4ms/step - loss: nan\n",
            "Epoch 17/50\n",
            "114/114 [==============================] - 0s 4ms/step - loss: nan\n",
            "Epoch 18/50\n",
            "114/114 [==============================] - 0s 4ms/step - loss: nan\n",
            "Epoch 19/50\n",
            "114/114 [==============================] - 0s 4ms/step - loss: nan\n",
            "Epoch 20/50\n",
            "114/114 [==============================] - 0s 4ms/step - loss: nan\n",
            "Epoch 21/50\n",
            "114/114 [==============================] - 0s 4ms/step - loss: nan\n",
            "Epoch 22/50\n",
            "114/114 [==============================] - 0s 4ms/step - loss: nan\n",
            "Epoch 23/50\n",
            "114/114 [==============================] - 0s 4ms/step - loss: nan\n",
            "Epoch 24/50\n",
            "114/114 [==============================] - 0s 4ms/step - loss: nan\n",
            "Epoch 25/50\n",
            "114/114 [==============================] - 0s 4ms/step - loss: nan\n",
            "Epoch 26/50\n",
            "114/114 [==============================] - 0s 4ms/step - loss: nan\n",
            "Epoch 27/50\n",
            "114/114 [==============================] - 0s 4ms/step - loss: nan\n",
            "Epoch 28/50\n",
            "114/114 [==============================] - 0s 4ms/step - loss: nan\n",
            "Epoch 29/50\n",
            "114/114 [==============================] - 0s 4ms/step - loss: nan\n",
            "Epoch 30/50\n",
            "114/114 [==============================] - 1s 4ms/step - loss: nan\n",
            "Epoch 31/50\n",
            "114/114 [==============================] - 0s 4ms/step - loss: nan\n",
            "Epoch 32/50\n",
            "114/114 [==============================] - 0s 4ms/step - loss: nan\n",
            "Epoch 33/50\n",
            "114/114 [==============================] - 0s 4ms/step - loss: nan\n",
            "Epoch 34/50\n",
            "114/114 [==============================] - 0s 4ms/step - loss: nan\n",
            "Epoch 35/50\n",
            "114/114 [==============================] - 0s 4ms/step - loss: nan\n",
            "Epoch 36/50\n",
            "114/114 [==============================] - 0s 4ms/step - loss: nan\n",
            "Epoch 37/50\n",
            "114/114 [==============================] - 0s 4ms/step - loss: nan\n",
            "Epoch 38/50\n",
            "114/114 [==============================] - 1s 4ms/step - loss: nan\n",
            "Epoch 39/50\n",
            "114/114 [==============================] - 0s 4ms/step - loss: nan\n",
            "Epoch 40/50\n",
            "114/114 [==============================] - 0s 4ms/step - loss: nan\n",
            "Epoch 41/50\n",
            "114/114 [==============================] - 0s 4ms/step - loss: nan\n",
            "Epoch 42/50\n",
            "114/114 [==============================] - 0s 4ms/step - loss: nan\n",
            "Epoch 43/50\n",
            "114/114 [==============================] - 0s 4ms/step - loss: nan\n",
            "Epoch 44/50\n",
            "114/114 [==============================] - 0s 4ms/step - loss: nan\n",
            "Epoch 45/50\n",
            "114/114 [==============================] - 0s 4ms/step - loss: nan\n",
            "Epoch 46/50\n",
            "114/114 [==============================] - 0s 4ms/step - loss: nan\n",
            "Epoch 47/50\n",
            "114/114 [==============================] - 0s 4ms/step - loss: nan\n",
            "Epoch 48/50\n",
            "114/114 [==============================] - 0s 4ms/step - loss: nan\n",
            "Epoch 49/50\n",
            "114/114 [==============================] - 0s 4ms/step - loss: nan\n",
            "Epoch 50/50\n",
            "114/114 [==============================] - 0s 4ms/step - loss: nan\n",
            "Model Number: 596 with model GLS in generation 4 of 10\n",
            "Model Number: 597 with model MultivariateMotif in generation 4 of 10\n",
            "Model Number: 598 with model SectionalMotif in generation 4 of 10\n",
            "Model Number: 599 with model UnobservedComponents in generation 4 of 10\n",
            "Template Eval Error: ValueError('Provided exogenous values are not of the appropriate shape. Required (5, 1), got (5,).') in model 599: UnobservedComponents\n",
            "Model Number: 600 with model GLM in generation 4 of 10\n",
            "Template Eval Error: ValueError('regression_type=user and no future_regressor passed') in model 600: GLM\n",
            "Model Number: 601 with model AverageValueNaive in generation 4 of 10\n",
            "Model Number: 602 with model NVAR in generation 4 of 10\n",
            "Model Number: 603 with model ETS in generation 4 of 10\n",
            "ETS error TypeError(\"__init__() got an unexpected keyword argument 'damped_trend'\")\n",
            "Model Number: 604 with model MultivariateMotif in generation 4 of 10\n",
            "Model Number: 605 with model MultivariateMotif in generation 4 of 10\n"
          ]
        },
        {
          "output_type": "stream",
          "name": "stderr",
          "text": [
            "/usr/local/lib/python3.7/dist-packages/scipy/signal/signaltools.py:1456: RuntimeWarning:\n",
            "\n",
            "divide by zero encountered in true_divide\n",
            "\n",
            "/usr/local/lib/python3.7/dist-packages/scipy/signal/signaltools.py:1456: RuntimeWarning:\n",
            "\n",
            "invalid value encountered in multiply\n",
            "\n"
          ]
        },
        {
          "output_type": "stream",
          "name": "stdout",
          "text": [
            "Model Number: 606 with model SectionalMotif in generation 4 of 10\n",
            "Model Number: 607 with model SeasonalNaive in generation 4 of 10\n",
            "Model Number: 608 with model DatepartRegression in generation 4 of 10\n",
            "Model Number: 609 with model ETS in generation 4 of 10\n",
            "ETS error TypeError(\"__init__() got an unexpected keyword argument 'damped_trend'\")\n",
            "New Generation: 5 of 10\n",
            "Model Number: 610 with model WindowRegression in generation 5 of 10\n"
          ]
        },
        {
          "output_type": "stream",
          "name": "stderr",
          "text": [
            "/usr/local/lib/python3.7/dist-packages/sklearn/svm/_base.py:1208: ConvergenceWarning:\n",
            "\n",
            "Liblinear failed to converge, increase the number of iterations.\n",
            "\n",
            "/usr/local/lib/python3.7/dist-packages/sklearn/svm/_base.py:1208: ConvergenceWarning:\n",
            "\n",
            "Liblinear failed to converge, increase the number of iterations.\n",
            "\n",
            "/usr/local/lib/python3.7/dist-packages/sklearn/svm/_base.py:1208: ConvergenceWarning:\n",
            "\n",
            "Liblinear failed to converge, increase the number of iterations.\n",
            "\n",
            "/usr/local/lib/python3.7/dist-packages/sklearn/svm/_base.py:1208: ConvergenceWarning:\n",
            "\n",
            "Liblinear failed to converge, increase the number of iterations.\n",
            "\n"
          ]
        },
        {
          "output_type": "stream",
          "name": "stdout",
          "text": [
            "Model Number: 611 with model LastValueNaive in generation 5 of 10\n",
            "Model Number: 612 with model GLM in generation 5 of 10\n"
          ]
        },
        {
          "output_type": "stream",
          "name": "stderr",
          "text": [
            "/usr/local/lib/python3.7/dist-packages/sklearn/svm/_base.py:1208: ConvergenceWarning:\n",
            "\n",
            "Liblinear failed to converge, increase the number of iterations.\n",
            "\n"
          ]
        },
        {
          "output_type": "stream",
          "name": "stdout",
          "text": [
            "Model Number: 613 with model WindowRegression in generation 5 of 10\n",
            "Template Eval Error: ValueError('Some value(s) of y are out of the valid range for family PoissonDistribution') in model 613: WindowRegression\n",
            "Model Number: 614 with model NVAR in generation 5 of 10\n",
            "Model Number: 615 with model GLS in generation 5 of 10\n",
            "Model Number: 616 with model ETS in generation 5 of 10\n",
            "ETS error TypeError(\"__init__() got an unexpected keyword argument 'damped_trend'\")\n",
            "Model Number: 617 with model ETS in generation 5 of 10\n",
            "ETS error TypeError(\"__init__() got an unexpected keyword argument 'damped_trend'\")\n",
            "Model Number: 618 with model ConstantNaive in generation 5 of 10\n",
            "Model Number: 619 with model UnivariateRegression in generation 5 of 10\n",
            "Model Number: 620 with model GLS in generation 5 of 10\n",
            "Template Eval Error: Exception('Transformer Cointegration failed on fit') in model 620: GLS\n",
            "Model Number: 621 with model MultivariateRegression in generation 5 of 10\n"
          ]
        },
        {
          "output_type": "stream",
          "name": "stderr",
          "text": [
            "/usr/local/lib/python3.7/dist-packages/sklearn/linear_model/_glm/link.py:90: RuntimeWarning:\n",
            "\n",
            "overflow encountered in exp\n",
            "\n",
            "/usr/local/lib/python3.7/dist-packages/sklearn/linear_model/_glm/link.py:93: RuntimeWarning:\n",
            "\n",
            "overflow encountered in exp\n",
            "\n",
            "/usr/local/lib/python3.7/dist-packages/sklearn/_loss/glm_distribution.py:132: RuntimeWarning:\n",
            "\n",
            "invalid value encountered in true_divide\n",
            "\n",
            "[Parallel(n_jobs=-2)]: Using backend SequentialBackend with 1 concurrent workers.\n",
            "[Parallel(n_jobs=-2)]: Done 200 out of 200 | elapsed:    5.7s finished\n",
            "[Parallel(n_jobs=1)]: Using backend SequentialBackend with 1 concurrent workers.\n",
            "[Parallel(n_jobs=1)]: Done 200 out of 200 | elapsed:    0.0s finished\n",
            "[Parallel(n_jobs=1)]: Using backend SequentialBackend with 1 concurrent workers.\n",
            "[Parallel(n_jobs=1)]: Done 200 out of 200 | elapsed:    0.0s finished\n",
            "[Parallel(n_jobs=1)]: Using backend SequentialBackend with 1 concurrent workers.\n",
            "[Parallel(n_jobs=1)]: Done 200 out of 200 | elapsed:    0.0s finished\n",
            "[Parallel(n_jobs=1)]: Using backend SequentialBackend with 1 concurrent workers.\n",
            "[Parallel(n_jobs=1)]: Done 200 out of 200 | elapsed:    0.0s finished\n",
            "[Parallel(n_jobs=1)]: Using backend SequentialBackend with 1 concurrent workers.\n",
            "[Parallel(n_jobs=1)]: Done 200 out of 200 | elapsed:    0.0s finished\n"
          ]
        },
        {
          "output_type": "stream",
          "name": "stdout",
          "text": [
            "Model Number: 622 with model MultivariateMotif in generation 5 of 10\n",
            "Model Number: 623 with model ConstantNaive in generation 5 of 10\n",
            "Model Number: 624 with model NVAR in generation 5 of 10\n",
            "Model Number: 625 with model UnobservedComponents in generation 5 of 10\n",
            "Model Number: 626 with model ETS in generation 5 of 10\n",
            "ETS error TypeError(\"__init__() got an unexpected keyword argument 'damped_trend'\")\n",
            "Template Eval Error: ValueError('Model ETS returned NaN for one or more series. fail_on_forecast_nan=True') in model 626: ETS\n",
            "Model Number: 627 with model NVAR in generation 5 of 10\n",
            "Model Number: 628 with model MultivariateMotif in generation 5 of 10\n",
            "Model Number: 629 with model UnivariateMotif in generation 5 of 10\n",
            "Model Number: 630 with model ETS in generation 5 of 10\n",
            "ETS error TypeError(\"__init__() got an unexpected keyword argument 'damped_trend'\")\n",
            "Model Number: 631 with model FBProphet in generation 5 of 10\n"
          ]
        },
        {
          "output_type": "stream",
          "name": "stderr",
          "text": [
            "/usr/local/lib/python3.7/dist-packages/sklearn/linear_model/_glm/link.py:90: RuntimeWarning:\n",
            "\n",
            "overflow encountered in exp\n",
            "\n",
            "/usr/local/lib/python3.7/dist-packages/sklearn/linear_model/_glm/link.py:93: RuntimeWarning:\n",
            "\n",
            "overflow encountered in exp\n",
            "\n",
            "/usr/local/lib/python3.7/dist-packages/sklearn/_loss/glm_distribution.py:132: RuntimeWarning:\n",
            "\n",
            "invalid value encountered in true_divide\n",
            "\n",
            "/usr/local/lib/python3.7/dist-packages/sklearn/_loss/glm_distribution.py:323: RuntimeWarning:\n",
            "\n",
            "invalid value encountered in add\n",
            "\n",
            "/usr/local/lib/python3.7/dist-packages/sklearn/linear_model/_glm/glm.py:323: ConvergenceWarning:\n",
            "\n",
            "lbfgs failed to converge (status=2):\n",
            "ABNORMAL_TERMINATION_IN_LNSRCH.\n",
            "\n",
            "Increase the number of iterations (max_iter) or scale the data as shown in:\n",
            "    https://scikit-learn.org/stable/modules/preprocessing.html\n",
            "\n",
            "INFO:fbprophet:Disabling daily seasonality. Run prophet with daily_seasonality=True to override this.\n"
          ]
        },
        {
          "output_type": "stream",
          "name": "stdout",
          "text": [
            "Model Number: 632 with model ConstantNaive in generation 5 of 10\n"
          ]
        },
        {
          "output_type": "stream",
          "name": "stderr",
          "text": [
            "INFO:fbprophet:Disabling daily seasonality. Run prophet with daily_seasonality=True to override this.\n"
          ]
        },
        {
          "output_type": "stream",
          "name": "stdout",
          "text": [
            "Model Number: 633 with model FBProphet in generation 5 of 10\n",
            "Model Number: 634 with model WindowRegression in generation 5 of 10\n",
            "Model Number: 635 with model MultivariateMotif in generation 5 of 10\n",
            "Model Number: 636 with model ConstantNaive in generation 5 of 10\n"
          ]
        },
        {
          "output_type": "stream",
          "name": "stderr",
          "text": [
            "/usr/local/lib/python3.7/dist-packages/sklearn/neural_network/_multilayer_perceptron.py:549: ConvergenceWarning:\n",
            "\n",
            "lbfgs failed to converge (status=1):\n",
            "STOP: TOTAL NO. of ITERATIONS REACHED LIMIT.\n",
            "\n",
            "Increase the number of iterations (max_iter) or scale the data as shown in:\n",
            "    https://scikit-learn.org/stable/modules/preprocessing.html\n",
            "\n"
          ]
        },
        {
          "output_type": "stream",
          "name": "stdout",
          "text": [
            "Model Number: 637 with model SectionalMotif in generation 5 of 10\n",
            "Model Number: 638 with model UnivariateRegression in generation 5 of 10\n",
            "Model Number: 639 with model ConstantNaive in generation 5 of 10\n",
            "Model Number: 640 with model FBProphet in generation 5 of 10\n"
          ]
        },
        {
          "output_type": "stream",
          "name": "stderr",
          "text": [
            "INFO:fbprophet:Disabling daily seasonality. Run prophet with daily_seasonality=True to override this.\n"
          ]
        },
        {
          "output_type": "stream",
          "name": "stdout",
          "text": [
            "Model Number: 641 with model AverageValueNaive in generation 5 of 10\n",
            "Model Number: 642 with model UnivariateRegression in generation 5 of 10\n",
            "Model Number: 643 with model GLM in generation 5 of 10\n",
            "Model Number: 644 with model SectionalMotif in generation 5 of 10\n",
            "Model Number: 645 with model SectionalMotif in generation 5 of 10\n",
            "Template Eval Error: ValueError(\"regression_type=='User' but no future_regressor supplied\") in model 645: SectionalMotif\n",
            "Model Number: 646 with model MultivariateMotif in generation 5 of 10\n",
            "Model Number: 647 with model MultivariateMotif in generation 5 of 10\n",
            "Model Number: 648 with model NVAR in generation 5 of 10\n",
            "Model Number: 649 with model GLS in generation 5 of 10\n",
            "Model Number: 650 with model MultivariateRegression in generation 5 of 10\n",
            "Model Number: 651 with model LastValueNaive in generation 5 of 10\n",
            "Model Number: 652 with model AverageValueNaive in generation 5 of 10\n",
            "Model Number: 653 with model SectionalMotif in generation 5 of 10\n",
            "Template Eval Error: ValueError(\"regression_type=='User' but no future_regressor supplied\") in model 653: SectionalMotif\n",
            "Model Number: 654 with model MultivariateMotif in generation 5 of 10\n",
            "Model Number: 655 with model FBProphet in generation 5 of 10\n"
          ]
        },
        {
          "output_type": "stream",
          "name": "stderr",
          "text": [
            "/usr/local/lib/python3.7/dist-packages/sklearn/linear_model/_glm/link.py:90: RuntimeWarning:\n",
            "\n",
            "overflow encountered in exp\n",
            "\n",
            "/usr/local/lib/python3.7/dist-packages/sklearn/linear_model/_glm/link.py:93: RuntimeWarning:\n",
            "\n",
            "overflow encountered in exp\n",
            "\n",
            "/usr/local/lib/python3.7/dist-packages/sklearn/_loss/glm_distribution.py:132: RuntimeWarning:\n",
            "\n",
            "invalid value encountered in true_divide\n",
            "\n",
            "/usr/local/lib/python3.7/dist-packages/sklearn/linear_model/_glm/link.py:90: RuntimeWarning:\n",
            "\n",
            "overflow encountered in exp\n",
            "\n",
            "/usr/local/lib/python3.7/dist-packages/sklearn/linear_model/_glm/link.py:93: RuntimeWarning:\n",
            "\n",
            "overflow encountered in exp\n",
            "\n",
            "/usr/local/lib/python3.7/dist-packages/sklearn/_loss/glm_distribution.py:132: RuntimeWarning:\n",
            "\n",
            "invalid value encountered in true_divide\n",
            "\n",
            "INFO:fbprophet:Disabling daily seasonality. Run prophet with daily_seasonality=True to override this.\n"
          ]
        },
        {
          "output_type": "stream",
          "name": "stdout",
          "text": [
            "Model Number: 656 with model MultivariateRegression in generation 5 of 10\n",
            "Model Number: 657 with model ETS in generation 5 of 10\n",
            "ETS error TypeError(\"__init__() got an unexpected keyword argument 'damped_trend'\")\n",
            "Template Eval Error: ValueError('Model ETS returned NaN for one or more series. fail_on_forecast_nan=True') in model 657: ETS\n",
            "Model Number: 658 with model LastValueNaive in generation 5 of 10\n",
            "Model Number: 659 with model WindowRegression in generation 5 of 10\n",
            "Model Number: 660 with model WindowRegression in generation 5 of 10\n",
            "Model Number: 661 with model LastValueNaive in generation 5 of 10\n"
          ]
        },
        {
          "output_type": "stream",
          "name": "stderr",
          "text": [
            "/usr/local/lib/python3.7/dist-packages/sklearn/neural_network/_multilayer_perceptron.py:549: ConvergenceWarning:\n",
            "\n",
            "lbfgs failed to converge (status=1):\n",
            "STOP: TOTAL NO. of ITERATIONS REACHED LIMIT.\n",
            "\n",
            "Increase the number of iterations (max_iter) or scale the data as shown in:\n",
            "    https://scikit-learn.org/stable/modules/preprocessing.html\n",
            "\n"
          ]
        },
        {
          "output_type": "stream",
          "name": "stdout",
          "text": [
            "Model Number: 662 with model MultivariateRegression in generation 5 of 10\n",
            "Model Number: 663 with model AverageValueNaive in generation 5 of 10\n",
            "Model Number: 664 with model LastValueNaive in generation 5 of 10\n",
            "Model Number: 665 with model ConstantNaive in generation 5 of 10\n"
          ]
        },
        {
          "output_type": "stream",
          "name": "stderr",
          "text": [
            "/usr/local/lib/python3.7/dist-packages/sklearn/linear_model/_glm/link.py:90: RuntimeWarning:\n",
            "\n",
            "overflow encountered in exp\n",
            "\n",
            "/usr/local/lib/python3.7/dist-packages/sklearn/linear_model/_glm/link.py:93: RuntimeWarning:\n",
            "\n",
            "overflow encountered in exp\n",
            "\n",
            "/usr/local/lib/python3.7/dist-packages/sklearn/_loss/glm_distribution.py:132: RuntimeWarning:\n",
            "\n",
            "invalid value encountered in true_divide\n",
            "\n",
            "/usr/local/lib/python3.7/dist-packages/sklearn/_loss/glm_distribution.py:323: RuntimeWarning:\n",
            "\n",
            "invalid value encountered in add\n",
            "\n",
            "/usr/local/lib/python3.7/dist-packages/sklearn/linear_model/_glm/glm.py:323: ConvergenceWarning:\n",
            "\n",
            "lbfgs failed to converge (status=2):\n",
            "ABNORMAL_TERMINATION_IN_LNSRCH.\n",
            "\n",
            "Increase the number of iterations (max_iter) or scale the data as shown in:\n",
            "    https://scikit-learn.org/stable/modules/preprocessing.html\n",
            "\n"
          ]
        },
        {
          "output_type": "stream",
          "name": "stdout",
          "text": [
            "Model Number: 666 with model MultivariateMotif in generation 5 of 10\n",
            "Model Number: 667 with model MultivariateMotif in generation 5 of 10\n",
            "Template Eval Error: Exception('Transformer Cointegration failed on fit') in model 667: MultivariateMotif\n",
            "Model Number: 668 with model ConstantNaive in generation 5 of 10\n",
            "Model Number: 669 with model MultivariateRegression in generation 5 of 10\n",
            "Model Number: 670 with model SeasonalNaive in generation 5 of 10\n",
            "Model Number: 671 with model UnivariateMotif in generation 5 of 10\n",
            "Model Number: 672 with model WindowRegression in generation 5 of 10\n",
            "Model Number: 673 with model NVAR in generation 5 of 10\n",
            "Model Number: 674 with model MultivariateRegression in generation 5 of 10\n",
            "Model Number: 675 with model SectionalMotif in generation 5 of 10\n",
            "Model Number: 676 with model ETS in generation 5 of 10\n",
            "ETS error TypeError(\"__init__() got an unexpected keyword argument 'damped_trend'\")\n",
            "Model Number: 677 with model LastValueNaive in generation 5 of 10\n",
            "Model Number: 678 with model NVAR in generation 5 of 10\n",
            "Model Number: 679 with model AverageValueNaive in generation 5 of 10\n",
            "Model Number: 680 with model GLM in generation 5 of 10\n"
          ]
        },
        {
          "output_type": "stream",
          "name": "stderr",
          "text": [
            "/usr/local/lib/python3.7/dist-packages/sklearn/linear_model/_glm/link.py:90: RuntimeWarning:\n",
            "\n",
            "overflow encountered in exp\n",
            "\n",
            "/usr/local/lib/python3.7/dist-packages/sklearn/linear_model/_glm/link.py:93: RuntimeWarning:\n",
            "\n",
            "overflow encountered in exp\n",
            "\n",
            "/usr/local/lib/python3.7/dist-packages/sklearn/_loss/glm_distribution.py:132: RuntimeWarning:\n",
            "\n",
            "invalid value encountered in true_divide\n",
            "\n"
          ]
        },
        {
          "output_type": "stream",
          "name": "stdout",
          "text": [
            "Model Number: 681 with model UnobservedComponents in generation 5 of 10\n",
            "Model Number: 682 with model GLS in generation 5 of 10\n",
            "Model Number: 683 with model WindowRegression in generation 5 of 10\n",
            "Model Number: 684 with model DatepartRegression in generation 5 of 10\n",
            "Template Eval Error: ValueError(\"regression_type='User' but no future_regressor passed\") in model 684: DatepartRegression\n",
            "Model Number: 685 with model GLS in generation 5 of 10\n",
            "Model Number: 686 with model SectionalMotif in generation 5 of 10\n",
            "Model Number: 687 with model UnobservedComponents in generation 5 of 10\n",
            "Model Number: 688 with model GLS in generation 5 of 10\n",
            "Model Number: 689 with model LastValueNaive in generation 5 of 10\n",
            "Model Number: 690 with model SectionalMotif in generation 5 of 10\n",
            "Model Number: 691 with model NVAR in generation 5 of 10\n",
            "Model Number: 692 with model ETS in generation 5 of 10\n",
            "ETS error TypeError(\"__init__() got an unexpected keyword argument 'damped_trend'\")\n",
            "Model Number: 693 with model UnivariateMotif in generation 5 of 10\n",
            "Model Number: 694 with model NVAR in generation 5 of 10\n",
            "Model Number: 695 with model GLS in generation 5 of 10\n"
          ]
        },
        {
          "output_type": "stream",
          "name": "stderr",
          "text": [
            "/usr/local/lib/python3.7/dist-packages/sklearn/linear_model/_glm/link.py:90: RuntimeWarning:\n",
            "\n",
            "overflow encountered in exp\n",
            "\n",
            "/usr/local/lib/python3.7/dist-packages/sklearn/linear_model/_glm/link.py:93: RuntimeWarning:\n",
            "\n",
            "overflow encountered in exp\n",
            "\n",
            "/usr/local/lib/python3.7/dist-packages/sklearn/_loss/glm_distribution.py:132: RuntimeWarning:\n",
            "\n",
            "invalid value encountered in true_divide\n",
            "\n"
          ]
        },
        {
          "output_type": "stream",
          "name": "stdout",
          "text": [
            "Model Number: 696 with model GLS in generation 5 of 10\n",
            "Model Number: 697 with model GLS in generation 5 of 10\n",
            "New Generation: 6 of 10\n",
            "Model Number: 698 with model NVAR in generation 6 of 10\n",
            "Template Eval Error: Exception('Transformer RobustScaler failed on inverse') in model 698: NVAR\n",
            "Model Number: 699 with model ETS in generation 6 of 10\n",
            "ETS error TypeError(\"__init__() got an unexpected keyword argument 'damped_trend'\")\n",
            "Model Number: 700 with model ConstantNaive in generation 6 of 10\n",
            "Model Number: 701 with model MultivariateMotif in generation 6 of 10\n",
            "Model Number: 702 with model NVAR in generation 6 of 10\n",
            "Model Number: 703 with model LastValueNaive in generation 6 of 10\n",
            "Model Number: 704 with model ETS in generation 6 of 10\n",
            "Template Eval Error: Exception('Transformer STLFilter failed on fit') in model 704: ETS\n",
            "Model Number: 705 with model UnivariateMotif in generation 6 of 10\n",
            "Model Number: 706 with model LastValueNaive in generation 6 of 10\n",
            "Model Number: 707 with model MultivariateRegression in generation 6 of 10\n"
          ]
        },
        {
          "output_type": "stream",
          "name": "stderr",
          "text": [
            "/usr/local/lib/python3.7/dist-packages/sklearn/linear_model/_glm/link.py:90: RuntimeWarning:\n",
            "\n",
            "overflow encountered in exp\n",
            "\n",
            "/usr/local/lib/python3.7/dist-packages/sklearn/linear_model/_glm/link.py:93: RuntimeWarning:\n",
            "\n",
            "overflow encountered in exp\n",
            "\n",
            "/usr/local/lib/python3.7/dist-packages/sklearn/_loss/glm_distribution.py:132: RuntimeWarning:\n",
            "\n",
            "invalid value encountered in true_divide\n",
            "\n",
            "/usr/local/lib/python3.7/dist-packages/scipy/signal/signaltools.py:1456: RuntimeWarning:\n",
            "\n",
            "divide by zero encountered in true_divide\n",
            "\n",
            "/usr/local/lib/python3.7/dist-packages/scipy/signal/signaltools.py:1456: RuntimeWarning:\n",
            "\n",
            "invalid value encountered in multiply\n",
            "\n",
            "INFO:fbprophet:Disabling daily seasonality. Run prophet with daily_seasonality=True to override this.\n"
          ]
        },
        {
          "output_type": "stream",
          "name": "stdout",
          "text": [
            "Model Number: 708 with model FBProphet in generation 6 of 10\n",
            "Model Number: 709 with model NVAR in generation 6 of 10\n",
            "Model Number: 710 with model DatepartRegression in generation 6 of 10\n",
            "Template Eval Error: ValueError(\"regression_type='User' but no future_regressor passed\") in model 710: DatepartRegression\n",
            "Model Number: 711 with model ConstantNaive in generation 6 of 10\n",
            "Model Number: 712 with model LastValueNaive in generation 6 of 10\n",
            "Model Number: 713 with model NVAR in generation 6 of 10\n",
            "Model Number: 714 with model UnivariateMotif in generation 6 of 10\n",
            "Model Number: 715 with model WindowRegression in generation 6 of 10\n"
          ]
        },
        {
          "output_type": "stream",
          "name": "stderr",
          "text": [
            "/usr/local/lib/python3.7/dist-packages/sklearn/neural_network/_multilayer_perceptron.py:549: ConvergenceWarning:\n",
            "\n",
            "lbfgs failed to converge (status=1):\n",
            "STOP: TOTAL NO. of ITERATIONS REACHED LIMIT.\n",
            "\n",
            "Increase the number of iterations (max_iter) or scale the data as shown in:\n",
            "    https://scikit-learn.org/stable/modules/preprocessing.html\n",
            "\n"
          ]
        },
        {
          "output_type": "stream",
          "name": "stdout",
          "text": [
            "Model Number: 716 with model WindowRegression in generation 6 of 10\n",
            "Epoch 1/50\n",
            "91/91 [==============================] - 3s 10ms/step - loss: 140.1404 - val_loss: 236.7321\n",
            "Epoch 2/50\n",
            "91/91 [==============================] - 1s 8ms/step - loss: 135.9882 - val_loss: 234.8938\n",
            "Epoch 3/50\n",
            "91/91 [==============================] - 1s 8ms/step - loss: 133.0856 - val_loss: 234.0558\n",
            "Epoch 4/50\n",
            "91/91 [==============================] - 1s 8ms/step - loss: 132.0451 - val_loss: 233.5973\n",
            "Epoch 5/50\n",
            "91/91 [==============================] - 1s 8ms/step - loss: 130.8243 - val_loss: 233.2163\n",
            "Epoch 6/50\n",
            "91/91 [==============================] - 1s 7ms/step - loss: 130.1376 - val_loss: 233.0666\n",
            "Epoch 7/50\n",
            "91/91 [==============================] - 1s 8ms/step - loss: 128.5605 - val_loss: 232.8944\n",
            "Epoch 8/50\n",
            "91/91 [==============================] - 1s 8ms/step - loss: 129.0301 - val_loss: 232.8050\n",
            "Epoch 9/50\n",
            "91/91 [==============================] - 1s 8ms/step - loss: 128.4384 - val_loss: 232.6555\n",
            "Epoch 10/50\n",
            "91/91 [==============================] - 1s 8ms/step - loss: 128.2287 - val_loss: 232.6262\n",
            "Epoch 11/50\n",
            "91/91 [==============================] - 1s 8ms/step - loss: 127.5003 - val_loss: 232.6299\n",
            "Epoch 12/50\n",
            "91/91 [==============================] - 1s 8ms/step - loss: 127.6241 - val_loss: 232.6181\n",
            "Epoch 13/50\n",
            "91/91 [==============================] - 1s 8ms/step - loss: 126.7843 - val_loss: 232.6123\n",
            "Epoch 14/50\n",
            "91/91 [==============================] - 1s 8ms/step - loss: 126.5256 - val_loss: 232.6248\n",
            "Epoch 15/50\n",
            "91/91 [==============================] - 1s 8ms/step - loss: 126.8107 - val_loss: 232.6104\n",
            "Epoch 16/50\n",
            "91/91 [==============================] - 1s 7ms/step - loss: 125.8121 - val_loss: 232.6542\n",
            "Epoch 17/50\n",
            "91/91 [==============================] - 1s 8ms/step - loss: 126.5807 - val_loss: 232.7029\n",
            "Epoch 18/50\n",
            "91/91 [==============================] - 1s 8ms/step - loss: 126.3054 - val_loss: 232.7395\n",
            "Epoch 19/50\n",
            "91/91 [==============================] - 1s 8ms/step - loss: 126.0012 - val_loss: 232.8047\n",
            "Epoch 20/50\n",
            "91/91 [==============================] - 1s 8ms/step - loss: 125.1966 - val_loss: 232.8614\n",
            "Epoch 21/50\n",
            "91/91 [==============================] - 1s 8ms/step - loss: 125.1515 - val_loss: 232.9082\n",
            "Epoch 22/50\n",
            "91/91 [==============================] - 1s 7ms/step - loss: 125.0348 - val_loss: 232.9809\n",
            "Epoch 23/50\n",
            "91/91 [==============================] - 1s 8ms/step - loss: 125.4716 - val_loss: 233.0050\n",
            "Epoch 24/50\n",
            "91/91 [==============================] - 1s 8ms/step - loss: 124.8778 - val_loss: 233.1038\n",
            "Epoch 25/50\n",
            "91/91 [==============================] - 1s 8ms/step - loss: 125.3516 - val_loss: 233.1042\n",
            "Model Number: 717 with model NVAR in generation 6 of 10\n",
            "Model Number: 718 with model ETS in generation 6 of 10\n",
            "ETS error TypeError(\"__init__() got an unexpected keyword argument 'damped_trend'\")\n",
            "Template Eval Error: ValueError('Model ETS returned NaN for one or more series. fail_on_forecast_nan=True') in model 718: ETS\n",
            "Model Number: 719 with model NVAR in generation 6 of 10\n",
            "Template Eval Error: Exception('Transformer BTCD failed on fit') in model 719: NVAR\n",
            "Model Number: 720 with model SectionalMotif in generation 6 of 10\n",
            "Model Number: 721 with model SectionalMotif in generation 6 of 10\n",
            "Template Eval Error: Exception('Transformer Cointegration failed on fit') in model 721: SectionalMotif\n",
            "Model Number: 722 with model DatepartRegression in generation 6 of 10\n"
          ]
        },
        {
          "output_type": "stream",
          "name": "stderr",
          "text": [
            "[Parallel(n_jobs=-2)]: Using backend SequentialBackend with 1 concurrent workers.\n",
            "[Parallel(n_jobs=-2)]: Done 100 out of 100 | elapsed:    0.7s finished\n",
            "[Parallel(n_jobs=1)]: Using backend SequentialBackend with 1 concurrent workers.\n",
            "[Parallel(n_jobs=1)]: Done 100 out of 100 | elapsed:    0.0s finished\n",
            "INFO:fbprophet:Disabling daily seasonality. Run prophet with daily_seasonality=True to override this.\n"
          ]
        },
        {
          "output_type": "stream",
          "name": "stdout",
          "text": [
            "Model Number: 723 with model FBProphet in generation 6 of 10\n",
            "Model Number: 724 with model SectionalMotif in generation 6 of 10\n",
            "Model Number: 725 with model WindowRegression in generation 6 of 10\n",
            "Template Eval Error: ValueError(\"regression_type='User' but no future_regressor passed\") in model 725: WindowRegression\n",
            "Model Number: 726 with model FBProphet in generation 6 of 10\n"
          ]
        },
        {
          "output_type": "stream",
          "name": "stderr",
          "text": [
            "INFO:fbprophet:Disabling daily seasonality. Run prophet with daily_seasonality=True to override this.\n"
          ]
        },
        {
          "output_type": "stream",
          "name": "stdout",
          "text": [
            "Model Number: 727 with model ETS in generation 6 of 10\n",
            "ETS error TypeError(\"__init__() got an unexpected keyword argument 'damped_trend'\")\n",
            "Model Number: 728 with model ETS in generation 6 of 10\n",
            "ETS error TypeError(\"__init__() got an unexpected keyword argument 'damped_trend'\")\n",
            "Model Number: 729 with model GLS in generation 6 of 10\n",
            "Model Number: 730 with model LastValueNaive in generation 6 of 10\n",
            "Template Eval Error: Exception('Transformer STLFilter failed on fit') in model 730: LastValueNaive\n",
            "Model Number: 731 with model ETS in generation 6 of 10\n",
            "ETS error TypeError(\"__init__() got an unexpected keyword argument 'damped_trend'\")\n",
            "Model Number: 732 with model NVAR in generation 6 of 10\n"
          ]
        },
        {
          "output_type": "stream",
          "name": "stderr",
          "text": [
            "/usr/local/lib/python3.7/dist-packages/sklearn/linear_model/_glm/link.py:90: RuntimeWarning:\n",
            "\n",
            "overflow encountered in exp\n",
            "\n",
            "/usr/local/lib/python3.7/dist-packages/sklearn/linear_model/_glm/link.py:93: RuntimeWarning:\n",
            "\n",
            "overflow encountered in exp\n",
            "\n",
            "/usr/local/lib/python3.7/dist-packages/sklearn/_loss/glm_distribution.py:132: RuntimeWarning:\n",
            "\n",
            "invalid value encountered in true_divide\n",
            "\n"
          ]
        },
        {
          "output_type": "stream",
          "name": "stdout",
          "text": [
            "Model Number: 733 with model GLS in generation 6 of 10\n",
            "Model Number: 734 with model MultivariateMotif in generation 6 of 10\n",
            "Model Number: 735 with model FBProphet in generation 6 of 10\n"
          ]
        },
        {
          "output_type": "stream",
          "name": "stderr",
          "text": [
            "INFO:fbprophet:Disabling daily seasonality. Run prophet with daily_seasonality=True to override this.\n"
          ]
        },
        {
          "output_type": "stream",
          "name": "stdout",
          "text": [
            "Model Number: 736 with model UnobservedComponents in generation 6 of 10\n",
            "Template Eval Error: ValueError(\"regression_type='User' but no future_regressor supplied\") in model 736: UnobservedComponents\n",
            "Model Number: 737 with model UnivariateMotif in generation 6 of 10\n",
            "Model Number: 738 with model AverageValueNaive in generation 6 of 10\n",
            "Model Number: 739 with model MultivariateRegression in generation 6 of 10\n"
          ]
        },
        {
          "output_type": "stream",
          "name": "stderr",
          "text": [
            "/usr/local/lib/python3.7/dist-packages/sklearn/linear_model/_glm/link.py:90: RuntimeWarning:\n",
            "\n",
            "overflow encountered in exp\n",
            "\n",
            "/usr/local/lib/python3.7/dist-packages/sklearn/linear_model/_glm/link.py:93: RuntimeWarning:\n",
            "\n",
            "overflow encountered in exp\n",
            "\n",
            "/usr/local/lib/python3.7/dist-packages/sklearn/_loss/glm_distribution.py:132: RuntimeWarning:\n",
            "\n",
            "invalid value encountered in true_divide\n",
            "\n",
            "[Parallel(n_jobs=-2)]: Using backend SequentialBackend with 1 concurrent workers.\n",
            "[Parallel(n_jobs=-2)]: Done 300 out of 300 | elapsed:    6.1s finished\n",
            "[Parallel(n_jobs=1)]: Using backend SequentialBackend with 1 concurrent workers.\n",
            "[Parallel(n_jobs=1)]: Done 300 out of 300 | elapsed:    0.0s finished\n",
            "[Parallel(n_jobs=1)]: Using backend SequentialBackend with 1 concurrent workers.\n",
            "[Parallel(n_jobs=1)]: Done 300 out of 300 | elapsed:    0.0s finished\n",
            "[Parallel(n_jobs=1)]: Using backend SequentialBackend with 1 concurrent workers.\n",
            "[Parallel(n_jobs=1)]: Done 300 out of 300 | elapsed:    0.0s finished\n",
            "[Parallel(n_jobs=1)]: Using backend SequentialBackend with 1 concurrent workers.\n",
            "[Parallel(n_jobs=1)]: Done 300 out of 300 | elapsed:    0.0s finished\n",
            "[Parallel(n_jobs=1)]: Using backend SequentialBackend with 1 concurrent workers.\n",
            "[Parallel(n_jobs=1)]: Done 300 out of 300 | elapsed:    0.0s finished\n"
          ]
        },
        {
          "output_type": "stream",
          "name": "stdout",
          "text": [
            "Model Number: 740 with model MultivariateMotif in generation 6 of 10\n",
            "Model Number: 741 with model AverageValueNaive in generation 6 of 10\n"
          ]
        },
        {
          "output_type": "stream",
          "name": "stderr",
          "text": [
            "INFO:fbprophet:Disabling daily seasonality. Run prophet with daily_seasonality=True to override this.\n"
          ]
        },
        {
          "output_type": "stream",
          "name": "stdout",
          "text": [
            "Model Number: 742 with model FBProphet in generation 6 of 10\n",
            "Model Number: 743 with model NVAR in generation 6 of 10\n",
            "Model Number: 744 with model GLM in generation 6 of 10\n",
            "Model Number: 745 with model MultivariateMotif in generation 6 of 10\n",
            "Model Number: 746 with model WindowRegression in generation 6 of 10\n",
            "Template Eval Error: ValueError(\"regression_type='User' but no future_regressor passed\") in model 746: WindowRegression\n",
            "Model Number: 747 with model UnobservedComponents in generation 6 of 10\n",
            "Model Number: 748 with model MultivariateMotif in generation 6 of 10\n",
            "Model Number: 749 with model NVAR in generation 6 of 10\n",
            "Template Eval Error: Exception('Transformer BTCD failed on fit') in model 749: NVAR\n",
            "Model Number: 750 with model UnivariateMotif in generation 6 of 10\n",
            "Template Eval Error: ValueError('Model UnivariateMotif returned NaN for one or more series. fail_on_forecast_nan=True') in model 750: UnivariateMotif\n",
            "Model Number: 751 with model ETS in generation 6 of 10\n",
            "ETS error TypeError(\"__init__() got an unexpected keyword argument 'damped_trend'\")\n",
            "Model Number: 752 with model WindowRegression in generation 6 of 10\n",
            "Model Number: 753 with model ETS in generation 6 of 10\n",
            "ETS error TypeError(\"__init__() got an unexpected keyword argument 'damped_trend'\")\n",
            "Model Number: 754 with model LastValueNaive in generation 6 of 10\n",
            "Model Number: 755 with model MultivariateMotif in generation 6 of 10\n",
            "Model Number: 756 with model GLS in generation 6 of 10\n",
            "Model Number: 757 with model UnobservedComponents in generation 6 of 10\n"
          ]
        },
        {
          "output_type": "stream",
          "name": "stderr",
          "text": [
            "/usr/local/lib/python3.7/dist-packages/sklearn/linear_model/_glm/link.py:90: RuntimeWarning:\n",
            "\n",
            "overflow encountered in exp\n",
            "\n",
            "/usr/local/lib/python3.7/dist-packages/sklearn/linear_model/_glm/link.py:93: RuntimeWarning:\n",
            "\n",
            "overflow encountered in exp\n",
            "\n",
            "/usr/local/lib/python3.7/dist-packages/sklearn/_loss/glm_distribution.py:132: RuntimeWarning:\n",
            "\n",
            "invalid value encountered in true_divide\n",
            "\n",
            "/usr/local/lib/python3.7/dist-packages/sklearn/_loss/glm_distribution.py:323: RuntimeWarning:\n",
            "\n",
            "invalid value encountered in add\n",
            "\n",
            "/usr/local/lib/python3.7/dist-packages/sklearn/linear_model/_glm/glm.py:323: ConvergenceWarning:\n",
            "\n",
            "lbfgs failed to converge (status=2):\n",
            "ABNORMAL_TERMINATION_IN_LNSRCH.\n",
            "\n",
            "Increase the number of iterations (max_iter) or scale the data as shown in:\n",
            "    https://scikit-learn.org/stable/modules/preprocessing.html\n",
            "\n"
          ]
        },
        {
          "output_type": "stream",
          "name": "stdout",
          "text": [
            "Model Number: 758 with model GLS in generation 6 of 10\n",
            "Model Number: 759 with model DatepartRegression in generation 6 of 10\n"
          ]
        },
        {
          "output_type": "stream",
          "name": "stderr",
          "text": [
            "[Parallel(n_jobs=-2)]: Using backend SequentialBackend with 1 concurrent workers.\n",
            "[Parallel(n_jobs=-2)]: Done 300 out of 300 | elapsed:    0.3s finished\n",
            "[Parallel(n_jobs=1)]: Using backend SequentialBackend with 1 concurrent workers.\n",
            "[Parallel(n_jobs=1)]: Done 300 out of 300 | elapsed:    0.0s finished\n"
          ]
        },
        {
          "output_type": "stream",
          "name": "stdout",
          "text": [
            "Model Number: 760 with model WindowRegression in generation 6 of 10\n",
            "Model Number: 761 with model MultivariateMotif in generation 6 of 10\n",
            "Model Number: 762 with model LastValueNaive in generation 6 of 10\n"
          ]
        },
        {
          "output_type": "stream",
          "name": "stderr",
          "text": [
            "/usr/local/lib/python3.7/dist-packages/sklearn/neural_network/_multilayer_perceptron.py:549: ConvergenceWarning:\n",
            "\n",
            "lbfgs failed to converge (status=1):\n",
            "STOP: TOTAL NO. of ITERATIONS REACHED LIMIT.\n",
            "\n",
            "Increase the number of iterations (max_iter) or scale the data as shown in:\n",
            "    https://scikit-learn.org/stable/modules/preprocessing.html\n",
            "\n",
            "/usr/local/lib/python3.7/dist-packages/sklearn/_loss/glm_distribution.py:132: RuntimeWarning:\n",
            "\n",
            "divide by zero encountered in true_divide\n",
            "\n",
            "/usr/local/lib/python3.7/dist-packages/sklearn/linear_model/_glm/glm.py:42: RuntimeWarning:\n",
            "\n",
            "invalid value encountered in multiply\n",
            "\n",
            "/usr/local/lib/python3.7/dist-packages/sklearn/_loss/glm_distribution.py:323: RuntimeWarning:\n",
            "\n",
            "divide by zero encountered in true_divide\n",
            "\n"
          ]
        },
        {
          "output_type": "stream",
          "name": "stdout",
          "text": [
            "Model Number: 763 with model ConstantNaive in generation 6 of 10\n",
            "Model Number: 764 with model GLS in generation 6 of 10\n",
            "Model Number: 765 with model UnivariateRegression in generation 6 of 10\n",
            "Model Number: 766 with model MultivariateMotif in generation 6 of 10\n",
            "Model Number: 767 with model MultivariateMotif in generation 6 of 10\n",
            "Model Number: 768 with model MultivariateRegression in generation 6 of 10\n",
            "Epoch 1/50\n",
            "57/57 [==============================] - 4s 3ms/step - loss: 0.1652\n",
            "Epoch 2/50\n",
            "57/57 [==============================] - 0s 4ms/step - loss: 0.0628\n",
            "Epoch 3/50\n",
            "57/57 [==============================] - 0s 4ms/step - loss: 0.0608\n",
            "Epoch 4/50\n",
            "57/57 [==============================] - 0s 4ms/step - loss: 0.0576\n",
            "Epoch 5/50\n",
            "57/57 [==============================] - 0s 4ms/step - loss: 0.0625\n",
            "Epoch 6/50\n",
            "57/57 [==============================] - 0s 3ms/step - loss: 0.0326\n",
            "Epoch 7/50\n",
            "57/57 [==============================] - 0s 4ms/step - loss: 0.0273\n",
            "Epoch 8/50\n",
            "57/57 [==============================] - 0s 4ms/step - loss: 0.0351\n",
            "Epoch 9/50\n",
            "57/57 [==============================] - 0s 4ms/step - loss: 0.0280\n",
            "Epoch 10/50\n",
            "57/57 [==============================] - 0s 4ms/step - loss: 0.0302\n",
            "Epoch 11/50\n",
            "57/57 [==============================] - 0s 3ms/step - loss: 0.0189\n",
            "Epoch 12/50\n",
            "57/57 [==============================] - 0s 3ms/step - loss: 0.0177\n",
            "Epoch 13/50\n",
            "57/57 [==============================] - 0s 4ms/step - loss: 0.0144\n",
            "Epoch 14/50\n",
            "57/57 [==============================] - 0s 4ms/step - loss: 0.0172\n",
            "Epoch 15/50\n",
            "57/57 [==============================] - 0s 4ms/step - loss: 0.0153\n",
            "Epoch 16/50\n",
            "57/57 [==============================] - 0s 3ms/step - loss: 0.0118\n",
            "Epoch 17/50\n",
            "57/57 [==============================] - 0s 3ms/step - loss: 0.0138\n",
            "Epoch 18/50\n",
            "57/57 [==============================] - 0s 3ms/step - loss: 0.0180\n",
            "Epoch 19/50\n",
            "57/57 [==============================] - 0s 4ms/step - loss: 0.0128\n",
            "Epoch 20/50\n",
            "57/57 [==============================] - 0s 3ms/step - loss: 0.0167\n",
            "Epoch 21/50\n",
            "57/57 [==============================] - 0s 3ms/step - loss: 0.0139\n",
            "Epoch 22/50\n",
            "57/57 [==============================] - 0s 4ms/step - loss: 0.0131\n",
            "Epoch 23/50\n",
            "57/57 [==============================] - 0s 3ms/step - loss: 0.0116\n",
            "Epoch 24/50\n",
            "57/57 [==============================] - 0s 4ms/step - loss: 0.0132\n",
            "Epoch 25/50\n",
            "57/57 [==============================] - 0s 4ms/step - loss: 0.0112\n",
            "Epoch 26/50\n",
            "57/57 [==============================] - 0s 3ms/step - loss: 0.0112\n",
            "Epoch 27/50\n",
            "57/57 [==============================] - 0s 3ms/step - loss: 0.0122\n",
            "Epoch 28/50\n",
            "57/57 [==============================] - 0s 4ms/step - loss: 0.0129\n",
            "Epoch 29/50\n",
            "57/57 [==============================] - 0s 4ms/step - loss: 0.0151\n",
            "Epoch 30/50\n",
            "57/57 [==============================] - 0s 4ms/step - loss: 0.0131\n",
            "Epoch 31/50\n",
            "57/57 [==============================] - 0s 4ms/step - loss: 0.0102\n",
            "Epoch 32/50\n",
            "57/57 [==============================] - 0s 4ms/step - loss: 0.0128\n",
            "Epoch 33/50\n",
            "57/57 [==============================] - 0s 4ms/step - loss: 0.0149\n",
            "Epoch 34/50\n",
            "57/57 [==============================] - 0s 3ms/step - loss: 0.0120\n",
            "Epoch 35/50\n",
            "57/57 [==============================] - 0s 3ms/step - loss: 0.0158\n",
            "Epoch 36/50\n",
            "57/57 [==============================] - 0s 4ms/step - loss: 0.0140\n",
            "Epoch 37/50\n",
            "57/57 [==============================] - 0s 4ms/step - loss: 0.0114\n",
            "Epoch 38/50\n",
            "57/57 [==============================] - 0s 4ms/step - loss: 0.0132\n",
            "Epoch 39/50\n",
            "57/57 [==============================] - 0s 4ms/step - loss: 0.0147\n",
            "Epoch 40/50\n",
            "57/57 [==============================] - 0s 4ms/step - loss: 0.0093\n",
            "Epoch 41/50\n",
            "57/57 [==============================] - 0s 4ms/step - loss: 0.0088\n",
            "Epoch 42/50\n",
            "57/57 [==============================] - 0s 4ms/step - loss: 0.0111\n",
            "Epoch 43/50\n",
            "57/57 [==============================] - 0s 4ms/step - loss: 0.0112\n",
            "Epoch 44/50\n",
            "57/57 [==============================] - 0s 3ms/step - loss: 0.0140\n",
            "Epoch 45/50\n",
            "57/57 [==============================] - 0s 4ms/step - loss: 0.0102\n",
            "Epoch 46/50\n",
            "57/57 [==============================] - 0s 4ms/step - loss: 0.0112\n",
            "Epoch 47/50\n",
            "57/57 [==============================] - 0s 4ms/step - loss: 0.0086\n",
            "Epoch 48/50\n",
            "57/57 [==============================] - 0s 4ms/step - loss: 0.0112\n",
            "Epoch 49/50\n",
            "57/57 [==============================] - 0s 4ms/step - loss: 0.0145\n",
            "Epoch 50/50\n",
            "57/57 [==============================] - 0s 4ms/step - loss: 0.0097\n",
            "Model Number: 769 with model ConstantNaive in generation 6 of 10\n",
            "Model Number: 770 with model SectionalMotif in generation 6 of 10\n",
            "Model Number: 771 with model UnivariateRegression in generation 6 of 10\n",
            "Model Number: 772 with model GLS in generation 6 of 10\n",
            "Model Number: 773 with model AverageValueNaive in generation 6 of 10\n"
          ]
        },
        {
          "output_type": "stream",
          "name": "stderr",
          "text": [
            "INFO:fbprophet:Disabling daily seasonality. Run prophet with daily_seasonality=True to override this.\n"
          ]
        },
        {
          "output_type": "stream",
          "name": "stdout",
          "text": [
            "Template Eval Error: Exception('Transformer Detrend failed on fit') in model 773: AverageValueNaive\n",
            "Model Number: 774 with model FBProphet in generation 6 of 10\n",
            "Model Number: 775 with model UnivariateMotif in generation 6 of 10\n",
            "Model Number: 776 with model UnobservedComponents in generation 6 of 10\n",
            "Template Eval Error: ValueError('Provided exogenous values are not of the appropriate shape. Required (5, 1), got (5,).') in model 776: UnobservedComponents\n",
            "Model Number: 777 with model LastValueNaive in generation 6 of 10\n",
            "Model Number: 778 with model NVAR in generation 6 of 10\n",
            "Model Number: 779 with model AverageValueNaive in generation 6 of 10\n",
            "Model Number: 780 with model ConstantNaive in generation 6 of 10\n"
          ]
        },
        {
          "output_type": "stream",
          "name": "stderr",
          "text": [
            "/usr/local/lib/python3.7/dist-packages/sklearn/linear_model/_glm/link.py:90: RuntimeWarning:\n",
            "\n",
            "overflow encountered in exp\n",
            "\n",
            "/usr/local/lib/python3.7/dist-packages/sklearn/linear_model/_glm/link.py:93: RuntimeWarning:\n",
            "\n",
            "overflow encountered in exp\n",
            "\n",
            "/usr/local/lib/python3.7/dist-packages/sklearn/_loss/glm_distribution.py:132: RuntimeWarning:\n",
            "\n",
            "invalid value encountered in true_divide\n",
            "\n",
            "/usr/local/lib/python3.7/dist-packages/sklearn/linear_model/_glm/link.py:90: RuntimeWarning:\n",
            "\n",
            "overflow encountered in exp\n",
            "\n",
            "/usr/local/lib/python3.7/dist-packages/sklearn/linear_model/_glm/link.py:93: RuntimeWarning:\n",
            "\n",
            "overflow encountered in exp\n",
            "\n",
            "/usr/local/lib/python3.7/dist-packages/sklearn/_loss/glm_distribution.py:132: RuntimeWarning:\n",
            "\n",
            "invalid value encountered in true_divide\n",
            "\n"
          ]
        },
        {
          "output_type": "stream",
          "name": "stdout",
          "text": [
            "Model Number: 781 with model SeasonalNaive in generation 6 of 10\n",
            "Model Number: 782 with model SectionalMotif in generation 6 of 10\n",
            "Model Number: 783 with model NVAR in generation 6 of 10\n",
            "Model Number: 784 with model ConstantNaive in generation 6 of 10\n",
            "Template Eval Error: Exception('Transformer STLFilter failed on fit') in model 784: ConstantNaive\n",
            "Model Number: 785 with model ConstantNaive in generation 6 of 10\n",
            "New Generation: 7 of 10\n",
            "Model Number: 786 with model LastValueNaive in generation 7 of 10\n",
            "Model Number: 787 with model MultivariateMotif in generation 7 of 10\n",
            "Template Eval Error: Exception('Transformer BTCD failed on fit') in model 787: MultivariateMotif\n",
            "Model Number: 788 with model ETS in generation 7 of 10\n",
            "ETS error TypeError(\"__init__() got an unexpected keyword argument 'damped_trend'\")\n",
            "Model Number: 789 with model NVAR in generation 7 of 10\n",
            "Template Eval Error: Exception('Transformer Cointegration failed on fit') in model 789: NVAR\n",
            "Model Number: 790 with model SectionalMotif in generation 7 of 10\n",
            "Model Number: 791 with model ConstantNaive in generation 7 of 10\n",
            "Model Number: 792 with model MultivariateMotif in generation 7 of 10\n",
            "Model Number: 793 with model NVAR in generation 7 of 10\n",
            "Model Number: 794 with model SectionalMotif in generation 7 of 10\n",
            "Model Number: 795 with model SeasonalNaive in generation 7 of 10\n",
            "Model Number: 796 with model ConstantNaive in generation 7 of 10\n",
            "Model Number: 797 with model WindowRegression in generation 7 of 10\n",
            "Model Number: 798 with model LastValueNaive in generation 7 of 10\n",
            "Model Number: 799 with model GLS in generation 7 of 10\n",
            "Template Eval Error: Exception('Transformer STLFilter failed on fit') in model 799: GLS\n",
            "Model Number: 800 with model ETS in generation 7 of 10\n",
            "ETS error TypeError(\"__init__() got an unexpected keyword argument 'damped_trend'\")\n",
            "Model Number: 801 with model ETS in generation 7 of 10\n"
          ]
        },
        {
          "output_type": "stream",
          "name": "stderr",
          "text": [
            "/usr/local/lib/python3.7/dist-packages/sklearn/linear_model/_glm/link.py:90: RuntimeWarning:\n",
            "\n",
            "overflow encountered in exp\n",
            "\n",
            "/usr/local/lib/python3.7/dist-packages/sklearn/linear_model/_glm/link.py:93: RuntimeWarning:\n",
            "\n",
            "overflow encountered in exp\n",
            "\n",
            "/usr/local/lib/python3.7/dist-packages/sklearn/_loss/glm_distribution.py:132: RuntimeWarning:\n",
            "\n",
            "invalid value encountered in true_divide\n",
            "\n",
            "/usr/local/lib/python3.7/dist-packages/sklearn/linear_model/_glm/link.py:90: RuntimeWarning:\n",
            "\n",
            "overflow encountered in exp\n",
            "\n",
            "/usr/local/lib/python3.7/dist-packages/sklearn/linear_model/_glm/link.py:93: RuntimeWarning:\n",
            "\n",
            "overflow encountered in exp\n",
            "\n",
            "/usr/local/lib/python3.7/dist-packages/sklearn/_loss/glm_distribution.py:132: RuntimeWarning:\n",
            "\n",
            "invalid value encountered in true_divide\n",
            "\n",
            "/usr/local/lib/python3.7/dist-packages/sklearn/_loss/glm_distribution.py:323: RuntimeWarning:\n",
            "\n",
            "invalid value encountered in add\n",
            "\n",
            "/usr/local/lib/python3.7/dist-packages/sklearn/linear_model/_glm/glm.py:323: ConvergenceWarning:\n",
            "\n",
            "lbfgs failed to converge (status=2):\n",
            "ABNORMAL_TERMINATION_IN_LNSRCH.\n",
            "\n",
            "Increase the number of iterations (max_iter) or scale the data as shown in:\n",
            "    https://scikit-learn.org/stable/modules/preprocessing.html\n",
            "\n",
            "/usr/local/lib/python3.7/dist-packages/sklearn/_loss/glm_distribution.py:132: RuntimeWarning:\n",
            "\n",
            "divide by zero encountered in true_divide\n",
            "\n",
            "/usr/local/lib/python3.7/dist-packages/sklearn/linear_model/_glm/glm.py:42: RuntimeWarning:\n",
            "\n",
            "invalid value encountered in multiply\n",
            "\n",
            "/usr/local/lib/python3.7/dist-packages/sklearn/_loss/glm_distribution.py:323: RuntimeWarning:\n",
            "\n",
            "divide by zero encountered in true_divide\n",
            "\n"
          ]
        },
        {
          "output_type": "stream",
          "name": "stdout",
          "text": [
            "ETS error TypeError(\"__init__() got an unexpected keyword argument 'damped_trend'\")\n",
            "Model Number: 802 with model NVAR in generation 7 of 10\n",
            "Model Number: 803 with model ETS in generation 7 of 10\n",
            "ETS error TypeError(\"__init__() got an unexpected keyword argument 'damped_trend'\")\n",
            "Model Number: 804 with model GLS in generation 7 of 10\n",
            "Model Number: 805 with model AverageValueNaive in generation 7 of 10\n",
            "Template Eval Error: Exception('Transformer Cointegration failed on fit') in model 805: AverageValueNaive\n",
            "Model Number: 806 with model MultivariateRegression in generation 7 of 10\n"
          ]
        },
        {
          "output_type": "stream",
          "name": "stderr",
          "text": [
            "[Parallel(n_jobs=-2)]: Using backend SequentialBackend with 1 concurrent workers.\n",
            "[Parallel(n_jobs=-2)]: Done 300 out of 300 | elapsed:    5.0s finished\n",
            "[Parallel(n_jobs=1)]: Using backend SequentialBackend with 1 concurrent workers.\n",
            "[Parallel(n_jobs=1)]: Done 300 out of 300 | elapsed:    0.0s finished\n",
            "[Parallel(n_jobs=1)]: Using backend SequentialBackend with 1 concurrent workers.\n",
            "[Parallel(n_jobs=1)]: Done 300 out of 300 | elapsed:    0.0s finished\n",
            "[Parallel(n_jobs=1)]: Using backend SequentialBackend with 1 concurrent workers.\n",
            "[Parallel(n_jobs=1)]: Done 300 out of 300 | elapsed:    0.0s finished\n",
            "[Parallel(n_jobs=1)]: Using backend SequentialBackend with 1 concurrent workers.\n",
            "[Parallel(n_jobs=1)]: Done 300 out of 300 | elapsed:    0.0s finished\n",
            "[Parallel(n_jobs=1)]: Using backend SequentialBackend with 1 concurrent workers.\n",
            "[Parallel(n_jobs=1)]: Done 300 out of 300 | elapsed:    0.0s finished\n"
          ]
        },
        {
          "output_type": "stream",
          "name": "stdout",
          "text": [
            "Model Number: 807 with model GLS in generation 7 of 10\n",
            "Model Number: 808 with model GLM in generation 7 of 10\n",
            "Model Number: 809 with model MultivariateRegression in generation 7 of 10\n"
          ]
        },
        {
          "output_type": "stream",
          "name": "stderr",
          "text": [
            "/usr/local/lib/python3.7/dist-packages/statsmodels/genmod/generalized_linear_model.py:273: DomainWarning:\n",
            "\n",
            "The inverse_power link function does not respect the domain of the Gamma family.\n",
            "\n"
          ]
        },
        {
          "output_type": "stream",
          "name": "stdout",
          "text": [
            "Epoch 1/200\n",
            "57/57 [==============================] - 5s 3ms/step - loss: 2074.8867\n",
            "Epoch 2/200\n",
            "57/57 [==============================] - 0s 4ms/step - loss: 2074.4333\n",
            "Epoch 3/200\n",
            "57/57 [==============================] - 0s 4ms/step - loss: 2074.5308\n",
            "Epoch 4/200\n",
            "57/57 [==============================] - 0s 5ms/step - loss: 2074.5225\n",
            "Epoch 5/200\n",
            "57/57 [==============================] - 0s 5ms/step - loss: 2074.6846\n",
            "Epoch 6/200\n",
            "57/57 [==============================] - 0s 5ms/step - loss: 2074.5886\n",
            "Epoch 7/200\n",
            "57/57 [==============================] - 0s 4ms/step - loss: 2074.5283\n",
            "Epoch 8/200\n",
            "57/57 [==============================] - 0s 5ms/step - loss: 2074.4280\n",
            "Epoch 9/200\n",
            "57/57 [==============================] - 0s 4ms/step - loss: 2074.8408\n",
            "Epoch 10/200\n",
            "57/57 [==============================] - 0s 4ms/step - loss: 2074.4187\n",
            "Epoch 11/200\n",
            "57/57 [==============================] - 0s 4ms/step - loss: 2074.5830\n",
            "Epoch 12/200\n",
            "57/57 [==============================] - 0s 4ms/step - loss: 2074.5024\n",
            "Epoch 13/200\n",
            "57/57 [==============================] - 0s 4ms/step - loss: 2074.6592\n",
            "Epoch 14/200\n",
            "57/57 [==============================] - 0s 4ms/step - loss: 2074.5349\n",
            "Epoch 15/200\n",
            "57/57 [==============================] - 0s 5ms/step - loss: 2074.6897\n",
            "Epoch 16/200\n",
            "57/57 [==============================] - 0s 5ms/step - loss: 2074.3960\n",
            "Epoch 17/200\n",
            "57/57 [==============================] - 0s 5ms/step - loss: 2074.5640\n",
            "Epoch 18/200\n",
            "57/57 [==============================] - 0s 5ms/step - loss: 2074.4856\n",
            "Epoch 19/200\n",
            "57/57 [==============================] - 0s 5ms/step - loss: 2074.5217\n",
            "Epoch 20/200\n",
            "57/57 [==============================] - 0s 4ms/step - loss: 2074.7747\n",
            "Epoch 21/200\n",
            "57/57 [==============================] - 0s 5ms/step - loss: 2074.6355\n",
            "Epoch 22/200\n",
            "57/57 [==============================] - 0s 4ms/step - loss: 2074.5066\n",
            "Epoch 23/200\n",
            "57/57 [==============================] - 0s 5ms/step - loss: 2074.6125\n",
            "Epoch 24/200\n",
            "57/57 [==============================] - 0s 4ms/step - loss: 2074.6079\n",
            "Epoch 25/200\n",
            "57/57 [==============================] - 0s 5ms/step - loss: 2074.7515\n",
            "Epoch 26/200\n",
            "57/57 [==============================] - 0s 4ms/step - loss: 2074.6870\n",
            "Epoch 27/200\n",
            "57/57 [==============================] - 0s 4ms/step - loss: 2074.6045\n",
            "Epoch 28/200\n",
            "57/57 [==============================] - 0s 4ms/step - loss: 2074.5430\n",
            "Epoch 29/200\n",
            "57/57 [==============================] - 0s 4ms/step - loss: 2074.4246\n",
            "Epoch 30/200\n",
            "57/57 [==============================] - 0s 4ms/step - loss: 2074.4185\n",
            "Epoch 31/200\n",
            "57/57 [==============================] - 0s 5ms/step - loss: 2074.5750\n",
            "Epoch 32/200\n",
            "57/57 [==============================] - 0s 4ms/step - loss: 2074.3691\n",
            "Epoch 33/200\n",
            "57/57 [==============================] - 0s 5ms/step - loss: 2074.3865\n",
            "Epoch 34/200\n",
            "57/57 [==============================] - 0s 4ms/step - loss: 2074.7129\n",
            "Epoch 35/200\n",
            "57/57 [==============================] - 0s 4ms/step - loss: 2074.4705\n",
            "Epoch 36/200\n",
            "57/57 [==============================] - 0s 4ms/step - loss: 2074.4426\n",
            "Epoch 37/200\n",
            "57/57 [==============================] - 0s 4ms/step - loss: 2074.3845\n",
            "Epoch 38/200\n",
            "57/57 [==============================] - 0s 4ms/step - loss: 2074.4954\n",
            "Epoch 39/200\n",
            "57/57 [==============================] - 0s 4ms/step - loss: 2074.3042\n",
            "Epoch 40/200\n",
            "57/57 [==============================] - 0s 5ms/step - loss: 2074.4651\n",
            "Epoch 41/200\n",
            "57/57 [==============================] - 0s 4ms/step - loss: 2074.5083\n",
            "Epoch 42/200\n",
            "57/57 [==============================] - 0s 5ms/step - loss: 2074.3381\n",
            "Epoch 43/200\n",
            "57/57 [==============================] - 0s 5ms/step - loss: 2074.4319\n",
            "Epoch 44/200\n",
            "57/57 [==============================] - 0s 5ms/step - loss: 2074.2607\n",
            "Epoch 45/200\n",
            "57/57 [==============================] - 0s 4ms/step - loss: 2074.3188\n",
            "Epoch 46/200\n",
            "57/57 [==============================] - 0s 4ms/step - loss: 2074.3682\n",
            "Epoch 47/200\n",
            "57/57 [==============================] - 0s 4ms/step - loss: 2074.4893\n",
            "Epoch 48/200\n",
            "57/57 [==============================] - 0s 4ms/step - loss: 2074.7402\n",
            "Epoch 49/200\n",
            "57/57 [==============================] - 0s 4ms/step - loss: 2074.5073\n",
            "Epoch 50/200\n",
            "57/57 [==============================] - 0s 4ms/step - loss: 2074.4819\n",
            "Epoch 51/200\n",
            "57/57 [==============================] - 0s 4ms/step - loss: 2074.5967\n",
            "Epoch 52/200\n",
            "57/57 [==============================] - 0s 4ms/step - loss: 2074.3174\n",
            "Epoch 53/200\n",
            "57/57 [==============================] - 0s 4ms/step - loss: 2074.5737\n",
            "Epoch 54/200\n",
            "57/57 [==============================] - 0s 5ms/step - loss: 2074.4121\n",
            "Epoch 55/200\n",
            "57/57 [==============================] - 0s 4ms/step - loss: 2074.5879\n",
            "Epoch 56/200\n",
            "57/57 [==============================] - 0s 5ms/step - loss: 2074.5706\n",
            "Epoch 57/200\n",
            "57/57 [==============================] - 0s 5ms/step - loss: 2074.3103\n",
            "Epoch 58/200\n",
            "57/57 [==============================] - 0s 4ms/step - loss: 2074.4250\n",
            "Epoch 59/200\n",
            "57/57 [==============================] - 0s 5ms/step - loss: 2074.4351\n",
            "Epoch 60/200\n",
            "57/57 [==============================] - 0s 4ms/step - loss: 2074.4229\n",
            "Epoch 61/200\n",
            "57/57 [==============================] - 0s 4ms/step - loss: 2074.3213\n",
            "Epoch 62/200\n",
            "57/57 [==============================] - 0s 4ms/step - loss: 2074.4324\n",
            "Epoch 63/200\n",
            "57/57 [==============================] - 0s 4ms/step - loss: 2074.3562\n",
            "Epoch 64/200\n",
            "57/57 [==============================] - 0s 5ms/step - loss: 2074.4380\n",
            "Epoch 65/200\n",
            "57/57 [==============================] - 0s 4ms/step - loss: 2074.5029\n",
            "Epoch 66/200\n",
            "57/57 [==============================] - 0s 4ms/step - loss: 2074.4009\n",
            "Epoch 67/200\n",
            "57/57 [==============================] - 0s 4ms/step - loss: 2074.2622\n",
            "Epoch 68/200\n",
            "57/57 [==============================] - 0s 4ms/step - loss: 2074.2388\n",
            "Epoch 69/200\n",
            "57/57 [==============================] - 0s 4ms/step - loss: 2074.2502\n",
            "Epoch 70/200\n",
            "57/57 [==============================] - 0s 5ms/step - loss: 2074.3225\n",
            "Epoch 71/200\n",
            "57/57 [==============================] - 0s 5ms/step - loss: 2074.1648\n",
            "Epoch 72/200\n",
            "57/57 [==============================] - 0s 5ms/step - loss: 2074.4155\n",
            "Epoch 73/200\n",
            "57/57 [==============================] - 0s 4ms/step - loss: 2074.5720\n",
            "Epoch 74/200\n",
            "57/57 [==============================] - 0s 4ms/step - loss: 2074.7080\n",
            "Epoch 75/200\n",
            "57/57 [==============================] - 0s 4ms/step - loss: 2074.3479\n",
            "Epoch 76/200\n",
            "57/57 [==============================] - 0s 4ms/step - loss: 2074.1580\n",
            "Epoch 77/200\n",
            "57/57 [==============================] - 0s 5ms/step - loss: 2074.3574\n",
            "Epoch 78/200\n",
            "57/57 [==============================] - 0s 5ms/step - loss: 2074.0398\n",
            "Epoch 79/200\n",
            "57/57 [==============================] - 0s 5ms/step - loss: 2073.9663\n",
            "Epoch 80/200\n",
            "57/57 [==============================] - 0s 5ms/step - loss: 2074.2080\n",
            "Epoch 81/200\n",
            "57/57 [==============================] - 0s 5ms/step - loss: 2075.1604\n",
            "Epoch 82/200\n",
            "57/57 [==============================] - 0s 5ms/step - loss: 2073.9905\n",
            "Epoch 83/200\n",
            "57/57 [==============================] - 0s 5ms/step - loss: 2074.4495\n",
            "Epoch 84/200\n",
            "57/57 [==============================] - 0s 5ms/step - loss: 2074.3767\n",
            "Epoch 85/200\n",
            "57/57 [==============================] - 0s 5ms/step - loss: 2074.6018\n",
            "Epoch 86/200\n",
            "57/57 [==============================] - 0s 5ms/step - loss: 2074.4692\n",
            "Epoch 87/200\n",
            "57/57 [==============================] - 0s 5ms/step - loss: 2074.6714\n",
            "Epoch 88/200\n",
            "57/57 [==============================] - 0s 4ms/step - loss: 2074.4951\n",
            "Epoch 89/200\n",
            "57/57 [==============================] - 0s 4ms/step - loss: 2074.5715\n",
            "Epoch 90/200\n",
            "57/57 [==============================] - 0s 5ms/step - loss: 2074.4622\n",
            "Epoch 91/200\n",
            "57/57 [==============================] - 0s 5ms/step - loss: 2074.2068\n",
            "Epoch 92/200\n",
            "57/57 [==============================] - 0s 5ms/step - loss: 2074.4604\n",
            "Epoch 93/200\n",
            "57/57 [==============================] - 0s 4ms/step - loss: 2074.4558\n",
            "Epoch 94/200\n",
            "57/57 [==============================] - 0s 5ms/step - loss: 2074.2024\n",
            "Epoch 95/200\n",
            "57/57 [==============================] - 0s 4ms/step - loss: 2074.5205\n",
            "Epoch 96/200\n",
            "57/57 [==============================] - 0s 5ms/step - loss: 2074.4487\n",
            "Epoch 97/200\n",
            "57/57 [==============================] - 0s 5ms/step - loss: 2074.5618\n",
            "Epoch 98/200\n",
            "57/57 [==============================] - 0s 5ms/step - loss: 2074.3394\n",
            "Epoch 99/200\n",
            "57/57 [==============================] - 0s 5ms/step - loss: 2074.4812\n",
            "Epoch 100/200\n",
            "57/57 [==============================] - 0s 5ms/step - loss: 2074.5981\n",
            "Epoch 101/200\n",
            "57/57 [==============================] - 0s 5ms/step - loss: 2074.3425\n",
            "Epoch 102/200\n",
            "57/57 [==============================] - 0s 5ms/step - loss: 2074.2795\n",
            "Epoch 103/200\n",
            "57/57 [==============================] - 0s 5ms/step - loss: 2074.5100\n",
            "Epoch 104/200\n",
            "57/57 [==============================] - 0s 5ms/step - loss: 2074.4058\n",
            "Epoch 105/200\n",
            "57/57 [==============================] - 0s 5ms/step - loss: 2074.5081\n",
            "Epoch 106/200\n",
            "57/57 [==============================] - 0s 4ms/step - loss: 2074.4136\n",
            "Epoch 107/200\n",
            "57/57 [==============================] - 0s 5ms/step - loss: 2074.2051\n",
            "Epoch 108/200\n",
            "57/57 [==============================] - 0s 5ms/step - loss: 2074.4285\n",
            "Epoch 109/200\n",
            "57/57 [==============================] - 0s 5ms/step - loss: 2074.2202\n",
            "Epoch 110/200\n",
            "57/57 [==============================] - 0s 5ms/step - loss: 2074.4661\n",
            "Epoch 111/200\n",
            "57/57 [==============================] - 0s 5ms/step - loss: 2074.3855\n",
            "Epoch 112/200\n",
            "57/57 [==============================] - 0s 5ms/step - loss: 2074.3413\n",
            "Epoch 113/200\n",
            "57/57 [==============================] - 0s 4ms/step - loss: 2074.4949\n",
            "Epoch 114/200\n",
            "57/57 [==============================] - 0s 4ms/step - loss: 2074.3972\n",
            "Epoch 115/200\n",
            "57/57 [==============================] - 0s 4ms/step - loss: 2074.1804\n",
            "Epoch 116/200\n",
            "57/57 [==============================] - 0s 5ms/step - loss: 2074.3550\n",
            "Epoch 117/200\n",
            "57/57 [==============================] - 0s 4ms/step - loss: 2074.3384\n",
            "Epoch 118/200\n",
            "57/57 [==============================] - 0s 5ms/step - loss: 2074.2134\n",
            "Epoch 119/200\n",
            "57/57 [==============================] - 0s 5ms/step - loss: 2074.4587\n",
            "Epoch 120/200\n",
            "57/57 [==============================] - 0s 5ms/step - loss: 2074.3848\n",
            "Epoch 121/200\n",
            "57/57 [==============================] - 0s 5ms/step - loss: 2074.3416\n",
            "Epoch 122/200\n",
            "57/57 [==============================] - 0s 5ms/step - loss: 2074.5503\n",
            "Epoch 123/200\n",
            "57/57 [==============================] - 0s 5ms/step - loss: 2074.4016\n",
            "Epoch 124/200\n",
            "57/57 [==============================] - 0s 5ms/step - loss: 2074.3691\n",
            "Epoch 125/200\n",
            "57/57 [==============================] - 0s 4ms/step - loss: 2074.3545\n",
            "Epoch 126/200\n",
            "57/57 [==============================] - 0s 4ms/step - loss: 2074.5493\n",
            "Epoch 127/200\n",
            "57/57 [==============================] - 0s 4ms/step - loss: 2074.2334\n",
            "Epoch 128/200\n",
            "57/57 [==============================] - 0s 4ms/step - loss: 2074.3376\n",
            "Epoch 129/200\n",
            "57/57 [==============================] - 0s 4ms/step - loss: 2074.5481\n",
            "Epoch 130/200\n",
            "57/57 [==============================] - 0s 5ms/step - loss: 2074.4351\n",
            "Epoch 131/200\n",
            "57/57 [==============================] - 0s 5ms/step - loss: 2074.2839\n",
            "Epoch 132/200\n",
            "57/57 [==============================] - 0s 4ms/step - loss: 2074.3442\n",
            "Epoch 133/200\n",
            "57/57 [==============================] - 0s 4ms/step - loss: 2074.2996\n",
            "Epoch 134/200\n",
            "57/57 [==============================] - 0s 4ms/step - loss: 2074.3872\n",
            "Epoch 135/200\n",
            "57/57 [==============================] - 0s 5ms/step - loss: 2074.3149\n",
            "Epoch 136/200\n",
            "57/57 [==============================] - 0s 5ms/step - loss: 2074.3496\n",
            "Epoch 137/200\n",
            "57/57 [==============================] - 0s 4ms/step - loss: 2074.4885\n",
            "Epoch 138/200\n",
            "57/57 [==============================] - 0s 4ms/step - loss: 2074.3557\n",
            "Epoch 139/200\n",
            "57/57 [==============================] - 0s 5ms/step - loss: 2074.3875\n",
            "Epoch 140/200\n",
            "57/57 [==============================] - 0s 4ms/step - loss: 2074.3320\n",
            "Epoch 141/200\n",
            "57/57 [==============================] - 0s 4ms/step - loss: 2074.4309\n",
            "Epoch 142/200\n",
            "57/57 [==============================] - 0s 5ms/step - loss: 2074.4243\n",
            "Epoch 143/200\n",
            "57/57 [==============================] - 0s 5ms/step - loss: 2074.3516\n",
            "Epoch 144/200\n",
            "57/57 [==============================] - 0s 4ms/step - loss: 2074.3042\n",
            "Epoch 145/200\n",
            "57/57 [==============================] - 0s 4ms/step - loss: 2074.3340\n",
            "Epoch 146/200\n",
            "57/57 [==============================] - 0s 5ms/step - loss: 2074.3081\n",
            "Epoch 147/200\n",
            "57/57 [==============================] - 0s 5ms/step - loss: 2074.3745\n",
            "Epoch 148/200\n",
            "57/57 [==============================] - 0s 5ms/step - loss: 2074.3735\n",
            "Epoch 149/200\n",
            "57/57 [==============================] - 0s 4ms/step - loss: 2074.3320\n",
            "Epoch 150/200\n",
            "57/57 [==============================] - 0s 5ms/step - loss: 2074.3372\n",
            "Epoch 151/200\n",
            "57/57 [==============================] - 0s 4ms/step - loss: 2074.3154\n",
            "Epoch 152/200\n",
            "57/57 [==============================] - 0s 5ms/step - loss: 2074.2886\n",
            "Epoch 153/200\n",
            "57/57 [==============================] - 0s 5ms/step - loss: 2074.3135\n",
            "Epoch 154/200\n",
            "57/57 [==============================] - 0s 5ms/step - loss: 2074.3933\n",
            "Epoch 155/200\n",
            "57/57 [==============================] - 0s 5ms/step - loss: 2074.3796\n",
            "Epoch 156/200\n",
            "57/57 [==============================] - 0s 5ms/step - loss: 2074.3396\n",
            "Epoch 157/200\n",
            "57/57 [==============================] - 0s 5ms/step - loss: 2074.2764\n",
            "Epoch 158/200\n",
            "57/57 [==============================] - 0s 4ms/step - loss: 2074.3262\n",
            "Epoch 159/200\n",
            "57/57 [==============================] - 0s 4ms/step - loss: 2074.2461\n",
            "Epoch 160/200\n",
            "57/57 [==============================] - 0s 5ms/step - loss: 2074.2361\n",
            "Epoch 161/200\n",
            "57/57 [==============================] - 0s 5ms/step - loss: 2074.3457\n",
            "Epoch 162/200\n",
            "57/57 [==============================] - 0s 5ms/step - loss: 2074.3916\n",
            "Epoch 163/200\n",
            "57/57 [==============================] - 0s 5ms/step - loss: 2074.3171\n",
            "Epoch 164/200\n",
            "57/57 [==============================] - 0s 5ms/step - loss: 2074.3274\n",
            "Epoch 165/200\n",
            "57/57 [==============================] - 0s 5ms/step - loss: 2074.3228\n",
            "Epoch 166/200\n",
            "57/57 [==============================] - 0s 5ms/step - loss: 2074.2603\n",
            "Epoch 167/200\n",
            "57/57 [==============================] - 0s 5ms/step - loss: 2074.2581\n",
            "Epoch 168/200\n",
            "57/57 [==============================] - 0s 5ms/step - loss: 2074.4368\n",
            "Epoch 169/200\n",
            "57/57 [==============================] - 0s 4ms/step - loss: 2074.2043\n",
            "Epoch 170/200\n",
            "57/57 [==============================] - 0s 4ms/step - loss: 2074.2759\n",
            "Epoch 171/200\n",
            "57/57 [==============================] - 0s 5ms/step - loss: 2074.3748\n",
            "Epoch 172/200\n",
            "57/57 [==============================] - 0s 4ms/step - loss: 2074.2654\n",
            "Epoch 173/200\n",
            "57/57 [==============================] - 0s 4ms/step - loss: 2074.2510\n",
            "Epoch 174/200\n",
            "57/57 [==============================] - 0s 4ms/step - loss: 2074.5095\n",
            "Epoch 175/200\n",
            "57/57 [==============================] - 0s 5ms/step - loss: 2074.3352\n",
            "Epoch 176/200\n",
            "57/57 [==============================] - 0s 5ms/step - loss: 2074.3433\n",
            "Epoch 177/200\n",
            "57/57 [==============================] - 0s 4ms/step - loss: 2074.2891\n",
            "Epoch 178/200\n",
            "57/57 [==============================] - 0s 4ms/step - loss: 2074.2925\n",
            "Epoch 179/200\n",
            "57/57 [==============================] - 0s 5ms/step - loss: 2074.2864\n",
            "Epoch 180/200\n",
            "57/57 [==============================] - 0s 5ms/step - loss: 2074.2830\n",
            "Epoch 181/200\n",
            "57/57 [==============================] - 0s 5ms/step - loss: 2074.2346\n",
            "Epoch 182/200\n",
            "57/57 [==============================] - 0s 4ms/step - loss: 2074.2317\n",
            "Epoch 183/200\n",
            "57/57 [==============================] - 0s 5ms/step - loss: 2074.4370\n",
            "Epoch 184/200\n",
            "57/57 [==============================] - 0s 5ms/step - loss: 2074.3962\n",
            "Epoch 185/200\n",
            "57/57 [==============================] - 0s 5ms/step - loss: 2074.2463\n",
            "Epoch 186/200\n",
            "57/57 [==============================] - 0s 5ms/step - loss: 2074.3247\n",
            "Epoch 187/200\n",
            "57/57 [==============================] - 0s 5ms/step - loss: 2074.2717\n",
            "Epoch 188/200\n",
            "57/57 [==============================] - 0s 5ms/step - loss: 2074.3203\n",
            "Epoch 189/200\n",
            "57/57 [==============================] - 0s 5ms/step - loss: 2074.3979\n",
            "Epoch 190/200\n",
            "57/57 [==============================] - 0s 5ms/step - loss: 2074.4001\n",
            "Epoch 191/200\n",
            "57/57 [==============================] - 0s 5ms/step - loss: 2074.2852\n",
            "Epoch 192/200\n",
            "57/57 [==============================] - 0s 5ms/step - loss: 2074.2285\n",
            "Epoch 193/200\n",
            "57/57 [==============================] - 0s 5ms/step - loss: 2074.3872\n",
            "Epoch 194/200\n",
            "57/57 [==============================] - 0s 4ms/step - loss: 2074.2349\n",
            "Epoch 195/200\n",
            "57/57 [==============================] - 0s 5ms/step - loss: 2074.4023\n",
            "Epoch 196/200\n",
            "57/57 [==============================] - 0s 5ms/step - loss: 2074.3242\n",
            "Epoch 197/200\n",
            "57/57 [==============================] - 0s 4ms/step - loss: 2074.2729\n",
            "Epoch 198/200\n",
            "57/57 [==============================] - 0s 4ms/step - loss: 2074.3564\n",
            "Epoch 199/200\n",
            "57/57 [==============================] - 0s 5ms/step - loss: 2074.3613\n",
            "Epoch 200/200\n",
            "57/57 [==============================] - 0s 5ms/step - loss: 2074.2878\n",
            "Model Number: 810 with model WindowRegression in generation 7 of 10\n"
          ]
        },
        {
          "output_type": "stream",
          "name": "stderr",
          "text": [
            "/usr/local/lib/python3.7/dist-packages/sklearn/neural_network/_multilayer_perceptron.py:549: ConvergenceWarning:\n",
            "\n",
            "lbfgs failed to converge (status=1):\n",
            "STOP: TOTAL NO. of ITERATIONS REACHED LIMIT.\n",
            "\n",
            "Increase the number of iterations (max_iter) or scale the data as shown in:\n",
            "    https://scikit-learn.org/stable/modules/preprocessing.html\n",
            "\n",
            "/usr/local/lib/python3.7/dist-packages/sklearn/svm/_base.py:1208: ConvergenceWarning:\n",
            "\n",
            "Liblinear failed to converge, increase the number of iterations.\n",
            "\n",
            "/usr/local/lib/python3.7/dist-packages/sklearn/svm/_base.py:1208: ConvergenceWarning:\n",
            "\n",
            "Liblinear failed to converge, increase the number of iterations.\n",
            "\n"
          ]
        },
        {
          "output_type": "stream",
          "name": "stdout",
          "text": [
            "Model Number: 811 with model WindowRegression in generation 7 of 10\n"
          ]
        },
        {
          "output_type": "stream",
          "name": "stderr",
          "text": [
            "/usr/local/lib/python3.7/dist-packages/sklearn/svm/_base.py:1208: ConvergenceWarning:\n",
            "\n",
            "Liblinear failed to converge, increase the number of iterations.\n",
            "\n",
            "/usr/local/lib/python3.7/dist-packages/sklearn/svm/_base.py:1208: ConvergenceWarning:\n",
            "\n",
            "Liblinear failed to converge, increase the number of iterations.\n",
            "\n",
            "/usr/local/lib/python3.7/dist-packages/sklearn/svm/_base.py:1208: ConvergenceWarning:\n",
            "\n",
            "Liblinear failed to converge, increase the number of iterations.\n",
            "\n"
          ]
        },
        {
          "output_type": "stream",
          "name": "stdout",
          "text": [
            "Model Number: 812 with model WindowRegression in generation 7 of 10\n",
            "Model Number: 813 with model GLS in generation 7 of 10\n",
            "Model Number: 814 with model LastValueNaive in generation 7 of 10\n",
            "Model Number: 815 with model NVAR in generation 7 of 10\n"
          ]
        },
        {
          "output_type": "stream",
          "name": "stderr",
          "text": [
            "/usr/local/lib/python3.7/dist-packages/sklearn/linear_model/_glm/link.py:90: RuntimeWarning:\n",
            "\n",
            "overflow encountered in exp\n",
            "\n",
            "/usr/local/lib/python3.7/dist-packages/sklearn/linear_model/_glm/link.py:93: RuntimeWarning:\n",
            "\n",
            "overflow encountered in exp\n",
            "\n",
            "/usr/local/lib/python3.7/dist-packages/sklearn/_loss/glm_distribution.py:132: RuntimeWarning:\n",
            "\n",
            "invalid value encountered in true_divide\n",
            "\n",
            "/usr/local/lib/python3.7/dist-packages/sklearn/linear_model/_glm/link.py:90: RuntimeWarning:\n",
            "\n",
            "overflow encountered in exp\n",
            "\n",
            "/usr/local/lib/python3.7/dist-packages/sklearn/linear_model/_glm/link.py:93: RuntimeWarning:\n",
            "\n",
            "overflow encountered in exp\n",
            "\n",
            "/usr/local/lib/python3.7/dist-packages/sklearn/_loss/glm_distribution.py:132: RuntimeWarning:\n",
            "\n",
            "invalid value encountered in true_divide\n",
            "\n",
            "/usr/local/lib/python3.7/dist-packages/sklearn/linear_model/_glm/link.py:90: RuntimeWarning:\n",
            "\n",
            "overflow encountered in exp\n",
            "\n",
            "/usr/local/lib/python3.7/dist-packages/sklearn/linear_model/_glm/link.py:93: RuntimeWarning:\n",
            "\n",
            "overflow encountered in exp\n",
            "\n",
            "/usr/local/lib/python3.7/dist-packages/sklearn/_loss/glm_distribution.py:132: RuntimeWarning:\n",
            "\n",
            "invalid value encountered in true_divide\n",
            "\n",
            "/usr/local/lib/python3.7/dist-packages/sklearn/_loss/glm_distribution.py:323: RuntimeWarning:\n",
            "\n",
            "invalid value encountered in add\n",
            "\n",
            "/usr/local/lib/python3.7/dist-packages/sklearn/linear_model/_glm/glm.py:323: ConvergenceWarning:\n",
            "\n",
            "lbfgs failed to converge (status=2):\n",
            "ABNORMAL_TERMINATION_IN_LNSRCH.\n",
            "\n",
            "Increase the number of iterations (max_iter) or scale the data as shown in:\n",
            "    https://scikit-learn.org/stable/modules/preprocessing.html\n",
            "\n"
          ]
        },
        {
          "output_type": "stream",
          "name": "stdout",
          "text": [
            "Model Number: 816 with model SectionalMotif in generation 7 of 10\n",
            "Model Number: 817 with model FBProphet in generation 7 of 10\n"
          ]
        },
        {
          "output_type": "stream",
          "name": "stderr",
          "text": [
            "INFO:fbprophet:Disabling daily seasonality. Run prophet with daily_seasonality=True to override this.\n"
          ]
        },
        {
          "output_type": "stream",
          "name": "stdout",
          "text": [
            "Model Number: 818 with model WindowRegression in generation 7 of 10\n"
          ]
        },
        {
          "output_type": "stream",
          "name": "stderr",
          "text": [
            "/usr/local/lib/python3.7/dist-packages/sklearn/linear_model/_glm/link.py:90: RuntimeWarning:\n",
            "\n",
            "overflow encountered in exp\n",
            "\n",
            "/usr/local/lib/python3.7/dist-packages/sklearn/linear_model/_glm/link.py:93: RuntimeWarning:\n",
            "\n",
            "overflow encountered in exp\n",
            "\n",
            "/usr/local/lib/python3.7/dist-packages/sklearn/_loss/glm_distribution.py:132: RuntimeWarning:\n",
            "\n",
            "invalid value encountered in true_divide\n",
            "\n",
            "/usr/local/lib/python3.7/dist-packages/sklearn/_loss/glm_distribution.py:323: RuntimeWarning:\n",
            "\n",
            "invalid value encountered in add\n",
            "\n",
            "/usr/local/lib/python3.7/dist-packages/sklearn/linear_model/_glm/glm.py:323: ConvergenceWarning:\n",
            "\n",
            "lbfgs failed to converge (status=2):\n",
            "ABNORMAL_TERMINATION_IN_LNSRCH.\n",
            "\n",
            "Increase the number of iterations (max_iter) or scale the data as shown in:\n",
            "    https://scikit-learn.org/stable/modules/preprocessing.html\n",
            "\n",
            "INFO:fbprophet:Disabling daily seasonality. Run prophet with daily_seasonality=True to override this.\n"
          ]
        },
        {
          "output_type": "stream",
          "name": "stdout",
          "text": [
            "Model Number: 819 with model FBProphet in generation 7 of 10\n",
            "Model Number: 820 with model WindowRegression in generation 7 of 10\n",
            "Model Number: 821 with model MultivariateRegression in generation 7 of 10\n"
          ]
        },
        {
          "output_type": "stream",
          "name": "stderr",
          "text": [
            "/usr/local/lib/python3.7/dist-packages/sklearn/_loss/glm_distribution.py:132: RuntimeWarning:\n",
            "\n",
            "divide by zero encountered in true_divide\n",
            "\n",
            "/usr/local/lib/python3.7/dist-packages/sklearn/linear_model/_glm/glm.py:42: RuntimeWarning:\n",
            "\n",
            "invalid value encountered in multiply\n",
            "\n",
            "/usr/local/lib/python3.7/dist-packages/sklearn/_loss/glm_distribution.py:331: RuntimeWarning:\n",
            "\n",
            "divide by zero encountered in power\n",
            "\n"
          ]
        },
        {
          "output_type": "stream",
          "name": "stdout",
          "text": [
            "Epoch 1/50\n",
            "57/57 [==============================] - 4s 3ms/step - loss: 0.1229\n",
            "Epoch 2/50\n",
            "57/57 [==============================] - 0s 4ms/step - loss: 0.0849\n",
            "Epoch 3/50\n",
            "57/57 [==============================] - 0s 3ms/step - loss: 0.0432\n",
            "Epoch 4/50\n",
            "57/57 [==============================] - 0s 4ms/step - loss: 0.0430\n",
            "Epoch 5/50\n",
            "57/57 [==============================] - 0s 4ms/step - loss: 0.0505\n",
            "Epoch 6/50\n",
            "57/57 [==============================] - 0s 4ms/step - loss: 0.0417\n",
            "Epoch 7/50\n",
            "57/57 [==============================] - 0s 4ms/step - loss: 0.0294\n",
            "Epoch 8/50\n",
            "57/57 [==============================] - 0s 4ms/step - loss: 0.0324\n",
            "Epoch 9/50\n",
            "57/57 [==============================] - 0s 4ms/step - loss: 0.0317\n",
            "Epoch 10/50\n",
            "57/57 [==============================] - 0s 4ms/step - loss: 0.0270\n",
            "Epoch 11/50\n",
            "57/57 [==============================] - 0s 4ms/step - loss: 0.0229\n",
            "Epoch 12/50\n",
            "57/57 [==============================] - 0s 3ms/step - loss: 0.0164\n",
            "Epoch 13/50\n",
            "57/57 [==============================] - 0s 3ms/step - loss: 0.0249\n",
            "Epoch 14/50\n",
            "57/57 [==============================] - 0s 4ms/step - loss: 0.0188\n",
            "Epoch 15/50\n",
            "57/57 [==============================] - 0s 4ms/step - loss: 0.0130\n",
            "Epoch 16/50\n",
            "57/57 [==============================] - 0s 4ms/step - loss: 0.0102\n",
            "Epoch 17/50\n",
            "57/57 [==============================] - 0s 3ms/step - loss: 0.0118\n",
            "Epoch 18/50\n",
            "57/57 [==============================] - 0s 4ms/step - loss: 0.0105\n",
            "Epoch 19/50\n",
            "57/57 [==============================] - 0s 4ms/step - loss: 0.0114\n",
            "Epoch 20/50\n",
            "57/57 [==============================] - 0s 4ms/step - loss: 0.0139\n",
            "Epoch 21/50\n",
            "57/57 [==============================] - 0s 3ms/step - loss: 0.0101\n",
            "Epoch 22/50\n",
            "57/57 [==============================] - 0s 4ms/step - loss: 0.0108\n",
            "Epoch 23/50\n",
            "57/57 [==============================] - 0s 4ms/step - loss: 0.0111\n",
            "Epoch 24/50\n",
            "57/57 [==============================] - 0s 3ms/step - loss: 0.0094\n",
            "Epoch 25/50\n",
            "57/57 [==============================] - 0s 3ms/step - loss: 0.0091\n",
            "Epoch 26/50\n",
            "57/57 [==============================] - 0s 4ms/step - loss: 0.0110\n",
            "Epoch 27/50\n",
            "57/57 [==============================] - 0s 4ms/step - loss: 0.0116\n",
            "Epoch 28/50\n",
            "57/57 [==============================] - 0s 4ms/step - loss: 0.0085\n",
            "Epoch 29/50\n",
            "57/57 [==============================] - 0s 4ms/step - loss: 0.0091\n",
            "Epoch 30/50\n",
            "57/57 [==============================] - 0s 3ms/step - loss: 0.0095\n",
            "Epoch 31/50\n",
            "57/57 [==============================] - 0s 3ms/step - loss: 0.0091\n",
            "Epoch 32/50\n",
            "57/57 [==============================] - 0s 3ms/step - loss: 0.0088\n",
            "Epoch 33/50\n",
            "57/57 [==============================] - 0s 3ms/step - loss: 0.0086\n",
            "Epoch 34/50\n",
            "57/57 [==============================] - 0s 3ms/step - loss: 0.0115\n",
            "Epoch 35/50\n",
            "57/57 [==============================] - 0s 3ms/step - loss: 0.0094\n",
            "Epoch 36/50\n",
            "57/57 [==============================] - 0s 4ms/step - loss: 0.0090\n",
            "Epoch 37/50\n",
            "57/57 [==============================] - 0s 4ms/step - loss: 0.0086\n",
            "Epoch 38/50\n",
            "57/57 [==============================] - 0s 3ms/step - loss: 0.0144\n",
            "Epoch 39/50\n",
            "57/57 [==============================] - 0s 4ms/step - loss: 0.0093\n",
            "Epoch 40/50\n",
            "57/57 [==============================] - 0s 4ms/step - loss: 0.0086\n",
            "Epoch 41/50\n",
            "57/57 [==============================] - 0s 3ms/step - loss: 0.0119\n",
            "Epoch 42/50\n",
            "57/57 [==============================] - 0s 4ms/step - loss: 0.0087\n",
            "Epoch 43/50\n",
            "57/57 [==============================] - 0s 4ms/step - loss: 0.0095\n",
            "Epoch 44/50\n",
            "57/57 [==============================] - 0s 3ms/step - loss: 0.0084\n",
            "Epoch 45/50\n",
            "57/57 [==============================] - 0s 3ms/step - loss: 0.0093\n",
            "Epoch 46/50\n",
            "57/57 [==============================] - 0s 4ms/step - loss: 0.0099\n",
            "Epoch 47/50\n",
            "57/57 [==============================] - 0s 4ms/step - loss: 0.0109\n",
            "Epoch 48/50\n",
            "57/57 [==============================] - 0s 4ms/step - loss: 0.0095\n",
            "Epoch 49/50\n",
            "57/57 [==============================] - 0s 4ms/step - loss: 0.0116\n",
            "Epoch 50/50\n",
            "57/57 [==============================] - 0s 4ms/step - loss: 0.0095\n"
          ]
        },
        {
          "output_type": "stream",
          "name": "stderr",
          "text": [
            "INFO:fbprophet:Disabling daily seasonality. Run prophet with daily_seasonality=True to override this.\n"
          ]
        },
        {
          "output_type": "stream",
          "name": "stdout",
          "text": [
            "Model Number: 822 with model FBProphet in generation 7 of 10\n",
            "Model Number: 823 with model ETS in generation 7 of 10\n",
            "ETS error TypeError(\"__init__() got an unexpected keyword argument 'damped_trend'\")\n",
            "Model Number: 824 with model LastValueNaive in generation 7 of 10\n",
            "Model Number: 825 with model NVAR in generation 7 of 10\n",
            "Model Number: 826 with model UnivariateRegression in generation 7 of 10\n",
            "Model Number: 827 with model DatepartRegression in generation 7 of 10\n"
          ]
        },
        {
          "output_type": "stream",
          "name": "stderr",
          "text": [
            "/usr/local/lib/python3.7/dist-packages/autots/tools/probabilistic.py:67: RuntimeWarning:\n",
            "\n",
            "invalid value encountered in true_divide\n",
            "\n",
            "/usr/local/lib/python3.7/dist-packages/autots/tools/probabilistic.py:68: RuntimeWarning:\n",
            "\n",
            "divide by zero encountered in true_divide\n",
            "\n",
            "/usr/local/lib/python3.7/dist-packages/sklearn/linear_model/_coordinate_descent.py:648: ConvergenceWarning:\n",
            "\n",
            "Objective did not converge. You might want to increase the number of iterations, check the scale of the features or consider increasing regularisation. Duality gap: 0.000e+00, tolerance: 0.000e+00\n",
            "\n",
            "/usr/local/lib/python3.7/dist-packages/autots/tools/probabilistic.py:67: RuntimeWarning:\n",
            "\n",
            "invalid value encountered in true_divide\n",
            "\n",
            "/usr/local/lib/python3.7/dist-packages/autots/tools/probabilistic.py:68: RuntimeWarning:\n",
            "\n",
            "divide by zero encountered in true_divide\n",
            "\n"
          ]
        },
        {
          "output_type": "stream",
          "name": "stdout",
          "text": [
            "Model Number: 828 with model NVAR in generation 7 of 10\n"
          ]
        },
        {
          "output_type": "stream",
          "name": "stderr",
          "text": [
            "INFO:fbprophet:Disabling daily seasonality. Run prophet with daily_seasonality=True to override this.\n"
          ]
        },
        {
          "output_type": "stream",
          "name": "stdout",
          "text": [
            "Model Number: 829 with model FBProphet in generation 7 of 10\n",
            "Model Number: 830 with model LastValueNaive in generation 7 of 10\n",
            "Model Number: 831 with model ConstantNaive in generation 7 of 10\n",
            "Model Number: 832 with model UnivariateMotif in generation 7 of 10\n",
            "Model Number: 833 with model MultivariateMotif in generation 7 of 10\n",
            "Model Number: 834 with model NVAR in generation 7 of 10\n",
            "Model Number: 835 with model SeasonalNaive in generation 7 of 10\n",
            "Model Number: 836 with model FBProphet in generation 7 of 10\n"
          ]
        },
        {
          "output_type": "stream",
          "name": "stderr",
          "text": [
            "INFO:fbprophet:Disabling daily seasonality. Run prophet with daily_seasonality=True to override this.\n"
          ]
        },
        {
          "output_type": "stream",
          "name": "stdout",
          "text": [
            "Model Number: 837 with model LastValueNaive in generation 7 of 10\n",
            "Model Number: 838 with model MultivariateRegression in generation 7 of 10\n"
          ]
        },
        {
          "output_type": "stream",
          "name": "stderr",
          "text": [
            "/usr/local/lib/python3.7/dist-packages/sklearn/linear_model/_glm/link.py:90: RuntimeWarning:\n",
            "\n",
            "overflow encountered in exp\n",
            "\n",
            "/usr/local/lib/python3.7/dist-packages/sklearn/linear_model/_glm/link.py:93: RuntimeWarning:\n",
            "\n",
            "overflow encountered in exp\n",
            "\n",
            "/usr/local/lib/python3.7/dist-packages/sklearn/_loss/glm_distribution.py:132: RuntimeWarning:\n",
            "\n",
            "invalid value encountered in true_divide\n",
            "\n"
          ]
        },
        {
          "output_type": "stream",
          "name": "stdout",
          "text": [
            "Model Number: 839 with model UnivariateMotif in generation 7 of 10\n",
            "Model Number: 840 with model DatepartRegression in generation 7 of 10\n"
          ]
        },
        {
          "output_type": "stream",
          "name": "stderr",
          "text": [
            "[Parallel(n_jobs=-2)]: Using backend SequentialBackend with 1 concurrent workers.\n"
          ]
        },
        {
          "output_type": "stream",
          "name": "stdout",
          "text": [
            "Model Number: 841 with model UnivariateMotif in generation 7 of 10\n",
            "Model Number: 842 with model UnivariateMotif in generation 7 of 10\n"
          ]
        },
        {
          "output_type": "stream",
          "name": "stderr",
          "text": [
            "[Parallel(n_jobs=-2)]: Done 300 out of 300 | elapsed:    0.6s finished\n",
            "[Parallel(n_jobs=1)]: Using backend SequentialBackend with 1 concurrent workers.\n",
            "[Parallel(n_jobs=1)]: Done 300 out of 300 | elapsed:    0.0s finished\n"
          ]
        },
        {
          "output_type": "stream",
          "name": "stdout",
          "text": [
            "Model Number: 843 with model GLS in generation 7 of 10\n",
            "Model Number: 844 with model UnivariateRegression in generation 7 of 10\n",
            "Template Eval Error: ValueError(\"regression_type='User' but not future_regressor supplied.\") in model 844: UnivariateRegression\n",
            "Model Number: 845 with model ConstantNaive in generation 7 of 10\n",
            "Model Number: 846 with model MultivariateMotif in generation 7 of 10\n",
            "Model Number: 847 with model UnivariateRegression in generation 7 of 10\n",
            "Model Number: 848 with model WindowRegression in generation 7 of 10\n",
            "Model Number: 849 with model AverageValueNaive in generation 7 of 10\n",
            "Model Number: 850 with model GLS in generation 7 of 10\n",
            "Model Number: 851 with model SectionalMotif in generation 7 of 10\n",
            "Model Number: 852 with model SeasonalNaive in generation 7 of 10\n",
            "Model Number: 853 with model MultivariateMotif in generation 7 of 10\n"
          ]
        },
        {
          "output_type": "stream",
          "name": "stderr",
          "text": [
            "/usr/local/lib/python3.7/dist-packages/scipy/interpolate/polyint.py:511: RuntimeWarning:\n",
            "\n",
            "overflow encountered in multiply\n",
            "\n",
            "/usr/local/lib/python3.7/dist-packages/scipy/interpolate/polyint.py:513: RuntimeWarning:\n",
            "\n",
            "divide by zero encountered in reciprocal\n",
            "\n",
            "/usr/local/lib/python3.7/dist-packages/numpy/core/fromnumeric.py:86: RuntimeWarning:\n",
            "\n",
            "invalid value encountered in reduce\n",
            "\n",
            "/usr/local/lib/python3.7/dist-packages/scipy/interpolate/polyint.py:609: RuntimeWarning:\n",
            "\n",
            "invalid value encountered in true_divide\n",
            "\n"
          ]
        },
        {
          "output_type": "stream",
          "name": "stdout",
          "text": [
            "Model Number: 854 with model SectionalMotif in generation 7 of 10\n",
            "Template Eval Error: Exception('Transformer Detrend failed on fit') in model 854: SectionalMotif\n",
            "Model Number: 855 with model ETS in generation 7 of 10\n",
            "ETS error TypeError(\"__init__() got an unexpected keyword argument 'damped_trend'\")\n",
            "Model Number: 856 with model MultivariateMotif in generation 7 of 10\n",
            "Model Number: 857 with model AverageValueNaive in generation 7 of 10\n"
          ]
        },
        {
          "output_type": "stream",
          "name": "stderr",
          "text": [
            "/usr/local/lib/python3.7/dist-packages/sklearn/linear_model/_glm/link.py:90: RuntimeWarning:\n",
            "\n",
            "overflow encountered in exp\n",
            "\n",
            "/usr/local/lib/python3.7/dist-packages/sklearn/linear_model/_glm/link.py:93: RuntimeWarning:\n",
            "\n",
            "overflow encountered in exp\n",
            "\n",
            "/usr/local/lib/python3.7/dist-packages/sklearn/_loss/glm_distribution.py:132: RuntimeWarning:\n",
            "\n",
            "invalid value encountered in true_divide\n",
            "\n"
          ]
        },
        {
          "output_type": "stream",
          "name": "stdout",
          "text": [
            "Model Number: 858 with model SeasonalNaive in generation 7 of 10\n",
            "Model Number: 859 with model SectionalMotif in generation 7 of 10\n",
            "Model Number: 860 with model SectionalMotif in generation 7 of 10\n",
            "Model Number: 861 with model NVAR in generation 7 of 10\n",
            "Model Number: 862 with model ConstantNaive in generation 7 of 10\n",
            "Model Number: 863 with model NVAR in generation 7 of 10\n",
            "Model Number: 864 with model FBProphet in generation 7 of 10\n"
          ]
        },
        {
          "output_type": "stream",
          "name": "stderr",
          "text": [
            "INFO:fbprophet:Disabling daily seasonality. Run prophet with daily_seasonality=True to override this.\n",
            "INFO:fbprophet:Disabling daily seasonality. Run prophet with daily_seasonality=True to override this.\n"
          ]
        },
        {
          "output_type": "stream",
          "name": "stdout",
          "text": [
            "Model Number: 865 with model FBProphet in generation 7 of 10\n",
            "Model Number: 866 with model NVAR in generation 7 of 10\n",
            "Model Number: 867 with model ConstantNaive in generation 7 of 10\n",
            "Template Eval Error: Exception('Transformer BTCD failed on fit') in model 867: ConstantNaive\n",
            "Model Number: 868 with model SectionalMotif in generation 7 of 10\n",
            "Model Number: 869 with model MultivariateRegression in generation 7 of 10\n"
          ]
        },
        {
          "output_type": "stream",
          "name": "stderr",
          "text": [
            "/usr/local/lib/python3.7/dist-packages/sklearn/linear_model/_glm/link.py:90: RuntimeWarning:\n",
            "\n",
            "overflow encountered in exp\n",
            "\n",
            "/usr/local/lib/python3.7/dist-packages/sklearn/linear_model/_glm/link.py:93: RuntimeWarning:\n",
            "\n",
            "overflow encountered in exp\n",
            "\n",
            "/usr/local/lib/python3.7/dist-packages/sklearn/_loss/glm_distribution.py:132: RuntimeWarning:\n",
            "\n",
            "invalid value encountered in true_divide\n",
            "\n",
            "/usr/local/lib/python3.7/dist-packages/sklearn/_loss/glm_distribution.py:323: RuntimeWarning:\n",
            "\n",
            "invalid value encountered in add\n",
            "\n",
            "/usr/local/lib/python3.7/dist-packages/sklearn/linear_model/_glm/glm.py:323: ConvergenceWarning:\n",
            "\n",
            "lbfgs failed to converge (status=2):\n",
            "ABNORMAL_TERMINATION_IN_LNSRCH.\n",
            "\n",
            "Increase the number of iterations (max_iter) or scale the data as shown in:\n",
            "    https://scikit-learn.org/stable/modules/preprocessing.html\n",
            "\n"
          ]
        },
        {
          "output_type": "stream",
          "name": "stdout",
          "text": [
            "Epoch 1/200\n",
            "57/57 [==============================] - 5s 4ms/step - loss: 20722990831583480784034463744.0000\n",
            "Epoch 2/200\n",
            "57/57 [==============================] - 0s 4ms/step - loss: 20722988470400239349211856896.0000\n",
            "Epoch 3/200\n",
            "57/57 [==============================] - 0s 4ms/step - loss: 20722993192766722218857070592.0000\n",
            "Epoch 4/200\n",
            "57/57 [==============================] - 0s 4ms/step - loss: 20722995553949963653679677440.0000\n",
            "Epoch 5/200\n",
            "57/57 [==============================] - 0s 5ms/step - loss: 20722990831583480784034463744.0000\n",
            "Epoch 6/200\n",
            "57/57 [==============================] - 0s 4ms/step - loss: 20722990831583480784034463744.0000\n",
            "Epoch 7/200\n",
            "57/57 [==============================] - 0s 4ms/step - loss: 20722993192766722218857070592.0000\n",
            "Epoch 8/200\n",
            "57/57 [==============================] - 0s 5ms/step - loss: 20722995553949963653679677440.0000\n",
            "Epoch 9/200\n",
            "57/57 [==============================] - 0s 4ms/step - loss: 20722988470400239349211856896.0000\n",
            "Epoch 10/200\n",
            "57/57 [==============================] - 0s 4ms/step - loss: 20722993192766722218857070592.0000\n",
            "Epoch 11/200\n",
            "57/57 [==============================] - 0s 4ms/step - loss: 20722990831583480784034463744.0000\n",
            "Epoch 12/200\n",
            "57/57 [==============================] - 0s 4ms/step - loss: 20722990831583480784034463744.0000\n",
            "Epoch 13/200\n",
            "57/57 [==============================] - 0s 5ms/step - loss: 20722995553949963653679677440.0000\n",
            "Epoch 14/200\n",
            "57/57 [==============================] - 0s 4ms/step - loss: 20722988470400239349211856896.0000\n",
            "Epoch 15/200\n",
            "57/57 [==============================] - 0s 4ms/step - loss: 20722995553949963653679677440.0000\n",
            "Epoch 16/200\n",
            "57/57 [==============================] - 0s 4ms/step - loss: 20722990831583480784034463744.0000\n",
            "Epoch 17/200\n",
            "57/57 [==============================] - 0s 4ms/step - loss: 20722990831583480784034463744.0000\n",
            "Epoch 18/200\n",
            "57/57 [==============================] - 0s 5ms/step - loss: 20722993192766722218857070592.0000\n",
            "Epoch 19/200\n",
            "57/57 [==============================] - 0s 5ms/step - loss: 20722990831583480784034463744.0000\n",
            "Epoch 20/200\n",
            "57/57 [==============================] - 0s 4ms/step - loss: 20722997915133205088502284288.0000\n",
            "Epoch 21/200\n",
            "57/57 [==============================] - 0s 5ms/step - loss: 20722990831583480784034463744.0000\n",
            "Epoch 22/200\n",
            "57/57 [==============================] - 0s 4ms/step - loss: 20722990831583480784034463744.0000\n",
            "Epoch 23/200\n",
            "57/57 [==============================] - 0s 4ms/step - loss: 20722993192766722218857070592.0000\n",
            "Epoch 24/200\n",
            "57/57 [==============================] - 0s 4ms/step - loss: 20722990831583480784034463744.0000\n",
            "Epoch 25/200\n",
            "57/57 [==============================] - 0s 5ms/step - loss: 20722990831583480784034463744.0000\n",
            "Epoch 26/200\n",
            "57/57 [==============================] - 0s 4ms/step - loss: 20722993192766722218857070592.0000\n",
            "Epoch 27/200\n",
            "57/57 [==============================] - 0s 4ms/step - loss: 20722993192766722218857070592.0000\n",
            "Epoch 28/200\n",
            "57/57 [==============================] - 0s 4ms/step - loss: 20722997915133205088502284288.0000\n",
            "Epoch 29/200\n",
            "57/57 [==============================] - 0s 4ms/step - loss: 20722990831583480784034463744.0000\n",
            "Epoch 30/200\n",
            "57/57 [==============================] - 0s 4ms/step - loss: 20722993192766722218857070592.0000\n",
            "Epoch 31/200\n",
            "57/57 [==============================] - 0s 4ms/step - loss: 20722990831583480784034463744.0000\n",
            "Epoch 32/200\n",
            "57/57 [==============================] - 0s 5ms/step - loss: 20722990831583480784034463744.0000\n",
            "Epoch 33/200\n",
            "57/57 [==============================] - 0s 4ms/step - loss: 20722988470400239349211856896.0000\n",
            "Epoch 34/200\n",
            "57/57 [==============================] - 0s 4ms/step - loss: 20722993192766722218857070592.0000\n",
            "Epoch 35/200\n",
            "57/57 [==============================] - 0s 5ms/step - loss: 20722990831583480784034463744.0000\n",
            "Epoch 36/200\n",
            "57/57 [==============================] - 0s 4ms/step - loss: 20722990831583480784034463744.0000\n",
            "Epoch 37/200\n",
            "57/57 [==============================] - 0s 5ms/step - loss: 20722990831583480784034463744.0000\n",
            "Epoch 38/200\n",
            "57/57 [==============================] - 0s 4ms/step - loss: 20722993192766722218857070592.0000\n",
            "Epoch 39/200\n",
            "57/57 [==============================] - 0s 4ms/step - loss: 20722997915133205088502284288.0000\n",
            "Epoch 40/200\n",
            "57/57 [==============================] - 0s 4ms/step - loss: 20722995553949963653679677440.0000\n",
            "Epoch 41/200\n",
            "57/57 [==============================] - 0s 5ms/step - loss: 20722990831583480784034463744.0000\n",
            "Epoch 42/200\n",
            "57/57 [==============================] - 0s 4ms/step - loss: 20722993192766722218857070592.0000\n",
            "Epoch 43/200\n",
            "57/57 [==============================] - 0s 4ms/step - loss: 20722990831583480784034463744.0000\n",
            "Epoch 44/200\n",
            "57/57 [==============================] - 0s 5ms/step - loss: 20722990831583480784034463744.0000\n",
            "Epoch 45/200\n",
            "57/57 [==============================] - 0s 5ms/step - loss: 20722990831583480784034463744.0000\n",
            "Epoch 46/200\n",
            "57/57 [==============================] - 0s 4ms/step - loss: 20722995553949963653679677440.0000\n",
            "Epoch 47/200\n",
            "57/57 [==============================] - 0s 5ms/step - loss: 20722995553949963653679677440.0000\n",
            "Epoch 48/200\n",
            "57/57 [==============================] - 0s 5ms/step - loss: 20722993192766722218857070592.0000\n",
            "Epoch 49/200\n",
            "57/57 [==============================] - 0s 5ms/step - loss: 20722990831583480784034463744.0000\n",
            "Epoch 50/200\n",
            "57/57 [==============================] - 0s 4ms/step - loss: 20722993192766722218857070592.0000\n",
            "Epoch 51/200\n",
            "57/57 [==============================] - 0s 4ms/step - loss: 20722993192766722218857070592.0000\n",
            "Epoch 52/200\n",
            "57/57 [==============================] - 0s 4ms/step - loss: 20722988470400239349211856896.0000\n",
            "Epoch 53/200\n",
            "57/57 [==============================] - 0s 4ms/step - loss: 20722993192766722218857070592.0000\n",
            "Epoch 54/200\n",
            "57/57 [==============================] - 0s 5ms/step - loss: 20722993192766722218857070592.0000\n",
            "Epoch 55/200\n",
            "57/57 [==============================] - 0s 5ms/step - loss: 20722988470400239349211856896.0000\n",
            "Epoch 56/200\n",
            "57/57 [==============================] - 0s 5ms/step - loss: 20722993192766722218857070592.0000\n",
            "Epoch 57/200\n",
            "57/57 [==============================] - 0s 4ms/step - loss: 20722990831583480784034463744.0000\n",
            "Epoch 58/200\n",
            "57/57 [==============================] - 0s 4ms/step - loss: 20722997915133205088502284288.0000\n",
            "Epoch 59/200\n",
            "57/57 [==============================] - 0s 5ms/step - loss: 20722990831583480784034463744.0000\n",
            "Epoch 60/200\n",
            "57/57 [==============================] - 0s 4ms/step - loss: 20722995553949963653679677440.0000\n",
            "Epoch 61/200\n",
            "57/57 [==============================] - 0s 4ms/step - loss: 20722993192766722218857070592.0000\n",
            "Epoch 62/200\n",
            "57/57 [==============================] - 0s 5ms/step - loss: 20722990831583480784034463744.0000\n",
            "Epoch 63/200\n",
            "57/57 [==============================] - 0s 4ms/step - loss: 20722993192766722218857070592.0000\n",
            "Epoch 64/200\n",
            "57/57 [==============================] - 0s 4ms/step - loss: 20722993192766722218857070592.0000\n",
            "Epoch 65/200\n",
            "57/57 [==============================] - 0s 4ms/step - loss: 20722990831583480784034463744.0000\n",
            "Epoch 66/200\n",
            "57/57 [==============================] - 0s 4ms/step - loss: 20722990831583480784034463744.0000\n",
            "Epoch 67/200\n",
            "57/57 [==============================] - 0s 4ms/step - loss: 20722990831583480784034463744.0000\n",
            "Epoch 68/200\n",
            "57/57 [==============================] - 0s 4ms/step - loss: 20722988470400239349211856896.0000\n",
            "Epoch 69/200\n",
            "57/57 [==============================] - 0s 5ms/step - loss: 20722990831583480784034463744.0000\n",
            "Epoch 70/200\n",
            "57/57 [==============================] - 0s 4ms/step - loss: 20722993192766722218857070592.0000\n",
            "Epoch 71/200\n",
            "57/57 [==============================] - 0s 4ms/step - loss: 20722995553949963653679677440.0000\n",
            "Epoch 72/200\n",
            "57/57 [==============================] - 0s 4ms/step - loss: 20722988470400239349211856896.0000\n",
            "Epoch 73/200\n",
            "57/57 [==============================] - 0s 4ms/step - loss: 20722990831583480784034463744.0000\n",
            "Epoch 74/200\n",
            "57/57 [==============================] - 0s 4ms/step - loss: 20722993192766722218857070592.0000\n",
            "Epoch 75/200\n",
            "57/57 [==============================] - 0s 5ms/step - loss: 20722990831583480784034463744.0000\n",
            "Epoch 76/200\n",
            "57/57 [==============================] - 0s 4ms/step - loss: 20722993192766722218857070592.0000\n",
            "Epoch 77/200\n",
            "57/57 [==============================] - 0s 5ms/step - loss: 20722990831583480784034463744.0000\n",
            "Epoch 78/200\n",
            "57/57 [==============================] - 0s 5ms/step - loss: 20722990831583480784034463744.0000\n",
            "Epoch 79/200\n",
            "57/57 [==============================] - 0s 4ms/step - loss: 20722988470400239349211856896.0000\n",
            "Epoch 80/200\n",
            "57/57 [==============================] - 0s 4ms/step - loss: 20722993192766722218857070592.0000\n",
            "Epoch 81/200\n",
            "57/57 [==============================] - 0s 4ms/step - loss: 20722993192766722218857070592.0000\n",
            "Epoch 82/200\n",
            "57/57 [==============================] - 0s 5ms/step - loss: 20722993192766722218857070592.0000\n",
            "Epoch 83/200\n",
            "57/57 [==============================] - 0s 5ms/step - loss: 20722995553949963653679677440.0000\n",
            "Epoch 84/200\n",
            "57/57 [==============================] - 0s 5ms/step - loss: 20722988470400239349211856896.0000\n",
            "Epoch 85/200\n",
            "57/57 [==============================] - 0s 4ms/step - loss: 20722997915133205088502284288.0000\n",
            "Epoch 86/200\n",
            "57/57 [==============================] - 0s 4ms/step - loss: 20722993192766722218857070592.0000\n",
            "Epoch 87/200\n",
            "57/57 [==============================] - 0s 5ms/step - loss: 20722990831583480784034463744.0000\n",
            "Epoch 88/200\n",
            "57/57 [==============================] - 0s 5ms/step - loss: 20722995553949963653679677440.0000\n",
            "Epoch 89/200\n",
            "57/57 [==============================] - 0s 4ms/step - loss: 20722995553949963653679677440.0000\n",
            "Epoch 90/200\n",
            "57/57 [==============================] - 0s 4ms/step - loss: 20722990831583480784034463744.0000\n",
            "Epoch 91/200\n",
            "57/57 [==============================] - 0s 4ms/step - loss: 20722997915133205088502284288.0000\n",
            "Epoch 92/200\n",
            "57/57 [==============================] - 0s 5ms/step - loss: 20722993192766722218857070592.0000\n",
            "Epoch 93/200\n",
            "57/57 [==============================] - 0s 4ms/step - loss: 20722988470400239349211856896.0000\n",
            "Epoch 94/200\n",
            "57/57 [==============================] - 0s 4ms/step - loss: 20722990831583480784034463744.0000\n",
            "Epoch 95/200\n",
            "57/57 [==============================] - 0s 5ms/step - loss: 20722990831583480784034463744.0000\n",
            "Epoch 96/200\n",
            "57/57 [==============================] - 0s 5ms/step - loss: 20722993192766722218857070592.0000\n",
            "Epoch 97/200\n",
            "57/57 [==============================] - 0s 4ms/step - loss: 20722995553949963653679677440.0000\n",
            "Epoch 98/200\n",
            "57/57 [==============================] - 0s 5ms/step - loss: 20722990831583480784034463744.0000\n",
            "Epoch 99/200\n",
            "57/57 [==============================] - 0s 4ms/step - loss: 20722993192766722218857070592.0000\n",
            "Epoch 100/200\n",
            "57/57 [==============================] - 0s 4ms/step - loss: 20722993192766722218857070592.0000\n",
            "Epoch 101/200\n",
            "57/57 [==============================] - 0s 4ms/step - loss: 20722990831583480784034463744.0000\n",
            "Epoch 102/200\n",
            "57/57 [==============================] - 0s 4ms/step - loss: 20722988470400239349211856896.0000\n",
            "Epoch 103/200\n",
            "57/57 [==============================] - 0s 5ms/step - loss: 20722990831583480784034463744.0000\n",
            "Epoch 104/200\n",
            "57/57 [==============================] - 0s 5ms/step - loss: 20722988470400239349211856896.0000\n",
            "Epoch 105/200\n",
            "57/57 [==============================] - 0s 5ms/step - loss: 20722993192766722218857070592.0000\n",
            "Epoch 106/200\n",
            "57/57 [==============================] - 0s 5ms/step - loss: 20722990831583480784034463744.0000\n",
            "Epoch 107/200\n",
            "57/57 [==============================] - 0s 5ms/step - loss: 20722990831583480784034463744.0000\n",
            "Epoch 108/200\n",
            "57/57 [==============================] - 0s 4ms/step - loss: 20722993192766722218857070592.0000\n",
            "Epoch 109/200\n",
            "57/57 [==============================] - 0s 5ms/step - loss: 20722990831583480784034463744.0000\n",
            "Epoch 110/200\n",
            "57/57 [==============================] - 0s 5ms/step - loss: 20722995553949963653679677440.0000\n",
            "Epoch 111/200\n",
            "57/57 [==============================] - 0s 5ms/step - loss: 20722993192766722218857070592.0000\n",
            "Epoch 112/200\n",
            "57/57 [==============================] - 0s 4ms/step - loss: 20722990831583480784034463744.0000\n",
            "Epoch 113/200\n",
            "57/57 [==============================] - 0s 5ms/step - loss: 20722997915133205088502284288.0000\n",
            "Epoch 114/200\n",
            "57/57 [==============================] - 0s 5ms/step - loss: 20722990831583480784034463744.0000\n",
            "Epoch 115/200\n",
            "57/57 [==============================] - 0s 4ms/step - loss: 20722995553949963653679677440.0000\n",
            "Epoch 116/200\n",
            "57/57 [==============================] - 0s 4ms/step - loss: 20722990831583480784034463744.0000\n",
            "Epoch 117/200\n",
            "57/57 [==============================] - 0s 5ms/step - loss: 20722990831583480784034463744.0000\n",
            "Epoch 118/200\n",
            "57/57 [==============================] - 0s 4ms/step - loss: 20722990831583480784034463744.0000\n",
            "Epoch 119/200\n",
            "57/57 [==============================] - 0s 5ms/step - loss: 20722993192766722218857070592.0000\n",
            "Epoch 120/200\n",
            "57/57 [==============================] - 0s 4ms/step - loss: 20722995553949963653679677440.0000\n",
            "Epoch 121/200\n",
            "57/57 [==============================] - 0s 4ms/step - loss: 20722990831583480784034463744.0000\n",
            "Epoch 122/200\n",
            "57/57 [==============================] - 0s 4ms/step - loss: 20722988470400239349211856896.0000\n",
            "Epoch 123/200\n",
            "57/57 [==============================] - 0s 4ms/step - loss: 20722990831583480784034463744.0000\n",
            "Epoch 124/200\n",
            "57/57 [==============================] - 0s 4ms/step - loss: 20722990831583480784034463744.0000\n",
            "Epoch 125/200\n",
            "57/57 [==============================] - 0s 4ms/step - loss: 20722993192766722218857070592.0000\n",
            "Epoch 126/200\n",
            "57/57 [==============================] - 0s 5ms/step - loss: 20722990831583480784034463744.0000\n",
            "Epoch 127/200\n",
            "57/57 [==============================] - 0s 4ms/step - loss: 20722993192766722218857070592.0000\n",
            "Epoch 128/200\n",
            "57/57 [==============================] - 0s 5ms/step - loss: 20722990831583480784034463744.0000\n",
            "Epoch 129/200\n",
            "57/57 [==============================] - 0s 4ms/step - loss: 20722990831583480784034463744.0000\n",
            "Epoch 130/200\n",
            "57/57 [==============================] - 0s 4ms/step - loss: 20722990831583480784034463744.0000\n",
            "Epoch 131/200\n",
            "57/57 [==============================] - 0s 4ms/step - loss: 20722993192766722218857070592.0000\n",
            "Epoch 132/200\n",
            "57/57 [==============================] - 0s 4ms/step - loss: 20722990831583480784034463744.0000\n",
            "Epoch 133/200\n",
            "57/57 [==============================] - 0s 5ms/step - loss: 20722990831583480784034463744.0000\n",
            "Epoch 134/200\n",
            "57/57 [==============================] - 0s 4ms/step - loss: 20722995553949963653679677440.0000\n",
            "Epoch 135/200\n",
            "57/57 [==============================] - 0s 4ms/step - loss: 20722993192766722218857070592.0000\n",
            "Epoch 136/200\n",
            "57/57 [==============================] - 0s 5ms/step - loss: 20722993192766722218857070592.0000\n",
            "Epoch 137/200\n",
            "57/57 [==============================] - 0s 5ms/step - loss: 20722995553949963653679677440.0000\n",
            "Epoch 138/200\n",
            "57/57 [==============================] - 0s 5ms/step - loss: 20722993192766722218857070592.0000\n",
            "Epoch 139/200\n",
            "57/57 [==============================] - 0s 4ms/step - loss: 20722993192766722218857070592.0000\n",
            "Epoch 140/200\n",
            "57/57 [==============================] - 0s 4ms/step - loss: 20722990831583480784034463744.0000\n",
            "Epoch 141/200\n",
            "57/57 [==============================] - 0s 5ms/step - loss: 20722990831583480784034463744.0000\n",
            "Epoch 142/200\n",
            "57/57 [==============================] - 0s 5ms/step - loss: 20722997915133205088502284288.0000\n",
            "Epoch 143/200\n",
            "57/57 [==============================] - 0s 4ms/step - loss: 20722993192766722218857070592.0000\n",
            "Epoch 144/200\n",
            "57/57 [==============================] - 0s 5ms/step - loss: 20722988470400239349211856896.0000\n",
            "Epoch 145/200\n",
            "57/57 [==============================] - 0s 4ms/step - loss: 20722995553949963653679677440.0000\n",
            "Epoch 146/200\n",
            "57/57 [==============================] - 0s 5ms/step - loss: 20722990831583480784034463744.0000\n",
            "Epoch 147/200\n",
            "57/57 [==============================] - 0s 4ms/step - loss: 20722993192766722218857070592.0000\n",
            "Epoch 148/200\n",
            "57/57 [==============================] - 0s 5ms/step - loss: 20722990831583480784034463744.0000\n",
            "Epoch 149/200\n",
            "57/57 [==============================] - 0s 5ms/step - loss: 20722990831583480784034463744.0000\n",
            "Epoch 150/200\n",
            "57/57 [==============================] - 0s 5ms/step - loss: 20722993192766722218857070592.0000\n",
            "Epoch 151/200\n",
            "57/57 [==============================] - 0s 4ms/step - loss: 20722993192766722218857070592.0000\n",
            "Epoch 152/200\n",
            "57/57 [==============================] - 0s 5ms/step - loss: 20722995553949963653679677440.0000\n",
            "Epoch 153/200\n",
            "57/57 [==============================] - 0s 4ms/step - loss: 20722993192766722218857070592.0000\n",
            "Epoch 154/200\n",
            "57/57 [==============================] - 0s 5ms/step - loss: 20722993192766722218857070592.0000\n",
            "Epoch 155/200\n",
            "57/57 [==============================] - 0s 4ms/step - loss: 20722993192766722218857070592.0000\n",
            "Epoch 156/200\n",
            "57/57 [==============================] - 0s 5ms/step - loss: 20722990831583480784034463744.0000\n",
            "Epoch 157/200\n",
            "57/57 [==============================] - 0s 5ms/step - loss: 20722990831583480784034463744.0000\n",
            "Epoch 158/200\n",
            "57/57 [==============================] - 0s 5ms/step - loss: 20722988470400239349211856896.0000\n",
            "Epoch 159/200\n",
            "57/57 [==============================] - 0s 4ms/step - loss: 20722993192766722218857070592.0000\n",
            "Epoch 160/200\n",
            "57/57 [==============================] - 0s 5ms/step - loss: 20722993192766722218857070592.0000\n",
            "Epoch 161/200\n",
            "57/57 [==============================] - 0s 5ms/step - loss: 20722993192766722218857070592.0000\n",
            "Epoch 162/200\n",
            "57/57 [==============================] - 0s 5ms/step - loss: 20722993192766722218857070592.0000\n",
            "Epoch 163/200\n",
            "57/57 [==============================] - 0s 5ms/step - loss: 20722990831583480784034463744.0000\n",
            "Epoch 164/200\n",
            "57/57 [==============================] - 0s 4ms/step - loss: 20722990831583480784034463744.0000\n",
            "Epoch 165/200\n",
            "57/57 [==============================] - 0s 5ms/step - loss: 20722990831583480784034463744.0000\n",
            "Epoch 166/200\n",
            "57/57 [==============================] - 0s 4ms/step - loss: 20722990831583480784034463744.0000\n",
            "Epoch 167/200\n",
            "57/57 [==============================] - 0s 5ms/step - loss: 20722990831583480784034463744.0000\n",
            "Epoch 168/200\n",
            "57/57 [==============================] - 0s 5ms/step - loss: 20722993192766722218857070592.0000\n",
            "Epoch 169/200\n",
            "57/57 [==============================] - 0s 5ms/step - loss: 20722990831583480784034463744.0000\n",
            "Epoch 170/200\n",
            "57/57 [==============================] - 0s 5ms/step - loss: 20722988470400239349211856896.0000\n",
            "Epoch 171/200\n",
            "57/57 [==============================] - 0s 5ms/step - loss: 20722990831583480784034463744.0000\n",
            "Epoch 172/200\n",
            "57/57 [==============================] - 0s 5ms/step - loss: 20722995553949963653679677440.0000\n",
            "Epoch 173/200\n",
            "57/57 [==============================] - 0s 5ms/step - loss: 20722990831583480784034463744.0000\n",
            "Epoch 174/200\n",
            "57/57 [==============================] - 0s 5ms/step - loss: 20722990831583480784034463744.0000\n",
            "Epoch 175/200\n",
            "57/57 [==============================] - 0s 5ms/step - loss: 20722995553949963653679677440.0000\n",
            "Epoch 176/200\n",
            "57/57 [==============================] - 0s 5ms/step - loss: 20722990831583480784034463744.0000\n",
            "Epoch 177/200\n",
            "57/57 [==============================] - 0s 5ms/step - loss: 20722990831583480784034463744.0000\n",
            "Epoch 178/200\n",
            "57/57 [==============================] - 0s 5ms/step - loss: 20722990831583480784034463744.0000\n",
            "Epoch 179/200\n",
            "57/57 [==============================] - 0s 4ms/step - loss: 20722993192766722218857070592.0000\n",
            "Epoch 180/200\n",
            "57/57 [==============================] - 0s 5ms/step - loss: 20722990831583480784034463744.0000\n",
            "Epoch 181/200\n",
            "57/57 [==============================] - 0s 5ms/step - loss: 20722990831583480784034463744.0000\n",
            "Epoch 182/200\n",
            "57/57 [==============================] - 0s 5ms/step - loss: 20722993192766722218857070592.0000\n",
            "Epoch 183/200\n",
            "57/57 [==============================] - 0s 5ms/step - loss: 20722993192766722218857070592.0000\n",
            "Epoch 184/200\n",
            "57/57 [==============================] - 0s 5ms/step - loss: 20722990831583480784034463744.0000\n",
            "Epoch 185/200\n",
            "57/57 [==============================] - 0s 5ms/step - loss: 20722993192766722218857070592.0000\n",
            "Epoch 186/200\n",
            "57/57 [==============================] - 0s 5ms/step - loss: 20722993192766722218857070592.0000\n",
            "Epoch 187/200\n",
            "57/57 [==============================] - 0s 5ms/step - loss: 20722993192766722218857070592.0000\n",
            "Epoch 188/200\n",
            "57/57 [==============================] - 0s 4ms/step - loss: 20722990831583480784034463744.0000\n",
            "Epoch 189/200\n",
            "57/57 [==============================] - 0s 4ms/step - loss: 20722993192766722218857070592.0000\n",
            "Epoch 190/200\n",
            "57/57 [==============================] - 0s 5ms/step - loss: 20722990831583480784034463744.0000\n",
            "Epoch 191/200\n",
            "57/57 [==============================] - 0s 5ms/step - loss: 20722990831583480784034463744.0000\n",
            "Epoch 192/200\n",
            "57/57 [==============================] - 0s 5ms/step - loss: 20722995553949963653679677440.0000\n",
            "Epoch 193/200\n",
            "57/57 [==============================] - 0s 4ms/step - loss: 20722990831583480784034463744.0000\n",
            "Epoch 194/200\n",
            "57/57 [==============================] - 0s 5ms/step - loss: 20722990831583480784034463744.0000\n",
            "Epoch 195/200\n",
            "57/57 [==============================] - 0s 5ms/step - loss: 20722993192766722218857070592.0000\n",
            "Epoch 196/200\n",
            "57/57 [==============================] - 0s 5ms/step - loss: 20722990831583480784034463744.0000\n",
            "Epoch 197/200\n",
            "57/57 [==============================] - 0s 4ms/step - loss: 20722990831583480784034463744.0000\n",
            "Epoch 198/200\n",
            "57/57 [==============================] - 0s 4ms/step - loss: 20722997915133205088502284288.0000\n",
            "Epoch 199/200\n",
            "57/57 [==============================] - 0s 5ms/step - loss: 20722990831583480784034463744.0000\n",
            "Epoch 200/200\n",
            "57/57 [==============================] - 0s 5ms/step - loss: 20722990831583480784034463744.0000\n",
            "Model Number: 870 with model UnobservedComponents in generation 7 of 10\n",
            "Model Number: 871 with model LastValueNaive in generation 7 of 10\n",
            "Model Number: 872 with model DatepartRegression in generation 7 of 10\n"
          ]
        },
        {
          "output_type": "stream",
          "name": "stderr",
          "text": [
            "/usr/local/lib/python3.7/dist-packages/sklearn/linear_model/_glm/link.py:90: RuntimeWarning:\n",
            "\n",
            "overflow encountered in exp\n",
            "\n",
            "/usr/local/lib/python3.7/dist-packages/sklearn/linear_model/_glm/link.py:93: RuntimeWarning:\n",
            "\n",
            "overflow encountered in exp\n",
            "\n",
            "/usr/local/lib/python3.7/dist-packages/sklearn/_loss/glm_distribution.py:132: RuntimeWarning:\n",
            "\n",
            "invalid value encountered in true_divide\n",
            "\n",
            "/usr/local/lib/python3.7/dist-packages/sklearn/_loss/glm_distribution.py:323: RuntimeWarning:\n",
            "\n",
            "invalid value encountered in add\n",
            "\n",
            "/usr/local/lib/python3.7/dist-packages/sklearn/linear_model/_glm/glm.py:323: ConvergenceWarning:\n",
            "\n",
            "lbfgs failed to converge (status=2):\n",
            "ABNORMAL_TERMINATION_IN_LNSRCH.\n",
            "\n",
            "Increase the number of iterations (max_iter) or scale the data as shown in:\n",
            "    https://scikit-learn.org/stable/modules/preprocessing.html\n",
            "\n",
            "[Parallel(n_jobs=-2)]: Using backend SequentialBackend with 1 concurrent workers.\n"
          ]
        },
        {
          "output_type": "stream",
          "name": "stdout",
          "text": [
            "Model Number: 873 with model NVAR in generation 7 of 10\n"
          ]
        },
        {
          "output_type": "stream",
          "name": "stderr",
          "text": [
            "[Parallel(n_jobs=-2)]: Done 300 out of 300 | elapsed:    0.6s finished\n",
            "[Parallel(n_jobs=1)]: Using backend SequentialBackend with 1 concurrent workers.\n",
            "[Parallel(n_jobs=1)]: Done 300 out of 300 | elapsed:    0.0s finished\n"
          ]
        },
        {
          "output_type": "stream",
          "name": "stdout",
          "text": [
            "New Generation: 8 of 10\n",
            "Model Number: 874 with model MultivariateRegression in generation 8 of 10\n"
          ]
        },
        {
          "output_type": "stream",
          "name": "stderr",
          "text": [
            "[Parallel(n_jobs=-2)]: Using backend SequentialBackend with 1 concurrent workers.\n",
            "[Parallel(n_jobs=-2)]: Done 300 out of 300 | elapsed:    2.3s finished\n",
            "[Parallel(n_jobs=1)]: Using backend SequentialBackend with 1 concurrent workers.\n",
            "[Parallel(n_jobs=1)]: Done 300 out of 300 | elapsed:    0.0s finished\n",
            "[Parallel(n_jobs=1)]: Using backend SequentialBackend with 1 concurrent workers.\n",
            "[Parallel(n_jobs=1)]: Done 300 out of 300 | elapsed:    0.0s finished\n",
            "[Parallel(n_jobs=1)]: Using backend SequentialBackend with 1 concurrent workers.\n",
            "[Parallel(n_jobs=1)]: Done 300 out of 300 | elapsed:    0.0s finished\n"
          ]
        },
        {
          "output_type": "stream",
          "name": "stdout",
          "text": [
            "Model Number: 875 with model GLM in generation 8 of 10\n"
          ]
        },
        {
          "output_type": "stream",
          "name": "stderr",
          "text": [
            "[Parallel(n_jobs=1)]: Using backend SequentialBackend with 1 concurrent workers.\n",
            "[Parallel(n_jobs=1)]: Done 300 out of 300 | elapsed:    0.0s finished\n",
            "[Parallel(n_jobs=1)]: Using backend SequentialBackend with 1 concurrent workers.\n",
            "[Parallel(n_jobs=1)]: Done 300 out of 300 | elapsed:    0.0s finished\n"
          ]
        },
        {
          "output_type": "stream",
          "name": "stdout",
          "text": [
            "Model Number: 876 with model LastValueNaive in generation 8 of 10\n",
            "Model Number: 877 with model NVAR in generation 8 of 10\n",
            "Model Number: 878 with model MultivariateMotif in generation 8 of 10\n"
          ]
        },
        {
          "output_type": "stream",
          "name": "stderr",
          "text": [
            "/usr/local/lib/python3.7/dist-packages/sklearn/_loss/glm_distribution.py:132: RuntimeWarning:\n",
            "\n",
            "divide by zero encountered in true_divide\n",
            "\n",
            "/usr/local/lib/python3.7/dist-packages/sklearn/linear_model/_glm/glm.py:42: RuntimeWarning:\n",
            "\n",
            "invalid value encountered in multiply\n",
            "\n",
            "/usr/local/lib/python3.7/dist-packages/sklearn/_loss/glm_distribution.py:323: RuntimeWarning:\n",
            "\n",
            "divide by zero encountered in true_divide\n",
            "\n"
          ]
        },
        {
          "output_type": "stream",
          "name": "stdout",
          "text": [
            "Model Number: 879 with model GLS in generation 8 of 10\n",
            "Model Number: 880 with model MultivariateMotif in generation 8 of 10\n",
            "Template Eval Error: Exception('Transformer Detrend failed on fit') in model 880: MultivariateMotif\n",
            "Model Number: 881 with model MultivariateMotif in generation 8 of 10\n",
            "Model Number: 882 with model UnobservedComponents in generation 8 of 10\n",
            "Model Number: 883 with model GLM in generation 8 of 10\n",
            "Template Eval Error: Exception('Transformer STLFilter failed on fit') in model 883: GLM\n",
            "Model Number: 884 with model ETS in generation 8 of 10\n",
            "ETS error TypeError(\"__init__() got an unexpected keyword argument 'damped_trend'\")\n",
            "Model Number: 885 with model UnobservedComponents in generation 8 of 10\n",
            "Model Number: 886 with model ETS in generation 8 of 10\n",
            "ETS error TypeError(\"__init__() got an unexpected keyword argument 'damped_trend'\")\n",
            "ETS failed on 0 with ValueError('endog must be strictly positive when using multiplicative trend or seasonal components.')\n",
            "Model Number: 887 with model ETS in generation 8 of 10\n",
            "ETS error TypeError(\"__init__() got an unexpected keyword argument 'damped_trend'\")\n",
            "Model Number: 888 with model FBProphet in generation 8 of 10\n"
          ]
        },
        {
          "output_type": "stream",
          "name": "stderr",
          "text": [
            "INFO:fbprophet:Disabling daily seasonality. Run prophet with daily_seasonality=True to override this.\n"
          ]
        },
        {
          "output_type": "stream",
          "name": "stdout",
          "text": [
            "Model Number: 889 with model UnivariateMotif in generation 8 of 10\n",
            "Template Eval Error: Exception('Transformer STLFilter failed on fit') in model 889: UnivariateMotif\n",
            "Model Number: 890 with model NVAR in generation 8 of 10\n",
            "Model Number: 891 with model UnivariateMotif in generation 8 of 10\n",
            "Model Number: 892 with model FBProphet in generation 8 of 10\n",
            "Template Eval Error: ValueError(\"regression_type='User' but no future_regressor passed\") in model 892: FBProphet\n",
            "Model Number: 893 with model GLS in generation 8 of 10\n",
            "Model Number: 894 with model MultivariateMotif in generation 8 of 10\n",
            "Model Number: 895 with model MultivariateMotif in generation 8 of 10\n",
            "Model Number: 896 with model UnivariateMotif in generation 8 of 10\n",
            "Model Number: 897 with model ConstantNaive in generation 8 of 10\n",
            "Model Number: 898 with model AverageValueNaive in generation 8 of 10\n"
          ]
        },
        {
          "output_type": "stream",
          "name": "stderr",
          "text": [
            "/usr/local/lib/python3.7/dist-packages/scipy/signal/signaltools.py:1456: RuntimeWarning:\n",
            "\n",
            "divide by zero encountered in true_divide\n",
            "\n",
            "/usr/local/lib/python3.7/dist-packages/scipy/signal/signaltools.py:1456: RuntimeWarning:\n",
            "\n",
            "invalid value encountered in multiply\n",
            "\n",
            "INFO:fbprophet:Disabling daily seasonality. Run prophet with daily_seasonality=True to override this.\n"
          ]
        },
        {
          "output_type": "stream",
          "name": "stdout",
          "text": [
            "Model Number: 899 with model FBProphet in generation 8 of 10\n"
          ]
        },
        {
          "output_type": "stream",
          "name": "stderr",
          "text": [
            "WARNING:fbprophet.models:Optimization terminated abnormally. Falling back to Newton.\n"
          ]
        },
        {
          "output_type": "stream",
          "name": "stdout",
          "text": [
            "Model Number: 900 with model GLS in generation 8 of 10\n"
          ]
        },
        {
          "output_type": "stream",
          "name": "stderr",
          "text": [
            "INFO:fbprophet:Disabling daily seasonality. Run prophet with daily_seasonality=True to override this.\n"
          ]
        },
        {
          "output_type": "stream",
          "name": "stdout",
          "text": [
            "Model Number: 901 with model WindowRegression in generation 8 of 10\n",
            "Template Eval Error: ValueError('Some value(s) of y are out of the valid range for family PoissonDistribution') in model 901: WindowRegression\n",
            "Model Number: 902 with model FBProphet in generation 8 of 10\n",
            "Model Number: 903 with model MultivariateRegression in generation 8 of 10\n",
            "Template Eval Error: ValueError('Some value(s) of y are out of the valid range for family PoissonDistribution') in model 903: MultivariateRegression\n",
            "Model Number: 904 with model UnivariateRegression in generation 8 of 10\n",
            "Template Eval Error: Exception('Transformer BTCD failed on fit') in model 904: UnivariateRegression\n",
            "Model Number: 905 with model ETS in generation 8 of 10\n",
            "ETS error TypeError(\"__init__() got an unexpected keyword argument 'damped_trend'\")\n",
            "Model Number: 906 with model ConstantNaive in generation 8 of 10\n",
            "Model Number: 907 with model WindowRegression in generation 8 of 10\n"
          ]
        },
        {
          "output_type": "stream",
          "name": "stderr",
          "text": [
            "/usr/local/lib/python3.7/dist-packages/sklearn/linear_model/_glm/link.py:90: RuntimeWarning:\n",
            "\n",
            "overflow encountered in exp\n",
            "\n",
            "/usr/local/lib/python3.7/dist-packages/sklearn/linear_model/_glm/link.py:93: RuntimeWarning:\n",
            "\n",
            "overflow encountered in exp\n",
            "\n",
            "/usr/local/lib/python3.7/dist-packages/sklearn/_loss/glm_distribution.py:132: RuntimeWarning:\n",
            "\n",
            "invalid value encountered in true_divide\n",
            "\n"
          ]
        },
        {
          "output_type": "stream",
          "name": "stdout",
          "text": [
            "Model Number: 908 with model SeasonalNaive in generation 8 of 10\n",
            "Model Number: 909 with model LastValueNaive in generation 8 of 10\n",
            "Model Number: 910 with model ETS in generation 8 of 10\n",
            "ETS error TypeError(\"__init__() got an unexpected keyword argument 'damped_trend'\")\n",
            "Model Number: 911 with model NVAR in generation 8 of 10\n",
            "Model Number: 912 with model UnivariateMotif in generation 8 of 10\n",
            "Model Number: 913 with model MultivariateRegression in generation 8 of 10\n"
          ]
        },
        {
          "output_type": "stream",
          "name": "stderr",
          "text": [
            "[Parallel(n_jobs=-2)]: Using backend SequentialBackend with 1 concurrent workers.\n",
            "[Parallel(n_jobs=-2)]: Done 300 out of 300 | elapsed:    1.5s finished\n",
            "[Parallel(n_jobs=1)]: Using backend SequentialBackend with 1 concurrent workers.\n",
            "[Parallel(n_jobs=1)]: Done 300 out of 300 | elapsed:    0.0s finished\n",
            "[Parallel(n_jobs=1)]: Using backend SequentialBackend with 1 concurrent workers.\n",
            "[Parallel(n_jobs=1)]: Done 300 out of 300 | elapsed:    0.0s finished\n",
            "[Parallel(n_jobs=1)]: Using backend SequentialBackend with 1 concurrent workers.\n",
            "[Parallel(n_jobs=1)]: Done 300 out of 300 | elapsed:    0.0s finished\n",
            "[Parallel(n_jobs=1)]: Using backend SequentialBackend with 1 concurrent workers.\n",
            "[Parallel(n_jobs=1)]: Done 300 out of 300 | elapsed:    0.0s finished\n",
            "[Parallel(n_jobs=1)]: Using backend SequentialBackend with 1 concurrent workers.\n",
            "[Parallel(n_jobs=1)]: Done 300 out of 300 | elapsed:    0.0s finished\n",
            "INFO:fbprophet:Disabling daily seasonality. Run prophet with daily_seasonality=True to override this.\n"
          ]
        },
        {
          "output_type": "stream",
          "name": "stdout",
          "text": [
            "Model Number: 914 with model FBProphet in generation 8 of 10\n",
            "Model Number: 915 with model UnivariateMotif in generation 8 of 10\n",
            "Model Number: 916 with model ConstantNaive in generation 8 of 10\n",
            "Template Eval Error: Exception('Transformer Cointegration failed on fit') in model 916: ConstantNaive\n",
            "Model Number: 917 with model LastValueNaive in generation 8 of 10\n",
            "Model Number: 918 with model SeasonalNaive in generation 8 of 10\n",
            "Model Number: 919 with model SectionalMotif in generation 8 of 10\n",
            "Model Number: 920 with model FBProphet in generation 8 of 10\n"
          ]
        },
        {
          "output_type": "stream",
          "name": "stderr",
          "text": [
            "/usr/local/lib/python3.7/dist-packages/sklearn/linear_model/_glm/link.py:90: RuntimeWarning:\n",
            "\n",
            "overflow encountered in exp\n",
            "\n",
            "/usr/local/lib/python3.7/dist-packages/sklearn/linear_model/_glm/link.py:93: RuntimeWarning:\n",
            "\n",
            "overflow encountered in exp\n",
            "\n",
            "/usr/local/lib/python3.7/dist-packages/sklearn/_loss/glm_distribution.py:132: RuntimeWarning:\n",
            "\n",
            "invalid value encountered in true_divide\n",
            "\n",
            "/usr/local/lib/python3.7/dist-packages/sklearn/_loss/glm_distribution.py:323: RuntimeWarning:\n",
            "\n",
            "invalid value encountered in add\n",
            "\n",
            "/usr/local/lib/python3.7/dist-packages/sklearn/linear_model/_glm/glm.py:323: ConvergenceWarning:\n",
            "\n",
            "lbfgs failed to converge (status=2):\n",
            "ABNORMAL_TERMINATION_IN_LNSRCH.\n",
            "\n",
            "Increase the number of iterations (max_iter) or scale the data as shown in:\n",
            "    https://scikit-learn.org/stable/modules/preprocessing.html\n",
            "\n",
            "INFO:fbprophet:Disabling daily seasonality. Run prophet with daily_seasonality=True to override this.\n"
          ]
        },
        {
          "output_type": "stream",
          "name": "stdout",
          "text": [
            "Model Number: 921 with model GLS in generation 8 of 10\n",
            "Model Number: 922 with model GLM in generation 8 of 10\n",
            "Model Number: 923 with model NVAR in generation 8 of 10\n",
            "Model Number: 924 with model UnivariateMotif in generation 8 of 10\n",
            "Model Number: 925 with model SectionalMotif in generation 8 of 10\n",
            "Model Number: 926 with model LastValueNaive in generation 8 of 10\n",
            "Model Number: 927 with model MultivariateMotif in generation 8 of 10\n",
            "Model Number: 928 with model MultivariateMotif in generation 8 of 10\n",
            "Model Number: 929 with model WindowRegression in generation 8 of 10\n"
          ]
        },
        {
          "output_type": "stream",
          "name": "stderr",
          "text": [
            "/usr/local/lib/python3.7/dist-packages/sklearn/linear_model/_glm/link.py:90: RuntimeWarning:\n",
            "\n",
            "overflow encountered in exp\n",
            "\n",
            "/usr/local/lib/python3.7/dist-packages/sklearn/linear_model/_glm/link.py:93: RuntimeWarning:\n",
            "\n",
            "overflow encountered in exp\n",
            "\n",
            "/usr/local/lib/python3.7/dist-packages/sklearn/_loss/glm_distribution.py:132: RuntimeWarning:\n",
            "\n",
            "invalid value encountered in true_divide\n",
            "\n",
            "/usr/local/lib/python3.7/dist-packages/sklearn/_loss/glm_distribution.py:323: RuntimeWarning:\n",
            "\n",
            "invalid value encountered in add\n",
            "\n",
            "/usr/local/lib/python3.7/dist-packages/sklearn/linear_model/_glm/glm.py:323: ConvergenceWarning:\n",
            "\n",
            "lbfgs failed to converge (status=2):\n",
            "ABNORMAL_TERMINATION_IN_LNSRCH.\n",
            "\n",
            "Increase the number of iterations (max_iter) or scale the data as shown in:\n",
            "    https://scikit-learn.org/stable/modules/preprocessing.html\n",
            "\n"
          ]
        },
        {
          "output_type": "stream",
          "name": "stdout",
          "text": [
            "Template Eval Error: ValueError(\"regression_type='User' but no future_regressor passed\") in model 929: WindowRegression\n",
            "Model Number: 930 with model GLS in generation 8 of 10\n",
            "Model Number: 931 with model UnobservedComponents in generation 8 of 10\n",
            "Model Number: 932 with model MultivariateRegression in generation 8 of 10\n"
          ]
        },
        {
          "output_type": "stream",
          "name": "stderr",
          "text": [
            "[Parallel(n_jobs=-2)]: Using backend SequentialBackend with 1 concurrent workers.\n",
            "[Parallel(n_jobs=-2)]: Done 300 out of 300 | elapsed:    6.4s finished\n",
            "[Parallel(n_jobs=1)]: Using backend SequentialBackend with 1 concurrent workers.\n",
            "[Parallel(n_jobs=1)]: Done 300 out of 300 | elapsed:    0.0s finished\n",
            "[Parallel(n_jobs=1)]: Using backend SequentialBackend with 1 concurrent workers.\n",
            "[Parallel(n_jobs=1)]: Done 300 out of 300 | elapsed:    0.0s finished\n",
            "[Parallel(n_jobs=1)]: Using backend SequentialBackend with 1 concurrent workers.\n",
            "[Parallel(n_jobs=1)]: Done 300 out of 300 | elapsed:    0.0s finished\n",
            "[Parallel(n_jobs=1)]: Using backend SequentialBackend with 1 concurrent workers.\n",
            "[Parallel(n_jobs=1)]: Done 300 out of 300 | elapsed:    0.0s finished\n",
            "[Parallel(n_jobs=1)]: Using backend SequentialBackend with 1 concurrent workers.\n",
            "[Parallel(n_jobs=1)]: Done 300 out of 300 | elapsed:    0.0s finished\n"
          ]
        },
        {
          "output_type": "stream",
          "name": "stdout",
          "text": [
            "Model Number: 933 with model AverageValueNaive in generation 8 of 10\n",
            "Model Number: 934 with model MultivariateMotif in generation 8 of 10\n",
            "Model Number: 935 with model ETS in generation 8 of 10\n",
            "ETS error TypeError(\"__init__() got an unexpected keyword argument 'damped_trend'\")\n",
            "Model Number: 936 with model UnivariateRegression in generation 8 of 10\n",
            "Template Eval Error: ValueError(\"regression_type='User' but not future_regressor supplied.\") in model 936: UnivariateRegression\n",
            "Model Number: 937 with model SectionalMotif in generation 8 of 10\n",
            "Model Number: 938 with model GLS in generation 8 of 10\n"
          ]
        },
        {
          "output_type": "stream",
          "name": "stderr",
          "text": [
            "/usr/local/lib/python3.7/dist-packages/sklearn/linear_model/_glm/link.py:90: RuntimeWarning:\n",
            "\n",
            "overflow encountered in exp\n",
            "\n",
            "/usr/local/lib/python3.7/dist-packages/sklearn/linear_model/_glm/link.py:93: RuntimeWarning:\n",
            "\n",
            "overflow encountered in exp\n",
            "\n",
            "/usr/local/lib/python3.7/dist-packages/sklearn/_loss/glm_distribution.py:132: RuntimeWarning:\n",
            "\n",
            "invalid value encountered in true_divide\n",
            "\n"
          ]
        },
        {
          "output_type": "stream",
          "name": "stdout",
          "text": [
            "Model Number: 939 with model DatepartRegression in generation 8 of 10\n",
            "Template Eval Error: ValueError(\"regression_type='User' but no future_regressor passed\") in model 939: DatepartRegression\n",
            "Model Number: 940 with model ConstantNaive in generation 8 of 10\n",
            "Model Number: 941 with model ETS in generation 8 of 10\n",
            "ETS error TypeError(\"__init__() got an unexpected keyword argument 'damped_trend'\")\n",
            "Model Number: 942 with model SeasonalNaive in generation 8 of 10\n",
            "Model Number: 943 with model ConstantNaive in generation 8 of 10\n",
            "Model Number: 944 with model LastValueNaive in generation 8 of 10\n",
            "Model Number: 945 with model WindowRegression in generation 8 of 10\n",
            "Model Number: 946 with model NVAR in generation 8 of 10\n"
          ]
        },
        {
          "output_type": "stream",
          "name": "stderr",
          "text": [
            "/usr/local/lib/python3.7/dist-packages/sklearn/_loss/glm_distribution.py:132: RuntimeWarning:\n",
            "\n",
            "divide by zero encountered in true_divide\n",
            "\n",
            "/usr/local/lib/python3.7/dist-packages/sklearn/linear_model/_glm/glm.py:42: RuntimeWarning:\n",
            "\n",
            "invalid value encountered in multiply\n",
            "\n",
            "/usr/local/lib/python3.7/dist-packages/sklearn/_loss/glm_distribution.py:323: RuntimeWarning:\n",
            "\n",
            "divide by zero encountered in true_divide\n",
            "\n"
          ]
        },
        {
          "output_type": "stream",
          "name": "stdout",
          "text": [
            "Model Number: 947 with model ConstantNaive in generation 8 of 10\n",
            "Model Number: 948 with model NVAR in generation 8 of 10\n",
            "Model Number: 949 with model LastValueNaive in generation 8 of 10\n",
            "Model Number: 950 with model ConstantNaive in generation 8 of 10\n",
            "Model Number: 951 with model SeasonalNaive in generation 8 of 10\n"
          ]
        },
        {
          "output_type": "stream",
          "name": "stderr",
          "text": [
            "/usr/local/lib/python3.7/dist-packages/sklearn/linear_model/_glm/link.py:90: RuntimeWarning:\n",
            "\n",
            "overflow encountered in exp\n",
            "\n",
            "/usr/local/lib/python3.7/dist-packages/sklearn/linear_model/_glm/link.py:93: RuntimeWarning:\n",
            "\n",
            "overflow encountered in exp\n",
            "\n",
            "/usr/local/lib/python3.7/dist-packages/sklearn/_loss/glm_distribution.py:132: RuntimeWarning:\n",
            "\n",
            "invalid value encountered in true_divide\n",
            "\n"
          ]
        },
        {
          "output_type": "stream",
          "name": "stdout",
          "text": [
            "Model Number: 952 with model UnivariateMotif in generation 8 of 10\n",
            "Model Number: 953 with model SectionalMotif in generation 8 of 10\n",
            "Model Number: 954 with model FBProphet in generation 8 of 10\n"
          ]
        },
        {
          "output_type": "stream",
          "name": "stderr",
          "text": [
            "INFO:fbprophet:Disabling daily seasonality. Run prophet with daily_seasonality=True to override this.\n"
          ]
        },
        {
          "output_type": "stream",
          "name": "stdout",
          "text": [
            "Model Number: 955 with model NVAR in generation 8 of 10\n",
            "Model Number: 956 with model LastValueNaive in generation 8 of 10\n",
            "Model Number: 957 with model UnivariateMotif in generation 8 of 10\n",
            "Model Number: 958 with model ConstantNaive in generation 8 of 10\n",
            "Model Number: 959 with model UnivariateRegression in generation 8 of 10\n",
            "Model Number: 960 with model ETS in generation 8 of 10\n",
            "ETS error TypeError(\"__init__() got an unexpected keyword argument 'damped_trend'\")\n",
            "Model Number: 961 with model ETS in generation 8 of 10\n",
            "ETS error TypeError(\"__init__() got an unexpected keyword argument 'damped_trend'\")\n",
            "ETS failed on First with ValueError('endog must be strictly positive when using multiplicative trend or seasonal components.')\n",
            "New Generation: 9 of 10\n"
          ]
        },
        {
          "output_type": "stream",
          "name": "stderr",
          "text": [
            "INFO:fbprophet:Disabling daily seasonality. Run prophet with daily_seasonality=True to override this.\n"
          ]
        },
        {
          "output_type": "stream",
          "name": "stdout",
          "text": [
            "Model Number: 962 with model GLS in generation 9 of 10\n",
            "Template Eval Error: Exception('Transformer BTCD failed on fit') in model 962: GLS\n",
            "Model Number: 963 with model FBProphet in generation 9 of 10\n",
            "Model Number: 964 with model AverageValueNaive in generation 9 of 10\n",
            "Model Number: 965 with model ETS in generation 9 of 10\n",
            "ETS error TypeError(\"__init__() got an unexpected keyword argument 'damped_trend'\")\n"
          ]
        },
        {
          "output_type": "stream",
          "name": "stderr",
          "text": [
            "/usr/local/lib/python3.7/dist-packages/autots/models/base.py:481: RuntimeWarning:\n",
            "\n",
            "overflow encountered in square\n",
            "\n"
          ]
        },
        {
          "output_type": "stream",
          "name": "stdout",
          "text": [
            "Model Number: 966 with model ETS in generation 9 of 10\n",
            "ETS error TypeError(\"__init__() got an unexpected keyword argument 'damped_trend'\")\n",
            "Model Number: 967 with model LastValueNaive in generation 9 of 10\n",
            "Model Number: 968 with model WindowRegression in generation 9 of 10\n",
            "Template Eval Error: ValueError(\"regression_type='User' but no future_regressor passed\") in model 968: WindowRegression\n",
            "Model Number: 969 with model LastValueNaive in generation 9 of 10\n",
            "Model Number: 970 with model MultivariateMotif in generation 9 of 10\n",
            "Model Number: 971 with model UnivariateRegression in generation 9 of 10\n",
            "Model Number: 972 with model UnivariateMotif in generation 9 of 10\n"
          ]
        },
        {
          "output_type": "stream",
          "name": "stderr",
          "text": [
            "/usr/local/lib/python3.7/dist-packages/sklearn/_loss/glm_distribution.py:132: RuntimeWarning:\n",
            "\n",
            "divide by zero encountered in true_divide\n",
            "\n",
            "/usr/local/lib/python3.7/dist-packages/sklearn/linear_model/_glm/glm.py:42: RuntimeWarning:\n",
            "\n",
            "invalid value encountered in multiply\n",
            "\n",
            "/usr/local/lib/python3.7/dist-packages/sklearn/_loss/glm_distribution.py:323: RuntimeWarning:\n",
            "\n",
            "divide by zero encountered in true_divide\n",
            "\n",
            "/usr/local/lib/python3.7/dist-packages/sklearn/linear_model/_glm/link.py:90: RuntimeWarning:\n",
            "\n",
            "overflow encountered in exp\n",
            "\n",
            "/usr/local/lib/python3.7/dist-packages/sklearn/linear_model/_glm/link.py:93: RuntimeWarning:\n",
            "\n",
            "overflow encountered in exp\n",
            "\n",
            "/usr/local/lib/python3.7/dist-packages/sklearn/_loss/glm_distribution.py:132: RuntimeWarning:\n",
            "\n",
            "invalid value encountered in true_divide\n",
            "\n"
          ]
        },
        {
          "output_type": "stream",
          "name": "stdout",
          "text": [
            "Model Number: 973 with model UnivariateMotif in generation 9 of 10\n",
            "Model Number: 974 with model LastValueNaive in generation 9 of 10\n",
            "Model Number: 975 with model WindowRegression in generation 9 of 10\n",
            "Model Number: 976 with model SectionalMotif in generation 9 of 10\n",
            "Model Number: 977 with model ETS in generation 9 of 10\n",
            "ETS error TypeError(\"__init__() got an unexpected keyword argument 'damped_trend'\")\n",
            "ETS failed on First with ValueError('endog must be strictly positive when using multiplicative trend or seasonal components.')\n",
            "Model Number: 978 with model WindowRegression in generation 9 of 10\n"
          ]
        },
        {
          "output_type": "stream",
          "name": "stderr",
          "text": [
            "/usr/local/lib/python3.7/dist-packages/sklearn/linear_model/_glm/link.py:90: RuntimeWarning:\n",
            "\n",
            "overflow encountered in exp\n",
            "\n",
            "/usr/local/lib/python3.7/dist-packages/sklearn/linear_model/_glm/link.py:93: RuntimeWarning:\n",
            "\n",
            "overflow encountered in exp\n",
            "\n",
            "/usr/local/lib/python3.7/dist-packages/sklearn/_loss/glm_distribution.py:132: RuntimeWarning:\n",
            "\n",
            "invalid value encountered in true_divide\n",
            "\n",
            "/usr/local/lib/python3.7/dist-packages/sklearn/_loss/glm_distribution.py:323: RuntimeWarning:\n",
            "\n",
            "invalid value encountered in add\n",
            "\n",
            "/usr/local/lib/python3.7/dist-packages/sklearn/linear_model/_glm/glm.py:323: ConvergenceWarning:\n",
            "\n",
            "lbfgs failed to converge (status=2):\n",
            "ABNORMAL_TERMINATION_IN_LNSRCH.\n",
            "\n",
            "Increase the number of iterations (max_iter) or scale the data as shown in:\n",
            "    https://scikit-learn.org/stable/modules/preprocessing.html\n",
            "\n",
            "/usr/local/lib/python3.7/dist-packages/sklearn/linear_model/_glm/link.py:90: RuntimeWarning:\n",
            "\n",
            "overflow encountered in exp\n",
            "\n",
            "/usr/local/lib/python3.7/dist-packages/sklearn/linear_model/_glm/link.py:93: RuntimeWarning:\n",
            "\n",
            "overflow encountered in exp\n",
            "\n",
            "/usr/local/lib/python3.7/dist-packages/sklearn/_loss/glm_distribution.py:132: RuntimeWarning:\n",
            "\n",
            "invalid value encountered in true_divide\n",
            "\n"
          ]
        },
        {
          "output_type": "stream",
          "name": "stdout",
          "text": [
            "Model Number: 979 with model UnobservedComponents in generation 9 of 10\n",
            "Template Eval Error: Exception('Transformer STLFilter failed on fit') in model 979: UnobservedComponents\n",
            "Model Number: 980 with model WindowRegression in generation 9 of 10\n",
            "Template Eval Error: Exception('Transformer BTCD failed on fit') in model 980: WindowRegression\n",
            "Model Number: 981 with model GLS in generation 9 of 10\n",
            "Model Number: 982 with model MultivariateRegression in generation 9 of 10\n",
            "Template Eval Error: Exception('Transformer STLFilter failed on fit') in model 982: MultivariateRegression\n",
            "Model Number: 983 with model MultivariateRegression in generation 9 of 10\n"
          ]
        },
        {
          "output_type": "stream",
          "name": "stderr",
          "text": [
            "/usr/local/lib/python3.7/dist-packages/numpy/lib/function_base.py:2683: RuntimeWarning:\n",
            "\n",
            "Degrees of freedom <= 0 for slice\n",
            "\n",
            "/usr/local/lib/python3.7/dist-packages/numpy/lib/function_base.py:2683: RuntimeWarning:\n",
            "\n",
            "Degrees of freedom <= 0 for slice\n",
            "\n",
            "INFO:fbprophet:Disabling daily seasonality. Run prophet with daily_seasonality=True to override this.\n"
          ]
        },
        {
          "output_type": "stream",
          "name": "stdout",
          "text": [
            "Template Eval Error: ValueError(\"Input contains NaN, infinity or a value too large for dtype('float64').\") in model 983: MultivariateRegression\n",
            "Model Number: 984 with model FBProphet in generation 9 of 10\n",
            "Model Number: 985 with model AverageValueNaive in generation 9 of 10\n",
            "Model Number: 986 with model LastValueNaive in generation 9 of 10\n",
            "Model Number: 987 with model MultivariateRegression in generation 9 of 10\n",
            "Template Eval Error: ValueError(\"regression_type='User' but not future_regressor supplied.\") in model 987: MultivariateRegression\n",
            "Model Number: 988 with model MultivariateMotif in generation 9 of 10\n",
            "Model Number: 989 with model GLS in generation 9 of 10\n",
            "Model Number: 990 with model ConstantNaive in generation 9 of 10\n",
            "Model Number: 991 with model MultivariateRegression in generation 9 of 10\n"
          ]
        },
        {
          "output_type": "stream",
          "name": "stderr",
          "text": [
            "/usr/local/lib/python3.7/dist-packages/sklearn/_loss/glm_distribution.py:132: RuntimeWarning:\n",
            "\n",
            "divide by zero encountered in true_divide\n",
            "\n",
            "/usr/local/lib/python3.7/dist-packages/sklearn/linear_model/_glm/glm.py:42: RuntimeWarning:\n",
            "\n",
            "invalid value encountered in multiply\n",
            "\n",
            "/usr/local/lib/python3.7/dist-packages/sklearn/_loss/glm_distribution.py:331: RuntimeWarning:\n",
            "\n",
            "divide by zero encountered in power\n",
            "\n"
          ]
        },
        {
          "output_type": "stream",
          "name": "stdout",
          "text": [
            "Model Number: 992 with model FBProphet in generation 9 of 10\n",
            "Template Eval Error: Exception('Transformer Cointegration failed on fit') in model 992: FBProphet\n",
            "Model Number: 993 with model AverageValueNaive in generation 9 of 10\n",
            "Model Number: 994 with model GLM in generation 9 of 10\n",
            "Template Eval Error: ValueError('NaN, inf or invalid value detected in weights, estimation infeasible.') in model 994: GLM\n",
            "Model Number: 995 with model GLS in generation 9 of 10\n",
            "Template Eval Error: Exception('Transformer Cointegration failed on fit') in model 995: GLS\n",
            "Model Number: 996 with model NVAR in generation 9 of 10\n",
            "Model Number: 997 with model SectionalMotif in generation 9 of 10\n",
            "Model Number: 998 with model NVAR in generation 9 of 10\n"
          ]
        },
        {
          "output_type": "stream",
          "name": "stderr",
          "text": [
            "/usr/local/lib/python3.7/dist-packages/statsmodels/genmod/families/links.py:521: RuntimeWarning:\n",
            "\n",
            "overflow encountered in exp\n",
            "\n",
            "/usr/local/lib/python3.7/dist-packages/statsmodels/genmod/families/family.py:134: RuntimeWarning:\n",
            "\n",
            "invalid value encountered in multiply\n",
            "\n",
            "/usr/local/lib/python3.7/dist-packages/statsmodels/genmod/generalized_linear_model.py:1163: RuntimeWarning:\n",
            "\n",
            "invalid value encountered in multiply\n",
            "\n"
          ]
        },
        {
          "output_type": "stream",
          "name": "stdout",
          "text": [
            "Model Number: 999 with model LastValueNaive in generation 9 of 10\n",
            "Model Number: 1000 with model UnivariateRegression in generation 9 of 10\n",
            "Model Number: 1001 with model NVAR in generation 9 of 10\n",
            "Model Number: 1002 with model ConstantNaive in generation 9 of 10\n",
            "Model Number: 1003 with model UnivariateMotif in generation 9 of 10\n",
            "Template Eval Error: Exception('Transformer Detrend failed on fit') in model 1003: UnivariateMotif\n",
            "Model Number: 1004 with model UnobservedComponents in generation 9 of 10\n",
            "Model Number: 1005 with model NVAR in generation 9 of 10\n",
            "Model Number: 1006 with model UnivariateRegression in generation 9 of 10\n",
            "Model Number: 1007 with model ETS in generation 9 of 10\n",
            "Template Eval Error: Exception('Transformer Cointegration failed on fit') in model 1007: ETS\n",
            "Model Number: 1008 with model FBProphet in generation 9 of 10\n"
          ]
        },
        {
          "output_type": "stream",
          "name": "stderr",
          "text": [
            "INFO:fbprophet:Disabling daily seasonality. Run prophet with daily_seasonality=True to override this.\n"
          ]
        },
        {
          "output_type": "stream",
          "name": "stdout",
          "text": [
            "Model Number: 1009 with model UnivariateMotif in generation 9 of 10\n",
            "Model Number: 1010 with model MultivariateMotif in generation 9 of 10\n",
            "Model Number: 1011 with model UnivariateMotif in generation 9 of 10\n",
            "Model Number: 1012 with model MultivariateRegression in generation 9 of 10\n"
          ]
        },
        {
          "output_type": "stream",
          "name": "stderr",
          "text": [
            "[Parallel(n_jobs=-2)]: Using backend SequentialBackend with 1 concurrent workers.\n",
            "[Parallel(n_jobs=-2)]: Done 300 out of 300 | elapsed:    6.4s finished\n",
            "[Parallel(n_jobs=1)]: Using backend SequentialBackend with 1 concurrent workers.\n",
            "[Parallel(n_jobs=1)]: Done 300 out of 300 | elapsed:    0.0s finished\n",
            "[Parallel(n_jobs=1)]: Using backend SequentialBackend with 1 concurrent workers.\n",
            "[Parallel(n_jobs=1)]: Done 300 out of 300 | elapsed:    0.0s finished\n",
            "[Parallel(n_jobs=1)]: Using backend SequentialBackend with 1 concurrent workers.\n",
            "[Parallel(n_jobs=1)]: Done 300 out of 300 | elapsed:    0.0s finished\n",
            "[Parallel(n_jobs=1)]: Using backend SequentialBackend with 1 concurrent workers.\n",
            "[Parallel(n_jobs=1)]: Done 300 out of 300 | elapsed:    0.0s finished\n",
            "[Parallel(n_jobs=1)]: Using backend SequentialBackend with 1 concurrent workers.\n",
            "[Parallel(n_jobs=1)]: Done 300 out of 300 | elapsed:    0.0s finished\n"
          ]
        },
        {
          "output_type": "stream",
          "name": "stdout",
          "text": [
            "Model Number: 1013 with model NVAR in generation 9 of 10\n",
            "Model Number: 1014 with model GLS in generation 9 of 10\n",
            "Model Number: 1015 with model NVAR in generation 9 of 10\n",
            "Model Number: 1016 with model FBProphet in generation 9 of 10\n"
          ]
        },
        {
          "output_type": "stream",
          "name": "stderr",
          "text": [
            "/usr/local/lib/python3.7/dist-packages/sklearn/linear_model/_glm/link.py:90: RuntimeWarning:\n",
            "\n",
            "overflow encountered in exp\n",
            "\n",
            "/usr/local/lib/python3.7/dist-packages/sklearn/linear_model/_glm/link.py:93: RuntimeWarning:\n",
            "\n",
            "overflow encountered in exp\n",
            "\n",
            "/usr/local/lib/python3.7/dist-packages/sklearn/_loss/glm_distribution.py:132: RuntimeWarning:\n",
            "\n",
            "invalid value encountered in true_divide\n",
            "\n",
            "INFO:fbprophet:Disabling daily seasonality. Run prophet with daily_seasonality=True to override this.\n"
          ]
        },
        {
          "output_type": "stream",
          "name": "stdout",
          "text": [
            "Model Number: 1017 with model UnivariateMotif in generation 9 of 10\n",
            "Model Number: 1018 with model LastValueNaive in generation 9 of 10\n",
            "Model Number: 1019 with model FBProphet in generation 9 of 10\n"
          ]
        },
        {
          "output_type": "stream",
          "name": "stderr",
          "text": [
            "INFO:fbprophet:Disabling daily seasonality. Run prophet with daily_seasonality=True to override this.\n"
          ]
        },
        {
          "output_type": "stream",
          "name": "stdout",
          "text": [
            "Model Number: 1020 with model UnivariateRegression in generation 9 of 10\n"
          ]
        },
        {
          "output_type": "stream",
          "name": "stderr",
          "text": [
            "INFO:fbprophet:Disabling daily seasonality. Run prophet with daily_seasonality=True to override this.\n"
          ]
        },
        {
          "output_type": "stream",
          "name": "stdout",
          "text": [
            "Model Number: 1021 with model FBProphet in generation 9 of 10\n",
            "Model Number: 1022 with model WindowRegression in generation 9 of 10\n",
            "Model Number: 1023 with model SectionalMotif in generation 9 of 10\n",
            "Model Number: 1024 with model MultivariateMotif in generation 9 of 10\n",
            "Model Number: 1025 with model GLM in generation 9 of 10\n",
            "Model Number: 1026 with model UnivariateRegression in generation 9 of 10\n",
            "Model Number: 1027 with model WindowRegression in generation 9 of 10\n",
            "Model Number: 1028 with model MultivariateRegression in generation 9 of 10\n",
            "Model Number: 1029 with model SectionalMotif in generation 9 of 10\n",
            "Model Number: 1030 with model ETS in generation 9 of 10\n",
            "ETS error TypeError(\"__init__() got an unexpected keyword argument 'damped_trend'\")\n",
            "Model Number: 1031 with model ConstantNaive in generation 9 of 10\n",
            "Model Number: 1032 with model ETS in generation 9 of 10\n",
            "ETS error TypeError(\"__init__() got an unexpected keyword argument 'damped_trend'\")\n",
            "ETS failed on First with ValueError('endog must be strictly positive when using multiplicative trend or seasonal components.')\n",
            "Model Number: 1033 with model UnivariateRegression in generation 9 of 10\n",
            "Model Number: 1034 with model UnivariateMotif in generation 9 of 10\n",
            "Model Number: 1035 with model GLM in generation 9 of 10\n",
            "Template Eval Error: Exception('Transformer BTCD failed on fit') in model 1035: GLM\n",
            "Model Number: 1036 with model SectionalMotif in generation 9 of 10\n",
            "Model Number: 1037 with model SeasonalNaive in generation 9 of 10\n",
            "Model Number: 1038 with model NVAR in generation 9 of 10\n",
            "Model Number: 1039 with model MultivariateRegression in generation 9 of 10\n",
            "Template Eval Error: Exception('Transformer Detrend failed on fit') in model 1039: MultivariateRegression\n",
            "Model Number: 1040 with model AverageValueNaive in generation 9 of 10\n",
            "Model Number: 1041 with model SectionalMotif in generation 9 of 10\n",
            "Model Number: 1042 with model ETS in generation 9 of 10\n",
            "ETS error TypeError(\"__init__() got an unexpected keyword argument 'damped_trend'\")\n",
            "ETS failed on 0 with ValueError('endog must be strictly positive when using multiplicative trend or seasonal components.')\n",
            "Model Number: 1043 with model UnivariateMotif in generation 9 of 10\n"
          ]
        },
        {
          "output_type": "stream",
          "name": "stderr",
          "text": [
            "/usr/local/lib/python3.7/dist-packages/sklearn/linear_model/_glm/link.py:90: RuntimeWarning:\n",
            "\n",
            "overflow encountered in exp\n",
            "\n",
            "/usr/local/lib/python3.7/dist-packages/sklearn/linear_model/_glm/link.py:93: RuntimeWarning:\n",
            "\n",
            "overflow encountered in exp\n",
            "\n",
            "/usr/local/lib/python3.7/dist-packages/sklearn/_loss/glm_distribution.py:132: RuntimeWarning:\n",
            "\n",
            "invalid value encountered in true_divide\n",
            "\n"
          ]
        },
        {
          "output_type": "stream",
          "name": "stdout",
          "text": [
            "Model Number: 1044 with model AverageValueNaive in generation 9 of 10\n",
            "Model Number: 1045 with model FBProphet in generation 9 of 10\n"
          ]
        },
        {
          "output_type": "stream",
          "name": "stderr",
          "text": [
            "INFO:fbprophet:Disabling daily seasonality. Run prophet with daily_seasonality=True to override this.\n"
          ]
        },
        {
          "output_type": "stream",
          "name": "stdout",
          "text": [
            "Model Number: 1046 with model ConstantNaive in generation 9 of 10\n",
            "Model Number: 1047 with model NVAR in generation 9 of 10\n",
            "Model Number: 1048 with model UnivariateMotif in generation 9 of 10\n",
            "Model Number: 1049 with model GLS in generation 9 of 10\n",
            "Template Eval Error: Exception('Transformer Cointegration failed on fit') in model 1049: GLS\n",
            "New Generation: 10 of 10\n"
          ]
        },
        {
          "output_type": "stream",
          "name": "stderr",
          "text": [
            "/usr/local/lib/python3.7/dist-packages/sklearn/linear_model/_glm/link.py:90: RuntimeWarning:\n",
            "\n",
            "overflow encountered in exp\n",
            "\n",
            "/usr/local/lib/python3.7/dist-packages/sklearn/linear_model/_glm/link.py:93: RuntimeWarning:\n",
            "\n",
            "overflow encountered in exp\n",
            "\n",
            "/usr/local/lib/python3.7/dist-packages/sklearn/_loss/glm_distribution.py:132: RuntimeWarning:\n",
            "\n",
            "invalid value encountered in true_divide\n",
            "\n"
          ]
        },
        {
          "output_type": "stream",
          "name": "stdout",
          "text": [
            "Model Number: 1050 with model WindowRegression in generation 10 of 10\n",
            "Model Number: 1051 with model ETS in generation 10 of 10\n",
            "ETS error TypeError(\"__init__() got an unexpected keyword argument 'damped_trend'\")\n",
            "Model Number: 1052 with model ETS in generation 10 of 10\n",
            "ETS error TypeError(\"__init__() got an unexpected keyword argument 'damped_trend'\")\n",
            "Model Number: 1053 with model NVAR in generation 10 of 10\n",
            "Model Number: 1054 with model FBProphet in generation 10 of 10\n"
          ]
        },
        {
          "output_type": "stream",
          "name": "stderr",
          "text": [
            "INFO:fbprophet:Disabling daily seasonality. Run prophet with daily_seasonality=True to override this.\n"
          ]
        },
        {
          "output_type": "stream",
          "name": "stdout",
          "text": [
            "Model Number: 1055 with model UnivariateMotif in generation 10 of 10\n",
            "Model Number: 1056 with model UnivariateMotif in generation 10 of 10\n",
            "Model Number: 1057 with model ConstantNaive in generation 10 of 10\n",
            "Model Number: 1058 with model GLS in generation 10 of 10\n"
          ]
        },
        {
          "output_type": "stream",
          "name": "stderr",
          "text": [
            "/usr/local/lib/python3.7/dist-packages/sklearn/linear_model/_glm/link.py:90: RuntimeWarning:\n",
            "\n",
            "overflow encountered in exp\n",
            "\n",
            "/usr/local/lib/python3.7/dist-packages/sklearn/linear_model/_glm/link.py:93: RuntimeWarning:\n",
            "\n",
            "overflow encountered in exp\n",
            "\n",
            "/usr/local/lib/python3.7/dist-packages/sklearn/_loss/glm_distribution.py:132: RuntimeWarning:\n",
            "\n",
            "invalid value encountered in true_divide\n",
            "\n"
          ]
        },
        {
          "output_type": "stream",
          "name": "stdout",
          "text": [
            "Model Number: 1059 with model GLS in generation 10 of 10\n",
            "Model Number: 1060 with model GLS in generation 10 of 10\n",
            "Model Number: 1061 with model ConstantNaive in generation 10 of 10\n",
            "Model Number: 1062 with model FBProphet in generation 10 of 10\n"
          ]
        },
        {
          "output_type": "stream",
          "name": "stderr",
          "text": [
            "INFO:fbprophet:Disabling daily seasonality. Run prophet with daily_seasonality=True to override this.\n"
          ]
        },
        {
          "output_type": "stream",
          "name": "stdout",
          "text": [
            "Model Number: 1063 with model ETS in generation 10 of 10\n",
            "ETS error TypeError(\"__init__() got an unexpected keyword argument 'damped_trend'\")\n",
            "Model Number: 1064 with model UnivariateMotif in generation 10 of 10\n",
            "Model Number: 1065 with model ETS in generation 10 of 10\n"
          ]
        },
        {
          "output_type": "stream",
          "name": "stderr",
          "text": [
            "/usr/local/lib/python3.7/dist-packages/autots/tools/probabilistic.py:67: RuntimeWarning:\n",
            "\n",
            "invalid value encountered in true_divide\n",
            "\n",
            "/usr/local/lib/python3.7/dist-packages/autots/tools/probabilistic.py:68: RuntimeWarning:\n",
            "\n",
            "divide by zero encountered in true_divide\n",
            "\n"
          ]
        },
        {
          "output_type": "stream",
          "name": "stdout",
          "text": [
            "ETS error TypeError(\"__init__() got an unexpected keyword argument 'damped_trend'\")\n",
            "Model Number: 1066 with model GLS in generation 10 of 10\n",
            "Model Number: 1067 with model MultivariateMotif in generation 10 of 10\n",
            "Model Number: 1068 with model AverageValueNaive in generation 10 of 10\n",
            "Model Number: 1069 with model NVAR in generation 10 of 10\n",
            "Template Eval Error: Exception('Transformer Detrend failed on fit') in model 1069: NVAR\n",
            "Model Number: 1070 with model GLS in generation 10 of 10\n",
            "Model Number: 1071 with model MultivariateRegression in generation 10 of 10\n",
            "Model Number: 1072 with model MultivariateRegression in generation 10 of 10\n"
          ]
        },
        {
          "output_type": "stream",
          "name": "stderr",
          "text": [
            "/usr/local/lib/python3.7/dist-packages/sklearn/linear_model/_glm/link.py:90: RuntimeWarning:\n",
            "\n",
            "overflow encountered in exp\n",
            "\n",
            "/usr/local/lib/python3.7/dist-packages/sklearn/linear_model/_glm/link.py:93: RuntimeWarning:\n",
            "\n",
            "overflow encountered in exp\n",
            "\n",
            "/usr/local/lib/python3.7/dist-packages/sklearn/_loss/glm_distribution.py:132: RuntimeWarning:\n",
            "\n",
            "invalid value encountered in true_divide\n",
            "\n",
            "/usr/local/lib/python3.7/dist-packages/sklearn/neural_network/_multilayer_perceptron.py:549: ConvergenceWarning:\n",
            "\n",
            "lbfgs failed to converge (status=1):\n",
            "STOP: TOTAL NO. of ITERATIONS REACHED LIMIT.\n",
            "\n",
            "Increase the number of iterations (max_iter) or scale the data as shown in:\n",
            "    https://scikit-learn.org/stable/modules/preprocessing.html\n",
            "\n",
            "INFO:fbprophet:Disabling daily seasonality. Run prophet with daily_seasonality=True to override this.\n"
          ]
        },
        {
          "output_type": "stream",
          "name": "stdout",
          "text": [
            "Model Number: 1073 with model FBProphet in generation 10 of 10\n"
          ]
        },
        {
          "output_type": "stream",
          "name": "stderr",
          "text": [
            "INFO:fbprophet:Disabling daily seasonality. Run prophet with daily_seasonality=True to override this.\n"
          ]
        },
        {
          "output_type": "stream",
          "name": "stdout",
          "text": [
            "Model Number: 1074 with model FBProphet in generation 10 of 10\n",
            "Model Number: 1075 with model LastValueNaive in generation 10 of 10\n",
            "Model Number: 1076 with model UnivariateMotif in generation 10 of 10\n",
            "Model Number: 1077 with model SectionalMotif in generation 10 of 10\n",
            "Model Number: 1078 with model WindowRegression in generation 10 of 10\n",
            "Model Number: 1079 with model AverageValueNaive in generation 10 of 10\n",
            "Model Number: 1080 with model GLS in generation 10 of 10\n"
          ]
        },
        {
          "output_type": "stream",
          "name": "stderr",
          "text": [
            "/usr/local/lib/python3.7/dist-packages/sklearn/linear_model/_glm/link.py:90: RuntimeWarning:\n",
            "\n",
            "overflow encountered in exp\n",
            "\n",
            "/usr/local/lib/python3.7/dist-packages/sklearn/linear_model/_glm/link.py:93: RuntimeWarning:\n",
            "\n",
            "overflow encountered in exp\n",
            "\n",
            "/usr/local/lib/python3.7/dist-packages/sklearn/_loss/glm_distribution.py:132: RuntimeWarning:\n",
            "\n",
            "invalid value encountered in true_divide\n",
            "\n",
            "/usr/local/lib/python3.7/dist-packages/sklearn/_loss/glm_distribution.py:323: RuntimeWarning:\n",
            "\n",
            "invalid value encountered in add\n",
            "\n",
            "/usr/local/lib/python3.7/dist-packages/sklearn/linear_model/_glm/glm.py:323: ConvergenceWarning:\n",
            "\n",
            "lbfgs failed to converge (status=2):\n",
            "ABNORMAL_TERMINATION_IN_LNSRCH.\n",
            "\n",
            "Increase the number of iterations (max_iter) or scale the data as shown in:\n",
            "    https://scikit-learn.org/stable/modules/preprocessing.html\n",
            "\n",
            "/usr/local/lib/python3.7/dist-packages/sklearn/linear_model/_glm/link.py:90: RuntimeWarning:\n",
            "\n",
            "overflow encountered in exp\n",
            "\n",
            "/usr/local/lib/python3.7/dist-packages/sklearn/linear_model/_glm/link.py:93: RuntimeWarning:\n",
            "\n",
            "overflow encountered in exp\n",
            "\n",
            "/usr/local/lib/python3.7/dist-packages/sklearn/_loss/glm_distribution.py:132: RuntimeWarning:\n",
            "\n",
            "invalid value encountered in true_divide\n",
            "\n"
          ]
        },
        {
          "output_type": "stream",
          "name": "stdout",
          "text": [
            "Model Number: 1081 with model UnivariateMotif in generation 10 of 10\n",
            "Model Number: 1082 with model SectionalMotif in generation 10 of 10\n",
            "Model Number: 1083 with model UnivariateRegression in generation 10 of 10\n",
            "Model Number: 1084 with model SeasonalNaive in generation 10 of 10\n",
            "Template Eval Error: Exception('Transformer Detrend failed on fit') in model 1084: SeasonalNaive\n",
            "Model Number: 1085 with model WindowRegression in generation 10 of 10\n",
            "Template Eval Error: ValueError('Some value(s) of y are out of the valid range for family PoissonDistribution') in model 1085: WindowRegression\n",
            "Model Number: 1086 with model MultivariateMotif in generation 10 of 10\n",
            "Model Number: 1087 with model UnivariateMotif in generation 10 of 10\n",
            "Model Number: 1088 with model FBProphet in generation 10 of 10\n"
          ]
        },
        {
          "output_type": "stream",
          "name": "stderr",
          "text": [
            "INFO:fbprophet:Disabling daily seasonality. Run prophet with daily_seasonality=True to override this.\n"
          ]
        },
        {
          "output_type": "stream",
          "name": "stdout",
          "text": [
            "Model Number: 1089 with model NVAR in generation 10 of 10\n",
            "Model Number: 1090 with model MultivariateRegression in generation 10 of 10\n",
            "Model Number: 1091 with model NVAR in generation 10 of 10\n",
            "Template Eval Error: Exception('Transformer BTCD failed on fit') in model 1091: NVAR\n",
            "Model Number: 1092 with model WindowRegression in generation 10 of 10\n",
            "Model Number: 1093 with model NVAR in generation 10 of 10\n",
            "Model Number: 1094 with model NVAR in generation 10 of 10\n",
            "Model Number: 1095 with model ETS in generation 10 of 10\n",
            "ETS error TypeError(\"__init__() got an unexpected keyword argument 'damped_trend'\")\n",
            "Model Number: 1096 with model UnivariateMotif in generation 10 of 10\n",
            "Model Number: 1097 with model MultivariateMotif in generation 10 of 10\n",
            "Model Number: 1098 with model LastValueNaive in generation 10 of 10\n",
            "Model Number: 1099 with model UnivariateMotif in generation 10 of 10\n",
            "Model Number: 1100 with model LastValueNaive in generation 10 of 10\n",
            "Model Number: 1101 with model SectionalMotif in generation 10 of 10\n"
          ]
        },
        {
          "output_type": "stream",
          "name": "stderr",
          "text": [
            "/usr/local/lib/python3.7/dist-packages/sklearn/linear_model/_glm/link.py:90: RuntimeWarning:\n",
            "\n",
            "overflow encountered in exp\n",
            "\n",
            "/usr/local/lib/python3.7/dist-packages/sklearn/linear_model/_glm/link.py:93: RuntimeWarning:\n",
            "\n",
            "overflow encountered in exp\n",
            "\n",
            "/usr/local/lib/python3.7/dist-packages/sklearn/_loss/glm_distribution.py:132: RuntimeWarning:\n",
            "\n",
            "invalid value encountered in true_divide\n",
            "\n",
            "/usr/local/lib/python3.7/dist-packages/sklearn/_loss/glm_distribution.py:323: RuntimeWarning:\n",
            "\n",
            "invalid value encountered in add\n",
            "\n",
            "/usr/local/lib/python3.7/dist-packages/sklearn/linear_model/_glm/glm.py:323: ConvergenceWarning:\n",
            "\n",
            "lbfgs failed to converge (status=2):\n",
            "ABNORMAL_TERMINATION_IN_LNSRCH.\n",
            "\n",
            "Increase the number of iterations (max_iter) or scale the data as shown in:\n",
            "    https://scikit-learn.org/stable/modules/preprocessing.html\n",
            "\n"
          ]
        },
        {
          "output_type": "stream",
          "name": "stdout",
          "text": [
            "Model Number: 1102 with model ConstantNaive in generation 10 of 10\n",
            "Model Number: 1103 with model GLS in generation 10 of 10\n",
            "Template Eval Error: Exception('Transformer Cointegration failed on fit') in model 1103: GLS\n",
            "Model Number: 1104 with model WindowRegression in generation 10 of 10\n",
            "Model Number: 1105 with model NVAR in generation 10 of 10\n"
          ]
        },
        {
          "output_type": "stream",
          "name": "stderr",
          "text": [
            "/usr/local/lib/python3.7/dist-packages/sklearn/neural_network/_multilayer_perceptron.py:549: ConvergenceWarning:\n",
            "\n",
            "lbfgs failed to converge (status=1):\n",
            "STOP: TOTAL NO. of ITERATIONS REACHED LIMIT.\n",
            "\n",
            "Increase the number of iterations (max_iter) or scale the data as shown in:\n",
            "    https://scikit-learn.org/stable/modules/preprocessing.html\n",
            "\n",
            "/usr/local/lib/python3.7/dist-packages/sklearn/linear_model/_glm/link.py:90: RuntimeWarning:\n",
            "\n",
            "overflow encountered in exp\n",
            "\n",
            "/usr/local/lib/python3.7/dist-packages/sklearn/linear_model/_glm/link.py:93: RuntimeWarning:\n",
            "\n",
            "overflow encountered in exp\n",
            "\n",
            "/usr/local/lib/python3.7/dist-packages/sklearn/_loss/glm_distribution.py:132: RuntimeWarning:\n",
            "\n",
            "invalid value encountered in true_divide\n",
            "\n"
          ]
        },
        {
          "output_type": "stream",
          "name": "stdout",
          "text": [
            "Model Number: 1106 with model GLS in generation 10 of 10\n",
            "Model Number: 1107 with model MultivariateRegression in generation 10 of 10\n",
            "Model Number: 1108 with model GLS in generation 10 of 10\n",
            "Template Eval Error: Exception('Transformer Cointegration failed on fit') in model 1108: GLS\n",
            "Model Number: 1109 with model GLS in generation 10 of 10\n"
          ]
        },
        {
          "output_type": "stream",
          "name": "stderr",
          "text": [
            "INFO:fbprophet:Disabling daily seasonality. Run prophet with daily_seasonality=True to override this.\n"
          ]
        },
        {
          "output_type": "stream",
          "name": "stdout",
          "text": [
            "Model Number: 1110 with model FBProphet in generation 10 of 10\n",
            "Model Number: 1111 with model NVAR in generation 10 of 10\n",
            "Model Number: 1112 with model NVAR in generation 10 of 10\n",
            "Template Eval Error: Exception('Transformer Detrend failed on fit') in model 1112: NVAR\n",
            "Model Number: 1113 with model MultivariateRegression in generation 10 of 10\n"
          ]
        },
        {
          "output_type": "stream",
          "name": "stderr",
          "text": [
            "/usr/local/lib/python3.7/dist-packages/sklearn/linear_model/_glm/link.py:90: RuntimeWarning:\n",
            "\n",
            "overflow encountered in exp\n",
            "\n",
            "/usr/local/lib/python3.7/dist-packages/sklearn/linear_model/_glm/link.py:93: RuntimeWarning:\n",
            "\n",
            "overflow encountered in exp\n",
            "\n",
            "/usr/local/lib/python3.7/dist-packages/sklearn/_loss/glm_distribution.py:132: RuntimeWarning:\n",
            "\n",
            "invalid value encountered in true_divide\n",
            "\n",
            "[Parallel(n_jobs=-2)]: Using backend SequentialBackend with 1 concurrent workers.\n",
            "[Parallel(n_jobs=-2)]: Done 300 out of 300 | elapsed:    8.5s finished\n",
            "[Parallel(n_jobs=1)]: Using backend SequentialBackend with 1 concurrent workers.\n",
            "[Parallel(n_jobs=1)]: Done 300 out of 300 | elapsed:    0.0s finished\n",
            "[Parallel(n_jobs=1)]: Using backend SequentialBackend with 1 concurrent workers.\n",
            "[Parallel(n_jobs=1)]: Done 300 out of 300 | elapsed:    0.0s finished\n",
            "[Parallel(n_jobs=1)]: Using backend SequentialBackend with 1 concurrent workers.\n",
            "[Parallel(n_jobs=1)]: Done 300 out of 300 | elapsed:    0.0s finished\n",
            "[Parallel(n_jobs=1)]: Using backend SequentialBackend with 1 concurrent workers.\n",
            "[Parallel(n_jobs=1)]: Done 300 out of 300 | elapsed:    0.0s finished\n",
            "[Parallel(n_jobs=1)]: Using backend SequentialBackend with 1 concurrent workers.\n",
            "[Parallel(n_jobs=1)]: Done 300 out of 300 | elapsed:    0.0s finished\n"
          ]
        },
        {
          "output_type": "stream",
          "name": "stdout",
          "text": [
            "Model Number: 1114 with model SectionalMotif in generation 10 of 10\n",
            "Model Number: 1115 with model MultivariateMotif in generation 10 of 10\n"
          ]
        },
        {
          "output_type": "stream",
          "name": "stderr",
          "text": [
            "INFO:fbprophet:Disabling daily seasonality. Run prophet with daily_seasonality=True to override this.\n"
          ]
        },
        {
          "output_type": "stream",
          "name": "stdout",
          "text": [
            "Model Number: 1116 with model Ensemble in generation 11 of Ensembles\n"
          ]
        },
        {
          "output_type": "stream",
          "name": "stderr",
          "text": [
            "INFO:fbprophet:Disabling daily seasonality. Run prophet with daily_seasonality=True to override this.\n"
          ]
        },
        {
          "output_type": "stream",
          "name": "stdout",
          "text": [
            "Model Number: 1117 with model Ensemble in generation 11 of Ensembles\n"
          ]
        },
        {
          "output_type": "stream",
          "name": "stderr",
          "text": [
            "INFO:fbprophet:Disabling daily seasonality. Run prophet with daily_seasonality=True to override this.\n",
            "INFO:fbprophet:Disabling daily seasonality. Run prophet with daily_seasonality=True to override this.\n"
          ]
        },
        {
          "output_type": "stream",
          "name": "stdout",
          "text": [
            "Model Number: 1118 with model Ensemble in generation 11 of Ensembles\n"
          ]
        },
        {
          "output_type": "stream",
          "name": "stderr",
          "text": [
            "INFO:fbprophet:Disabling daily seasonality. Run prophet with daily_seasonality=True to override this.\n"
          ]
        },
        {
          "output_type": "stream",
          "name": "stdout",
          "text": [
            "Model Number: 1119 with model Ensemble in generation 11 of Ensembles\n"
          ]
        },
        {
          "output_type": "stream",
          "name": "stderr",
          "text": [
            "INFO:fbprophet:Disabling daily seasonality. Run prophet with daily_seasonality=True to override this.\n"
          ]
        },
        {
          "output_type": "stream",
          "name": "stdout",
          "text": [
            "Model Number: 1120 with model Ensemble in generation 11 of Ensembles\n"
          ]
        },
        {
          "output_type": "stream",
          "name": "stderr",
          "text": [
            "INFO:fbprophet:Disabling daily seasonality. Run prophet with daily_seasonality=True to override this.\n"
          ]
        },
        {
          "output_type": "stream",
          "name": "stdout",
          "text": [
            "Model Number: 1121 with model Ensemble in generation 11 of Ensembles\n"
          ]
        },
        {
          "output_type": "stream",
          "name": "stderr",
          "text": [
            "INFO:fbprophet:Disabling daily seasonality. Run prophet with daily_seasonality=True to override this.\n"
          ]
        },
        {
          "output_type": "stream",
          "name": "stdout",
          "text": [
            "Model Number: 1122 with model Ensemble in generation 11 of Ensembles\n",
            "Model Number: 1123 with model Ensemble in generation 11 of Ensembles\n"
          ]
        },
        {
          "output_type": "stream",
          "name": "stderr",
          "text": [
            "INFO:fbprophet:Disabling daily seasonality. Run prophet with daily_seasonality=True to override this.\n",
            "INFO:fbprophet:Disabling daily seasonality. Run prophet with daily_seasonality=True to override this.\n"
          ]
        },
        {
          "output_type": "stream",
          "name": "stdout",
          "text": [
            "Validation Round: 1\n",
            "Model Number: 1 of 161 with model Ensemble for Validation 1\n"
          ]
        },
        {
          "output_type": "stream",
          "name": "stderr",
          "text": [
            "INFO:fbprophet:Disabling daily seasonality. Run prophet with daily_seasonality=True to override this.\n"
          ]
        },
        {
          "output_type": "stream",
          "name": "stdout",
          "text": [
            "📈 1 - Ensemble with avg smape 2.28: \n",
            "Model Number: 2 of 161 with model Ensemble for Validation 1\n"
          ]
        },
        {
          "output_type": "stream",
          "name": "stderr",
          "text": [
            "INFO:fbprophet:Disabling daily seasonality. Run prophet with daily_seasonality=True to override this.\n"
          ]
        },
        {
          "output_type": "stream",
          "name": "stdout",
          "text": [
            "2 - Ensemble with avg smape 2.95: \n",
            "Model Number: 3 of 161 with model Ensemble for Validation 1\n"
          ]
        },
        {
          "output_type": "stream",
          "name": "stderr",
          "text": [
            "INFO:fbprophet:Disabling daily seasonality. Run prophet with daily_seasonality=True to override this.\n"
          ]
        },
        {
          "output_type": "stream",
          "name": "stdout",
          "text": [
            "3 - Ensemble with avg smape 2.89: \n",
            "Model Number: 4 of 161 with model Ensemble for Validation 1\n"
          ]
        },
        {
          "output_type": "stream",
          "name": "stderr",
          "text": [
            "INFO:fbprophet:Disabling daily seasonality. Run prophet with daily_seasonality=True to override this.\n"
          ]
        },
        {
          "output_type": "stream",
          "name": "stdout",
          "text": [
            "4 - Ensemble with avg smape 2.66: \n",
            "Model Number: 5 of 161 with model FBProphet for Validation 1\n",
            "5 - FBProphet with avg smape 3.53: \n",
            "Model Number: 6 of 161 with model Ensemble for Validation 1\n"
          ]
        },
        {
          "output_type": "stream",
          "name": "stderr",
          "text": [
            "INFO:fbprophet:Disabling daily seasonality. Run prophet with daily_seasonality=True to override this.\n",
            "INFO:fbprophet:Disabling daily seasonality. Run prophet with daily_seasonality=True to override this.\n"
          ]
        },
        {
          "output_type": "stream",
          "name": "stdout",
          "text": [
            "6 - Ensemble with avg smape 2.92: \n",
            "Model Number: 7 of 161 with model Ensemble for Validation 1\n",
            "7 - Ensemble with avg smape 2.93: \n",
            "Model Number: 8 of 161 with model SectionalMotif for Validation 1\n"
          ]
        },
        {
          "output_type": "stream",
          "name": "stderr",
          "text": [
            "INFO:fbprophet:Disabling daily seasonality. Run prophet with daily_seasonality=True to override this.\n"
          ]
        },
        {
          "output_type": "stream",
          "name": "stdout",
          "text": [
            "8 - SectionalMotif with avg smape 2.89: \n",
            "Model Number: 9 of 161 with model Ensemble for Validation 1\n"
          ]
        },
        {
          "output_type": "stream",
          "name": "stderr",
          "text": [
            "INFO:fbprophet:Disabling daily seasonality. Run prophet with daily_seasonality=True to override this.\n"
          ]
        },
        {
          "output_type": "stream",
          "name": "stdout",
          "text": [
            "9 - Ensemble with avg smape 2.78: \n",
            "Model Number: 10 of 161 with model WindowRegression for Validation 1\n",
            "10 - WindowRegression with avg smape 2.74: \n",
            "Model Number: 11 of 161 with model WindowRegression for Validation 1\n",
            "11 - WindowRegression with avg smape 2.74: \n",
            "Model Number: 12 of 161 with model FBProphet for Validation 1\n"
          ]
        },
        {
          "output_type": "stream",
          "name": "stderr",
          "text": [
            "INFO:fbprophet:Disabling daily seasonality. Run prophet with daily_seasonality=True to override this.\n"
          ]
        },
        {
          "output_type": "stream",
          "name": "stdout",
          "text": [
            "12 - FBProphet with avg smape 2.79: \n",
            "Model Number: 13 of 161 with model SeasonalNaive for Validation 1\n",
            "13 - SeasonalNaive with avg smape 3.06: \n",
            "Model Number: 14 of 161 with model UnivariateMotif for Validation 1\n",
            "14 - UnivariateMotif with avg smape 2.69: \n",
            "Model Number: 15 of 161 with model NVAR for Validation 1\n",
            "15 - NVAR with avg smape 2.66: \n",
            "Model Number: 16 of 161 with model NVAR for Validation 1\n",
            "16 - NVAR with avg smape 2.66: \n",
            "Model Number: 17 of 161 with model NVAR for Validation 1\n",
            "17 - NVAR with avg smape 2.66: \n",
            "Model Number: 18 of 161 with model NVAR for Validation 1\n",
            "18 - NVAR with avg smape 2.66: \n",
            "Model Number: 19 of 161 with model FBProphet for Validation 1\n"
          ]
        },
        {
          "output_type": "stream",
          "name": "stderr",
          "text": [
            "INFO:fbprophet:Disabling daily seasonality. Run prophet with daily_seasonality=True to override this.\n",
            "INFO:fbprophet:Disabling daily seasonality. Run prophet with daily_seasonality=True to override this.\n"
          ]
        },
        {
          "output_type": "stream",
          "name": "stdout",
          "text": [
            "19 - FBProphet with avg smape 2.69: \n",
            "Model Number: 20 of 161 with model FBProphet for Validation 1\n",
            "20 - FBProphet with avg smape 2.69: \n",
            "Model Number: 21 of 161 with model UnivariateMotif for Validation 1\n",
            "21 - UnivariateMotif with avg smape 2.67: \n",
            "Model Number: 22 of 161 with model UnivariateMotif for Validation 1\n",
            "22 - UnivariateMotif with avg smape 2.48: \n",
            "Model Number: 23 of 161 with model GLS for Validation 1\n",
            "23 - GLS with avg smape 2.67: \n",
            "Model Number: 24 of 161 with model Ensemble for Validation 1\n"
          ]
        },
        {
          "output_type": "stream",
          "name": "stderr",
          "text": [
            "/usr/local/lib/python3.7/dist-packages/sklearn/linear_model/_glm/link.py:90: RuntimeWarning:\n",
            "\n",
            "overflow encountered in exp\n",
            "\n",
            "/usr/local/lib/python3.7/dist-packages/sklearn/linear_model/_glm/link.py:93: RuntimeWarning:\n",
            "\n",
            "overflow encountered in exp\n",
            "\n",
            "/usr/local/lib/python3.7/dist-packages/sklearn/_loss/glm_distribution.py:132: RuntimeWarning:\n",
            "\n",
            "invalid value encountered in true_divide\n",
            "\n",
            "INFO:fbprophet:Disabling daily seasonality. Run prophet with daily_seasonality=True to override this.\n"
          ]
        },
        {
          "output_type": "stream",
          "name": "stdout",
          "text": [
            "24 - Ensemble with avg smape 2.95: \n",
            "Model Number: 25 of 161 with model GLS for Validation 1\n",
            "25 - GLS with avg smape 2.67: \n",
            "Model Number: 26 of 161 with model ETS for Validation 1\n",
            "ETS error TypeError(\"__init__() got an unexpected keyword argument 'damped_trend'\")\n",
            "ETS failed on 0 with ValueError('endog must be strictly positive when using multiplicative trend or seasonal components.')\n",
            "26 - ETS with avg smape 2.67: \n",
            "Model Number: 27 of 161 with model GLS for Validation 1\n",
            "27 - GLS with avg smape 2.67: \n",
            "Model Number: 28 of 161 with model GLS for Validation 1\n",
            "28 - GLS with avg smape 2.67: \n",
            "Model Number: 29 of 161 with model GLS for Validation 1\n",
            "29 - GLS with avg smape 2.67: \n",
            "Model Number: 30 of 161 with model GLS for Validation 1\n",
            "30 - GLS with avg smape 2.67: \n",
            "Model Number: 31 of 161 with model GLS for Validation 1\n",
            "31 - GLS with avg smape 2.67: \n",
            "Model Number: 32 of 161 with model ETS for Validation 1\n",
            "ETS error TypeError(\"__init__() got an unexpected keyword argument 'damped_trend'\")\n",
            "ETS failed on First with ValueError('endog must be strictly positive when using multiplicative trend or seasonal components.')\n",
            "32 - ETS with avg smape 2.67: \n",
            "Model Number: 33 of 161 with model LastValueNaive for Validation 1\n",
            "33 - LastValueNaive with avg smape 2.67: \n",
            "Model Number: 34 of 161 with model AverageValueNaive for Validation 1\n",
            "34 - AverageValueNaive with avg smape 2.47: \n",
            "Model Number: 35 of 161 with model ETS for Validation 1\n",
            "ETS error TypeError(\"__init__() got an unexpected keyword argument 'damped_trend'\")\n",
            "ETS failed on First with ValueError('endog must be strictly positive when using multiplicative trend or seasonal components.')\n",
            "35 - ETS with avg smape 2.65: \n",
            "Model Number: 36 of 161 with model WindowRegression for Validation 1\n",
            "36 - WindowRegression with avg smape 7.7: \n",
            "Model Number: 37 of 161 with model ETS for Validation 1\n",
            "ETS error TypeError(\"__init__() got an unexpected keyword argument 'damped_trend'\")\n",
            "37 - ETS with avg smape 2.55: \n",
            "Model Number: 38 of 161 with model MultivariateMotif for Validation 1\n",
            "38 - MultivariateMotif with avg smape 2.67: \n",
            "Model Number: 39 of 161 with model ETS for Validation 1\n",
            "ETS error TypeError(\"__init__() got an unexpected keyword argument 'damped_trend'\")\n",
            "39 - ETS with avg smape 2.53: \n",
            "Model Number: 40 of 161 with model LastValueNaive for Validation 1\n",
            "40 - LastValueNaive with avg smape 5.51: \n",
            "Model Number: 41 of 161 with model NVAR for Validation 1\n",
            "41 - NVAR with avg smape 2.66: \n",
            "Model Number: 42 of 161 with model NVAR for Validation 1\n"
          ]
        },
        {
          "output_type": "stream",
          "name": "stderr",
          "text": [
            "/usr/local/lib/python3.7/dist-packages/sklearn/linear_model/_glm/link.py:90: RuntimeWarning:\n",
            "\n",
            "overflow encountered in exp\n",
            "\n",
            "/usr/local/lib/python3.7/dist-packages/sklearn/linear_model/_glm/link.py:93: RuntimeWarning:\n",
            "\n",
            "overflow encountered in exp\n",
            "\n",
            "/usr/local/lib/python3.7/dist-packages/sklearn/_loss/glm_distribution.py:132: RuntimeWarning:\n",
            "\n",
            "invalid value encountered in true_divide\n",
            "\n",
            "/usr/local/lib/python3.7/dist-packages/sklearn/_loss/glm_distribution.py:323: RuntimeWarning:\n",
            "\n",
            "invalid value encountered in add\n",
            "\n",
            "/usr/local/lib/python3.7/dist-packages/sklearn/linear_model/_glm/glm.py:323: ConvergenceWarning:\n",
            "\n",
            "lbfgs failed to converge (status=2):\n",
            "ABNORMAL_TERMINATION_IN_LNSRCH.\n",
            "\n",
            "Increase the number of iterations (max_iter) or scale the data as shown in:\n",
            "    https://scikit-learn.org/stable/modules/preprocessing.html\n",
            "\n"
          ]
        },
        {
          "output_type": "stream",
          "name": "stdout",
          "text": [
            "42 - NVAR with avg smape 2.68: \n",
            "Model Number: 43 of 161 with model MultivariateMotif for Validation 1\n",
            "43 - MultivariateMotif with avg smape 2.72: \n",
            "Model Number: 44 of 161 with model ETS for Validation 1\n",
            "ETS error TypeError(\"__init__() got an unexpected keyword argument 'damped_trend'\")\n",
            "44 - ETS with avg smape 2.5: \n",
            "Model Number: 45 of 161 with model ETS for Validation 1\n",
            "ETS error TypeError(\"__init__() got an unexpected keyword argument 'damped_trend'\")\n",
            "45 - ETS with avg smape 2.5: \n",
            "Model Number: 46 of 161 with model ETS for Validation 1\n",
            "ETS error TypeError(\"__init__() got an unexpected keyword argument 'damped_trend'\")\n",
            "46 - ETS with avg smape 2.5: \n",
            "Model Number: 47 of 161 with model ETS for Validation 1\n",
            "ETS error TypeError(\"__init__() got an unexpected keyword argument 'damped_trend'\")\n",
            "47 - ETS with avg smape 2.5: \n",
            "Model Number: 48 of 161 with model NVAR for Validation 1\n",
            "48 - NVAR with avg smape 2.67: \n",
            "Model Number: 49 of 161 with model NVAR for Validation 1\n",
            "49 - NVAR with avg smape 2.67: \n",
            "Model Number: 50 of 161 with model NVAR for Validation 1\n",
            "50 - NVAR with avg smape 2.67: \n",
            "Model Number: 51 of 161 with model ConstantNaive for Validation 1\n",
            "51 - ConstantNaive with avg smape 2.67: \n",
            "Model Number: 52 of 161 with model MultivariateRegression for Validation 1\n",
            "52 - MultivariateRegression with avg smape 2.66: \n",
            "Model Number: 53 of 161 with model ConstantNaive for Validation 1\n",
            "53 - ConstantNaive with avg smape 2.67: \n",
            "Model Number: 54 of 161 with model ConstantNaive for Validation 1\n",
            "54 - ConstantNaive with avg smape 2.67: \n",
            "Model Number: 55 of 161 with model ConstantNaive for Validation 1\n",
            "55 - ConstantNaive with avg smape 2.67: \n",
            "Model Number: 56 of 161 with model MultivariateMotif for Validation 1\n",
            "56 - MultivariateMotif with avg smape 2.67: \n",
            "Model Number: 57 of 161 with model UnivariateMotif for Validation 1\n",
            "57 - UnivariateMotif with avg smape 7.06: \n",
            "Model Number: 58 of 161 with model UnivariateMotif for Validation 1\n",
            "58 - UnivariateMotif with avg smape 3.75: \n",
            "Model Number: 59 of 161 with model UnivariateMotif for Validation 1\n",
            "59 - UnivariateMotif with avg smape 2.45: \n",
            "Model Number: 60 of 161 with model MultivariateMotif for Validation 1"
          ]
        },
        {
          "output_type": "stream",
          "name": "stderr",
          "text": [
            "/usr/local/lib/python3.7/dist-packages/sklearn/linear_model/_glm/link.py:90: RuntimeWarning:\n",
            "\n",
            "overflow encountered in exp\n",
            "\n",
            "/usr/local/lib/python3.7/dist-packages/sklearn/linear_model/_glm/link.py:93: RuntimeWarning:\n",
            "\n",
            "overflow encountered in exp\n",
            "\n",
            "/usr/local/lib/python3.7/dist-packages/sklearn/_loss/glm_distribution.py:132: RuntimeWarning:\n",
            "\n",
            "invalid value encountered in true_divide\n",
            "\n"
          ]
        },
        {
          "output_type": "stream",
          "name": "stdout",
          "text": [
            "\n",
            "60 - MultivariateMotif with avg smape 69.8: \n",
            "Model Number: 61 of 161 with model FBProphet for Validation 1\n"
          ]
        },
        {
          "output_type": "stream",
          "name": "stderr",
          "text": [
            "/usr/local/lib/python3.7/dist-packages/scipy/signal/signaltools.py:1456: RuntimeWarning:\n",
            "\n",
            "divide by zero encountered in true_divide\n",
            "\n",
            "/usr/local/lib/python3.7/dist-packages/scipy/signal/signaltools.py:1456: RuntimeWarning:\n",
            "\n",
            "invalid value encountered in multiply\n",
            "\n",
            "INFO:fbprophet:Disabling daily seasonality. Run prophet with daily_seasonality=True to override this.\n"
          ]
        },
        {
          "output_type": "stream",
          "name": "stdout",
          "text": [
            "61 - FBProphet with avg smape 2.99: \n",
            "Model Number: 62 of 161 with model LastValueNaive for Validation 1\n",
            "62 - LastValueNaive with avg smape 5.3: \n",
            "Model Number: 63 of 161 with model SectionalMotif for Validation 1\n",
            "63 - SectionalMotif with avg smape 69.8: \n",
            "Model Number: 64 of 161 with model SectionalMotif for Validation 1\n"
          ]
        },
        {
          "output_type": "stream",
          "name": "stderr",
          "text": [
            "/usr/local/lib/python3.7/dist-packages/sklearn/linear_model/_glm/link.py:90: RuntimeWarning:\n",
            "\n",
            "overflow encountered in exp\n",
            "\n",
            "/usr/local/lib/python3.7/dist-packages/sklearn/linear_model/_glm/link.py:93: RuntimeWarning:\n",
            "\n",
            "overflow encountered in exp\n",
            "\n",
            "/usr/local/lib/python3.7/dist-packages/sklearn/_loss/glm_distribution.py:132: RuntimeWarning:\n",
            "\n",
            "invalid value encountered in true_divide\n",
            "\n",
            "/usr/local/lib/python3.7/dist-packages/sklearn/linear_model/_glm/link.py:90: RuntimeWarning:\n",
            "\n",
            "overflow encountered in exp\n",
            "\n",
            "/usr/local/lib/python3.7/dist-packages/sklearn/linear_model/_glm/link.py:93: RuntimeWarning:\n",
            "\n",
            "overflow encountered in exp\n",
            "\n",
            "/usr/local/lib/python3.7/dist-packages/sklearn/_loss/glm_distribution.py:132: RuntimeWarning:\n",
            "\n",
            "invalid value encountered in true_divide\n",
            "\n",
            "/usr/local/lib/python3.7/dist-packages/sklearn/_loss/glm_distribution.py:323: RuntimeWarning:\n",
            "\n",
            "invalid value encountered in add\n",
            "\n",
            "/usr/local/lib/python3.7/dist-packages/sklearn/linear_model/_glm/glm.py:323: ConvergenceWarning:\n",
            "\n",
            "lbfgs failed to converge (status=2):\n",
            "ABNORMAL_TERMINATION_IN_LNSRCH.\n",
            "\n",
            "Increase the number of iterations (max_iter) or scale the data as shown in:\n",
            "    https://scikit-learn.org/stable/modules/preprocessing.html\n",
            "\n"
          ]
        },
        {
          "output_type": "stream",
          "name": "stdout",
          "text": [
            "64 - SectionalMotif with avg smape 4.62: \n",
            "Model Number: 65 of 161 with model UnivariateMotif for Validation 1\n",
            "65 - UnivariateMotif with avg smape 2.81: \n",
            "Model Number: 66 of 161 with model UnivariateMotif for Validation 1\n",
            "66 - UnivariateMotif with avg smape 2.64: \n",
            "Model Number: 67 of 161 with model MultivariateRegression for Validation 1\n"
          ]
        },
        {
          "output_type": "stream",
          "name": "stderr",
          "text": [
            "[Parallel(n_jobs=-2)]: Using backend SequentialBackend with 1 concurrent workers.\n",
            "[Parallel(n_jobs=-2)]: Done 300 out of 300 | elapsed:    6.1s finished\n",
            "[Parallel(n_jobs=1)]: Using backend SequentialBackend with 1 concurrent workers.\n",
            "[Parallel(n_jobs=1)]: Done 300 out of 300 | elapsed:    0.0s finished\n",
            "[Parallel(n_jobs=1)]: Using backend SequentialBackend with 1 concurrent workers.\n",
            "[Parallel(n_jobs=1)]: Done 300 out of 300 | elapsed:    0.0s finished\n",
            "[Parallel(n_jobs=1)]: Using backend SequentialBackend with 1 concurrent workers.\n",
            "[Parallel(n_jobs=1)]: Done 300 out of 300 | elapsed:    0.0s finished\n",
            "[Parallel(n_jobs=1)]: Using backend SequentialBackend with 1 concurrent workers.\n",
            "[Parallel(n_jobs=1)]: Done 300 out of 300 | elapsed:    0.0s finished\n",
            "[Parallel(n_jobs=1)]: Using backend SequentialBackend with 1 concurrent workers.\n",
            "[Parallel(n_jobs=1)]: Done 300 out of 300 | elapsed:    0.0s finished\n"
          ]
        },
        {
          "output_type": "stream",
          "name": "stdout",
          "text": [
            "67 - MultivariateRegression with avg smape 4.62: \n",
            "Model Number: 68 of 161 with model LastValueNaive for Validation 1\n",
            "68 - LastValueNaive with avg smape 4.16: \n",
            "Model Number: 69 of 161 with model LastValueNaive for Validation 1\n",
            "69 - LastValueNaive with avg smape 9.65: \n",
            "Model Number: 70 of 161 with model MultivariateRegression for Validation 1\n"
          ]
        },
        {
          "output_type": "stream",
          "name": "stderr",
          "text": [
            "/usr/local/lib/python3.7/dist-packages/sklearn/linear_model/_glm/link.py:90: RuntimeWarning:\n",
            "\n",
            "overflow encountered in exp\n",
            "\n",
            "/usr/local/lib/python3.7/dist-packages/sklearn/linear_model/_glm/link.py:93: RuntimeWarning:\n",
            "\n",
            "overflow encountered in exp\n",
            "\n",
            "/usr/local/lib/python3.7/dist-packages/sklearn/_loss/glm_distribution.py:132: RuntimeWarning:\n",
            "\n",
            "invalid value encountered in true_divide\n",
            "\n",
            "/usr/local/lib/python3.7/dist-packages/sklearn/linear_model/_glm/link.py:90: RuntimeWarning:\n",
            "\n",
            "overflow encountered in exp\n",
            "\n",
            "/usr/local/lib/python3.7/dist-packages/sklearn/linear_model/_glm/link.py:93: RuntimeWarning:\n",
            "\n",
            "overflow encountered in exp\n",
            "\n",
            "/usr/local/lib/python3.7/dist-packages/sklearn/_loss/glm_distribution.py:132: RuntimeWarning:\n",
            "\n",
            "invalid value encountered in true_divide\n",
            "\n",
            "/usr/local/lib/python3.7/dist-packages/sklearn/_loss/glm_distribution.py:323: RuntimeWarning:\n",
            "\n",
            "invalid value encountered in add\n",
            "\n",
            "/usr/local/lib/python3.7/dist-packages/sklearn/linear_model/_glm/glm.py:323: ConvergenceWarning:\n",
            "\n",
            "lbfgs failed to converge (status=2):\n",
            "ABNORMAL_TERMINATION_IN_LNSRCH.\n",
            "\n",
            "Increase the number of iterations (max_iter) or scale the data as shown in:\n",
            "    https://scikit-learn.org/stable/modules/preprocessing.html\n",
            "\n",
            "[Parallel(n_jobs=-2)]: Using backend SequentialBackend with 1 concurrent workers.\n",
            "[Parallel(n_jobs=-2)]: Done 300 out of 300 | elapsed:    6.2s finished\n",
            "[Parallel(n_jobs=1)]: Using backend SequentialBackend with 1 concurrent workers.\n",
            "[Parallel(n_jobs=1)]: Done 300 out of 300 | elapsed:    0.0s finished\n",
            "[Parallel(n_jobs=1)]: Using backend SequentialBackend with 1 concurrent workers.\n",
            "[Parallel(n_jobs=1)]: Done 300 out of 300 | elapsed:    0.0s finished\n",
            "[Parallel(n_jobs=1)]: Using backend SequentialBackend with 1 concurrent workers.\n",
            "[Parallel(n_jobs=1)]: Done 300 out of 300 | elapsed:    0.0s finished\n",
            "[Parallel(n_jobs=1)]: Using backend SequentialBackend with 1 concurrent workers.\n",
            "[Parallel(n_jobs=1)]: Done 300 out of 300 | elapsed:    0.0s finished\n",
            "[Parallel(n_jobs=1)]: Using backend SequentialBackend with 1 concurrent workers.\n",
            "[Parallel(n_jobs=1)]: Done 300 out of 300 | elapsed:    0.0s finished\n"
          ]
        },
        {
          "output_type": "stream",
          "name": "stdout",
          "text": [
            "70 - MultivariateRegression with avg smape 4.62: \n",
            "Model Number: 71 of 161 with model MultivariateMotif for Validation 1\n",
            "71 - MultivariateMotif with avg smape 4.67: \n",
            "Model Number: 72 of 161 with model MultivariateRegression for Validation 1\n"
          ]
        },
        {
          "output_type": "stream",
          "name": "stderr",
          "text": [
            "[Parallel(n_jobs=-2)]: Using backend SequentialBackend with 1 concurrent workers.\n",
            "[Parallel(n_jobs=-2)]: Done 300 out of 300 | elapsed:    6.3s finished\n",
            "[Parallel(n_jobs=1)]: Using backend SequentialBackend with 1 concurrent workers.\n",
            "[Parallel(n_jobs=1)]: Done 300 out of 300 | elapsed:    0.0s finished\n",
            "[Parallel(n_jobs=1)]: Using backend SequentialBackend with 1 concurrent workers.\n",
            "[Parallel(n_jobs=1)]: Done 300 out of 300 | elapsed:    0.0s finished\n",
            "[Parallel(n_jobs=1)]: Using backend SequentialBackend with 1 concurrent workers.\n",
            "[Parallel(n_jobs=1)]: Done 300 out of 300 | elapsed:    0.0s finished\n",
            "[Parallel(n_jobs=1)]: Using backend SequentialBackend with 1 concurrent workers.\n",
            "[Parallel(n_jobs=1)]: Done 300 out of 300 | elapsed:    0.0s finished\n",
            "[Parallel(n_jobs=1)]: Using backend SequentialBackend with 1 concurrent workers.\n",
            "[Parallel(n_jobs=1)]: Done 300 out of 300 | elapsed:    0.0s finished\n",
            "INFO:fbprophet:Disabling daily seasonality. Run prophet with daily_seasonality=True to override this.\n"
          ]
        },
        {
          "output_type": "stream",
          "name": "stdout",
          "text": [
            "72 - MultivariateRegression with avg smape 4.61: \n",
            "Model Number: 73 of 161 with model FBProphet for Validation 1\n",
            "73 - FBProphet with avg smape 4.52: \n",
            "Model Number: 74 of 161 with model MultivariateMotif for Validation 1\n",
            "74 - MultivariateMotif with avg smape 73.28: \n",
            "Model Number: 75 of 161 with model MultivariateRegression for Validation 1\n",
            "Template Eval Error: ValueError(\"Input contains NaN, infinity or a value too large for dtype('float64').\") in model 75: MultivariateRegression\n",
            "Model Number: 76 of 161 with model MultivariateRegression for Validation 1\n"
          ]
        },
        {
          "output_type": "stream",
          "name": "stderr",
          "text": [
            "/usr/local/lib/python3.7/dist-packages/sklearn/_loss/glm_distribution.py:132: RuntimeWarning:\n",
            "\n",
            "divide by zero encountered in true_divide\n",
            "\n",
            "/usr/local/lib/python3.7/dist-packages/sklearn/linear_model/_glm/glm.py:42: RuntimeWarning:\n",
            "\n",
            "invalid value encountered in multiply\n",
            "\n",
            "/usr/local/lib/python3.7/dist-packages/sklearn/_loss/glm_distribution.py:331: RuntimeWarning:\n",
            "\n",
            "divide by zero encountered in power\n",
            "\n",
            "INFO:fbprophet:Disabling daily seasonality. Run prophet with daily_seasonality=True to override this.\n"
          ]
        },
        {
          "output_type": "stream",
          "name": "stdout",
          "text": [
            "Template Eval Error: ValueError(\"Input contains NaN, infinity or a value too large for dtype('float64').\") in model 76: MultivariateRegression\n",
            "Model Number: 77 of 161 with model FBProphet for Validation 1\n",
            "77 - FBProphet with avg smape 4.62: \n",
            "Model Number: 78 of 161 with model MultivariateMotif for Validation 1\n",
            "📈 78 - MultivariateMotif with avg smape 1.99: \n",
            "Model Number: 79 of 161 with model GLS for Validation 1\n",
            "79 - GLS with avg smape 3.69: \n",
            "Model Number: 80 of 161 with model FBProphet for Validation 1\n"
          ]
        },
        {
          "output_type": "stream",
          "name": "stderr",
          "text": [
            "INFO:fbprophet:Disabling daily seasonality. Run prophet with daily_seasonality=True to override this.\n",
            "INFO:fbprophet:Disabling daily seasonality. Run prophet with daily_seasonality=True to override this.\n"
          ]
        },
        {
          "output_type": "stream",
          "name": "stdout",
          "text": [
            "80 - FBProphet with avg smape 4.67: \n",
            "Model Number: 81 of 161 with model FBProphet for Validation 1\n",
            "81 - FBProphet with avg smape 4.57: \n",
            "Model Number: 82 of 161 with model LastValueNaive for Validation 1\n",
            "82 - LastValueNaive with avg smape 69.8: \n",
            "Model Number: 83 of 161 with model WindowRegression for Validation 1\n",
            "83 - WindowRegression with avg smape 4.47: \n",
            "Model Number: 84 of 161 with model WindowRegression for Validation 1\n",
            "84 - WindowRegression with avg smape 4.61: \n",
            "Model Number: 85 of 161 with model SectionalMotif for Validation 1\n"
          ]
        },
        {
          "output_type": "stream",
          "name": "stderr",
          "text": [
            "/usr/local/lib/python3.7/dist-packages/sklearn/neural_network/_multilayer_perceptron.py:549: ConvergenceWarning:\n",
            "\n",
            "lbfgs failed to converge (status=1):\n",
            "STOP: TOTAL NO. of ITERATIONS REACHED LIMIT.\n",
            "\n",
            "Increase the number of iterations (max_iter) or scale the data as shown in:\n",
            "    https://scikit-learn.org/stable/modules/preprocessing.html\n",
            "\n",
            "/usr/local/lib/python3.7/dist-packages/sklearn/linear_model/_glm/link.py:90: RuntimeWarning:\n",
            "\n",
            "overflow encountered in exp\n",
            "\n",
            "/usr/local/lib/python3.7/dist-packages/sklearn/linear_model/_glm/link.py:93: RuntimeWarning:\n",
            "\n",
            "overflow encountered in exp\n",
            "\n",
            "/usr/local/lib/python3.7/dist-packages/sklearn/_loss/glm_distribution.py:132: RuntimeWarning:\n",
            "\n",
            "invalid value encountered in true_divide\n",
            "\n",
            "/usr/local/lib/python3.7/dist-packages/sklearn/_loss/glm_distribution.py:323: RuntimeWarning:\n",
            "\n",
            "invalid value encountered in add\n",
            "\n",
            "/usr/local/lib/python3.7/dist-packages/sklearn/linear_model/_glm/glm.py:323: ConvergenceWarning:\n",
            "\n",
            "lbfgs failed to converge (status=2):\n",
            "ABNORMAL_TERMINATION_IN_LNSRCH.\n",
            "\n",
            "Increase the number of iterations (max_iter) or scale the data as shown in:\n",
            "    https://scikit-learn.org/stable/modules/preprocessing.html\n",
            "\n",
            "/usr/local/lib/python3.7/dist-packages/sklearn/linear_model/_glm/link.py:90: RuntimeWarning:\n",
            "\n",
            "overflow encountered in exp\n",
            "\n",
            "/usr/local/lib/python3.7/dist-packages/sklearn/linear_model/_glm/link.py:93: RuntimeWarning:\n",
            "\n",
            "overflow encountered in exp\n",
            "\n",
            "/usr/local/lib/python3.7/dist-packages/sklearn/_loss/glm_distribution.py:132: RuntimeWarning:\n",
            "\n",
            "invalid value encountered in true_divide\n",
            "\n",
            "/usr/local/lib/python3.7/dist-packages/sklearn/svm/_base.py:1208: ConvergenceWarning:\n",
            "\n",
            "Liblinear failed to converge, increase the number of iterations.\n",
            "\n"
          ]
        },
        {
          "output_type": "stream",
          "name": "stdout",
          "text": [
            "85 - SectionalMotif with avg smape 6.07: \n",
            "Model Number: 86 of 161 with model WindowRegression for Validation 1\n"
          ]
        },
        {
          "output_type": "stream",
          "name": "stderr",
          "text": [
            "/usr/local/lib/python3.7/dist-packages/sklearn/svm/_base.py:1208: ConvergenceWarning:\n",
            "\n",
            "Liblinear failed to converge, increase the number of iterations.\n",
            "\n",
            "/usr/local/lib/python3.7/dist-packages/sklearn/svm/_base.py:1208: ConvergenceWarning:\n",
            "\n",
            "Liblinear failed to converge, increase the number of iterations.\n",
            "\n",
            "/usr/local/lib/python3.7/dist-packages/sklearn/svm/_base.py:1208: ConvergenceWarning:\n",
            "\n",
            "Liblinear failed to converge, increase the number of iterations.\n",
            "\n",
            "/usr/local/lib/python3.7/dist-packages/sklearn/svm/_base.py:1208: ConvergenceWarning:\n",
            "\n",
            "Liblinear failed to converge, increase the number of iterations.\n",
            "\n"
          ]
        },
        {
          "output_type": "stream",
          "name": "stdout",
          "text": [
            "86 - WindowRegression with avg smape 69.8: \n",
            "Model Number: 87 of 161 with model GLS for Validation 1\n",
            "87 - GLS with avg smape 4.61: \n",
            "Model Number: 88 of 161 with model WindowRegression for Validation 1\n"
          ]
        },
        {
          "output_type": "stream",
          "name": "stderr",
          "text": [
            "/usr/local/lib/python3.7/dist-packages/sklearn/neural_network/_multilayer_perceptron.py:549: ConvergenceWarning:\n",
            "\n",
            "lbfgs failed to converge (status=1):\n",
            "STOP: TOTAL NO. of ITERATIONS REACHED LIMIT.\n",
            "\n",
            "Increase the number of iterations (max_iter) or scale the data as shown in:\n",
            "    https://scikit-learn.org/stable/modules/preprocessing.html\n",
            "\n"
          ]
        },
        {
          "output_type": "stream",
          "name": "stdout",
          "text": [
            "88 - WindowRegression with avg smape 4.57: \n",
            "Model Number: 89 of 161 with model WindowRegression for Validation 1\n",
            "Epoch 1/50\n",
            "91/91 [==============================] - 3s 11ms/step - loss: 108.4832 - val_loss: 182.7912\n",
            "Epoch 2/50\n",
            "91/91 [==============================] - 1s 8ms/step - loss: 104.7946 - val_loss: 181.4989\n",
            "Epoch 3/50\n",
            "91/91 [==============================] - 1s 8ms/step - loss: 102.9184 - val_loss: 180.8285\n",
            "Epoch 4/50\n",
            "91/91 [==============================] - 1s 8ms/step - loss: 101.5078 - val_loss: 180.4815\n",
            "Epoch 5/50\n",
            "91/91 [==============================] - 1s 8ms/step - loss: 100.8083 - val_loss: 180.2512\n",
            "Epoch 6/50\n",
            "91/91 [==============================] - 1s 8ms/step - loss: 99.7471 - val_loss: 179.9833\n",
            "Epoch 7/50\n",
            "91/91 [==============================] - 1s 8ms/step - loss: 99.4961 - val_loss: 179.8459\n",
            "Epoch 8/50\n",
            "91/91 [==============================] - 1s 8ms/step - loss: 99.3326 - val_loss: 179.7382\n",
            "Epoch 9/50\n",
            "91/91 [==============================] - 1s 8ms/step - loss: 98.9352 - val_loss: 179.6441\n",
            "Epoch 10/50\n",
            "91/91 [==============================] - 1s 8ms/step - loss: 98.3084 - val_loss: 179.5951\n",
            "Epoch 11/50\n",
            "91/91 [==============================] - 1s 8ms/step - loss: 98.1438 - val_loss: 179.5257\n",
            "Epoch 12/50\n",
            "91/91 [==============================] - 1s 8ms/step - loss: 97.3900 - val_loss: 179.5048\n",
            "Epoch 13/50\n",
            "91/91 [==============================] - 1s 8ms/step - loss: 97.3266 - val_loss: 179.4749\n",
            "Epoch 14/50\n",
            "91/91 [==============================] - 1s 8ms/step - loss: 97.7616 - val_loss: 179.4873\n",
            "Epoch 15/50\n",
            "91/91 [==============================] - 1s 8ms/step - loss: 97.2353 - val_loss: 179.5152\n",
            "Epoch 16/50\n",
            "91/91 [==============================] - 1s 8ms/step - loss: 96.8257 - val_loss: 179.5696\n",
            "Epoch 17/50\n",
            "91/91 [==============================] - 1s 8ms/step - loss: 96.7582 - val_loss: 179.6214\n",
            "Epoch 18/50\n",
            "91/91 [==============================] - 1s 8ms/step - loss: 96.5891 - val_loss: 179.6670\n",
            "Epoch 19/50\n",
            "91/91 [==============================] - 1s 8ms/step - loss: 96.2225 - val_loss: 179.7165\n",
            "Epoch 20/50\n",
            "91/91 [==============================] - 1s 8ms/step - loss: 96.7037 - val_loss: 179.7567\n",
            "Epoch 21/50\n",
            "91/91 [==============================] - 1s 8ms/step - loss: 96.4194 - val_loss: 179.7751\n",
            "Epoch 22/50\n",
            "91/91 [==============================] - 1s 8ms/step - loss: 96.1367 - val_loss: 179.7526\n",
            "Epoch 23/50\n",
            "91/91 [==============================] - 1s 8ms/step - loss: 96.4838 - val_loss: 179.6999\n",
            "89 - WindowRegression with avg smape 4.57: \n",
            "Model Number: 90 of 161 with model UnivariateMotif for Validation 1\n",
            "90 - UnivariateMotif with avg smape 4.42: \n",
            "Model Number: 91 of 161 with model AverageValueNaive for Validation 1\n",
            "91 - AverageValueNaive with avg smape 4.53: \n",
            "Model Number: 92 of 161 with model MultivariateRegression for Validation 1\n"
          ]
        },
        {
          "output_type": "stream",
          "name": "stderr",
          "text": [
            "/usr/local/lib/python3.7/dist-packages/sklearn/_loss/glm_distribution.py:132: RuntimeWarning:\n",
            "\n",
            "divide by zero encountered in true_divide\n",
            "\n",
            "/usr/local/lib/python3.7/dist-packages/sklearn/linear_model/_glm/glm.py:42: RuntimeWarning:\n",
            "\n",
            "invalid value encountered in multiply\n",
            "\n",
            "/usr/local/lib/python3.7/dist-packages/sklearn/_loss/glm_distribution.py:331: RuntimeWarning:\n",
            "\n",
            "divide by zero encountered in power\n",
            "\n"
          ]
        },
        {
          "output_type": "stream",
          "name": "stdout",
          "text": [
            "Epoch 1/50\n",
            "57/57 [==============================] - 4s 4ms/step - loss: nan\n",
            "Epoch 2/50\n",
            "57/57 [==============================] - 0s 3ms/step - loss: nan\n",
            "Epoch 3/50\n",
            "57/57 [==============================] - 0s 4ms/step - loss: nan\n",
            "Epoch 4/50\n",
            "57/57 [==============================] - 0s 4ms/step - loss: nan\n",
            "Epoch 5/50\n",
            "57/57 [==============================] - 0s 4ms/step - loss: nan\n",
            "Epoch 6/50\n",
            "57/57 [==============================] - 0s 4ms/step - loss: nan\n",
            "Epoch 7/50\n",
            "57/57 [==============================] - 0s 4ms/step - loss: nan\n",
            "Epoch 8/50\n",
            "57/57 [==============================] - 0s 4ms/step - loss: nan\n",
            "Epoch 9/50\n",
            "57/57 [==============================] - 0s 4ms/step - loss: nan\n",
            "Epoch 10/50\n",
            "57/57 [==============================] - 0s 4ms/step - loss: nan\n",
            "Epoch 11/50\n",
            "57/57 [==============================] - 0s 4ms/step - loss: nan\n",
            "Epoch 12/50\n",
            "57/57 [==============================] - 0s 4ms/step - loss: nan\n",
            "Epoch 13/50\n",
            "57/57 [==============================] - 0s 4ms/step - loss: nan\n",
            "Epoch 14/50\n",
            "57/57 [==============================] - 0s 4ms/step - loss: nan\n",
            "Epoch 15/50\n",
            "57/57 [==============================] - 0s 5ms/step - loss: nan\n",
            "Epoch 16/50\n",
            "57/57 [==============================] - 0s 4ms/step - loss: nan\n",
            "Epoch 17/50\n",
            "57/57 [==============================] - 0s 4ms/step - loss: nan\n",
            "Epoch 18/50\n",
            "57/57 [==============================] - 0s 4ms/step - loss: nan\n",
            "Epoch 19/50\n",
            "57/57 [==============================] - 0s 4ms/step - loss: nan\n",
            "Epoch 20/50\n",
            "57/57 [==============================] - 0s 4ms/step - loss: nan\n",
            "Epoch 21/50\n",
            "57/57 [==============================] - 0s 4ms/step - loss: nan\n",
            "Epoch 22/50\n",
            "57/57 [==============================] - 0s 4ms/step - loss: nan\n",
            "Epoch 23/50\n",
            "57/57 [==============================] - 0s 4ms/step - loss: nan\n",
            "Epoch 24/50\n",
            "57/57 [==============================] - 0s 4ms/step - loss: nan\n",
            "Epoch 25/50\n",
            "57/57 [==============================] - 0s 4ms/step - loss: nan\n",
            "Epoch 26/50\n",
            "57/57 [==============================] - 0s 4ms/step - loss: nan\n",
            "Epoch 27/50\n",
            "57/57 [==============================] - 0s 4ms/step - loss: nan\n",
            "Epoch 28/50\n",
            "57/57 [==============================] - 0s 4ms/step - loss: nan\n",
            "Epoch 29/50\n",
            "57/57 [==============================] - 0s 4ms/step - loss: nan\n",
            "Epoch 30/50\n",
            "57/57 [==============================] - 0s 4ms/step - loss: nan\n",
            "Epoch 31/50\n",
            "57/57 [==============================] - 0s 4ms/step - loss: nan\n",
            "Epoch 32/50\n",
            "57/57 [==============================] - 0s 4ms/step - loss: nan\n",
            "Epoch 33/50\n",
            "57/57 [==============================] - 0s 4ms/step - loss: nan\n",
            "Epoch 34/50\n",
            "57/57 [==============================] - 0s 4ms/step - loss: nan\n",
            "Epoch 35/50\n",
            "57/57 [==============================] - 0s 4ms/step - loss: nan\n",
            "Epoch 36/50\n",
            "57/57 [==============================] - 0s 4ms/step - loss: nan\n",
            "Epoch 37/50\n",
            "57/57 [==============================] - 0s 4ms/step - loss: nan\n",
            "Epoch 38/50\n",
            "57/57 [==============================] - 0s 4ms/step - loss: nan\n",
            "Epoch 39/50\n",
            "57/57 [==============================] - 0s 4ms/step - loss: nan\n",
            "Epoch 40/50\n",
            "57/57 [==============================] - 0s 4ms/step - loss: nan\n",
            "Epoch 41/50\n",
            "57/57 [==============================] - 0s 3ms/step - loss: nan\n",
            "Epoch 42/50\n",
            "57/57 [==============================] - 0s 4ms/step - loss: nan\n",
            "Epoch 43/50\n",
            "57/57 [==============================] - 0s 4ms/step - loss: nan\n",
            "Epoch 44/50\n",
            "57/57 [==============================] - 0s 4ms/step - loss: nan\n",
            "Epoch 45/50\n",
            "57/57 [==============================] - 0s 4ms/step - loss: nan\n",
            "Epoch 46/50\n",
            "57/57 [==============================] - 0s 4ms/step - loss: nan\n",
            "Epoch 47/50\n",
            "57/57 [==============================] - 0s 4ms/step - loss: nan\n",
            "Epoch 48/50\n",
            "57/57 [==============================] - 0s 4ms/step - loss: nan\n",
            "Epoch 49/50\n",
            "57/57 [==============================] - 0s 4ms/step - loss: nan\n",
            "Epoch 50/50\n",
            "57/57 [==============================] - 0s 4ms/step - loss: nan\n",
            "Template Eval Error: ValueError('Model MultivariateRegression returned NaN for one or more series. fail_on_forecast_nan=True') in model 92: MultivariateRegression\n",
            "Model Number: 93 of 161 with model MultivariateMotif for Validation 1\n",
            "93 - MultivariateMotif with avg smape 69.82: \n",
            "Model Number: 94 of 161 with model MultivariateRegression for Validation 1\n",
            "94 - MultivariateRegression with avg smape 4.62: \n",
            "Model Number: 95 of 161 with model LastValueNaive for Validation 1\n"
          ]
        },
        {
          "output_type": "stream",
          "name": "stderr",
          "text": [
            "/usr/local/lib/python3.7/dist-packages/sklearn/neural_network/_multilayer_perceptron.py:549: ConvergenceWarning:\n",
            "\n",
            "lbfgs failed to converge (status=1):\n",
            "STOP: TOTAL NO. of ITERATIONS REACHED LIMIT.\n",
            "\n",
            "Increase the number of iterations (max_iter) or scale the data as shown in:\n",
            "    https://scikit-learn.org/stable/modules/preprocessing.html\n",
            "\n"
          ]
        },
        {
          "output_type": "stream",
          "name": "stdout",
          "text": [
            "95 - LastValueNaive with avg smape 2.5: \n",
            "Model Number: 96 of 161 with model UnivariateRegression for Validation 1\n",
            "96 - UnivariateRegression with avg smape 2.89: \n",
            "Model Number: 97 of 161 with model MultivariateRegression for Validation 1\n"
          ]
        },
        {
          "output_type": "stream",
          "name": "stderr",
          "text": [
            "[Parallel(n_jobs=-2)]: Using backend SequentialBackend with 1 concurrent workers.\n"
          ]
        },
        {
          "output_type": "stream",
          "name": "stdout",
          "text": [
            "Template Eval Error: ValueError(\"Input contains NaN, infinity or a value too large for dtype('float32').\") in model 97: MultivariateRegression\n",
            "Model Number: 98 of 161 with model AverageValueNaive for Validation 1\n",
            "98 - AverageValueNaive with avg smape 45.46: \n",
            "Model Number: 99 of 161 with model SectionalMotif for Validation 1\n"
          ]
        },
        {
          "output_type": "stream",
          "name": "stderr",
          "text": [
            "[Parallel(n_jobs=-2)]: Done 300 out of 300 | elapsed:    2.3s finished\n"
          ]
        },
        {
          "output_type": "stream",
          "name": "stdout",
          "text": [
            "99 - SectionalMotif with avg smape 2.67: \n",
            "Model Number: 100 of 161 with model ConstantNaive for Validation 1\n",
            "100 - ConstantNaive with avg smape 69.8: \n",
            "Model Number: 101 of 161 with model ConstantNaive for Validation 1\n",
            "101 - ConstantNaive with avg smape 69.8: \n",
            "Model Number: 102 of 161 with model ConstantNaive for Validation 1\n",
            "102 - ConstantNaive with avg smape 69.8: \n",
            "Model Number: 103 of 161 with model LastValueNaive for Validation 1\n",
            "103 - LastValueNaive with avg smape 69.8: \n",
            "Model Number: 104 of 161 with model WindowRegression for Validation 1\n",
            "104 - WindowRegression with avg smape 69.8: \n",
            "Model Number: 105 of 161 with model MultivariateMotif for Validation 1\n",
            "105 - MultivariateMotif with avg smape 69.8: \n",
            "Model Number: 106 of 161 with model SectionalMotif for Validation 1\n",
            "106 - SectionalMotif with avg smape 70.74: \n",
            "Model Number: 107 of 161 with model LastValueNaive for Validation 1\n",
            "📈 107 - LastValueNaive with avg smape 1.51: \n",
            "Model Number: 108 of 161 with model SectionalMotif for Validation 1\n",
            "108 - SectionalMotif with avg smape 2.56: \n",
            "Model Number: 109 of 161 with model ConstantNaive for Validation 1\n"
          ]
        },
        {
          "output_type": "stream",
          "name": "stderr",
          "text": [
            "/usr/local/lib/python3.7/dist-packages/sklearn/linear_model/_glm/link.py:90: RuntimeWarning:\n",
            "\n",
            "overflow encountered in exp\n",
            "\n",
            "/usr/local/lib/python3.7/dist-packages/sklearn/linear_model/_glm/link.py:93: RuntimeWarning:\n",
            "\n",
            "overflow encountered in exp\n",
            "\n",
            "/usr/local/lib/python3.7/dist-packages/sklearn/_loss/glm_distribution.py:132: RuntimeWarning:\n",
            "\n",
            "invalid value encountered in true_divide\n",
            "\n"
          ]
        },
        {
          "output_type": "stream",
          "name": "stdout",
          "text": [
            "109 - ConstantNaive with avg smape 4.61: \n",
            "Model Number: 110 of 161 with model ConstantNaive for Validation 1\n",
            "110 - ConstantNaive with avg smape 4.61: \n",
            "Model Number: 111 of 161 with model AverageValueNaive for Validation 1\n",
            "111 - AverageValueNaive with avg smape 4.61: \n",
            "Model Number: 112 of 161 with model AverageValueNaive for Validation 1\n",
            "112 - AverageValueNaive with avg smape 1.58: \n",
            "Model Number: 113 of 161 with model SectionalMotif for Validation 1\n",
            "113 - SectionalMotif with avg smape 1.58: \n",
            "Model Number: 114 of 161 with model SectionalMotif for Validation 1\n",
            "114 - SectionalMotif with avg smape 1.58: \n",
            "Model Number: 115 of 161 with model DatepartRegression for Validation 1\n",
            "115 - DatepartRegression with avg smape 1.58: \n",
            "Model Number: 116 of 161 with model UnivariateRegression for Validation 1\n"
          ]
        },
        {
          "output_type": "stream",
          "name": "stderr",
          "text": [
            "/usr/local/lib/python3.7/dist-packages/sklearn/linear_model/_coordinate_descent.py:648: ConvergenceWarning:\n",
            "\n",
            "Objective did not converge. You might want to increase the number of iterations, check the scale of the features or consider increasing regularisation. Duality gap: 0.000e+00, tolerance: 0.000e+00\n",
            "\n",
            "/usr/local/lib/python3.7/dist-packages/autots/tools/probabilistic.py:67: RuntimeWarning:\n",
            "\n",
            "invalid value encountered in true_divide\n",
            "\n",
            "/usr/local/lib/python3.7/dist-packages/autots/tools/probabilistic.py:68: RuntimeWarning:\n",
            "\n",
            "divide by zero encountered in true_divide\n",
            "\n"
          ]
        },
        {
          "output_type": "stream",
          "name": "stdout",
          "text": [
            "116 - UnivariateRegression with avg smape 5.17: \n",
            "Model Number: 117 of 161 with model SeasonalNaive for Validation 1\n",
            "117 - SeasonalNaive with avg smape 5.62: \n",
            "Model Number: 118 of 161 with model UnobservedComponents for Validation 1\n",
            "118 - UnobservedComponents with avg smape 53.95: \n",
            "Model Number: 119 of 161 with model UnivariateRegression for Validation 1\n",
            "119 - UnivariateRegression with avg smape 4.89: \n",
            "Model Number: 120 of 161 with model AverageValueNaive for Validation 1\n",
            "120 - AverageValueNaive with avg smape 4.13: \n",
            "Model Number: 121 of 161 with model AverageValueNaive for Validation 1\n",
            "121 - AverageValueNaive with avg smape 4.57: \n"
          ]
        },
        {
          "output_type": "stream",
          "name": "stderr",
          "text": [
            "/usr/local/lib/python3.7/dist-packages/sklearn/linear_model/_glm/link.py:90: RuntimeWarning:\n",
            "\n",
            "overflow encountered in exp\n",
            "\n",
            "/usr/local/lib/python3.7/dist-packages/sklearn/linear_model/_glm/link.py:93: RuntimeWarning:\n",
            "\n",
            "overflow encountered in exp\n",
            "\n",
            "/usr/local/lib/python3.7/dist-packages/sklearn/_loss/glm_distribution.py:132: RuntimeWarning:\n",
            "\n",
            "invalid value encountered in true_divide\n",
            "\n",
            "/usr/local/lib/python3.7/dist-packages/sklearn/_loss/glm_distribution.py:323: RuntimeWarning:\n",
            "\n",
            "invalid value encountered in add\n",
            "\n",
            "/usr/local/lib/python3.7/dist-packages/sklearn/linear_model/_glm/glm.py:323: ConvergenceWarning:\n",
            "\n",
            "lbfgs failed to converge (status=2):\n",
            "ABNORMAL_TERMINATION_IN_LNSRCH.\n",
            "\n",
            "Increase the number of iterations (max_iter) or scale the data as shown in:\n",
            "    https://scikit-learn.org/stable/modules/preprocessing.html\n",
            "\n"
          ]
        },
        {
          "output_type": "stream",
          "name": "stdout",
          "text": [
            "Model Number: 122 of 161 with model UnobservedComponents for Validation 1\n",
            "122 - UnobservedComponents with avg smape 4.61: \n",
            "Model Number: 123 of 161 with model UnobservedComponents for Validation 1\n",
            "123 - UnobservedComponents with avg smape 4.8: \n",
            "Model Number: 124 of 161 with model AverageValueNaive for Validation 1\n",
            "124 - AverageValueNaive with avg smape 2.9: \n",
            "Model Number: 125 of 161 with model AverageValueNaive for Validation 1\n",
            "125 - AverageValueNaive with avg smape 4.38: \n",
            "Model Number: 126 of 161 with model GLM for Validation 1\n",
            "126 - GLM with avg smape 4.61: \n",
            "Model Number: 127 of 161 with model UnobservedComponents for Validation 1\n"
          ]
        },
        {
          "output_type": "stream",
          "name": "stderr",
          "text": [
            "/usr/local/lib/python3.7/dist-packages/statsmodels/genmod/generalized_linear_model.py:273: DomainWarning:\n",
            "\n",
            "The inverse_power link function does not respect the domain of the Gamma family.\n",
            "\n"
          ]
        },
        {
          "output_type": "stream",
          "name": "stdout",
          "text": [
            "127 - UnobservedComponents with avg smape 4.5: \n",
            "Model Number: 128 of 161 with model UnobservedComponents for Validation 1\n",
            "128 - UnobservedComponents with avg smape 4.5: \n",
            "Model Number: 129 of 161 with model SeasonalNaive for Validation 1\n",
            "129 - SeasonalNaive with avg smape 4.61: \n",
            "Model Number: 130 of 161 with model UnivariateRegression for Validation 1\n",
            "130 - UnivariateRegression with avg smape 4.48: \n",
            "Model Number: 131 of 161 with model UnobservedComponents for Validation 1\n",
            "131 - UnobservedComponents with avg smape 2.56: \n",
            "Model Number: 132 of 161 with model UnivariateRegression for Validation 1\n",
            "132 - UnivariateRegression with avg smape 2.76: \n",
            "Model Number: 133 of 161 with model DatepartRegression for Validation 1\n"
          ]
        },
        {
          "output_type": "stream",
          "name": "stderr",
          "text": [
            "[Parallel(n_jobs=-2)]: Using backend SequentialBackend with 1 concurrent workers.\n"
          ]
        },
        {
          "output_type": "stream",
          "name": "stdout",
          "text": [
            "133 - DatepartRegression with avg smape 1.73: \n",
            "Model Number: 134 of 161 with model UnivariateRegression for Validation 1\n"
          ]
        },
        {
          "output_type": "stream",
          "name": "stderr",
          "text": [
            "[Parallel(n_jobs=-2)]: Done 100 out of 100 | elapsed:    0.7s finished\n",
            "[Parallel(n_jobs=1)]: Using backend SequentialBackend with 1 concurrent workers.\n",
            "[Parallel(n_jobs=1)]: Done 100 out of 100 | elapsed:    0.0s finished\n"
          ]
        },
        {
          "output_type": "stream",
          "name": "stdout",
          "text": [
            "134 - UnivariateRegression with avg smape 12.91: \n",
            "Model Number: 135 of 161 with model UnivariateRegression for Validation 1\n",
            "135 - UnivariateRegression with avg smape 5.67: \n",
            "Model Number: 136 of 161 with model SeasonalNaive for Validation 1\n",
            "136 - SeasonalNaive with avg smape 9.48: \n",
            "Model Number: 137 of 161 with model DatepartRegression for Validation 1\n"
          ]
        },
        {
          "output_type": "stream",
          "name": "stderr",
          "text": [
            "[Parallel(n_jobs=-2)]: Using backend SequentialBackend with 1 concurrent workers.\n"
          ]
        },
        {
          "output_type": "stream",
          "name": "stdout",
          "text": [
            "137 - DatepartRegression with avg smape 4.45: \n",
            "Model Number: 138 of 161 with model SeasonalNaive for Validation 1\n",
            "138 - SeasonalNaive with avg smape 50.91: \n",
            "Model Number: 139 of 161 with model UnivariateRegression for Validation 1\n"
          ]
        },
        {
          "output_type": "stream",
          "name": "stderr",
          "text": [
            "[Parallel(n_jobs=-2)]: Done 100 out of 100 | elapsed:    0.6s finished\n",
            "[Parallel(n_jobs=1)]: Using backend SequentialBackend with 1 concurrent workers.\n",
            "[Parallel(n_jobs=1)]: Done 100 out of 100 | elapsed:    0.0s finished\n",
            "/usr/local/lib/python3.7/dist-packages/autots/tools/probabilistic.py:67: RuntimeWarning:\n",
            "\n",
            "invalid value encountered in true_divide\n",
            "\n",
            "/usr/local/lib/python3.7/dist-packages/autots/tools/probabilistic.py:68: RuntimeWarning:\n",
            "\n",
            "divide by zero encountered in true_divide\n",
            "\n"
          ]
        },
        {
          "output_type": "stream",
          "name": "stdout",
          "text": [
            "139 - UnivariateRegression with avg smape 4.51: \n",
            "Model Number: 140 of 161 with model UnivariateRegression for Validation 1\n",
            "140 - UnivariateRegression with avg smape 4.5: \n",
            "Model Number: 141 of 161 with model SeasonalNaive for Validation 1\n",
            "141 - SeasonalNaive with avg smape 5.34: \n"
          ]
        },
        {
          "output_type": "stream",
          "name": "stderr",
          "text": [
            "/usr/local/lib/python3.7/dist-packages/autots/tools/probabilistic.py:67: RuntimeWarning:\n",
            "\n",
            "invalid value encountered in true_divide\n",
            "\n",
            "/usr/local/lib/python3.7/dist-packages/autots/tools/probabilistic.py:68: RuntimeWarning:\n",
            "\n",
            "divide by zero encountered in true_divide\n",
            "\n"
          ]
        },
        {
          "output_type": "stream",
          "name": "stdout",
          "text": [
            "Model Number: 142 of 161 with model DatepartRegression for Validation 1\n",
            "142 - DatepartRegression with avg smape 6.02: \n",
            "Model Number: 143 of 161 with model SeasonalNaive for Validation 1\n",
            "143 - SeasonalNaive with avg smape 12.54: \n",
            "Model Number: 144 of 161 with model SeasonalNaive for Validation 1\n",
            "144 - SeasonalNaive with avg smape 3.75: \n",
            "Model Number: 145 of 161 with model DatepartRegression for Validation 1\n"
          ]
        },
        {
          "output_type": "stream",
          "name": "stderr",
          "text": [
            "[Parallel(n_jobs=-2)]: Using backend SequentialBackend with 1 concurrent workers.\n",
            "[Parallel(n_jobs=-2)]: Done 300 out of 300 | elapsed:    0.6s finished\n",
            "[Parallel(n_jobs=1)]: Using backend SequentialBackend with 1 concurrent workers.\n",
            "[Parallel(n_jobs=1)]: Done 300 out of 300 | elapsed:    0.0s finished\n",
            "[Parallel(n_jobs=-2)]: Using backend SequentialBackend with 1 concurrent workers.\n"
          ]
        },
        {
          "output_type": "stream",
          "name": "stdout",
          "text": [
            "145 - DatepartRegression with avg smape 4.01: \n",
            "Model Number: 146 of 161 with model DatepartRegression for Validation 1\n"
          ]
        },
        {
          "output_type": "stream",
          "name": "stderr",
          "text": [
            "[Parallel(n_jobs=-2)]: Done 300 out of 300 | elapsed:    0.6s finished\n",
            "[Parallel(n_jobs=1)]: Using backend SequentialBackend with 1 concurrent workers.\n",
            "[Parallel(n_jobs=1)]: Done 300 out of 300 | elapsed:    0.0s finished\n"
          ]
        },
        {
          "output_type": "stream",
          "name": "stdout",
          "text": [
            "146 - DatepartRegression with avg smape 3.68: \n",
            "Model Number: 147 of 161 with model SeasonalNaive for Validation 1\n",
            "147 - SeasonalNaive with avg smape 1.62: \n",
            "Model Number: 148 of 161 with model DatepartRegression for Validation 1\n"
          ]
        },
        {
          "output_type": "stream",
          "name": "stderr",
          "text": [
            "[Parallel(n_jobs=-2)]: Using backend SequentialBackend with 1 concurrent workers.\n",
            "[Parallel(n_jobs=-2)]: Done 300 out of 300 | elapsed:    0.7s finished\n",
            "[Parallel(n_jobs=1)]: Using backend SequentialBackend with 1 concurrent workers.\n",
            "[Parallel(n_jobs=1)]: Done 300 out of 300 | elapsed:    0.0s finished\n"
          ]
        },
        {
          "output_type": "stream",
          "name": "stdout",
          "text": [
            "148 - DatepartRegression with avg smape 1.82: \n",
            "Model Number: 149 of 161 with model DatepartRegression for Validation 1\n"
          ]
        },
        {
          "output_type": "stream",
          "name": "stderr",
          "text": [
            "[Parallel(n_jobs=-2)]: Using backend SequentialBackend with 1 concurrent workers.\n"
          ]
        },
        {
          "output_type": "stream",
          "name": "stdout",
          "text": [
            "149 - DatepartRegression with avg smape 1.82: \n",
            "Model Number: 150 of 161 with model GLM for Validation 1\n"
          ]
        },
        {
          "output_type": "stream",
          "name": "stderr",
          "text": [
            "[Parallel(n_jobs=-2)]: Done 300 out of 300 | elapsed:    0.6s finished\n",
            "[Parallel(n_jobs=1)]: Using backend SequentialBackend with 1 concurrent workers.\n",
            "[Parallel(n_jobs=1)]: Done 300 out of 300 | elapsed:    0.0s finished\n"
          ]
        },
        {
          "output_type": "stream",
          "name": "stdout",
          "text": [
            "150 - GLM with avg smape 53.13: \n",
            "Model Number: 151 of 161 with model DatepartRegression for Validation 1\n"
          ]
        },
        {
          "output_type": "stream",
          "name": "stderr",
          "text": [
            "[Parallel(n_jobs=-2)]: Using backend SequentialBackend with 1 concurrent workers.\n",
            "[Parallel(n_jobs=-2)]: Done 100 out of 100 | elapsed:    0.5s finished\n",
            "[Parallel(n_jobs=1)]: Using backend SequentialBackend with 1 concurrent workers.\n",
            "[Parallel(n_jobs=1)]: Done 100 out of 100 | elapsed:    0.0s finished\n"
          ]
        },
        {
          "output_type": "stream",
          "name": "stdout",
          "text": [
            "151 - DatepartRegression with avg smape 16.84: \n",
            "Model Number: 152 of 161 with model UnobservedComponents for Validation 1\n",
            "152 - UnobservedComponents with avg smape 4.76: \n",
            "Model Number: 153 of 161 with model UnobservedComponents for Validation 1\n",
            "153 - UnobservedComponents with avg smape 9.82: \n",
            "Model Number: 154 of 161 with model UnobservedComponents for Validation 1\n",
            "154 - UnobservedComponents with avg smape 12.62: \n",
            "Model Number: 155 of 161 with model GLM for Validation 1\n",
            "155 - GLM with avg smape 58.76: \n",
            "Model Number: 156 of 161 with model GLM for Validation 1\n",
            "156 - GLM with avg smape 34.26: \n",
            "Model Number: 157 of 161 with model GLM for Validation 1\n",
            "157 - GLM with avg smape 36.86: \n",
            "Model Number: 158 of 161 with model GLM for Validation 1\n",
            "158 - GLM with avg smape 45.48: \n",
            "Model Number: 159 of 161 with model GLM for Validation 1\n",
            "159 - GLM with avg smape 45.46: \n",
            "Model Number: 160 of 161 with model GLM for Validation 1\n",
            "160 - GLM with avg smape 45.61: \n",
            "Model Number: 161 of 161 with model GLM for Validation 1\n",
            "161 - GLM with avg smape 63.7: \n"
          ]
        },
        {
          "output_type": "stream",
          "name": "stderr",
          "text": [
            "INFO:fbprophet:Disabling daily seasonality. Run prophet with daily_seasonality=True to override this.\n"
          ]
        },
        {
          "output_type": "stream",
          "name": "stdout",
          "text": [
            "Validation Round: 2\n",
            "Model Number: 1 of 161 with model Ensemble for Validation 2\n"
          ]
        },
        {
          "output_type": "stream",
          "name": "stderr",
          "text": [
            "INFO:fbprophet:Disabling daily seasonality. Run prophet with daily_seasonality=True to override this.\n"
          ]
        },
        {
          "output_type": "stream",
          "name": "stdout",
          "text": [
            "📈 1 - Ensemble with avg smape 16.74: \n",
            "Model Number: 2 of 161 with model Ensemble for Validation 2\n"
          ]
        },
        {
          "output_type": "stream",
          "name": "stderr",
          "text": [
            "INFO:fbprophet:Disabling daily seasonality. Run prophet with daily_seasonality=True to override this.\n"
          ]
        },
        {
          "output_type": "stream",
          "name": "stdout",
          "text": [
            "📈 2 - Ensemble with avg smape 3.66: \n",
            "Model Number: 3 of 161 with model Ensemble for Validation 2\n"
          ]
        },
        {
          "output_type": "stream",
          "name": "stderr",
          "text": [
            "INFO:fbprophet:Disabling daily seasonality. Run prophet with daily_seasonality=True to override this.\n"
          ]
        },
        {
          "output_type": "stream",
          "name": "stdout",
          "text": [
            "📈 3 - Ensemble with avg smape 3.55: \n",
            "Model Number: 4 of 161 with model Ensemble for Validation 2\n"
          ]
        },
        {
          "output_type": "stream",
          "name": "stderr",
          "text": [
            "INFO:fbprophet:Disabling daily seasonality. Run prophet with daily_seasonality=True to override this.\n"
          ]
        },
        {
          "output_type": "stream",
          "name": "stdout",
          "text": [
            "4 - Ensemble with avg smape 3.65: \n",
            "Model Number: 5 of 161 with model FBProphet for Validation 2\n",
            "5 - FBProphet with avg smape 3.81: \n",
            "Model Number: 6 of 161 with model Ensemble for Validation 2\n"
          ]
        },
        {
          "output_type": "stream",
          "name": "stderr",
          "text": [
            "INFO:fbprophet:Disabling daily seasonality. Run prophet with daily_seasonality=True to override this.\n",
            "INFO:fbprophet:Disabling daily seasonality. Run prophet with daily_seasonality=True to override this.\n"
          ]
        },
        {
          "output_type": "stream",
          "name": "stdout",
          "text": [
            "6 - Ensemble with avg smape 3.61: \n",
            "Model Number: 7 of 161 with model Ensemble for Validation 2\n",
            "7 - Ensemble with avg smape 3.61: \n",
            "Model Number: 8 of 161 with model SectionalMotif for Validation 2\n"
          ]
        },
        {
          "output_type": "stream",
          "name": "stderr",
          "text": [
            "INFO:fbprophet:Disabling daily seasonality. Run prophet with daily_seasonality=True to override this.\n"
          ]
        },
        {
          "output_type": "stream",
          "name": "stdout",
          "text": [
            "8 - SectionalMotif with avg smape 3.55: \n",
            "Model Number: 9 of 161 with model Ensemble for Validation 2\n"
          ]
        },
        {
          "output_type": "stream",
          "name": "stderr",
          "text": [
            "INFO:fbprophet:Disabling daily seasonality. Run prophet with daily_seasonality=True to override this.\n"
          ]
        },
        {
          "output_type": "stream",
          "name": "stdout",
          "text": [
            "9 - Ensemble with avg smape 3.63: \n",
            "Model Number: 10 of 161 with model WindowRegression for Validation 2\n",
            "10 - WindowRegression with avg smape 3.63: \n",
            "Model Number: 11 of 161 with model WindowRegression for Validation 2\n",
            "11 - WindowRegression with avg smape 3.63: \n",
            "Model Number: 12 of 161 with model FBProphet for Validation 2\n"
          ]
        },
        {
          "output_type": "stream",
          "name": "stderr",
          "text": [
            "INFO:fbprophet:Disabling daily seasonality. Run prophet with daily_seasonality=True to override this.\n"
          ]
        },
        {
          "output_type": "stream",
          "name": "stdout",
          "text": [
            "12 - FBProphet with avg smape 3.61: \n",
            "Model Number: 13 of 161 with model SeasonalNaive for Validation 2\n",
            "📈 13 - SeasonalNaive with avg smape 1.69: \n",
            "Model Number: 14 of 161 with model UnivariateMotif for Validation 2\n",
            "14 - UnivariateMotif with avg smape 3.57: \n",
            "Model Number: 15 of 161 with model NVAR for Validation 2\n",
            "15 - NVAR with avg smape 3.48: \n",
            "Model Number: 16 of 161 with model NVAR for Validation 2\n",
            "16 - NVAR with avg smape 3.48: \n",
            "Model Number: 17 of 161 with model NVAR for Validation 2\n",
            "17 - NVAR with avg smape 3.48: \n",
            "Model Number: 18 of 161 with model NVAR for Validation 2\n",
            "18 - NVAR with avg smape 3.48: \n",
            "Model Number: 19 of 161 with model FBProphet for Validation 2\n"
          ]
        },
        {
          "output_type": "stream",
          "name": "stderr",
          "text": [
            "INFO:fbprophet:Disabling daily seasonality. Run prophet with daily_seasonality=True to override this.\n",
            "INFO:fbprophet:Disabling daily seasonality. Run prophet with daily_seasonality=True to override this.\n"
          ]
        },
        {
          "output_type": "stream",
          "name": "stdout",
          "text": [
            "19 - FBProphet with avg smape 3.52: \n",
            "Model Number: 20 of 161 with model FBProphet for Validation 2\n",
            "20 - FBProphet with avg smape 3.52: \n",
            "Model Number: 21 of 161 with model UnivariateMotif for Validation 2\n",
            "21 - UnivariateMotif with avg smape 3.47: \n",
            "Model Number: 22 of 161 with model UnivariateMotif for Validation 2\n",
            "22 - UnivariateMotif with avg smape 3.95: \n",
            "Model Number: 23 of 161 with model GLS for Validation 2\n",
            "23 - GLS with avg smape 3.5: \n",
            "Model Number: 24 of 161 with model Ensemble for Validation 2\n"
          ]
        },
        {
          "output_type": "stream",
          "name": "stderr",
          "text": [
            "/usr/local/lib/python3.7/dist-packages/sklearn/linear_model/_glm/link.py:90: RuntimeWarning:\n",
            "\n",
            "overflow encountered in exp\n",
            "\n",
            "/usr/local/lib/python3.7/dist-packages/sklearn/linear_model/_glm/link.py:93: RuntimeWarning:\n",
            "\n",
            "overflow encountered in exp\n",
            "\n",
            "/usr/local/lib/python3.7/dist-packages/sklearn/_loss/glm_distribution.py:132: RuntimeWarning:\n",
            "\n",
            "invalid value encountered in true_divide\n",
            "\n",
            "INFO:fbprophet:Disabling daily seasonality. Run prophet with daily_seasonality=True to override this.\n"
          ]
        },
        {
          "output_type": "stream",
          "name": "stdout",
          "text": [
            "24 - Ensemble with avg smape 3.66: \n",
            "Model Number: 25 of 161 with model GLS for Validation 2\n",
            "25 - GLS with avg smape 3.48: \n",
            "Model Number: 26 of 161 with model ETS for Validation 2\n",
            "ETS error TypeError(\"__init__() got an unexpected keyword argument 'damped_trend'\")\n",
            "ETS failed on 0 with ValueError('endog must be strictly positive when using multiplicative trend or seasonal components.')\n",
            "26 - ETS with avg smape 3.48: \n",
            "Model Number: 27 of 161 with model GLS for Validation 2\n",
            "27 - GLS with avg smape 3.47: \n",
            "Model Number: 28 of 161 with model GLS for Validation 2\n",
            "28 - GLS with avg smape 3.47: \n",
            "Model Number: 29 of 161 with model GLS for Validation 2\n",
            "29 - GLS with avg smape 3.47: \n",
            "Model Number: 30 of 161 with model GLS for Validation 2\n",
            "30 - GLS with avg smape 3.47: \n",
            "Model Number: 31 of 161 with model GLS for Validation 2\n",
            "31 - GLS with avg smape 3.47: \n",
            "Model Number: 32 of 161 with model ETS for Validation 2\n",
            "ETS error TypeError(\"__init__() got an unexpected keyword argument 'damped_trend'\")\n",
            "ETS failed on First with ValueError('endog must be strictly positive when using multiplicative trend or seasonal components.')\n",
            "32 - ETS with avg smape 3.47: \n",
            "Model Number: 33 of 161 with model LastValueNaive for Validation 2\n",
            "33 - LastValueNaive with avg smape 3.47: \n",
            "Model Number: 34 of 161 with model AverageValueNaive for Validation 2\n",
            "34 - AverageValueNaive with avg smape 2.37: \n",
            "Model Number: 35 of 161 with model ETS for Validation 2\n",
            "ETS error TypeError(\"__init__() got an unexpected keyword argument 'damped_trend'\")\n",
            "ETS failed on First with ValueError('endog must be strictly positive when using multiplicative trend or seasonal components.')\n",
            "35 - ETS with avg smape 3.44: \n",
            "Model Number: 36 of 161 with model WindowRegression for Validation 2\n",
            "36 - WindowRegression with avg smape 71.77: \n",
            "Model Number: 37 of 161 with model ETS for Validation 2\n",
            "ETS error TypeError(\"__init__() got an unexpected keyword argument 'damped_trend'\")\n",
            "37 - ETS with avg smape 2.24: \n",
            "Model Number: 38 of 161 with model MultivariateMotif for Validation 2\n",
            "38 - MultivariateMotif with avg smape 2.03: \n",
            "Model Number: 39 of 161 with model ETS for Validation 2\n",
            "ETS error TypeError(\"__init__() got an unexpected keyword argument 'damped_trend'\")\n",
            "39 - ETS with avg smape 2.52: \n",
            "Model Number: 40 of 161 with model LastValueNaive for Validation 2\n",
            "40 - LastValueNaive with avg smape 13.43: \n",
            "Model Number: 41 of 161 with model NVAR for Validation 2\n",
            "41 - NVAR with avg smape 3.48: \n",
            "Model Number: 42 of 161 with model NVAR for Validation 2\n"
          ]
        },
        {
          "output_type": "stream",
          "name": "stderr",
          "text": [
            "/usr/local/lib/python3.7/dist-packages/sklearn/linear_model/_glm/link.py:90: RuntimeWarning:\n",
            "\n",
            "overflow encountered in exp\n",
            "\n",
            "/usr/local/lib/python3.7/dist-packages/sklearn/linear_model/_glm/link.py:93: RuntimeWarning:\n",
            "\n",
            "overflow encountered in exp\n",
            "\n",
            "/usr/local/lib/python3.7/dist-packages/sklearn/_loss/glm_distribution.py:132: RuntimeWarning:\n",
            "\n",
            "invalid value encountered in true_divide\n",
            "\n",
            "/usr/local/lib/python3.7/dist-packages/sklearn/_loss/glm_distribution.py:323: RuntimeWarning:\n",
            "\n",
            "invalid value encountered in add\n",
            "\n",
            "/usr/local/lib/python3.7/dist-packages/sklearn/linear_model/_glm/glm.py:323: ConvergenceWarning:\n",
            "\n",
            "lbfgs failed to converge (status=2):\n",
            "ABNORMAL_TERMINATION_IN_LNSRCH.\n",
            "\n",
            "Increase the number of iterations (max_iter) or scale the data as shown in:\n",
            "    https://scikit-learn.org/stable/modules/preprocessing.html\n",
            "\n"
          ]
        },
        {
          "output_type": "stream",
          "name": "stdout",
          "text": [
            "42 - NVAR with avg smape 3.5: \n",
            "Model Number: 43 of 161 with model MultivariateMotif for Validation 2\n",
            "43 - MultivariateMotif with avg smape 2.43: \n",
            "Model Number: 44 of 161 with model ETS for Validation 2\n",
            "ETS error TypeError(\"__init__() got an unexpected keyword argument 'damped_trend'\")\n",
            "44 - ETS with avg smape 2.25: \n",
            "Model Number: 45 of 161 with model ETS for Validation 2\n",
            "ETS error TypeError(\"__init__() got an unexpected keyword argument 'damped_trend'\")\n",
            "45 - ETS with avg smape 2.25: \n",
            "Model Number: 46 of 161 with model ETS for Validation 2\n",
            "ETS error TypeError(\"__init__() got an unexpected keyword argument 'damped_trend'\")\n",
            "46 - ETS with avg smape 2.25: \n",
            "Model Number: 47 of 161 with model ETS for Validation 2\n",
            "ETS error TypeError(\"__init__() got an unexpected keyword argument 'damped_trend'\")\n",
            "47 - ETS with avg smape 2.25: \n",
            "Model Number: 48 of 161 with model NVAR for Validation 2\n",
            "48 - NVAR with avg smape 3.48: \n",
            "Model Number: 49 of 161 with model NVAR for Validation 2\n",
            "49 - NVAR with avg smape 3.48: \n",
            "Model Number: 50 of 161 with model NVAR for Validation 2\n",
            "50 - NVAR with avg smape 3.48: \n",
            "Model Number: 51 of 161 with model ConstantNaive for Validation 2\n",
            "51 - ConstantNaive with avg smape 3.48: \n",
            "Model Number: 52 of 161 with model MultivariateRegression for Validation 2\n",
            "52 - MultivariateRegression with avg smape 3.15: \n",
            "Model Number: 53 of 161 with model ConstantNaive for Validation 2\n",
            "53 - ConstantNaive with avg smape 3.47: \n",
            "Model Number: 54 of 161 with model ConstantNaive for Validation 2\n",
            "54 - ConstantNaive with avg smape 3.47: \n",
            "Model Number: 55 of 161 with model ConstantNaive for Validation 2\n",
            "55 - ConstantNaive with avg smape 3.47: \n",
            "Model Number: 56 of 161 with model MultivariateMotif for Validation 2\n",
            "56 - MultivariateMotif with avg smape 3.47: \n",
            "Model Number: 57 of 161 with model UnivariateMotif for Validation 2\n",
            "57 - UnivariateMotif with avg smape 4.42: \n",
            "Model Number: 58 of 161 with model UnivariateMotif for Validation 2\n",
            "58 - UnivariateMotif with avg smape 5.62: \n",
            "Model Number: 59 of 161 with model UnivariateMotif for Validation 2\n"
          ]
        },
        {
          "output_type": "stream",
          "name": "stderr",
          "text": [
            "/usr/local/lib/python3.7/dist-packages/sklearn/linear_model/_glm/link.py:90: RuntimeWarning:\n",
            "\n",
            "overflow encountered in exp\n",
            "\n",
            "/usr/local/lib/python3.7/dist-packages/sklearn/linear_model/_glm/link.py:93: RuntimeWarning:\n",
            "\n",
            "overflow encountered in exp\n",
            "\n",
            "/usr/local/lib/python3.7/dist-packages/sklearn/_loss/glm_distribution.py:132: RuntimeWarning:\n",
            "\n",
            "invalid value encountered in true_divide\n",
            "\n"
          ]
        },
        {
          "output_type": "stream",
          "name": "stdout",
          "text": [
            "59 - UnivariateMotif with avg smape 6.61: \n",
            "Model Number: 60 of 161 with model MultivariateMotif for Validation 2\n",
            "60 - MultivariateMotif with avg smape 9.78: \n",
            "Model Number: 61 of 161 with model FBProphet for Validation 2\n"
          ]
        },
        {
          "output_type": "stream",
          "name": "stderr",
          "text": [
            "/usr/local/lib/python3.7/dist-packages/scipy/signal/signaltools.py:1456: RuntimeWarning:\n",
            "\n",
            "divide by zero encountered in true_divide\n",
            "\n",
            "/usr/local/lib/python3.7/dist-packages/scipy/signal/signaltools.py:1456: RuntimeWarning:\n",
            "\n",
            "invalid value encountered in multiply\n",
            "\n",
            "INFO:fbprophet:Disabling daily seasonality. Run prophet with daily_seasonality=True to override this.\n"
          ]
        },
        {
          "output_type": "stream",
          "name": "stdout",
          "text": [
            "61 - FBProphet with avg smape 5.84: \n",
            "Model Number: 62 of 161 with model LastValueNaive for Validation 2\n",
            "62 - LastValueNaive with avg smape 13.36: \n",
            "Model Number: 63 of 161 with model SectionalMotif for Validation 2\n",
            "63 - SectionalMotif with avg smape 9.78: \n",
            "Model Number: 64 of 161 with model SectionalMotif for Validation 2\n"
          ]
        },
        {
          "output_type": "stream",
          "name": "stderr",
          "text": [
            "/usr/local/lib/python3.7/dist-packages/sklearn/linear_model/_glm/link.py:90: RuntimeWarning:\n",
            "\n",
            "overflow encountered in exp\n",
            "\n",
            "/usr/local/lib/python3.7/dist-packages/sklearn/linear_model/_glm/link.py:93: RuntimeWarning:\n",
            "\n",
            "overflow encountered in exp\n",
            "\n",
            "/usr/local/lib/python3.7/dist-packages/sklearn/_loss/glm_distribution.py:132: RuntimeWarning:\n",
            "\n",
            "invalid value encountered in true_divide\n",
            "\n",
            "/usr/local/lib/python3.7/dist-packages/sklearn/linear_model/_glm/link.py:90: RuntimeWarning:\n",
            "\n",
            "overflow encountered in exp\n",
            "\n",
            "/usr/local/lib/python3.7/dist-packages/sklearn/linear_model/_glm/link.py:93: RuntimeWarning:\n",
            "\n",
            "overflow encountered in exp\n",
            "\n",
            "/usr/local/lib/python3.7/dist-packages/sklearn/_loss/glm_distribution.py:132: RuntimeWarning:\n",
            "\n",
            "invalid value encountered in true_divide\n",
            "\n",
            "/usr/local/lib/python3.7/dist-packages/sklearn/_loss/glm_distribution.py:323: RuntimeWarning:\n",
            "\n",
            "invalid value encountered in add\n",
            "\n",
            "/usr/local/lib/python3.7/dist-packages/sklearn/linear_model/_glm/glm.py:323: ConvergenceWarning:\n",
            "\n",
            "lbfgs failed to converge (status=2):\n",
            "ABNORMAL_TERMINATION_IN_LNSRCH.\n",
            "\n",
            "Increase the number of iterations (max_iter) or scale the data as shown in:\n",
            "    https://scikit-learn.org/stable/modules/preprocessing.html\n",
            "\n"
          ]
        },
        {
          "output_type": "stream",
          "name": "stdout",
          "text": [
            "64 - SectionalMotif with avg smape 4.28: \n",
            "Model Number: 65 of 161 with model UnivariateMotif for Validation 2\n",
            "65 - UnivariateMotif with avg smape 3.19: \n",
            "Model Number: 66 of 161 with model UnivariateMotif for Validation 2\n",
            "66 - UnivariateMotif with avg smape 3.32: \n",
            "Model Number: 67 of 161 with model MultivariateRegression for Validation 2\n"
          ]
        },
        {
          "output_type": "stream",
          "name": "stderr",
          "text": [
            "[Parallel(n_jobs=-2)]: Using backend SequentialBackend with 1 concurrent workers.\n",
            "[Parallel(n_jobs=-2)]: Done 300 out of 300 | elapsed:    6.5s finished\n",
            "[Parallel(n_jobs=1)]: Using backend SequentialBackend with 1 concurrent workers.\n",
            "[Parallel(n_jobs=1)]: Done 300 out of 300 | elapsed:    0.0s finished\n",
            "[Parallel(n_jobs=1)]: Using backend SequentialBackend with 1 concurrent workers.\n",
            "[Parallel(n_jobs=1)]: Done 300 out of 300 | elapsed:    0.0s finished\n",
            "[Parallel(n_jobs=1)]: Using backend SequentialBackend with 1 concurrent workers.\n",
            "[Parallel(n_jobs=1)]: Done 300 out of 300 | elapsed:    0.0s finished\n",
            "[Parallel(n_jobs=1)]: Using backend SequentialBackend with 1 concurrent workers.\n",
            "[Parallel(n_jobs=1)]: Done 300 out of 300 | elapsed:    0.0s finished\n",
            "[Parallel(n_jobs=1)]: Using backend SequentialBackend with 1 concurrent workers.\n",
            "[Parallel(n_jobs=1)]: Done 300 out of 300 | elapsed:    0.0s finished\n"
          ]
        },
        {
          "output_type": "stream",
          "name": "stdout",
          "text": [
            "67 - MultivariateRegression with avg smape 3.59: \n",
            "Model Number: 68 of 161 with model LastValueNaive for Validation 2\n",
            "68 - LastValueNaive with avg smape 12.12: \n",
            "Model Number: 69 of 161 with model LastValueNaive for Validation 2\n",
            "69 - LastValueNaive with avg smape 19.24: \n",
            "Model Number: 70 of 161 with model MultivariateRegression for Validation 2\n"
          ]
        },
        {
          "output_type": "stream",
          "name": "stderr",
          "text": [
            "/usr/local/lib/python3.7/dist-packages/sklearn/linear_model/_glm/link.py:90: RuntimeWarning:\n",
            "\n",
            "overflow encountered in exp\n",
            "\n",
            "/usr/local/lib/python3.7/dist-packages/sklearn/linear_model/_glm/link.py:93: RuntimeWarning:\n",
            "\n",
            "overflow encountered in exp\n",
            "\n",
            "/usr/local/lib/python3.7/dist-packages/sklearn/_loss/glm_distribution.py:132: RuntimeWarning:\n",
            "\n",
            "invalid value encountered in true_divide\n",
            "\n",
            "/usr/local/lib/python3.7/dist-packages/sklearn/linear_model/_glm/link.py:90: RuntimeWarning:\n",
            "\n",
            "overflow encountered in exp\n",
            "\n",
            "/usr/local/lib/python3.7/dist-packages/sklearn/linear_model/_glm/link.py:93: RuntimeWarning:\n",
            "\n",
            "overflow encountered in exp\n",
            "\n",
            "/usr/local/lib/python3.7/dist-packages/sklearn/_loss/glm_distribution.py:132: RuntimeWarning:\n",
            "\n",
            "invalid value encountered in true_divide\n",
            "\n",
            "/usr/local/lib/python3.7/dist-packages/sklearn/_loss/glm_distribution.py:323: RuntimeWarning:\n",
            "\n",
            "invalid value encountered in add\n",
            "\n",
            "/usr/local/lib/python3.7/dist-packages/sklearn/linear_model/_glm/glm.py:323: ConvergenceWarning:\n",
            "\n",
            "lbfgs failed to converge (status=2):\n",
            "ABNORMAL_TERMINATION_IN_LNSRCH.\n",
            "\n",
            "Increase the number of iterations (max_iter) or scale the data as shown in:\n",
            "    https://scikit-learn.org/stable/modules/preprocessing.html\n",
            "\n",
            "[Parallel(n_jobs=-2)]: Using backend SequentialBackend with 1 concurrent workers.\n",
            "[Parallel(n_jobs=-2)]: Done 300 out of 300 | elapsed:    6.7s finished\n",
            "[Parallel(n_jobs=1)]: Using backend SequentialBackend with 1 concurrent workers.\n",
            "[Parallel(n_jobs=1)]: Done 300 out of 300 | elapsed:    0.0s finished\n",
            "[Parallel(n_jobs=1)]: Using backend SequentialBackend with 1 concurrent workers.\n",
            "[Parallel(n_jobs=1)]: Done 300 out of 300 | elapsed:    0.0s finished\n",
            "[Parallel(n_jobs=1)]: Using backend SequentialBackend with 1 concurrent workers.\n",
            "[Parallel(n_jobs=1)]: Done 300 out of 300 | elapsed:    0.0s finished\n",
            "[Parallel(n_jobs=1)]: Using backend SequentialBackend with 1 concurrent workers.\n",
            "[Parallel(n_jobs=1)]: Done 300 out of 300 | elapsed:    0.0s finished\n",
            "[Parallel(n_jobs=1)]: Using backend SequentialBackend with 1 concurrent workers.\n",
            "[Parallel(n_jobs=1)]: Done 300 out of 300 | elapsed:    0.0s finished\n"
          ]
        },
        {
          "output_type": "stream",
          "name": "stdout",
          "text": [
            "70 - MultivariateRegression with avg smape 3.62: \n",
            "Model Number: 71 of 161 with model MultivariateMotif for Validation 2\n",
            "71 - MultivariateMotif with avg smape 3.75: \n",
            "Model Number: 72 of 161 with model MultivariateRegression for Validation 2\n"
          ]
        },
        {
          "output_type": "stream",
          "name": "stderr",
          "text": [
            "[Parallel(n_jobs=-2)]: Using backend SequentialBackend with 1 concurrent workers.\n",
            "[Parallel(n_jobs=-2)]: Done 300 out of 300 | elapsed:    6.7s finished\n",
            "[Parallel(n_jobs=1)]: Using backend SequentialBackend with 1 concurrent workers.\n",
            "[Parallel(n_jobs=1)]: Done 300 out of 300 | elapsed:    0.0s finished\n",
            "[Parallel(n_jobs=1)]: Using backend SequentialBackend with 1 concurrent workers.\n",
            "[Parallel(n_jobs=1)]: Done 300 out of 300 | elapsed:    0.0s finished\n",
            "[Parallel(n_jobs=1)]: Using backend SequentialBackend with 1 concurrent workers.\n",
            "[Parallel(n_jobs=1)]: Done 300 out of 300 | elapsed:    0.0s finished\n",
            "[Parallel(n_jobs=1)]: Using backend SequentialBackend with 1 concurrent workers.\n",
            "[Parallel(n_jobs=1)]: Done 300 out of 300 | elapsed:    0.0s finished\n",
            "[Parallel(n_jobs=1)]: Using backend SequentialBackend with 1 concurrent workers.\n",
            "[Parallel(n_jobs=1)]: Done 300 out of 300 | elapsed:    0.0s finished\n",
            "INFO:fbprophet:Disabling daily seasonality. Run prophet with daily_seasonality=True to override this.\n"
          ]
        },
        {
          "output_type": "stream",
          "name": "stdout",
          "text": [
            "72 - MultivariateRegression with avg smape 3.62: \n",
            "Model Number: 73 of 161 with model FBProphet for Validation 2\n",
            "73 - FBProphet with avg smape 4.27: \n",
            "Model Number: 74 of 161 with model MultivariateMotif for Validation 2\n",
            "74 - MultivariateMotif with avg smape 10.04: \n",
            "Model Number: 75 of 161 with model MultivariateRegression for Validation 2\n",
            "Template Eval Error: ValueError(\"Input contains NaN, infinity or a value too large for dtype('float64').\") in model 75: MultivariateRegression\n",
            "Model Number: 76 of 161 with model MultivariateRegression for Validation 2\n"
          ]
        },
        {
          "output_type": "stream",
          "name": "stderr",
          "text": [
            "/usr/local/lib/python3.7/dist-packages/sklearn/_loss/glm_distribution.py:132: RuntimeWarning:\n",
            "\n",
            "divide by zero encountered in true_divide\n",
            "\n",
            "/usr/local/lib/python3.7/dist-packages/sklearn/linear_model/_glm/glm.py:42: RuntimeWarning:\n",
            "\n",
            "invalid value encountered in multiply\n",
            "\n",
            "/usr/local/lib/python3.7/dist-packages/sklearn/_loss/glm_distribution.py:331: RuntimeWarning:\n",
            "\n",
            "divide by zero encountered in power\n",
            "\n",
            "INFO:fbprophet:Disabling daily seasonality. Run prophet with daily_seasonality=True to override this.\n"
          ]
        },
        {
          "output_type": "stream",
          "name": "stdout",
          "text": [
            "76 - MultivariateRegression with avg smape 3.44: \n",
            "Model Number: 77 of 161 with model FBProphet for Validation 2\n",
            "77 - FBProphet with avg smape 3.45: \n",
            "Model Number: 78 of 161 with model MultivariateMotif for Validation 2\n",
            "78 - MultivariateMotif with avg smape 4.35: \n",
            "Model Number: 79 of 161 with model GLS for Validation 2\n",
            "79 - GLS with avg smape 3.42: \n",
            "Model Number: 80 of 161 with model FBProphet for Validation 2\n"
          ]
        },
        {
          "output_type": "stream",
          "name": "stderr",
          "text": [
            "INFO:fbprophet:Disabling daily seasonality. Run prophet with daily_seasonality=True to override this.\n",
            "INFO:fbprophet:Disabling daily seasonality. Run prophet with daily_seasonality=True to override this.\n"
          ]
        },
        {
          "output_type": "stream",
          "name": "stdout",
          "text": [
            "80 - FBProphet with avg smape 3.44: \n",
            "Model Number: 81 of 161 with model FBProphet for Validation 2\n",
            "81 - FBProphet with avg smape 3.63: \n",
            "Model Number: 82 of 161 with model LastValueNaive for Validation 2\n",
            "82 - LastValueNaive with avg smape 3.47: \n",
            "Model Number: 83 of 161 with model WindowRegression for Validation 2\n",
            "83 - WindowRegression with avg smape 3.62: \n",
            "Model Number: 84 of 161 with model WindowRegression for Validation 2\n",
            "84 - WindowRegression with avg smape 3.47: \n",
            "Model Number: 85 of 161 with model SectionalMotif for Validation 2\n"
          ]
        },
        {
          "output_type": "stream",
          "name": "stderr",
          "text": [
            "/usr/local/lib/python3.7/dist-packages/sklearn/neural_network/_multilayer_perceptron.py:549: ConvergenceWarning:\n",
            "\n",
            "lbfgs failed to converge (status=1):\n",
            "STOP: TOTAL NO. of ITERATIONS REACHED LIMIT.\n",
            "\n",
            "Increase the number of iterations (max_iter) or scale the data as shown in:\n",
            "    https://scikit-learn.org/stable/modules/preprocessing.html\n",
            "\n",
            "/usr/local/lib/python3.7/dist-packages/sklearn/linear_model/_glm/link.py:90: RuntimeWarning:\n",
            "\n",
            "overflow encountered in exp\n",
            "\n",
            "/usr/local/lib/python3.7/dist-packages/sklearn/linear_model/_glm/link.py:93: RuntimeWarning:\n",
            "\n",
            "overflow encountered in exp\n",
            "\n",
            "/usr/local/lib/python3.7/dist-packages/sklearn/_loss/glm_distribution.py:132: RuntimeWarning:\n",
            "\n",
            "invalid value encountered in true_divide\n",
            "\n",
            "/usr/local/lib/python3.7/dist-packages/sklearn/_loss/glm_distribution.py:323: RuntimeWarning:\n",
            "\n",
            "invalid value encountered in add\n",
            "\n",
            "/usr/local/lib/python3.7/dist-packages/sklearn/linear_model/_glm/glm.py:323: ConvergenceWarning:\n",
            "\n",
            "lbfgs failed to converge (status=2):\n",
            "ABNORMAL_TERMINATION_IN_LNSRCH.\n",
            "\n",
            "Increase the number of iterations (max_iter) or scale the data as shown in:\n",
            "    https://scikit-learn.org/stable/modules/preprocessing.html\n",
            "\n",
            "/usr/local/lib/python3.7/dist-packages/sklearn/linear_model/_glm/link.py:90: RuntimeWarning:\n",
            "\n",
            "overflow encountered in exp\n",
            "\n",
            "/usr/local/lib/python3.7/dist-packages/sklearn/linear_model/_glm/link.py:93: RuntimeWarning:\n",
            "\n",
            "overflow encountered in exp\n",
            "\n",
            "/usr/local/lib/python3.7/dist-packages/sklearn/_loss/glm_distribution.py:132: RuntimeWarning:\n",
            "\n",
            "invalid value encountered in true_divide\n",
            "\n",
            "/usr/local/lib/python3.7/dist-packages/sklearn/svm/_base.py:1208: ConvergenceWarning:\n",
            "\n",
            "Liblinear failed to converge, increase the number of iterations.\n",
            "\n"
          ]
        },
        {
          "output_type": "stream",
          "name": "stdout",
          "text": [
            "85 - SectionalMotif with avg smape 6.14: \n",
            "Model Number: 86 of 161 with model WindowRegression for Validation 2\n"
          ]
        },
        {
          "output_type": "stream",
          "name": "stderr",
          "text": [
            "/usr/local/lib/python3.7/dist-packages/sklearn/svm/_base.py:1208: ConvergenceWarning:\n",
            "\n",
            "Liblinear failed to converge, increase the number of iterations.\n",
            "\n",
            "/usr/local/lib/python3.7/dist-packages/sklearn/svm/_base.py:1208: ConvergenceWarning:\n",
            "\n",
            "Liblinear failed to converge, increase the number of iterations.\n",
            "\n",
            "/usr/local/lib/python3.7/dist-packages/sklearn/svm/_base.py:1208: ConvergenceWarning:\n",
            "\n",
            "Liblinear failed to converge, increase the number of iterations.\n",
            "\n"
          ]
        },
        {
          "output_type": "stream",
          "name": "stdout",
          "text": [
            "86 - WindowRegression with avg smape 9.78: \n",
            "Model Number: 87 of 161 with model GLS for Validation 2\n",
            "87 - GLS with avg smape 3.47: \n",
            "Model Number: 88 of 161 with model WindowRegression for Validation 2\n"
          ]
        },
        {
          "output_type": "stream",
          "name": "stderr",
          "text": [
            "/usr/local/lib/python3.7/dist-packages/sklearn/neural_network/_multilayer_perceptron.py:549: ConvergenceWarning:\n",
            "\n",
            "lbfgs failed to converge (status=1):\n",
            "STOP: TOTAL NO. of ITERATIONS REACHED LIMIT.\n",
            "\n",
            "Increase the number of iterations (max_iter) or scale the data as shown in:\n",
            "    https://scikit-learn.org/stable/modules/preprocessing.html\n",
            "\n"
          ]
        },
        {
          "output_type": "stream",
          "name": "stdout",
          "text": [
            "88 - WindowRegression with avg smape 3.21: \n",
            "Model Number: 89 of 161 with model WindowRegression for Validation 2\n",
            "Epoch 1/50\n",
            "90/90 [==============================] - 2s 10ms/step - loss: 34.5132 - val_loss: 65.8211\n",
            "Epoch 2/50\n",
            "90/90 [==============================] - 1s 7ms/step - loss: 33.3654 - val_loss: 65.3461\n",
            "Epoch 3/50\n",
            "90/90 [==============================] - 1s 7ms/step - loss: 32.6460 - val_loss: 65.1418\n",
            "Epoch 4/50\n",
            "90/90 [==============================] - 1s 8ms/step - loss: 32.5363 - val_loss: 65.0246\n",
            "Epoch 5/50\n",
            "90/90 [==============================] - 1s 7ms/step - loss: 31.9105 - val_loss: 64.9034\n",
            "Epoch 6/50\n",
            "90/90 [==============================] - 1s 7ms/step - loss: 32.0171 - val_loss: 64.7881\n",
            "Epoch 7/50\n",
            "90/90 [==============================] - 1s 7ms/step - loss: 31.5826 - val_loss: 64.6722\n",
            "Epoch 8/50\n",
            "90/90 [==============================] - 1s 7ms/step - loss: 31.4197 - val_loss: 64.6127\n",
            "Epoch 9/50\n",
            "90/90 [==============================] - 1s 8ms/step - loss: 31.4446 - val_loss: 64.5439\n",
            "Epoch 10/50\n",
            "90/90 [==============================] - 1s 7ms/step - loss: 31.4212 - val_loss: 64.4816\n",
            "Epoch 11/50\n",
            "90/90 [==============================] - 1s 8ms/step - loss: 31.1444 - val_loss: 64.4518\n",
            "Epoch 12/50\n",
            "90/90 [==============================] - 1s 8ms/step - loss: 30.9941 - val_loss: 64.4133\n",
            "Epoch 13/50\n",
            "90/90 [==============================] - 1s 8ms/step - loss: 31.0180 - val_loss: 64.3657\n",
            "Epoch 14/50\n",
            "90/90 [==============================] - 1s 7ms/step - loss: 30.8590 - val_loss: 64.3607\n",
            "Epoch 15/50\n",
            "90/90 [==============================] - 1s 8ms/step - loss: 31.0633 - val_loss: 64.3462\n",
            "Epoch 16/50\n",
            "90/90 [==============================] - 1s 8ms/step - loss: 30.8381 - val_loss: 64.3578\n",
            "Epoch 17/50\n",
            "90/90 [==============================] - 1s 8ms/step - loss: 30.7665 - val_loss: 64.3431\n",
            "Epoch 18/50\n",
            "90/90 [==============================] - 1s 8ms/step - loss: 30.9007 - val_loss: 64.3525\n",
            "Epoch 19/50\n",
            "90/90 [==============================] - 1s 7ms/step - loss: 30.6830 - val_loss: 64.3606\n",
            "Epoch 20/50\n",
            "90/90 [==============================] - 1s 8ms/step - loss: 30.7348 - val_loss: 64.3766\n",
            "Epoch 21/50\n",
            "90/90 [==============================] - 1s 8ms/step - loss: 30.7695 - val_loss: 64.3889\n",
            "Epoch 22/50\n",
            "90/90 [==============================] - 1s 7ms/step - loss: 30.6087 - val_loss: 64.3890\n",
            "Epoch 23/50\n",
            "90/90 [==============================] - 1s 7ms/step - loss: 30.5631 - val_loss: 64.3985\n",
            "Epoch 24/50\n",
            "90/90 [==============================] - 1s 8ms/step - loss: 30.7040 - val_loss: 64.4225\n",
            "Epoch 25/50\n",
            "90/90 [==============================] - 1s 8ms/step - loss: 30.5796 - val_loss: 64.4508\n",
            "Epoch 26/50\n",
            "90/90 [==============================] - 1s 8ms/step - loss: 30.5295 - val_loss: 64.4607\n",
            "Epoch 27/50\n",
            "90/90 [==============================] - 1s 8ms/step - loss: 30.5314 - val_loss: 64.4824\n",
            "89 - WindowRegression with avg smape 3.21: \n",
            "Model Number: 90 of 161 with model UnivariateMotif for Validation 2\n",
            "90 - UnivariateMotif with avg smape 3.37: \n",
            "Model Number: 91 of 161 with model AverageValueNaive for Validation 2\n",
            "91 - AverageValueNaive with avg smape 3.53: \n",
            "Model Number: 92 of 161 with model MultivariateRegression for Validation 2\n"
          ]
        },
        {
          "output_type": "stream",
          "name": "stderr",
          "text": [
            "/usr/local/lib/python3.7/dist-packages/sklearn/_loss/glm_distribution.py:132: RuntimeWarning:\n",
            "\n",
            "divide by zero encountered in true_divide\n",
            "\n",
            "/usr/local/lib/python3.7/dist-packages/sklearn/linear_model/_glm/glm.py:42: RuntimeWarning:\n",
            "\n",
            "invalid value encountered in multiply\n",
            "\n",
            "/usr/local/lib/python3.7/dist-packages/sklearn/_loss/glm_distribution.py:331: RuntimeWarning:\n",
            "\n",
            "divide by zero encountered in power\n",
            "\n"
          ]
        },
        {
          "output_type": "stream",
          "name": "stdout",
          "text": [
            "Epoch 1/50\n",
            "57/57 [==============================] - 4s 4ms/step - loss: 0.1236\n",
            "Epoch 2/50\n",
            "57/57 [==============================] - 0s 4ms/step - loss: 0.0678\n",
            "Epoch 3/50\n",
            "57/57 [==============================] - 0s 4ms/step - loss: 0.0423\n",
            "Epoch 4/50\n",
            "57/57 [==============================] - 0s 3ms/step - loss: 0.0514\n",
            "Epoch 5/50\n",
            "57/57 [==============================] - 0s 5ms/step - loss: 0.0605\n",
            "Epoch 6/50\n",
            "57/57 [==============================] - 0s 5ms/step - loss: 0.0659\n",
            "Epoch 7/50\n",
            "57/57 [==============================] - 0s 4ms/step - loss: 0.0349\n",
            "Epoch 8/50\n",
            "57/57 [==============================] - 0s 4ms/step - loss: 0.0564\n",
            "Epoch 9/50\n",
            "57/57 [==============================] - 0s 4ms/step - loss: 0.0461\n",
            "Epoch 10/50\n",
            "57/57 [==============================] - 0s 4ms/step - loss: 0.0264\n",
            "Epoch 11/50\n",
            "57/57 [==============================] - 0s 3ms/step - loss: 0.0290\n",
            "Epoch 12/50\n",
            "57/57 [==============================] - 0s 4ms/step - loss: 0.0243\n",
            "Epoch 13/50\n",
            "57/57 [==============================] - 0s 3ms/step - loss: 0.0375\n",
            "Epoch 14/50\n",
            "57/57 [==============================] - 0s 4ms/step - loss: 0.0486\n",
            "Epoch 15/50\n",
            "57/57 [==============================] - 0s 4ms/step - loss: 0.0265\n",
            "Epoch 16/50\n",
            "57/57 [==============================] - 0s 4ms/step - loss: 0.0280\n",
            "Epoch 17/50\n",
            "57/57 [==============================] - 0s 4ms/step - loss: 0.0266\n",
            "Epoch 18/50\n",
            "57/57 [==============================] - 0s 4ms/step - loss: 0.0502\n",
            "Epoch 19/50\n",
            "57/57 [==============================] - 0s 4ms/step - loss: 0.0309\n",
            "Epoch 20/50\n",
            "57/57 [==============================] - 0s 4ms/step - loss: 0.0401\n",
            "Epoch 21/50\n",
            "57/57 [==============================] - 0s 4ms/step - loss: 0.0379\n",
            "Epoch 22/50\n",
            "57/57 [==============================] - 0s 4ms/step - loss: 0.0246\n",
            "Epoch 23/50\n",
            "57/57 [==============================] - 0s 4ms/step - loss: 0.0220\n",
            "Epoch 24/50\n",
            "57/57 [==============================] - 0s 4ms/step - loss: 0.0165\n",
            "Epoch 25/50\n",
            "57/57 [==============================] - 0s 4ms/step - loss: 0.0135\n",
            "Epoch 26/50\n",
            "57/57 [==============================] - 0s 3ms/step - loss: 0.0208\n",
            "Epoch 27/50\n",
            "57/57 [==============================] - 0s 4ms/step - loss: 0.0154\n",
            "Epoch 28/50\n",
            "57/57 [==============================] - 0s 3ms/step - loss: 0.0174\n",
            "Epoch 29/50\n",
            "57/57 [==============================] - 0s 4ms/step - loss: 0.0177\n",
            "Epoch 30/50\n",
            "57/57 [==============================] - 0s 4ms/step - loss: 0.0202\n",
            "Epoch 31/50\n",
            "57/57 [==============================] - 0s 4ms/step - loss: 0.0114\n",
            "Epoch 32/50\n",
            "57/57 [==============================] - 0s 4ms/step - loss: 0.0109\n",
            "Epoch 33/50\n",
            "57/57 [==============================] - 0s 4ms/step - loss: 0.0119\n",
            "Epoch 34/50\n",
            "57/57 [==============================] - 0s 3ms/step - loss: 0.0129\n",
            "Epoch 35/50\n",
            "57/57 [==============================] - 0s 4ms/step - loss: 0.0113\n",
            "Epoch 36/50\n",
            "57/57 [==============================] - 0s 4ms/step - loss: 0.0149\n",
            "Epoch 37/50\n",
            "57/57 [==============================] - 0s 4ms/step - loss: 0.0132\n",
            "Epoch 38/50\n",
            "57/57 [==============================] - 0s 3ms/step - loss: 0.0181\n",
            "Epoch 39/50\n",
            "57/57 [==============================] - 0s 4ms/step - loss: 0.0114\n",
            "Epoch 40/50\n",
            "57/57 [==============================] - 0s 4ms/step - loss: 0.0098\n",
            "Epoch 41/50\n",
            "57/57 [==============================] - 0s 4ms/step - loss: 0.0101\n",
            "Epoch 42/50\n",
            "57/57 [==============================] - 0s 4ms/step - loss: 0.0108\n",
            "Epoch 43/50\n",
            "57/57 [==============================] - 0s 4ms/step - loss: 0.0101\n",
            "Epoch 44/50\n",
            "57/57 [==============================] - 0s 5ms/step - loss: 0.0092\n",
            "Epoch 45/50\n",
            "57/57 [==============================] - 0s 4ms/step - loss: 0.0119\n",
            "Epoch 46/50\n",
            "57/57 [==============================] - 0s 4ms/step - loss: 0.0099\n",
            "Epoch 47/50\n",
            "57/57 [==============================] - 0s 4ms/step - loss: 0.0115\n",
            "Epoch 48/50\n",
            "57/57 [==============================] - 0s 4ms/step - loss: 0.0104\n",
            "Epoch 49/50\n",
            "57/57 [==============================] - 0s 4ms/step - loss: 0.0103\n",
            "Epoch 50/50\n",
            "57/57 [==============================] - 0s 4ms/step - loss: 0.0089\n",
            "Template Eval Error: ValueError('Model MultivariateRegression returned NaN for one or more series. fail_on_forecast_nan=True') in model 92: MultivariateRegression\n",
            "Model Number: 93 of 161 with model MultivariateMotif for Validation 2\n",
            "93 - MultivariateMotif with avg smape 11.56: \n",
            "Model Number: 94 of 161 with model MultivariateRegression for Validation 2\n",
            "94 - MultivariateRegression with avg smape 3.74: \n",
            "Model Number: 95 of 161 with model LastValueNaive for Validation 2\n"
          ]
        },
        {
          "output_type": "stream",
          "name": "stderr",
          "text": [
            "/usr/local/lib/python3.7/dist-packages/sklearn/neural_network/_multilayer_perceptron.py:549: ConvergenceWarning:\n",
            "\n",
            "lbfgs failed to converge (status=1):\n",
            "STOP: TOTAL NO. of ITERATIONS REACHED LIMIT.\n",
            "\n",
            "Increase the number of iterations (max_iter) or scale the data as shown in:\n",
            "    https://scikit-learn.org/stable/modules/preprocessing.html\n",
            "\n"
          ]
        },
        {
          "output_type": "stream",
          "name": "stdout",
          "text": [
            "95 - LastValueNaive with avg smape 2.68: \n",
            "Model Number: 96 of 161 with model UnivariateRegression for Validation 2\n",
            "96 - UnivariateRegression with avg smape 3.79: \n",
            "Model Number: 97 of 161 with model MultivariateRegression for Validation 2\n"
          ]
        },
        {
          "output_type": "stream",
          "name": "stderr",
          "text": [
            "[Parallel(n_jobs=-2)]: Using backend SequentialBackend with 1 concurrent workers.\n"
          ]
        },
        {
          "output_type": "stream",
          "name": "stdout",
          "text": [
            "Template Eval Error: ValueError(\"Input contains NaN, infinity or a value too large for dtype('float32').\") in model 97: MultivariateRegression\n",
            "Model Number: 98 of 161 with model AverageValueNaive for Validation 2\n",
            "98 - AverageValueNaive with avg smape 10.17: \n",
            "Model Number: 99 of 161 with model SectionalMotif for Validation 2\n"
          ]
        },
        {
          "output_type": "stream",
          "name": "stderr",
          "text": [
            "[Parallel(n_jobs=-2)]: Done 300 out of 300 | elapsed:    2.4s finished\n"
          ]
        },
        {
          "output_type": "stream",
          "name": "stdout",
          "text": [
            "99 - SectionalMotif with avg smape 3.52: \n",
            "Model Number: 100 of 161 with model ConstantNaive for Validation 2\n",
            "100 - ConstantNaive with avg smape 3.47: \n",
            "Model Number: 101 of 161 with model ConstantNaive for Validation 2\n",
            "101 - ConstantNaive with avg smape 3.47: \n",
            "Model Number: 102 of 161 with model ConstantNaive for Validation 2\n",
            "102 - ConstantNaive with avg smape 9.78: \n",
            "Model Number: 103 of 161 with model LastValueNaive for Validation 2\n",
            "103 - LastValueNaive with avg smape 9.78: \n",
            "Model Number: 104 of 161 with model WindowRegression for Validation 2\n",
            "104 - WindowRegression with avg smape 9.78: \n",
            "Model Number: 105 of 161 with model MultivariateMotif for Validation 2\n",
            "105 - MultivariateMotif with avg smape 3.47: \n",
            "Model Number: 106 of 161 with model SectionalMotif for Validation 2\n",
            "106 - SectionalMotif with avg smape 10.58: \n",
            "Model Number: 107 of 161 with model LastValueNaive for Validation 2\n",
            "107 - LastValueNaive with avg smape 5.47: \n",
            "Model Number: 108 of 161 with model SectionalMotif for Validation 2\n",
            "108 - SectionalMotif with avg smape 3.5: \n",
            "Model Number: 109 of 161 with model ConstantNaive for Validation 2\n"
          ]
        },
        {
          "output_type": "stream",
          "name": "stderr",
          "text": [
            "/usr/local/lib/python3.7/dist-packages/sklearn/linear_model/_glm/link.py:90: RuntimeWarning:\n",
            "\n",
            "overflow encountered in exp\n",
            "\n",
            "/usr/local/lib/python3.7/dist-packages/sklearn/linear_model/_glm/link.py:93: RuntimeWarning:\n",
            "\n",
            "overflow encountered in exp\n",
            "\n",
            "/usr/local/lib/python3.7/dist-packages/sklearn/_loss/glm_distribution.py:132: RuntimeWarning:\n",
            "\n",
            "invalid value encountered in true_divide\n",
            "\n"
          ]
        },
        {
          "output_type": "stream",
          "name": "stdout",
          "text": [
            "📈 109 - ConstantNaive with avg smape 1.51: \n",
            "Model Number: 110 of 161 with model ConstantNaive for Validation 2\n",
            "110 - ConstantNaive with avg smape 1.51: \n",
            "Model Number: 111 of 161 with model AverageValueNaive for Validation 2\n",
            "111 - AverageValueNaive with avg smape 1.51: \n",
            "Model Number: 112 of 161 with model AverageValueNaive for Validation 2\n",
            "112 - AverageValueNaive with avg smape 5.37: \n",
            "Model Number: 113 of 161 with model SectionalMotif for Validation 2\n",
            "113 - SectionalMotif with avg smape 5.3: \n",
            "Model Number: 114 of 161 with model SectionalMotif for Validation 2\n",
            "114 - SectionalMotif with avg smape 5.22: \n",
            "Model Number: 115 of 161 with model DatepartRegression for Validation 2\n",
            "115 - DatepartRegression with avg smape 5.22: \n",
            "Model Number: 116 of 161 with model UnivariateRegression for Validation 2\n"
          ]
        },
        {
          "output_type": "stream",
          "name": "stderr",
          "text": [
            "/usr/local/lib/python3.7/dist-packages/sklearn/linear_model/_coordinate_descent.py:648: ConvergenceWarning:\n",
            "\n",
            "Objective did not converge. You might want to increase the number of iterations, check the scale of the features or consider increasing regularisation. Duality gap: 0.000e+00, tolerance: 0.000e+00\n",
            "\n",
            "/usr/local/lib/python3.7/dist-packages/autots/tools/probabilistic.py:67: RuntimeWarning:\n",
            "\n",
            "invalid value encountered in true_divide\n",
            "\n",
            "/usr/local/lib/python3.7/dist-packages/autots/tools/probabilistic.py:68: RuntimeWarning:\n",
            "\n",
            "divide by zero encountered in true_divide\n",
            "\n"
          ]
        },
        {
          "output_type": "stream",
          "name": "stdout",
          "text": [
            "116 - UnivariateRegression with avg smape 2.99: \n",
            "Model Number: 117 of 161 with model SeasonalNaive for Validation 2\n",
            "117 - SeasonalNaive with avg smape 1.73: \n",
            "Model Number: 118 of 161 with model UnobservedComponents for Validation 2\n",
            "118 - UnobservedComponents with avg smape 106.23: \n",
            "Model Number: 119 of 161 with model UnivariateRegression for Validation 2\n",
            "119 - UnivariateRegression with avg smape 3.31: \n",
            "Model Number: 120 of 161 with model AverageValueNaive for Validation 2\n",
            "120 - AverageValueNaive with avg smape 4.55: \n",
            "Model Number: 121 of 161 with model AverageValueNaive for Validation 2\n",
            "121 - AverageValueNaive with avg smape 1.55: \n",
            "Model Number: 122 of 161 with model UnobservedComponents for Validation 2\n"
          ]
        },
        {
          "output_type": "stream",
          "name": "stderr",
          "text": [
            "/usr/local/lib/python3.7/dist-packages/sklearn/linear_model/_glm/link.py:90: RuntimeWarning:\n",
            "\n",
            "overflow encountered in exp\n",
            "\n",
            "/usr/local/lib/python3.7/dist-packages/sklearn/linear_model/_glm/link.py:93: RuntimeWarning:\n",
            "\n",
            "overflow encountered in exp\n",
            "\n",
            "/usr/local/lib/python3.7/dist-packages/sklearn/_loss/glm_distribution.py:132: RuntimeWarning:\n",
            "\n",
            "invalid value encountered in true_divide\n",
            "\n",
            "/usr/local/lib/python3.7/dist-packages/sklearn/_loss/glm_distribution.py:323: RuntimeWarning:\n",
            "\n",
            "invalid value encountered in add\n",
            "\n",
            "/usr/local/lib/python3.7/dist-packages/sklearn/linear_model/_glm/glm.py:323: ConvergenceWarning:\n",
            "\n",
            "lbfgs failed to converge (status=2):\n",
            "ABNORMAL_TERMINATION_IN_LNSRCH.\n",
            "\n",
            "Increase the number of iterations (max_iter) or scale the data as shown in:\n",
            "    https://scikit-learn.org/stable/modules/preprocessing.html\n",
            "\n"
          ]
        },
        {
          "output_type": "stream",
          "name": "stdout",
          "text": [
            "122 - UnobservedComponents with avg smape 3.47: \n",
            "Model Number: 123 of 161 with model UnobservedComponents for Validation 2\n",
            "123 - UnobservedComponents with avg smape 3.36: \n",
            "Model Number: 124 of 161 with model AverageValueNaive for Validation 2\n",
            "124 - AverageValueNaive with avg smape 8.96: \n",
            "Model Number: 125 of 161 with model AverageValueNaive for Validation 2\n",
            "125 - AverageValueNaive with avg smape 3.34: \n",
            "Model Number: 126 of 161 with model GLM for Validation 2\n",
            "126 - GLM with avg smape 3.47: \n",
            "Model Number: 127 of 161 with model UnobservedComponents for Validation 2\n"
          ]
        },
        {
          "output_type": "stream",
          "name": "stderr",
          "text": [
            "/usr/local/lib/python3.7/dist-packages/statsmodels/genmod/generalized_linear_model.py:273: DomainWarning:\n",
            "\n",
            "The inverse_power link function does not respect the domain of the Gamma family.\n",
            "\n"
          ]
        },
        {
          "output_type": "stream",
          "name": "stdout",
          "text": [
            "127 - UnobservedComponents with avg smape 3.54: \n",
            "Model Number: 128 of 161 with model UnobservedComponents for Validation 2\n",
            "128 - UnobservedComponents with avg smape 3.54: \n",
            "Model Number: 129 of 161 with model SeasonalNaive for Validation 2\n",
            "129 - SeasonalNaive with avg smape 2.5: \n",
            "Model Number: 130 of 161 with model UnivariateRegression for Validation 2\n",
            "130 - UnivariateRegression with avg smape 3.56: \n",
            "Model Number: 131 of 161 with model UnobservedComponents for Validation 2\n",
            "131 - UnobservedComponents with avg smape 3.24: \n",
            "Model Number: 132 of 161 with model UnivariateRegression for Validation 2\n",
            "132 - UnivariateRegression with avg smape 3.58: \n",
            "Model Number: 133 of 161 with model DatepartRegression for Validation 2\n"
          ]
        },
        {
          "output_type": "stream",
          "name": "stderr",
          "text": [
            "[Parallel(n_jobs=-2)]: Using backend SequentialBackend with 1 concurrent workers.\n"
          ]
        },
        {
          "output_type": "stream",
          "name": "stdout",
          "text": [
            "133 - DatepartRegression with avg smape 6.41: \n",
            "Model Number: 134 of 161 with model UnivariateRegression for Validation 2\n"
          ]
        },
        {
          "output_type": "stream",
          "name": "stderr",
          "text": [
            "[Parallel(n_jobs=-2)]: Done 100 out of 100 | elapsed:    0.7s finished\n",
            "[Parallel(n_jobs=1)]: Using backend SequentialBackend with 1 concurrent workers.\n",
            "[Parallel(n_jobs=1)]: Done 100 out of 100 | elapsed:    0.0s finished\n"
          ]
        },
        {
          "output_type": "stream",
          "name": "stdout",
          "text": [
            "134 - UnivariateRegression with avg smape 15.73: \n",
            "Model Number: 135 of 161 with model UnivariateRegression for Validation 2\n",
            "135 - UnivariateRegression with avg smape 4.03: \n",
            "Model Number: 136 of 161 with model SeasonalNaive for Validation 2\n",
            "136 - SeasonalNaive with avg smape 8.89: \n",
            "Model Number: 137 of 161 with model DatepartRegression for Validation 2\n"
          ]
        },
        {
          "output_type": "stream",
          "name": "stderr",
          "text": [
            "[Parallel(n_jobs=-2)]: Using backend SequentialBackend with 1 concurrent workers.\n"
          ]
        },
        {
          "output_type": "stream",
          "name": "stdout",
          "text": [
            "137 - DatepartRegression with avg smape 3.46: \n",
            "Model Number: 138 of 161 with model SeasonalNaive for Validation 2\n",
            "138 - SeasonalNaive with avg smape 102.17: \n",
            "Model Number: 139 of 161 with model UnivariateRegression for Validation 2\n"
          ]
        },
        {
          "output_type": "stream",
          "name": "stderr",
          "text": [
            "[Parallel(n_jobs=-2)]: Done 100 out of 100 | elapsed:    0.5s finished\n",
            "[Parallel(n_jobs=1)]: Using backend SequentialBackend with 1 concurrent workers.\n",
            "[Parallel(n_jobs=1)]: Done 100 out of 100 | elapsed:    0.0s finished\n",
            "/usr/local/lib/python3.7/dist-packages/autots/tools/probabilistic.py:67: RuntimeWarning:\n",
            "\n",
            "invalid value encountered in true_divide\n",
            "\n",
            "/usr/local/lib/python3.7/dist-packages/autots/tools/probabilistic.py:68: RuntimeWarning:\n",
            "\n",
            "divide by zero encountered in true_divide\n",
            "\n"
          ]
        },
        {
          "output_type": "stream",
          "name": "stdout",
          "text": [
            "139 - UnivariateRegression with avg smape 3.53: \n",
            "Model Number: 140 of 161 with model UnivariateRegression for Validation 2\n",
            "140 - UnivariateRegression with avg smape 3.54: \n",
            "Model Number: 141 of 161 with model SeasonalNaive for Validation 2\n",
            "141 - SeasonalNaive with avg smape 3.4: \n"
          ]
        },
        {
          "output_type": "stream",
          "name": "stderr",
          "text": [
            "/usr/local/lib/python3.7/dist-packages/autots/tools/probabilistic.py:67: RuntimeWarning:\n",
            "\n",
            "invalid value encountered in true_divide\n",
            "\n",
            "/usr/local/lib/python3.7/dist-packages/autots/tools/probabilistic.py:68: RuntimeWarning:\n",
            "\n",
            "divide by zero encountered in true_divide\n",
            "\n"
          ]
        },
        {
          "output_type": "stream",
          "name": "stdout",
          "text": [
            "Model Number: 142 of 161 with model DatepartRegression for Validation 2\n",
            "142 - DatepartRegression with avg smape 3.07: \n",
            "Model Number: 143 of 161 with model SeasonalNaive for Validation 2\n",
            "143 - SeasonalNaive with avg smape 4.84: \n",
            "Model Number: 144 of 161 with model SeasonalNaive for Validation 2\n",
            "144 - SeasonalNaive with avg smape 7.09: \n",
            "Model Number: 145 of 161 with model DatepartRegression for Validation 2\n"
          ]
        },
        {
          "output_type": "stream",
          "name": "stderr",
          "text": [
            "[Parallel(n_jobs=-2)]: Using backend SequentialBackend with 1 concurrent workers.\n",
            "[Parallel(n_jobs=-2)]: Done 300 out of 300 | elapsed:    0.6s finished\n",
            "[Parallel(n_jobs=1)]: Using backend SequentialBackend with 1 concurrent workers.\n",
            "[Parallel(n_jobs=1)]: Done 300 out of 300 | elapsed:    0.0s finished\n",
            "[Parallel(n_jobs=-2)]: Using backend SequentialBackend with 1 concurrent workers.\n"
          ]
        },
        {
          "output_type": "stream",
          "name": "stdout",
          "text": [
            "145 - DatepartRegression with avg smape 4.59: \n",
            "Model Number: 146 of 161 with model DatepartRegression for Validation 2\n",
            "146 - DatepartRegression with avg smape 5.77: \n",
            "Model Number: 147 of 161 with model SeasonalNaive for Validation 2\n"
          ]
        },
        {
          "output_type": "stream",
          "name": "stderr",
          "text": [
            "[Parallel(n_jobs=-2)]: Done 300 out of 300 | elapsed:    0.6s finished\n",
            "[Parallel(n_jobs=1)]: Using backend SequentialBackend with 1 concurrent workers.\n",
            "[Parallel(n_jobs=1)]: Done 300 out of 300 | elapsed:    0.0s finished\n"
          ]
        },
        {
          "output_type": "stream",
          "name": "stdout",
          "text": [
            "147 - SeasonalNaive with avg smape 4.73: \n",
            "Model Number: 148 of 161 with model DatepartRegression for Validation 2\n"
          ]
        },
        {
          "output_type": "stream",
          "name": "stderr",
          "text": [
            "[Parallel(n_jobs=-2)]: Using backend SequentialBackend with 1 concurrent workers.\n",
            "[Parallel(n_jobs=-2)]: Done 300 out of 300 | elapsed:    0.6s finished\n",
            "[Parallel(n_jobs=1)]: Using backend SequentialBackend with 1 concurrent workers.\n",
            "[Parallel(n_jobs=1)]: Done 300 out of 300 | elapsed:    0.0s finished\n"
          ]
        },
        {
          "output_type": "stream",
          "name": "stdout",
          "text": [
            "148 - DatepartRegression with avg smape 7.76: \n",
            "Model Number: 149 of 161 with model DatepartRegression for Validation 2\n"
          ]
        },
        {
          "output_type": "stream",
          "name": "stderr",
          "text": [
            "[Parallel(n_jobs=-2)]: Using backend SequentialBackend with 1 concurrent workers.\n"
          ]
        },
        {
          "output_type": "stream",
          "name": "stdout",
          "text": [
            "149 - DatepartRegression with avg smape 7.77: \n",
            "Model Number: 150 of 161 with model GLM for Validation 2\n"
          ]
        },
        {
          "output_type": "stream",
          "name": "stderr",
          "text": [
            "[Parallel(n_jobs=-2)]: Done 300 out of 300 | elapsed:    0.6s finished\n",
            "[Parallel(n_jobs=1)]: Using backend SequentialBackend with 1 concurrent workers.\n",
            "[Parallel(n_jobs=1)]: Done 300 out of 300 | elapsed:    0.0s finished\n",
            "[Parallel(n_jobs=-2)]: Using backend SequentialBackend with 1 concurrent workers.\n"
          ]
        },
        {
          "output_type": "stream",
          "name": "stdout",
          "text": [
            "150 - GLM with avg smape 106.12: \n",
            "Model Number: 151 of 161 with model DatepartRegression for Validation 2\n"
          ]
        },
        {
          "output_type": "stream",
          "name": "stderr",
          "text": [
            "[Parallel(n_jobs=-2)]: Done 100 out of 100 | elapsed:    0.5s finished\n",
            "[Parallel(n_jobs=1)]: Using backend SequentialBackend with 1 concurrent workers.\n",
            "[Parallel(n_jobs=1)]: Done 100 out of 100 | elapsed:    0.0s finished\n"
          ]
        },
        {
          "output_type": "stream",
          "name": "stdout",
          "text": [
            "151 - DatepartRegression with avg smape 1.95: \n",
            "Model Number: 152 of 161 with model UnobservedComponents for Validation 2\n",
            "152 - UnobservedComponents with avg smape 3.48: \n",
            "Model Number: 153 of 161 with model UnobservedComponents for Validation 2\n",
            "153 - UnobservedComponents with avg smape 17.56: \n",
            "Model Number: 154 of 161 with model UnobservedComponents for Validation 2\n",
            "📈 154 - UnobservedComponents with avg smape 1.03: \n",
            "Model Number: 155 of 161 with model GLM for Validation 2\n",
            "155 - GLM with avg smape 111.99: \n",
            "Model Number: 156 of 161 with model GLM for Validation 2\n",
            "156 - GLM with avg smape 29.37: \n",
            "Model Number: 157 of 161 with model GLM for Validation 2\n",
            "157 - GLM with avg smape 31.94: \n",
            "Model Number: 158 of 161 with model GLM for Validation 2\n",
            "158 - GLM with avg smape 40.58: \n",
            "Model Number: 159 of 161 with model GLM for Validation 2\n",
            "159 - GLM with avg smape 40.59: \n",
            "Model Number: 160 of 161 with model GLM for Validation 2\n",
            "160 - GLM with avg smape 40.72: \n",
            "Model Number: 161 of 161 with model GLM for Validation 2\n",
            "161 - GLM with avg smape 106.14: \n"
          ]
        },
        {
          "output_type": "stream",
          "name": "stderr",
          "text": [
            "INFO:fbprophet:Disabling daily seasonality. Run prophet with daily_seasonality=True to override this.\n"
          ]
        },
        {
          "output_type": "stream",
          "name": "stdout",
          "text": [
            "Validation Round: 3\n",
            "Model Number: 1 of 161 with model Ensemble for Validation 3\n"
          ]
        },
        {
          "output_type": "stream",
          "name": "stderr",
          "text": [
            "INFO:fbprophet:Disabling daily seasonality. Run prophet with daily_seasonality=True to override this.\n"
          ]
        },
        {
          "output_type": "stream",
          "name": "stdout",
          "text": [
            "📈 1 - Ensemble with avg smape 1.55: \n",
            "Model Number: 2 of 161 with model Ensemble for Validation 3\n"
          ]
        },
        {
          "output_type": "stream",
          "name": "stderr",
          "text": [
            "INFO:fbprophet:Disabling daily seasonality. Run prophet with daily_seasonality=True to override this.\n"
          ]
        },
        {
          "output_type": "stream",
          "name": "stdout",
          "text": [
            "2 - Ensemble with avg smape 2.75: \n",
            "Model Number: 3 of 161 with model Ensemble for Validation 3\n"
          ]
        },
        {
          "output_type": "stream",
          "name": "stderr",
          "text": [
            "INFO:fbprophet:Disabling daily seasonality. Run prophet with daily_seasonality=True to override this.\n"
          ]
        },
        {
          "output_type": "stream",
          "name": "stdout",
          "text": [
            "3 - Ensemble with avg smape 2.67: \n",
            "Model Number: 4 of 161 with model Ensemble for Validation 3\n"
          ]
        },
        {
          "output_type": "stream",
          "name": "stderr",
          "text": [
            "INFO:fbprophet:Disabling daily seasonality. Run prophet with daily_seasonality=True to override this.\n"
          ]
        },
        {
          "output_type": "stream",
          "name": "stdout",
          "text": [
            "4 - Ensemble with avg smape 2.79: \n",
            "Model Number: 5 of 161 with model FBProphet for Validation 3\n",
            "5 - FBProphet with avg smape 2.51: \n",
            "Model Number: 6 of 161 with model Ensemble for Validation 3\n"
          ]
        },
        {
          "output_type": "stream",
          "name": "stderr",
          "text": [
            "INFO:fbprophet:Disabling daily seasonality. Run prophet with daily_seasonality=True to override this.\n",
            "INFO:fbprophet:Disabling daily seasonality. Run prophet with daily_seasonality=True to override this.\n"
          ]
        },
        {
          "output_type": "stream",
          "name": "stdout",
          "text": [
            "6 - Ensemble with avg smape 2.71: \n",
            "Model Number: 7 of 161 with model Ensemble for Validation 3\n",
            "7 - Ensemble with avg smape 2.71: \n",
            "Model Number: 8 of 161 with model SectionalMotif for Validation 3\n"
          ]
        },
        {
          "output_type": "stream",
          "name": "stderr",
          "text": [
            "INFO:fbprophet:Disabling daily seasonality. Run prophet with daily_seasonality=True to override this.\n"
          ]
        },
        {
          "output_type": "stream",
          "name": "stdout",
          "text": [
            "8 - SectionalMotif with avg smape 2.82: \n",
            "Model Number: 9 of 161 with model Ensemble for Validation 3\n"
          ]
        },
        {
          "output_type": "stream",
          "name": "stderr",
          "text": [
            "INFO:fbprophet:Disabling daily seasonality. Run prophet with daily_seasonality=True to override this.\n"
          ]
        },
        {
          "output_type": "stream",
          "name": "stdout",
          "text": [
            "9 - Ensemble with avg smape 2.91: \n",
            "Model Number: 10 of 161 with model WindowRegression for Validation 3\n",
            "10 - WindowRegression with avg smape 2.92: \n",
            "Model Number: 11 of 161 with model WindowRegression for Validation 3\n",
            "11 - WindowRegression with avg smape 2.92: \n",
            "Model Number: 12 of 161 with model FBProphet for Validation 3\n"
          ]
        },
        {
          "output_type": "stream",
          "name": "stderr",
          "text": [
            "INFO:fbprophet:Disabling daily seasonality. Run prophet with daily_seasonality=True to override this.\n"
          ]
        },
        {
          "output_type": "stream",
          "name": "stdout",
          "text": [
            "12 - FBProphet with avg smape 2.97: \n",
            "Model Number: 13 of 161 with model SeasonalNaive for Validation 3\n",
            "13 - SeasonalNaive with avg smape 2.39: \n",
            "Model Number: 14 of 161 with model UnivariateMotif for Validation 3\n",
            "14 - UnivariateMotif with avg smape 2.59: \n",
            "Model Number: 15 of 161 with model NVAR for Validation 3\n",
            "15 - NVAR with avg smape 2.79: \n",
            "Model Number: 16 of 161 with model NVAR for Validation 3\n",
            "16 - NVAR with avg smape 2.79: \n",
            "Model Number: 17 of 161 with model NVAR for Validation 3\n",
            "17 - NVAR with avg smape 2.79: \n",
            "Model Number: 18 of 161 with model NVAR for Validation 3\n",
            "18 - NVAR with avg smape 2.79: \n",
            "Model Number: 19 of 161 with model FBProphet for Validation 3\n"
          ]
        },
        {
          "output_type": "stream",
          "name": "stderr",
          "text": [
            "INFO:fbprophet:Disabling daily seasonality. Run prophet with daily_seasonality=True to override this.\n",
            "INFO:fbprophet:Disabling daily seasonality. Run prophet with daily_seasonality=True to override this.\n"
          ]
        },
        {
          "output_type": "stream",
          "name": "stdout",
          "text": [
            "19 - FBProphet with avg smape 2.8: \n",
            "Model Number: 20 of 161 with model FBProphet for Validation 3\n",
            "20 - FBProphet with avg smape 2.8: \n",
            "Model Number: 21 of 161 with model UnivariateMotif for Validation 3\n",
            "21 - UnivariateMotif with avg smape 2.8: \n",
            "Model Number: 22 of 161 with model UnivariateMotif for Validation 3\n",
            "22 - UnivariateMotif with avg smape 2.4: \n",
            "Model Number: 23 of 161 with model GLS for Validation 3\n",
            "23 - GLS with avg smape 2.79: \n",
            "Model Number: 24 of 161 with model Ensemble for Validation 3\n"
          ]
        },
        {
          "output_type": "stream",
          "name": "stderr",
          "text": [
            "/usr/local/lib/python3.7/dist-packages/sklearn/linear_model/_glm/link.py:90: RuntimeWarning:\n",
            "\n",
            "overflow encountered in exp\n",
            "\n",
            "/usr/local/lib/python3.7/dist-packages/sklearn/linear_model/_glm/link.py:93: RuntimeWarning:\n",
            "\n",
            "overflow encountered in exp\n",
            "\n",
            "/usr/local/lib/python3.7/dist-packages/sklearn/_loss/glm_distribution.py:132: RuntimeWarning:\n",
            "\n",
            "invalid value encountered in true_divide\n",
            "\n",
            "INFO:fbprophet:Disabling daily seasonality. Run prophet with daily_seasonality=True to override this.\n"
          ]
        },
        {
          "output_type": "stream",
          "name": "stdout",
          "text": [
            "24 - Ensemble with avg smape 2.75: \n",
            "Model Number: 25 of 161 with model GLS for Validation 3\n",
            "25 - GLS with avg smape 2.78: \n",
            "Model Number: 26 of 161 with model ETS for Validation 3\n",
            "ETS error TypeError(\"__init__() got an unexpected keyword argument 'damped_trend'\")\n",
            "ETS failed on 0 with ValueError('endog must be strictly positive when using multiplicative trend or seasonal components.')\n",
            "26 - ETS with avg smape 2.79: \n",
            "Model Number: 27 of 161 with model GLS for Validation 3\n",
            "27 - GLS with avg smape 2.8: \n",
            "Model Number: 28 of 161 with model GLS for Validation 3\n",
            "28 - GLS with avg smape 2.8: \n",
            "Model Number: 29 of 161 with model GLS for Validation 3\n",
            "29 - GLS with avg smape 2.8: \n",
            "Model Number: 30 of 161 with model GLS for Validation 3\n",
            "30 - GLS with avg smape 2.8: \n",
            "Model Number: 31 of 161 with model GLS for Validation 3\n",
            "31 - GLS with avg smape 2.8: \n",
            "Model Number: 32 of 161 with model ETS for Validation 3\n",
            "ETS error TypeError(\"__init__() got an unexpected keyword argument 'damped_trend'\")\n",
            "ETS failed on First with ValueError('endog must be strictly positive when using multiplicative trend or seasonal components.')\n",
            "32 - ETS with avg smape 2.8: \n",
            "Model Number: 33 of 161 with model LastValueNaive for Validation 3\n",
            "33 - LastValueNaive with avg smape 2.8: \n",
            "Model Number: 34 of 161 with model AverageValueNaive for Validation 3\n",
            "34 - AverageValueNaive with avg smape 2.8: \n",
            "Model Number: 35 of 161 with model ETS for Validation 3\n",
            "ETS error TypeError(\"__init__() got an unexpected keyword argument 'damped_trend'\")\n",
            "ETS failed on First with ValueError('endog must be strictly positive when using multiplicative trend or seasonal components.')\n",
            "35 - ETS with avg smape 2.78: \n",
            "Model Number: 36 of 161 with model WindowRegression for Validation 3\n",
            "36 - WindowRegression with avg smape 10.24: \n",
            "Model Number: 37 of 161 with model ETS for Validation 3\n",
            "ETS error TypeError(\"__init__() got an unexpected keyword argument 'damped_trend'\")\n",
            "37 - ETS with avg smape 2.55: \n",
            "Model Number: 38 of 161 with model MultivariateMotif for Validation 3\n",
            "38 - MultivariateMotif with avg smape 2.77: \n",
            "Model Number: 39 of 161 with model ETS for Validation 3\n",
            "ETS error TypeError(\"__init__() got an unexpected keyword argument 'damped_trend'\")\n",
            "39 - ETS with avg smape 2.61: \n",
            "Model Number: 40 of 161 with model LastValueNaive for Validation 3\n",
            "40 - LastValueNaive with avg smape 10.19: \n",
            "Model Number: 41 of 161 with model NVAR for Validation 3\n",
            "41 - NVAR with avg smape 2.8: \n",
            "Model Number: 42 of 161 with model NVAR for Validation 3\n"
          ]
        },
        {
          "output_type": "stream",
          "name": "stderr",
          "text": [
            "/usr/local/lib/python3.7/dist-packages/sklearn/linear_model/_glm/link.py:90: RuntimeWarning:\n",
            "\n",
            "overflow encountered in exp\n",
            "\n",
            "/usr/local/lib/python3.7/dist-packages/sklearn/linear_model/_glm/link.py:93: RuntimeWarning:\n",
            "\n",
            "overflow encountered in exp\n",
            "\n",
            "/usr/local/lib/python3.7/dist-packages/sklearn/_loss/glm_distribution.py:132: RuntimeWarning:\n",
            "\n",
            "invalid value encountered in true_divide\n",
            "\n",
            "/usr/local/lib/python3.7/dist-packages/sklearn/_loss/glm_distribution.py:323: RuntimeWarning:\n",
            "\n",
            "invalid value encountered in add\n",
            "\n",
            "/usr/local/lib/python3.7/dist-packages/sklearn/linear_model/_glm/glm.py:323: ConvergenceWarning:\n",
            "\n",
            "lbfgs failed to converge (status=2):\n",
            "ABNORMAL_TERMINATION_IN_LNSRCH.\n",
            "\n",
            "Increase the number of iterations (max_iter) or scale the data as shown in:\n",
            "    https://scikit-learn.org/stable/modules/preprocessing.html\n",
            "\n"
          ]
        },
        {
          "output_type": "stream",
          "name": "stdout",
          "text": [
            "42 - NVAR with avg smape 2.79: \n",
            "Model Number: 43 of 161 with model MultivariateMotif for Validation 3\n",
            "43 - MultivariateMotif with avg smape 3.04: \n",
            "Model Number: 44 of 161 with model ETS for Validation 3\n",
            "ETS error TypeError(\"__init__() got an unexpected keyword argument 'damped_trend'\")\n",
            "44 - ETS with avg smape 2.8: \n",
            "Model Number: 45 of 161 with model ETS for Validation 3\n",
            "ETS error TypeError(\"__init__() got an unexpected keyword argument 'damped_trend'\")\n",
            "45 - ETS with avg smape 2.8: \n",
            "Model Number: 46 of 161 with model ETS for Validation 3\n",
            "ETS error TypeError(\"__init__() got an unexpected keyword argument 'damped_trend'\")\n",
            "46 - ETS with avg smape 2.78: \n",
            "Model Number: 47 of 161 with model ETS for Validation 3\n",
            "ETS error TypeError(\"__init__() got an unexpected keyword argument 'damped_trend'\")\n",
            "47 - ETS with avg smape 2.78: \n",
            "Model Number: 48 of 161 with model NVAR for Validation 3\n",
            "48 - NVAR with avg smape 2.78: \n",
            "Model Number: 49 of 161 with model NVAR for Validation 3\n",
            "49 - NVAR with avg smape 2.79: \n",
            "Model Number: 50 of 161 with model NVAR for Validation 3\n",
            "50 - NVAR with avg smape 2.79: \n",
            "Model Number: 51 of 161 with model ConstantNaive for Validation 3\n",
            "51 - ConstantNaive with avg smape 2.79: \n",
            "Model Number: 52 of 161 with model MultivariateRegression for Validation 3\n",
            "52 - MultivariateRegression with avg smape 2.94: \n",
            "Model Number: 53 of 161 with model ConstantNaive for Validation 3\n",
            "53 - ConstantNaive with avg smape 2.8: \n",
            "Model Number: 54 of 161 with model ConstantNaive for Validation 3\n",
            "54 - ConstantNaive with avg smape 2.8: \n",
            "Model Number: 55 of 161 with model ConstantNaive for Validation 3\n",
            "55 - ConstantNaive with avg smape 2.8: \n",
            "Model Number: 56 of 161 with model MultivariateMotif for Validation 3\n",
            "56 - MultivariateMotif with avg smape 2.8: \n",
            "Model Number: 57 of 161 with model UnivariateMotif for Validation 3\n",
            "57 - UnivariateMotif with avg smape 6.81: \n",
            "Model Number: 58 of 161 with model UnivariateMotif for Validation 3\n",
            "58 - UnivariateMotif with avg smape 15.55: \n",
            "Model Number: 59 of 161 with model UnivariateMotif for Validation 3\n",
            "59 - UnivariateMotif with avg smape 15.97: \n"
          ]
        },
        {
          "output_type": "stream",
          "name": "stderr",
          "text": [
            "/usr/local/lib/python3.7/dist-packages/sklearn/linear_model/_glm/link.py:90: RuntimeWarning:\n",
            "\n",
            "overflow encountered in exp\n",
            "\n",
            "/usr/local/lib/python3.7/dist-packages/sklearn/linear_model/_glm/link.py:93: RuntimeWarning:\n",
            "\n",
            "overflow encountered in exp\n",
            "\n",
            "/usr/local/lib/python3.7/dist-packages/sklearn/_loss/glm_distribution.py:132: RuntimeWarning:\n",
            "\n",
            "invalid value encountered in true_divide\n",
            "\n"
          ]
        },
        {
          "output_type": "stream",
          "name": "stdout",
          "text": [
            "Model Number: 60 of 161 with model MultivariateMotif for Validation 3\n",
            "60 - MultivariateMotif with avg smape 8.21: \n",
            "Model Number: 61 of 161 with model FBProphet for Validation 3\n"
          ]
        },
        {
          "output_type": "stream",
          "name": "stderr",
          "text": [
            "/usr/local/lib/python3.7/dist-packages/scipy/signal/signaltools.py:1456: RuntimeWarning:\n",
            "\n",
            "divide by zero encountered in true_divide\n",
            "\n",
            "/usr/local/lib/python3.7/dist-packages/scipy/signal/signaltools.py:1456: RuntimeWarning:\n",
            "\n",
            "invalid value encountered in multiply\n",
            "\n",
            "INFO:fbprophet:Disabling daily seasonality. Run prophet with daily_seasonality=True to override this.\n"
          ]
        },
        {
          "output_type": "stream",
          "name": "stdout",
          "text": [
            "61 - FBProphet with avg smape 7.29: \n",
            "Model Number: 62 of 161 with model LastValueNaive for Validation 3\n",
            "62 - LastValueNaive with avg smape 9.79: \n",
            "Model Number: 63 of 161 with model SectionalMotif for Validation 3\n",
            "63 - SectionalMotif with avg smape 8.21: \n",
            "Model Number: 64 of 161 with model SectionalMotif for Validation 3\n"
          ]
        },
        {
          "output_type": "stream",
          "name": "stderr",
          "text": [
            "/usr/local/lib/python3.7/dist-packages/sklearn/linear_model/_glm/link.py:90: RuntimeWarning:\n",
            "\n",
            "overflow encountered in exp\n",
            "\n",
            "/usr/local/lib/python3.7/dist-packages/sklearn/linear_model/_glm/link.py:93: RuntimeWarning:\n",
            "\n",
            "overflow encountered in exp\n",
            "\n",
            "/usr/local/lib/python3.7/dist-packages/sklearn/_loss/glm_distribution.py:132: RuntimeWarning:\n",
            "\n",
            "invalid value encountered in true_divide\n",
            "\n",
            "/usr/local/lib/python3.7/dist-packages/sklearn/linear_model/_glm/link.py:90: RuntimeWarning:\n",
            "\n",
            "overflow encountered in exp\n",
            "\n",
            "/usr/local/lib/python3.7/dist-packages/sklearn/linear_model/_glm/link.py:93: RuntimeWarning:\n",
            "\n",
            "overflow encountered in exp\n",
            "\n",
            "/usr/local/lib/python3.7/dist-packages/sklearn/_loss/glm_distribution.py:132: RuntimeWarning:\n",
            "\n",
            "invalid value encountered in true_divide\n",
            "\n",
            "/usr/local/lib/python3.7/dist-packages/sklearn/_loss/glm_distribution.py:323: RuntimeWarning:\n",
            "\n",
            "invalid value encountered in add\n",
            "\n",
            "/usr/local/lib/python3.7/dist-packages/sklearn/linear_model/_glm/glm.py:323: ConvergenceWarning:\n",
            "\n",
            "lbfgs failed to converge (status=2):\n",
            "ABNORMAL_TERMINATION_IN_LNSRCH.\n",
            "\n",
            "Increase the number of iterations (max_iter) or scale the data as shown in:\n",
            "    https://scikit-learn.org/stable/modules/preprocessing.html\n",
            "\n"
          ]
        },
        {
          "output_type": "stream",
          "name": "stdout",
          "text": [
            "64 - SectionalMotif with avg smape 2.83: \n",
            "Model Number: 65 of 161 with model UnivariateMotif for Validation 3\n",
            "65 - UnivariateMotif with avg smape 2.55: \n",
            "Model Number: 66 of 161 with model UnivariateMotif for Validation 3\n",
            "66 - UnivariateMotif with avg smape 2.63: \n",
            "Model Number: 67 of 161 with model MultivariateRegression for Validation 3\n"
          ]
        },
        {
          "output_type": "stream",
          "name": "stderr",
          "text": [
            "[Parallel(n_jobs=-2)]: Using backend SequentialBackend with 1 concurrent workers.\n",
            "[Parallel(n_jobs=-2)]: Done 300 out of 300 | elapsed:    6.3s finished\n",
            "[Parallel(n_jobs=1)]: Using backend SequentialBackend with 1 concurrent workers.\n",
            "[Parallel(n_jobs=1)]: Done 300 out of 300 | elapsed:    0.0s finished\n",
            "[Parallel(n_jobs=1)]: Using backend SequentialBackend with 1 concurrent workers.\n",
            "[Parallel(n_jobs=1)]: Done 300 out of 300 | elapsed:    0.0s finished\n",
            "[Parallel(n_jobs=1)]: Using backend SequentialBackend with 1 concurrent workers.\n",
            "[Parallel(n_jobs=1)]: Done 300 out of 300 | elapsed:    0.0s finished\n",
            "[Parallel(n_jobs=1)]: Using backend SequentialBackend with 1 concurrent workers.\n",
            "[Parallel(n_jobs=1)]: Done 300 out of 300 | elapsed:    0.0s finished\n",
            "[Parallel(n_jobs=1)]: Using backend SequentialBackend with 1 concurrent workers.\n",
            "[Parallel(n_jobs=1)]: Done 300 out of 300 | elapsed:    0.0s finished\n"
          ]
        },
        {
          "output_type": "stream",
          "name": "stdout",
          "text": [
            "67 - MultivariateRegression with avg smape 2.78: \n",
            "Model Number: 68 of 161 with model LastValueNaive for Validation 3\n",
            "68 - LastValueNaive with avg smape 10.78: \n",
            "Model Number: 69 of 161 with model LastValueNaive for Validation 3\n",
            "69 - LastValueNaive with avg smape 10.8: \n",
            "Model Number: 70 of 161 with model MultivariateRegression for Validation 3\n"
          ]
        },
        {
          "output_type": "stream",
          "name": "stderr",
          "text": [
            "/usr/local/lib/python3.7/dist-packages/sklearn/linear_model/_glm/link.py:90: RuntimeWarning:\n",
            "\n",
            "overflow encountered in exp\n",
            "\n",
            "/usr/local/lib/python3.7/dist-packages/sklearn/linear_model/_glm/link.py:93: RuntimeWarning:\n",
            "\n",
            "overflow encountered in exp\n",
            "\n",
            "/usr/local/lib/python3.7/dist-packages/sklearn/_loss/glm_distribution.py:132: RuntimeWarning:\n",
            "\n",
            "invalid value encountered in true_divide\n",
            "\n",
            "/usr/local/lib/python3.7/dist-packages/sklearn/_loss/glm_distribution.py:132: RuntimeWarning:\n",
            "\n",
            "divide by zero encountered in true_divide\n",
            "\n",
            "/usr/local/lib/python3.7/dist-packages/sklearn/linear_model/_glm/glm.py:42: RuntimeWarning:\n",
            "\n",
            "invalid value encountered in multiply\n",
            "\n",
            "/usr/local/lib/python3.7/dist-packages/sklearn/_loss/glm_distribution.py:323: RuntimeWarning:\n",
            "\n",
            "divide by zero encountered in true_divide\n",
            "\n",
            "[Parallel(n_jobs=-2)]: Using backend SequentialBackend with 1 concurrent workers.\n",
            "[Parallel(n_jobs=-2)]: Done 300 out of 300 | elapsed:    6.5s finished\n",
            "[Parallel(n_jobs=1)]: Using backend SequentialBackend with 1 concurrent workers.\n",
            "[Parallel(n_jobs=1)]: Done 300 out of 300 | elapsed:    0.0s finished\n",
            "[Parallel(n_jobs=1)]: Using backend SequentialBackend with 1 concurrent workers.\n",
            "[Parallel(n_jobs=1)]: Done 300 out of 300 | elapsed:    0.0s finished\n",
            "[Parallel(n_jobs=1)]: Using backend SequentialBackend with 1 concurrent workers.\n",
            "[Parallel(n_jobs=1)]: Done 300 out of 300 | elapsed:    0.0s finished\n",
            "[Parallel(n_jobs=1)]: Using backend SequentialBackend with 1 concurrent workers.\n",
            "[Parallel(n_jobs=1)]: Done 300 out of 300 | elapsed:    0.0s finished\n",
            "[Parallel(n_jobs=1)]: Using backend SequentialBackend with 1 concurrent workers.\n",
            "[Parallel(n_jobs=1)]: Done 300 out of 300 | elapsed:    0.0s finished\n"
          ]
        },
        {
          "output_type": "stream",
          "name": "stdout",
          "text": [
            "70 - MultivariateRegression with avg smape 2.76: \n",
            "Model Number: 71 of 161 with model MultivariateMotif for Validation 3\n",
            "71 - MultivariateMotif with avg smape 2.73: \n",
            "Model Number: 72 of 161 with model MultivariateRegression for Validation 3\n"
          ]
        },
        {
          "output_type": "stream",
          "name": "stderr",
          "text": [
            "[Parallel(n_jobs=-2)]: Using backend SequentialBackend with 1 concurrent workers.\n",
            "[Parallel(n_jobs=-2)]: Done 300 out of 300 | elapsed:    6.6s finished\n",
            "[Parallel(n_jobs=1)]: Using backend SequentialBackend with 1 concurrent workers.\n",
            "[Parallel(n_jobs=1)]: Done 300 out of 300 | elapsed:    0.0s finished\n",
            "[Parallel(n_jobs=1)]: Using backend SequentialBackend with 1 concurrent workers.\n",
            "[Parallel(n_jobs=1)]: Done 300 out of 300 | elapsed:    0.0s finished\n",
            "[Parallel(n_jobs=1)]: Using backend SequentialBackend with 1 concurrent workers.\n",
            "[Parallel(n_jobs=1)]: Done 300 out of 300 | elapsed:    0.0s finished\n",
            "[Parallel(n_jobs=1)]: Using backend SequentialBackend with 1 concurrent workers.\n",
            "[Parallel(n_jobs=1)]: Done 300 out of 300 | elapsed:    0.0s finished\n",
            "[Parallel(n_jobs=1)]: Using backend SequentialBackend with 1 concurrent workers.\n",
            "[Parallel(n_jobs=1)]: Done 300 out of 300 | elapsed:    0.0s finished\n",
            "INFO:fbprophet:Disabling daily seasonality. Run prophet with daily_seasonality=True to override this.\n"
          ]
        },
        {
          "output_type": "stream",
          "name": "stdout",
          "text": [
            "72 - MultivariateRegression with avg smape 6.7: \n",
            "Model Number: 73 of 161 with model FBProphet for Validation 3\n",
            "73 - FBProphet with avg smape 3.0: \n",
            "Model Number: 74 of 161 with model MultivariateMotif for Validation 3\n",
            "74 - MultivariateMotif with avg smape 8.11: \n",
            "Model Number: 75 of 161 with model MultivariateRegression for Validation 3\n",
            "75 - MultivariateRegression with avg smape 2.75: \n",
            "Model Number: 76 of 161 with model MultivariateRegression for Validation 3\n"
          ]
        },
        {
          "output_type": "stream",
          "name": "stderr",
          "text": [
            "/usr/local/lib/python3.7/dist-packages/sklearn/_loss/glm_distribution.py:132: RuntimeWarning:\n",
            "\n",
            "divide by zero encountered in true_divide\n",
            "\n",
            "/usr/local/lib/python3.7/dist-packages/sklearn/linear_model/_glm/glm.py:42: RuntimeWarning:\n",
            "\n",
            "invalid value encountered in multiply\n",
            "\n",
            "/usr/local/lib/python3.7/dist-packages/sklearn/_loss/glm_distribution.py:331: RuntimeWarning:\n",
            "\n",
            "divide by zero encountered in power\n",
            "\n",
            "INFO:fbprophet:Disabling daily seasonality. Run prophet with daily_seasonality=True to override this.\n"
          ]
        },
        {
          "output_type": "stream",
          "name": "stdout",
          "text": [
            "76 - MultivariateRegression with avg smape 2.76: \n",
            "Model Number: 77 of 161 with model FBProphet for Validation 3\n",
            "77 - FBProphet with avg smape 2.78: \n",
            "Model Number: 78 of 161 with model MultivariateMotif for Validation 3\n",
            "78 - MultivariateMotif with avg smape 7.32: \n",
            "Model Number: 79 of 161 with model GLS for Validation 3\n",
            "79 - GLS with avg smape 6.68: \n",
            "Model Number: 80 of 161 with model FBProphet for Validation 3\n"
          ]
        },
        {
          "output_type": "stream",
          "name": "stderr",
          "text": [
            "INFO:fbprophet:Disabling daily seasonality. Run prophet with daily_seasonality=True to override this.\n",
            "INFO:fbprophet:Disabling daily seasonality. Run prophet with daily_seasonality=True to override this.\n"
          ]
        },
        {
          "output_type": "stream",
          "name": "stdout",
          "text": [
            "80 - FBProphet with avg smape 2.85: \n",
            "Model Number: 81 of 161 with model FBProphet for Validation 3\n",
            "81 - FBProphet with avg smape 6.92: \n",
            "Model Number: 82 of 161 with model LastValueNaive for Validation 3\n",
            "82 - LastValueNaive with avg smape 2.8: \n",
            "Model Number: 83 of 161 with model WindowRegression for Validation 3\n",
            "83 - WindowRegression with avg smape 6.73: \n",
            "Model Number: 84 of 161 with model WindowRegression for Validation 3\n",
            "84 - WindowRegression with avg smape 6.68: \n",
            "Model Number: 85 of 161 with model SectionalMotif for Validation 3\n"
          ]
        },
        {
          "output_type": "stream",
          "name": "stderr",
          "text": [
            "/usr/local/lib/python3.7/dist-packages/sklearn/neural_network/_multilayer_perceptron.py:549: ConvergenceWarning:\n",
            "\n",
            "lbfgs failed to converge (status=1):\n",
            "STOP: TOTAL NO. of ITERATIONS REACHED LIMIT.\n",
            "\n",
            "Increase the number of iterations (max_iter) or scale the data as shown in:\n",
            "    https://scikit-learn.org/stable/modules/preprocessing.html\n",
            "\n",
            "/usr/local/lib/python3.7/dist-packages/sklearn/linear_model/_glm/link.py:90: RuntimeWarning:\n",
            "\n",
            "overflow encountered in exp\n",
            "\n",
            "/usr/local/lib/python3.7/dist-packages/sklearn/linear_model/_glm/link.py:93: RuntimeWarning:\n",
            "\n",
            "overflow encountered in exp\n",
            "\n",
            "/usr/local/lib/python3.7/dist-packages/sklearn/_loss/glm_distribution.py:132: RuntimeWarning:\n",
            "\n",
            "invalid value encountered in true_divide\n",
            "\n",
            "/usr/local/lib/python3.7/dist-packages/sklearn/_loss/glm_distribution.py:323: RuntimeWarning:\n",
            "\n",
            "invalid value encountered in add\n",
            "\n",
            "/usr/local/lib/python3.7/dist-packages/sklearn/linear_model/_glm/glm.py:323: ConvergenceWarning:\n",
            "\n",
            "lbfgs failed to converge (status=2):\n",
            "ABNORMAL_TERMINATION_IN_LNSRCH.\n",
            "\n",
            "Increase the number of iterations (max_iter) or scale the data as shown in:\n",
            "    https://scikit-learn.org/stable/modules/preprocessing.html\n",
            "\n",
            "/usr/local/lib/python3.7/dist-packages/sklearn/linear_model/_glm/link.py:90: RuntimeWarning:\n",
            "\n",
            "overflow encountered in exp\n",
            "\n",
            "/usr/local/lib/python3.7/dist-packages/sklearn/linear_model/_glm/link.py:93: RuntimeWarning:\n",
            "\n",
            "overflow encountered in exp\n",
            "\n",
            "/usr/local/lib/python3.7/dist-packages/sklearn/_loss/glm_distribution.py:132: RuntimeWarning:\n",
            "\n",
            "invalid value encountered in true_divide\n",
            "\n"
          ]
        },
        {
          "output_type": "stream",
          "name": "stdout",
          "text": [
            "85 - SectionalMotif with avg smape 7.26: \n",
            "Model Number: 86 of 161 with model WindowRegression for Validation 3\n"
          ]
        },
        {
          "output_type": "stream",
          "name": "stderr",
          "text": [
            "/usr/local/lib/python3.7/dist-packages/sklearn/svm/_base.py:1208: ConvergenceWarning:\n",
            "\n",
            "Liblinear failed to converge, increase the number of iterations.\n",
            "\n",
            "/usr/local/lib/python3.7/dist-packages/sklearn/svm/_base.py:1208: ConvergenceWarning:\n",
            "\n",
            "Liblinear failed to converge, increase the number of iterations.\n",
            "\n",
            "/usr/local/lib/python3.7/dist-packages/sklearn/svm/_base.py:1208: ConvergenceWarning:\n",
            "\n",
            "Liblinear failed to converge, increase the number of iterations.\n",
            "\n"
          ]
        },
        {
          "output_type": "stream",
          "name": "stdout",
          "text": [
            "86 - WindowRegression with avg smape 8.21: \n",
            "Model Number: 87 of 161 with model GLS for Validation 3\n"
          ]
        },
        {
          "output_type": "stream",
          "name": "stderr",
          "text": [
            "/usr/local/lib/python3.7/dist-packages/sklearn/svm/_base.py:1208: ConvergenceWarning:\n",
            "\n",
            "Liblinear failed to converge, increase the number of iterations.\n",
            "\n",
            "/usr/local/lib/python3.7/dist-packages/sklearn/svm/_base.py:1208: ConvergenceWarning:\n",
            "\n",
            "Liblinear failed to converge, increase the number of iterations.\n",
            "\n"
          ]
        },
        {
          "output_type": "stream",
          "name": "stdout",
          "text": [
            "87 - GLS with avg smape 3.59: \n",
            "Model Number: 88 of 161 with model WindowRegression for Validation 3\n"
          ]
        },
        {
          "output_type": "stream",
          "name": "stderr",
          "text": [
            "/usr/local/lib/python3.7/dist-packages/sklearn/neural_network/_multilayer_perceptron.py:549: ConvergenceWarning:\n",
            "\n",
            "lbfgs failed to converge (status=1):\n",
            "STOP: TOTAL NO. of ITERATIONS REACHED LIMIT.\n",
            "\n",
            "Increase the number of iterations (max_iter) or scale the data as shown in:\n",
            "    https://scikit-learn.org/stable/modules/preprocessing.html\n",
            "\n"
          ]
        },
        {
          "output_type": "stream",
          "name": "stdout",
          "text": [
            "88 - WindowRegression with avg smape 2.83: \n",
            "Model Number: 89 of 161 with model WindowRegression for Validation 3\n",
            "Epoch 1/50\n",
            "90/90 [==============================] - 3s 11ms/step - loss: 5.2932 - val_loss: 10.1942\n",
            "Epoch 2/50\n",
            "90/90 [==============================] - 1s 9ms/step - loss: 5.1449 - val_loss: 10.1070\n",
            "Epoch 3/50\n",
            "90/90 [==============================] - 1s 8ms/step - loss: 5.0357 - val_loss: 10.0636\n",
            "Epoch 4/50\n",
            "90/90 [==============================] - 1s 9ms/step - loss: 4.9648 - val_loss: 10.0378\n",
            "Epoch 5/50\n",
            "90/90 [==============================] - 1s 9ms/step - loss: 4.9095 - val_loss: 10.0167\n",
            "Epoch 6/50\n",
            "90/90 [==============================] - 1s 8ms/step - loss: 4.8826 - val_loss: 9.9986\n",
            "Epoch 7/50\n",
            "90/90 [==============================] - 1s 8ms/step - loss: 4.8257 - val_loss: 9.9882\n",
            "Epoch 8/50\n",
            "90/90 [==============================] - 1s 9ms/step - loss: 4.8199 - val_loss: 9.9764\n",
            "Epoch 9/50\n",
            "90/90 [==============================] - 1s 8ms/step - loss: 4.8008 - val_loss: 9.9678\n",
            "Epoch 10/50\n",
            "90/90 [==============================] - 1s 8ms/step - loss: 4.7610 - val_loss: 9.9592\n",
            "Epoch 11/50\n",
            "90/90 [==============================] - 1s 8ms/step - loss: 4.7633 - val_loss: 9.9544\n",
            "Epoch 12/50\n",
            "90/90 [==============================] - 1s 9ms/step - loss: 4.7352 - val_loss: 9.9471\n",
            "Epoch 13/50\n",
            "90/90 [==============================] - 1s 9ms/step - loss: 4.7286 - val_loss: 9.9383\n",
            "Epoch 14/50\n",
            "90/90 [==============================] - 1s 9ms/step - loss: 4.7050 - val_loss: 9.9321\n",
            "Epoch 15/50\n",
            "90/90 [==============================] - 1s 8ms/step - loss: 4.6995 - val_loss: 9.9288\n",
            "Epoch 16/50\n",
            "90/90 [==============================] - 1s 9ms/step - loss: 4.6765 - val_loss: 9.9262\n",
            "Epoch 17/50\n",
            "90/90 [==============================] - 1s 9ms/step - loss: 4.6662 - val_loss: 9.9252\n",
            "Epoch 18/50\n",
            "90/90 [==============================] - 1s 9ms/step - loss: 4.6535 - val_loss: 9.9252\n",
            "Epoch 19/50\n",
            "90/90 [==============================] - 1s 9ms/step - loss: 4.6586 - val_loss: 9.9286\n",
            "Epoch 20/50\n",
            "90/90 [==============================] - 1s 8ms/step - loss: 4.6621 - val_loss: 9.9282\n",
            "Epoch 21/50\n",
            "90/90 [==============================] - 1s 8ms/step - loss: 4.6590 - val_loss: 9.9281\n",
            "Epoch 22/50\n",
            "90/90 [==============================] - 1s 8ms/step - loss: 4.6447 - val_loss: 9.9292\n",
            "Epoch 23/50\n",
            "90/90 [==============================] - 1s 8ms/step - loss: 4.6305 - val_loss: 9.9270\n",
            "Epoch 24/50\n",
            "90/90 [==============================] - 1s 8ms/step - loss: 4.6356 - val_loss: 9.9263\n",
            "Epoch 25/50\n",
            "90/90 [==============================] - 1s 9ms/step - loss: 4.6367 - val_loss: 9.9276\n",
            "Epoch 26/50\n",
            "90/90 [==============================] - 1s 9ms/step - loss: 4.6130 - val_loss: 9.9263\n",
            "Epoch 27/50\n",
            "90/90 [==============================] - 1s 8ms/step - loss: 4.6325 - val_loss: 9.9257\n",
            "Epoch 28/50\n",
            "90/90 [==============================] - 1s 8ms/step - loss: 4.6583 - val_loss: 9.9255\n",
            "89 - WindowRegression with avg smape 2.83: \n",
            "Model Number: 90 of 161 with model UnivariateMotif for Validation 3\n",
            "90 - UnivariateMotif with avg smape 6.7: \n",
            "Model Number: 91 of 161 with model AverageValueNaive for Validation 3\n",
            "91 - AverageValueNaive with avg smape 2.95: \n",
            "Model Number: 92 of 161 with model MultivariateRegression for Validation 3\n"
          ]
        },
        {
          "output_type": "stream",
          "name": "stderr",
          "text": [
            "/usr/local/lib/python3.7/dist-packages/sklearn/_loss/glm_distribution.py:132: RuntimeWarning:\n",
            "\n",
            "divide by zero encountered in true_divide\n",
            "\n",
            "/usr/local/lib/python3.7/dist-packages/sklearn/linear_model/_glm/glm.py:42: RuntimeWarning:\n",
            "\n",
            "invalid value encountered in multiply\n",
            "\n",
            "/usr/local/lib/python3.7/dist-packages/sklearn/_loss/glm_distribution.py:331: RuntimeWarning:\n",
            "\n",
            "divide by zero encountered in power\n",
            "\n"
          ]
        },
        {
          "output_type": "stream",
          "name": "stdout",
          "text": [
            "Epoch 1/50\n",
            "57/57 [==============================] - 4s 3ms/step - loss: 0.1571\n",
            "Epoch 2/50\n",
            "57/57 [==============================] - 0s 4ms/step - loss: 0.0724\n",
            "Epoch 3/50\n",
            "57/57 [==============================] - 0s 4ms/step - loss: 0.0579\n",
            "Epoch 4/50\n",
            "57/57 [==============================] - 0s 4ms/step - loss: 0.0405\n",
            "Epoch 5/50\n",
            "57/57 [==============================] - 0s 4ms/step - loss: 0.0532\n",
            "Epoch 6/50\n",
            "57/57 [==============================] - 0s 4ms/step - loss: 0.0352\n",
            "Epoch 7/50\n",
            "57/57 [==============================] - 0s 4ms/step - loss: 0.0352\n",
            "Epoch 8/50\n",
            "57/57 [==============================] - 0s 4ms/step - loss: 0.0305\n",
            "Epoch 9/50\n",
            "57/57 [==============================] - 0s 4ms/step - loss: 0.0412\n",
            "Epoch 10/50\n",
            "57/57 [==============================] - 0s 4ms/step - loss: 0.0286\n",
            "Epoch 11/50\n",
            "57/57 [==============================] - 0s 4ms/step - loss: 0.0227\n",
            "Epoch 12/50\n",
            "57/57 [==============================] - 0s 4ms/step - loss: 0.0286\n",
            "Epoch 13/50\n",
            "57/57 [==============================] - 0s 4ms/step - loss: 0.0308\n",
            "Epoch 14/50\n",
            "57/57 [==============================] - 0s 4ms/step - loss: 0.0179\n",
            "Epoch 15/50\n",
            "57/57 [==============================] - 0s 4ms/step - loss: 0.0210\n",
            "Epoch 16/50\n",
            "57/57 [==============================] - 0s 4ms/step - loss: 0.0149\n",
            "Epoch 17/50\n",
            "57/57 [==============================] - 0s 4ms/step - loss: 0.0189\n",
            "Epoch 18/50\n",
            "57/57 [==============================] - 0s 4ms/step - loss: 0.0149\n",
            "Epoch 19/50\n",
            "57/57 [==============================] - 0s 4ms/step - loss: 0.0217\n",
            "Epoch 20/50\n",
            "57/57 [==============================] - 0s 4ms/step - loss: 0.0133\n",
            "Epoch 21/50\n",
            "57/57 [==============================] - 0s 4ms/step - loss: 0.0113\n",
            "Epoch 22/50\n",
            "57/57 [==============================] - 0s 4ms/step - loss: 0.0138\n",
            "Epoch 23/50\n",
            "57/57 [==============================] - 0s 5ms/step - loss: 0.0122\n",
            "Epoch 24/50\n",
            "57/57 [==============================] - 0s 4ms/step - loss: 0.0101\n",
            "Epoch 25/50\n",
            "57/57 [==============================] - 0s 4ms/step - loss: 0.0111\n",
            "Epoch 26/50\n",
            "57/57 [==============================] - 0s 4ms/step - loss: 0.0132\n",
            "Epoch 27/50\n",
            "57/57 [==============================] - 0s 4ms/step - loss: 0.0118\n",
            "Epoch 28/50\n",
            "57/57 [==============================] - 0s 4ms/step - loss: 0.0111\n",
            "Epoch 29/50\n",
            "57/57 [==============================] - 0s 3ms/step - loss: 0.0099\n",
            "Epoch 30/50\n",
            "57/57 [==============================] - 0s 4ms/step - loss: 0.0085\n",
            "Epoch 31/50\n",
            "57/57 [==============================] - 0s 4ms/step - loss: 0.0126\n",
            "Epoch 32/50\n",
            "57/57 [==============================] - 0s 4ms/step - loss: 0.0101\n",
            "Epoch 33/50\n",
            "57/57 [==============================] - 0s 4ms/step - loss: 0.0105\n",
            "Epoch 34/50\n",
            "57/57 [==============================] - 0s 4ms/step - loss: 0.0101\n",
            "Epoch 35/50\n",
            "57/57 [==============================] - 0s 4ms/step - loss: 0.0092\n",
            "Epoch 36/50\n",
            "57/57 [==============================] - 0s 3ms/step - loss: 0.0120\n",
            "Epoch 37/50\n",
            "57/57 [==============================] - 0s 4ms/step - loss: 0.0097\n",
            "Epoch 38/50\n",
            "57/57 [==============================] - 0s 4ms/step - loss: 0.0109\n",
            "Epoch 39/50\n",
            "57/57 [==============================] - 0s 4ms/step - loss: 0.0089\n",
            "Epoch 40/50\n",
            "57/57 [==============================] - 0s 4ms/step - loss: 0.0093\n",
            "Epoch 41/50\n",
            "57/57 [==============================] - 0s 4ms/step - loss: 0.0085\n",
            "Epoch 42/50\n",
            "57/57 [==============================] - 0s 4ms/step - loss: 0.0096\n",
            "Epoch 43/50\n",
            "57/57 [==============================] - 0s 4ms/step - loss: 0.0096\n",
            "Epoch 44/50\n",
            "57/57 [==============================] - 0s 4ms/step - loss: 0.0101\n",
            "Epoch 45/50\n",
            "57/57 [==============================] - 0s 5ms/step - loss: 0.0219\n",
            "Epoch 46/50\n",
            "57/57 [==============================] - 0s 4ms/step - loss: 0.0091\n",
            "Epoch 47/50\n",
            "57/57 [==============================] - 0s 4ms/step - loss: 0.0093\n",
            "Epoch 48/50\n",
            "57/57 [==============================] - 0s 4ms/step - loss: 0.0090\n",
            "Epoch 49/50\n",
            "57/57 [==============================] - 0s 4ms/step - loss: 0.0088\n",
            "Epoch 50/50\n",
            "57/57 [==============================] - 0s 4ms/step - loss: 0.0088\n",
            "92 - MultivariateRegression with avg smape 5.53: \n",
            "Model Number: 93 of 161 with model MultivariateMotif for Validation 3\n",
            "93 - MultivariateMotif with avg smape 7.53: \n",
            "Model Number: 94 of 161 with model MultivariateRegression for Validation 3\n",
            "94 - MultivariateRegression with avg smape 3.4: \n",
            "Model Number: 95 of 161 with model LastValueNaive for Validation 3\n"
          ]
        },
        {
          "output_type": "stream",
          "name": "stderr",
          "text": [
            "/usr/local/lib/python3.7/dist-packages/sklearn/neural_network/_multilayer_perceptron.py:549: ConvergenceWarning:\n",
            "\n",
            "lbfgs failed to converge (status=1):\n",
            "STOP: TOTAL NO. of ITERATIONS REACHED LIMIT.\n",
            "\n",
            "Increase the number of iterations (max_iter) or scale the data as shown in:\n",
            "    https://scikit-learn.org/stable/modules/preprocessing.html\n",
            "\n"
          ]
        },
        {
          "output_type": "stream",
          "name": "stdout",
          "text": [
            "95 - LastValueNaive with avg smape 2.07: \n",
            "Model Number: 96 of 161 with model UnivariateRegression for Validation 3\n",
            "96 - UnivariateRegression with avg smape 4.29: \n",
            "Model Number: 97 of 161 with model MultivariateRegression for Validation 3\n"
          ]
        },
        {
          "output_type": "stream",
          "name": "stderr",
          "text": [
            "[Parallel(n_jobs=-2)]: Using backend SequentialBackend with 1 concurrent workers.\n",
            "[Parallel(n_jobs=-2)]: Done 300 out of 300 | elapsed:    2.4s finished\n",
            "[Parallel(n_jobs=1)]: Using backend SequentialBackend with 1 concurrent workers.\n",
            "[Parallel(n_jobs=1)]: Done 300 out of 300 | elapsed:    0.0s finished\n",
            "[Parallel(n_jobs=1)]: Using backend SequentialBackend with 1 concurrent workers.\n",
            "[Parallel(n_jobs=1)]: Done 300 out of 300 | elapsed:    0.4s finished\n",
            "[Parallel(n_jobs=1)]: Using backend SequentialBackend with 1 concurrent workers.\n",
            "[Parallel(n_jobs=1)]: Done 300 out of 300 | elapsed:    0.0s finished\n",
            "[Parallel(n_jobs=1)]: Using backend SequentialBackend with 1 concurrent workers.\n",
            "[Parallel(n_jobs=1)]: Done 300 out of 300 | elapsed:    0.0s finished\n",
            "[Parallel(n_jobs=1)]: Using backend SequentialBackend with 1 concurrent workers.\n"
          ]
        },
        {
          "output_type": "stream",
          "name": "stdout",
          "text": [
            "97 - MultivariateRegression with avg smape 2.8: \n",
            "Model Number: 98 of 161 with model AverageValueNaive for Validation 3\n",
            "98 - AverageValueNaive with avg smape 9.04: \n",
            "Model Number: 99 of 161 with model SectionalMotif for Validation 3\n"
          ]
        },
        {
          "output_type": "stream",
          "name": "stderr",
          "text": [
            "[Parallel(n_jobs=1)]: Done 300 out of 300 | elapsed:    0.0s finished\n"
          ]
        },
        {
          "output_type": "stream",
          "name": "stdout",
          "text": [
            "99 - SectionalMotif with avg smape 2.8: \n",
            "Model Number: 100 of 161 with model ConstantNaive for Validation 3\n",
            "100 - ConstantNaive with avg smape 2.78: \n",
            "Model Number: 101 of 161 with model ConstantNaive for Validation 3\n",
            "101 - ConstantNaive with avg smape 2.8: \n",
            "Model Number: 102 of 161 with model ConstantNaive for Validation 3\n",
            "102 - ConstantNaive with avg smape 8.21: \n",
            "Model Number: 103 of 161 with model LastValueNaive for Validation 3\n",
            "103 - LastValueNaive with avg smape 8.21: \n",
            "Model Number: 104 of 161 with model WindowRegression for Validation 3\n",
            "104 - WindowRegression with avg smape 8.21: \n",
            "Model Number: 105 of 161 with model MultivariateMotif for Validation 3\n",
            "105 - MultivariateMotif with avg smape 2.8: \n",
            "Model Number: 106 of 161 with model SectionalMotif for Validation 3\n",
            "106 - SectionalMotif with avg smape 7.44: \n",
            "Model Number: 107 of 161 with model LastValueNaive for Validation 3\n",
            "107 - LastValueNaive with avg smape 3.18: \n",
            "Model Number: 108 of 161 with model SectionalMotif for Validation 3\n",
            "108 - SectionalMotif with avg smape 2.94: \n",
            "Model Number: 109 of 161 with model ConstantNaive for Validation 3\n"
          ]
        },
        {
          "output_type": "stream",
          "name": "stderr",
          "text": [
            "/usr/local/lib/python3.7/dist-packages/sklearn/linear_model/_glm/link.py:90: RuntimeWarning:\n",
            "\n",
            "overflow encountered in exp\n",
            "\n",
            "/usr/local/lib/python3.7/dist-packages/sklearn/linear_model/_glm/link.py:93: RuntimeWarning:\n",
            "\n",
            "overflow encountered in exp\n",
            "\n",
            "/usr/local/lib/python3.7/dist-packages/sklearn/_loss/glm_distribution.py:132: RuntimeWarning:\n",
            "\n",
            "invalid value encountered in true_divide\n",
            "\n"
          ]
        },
        {
          "output_type": "stream",
          "name": "stdout",
          "text": [
            "109 - ConstantNaive with avg smape 9.95: \n",
            "Model Number: 110 of 161 with model ConstantNaive for Validation 3\n",
            "110 - ConstantNaive with avg smape 9.95: \n",
            "Model Number: 111 of 161 with model AverageValueNaive for Validation 3\n",
            "111 - AverageValueNaive with avg smape 6.73: \n",
            "Model Number: 112 of 161 with model AverageValueNaive for Validation 3\n",
            "112 - AverageValueNaive with avg smape 3.35: \n",
            "Model Number: 113 of 161 with model SectionalMotif for Validation 3\n",
            "113 - SectionalMotif with avg smape 3.32: \n",
            "Model Number: 114 of 161 with model SectionalMotif for Validation 3\n",
            "114 - SectionalMotif with avg smape 3.3: \n",
            "Model Number: 115 of 161 with model DatepartRegression for Validation 3\n",
            "115 - DatepartRegression with avg smape 3.3: \n",
            "Model Number: 116 of 161 with model UnivariateRegression for Validation 3\n"
          ]
        },
        {
          "output_type": "stream",
          "name": "stderr",
          "text": [
            "/usr/local/lib/python3.7/dist-packages/sklearn/linear_model/_coordinate_descent.py:648: ConvergenceWarning:\n",
            "\n",
            "Objective did not converge. You might want to increase the number of iterations, check the scale of the features or consider increasing regularisation. Duality gap: 0.000e+00, tolerance: 0.000e+00\n",
            "\n",
            "/usr/local/lib/python3.7/dist-packages/autots/tools/probabilistic.py:67: RuntimeWarning:\n",
            "\n",
            "invalid value encountered in true_divide\n",
            "\n",
            "/usr/local/lib/python3.7/dist-packages/autots/tools/probabilistic.py:68: RuntimeWarning:\n",
            "\n",
            "divide by zero encountered in true_divide\n",
            "\n"
          ]
        },
        {
          "output_type": "stream",
          "name": "stdout",
          "text": [
            "📈 116 - UnivariateRegression with avg smape 1.49: \n",
            "Model Number: 117 of 161 with model SeasonalNaive for Validation 3\n",
            "117 - SeasonalNaive with avg smape 14.77: \n",
            "Model Number: 118 of 161 with model UnobservedComponents for Validation 3\n",
            "118 - UnobservedComponents with avg smape 10.14: \n",
            "Model Number: 119 of 161 with model UnivariateRegression for Validation 3\n",
            "119 - UnivariateRegression with avg smape 2.37: \n",
            "Model Number: 120 of 161 with model AverageValueNaive for Validation 3\n",
            "120 - AverageValueNaive with avg smape 4.96: \n",
            "Model Number: 121 of 161 with model AverageValueNaive for Validation 3\n",
            "121 - AverageValueNaive with avg smape 6.82: \n"
          ]
        },
        {
          "output_type": "stream",
          "name": "stderr",
          "text": [
            "/usr/local/lib/python3.7/dist-packages/sklearn/linear_model/_glm/link.py:90: RuntimeWarning:\n",
            "\n",
            "overflow encountered in exp\n",
            "\n",
            "/usr/local/lib/python3.7/dist-packages/sklearn/linear_model/_glm/link.py:93: RuntimeWarning:\n",
            "\n",
            "overflow encountered in exp\n",
            "\n",
            "/usr/local/lib/python3.7/dist-packages/sklearn/_loss/glm_distribution.py:132: RuntimeWarning:\n",
            "\n",
            "invalid value encountered in true_divide\n",
            "\n",
            "/usr/local/lib/python3.7/dist-packages/sklearn/_loss/glm_distribution.py:323: RuntimeWarning:\n",
            "\n",
            "invalid value encountered in add\n",
            "\n",
            "/usr/local/lib/python3.7/dist-packages/sklearn/linear_model/_glm/glm.py:323: ConvergenceWarning:\n",
            "\n",
            "lbfgs failed to converge (status=2):\n",
            "ABNORMAL_TERMINATION_IN_LNSRCH.\n",
            "\n",
            "Increase the number of iterations (max_iter) or scale the data as shown in:\n",
            "    https://scikit-learn.org/stable/modules/preprocessing.html\n",
            "\n"
          ]
        },
        {
          "output_type": "stream",
          "name": "stdout",
          "text": [
            "Model Number: 122 of 161 with model UnobservedComponents for Validation 3\n",
            "122 - UnobservedComponents with avg smape 2.8: \n",
            "Model Number: 123 of 161 with model UnobservedComponents for Validation 3\n",
            "123 - UnobservedComponents with avg smape 2.53: \n",
            "Model Number: 124 of 161 with model AverageValueNaive for Validation 3\n",
            "124 - AverageValueNaive with avg smape 7.11: \n",
            "Model Number: 125 of 161 with model AverageValueNaive for Validation 3\n",
            "125 - AverageValueNaive with avg smape 3.09: \n",
            "Model Number: 126 of 161 with model GLM for Validation 3\n",
            "126 - GLM with avg smape 2.8: \n",
            "Model Number: 127 of 161 with model UnobservedComponents for Validation 3\n"
          ]
        },
        {
          "output_type": "stream",
          "name": "stderr",
          "text": [
            "/usr/local/lib/python3.7/dist-packages/statsmodels/genmod/generalized_linear_model.py:273: DomainWarning:\n",
            "\n",
            "The inverse_power link function does not respect the domain of the Gamma family.\n",
            "\n"
          ]
        },
        {
          "output_type": "stream",
          "name": "stdout",
          "text": [
            "127 - UnobservedComponents with avg smape 2.97: \n",
            "Model Number: 128 of 161 with model UnobservedComponents for Validation 3\n",
            "128 - UnobservedComponents with avg smape 2.97: \n",
            "Model Number: 129 of 161 with model SeasonalNaive for Validation 3\n",
            "129 - SeasonalNaive with avg smape 2.8: \n",
            "Model Number: 130 of 161 with model UnivariateRegression for Validation 3\n",
            "130 - UnivariateRegression with avg smape 3.0: \n",
            "Model Number: 131 of 161 with model UnobservedComponents for Validation 3\n",
            "131 - UnobservedComponents with avg smape 5.13: \n",
            "Model Number: 132 of 161 with model UnivariateRegression for Validation 3\n",
            "132 - UnivariateRegression with avg smape 3.08: \n",
            "Model Number: 133 of 161 with model DatepartRegression for Validation 3\n"
          ]
        },
        {
          "output_type": "stream",
          "name": "stderr",
          "text": [
            "[Parallel(n_jobs=-2)]: Using backend SequentialBackend with 1 concurrent workers.\n"
          ]
        },
        {
          "output_type": "stream",
          "name": "stdout",
          "text": [
            "133 - DatepartRegression with avg smape 3.72: \n",
            "Model Number: 134 of 161 with model UnivariateRegression for Validation 3\n"
          ]
        },
        {
          "output_type": "stream",
          "name": "stderr",
          "text": [
            "[Parallel(n_jobs=-2)]: Done 100 out of 100 | elapsed:    0.7s finished\n",
            "[Parallel(n_jobs=1)]: Using backend SequentialBackend with 1 concurrent workers.\n",
            "[Parallel(n_jobs=1)]: Done 100 out of 100 | elapsed:    0.0s finished\n"
          ]
        },
        {
          "output_type": "stream",
          "name": "stdout",
          "text": [
            "134 - UnivariateRegression with avg smape 11.01: \n",
            "Model Number: 135 of 161 with model UnivariateRegression for Validation 3\n",
            "135 - UnivariateRegression with avg smape 6.7: \n",
            "Model Number: 136 of 161 with model SeasonalNaive for Validation 3\n",
            "136 - SeasonalNaive with avg smape 4.68: \n",
            "Model Number: 137 of 161 with model DatepartRegression for Validation 3\n"
          ]
        },
        {
          "output_type": "stream",
          "name": "stderr",
          "text": [
            "[Parallel(n_jobs=-2)]: Using backend SequentialBackend with 1 concurrent workers.\n"
          ]
        },
        {
          "output_type": "stream",
          "name": "stdout",
          "text": [
            "137 - DatepartRegression with avg smape 9.25: \n",
            "Model Number: 138 of 161 with model SeasonalNaive for Validation 3\n",
            "138 - SeasonalNaive with avg smape 4.99: \n",
            "Model Number: 139 of 161 with model UnivariateRegression for Validation 3\n"
          ]
        },
        {
          "output_type": "stream",
          "name": "stderr",
          "text": [
            "[Parallel(n_jobs=-2)]: Done 100 out of 100 | elapsed:    0.5s finished\n",
            "[Parallel(n_jobs=1)]: Using backend SequentialBackend with 1 concurrent workers.\n",
            "[Parallel(n_jobs=1)]: Done 100 out of 100 | elapsed:    0.0s finished\n",
            "/usr/local/lib/python3.7/dist-packages/autots/tools/probabilistic.py:67: RuntimeWarning:\n",
            "\n",
            "invalid value encountered in true_divide\n",
            "\n",
            "/usr/local/lib/python3.7/dist-packages/autots/tools/probabilistic.py:68: RuntimeWarning:\n",
            "\n",
            "divide by zero encountered in true_divide\n",
            "\n"
          ]
        },
        {
          "output_type": "stream",
          "name": "stdout",
          "text": [
            "139 - UnivariateRegression with avg smape 2.96: \n",
            "Model Number: 140 of 161 with model UnivariateRegression for Validation 3\n",
            "140 - UnivariateRegression with avg smape 2.96: \n",
            "Model Number: 141 of 161 with model SeasonalNaive for Validation 3\n",
            "141 - SeasonalNaive with avg smape 2.52: \n",
            "Model Number: 142 of 161 with model DatepartRegression for Validation 3"
          ]
        },
        {
          "output_type": "stream",
          "name": "stderr",
          "text": [
            "/usr/local/lib/python3.7/dist-packages/autots/tools/probabilistic.py:67: RuntimeWarning:\n",
            "\n",
            "invalid value encountered in true_divide\n",
            "\n",
            "/usr/local/lib/python3.7/dist-packages/autots/tools/probabilistic.py:68: RuntimeWarning:\n",
            "\n",
            "divide by zero encountered in true_divide\n",
            "\n"
          ]
        },
        {
          "output_type": "stream",
          "name": "stdout",
          "text": [
            "\n",
            "142 - DatepartRegression with avg smape 5.26: \n",
            "Model Number: 143 of 161 with model SeasonalNaive for Validation 3\n",
            "143 - SeasonalNaive with avg smape 2.01: \n",
            "Model Number: 144 of 161 with model SeasonalNaive for Validation 3\n",
            "144 - SeasonalNaive with avg smape 10.53: \n",
            "Model Number: 145 of 161 with model DatepartRegression for Validation 3\n"
          ]
        },
        {
          "output_type": "stream",
          "name": "stderr",
          "text": [
            "[Parallel(n_jobs=-2)]: Using backend SequentialBackend with 1 concurrent workers.\n",
            "[Parallel(n_jobs=-2)]: Done 300 out of 300 | elapsed:    0.6s finished\n",
            "[Parallel(n_jobs=1)]: Using backend SequentialBackend with 1 concurrent workers.\n",
            "[Parallel(n_jobs=1)]: Done 300 out of 300 | elapsed:    0.0s finished\n",
            "[Parallel(n_jobs=-2)]: Using backend SequentialBackend with 1 concurrent workers.\n"
          ]
        },
        {
          "output_type": "stream",
          "name": "stdout",
          "text": [
            "145 - DatepartRegression with avg smape 9.16: \n",
            "Model Number: 146 of 161 with model DatepartRegression for Validation 3\n",
            "146 - DatepartRegression with avg smape 9.56: \n",
            "Model Number: 147 of 161 with model SeasonalNaive for Validation 3\n"
          ]
        },
        {
          "output_type": "stream",
          "name": "stderr",
          "text": [
            "[Parallel(n_jobs=-2)]: Done 300 out of 300 | elapsed:    0.6s finished\n",
            "[Parallel(n_jobs=1)]: Using backend SequentialBackend with 1 concurrent workers.\n",
            "[Parallel(n_jobs=1)]: Done 300 out of 300 | elapsed:    0.0s finished\n"
          ]
        },
        {
          "output_type": "stream",
          "name": "stdout",
          "text": [
            "147 - SeasonalNaive with avg smape 3.39: \n",
            "Model Number: 148 of 161 with model DatepartRegression for Validation 3\n"
          ]
        },
        {
          "output_type": "stream",
          "name": "stderr",
          "text": [
            "[Parallel(n_jobs=-2)]: Using backend SequentialBackend with 1 concurrent workers.\n",
            "[Parallel(n_jobs=-2)]: Done 300 out of 300 | elapsed:    0.6s finished\n",
            "[Parallel(n_jobs=1)]: Using backend SequentialBackend with 1 concurrent workers.\n",
            "[Parallel(n_jobs=1)]: Done 300 out of 300 | elapsed:    0.0s finished\n"
          ]
        },
        {
          "output_type": "stream",
          "name": "stdout",
          "text": [
            "148 - DatepartRegression with avg smape 8.65: \n",
            "Model Number: 149 of 161 with model DatepartRegression for Validation 3\n"
          ]
        },
        {
          "output_type": "stream",
          "name": "stderr",
          "text": [
            "[Parallel(n_jobs=-2)]: Using backend SequentialBackend with 1 concurrent workers.\n"
          ]
        },
        {
          "output_type": "stream",
          "name": "stdout",
          "text": [
            "149 - DatepartRegression with avg smape 8.65: \n",
            "Model Number: 150 of 161 with model GLM for Validation 3\n"
          ]
        },
        {
          "output_type": "stream",
          "name": "stderr",
          "text": [
            "[Parallel(n_jobs=-2)]: Done 300 out of 300 | elapsed:    0.6s finished\n",
            "[Parallel(n_jobs=1)]: Using backend SequentialBackend with 1 concurrent workers.\n",
            "[Parallel(n_jobs=1)]: Done 300 out of 300 | elapsed:    0.0s finished\n"
          ]
        },
        {
          "output_type": "stream",
          "name": "stdout",
          "text": [
            "150 - GLM with avg smape 8.63: \n",
            "Model Number: 151 of 161 with model DatepartRegression for Validation 3\n"
          ]
        },
        {
          "output_type": "stream",
          "name": "stderr",
          "text": [
            "[Parallel(n_jobs=-2)]: Using backend SequentialBackend with 1 concurrent workers.\n",
            "[Parallel(n_jobs=-2)]: Done 100 out of 100 | elapsed:    0.5s finished\n",
            "[Parallel(n_jobs=1)]: Using backend SequentialBackend with 1 concurrent workers.\n",
            "[Parallel(n_jobs=1)]: Done 100 out of 100 | elapsed:    0.0s finished\n"
          ]
        },
        {
          "output_type": "stream",
          "name": "stdout",
          "text": [
            "151 - DatepartRegression with avg smape 8.23: \n",
            "Model Number: 152 of 161 with model UnobservedComponents for Validation 3\n",
            "152 - UnobservedComponents with avg smape 2.42: \n",
            "Model Number: 153 of 161 with model UnobservedComponents for Validation 3\n",
            "153 - UnobservedComponents with avg smape 16.84: \n",
            "Model Number: 154 of 161 with model UnobservedComponents for Validation 3\n",
            "📈 154 - UnobservedComponents with avg smape 1.08: \n",
            "Model Number: 155 of 161 with model GLM for Validation 3\n",
            "155 - GLM with avg smape 5.73: \n",
            "Model Number: 156 of 161 with model GLM for Validation 3\n",
            "156 - GLM with avg smape 31.42: \n",
            "Model Number: 157 of 161 with model GLM for Validation 3\n",
            "157 - GLM with avg smape 33.96: \n",
            "Model Number: 158 of 161 with model GLM for Validation 3\n",
            "158 - GLM with avg smape 42.63: \n",
            "Model Number: 159 of 161 with model GLM for Validation 3\n",
            "159 - GLM with avg smape 42.56: \n",
            "Model Number: 160 of 161 with model GLM for Validation 3\n",
            "160 - GLM with avg smape 42.76: \n",
            "Model Number: 161 of 161 with model GLM for Validation 3\n",
            "161 - GLM with avg smape 31.93: \n",
            "None             First\n",
            "2022-07-01  140.159859\n",
            "2022-07-02  137.455122\n",
            "2022-07-03  137.673998\n",
            "2022-07-04  140.271385\n",
            "2022-07-05  135.396547\n"
          ]
        }
      ]
    },
    {
      "cell_type": "code",
      "source": [
        ""
      ],
      "metadata": {
        "id": "-VViTwrKE_7d"
      },
      "execution_count": null,
      "outputs": []
    }
  ]
}