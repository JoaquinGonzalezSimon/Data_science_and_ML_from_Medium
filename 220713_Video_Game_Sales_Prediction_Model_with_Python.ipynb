{
  "nbformat": 4,
  "nbformat_minor": 0,
  "metadata": {
    "colab": {
      "name": "220713-Video_Game_Sales_Prediction_Model_with_Python.ipynb",
      "provenance": [],
      "collapsed_sections": [],
      "authorship_tag": "ABX9TyOxkpWbqF3zWIpttkyhaydY",
      "include_colab_link": true
    },
    "kernelspec": {
      "name": "python3",
      "display_name": "Python 3"
    },
    "language_info": {
      "name": "python"
    }
  },
  "cells": [
    {
      "cell_type": "markdown",
      "metadata": {
        "id": "view-in-github",
        "colab_type": "text"
      },
      "source": [
        "<a href=\"https://colab.research.google.com/github/JoaquinGonzalezSimon/Data_science_and_ML_from_Medium/blob/main/220713_Video_Game_Sales_Prediction_Model_with_Python.ipynb\" target=\"_parent\"><img src=\"https://colab.research.google.com/assets/colab-badge.svg\" alt=\"Open In Colab\"/></a>"
      ]
    },
    {
      "cell_type": "markdown",
      "source": [
        "### This project was taken from the following link and I use it to practice my skills\n",
        "\n",
        "https://thecleverprogrammer.com/2021/05/28/video-game-sales-prediction-model-with-python/\n",
        "\n",
        "https://medium.com/coders-camp/180-data-science-and-machine-learning-projects-with-python-6191bc7b9db9"
      ],
      "metadata": {
        "id": "80_d6-CR5PRQ"
      }
    },
    {
      "cell_type": "code",
      "execution_count": 1,
      "metadata": {
        "colab": {
          "base_uri": "https://localhost:8080/"
        },
        "id": "TCv5WoCm5NKJ",
        "outputId": "c0d183aa-ac08-4b30-e6bc-9be3fc28d69d"
      },
      "outputs": [
        {
          "output_type": "stream",
          "name": "stdout",
          "text": [
            "Mounted at /content/drive\n"
          ]
        }
      ],
      "source": [
        "from google.colab import drive\n",
        "drive.mount('/content/drive')"
      ]
    },
    {
      "cell_type": "code",
      "source": [
        "import pandas as pd\n",
        "import numpy as np\n",
        "%matplotlib inline\n",
        "import matplotlib.pyplot as plt\n",
        "import seaborn as sns"
      ],
      "metadata": {
        "id": "rXumb3Cl6Dhv"
      },
      "execution_count": 44,
      "outputs": []
    },
    {
      "cell_type": "code",
      "source": [
        "data = pd.read_csv('/content/drive/MyDrive/Ironhack/DBs/vgsales.csv')"
      ],
      "metadata": {
        "id": "zbf2z6jq6gSF"
      },
      "execution_count": 3,
      "outputs": []
    },
    {
      "cell_type": "code",
      "source": [
        "data.info()"
      ],
      "metadata": {
        "colab": {
          "base_uri": "https://localhost:8080/"
        },
        "id": "tpDRr6cM6mnR",
        "outputId": "07433374-9971-44d7-b7e6-34dab98d427e"
      },
      "execution_count": 4,
      "outputs": [
        {
          "output_type": "stream",
          "name": "stdout",
          "text": [
            "<class 'pandas.core.frame.DataFrame'>\n",
            "RangeIndex: 16598 entries, 0 to 16597\n",
            "Data columns (total 11 columns):\n",
            " #   Column        Non-Null Count  Dtype  \n",
            "---  ------        --------------  -----  \n",
            " 0   Rank          16598 non-null  int64  \n",
            " 1   Name          16598 non-null  object \n",
            " 2   Platform      16598 non-null  object \n",
            " 3   Year          16327 non-null  float64\n",
            " 4   Genre         16598 non-null  object \n",
            " 5   Publisher     16540 non-null  object \n",
            " 6   NA_Sales      16598 non-null  float64\n",
            " 7   EU_Sales      16598 non-null  float64\n",
            " 8   JP_Sales      16598 non-null  float64\n",
            " 9   Other_Sales   16598 non-null  float64\n",
            " 10  Global_Sales  16598 non-null  float64\n",
            "dtypes: float64(6), int64(1), object(4)\n",
            "memory usage: 1.4+ MB\n"
          ]
        }
      ]
    },
    {
      "cell_type": "code",
      "source": [
        "data.head()"
      ],
      "metadata": {
        "colab": {
          "base_uri": "https://localhost:8080/",
          "height": 206
        },
        "id": "fsy93f5S6oc0",
        "outputId": "49d1567e-b3fd-493b-f830-0ed599898a44"
      },
      "execution_count": 5,
      "outputs": [
        {
          "output_type": "execute_result",
          "data": {
            "text/plain": [
              "   Rank                      Name Platform    Year         Genre Publisher  \\\n",
              "0     1                Wii Sports      Wii  2006.0        Sports  Nintendo   \n",
              "1     2         Super Mario Bros.      NES  1985.0      Platform  Nintendo   \n",
              "2     3            Mario Kart Wii      Wii  2008.0        Racing  Nintendo   \n",
              "3     4         Wii Sports Resort      Wii  2009.0        Sports  Nintendo   \n",
              "4     5  Pokemon Red/Pokemon Blue       GB  1996.0  Role-Playing  Nintendo   \n",
              "\n",
              "   NA_Sales  EU_Sales  JP_Sales  Other_Sales  Global_Sales  \n",
              "0     41.49     29.02      3.77         8.46         82.74  \n",
              "1     29.08      3.58      6.81         0.77         40.24  \n",
              "2     15.85     12.88      3.79         3.31         35.82  \n",
              "3     15.75     11.01      3.28         2.96         33.00  \n",
              "4     11.27      8.89     10.22         1.00         31.37  "
            ],
            "text/html": [
              "\n",
              "  <div id=\"df-72a902a5-7209-4b14-bb6d-b40715f608e9\">\n",
              "    <div class=\"colab-df-container\">\n",
              "      <div>\n",
              "<style scoped>\n",
              "    .dataframe tbody tr th:only-of-type {\n",
              "        vertical-align: middle;\n",
              "    }\n",
              "\n",
              "    .dataframe tbody tr th {\n",
              "        vertical-align: top;\n",
              "    }\n",
              "\n",
              "    .dataframe thead th {\n",
              "        text-align: right;\n",
              "    }\n",
              "</style>\n",
              "<table border=\"1\" class=\"dataframe\">\n",
              "  <thead>\n",
              "    <tr style=\"text-align: right;\">\n",
              "      <th></th>\n",
              "      <th>Rank</th>\n",
              "      <th>Name</th>\n",
              "      <th>Platform</th>\n",
              "      <th>Year</th>\n",
              "      <th>Genre</th>\n",
              "      <th>Publisher</th>\n",
              "      <th>NA_Sales</th>\n",
              "      <th>EU_Sales</th>\n",
              "      <th>JP_Sales</th>\n",
              "      <th>Other_Sales</th>\n",
              "      <th>Global_Sales</th>\n",
              "    </tr>\n",
              "  </thead>\n",
              "  <tbody>\n",
              "    <tr>\n",
              "      <th>0</th>\n",
              "      <td>1</td>\n",
              "      <td>Wii Sports</td>\n",
              "      <td>Wii</td>\n",
              "      <td>2006.0</td>\n",
              "      <td>Sports</td>\n",
              "      <td>Nintendo</td>\n",
              "      <td>41.49</td>\n",
              "      <td>29.02</td>\n",
              "      <td>3.77</td>\n",
              "      <td>8.46</td>\n",
              "      <td>82.74</td>\n",
              "    </tr>\n",
              "    <tr>\n",
              "      <th>1</th>\n",
              "      <td>2</td>\n",
              "      <td>Super Mario Bros.</td>\n",
              "      <td>NES</td>\n",
              "      <td>1985.0</td>\n",
              "      <td>Platform</td>\n",
              "      <td>Nintendo</td>\n",
              "      <td>29.08</td>\n",
              "      <td>3.58</td>\n",
              "      <td>6.81</td>\n",
              "      <td>0.77</td>\n",
              "      <td>40.24</td>\n",
              "    </tr>\n",
              "    <tr>\n",
              "      <th>2</th>\n",
              "      <td>3</td>\n",
              "      <td>Mario Kart Wii</td>\n",
              "      <td>Wii</td>\n",
              "      <td>2008.0</td>\n",
              "      <td>Racing</td>\n",
              "      <td>Nintendo</td>\n",
              "      <td>15.85</td>\n",
              "      <td>12.88</td>\n",
              "      <td>3.79</td>\n",
              "      <td>3.31</td>\n",
              "      <td>35.82</td>\n",
              "    </tr>\n",
              "    <tr>\n",
              "      <th>3</th>\n",
              "      <td>4</td>\n",
              "      <td>Wii Sports Resort</td>\n",
              "      <td>Wii</td>\n",
              "      <td>2009.0</td>\n",
              "      <td>Sports</td>\n",
              "      <td>Nintendo</td>\n",
              "      <td>15.75</td>\n",
              "      <td>11.01</td>\n",
              "      <td>3.28</td>\n",
              "      <td>2.96</td>\n",
              "      <td>33.00</td>\n",
              "    </tr>\n",
              "    <tr>\n",
              "      <th>4</th>\n",
              "      <td>5</td>\n",
              "      <td>Pokemon Red/Pokemon Blue</td>\n",
              "      <td>GB</td>\n",
              "      <td>1996.0</td>\n",
              "      <td>Role-Playing</td>\n",
              "      <td>Nintendo</td>\n",
              "      <td>11.27</td>\n",
              "      <td>8.89</td>\n",
              "      <td>10.22</td>\n",
              "      <td>1.00</td>\n",
              "      <td>31.37</td>\n",
              "    </tr>\n",
              "  </tbody>\n",
              "</table>\n",
              "</div>\n",
              "      <button class=\"colab-df-convert\" onclick=\"convertToInteractive('df-72a902a5-7209-4b14-bb6d-b40715f608e9')\"\n",
              "              title=\"Convert this dataframe to an interactive table.\"\n",
              "              style=\"display:none;\">\n",
              "        \n",
              "  <svg xmlns=\"http://www.w3.org/2000/svg\" height=\"24px\"viewBox=\"0 0 24 24\"\n",
              "       width=\"24px\">\n",
              "    <path d=\"M0 0h24v24H0V0z\" fill=\"none\"/>\n",
              "    <path d=\"M18.56 5.44l.94 2.06.94-2.06 2.06-.94-2.06-.94-.94-2.06-.94 2.06-2.06.94zm-11 1L8.5 8.5l.94-2.06 2.06-.94-2.06-.94L8.5 2.5l-.94 2.06-2.06.94zm10 10l.94 2.06.94-2.06 2.06-.94-2.06-.94-.94-2.06-.94 2.06-2.06.94z\"/><path d=\"M17.41 7.96l-1.37-1.37c-.4-.4-.92-.59-1.43-.59-.52 0-1.04.2-1.43.59L10.3 9.45l-7.72 7.72c-.78.78-.78 2.05 0 2.83L4 21.41c.39.39.9.59 1.41.59.51 0 1.02-.2 1.41-.59l7.78-7.78 2.81-2.81c.8-.78.8-2.07 0-2.86zM5.41 20L4 18.59l7.72-7.72 1.47 1.35L5.41 20z\"/>\n",
              "  </svg>\n",
              "      </button>\n",
              "      \n",
              "  <style>\n",
              "    .colab-df-container {\n",
              "      display:flex;\n",
              "      flex-wrap:wrap;\n",
              "      gap: 12px;\n",
              "    }\n",
              "\n",
              "    .colab-df-convert {\n",
              "      background-color: #E8F0FE;\n",
              "      border: none;\n",
              "      border-radius: 50%;\n",
              "      cursor: pointer;\n",
              "      display: none;\n",
              "      fill: #1967D2;\n",
              "      height: 32px;\n",
              "      padding: 0 0 0 0;\n",
              "      width: 32px;\n",
              "    }\n",
              "\n",
              "    .colab-df-convert:hover {\n",
              "      background-color: #E2EBFA;\n",
              "      box-shadow: 0px 1px 2px rgba(60, 64, 67, 0.3), 0px 1px 3px 1px rgba(60, 64, 67, 0.15);\n",
              "      fill: #174EA6;\n",
              "    }\n",
              "\n",
              "    [theme=dark] .colab-df-convert {\n",
              "      background-color: #3B4455;\n",
              "      fill: #D2E3FC;\n",
              "    }\n",
              "\n",
              "    [theme=dark] .colab-df-convert:hover {\n",
              "      background-color: #434B5C;\n",
              "      box-shadow: 0px 1px 3px 1px rgba(0, 0, 0, 0.15);\n",
              "      filter: drop-shadow(0px 1px 2px rgba(0, 0, 0, 0.3));\n",
              "      fill: #FFFFFF;\n",
              "    }\n",
              "  </style>\n",
              "\n",
              "      <script>\n",
              "        const buttonEl =\n",
              "          document.querySelector('#df-72a902a5-7209-4b14-bb6d-b40715f608e9 button.colab-df-convert');\n",
              "        buttonEl.style.display =\n",
              "          google.colab.kernel.accessAllowed ? 'block' : 'none';\n",
              "\n",
              "        async function convertToInteractive(key) {\n",
              "          const element = document.querySelector('#df-72a902a5-7209-4b14-bb6d-b40715f608e9');\n",
              "          const dataTable =\n",
              "            await google.colab.kernel.invokeFunction('convertToInteractive',\n",
              "                                                     [key], {});\n",
              "          if (!dataTable) return;\n",
              "\n",
              "          const docLinkHtml = 'Like what you see? Visit the ' +\n",
              "            '<a target=\"_blank\" href=https://colab.research.google.com/notebooks/data_table.ipynb>data table notebook</a>'\n",
              "            + ' to learn more about interactive tables.';\n",
              "          element.innerHTML = '';\n",
              "          dataTable['output_type'] = 'display_data';\n",
              "          await google.colab.output.renderOutput(dataTable, element);\n",
              "          const docLink = document.createElement('div');\n",
              "          docLink.innerHTML = docLinkHtml;\n",
              "          element.appendChild(docLink);\n",
              "        }\n",
              "      </script>\n",
              "    </div>\n",
              "  </div>\n",
              "  "
            ]
          },
          "metadata": {},
          "execution_count": 5
        }
      ]
    },
    {
      "cell_type": "code",
      "source": [
        "data.Platform.sort_values().unique()"
      ],
      "metadata": {
        "colab": {
          "base_uri": "https://localhost:8080/"
        },
        "id": "T-22eIn86seF",
        "outputId": "1d1973ea-16e0-47e7-c48d-e58ef0a98ee1"
      },
      "execution_count": 10,
      "outputs": [
        {
          "output_type": "execute_result",
          "data": {
            "text/plain": [
              "array(['2600', '3DO', '3DS', 'DC', 'DS', 'GB', 'GBA', 'GC', 'GEN', 'GG',\n",
              "       'N64', 'NES', 'NG', 'PC', 'PCFX', 'PS', 'PS2', 'PS3', 'PS4', 'PSP',\n",
              "       'PSV', 'SAT', 'SCD', 'SNES', 'TG16', 'WS', 'Wii', 'WiiU', 'X360',\n",
              "       'XB', 'XOne'], dtype=object)"
            ]
          },
          "metadata": {},
          "execution_count": 10
        }
      ]
    },
    {
      "cell_type": "code",
      "source": [
        "data.Publisher.sort_values().unique()"
      ],
      "metadata": {
        "colab": {
          "base_uri": "https://localhost:8080/"
        },
        "id": "RpaJ3l0Z63Tr",
        "outputId": "9a63e4fa-5ff3-4a34-f2a7-e4bba6f4bc79"
      },
      "execution_count": 8,
      "outputs": [
        {
          "output_type": "execute_result",
          "data": {
            "text/plain": [
              "array(['10TACLE Studios', '1C Company', '20th Century Fox Video Games',\n",
              "       '2D Boy', '3DO', '49Games', '505 Games', '5pb', '7G//AMES',\n",
              "       '989 Sports', '989 Studios', 'AQ Interactive', 'ASC Games',\n",
              "       'ASCII Entertainment', 'ASCII Media Works', 'ASK', 'Abylight',\n",
              "       'Acclaim Entertainment', 'Accolade', 'Ackkstudios', 'Acquire',\n",
              "       'Activision', 'Activision Blizzard', 'Activision Value',\n",
              "       'Adeline Software', 'Aerosoft', 'Agatsuma Entertainment', 'Agetec',\n",
              "       'Aksys Games', 'Alawar Entertainment', 'Alchemist',\n",
              "       'Alternative Software', 'Altron', 'Alvion', 'American Softworks',\n",
              "       'Angel Studios', 'Answer Software', 'Aqua Plus', 'Aques',\n",
              "       'Arc System Works', 'Arena Entertainment', 'Aria', 'Arika',\n",
              "       'ArtDink', 'Aruze Corp', 'Ascaron Entertainment',\n",
              "       'Ascaron Entertainment GmbH', 'Asgard', 'Asmik Ace Entertainment',\n",
              "       'Asmik Corp', 'Aspyr', 'Astragon', 'Asylum Entertainment', 'Atari',\n",
              "       'Athena', 'Atlus', 'Avalon Interactive', 'Avanquest',\n",
              "       'Avanquest Software', 'Axela', 'BAM! Entertainment',\n",
              "       'BMG Interactive Entertainment', 'BPS', 'Banpresto', 'Benesse',\n",
              "       'Berkeley', 'Bethesda Softworks', 'Big Ben Interactive',\n",
              "       'Big Fish Games', 'Bigben Interactive', 'Black Bean Games',\n",
              "       'Black Label Games', 'Blast! Entertainment Ltd', 'Blue Byte',\n",
              "       'Bohemia Interactive', 'Bomb', 'Boost On', 'Brash Entertainment',\n",
              "       'Broccoli', 'BushiRoad', 'CBS Electronics', 'CCP',\n",
              "       'CDV Software Entertainment', 'CPG Products', 'CTO SpA', 'Capcom',\n",
              "       'Cave', 'ChunSoft', 'City Interactive',\n",
              "       'Cloud Imperium Games Corporation', 'Coconuts Japan',\n",
              "       'Codemasters', 'Codemasters Online', 'CokeM Interactive', 'Coleco',\n",
              "       'Comfort', 'Commseed', 'Compile', 'Compile Heart',\n",
              "       'Conspiracy Entertainment', 'Core Design Ltd.',\n",
              "       'Crave Entertainment', 'Creative Core', 'Crimson Cow',\n",
              "       'Crystal Dynamics', 'Culture Brain', 'Culture Publishers',\n",
              "       'CyberFront', 'Cygames', 'D3Publisher', 'DHM Interactive',\n",
              "       'DSI Games', 'DTP Entertainment', 'Daedalic',\n",
              "       'Daedalic Entertainment', 'Daito', 'Data Age',\n",
              "       'Data Design Interactive', 'Data East', 'Datam Polystar',\n",
              "       'Deep Silver', 'Destination Software, Inc', 'Destineer',\n",
              "       'Detn8 Games', 'Devolver Digital', 'DigiCube',\n",
              "       'Disney Interactive Studios', 'Dorart', 'DreamCatcher Interactive',\n",
              "       'DreamWorks Interactive', 'Dusenberry Martin Racing', 'EA Games',\n",
              "       'EON Digital Entertainment', 'ESP', 'Easy Interactive', 'Ecole',\n",
              "       'Edia', 'Eidos Interactive', 'Electronic Arts',\n",
              "       'Electronic Arts Victor', 'Elf', 'Elite', 'Empire Interactive',\n",
              "       'Encore', 'Enix Corporation', 'Enjoy Gaming ltd.', 'Enterbrain',\n",
              "       'Epic Games', 'Epoch', 'Ertain', 'Essential Games',\n",
              "       'Evolution Games', 'Evolved Games', 'Excalibur Publishing',\n",
              "       'Experience Inc.', 'Extreme Entertainment Group',\n",
              "       'Falcom Corporation', 'Fields', 'Flashpoint Games', 'Flight-Plan',\n",
              "       'Focus Home Interactive', 'Focus Multimedia',\n",
              "       'Foreign Media Games', 'Fortyfive', 'Fox Interactive',\n",
              "       'From Software', 'FuRyu', 'FuRyu Corporation', 'Fuji', 'FunSoft',\n",
              "       'Funbox Media', 'Funcom', 'Funsta', 'G.Rev', 'GN Software', 'GOA',\n",
              "       'GSP', 'GT Interactive', 'Gaga', 'Gainax Network Systems',\n",
              "       'Gakken', 'Game Arts', 'Game Factory', 'Game Life',\n",
              "       'GameMill Entertainment', 'GameTek', 'Gamebridge', 'Gamecock',\n",
              "       'Gameloft', 'Gathering of Developers', 'General Entertainment',\n",
              "       'Genki', 'Genterprise', 'Ghostlight', 'Giga', 'Giza10', 'Glams',\n",
              "       'Global A Entertainment', 'Global Star', 'Gotham Games',\n",
              "       'Graffiti', 'Grand Prix Games', 'Graphsim Entertainment',\n",
              "       'Gremlin Interactive Ltd', 'Griffin International', 'Groove Games',\n",
              "       'GungHo', 'Gust', 'HAL Laboratory', 'HMH Interactive', 'Hackberry',\n",
              "       'Hamster Corporation', 'Happinet', 'Harmonix Music Systems',\n",
              "       'Hasbro Interactive', 'Havas Interactive', 'Headup Games',\n",
              "       'Hearty Robin', 'Hect', 'Hello Games', 'Her Interactive',\n",
              "       'Hip Interactive', 'Home Entertainment Suppliers',\n",
              "       'Hudson Entertainment', 'Hudson Soft', 'Human Entertainment',\n",
              "       'HuneX', 'IE Institute', 'ITT Family Games', 'Iceberg Interactive',\n",
              "       'Idea Factory', 'Idea Factory International',\n",
              "       'Ignition Entertainment', 'Illusion Softworks', 'Imadio',\n",
              "       'Image Epoch', 'Imageworks', 'Imagic', 'Imagineer', 'Imax',\n",
              "       'Indie Games', 'Infogrames', 'Insomniac Games', 'Interchannel',\n",
              "       'Interchannel-Holon', 'Intergrow', 'Interplay',\n",
              "       'Interplay Productions', 'Interworks Unlimited, Inc.',\n",
              "       'Inti Creates', 'Introversion Software',\n",
              "       'Irem Software Engineering', 'Ivolgamus', 'JVC',\n",
              "       'Jack of All Games', 'Jaleco', 'Jester Interactive',\n",
              "       'JoWood Productions', 'Jorudan', 'Just Flight', 'KID', 'KSS',\n",
              "       'Kadokawa Games', 'Kadokawa Shoten', 'Kaga Create',\n",
              "       'Kalypso Media', 'Kamui', 'Kando Games', 'Karin Entertainment',\n",
              "       'Kemco', 'Kids Station', 'King Records', 'Knowledge Adventure',\n",
              "       'Koch Media', 'Kokopeli Digital Studios',\n",
              "       'Konami Digital Entertainment', 'Kool Kizz', 'LEGO Media',\n",
              "       'LSP Games', 'Laguna', 'Legacy Interactive', 'Level 5',\n",
              "       'Lexicon Entertainment', 'Licensed 4U', 'Lighthouse Interactive',\n",
              "       'Liquid Games', 'Little Orbit', 'Locus', 'LucasArts',\n",
              "       'MC2 Entertainment', 'MLB.com', 'MTO', 'MTV Games', 'Mad Catz',\n",
              "       'Magical Company', 'Magix', 'Majesco Entertainment', 'Mamba Games',\n",
              "       'Marvel Entertainment', 'Marvelous Entertainment',\n",
              "       'Marvelous Games', 'Marvelous Interactive', 'Masque Publishing',\n",
              "       'Mastertronic', 'Mastiff', 'Mattel Interactive', 'Max Five',\n",
              "       'Maximum Family Games', 'Maxis', 'Media Entertainment',\n",
              "       'Media Factory', 'Media Rings', 'Media Works', 'MediaQuest',\n",
              "       'Men-A-Vision', 'Mentor Interactive', 'Mercury Games',\n",
              "       'Merscom LLC', 'Metro 3D', 'Michaelsoft', 'Micro Cabin',\n",
              "       'Microids', 'Microprose', 'Microsoft Game Studios',\n",
              "       'Midas Interactive Entertainment', 'Midway Games', 'Milestone',\n",
              "       'Milestone S.r.l', 'Milestone S.r.l.', 'Minato Station',\n",
              "       'Mindscape', 'Mirai Shounen', 'Misawa', 'Mitsui', 'Mojang',\n",
              "       'Monte Christo Multimedia', 'Moss', 'Mud Duck Productions',\n",
              "       'Mumbo Jumbo', 'Mycom', 'Myelin Media', 'Mystique', 'NCS',\n",
              "       'NCSoft', 'NDA Productions', 'NEC', 'NEC Interchannel',\n",
              "       'Namco Bandai Games', 'Natsume', 'Navarre Corp', 'Naxat Soft',\n",
              "       'Neko Entertainment', 'NetRevo', 'New', 'New World Computing',\n",
              "       'NewKidCo', 'Nexon', 'Nichibutsu', 'Nihon Falcom Corporation',\n",
              "       'Nintendo', 'Nippon Amuse', 'Nippon Columbia',\n",
              "       'Nippon Ichi Software', 'Nippon Telenet', 'Nitroplus', 'Nobilis',\n",
              "       'Nordcurrent', 'Nordic Games', 'NovaLogic', 'Number None',\n",
              "       'O-Games', 'O3 Entertainment', 'Ocean', 'Office Create',\n",
              "       'On Demand', 'Ongakukan', 'Origin Systems', 'Otomate',\n",
              "       'Oxygen Interactive', 'P2 Games', 'PM Studios', 'PQube',\n",
              "       'Pacific Century Cyber Works', 'Pack In Soft', 'Pack-In-Video',\n",
              "       'Palcom', 'Panther Software', 'Paon', 'Paon Corporation',\n",
              "       'Paradox Development', 'Paradox Interactive', 'Parker Bros.',\n",
              "       'Performance Designed Products', 'Phantagram', 'Phantom EFX',\n",
              "       'Phenomedia', 'Phoenix Games', 'Piacci', 'Pinnacle', 'Pioneer LDC',\n",
              "       'Play It', 'PlayV', 'Playlogic Game Factory', 'Playmates',\n",
              "       'Playmore', 'Plenty', 'Pony Canyon', 'PopCap Games',\n",
              "       'PopTop Software', 'Popcorn Arcade', 'Pow', 'Princess Soft',\n",
              "       'Prototype', 'Psygnosis', 'Quelle', 'Quest', 'Quinrose', 'Quintet',\n",
              "       'RED Entertainment', 'RTL', 'Rage Software', 'Rain Games',\n",
              "       'Rebellion', 'Rebellion Developments', 'Red Orb',\n",
              "       'Red Storm Entertainment', 'RedOctane', 'Reef Entertainment',\n",
              "       'Revolution (Japan)', 'Revolution Software', 'Rising Star Games',\n",
              "       'Riverhillsoft', 'Rocket Company', 'Rondomedia', 'Russel',\n",
              "       'SCS Software', 'SCi', 'SNK', 'SNK Playmore', 'SPS', 'SSI',\n",
              "       'Sammy Corporation', 'Saurus', 'Scholastic Inc.', 'Screenlife',\n",
              "       'Sears', 'Sega', 'Seta Corporation', 'Seventh Chord', 'Shogakukan',\n",
              "       'Simon & Schuster Interactive', 'Slightly Mad Studios',\n",
              "       'Slitherine Software', 'Societa', 'Sold Out', 'Sonnet',\n",
              "       'Sony Computer Entertainment',\n",
              "       'Sony Computer Entertainment America',\n",
              "       'Sony Computer Entertainment Europe', 'Sony Music Entertainment',\n",
              "       'Sony Online Entertainment', 'SouthPeak Games', 'Spike', 'Square',\n",
              "       'Square EA', 'Square Enix', 'SquareSoft', 'Stainless Games',\n",
              "       'Starfish', 'Starpath Corp.', 'Sting', 'Storm City Games',\n",
              "       'Strategy First', 'Success', 'Summitsoft', 'Sunflowers',\n",
              "       'Sunrise Interactive', 'Sunsoft', 'Sweets', 'Swing! Entertainment',\n",
              "       'Syscom', 'System 3', 'System 3 Arcade Software', 'System Soft',\n",
              "       'T&E Soft', 'TDK Core', 'TDK Mediactive', 'TGL', 'THQ', 'TOHO',\n",
              "       'TYO', 'Taito', 'Takara', 'Takara Tomy', 'Take-Two Interactive',\n",
              "       'Takuyo', 'TalonSoft', 'Team17 Software', 'TechnoSoft',\n",
              "       'Technos Japan Corporation', 'Tecmo Koei', 'Telegames',\n",
              "       'Telltale Games', 'Telstar', 'Tetris Online',\n",
              "       'The Adventure Company', 'The Learning Company', 'Tigervision',\n",
              "       'Time Warner Interactive', 'Titus', 'Tivola', 'Tommo',\n",
              "       'Tomy Corporation', 'TopWare Interactive', 'Touchstone',\n",
              "       'Tradewest', 'Trion Worlds', 'Tripwire Interactive',\n",
              "       'Tru Blu Entertainment', 'Tryfirst', 'Type-Moon', 'U.S. Gold',\n",
              "       'UEP Systems', 'UFO Interactive', 'UIG Entertainment', 'Ubisoft',\n",
              "       'Ubisoft Annecy', 'Ultravision', 'Universal Gamex',\n",
              "       'Universal Interactive', 'Unknown', 'Valcon Games', 'ValuSoft',\n",
              "       'Valve', 'Valve Software', 'Vap', 'Vatical Entertainment',\n",
              "       'Vic Tokai', 'Victor Interactive', 'Video System', 'Views',\n",
              "       'Vir2L Studios', 'Virgin Interactive', 'Virtual Play Games',\n",
              "       'Visco', 'Vivendi Games', 'Wanadoo', 'Warashi', 'Wargaming.net',\n",
              "       'Warner Bros. Interactive Entertainment', 'Warp',\n",
              "       'WayForward Technologies', 'Westwood Studios',\n",
              "       'White Park Bay Software', 'Wizard Video Games', 'XS Games',\n",
              "       'Xicat Interactive', 'Xing Entertainment', 'Xplosiv',\n",
              "       'Xseed Games', 'Yacht Club Games', 'Yamasa Entertainment', 'Yeti',\n",
              "       \"Yuke's\", 'Yumedia', 'Zenrin', 'Zoo Digital Publishing',\n",
              "       'Zoo Games', 'Zushi Games', 'bitComposer Games', 'dramatic create',\n",
              "       'fonfun', 'iWin', 'id Software', 'imageepoch Inc.',\n",
              "       'inXile Entertainment', 'mixi, Inc', 'responDESIGN', nan],\n",
              "      dtype=object)"
            ]
          },
          "metadata": {},
          "execution_count": 8
        }
      ]
    },
    {
      "cell_type": "code",
      "source": [
        "data.Genre.sort_values().unique()"
      ],
      "metadata": {
        "colab": {
          "base_uri": "https://localhost:8080/"
        },
        "id": "nQ8TpTzb7Aaz",
        "outputId": "bebb6764-51f6-46b5-e1ca-d1418dea2440"
      },
      "execution_count": 11,
      "outputs": [
        {
          "output_type": "execute_result",
          "data": {
            "text/plain": [
              "array(['Action', 'Adventure', 'Fighting', 'Misc', 'Platform', 'Puzzle',\n",
              "       'Racing', 'Role-Playing', 'Shooter', 'Simulation', 'Sports',\n",
              "       'Strategy'], dtype=object)"
            ]
          },
          "metadata": {},
          "execution_count": 11
        }
      ]
    },
    {
      "cell_type": "code",
      "source": [
        "data.Year.sort_values().unique()"
      ],
      "metadata": {
        "colab": {
          "base_uri": "https://localhost:8080/"
        },
        "id": "uDYQCHdN7dGS",
        "outputId": "f216a4a2-e4db-4764-8005-ba0c884ff2af"
      },
      "execution_count": 12,
      "outputs": [
        {
          "output_type": "execute_result",
          "data": {
            "text/plain": [
              "array([1980., 1981., 1982., 1983., 1984., 1985., 1986., 1987., 1988.,\n",
              "       1989., 1990., 1991., 1992., 1993., 1994., 1995., 1996., 1997.,\n",
              "       1998., 1999., 2000., 2001., 2002., 2003., 2004., 2005., 2006.,\n",
              "       2007., 2008., 2009., 2010., 2011., 2012., 2013., 2014., 2015.,\n",
              "       2016., 2017., 2020.,   nan])"
            ]
          },
          "metadata": {},
          "execution_count": 12
        }
      ]
    },
    {
      "cell_type": "code",
      "source": [
        "data.isnull().sum()"
      ],
      "metadata": {
        "colab": {
          "base_uri": "https://localhost:8080/"
        },
        "id": "ww2H-Uby7g-C",
        "outputId": "96f865dc-310a-43de-b88a-ef30b7083253"
      },
      "execution_count": 15,
      "outputs": [
        {
          "output_type": "execute_result",
          "data": {
            "text/plain": [
              "Rank              0\n",
              "Name              0\n",
              "Platform          0\n",
              "Year            271\n",
              "Genre             0\n",
              "Publisher        58\n",
              "NA_Sales          0\n",
              "EU_Sales          0\n",
              "JP_Sales          0\n",
              "Other_Sales       0\n",
              "Global_Sales      0\n",
              "dtype: int64"
            ]
          },
          "metadata": {},
          "execution_count": 15
        }
      ]
    },
    {
      "cell_type": "code",
      "source": [
        "data.isnull().sum()/data.shape[0]"
      ],
      "metadata": {
        "colab": {
          "base_uri": "https://localhost:8080/"
        },
        "id": "sd4QhOqk7osl",
        "outputId": "f777ecf0-937e-46fc-f7ae-5f5be8b4a906"
      },
      "execution_count": 16,
      "outputs": [
        {
          "output_type": "execute_result",
          "data": {
            "text/plain": [
              "Rank            0.000000\n",
              "Name            0.000000\n",
              "Platform        0.000000\n",
              "Year            0.016327\n",
              "Genre           0.000000\n",
              "Publisher       0.003494\n",
              "NA_Sales        0.000000\n",
              "EU_Sales        0.000000\n",
              "JP_Sales        0.000000\n",
              "Other_Sales     0.000000\n",
              "Global_Sales    0.000000\n",
              "dtype: float64"
            ]
          },
          "metadata": {},
          "execution_count": 16
        }
      ]
    },
    {
      "cell_type": "code",
      "source": [
        "data = data.dropna()"
      ],
      "metadata": {
        "id": "rDZBXB_h9RHg"
      },
      "execution_count": 19,
      "outputs": []
    },
    {
      "cell_type": "code",
      "source": [
        "import matplotlib as mpl"
      ],
      "metadata": {
        "id": "ARewZqbw7r8X"
      },
      "execution_count": 20,
      "outputs": []
    },
    {
      "cell_type": "code",
      "source": [
        "game = data.groupby('Genre')['Global_Sales'].count().sort_values(ascending=False).head(10)"
      ],
      "metadata": {
        "id": "iu0Sleyn869m"
      },
      "execution_count": 29,
      "outputs": []
    },
    {
      "cell_type": "code",
      "source": [
        "cust_colors = mpl.colors.Normalize(vmin=min(game), vmax=max(game))\n",
        "colours = [mpl.cm.PuBu(cust_colors(i)) for i in game]"
      ],
      "metadata": {
        "id": "UoV5XIdc9M3f"
      },
      "execution_count": 33,
      "outputs": []
    },
    {
      "cell_type": "code",
      "source": [
        "values = game.values\n",
        "values"
      ],
      "metadata": {
        "colab": {
          "base_uri": "https://localhost:8080/"
        },
        "id": "cf9RwpzdA7vz",
        "outputId": "9316751e-6aeb-46f1-cb0e-4779ef8a9c03"
      },
      "execution_count": 71,
      "outputs": [
        {
          "output_type": "execute_result",
          "data": {
            "text/plain": [
              "array([3251, 2304, 1686, 1470, 1282, 1274, 1225,  875,  848,  836])"
            ]
          },
          "metadata": {},
          "execution_count": 71
        }
      ]
    },
    {
      "cell_type": "code",
      "source": [
        "cust_colors = mpl.colors.Normalize(vmin=min(game), vmax=max(game))\n",
        "colours = [mpl.cm.YlGn(cust_colors(i)) for i in game]\n",
        "plt.figure(figsize=(15,10))\n",
        "plt.pie(game, labels=game.index, colors=colours, autopct=lambda x: '{:.0f}'.format(x*values.sum()/100))\n",
        "central_circle = plt.Circle((0, 0), 0.5, color='white')\n",
        "fig = plt.gcf()\n",
        "fig.gca().add_artist(central_circle)\n",
        "plt.rc('font', size=12)\n",
        "plt.title('Top 10 categories of games sold', fontsize=20)\n",
        "plt.show()"
      ],
      "metadata": {
        "colab": {
          "base_uri": "https://localhost:8080/",
          "height": 596
        },
        "id": "35vuZWwv-bFH",
        "outputId": "a71618a3-582c-41b4-cca1-f3150fa01ae1"
      },
      "execution_count": 72,
      "outputs": [
        {
          "output_type": "display_data",
          "data": {
            "text/plain": [
              "<Figure size 1080x720 with 1 Axes>"
            ],
            "image/png": "[encoded data removed]"
          },
          "metadata": {}
        }
      ]
    },
    {
      "cell_type": "code",
      "source": [
        "data.corr()"
      ],
      "metadata": {
        "colab": {
          "base_uri": "https://localhost:8080/",
          "height": 269
        },
        "id": "2JSk9Zqz_RLC",
        "outputId": "1dbb8e20-243c-47bb-f3ad-d8f4be6a05f0"
      },
      "execution_count": 73,
      "outputs": [
        {
          "output_type": "execute_result",
          "data": {
            "text/plain": [
              "                  Rank      Year  NA_Sales  EU_Sales  JP_Sales  Other_Sales  \\\n",
              "Rank          1.000000  0.178027 -0.400315 -0.379137 -0.269323    -0.332735   \n",
              "Year          0.178027  1.000000 -0.091285  0.006108 -0.169387     0.041128   \n",
              "NA_Sales     -0.400315 -0.091285  1.000000  0.768923  0.451283     0.634518   \n",
              "EU_Sales     -0.379137  0.006108  0.768923  1.000000  0.436379     0.726256   \n",
              "JP_Sales     -0.269323 -0.169387  0.451283  0.436379  1.000000     0.290559   \n",
              "Other_Sales  -0.332735  0.041128  0.634518  0.726256  0.290559     1.000000   \n",
              "Global_Sales -0.426975 -0.074647  0.941269  0.903264  0.612774     0.747964   \n",
              "\n",
              "              Global_Sales  \n",
              "Rank             -0.426975  \n",
              "Year             -0.074647  \n",
              "NA_Sales          0.941269  \n",
              "EU_Sales          0.903264  \n",
              "JP_Sales          0.612774  \n",
              "Other_Sales       0.747964  \n",
              "Global_Sales      1.000000  "
            ],
            "text/html": [
              "\n",
              "  <div id=\"df-5f8d251f-82eb-4735-a374-2baf31fdda31\">\n",
              "    <div class=\"colab-df-container\">\n",
              "      <div>\n",
              "<style scoped>\n",
              "    .dataframe tbody tr th:only-of-type {\n",
              "        vertical-align: middle;\n",
              "    }\n",
              "\n",
              "    .dataframe tbody tr th {\n",
              "        vertical-align: top;\n",
              "    }\n",
              "\n",
              "    .dataframe thead th {\n",
              "        text-align: right;\n",
              "    }\n",
              "</style>\n",
              "<table border=\"1\" class=\"dataframe\">\n",
              "  <thead>\n",
              "    <tr style=\"text-align: right;\">\n",
              "      <th></th>\n",
              "      <th>Rank</th>\n",
              "      <th>Year</th>\n",
              "      <th>NA_Sales</th>\n",
              "      <th>EU_Sales</th>\n",
              "      <th>JP_Sales</th>\n",
              "      <th>Other_Sales</th>\n",
              "      <th>Global_Sales</th>\n",
              "    </tr>\n",
              "  </thead>\n",
              "  <tbody>\n",
              "    <tr>\n",
              "      <th>Rank</th>\n",
              "      <td>1.000000</td>\n",
              "      <td>0.178027</td>\n",
              "      <td>-0.400315</td>\n",
              "      <td>-0.379137</td>\n",
              "      <td>-0.269323</td>\n",
              "      <td>-0.332735</td>\n",
              "      <td>-0.426975</td>\n",
              "    </tr>\n",
              "    <tr>\n",
              "      <th>Year</th>\n",
              "      <td>0.178027</td>\n",
              "      <td>1.000000</td>\n",
              "      <td>-0.091285</td>\n",
              "      <td>0.006108</td>\n",
              "      <td>-0.169387</td>\n",
              "      <td>0.041128</td>\n",
              "      <td>-0.074647</td>\n",
              "    </tr>\n",
              "    <tr>\n",
              "      <th>NA_Sales</th>\n",
              "      <td>-0.400315</td>\n",
              "      <td>-0.091285</td>\n",
              "      <td>1.000000</td>\n",
              "      <td>0.768923</td>\n",
              "      <td>0.451283</td>\n",
              "      <td>0.634518</td>\n",
              "      <td>0.941269</td>\n",
              "    </tr>\n",
              "    <tr>\n",
              "      <th>EU_Sales</th>\n",
              "      <td>-0.379137</td>\n",
              "      <td>0.006108</td>\n",
              "      <td>0.768923</td>\n",
              "      <td>1.000000</td>\n",
              "      <td>0.436379</td>\n",
              "      <td>0.726256</td>\n",
              "      <td>0.903264</td>\n",
              "    </tr>\n",
              "    <tr>\n",
              "      <th>JP_Sales</th>\n",
              "      <td>-0.269323</td>\n",
              "      <td>-0.169387</td>\n",
              "      <td>0.451283</td>\n",
              "      <td>0.436379</td>\n",
              "      <td>1.000000</td>\n",
              "      <td>0.290559</td>\n",
              "      <td>0.612774</td>\n",
              "    </tr>\n",
              "    <tr>\n",
              "      <th>Other_Sales</th>\n",
              "      <td>-0.332735</td>\n",
              "      <td>0.041128</td>\n",
              "      <td>0.634518</td>\n",
              "      <td>0.726256</td>\n",
              "      <td>0.290559</td>\n",
              "      <td>1.000000</td>\n",
              "      <td>0.747964</td>\n",
              "    </tr>\n",
              "    <tr>\n",
              "      <th>Global_Sales</th>\n",
              "      <td>-0.426975</td>\n",
              "      <td>-0.074647</td>\n",
              "      <td>0.941269</td>\n",
              "      <td>0.903264</td>\n",
              "      <td>0.612774</td>\n",
              "      <td>0.747964</td>\n",
              "      <td>1.000000</td>\n",
              "    </tr>\n",
              "  </tbody>\n",
              "</table>\n",
              "</div>\n",
              "      <button class=\"colab-df-convert\" onclick=\"convertToInteractive('df-5f8d251f-82eb-4735-a374-2baf31fdda31')\"\n",
              "              title=\"Convert this dataframe to an interactive table.\"\n",
              "              style=\"display:none;\">\n",
              "        \n",
              "  <svg xmlns=\"http://www.w3.org/2000/svg\" height=\"24px\"viewBox=\"0 0 24 24\"\n",
              "       width=\"24px\">\n",
              "    <path d=\"M0 0h24v24H0V0z\" fill=\"none\"/>\n",
              "    <path d=\"M18.56 5.44l.94 2.06.94-2.06 2.06-.94-2.06-.94-.94-2.06-.94 2.06-2.06.94zm-11 1L8.5 8.5l.94-2.06 2.06-.94-2.06-.94L8.5 2.5l-.94 2.06-2.06.94zm10 10l.94 2.06.94-2.06 2.06-.94-2.06-.94-.94-2.06-.94 2.06-2.06.94z\"/><path d=\"M17.41 7.96l-1.37-1.37c-.4-.4-.92-.59-1.43-.59-.52 0-1.04.2-1.43.59L10.3 9.45l-7.72 7.72c-.78.78-.78 2.05 0 2.83L4 21.41c.39.39.9.59 1.41.59.51 0 1.02-.2 1.41-.59l7.78-7.78 2.81-2.81c.8-.78.8-2.07 0-2.86zM5.41 20L4 18.59l7.72-7.72 1.47 1.35L5.41 20z\"/>\n",
              "  </svg>\n",
              "      </button>\n",
              "      \n",
              "  <style>\n",
              "    .colab-df-container {\n",
              "      display:flex;\n",
              "      flex-wrap:wrap;\n",
              "      gap: 12px;\n",
              "    }\n",
              "\n",
              "    .colab-df-convert {\n",
              "      background-color: #E8F0FE;\n",
              "      border: none;\n",
              "      border-radius: 50%;\n",
              "      cursor: pointer;\n",
              "      display: none;\n",
              "      fill: #1967D2;\n",
              "      height: 32px;\n",
              "      padding: 0 0 0 0;\n",
              "      width: 32px;\n",
              "    }\n",
              "\n",
              "    .colab-df-convert:hover {\n",
              "      background-color: #E2EBFA;\n",
              "      box-shadow: 0px 1px 2px rgba(60, 64, 67, 0.3), 0px 1px 3px 1px rgba(60, 64, 67, 0.15);\n",
              "      fill: #174EA6;\n",
              "    }\n",
              "\n",
              "    [theme=dark] .colab-df-convert {\n",
              "      background-color: #3B4455;\n",
              "      fill: #D2E3FC;\n",
              "    }\n",
              "\n",
              "    [theme=dark] .colab-df-convert:hover {\n",
              "      background-color: #434B5C;\n",
              "      box-shadow: 0px 1px 3px 1px rgba(0, 0, 0, 0.15);\n",
              "      filter: drop-shadow(0px 1px 2px rgba(0, 0, 0, 0.3));\n",
              "      fill: #FFFFFF;\n",
              "    }\n",
              "  </style>\n",
              "\n",
              "      <script>\n",
              "        const buttonEl =\n",
              "          document.querySelector('#df-5f8d251f-82eb-4735-a374-2baf31fdda31 button.colab-df-convert');\n",
              "        buttonEl.style.display =\n",
              "          google.colab.kernel.accessAllowed ? 'block' : 'none';\n",
              "\n",
              "        async function convertToInteractive(key) {\n",
              "          const element = document.querySelector('#df-5f8d251f-82eb-4735-a374-2baf31fdda31');\n",
              "          const dataTable =\n",
              "            await google.colab.kernel.invokeFunction('convertToInteractive',\n",
              "                                                     [key], {});\n",
              "          if (!dataTable) return;\n",
              "\n",
              "          const docLinkHtml = 'Like what you see? Visit the ' +\n",
              "            '<a target=\"_blank\" href=https://colab.research.google.com/notebooks/data_table.ipynb>data table notebook</a>'\n",
              "            + ' to learn more about interactive tables.';\n",
              "          element.innerHTML = '';\n",
              "          dataTable['output_type'] = 'display_data';\n",
              "          await google.colab.output.renderOutput(dataTable, element);\n",
              "          const docLink = document.createElement('div');\n",
              "          docLink.innerHTML = docLinkHtml;\n",
              "          element.appendChild(docLink);\n",
              "        }\n",
              "      </script>\n",
              "    </div>\n",
              "  </div>\n",
              "  "
            ]
          },
          "metadata": {},
          "execution_count": 73
        }
      ]
    },
    {
      "cell_type": "code",
      "source": [
        "plt.figure(figsize=(15,10))\n",
        "sns.heatmap(data.corr(), cmap='winter_r', annot=True, center=0)\n",
        "plt.show()"
      ],
      "metadata": {
        "colab": {
          "base_uri": "https://localhost:8080/",
          "height": 600
        },
        "id": "BlYVyMP5GICB",
        "outputId": "2a67b03e-3cbf-40b0-ebb7-e4168fb8c84d"
      },
      "execution_count": 75,
      "outputs": [
        {
          "output_type": "display_data",
          "data": {
            "text/plain": [
              "<Figure size 1080x720 with 2 Axes>"
            ],
            "image/png": "[encoded data removed]"
          },
          "metadata": {
            "needs_background": "light"
          }
        }
      ]
    },
    {
      "cell_type": "code",
      "source": [
        "data.columns"
      ],
      "metadata": {
        "colab": {
          "base_uri": "https://localhost:8080/"
        },
        "id": "YIdUGCM6GeFU",
        "outputId": "b3f1baaf-b05b-4273-d937-7184b65a1551"
      },
      "execution_count": 76,
      "outputs": [
        {
          "output_type": "execute_result",
          "data": {
            "text/plain": [
              "Index(['Rank', 'Name', 'Platform', 'Year', 'Genre', 'Publisher', 'NA_Sales',\n",
              "       'EU_Sales', 'JP_Sales', 'Other_Sales', 'Global_Sales'],\n",
              "      dtype='object')"
            ]
          },
          "metadata": {},
          "execution_count": 76
        }
      ]
    },
    {
      "cell_type": "code",
      "source": [
        "x = data[['Rank', 'NA_Sales', 'EU_Sales', 'JP_Sales', 'Other_Sales']]\n",
        "y = data['Global_Sales']"
      ],
      "metadata": {
        "id": "BpnTiY7OGOD-"
      },
      "execution_count": 77,
      "outputs": []
    },
    {
      "cell_type": "code",
      "source": [
        "from sklearn.model_selection import train_test_split\n",
        "from sklearn.linear_model import LinearRegression"
      ],
      "metadata": {
        "id": "Hl5q1FEIGogo"
      },
      "execution_count": 78,
      "outputs": []
    },
    {
      "cell_type": "code",
      "source": [
        "xtrain, xtest, ytrain, ytest = train_test_split(x, y, test_size=0.2, random_state=42)\n",
        "xtrain.shape, xtest.shape, ytrain.shape, ytest.shape"
      ],
      "metadata": {
        "colab": {
          "base_uri": "https://localhost:8080/"
        },
        "id": "ifhz8D-nJLMw",
        "outputId": "5c34999c-92e0-4268-dc6b-22df5ce2b196"
      },
      "execution_count": 79,
      "outputs": [
        {
          "output_type": "execute_result",
          "data": {
            "text/plain": [
              "((13032, 5), (3259, 5), (13032,), (3259,))"
            ]
          },
          "metadata": {},
          "execution_count": 79
        }
      ]
    },
    {
      "cell_type": "code",
      "source": [
        "model = LinearRegression()\n",
        "model.fit(xtrain, ytrain)"
      ],
      "metadata": {
        "colab": {
          "base_uri": "https://localhost:8080/"
        },
        "id": "yS-cxBhtJWWF",
        "outputId": "e5742e0f-63fd-43f8-c6e8-bc774a45bb45"
      },
      "execution_count": 80,
      "outputs": [
        {
          "output_type": "execute_result",
          "data": {
            "text/plain": [
              "LinearRegression()"
            ]
          },
          "metadata": {},
          "execution_count": 80
        }
      ]
    },
    {
      "cell_type": "code",
      "source": [
        "ypred = model.predict(xtest)"
      ],
      "metadata": {
        "id": "drRxUubBJaP8"
      },
      "execution_count": 81,
      "outputs": []
    },
    {
      "cell_type": "code",
      "source": [
        "from sklearn import metrics"
      ],
      "metadata": {
        "id": "hIkY9z8SJdPP"
      },
      "execution_count": 82,
      "outputs": []
    },
    {
      "cell_type": "code",
      "source": [
        "print('MAE:', metrics.mean_absolute_error(ytest, ypred))\n",
        "print('MAPE:', metrics.mean_absolute_percentage_error(ytest, ypred))\n",
        "print('MSE: ', metrics.mean_squared_error(ytest, ypred, squared=False))\n",
        "print('RMSE: ', metrics.mean_squared_error(ytest, ypred, squared=True))\n",
        "print('R2_score: ', metrics.r2_score(ytest, ypred))"
      ],
      "metadata": {
        "colab": {
          "base_uri": "https://localhost:8080/"
        },
        "id": "HE3POOeFJkUK",
        "outputId": "569e333c-6fea-4ea5-fd51-ecaf717ef012"
      },
      "execution_count": 84,
      "outputs": [
        {
          "output_type": "stream",
          "name": "stdout",
          "text": [
            "MAE: 0.0031061418784739227\n",
            "MAPE: 0.03324793443986269\n",
            "MSE:  0.005342241176650382\n",
            "RMSE:  2.8539540789498857e-05\n",
            "R2_score:  0.9999933287153024\n"
          ]
        }
      ]
    },
    {
      "cell_type": "code",
      "source": [
        ""
      ],
      "metadata": {
        "id": "LVBuEWlNJpja"
      },
      "execution_count": null,
      "outputs": []
    }
  ]
}