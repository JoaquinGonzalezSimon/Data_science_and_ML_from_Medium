{
  "nbformat": 4,
  "nbformat_minor": 0,
  "metadata": {
    "colab": {
      "name": "220806-Text_summarization_with_Python.ipynb",
      "provenance": [],
      "collapsed_sections": [],
      "authorship_tag": "ABX9TyO4daTJP05T7PqVTWLKcqe3",
      "include_colab_link": true
    },
    "kernelspec": {
      "name": "python3",
      "display_name": "Python 3"
    },
    "language_info": {
      "name": "python"
    }
  },
  "cells": [
    {
      "cell_type": "markdown",
      "metadata": {
        "id": "view-in-github",
        "colab_type": "text"
      },
      "source": [
        "<a href=\"https://colab.research.google.com/github/JoaquinGonzalezSimon/Data_science_and_ML_from_Medium/blob/main/220806_Text_summarization_with_Python.ipynb\" target=\"_parent\"><img src=\"https://colab.research.google.com/assets/colab-badge.svg\" alt=\"Open In Colab\"/></a>"
      ]
    },
    {
      "cell_type": "markdown",
      "source": [
        "### This project was taken from the following link and I use it to practice my skills\n",
        "\n",
        "https://thecleverprogrammer.com/2020/12/31/text-summarization-with-python/\n",
        "\n",
        "https://medium.com/coders-camp/180-data-science-and-machine-learning-projects-with-python-6191bc7b9db9"
      ],
      "metadata": {
        "id": "9BoZ60gsvAlN"
      }
    },
    {
      "cell_type": "code",
      "execution_count": 22,
      "metadata": {
        "id": "4O8DEo-ku_yi"
      },
      "outputs": [],
      "source": [
        "import pandas as pd\n",
        "import numpy as np\n",
        "import nltk\n",
        "import string\n",
        "from heapq import nlargest"
      ]
    },
    {
      "cell_type": "code",
      "source": [
        "text = 'Chicharito Hernández, delantero del LA Galaxy, decidió salir a aclarar su versión de las recientes polémicas en las que se ha visto involucrado. \\\n",
        "        El mexicano dejó claro que \"nunca fue su intención\" Voy a empezar con uno que creo que se salió de contexto que es el de la bandera. \\\n",
        "        Lo vi y lo estuve platicando con mi familia y con mi gente, decidí no firmar la bandera y después de eso la verdad es que yo no \\\n",
        "        sabía que la tenía yo agarrada, según yo la tenía agarrada la persona que me la entregó. Entonces no es que la tire, sino que la \\\n",
        "        quiero mover para seguir firmando más cosas y desafortunadamente la bandera se cayó, ni cuenta me di\", declaró Chicharito en un live \\\n",
        "        de su cuenta de Instagram. El ex-jugador del Manchester United compartió que él siempre trata de mostrar su agradecimiento con el público \\\n",
        "        al brindar autógrafos y fotografías, estando \"de la mejor manera posible\". Sin embargo, confesó que \"no siempre puede estar al 100%\". \\\n",
        "        Sosteniendo que \"la gente que en verdad lo conoce\" y que se han acercado a él saben como es en realidad. \"Obviamente el video de cuando \\\n",
        "        estoy saliendo del partido del Dallas y me niego a darle un autógrafo o una foto al niño. Sabemos que eso es muy desafortunado y le pido \\\n",
        "        perdón a él y a su familia. Estoy platicando ya con la gente del Galaxy para ver si podemos contactarlo para darle una foto, saludarlo, \\\n",
        "        regalarle una camiseta, invitarlo a un partido o algo\". \"Quería explicar un poquito esa situación porque, no es querer hablar de más, \\\n",
        "        pero la gente a la que me acerque estaban muy lejos del autobús. Yo ya había estado firmándole a mucha gente después del partido y otra vez \\\n",
        "        que no estuve al 100, soy humano, soy muy pasional, cuando hay algo en mi cabeza se me queda mucho en la cabeza, quiero pedir una disculpa, \\\n",
        "        se me fue completamente. Más que nada le dije que no porque yo estaba viendo más gente allá adelante que les quería firmar\". Javier Hernández \\\n",
        "        expresó que su manera \"ruda\" de hablar se derivó de la derrota que su equipo había sufrido con un rival directo (1-0 ante Dallas). \\\n",
        "        El futbolista quiso enfatizar en el hecho de que \"nadie es perfecto\" y que no por el hecho de ser un futbolista profesional significa \\\n",
        "        que no pueda cometer errores. '"
      ],
      "metadata": {
        "id": "-6VQkbgLvSEm"
      },
      "execution_count": 23,
      "outputs": []
    },
    {
      "cell_type": "code",
      "source": [
        "text.count('.'), text.count('. ')"
      ],
      "metadata": {
        "colab": {
          "base_uri": "https://localhost:8080/"
        },
        "id": "zApUCNNt9SLL",
        "outputId": "10323552-103c-4935-cb52-f794dae62b54"
      },
      "execution_count": 24,
      "outputs": [
        {
          "output_type": "execute_result",
          "data": {
            "text/plain": [
              "(15, 15)"
            ]
          },
          "metadata": {},
          "execution_count": 24
        }
      ]
    },
    {
      "cell_type": "code",
      "source": [
        "if text.count('. ') > 20:\n",
        "  length = int(round(text.count('. ')/10,0))\n",
        "else:\n",
        "  lenght = 1"
      ],
      "metadata": {
        "id": "ovB_9Klv8LHU"
      },
      "execution_count": 52,
      "outputs": []
    },
    {
      "cell_type": "code",
      "source": [
        "lenght"
      ],
      "metadata": {
        "colab": {
          "base_uri": "https://localhost:8080/"
        },
        "id": "aKRdAB6p8zV5",
        "outputId": "e537e8ca-d183-41b8-e4ce-f6565719fa94"
      },
      "execution_count": 53,
      "outputs": [
        {
          "output_type": "execute_result",
          "data": {
            "text/plain": [
              "1"
            ]
          },
          "metadata": {},
          "execution_count": 53
        }
      ]
    },
    {
      "cell_type": "code",
      "source": [
        "nopuch = [char for char in text if char not in string.punctuation]\n",
        "nopuch = ''.join(nopuch)\n",
        "nopuch"
      ],
      "metadata": {
        "colab": {
          "base_uri": "https://localhost:8080/",
          "height": 123
        },
        "id": "GL0rj_zo9c7G",
        "outputId": "e2e93cd6-859f-4e62-c178-cd470f57b916"
      },
      "execution_count": 27,
      "outputs": [
        {
          "output_type": "execute_result",
          "data": {
            "text/plain": [
              "'Chicharito Hernández delantero del LA Galaxy decidió salir a aclarar su versión de las recientes polémicas en las que se ha visto involucrado         El mexicano dejó claro que nunca fue su intención Voy a empezar con uno que creo que se salió de contexto que es el de la bandera         Lo vi y lo estuve platicando con mi familia y con mi gente decidí no firmar la bandera y después de eso la verdad es que yo no         sabía que la tenía yo agarrada según yo la tenía agarrada la persona que me la entregó Entonces no es que la tire sino que la         quiero mover para seguir firmando más cosas y desafortunadamente la bandera se cayó ni cuenta me di declaró Chicharito en un live         de su cuenta de Instagram El exjugador del Manchester United compartió que él siempre trata de mostrar su agradecimiento con el público         al brindar autógrafos y fotografías estando de la mejor manera posible Sin embargo confesó que no siempre puede estar al 100         Sosteniendo que la gente que en verdad lo conoce y que se han acercado a él saben como es en realidad Obviamente el video de cuando         estoy saliendo del partido del Dallas y me niego a darle un autógrafo o una foto al niño Sabemos que eso es muy desafortunado y le pido         perdón a él y a su familia Estoy platicando ya con la gente del Galaxy para ver si podemos contactarlo para darle una foto saludarlo         regalarle una camiseta invitarlo a un partido o algo Quería explicar un poquito esa situación porque no es querer hablar de más         pero la gente a la que me acerque estaban muy lejos del autobús Yo ya había estado firmándole a mucha gente después del partido y otra vez         que no estuve al 100 soy humano soy muy pasional cuando hay algo en mi cabeza se me queda mucho en la cabeza quiero pedir una disculpa         se me fue completamente Más que nada le dije que no porque yo estaba viendo más gente allá adelante que les quería firmar Javier Hernández         expresó que su manera ruda de hablar se derivó de la derrota que su equipo había sufrido con un rival directo 10 ante Dallas         El futbolista quiso enfatizar en el hecho de que nadie es perfecto y que no por el hecho de ser un futbolista profesional significa         que no pueda cometer errores '"
            ],
            "application/vnd.google.colaboratory.intrinsic+json": {
              "type": "string"
            }
          },
          "metadata": {},
          "execution_count": 27
        }
      ]
    },
    {
      "cell_type": "code",
      "source": [
        "nltk.download('stopwords')"
      ],
      "metadata": {
        "colab": {
          "base_uri": "https://localhost:8080/"
        },
        "id": "D2MfWh8IOPcA",
        "outputId": "ffa46c1b-ec90-4bb7-a297-3d31eacf5600"
      },
      "execution_count": 28,
      "outputs": [
        {
          "output_type": "stream",
          "name": "stderr",
          "text": [
            "[nltk_data] Downloading package stopwords to /root/nltk_data...\n",
            "[nltk_data]   Unzipping corpora/stopwords.zip.\n"
          ]
        },
        {
          "output_type": "execute_result",
          "data": {
            "text/plain": [
              "True"
            ]
          },
          "metadata": {},
          "execution_count": 28
        }
      ]
    },
    {
      "cell_type": "code",
      "source": [
        "processed_text = [word for word in nopuch.split() if word.lower()\n",
        "                  not in nltk.corpus.stopwords.words('spanish')]"
      ],
      "metadata": {
        "id": "IIP-HzRh9lXi"
      },
      "execution_count": 29,
      "outputs": []
    },
    {
      "cell_type": "code",
      "source": [
        "processed_text"
      ],
      "metadata": {
        "colab": {
          "base_uri": "https://localhost:8080/"
        },
        "id": "_XVkVKQBOSEv",
        "outputId": "e547d099-797e-4343-ab17-f274622312f9"
      },
      "execution_count": 30,
      "outputs": [
        {
          "output_type": "execute_result",
          "data": {
            "text/plain": [
              "['Chicharito',\n",
              " 'Hernández',\n",
              " 'delantero',\n",
              " 'Galaxy',\n",
              " 'decidió',\n",
              " 'salir',\n",
              " 'aclarar',\n",
              " 'versión',\n",
              " 'recientes',\n",
              " 'polémicas',\n",
              " 'visto',\n",
              " 'involucrado',\n",
              " 'mexicano',\n",
              " 'dejó',\n",
              " 'claro',\n",
              " 'nunca',\n",
              " 'intención',\n",
              " 'Voy',\n",
              " 'empezar',\n",
              " 'creo',\n",
              " 'salió',\n",
              " 'contexto',\n",
              " 'bandera',\n",
              " 'vi',\n",
              " 'platicando',\n",
              " 'familia',\n",
              " 'gente',\n",
              " 'decidí',\n",
              " 'firmar',\n",
              " 'bandera',\n",
              " 'después',\n",
              " 'verdad',\n",
              " 'sabía',\n",
              " 'agarrada',\n",
              " 'según',\n",
              " 'agarrada',\n",
              " 'persona',\n",
              " 'entregó',\n",
              " 'Entonces',\n",
              " 'tire',\n",
              " 'sino',\n",
              " 'quiero',\n",
              " 'mover',\n",
              " 'seguir',\n",
              " 'firmando',\n",
              " 'cosas',\n",
              " 'desafortunadamente',\n",
              " 'bandera',\n",
              " 'cayó',\n",
              " 'cuenta',\n",
              " 'di',\n",
              " 'declaró',\n",
              " 'Chicharito',\n",
              " 'live',\n",
              " 'cuenta',\n",
              " 'Instagram',\n",
              " 'exjugador',\n",
              " 'Manchester',\n",
              " 'United',\n",
              " 'compartió',\n",
              " 'siempre',\n",
              " 'trata',\n",
              " 'mostrar',\n",
              " 'agradecimiento',\n",
              " 'público',\n",
              " 'brindar',\n",
              " 'autógrafos',\n",
              " 'fotografías',\n",
              " 'mejor',\n",
              " 'manera',\n",
              " 'posible',\n",
              " 'embargo',\n",
              " 'confesó',\n",
              " 'siempre',\n",
              " 'puede',\n",
              " '100',\n",
              " 'Sosteniendo',\n",
              " 'gente',\n",
              " 'verdad',\n",
              " 'conoce',\n",
              " 'acercado',\n",
              " 'saben',\n",
              " 'realidad',\n",
              " 'Obviamente',\n",
              " 'video',\n",
              " 'saliendo',\n",
              " 'partido',\n",
              " 'Dallas',\n",
              " 'niego',\n",
              " 'darle',\n",
              " 'autógrafo',\n",
              " 'foto',\n",
              " 'niño',\n",
              " 'Sabemos',\n",
              " 'desafortunado',\n",
              " 'pido',\n",
              " 'perdón',\n",
              " 'familia',\n",
              " 'platicando',\n",
              " 'gente',\n",
              " 'Galaxy',\n",
              " 'ver',\n",
              " 'si',\n",
              " 'podemos',\n",
              " 'contactarlo',\n",
              " 'darle',\n",
              " 'foto',\n",
              " 'saludarlo',\n",
              " 'regalarle',\n",
              " 'camiseta',\n",
              " 'invitarlo',\n",
              " 'partido',\n",
              " 'Quería',\n",
              " 'explicar',\n",
              " 'poquito',\n",
              " 'situación',\n",
              " 'querer',\n",
              " 'hablar',\n",
              " 'gente',\n",
              " 'acerque',\n",
              " 'lejos',\n",
              " 'autobús',\n",
              " 'firmándole',\n",
              " 'mucha',\n",
              " 'gente',\n",
              " 'después',\n",
              " 'partido',\n",
              " 'vez',\n",
              " '100',\n",
              " 'humano',\n",
              " 'pasional',\n",
              " 'cabeza',\n",
              " 'queda',\n",
              " 'cabeza',\n",
              " 'quiero',\n",
              " 'pedir',\n",
              " 'disculpa',\n",
              " 'completamente',\n",
              " 'dije',\n",
              " 'viendo',\n",
              " 'gente',\n",
              " 'allá',\n",
              " 'adelante',\n",
              " 'quería',\n",
              " 'firmar',\n",
              " 'Javier',\n",
              " 'Hernández',\n",
              " 'expresó',\n",
              " 'manera',\n",
              " 'ruda',\n",
              " 'hablar',\n",
              " 'derivó',\n",
              " 'derrota',\n",
              " 'equipo',\n",
              " 'sufrido',\n",
              " 'rival',\n",
              " 'directo',\n",
              " '10',\n",
              " 'Dallas',\n",
              " 'futbolista',\n",
              " 'quiso',\n",
              " 'enfatizar',\n",
              " 'hecho',\n",
              " 'nadie',\n",
              " 'perfecto',\n",
              " 'hecho',\n",
              " 'ser',\n",
              " 'futbolista',\n",
              " 'profesional',\n",
              " 'significa',\n",
              " 'pueda',\n",
              " 'cometer',\n",
              " 'errores']"
            ]
          },
          "metadata": {},
          "execution_count": 30
        }
      ]
    },
    {
      "cell_type": "code",
      "source": [
        "word_freq = {}\n",
        "for word in processed_text:\n",
        "  if word not in word_freq:\n",
        "    word_freq[word] = 1\n",
        "  else:\n",
        "    word_freq[word] = word_freq[word] + 1"
      ],
      "metadata": {
        "id": "YKX0HIt6OVBl"
      },
      "execution_count": 31,
      "outputs": []
    },
    {
      "cell_type": "code",
      "source": [
        "word_freq"
      ],
      "metadata": {
        "colab": {
          "base_uri": "https://localhost:8080/"
        },
        "id": "DpLsl3uoOmne",
        "outputId": "7eb87027-445d-4272-8865-3e0ac5056df0"
      },
      "execution_count": 32,
      "outputs": [
        {
          "output_type": "execute_result",
          "data": {
            "text/plain": [
              "{'10': 1,\n",
              " '100': 2,\n",
              " 'Chicharito': 2,\n",
              " 'Dallas': 2,\n",
              " 'Entonces': 1,\n",
              " 'Galaxy': 2,\n",
              " 'Hernández': 2,\n",
              " 'Instagram': 1,\n",
              " 'Javier': 1,\n",
              " 'Manchester': 1,\n",
              " 'Obviamente': 1,\n",
              " 'Quería': 1,\n",
              " 'Sabemos': 1,\n",
              " 'Sosteniendo': 1,\n",
              " 'United': 1,\n",
              " 'Voy': 1,\n",
              " 'acercado': 1,\n",
              " 'acerque': 1,\n",
              " 'aclarar': 1,\n",
              " 'adelante': 1,\n",
              " 'agarrada': 2,\n",
              " 'agradecimiento': 1,\n",
              " 'allá': 1,\n",
              " 'autobús': 1,\n",
              " 'autógrafo': 1,\n",
              " 'autógrafos': 1,\n",
              " 'bandera': 3,\n",
              " 'brindar': 1,\n",
              " 'cabeza': 2,\n",
              " 'camiseta': 1,\n",
              " 'cayó': 1,\n",
              " 'claro': 1,\n",
              " 'cometer': 1,\n",
              " 'compartió': 1,\n",
              " 'completamente': 1,\n",
              " 'confesó': 1,\n",
              " 'conoce': 1,\n",
              " 'contactarlo': 1,\n",
              " 'contexto': 1,\n",
              " 'cosas': 1,\n",
              " 'creo': 1,\n",
              " 'cuenta': 2,\n",
              " 'darle': 2,\n",
              " 'decidió': 1,\n",
              " 'decidí': 1,\n",
              " 'declaró': 1,\n",
              " 'dejó': 1,\n",
              " 'delantero': 1,\n",
              " 'derivó': 1,\n",
              " 'derrota': 1,\n",
              " 'desafortunadamente': 1,\n",
              " 'desafortunado': 1,\n",
              " 'después': 2,\n",
              " 'di': 1,\n",
              " 'dije': 1,\n",
              " 'directo': 1,\n",
              " 'disculpa': 1,\n",
              " 'embargo': 1,\n",
              " 'empezar': 1,\n",
              " 'enfatizar': 1,\n",
              " 'entregó': 1,\n",
              " 'equipo': 1,\n",
              " 'errores': 1,\n",
              " 'exjugador': 1,\n",
              " 'explicar': 1,\n",
              " 'expresó': 1,\n",
              " 'familia': 2,\n",
              " 'firmando': 1,\n",
              " 'firmar': 2,\n",
              " 'firmándole': 1,\n",
              " 'foto': 2,\n",
              " 'fotografías': 1,\n",
              " 'futbolista': 2,\n",
              " 'gente': 6,\n",
              " 'hablar': 2,\n",
              " 'hecho': 2,\n",
              " 'humano': 1,\n",
              " 'intención': 1,\n",
              " 'invitarlo': 1,\n",
              " 'involucrado': 1,\n",
              " 'lejos': 1,\n",
              " 'live': 1,\n",
              " 'manera': 2,\n",
              " 'mejor': 1,\n",
              " 'mexicano': 1,\n",
              " 'mostrar': 1,\n",
              " 'mover': 1,\n",
              " 'mucha': 1,\n",
              " 'nadie': 1,\n",
              " 'niego': 1,\n",
              " 'niño': 1,\n",
              " 'nunca': 1,\n",
              " 'partido': 3,\n",
              " 'pasional': 1,\n",
              " 'pedir': 1,\n",
              " 'perdón': 1,\n",
              " 'perfecto': 1,\n",
              " 'persona': 1,\n",
              " 'pido': 1,\n",
              " 'platicando': 2,\n",
              " 'podemos': 1,\n",
              " 'polémicas': 1,\n",
              " 'poquito': 1,\n",
              " 'posible': 1,\n",
              " 'profesional': 1,\n",
              " 'pueda': 1,\n",
              " 'puede': 1,\n",
              " 'público': 1,\n",
              " 'queda': 1,\n",
              " 'querer': 1,\n",
              " 'quería': 1,\n",
              " 'quiero': 2,\n",
              " 'quiso': 1,\n",
              " 'realidad': 1,\n",
              " 'recientes': 1,\n",
              " 'regalarle': 1,\n",
              " 'rival': 1,\n",
              " 'ruda': 1,\n",
              " 'saben': 1,\n",
              " 'sabía': 1,\n",
              " 'saliendo': 1,\n",
              " 'salir': 1,\n",
              " 'salió': 1,\n",
              " 'saludarlo': 1,\n",
              " 'seguir': 1,\n",
              " 'según': 1,\n",
              " 'ser': 1,\n",
              " 'si': 1,\n",
              " 'siempre': 2,\n",
              " 'significa': 1,\n",
              " 'sino': 1,\n",
              " 'situación': 1,\n",
              " 'sufrido': 1,\n",
              " 'tire': 1,\n",
              " 'trata': 1,\n",
              " 'ver': 1,\n",
              " 'verdad': 2,\n",
              " 'versión': 1,\n",
              " 'vez': 1,\n",
              " 'vi': 1,\n",
              " 'video': 1,\n",
              " 'viendo': 1,\n",
              " 'visto': 1}"
            ]
          },
          "metadata": {},
          "execution_count": 32
        }
      ]
    },
    {
      "cell_type": "code",
      "source": [
        "max_freq = max(word_freq.values())\n",
        "for word in word_freq.keys():\n",
        "  word_freq[word] = (word_freq[word]/max_freq)"
      ],
      "metadata": {
        "id": "obXOCMH3OuW0"
      },
      "execution_count": 33,
      "outputs": []
    },
    {
      "cell_type": "code",
      "source": [
        "word_freq"
      ],
      "metadata": {
        "colab": {
          "base_uri": "https://localhost:8080/"
        },
        "id": "l3vhvhW9PBxC",
        "outputId": "8d8a8c1d-c045-486b-d1d0-3145b58160b4"
      },
      "execution_count": 34,
      "outputs": [
        {
          "output_type": "execute_result",
          "data": {
            "text/plain": [
              "{'10': 0.16666666666666666,\n",
              " '100': 0.3333333333333333,\n",
              " 'Chicharito': 0.3333333333333333,\n",
              " 'Dallas': 0.3333333333333333,\n",
              " 'Entonces': 0.16666666666666666,\n",
              " 'Galaxy': 0.3333333333333333,\n",
              " 'Hernández': 0.3333333333333333,\n",
              " 'Instagram': 0.16666666666666666,\n",
              " 'Javier': 0.16666666666666666,\n",
              " 'Manchester': 0.16666666666666666,\n",
              " 'Obviamente': 0.16666666666666666,\n",
              " 'Quería': 0.16666666666666666,\n",
              " 'Sabemos': 0.16666666666666666,\n",
              " 'Sosteniendo': 0.16666666666666666,\n",
              " 'United': 0.16666666666666666,\n",
              " 'Voy': 0.16666666666666666,\n",
              " 'acercado': 0.16666666666666666,\n",
              " 'acerque': 0.16666666666666666,\n",
              " 'aclarar': 0.16666666666666666,\n",
              " 'adelante': 0.16666666666666666,\n",
              " 'agarrada': 0.3333333333333333,\n",
              " 'agradecimiento': 0.16666666666666666,\n",
              " 'allá': 0.16666666666666666,\n",
              " 'autobús': 0.16666666666666666,\n",
              " 'autógrafo': 0.16666666666666666,\n",
              " 'autógrafos': 0.16666666666666666,\n",
              " 'bandera': 0.5,\n",
              " 'brindar': 0.16666666666666666,\n",
              " 'cabeza': 0.3333333333333333,\n",
              " 'camiseta': 0.16666666666666666,\n",
              " 'cayó': 0.16666666666666666,\n",
              " 'claro': 0.16666666666666666,\n",
              " 'cometer': 0.16666666666666666,\n",
              " 'compartió': 0.16666666666666666,\n",
              " 'completamente': 0.16666666666666666,\n",
              " 'confesó': 0.16666666666666666,\n",
              " 'conoce': 0.16666666666666666,\n",
              " 'contactarlo': 0.16666666666666666,\n",
              " 'contexto': 0.16666666666666666,\n",
              " 'cosas': 0.16666666666666666,\n",
              " 'creo': 0.16666666666666666,\n",
              " 'cuenta': 0.3333333333333333,\n",
              " 'darle': 0.3333333333333333,\n",
              " 'decidió': 0.16666666666666666,\n",
              " 'decidí': 0.16666666666666666,\n",
              " 'declaró': 0.16666666666666666,\n",
              " 'dejó': 0.16666666666666666,\n",
              " 'delantero': 0.16666666666666666,\n",
              " 'derivó': 0.16666666666666666,\n",
              " 'derrota': 0.16666666666666666,\n",
              " 'desafortunadamente': 0.16666666666666666,\n",
              " 'desafortunado': 0.16666666666666666,\n",
              " 'después': 0.3333333333333333,\n",
              " 'di': 0.16666666666666666,\n",
              " 'dije': 0.16666666666666666,\n",
              " 'directo': 0.16666666666666666,\n",
              " 'disculpa': 0.16666666666666666,\n",
              " 'embargo': 0.16666666666666666,\n",
              " 'empezar': 0.16666666666666666,\n",
              " 'enfatizar': 0.16666666666666666,\n",
              " 'entregó': 0.16666666666666666,\n",
              " 'equipo': 0.16666666666666666,\n",
              " 'errores': 0.16666666666666666,\n",
              " 'exjugador': 0.16666666666666666,\n",
              " 'explicar': 0.16666666666666666,\n",
              " 'expresó': 0.16666666666666666,\n",
              " 'familia': 0.3333333333333333,\n",
              " 'firmando': 0.16666666666666666,\n",
              " 'firmar': 0.3333333333333333,\n",
              " 'firmándole': 0.16666666666666666,\n",
              " 'foto': 0.3333333333333333,\n",
              " 'fotografías': 0.16666666666666666,\n",
              " 'futbolista': 0.3333333333333333,\n",
              " 'gente': 1.0,\n",
              " 'hablar': 0.3333333333333333,\n",
              " 'hecho': 0.3333333333333333,\n",
              " 'humano': 0.16666666666666666,\n",
              " 'intención': 0.16666666666666666,\n",
              " 'invitarlo': 0.16666666666666666,\n",
              " 'involucrado': 0.16666666666666666,\n",
              " 'lejos': 0.16666666666666666,\n",
              " 'live': 0.16666666666666666,\n",
              " 'manera': 0.3333333333333333,\n",
              " 'mejor': 0.16666666666666666,\n",
              " 'mexicano': 0.16666666666666666,\n",
              " 'mostrar': 0.16666666666666666,\n",
              " 'mover': 0.16666666666666666,\n",
              " 'mucha': 0.16666666666666666,\n",
              " 'nadie': 0.16666666666666666,\n",
              " 'niego': 0.16666666666666666,\n",
              " 'niño': 0.16666666666666666,\n",
              " 'nunca': 0.16666666666666666,\n",
              " 'partido': 0.5,\n",
              " 'pasional': 0.16666666666666666,\n",
              " 'pedir': 0.16666666666666666,\n",
              " 'perdón': 0.16666666666666666,\n",
              " 'perfecto': 0.16666666666666666,\n",
              " 'persona': 0.16666666666666666,\n",
              " 'pido': 0.16666666666666666,\n",
              " 'platicando': 0.3333333333333333,\n",
              " 'podemos': 0.16666666666666666,\n",
              " 'polémicas': 0.16666666666666666,\n",
              " 'poquito': 0.16666666666666666,\n",
              " 'posible': 0.16666666666666666,\n",
              " 'profesional': 0.16666666666666666,\n",
              " 'pueda': 0.16666666666666666,\n",
              " 'puede': 0.16666666666666666,\n",
              " 'público': 0.16666666666666666,\n",
              " 'queda': 0.16666666666666666,\n",
              " 'querer': 0.16666666666666666,\n",
              " 'quería': 0.16666666666666666,\n",
              " 'quiero': 0.3333333333333333,\n",
              " 'quiso': 0.16666666666666666,\n",
              " 'realidad': 0.16666666666666666,\n",
              " 'recientes': 0.16666666666666666,\n",
              " 'regalarle': 0.16666666666666666,\n",
              " 'rival': 0.16666666666666666,\n",
              " 'ruda': 0.16666666666666666,\n",
              " 'saben': 0.16666666666666666,\n",
              " 'sabía': 0.16666666666666666,\n",
              " 'saliendo': 0.16666666666666666,\n",
              " 'salir': 0.16666666666666666,\n",
              " 'salió': 0.16666666666666666,\n",
              " 'saludarlo': 0.16666666666666666,\n",
              " 'seguir': 0.16666666666666666,\n",
              " 'según': 0.16666666666666666,\n",
              " 'ser': 0.16666666666666666,\n",
              " 'si': 0.16666666666666666,\n",
              " 'siempre': 0.3333333333333333,\n",
              " 'significa': 0.16666666666666666,\n",
              " 'sino': 0.16666666666666666,\n",
              " 'situación': 0.16666666666666666,\n",
              " 'sufrido': 0.16666666666666666,\n",
              " 'tire': 0.16666666666666666,\n",
              " 'trata': 0.16666666666666666,\n",
              " 'ver': 0.16666666666666666,\n",
              " 'verdad': 0.3333333333333333,\n",
              " 'versión': 0.16666666666666666,\n",
              " 'vez': 0.16666666666666666,\n",
              " 'vi': 0.16666666666666666,\n",
              " 'video': 0.16666666666666666,\n",
              " 'viendo': 0.16666666666666666,\n",
              " 'visto': 0.16666666666666666}"
            ]
          },
          "metadata": {},
          "execution_count": 34
        }
      ]
    },
    {
      "cell_type": "code",
      "source": [
        "nltk.download('punkt')"
      ],
      "metadata": {
        "colab": {
          "base_uri": "https://localhost:8080/"
        },
        "id": "WkE9saCwQEW3",
        "outputId": "0018846d-7338-4fff-d931-208d831b1fa6"
      },
      "execution_count": 36,
      "outputs": [
        {
          "output_type": "stream",
          "name": "stderr",
          "text": [
            "[nltk_data] Downloading package punkt to /root/nltk_data...\n",
            "[nltk_data]   Unzipping tokenizers/punkt.zip.\n"
          ]
        },
        {
          "output_type": "execute_result",
          "data": {
            "text/plain": [
              "True"
            ]
          },
          "metadata": {},
          "execution_count": 36
        }
      ]
    },
    {
      "cell_type": "code",
      "source": [
        "sent_list = nltk.sent_tokenize(text)\n",
        "sent_list"
      ],
      "metadata": {
        "colab": {
          "base_uri": "https://localhost:8080/"
        },
        "id": "36he4Di7PITi",
        "outputId": "46e5803d-668e-4d2f-d80f-d2f7909e3cf9"
      },
      "execution_count": 37,
      "outputs": [
        {
          "output_type": "execute_result",
          "data": {
            "text/plain": [
              "['Chicharito Hernández, delantero del LA Galaxy, decidió salir a aclarar su versión de las recientes polémicas en las que se ha visto involucrado.',\n",
              " 'El mexicano dejó claro que \"nunca fue su intención\" Voy a empezar con uno que creo que se salió de contexto que es el de la bandera.',\n",
              " 'Lo vi y lo estuve platicando con mi familia y con mi gente, decidí no firmar la bandera y después de eso la verdad es que yo no         sabía que la tenía yo agarrada, según yo la tenía agarrada la persona que me la entregó.',\n",
              " 'Entonces no es que la tire, sino que la         quiero mover para seguir firmando más cosas y desafortunadamente la bandera se cayó, ni cuenta me di\", declaró Chicharito en un live         de su cuenta de Instagram.',\n",
              " 'El ex-jugador del Manchester United compartió que él siempre trata de mostrar su agradecimiento con el público         al brindar autógrafos y fotografías, estando \"de la mejor manera posible\".',\n",
              " 'Sin embargo, confesó que \"no siempre puede estar al 100%\".',\n",
              " 'Sosteniendo que \"la gente que en verdad lo conoce\" y que se han acercado a él saben como es en realidad.',\n",
              " '\"Obviamente el video de cuando         estoy saliendo del partido del Dallas y me niego a darle un autógrafo o una foto al niño.',\n",
              " 'Sabemos que eso es muy desafortunado y le pido         perdón a él y a su familia.',\n",
              " 'Estoy platicando ya con la gente del Galaxy para ver si podemos contactarlo para darle una foto, saludarlo,         regalarle una camiseta, invitarlo a un partido o algo\".',\n",
              " '\"Quería explicar un poquito esa situación porque, no es querer hablar de más,         pero la gente a la que me acerque estaban muy lejos del autobús.',\n",
              " 'Yo ya había estado firmándole a mucha gente después del partido y otra vez         que no estuve al 100, soy humano, soy muy pasional, cuando hay algo en mi cabeza se me queda mucho en la cabeza, quiero pedir una disculpa,         se me fue completamente.',\n",
              " 'Más que nada le dije que no porque yo estaba viendo más gente allá adelante que les quería firmar\".',\n",
              " 'Javier Hernández         expresó que su manera \"ruda\" de hablar se derivó de la derrota que su equipo había sufrido con un rival directo (1-0 ante Dallas).',\n",
              " 'El futbolista quiso enfatizar en el hecho de que \"nadie es perfecto\" y que no por el hecho de ser un futbolista profesional significa         que no pueda cometer errores.']"
            ]
          },
          "metadata": {},
          "execution_count": 37
        }
      ]
    },
    {
      "cell_type": "code",
      "source": [
        "sent_score = {}\n",
        "for sent in sent_list:\n",
        "  for word in nltk.word_tokenize(sent.lower()):\n",
        "    if word in word_freq.keys():\n",
        "      if sent not in sent_score.keys():\n",
        "        sent_score[sent] = word_freq[word]\n",
        "      else:\n",
        "        sent_score[sent] = sent_score[sent] + word_freq[word]"
      ],
      "metadata": {
        "id": "1Nid77yMQBhe"
      },
      "execution_count": 38,
      "outputs": []
    },
    {
      "cell_type": "code",
      "source": [
        "sent_score"
      ],
      "metadata": {
        "colab": {
          "base_uri": "https://localhost:8080/"
        },
        "id": "ah1zfISFQorn",
        "outputId": "89597a61-db83-4f8f-c871-4601213c64ab"
      },
      "execution_count": 39,
      "outputs": [
        {
          "output_type": "execute_result",
          "data": {
            "text/plain": [
              "{'\"Obviamente el video de cuando         estoy saliendo del partido del Dallas y me niego a darle un autógrafo o una foto al niño.': 2.0,\n",
              " '\"Quería explicar un poquito esa situación porque, no es querer hablar de más,         pero la gente a la que me acerque estaban muy lejos del autobús.': 2.666666666666666,\n",
              " 'Chicharito Hernández, delantero del LA Galaxy, decidió salir a aclarar su versión de las recientes polémicas en las que se ha visto involucrado.': 1.5,\n",
              " 'El ex-jugador del Manchester United compartió que él siempre trata de mostrar su agradecimiento con el público         al brindar autógrafos y fotografías, estando \"de la mejor manera posible\".': 2.3333333333333335,\n",
              " 'El futbolista quiso enfatizar en el hecho de que \"nadie es perfecto\" y que no por el hecho de ser un futbolista profesional significa         que no pueda cometer errores.': 2.9999999999999996,\n",
              " 'El mexicano dejó claro que \"nunca fue su intención\" Voy a empezar con uno que creo que se salió de contexto que es el de la bandera.': 2.0,\n",
              " 'Entonces no es que la tire, sino que la         quiero mover para seguir firmando más cosas y desafortunadamente la bandera se cayó, ni cuenta me di\", declaró Chicharito en un live         de su cuenta de Instagram.': 3.333333333333333,\n",
              " 'Estoy platicando ya con la gente del Galaxy para ver si podemos contactarlo para darle una foto, saludarlo,         regalarle una camiseta, invitarlo a un partido o algo\".': 3.833333333333333,\n",
              " 'Javier Hernández         expresó que su manera \"ruda\" de hablar se derivó de la derrota que su equipo había sufrido con un rival directo (1-0 ante Dallas).': 2.0000000000000004,\n",
              " 'Lo vi y lo estuve platicando con mi familia y con mi gente, decidí no firmar la bandera y después de eso la verdad es que yo no         sabía que la tenía yo agarrada, según yo la tenía agarrada la persona que me la entregó.': 4.833333333333334,\n",
              " 'Más que nada le dije que no porque yo estaba viendo más gente allá adelante que les quería firmar\".': 2.166666666666667,\n",
              " 'Sabemos que eso es muy desafortunado y le pido         perdón a él y a su familia.': 0.8333333333333333,\n",
              " 'Sin embargo, confesó que \"no siempre puede estar al 100%\".': 1.1666666666666665,\n",
              " 'Sosteniendo que \"la gente que en verdad lo conoce\" y que se han acercado a él saben como es en realidad.': 2.0,\n",
              " 'Yo ya había estado firmándole a mucha gente después del partido y otra vez         que no estuve al 100, soy humano, soy muy pasional, cuando hay algo en mi cabeza se me queda mucho en la cabeza, quiero pedir una disculpa,         se me fue completamente.': 4.666666666666667}"
            ]
          },
          "metadata": {},
          "execution_count": 39
        }
      ]
    },
    {
      "cell_type": "code",
      "source": [
        "summary_sents = nlargest(lenght, sent_score, key=sent_score.get)\n",
        "summary_sents"
      ],
      "metadata": {
        "colab": {
          "base_uri": "https://localhost:8080/"
        },
        "id": "-fQgzuzBQu5K",
        "outputId": "8dcd6212-f7c6-4178-a948-8693fd6399f5"
      },
      "execution_count": 40,
      "outputs": [
        {
          "output_type": "execute_result",
          "data": {
            "text/plain": [
              "['Lo vi y lo estuve platicando con mi familia y con mi gente, decidí no firmar la bandera y después de eso la verdad es que yo no         sabía que la tenía yo agarrada, según yo la tenía agarrada la persona que me la entregó.']"
            ]
          },
          "metadata": {},
          "execution_count": 40
        }
      ]
    },
    {
      "cell_type": "code",
      "source": [
        "summary = ' '.join(summary_sents)\n",
        "summary"
      ],
      "metadata": {
        "colab": {
          "base_uri": "https://localhost:8080/",
          "height": 53
        },
        "id": "6jfJ-AcHQ3Xx",
        "outputId": "e5c63da4-8fec-42d0-b2fb-0baec393aa42"
      },
      "execution_count": 41,
      "outputs": [
        {
          "output_type": "execute_result",
          "data": {
            "text/plain": [
              "'Lo vi y lo estuve platicando con mi familia y con mi gente, decidí no firmar la bandera y después de eso la verdad es que yo no         sabía que la tenía yo agarrada, según yo la tenía agarrada la persona que me la entregó.'"
            ],
            "application/vnd.google.colaboratory.intrinsic+json": {
              "type": "string"
            }
          },
          "metadata": {},
          "execution_count": 41
        }
      ]
    },
    {
      "cell_type": "code",
      "source": [
        "text = \"El consumidor mexicano está preocupado por la inflación y la situación económica, \\\n",
        "        pero no ha bajado su consumo y está recuperando las ganas de pedir prestado. \\\n",
        "        Los datos de ventas de mayo nos entregan una fotografía que es todo un reto para interpretar: \\\n",
        "        crecen las ventas de ropa, calzado y bisutería, pero caen las de abarrotes, alimentos y bebidas. \\\n",
        "        Con estas señales contradictorias que emiten los hogares mexicanos, los expertos tienen derecho a preguntarse: \\\n",
        "        ¿estamos locos o super lúcidos? ¿vamos con rumbo a la recuperación o nos enfilamos hacia una recesión? \\\n",
        "        Entender a los consumidores y observar su comportamiento resulta fundamental para anticipar lo que pasará en la economía y los negocios. \\\n",
        "        El consumo privado representa dos tercios del Producto Interno Bruto. \\\n",
        "        Si solo consideramos los fríos números de las cuentas nacionales, \\\n",
        "        podemos decir que la aportación de los consumidores a la economía es tres o cuatro veces más grande que la inversión privada y más de 20 veces mayor \\\n",
        "        que la inversión del Gobierno. \\\n",
        "        El barómetro más importante del estado de ánimo de este actor económico tan relevante es la encuesta de confianza de los consumidores, del INEGI. \\\n",
        "        En el tablero de control de este instrumento se han encendido señales de alerta, porque el índice de confianza del consumidor lleva tres meses consecutivos a la baja. \\\n",
        "        En julio tuvo una reducción de 1.7 puntos y se encuentra en un nivel de 41.3. Para ponerlo en perspectiva, estaba en 44.2 en mayo. \\\n",
        "        El nivel más bajo registrado en la última década fue en mayo de 2020, cuando tocó un piso de 31.2. Esa es la fotografía de un momento en el que comenzaba la pandemia del covid y la economía operaba en condiciones de restricciones muy severas. El índice de confianza de los consumidores se construye a partir de las respuestas que ofrecen los encuestados en una muestra de 2,336 viviendas urbanas, en 32 ciudades. En dos preguntas se registra con mas fuerza la pérdida de confianza de los consumidores, ¿cómo cree que se comporten los precios en el país los próximos 12 meses? Y la situación económica personal esperada dentro de 12 meses. La tercer pregunta donde hay un “bajón” significativo en el ánimo tiene que ver con lo que piensan los consumidores que será la situación del empleo en los próximos 12 meses. Está claro que están nerviosos por las perspectivas económicas y preocupados por la inflación, lo paradójico es que esto no se nota en las ventas de los establecimientos comerciales. En la Asociación Nacional de Tiendas de Autoservicio y Departamentales (ANTAD), las cifras de junio registran un incremento de 9% en las ventas, respecto al mismo mes del 2021. La encuesta de ventas a las empresas comerciales que hace el INEGI también trae números positivos. Registra un crecimiento sostenido desde mayo de 2020 hasta mayo de 2022. \\\n",
        "        La “fotografía” más reciente del comercio corresponde al quinto mes del año en curso. El crecimiento promedio es 5.2%, con variaciones muy significativas en ese promedio. En Campeche, hay una caída de 10.7% y en Sinaloa, un crecimiento de 25 por ciento. Todo en comparación con mayo del 2021. Las ventas de productos textiles, bisutería, accesorios de vestir y calzado subieron 11.9%, mientras que las ventas de abarrotes, alimentos, bebida y tabaco cayeron 4.5%, respecto a mayo de 2021. El segundo rubro que más creció incluye artículos para el esparcimiento, subió 9.2%, en contrapartida, el segundo renglón que más cayó es el de artículos para el cuidado de la salud, que registró un decrecimiento de 1.5 por ciento. Los datos que ofrecen las ventas por tipos de artículos no parecen ser muy lógicos, pero el comportamiento económico no tiene por qué ser el paradigma de la racionalidad. En un contexto de inflación y enfriamiento del mercado laboral, los consumidores están abriendo la cartera para mejorar su guardarropa y se dan el gusto de reactivar su gasto en esparcimiento. En teoría, los gastos en lo básico son irreductibles, pero vemos una reducción en las ventas de abarrotes, bebidas y tabaco. Para entender y explicar estas paradojas, ¿necesitamos psicólogos, novelistas u otro tipo de economistas?\""
      ],
      "metadata": {
        "id": "OSnkoomRQ-V4"
      },
      "execution_count": 60,
      "outputs": []
    },
    {
      "cell_type": "code",
      "source": [
        "text.count('. '), text.count('.')"
      ],
      "metadata": {
        "colab": {
          "base_uri": "https://localhost:8080/"
        },
        "id": "ZkqmHOZhVHSh",
        "outputId": "e4c596c6-496b-4ef9-e277-7c69d40cb08c"
      },
      "execution_count": 61,
      "outputs": [
        {
          "output_type": "execute_result",
          "data": {
            "text/plain": [
              "(27, 37)"
            ]
          },
          "metadata": {},
          "execution_count": 61
        }
      ]
    },
    {
      "cell_type": "code",
      "source": [
        "if text.count('. ') > 20:\n",
        "  lenght = int(round(text.count('. ')/10,0))\n",
        "else:\n",
        "  lenght = 1"
      ],
      "metadata": {
        "id": "ncW1CJQuU1Al"
      },
      "execution_count": 62,
      "outputs": []
    },
    {
      "cell_type": "code",
      "source": [
        "lenght"
      ],
      "metadata": {
        "colab": {
          "base_uri": "https://localhost:8080/"
        },
        "id": "aZ8zQwtmVwfA",
        "outputId": "37b7cf5d-121d-4dcb-ed97-ccca787c8d79"
      },
      "execution_count": 63,
      "outputs": [
        {
          "output_type": "execute_result",
          "data": {
            "text/plain": [
              "3"
            ]
          },
          "metadata": {},
          "execution_count": 63
        }
      ]
    },
    {
      "cell_type": "code",
      "source": [
        "nopuch = [char for char in text if char not in string.punctuation]\n",
        "nopuch = ''.join(nopuch)\n",
        "nopuch"
      ],
      "metadata": {
        "colab": {
          "base_uri": "https://localhost:8080/",
          "height": 123
        },
        "id": "0iPdG53AV2W4",
        "outputId": "c65cef1b-ecb9-433e-b3a4-722221a2705e"
      },
      "execution_count": 64,
      "outputs": [
        {
          "output_type": "execute_result",
          "data": {
            "text/plain": [
              "'El consumidor mexicano está preocupado por la inflación y la situación económica         pero no ha bajado su consumo y está recuperando las ganas de pedir prestado         Los datos de ventas de mayo nos entregan una fotografía que es todo un reto para interpretar         crecen las ventas de ropa calzado y bisutería pero caen las de abarrotes alimentos y bebidas         Con estas señales contradictorias que emiten los hogares mexicanos los expertos tienen derecho a preguntarse         ¿estamos locos o super lúcidos ¿vamos con rumbo a la recuperación o nos enfilamos hacia una recesión         Entender a los consumidores y observar su comportamiento resulta fundamental para anticipar lo que pasará en la economía y los negocios         El consumo privado representa dos tercios del Producto Interno Bruto         Si solo consideramos los fríos números de las cuentas nacionales         podemos decir que la aportación de los consumidores a la economía es tres o cuatro veces más grande que la inversión privada y más de 20 veces mayor         que la inversión del Gobierno         El barómetro más importante del estado de ánimo de este actor económico tan relevante es la encuesta de confianza de los consumidores del INEGI         En el tablero de control de este instrumento se han encendido señales de alerta porque el índice de confianza del consumidor lleva tres meses consecutivos a la baja         En julio tuvo una reducción de 17 puntos y se encuentra en un nivel de 413 Para ponerlo en perspectiva estaba en 442 en mayo         El nivel más bajo registrado en la última década fue en mayo de 2020 cuando tocó un piso de 312 Esa es la fotografía de un momento en el que comenzaba la pandemia del covid y la economía operaba en condiciones de restricciones muy severas El índice de confianza de los consumidores se construye a partir de las respuestas que ofrecen los encuestados en una muestra de 2336 viviendas urbanas en 32 ciudades En dos preguntas se registra con mas fuerza la pérdida de confianza de los consumidores ¿cómo cree que se comporten los precios en el país los próximos 12 meses Y la situación económica personal esperada dentro de 12 meses La tercer pregunta donde hay un “bajón” significativo en el ánimo tiene que ver con lo que piensan los consumidores que será la situación del empleo en los próximos 12 meses Está claro que están nerviosos por las perspectivas económicas y preocupados por la inflación lo paradójico es que esto no se nota en las ventas de los establecimientos comerciales En la Asociación Nacional de Tiendas de Autoservicio y Departamentales ANTAD las cifras de junio registran un incremento de 9 en las ventas respecto al mismo mes del 2021 La encuesta de ventas a las empresas comerciales que hace el INEGI también trae números positivos Registra un crecimiento sostenido desde mayo de 2020 hasta mayo de 2022         La “fotografía” más reciente del comercio corresponde al quinto mes del año en curso El crecimiento promedio es 52 con variaciones muy significativas en ese promedio En Campeche hay una caída de 107 y en Sinaloa un crecimiento de 25 por ciento Todo en comparación con mayo del 2021 Las ventas de productos textiles bisutería accesorios de vestir y calzado subieron 119 mientras que las ventas de abarrotes alimentos bebida y tabaco cayeron 45 respecto a mayo de 2021 El segundo rubro que más creció incluye artículos para el esparcimiento subió 92 en contrapartida el segundo renglón que más cayó es el de artículos para el cuidado de la salud que registró un decrecimiento de 15 por ciento Los datos que ofrecen las ventas por tipos de artículos no parecen ser muy lógicos pero el comportamiento económico no tiene por qué ser el paradigma de la racionalidad En un contexto de inflación y enfriamiento del mercado laboral los consumidores están abriendo la cartera para mejorar su guardarropa y se dan el gusto de reactivar su gasto en esparcimiento En teoría los gastos en lo básico son irreductibles pero vemos una reducción en las ventas de abarrotes bebidas y tabaco Para entender y explicar estas paradojas ¿necesitamos psicólogos novelistas u otro tipo de economistas'"
            ],
            "application/vnd.google.colaboratory.intrinsic+json": {
              "type": "string"
            }
          },
          "metadata": {},
          "execution_count": 64
        }
      ]
    },
    {
      "cell_type": "code",
      "source": [
        "processed_text = [word for word in nopuch.split() if word.lower() not in nltk.corpus.stopwords.words('spanish')]\n",
        "processed_text"
      ],
      "metadata": {
        "colab": {
          "base_uri": "https://localhost:8080/"
        },
        "id": "FKHDoudvV_9U",
        "outputId": "cf221101-be44-4ca1-d44f-35b291050e8a"
      },
      "execution_count": 65,
      "outputs": [
        {
          "output_type": "execute_result",
          "data": {
            "text/plain": [
              "['consumidor',\n",
              " 'mexicano',\n",
              " 'preocupado',\n",
              " 'inflación',\n",
              " 'situación',\n",
              " 'económica',\n",
              " 'bajado',\n",
              " 'consumo',\n",
              " 'recuperando',\n",
              " 'ganas',\n",
              " 'pedir',\n",
              " 'prestado',\n",
              " 'datos',\n",
              " 'ventas',\n",
              " 'mayo',\n",
              " 'entregan',\n",
              " 'fotografía',\n",
              " 'reto',\n",
              " 'interpretar',\n",
              " 'crecen',\n",
              " 'ventas',\n",
              " 'ropa',\n",
              " 'calzado',\n",
              " 'bisutería',\n",
              " 'caen',\n",
              " 'abarrotes',\n",
              " 'alimentos',\n",
              " 'bebidas',\n",
              " 'señales',\n",
              " 'contradictorias',\n",
              " 'emiten',\n",
              " 'hogares',\n",
              " 'mexicanos',\n",
              " 'expertos',\n",
              " 'derecho',\n",
              " 'preguntarse',\n",
              " '¿estamos',\n",
              " 'locos',\n",
              " 'super',\n",
              " 'lúcidos',\n",
              " '¿vamos',\n",
              " 'rumbo',\n",
              " 'recuperación',\n",
              " 'enfilamos',\n",
              " 'hacia',\n",
              " 'recesión',\n",
              " 'Entender',\n",
              " 'consumidores',\n",
              " 'observar',\n",
              " 'comportamiento',\n",
              " 'resulta',\n",
              " 'fundamental',\n",
              " 'anticipar',\n",
              " 'pasará',\n",
              " 'economía',\n",
              " 'negocios',\n",
              " 'consumo',\n",
              " 'privado',\n",
              " 'representa',\n",
              " 'dos',\n",
              " 'tercios',\n",
              " 'Producto',\n",
              " 'Interno',\n",
              " 'Bruto',\n",
              " 'Si',\n",
              " 'solo',\n",
              " 'consideramos',\n",
              " 'fríos',\n",
              " 'números',\n",
              " 'cuentas',\n",
              " 'nacionales',\n",
              " 'podemos',\n",
              " 'decir',\n",
              " 'aportación',\n",
              " 'consumidores',\n",
              " 'economía',\n",
              " 'tres',\n",
              " 'cuatro',\n",
              " 'veces',\n",
              " 'grande',\n",
              " 'inversión',\n",
              " 'privada',\n",
              " '20',\n",
              " 'veces',\n",
              " 'mayor',\n",
              " 'inversión',\n",
              " 'Gobierno',\n",
              " 'barómetro',\n",
              " 'importante',\n",
              " 'ánimo',\n",
              " 'actor',\n",
              " 'económico',\n",
              " 'tan',\n",
              " 'relevante',\n",
              " 'encuesta',\n",
              " 'confianza',\n",
              " 'consumidores',\n",
              " 'INEGI',\n",
              " 'tablero',\n",
              " 'control',\n",
              " 'instrumento',\n",
              " 'encendido',\n",
              " 'señales',\n",
              " 'alerta',\n",
              " 'índice',\n",
              " 'confianza',\n",
              " 'consumidor',\n",
              " 'lleva',\n",
              " 'tres',\n",
              " 'meses',\n",
              " 'consecutivos',\n",
              " 'baja',\n",
              " 'julio',\n",
              " 'reducción',\n",
              " '17',\n",
              " 'puntos',\n",
              " 'encuentra',\n",
              " 'nivel',\n",
              " '413',\n",
              " 'ponerlo',\n",
              " 'perspectiva',\n",
              " '442',\n",
              " 'mayo',\n",
              " 'nivel',\n",
              " 'bajo',\n",
              " 'registrado',\n",
              " 'última',\n",
              " 'década',\n",
              " 'mayo',\n",
              " '2020',\n",
              " 'tocó',\n",
              " 'piso',\n",
              " '312',\n",
              " 'fotografía',\n",
              " 'momento',\n",
              " 'comenzaba',\n",
              " 'pandemia',\n",
              " 'covid',\n",
              " 'economía',\n",
              " 'operaba',\n",
              " 'condiciones',\n",
              " 'restricciones',\n",
              " 'severas',\n",
              " 'índice',\n",
              " 'confianza',\n",
              " 'consumidores',\n",
              " 'construye',\n",
              " 'partir',\n",
              " 'respuestas',\n",
              " 'ofrecen',\n",
              " 'encuestados',\n",
              " 'muestra',\n",
              " '2336',\n",
              " 'viviendas',\n",
              " 'urbanas',\n",
              " '32',\n",
              " 'ciudades',\n",
              " 'dos',\n",
              " 'preguntas',\n",
              " 'registra',\n",
              " 'mas',\n",
              " 'fuerza',\n",
              " 'pérdida',\n",
              " 'confianza',\n",
              " 'consumidores',\n",
              " '¿cómo',\n",
              " 'cree',\n",
              " 'comporten',\n",
              " 'precios',\n",
              " 'país',\n",
              " 'próximos',\n",
              " '12',\n",
              " 'meses',\n",
              " 'situación',\n",
              " 'económica',\n",
              " 'personal',\n",
              " 'esperada',\n",
              " 'dentro',\n",
              " '12',\n",
              " 'meses',\n",
              " 'tercer',\n",
              " 'pregunta',\n",
              " '“bajón”',\n",
              " 'significativo',\n",
              " 'ánimo',\n",
              " 'ver',\n",
              " 'piensan',\n",
              " 'consumidores',\n",
              " 'situación',\n",
              " 'empleo',\n",
              " 'próximos',\n",
              " '12',\n",
              " 'meses',\n",
              " 'claro',\n",
              " 'nerviosos',\n",
              " 'perspectivas',\n",
              " 'económicas',\n",
              " 'preocupados',\n",
              " 'inflación',\n",
              " 'paradójico',\n",
              " 'nota',\n",
              " 'ventas',\n",
              " 'establecimientos',\n",
              " 'comerciales',\n",
              " 'Asociación',\n",
              " 'Nacional',\n",
              " 'Tiendas',\n",
              " 'Autoservicio',\n",
              " 'Departamentales',\n",
              " 'ANTAD',\n",
              " 'cifras',\n",
              " 'junio',\n",
              " 'registran',\n",
              " 'incremento',\n",
              " '9',\n",
              " 'ventas',\n",
              " 'respecto',\n",
              " 'mismo',\n",
              " 'mes',\n",
              " '2021',\n",
              " 'encuesta',\n",
              " 'ventas',\n",
              " 'empresas',\n",
              " 'comerciales',\n",
              " 'hace',\n",
              " 'INEGI',\n",
              " 'trae',\n",
              " 'números',\n",
              " 'positivos',\n",
              " 'Registra',\n",
              " 'crecimiento',\n",
              " 'sostenido',\n",
              " 'mayo',\n",
              " '2020',\n",
              " 'mayo',\n",
              " '2022',\n",
              " '“fotografía”',\n",
              " 'reciente',\n",
              " 'comercio',\n",
              " 'corresponde',\n",
              " 'quinto',\n",
              " 'mes',\n",
              " 'año',\n",
              " 'curso',\n",
              " 'crecimiento',\n",
              " 'promedio',\n",
              " '52',\n",
              " 'variaciones',\n",
              " 'significativas',\n",
              " 'promedio',\n",
              " 'Campeche',\n",
              " 'caída',\n",
              " '107',\n",
              " 'Sinaloa',\n",
              " 'crecimiento',\n",
              " '25',\n",
              " 'ciento',\n",
              " 'comparación',\n",
              " 'mayo',\n",
              " '2021',\n",
              " 'ventas',\n",
              " 'productos',\n",
              " 'textiles',\n",
              " 'bisutería',\n",
              " 'accesorios',\n",
              " 'vestir',\n",
              " 'calzado',\n",
              " 'subieron',\n",
              " '119',\n",
              " 'mientras',\n",
              " 'ventas',\n",
              " 'abarrotes',\n",
              " 'alimentos',\n",
              " 'bebida',\n",
              " 'tabaco',\n",
              " 'cayeron',\n",
              " '45',\n",
              " 'respecto',\n",
              " 'mayo',\n",
              " '2021',\n",
              " 'segundo',\n",
              " 'rubro',\n",
              " 'creció',\n",
              " 'incluye',\n",
              " 'artículos',\n",
              " 'esparcimiento',\n",
              " 'subió',\n",
              " '92',\n",
              " 'contrapartida',\n",
              " 'segundo',\n",
              " 'renglón',\n",
              " 'cayó',\n",
              " 'artículos',\n",
              " 'cuidado',\n",
              " 'salud',\n",
              " 'registró',\n",
              " 'decrecimiento',\n",
              " '15',\n",
              " 'ciento',\n",
              " 'datos',\n",
              " 'ofrecen',\n",
              " 'ventas',\n",
              " 'tipos',\n",
              " 'artículos',\n",
              " 'parecen',\n",
              " 'ser',\n",
              " 'lógicos',\n",
              " 'comportamiento',\n",
              " 'económico',\n",
              " 'ser',\n",
              " 'paradigma',\n",
              " 'racionalidad',\n",
              " 'contexto',\n",
              " 'inflación',\n",
              " 'enfriamiento',\n",
              " 'mercado',\n",
              " 'laboral',\n",
              " 'consumidores',\n",
              " 'abriendo',\n",
              " 'cartera',\n",
              " 'mejorar',\n",
              " 'guardarropa',\n",
              " 'dan',\n",
              " 'gusto',\n",
              " 'reactivar',\n",
              " 'gasto',\n",
              " 'esparcimiento',\n",
              " 'teoría',\n",
              " 'gastos',\n",
              " 'básico',\n",
              " 'irreductibles',\n",
              " 'vemos',\n",
              " 'reducción',\n",
              " 'ventas',\n",
              " 'abarrotes',\n",
              " 'bebidas',\n",
              " 'tabaco',\n",
              " 'entender',\n",
              " 'explicar',\n",
              " 'paradojas',\n",
              " '¿necesitamos',\n",
              " 'psicólogos',\n",
              " 'novelistas',\n",
              " 'u',\n",
              " 'tipo',\n",
              " 'economistas']"
            ]
          },
          "metadata": {},
          "execution_count": 65
        }
      ]
    },
    {
      "cell_type": "code",
      "source": [
        "word_freq = {}\n",
        "for word in processed_text:\n",
        "  if word not in word_freq:\n",
        "    word_freq[word] = 1\n",
        "  else:\n",
        "    word_freq[word] = word_freq[word] + 1\n",
        "word_freq"
      ],
      "metadata": {
        "colab": {
          "base_uri": "https://localhost:8080/"
        },
        "id": "qYMnvlHIWQ4m",
        "outputId": "b0eaa948-a334-46f7-e168-92d383e6b615"
      },
      "execution_count": 66,
      "outputs": [
        {
          "output_type": "execute_result",
          "data": {
            "text/plain": [
              "{'107': 1,\n",
              " '119': 1,\n",
              " '12': 3,\n",
              " '15': 1,\n",
              " '17': 1,\n",
              " '20': 1,\n",
              " '2020': 2,\n",
              " '2021': 3,\n",
              " '2022': 1,\n",
              " '2336': 1,\n",
              " '25': 1,\n",
              " '312': 1,\n",
              " '32': 1,\n",
              " '413': 1,\n",
              " '442': 1,\n",
              " '45': 1,\n",
              " '52': 1,\n",
              " '9': 1,\n",
              " '92': 1,\n",
              " 'ANTAD': 1,\n",
              " 'Asociación': 1,\n",
              " 'Autoservicio': 1,\n",
              " 'Bruto': 1,\n",
              " 'Campeche': 1,\n",
              " 'Departamentales': 1,\n",
              " 'Entender': 1,\n",
              " 'Gobierno': 1,\n",
              " 'INEGI': 2,\n",
              " 'Interno': 1,\n",
              " 'Nacional': 1,\n",
              " 'Producto': 1,\n",
              " 'Registra': 1,\n",
              " 'Si': 1,\n",
              " 'Sinaloa': 1,\n",
              " 'Tiendas': 1,\n",
              " 'abarrotes': 3,\n",
              " 'abriendo': 1,\n",
              " 'accesorios': 1,\n",
              " 'actor': 1,\n",
              " 'alerta': 1,\n",
              " 'alimentos': 2,\n",
              " 'anticipar': 1,\n",
              " 'aportación': 1,\n",
              " 'artículos': 3,\n",
              " 'año': 1,\n",
              " 'baja': 1,\n",
              " 'bajado': 1,\n",
              " 'bajo': 1,\n",
              " 'barómetro': 1,\n",
              " 'bebida': 1,\n",
              " 'bebidas': 2,\n",
              " 'bisutería': 2,\n",
              " 'básico': 1,\n",
              " 'caen': 1,\n",
              " 'calzado': 2,\n",
              " 'cartera': 1,\n",
              " 'cayeron': 1,\n",
              " 'cayó': 1,\n",
              " 'caída': 1,\n",
              " 'ciento': 2,\n",
              " 'cifras': 1,\n",
              " 'ciudades': 1,\n",
              " 'claro': 1,\n",
              " 'comenzaba': 1,\n",
              " 'comerciales': 2,\n",
              " 'comercio': 1,\n",
              " 'comparación': 1,\n",
              " 'comportamiento': 2,\n",
              " 'comporten': 1,\n",
              " 'condiciones': 1,\n",
              " 'confianza': 4,\n",
              " 'consecutivos': 1,\n",
              " 'consideramos': 1,\n",
              " 'construye': 1,\n",
              " 'consumidor': 2,\n",
              " 'consumidores': 7,\n",
              " 'consumo': 2,\n",
              " 'contexto': 1,\n",
              " 'contradictorias': 1,\n",
              " 'contrapartida': 1,\n",
              " 'control': 1,\n",
              " 'corresponde': 1,\n",
              " 'covid': 1,\n",
              " 'crecen': 1,\n",
              " 'crecimiento': 3,\n",
              " 'creció': 1,\n",
              " 'cree': 1,\n",
              " 'cuatro': 1,\n",
              " 'cuentas': 1,\n",
              " 'cuidado': 1,\n",
              " 'curso': 1,\n",
              " 'dan': 1,\n",
              " 'datos': 2,\n",
              " 'decir': 1,\n",
              " 'decrecimiento': 1,\n",
              " 'dentro': 1,\n",
              " 'derecho': 1,\n",
              " 'dos': 2,\n",
              " 'década': 1,\n",
              " 'economistas': 1,\n",
              " 'economía': 3,\n",
              " 'económica': 2,\n",
              " 'económicas': 1,\n",
              " 'económico': 2,\n",
              " 'emiten': 1,\n",
              " 'empleo': 1,\n",
              " 'empresas': 1,\n",
              " 'encendido': 1,\n",
              " 'encuentra': 1,\n",
              " 'encuesta': 2,\n",
              " 'encuestados': 1,\n",
              " 'enfilamos': 1,\n",
              " 'enfriamiento': 1,\n",
              " 'entender': 1,\n",
              " 'entregan': 1,\n",
              " 'esparcimiento': 2,\n",
              " 'esperada': 1,\n",
              " 'establecimientos': 1,\n",
              " 'expertos': 1,\n",
              " 'explicar': 1,\n",
              " 'fotografía': 2,\n",
              " 'fríos': 1,\n",
              " 'fuerza': 1,\n",
              " 'fundamental': 1,\n",
              " 'ganas': 1,\n",
              " 'gasto': 1,\n",
              " 'gastos': 1,\n",
              " 'grande': 1,\n",
              " 'guardarropa': 1,\n",
              " 'gusto': 1,\n",
              " 'hace': 1,\n",
              " 'hacia': 1,\n",
              " 'hogares': 1,\n",
              " 'importante': 1,\n",
              " 'incluye': 1,\n",
              " 'incremento': 1,\n",
              " 'inflación': 3,\n",
              " 'instrumento': 1,\n",
              " 'interpretar': 1,\n",
              " 'inversión': 2,\n",
              " 'irreductibles': 1,\n",
              " 'julio': 1,\n",
              " 'junio': 1,\n",
              " 'laboral': 1,\n",
              " 'lleva': 1,\n",
              " 'locos': 1,\n",
              " 'lógicos': 1,\n",
              " 'lúcidos': 1,\n",
              " 'mas': 1,\n",
              " 'mayo': 7,\n",
              " 'mayor': 1,\n",
              " 'mejorar': 1,\n",
              " 'mercado': 1,\n",
              " 'mes': 2,\n",
              " 'meses': 4,\n",
              " 'mexicano': 1,\n",
              " 'mexicanos': 1,\n",
              " 'mientras': 1,\n",
              " 'mismo': 1,\n",
              " 'momento': 1,\n",
              " 'muestra': 1,\n",
              " 'nacionales': 1,\n",
              " 'negocios': 1,\n",
              " 'nerviosos': 1,\n",
              " 'nivel': 2,\n",
              " 'nota': 1,\n",
              " 'novelistas': 1,\n",
              " 'números': 2,\n",
              " 'observar': 1,\n",
              " 'ofrecen': 2,\n",
              " 'operaba': 1,\n",
              " 'pandemia': 1,\n",
              " 'paradigma': 1,\n",
              " 'paradojas': 1,\n",
              " 'paradójico': 1,\n",
              " 'parecen': 1,\n",
              " 'partir': 1,\n",
              " 'pasará': 1,\n",
              " 'país': 1,\n",
              " 'pedir': 1,\n",
              " 'personal': 1,\n",
              " 'perspectiva': 1,\n",
              " 'perspectivas': 1,\n",
              " 'piensan': 1,\n",
              " 'piso': 1,\n",
              " 'podemos': 1,\n",
              " 'ponerlo': 1,\n",
              " 'positivos': 1,\n",
              " 'precios': 1,\n",
              " 'pregunta': 1,\n",
              " 'preguntarse': 1,\n",
              " 'preguntas': 1,\n",
              " 'preocupado': 1,\n",
              " 'preocupados': 1,\n",
              " 'prestado': 1,\n",
              " 'privada': 1,\n",
              " 'privado': 1,\n",
              " 'productos': 1,\n",
              " 'promedio': 2,\n",
              " 'próximos': 2,\n",
              " 'psicólogos': 1,\n",
              " 'puntos': 1,\n",
              " 'pérdida': 1,\n",
              " 'quinto': 1,\n",
              " 'racionalidad': 1,\n",
              " 'reactivar': 1,\n",
              " 'recesión': 1,\n",
              " 'reciente': 1,\n",
              " 'recuperación': 1,\n",
              " 'recuperando': 1,\n",
              " 'reducción': 2,\n",
              " 'registra': 1,\n",
              " 'registrado': 1,\n",
              " 'registran': 1,\n",
              " 'registró': 1,\n",
              " 'relevante': 1,\n",
              " 'renglón': 1,\n",
              " 'representa': 1,\n",
              " 'respecto': 2,\n",
              " 'respuestas': 1,\n",
              " 'restricciones': 1,\n",
              " 'resulta': 1,\n",
              " 'reto': 1,\n",
              " 'ropa': 1,\n",
              " 'rubro': 1,\n",
              " 'rumbo': 1,\n",
              " 'salud': 1,\n",
              " 'segundo': 2,\n",
              " 'ser': 2,\n",
              " 'severas': 1,\n",
              " 'señales': 2,\n",
              " 'significativas': 1,\n",
              " 'significativo': 1,\n",
              " 'situación': 3,\n",
              " 'solo': 1,\n",
              " 'sostenido': 1,\n",
              " 'subieron': 1,\n",
              " 'subió': 1,\n",
              " 'super': 1,\n",
              " 'tabaco': 2,\n",
              " 'tablero': 1,\n",
              " 'tan': 1,\n",
              " 'teoría': 1,\n",
              " 'tercer': 1,\n",
              " 'tercios': 1,\n",
              " 'textiles': 1,\n",
              " 'tipo': 1,\n",
              " 'tipos': 1,\n",
              " 'tocó': 1,\n",
              " 'trae': 1,\n",
              " 'tres': 2,\n",
              " 'u': 1,\n",
              " 'urbanas': 1,\n",
              " 'variaciones': 1,\n",
              " 'veces': 2,\n",
              " 'vemos': 1,\n",
              " 'ventas': 9,\n",
              " 'ver': 1,\n",
              " 'vestir': 1,\n",
              " 'viviendas': 1,\n",
              " '¿cómo': 1,\n",
              " '¿estamos': 1,\n",
              " '¿necesitamos': 1,\n",
              " '¿vamos': 1,\n",
              " 'ánimo': 2,\n",
              " 'índice': 2,\n",
              " 'última': 1,\n",
              " '“bajón”': 1,\n",
              " '“fotografía”': 1}"
            ]
          },
          "metadata": {},
          "execution_count": 66
        }
      ]
    },
    {
      "cell_type": "code",
      "source": [
        "max_freq = max(word_freq.values())\n",
        "for word in word_freq.keys():\n",
        "  word_freq[word] = (word_freq[word]/max_freq)\n",
        "word_freq"
      ],
      "metadata": {
        "colab": {
          "base_uri": "https://localhost:8080/"
        },
        "id": "NVxzugvhWrFh",
        "outputId": "c4a4788c-97f4-455f-c702-b84f83903443"
      },
      "execution_count": 67,
      "outputs": [
        {
          "output_type": "execute_result",
          "data": {
            "text/plain": [
              "{'107': 0.1111111111111111,\n",
              " '119': 0.1111111111111111,\n",
              " '12': 0.3333333333333333,\n",
              " '15': 0.1111111111111111,\n",
              " '17': 0.1111111111111111,\n",
              " '20': 0.1111111111111111,\n",
              " '2020': 0.2222222222222222,\n",
              " '2021': 0.3333333333333333,\n",
              " '2022': 0.1111111111111111,\n",
              " '2336': 0.1111111111111111,\n",
              " '25': 0.1111111111111111,\n",
              " '312': 0.1111111111111111,\n",
              " '32': 0.1111111111111111,\n",
              " '413': 0.1111111111111111,\n",
              " '442': 0.1111111111111111,\n",
              " '45': 0.1111111111111111,\n",
              " '52': 0.1111111111111111,\n",
              " '9': 0.1111111111111111,\n",
              " '92': 0.1111111111111111,\n",
              " 'ANTAD': 0.1111111111111111,\n",
              " 'Asociación': 0.1111111111111111,\n",
              " 'Autoservicio': 0.1111111111111111,\n",
              " 'Bruto': 0.1111111111111111,\n",
              " 'Campeche': 0.1111111111111111,\n",
              " 'Departamentales': 0.1111111111111111,\n",
              " 'Entender': 0.1111111111111111,\n",
              " 'Gobierno': 0.1111111111111111,\n",
              " 'INEGI': 0.2222222222222222,\n",
              " 'Interno': 0.1111111111111111,\n",
              " 'Nacional': 0.1111111111111111,\n",
              " 'Producto': 0.1111111111111111,\n",
              " 'Registra': 0.1111111111111111,\n",
              " 'Si': 0.1111111111111111,\n",
              " 'Sinaloa': 0.1111111111111111,\n",
              " 'Tiendas': 0.1111111111111111,\n",
              " 'abarrotes': 0.3333333333333333,\n",
              " 'abriendo': 0.1111111111111111,\n",
              " 'accesorios': 0.1111111111111111,\n",
              " 'actor': 0.1111111111111111,\n",
              " 'alerta': 0.1111111111111111,\n",
              " 'alimentos': 0.2222222222222222,\n",
              " 'anticipar': 0.1111111111111111,\n",
              " 'aportación': 0.1111111111111111,\n",
              " 'artículos': 0.3333333333333333,\n",
              " 'año': 0.1111111111111111,\n",
              " 'baja': 0.1111111111111111,\n",
              " 'bajado': 0.1111111111111111,\n",
              " 'bajo': 0.1111111111111111,\n",
              " 'barómetro': 0.1111111111111111,\n",
              " 'bebida': 0.1111111111111111,\n",
              " 'bebidas': 0.2222222222222222,\n",
              " 'bisutería': 0.2222222222222222,\n",
              " 'básico': 0.1111111111111111,\n",
              " 'caen': 0.1111111111111111,\n",
              " 'calzado': 0.2222222222222222,\n",
              " 'cartera': 0.1111111111111111,\n",
              " 'cayeron': 0.1111111111111111,\n",
              " 'cayó': 0.1111111111111111,\n",
              " 'caída': 0.1111111111111111,\n",
              " 'ciento': 0.2222222222222222,\n",
              " 'cifras': 0.1111111111111111,\n",
              " 'ciudades': 0.1111111111111111,\n",
              " 'claro': 0.1111111111111111,\n",
              " 'comenzaba': 0.1111111111111111,\n",
              " 'comerciales': 0.2222222222222222,\n",
              " 'comercio': 0.1111111111111111,\n",
              " 'comparación': 0.1111111111111111,\n",
              " 'comportamiento': 0.2222222222222222,\n",
              " 'comporten': 0.1111111111111111,\n",
              " 'condiciones': 0.1111111111111111,\n",
              " 'confianza': 0.4444444444444444,\n",
              " 'consecutivos': 0.1111111111111111,\n",
              " 'consideramos': 0.1111111111111111,\n",
              " 'construye': 0.1111111111111111,\n",
              " 'consumidor': 0.2222222222222222,\n",
              " 'consumidores': 0.7777777777777778,\n",
              " 'consumo': 0.2222222222222222,\n",
              " 'contexto': 0.1111111111111111,\n",
              " 'contradictorias': 0.1111111111111111,\n",
              " 'contrapartida': 0.1111111111111111,\n",
              " 'control': 0.1111111111111111,\n",
              " 'corresponde': 0.1111111111111111,\n",
              " 'covid': 0.1111111111111111,\n",
              " 'crecen': 0.1111111111111111,\n",
              " 'crecimiento': 0.3333333333333333,\n",
              " 'creció': 0.1111111111111111,\n",
              " 'cree': 0.1111111111111111,\n",
              " 'cuatro': 0.1111111111111111,\n",
              " 'cuentas': 0.1111111111111111,\n",
              " 'cuidado': 0.1111111111111111,\n",
              " 'curso': 0.1111111111111111,\n",
              " 'dan': 0.1111111111111111,\n",
              " 'datos': 0.2222222222222222,\n",
              " 'decir': 0.1111111111111111,\n",
              " 'decrecimiento': 0.1111111111111111,\n",
              " 'dentro': 0.1111111111111111,\n",
              " 'derecho': 0.1111111111111111,\n",
              " 'dos': 0.2222222222222222,\n",
              " 'década': 0.1111111111111111,\n",
              " 'economistas': 0.1111111111111111,\n",
              " 'economía': 0.3333333333333333,\n",
              " 'económica': 0.2222222222222222,\n",
              " 'económicas': 0.1111111111111111,\n",
              " 'económico': 0.2222222222222222,\n",
              " 'emiten': 0.1111111111111111,\n",
              " 'empleo': 0.1111111111111111,\n",
              " 'empresas': 0.1111111111111111,\n",
              " 'encendido': 0.1111111111111111,\n",
              " 'encuentra': 0.1111111111111111,\n",
              " 'encuesta': 0.2222222222222222,\n",
              " 'encuestados': 0.1111111111111111,\n",
              " 'enfilamos': 0.1111111111111111,\n",
              " 'enfriamiento': 0.1111111111111111,\n",
              " 'entender': 0.1111111111111111,\n",
              " 'entregan': 0.1111111111111111,\n",
              " 'esparcimiento': 0.2222222222222222,\n",
              " 'esperada': 0.1111111111111111,\n",
              " 'establecimientos': 0.1111111111111111,\n",
              " 'expertos': 0.1111111111111111,\n",
              " 'explicar': 0.1111111111111111,\n",
              " 'fotografía': 0.2222222222222222,\n",
              " 'fríos': 0.1111111111111111,\n",
              " 'fuerza': 0.1111111111111111,\n",
              " 'fundamental': 0.1111111111111111,\n",
              " 'ganas': 0.1111111111111111,\n",
              " 'gasto': 0.1111111111111111,\n",
              " 'gastos': 0.1111111111111111,\n",
              " 'grande': 0.1111111111111111,\n",
              " 'guardarropa': 0.1111111111111111,\n",
              " 'gusto': 0.1111111111111111,\n",
              " 'hace': 0.1111111111111111,\n",
              " 'hacia': 0.1111111111111111,\n",
              " 'hogares': 0.1111111111111111,\n",
              " 'importante': 0.1111111111111111,\n",
              " 'incluye': 0.1111111111111111,\n",
              " 'incremento': 0.1111111111111111,\n",
              " 'inflación': 0.3333333333333333,\n",
              " 'instrumento': 0.1111111111111111,\n",
              " 'interpretar': 0.1111111111111111,\n",
              " 'inversión': 0.2222222222222222,\n",
              " 'irreductibles': 0.1111111111111111,\n",
              " 'julio': 0.1111111111111111,\n",
              " 'junio': 0.1111111111111111,\n",
              " 'laboral': 0.1111111111111111,\n",
              " 'lleva': 0.1111111111111111,\n",
              " 'locos': 0.1111111111111111,\n",
              " 'lógicos': 0.1111111111111111,\n",
              " 'lúcidos': 0.1111111111111111,\n",
              " 'mas': 0.1111111111111111,\n",
              " 'mayo': 0.7777777777777778,\n",
              " 'mayor': 0.1111111111111111,\n",
              " 'mejorar': 0.1111111111111111,\n",
              " 'mercado': 0.1111111111111111,\n",
              " 'mes': 0.2222222222222222,\n",
              " 'meses': 0.4444444444444444,\n",
              " 'mexicano': 0.1111111111111111,\n",
              " 'mexicanos': 0.1111111111111111,\n",
              " 'mientras': 0.1111111111111111,\n",
              " 'mismo': 0.1111111111111111,\n",
              " 'momento': 0.1111111111111111,\n",
              " 'muestra': 0.1111111111111111,\n",
              " 'nacionales': 0.1111111111111111,\n",
              " 'negocios': 0.1111111111111111,\n",
              " 'nerviosos': 0.1111111111111111,\n",
              " 'nivel': 0.2222222222222222,\n",
              " 'nota': 0.1111111111111111,\n",
              " 'novelistas': 0.1111111111111111,\n",
              " 'números': 0.2222222222222222,\n",
              " 'observar': 0.1111111111111111,\n",
              " 'ofrecen': 0.2222222222222222,\n",
              " 'operaba': 0.1111111111111111,\n",
              " 'pandemia': 0.1111111111111111,\n",
              " 'paradigma': 0.1111111111111111,\n",
              " 'paradojas': 0.1111111111111111,\n",
              " 'paradójico': 0.1111111111111111,\n",
              " 'parecen': 0.1111111111111111,\n",
              " 'partir': 0.1111111111111111,\n",
              " 'pasará': 0.1111111111111111,\n",
              " 'país': 0.1111111111111111,\n",
              " 'pedir': 0.1111111111111111,\n",
              " 'personal': 0.1111111111111111,\n",
              " 'perspectiva': 0.1111111111111111,\n",
              " 'perspectivas': 0.1111111111111111,\n",
              " 'piensan': 0.1111111111111111,\n",
              " 'piso': 0.1111111111111111,\n",
              " 'podemos': 0.1111111111111111,\n",
              " 'ponerlo': 0.1111111111111111,\n",
              " 'positivos': 0.1111111111111111,\n",
              " 'precios': 0.1111111111111111,\n",
              " 'pregunta': 0.1111111111111111,\n",
              " 'preguntarse': 0.1111111111111111,\n",
              " 'preguntas': 0.1111111111111111,\n",
              " 'preocupado': 0.1111111111111111,\n",
              " 'preocupados': 0.1111111111111111,\n",
              " 'prestado': 0.1111111111111111,\n",
              " 'privada': 0.1111111111111111,\n",
              " 'privado': 0.1111111111111111,\n",
              " 'productos': 0.1111111111111111,\n",
              " 'promedio': 0.2222222222222222,\n",
              " 'próximos': 0.2222222222222222,\n",
              " 'psicólogos': 0.1111111111111111,\n",
              " 'puntos': 0.1111111111111111,\n",
              " 'pérdida': 0.1111111111111111,\n",
              " 'quinto': 0.1111111111111111,\n",
              " 'racionalidad': 0.1111111111111111,\n",
              " 'reactivar': 0.1111111111111111,\n",
              " 'recesión': 0.1111111111111111,\n",
              " 'reciente': 0.1111111111111111,\n",
              " 'recuperación': 0.1111111111111111,\n",
              " 'recuperando': 0.1111111111111111,\n",
              " 'reducción': 0.2222222222222222,\n",
              " 'registra': 0.1111111111111111,\n",
              " 'registrado': 0.1111111111111111,\n",
              " 'registran': 0.1111111111111111,\n",
              " 'registró': 0.1111111111111111,\n",
              " 'relevante': 0.1111111111111111,\n",
              " 'renglón': 0.1111111111111111,\n",
              " 'representa': 0.1111111111111111,\n",
              " 'respecto': 0.2222222222222222,\n",
              " 'respuestas': 0.1111111111111111,\n",
              " 'restricciones': 0.1111111111111111,\n",
              " 'resulta': 0.1111111111111111,\n",
              " 'reto': 0.1111111111111111,\n",
              " 'ropa': 0.1111111111111111,\n",
              " 'rubro': 0.1111111111111111,\n",
              " 'rumbo': 0.1111111111111111,\n",
              " 'salud': 0.1111111111111111,\n",
              " 'segundo': 0.2222222222222222,\n",
              " 'ser': 0.2222222222222222,\n",
              " 'severas': 0.1111111111111111,\n",
              " 'señales': 0.2222222222222222,\n",
              " 'significativas': 0.1111111111111111,\n",
              " 'significativo': 0.1111111111111111,\n",
              " 'situación': 0.3333333333333333,\n",
              " 'solo': 0.1111111111111111,\n",
              " 'sostenido': 0.1111111111111111,\n",
              " 'subieron': 0.1111111111111111,\n",
              " 'subió': 0.1111111111111111,\n",
              " 'super': 0.1111111111111111,\n",
              " 'tabaco': 0.2222222222222222,\n",
              " 'tablero': 0.1111111111111111,\n",
              " 'tan': 0.1111111111111111,\n",
              " 'teoría': 0.1111111111111111,\n",
              " 'tercer': 0.1111111111111111,\n",
              " 'tercios': 0.1111111111111111,\n",
              " 'textiles': 0.1111111111111111,\n",
              " 'tipo': 0.1111111111111111,\n",
              " 'tipos': 0.1111111111111111,\n",
              " 'tocó': 0.1111111111111111,\n",
              " 'trae': 0.1111111111111111,\n",
              " 'tres': 0.2222222222222222,\n",
              " 'u': 0.1111111111111111,\n",
              " 'urbanas': 0.1111111111111111,\n",
              " 'variaciones': 0.1111111111111111,\n",
              " 'veces': 0.2222222222222222,\n",
              " 'vemos': 0.1111111111111111,\n",
              " 'ventas': 1.0,\n",
              " 'ver': 0.1111111111111111,\n",
              " 'vestir': 0.1111111111111111,\n",
              " 'viviendas': 0.1111111111111111,\n",
              " '¿cómo': 0.1111111111111111,\n",
              " '¿estamos': 0.1111111111111111,\n",
              " '¿necesitamos': 0.1111111111111111,\n",
              " '¿vamos': 0.1111111111111111,\n",
              " 'ánimo': 0.2222222222222222,\n",
              " 'índice': 0.2222222222222222,\n",
              " 'última': 0.1111111111111111,\n",
              " '“bajón”': 0.1111111111111111,\n",
              " '“fotografía”': 0.1111111111111111}"
            ]
          },
          "metadata": {},
          "execution_count": 67
        }
      ]
    },
    {
      "cell_type": "code",
      "source": [
        "sent_list = nltk.sent_tokenize(text)\n",
        "sent_score = {}\n",
        "for sent in sent_list:\n",
        "  for word in nltk.word_tokenize(sent.lower()):\n",
        "    if word in word_freq.keys():\n",
        "      if sent not in sent_score.keys():\n",
        "        sent_score[sent] = word_freq[word]\n",
        "      else:\n",
        "        sent_score[sent] = sent_score[sent] + word_freq[word]"
      ],
      "metadata": {
        "id": "ShT_qXsAW2xE"
      },
      "execution_count": 69,
      "outputs": []
    },
    {
      "cell_type": "code",
      "source": [
        "sent_list"
      ],
      "metadata": {
        "colab": {
          "base_uri": "https://localhost:8080/"
        },
        "id": "O6TmPhuIX0WT",
        "outputId": "65f4d42b-c59c-4009-e4c3-b63d5c77688f"
      },
      "execution_count": 70,
      "outputs": [
        {
          "output_type": "execute_result",
          "data": {
            "text/plain": [
              "['El consumidor mexicano está preocupado por la inflación y la situación económica,         pero no ha bajado su consumo y está recuperando las ganas de pedir prestado.',\n",
              " 'Los datos de ventas de mayo nos entregan una fotografía que es todo un reto para interpretar:         crecen las ventas de ropa, calzado y bisutería, pero caen las de abarrotes, alimentos y bebidas.',\n",
              " 'Con estas señales contradictorias que emiten los hogares mexicanos, los expertos tienen derecho a preguntarse:         ¿estamos locos o super lúcidos?',\n",
              " '¿vamos con rumbo a la recuperación o nos enfilamos hacia una recesión?',\n",
              " 'Entender a los consumidores y observar su comportamiento resulta fundamental para anticipar lo que pasará en la economía y los negocios.',\n",
              " 'El consumo privado representa dos tercios del Producto Interno Bruto.',\n",
              " 'Si solo consideramos los fríos números de las cuentas nacionales,         podemos decir que la aportación de los consumidores a la economía es tres o cuatro veces más grande que la inversión privada y más de 20 veces mayor         que la inversión del Gobierno.',\n",
              " 'El barómetro más importante del estado de ánimo de este actor económico tan relevante es la encuesta de confianza de los consumidores, del INEGI.',\n",
              " 'En el tablero de control de este instrumento se han encendido señales de alerta, porque el índice de confianza del consumidor lleva tres meses consecutivos a la baja.',\n",
              " 'En julio tuvo una reducción de 1.7 puntos y se encuentra en un nivel de 41.3.',\n",
              " 'Para ponerlo en perspectiva, estaba en 44.2 en mayo.',\n",
              " 'El nivel más bajo registrado en la última década fue en mayo de 2020, cuando tocó un piso de 31.2.',\n",
              " 'Esa es la fotografía de un momento en el que comenzaba la pandemia del covid y la economía operaba en condiciones de restricciones muy severas.',\n",
              " 'El índice de confianza de los consumidores se construye a partir de las respuestas que ofrecen los encuestados en una muestra de 2,336 viviendas urbanas, en 32 ciudades.',\n",
              " 'En dos preguntas se registra con mas fuerza la pérdida de confianza de los consumidores, ¿cómo cree que se comporten los precios en el país los próximos 12 meses?',\n",
              " 'Y la situación económica personal esperada dentro de 12 meses.',\n",
              " 'La tercer pregunta donde hay un “bajón” significativo en el ánimo tiene que ver con lo que piensan los consumidores que será la situación del empleo en los próximos 12 meses.',\n",
              " 'Está claro que están nerviosos por las perspectivas económicas y preocupados por la inflación, lo paradójico es que esto no se nota en las ventas de los establecimientos comerciales.',\n",
              " 'En la Asociación Nacional de Tiendas de Autoservicio y Departamentales (ANTAD), las cifras de junio registran un incremento de 9% en las ventas, respecto al mismo mes del 2021.',\n",
              " 'La encuesta de ventas a las empresas comerciales que hace el INEGI también trae números positivos.',\n",
              " 'Registra un crecimiento sostenido desde mayo de 2020 hasta mayo de 2022.',\n",
              " 'La “fotografía” más reciente del comercio corresponde al quinto mes del año en curso.',\n",
              " 'El crecimiento promedio es 5.2%, con variaciones muy significativas en ese promedio.',\n",
              " 'En Campeche, hay una caída de 10.7% y en Sinaloa, un crecimiento de 25 por ciento.',\n",
              " 'Todo en comparación con mayo del 2021.',\n",
              " 'Las ventas de productos textiles, bisutería, accesorios de vestir y calzado subieron 11.9%, mientras que las ventas de abarrotes, alimentos, bebida y tabaco cayeron 4.5%, respecto a mayo de 2021.',\n",
              " 'El segundo rubro que más creció incluye artículos para el esparcimiento, subió 9.2%, en contrapartida, el segundo renglón que más cayó es el de artículos para el cuidado de la salud, que registró un decrecimiento de 1.5 por ciento.',\n",
              " 'Los datos que ofrecen las ventas por tipos de artículos no parecen ser muy lógicos, pero el comportamiento económico no tiene por qué ser el paradigma de la racionalidad.',\n",
              " 'En un contexto de inflación y enfriamiento del mercado laboral, los consumidores están abriendo la cartera para mejorar su guardarropa y se dan el gusto de reactivar su gasto en esparcimiento.',\n",
              " 'En teoría, los gastos en lo básico son irreductibles, pero vemos una reducción en las ventas de abarrotes, bebidas y tabaco.',\n",
              " 'Para entender y explicar estas paradojas, ¿necesitamos psicólogos, novelistas u otro tipo de economistas?']"
            ]
          },
          "metadata": {},
          "execution_count": 70
        }
      ]
    },
    {
      "cell_type": "code",
      "source": [
        "sent_score"
      ],
      "metadata": {
        "colab": {
          "base_uri": "https://localhost:8080/"
        },
        "id": "vmhjQsnCX_83",
        "outputId": "47008e78-7bf0-4a6e-91a1-b8b741f84fbf"
      },
      "execution_count": 71,
      "outputs": [
        {
          "output_type": "execute_result",
          "data": {
            "text/plain": [
              "{'Con estas señales contradictorias que emiten los hogares mexicanos, los expertos tienen derecho a preguntarse:         ¿estamos locos o super lúcidos?': 1.4444444444444449,\n",
              " 'El barómetro más importante del estado de ánimo de este actor económico tan relevante es la encuesta de confianza de los consumidores, del INEGI.': 2.4444444444444446,\n",
              " 'El consumidor mexicano está preocupado por la inflación y la situación económica,         pero no ha bajado su consumo y está recuperando las ganas de pedir prestado.': 2.111111111111111,\n",
              " 'El consumo privado representa dos tercios del Producto Interno Bruto.': 0.7777777777777777,\n",
              " 'El crecimiento promedio es 5.2%, con variaciones muy significativas en ese promedio.': 1.0,\n",
              " 'El nivel más bajo registrado en la última década fue en mayo de 2020, cuando tocó un piso de 31.2.': 1.8888888888888893,\n",
              " 'El segundo rubro que más creció incluye artículos para el esparcimiento, subió 9.2%, en contrapartida, el segundo renglón que más cayó es el de artículos para el cuidado de la salud, que registró un decrecimiento de 1.5 por ciento.': 2.7777777777777786,\n",
              " 'El índice de confianza de los consumidores se construye a partir de las respuestas que ofrecen los encuestados en una muestra de 2,336 viviendas urbanas, en 32 ciudades.': 2.666666666666667,\n",
              " 'En Campeche, hay una caída de 10.7% y en Sinaloa, un crecimiento de 25 por ciento.': 0.7777777777777778,\n",
              " 'En dos preguntas se registra con mas fuerza la pérdida de confianza de los consumidores, ¿cómo cree que se comporten los precios en el país los próximos 12 meses?': 3.5555555555555562,\n",
              " 'En el tablero de control de este instrumento se han encendido señales de alerta, porque el índice de confianza del consumidor lleva tres meses consecutivos a la baja.': 2.666666666666667,\n",
              " 'En julio tuvo una reducción de 1.7 puntos y se encuentra en un nivel de 41.3.': 0.7777777777777778,\n",
              " 'En la Asociación Nacional de Tiendas de Autoservicio y Departamentales (ANTAD), las cifras de junio registran un incremento de 9% en las ventas, respecto al mismo mes del 2021.': 2.4444444444444446,\n",
              " 'En teoría, los gastos en lo básico son irreductibles, pero vemos una reducción en las ventas de abarrotes, bebidas y tabaco.': 2.555555555555556,\n",
              " 'En un contexto de inflación y enfriamiento del mercado laboral, los consumidores están abriendo la cartera para mejorar su guardarropa y se dan el gusto de reactivar su gasto en esparcimiento.': 2.6666666666666674,\n",
              " 'Entender a los consumidores y observar su comportamiento resulta fundamental para anticipar lo que pasará en la economía y los negocios.': 2.1111111111111116,\n",
              " 'Esa es la fotografía de un momento en el que comenzaba la pandemia del covid y la economía operaba en condiciones de restricciones muy severas.': 1.4444444444444446,\n",
              " 'Está claro que están nerviosos por las perspectivas económicas y preocupados por la inflación, lo paradójico es que esto no se nota en las ventas de los establecimientos comerciales.': 2.4444444444444446,\n",
              " 'La encuesta de ventas a las empresas comerciales que hace el INEGI también trae números positivos.': 2.1111111111111116,\n",
              " 'La tercer pregunta donde hay un “bajón” significativo en el ánimo tiene que ver con lo que piensan los consumidores que será la situación del empleo en los próximos 12 meses.': 3.0,\n",
              " 'La “fotografía” más reciente del comercio corresponde al quinto mes del año en curso.': 1.1111111111111112,\n",
              " 'Las ventas de productos textiles, bisutería, accesorios de vestir y calzado subieron 11.9%, mientras que las ventas de abarrotes, alimentos, bebida y tabaco cayeron 4.5%, respecto a mayo de 2021.': 5.444444444444445,\n",
              " 'Los datos de ventas de mayo nos entregan una fotografía que es todo un reto para interpretar:         crecen las ventas de ropa, calzado y bisutería, pero caen las de abarrotes, alimentos y bebidas.': 5.111111111111111,\n",
              " 'Los datos que ofrecen las ventas por tipos de artículos no parecen ser muy lógicos, pero el comportamiento económico no tiene por qué ser el paradigma de la racionalidad.': 3.2222222222222228,\n",
              " 'Para entender y explicar estas paradojas, ¿necesitamos psicólogos, novelistas u otro tipo de economistas?': 1.0000000000000002,\n",
              " 'Para ponerlo en perspectiva, estaba en 44.2 en mayo.': 1.0,\n",
              " 'Registra un crecimiento sostenido desde mayo de 2020 hasta mayo de 2022.': 2.4444444444444446,\n",
              " 'Si solo consideramos los fríos números de las cuentas nacionales,         podemos decir que la aportación de los consumidores a la economía es tres o cuatro veces más grande que la inversión privada y más de 20 veces mayor         que la inversión del Gobierno.': 3.88888888888889,\n",
              " 'Todo en comparación con mayo del 2021.': 1.222222222222222,\n",
              " 'Y la situación económica personal esperada dentro de 12 meses.': 1.6666666666666667,\n",
              " '¿vamos con rumbo a la recuperación o nos enfilamos hacia una recesión?': 0.6666666666666667}"
            ]
          },
          "metadata": {},
          "execution_count": 71
        }
      ]
    },
    {
      "cell_type": "code",
      "source": [
        "print(sent_score.get)"
      ],
      "metadata": {
        "colab": {
          "base_uri": "https://localhost:8080/"
        },
        "id": "SQ1MOEK1YInu",
        "outputId": "9208c83d-a502-4dd4-baa0-7761c1d64eef"
      },
      "execution_count": 73,
      "outputs": [
        {
          "output_type": "stream",
          "name": "stdout",
          "text": [
            "<built-in method get of dict object at 0x7fd4259a9500>\n"
          ]
        }
      ]
    },
    {
      "cell_type": "code",
      "source": [
        "summary_sents = nlargest(lenght, sent_score, key=sent_score.get)\n",
        "summary_sents = ' '.join(summary_sents)\n",
        "summary_sents"
      ],
      "metadata": {
        "colab": {
          "base_uri": "https://localhost:8080/",
          "height": 88
        },
        "id": "Rhm9ttpXYArQ",
        "outputId": "8e1997bd-38b9-4e63-eb1e-117d5aee1604"
      },
      "execution_count": 75,
      "outputs": [
        {
          "output_type": "execute_result",
          "data": {
            "text/plain": [
              "'Las ventas de productos textiles, bisutería, accesorios de vestir y calzado subieron 11.9%, mientras que las ventas de abarrotes, alimentos, bebida y tabaco cayeron 4.5%, respecto a mayo de 2021. Los datos de ventas de mayo nos entregan una fotografía que es todo un reto para interpretar:         crecen las ventas de ropa, calzado y bisutería, pero caen las de abarrotes, alimentos y bebidas. Si solo consideramos los fríos números de las cuentas nacionales,         podemos decir que la aportación de los consumidores a la economía es tres o cuatro veces más grande que la inversión privada y más de 20 veces mayor         que la inversión del Gobierno.'"
            ],
            "application/vnd.google.colaboratory.intrinsic+json": {
              "type": "string"
            }
          },
          "metadata": {},
          "execution_count": 75
        }
      ]
    },
    {
      "cell_type": "code",
      "source": [
        "summary_sents = nlargest(2, sent_score, key=sent_score.get)\n",
        "summary_sents = ' '.join(summary_sents)\n",
        "summary_sents"
      ],
      "metadata": {
        "colab": {
          "base_uri": "https://localhost:8080/",
          "height": 70
        },
        "id": "HsiJZG9NYRRb",
        "outputId": "059fdf4b-e8b7-4077-dcc9-6e9232ff2519"
      },
      "execution_count": 79,
      "outputs": [
        {
          "output_type": "execute_result",
          "data": {
            "text/plain": [
              "'Las ventas de productos textiles, bisutería, accesorios de vestir y calzado subieron 11.9%, mientras que las ventas de abarrotes, alimentos, bebida y tabaco cayeron 4.5%, respecto a mayo de 2021. Los datos de ventas de mayo nos entregan una fotografía que es todo un reto para interpretar:         crecen las ventas de ropa, calzado y bisutería, pero caen las de abarrotes, alimentos y bebidas.'"
            ],
            "application/vnd.google.colaboratory.intrinsic+json": {
              "type": "string"
            }
          },
          "metadata": {},
          "execution_count": 79
        }
      ]
    }
  ]
}