{
  "nbformat": 4,
  "nbformat_minor": 0,
  "metadata": {
    "colab": {
      "name": "220818-Hotel_Reviews_Sentiment_Analysis_with_Python.ipynb",
      "provenance": [],
      "collapsed_sections": [],
      "authorship_tag": "ABX9TyOdV+ngVTfWonVIcxyzg1x9",
      "include_colab_link": true
    },
    "kernelspec": {
      "name": "python3",
      "display_name": "Python 3"
    },
    "language_info": {
      "name": "python"
    }
  },
  "cells": [
    {
      "cell_type": "markdown",
      "metadata": {
        "id": "view-in-github",
        "colab_type": "text"
      },
      "source": [
        "<a href=\"https://colab.research.google.com/github/JoaquinGonzalezSimon/Data_science_and_ML_from_Medium/blob/main/220818_Hotel_Reviews_Sentiment_Analysis_with_Python.ipynb\" target=\"_parent\"><img src=\"https://colab.research.google.com/assets/colab-badge.svg\" alt=\"Open In Colab\"/></a>"
      ]
    },
    {
      "cell_type": "markdown",
      "source": [
        "### This project was taken from the following link and I use it to practice my skills\n",
        "\n",
        "https://thecleverprogrammer.com/2021/07/03/hotel-reviews-sentiment-analysis-with-python/\n",
        "\n",
        "https://medium.com/coders-camp/180-data-science-and-machine-learning-projects-with-python-6191bc7b9db9"
      ],
      "metadata": {
        "id": "6IpS6KWAckC3"
      }
    },
    {
      "cell_type": "code",
      "execution_count": 10,
      "metadata": {
        "colab": {
          "base_uri": "https://localhost:8080/"
        },
        "id": "ucYTmAqecjb8",
        "outputId": "1c09891d-94b5-4783-d240-262fa361df0b"
      },
      "outputs": [
        {
          "output_type": "stream",
          "name": "stdout",
          "text": [
            "Drive already mounted at /content/drive; to attempt to forcibly remount, call drive.mount(\"/content/drive\", force_remount=True).\n"
          ]
        }
      ],
      "source": [
        "from google.colab import drive\n",
        "drive.mount('/content/drive')"
      ]
    },
    {
      "cell_type": "code",
      "source": [
        "import pandas as pd\n",
        "import numpy as np\n",
        "import matplotlib.pyplot as plt\n",
        "import seaborn as sns\n",
        "from sklearn.model_selection import train_test_split\n",
        "from sklearn.feature_extraction.text import CountVectorizer\n",
        "from nltk.sentiment.vader import SentimentIntensityAnalyzer"
      ],
      "metadata": {
        "id": "i7cddbB8dkWV"
      },
      "execution_count": 11,
      "outputs": []
    },
    {
      "cell_type": "code",
      "source": [
        "import nltk\n",
        "nltk.download('vader_lexicon')\n"
      ],
      "metadata": {
        "colab": {
          "base_uri": "https://localhost:8080/"
        },
        "id": "EnQ1ZwpAerI5",
        "outputId": "16914ac8-a3af-4456-de4a-e22a22920fbb"
      },
      "execution_count": 12,
      "outputs": [
        {
          "output_type": "stream",
          "name": "stderr",
          "text": [
            "[nltk_data] Downloading package vader_lexicon to /root/nltk_data...\n",
            "[nltk_data]   Package vader_lexicon is already up-to-date!\n"
          ]
        },
        {
          "output_type": "execute_result",
          "data": {
            "text/plain": [
              "True"
            ]
          },
          "metadata": {},
          "execution_count": 12
        }
      ]
    },
    {
      "cell_type": "code",
      "source": [
        "data = pd.read_csv('/content/drive/MyDrive/Ironhack/DBs/Datafiniti_Hotel_Reviews_Jun19.csv')"
      ],
      "metadata": {
        "id": "QNE7hQBjvxGO"
      },
      "execution_count": 13,
      "outputs": []
    },
    {
      "cell_type": "code",
      "source": [
        "data.head()"
      ],
      "metadata": {
        "colab": {
          "base_uri": "https://localhost:8080/",
          "height": 629
        },
        "id": "cctDktSVv_2R",
        "outputId": "65f59c18-4295-4116-84b7-da72e78b58e7"
      },
      "execution_count": 14,
      "outputs": [
        {
          "output_type": "execute_result",
          "data": {
            "text/plain": [
              "                     id             dateAdded           dateUpdated  \\\n",
              "0  AWE2FvX5RxPSIh2RscTK  2018-01-18T18:43:12Z  2019-05-20T23:55:47Z   \n",
              "1  AVwcj_OhkufWRAb5wi9T  2016-11-06T20:21:05Z  2019-05-20T23:31:56Z   \n",
              "2  AVwcj_OhkufWRAb5wi9T  2016-11-06T20:21:05Z  2019-05-20T23:31:56Z   \n",
              "3  AVwcj_OhkufWRAb5wi9T  2016-11-06T20:21:05Z  2019-05-20T23:31:56Z   \n",
              "4  AVwcj_OhkufWRAb5wi9T  2016-11-06T20:21:05Z  2019-05-20T23:31:56Z   \n",
              "\n",
              "                          address  \\\n",
              "0                 5620 Calle Real   \n",
              "1  5th And San Carlos PO Box 3574   \n",
              "2  5th And San Carlos PO Box 3574   \n",
              "3  5th And San Carlos PO Box 3574   \n",
              "4  5th And San Carlos PO Box 3574   \n",
              "\n",
              "                                          categories  \\\n",
              "0  Hotels,Hotels and motels,Hotel and motel mgmt....   \n",
              "1                               Hotels,Lodging,Hotel   \n",
              "2                               Hotels,Lodging,Hotel   \n",
              "3                               Hotels,Lodging,Hotel   \n",
              "4                               Hotels,Lodging,Hotel   \n",
              "\n",
              "               primaryCategories               city country  \\\n",
              "0  Accommodation & Food Services             Goleta      US   \n",
              "1  Accommodation & Food Services  Carmel by the Sea      US   \n",
              "2  Accommodation & Food Services  Carmel by the Sea      US   \n",
              "3  Accommodation & Food Services  Carmel by the Sea      US   \n",
              "4  Accommodation & Food Services  Carmel by the Sea      US   \n",
              "\n",
              "                                                keys  latitude  ...  \\\n",
              "0             us/ca/goleta/5620callereal/-1127060008  34.44178  ...   \n",
              "1  us/ca/carmelbythesea/5thandsancarlospobox3574/...  36.55722  ...   \n",
              "2  us/ca/carmelbythesea/5thandsancarlospobox3574/...  36.55722  ...   \n",
              "3  us/ca/carmelbythesea/5thandsancarlospobox3574/...  36.55722  ...   \n",
              "4  us/ca/carmelbythesea/5thandsancarlospobox3574/...  36.55722  ...   \n",
              "\n",
              "                            reviews.dateSeen reviews.rating  \\\n",
              "0                       2018-01-03T00:00:00Z              3   \n",
              "1                       2016-10-09T00:00:00Z              4   \n",
              "2                       2016-10-09T00:00:00Z              3   \n",
              "3                       2016-10-31T00:00:00Z              5   \n",
              "4  2016-10-09T00:00:00Z,2016-03-27T00:00:00Z              2   \n",
              "\n",
              "                                  reviews.sourceURLs  \\\n",
              "0  https://www.tripadvisor.com/Hotel_Review-g3243...   \n",
              "1  https://www.tripadvisor.com/Hotel_Review-g3217...   \n",
              "2  https://www.tripadvisor.com/Hotel_Review-g3217...   \n",
              "3  https://www.tripadvisor.com/Hotel_Review-g3217...   \n",
              "4  https://www.tripadvisor.com/Hotel_Review-g3217...   \n",
              "\n",
              "                                        reviews.text  \\\n",
              "0  This hotel was nice and quiet. Did not know, t...   \n",
              "1  We stayed in the king suite with the separatio...   \n",
              "2  Parking was horrible, somebody ran into my ren...   \n",
              "3  Not cheap but excellent location. Price is som...   \n",
              "4  If you get the room that they advertised on th...   \n",
              "\n",
              "                                       reviews.title  reviews.userCity  \\\n",
              "0                            Best Western Plus Hotel          San Jose   \n",
              "1  Clean rooms at solid rates in the heart of Carmel     San Francisco   \n",
              "2                                           Business   Prescott Valley   \n",
              "3                                          Very good          Guaynabo   \n",
              "4                       Low chance to come back here              Reno   \n",
              "\n",
              "  reviews.userProvince  reviews.username  \\\n",
              "0         UnitedStates      tatsurok2018   \n",
              "1                   CA         STEPHEN N   \n",
              "2                   AZ         15Deborah   \n",
              "3                   PR        Wilfredo M   \n",
              "4                   NV             Luc D   \n",
              "\n",
              "                                          sourceURLs  \\\n",
              "0  https://www.tripadvisor.com/Hotel_Review-g3243...   \n",
              "1  http://www.tripadvisor.com/Hotel_Review-g32172...   \n",
              "2  http://www.tripadvisor.com/Hotel_Review-g32172...   \n",
              "3  http://www.tripadvisor.com/Hotel_Review-g32172...   \n",
              "4  http://www.tripadvisor.com/Hotel_Review-g32172...   \n",
              "\n",
              "                                            websites  \n",
              "0  https://www.bestwestern.com/en_US/book/hotel-r...  \n",
              "1                         http://www.bestwestern.com  \n",
              "2                         http://www.bestwestern.com  \n",
              "3                         http://www.bestwestern.com  \n",
              "4                         http://www.bestwestern.com  \n",
              "\n",
              "[5 rows x 26 columns]"
            ],
            "text/html": [
              "\n",
              "  <div id=\"df-69c6d220-7353-4c39-b890-b042fa8f4e83\">\n",
              "    <div class=\"colab-df-container\">\n",
              "      <div>\n",
              "<style scoped>\n",
              "    .dataframe tbody tr th:only-of-type {\n",
              "        vertical-align: middle;\n",
              "    }\n",
              "\n",
              "    .dataframe tbody tr th {\n",
              "        vertical-align: top;\n",
              "    }\n",
              "\n",
              "    .dataframe thead th {\n",
              "        text-align: right;\n",
              "    }\n",
              "</style>\n",
              "<table border=\"1\" class=\"dataframe\">\n",
              "  <thead>\n",
              "    <tr style=\"text-align: right;\">\n",
              "      <th></th>\n",
              "      <th>id</th>\n",
              "      <th>dateAdded</th>\n",
              "      <th>dateUpdated</th>\n",
              "      <th>address</th>\n",
              "      <th>categories</th>\n",
              "      <th>primaryCategories</th>\n",
              "      <th>city</th>\n",
              "      <th>country</th>\n",
              "      <th>keys</th>\n",
              "      <th>latitude</th>\n",
              "      <th>...</th>\n",
              "      <th>reviews.dateSeen</th>\n",
              "      <th>reviews.rating</th>\n",
              "      <th>reviews.sourceURLs</th>\n",
              "      <th>reviews.text</th>\n",
              "      <th>reviews.title</th>\n",
              "      <th>reviews.userCity</th>\n",
              "      <th>reviews.userProvince</th>\n",
              "      <th>reviews.username</th>\n",
              "      <th>sourceURLs</th>\n",
              "      <th>websites</th>\n",
              "    </tr>\n",
              "  </thead>\n",
              "  <tbody>\n",
              "    <tr>\n",
              "      <th>0</th>\n",
              "      <td>AWE2FvX5RxPSIh2RscTK</td>\n",
              "      <td>2018-01-18T18:43:12Z</td>\n",
              "      <td>2019-05-20T23:55:47Z</td>\n",
              "      <td>5620 Calle Real</td>\n",
              "      <td>Hotels,Hotels and motels,Hotel and motel mgmt....</td>\n",
              "      <td>Accommodation &amp; Food Services</td>\n",
              "      <td>Goleta</td>\n",
              "      <td>US</td>\n",
              "      <td>us/ca/goleta/5620callereal/-1127060008</td>\n",
              "      <td>34.44178</td>\n",
              "      <td>...</td>\n",
              "      <td>2018-01-03T00:00:00Z</td>\n",
              "      <td>3</td>\n",
              "      <td>https://www.tripadvisor.com/Hotel_Review-g3243...</td>\n",
              "      <td>This hotel was nice and quiet. Did not know, t...</td>\n",
              "      <td>Best Western Plus Hotel</td>\n",
              "      <td>San Jose</td>\n",
              "      <td>UnitedStates</td>\n",
              "      <td>tatsurok2018</td>\n",
              "      <td>https://www.tripadvisor.com/Hotel_Review-g3243...</td>\n",
              "      <td>https://www.bestwestern.com/en_US/book/hotel-r...</td>\n",
              "    </tr>\n",
              "    <tr>\n",
              "      <th>1</th>\n",
              "      <td>AVwcj_OhkufWRAb5wi9T</td>\n",
              "      <td>2016-11-06T20:21:05Z</td>\n",
              "      <td>2019-05-20T23:31:56Z</td>\n",
              "      <td>5th And San Carlos PO Box 3574</td>\n",
              "      <td>Hotels,Lodging,Hotel</td>\n",
              "      <td>Accommodation &amp; Food Services</td>\n",
              "      <td>Carmel by the Sea</td>\n",
              "      <td>US</td>\n",
              "      <td>us/ca/carmelbythesea/5thandsancarlospobox3574/...</td>\n",
              "      <td>36.55722</td>\n",
              "      <td>...</td>\n",
              "      <td>2016-10-09T00:00:00Z</td>\n",
              "      <td>4</td>\n",
              "      <td>https://www.tripadvisor.com/Hotel_Review-g3217...</td>\n",
              "      <td>We stayed in the king suite with the separatio...</td>\n",
              "      <td>Clean rooms at solid rates in the heart of Carmel</td>\n",
              "      <td>San Francisco</td>\n",
              "      <td>CA</td>\n",
              "      <td>STEPHEN N</td>\n",
              "      <td>http://www.tripadvisor.com/Hotel_Review-g32172...</td>\n",
              "      <td>http://www.bestwestern.com</td>\n",
              "    </tr>\n",
              "    <tr>\n",
              "      <th>2</th>\n",
              "      <td>AVwcj_OhkufWRAb5wi9T</td>\n",
              "      <td>2016-11-06T20:21:05Z</td>\n",
              "      <td>2019-05-20T23:31:56Z</td>\n",
              "      <td>5th And San Carlos PO Box 3574</td>\n",
              "      <td>Hotels,Lodging,Hotel</td>\n",
              "      <td>Accommodation &amp; Food Services</td>\n",
              "      <td>Carmel by the Sea</td>\n",
              "      <td>US</td>\n",
              "      <td>us/ca/carmelbythesea/5thandsancarlospobox3574/...</td>\n",
              "      <td>36.55722</td>\n",
              "      <td>...</td>\n",
              "      <td>2016-10-09T00:00:00Z</td>\n",
              "      <td>3</td>\n",
              "      <td>https://www.tripadvisor.com/Hotel_Review-g3217...</td>\n",
              "      <td>Parking was horrible, somebody ran into my ren...</td>\n",
              "      <td>Business</td>\n",
              "      <td>Prescott Valley</td>\n",
              "      <td>AZ</td>\n",
              "      <td>15Deborah</td>\n",
              "      <td>http://www.tripadvisor.com/Hotel_Review-g32172...</td>\n",
              "      <td>http://www.bestwestern.com</td>\n",
              "    </tr>\n",
              "    <tr>\n",
              "      <th>3</th>\n",
              "      <td>AVwcj_OhkufWRAb5wi9T</td>\n",
              "      <td>2016-11-06T20:21:05Z</td>\n",
              "      <td>2019-05-20T23:31:56Z</td>\n",
              "      <td>5th And San Carlos PO Box 3574</td>\n",
              "      <td>Hotels,Lodging,Hotel</td>\n",
              "      <td>Accommodation &amp; Food Services</td>\n",
              "      <td>Carmel by the Sea</td>\n",
              "      <td>US</td>\n",
              "      <td>us/ca/carmelbythesea/5thandsancarlospobox3574/...</td>\n",
              "      <td>36.55722</td>\n",
              "      <td>...</td>\n",
              "      <td>2016-10-31T00:00:00Z</td>\n",
              "      <td>5</td>\n",
              "      <td>https://www.tripadvisor.com/Hotel_Review-g3217...</td>\n",
              "      <td>Not cheap but excellent location. Price is som...</td>\n",
              "      <td>Very good</td>\n",
              "      <td>Guaynabo</td>\n",
              "      <td>PR</td>\n",
              "      <td>Wilfredo M</td>\n",
              "      <td>http://www.tripadvisor.com/Hotel_Review-g32172...</td>\n",
              "      <td>http://www.bestwestern.com</td>\n",
              "    </tr>\n",
              "    <tr>\n",
              "      <th>4</th>\n",
              "      <td>AVwcj_OhkufWRAb5wi9T</td>\n",
              "      <td>2016-11-06T20:21:05Z</td>\n",
              "      <td>2019-05-20T23:31:56Z</td>\n",
              "      <td>5th And San Carlos PO Box 3574</td>\n",
              "      <td>Hotels,Lodging,Hotel</td>\n",
              "      <td>Accommodation &amp; Food Services</td>\n",
              "      <td>Carmel by the Sea</td>\n",
              "      <td>US</td>\n",
              "      <td>us/ca/carmelbythesea/5thandsancarlospobox3574/...</td>\n",
              "      <td>36.55722</td>\n",
              "      <td>...</td>\n",
              "      <td>2016-10-09T00:00:00Z,2016-03-27T00:00:00Z</td>\n",
              "      <td>2</td>\n",
              "      <td>https://www.tripadvisor.com/Hotel_Review-g3217...</td>\n",
              "      <td>If you get the room that they advertised on th...</td>\n",
              "      <td>Low chance to come back here</td>\n",
              "      <td>Reno</td>\n",
              "      <td>NV</td>\n",
              "      <td>Luc D</td>\n",
              "      <td>http://www.tripadvisor.com/Hotel_Review-g32172...</td>\n",
              "      <td>http://www.bestwestern.com</td>\n",
              "    </tr>\n",
              "  </tbody>\n",
              "</table>\n",
              "<p>5 rows × 26 columns</p>\n",
              "</div>\n",
              "      <button class=\"colab-df-convert\" onclick=\"convertToInteractive('df-69c6d220-7353-4c39-b890-b042fa8f4e83')\"\n",
              "              title=\"Convert this dataframe to an interactive table.\"\n",
              "              style=\"display:none;\">\n",
              "        \n",
              "  <svg xmlns=\"http://www.w3.org/2000/svg\" height=\"24px\"viewBox=\"0 0 24 24\"\n",
              "       width=\"24px\">\n",
              "    <path d=\"M0 0h24v24H0V0z\" fill=\"none\"/>\n",
              "    <path d=\"M18.56 5.44l.94 2.06.94-2.06 2.06-.94-2.06-.94-.94-2.06-.94 2.06-2.06.94zm-11 1L8.5 8.5l.94-2.06 2.06-.94-2.06-.94L8.5 2.5l-.94 2.06-2.06.94zm10 10l.94 2.06.94-2.06 2.06-.94-2.06-.94-.94-2.06-.94 2.06-2.06.94z\"/><path d=\"M17.41 7.96l-1.37-1.37c-.4-.4-.92-.59-1.43-.59-.52 0-1.04.2-1.43.59L10.3 9.45l-7.72 7.72c-.78.78-.78 2.05 0 2.83L4 21.41c.39.39.9.59 1.41.59.51 0 1.02-.2 1.41-.59l7.78-7.78 2.81-2.81c.8-.78.8-2.07 0-2.86zM5.41 20L4 18.59l7.72-7.72 1.47 1.35L5.41 20z\"/>\n",
              "  </svg>\n",
              "      </button>\n",
              "      \n",
              "  <style>\n",
              "    .colab-df-container {\n",
              "      display:flex;\n",
              "      flex-wrap:wrap;\n",
              "      gap: 12px;\n",
              "    }\n",
              "\n",
              "    .colab-df-convert {\n",
              "      background-color: #E8F0FE;\n",
              "      border: none;\n",
              "      border-radius: 50%;\n",
              "      cursor: pointer;\n",
              "      display: none;\n",
              "      fill: #1967D2;\n",
              "      height: 32px;\n",
              "      padding: 0 0 0 0;\n",
              "      width: 32px;\n",
              "    }\n",
              "\n",
              "    .colab-df-convert:hover {\n",
              "      background-color: #E2EBFA;\n",
              "      box-shadow: 0px 1px 2px rgba(60, 64, 67, 0.3), 0px 1px 3px 1px rgba(60, 64, 67, 0.15);\n",
              "      fill: #174EA6;\n",
              "    }\n",
              "\n",
              "    [theme=dark] .colab-df-convert {\n",
              "      background-color: #3B4455;\n",
              "      fill: #D2E3FC;\n",
              "    }\n",
              "\n",
              "    [theme=dark] .colab-df-convert:hover {\n",
              "      background-color: #434B5C;\n",
              "      box-shadow: 0px 1px 3px 1px rgba(0, 0, 0, 0.15);\n",
              "      filter: drop-shadow(0px 1px 2px rgba(0, 0, 0, 0.3));\n",
              "      fill: #FFFFFF;\n",
              "    }\n",
              "  </style>\n",
              "\n",
              "      <script>\n",
              "        const buttonEl =\n",
              "          document.querySelector('#df-69c6d220-7353-4c39-b890-b042fa8f4e83 button.colab-df-convert');\n",
              "        buttonEl.style.display =\n",
              "          google.colab.kernel.accessAllowed ? 'block' : 'none';\n",
              "\n",
              "        async function convertToInteractive(key) {\n",
              "          const element = document.querySelector('#df-69c6d220-7353-4c39-b890-b042fa8f4e83');\n",
              "          const dataTable =\n",
              "            await google.colab.kernel.invokeFunction('convertToInteractive',\n",
              "                                                     [key], {});\n",
              "          if (!dataTable) return;\n",
              "\n",
              "          const docLinkHtml = 'Like what you see? Visit the ' +\n",
              "            '<a target=\"_blank\" href=https://colab.research.google.com/notebooks/data_table.ipynb>data table notebook</a>'\n",
              "            + ' to learn more about interactive tables.';\n",
              "          element.innerHTML = '';\n",
              "          dataTable['output_type'] = 'display_data';\n",
              "          await google.colab.output.renderOutput(dataTable, element);\n",
              "          const docLink = document.createElement('div');\n",
              "          docLink.innerHTML = docLinkHtml;\n",
              "          element.appendChild(docLink);\n",
              "        }\n",
              "      </script>\n",
              "    </div>\n",
              "  </div>\n",
              "  "
            ]
          },
          "metadata": {},
          "execution_count": 14
        }
      ]
    },
    {
      "cell_type": "code",
      "source": [
        "data.info()"
      ],
      "metadata": {
        "colab": {
          "base_uri": "https://localhost:8080/"
        },
        "id": "VfvjRxZBwA_X",
        "outputId": "a0878ef0-3fd7-43e2-e654-b54c881e4f8b"
      },
      "execution_count": 15,
      "outputs": [
        {
          "output_type": "stream",
          "name": "stdout",
          "text": [
            "<class 'pandas.core.frame.DataFrame'>\n",
            "RangeIndex: 10000 entries, 0 to 9999\n",
            "Data columns (total 26 columns):\n",
            " #   Column                Non-Null Count  Dtype  \n",
            "---  ------                --------------  -----  \n",
            " 0   id                    10000 non-null  object \n",
            " 1   dateAdded             10000 non-null  object \n",
            " 2   dateUpdated           10000 non-null  object \n",
            " 3   address               10000 non-null  object \n",
            " 4   categories            10000 non-null  object \n",
            " 5   primaryCategories     10000 non-null  object \n",
            " 6   city                  10000 non-null  object \n",
            " 7   country               10000 non-null  object \n",
            " 8   keys                  10000 non-null  object \n",
            " 9   latitude              10000 non-null  float64\n",
            " 10  longitude             10000 non-null  float64\n",
            " 11  name                  10000 non-null  object \n",
            " 12  postalCode            10000 non-null  object \n",
            " 13  province              10000 non-null  object \n",
            " 14  reviews.date          10000 non-null  object \n",
            " 15  reviews.dateAdded     0 non-null      float64\n",
            " 16  reviews.dateSeen      10000 non-null  object \n",
            " 17  reviews.rating        10000 non-null  int64  \n",
            " 18  reviews.sourceURLs    10000 non-null  object \n",
            " 19  reviews.text          10000 non-null  object \n",
            " 20  reviews.title         9999 non-null   object \n",
            " 21  reviews.userCity      10000 non-null  object \n",
            " 22  reviews.userProvince  9998 non-null   object \n",
            " 23  reviews.username      10000 non-null  object \n",
            " 24  sourceURLs            10000 non-null  object \n",
            " 25  websites              10000 non-null  object \n",
            "dtypes: float64(3), int64(1), object(22)\n",
            "memory usage: 2.0+ MB\n"
          ]
        }
      ]
    },
    {
      "cell_type": "code",
      "source": [
        "df = data[['reviews.rating', 'reviews.text']]\n",
        "df.head()"
      ],
      "metadata": {
        "colab": {
          "base_uri": "https://localhost:8080/",
          "height": 206
        },
        "id": "6CfPxVnzwG9T",
        "outputId": "b97665b3-1af9-4839-a4a5-28cbb000de6d"
      },
      "execution_count": 18,
      "outputs": [
        {
          "output_type": "execute_result",
          "data": {
            "text/plain": [
              "   reviews.rating                                       reviews.text\n",
              "0               3  This hotel was nice and quiet. Did not know, t...\n",
              "1               4  We stayed in the king suite with the separatio...\n",
              "2               3  Parking was horrible, somebody ran into my ren...\n",
              "3               5  Not cheap but excellent location. Price is som...\n",
              "4               2  If you get the room that they advertised on th..."
            ],
            "text/html": [
              "\n",
              "  <div id=\"df-359dbeec-e12e-458e-bc74-d879cbcfcb2d\">\n",
              "    <div class=\"colab-df-container\">\n",
              "      <div>\n",
              "<style scoped>\n",
              "    .dataframe tbody tr th:only-of-type {\n",
              "        vertical-align: middle;\n",
              "    }\n",
              "\n",
              "    .dataframe tbody tr th {\n",
              "        vertical-align: top;\n",
              "    }\n",
              "\n",
              "    .dataframe thead th {\n",
              "        text-align: right;\n",
              "    }\n",
              "</style>\n",
              "<table border=\"1\" class=\"dataframe\">\n",
              "  <thead>\n",
              "    <tr style=\"text-align: right;\">\n",
              "      <th></th>\n",
              "      <th>reviews.rating</th>\n",
              "      <th>reviews.text</th>\n",
              "    </tr>\n",
              "  </thead>\n",
              "  <tbody>\n",
              "    <tr>\n",
              "      <th>0</th>\n",
              "      <td>3</td>\n",
              "      <td>This hotel was nice and quiet. Did not know, t...</td>\n",
              "    </tr>\n",
              "    <tr>\n",
              "      <th>1</th>\n",
              "      <td>4</td>\n",
              "      <td>We stayed in the king suite with the separatio...</td>\n",
              "    </tr>\n",
              "    <tr>\n",
              "      <th>2</th>\n",
              "      <td>3</td>\n",
              "      <td>Parking was horrible, somebody ran into my ren...</td>\n",
              "    </tr>\n",
              "    <tr>\n",
              "      <th>3</th>\n",
              "      <td>5</td>\n",
              "      <td>Not cheap but excellent location. Price is som...</td>\n",
              "    </tr>\n",
              "    <tr>\n",
              "      <th>4</th>\n",
              "      <td>2</td>\n",
              "      <td>If you get the room that they advertised on th...</td>\n",
              "    </tr>\n",
              "  </tbody>\n",
              "</table>\n",
              "</div>\n",
              "      <button class=\"colab-df-convert\" onclick=\"convertToInteractive('df-359dbeec-e12e-458e-bc74-d879cbcfcb2d')\"\n",
              "              title=\"Convert this dataframe to an interactive table.\"\n",
              "              style=\"display:none;\">\n",
              "        \n",
              "  <svg xmlns=\"http://www.w3.org/2000/svg\" height=\"24px\"viewBox=\"0 0 24 24\"\n",
              "       width=\"24px\">\n",
              "    <path d=\"M0 0h24v24H0V0z\" fill=\"none\"/>\n",
              "    <path d=\"M18.56 5.44l.94 2.06.94-2.06 2.06-.94-2.06-.94-.94-2.06-.94 2.06-2.06.94zm-11 1L8.5 8.5l.94-2.06 2.06-.94-2.06-.94L8.5 2.5l-.94 2.06-2.06.94zm10 10l.94 2.06.94-2.06 2.06-.94-2.06-.94-.94-2.06-.94 2.06-2.06.94z\"/><path d=\"M17.41 7.96l-1.37-1.37c-.4-.4-.92-.59-1.43-.59-.52 0-1.04.2-1.43.59L10.3 9.45l-7.72 7.72c-.78.78-.78 2.05 0 2.83L4 21.41c.39.39.9.59 1.41.59.51 0 1.02-.2 1.41-.59l7.78-7.78 2.81-2.81c.8-.78.8-2.07 0-2.86zM5.41 20L4 18.59l7.72-7.72 1.47 1.35L5.41 20z\"/>\n",
              "  </svg>\n",
              "      </button>\n",
              "      \n",
              "  <style>\n",
              "    .colab-df-container {\n",
              "      display:flex;\n",
              "      flex-wrap:wrap;\n",
              "      gap: 12px;\n",
              "    }\n",
              "\n",
              "    .colab-df-convert {\n",
              "      background-color: #E8F0FE;\n",
              "      border: none;\n",
              "      border-radius: 50%;\n",
              "      cursor: pointer;\n",
              "      display: none;\n",
              "      fill: #1967D2;\n",
              "      height: 32px;\n",
              "      padding: 0 0 0 0;\n",
              "      width: 32px;\n",
              "    }\n",
              "\n",
              "    .colab-df-convert:hover {\n",
              "      background-color: #E2EBFA;\n",
              "      box-shadow: 0px 1px 2px rgba(60, 64, 67, 0.3), 0px 1px 3px 1px rgba(60, 64, 67, 0.15);\n",
              "      fill: #174EA6;\n",
              "    }\n",
              "\n",
              "    [theme=dark] .colab-df-convert {\n",
              "      background-color: #3B4455;\n",
              "      fill: #D2E3FC;\n",
              "    }\n",
              "\n",
              "    [theme=dark] .colab-df-convert:hover {\n",
              "      background-color: #434B5C;\n",
              "      box-shadow: 0px 1px 3px 1px rgba(0, 0, 0, 0.15);\n",
              "      filter: drop-shadow(0px 1px 2px rgba(0, 0, 0, 0.3));\n",
              "      fill: #FFFFFF;\n",
              "    }\n",
              "  </style>\n",
              "\n",
              "      <script>\n",
              "        const buttonEl =\n",
              "          document.querySelector('#df-359dbeec-e12e-458e-bc74-d879cbcfcb2d button.colab-df-convert');\n",
              "        buttonEl.style.display =\n",
              "          google.colab.kernel.accessAllowed ? 'block' : 'none';\n",
              "\n",
              "        async function convertToInteractive(key) {\n",
              "          const element = document.querySelector('#df-359dbeec-e12e-458e-bc74-d879cbcfcb2d');\n",
              "          const dataTable =\n",
              "            await google.colab.kernel.invokeFunction('convertToInteractive',\n",
              "                                                     [key], {});\n",
              "          if (!dataTable) return;\n",
              "\n",
              "          const docLinkHtml = 'Like what you see? Visit the ' +\n",
              "            '<a target=\"_blank\" href=https://colab.research.google.com/notebooks/data_table.ipynb>data table notebook</a>'\n",
              "            + ' to learn more about interactive tables.';\n",
              "          element.innerHTML = '';\n",
              "          dataTable['output_type'] = 'display_data';\n",
              "          await google.colab.output.renderOutput(dataTable, element);\n",
              "          const docLink = document.createElement('div');\n",
              "          docLink.innerHTML = docLinkHtml;\n",
              "          element.appendChild(docLink);\n",
              "        }\n",
              "      </script>\n",
              "    </div>\n",
              "  </div>\n",
              "  "
            ]
          },
          "metadata": {},
          "execution_count": 18
        }
      ]
    },
    {
      "cell_type": "code",
      "source": [
        "df.columns = ['ratings', 'text']\n",
        "df.head()"
      ],
      "metadata": {
        "colab": {
          "base_uri": "https://localhost:8080/",
          "height": 206
        },
        "id": "3eV_wb94_7KO",
        "outputId": "4d2c053c-7d38-496c-c3af-41c9ee220799"
      },
      "execution_count": 19,
      "outputs": [
        {
          "output_type": "execute_result",
          "data": {
            "text/plain": [
              "   ratings                                               text\n",
              "0        3  This hotel was nice and quiet. Did not know, t...\n",
              "1        4  We stayed in the king suite with the separatio...\n",
              "2        3  Parking was horrible, somebody ran into my ren...\n",
              "3        5  Not cheap but excellent location. Price is som...\n",
              "4        2  If you get the room that they advertised on th..."
            ],
            "text/html": [
              "\n",
              "  <div id=\"df-36e67285-1202-499e-b2bb-95d70b1fdee4\">\n",
              "    <div class=\"colab-df-container\">\n",
              "      <div>\n",
              "<style scoped>\n",
              "    .dataframe tbody tr th:only-of-type {\n",
              "        vertical-align: middle;\n",
              "    }\n",
              "\n",
              "    .dataframe tbody tr th {\n",
              "        vertical-align: top;\n",
              "    }\n",
              "\n",
              "    .dataframe thead th {\n",
              "        text-align: right;\n",
              "    }\n",
              "</style>\n",
              "<table border=\"1\" class=\"dataframe\">\n",
              "  <thead>\n",
              "    <tr style=\"text-align: right;\">\n",
              "      <th></th>\n",
              "      <th>ratings</th>\n",
              "      <th>text</th>\n",
              "    </tr>\n",
              "  </thead>\n",
              "  <tbody>\n",
              "    <tr>\n",
              "      <th>0</th>\n",
              "      <td>3</td>\n",
              "      <td>This hotel was nice and quiet. Did not know, t...</td>\n",
              "    </tr>\n",
              "    <tr>\n",
              "      <th>1</th>\n",
              "      <td>4</td>\n",
              "      <td>We stayed in the king suite with the separatio...</td>\n",
              "    </tr>\n",
              "    <tr>\n",
              "      <th>2</th>\n",
              "      <td>3</td>\n",
              "      <td>Parking was horrible, somebody ran into my ren...</td>\n",
              "    </tr>\n",
              "    <tr>\n",
              "      <th>3</th>\n",
              "      <td>5</td>\n",
              "      <td>Not cheap but excellent location. Price is som...</td>\n",
              "    </tr>\n",
              "    <tr>\n",
              "      <th>4</th>\n",
              "      <td>2</td>\n",
              "      <td>If you get the room that they advertised on th...</td>\n",
              "    </tr>\n",
              "  </tbody>\n",
              "</table>\n",
              "</div>\n",
              "      <button class=\"colab-df-convert\" onclick=\"convertToInteractive('df-36e67285-1202-499e-b2bb-95d70b1fdee4')\"\n",
              "              title=\"Convert this dataframe to an interactive table.\"\n",
              "              style=\"display:none;\">\n",
              "        \n",
              "  <svg xmlns=\"http://www.w3.org/2000/svg\" height=\"24px\"viewBox=\"0 0 24 24\"\n",
              "       width=\"24px\">\n",
              "    <path d=\"M0 0h24v24H0V0z\" fill=\"none\"/>\n",
              "    <path d=\"M18.56 5.44l.94 2.06.94-2.06 2.06-.94-2.06-.94-.94-2.06-.94 2.06-2.06.94zm-11 1L8.5 8.5l.94-2.06 2.06-.94-2.06-.94L8.5 2.5l-.94 2.06-2.06.94zm10 10l.94 2.06.94-2.06 2.06-.94-2.06-.94-.94-2.06-.94 2.06-2.06.94z\"/><path d=\"M17.41 7.96l-1.37-1.37c-.4-.4-.92-.59-1.43-.59-.52 0-1.04.2-1.43.59L10.3 9.45l-7.72 7.72c-.78.78-.78 2.05 0 2.83L4 21.41c.39.39.9.59 1.41.59.51 0 1.02-.2 1.41-.59l7.78-7.78 2.81-2.81c.8-.78.8-2.07 0-2.86zM5.41 20L4 18.59l7.72-7.72 1.47 1.35L5.41 20z\"/>\n",
              "  </svg>\n",
              "      </button>\n",
              "      \n",
              "  <style>\n",
              "    .colab-df-container {\n",
              "      display:flex;\n",
              "      flex-wrap:wrap;\n",
              "      gap: 12px;\n",
              "    }\n",
              "\n",
              "    .colab-df-convert {\n",
              "      background-color: #E8F0FE;\n",
              "      border: none;\n",
              "      border-radius: 50%;\n",
              "      cursor: pointer;\n",
              "      display: none;\n",
              "      fill: #1967D2;\n",
              "      height: 32px;\n",
              "      padding: 0 0 0 0;\n",
              "      width: 32px;\n",
              "    }\n",
              "\n",
              "    .colab-df-convert:hover {\n",
              "      background-color: #E2EBFA;\n",
              "      box-shadow: 0px 1px 2px rgba(60, 64, 67, 0.3), 0px 1px 3px 1px rgba(60, 64, 67, 0.15);\n",
              "      fill: #174EA6;\n",
              "    }\n",
              "\n",
              "    [theme=dark] .colab-df-convert {\n",
              "      background-color: #3B4455;\n",
              "      fill: #D2E3FC;\n",
              "    }\n",
              "\n",
              "    [theme=dark] .colab-df-convert:hover {\n",
              "      background-color: #434B5C;\n",
              "      box-shadow: 0px 1px 3px 1px rgba(0, 0, 0, 0.15);\n",
              "      filter: drop-shadow(0px 1px 2px rgba(0, 0, 0, 0.3));\n",
              "      fill: #FFFFFF;\n",
              "    }\n",
              "  </style>\n",
              "\n",
              "      <script>\n",
              "        const buttonEl =\n",
              "          document.querySelector('#df-36e67285-1202-499e-b2bb-95d70b1fdee4 button.colab-df-convert');\n",
              "        buttonEl.style.display =\n",
              "          google.colab.kernel.accessAllowed ? 'block' : 'none';\n",
              "\n",
              "        async function convertToInteractive(key) {\n",
              "          const element = document.querySelector('#df-36e67285-1202-499e-b2bb-95d70b1fdee4');\n",
              "          const dataTable =\n",
              "            await google.colab.kernel.invokeFunction('convertToInteractive',\n",
              "                                                     [key], {});\n",
              "          if (!dataTable) return;\n",
              "\n",
              "          const docLinkHtml = 'Like what you see? Visit the ' +\n",
              "            '<a target=\"_blank\" href=https://colab.research.google.com/notebooks/data_table.ipynb>data table notebook</a>'\n",
              "            + ' to learn more about interactive tables.';\n",
              "          element.innerHTML = '';\n",
              "          dataTable['output_type'] = 'display_data';\n",
              "          await google.colab.output.renderOutput(dataTable, element);\n",
              "          const docLink = document.createElement('div');\n",
              "          docLink.innerHTML = docLinkHtml;\n",
              "          element.appendChild(docLink);\n",
              "        }\n",
              "      </script>\n",
              "    </div>\n",
              "  </div>\n",
              "  "
            ]
          },
          "metadata": {},
          "execution_count": 19
        }
      ]
    },
    {
      "cell_type": "code",
      "source": [
        "df.ratings.value_counts()"
      ],
      "metadata": {
        "colab": {
          "base_uri": "https://localhost:8080/"
        },
        "id": "kVQkXw0jAH7l",
        "outputId": "c7b3b1b9-95fc-46bf-f8e5-44217daef328"
      },
      "execution_count": 20,
      "outputs": [
        {
          "output_type": "execute_result",
          "data": {
            "text/plain": [
              "5    4840\n",
              "4    2849\n",
              "3    1190\n",
              "1     567\n",
              "2     554\n",
              "Name: ratings, dtype: int64"
            ]
          },
          "metadata": {},
          "execution_count": 20
        }
      ]
    },
    {
      "cell_type": "code",
      "source": [
        "df.info()"
      ],
      "metadata": {
        "colab": {
          "base_uri": "https://localhost:8080/"
        },
        "id": "dS9v3SxVAKT7",
        "outputId": "31f47769-5c71-4bf7-ca4f-f09d60f7be33"
      },
      "execution_count": 21,
      "outputs": [
        {
          "output_type": "stream",
          "name": "stdout",
          "text": [
            "<class 'pandas.core.frame.DataFrame'>\n",
            "RangeIndex: 10000 entries, 0 to 9999\n",
            "Data columns (total 2 columns):\n",
            " #   Column   Non-Null Count  Dtype \n",
            "---  ------   --------------  ----- \n",
            " 0   ratings  10000 non-null  int64 \n",
            " 1   text     10000 non-null  object\n",
            "dtypes: int64(1), object(1)\n",
            "memory usage: 156.4+ KB\n"
          ]
        }
      ]
    },
    {
      "cell_type": "code",
      "source": [
        "ratings = df.ratings.value_counts().index\n",
        "ratings"
      ],
      "metadata": {
        "colab": {
          "base_uri": "https://localhost:8080/"
        },
        "id": "i2WIHBi_ANL2",
        "outputId": "d1f3b93b-22d6-4848-a688-f65d17004bd4"
      },
      "execution_count": 29,
      "outputs": [
        {
          "output_type": "execute_result",
          "data": {
            "text/plain": [
              "Int64Index([5, 4, 3, 1, 2], dtype='int64')"
            ]
          },
          "metadata": {},
          "execution_count": 29
        }
      ]
    },
    {
      "cell_type": "code",
      "source": [
        "qty = df.ratings.value_counts().values\n",
        "qty"
      ],
      "metadata": {
        "colab": {
          "base_uri": "https://localhost:8080/"
        },
        "id": "5lwMPB2VAaGf",
        "outputId": "7ee24f65-a10a-48df-d598-4313eda05e2d"
      },
      "execution_count": 30,
      "outputs": [
        {
          "output_type": "execute_result",
          "data": {
            "text/plain": [
              "array([4840, 2849, 1190,  567,  554])"
            ]
          },
          "metadata": {},
          "execution_count": 30
        }
      ]
    },
    {
      "cell_type": "code",
      "source": [
        "plt.figure(figsize=(10,8))\n",
        "plt.pie(qty, labels=ratings, colors=['skyblue', 'yellowgreen', 'tomato', 'blue', 'red'], autopct='%1.2f%%')\n",
        "plt.title('Hotel Reviews Ratings', fontsize=20)\n",
        "plt.show()"
      ],
      "metadata": {
        "colab": {
          "base_uri": "https://localhost:8080/",
          "height": 487
        },
        "id": "Hi8ryGTzA9lL",
        "outputId": "c9efd854-dc32-4c76-f2c6-4587c45dadfb"
      },
      "execution_count": 36,
      "outputs": [
        {
          "output_type": "display_data",
          "data": {
            "text/plain": [
              "<Figure size 720x576 with 1 Axes>"
            ],
            "image/png": "[encoded data removed]"
          },
          "metadata": {}
        }
      ]
    },
    {
      "cell_type": "code",
      "source": [
        "sentiments = SentimentIntensityAnalyzer()\n",
        "df['Positive'] = [sentiments.polarity_scores(i)['pos'] for i in df['text']]\n",
        "df['Negative'] = [sentiments.polarity_scores(i)['neg'] for i in df['text']]\n",
        "df['Neutral'] = [sentiments.polarity_scores(i)['neu'] for i in df['text']]\n",
        "df['Compound'] = [sentiments.polarity_scores(i)['compound'] for i in df['text']]"
      ],
      "metadata": {
        "colab": {
          "base_uri": "https://localhost:8080/"
        },
        "id": "ChsYckpfBRjf",
        "outputId": "25109dea-91df-42ef-c117-b9ddc6ddc478"
      },
      "execution_count": 37,
      "outputs": [
        {
          "output_type": "stream",
          "name": "stderr",
          "text": [
            "/usr/local/lib/python3.7/dist-packages/ipykernel_launcher.py:2: SettingWithCopyWarning: \n",
            "A value is trying to be set on a copy of a slice from a DataFrame.\n",
            "Try using .loc[row_indexer,col_indexer] = value instead\n",
            "\n",
            "See the caveats in the documentation: https://pandas.pydata.org/pandas-docs/stable/user_guide/indexing.html#returning-a-view-versus-a-copy\n",
            "  \n",
            "/usr/local/lib/python3.7/dist-packages/ipykernel_launcher.py:3: SettingWithCopyWarning: \n",
            "A value is trying to be set on a copy of a slice from a DataFrame.\n",
            "Try using .loc[row_indexer,col_indexer] = value instead\n",
            "\n",
            "See the caveats in the documentation: https://pandas.pydata.org/pandas-docs/stable/user_guide/indexing.html#returning-a-view-versus-a-copy\n",
            "  This is separate from the ipykernel package so we can avoid doing imports until\n",
            "/usr/local/lib/python3.7/dist-packages/ipykernel_launcher.py:4: SettingWithCopyWarning: \n",
            "A value is trying to be set on a copy of a slice from a DataFrame.\n",
            "Try using .loc[row_indexer,col_indexer] = value instead\n",
            "\n",
            "See the caveats in the documentation: https://pandas.pydata.org/pandas-docs/stable/user_guide/indexing.html#returning-a-view-versus-a-copy\n",
            "  after removing the cwd from sys.path.\n",
            "/usr/local/lib/python3.7/dist-packages/ipykernel_launcher.py:5: SettingWithCopyWarning: \n",
            "A value is trying to be set on a copy of a slice from a DataFrame.\n",
            "Try using .loc[row_indexer,col_indexer] = value instead\n",
            "\n",
            "See the caveats in the documentation: https://pandas.pydata.org/pandas-docs/stable/user_guide/indexing.html#returning-a-view-versus-a-copy\n",
            "  \"\"\"\n"
          ]
        }
      ]
    },
    {
      "cell_type": "code",
      "source": [
        "df.head()"
      ],
      "metadata": {
        "colab": {
          "base_uri": "https://localhost:8080/",
          "height": 206
        },
        "id": "aDq8EBKHCfqK",
        "outputId": "38d00504-7e79-4878-e647-a236a083516d"
      },
      "execution_count": 38,
      "outputs": [
        {
          "output_type": "execute_result",
          "data": {
            "text/plain": [
              "   ratings                                               text  Positive  \\\n",
              "0        3  This hotel was nice and quiet. Did not know, t...     0.172   \n",
              "1        4  We stayed in the king suite with the separatio...     0.112   \n",
              "2        3  Parking was horrible, somebody ran into my ren...     0.057   \n",
              "3        5  Not cheap but excellent location. Price is som...     0.207   \n",
              "4        2  If you get the room that they advertised on th...     0.000   \n",
              "\n",
              "   Negative  Neutral  Compound  \n",
              "0     0.000    0.828    0.8271  \n",
              "1     0.080    0.809    0.2892  \n",
              "2     0.063    0.880   -0.0772  \n",
              "3     0.159    0.634    0.5033  \n",
              "4     0.143    0.857   -0.8089  "
            ],
            "text/html": [
              "\n",
              "  <div id=\"df-02417d62-4897-4ff7-a787-0867473bfca4\">\n",
              "    <div class=\"colab-df-container\">\n",
              "      <div>\n",
              "<style scoped>\n",
              "    .dataframe tbody tr th:only-of-type {\n",
              "        vertical-align: middle;\n",
              "    }\n",
              "\n",
              "    .dataframe tbody tr th {\n",
              "        vertical-align: top;\n",
              "    }\n",
              "\n",
              "    .dataframe thead th {\n",
              "        text-align: right;\n",
              "    }\n",
              "</style>\n",
              "<table border=\"1\" class=\"dataframe\">\n",
              "  <thead>\n",
              "    <tr style=\"text-align: right;\">\n",
              "      <th></th>\n",
              "      <th>ratings</th>\n",
              "      <th>text</th>\n",
              "      <th>Positive</th>\n",
              "      <th>Negative</th>\n",
              "      <th>Neutral</th>\n",
              "      <th>Compound</th>\n",
              "    </tr>\n",
              "  </thead>\n",
              "  <tbody>\n",
              "    <tr>\n",
              "      <th>0</th>\n",
              "      <td>3</td>\n",
              "      <td>This hotel was nice and quiet. Did not know, t...</td>\n",
              "      <td>0.172</td>\n",
              "      <td>0.000</td>\n",
              "      <td>0.828</td>\n",
              "      <td>0.8271</td>\n",
              "    </tr>\n",
              "    <tr>\n",
              "      <th>1</th>\n",
              "      <td>4</td>\n",
              "      <td>We stayed in the king suite with the separatio...</td>\n",
              "      <td>0.112</td>\n",
              "      <td>0.080</td>\n",
              "      <td>0.809</td>\n",
              "      <td>0.2892</td>\n",
              "    </tr>\n",
              "    <tr>\n",
              "      <th>2</th>\n",
              "      <td>3</td>\n",
              "      <td>Parking was horrible, somebody ran into my ren...</td>\n",
              "      <td>0.057</td>\n",
              "      <td>0.063</td>\n",
              "      <td>0.880</td>\n",
              "      <td>-0.0772</td>\n",
              "    </tr>\n",
              "    <tr>\n",
              "      <th>3</th>\n",
              "      <td>5</td>\n",
              "      <td>Not cheap but excellent location. Price is som...</td>\n",
              "      <td>0.207</td>\n",
              "      <td>0.159</td>\n",
              "      <td>0.634</td>\n",
              "      <td>0.5033</td>\n",
              "    </tr>\n",
              "    <tr>\n",
              "      <th>4</th>\n",
              "      <td>2</td>\n",
              "      <td>If you get the room that they advertised on th...</td>\n",
              "      <td>0.000</td>\n",
              "      <td>0.143</td>\n",
              "      <td>0.857</td>\n",
              "      <td>-0.8089</td>\n",
              "    </tr>\n",
              "  </tbody>\n",
              "</table>\n",
              "</div>\n",
              "      <button class=\"colab-df-convert\" onclick=\"convertToInteractive('df-02417d62-4897-4ff7-a787-0867473bfca4')\"\n",
              "              title=\"Convert this dataframe to an interactive table.\"\n",
              "              style=\"display:none;\">\n",
              "        \n",
              "  <svg xmlns=\"http://www.w3.org/2000/svg\" height=\"24px\"viewBox=\"0 0 24 24\"\n",
              "       width=\"24px\">\n",
              "    <path d=\"M0 0h24v24H0V0z\" fill=\"none\"/>\n",
              "    <path d=\"M18.56 5.44l.94 2.06.94-2.06 2.06-.94-2.06-.94-.94-2.06-.94 2.06-2.06.94zm-11 1L8.5 8.5l.94-2.06 2.06-.94-2.06-.94L8.5 2.5l-.94 2.06-2.06.94zm10 10l.94 2.06.94-2.06 2.06-.94-2.06-.94-.94-2.06-.94 2.06-2.06.94z\"/><path d=\"M17.41 7.96l-1.37-1.37c-.4-.4-.92-.59-1.43-.59-.52 0-1.04.2-1.43.59L10.3 9.45l-7.72 7.72c-.78.78-.78 2.05 0 2.83L4 21.41c.39.39.9.59 1.41.59.51 0 1.02-.2 1.41-.59l7.78-7.78 2.81-2.81c.8-.78.8-2.07 0-2.86zM5.41 20L4 18.59l7.72-7.72 1.47 1.35L5.41 20z\"/>\n",
              "  </svg>\n",
              "      </button>\n",
              "      \n",
              "  <style>\n",
              "    .colab-df-container {\n",
              "      display:flex;\n",
              "      flex-wrap:wrap;\n",
              "      gap: 12px;\n",
              "    }\n",
              "\n",
              "    .colab-df-convert {\n",
              "      background-color: #E8F0FE;\n",
              "      border: none;\n",
              "      border-radius: 50%;\n",
              "      cursor: pointer;\n",
              "      display: none;\n",
              "      fill: #1967D2;\n",
              "      height: 32px;\n",
              "      padding: 0 0 0 0;\n",
              "      width: 32px;\n",
              "    }\n",
              "\n",
              "    .colab-df-convert:hover {\n",
              "      background-color: #E2EBFA;\n",
              "      box-shadow: 0px 1px 2px rgba(60, 64, 67, 0.3), 0px 1px 3px 1px rgba(60, 64, 67, 0.15);\n",
              "      fill: #174EA6;\n",
              "    }\n",
              "\n",
              "    [theme=dark] .colab-df-convert {\n",
              "      background-color: #3B4455;\n",
              "      fill: #D2E3FC;\n",
              "    }\n",
              "\n",
              "    [theme=dark] .colab-df-convert:hover {\n",
              "      background-color: #434B5C;\n",
              "      box-shadow: 0px 1px 3px 1px rgba(0, 0, 0, 0.15);\n",
              "      filter: drop-shadow(0px 1px 2px rgba(0, 0, 0, 0.3));\n",
              "      fill: #FFFFFF;\n",
              "    }\n",
              "  </style>\n",
              "\n",
              "      <script>\n",
              "        const buttonEl =\n",
              "          document.querySelector('#df-02417d62-4897-4ff7-a787-0867473bfca4 button.colab-df-convert');\n",
              "        buttonEl.style.display =\n",
              "          google.colab.kernel.accessAllowed ? 'block' : 'none';\n",
              "\n",
              "        async function convertToInteractive(key) {\n",
              "          const element = document.querySelector('#df-02417d62-4897-4ff7-a787-0867473bfca4');\n",
              "          const dataTable =\n",
              "            await google.colab.kernel.invokeFunction('convertToInteractive',\n",
              "                                                     [key], {});\n",
              "          if (!dataTable) return;\n",
              "\n",
              "          const docLinkHtml = 'Like what you see? Visit the ' +\n",
              "            '<a target=\"_blank\" href=https://colab.research.google.com/notebooks/data_table.ipynb>data table notebook</a>'\n",
              "            + ' to learn more about interactive tables.';\n",
              "          element.innerHTML = '';\n",
              "          dataTable['output_type'] = 'display_data';\n",
              "          await google.colab.output.renderOutput(dataTable, element);\n",
              "          const docLink = document.createElement('div');\n",
              "          docLink.innerHTML = docLinkHtml;\n",
              "          element.appendChild(docLink);\n",
              "        }\n",
              "      </script>\n",
              "    </div>\n",
              "  </div>\n",
              "  "
            ]
          },
          "metadata": {},
          "execution_count": 38
        }
      ]
    },
    {
      "cell_type": "code",
      "source": [
        "x = sum(df['Positive'])\n",
        "y = sum(df['Negative'])\n",
        "z = sum(df['Neutral'])\n",
        "c = sum(df['Compound'])"
      ],
      "metadata": {
        "id": "TFeKOy9QCRMC"
      },
      "execution_count": 39,
      "outputs": []
    },
    {
      "cell_type": "code",
      "source": [
        "print('Positive: ', x)\n",
        "print('Negative: ', y)\n",
        "print('Neutral: ', z)\n",
        "print('Compound: ', c)"
      ],
      "metadata": {
        "colab": {
          "base_uri": "https://localhost:8080/"
        },
        "id": "bxeWL7cxCn8S",
        "outputId": "37574ac7-dbb2-4498-c25f-440b127ff29f"
      },
      "execution_count": 40,
      "outputs": [
        {
          "output_type": "stream",
          "name": "stdout",
          "text": [
            "Positive:  2213.8119999999967\n",
            "Negative:  294.29399999999816\n",
            "Neutral:  7491.898999999987\n",
            "Compound:  7949.057800000011\n"
          ]
        }
      ]
    },
    {
      "cell_type": "code",
      "source": [
        "def sent_analysis(a,b,c):\n",
        "  if (a>b) and (a>c):\n",
        "    print('Positive')\n",
        "  elif (b>a) and (b>c):\n",
        "    print('Negative')\n",
        "  else:\n",
        "    print('Neutral')"
      ],
      "metadata": {
        "id": "CLgWHSJ5CvO2"
      },
      "execution_count": 41,
      "outputs": []
    },
    {
      "cell_type": "code",
      "source": [
        "sent_analysis(x,y,z)"
      ],
      "metadata": {
        "colab": {
          "base_uri": "https://localhost:8080/"
        },
        "id": "hyUSEx15C8PH",
        "outputId": "ead9feb6-9f12-46d0-f19c-722a77758bd7"
      },
      "execution_count": 42,
      "outputs": [
        {
          "output_type": "stream",
          "name": "stdout",
          "text": [
            "Neutral\n"
          ]
        }
      ]
    },
    {
      "cell_type": "code",
      "source": [
        ""
      ],
      "metadata": {
        "id": "7j8728mxC-Ab"
      },
      "execution_count": null,
      "outputs": []
    }
  ]
}