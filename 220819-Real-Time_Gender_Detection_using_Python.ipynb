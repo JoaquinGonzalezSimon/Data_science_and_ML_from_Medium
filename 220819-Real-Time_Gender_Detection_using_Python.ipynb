{
 "cells": [
  {
   "cell_type": "markdown",
   "metadata": {},
   "source": [
    "### This project was taken from the following link and I use it to practice my skills\n",
    "\n",
    "https://thecleverprogrammer.com/2021/06/18/real-time-gender-detection-using-python/\n",
    "\n",
    "https://medium.com/coders-camp/180-data-science-and-machine-learning-projects-with-python-6191bc7b9db9"
   ]
  },
  {
   "cell_type": "code",
   "execution_count": 1,
   "metadata": {},
   "outputs": [],
   "source": [
    "import cvlib as cv\n",
    "import cv2\n",
    "import numpy as np"
   ]
  },
  {
   "cell_type": "code",
   "execution_count": 20,
   "metadata": {},
   "outputs": [],
   "source": [
    "webcam = cv2.VideoCapture(0)\n",
    "padding = 20\n",
    "while True:\n",
    "    ret, frame = webcam.read()\n",
    "    face, confidence = cv.detect_face(frame)\n",
    "    (startX,startY) = max(0, f[0]-padding), max(0, f[1]-padding)\n",
    "    (endX,endY) = min(frame.shape[1]-1, f[2]+padding), \\\n",
    "                    min(frame.shape[0]-1, f[3]+padding)\n",
    "    cv2.rectangle(frame, (startX, startY), (endX, endY), (0,255,0), 2)\n",
    "    face_crop = np.copy(frame[startY:endY, startX:endX])\n",
    "    (label, confidence) = cv.detect_gender(face_crop)\n",
    "    idx = np.argmax(confidence)\n",
    "    label = label[idx] \n",
    "    label = \"{}: {:.2f}%\".format(label, confidence[idx] * 100)\n",
    "    Y = startY - 10 if startY - 10 > 10 else startY + 10\n",
    "    cv2.putText(frame, label, (startX,Y), cv2.FONT_HERSHEY_SIMPLEX, 0.7, (0, 255, 0), 2)\n",
    "    cv2.imshow('Real-time gender detection', frame)\n",
    "    if cv2.waitKey(1) & 0xFF == ord('q'):\n",
    "        break\n",
    "webcam.release()\n",
    "cv2.destroyAllWindows()"
   ]
  },
  {
   "cell_type": "code",
   "execution_count": null,
   "metadata": {},
   "outputs": [],
   "source": []
  }
 ],
 "metadata": {
  "kernelspec": {
   "display_name": "Python 3.10.2 64-bit",
   "language": "python",
   "name": "python3"
  },
  "language_info": {
   "codemirror_mode": {
    "name": "ipython",
    "version": 3
   },
   "file_extension": ".py",
   "mimetype": "text/x-python",
   "name": "python",
   "nbconvert_exporter": "python",
   "pygments_lexer": "ipython3",
   "version": "3.10.2"
  },
  "orig_nbformat": 4,
  "vscode": {
   "interpreter": {
    "hash": "268d64074831433b6d8ce17017f514bcbe9d44c4886ac0d5c8ad68ab11c3a2ff"
   }
  }
 },
 "nbformat": 4,
 "nbformat_minor": 2
}
