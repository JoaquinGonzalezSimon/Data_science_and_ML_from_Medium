{
  "nbformat": 4,
  "nbformat_minor": 0,
  "metadata": {
    "colab": {
      "name": "220820-Dogecoin_Price_Prediction_using_Python.ipynb",
      "provenance": [],
      "collapsed_sections": [],
      "authorship_tag": "ABX9TyMYqTmg0u7YxDilYkRMOvMB",
      "include_colab_link": true
    },
    "kernelspec": {
      "name": "python3",
      "display_name": "Python 3"
    },
    "language_info": {
      "name": "python"
    }
  },
  "cells": [
    {
      "cell_type": "markdown",
      "metadata": {
        "id": "view-in-github",
        "colab_type": "text"
      },
      "source": [
        "<a href=\"https://colab.research.google.com/github/JoaquinGonzalezSimon/Data_science_and_ML_from_Medium/blob/main/220820_Dogecoin_Price_Prediction_using_Python.ipynb\" target=\"_parent\"><img src=\"https://colab.research.google.com/assets/colab-badge.svg\" alt=\"Open In Colab\"/></a>"
      ]
    },
    {
      "cell_type": "markdown",
      "source": [
        "### This project was taken from the following link and I use it to practice my skills\n",
        "\n",
        "https://thecleverprogrammer.com/2021/05/25/dogecoin-price-prediction-with-machine-learning/\n",
        "\n",
        "https://medium.com/coders-camp/180-data-science-and-machine-learning-projects-with-python-6191bc7b9db9"
      ],
      "metadata": {
        "id": "HDG1vB1qix9j"
      }
    },
    {
      "cell_type": "code",
      "execution_count": 1,
      "metadata": {
        "colab": {
          "base_uri": "https://localhost:8080/"
        },
        "id": "Fw1cqTg3ijoc",
        "outputId": "f9133595-409e-444a-d5df-09fc25926778"
      },
      "outputs": [
        {
          "output_type": "stream",
          "name": "stdout",
          "text": [
            "Looking in indexes: https://pypi.org/simple, https://us-python.pkg.dev/colab-wheels/public/simple/\n",
            "Collecting yfinance\n",
            "  Downloading yfinance-0.1.74-py2.py3-none-any.whl (27 kB)\n",
            "Requirement already satisfied: multitasking>=0.0.7 in /usr/local/lib/python3.7/dist-packages (from yfinance) (0.0.11)\n",
            "Collecting requests>=2.26\n",
            "  Downloading requests-2.28.1-py3-none-any.whl (62 kB)\n",
            "\u001b[K     |████████████████████████████████| 62 kB 505 kB/s \n",
            "\u001b[?25hRequirement already satisfied: numpy>=1.15 in /usr/local/lib/python3.7/dist-packages (from yfinance) (1.21.6)\n",
            "Requirement already satisfied: lxml>=4.5.1 in /usr/local/lib/python3.7/dist-packages (from yfinance) (4.9.1)\n",
            "Requirement already satisfied: pandas>=0.24.0 in /usr/local/lib/python3.7/dist-packages (from yfinance) (1.3.5)\n",
            "Requirement already satisfied: pytz>=2017.3 in /usr/local/lib/python3.7/dist-packages (from pandas>=0.24.0->yfinance) (2022.2.1)\n",
            "Requirement already satisfied: python-dateutil>=2.7.3 in /usr/local/lib/python3.7/dist-packages (from pandas>=0.24.0->yfinance) (2.8.2)\n",
            "Requirement already satisfied: six>=1.5 in /usr/local/lib/python3.7/dist-packages (from python-dateutil>=2.7.3->pandas>=0.24.0->yfinance) (1.15.0)\n",
            "Requirement already satisfied: urllib3<1.27,>=1.21.1 in /usr/local/lib/python3.7/dist-packages (from requests>=2.26->yfinance) (1.24.3)\n",
            "Requirement already satisfied: charset-normalizer<3,>=2 in /usr/local/lib/python3.7/dist-packages (from requests>=2.26->yfinance) (2.1.0)\n",
            "Requirement already satisfied: idna<4,>=2.5 in /usr/local/lib/python3.7/dist-packages (from requests>=2.26->yfinance) (2.10)\n",
            "Requirement already satisfied: certifi>=2017.4.17 in /usr/local/lib/python3.7/dist-packages (from requests>=2.26->yfinance) (2022.6.15)\n",
            "Installing collected packages: requests, yfinance\n",
            "  Attempting uninstall: requests\n",
            "    Found existing installation: requests 2.23.0\n",
            "    Uninstalling requests-2.23.0:\n",
            "      Successfully uninstalled requests-2.23.0\n",
            "Successfully installed requests-2.28.1 yfinance-0.1.74\n"
          ]
        }
      ],
      "source": [
        "pip install yfinance"
      ]
    },
    {
      "cell_type": "code",
      "source": [
        "import pandas as pd\n",
        "import numpy as np\n",
        "import yfinance as yf\n",
        "import matplotlib.pyplot as plt\n",
        "import seaborn as sns\n",
        "from seaborn import regression\n",
        "from datetime import date, timedelta\n",
        "import datetime"
      ],
      "metadata": {
        "id": "ckrMXiyLi7fa"
      },
      "execution_count": 4,
      "outputs": []
    },
    {
      "cell_type": "code",
      "source": [
        "date.today()"
      ],
      "metadata": {
        "colab": {
          "base_uri": "https://localhost:8080/"
        },
        "id": "ZqWXmZuBlGUc",
        "outputId": "c787b925-1fa1-4709-c851-dd21f05c34da"
      },
      "execution_count": 5,
      "outputs": [
        {
          "output_type": "execute_result",
          "data": {
            "text/plain": [
              "datetime.date(2022, 8, 20)"
            ]
          },
          "metadata": {},
          "execution_count": 5
        }
      ]
    },
    {
      "cell_type": "code",
      "source": [
        "end_date = date.today() - timedelta(1)\n",
        "end_date = end_date.strftime('%Y-%m-%d')\n",
        "end_date"
      ],
      "metadata": {
        "colab": {
          "base_uri": "https://localhost:8080/",
          "height": 36
        },
        "id": "bUnMn0BgjEtq",
        "outputId": "d3183f7c-6b1a-4074-d62b-78d85f8b7c19"
      },
      "execution_count": 7,
      "outputs": [
        {
          "output_type": "execute_result",
          "data": {
            "text/plain": [
              "'2022-08-19'"
            ],
            "application/vnd.google.colaboratory.intrinsic+json": {
              "type": "string"
            }
          },
          "metadata": {},
          "execution_count": 7
        }
      ]
    },
    {
      "cell_type": "code",
      "source": [
        "start_date = date.today() - timedelta(365*5)\n",
        "start_date = start_date.strftime('%Y-%m-%d')\n",
        "start_date"
      ],
      "metadata": {
        "colab": {
          "base_uri": "https://localhost:8080/",
          "height": 36
        },
        "id": "f6imbza-lJ_z",
        "outputId": "689af85e-6972-4425-e403-1ae057a20257"
      },
      "execution_count": 8,
      "outputs": [
        {
          "output_type": "execute_result",
          "data": {
            "text/plain": [
              "'2017-08-21'"
            ],
            "application/vnd.google.colaboratory.intrinsic+json": {
              "type": "string"
            }
          },
          "metadata": {},
          "execution_count": 8
        }
      ]
    },
    {
      "cell_type": "code",
      "source": [
        "data = yf.download('DOGE-USD', start=start_date, end=end_date, progress=True)"
      ],
      "metadata": {
        "colab": {
          "base_uri": "https://localhost:8080/"
        },
        "id": "gq5wq79alaLv",
        "outputId": "0d54dea7-0c27-461e-9555-1c8acc50b626"
      },
      "execution_count": 9,
      "outputs": [
        {
          "output_type": "stream",
          "name": "stdout",
          "text": [
            "\r[*********************100%***********************]  1 of 1 completed\n"
          ]
        }
      ]
    },
    {
      "cell_type": "code",
      "source": [
        "data.info()"
      ],
      "metadata": {
        "colab": {
          "base_uri": "https://localhost:8080/"
        },
        "id": "GKvBMftHlo-0",
        "outputId": "39afaa7c-c8cc-434e-9676-7306ba999348"
      },
      "execution_count": 10,
      "outputs": [
        {
          "output_type": "stream",
          "name": "stdout",
          "text": [
            "<class 'pandas.core.frame.DataFrame'>\n",
            "DatetimeIndex: 1745 entries, 2017-11-09 to 2022-08-19\n",
            "Data columns (total 6 columns):\n",
            " #   Column     Non-Null Count  Dtype  \n",
            "---  ------     --------------  -----  \n",
            " 0   Open       1745 non-null   float64\n",
            " 1   High       1745 non-null   float64\n",
            " 2   Low        1745 non-null   float64\n",
            " 3   Close      1745 non-null   float64\n",
            " 4   Adj Close  1745 non-null   float64\n",
            " 5   Volume     1745 non-null   int64  \n",
            "dtypes: float64(5), int64(1)\n",
            "memory usage: 95.4 KB\n"
          ]
        }
      ]
    },
    {
      "cell_type": "code",
      "source": [
        "data.head()"
      ],
      "metadata": {
        "colab": {
          "base_uri": "https://localhost:8080/",
          "height": 237
        },
        "id": "jJsbhbpXlqLb",
        "outputId": "6dc15ec3-cd97-46ab-9fbc-82c66552b302"
      },
      "execution_count": 11,
      "outputs": [
        {
          "output_type": "execute_result",
          "data": {
            "text/plain": [
              "                Open      High       Low     Close  Adj Close   Volume\n",
              "Date                                                                  \n",
              "2017-11-09  0.001207  0.001415  0.001181  0.001415   0.001415  6259550\n",
              "2017-11-10  0.001421  0.001431  0.001125  0.001163   0.001163  4246520\n",
              "2017-11-11  0.001146  0.001257  0.001141  0.001201   0.001201  2231080\n",
              "2017-11-12  0.001189  0.001210  0.001002  0.001038   0.001038  3288960\n",
              "2017-11-13  0.001046  0.001212  0.001019  0.001211   0.001211  2481270"
            ],
            "text/html": [
              "\n",
              "  <div id=\"df-fc00c922-bb01-4210-a5c4-f930c074699c\">\n",
              "    <div class=\"colab-df-container\">\n",
              "      <div>\n",
              "<style scoped>\n",
              "    .dataframe tbody tr th:only-of-type {\n",
              "        vertical-align: middle;\n",
              "    }\n",
              "\n",
              "    .dataframe tbody tr th {\n",
              "        vertical-align: top;\n",
              "    }\n",
              "\n",
              "    .dataframe thead th {\n",
              "        text-align: right;\n",
              "    }\n",
              "</style>\n",
              "<table border=\"1\" class=\"dataframe\">\n",
              "  <thead>\n",
              "    <tr style=\"text-align: right;\">\n",
              "      <th></th>\n",
              "      <th>Open</th>\n",
              "      <th>High</th>\n",
              "      <th>Low</th>\n",
              "      <th>Close</th>\n",
              "      <th>Adj Close</th>\n",
              "      <th>Volume</th>\n",
              "    </tr>\n",
              "    <tr>\n",
              "      <th>Date</th>\n",
              "      <th></th>\n",
              "      <th></th>\n",
              "      <th></th>\n",
              "      <th></th>\n",
              "      <th></th>\n",
              "      <th></th>\n",
              "    </tr>\n",
              "  </thead>\n",
              "  <tbody>\n",
              "    <tr>\n",
              "      <th>2017-11-09</th>\n",
              "      <td>0.001207</td>\n",
              "      <td>0.001415</td>\n",
              "      <td>0.001181</td>\n",
              "      <td>0.001415</td>\n",
              "      <td>0.001415</td>\n",
              "      <td>6259550</td>\n",
              "    </tr>\n",
              "    <tr>\n",
              "      <th>2017-11-10</th>\n",
              "      <td>0.001421</td>\n",
              "      <td>0.001431</td>\n",
              "      <td>0.001125</td>\n",
              "      <td>0.001163</td>\n",
              "      <td>0.001163</td>\n",
              "      <td>4246520</td>\n",
              "    </tr>\n",
              "    <tr>\n",
              "      <th>2017-11-11</th>\n",
              "      <td>0.001146</td>\n",
              "      <td>0.001257</td>\n",
              "      <td>0.001141</td>\n",
              "      <td>0.001201</td>\n",
              "      <td>0.001201</td>\n",
              "      <td>2231080</td>\n",
              "    </tr>\n",
              "    <tr>\n",
              "      <th>2017-11-12</th>\n",
              "      <td>0.001189</td>\n",
              "      <td>0.001210</td>\n",
              "      <td>0.001002</td>\n",
              "      <td>0.001038</td>\n",
              "      <td>0.001038</td>\n",
              "      <td>3288960</td>\n",
              "    </tr>\n",
              "    <tr>\n",
              "      <th>2017-11-13</th>\n",
              "      <td>0.001046</td>\n",
              "      <td>0.001212</td>\n",
              "      <td>0.001019</td>\n",
              "      <td>0.001211</td>\n",
              "      <td>0.001211</td>\n",
              "      <td>2481270</td>\n",
              "    </tr>\n",
              "  </tbody>\n",
              "</table>\n",
              "</div>\n",
              "      <button class=\"colab-df-convert\" onclick=\"convertToInteractive('df-fc00c922-bb01-4210-a5c4-f930c074699c')\"\n",
              "              title=\"Convert this dataframe to an interactive table.\"\n",
              "              style=\"display:none;\">\n",
              "        \n",
              "  <svg xmlns=\"http://www.w3.org/2000/svg\" height=\"24px\"viewBox=\"0 0 24 24\"\n",
              "       width=\"24px\">\n",
              "    <path d=\"M0 0h24v24H0V0z\" fill=\"none\"/>\n",
              "    <path d=\"M18.56 5.44l.94 2.06.94-2.06 2.06-.94-2.06-.94-.94-2.06-.94 2.06-2.06.94zm-11 1L8.5 8.5l.94-2.06 2.06-.94-2.06-.94L8.5 2.5l-.94 2.06-2.06.94zm10 10l.94 2.06.94-2.06 2.06-.94-2.06-.94-.94-2.06-.94 2.06-2.06.94z\"/><path d=\"M17.41 7.96l-1.37-1.37c-.4-.4-.92-.59-1.43-.59-.52 0-1.04.2-1.43.59L10.3 9.45l-7.72 7.72c-.78.78-.78 2.05 0 2.83L4 21.41c.39.39.9.59 1.41.59.51 0 1.02-.2 1.41-.59l7.78-7.78 2.81-2.81c.8-.78.8-2.07 0-2.86zM5.41 20L4 18.59l7.72-7.72 1.47 1.35L5.41 20z\"/>\n",
              "  </svg>\n",
              "      </button>\n",
              "      \n",
              "  <style>\n",
              "    .colab-df-container {\n",
              "      display:flex;\n",
              "      flex-wrap:wrap;\n",
              "      gap: 12px;\n",
              "    }\n",
              "\n",
              "    .colab-df-convert {\n",
              "      background-color: #E8F0FE;\n",
              "      border: none;\n",
              "      border-radius: 50%;\n",
              "      cursor: pointer;\n",
              "      display: none;\n",
              "      fill: #1967D2;\n",
              "      height: 32px;\n",
              "      padding: 0 0 0 0;\n",
              "      width: 32px;\n",
              "    }\n",
              "\n",
              "    .colab-df-convert:hover {\n",
              "      background-color: #E2EBFA;\n",
              "      box-shadow: 0px 1px 2px rgba(60, 64, 67, 0.3), 0px 1px 3px 1px rgba(60, 64, 67, 0.15);\n",
              "      fill: #174EA6;\n",
              "    }\n",
              "\n",
              "    [theme=dark] .colab-df-convert {\n",
              "      background-color: #3B4455;\n",
              "      fill: #D2E3FC;\n",
              "    }\n",
              "\n",
              "    [theme=dark] .colab-df-convert:hover {\n",
              "      background-color: #434B5C;\n",
              "      box-shadow: 0px 1px 3px 1px rgba(0, 0, 0, 0.15);\n",
              "      filter: drop-shadow(0px 1px 2px rgba(0, 0, 0, 0.3));\n",
              "      fill: #FFFFFF;\n",
              "    }\n",
              "  </style>\n",
              "\n",
              "      <script>\n",
              "        const buttonEl =\n",
              "          document.querySelector('#df-fc00c922-bb01-4210-a5c4-f930c074699c button.colab-df-convert');\n",
              "        buttonEl.style.display =\n",
              "          google.colab.kernel.accessAllowed ? 'block' : 'none';\n",
              "\n",
              "        async function convertToInteractive(key) {\n",
              "          const element = document.querySelector('#df-fc00c922-bb01-4210-a5c4-f930c074699c');\n",
              "          const dataTable =\n",
              "            await google.colab.kernel.invokeFunction('convertToInteractive',\n",
              "                                                     [key], {});\n",
              "          if (!dataTable) return;\n",
              "\n",
              "          const docLinkHtml = 'Like what you see? Visit the ' +\n",
              "            '<a target=\"_blank\" href=https://colab.research.google.com/notebooks/data_table.ipynb>data table notebook</a>'\n",
              "            + ' to learn more about interactive tables.';\n",
              "          element.innerHTML = '';\n",
              "          dataTable['output_type'] = 'display_data';\n",
              "          await google.colab.output.renderOutput(dataTable, element);\n",
              "          const docLink = document.createElement('div');\n",
              "          docLink.innerHTML = docLinkHtml;\n",
              "          element.appendChild(docLink);\n",
              "        }\n",
              "      </script>\n",
              "    </div>\n",
              "  </div>\n",
              "  "
            ]
          },
          "metadata": {},
          "execution_count": 11
        }
      ]
    },
    {
      "cell_type": "code",
      "source": [
        "data.reset_index(drop=False, inplace=True)\n",
        "data.head()"
      ],
      "metadata": {
        "colab": {
          "base_uri": "https://localhost:8080/",
          "height": 206
        },
        "id": "h3blIzxonPB8",
        "outputId": "489b996f-3346-46f8-cb1a-33dcfe3c7eff"
      },
      "execution_count": 22,
      "outputs": [
        {
          "output_type": "execute_result",
          "data": {
            "text/plain": [
              "        Date      Open      High       Low     Close  Adj Close   Volume\n",
              "0 2017-11-09  0.001207  0.001415  0.001181  0.001415   0.001415  6259550\n",
              "1 2017-11-10  0.001421  0.001431  0.001125  0.001163   0.001163  4246520\n",
              "2 2017-11-11  0.001146  0.001257  0.001141  0.001201   0.001201  2231080\n",
              "3 2017-11-12  0.001189  0.001210  0.001002  0.001038   0.001038  3288960\n",
              "4 2017-11-13  0.001046  0.001212  0.001019  0.001211   0.001211  2481270"
            ],
            "text/html": [
              "\n",
              "  <div id=\"df-20258337-0bd9-42cf-b356-ce4ac5c9eba0\">\n",
              "    <div class=\"colab-df-container\">\n",
              "      <div>\n",
              "<style scoped>\n",
              "    .dataframe tbody tr th:only-of-type {\n",
              "        vertical-align: middle;\n",
              "    }\n",
              "\n",
              "    .dataframe tbody tr th {\n",
              "        vertical-align: top;\n",
              "    }\n",
              "\n",
              "    .dataframe thead th {\n",
              "        text-align: right;\n",
              "    }\n",
              "</style>\n",
              "<table border=\"1\" class=\"dataframe\">\n",
              "  <thead>\n",
              "    <tr style=\"text-align: right;\">\n",
              "      <th></th>\n",
              "      <th>Date</th>\n",
              "      <th>Open</th>\n",
              "      <th>High</th>\n",
              "      <th>Low</th>\n",
              "      <th>Close</th>\n",
              "      <th>Adj Close</th>\n",
              "      <th>Volume</th>\n",
              "    </tr>\n",
              "  </thead>\n",
              "  <tbody>\n",
              "    <tr>\n",
              "      <th>0</th>\n",
              "      <td>2017-11-09</td>\n",
              "      <td>0.001207</td>\n",
              "      <td>0.001415</td>\n",
              "      <td>0.001181</td>\n",
              "      <td>0.001415</td>\n",
              "      <td>0.001415</td>\n",
              "      <td>6259550</td>\n",
              "    </tr>\n",
              "    <tr>\n",
              "      <th>1</th>\n",
              "      <td>2017-11-10</td>\n",
              "      <td>0.001421</td>\n",
              "      <td>0.001431</td>\n",
              "      <td>0.001125</td>\n",
              "      <td>0.001163</td>\n",
              "      <td>0.001163</td>\n",
              "      <td>4246520</td>\n",
              "    </tr>\n",
              "    <tr>\n",
              "      <th>2</th>\n",
              "      <td>2017-11-11</td>\n",
              "      <td>0.001146</td>\n",
              "      <td>0.001257</td>\n",
              "      <td>0.001141</td>\n",
              "      <td>0.001201</td>\n",
              "      <td>0.001201</td>\n",
              "      <td>2231080</td>\n",
              "    </tr>\n",
              "    <tr>\n",
              "      <th>3</th>\n",
              "      <td>2017-11-12</td>\n",
              "      <td>0.001189</td>\n",
              "      <td>0.001210</td>\n",
              "      <td>0.001002</td>\n",
              "      <td>0.001038</td>\n",
              "      <td>0.001038</td>\n",
              "      <td>3288960</td>\n",
              "    </tr>\n",
              "    <tr>\n",
              "      <th>4</th>\n",
              "      <td>2017-11-13</td>\n",
              "      <td>0.001046</td>\n",
              "      <td>0.001212</td>\n",
              "      <td>0.001019</td>\n",
              "      <td>0.001211</td>\n",
              "      <td>0.001211</td>\n",
              "      <td>2481270</td>\n",
              "    </tr>\n",
              "  </tbody>\n",
              "</table>\n",
              "</div>\n",
              "      <button class=\"colab-df-convert\" onclick=\"convertToInteractive('df-20258337-0bd9-42cf-b356-ce4ac5c9eba0')\"\n",
              "              title=\"Convert this dataframe to an interactive table.\"\n",
              "              style=\"display:none;\">\n",
              "        \n",
              "  <svg xmlns=\"http://www.w3.org/2000/svg\" height=\"24px\"viewBox=\"0 0 24 24\"\n",
              "       width=\"24px\">\n",
              "    <path d=\"M0 0h24v24H0V0z\" fill=\"none\"/>\n",
              "    <path d=\"M18.56 5.44l.94 2.06.94-2.06 2.06-.94-2.06-.94-.94-2.06-.94 2.06-2.06.94zm-11 1L8.5 8.5l.94-2.06 2.06-.94-2.06-.94L8.5 2.5l-.94 2.06-2.06.94zm10 10l.94 2.06.94-2.06 2.06-.94-2.06-.94-.94-2.06-.94 2.06-2.06.94z\"/><path d=\"M17.41 7.96l-1.37-1.37c-.4-.4-.92-.59-1.43-.59-.52 0-1.04.2-1.43.59L10.3 9.45l-7.72 7.72c-.78.78-.78 2.05 0 2.83L4 21.41c.39.39.9.59 1.41.59.51 0 1.02-.2 1.41-.59l7.78-7.78 2.81-2.81c.8-.78.8-2.07 0-2.86zM5.41 20L4 18.59l7.72-7.72 1.47 1.35L5.41 20z\"/>\n",
              "  </svg>\n",
              "      </button>\n",
              "      \n",
              "  <style>\n",
              "    .colab-df-container {\n",
              "      display:flex;\n",
              "      flex-wrap:wrap;\n",
              "      gap: 12px;\n",
              "    }\n",
              "\n",
              "    .colab-df-convert {\n",
              "      background-color: #E8F0FE;\n",
              "      border: none;\n",
              "      border-radius: 50%;\n",
              "      cursor: pointer;\n",
              "      display: none;\n",
              "      fill: #1967D2;\n",
              "      height: 32px;\n",
              "      padding: 0 0 0 0;\n",
              "      width: 32px;\n",
              "    }\n",
              "\n",
              "    .colab-df-convert:hover {\n",
              "      background-color: #E2EBFA;\n",
              "      box-shadow: 0px 1px 2px rgba(60, 64, 67, 0.3), 0px 1px 3px 1px rgba(60, 64, 67, 0.15);\n",
              "      fill: #174EA6;\n",
              "    }\n",
              "\n",
              "    [theme=dark] .colab-df-convert {\n",
              "      background-color: #3B4455;\n",
              "      fill: #D2E3FC;\n",
              "    }\n",
              "\n",
              "    [theme=dark] .colab-df-convert:hover {\n",
              "      background-color: #434B5C;\n",
              "      box-shadow: 0px 1px 3px 1px rgba(0, 0, 0, 0.15);\n",
              "      filter: drop-shadow(0px 1px 2px rgba(0, 0, 0, 0.3));\n",
              "      fill: #FFFFFF;\n",
              "    }\n",
              "  </style>\n",
              "\n",
              "      <script>\n",
              "        const buttonEl =\n",
              "          document.querySelector('#df-20258337-0bd9-42cf-b356-ce4ac5c9eba0 button.colab-df-convert');\n",
              "        buttonEl.style.display =\n",
              "          google.colab.kernel.accessAllowed ? 'block' : 'none';\n",
              "\n",
              "        async function convertToInteractive(key) {\n",
              "          const element = document.querySelector('#df-20258337-0bd9-42cf-b356-ce4ac5c9eba0');\n",
              "          const dataTable =\n",
              "            await google.colab.kernel.invokeFunction('convertToInteractive',\n",
              "                                                     [key], {});\n",
              "          if (!dataTable) return;\n",
              "\n",
              "          const docLinkHtml = 'Like what you see? Visit the ' +\n",
              "            '<a target=\"_blank\" href=https://colab.research.google.com/notebooks/data_table.ipynb>data table notebook</a>'\n",
              "            + ' to learn more about interactive tables.';\n",
              "          element.innerHTML = '';\n",
              "          dataTable['output_type'] = 'display_data';\n",
              "          await google.colab.output.renderOutput(dataTable, element);\n",
              "          const docLink = document.createElement('div');\n",
              "          docLink.innerHTML = docLinkHtml;\n",
              "          element.appendChild(docLink);\n",
              "        }\n",
              "      </script>\n",
              "    </div>\n",
              "  </div>\n",
              "  "
            ]
          },
          "metadata": {},
          "execution_count": 22
        }
      ]
    },
    {
      "cell_type": "code",
      "source": [
        "sns.set()\n",
        "plt.style.use('seaborn-whitegrid')"
      ],
      "metadata": {
        "id": "EHcHHnfIluLk"
      },
      "execution_count": 13,
      "outputs": []
    },
    {
      "cell_type": "code",
      "source": [
        "plt.figure(figsize=(15,8))\n",
        "plt.title('Dogecoin price evolution')\n",
        "plt.xlabel('Date')\n",
        "plt.ylabel('Close')\n",
        "plt.plot(data['Close'])\n",
        "plt.show()"
      ],
      "metadata": {
        "colab": {
          "base_uri": "https://localhost:8080/",
          "height": 510
        },
        "id": "_D6iBnEKmNx9",
        "outputId": "81ac07dd-86b5-467b-e1e8-93f6b407f46f"
      },
      "execution_count": 17,
      "outputs": [
        {
          "output_type": "display_data",
          "data": {
            "text/plain": [
              "<Figure size 1080x576 with 1 Axes>"
            ],
            "image/png": "[encoded data removed]"
          },
          "metadata": {}
        }
      ]
    },
    {
      "cell_type": "code",
      "source": [
        "pip install autots"
      ],
      "metadata": {
        "colab": {
          "base_uri": "https://localhost:8080/"
        },
        "id": "_36kVblfmc_j",
        "outputId": "7cc2d302-ba8c-42aa-d592-79ed28a34e88"
      },
      "execution_count": 18,
      "outputs": [
        {
          "output_type": "stream",
          "name": "stdout",
          "text": [
            "Looking in indexes: https://pypi.org/simple, https://us-python.pkg.dev/colab-wheels/public/simple/\n",
            "Collecting autots\n",
            "  Downloading AutoTS-0.4.2-py3-none-any.whl (486 kB)\n",
            "\u001b[K     |████████████████████████████████| 486 kB 22.0 MB/s \n",
            "\u001b[?25hRequirement already satisfied: numpy>=1.14.6 in /usr/local/lib/python3.7/dist-packages (from autots) (1.21.6)\n",
            "Requirement already satisfied: scikit-learn>=0.20.* in /usr/local/lib/python3.7/dist-packages (from autots) (1.0.2)\n",
            "Requirement already satisfied: statsmodels>=0.10.* in /usr/local/lib/python3.7/dist-packages (from autots) (0.12.2)\n",
            "Requirement already satisfied: pandas>=0.25.* in /usr/local/lib/python3.7/dist-packages (from autots) (1.3.5)\n",
            "Requirement already satisfied: python-dateutil>=2.7.3 in /usr/local/lib/python3.7/dist-packages (from pandas>=0.25.*->autots) (2.8.2)\n",
            "Requirement already satisfied: pytz>=2017.3 in /usr/local/lib/python3.7/dist-packages (from pandas>=0.25.*->autots) (2022.2.1)\n",
            "Requirement already satisfied: six>=1.5 in /usr/local/lib/python3.7/dist-packages (from python-dateutil>=2.7.3->pandas>=0.25.*->autots) (1.15.0)\n",
            "Requirement already satisfied: threadpoolctl>=2.0.0 in /usr/local/lib/python3.7/dist-packages (from scikit-learn>=0.20.*->autots) (3.1.0)\n",
            "Requirement already satisfied: scipy>=1.1.0 in /usr/local/lib/python3.7/dist-packages (from scikit-learn>=0.20.*->autots) (1.7.3)\n",
            "Requirement already satisfied: joblib>=0.11 in /usr/local/lib/python3.7/dist-packages (from scikit-learn>=0.20.*->autots) (1.1.0)\n",
            "Requirement already satisfied: patsy>=0.5 in /usr/local/lib/python3.7/dist-packages (from statsmodels>=0.10.*->autots) (0.5.2)\n",
            "Installing collected packages: autots\n",
            "Successfully installed autots-0.4.2\n"
          ]
        }
      ]
    },
    {
      "cell_type": "code",
      "source": [
        "from autots import AutoTS"
      ],
      "metadata": {
        "id": "gCa5N_Eumnoo"
      },
      "execution_count": 20,
      "outputs": []
    },
    {
      "cell_type": "code",
      "source": [
        "model = AutoTS(forecast_length=10, frequency='infer', ensemble='simple', drop_data_older_than_periods=200)\n",
        "model.fit(data, date_col='Date', value_col='Close', id_col=None)"
      ],
      "metadata": {
        "colab": {
          "base_uri": "https://localhost:8080/"
        },
        "id": "scXdaWV5mtv-",
        "outputId": "0f49f629-10ac-4bd7-b84d-7793691fa960"
      },
      "execution_count": 23,
      "outputs": [
        {
          "output_type": "stream",
          "name": "stdout",
          "text": [
            "Inferred frequency is: D\n",
            "Old data dropped by `drop_data_older_than_periods`.\n",
            "Model Number: 1 with model AverageValueNaive in generation 0 of 10\n",
            "Model Number: 2 with model AverageValueNaive in generation 0 of 10\n",
            "Model Number: 3 with model AverageValueNaive in generation 0 of 10\n",
            "Model Number: 4 with model DatepartRegression in generation 0 of 10\n",
            "Model Number: 5 with model DatepartRegression in generation 0 of 10\n",
            "Model Number: 6 with model DatepartRegression in generation 0 of 10\n"
          ]
        },
        {
          "output_type": "stream",
          "name": "stderr",
          "text": [
            "/usr/local/lib/python3.7/dist-packages/sklearn/svm/_base.py:1208: ConvergenceWarning: Liblinear failed to converge, increase the number of iterations.\n",
            "  ConvergenceWarning,\n",
            "/usr/local/lib/python3.7/dist-packages/sklearn/neural_network/_multilayer_perceptron.py:549: ConvergenceWarning: lbfgs failed to converge (status=1):\n",
            "STOP: TOTAL NO. of ITERATIONS REACHED LIMIT.\n",
            "\n",
            "Increase the number of iterations (max_iter) or scale the data as shown in:\n",
            "    https://scikit-learn.org/stable/modules/preprocessing.html\n",
            "  self.n_iter_ = _check_optimize_result(\"lbfgs\", opt_res, self.max_iter)\n"
          ]
        },
        {
          "output_type": "stream",
          "name": "stdout",
          "text": [
            "Model Number: 7 with model DatepartRegression in generation 0 of 10\n",
            "Epoch 1/50\n",
            "6/6 [==============================] - 13s 10ms/step - loss: 0.1918\n",
            "Epoch 2/50\n",
            "6/6 [==============================] - 0s 11ms/step - loss: 0.1886\n",
            "Epoch 3/50\n",
            "6/6 [==============================] - 0s 11ms/step - loss: 0.1875\n",
            "Epoch 4/50\n",
            "6/6 [==============================] - 0s 12ms/step - loss: 0.1881\n",
            "Epoch 5/50\n",
            "6/6 [==============================] - 0s 9ms/step - loss: 0.1869\n",
            "Epoch 6/50\n",
            "6/6 [==============================] - 0s 12ms/step - loss: 0.1868\n",
            "Epoch 7/50\n",
            "6/6 [==============================] - 0s 10ms/step - loss: 0.1873\n",
            "Epoch 8/50\n",
            "6/6 [==============================] - 0s 13ms/step - loss: 0.1865\n",
            "Epoch 9/50\n",
            "6/6 [==============================] - 0s 10ms/step - loss: 0.1864\n",
            "Epoch 10/50\n",
            "6/6 [==============================] - 0s 12ms/step - loss: 0.1868\n",
            "Epoch 11/50\n",
            "6/6 [==============================] - 0s 13ms/step - loss: 0.1864\n",
            "Epoch 12/50\n",
            "6/6 [==============================] - 0s 13ms/step - loss: 0.1860\n",
            "Epoch 13/50\n",
            "6/6 [==============================] - 0s 13ms/step - loss: 0.1864\n",
            "Epoch 14/50\n",
            "6/6 [==============================] - 0s 12ms/step - loss: 0.1862\n",
            "Epoch 15/50\n",
            "6/6 [==============================] - 0s 8ms/step - loss: 0.1851\n",
            "Epoch 16/50\n",
            "6/6 [==============================] - 0s 13ms/step - loss: 0.1851\n",
            "Epoch 17/50\n",
            "6/6 [==============================] - 0s 11ms/step - loss: 0.1849\n",
            "Epoch 18/50\n",
            "6/6 [==============================] - 0s 10ms/step - loss: 0.1849\n",
            "Epoch 19/50\n",
            "6/6 [==============================] - 0s 12ms/step - loss: 0.1839\n",
            "Epoch 20/50\n",
            "6/6 [==============================] - 0s 11ms/step - loss: 0.1848\n",
            "Epoch 21/50\n",
            "6/6 [==============================] - 0s 10ms/step - loss: 0.1846\n",
            "Epoch 22/50\n",
            "6/6 [==============================] - 0s 11ms/step - loss: 0.1838\n",
            "Epoch 23/50\n",
            "6/6 [==============================] - 0s 11ms/step - loss: 0.1842\n",
            "Epoch 24/50\n",
            "6/6 [==============================] - 0s 11ms/step - loss: 0.1844\n",
            "Epoch 25/50\n",
            "6/6 [==============================] - 0s 8ms/step - loss: 0.1842\n",
            "Epoch 26/50\n",
            "6/6 [==============================] - 0s 11ms/step - loss: 0.1844\n",
            "Epoch 27/50\n",
            "6/6 [==============================] - 0s 10ms/step - loss: 0.1840\n",
            "Epoch 28/50\n",
            "6/6 [==============================] - 0s 10ms/step - loss: 0.1827\n",
            "Epoch 29/50\n",
            "6/6 [==============================] - 0s 11ms/step - loss: 0.1834\n",
            "Epoch 30/50\n",
            "6/6 [==============================] - 0s 13ms/step - loss: 0.1831\n",
            "Epoch 31/50\n",
            "6/6 [==============================] - 0s 13ms/step - loss: 0.1831\n",
            "Epoch 32/50\n",
            "6/6 [==============================] - 0s 11ms/step - loss: 0.1834\n",
            "Epoch 33/50\n",
            "6/6 [==============================] - 0s 10ms/step - loss: 0.1829\n",
            "Epoch 34/50\n",
            "6/6 [==============================] - 0s 11ms/step - loss: 0.1838\n",
            "Epoch 35/50\n",
            "6/6 [==============================] - 0s 10ms/step - loss: 0.1831\n",
            "Epoch 36/50\n",
            "6/6 [==============================] - 0s 11ms/step - loss: 0.1824\n",
            "Epoch 37/50\n",
            "6/6 [==============================] - 0s 13ms/step - loss: 0.1818\n",
            "Epoch 38/50\n",
            "6/6 [==============================] - 0s 10ms/step - loss: 0.1816\n",
            "Epoch 39/50\n",
            "6/6 [==============================] - 0s 12ms/step - loss: 0.1816\n",
            "Epoch 40/50\n",
            "6/6 [==============================] - 0s 11ms/step - loss: 0.1819\n",
            "Epoch 41/50\n",
            "6/6 [==============================] - 0s 11ms/step - loss: 0.1826\n",
            "Epoch 42/50\n",
            "6/6 [==============================] - 0s 10ms/step - loss: 0.1816\n",
            "Epoch 43/50\n",
            "6/6 [==============================] - 0s 13ms/step - loss: 0.1821\n",
            "Epoch 44/50\n",
            "6/6 [==============================] - 0s 15ms/step - loss: 0.1810\n",
            "Epoch 45/50\n",
            "6/6 [==============================] - 0s 14ms/step - loss: 0.1805\n",
            "Epoch 46/50\n",
            "6/6 [==============================] - 0s 14ms/step - loss: 0.1804\n",
            "Epoch 47/50\n",
            "6/6 [==============================] - 0s 14ms/step - loss: 0.1820\n",
            "Epoch 48/50\n",
            "6/6 [==============================] - 0s 9ms/step - loss: 0.1800\n",
            "Epoch 49/50\n",
            "6/6 [==============================] - 0s 9ms/step - loss: 0.1816\n",
            "Epoch 50/50\n",
            "6/6 [==============================] - 0s 11ms/step - loss: 0.1808\n",
            "Model Number: 8 with model ETS in generation 0 of 10\n",
            "Model Number: 9 with model ETS in generation 0 of 10\n",
            "Model Number: 10 with model GLM in generation 0 of 10\n",
            "Template Eval Error: TypeError(\"ufunc 'isfinite' not supported for the input types, and the inputs could not be safely coerced to any supported types according to the casting rule ''safe''\") in model 10: GLM\n",
            "Model Number: 11 with model GLM in generation 0 of 10\n",
            "Model Number: 12 with model GLS in generation 0 of 10\n",
            "Model Number: 13 with model GLS in generation 0 of 10\n",
            "Model Number: 14 with model GluonTS in generation 0 of 10\n",
            "Template Eval Error: ImportError('GluonTS installation not found or installed version is incompatible with AutoTS.') in model 14: GluonTS\n",
            "Model Number: 15 with model GluonTS in generation 0 of 10\n",
            "Template Eval Error: ImportError('GluonTS installation not found or installed version is incompatible with AutoTS.') in model 15: GluonTS\n",
            "Model Number: 16 with model GluonTS in generation 0 of 10\n",
            "Template Eval Error: ImportError('GluonTS installation not found or installed version is incompatible with AutoTS.') in model 16: GluonTS\n",
            "Model Number: 17 with model GluonTS in generation 0 of 10\n",
            "Template Eval Error: ImportError('GluonTS installation not found or installed version is incompatible with AutoTS.') in model 17: GluonTS\n",
            "Model Number: 18 with model GluonTS in generation 0 of 10\n",
            "Template Eval Error: ImportError('GluonTS installation not found or installed version is incompatible with AutoTS.') in model 18: GluonTS\n",
            "Model Number: 19 with model LastValueNaive in generation 0 of 10\n",
            "Model Number: 20 with model LastValueNaive in generation 0 of 10\n",
            "Model Number: 21 with model LastValueNaive in generation 0 of 10\n",
            "Model Number: 22 with model LastValueNaive in generation 0 of 10\n",
            "Model Number: 23 with model SeasonalNaive in generation 0 of 10\n",
            "Model Number: 24 with model SeasonalNaive in generation 0 of 10\n",
            "Model Number: 25 with model SeasonalNaive in generation 0 of 10\n",
            "Model Number: 26 with model UnobservedComponents in generation 0 of 10\n",
            "Model Number: 27 with model UnobservedComponents in generation 0 of 10\n",
            "Model Number: 28 with model UnobservedComponents in generation 0 of 10\n",
            "Model Number: 29 with model VAR in generation 0 of 10\n",
            "Template Eval Error: ValueError('Only gave one variable to VAR') in model 29: VAR\n",
            "Model Number: 30 with model VAR in generation 0 of 10\n",
            "Template Eval Error: ValueError('Only gave one variable to VAR') in model 30: VAR\n",
            "Model Number: 31 with model VECM in generation 0 of 10\n",
            "Template Eval Error: ValueError('Only gave one variable to VECM') in model 31: VECM\n",
            "Model Number: 32 with model VECM in generation 0 of 10\n",
            "Template Eval Error: ValueError('Only gave one variable to VECM') in model 32: VECM\n",
            "Model Number: 33 with model WindowRegression in generation 0 of 10\n",
            "Model Number: 34 with model ConstantNaive in generation 0 of 10\n"
          ]
        },
        {
          "output_type": "stream",
          "name": "stderr",
          "text": [
            "/usr/local/lib/python3.7/dist-packages/sklearn/neural_network/_multilayer_perceptron.py:549: ConvergenceWarning: lbfgs failed to converge (status=1):\n",
            "STOP: TOTAL NO. of ITERATIONS REACHED LIMIT.\n",
            "\n",
            "Increase the number of iterations (max_iter) or scale the data as shown in:\n",
            "    https://scikit-learn.org/stable/modules/preprocessing.html\n",
            "  self.n_iter_ = _check_optimize_result(\"lbfgs\", opt_res, self.max_iter)\n"
          ]
        },
        {
          "output_type": "stream",
          "name": "stdout",
          "text": [
            "Model Number: 35 with model FBProphet in generation 0 of 10\n"
          ]
        },
        {
          "output_type": "stream",
          "name": "stderr",
          "text": [
            "INFO:prophet:Disabling yearly seasonality. Run prophet with yearly_seasonality=True to override this.\n",
            "INFO:prophet:Disabling daily seasonality. Run prophet with daily_seasonality=True to override this.\n",
            "DEBUG:cmdstanpy:input tempfile: /tmp/tmp0ow7qcla/5kr_yv1b.json\n",
            "DEBUG:cmdstanpy:input tempfile: /tmp/tmp0ow7qcla/h1utdnxu.json\n",
            "DEBUG:cmdstanpy:idx 0\n",
            "DEBUG:cmdstanpy:running CmdStan, num_threads: None\n",
            "DEBUG:cmdstanpy:CmdStan args: ['/usr/local/lib/python3.7/dist-packages/prophet/stan_model/prophet_model.bin', 'random', 'seed=95995', 'data', 'file=/tmp/tmp0ow7qcla/5kr_yv1b.json', 'init=/tmp/tmp0ow7qcla/h1utdnxu.json', 'output', 'file=/tmp/tmp_t68t0v9/prophet_model-20220820141740.csv', 'method=optimize', 'algorithm=newton', 'iter=10000']\n",
            "14:17:40 - cmdstanpy - INFO - Chain [1] start processing\n",
            "INFO:cmdstanpy:Chain [1] start processing\n",
            "14:17:41 - cmdstanpy - INFO - Chain [1] done processing\n",
            "INFO:cmdstanpy:Chain [1] done processing\n"
          ]
        },
        {
          "output_type": "stream",
          "name": "stdout",
          "text": [
            "Model Number: 36 with model GluonTS in generation 0 of 10\n",
            "Template Eval Error: ImportError('GluonTS installation not found or installed version is incompatible with AutoTS.') in model 36: GluonTS\n",
            "Model Number: 37 with model MultivariateRegression in generation 0 of 10\n"
          ]
        },
        {
          "output_type": "stream",
          "name": "stderr",
          "text": [
            "[Parallel(n_jobs=-2)]: Using backend SequentialBackend with 1 concurrent workers.\n",
            "[Parallel(n_jobs=-2)]: Done 200 out of 200 | elapsed:    0.5s finished\n",
            "[Parallel(n_jobs=1)]: Using backend SequentialBackend with 1 concurrent workers.\n",
            "[Parallel(n_jobs=1)]: Done 200 out of 200 | elapsed:    0.0s finished\n",
            "[Parallel(n_jobs=1)]: Using backend SequentialBackend with 1 concurrent workers.\n",
            "[Parallel(n_jobs=1)]: Done 200 out of 200 | elapsed:    0.0s finished\n",
            "[Parallel(n_jobs=1)]: Using backend SequentialBackend with 1 concurrent workers.\n",
            "[Parallel(n_jobs=1)]: Done 200 out of 200 | elapsed:    0.0s finished\n",
            "[Parallel(n_jobs=1)]: Using backend SequentialBackend with 1 concurrent workers.\n",
            "[Parallel(n_jobs=1)]: Done 200 out of 200 | elapsed:    0.0s finished\n",
            "[Parallel(n_jobs=1)]: Using backend SequentialBackend with 1 concurrent workers.\n",
            "[Parallel(n_jobs=1)]: Done 200 out of 200 | elapsed:    0.0s finished\n",
            "[Parallel(n_jobs=1)]: Using backend SequentialBackend with 1 concurrent workers.\n",
            "[Parallel(n_jobs=1)]: Done 200 out of 200 | elapsed:    0.0s finished\n",
            "[Parallel(n_jobs=1)]: Using backend SequentialBackend with 1 concurrent workers.\n",
            "[Parallel(n_jobs=1)]: Done 200 out of 200 | elapsed:    0.0s finished\n",
            "[Parallel(n_jobs=1)]: Using backend SequentialBackend with 1 concurrent workers.\n",
            "[Parallel(n_jobs=1)]: Done 200 out of 200 | elapsed:    0.0s finished\n",
            "[Parallel(n_jobs=1)]: Using backend SequentialBackend with 1 concurrent workers.\n",
            "[Parallel(n_jobs=1)]: Done 200 out of 200 | elapsed:    0.0s finished\n",
            "[Parallel(n_jobs=1)]: Using backend SequentialBackend with 1 concurrent workers.\n",
            "[Parallel(n_jobs=1)]: Done 200 out of 200 | elapsed:    0.0s finished\n"
          ]
        },
        {
          "output_type": "stream",
          "name": "stdout",
          "text": [
            "Model Number: 38 with model MultivariateRegression in generation 0 of 10\n",
            "Template Eval Error: ValueError(\"regression_type='User' but not future_regressor supplied.\") in model 38: MultivariateRegression\n",
            "Model Number: 39 with model DatepartRegression in generation 0 of 10\n",
            "Template Eval Error: ValueError(\"regression_type='User' but no future_regressor passed\") in model 39: DatepartRegression\n",
            "Model Number: 40 with model SeasonalNaive in generation 0 of 10\n",
            "Model Number: 41 with model DatepartRegression in generation 0 of 10\n",
            "Model Number: 42 with model UnobservedComponents in generation 0 of 10\n",
            "Model Number: 43 with model UnobservedComponents in generation 0 of 10\n",
            "Model Number: 44 with model ETS in generation 0 of 10\n",
            "Model Number: 45 with model VECM in generation 0 of 10\n",
            "Template Eval Error: ValueError('Only gave one variable to VECM') in model 45: VECM\n",
            "Model Number: 46 with model ARDL in generation 0 of 10\n",
            "Template Eval Error: ImportError(\"cannot import name 'ARDL' from 'statsmodels.tsa.api' (/usr/local/lib/python3.7/dist-packages/statsmodels/tsa/api.py)\") in model 46: ARDL\n",
            "Model Number: 47 with model MultivariateMotif in generation 0 of 10\n",
            "Model Number: 48 with model MultivariateMotif in generation 0 of 10\n",
            "Model Number: 49 with model UnivariateMotif in generation 0 of 10\n",
            "Model Number: 50 with model UnivariateMotif in generation 0 of 10\n",
            "Model Number: 51 with model SectionalMotif in generation 0 of 10\n",
            "Model Number: 52 with model SectionalMotif in generation 0 of 10\n",
            "Model Number: 53 with model MultivariateRegression in generation 0 of 10\n"
          ]
        },
        {
          "output_type": "stream",
          "name": "stderr",
          "text": [
            "INFO:prophet:Disabling yearly seasonality. Run prophet with yearly_seasonality=True to override this.\n",
            "INFO:prophet:Disabling daily seasonality. Run prophet with daily_seasonality=True to override this.\n",
            "DEBUG:cmdstanpy:input tempfile: /tmp/tmp0ow7qcla/_0vdsobc.json\n",
            "DEBUG:cmdstanpy:input tempfile: /tmp/tmp0ow7qcla/q89bz517.json\n",
            "DEBUG:cmdstanpy:idx 0\n",
            "DEBUG:cmdstanpy:running CmdStan, num_threads: None\n",
            "DEBUG:cmdstanpy:CmdStan args: ['/usr/local/lib/python3.7/dist-packages/prophet/stan_model/prophet_model.bin', 'random', 'seed=70428', 'data', 'file=/tmp/tmp0ow7qcla/_0vdsobc.json', 'init=/tmp/tmp0ow7qcla/q89bz517.json', 'output', 'file=/tmp/tmpusiyfuti/prophet_model-20220820141747.csv', 'method=optimize', 'algorithm=newton', 'iter=10000']\n",
            "14:17:47 - cmdstanpy - INFO - Chain [1] start processing\n",
            "INFO:cmdstanpy:Chain [1] start processing\n"
          ]
        },
        {
          "output_type": "stream",
          "name": "stdout",
          "text": [
            "Model Number: 54 with model FBProphet in generation 0 of 10\n"
          ]
        },
        {
          "output_type": "stream",
          "name": "stderr",
          "text": [
            "14:17:47 - cmdstanpy - INFO - Chain [1] done processing\n",
            "INFO:cmdstanpy:Chain [1] done processing\n"
          ]
        },
        {
          "output_type": "stream",
          "name": "stdout",
          "text": [
            "Model Number: 55 with model SeasonalNaive in generation 0 of 10\n",
            "Model Number: 56 with model DatepartRegression in generation 0 of 10\n"
          ]
        },
        {
          "output_type": "stream",
          "name": "stderr",
          "text": [
            "[Parallel(n_jobs=-2)]: Using backend SequentialBackend with 1 concurrent workers.\n",
            "[Parallel(n_jobs=-2)]: Done 100 out of 100 | elapsed:    0.2s finished\n",
            "[Parallel(n_jobs=1)]: Using backend SequentialBackend with 1 concurrent workers.\n"
          ]
        },
        {
          "output_type": "stream",
          "name": "stdout",
          "text": [
            "Model Number: 57 with model NVAR in generation 0 of 10\n"
          ]
        },
        {
          "output_type": "stream",
          "name": "stderr",
          "text": [
            "[Parallel(n_jobs=1)]: Done 100 out of 100 | elapsed:    0.0s finished\n"
          ]
        },
        {
          "output_type": "stream",
          "name": "stdout",
          "text": [
            "Model Number: 58 with model Theta in generation 0 of 10\n",
            "Model Number: 59 with model UnivariateRegression in generation 0 of 10\n",
            "Template Eval Error: ValueError(\"Input contains NaN, infinity or a value too large for dtype('float32').\") in model 59: UnivariateRegression\n",
            "Model Number: 60 with model ConstantNaive in generation 0 of 10\n",
            "Model Number: 61 with model LastValueNaive in generation 0 of 10\n",
            "Model Number: 62 with model AverageValueNaive in generation 0 of 10\n",
            "Model Number: 63 with model GLS in generation 0 of 10\n",
            "Model Number: 64 with model SeasonalNaive in generation 0 of 10\n",
            "Model Number: 65 with model GLM in generation 0 of 10\n",
            "Template Eval Error: ValueError('regression_type=user and no future_regressor passed') in model 65: GLM\n",
            "Model Number: 66 with model ETS in generation 0 of 10\n",
            "Model Number: 67 with model FBProphet in generation 0 of 10\n"
          ]
        },
        {
          "output_type": "stream",
          "name": "stderr",
          "text": [
            "INFO:prophet:Disabling yearly seasonality. Run prophet with yearly_seasonality=True to override this.\n",
            "INFO:prophet:Disabling daily seasonality. Run prophet with daily_seasonality=True to override this.\n",
            "DEBUG:cmdstanpy:input tempfile: /tmp/tmp0ow7qcla/6u6nxej2.json\n",
            "DEBUG:cmdstanpy:input tempfile: /tmp/tmp0ow7qcla/p3klud0k.json\n",
            "DEBUG:cmdstanpy:idx 0\n",
            "DEBUG:cmdstanpy:running CmdStan, num_threads: None\n",
            "DEBUG:cmdstanpy:CmdStan args: ['/usr/local/lib/python3.7/dist-packages/prophet/stan_model/prophet_model.bin', 'random', 'seed=72687', 'data', 'file=/tmp/tmp0ow7qcla/6u6nxej2.json', 'init=/tmp/tmp0ow7qcla/p3klud0k.json', 'output', 'file=/tmp/tmpb1fwy8bt/prophet_model-20220820141752.csv', 'method=optimize', 'algorithm=lbfgs', 'iter=10000']\n",
            "14:17:52 - cmdstanpy - INFO - Chain [1] start processing\n",
            "INFO:cmdstanpy:Chain [1] start processing\n",
            "14:17:52 - cmdstanpy - INFO - Chain [1] done processing\n",
            "INFO:cmdstanpy:Chain [1] done processing\n"
          ]
        },
        {
          "output_type": "stream",
          "name": "stdout",
          "text": [
            "Model Number: 68 with model GluonTS in generation 0 of 10\n",
            "Template Eval Error: ImportError('GluonTS installation not found or installed version is incompatible with AutoTS.') in model 68: GluonTS\n",
            "Model Number: 69 with model UnobservedComponents in generation 0 of 10\n",
            "Model Number: 70 with model VAR in generation 0 of 10\n",
            "Template Eval Error: ValueError('Only gave one variable to VAR') in model 70: VAR\n",
            "Model Number: 71 with model VECM in generation 0 of 10\n",
            "Template Eval Error: ValueError(\"regression_type='User' but no future_regressor supplied\") in model 71: VECM\n",
            "Model Number: 72 with model WindowRegression in generation 0 of 10\n",
            "Template Eval Error: LightGBMError('[tweedie]: at least one target label is negative') in model 72: WindowRegression\n",
            "Model Number: 73 with model DatepartRegression in generation 0 of 10\n",
            "Template Eval Error: ValueError(\"regression_type='User' but no future_regressor passed\") in model 73: DatepartRegression\n",
            "Model Number: 74 with model UnivariateRegression in generation 0 of 10\n",
            "Model Number: 75 with model MultivariateRegression in generation 0 of 10\n",
            "Template Eval Error: ValueError(\"regression_type='User' but not future_regressor supplied.\") in model 75: MultivariateRegression\n",
            "Model Number: 76 with model UnivariateMotif in generation 0 of 10\n",
            "Model Number: 77 with model MultivariateMotif in generation 0 of 10\n",
            "Model Number: 78 with model SectionalMotif in generation 0 of 10\n",
            "Template Eval Error: ValueError('Model SectionalMotif returned NaN for one or more series. fail_on_forecast_nan=True') in model 78: SectionalMotif\n",
            "Model Number: 79 with model NVAR in generation 0 of 10\n",
            "Model Number: 80 with model Theta in generation 0 of 10\n"
          ]
        },
        {
          "output_type": "stream",
          "name": "stderr",
          "text": [
            "/usr/local/lib/python3.7/dist-packages/autots/tools/percentile.py:47: RuntimeWarning: All-NaN slice encountered\n",
            "  max_val = np.nanmax(arr)\n"
          ]
        },
        {
          "output_type": "stream",
          "name": "stdout",
          "text": [
            "Model Number: 81 with model ARDL in generation 0 of 10\n",
            "Template Eval Error: ImportError(\"cannot import name 'ARDL' from 'statsmodels.tsa.api' (/usr/local/lib/python3.7/dist-packages/statsmodels/tsa/api.py)\") in model 81: ARDL\n",
            "Model Number: 82 with model VAR in generation 0 of 10\n",
            "Template Eval Error: ValueError('Only gave one variable to VAR') in model 82: VAR\n",
            "Model Number: 83 with model WindowRegression in generation 0 of 10\n",
            "Model Number: 84 with model GLM in generation 0 of 10\n",
            "Template Eval Error: TypeError(\"ufunc 'isfinite' not supported for the input types, and the inputs could not be safely coerced to any supported types according to the casting rule ''safe''\") in model 84: GLM\n",
            "Model Number: 85 with model NVAR in generation 0 of 10\n",
            "Model Number: 86 with model LastValueNaive in generation 0 of 10\n",
            "Model Number: 87 with model LastValueNaive in generation 0 of 10\n",
            "Model Number: 88 with model LastValueNaive in generation 0 of 10\n",
            "Model Number: 89 with model LastValueNaive in generation 0 of 10\n",
            "Model Number: 90 with model UnivariateMotif in generation 0 of 10\n",
            "Model Number: 91 with model GLM in generation 0 of 10\n",
            "Template Eval Error: TypeError(\"ufunc 'isfinite' not supported for the input types, and the inputs could not be safely coerced to any supported types according to the casting rule ''safe''\") in model 91: GLM\n",
            "Model Number: 92 with model ConstantNaive in generation 0 of 10\n",
            "Template Eval Error: Exception('Transformer Detrend failed on inverse') in model 92: ConstantNaive\n",
            "Model Number: 93 with model GLM in generation 0 of 10\n",
            "Template Eval Error: TypeError(\"ufunc 'isfinite' not supported for the input types, and the inputs could not be safely coerced to any supported types according to the casting rule ''safe''\") in model 93: GLM\n",
            "Model Number: 94 with model MultivariateMotif in generation 0 of 10\n",
            "Model Number: 95 with model LastValueNaive in generation 0 of 10\n",
            "Model Number: 96 with model GLS in generation 0 of 10\n",
            "Model Number: 97 with model UnobservedComponents in generation 0 of 10\n",
            "Template Eval Error: ValueError(\"regression_type='User' but no future_regressor supplied\") in model 97: UnobservedComponents\n",
            "Model Number: 98 with model ETS in generation 0 of 10\n",
            "Model Number: 99 with model UnivariateMotif in generation 0 of 10\n",
            "Model Number: 100 with model LastValueNaive in generation 0 of 10\n",
            "Model Number: 101 with model ConstantNaive in generation 0 of 10\n",
            "Model Number: 102 with model VAR in generation 0 of 10\n",
            "Template Eval Error: ValueError('Only gave one variable to VAR') in model 102: VAR\n",
            "Model Number: 103 with model LastValueNaive in generation 0 of 10\n",
            "Model Number: 104 with model AverageValueNaive in generation 0 of 10\n",
            "Model Number: 105 with model SectionalMotif in generation 0 of 10\n",
            "Model Number: 106 with model MultivariateMotif in generation 0 of 10\n",
            "Template Eval Error: ValueError('Model MultivariateMotif returned NaN for one or more series. fail_on_forecast_nan=True') in model 106: MultivariateMotif\n",
            "Model Number: 107 with model UnobservedComponents in generation 0 of 10\n",
            "Model Number: 108 with model WindowRegression in generation 0 of 10\n"
          ]
        },
        {
          "output_type": "stream",
          "name": "stderr",
          "text": [
            "/usr/local/lib/python3.7/dist-packages/numpy/core/_methods.py:48: RuntimeWarning: invalid value encountered in reduce\n",
            "  return umr_sum(a, axis, dtype, out, keepdims, initial, where)\n",
            "/usr/local/lib/python3.7/dist-packages/numpy/lib/function_base.py:412: RuntimeWarning: invalid value encountered in true_divide\n",
            "  avg = np.multiply(a, wgt, dtype=result_dtype).sum(axis)/scl\n"
          ]
        },
        {
          "output_type": "stream",
          "name": "stdout",
          "text": [
            "Model Number: 109 with model Theta in generation 0 of 10\n",
            "Model Number: 110 with model ConstantNaive in generation 0 of 10\n",
            "Model Number: 111 with model NVAR in generation 0 of 10\n",
            "Model Number: 112 with model ConstantNaive in generation 0 of 10\n",
            "Model Number: 113 with model FBProphet in generation 0 of 10\n"
          ]
        },
        {
          "output_type": "stream",
          "name": "stderr",
          "text": [
            "INFO:prophet:Disabling yearly seasonality. Run prophet with yearly_seasonality=True to override this.\n",
            "INFO:prophet:Disabling daily seasonality. Run prophet with daily_seasonality=True to override this.\n",
            "DEBUG:cmdstanpy:input tempfile: /tmp/tmp0ow7qcla/ip8ruewd.json\n",
            "DEBUG:cmdstanpy:input tempfile: /tmp/tmp0ow7qcla/mft3p26_.json\n",
            "DEBUG:cmdstanpy:idx 0\n",
            "DEBUG:cmdstanpy:running CmdStan, num_threads: None\n",
            "DEBUG:cmdstanpy:CmdStan args: ['/usr/local/lib/python3.7/dist-packages/prophet/stan_model/prophet_model.bin', 'random', 'seed=11034', 'data', 'file=/tmp/tmp0ow7qcla/ip8ruewd.json', 'init=/tmp/tmp0ow7qcla/mft3p26_.json', 'output', 'file=/tmp/tmp3jv_bbz0/prophet_model-20220820141759.csv', 'method=optimize', 'algorithm=lbfgs', 'iter=10000']\n",
            "14:17:59 - cmdstanpy - INFO - Chain [1] start processing\n",
            "INFO:cmdstanpy:Chain [1] start processing\n",
            "14:17:59 - cmdstanpy - INFO - Chain [1] done processing\n",
            "INFO:cmdstanpy:Chain [1] done processing\n"
          ]
        },
        {
          "output_type": "stream",
          "name": "stdout",
          "text": [
            "Model Number: 114 with model ConstantNaive in generation 0 of 10\n",
            "Model Number: 115 with model DatepartRegression in generation 0 of 10\n",
            "Epoch 1/50\n",
            "3/3 [==============================] - 13s 23ms/step - loss: 100.4700\n",
            "Epoch 2/50\n",
            "3/3 [==============================] - 0s 19ms/step - loss: 100.2497\n",
            "Epoch 3/50\n",
            "3/3 [==============================] - 0s 23ms/step - loss: 99.7127\n",
            "Epoch 4/50\n",
            "3/3 [==============================] - 0s 18ms/step - loss: 99.1950\n",
            "Epoch 5/50\n",
            "3/3 [==============================] - 0s 20ms/step - loss: 99.7238\n",
            "Epoch 6/50\n",
            "3/3 [==============================] - 0s 19ms/step - loss: 99.6041\n",
            "Epoch 7/50\n",
            "3/3 [==============================] - 0s 23ms/step - loss: 99.2944\n",
            "Epoch 8/50\n",
            "3/3 [==============================] - 0s 20ms/step - loss: 99.7065\n",
            "Epoch 9/50\n",
            "3/3 [==============================] - 0s 21ms/step - loss: 98.6541\n",
            "Epoch 10/50\n",
            "3/3 [==============================] - 0s 19ms/step - loss: 99.6878\n",
            "Epoch 11/50\n",
            "3/3 [==============================] - 0s 18ms/step - loss: 98.9458\n",
            "Epoch 12/50\n",
            "3/3 [==============================] - 0s 20ms/step - loss: 99.8784\n",
            "Epoch 13/50\n",
            "3/3 [==============================] - 0s 31ms/step - loss: 99.2289\n",
            "Epoch 14/50\n",
            "3/3 [==============================] - 0s 33ms/step - loss: 99.0049\n",
            "Epoch 15/50\n",
            "3/3 [==============================] - 0s 22ms/step - loss: 99.0646\n",
            "Epoch 16/50\n",
            "3/3 [==============================] - 0s 22ms/step - loss: 98.5468\n",
            "Epoch 17/50\n",
            "3/3 [==============================] - 0s 21ms/step - loss: 98.6853\n",
            "Epoch 18/50\n",
            "3/3 [==============================] - 0s 20ms/step - loss: 99.6045\n",
            "Epoch 19/50\n",
            "3/3 [==============================] - 0s 20ms/step - loss: 98.7199\n",
            "Epoch 20/50\n",
            "3/3 [==============================] - 0s 22ms/step - loss: 98.1420\n",
            "Epoch 21/50\n",
            "3/3 [==============================] - 0s 23ms/step - loss: 98.6082\n",
            "Epoch 22/50\n",
            "3/3 [==============================] - 0s 20ms/step - loss: 97.3982\n",
            "Epoch 23/50\n",
            "3/3 [==============================] - 0s 22ms/step - loss: 98.6373\n",
            "Epoch 24/50\n",
            "3/3 [==============================] - 0s 22ms/step - loss: 98.1131\n",
            "Epoch 25/50\n",
            "3/3 [==============================] - 0s 20ms/step - loss: 98.2652\n",
            "Epoch 26/50\n",
            "3/3 [==============================] - 0s 24ms/step - loss: 98.5892\n",
            "Epoch 27/50\n",
            "3/3 [==============================] - 0s 20ms/step - loss: 98.5292\n",
            "Epoch 28/50\n",
            "3/3 [==============================] - 0s 23ms/step - loss: 98.2127\n",
            "Epoch 29/50\n",
            "3/3 [==============================] - 0s 23ms/step - loss: 96.8772\n",
            "Epoch 30/50\n",
            "3/3 [==============================] - 0s 31ms/step - loss: 97.3525\n",
            "Epoch 31/50\n",
            "3/3 [==============================] - 0s 23ms/step - loss: 96.8848\n",
            "Epoch 32/50\n",
            "3/3 [==============================] - 0s 25ms/step - loss: 96.7898\n",
            "Epoch 33/50\n",
            "3/3 [==============================] - 0s 24ms/step - loss: 97.4940\n",
            "Epoch 34/50\n",
            "3/3 [==============================] - 0s 23ms/step - loss: 94.5779\n",
            "Epoch 35/50\n",
            "3/3 [==============================] - 0s 19ms/step - loss: 97.9560\n",
            "Epoch 36/50\n",
            "3/3 [==============================] - 0s 21ms/step - loss: 95.9334\n",
            "Epoch 37/50\n",
            "3/3 [==============================] - 0s 18ms/step - loss: 96.4608\n",
            "Epoch 38/50\n",
            "3/3 [==============================] - 0s 18ms/step - loss: 95.1437\n",
            "Epoch 39/50\n",
            "3/3 [==============================] - 0s 19ms/step - loss: 90.7845\n",
            "Epoch 40/50\n",
            "3/3 [==============================] - 0s 20ms/step - loss: 95.4179\n",
            "Epoch 41/50\n",
            "3/3 [==============================] - 0s 20ms/step - loss: 95.4070\n",
            "Epoch 42/50\n",
            "3/3 [==============================] - 0s 19ms/step - loss: 90.8185\n",
            "Epoch 43/50\n",
            "3/3 [==============================] - 0s 23ms/step - loss: 89.7192\n",
            "Epoch 44/50\n",
            "3/3 [==============================] - 0s 22ms/step - loss: 90.5477\n",
            "Epoch 45/50\n",
            "3/3 [==============================] - 0s 20ms/step - loss: 92.5424\n",
            "Epoch 46/50\n",
            "3/3 [==============================] - 0s 19ms/step - loss: 82.1179\n",
            "Epoch 47/50\n",
            "3/3 [==============================] - 0s 19ms/step - loss: 80.9871\n",
            "Epoch 48/50\n",
            "3/3 [==============================] - 0s 20ms/step - loss: 81.8683\n",
            "Epoch 49/50\n",
            "3/3 [==============================] - 0s 22ms/step - loss: 85.0406\n",
            "Epoch 50/50\n",
            "3/3 [==============================] - 0s 20ms/step - loss: 82.4186\n"
          ]
        },
        {
          "output_type": "stream",
          "name": "stderr",
          "text": [
            "INFO:prophet:Disabling yearly seasonality. Run prophet with yearly_seasonality=True to override this.\n",
            "INFO:prophet:Disabling daily seasonality. Run prophet with daily_seasonality=True to override this.\n",
            "DEBUG:cmdstanpy:input tempfile: /tmp/tmp0ow7qcla/2rhjj0vi.json\n",
            "DEBUG:cmdstanpy:input tempfile: /tmp/tmp0ow7qcla/ar6o135d.json\n",
            "DEBUG:cmdstanpy:idx 0\n",
            "DEBUG:cmdstanpy:running CmdStan, num_threads: None\n",
            "DEBUG:cmdstanpy:CmdStan args: ['/usr/local/lib/python3.7/dist-packages/prophet/stan_model/prophet_model.bin', 'random', 'seed=71978', 'data', 'file=/tmp/tmp0ow7qcla/2rhjj0vi.json', 'init=/tmp/tmp0ow7qcla/ar6o135d.json', 'output', 'file=/tmp/tmp4aks6ray/prophet_model-20220820141828.csv', 'method=optimize', 'algorithm=newton', 'iter=10000']\n",
            "14:18:28 - cmdstanpy - INFO - Chain [1] start processing\n",
            "INFO:cmdstanpy:Chain [1] start processing\n"
          ]
        },
        {
          "output_type": "stream",
          "name": "stdout",
          "text": [
            "Model Number: 116 with model FBProphet in generation 0 of 10\n"
          ]
        },
        {
          "output_type": "stream",
          "name": "stderr",
          "text": [
            "14:18:29 - cmdstanpy - INFO - Chain [1] done processing\n",
            "INFO:cmdstanpy:Chain [1] done processing\n"
          ]
        },
        {
          "output_type": "stream",
          "name": "stdout",
          "text": [
            "Model Number: 117 with model ETS in generation 0 of 10\n",
            "Model Number: 118 with model ConstantNaive in generation 0 of 10\n",
            "Model Number: 119 with model UnivariateMotif in generation 0 of 10\n",
            "Model Number: 120 with model ConstantNaive in generation 0 of 10\n",
            "Model Number: 121 with model SeasonalNaive in generation 0 of 10\n",
            "Model Number: 122 with model SeasonalNaive in generation 0 of 10\n",
            "Model Number: 123 with model VAR in generation 0 of 10\n",
            "Template Eval Error: ValueError('Only gave one variable to VAR') in model 123: VAR\n",
            "Model Number: 124 with model GLS in generation 0 of 10\n",
            "Model Number: 125 with model WindowRegression in generation 0 of 10\n",
            "Epoch 1/50\n",
            "12/12 [==============================] - 11s 19ms/step - loss: nan\n",
            "Epoch 2/50\n",
            "12/12 [==============================] - 0s 10ms/step - loss: nan\n",
            "Epoch 3/50\n",
            "12/12 [==============================] - 0s 12ms/step - loss: nan\n",
            "Epoch 4/50\n",
            "12/12 [==============================] - 0s 10ms/step - loss: nan\n",
            "Epoch 5/50\n",
            "12/12 [==============================] - 0s 10ms/step - loss: nan\n",
            "Epoch 6/50\n",
            "12/12 [==============================] - 0s 10ms/step - loss: nan\n",
            "Epoch 7/50\n",
            "12/12 [==============================] - 0s 11ms/step - loss: nan\n",
            "Epoch 8/50\n",
            "12/12 [==============================] - 0s 10ms/step - loss: nan\n",
            "Epoch 9/50\n",
            "12/12 [==============================] - 0s 11ms/step - loss: nan\n",
            "Epoch 10/50\n",
            "12/12 [==============================] - 0s 12ms/step - loss: nan\n",
            "Epoch 11/50\n",
            "12/12 [==============================] - 0s 10ms/step - loss: nan\n",
            "Epoch 12/50\n",
            "12/12 [==============================] - 0s 9ms/step - loss: nan\n",
            "Epoch 13/50\n",
            "12/12 [==============================] - 0s 8ms/step - loss: nan\n",
            "Epoch 14/50\n",
            "12/12 [==============================] - 0s 9ms/step - loss: nan\n",
            "Epoch 15/50\n",
            "12/12 [==============================] - 0s 12ms/step - loss: nan\n",
            "Epoch 16/50\n",
            "12/12 [==============================] - 0s 9ms/step - loss: nan\n",
            "Epoch 17/50\n",
            "12/12 [==============================] - 0s 9ms/step - loss: nan\n",
            "Epoch 18/50\n",
            "12/12 [==============================] - 0s 8ms/step - loss: nan\n",
            "Epoch 19/50\n",
            "12/12 [==============================] - 0s 10ms/step - loss: nan\n",
            "Epoch 20/50\n",
            "12/12 [==============================] - 0s 10ms/step - loss: nan\n",
            "Epoch 21/50\n",
            "12/12 [==============================] - 0s 8ms/step - loss: nan\n",
            "Epoch 22/50\n",
            "12/12 [==============================] - 0s 8ms/step - loss: nan\n",
            "Epoch 23/50\n",
            "12/12 [==============================] - 0s 11ms/step - loss: nan\n",
            "Epoch 24/50\n",
            "12/12 [==============================] - 0s 11ms/step - loss: nan\n",
            "Epoch 25/50\n",
            "12/12 [==============================] - 0s 12ms/step - loss: nan\n",
            "Epoch 26/50\n",
            "12/12 [==============================] - 0s 9ms/step - loss: nan\n",
            "Epoch 27/50\n",
            "12/12 [==============================] - 0s 11ms/step - loss: nan\n",
            "Epoch 28/50\n",
            "12/12 [==============================] - 0s 10ms/step - loss: nan\n",
            "Epoch 29/50\n",
            "12/12 [==============================] - 0s 8ms/step - loss: nan\n",
            "Epoch 30/50\n",
            "12/12 [==============================] - 0s 8ms/step - loss: nan\n",
            "Epoch 31/50\n",
            "12/12 [==============================] - 0s 9ms/step - loss: nan\n",
            "Epoch 32/50\n",
            "12/12 [==============================] - 0s 9ms/step - loss: nan\n",
            "Epoch 33/50\n",
            "12/12 [==============================] - 0s 9ms/step - loss: nan\n",
            "Epoch 34/50\n",
            "12/12 [==============================] - 0s 8ms/step - loss: nan\n",
            "Epoch 35/50\n",
            "12/12 [==============================] - 0s 8ms/step - loss: nan\n",
            "Epoch 36/50\n",
            "12/12 [==============================] - 0s 11ms/step - loss: nan\n",
            "Epoch 37/50\n",
            "12/12 [==============================] - 0s 8ms/step - loss: nan\n",
            "Epoch 38/50\n",
            "12/12 [==============================] - 0s 10ms/step - loss: nan\n",
            "Epoch 39/50\n",
            "12/12 [==============================] - 0s 13ms/step - loss: nan\n",
            "Epoch 40/50\n",
            "12/12 [==============================] - 0s 11ms/step - loss: nan\n",
            "Epoch 41/50\n",
            "12/12 [==============================] - 0s 10ms/step - loss: nan\n",
            "Epoch 42/50\n",
            "12/12 [==============================] - 0s 9ms/step - loss: nan\n",
            "Epoch 43/50\n",
            "12/12 [==============================] - 0s 11ms/step - loss: nan\n",
            "Epoch 44/50\n",
            "12/12 [==============================] - 0s 8ms/step - loss: nan\n",
            "Epoch 45/50\n",
            "12/12 [==============================] - 0s 10ms/step - loss: nan\n",
            "Epoch 46/50\n",
            "12/12 [==============================] - 0s 12ms/step - loss: nan\n",
            "Epoch 47/50\n",
            "12/12 [==============================] - 0s 10ms/step - loss: nan\n",
            "Epoch 48/50\n",
            "12/12 [==============================] - 0s 10ms/step - loss: nan\n",
            "Epoch 49/50\n",
            "12/12 [==============================] - 0s 9ms/step - loss: nan\n",
            "Epoch 50/50\n",
            "12/12 [==============================] - 0s 8ms/step - loss: nan\n",
            "Model Number: 126 with model UnivariateMotif in generation 0 of 10\n",
            "Model Number: 127 with model WindowRegression in generation 0 of 10\n",
            "Template Eval Error: ValueError(\"regression_type='User' but no future_regressor passed\") in model 127: WindowRegression\n",
            "Model Number: 128 with model SeasonalNaive in generation 0 of 10\n",
            "Model Number: 129 with model MultivariateMotif in generation 0 of 10\n",
            "Template Eval Error: ValueError(\"Model returned NaN due to a preprocessing transformer {'fillna': 'zero', 'transformations': {'0': 'CumSumTransformer', '1': 'cffilter', '2': 'IntermittentOccurrence'}, 'transformation_params': {'0': {}, '1': {}, '2': {'center': 'mean'}}}. fail_on_forecast_nan=True\") in model 129: MultivariateMotif\n",
            "Model Number: 130 with model ARDL in generation 0 of 10\n",
            "Template Eval Error: ValueError(\"regression_type='User' but future_regressor not supplied\") in model 130: ARDL\n",
            "Model Number: 131 with model ConstantNaive in generation 0 of 10\n",
            "Model Number: 132 with model ETS in generation 0 of 10\n",
            "Model Number: 133 with model UnobservedComponents in generation 0 of 10\n",
            "Template Eval Error: ValueError(\"regression_type='User' but no future_regressor supplied\") in model 133: UnobservedComponents\n",
            "Model Number: 134 with model DatepartRegression in generation 0 of 10\n",
            "Template Eval Error: Exception('Transformer StandardScaler failed on fit') in model 134: DatepartRegression\n",
            "Model Number: 135 with model NVAR in generation 0 of 10\n",
            "Model Number: 136 with model SectionalMotif in generation 0 of 10\n"
          ]
        },
        {
          "output_type": "stream",
          "name": "stderr",
          "text": [
            "/usr/local/lib/python3.7/dist-packages/sklearn/utils/validation.py:1692: FutureWarning: Feature names only support names that are all strings. Got feature names with dtypes: ['Timestamp', 'str']. An error will be raised in 1.2.\n",
            "  FutureWarning,\n",
            "/usr/local/lib/python3.7/dist-packages/sklearn/utils/extmath.py:985: RuntimeWarning: invalid value encountered in true_divide\n",
            "  updated_mean = (last_sum + new_sum) / updated_sample_count\n",
            "/usr/local/lib/python3.7/dist-packages/sklearn/utils/extmath.py:990: RuntimeWarning: invalid value encountered in true_divide\n",
            "  T = new_sum / new_sample_count\n",
            "/usr/local/lib/python3.7/dist-packages/sklearn/utils/extmath.py:1020: RuntimeWarning: invalid value encountered in true_divide\n",
            "  new_unnormalized_variance -= correction ** 2 / new_sample_count\n",
            "/usr/local/lib/python3.7/dist-packages/sklearn/utils/validation.py:1692: FutureWarning: Feature names only support names that are all strings. Got feature names with dtypes: ['Timestamp', 'str']. An error will be raised in 1.2.\n",
            "  FutureWarning,\n"
          ]
        },
        {
          "output_type": "stream",
          "name": "stdout",
          "text": [
            "Model Number: 137 with model NVAR in generation 0 of 10\n",
            "Model Number: 138 with model SeasonalNaive in generation 0 of 10\n",
            "Model Number: 139 with model LastValueNaive in generation 0 of 10\n",
            "Model Number: 140 with model MultivariateMotif in generation 0 of 10\n",
            "Model Number: 141 with model ConstantNaive in generation 0 of 10\n",
            "Model Number: 142 with model ETS in generation 0 of 10\n",
            "ETS error ValueError('endog must be strictly positive when usingmultiplicative trend or seasonal components.')\n",
            "ETS failed on Close with ValueError('endog must be strictly positive when usingmultiplicative trend or seasonal components.')\n",
            "Model Number: 143 with model ARDL in generation 0 of 10\n",
            "Template Eval Error: ValueError(\"regression_type='User' but future_regressor not supplied\") in model 143: ARDL\n",
            "Model Number: 144 with model DatepartRegression in generation 0 of 10\n",
            "Model Number: 145 with model NVAR in generation 0 of 10\n",
            "Model Number: 146 with model VAR in generation 0 of 10\n",
            "Template Eval Error: ValueError('Only gave one variable to VAR') in model 146: VAR\n",
            "Model Number: 147 with model SeasonalNaive in generation 0 of 10\n",
            "Model Number: 148 with model GLS in generation 0 of 10\n",
            "Model Number: 149 with model AverageValueNaive in generation 0 of 10\n",
            "Model Number: 150 with model ConstantNaive in generation 0 of 10\n",
            "Model Number: 151 with model SectionalMotif in generation 0 of 10\n",
            "Model Number: 152 with model ConstantNaive in generation 0 of 10\n",
            "Model Number: 153 with model LastValueNaive in generation 0 of 10\n"
          ]
        },
        {
          "output_type": "stream",
          "name": "stderr",
          "text": [
            "INFO:prophet:Disabling yearly seasonality. Run prophet with yearly_seasonality=True to override this.\n",
            "INFO:prophet:Disabling daily seasonality. Run prophet with daily_seasonality=True to override this.\n"
          ]
        },
        {
          "output_type": "stream",
          "name": "stdout",
          "text": [
            "Model Number: 154 with model FBProphet in generation 0 of 10\n"
          ]
        },
        {
          "output_type": "stream",
          "name": "stderr",
          "text": [
            "DEBUG:cmdstanpy:input tempfile: /tmp/tmp0ow7qcla/3i9hhap2.json\n",
            "DEBUG:cmdstanpy:input tempfile: /tmp/tmp0ow7qcla/67s6lmj9.json\n",
            "DEBUG:cmdstanpy:idx 0\n",
            "DEBUG:cmdstanpy:running CmdStan, num_threads: None\n",
            "DEBUG:cmdstanpy:CmdStan args: ['/usr/local/lib/python3.7/dist-packages/prophet/stan_model/prophet_model.bin', 'random', 'seed=82477', 'data', 'file=/tmp/tmp0ow7qcla/3i9hhap2.json', 'init=/tmp/tmp0ow7qcla/67s6lmj9.json', 'output', 'file=/tmp/tmp2aqlv4o1/prophet_model-20220820141901.csv', 'method=optimize', 'algorithm=lbfgs', 'iter=10000']\n",
            "14:19:02 - cmdstanpy - INFO - Chain [1] start processing\n",
            "INFO:cmdstanpy:Chain [1] start processing\n",
            "14:19:02 - cmdstanpy - INFO - Chain [1] done processing\n",
            "INFO:cmdstanpy:Chain [1] done processing\n"
          ]
        },
        {
          "output_type": "stream",
          "name": "stdout",
          "text": [
            "Model Number: 155 with model GluonTS in generation 0 of 10\n",
            "Template Eval Error: ImportError('GluonTS installation not found or installed version is incompatible with AutoTS.') in model 155: GluonTS\n",
            "Model Number: 156 with model VAR in generation 0 of 10\n",
            "Template Eval Error: ValueError('Only gave one variable to VAR') in model 156: VAR\n",
            "Model Number: 157 with model MultivariateMotif in generation 0 of 10\n",
            "Model Number: 158 with model GLS in generation 0 of 10\n",
            "Model Number: 159 with model GLM in generation 0 of 10\n",
            "Template Eval Error: ValueError('NaN, inf or invalid value detected in weights, estimation infeasible.') in model 159: GLM\n",
            "Model Number: 160 with model LastValueNaive in generation 0 of 10\n",
            "Model Number: 161 with model MultivariateMotif in generation 0 of 10\n"
          ]
        },
        {
          "output_type": "stream",
          "name": "stderr",
          "text": [
            "/usr/local/lib/python3.7/dist-packages/statsmodels/genmod/families/family.py:428: RuntimeWarning: divide by zero encountered in true_divide\n",
            "  endog_mu = self._clean(endog / mu)\n",
            "/usr/local/lib/python3.7/dist-packages/statsmodels/genmod/families/family.py:134: RuntimeWarning: divide by zero encountered in true_divide\n",
            "  return 1. / (self.link.deriv(mu)**2 * self.variance(mu))\n"
          ]
        },
        {
          "output_type": "stream",
          "name": "stdout",
          "text": [
            "Model Number: 162 with model VAR in generation 0 of 10\n",
            "Template Eval Error: ValueError('Only gave one variable to VAR') in model 162: VAR\n",
            "Model Number: 163 with model LastValueNaive in generation 0 of 10\n",
            "Model Number: 164 with model NVAR in generation 0 of 10\n",
            "Model Number: 165 with model GluonTS in generation 0 of 10\n",
            "Template Eval Error: ImportError('GluonTS installation not found or installed version is incompatible with AutoTS.') in model 165: GluonTS\n",
            "Model Number: 166 with model MultivariateMotif in generation 0 of 10\n",
            "Model Number: 167 with model ARDL in generation 0 of 10\n",
            "Template Eval Error: ValueError(\"regression_type='User' but future_regressor not supplied\") in model 167: ARDL\n",
            "Model Number: 168 with model SectionalMotif in generation 0 of 10\n",
            "Template Eval Error: ValueError(\"regression_type=='User' but no future_regressor supplied\") in model 168: SectionalMotif\n",
            "Model Number: 169 with model AverageValueNaive in generation 0 of 10\n",
            "New Generation: 1 of 10\n",
            "Model Number: 170 with model ConstantNaive in generation 1 of 10\n",
            "Model Number: 171 with model LastValueNaive in generation 1 of 10\n",
            "Model Number: 172 with model Theta in generation 1 of 10\n",
            "Model Number: 173 with model DatepartRegression in generation 1 of 10\n",
            "Epoch 1/50\n",
            "3/3 [==============================] - 13s 28ms/step - loss: 5005.9478\n",
            "Epoch 2/50\n",
            "3/3 [==============================] - 0s 20ms/step - loss: 9701.4785\n",
            "Epoch 3/50\n",
            "3/3 [==============================] - 0s 24ms/step - loss: 4507.7554\n",
            "Epoch 4/50\n",
            "3/3 [==============================] - 0s 22ms/step - loss: 2509.0364\n",
            "Epoch 5/50\n",
            "3/3 [==============================] - 0s 23ms/step - loss: 3050.1465\n",
            "Epoch 6/50\n",
            "3/3 [==============================] - 0s 30ms/step - loss: 3744.8560\n",
            "Epoch 7/50\n",
            "3/3 [==============================] - 0s 19ms/step - loss: 2045.4020\n",
            "Epoch 8/50\n",
            "3/3 [==============================] - 0s 17ms/step - loss: 2216.2056\n",
            "Epoch 9/50\n",
            "3/3 [==============================] - 0s 21ms/step - loss: 3591.1777\n",
            "Epoch 10/50\n",
            "3/3 [==============================] - 0s 21ms/step - loss: 1926.0674\n",
            "Epoch 11/50\n",
            "3/3 [==============================] - 0s 19ms/step - loss: 2731.8599\n",
            "Epoch 12/50\n",
            "3/3 [==============================] - 0s 23ms/step - loss: 4165.9551\n",
            "Epoch 13/50\n",
            "3/3 [==============================] - 0s 19ms/step - loss: 1632.5342\n",
            "Epoch 14/50\n",
            "3/3 [==============================] - 0s 19ms/step - loss: 2567.5112\n",
            "Epoch 15/50\n",
            "3/3 [==============================] - 0s 17ms/step - loss: 1956.8153\n",
            "Epoch 16/50\n",
            "3/3 [==============================] - 0s 23ms/step - loss: 2609.3213\n",
            "Epoch 17/50\n",
            "3/3 [==============================] - 0s 20ms/step - loss: 2121.5642\n",
            "Epoch 18/50\n",
            "3/3 [==============================] - 0s 23ms/step - loss: 1409.3469\n",
            "Epoch 19/50\n",
            "3/3 [==============================] - 0s 22ms/step - loss: 3626.5586\n",
            "Epoch 20/50\n",
            "3/3 [==============================] - 0s 20ms/step - loss: 1612.1487\n",
            "Epoch 21/50\n",
            "3/3 [==============================] - 0s 21ms/step - loss: 1559.6100\n",
            "Epoch 22/50\n",
            "3/3 [==============================] - 0s 23ms/step - loss: 1111.0598\n",
            "Epoch 23/50\n",
            "3/3 [==============================] - 0s 16ms/step - loss: 1596.9165\n",
            "Epoch 24/50\n",
            "3/3 [==============================] - 0s 16ms/step - loss: 1531.7255\n",
            "Epoch 25/50\n",
            "3/3 [==============================] - 0s 35ms/step - loss: 2693.6294\n",
            "Epoch 26/50\n",
            "3/3 [==============================] - 0s 20ms/step - loss: 725.3467\n",
            "Epoch 27/50\n",
            "3/3 [==============================] - 0s 34ms/step - loss: 1800.0707\n",
            "Epoch 28/50\n",
            "3/3 [==============================] - 0s 35ms/step - loss: 1887.3196\n",
            "Epoch 29/50\n",
            "3/3 [==============================] - 0s 32ms/step - loss: 1322.0355\n",
            "Epoch 30/50\n",
            "3/3 [==============================] - 0s 34ms/step - loss: 1097.1412\n",
            "Epoch 31/50\n",
            "3/3 [==============================] - 0s 29ms/step - loss: 1218.4167\n",
            "Epoch 32/50\n",
            "3/3 [==============================] - 0s 47ms/step - loss: 2575.2439\n",
            "Epoch 33/50\n",
            "3/3 [==============================] - 0s 42ms/step - loss: 930.7076\n",
            "Epoch 34/50\n",
            "3/3 [==============================] - 0s 29ms/step - loss: 1153.6124\n",
            "Epoch 35/50\n",
            "3/3 [==============================] - 0s 37ms/step - loss: 1797.9973\n",
            "Epoch 36/50\n",
            "3/3 [==============================] - 0s 31ms/step - loss: 1051.2736\n",
            "Epoch 37/50\n",
            "3/3 [==============================] - 0s 32ms/step - loss: 1466.6294\n",
            "Epoch 38/50\n",
            "3/3 [==============================] - 0s 30ms/step - loss: 733.2308\n",
            "Epoch 39/50\n",
            "3/3 [==============================] - 0s 36ms/step - loss: 1093.7367\n",
            "Epoch 40/50\n",
            "3/3 [==============================] - 0s 35ms/step - loss: 1173.5089\n",
            "Epoch 41/50\n",
            "3/3 [==============================] - 0s 27ms/step - loss: 1248.9066\n",
            "Epoch 42/50\n",
            "3/3 [==============================] - 0s 33ms/step - loss: 903.5392\n",
            "Epoch 43/50\n",
            "3/3 [==============================] - 0s 19ms/step - loss: 995.2112\n",
            "Epoch 44/50\n",
            "3/3 [==============================] - 0s 20ms/step - loss: 1291.6803\n",
            "Epoch 45/50\n",
            "3/3 [==============================] - 0s 27ms/step - loss: 379.1484\n",
            "Epoch 46/50\n",
            "3/3 [==============================] - 0s 40ms/step - loss: 978.7594\n",
            "Epoch 47/50\n",
            "3/3 [==============================] - 0s 31ms/step - loss: 1322.8910\n",
            "Epoch 48/50\n",
            "3/3 [==============================] - 0s 21ms/step - loss: 1041.3605\n",
            "Epoch 49/50\n",
            "3/3 [==============================] - 0s 20ms/step - loss: 1095.4606\n",
            "Epoch 50/50\n",
            "3/3 [==============================] - 0s 19ms/step - loss: 842.2601\n",
            "Model Number: 174 with model SeasonalNaive in generation 1 of 10\n",
            "Model Number: 175 with model FBProphet in generation 1 of 10\n"
          ]
        },
        {
          "output_type": "stream",
          "name": "stderr",
          "text": [
            "INFO:prophet:Disabling yearly seasonality. Run prophet with yearly_seasonality=True to override this.\n",
            "INFO:prophet:Disabling daily seasonality. Run prophet with daily_seasonality=True to override this.\n",
            "DEBUG:cmdstanpy:input tempfile: /tmp/tmp0ow7qcla/o2diumnf.json\n",
            "DEBUG:cmdstanpy:input tempfile: /tmp/tmp0ow7qcla/int2qd7i.json\n",
            "DEBUG:cmdstanpy:idx 0\n",
            "DEBUG:cmdstanpy:running CmdStan, num_threads: None\n",
            "DEBUG:cmdstanpy:CmdStan args: ['/usr/local/lib/python3.7/dist-packages/prophet/stan_model/prophet_model.bin', 'random', 'seed=11551', 'data', 'file=/tmp/tmp0ow7qcla/o2diumnf.json', 'init=/tmp/tmp0ow7qcla/int2qd7i.json', 'output', 'file=/tmp/tmp_wfi9pmg/prophet_model-20220820141930.csv', 'method=optimize', 'algorithm=lbfgs', 'iter=10000']\n",
            "14:19:30 - cmdstanpy - INFO - Chain [1] start processing\n",
            "INFO:cmdstanpy:Chain [1] start processing\n",
            "14:19:30 - cmdstanpy - INFO - Chain [1] done processing\n",
            "INFO:cmdstanpy:Chain [1] done processing\n",
            "INFO:prophet:Disabling yearly seasonality. Run prophet with yearly_seasonality=True to override this.\n",
            "INFO:prophet:Disabling daily seasonality. Run prophet with daily_seasonality=True to override this.\n",
            "DEBUG:cmdstanpy:input tempfile: /tmp/tmp0ow7qcla/l3yj05tv.json\n",
            "DEBUG:cmdstanpy:input tempfile: /tmp/tmp0ow7qcla/yc2u70a0.json\n",
            "DEBUG:cmdstanpy:idx 0\n",
            "DEBUG:cmdstanpy:running CmdStan, num_threads: None\n",
            "DEBUG:cmdstanpy:CmdStan args: ['/usr/local/lib/python3.7/dist-packages/prophet/stan_model/prophet_model.bin', 'random', 'seed=84399', 'data', 'file=/tmp/tmp0ow7qcla/l3yj05tv.json', 'init=/tmp/tmp0ow7qcla/yc2u70a0.json', 'output', 'file=/tmp/tmp40fjt3xq/prophet_model-20220820141933.csv', 'method=optimize', 'algorithm=lbfgs', 'iter=10000']\n",
            "14:19:33 - cmdstanpy - INFO - Chain [1] start processing\n",
            "INFO:cmdstanpy:Chain [1] start processing\n",
            "14:19:33 - cmdstanpy - INFO - Chain [1] done processing\n",
            "INFO:cmdstanpy:Chain [1] done processing\n"
          ]
        },
        {
          "output_type": "stream",
          "name": "stdout",
          "text": [
            "Model Number: 176 with model FBProphet in generation 1 of 10\n",
            "Model Number: 177 with model NVAR in generation 1 of 10\n",
            "Model Number: 178 with model UnobservedComponents in generation 1 of 10\n",
            "Model Number: 179 with model Theta in generation 1 of 10\n"
          ]
        },
        {
          "output_type": "stream",
          "name": "stderr",
          "text": [
            "INFO:prophet:Disabling yearly seasonality. Run prophet with yearly_seasonality=True to override this.\n",
            "INFO:prophet:Disabling daily seasonality. Run prophet with daily_seasonality=True to override this.\n",
            "DEBUG:cmdstanpy:input tempfile: /tmp/tmp0ow7qcla/br9elg19.json\n",
            "DEBUG:cmdstanpy:input tempfile: /tmp/tmp0ow7qcla/likptbk5.json\n",
            "DEBUG:cmdstanpy:idx 0\n",
            "DEBUG:cmdstanpy:running CmdStan, num_threads: None\n",
            "DEBUG:cmdstanpy:CmdStan args: ['/usr/local/lib/python3.7/dist-packages/prophet/stan_model/prophet_model.bin', 'random', 'seed=70278', 'data', 'file=/tmp/tmp0ow7qcla/br9elg19.json', 'init=/tmp/tmp0ow7qcla/likptbk5.json', 'output', 'file=/tmp/tmpyccluseg/prophet_model-20220820141936.csv', 'method=optimize', 'algorithm=lbfgs', 'iter=10000']\n",
            "14:19:36 - cmdstanpy - INFO - Chain [1] start processing\n",
            "INFO:cmdstanpy:Chain [1] start processing\n"
          ]
        },
        {
          "output_type": "stream",
          "name": "stdout",
          "text": [
            "Model Number: 180 with model FBProphet in generation 1 of 10\n"
          ]
        },
        {
          "output_type": "stream",
          "name": "stderr",
          "text": [
            "14:19:37 - cmdstanpy - INFO - Chain [1] done processing\n",
            "INFO:cmdstanpy:Chain [1] done processing\n"
          ]
        },
        {
          "output_type": "stream",
          "name": "stdout",
          "text": [
            "Model Number: 181 with model LastValueNaive in generation 1 of 10\n",
            "Model Number: 182 with model LastValueNaive in generation 1 of 10\n",
            "Template Eval Error: Exception('Transformer BTCD failed on fit') in model 182: LastValueNaive\n",
            "Model Number: 183 with model UnivariateMotif in generation 1 of 10\n",
            "Model Number: 184 with model FBProphet in generation 1 of 10\n"
          ]
        },
        {
          "output_type": "stream",
          "name": "stderr",
          "text": [
            "INFO:prophet:Disabling yearly seasonality. Run prophet with yearly_seasonality=True to override this.\n",
            "INFO:prophet:Disabling daily seasonality. Run prophet with daily_seasonality=True to override this.\n",
            "DEBUG:cmdstanpy:input tempfile: /tmp/tmp0ow7qcla/vdd2y374.json\n",
            "DEBUG:cmdstanpy:input tempfile: /tmp/tmp0ow7qcla/2n4zqwra.json\n",
            "DEBUG:cmdstanpy:idx 0\n",
            "DEBUG:cmdstanpy:running CmdStan, num_threads: None\n",
            "DEBUG:cmdstanpy:CmdStan args: ['/usr/local/lib/python3.7/dist-packages/prophet/stan_model/prophet_model.bin', 'random', 'seed=76475', 'data', 'file=/tmp/tmp0ow7qcla/vdd2y374.json', 'init=/tmp/tmp0ow7qcla/2n4zqwra.json', 'output', 'file=/tmp/tmpxu8hsvef/prophet_model-20220820141939.csv', 'method=optimize', 'algorithm=lbfgs', 'iter=10000']\n",
            "14:19:39 - cmdstanpy - INFO - Chain [1] start processing\n",
            "INFO:cmdstanpy:Chain [1] start processing\n",
            "14:19:39 - cmdstanpy - INFO - Chain [1] done processing\n",
            "INFO:cmdstanpy:Chain [1] done processing\n"
          ]
        },
        {
          "output_type": "stream",
          "name": "stdout",
          "text": [
            "Model Number: 185 with model LastValueNaive in generation 1 of 10\n",
            "Model Number: 186 with model UnobservedComponents in generation 1 of 10\n",
            "Model Number: 187 with model Theta in generation 1 of 10\n",
            "Model Number: 188 with model UnivariateMotif in generation 1 of 10\n",
            "Model Number: 189 with model MultivariateMotif in generation 1 of 10\n",
            "Model Number: 190 with model GLS in generation 1 of 10\n",
            "Model Number: 191 with model NVAR in generation 1 of 10\n",
            "Model Number: 192 with model FBProphet in generation 1 of 10\n",
            "Template Eval Error: ValueError('Dataframe has less than 2 non-NaN rows.') in model 192: FBProphet\n",
            "Model Number: 193 with model DatepartRegression in generation 1 of 10\n",
            "Model Number: 194 with model NVAR in generation 1 of 10\n",
            "Model Number: 195 with model UnivariateRegression in generation 1 of 10\n",
            "Template Eval Error: ValueError(\"regression_type='User' but not future_regressor supplied.\") in model 195: UnivariateRegression\n",
            "Model Number: 196 with model Theta in generation 1 of 10\n"
          ]
        },
        {
          "output_type": "stream",
          "name": "stderr",
          "text": [
            "/usr/local/lib/python3.7/dist-packages/sklearn/_loss/glm_distribution.py:132: RuntimeWarning: divide by zero encountered in true_divide\n",
            "  return -2 * (y - y_pred) / self.unit_variance(y_pred)\n",
            "/usr/local/lib/python3.7/dist-packages/sklearn/linear_model/_glm/glm.py:42: RuntimeWarning: invalid value encountered in multiply\n",
            "  temp = d1 * family.deviance_derivative(y, y_pred, weights)\n",
            "/usr/local/lib/python3.7/dist-packages/sklearn/_loss/glm_distribution.py:331: RuntimeWarning: divide by zero encountered in power\n",
            "  + np.power(y_pred, 2 - p) / (2 - p)\n",
            "/usr/local/lib/python3.7/dist-packages/sklearn/_loss/glm_distribution.py:132: RuntimeWarning: divide by zero encountered in true_divide\n",
            "  return -2 * (y - y_pred) / self.unit_variance(y_pred)\n",
            "/usr/local/lib/python3.7/dist-packages/sklearn/linear_model/_glm/glm.py:42: RuntimeWarning: invalid value encountered in multiply\n",
            "  temp = d1 * family.deviance_derivative(y, y_pred, weights)\n",
            "/usr/local/lib/python3.7/dist-packages/sklearn/_loss/glm_distribution.py:326: RuntimeWarning: divide by zero encountered in log\n",
            "  dev = 2 * (np.log(y_pred / y) + y / y_pred - 1)\n",
            "/usr/local/lib/python3.7/dist-packages/sklearn/_loss/glm_distribution.py:326: RuntimeWarning: divide by zero encountered in true_divide\n",
            "  dev = 2 * (np.log(y_pred / y) + y / y_pred - 1)\n",
            "/usr/local/lib/python3.7/dist-packages/sklearn/_loss/glm_distribution.py:326: RuntimeWarning: invalid value encountered in add\n",
            "  dev = 2 * (np.log(y_pred / y) + y / y_pred - 1)\n",
            "/usr/local/lib/python3.7/dist-packages/sklearn/linear_model/_glm/glm.py:323: ConvergenceWarning: lbfgs failed to converge (status=2):\n",
            "ABNORMAL_TERMINATION_IN_LNSRCH.\n",
            "\n",
            "Increase the number of iterations (max_iter) or scale the data as shown in:\n",
            "    https://scikit-learn.org/stable/modules/preprocessing.html\n",
            "  self.n_iter_ = _check_optimize_result(\"lbfgs\", opt_res)\n",
            "INFO:prophet:Disabling yearly seasonality. Run prophet with yearly_seasonality=True to override this.\n",
            "INFO:prophet:Disabling daily seasonality. Run prophet with daily_seasonality=True to override this.\n",
            "DEBUG:cmdstanpy:input tempfile: /tmp/tmp0ow7qcla/94qggzbv.json\n",
            "DEBUG:cmdstanpy:input tempfile: /tmp/tmp0ow7qcla/p6xwjzjb.json\n",
            "DEBUG:cmdstanpy:idx 0\n",
            "DEBUG:cmdstanpy:running CmdStan, num_threads: None\n",
            "DEBUG:cmdstanpy:CmdStan args: ['/usr/local/lib/python3.7/dist-packages/prophet/stan_model/prophet_model.bin', 'random', 'seed=96848', 'data', 'file=/tmp/tmp0ow7qcla/94qggzbv.json', 'init=/tmp/tmp0ow7qcla/p6xwjzjb.json', 'output', 'file=/tmp/tmpz8xgteix/prophet_model-20220820141945.csv', 'method=optimize', 'algorithm=lbfgs', 'iter=10000']\n",
            "14:19:45 - cmdstanpy - INFO - Chain [1] start processing\n",
            "INFO:cmdstanpy:Chain [1] start processing\n"
          ]
        },
        {
          "output_type": "stream",
          "name": "stdout",
          "text": [
            "Model Number: 197 with model FBProphet in generation 1 of 10\n"
          ]
        },
        {
          "output_type": "stream",
          "name": "stderr",
          "text": [
            "14:19:45 - cmdstanpy - INFO - Chain [1] done processing\n",
            "INFO:cmdstanpy:Chain [1] done processing\n"
          ]
        },
        {
          "output_type": "stream",
          "name": "stdout",
          "text": [
            "Model Number: 198 with model SectionalMotif in generation 1 of 10\n",
            "Model Number: 199 with model ETS in generation 1 of 10\n",
            "Model Number: 200 with model NVAR in generation 1 of 10\n",
            "Model Number: 201 with model MultivariateMotif in generation 1 of 10\n",
            "Model Number: 202 with model DatepartRegression in generation 1 of 10\n",
            "Template Eval Error: ValueError(\"regression_type='User' but no future_regressor passed\") in model 202: DatepartRegression\n",
            "Model Number: 203 with model WindowRegression in generation 1 of 10\n",
            "Model Number: 204 with model MultivariateMotif in generation 1 of 10\n"
          ]
        },
        {
          "output_type": "stream",
          "name": "stderr",
          "text": [
            "/usr/local/lib/python3.7/dist-packages/sklearn/neural_network/_multilayer_perceptron.py:549: ConvergenceWarning: lbfgs failed to converge (status=1):\n",
            "STOP: TOTAL NO. of ITERATIONS REACHED LIMIT.\n",
            "\n",
            "Increase the number of iterations (max_iter) or scale the data as shown in:\n",
            "    https://scikit-learn.org/stable/modules/preprocessing.html\n",
            "  self.n_iter_ = _check_optimize_result(\"lbfgs\", opt_res, self.max_iter)\n"
          ]
        },
        {
          "output_type": "stream",
          "name": "stdout",
          "text": [
            "Model Number: 205 with model ETS in generation 1 of 10\n",
            "Model Number: 206 with model FBProphet in generation 1 of 10\n"
          ]
        },
        {
          "output_type": "stream",
          "name": "stderr",
          "text": [
            "INFO:prophet:Disabling yearly seasonality. Run prophet with yearly_seasonality=True to override this.\n",
            "INFO:prophet:Disabling daily seasonality. Run prophet with daily_seasonality=True to override this.\n",
            "DEBUG:cmdstanpy:input tempfile: /tmp/tmp0ow7qcla/gecsxk6e.json\n",
            "DEBUG:cmdstanpy:input tempfile: /tmp/tmp0ow7qcla/29hsjsme.json\n",
            "DEBUG:cmdstanpy:idx 0\n",
            "DEBUG:cmdstanpy:running CmdStan, num_threads: None\n",
            "DEBUG:cmdstanpy:CmdStan args: ['/usr/local/lib/python3.7/dist-packages/prophet/stan_model/prophet_model.bin', 'random', 'seed=78148', 'data', 'file=/tmp/tmp0ow7qcla/gecsxk6e.json', 'init=/tmp/tmp0ow7qcla/29hsjsme.json', 'output', 'file=/tmp/tmp2rl_xvuo/prophet_model-20220820141951.csv', 'method=optimize', 'algorithm=newton', 'iter=10000']\n",
            "14:19:51 - cmdstanpy - INFO - Chain [1] start processing\n",
            "INFO:cmdstanpy:Chain [1] start processing\n",
            "14:19:52 - cmdstanpy - INFO - Chain [1] done processing\n",
            "INFO:cmdstanpy:Chain [1] done processing\n"
          ]
        },
        {
          "output_type": "stream",
          "name": "stdout",
          "text": [
            "Model Number: 207 with model UnivariateMotif in generation 1 of 10\n",
            "Model Number: 208 with model SectionalMotif in generation 1 of 10\n",
            "Model Number: 209 with model SectionalMotif in generation 1 of 10\n",
            "Model Number: 210 with model MultivariateRegression in generation 1 of 10\n",
            "Model Number: 211 with model MultivariateRegression in generation 1 of 10\n",
            "Template Eval Error: Exception('Transformer BTCD failed on fit') in model 211: MultivariateRegression\n",
            "Model Number: 212 with model MultivariateMotif in generation 1 of 10\n",
            "Model Number: 213 with model LastValueNaive in generation 1 of 10\n",
            "Model Number: 214 with model FBProphet in generation 1 of 10\n",
            "Template Eval Error: Exception('Transformer Detrend failed on fit') in model 214: FBProphet\n",
            "Model Number: 215 with model GLS in generation 1 of 10\n",
            "Model Number: 216 with model FBProphet in generation 1 of 10\n"
          ]
        },
        {
          "output_type": "stream",
          "name": "stderr",
          "text": [
            "INFO:prophet:Disabling yearly seasonality. Run prophet with yearly_seasonality=True to override this.\n",
            "INFO:prophet:Disabling daily seasonality. Run prophet with daily_seasonality=True to override this.\n",
            "DEBUG:cmdstanpy:input tempfile: /tmp/tmp0ow7qcla/nuinpf61.json\n",
            "DEBUG:cmdstanpy:input tempfile: /tmp/tmp0ow7qcla/4o2xf3l_.json\n",
            "DEBUG:cmdstanpy:idx 0\n",
            "DEBUG:cmdstanpy:running CmdStan, num_threads: None\n",
            "DEBUG:cmdstanpy:CmdStan args: ['/usr/local/lib/python3.7/dist-packages/prophet/stan_model/prophet_model.bin', 'random', 'seed=38694', 'data', 'file=/tmp/tmp0ow7qcla/nuinpf61.json', 'init=/tmp/tmp0ow7qcla/4o2xf3l_.json', 'output', 'file=/tmp/tmpp6n5ounv/prophet_model-20220820141955.csv', 'method=optimize', 'algorithm=lbfgs', 'iter=10000']\n",
            "14:19:55 - cmdstanpy - INFO - Chain [1] start processing\n",
            "INFO:cmdstanpy:Chain [1] start processing\n",
            "14:19:56 - cmdstanpy - INFO - Chain [1] done processing\n",
            "INFO:cmdstanpy:Chain [1] done processing\n"
          ]
        },
        {
          "output_type": "stream",
          "name": "stdout",
          "text": [
            "Model Number: 217 with model MultivariateMotif in generation 1 of 10\n",
            "Model Number: 218 with model NVAR in generation 1 of 10\n",
            "Model Number: 219 with model ETS in generation 1 of 10\n",
            "Model Number: 220 with model AverageValueNaive in generation 1 of 10\n",
            "Model Number: 221 with model LastValueNaive in generation 1 of 10\n",
            "Model Number: 222 with model SectionalMotif in generation 1 of 10\n",
            "Model Number: 223 with model SeasonalNaive in generation 1 of 10\n"
          ]
        },
        {
          "output_type": "stream",
          "name": "stderr",
          "text": [
            "/usr/local/lib/python3.7/dist-packages/sklearn/_loss/glm_distribution.py:132: RuntimeWarning: divide by zero encountered in true_divide\n",
            "  return -2 * (y - y_pred) / self.unit_variance(y_pred)\n",
            "/usr/local/lib/python3.7/dist-packages/sklearn/linear_model/_glm/glm.py:42: RuntimeWarning: invalid value encountered in multiply\n",
            "  temp = d1 * family.deviance_derivative(y, y_pred, weights)\n",
            "/usr/local/lib/python3.7/dist-packages/sklearn/_loss/glm_distribution.py:323: RuntimeWarning: divide by zero encountered in true_divide\n",
            "  dev = 2 * (xlogy(y, y / y_pred) - y + y_pred)\n"
          ]
        },
        {
          "output_type": "stream",
          "name": "stdout",
          "text": [
            "Model Number: 224 with model GLS in generation 1 of 10\n",
            "Model Number: 225 with model SeasonalNaive in generation 1 of 10\n",
            "Model Number: 226 with model DatepartRegression in generation 1 of 10\n",
            "Model Number: 227 with model SectionalMotif in generation 1 of 10\n",
            "Model Number: 228 with model GLS in generation 1 of 10\n",
            "Model Number: 229 with model SectionalMotif in generation 1 of 10\n",
            "Model Number: 230 with model UnivariateMotif in generation 1 of 10\n",
            "Template Eval Error: Exception('Transformer Cointegration failed on fit') in model 230: UnivariateMotif\n",
            "Model Number: 231 with model NVAR in generation 1 of 10\n",
            "Model Number: 232 with model NVAR in generation 1 of 10\n",
            "Model Number: 233 with model ETS in generation 1 of 10\n",
            "Model Number: 234 with model LastValueNaive in generation 1 of 10\n",
            "Model Number: 235 with model NVAR in generation 1 of 10\n",
            "Template Eval Error: Exception('Transformer Cointegration failed on fit') in model 235: NVAR\n",
            "Model Number: 236 with model AverageValueNaive in generation 1 of 10\n"
          ]
        },
        {
          "output_type": "stream",
          "name": "stderr",
          "text": [
            "/usr/local/lib/python3.7/dist-packages/sklearn/_loss/glm_distribution.py:132: RuntimeWarning: divide by zero encountered in true_divide\n",
            "  return -2 * (y - y_pred) / self.unit_variance(y_pred)\n",
            "/usr/local/lib/python3.7/dist-packages/sklearn/linear_model/_glm/glm.py:42: RuntimeWarning: invalid value encountered in multiply\n",
            "  temp = d1 * family.deviance_derivative(y, y_pred, weights)\n",
            "/usr/local/lib/python3.7/dist-packages/sklearn/_loss/glm_distribution.py:331: RuntimeWarning: divide by zero encountered in power\n",
            "  + np.power(y_pred, 2 - p) / (2 - p)\n"
          ]
        },
        {
          "output_type": "stream",
          "name": "stdout",
          "text": [
            "Model Number: 237 with model AverageValueNaive in generation 1 of 10\n"
          ]
        },
        {
          "output_type": "stream",
          "name": "stderr",
          "text": [
            "INFO:prophet:Disabling yearly seasonality. Run prophet with yearly_seasonality=True to override this.\n",
            "INFO:prophet:Disabling daily seasonality. Run prophet with daily_seasonality=True to override this.\n",
            "DEBUG:cmdstanpy:input tempfile: /tmp/tmp0ow7qcla/u2mfsqs3.json\n",
            "DEBUG:cmdstanpy:input tempfile: /tmp/tmp0ow7qcla/5bjv2uy8.json\n",
            "DEBUG:cmdstanpy:idx 0\n",
            "DEBUG:cmdstanpy:running CmdStan, num_threads: None\n",
            "DEBUG:cmdstanpy:CmdStan args: ['/usr/local/lib/python3.7/dist-packages/prophet/stan_model/prophet_model.bin', 'random', 'seed=665', 'data', 'file=/tmp/tmp0ow7qcla/u2mfsqs3.json', 'init=/tmp/tmp0ow7qcla/5bjv2uy8.json', 'output', 'file=/tmp/tmpp4ofmso6/prophet_model-20220820142000.csv', 'method=optimize', 'algorithm=lbfgs', 'iter=10000']\n",
            "14:20:00 - cmdstanpy - INFO - Chain [1] start processing\n"
          ]
        },
        {
          "output_type": "stream",
          "name": "stdout",
          "text": [
            "Model Number: 238 with model FBProphet in generation 1 of 10\n"
          ]
        },
        {
          "output_type": "stream",
          "name": "stderr",
          "text": [
            "INFO:cmdstanpy:Chain [1] start processing\n",
            "14:20:01 - cmdstanpy - INFO - Chain [1] done processing\n",
            "INFO:cmdstanpy:Chain [1] done processing\n",
            "INFO:prophet:Disabling yearly seasonality. Run prophet with yearly_seasonality=True to override this.\n",
            "INFO:prophet:Disabling daily seasonality. Run prophet with daily_seasonality=True to override this.\n",
            "DEBUG:cmdstanpy:input tempfile: /tmp/tmp0ow7qcla/ziv8qzyo.json\n",
            "DEBUG:cmdstanpy:input tempfile: /tmp/tmp0ow7qcla/5uzln0iu.json\n",
            "DEBUG:cmdstanpy:idx 0\n",
            "DEBUG:cmdstanpy:running CmdStan, num_threads: None\n",
            "DEBUG:cmdstanpy:CmdStan args: ['/usr/local/lib/python3.7/dist-packages/prophet/stan_model/prophet_model.bin', 'random', 'seed=97945', 'data', 'file=/tmp/tmp0ow7qcla/ziv8qzyo.json', 'init=/tmp/tmp0ow7qcla/5uzln0iu.json', 'output', 'file=/tmp/tmpsjte8jl_/prophet_model-20220820142004.csv', 'method=optimize', 'algorithm=lbfgs', 'iter=10000']\n",
            "14:20:04 - cmdstanpy - INFO - Chain [1] start processing\n",
            "INFO:cmdstanpy:Chain [1] start processing\n"
          ]
        },
        {
          "output_type": "stream",
          "name": "stdout",
          "text": [
            "Model Number: 239 with model FBProphet in generation 1 of 10\n"
          ]
        },
        {
          "output_type": "stream",
          "name": "stderr",
          "text": [
            "14:20:04 - cmdstanpy - INFO - Chain [1] done processing\n",
            "INFO:cmdstanpy:Chain [1] done processing\n"
          ]
        },
        {
          "output_type": "stream",
          "name": "stdout",
          "text": [
            "Model Number: 240 with model MultivariateRegression in generation 1 of 10\n",
            "Model Number: 241 with model AverageValueNaive in generation 1 of 10\n",
            "Model Number: 242 with model ETS in generation 1 of 10\n",
            "Model Number: 243 with model FBProphet in generation 1 of 10\n"
          ]
        },
        {
          "output_type": "stream",
          "name": "stderr",
          "text": [
            "INFO:prophet:Disabling yearly seasonality. Run prophet with yearly_seasonality=True to override this.\n",
            "INFO:prophet:Disabling daily seasonality. Run prophet with daily_seasonality=True to override this.\n",
            "DEBUG:cmdstanpy:input tempfile: /tmp/tmp0ow7qcla/t_famp2c.json\n",
            "DEBUG:cmdstanpy:input tempfile: /tmp/tmp0ow7qcla/k44n4ihp.json\n",
            "DEBUG:cmdstanpy:idx 0\n",
            "DEBUG:cmdstanpy:running CmdStan, num_threads: None\n",
            "DEBUG:cmdstanpy:CmdStan args: ['/usr/local/lib/python3.7/dist-packages/prophet/stan_model/prophet_model.bin', 'random', 'seed=67610', 'data', 'file=/tmp/tmp0ow7qcla/t_famp2c.json', 'init=/tmp/tmp0ow7qcla/k44n4ihp.json', 'output', 'file=/tmp/tmpln1ot4ex/prophet_model-20220820142008.csv', 'method=optimize', 'algorithm=lbfgs', 'iter=10000']\n",
            "14:20:08 - cmdstanpy - INFO - Chain [1] start processing\n",
            "INFO:cmdstanpy:Chain [1] start processing\n",
            "14:20:09 - cmdstanpy - INFO - Chain [1] done processing\n",
            "INFO:cmdstanpy:Chain [1] done processing\n"
          ]
        },
        {
          "output_type": "stream",
          "name": "stdout",
          "text": [
            "Model Number: 244 with model NVAR in generation 1 of 10\n",
            "Model Number: 245 with model ETS in generation 1 of 10\n",
            "Model Number: 246 with model AverageValueNaive in generation 1 of 10\n"
          ]
        },
        {
          "output_type": "stream",
          "name": "stderr",
          "text": [
            "INFO:prophet:Disabling yearly seasonality. Run prophet with yearly_seasonality=True to override this.\n",
            "INFO:prophet:Disabling daily seasonality. Run prophet with daily_seasonality=True to override this.\n",
            "DEBUG:cmdstanpy:input tempfile: /tmp/tmp0ow7qcla/xqtulg4t.json\n",
            "DEBUG:cmdstanpy:input tempfile: /tmp/tmp0ow7qcla/lb9uzwwi.json\n"
          ]
        },
        {
          "output_type": "stream",
          "name": "stdout",
          "text": [
            "Model Number: 247 with model UnivariateMotif in generation 1 of 10\n",
            "Template Eval Error: ValueError('window shape cannot be larger than input array shape') in model 247: UnivariateMotif\n",
            "Model Number: 248 with model FBProphet in generation 1 of 10\n"
          ]
        },
        {
          "output_type": "stream",
          "name": "stderr",
          "text": [
            "DEBUG:cmdstanpy:idx 0\n",
            "DEBUG:cmdstanpy:running CmdStan, num_threads: None\n",
            "DEBUG:cmdstanpy:CmdStan args: ['/usr/local/lib/python3.7/dist-packages/prophet/stan_model/prophet_model.bin', 'random', 'seed=48383', 'data', 'file=/tmp/tmp0ow7qcla/xqtulg4t.json', 'init=/tmp/tmp0ow7qcla/lb9uzwwi.json', 'output', 'file=/tmp/tmpyk6pz2zf/prophet_model-20220820142012.csv', 'method=optimize', 'algorithm=lbfgs', 'iter=10000']\n",
            "14:20:12 - cmdstanpy - INFO - Chain [1] start processing\n",
            "INFO:cmdstanpy:Chain [1] start processing\n",
            "14:20:12 - cmdstanpy - INFO - Chain [1] done processing\n",
            "INFO:cmdstanpy:Chain [1] done processing\n"
          ]
        },
        {
          "output_type": "stream",
          "name": "stdout",
          "text": [
            "Model Number: 249 with model SeasonalNaive in generation 1 of 10\n",
            "Model Number: 250 with model MultivariateMotif in generation 1 of 10\n",
            "Model Number: 251 with model LastValueNaive in generation 1 of 10\n",
            "Model Number: 252 with model NVAR in generation 1 of 10\n",
            "Model Number: 253 with model SectionalMotif in generation 1 of 10\n",
            "Model Number: 254 with model ConstantNaive in generation 1 of 10\n",
            "Model Number: 255 with model MultivariateMotif in generation 1 of 10\n",
            "Model Number: 256 with model UnivariateRegression in generation 1 of 10\n",
            "Template Eval Error: Exception('Transformer BTCD failed on fit') in model 256: UnivariateRegression\n",
            "Model Number: 257 with model AverageValueNaive in generation 1 of 10\n",
            "Model Number: 258 with model UnobservedComponents in generation 1 of 10\n",
            "Template Eval Error: ValueError(\"regression_type='User' but no future_regressor supplied\") in model 258: UnobservedComponents\n",
            "Model Number: 259 with model UnivariateMotif in generation 1 of 10\n",
            "Model Number: 260 with model Theta in generation 1 of 10\n",
            "Model Number: 261 with model ETS in generation 1 of 10\n",
            "ETS error ValueError('Can only dampen the trend component')\n",
            "ETS failed on Close with ValueError('Can only dampen the trend component')\n",
            "Model Number: 262 with model LastValueNaive in generation 1 of 10\n",
            "Model Number: 263 with model LastValueNaive in generation 1 of 10\n",
            "Template Eval Error: Exception('Transformer BTCD failed on fit') in model 263: LastValueNaive"
          ]
        },
        {
          "output_type": "stream",
          "name": "stderr",
          "text": [
            "/usr/local/lib/python3.7/dist-packages/sklearn/preprocessing/_data.py:3253: RuntimeWarning: divide by zero encountered in log\n",
            "  loglike = -n_samples / 2 * np.log(x_trans.var())\n",
            "/usr/local/lib/python3.7/dist-packages/autots/tools/probabilistic.py:67: RuntimeWarning: invalid value encountered in true_divide\n",
            "  (prior_mu / prior_sigma**2) + ((n * data_mu) / prior_sigma**2)\n",
            "/usr/local/lib/python3.7/dist-packages/autots/tools/probabilistic.py:68: RuntimeWarning: divide by zero encountered in true_divide\n",
            "  ) / ((1 / prior_sigma**2) + (n / prior_sigma**2))\n"
          ]
        },
        {
          "output_type": "stream",
          "name": "stdout",
          "text": [
            "\n",
            "Model Number: 264 with model Theta in generation 1 of 10\n",
            "Model Number: 265 with model UnobservedComponents in generation 1 of 10\n",
            "Model Number: 266 with model ETS in generation 1 of 10\n",
            "ETS error ValueError('endog must be strictly positive when usingmultiplicative trend or seasonal components.')\n",
            "ETS failed on Close with ValueError('endog must be strictly positive when usingmultiplicative trend or seasonal components.')\n",
            "Model Number: 267 with model SectionalMotif in generation 1 of 10\n",
            "Model Number: 268 with model SeasonalNaive in generation 1 of 10\n",
            "Model Number: 269 with model ConstantNaive in generation 1 of 10\n",
            "Model Number: 270 with model UnobservedComponents in generation 1 of 10\n",
            "Model Number: 271 with model NVAR in generation 1 of 10\n",
            "Model Number: 272 with model UnivariateMotif in generation 1 of 10\n",
            "Model Number: 273 with model AverageValueNaive in generation 1 of 10\n",
            "Model Number: 274 with model MultivariateMotif in generation 1 of 10\n",
            "Model Number: 275 with model NVAR in generation 1 of 10\n",
            "Model Number: 276 with model LastValueNaive in generation 1 of 10\n",
            "Model Number: 277 with model GLS in generation 1 of 10\n",
            "Model Number: 278 with model NVAR in generation 1 of 10\n",
            "Model Number: 279 with model SeasonalNaive in generation 1 of 10\n",
            "New Generation: 2 of 10\n",
            "Model Number: 280 with model MultivariateMotif in generation 2 of 10\n",
            "Template Eval Error: Exception('Transformer Detrend failed on fit') in model 280: MultivariateMotif\n",
            "Model Number: 281 with model LastValueNaive in generation 2 of 10\n",
            "Model Number: 282 with model NVAR in generation 2 of 10\n",
            "Model Number: 283 with model LastValueNaive in generation 2 of 10\n",
            "Model Number: 284 with model LastValueNaive in generation 2 of 10\n",
            "Model Number: 285 with model UnivariateMotif in generation 2 of 10\n",
            "Model Number: 286 with model SectionalMotif in generation 2 of 10\n",
            "Model Number: 287 with model FBProphet in generation 2 of 10\n"
          ]
        },
        {
          "output_type": "stream",
          "name": "stderr",
          "text": [
            "INFO:prophet:Disabling yearly seasonality. Run prophet with yearly_seasonality=True to override this.\n",
            "INFO:prophet:Disabling daily seasonality. Run prophet with daily_seasonality=True to override this.\n",
            "DEBUG:cmdstanpy:input tempfile: /tmp/tmp0ow7qcla/q3a1p9l4.json\n",
            "DEBUG:cmdstanpy:input tempfile: /tmp/tmp0ow7qcla/wvg3cia4.json\n",
            "DEBUG:cmdstanpy:idx 0\n",
            "DEBUG:cmdstanpy:running CmdStan, num_threads: None\n",
            "DEBUG:cmdstanpy:CmdStan args: ['/usr/local/lib/python3.7/dist-packages/prophet/stan_model/prophet_model.bin', 'random', 'seed=8640', 'data', 'file=/tmp/tmp0ow7qcla/q3a1p9l4.json', 'init=/tmp/tmp0ow7qcla/wvg3cia4.json', 'output', 'file=/tmp/tmpe3doo9o0/prophet_model-20220820142020.csv', 'method=optimize', 'algorithm=lbfgs', 'iter=10000']\n",
            "14:20:20 - cmdstanpy - INFO - Chain [1] start processing\n",
            "INFO:cmdstanpy:Chain [1] start processing\n",
            "14:20:20 - cmdstanpy - INFO - Chain [1] done processing\n",
            "INFO:cmdstanpy:Chain [1] done processing\n"
          ]
        },
        {
          "output_type": "stream",
          "name": "stdout",
          "text": [
            "Model Number: 288 with model SectionalMotif in generation 2 of 10\n",
            "Template Eval Error: ValueError(\"regression_type=='User' but no future_regressor supplied\") in model 288: SectionalMotif\n",
            "Model Number: 289 with model GLS in generation 2 of 10\n",
            "Model Number: 290 with model ETS in generation 2 of 10\n",
            "Model Number: 291 with model UnobservedComponents in generation 2 of 10\n"
          ]
        },
        {
          "output_type": "stream",
          "name": "stderr",
          "text": [
            "/usr/local/lib/python3.7/dist-packages/sklearn/_loss/glm_distribution.py:132: RuntimeWarning: divide by zero encountered in true_divide\n",
            "  return -2 * (y - y_pred) / self.unit_variance(y_pred)\n",
            "/usr/local/lib/python3.7/dist-packages/sklearn/linear_model/_glm/glm.py:42: RuntimeWarning: invalid value encountered in multiply\n",
            "  temp = d1 * family.deviance_derivative(y, y_pred, weights)\n",
            "/usr/local/lib/python3.7/dist-packages/sklearn/_loss/glm_distribution.py:331: RuntimeWarning: divide by zero encountered in power\n",
            "  + np.power(y_pred, 2 - p) / (2 - p)\n"
          ]
        },
        {
          "output_type": "stream",
          "name": "stdout",
          "text": [
            "Model Number: 292 with model NVAR in generation 2 of 10\n",
            "Model Number: 293 with model Theta in generation 2 of 10\n",
            "Model Number: 294 with model Theta in generation 2 of 10\n",
            "Model Number: 295 with model SeasonalNaive in generation 2 of 10\n",
            "Model Number: 296 with model MultivariateMotif in generation 2 of 10\n",
            "Model Number: 297 with model WindowRegression in generation 2 of 10\n",
            "Model Number: 298 with model LastValueNaive in generation 2 of 10\n",
            "Model Number: 299 with model WindowRegression in generation 2 of 10\n"
          ]
        },
        {
          "output_type": "stream",
          "name": "stderr",
          "text": [
            "/usr/local/lib/python3.7/dist-packages/sklearn/_loss/glm_distribution.py:132: RuntimeWarning: divide by zero encountered in true_divide\n",
            "  return -2 * (y - y_pred) / self.unit_variance(y_pred)\n",
            "/usr/local/lib/python3.7/dist-packages/sklearn/linear_model/_glm/glm.py:42: RuntimeWarning: invalid value encountered in multiply\n",
            "  temp = d1 * family.deviance_derivative(y, y_pred, weights)\n",
            "/usr/local/lib/python3.7/dist-packages/sklearn/_loss/glm_distribution.py:326: RuntimeWarning: divide by zero encountered in log\n",
            "  dev = 2 * (np.log(y_pred / y) + y / y_pred - 1)\n",
            "/usr/local/lib/python3.7/dist-packages/sklearn/_loss/glm_distribution.py:326: RuntimeWarning: divide by zero encountered in true_divide\n",
            "  dev = 2 * (np.log(y_pred / y) + y / y_pred - 1)\n",
            "/usr/local/lib/python3.7/dist-packages/sklearn/_loss/glm_distribution.py:326: RuntimeWarning: invalid value encountered in add\n",
            "  dev = 2 * (np.log(y_pred / y) + y / y_pred - 1)\n",
            "/usr/local/lib/python3.7/dist-packages/sklearn/linear_model/_glm/glm.py:323: ConvergenceWarning: lbfgs failed to converge (status=2):\n",
            "ABNORMAL_TERMINATION_IN_LNSRCH.\n",
            "\n",
            "Increase the number of iterations (max_iter) or scale the data as shown in:\n",
            "    https://scikit-learn.org/stable/modules/preprocessing.html\n",
            "  self.n_iter_ = _check_optimize_result(\"lbfgs\", opt_res)\n"
          ]
        },
        {
          "output_type": "stream",
          "name": "stdout",
          "text": [
            "Model Number: 300 with model UnivariateMotif in generation 2 of 10\n"
          ]
        },
        {
          "output_type": "stream",
          "name": "stderr",
          "text": [
            "/usr/local/lib/python3.7/dist-packages/sklearn/neural_network/_multilayer_perceptron.py:549: ConvergenceWarning: lbfgs failed to converge (status=1):\n",
            "STOP: TOTAL NO. of ITERATIONS REACHED LIMIT.\n",
            "\n",
            "Increase the number of iterations (max_iter) or scale the data as shown in:\n",
            "    https://scikit-learn.org/stable/modules/preprocessing.html\n",
            "  self.n_iter_ = _check_optimize_result(\"lbfgs\", opt_res, self.max_iter)\n"
          ]
        },
        {
          "output_type": "stream",
          "name": "stdout",
          "text": [
            "Model Number: 301 with model UnivariateMotif in generation 2 of 10\n",
            "Template Eval Error: ValueError('kth(=10) out of bounds (1)') in model 301: UnivariateMotif\n",
            "Model Number: 302 with model ETS in generation 2 of 10\n",
            "Model Number: 303 with model LastValueNaive in generation 2 of 10\n",
            "Model Number: 304 with model SeasonalNaive in generation 2 of 10\n",
            "Model Number: 305 with model SectionalMotif in generation 2 of 10\n",
            "Model Number: 306 with model ETS in generation 2 of 10\n"
          ]
        },
        {
          "output_type": "stream",
          "name": "stderr",
          "text": [
            "/usr/local/lib/python3.7/dist-packages/sklearn/_loss/glm_distribution.py:132: RuntimeWarning: divide by zero encountered in true_divide\n",
            "  return -2 * (y - y_pred) / self.unit_variance(y_pred)\n",
            "/usr/local/lib/python3.7/dist-packages/sklearn/linear_model/_glm/glm.py:42: RuntimeWarning: invalid value encountered in multiply\n",
            "  temp = d1 * family.deviance_derivative(y, y_pred, weights)\n",
            "/usr/local/lib/python3.7/dist-packages/sklearn/_loss/glm_distribution.py:326: RuntimeWarning: divide by zero encountered in log\n",
            "  dev = 2 * (np.log(y_pred / y) + y / y_pred - 1)\n",
            "/usr/local/lib/python3.7/dist-packages/sklearn/_loss/glm_distribution.py:326: RuntimeWarning: divide by zero encountered in true_divide\n",
            "  dev = 2 * (np.log(y_pred / y) + y / y_pred - 1)\n",
            "/usr/local/lib/python3.7/dist-packages/sklearn/_loss/glm_distribution.py:326: RuntimeWarning: invalid value encountered in add\n",
            "  dev = 2 * (np.log(y_pred / y) + y / y_pred - 1)\n",
            "/usr/local/lib/python3.7/dist-packages/sklearn/linear_model/_glm/glm.py:323: ConvergenceWarning: lbfgs failed to converge (status=2):\n",
            "ABNORMAL_TERMINATION_IN_LNSRCH.\n",
            "\n",
            "Increase the number of iterations (max_iter) or scale the data as shown in:\n",
            "    https://scikit-learn.org/stable/modules/preprocessing.html\n",
            "  self.n_iter_ = _check_optimize_result(\"lbfgs\", opt_res)\n"
          ]
        },
        {
          "output_type": "stream",
          "name": "stdout",
          "text": [
            "Model Number: 307 with model UnivariateMotif in generation 2 of 10\n",
            "Model Number: 308 with model MultivariateMotif in generation 2 of 10\n",
            "Model Number: 309 with model AverageValueNaive in generation 2 of 10\n",
            "Model Number: 310 with model GLS in generation 2 of 10\n"
          ]
        },
        {
          "output_type": "stream",
          "name": "stderr",
          "text": [
            "/usr/local/lib/python3.7/dist-packages/sklearn/_loss/glm_distribution.py:132: RuntimeWarning: divide by zero encountered in true_divide\n",
            "  return -2 * (y - y_pred) / self.unit_variance(y_pred)\n",
            "/usr/local/lib/python3.7/dist-packages/sklearn/linear_model/_glm/glm.py:42: RuntimeWarning: invalid value encountered in multiply\n",
            "  temp = d1 * family.deviance_derivative(y, y_pred, weights)\n",
            "/usr/local/lib/python3.7/dist-packages/sklearn/_loss/glm_distribution.py:326: RuntimeWarning: divide by zero encountered in log\n",
            "  dev = 2 * (np.log(y_pred / y) + y / y_pred - 1)\n",
            "/usr/local/lib/python3.7/dist-packages/sklearn/_loss/glm_distribution.py:326: RuntimeWarning: divide by zero encountered in true_divide\n",
            "  dev = 2 * (np.log(y_pred / y) + y / y_pred - 1)\n",
            "/usr/local/lib/python3.7/dist-packages/sklearn/_loss/glm_distribution.py:326: RuntimeWarning: invalid value encountered in add\n",
            "  dev = 2 * (np.log(y_pred / y) + y / y_pred - 1)\n",
            "/usr/local/lib/python3.7/dist-packages/sklearn/linear_model/_glm/glm.py:323: ConvergenceWarning: lbfgs failed to converge (status=2):\n",
            "ABNORMAL_TERMINATION_IN_LNSRCH.\n",
            "\n",
            "Increase the number of iterations (max_iter) or scale the data as shown in:\n",
            "    https://scikit-learn.org/stable/modules/preprocessing.html\n",
            "  self.n_iter_ = _check_optimize_result(\"lbfgs\", opt_res)\n"
          ]
        },
        {
          "output_type": "stream",
          "name": "stdout",
          "text": [
            "Model Number: 311 with model SectionalMotif in generation 2 of 10\n"
          ]
        },
        {
          "output_type": "stream",
          "name": "stderr",
          "text": [
            "INFO:prophet:Disabling yearly seasonality. Run prophet with yearly_seasonality=True to override this.\n",
            "INFO:prophet:Disabling daily seasonality. Run prophet with daily_seasonality=True to override this.\n",
            "DEBUG:cmdstanpy:input tempfile: /tmp/tmp0ow7qcla/m2z78y_3.json\n",
            "DEBUG:cmdstanpy:input tempfile: /tmp/tmp0ow7qcla/9756yex3.json\n",
            "DEBUG:cmdstanpy:idx 0\n",
            "DEBUG:cmdstanpy:running CmdStan, num_threads: None\n",
            "DEBUG:cmdstanpy:CmdStan args: ['/usr/local/lib/python3.7/dist-packages/prophet/stan_model/prophet_model.bin', 'random', 'seed=38207', 'data', 'file=/tmp/tmp0ow7qcla/m2z78y_3.json', 'init=/tmp/tmp0ow7qcla/9756yex3.json', 'output', 'file=/tmp/tmpjgcyt42p/prophet_model-20220820142029.csv', 'method=optimize', 'algorithm=lbfgs', 'iter=10000']\n",
            "14:20:29 - cmdstanpy - INFO - Chain [1] start processing\n",
            "INFO:cmdstanpy:Chain [1] start processing\n"
          ]
        },
        {
          "output_type": "stream",
          "name": "stdout",
          "text": [
            "Model Number: 312 with model FBProphet in generation 2 of 10\n"
          ]
        },
        {
          "output_type": "stream",
          "name": "stderr",
          "text": [
            "14:20:29 - cmdstanpy - INFO - Chain [1] done processing\n",
            "INFO:cmdstanpy:Chain [1] done processing\n"
          ]
        },
        {
          "output_type": "stream",
          "name": "stdout",
          "text": [
            "Model Number: 313 with model LastValueNaive in generation 2 of 10\n"
          ]
        },
        {
          "output_type": "stream",
          "name": "stderr",
          "text": [
            "/usr/local/lib/python3.7/dist-packages/sklearn/_loss/glm_distribution.py:132: RuntimeWarning: divide by zero encountered in true_divide\n",
            "  return -2 * (y - y_pred) / self.unit_variance(y_pred)\n",
            "/usr/local/lib/python3.7/dist-packages/sklearn/linear_model/_glm/glm.py:42: RuntimeWarning: invalid value encountered in multiply\n",
            "  temp = d1 * family.deviance_derivative(y, y_pred, weights)\n",
            "/usr/local/lib/python3.7/dist-packages/sklearn/_loss/glm_distribution.py:323: RuntimeWarning: divide by zero encountered in true_divide\n",
            "  dev = 2 * (xlogy(y, y / y_pred) - y + y_pred)\n",
            "INFO:prophet:Disabling yearly seasonality. Run prophet with yearly_seasonality=True to override this.\n",
            "INFO:prophet:Disabling daily seasonality. Run prophet with daily_seasonality=True to override this.\n"
          ]
        },
        {
          "output_type": "stream",
          "name": "stdout",
          "text": [
            "Model Number: 314 with model FBProphet in generation 2 of 10\n"
          ]
        },
        {
          "output_type": "stream",
          "name": "stderr",
          "text": [
            "DEBUG:cmdstanpy:input tempfile: /tmp/tmp0ow7qcla/7shv5y3u.json\n",
            "DEBUG:cmdstanpy:input tempfile: /tmp/tmp0ow7qcla/47dj8ahr.json\n",
            "DEBUG:cmdstanpy:idx 0\n",
            "DEBUG:cmdstanpy:running CmdStan, num_threads: None\n",
            "DEBUG:cmdstanpy:CmdStan args: ['/usr/local/lib/python3.7/dist-packages/prophet/stan_model/prophet_model.bin', 'random', 'seed=74922', 'data', 'file=/tmp/tmp0ow7qcla/7shv5y3u.json', 'init=/tmp/tmp0ow7qcla/47dj8ahr.json', 'output', 'file=/tmp/tmp2iy2wr_f/prophet_model-20220820142032.csv', 'method=optimize', 'algorithm=lbfgs', 'iter=10000']\n",
            "14:20:32 - cmdstanpy - INFO - Chain [1] start processing\n",
            "INFO:cmdstanpy:Chain [1] start processing\n",
            "14:20:32 - cmdstanpy - INFO - Chain [1] done processing\n",
            "INFO:cmdstanpy:Chain [1] done processing\n"
          ]
        },
        {
          "output_type": "stream",
          "name": "stdout",
          "text": [
            "Model Number: 315 with model ETS in generation 2 of 10\n"
          ]
        },
        {
          "output_type": "stream",
          "name": "stderr",
          "text": [
            "INFO:prophet:Disabling yearly seasonality. Run prophet with yearly_seasonality=True to override this.\n",
            "INFO:prophet:Disabling daily seasonality. Run prophet with daily_seasonality=True to override this.\n"
          ]
        },
        {
          "output_type": "stream",
          "name": "stdout",
          "text": [
            "Model Number: 316 with model FBProphet in generation 2 of 10\n"
          ]
        },
        {
          "output_type": "stream",
          "name": "stderr",
          "text": [
            "DEBUG:cmdstanpy:input tempfile: /tmp/tmp0ow7qcla/x_reeud8.json\n",
            "DEBUG:cmdstanpy:input tempfile: /tmp/tmp0ow7qcla/5j2a5_vk.json\n",
            "DEBUG:cmdstanpy:idx 0\n",
            "DEBUG:cmdstanpy:running CmdStan, num_threads: None\n",
            "DEBUG:cmdstanpy:CmdStan args: ['/usr/local/lib/python3.7/dist-packages/prophet/stan_model/prophet_model.bin', 'random', 'seed=54271', 'data', 'file=/tmp/tmp0ow7qcla/x_reeud8.json', 'init=/tmp/tmp0ow7qcla/5j2a5_vk.json', 'output', 'file=/tmp/tmpfc_fbscw/prophet_model-20220820142035.csv', 'method=optimize', 'algorithm=lbfgs', 'iter=10000']\n",
            "14:20:35 - cmdstanpy - INFO - Chain [1] start processing\n",
            "INFO:cmdstanpy:Chain [1] start processing\n",
            "14:20:35 - cmdstanpy - INFO - Chain [1] done processing\n",
            "INFO:cmdstanpy:Chain [1] done processing\n"
          ]
        },
        {
          "output_type": "stream",
          "name": "stdout",
          "text": [
            "Model Number: 317 with model MultivariateMotif in generation 2 of 10\n",
            "Model Number: 318 with model UnivariateMotif in generation 2 of 10\n",
            "Model Number: 319 with model SeasonalNaive in generation 2 of 10\n"
          ]
        },
        {
          "output_type": "stream",
          "name": "stderr",
          "text": [
            "/usr/local/lib/python3.7/dist-packages/sklearn/_loss/glm_distribution.py:132: RuntimeWarning: divide by zero encountered in true_divide\n",
            "  return -2 * (y - y_pred) / self.unit_variance(y_pred)\n",
            "/usr/local/lib/python3.7/dist-packages/sklearn/linear_model/_glm/glm.py:42: RuntimeWarning: invalid value encountered in multiply\n",
            "  temp = d1 * family.deviance_derivative(y, y_pred, weights)\n",
            "/usr/local/lib/python3.7/dist-packages/sklearn/_loss/glm_distribution.py:331: RuntimeWarning: divide by zero encountered in power\n",
            "  + np.power(y_pred, 2 - p) / (2 - p)\n"
          ]
        },
        {
          "output_type": "stream",
          "name": "stdout",
          "text": [
            "Model Number: 320 with model SectionalMotif in generation 2 of 10\n",
            "Model Number: 321 with model SectionalMotif in generation 2 of 10\n",
            "Template Eval Error: ValueError(\"regression_type=='User' but no future_regressor supplied\") in model 321: SectionalMotif\n",
            "Model Number: 322 with model SeasonalNaive in generation 2 of 10\n",
            "Model Number: 323 with model ETS in generation 2 of 10\n",
            "Model Number: 324 with model SeasonalNaive in generation 2 of 10\n",
            "Model Number: 325 with model UnivariateRegression in generation 2 of 10\n",
            "Model Number: 326 with model SectionalMotif in generation 2 of 10\n",
            "Model Number: 327 with model NVAR in generation 2 of 10\n",
            "Template Eval Error: Exception('Transformer BTCD failed on fit') in model 327: NVAR\n",
            "Model Number: 328 with model SectionalMotif in generation 2 of 10\n",
            "Model Number: 329 with model ETS in generation 2 of 10\n",
            "Model Number: 330 with model Theta in generation 2 of 10\n",
            "Model Number: 331 with model GLM in generation 2 of 10\n",
            "Model Number: 332 with model LastValueNaive in generation 2 of 10\n",
            "Model Number: 333 with model SectionalMotif in generation 2 of 10\n",
            "Template Eval Error: ValueError(\"regression_type=='User' but no future_regressor supplied\") in model 333: SectionalMotif\n",
            "Model Number: 334 with model NVAR in generation 2 of 10\n",
            "Model Number: 335 with model Theta in generation 2 of 10\n",
            "Model Number: 336 with model UnobservedComponents in generation 2 of 10\n",
            "Model Number: 337 with model FBProphet in generation 2 of 10\n"
          ]
        },
        {
          "output_type": "stream",
          "name": "stderr",
          "text": [
            "INFO:prophet:Disabling yearly seasonality. Run prophet with yearly_seasonality=True to override this.\n",
            "INFO:prophet:Disabling daily seasonality. Run prophet with daily_seasonality=True to override this.\n",
            "DEBUG:cmdstanpy:input tempfile: /tmp/tmp0ow7qcla/299p3c87.json\n",
            "DEBUG:cmdstanpy:input tempfile: /tmp/tmp0ow7qcla/6go56u4u.json\n",
            "DEBUG:cmdstanpy:idx 0\n",
            "DEBUG:cmdstanpy:running CmdStan, num_threads: None\n",
            "DEBUG:cmdstanpy:CmdStan args: ['/usr/local/lib/python3.7/dist-packages/prophet/stan_model/prophet_model.bin', 'random', 'seed=87244', 'data', 'file=/tmp/tmp0ow7qcla/299p3c87.json', 'init=/tmp/tmp0ow7qcla/6go56u4u.json', 'output', 'file=/tmp/tmpmm5b5vop/prophet_model-20220820142041.csv', 'method=optimize', 'algorithm=newton', 'iter=10000']\n",
            "14:20:41 - cmdstanpy - INFO - Chain [1] start processing\n",
            "INFO:cmdstanpy:Chain [1] start processing\n",
            "14:20:48 - cmdstanpy - INFO - Chain [1] done processing\n",
            "INFO:cmdstanpy:Chain [1] done processing\n"
          ]
        },
        {
          "output_type": "stream",
          "name": "stdout",
          "text": [
            "Model Number: 338 with model UnobservedComponents in generation 2 of 10\n",
            "Model Number: 339 with model LastValueNaive in generation 2 of 10\n",
            "Model Number: 340 with model SeasonalNaive in generation 2 of 10\n"
          ]
        },
        {
          "output_type": "stream",
          "name": "stderr",
          "text": [
            "/usr/local/lib/python3.7/dist-packages/sklearn/_loss/glm_distribution.py:132: RuntimeWarning: divide by zero encountered in true_divide\n",
            "  return -2 * (y - y_pred) / self.unit_variance(y_pred)\n",
            "/usr/local/lib/python3.7/dist-packages/sklearn/linear_model/_glm/glm.py:42: RuntimeWarning: invalid value encountered in multiply\n",
            "  temp = d1 * family.deviance_derivative(y, y_pred, weights)\n",
            "/usr/local/lib/python3.7/dist-packages/sklearn/_loss/glm_distribution.py:323: RuntimeWarning: divide by zero encountered in true_divide\n",
            "  dev = 2 * (xlogy(y, y / y_pred) - y + y_pred)\n"
          ]
        },
        {
          "output_type": "stream",
          "name": "stdout",
          "text": [
            "Model Number: 341 with model MultivariateRegression in generation 2 of 10\n",
            "Model Number: 342 with model MultivariateRegression in generation 2 of 10\n",
            "Model Number: 343 with model SectionalMotif in generation 2 of 10\n",
            "Model Number: 344 with model ETS in generation 2 of 10\n",
            "Model Number: 345 with model SectionalMotif in generation 2 of 10\n",
            "Model Number: 346 with model AverageValueNaive in generation 2 of 10\n",
            "Model Number: 347 with model AverageValueNaive in generation 2 of 10\n",
            "Model Number: 348 with model FBProphet in generation 2 of 10\n"
          ]
        },
        {
          "output_type": "stream",
          "name": "stderr",
          "text": [
            "INFO:prophet:Disabling yearly seasonality. Run prophet with yearly_seasonality=True to override this.\n",
            "INFO:prophet:Disabling daily seasonality. Run prophet with daily_seasonality=True to override this.\n",
            "DEBUG:cmdstanpy:input tempfile: /tmp/tmp0ow7qcla/7oz47oyd.json\n",
            "DEBUG:cmdstanpy:input tempfile: /tmp/tmp0ow7qcla/_ctemae2.json\n",
            "DEBUG:cmdstanpy:idx 0\n",
            "DEBUG:cmdstanpy:running CmdStan, num_threads: None\n",
            "DEBUG:cmdstanpy:CmdStan args: ['/usr/local/lib/python3.7/dist-packages/prophet/stan_model/prophet_model.bin', 'random', 'seed=54108', 'data', 'file=/tmp/tmp0ow7qcla/7oz47oyd.json', 'init=/tmp/tmp0ow7qcla/_ctemae2.json', 'output', 'file=/tmp/tmpc_ors0wc/prophet_model-20220820142054.csv', 'method=optimize', 'algorithm=lbfgs', 'iter=10000']\n",
            "14:20:54 - cmdstanpy - INFO - Chain [1] start processing\n",
            "INFO:cmdstanpy:Chain [1] start processing\n",
            "14:20:55 - cmdstanpy - INFO - Chain [1] done processing\n",
            "INFO:cmdstanpy:Chain [1] done processing\n",
            "INFO:prophet:Disabling yearly seasonality. Run prophet with yearly_seasonality=True to override this.\n",
            "INFO:prophet:Disabling daily seasonality. Run prophet with daily_seasonality=True to override this.\n",
            "DEBUG:cmdstanpy:input tempfile: /tmp/tmp0ow7qcla/_b_cm40f.json\n",
            "DEBUG:cmdstanpy:input tempfile: /tmp/tmp0ow7qcla/l3tvvikm.json\n",
            "DEBUG:cmdstanpy:idx 0\n",
            "DEBUG:cmdstanpy:running CmdStan, num_threads: None\n",
            "DEBUG:cmdstanpy:CmdStan args: ['/usr/local/lib/python3.7/dist-packages/prophet/stan_model/prophet_model.bin', 'random', 'seed=21947', 'data', 'file=/tmp/tmp0ow7qcla/_b_cm40f.json', 'init=/tmp/tmp0ow7qcla/l3tvvikm.json', 'output', 'file=/tmp/tmp1yplqiqq/prophet_model-20220820142057.csv', 'method=optimize', 'algorithm=lbfgs', 'iter=10000']\n",
            "14:20:57 - cmdstanpy - INFO - Chain [1] start processing\n",
            "INFO:cmdstanpy:Chain [1] start processing\n"
          ]
        },
        {
          "output_type": "stream",
          "name": "stdout",
          "text": [
            "Model Number: 349 with model UnivariateRegression in generation 2 of 10\n",
            "Template Eval Error: ValueError(\"regression_type='User' but not future_regressor supplied.\") in model 349: UnivariateRegression\n",
            "Model Number: 350 with model FBProphet in generation 2 of 10\n"
          ]
        },
        {
          "output_type": "stream",
          "name": "stderr",
          "text": [
            "14:20:57 - cmdstanpy - INFO - Chain [1] done processing\n",
            "INFO:cmdstanpy:Chain [1] done processing\n"
          ]
        },
        {
          "output_type": "stream",
          "name": "stdout",
          "text": [
            "Model Number: 351 with model ConstantNaive in generation 2 of 10\n",
            "Template Eval Error: Exception('Transformer Cointegration failed on fit') in model 351: ConstantNaive\n",
            "Model Number: 352 with model DatepartRegression in generation 2 of 10\n",
            "Epoch 1/50\n",
            "6/6 [==============================] - 4s 7ms/step - loss: 510.7368\n",
            "Epoch 2/50\n",
            "6/6 [==============================] - 0s 7ms/step - loss: 510.6964\n",
            "Epoch 3/50\n",
            "6/6 [==============================] - 0s 6ms/step - loss: 510.6649\n",
            "Epoch 4/50\n",
            "6/6 [==============================] - 0s 6ms/step - loss: 510.6418\n",
            "Epoch 5/50\n",
            "6/6 [==============================] - 0s 7ms/step - loss: 510.6203\n",
            "Epoch 6/50\n",
            "6/6 [==============================] - 0s 9ms/step - loss: 510.6003\n",
            "Epoch 7/50\n",
            "6/6 [==============================] - 0s 7ms/step - loss: 510.5834\n",
            "Epoch 8/50\n",
            "6/6 [==============================] - 0s 13ms/step - loss: 510.5691\n",
            "Epoch 9/50\n",
            "6/6 [==============================] - 0s 7ms/step - loss: 510.5557\n",
            "Epoch 10/50\n",
            "6/6 [==============================] - 0s 6ms/step - loss: 510.5424\n",
            "Epoch 11/50\n",
            "6/6 [==============================] - 0s 8ms/step - loss: 510.5305\n",
            "Epoch 12/50\n",
            "6/6 [==============================] - 0s 8ms/step - loss: 510.5187\n",
            "Epoch 13/50\n",
            "6/6 [==============================] - 0s 8ms/step - loss: 510.5070\n",
            "Epoch 14/50\n",
            "6/6 [==============================] - 0s 6ms/step - loss: 510.4965\n",
            "Epoch 15/50\n",
            "6/6 [==============================] - 0s 6ms/step - loss: 510.4869\n",
            "Epoch 16/50\n",
            "6/6 [==============================] - 0s 6ms/step - loss: 510.4769\n",
            "Epoch 17/50\n",
            "6/6 [==============================] - 0s 6ms/step - loss: 510.4665\n",
            "Epoch 18/50\n",
            "6/6 [==============================] - 0s 7ms/step - loss: 510.4578\n",
            "Epoch 19/50\n",
            "6/6 [==============================] - 0s 10ms/step - loss: 510.4507\n",
            "Epoch 20/50\n",
            "6/6 [==============================] - 0s 6ms/step - loss: 510.4404\n",
            "Epoch 21/50\n",
            "6/6 [==============================] - 0s 6ms/step - loss: 510.4310\n",
            "Epoch 22/50\n",
            "6/6 [==============================] - 0s 6ms/step - loss: 510.4226\n",
            "Epoch 23/50\n",
            "6/6 [==============================] - 0s 8ms/step - loss: 510.4143\n",
            "Epoch 24/50\n",
            "6/6 [==============================] - 0s 5ms/step - loss: 510.4061\n",
            "Epoch 25/50\n",
            "6/6 [==============================] - 0s 6ms/step - loss: 510.3983\n",
            "Epoch 26/50\n",
            "6/6 [==============================] - 0s 7ms/step - loss: 510.3911\n",
            "Epoch 27/50\n",
            "6/6 [==============================] - 0s 6ms/step - loss: 510.3836\n",
            "Epoch 28/50\n",
            "6/6 [==============================] - 0s 5ms/step - loss: 510.3782\n",
            "Epoch 29/50\n",
            "6/6 [==============================] - 0s 8ms/step - loss: 510.3696\n",
            "Epoch 30/50\n",
            "6/6 [==============================] - 0s 6ms/step - loss: 510.3627\n",
            "Epoch 31/50\n",
            "6/6 [==============================] - 0s 6ms/step - loss: 510.3548\n",
            "Epoch 32/50\n",
            "6/6 [==============================] - 0s 8ms/step - loss: 510.3492\n",
            "Epoch 33/50\n",
            "6/6 [==============================] - 0s 7ms/step - loss: 510.3412\n",
            "Epoch 34/50\n",
            "6/6 [==============================] - 0s 6ms/step - loss: 510.3363\n",
            "Epoch 35/50\n",
            "6/6 [==============================] - 0s 8ms/step - loss: 510.3285\n",
            "Epoch 36/50\n",
            "6/6 [==============================] - 0s 13ms/step - loss: 510.3223\n",
            "Epoch 37/50\n",
            "6/6 [==============================] - 0s 9ms/step - loss: 510.3156\n",
            "Epoch 38/50\n",
            "6/6 [==============================] - 0s 7ms/step - loss: 510.3087\n",
            "Epoch 39/50\n",
            "6/6 [==============================] - 0s 6ms/step - loss: 510.3036\n",
            "Epoch 40/50\n",
            "6/6 [==============================] - 0s 7ms/step - loss: 510.2970\n",
            "Epoch 41/50\n",
            "6/6 [==============================] - 0s 8ms/step - loss: 510.2915\n",
            "Epoch 42/50\n",
            "6/6 [==============================] - 0s 7ms/step - loss: 510.2848\n",
            "Epoch 43/50\n",
            "6/6 [==============================] - 0s 10ms/step - loss: 510.2798\n",
            "Epoch 44/50\n",
            "6/6 [==============================] - 0s 6ms/step - loss: 510.2732\n",
            "Epoch 45/50\n",
            "6/6 [==============================] - 0s 7ms/step - loss: 510.2674\n",
            "Epoch 46/50\n",
            "6/6 [==============================] - 0s 8ms/step - loss: 510.2622\n",
            "Epoch 47/50\n",
            "6/6 [==============================] - 0s 6ms/step - loss: 510.2561\n",
            "Epoch 48/50\n",
            "6/6 [==============================] - 0s 6ms/step - loss: 510.2516\n",
            "Epoch 49/50\n",
            "6/6 [==============================] - 0s 7ms/step - loss: 510.2459\n",
            "Epoch 50/50\n",
            "6/6 [==============================] - 0s 7ms/step - loss: 510.2387\n"
          ]
        },
        {
          "output_type": "stream",
          "name": "stderr",
          "text": [
            "WARNING:tensorflow:5 out of the last 5 calls to <function Model.make_predict_function.<locals>.predict_function at 0x7f69119945f0> triggered tf.function retracing. Tracing is expensive and the excessive number of tracings could be due to (1) creating @tf.function repeatedly in a loop, (2) passing tensors with different shapes, (3) passing Python objects instead of tensors. For (1), please define your @tf.function outside of the loop. For (2), @tf.function has experimental_relax_shapes=True option that relaxes argument shapes that can avoid unnecessary retracing. For (3), please refer to https://www.tensorflow.org/guide/function#controlling_retracing and https://www.tensorflow.org/api_docs/python/tf/function for  more details.\n"
          ]
        },
        {
          "output_type": "stream",
          "name": "stdout",
          "text": [
            "Template Eval Error: ValueError('Must pass 2-d input. shape=(10, 10, 4)') in model 352: DatepartRegression\n",
            "Model Number: 353 with model WindowRegression in generation 2 of 10\n",
            "Model Number: 354 with model DatepartRegression in generation 2 of 10\n",
            "Model Number: 355 with model ConstantNaive in generation 2 of 10\n",
            "Model Number: 356 with model Theta in generation 2 of 10\n",
            "Model Number: 357 with model Theta in generation 2 of 10\n",
            "Model Number: 358 with model UnobservedComponents in generation 2 of 10\n",
            "Model Number: 359 with model MultivariateRegression in generation 2 of 10\n",
            "Model Number: 360 with model GLS in generation 2 of 10\n"
          ]
        },
        {
          "output_type": "stream",
          "name": "stderr",
          "text": [
            "INFO:prophet:Disabling yearly seasonality. Run prophet with yearly_seasonality=True to override this.\n",
            "INFO:prophet:Disabling daily seasonality. Run prophet with daily_seasonality=True to override this.\n",
            "DEBUG:cmdstanpy:input tempfile: /tmp/tmp0ow7qcla/20fbkq4f.json\n",
            "DEBUG:cmdstanpy:input tempfile: /tmp/tmp0ow7qcla/_kb1xl5m.json\n",
            "DEBUG:cmdstanpy:idx 0\n"
          ]
        },
        {
          "output_type": "stream",
          "name": "stdout",
          "text": [
            "Model Number: 361 with model FBProphet in generation 2 of 10\n"
          ]
        },
        {
          "output_type": "stream",
          "name": "stderr",
          "text": [
            "DEBUG:cmdstanpy:running CmdStan, num_threads: None\n",
            "DEBUG:cmdstanpy:CmdStan args: ['/usr/local/lib/python3.7/dist-packages/prophet/stan_model/prophet_model.bin', 'random', 'seed=47200', 'data', 'file=/tmp/tmp0ow7qcla/20fbkq4f.json', 'init=/tmp/tmp0ow7qcla/_kb1xl5m.json', 'output', 'file=/tmp/tmp3t7zax00/prophet_model-20220820142113.csv', 'method=optimize', 'algorithm=lbfgs', 'iter=10000']\n",
            "14:21:13 - cmdstanpy - INFO - Chain [1] start processing\n",
            "INFO:cmdstanpy:Chain [1] start processing\n",
            "14:21:13 - cmdstanpy - INFO - Chain [1] done processing\n",
            "INFO:cmdstanpy:Chain [1] done processing\n"
          ]
        },
        {
          "output_type": "stream",
          "name": "stdout",
          "text": [
            "Model Number: 362 with model NVAR in generation 2 of 10\n",
            "Model Number: 363 with model LastValueNaive in generation 2 of 10\n"
          ]
        },
        {
          "output_type": "stream",
          "name": "stderr",
          "text": [
            "/usr/local/lib/python3.7/dist-packages/sklearn/_loss/glm_distribution.py:132: RuntimeWarning: divide by zero encountered in true_divide\n",
            "  return -2 * (y - y_pred) / self.unit_variance(y_pred)\n",
            "/usr/local/lib/python3.7/dist-packages/sklearn/linear_model/_glm/glm.py:42: RuntimeWarning: invalid value encountered in multiply\n",
            "  temp = d1 * family.deviance_derivative(y, y_pred, weights)\n",
            "/usr/local/lib/python3.7/dist-packages/sklearn/_loss/glm_distribution.py:331: RuntimeWarning: divide by zero encountered in power\n",
            "  + np.power(y_pred, 2 - p) / (2 - p)\n"
          ]
        },
        {
          "output_type": "stream",
          "name": "stdout",
          "text": [
            "Model Number: 364 with model DatepartRegression in generation 2 of 10\n",
            "Model Number: 365 with model NVAR in generation 2 of 10\n",
            "Model Number: 366 with model UnivariateRegression in generation 2 of 10\n",
            "Model Number: 367 with model ConstantNaive in generation 2 of 10\n",
            "Model Number: 368 with model ConstantNaive in generation 2 of 10\n",
            "Model Number: 369 with model AverageValueNaive in generation 2 of 10\n",
            "Model Number: 370 with model NVAR in generation 2 of 10\n",
            "Model Number: 371 with model MultivariateRegression in generation 2 of 10\n",
            "Template Eval Error: ValueError(\"regression_type='User' but not future_regressor supplied.\") in model 371: MultivariateRegression\n",
            "Model Number: 372 with model AverageValueNaive in generation 2 of 10\n"
          ]
        },
        {
          "output_type": "stream",
          "name": "stderr",
          "text": [
            "INFO:prophet:Disabling yearly seasonality. Run prophet with yearly_seasonality=True to override this.\n",
            "INFO:prophet:Disabling daily seasonality. Run prophet with daily_seasonality=True to override this.\n"
          ]
        },
        {
          "output_type": "stream",
          "name": "stdout",
          "text": [
            "Model Number: 373 with model FBProphet in generation 2 of 10\n"
          ]
        },
        {
          "output_type": "stream",
          "name": "stderr",
          "text": [
            "DEBUG:cmdstanpy:input tempfile: /tmp/tmp0ow7qcla/zlv8kscq.json\n",
            "DEBUG:cmdstanpy:input tempfile: /tmp/tmp0ow7qcla/_sr_v4gi.json\n",
            "DEBUG:cmdstanpy:idx 0\n",
            "DEBUG:cmdstanpy:running CmdStan, num_threads: None\n",
            "DEBUG:cmdstanpy:CmdStan args: ['/usr/local/lib/python3.7/dist-packages/prophet/stan_model/prophet_model.bin', 'random', 'seed=79190', 'data', 'file=/tmp/tmp0ow7qcla/zlv8kscq.json', 'init=/tmp/tmp0ow7qcla/_sr_v4gi.json', 'output', 'file=/tmp/tmp08y0fgog/prophet_model-20220820142118.csv', 'method=optimize', 'algorithm=lbfgs', 'iter=10000']\n",
            "14:21:18 - cmdstanpy - INFO - Chain [1] start processing\n",
            "INFO:cmdstanpy:Chain [1] start processing\n",
            "14:21:18 - cmdstanpy - INFO - Chain [1] done processing\n",
            "INFO:cmdstanpy:Chain [1] done processing\n"
          ]
        },
        {
          "output_type": "stream",
          "name": "stdout",
          "text": [
            "Model Number: 374 with model LastValueNaive in generation 2 of 10\n",
            "Model Number: 375 with model MultivariateMotif in generation 2 of 10\n",
            "Model Number: 376 with model MultivariateMotif in generation 2 of 10\n",
            "Model Number: 377 with model DatepartRegression in generation 2 of 10\n"
          ]
        },
        {
          "output_type": "stream",
          "name": "stderr",
          "text": [
            "[Parallel(n_jobs=-2)]: Using backend SequentialBackend with 1 concurrent workers.\n"
          ]
        },
        {
          "output_type": "stream",
          "name": "stdout",
          "text": [
            "Model Number: 378 with model ConstantNaive in generation 2 of 10\n"
          ]
        },
        {
          "output_type": "stream",
          "name": "stderr",
          "text": [
            "[Parallel(n_jobs=-2)]: Done 300 out of 300 | elapsed:    0.6s finished\n",
            "[Parallel(n_jobs=1)]: Using backend SequentialBackend with 1 concurrent workers.\n",
            "[Parallel(n_jobs=1)]: Done 300 out of 300 | elapsed:    0.1s finished\n",
            "INFO:prophet:Disabling yearly seasonality. Run prophet with yearly_seasonality=True to override this.\n",
            "INFO:prophet:Disabling daily seasonality. Run prophet with daily_seasonality=True to override this.\n",
            "DEBUG:cmdstanpy:input tempfile: /tmp/tmp0ow7qcla/79jcdkfq.json\n",
            "DEBUG:cmdstanpy:input tempfile: /tmp/tmp0ow7qcla/ltrcy578.json\n"
          ]
        },
        {
          "output_type": "stream",
          "name": "stdout",
          "text": [
            "Model Number: 379 with model FBProphet in generation 2 of 10\n"
          ]
        },
        {
          "output_type": "stream",
          "name": "stderr",
          "text": [
            "DEBUG:cmdstanpy:idx 0\n",
            "DEBUG:cmdstanpy:running CmdStan, num_threads: None\n",
            "DEBUG:cmdstanpy:CmdStan args: ['/usr/local/lib/python3.7/dist-packages/prophet/stan_model/prophet_model.bin', 'random', 'seed=72471', 'data', 'file=/tmp/tmp0ow7qcla/79jcdkfq.json', 'init=/tmp/tmp0ow7qcla/ltrcy578.json', 'output', 'file=/tmp/tmp7n28ero6/prophet_model-20220820142122.csv', 'method=optimize', 'algorithm=lbfgs', 'iter=10000']\n",
            "14:21:22 - cmdstanpy - INFO - Chain [1] start processing\n",
            "INFO:cmdstanpy:Chain [1] start processing\n",
            "14:21:23 - cmdstanpy - INFO - Chain [1] done processing\n",
            "INFO:cmdstanpy:Chain [1] done processing\n"
          ]
        },
        {
          "output_type": "stream",
          "name": "stdout",
          "text": [
            "Model Number: 380 with model UnivariateMotif in generation 2 of 10\n",
            "Model Number: 381 with model UnobservedComponents in generation 2 of 10\n",
            "Model Number: 382 with model UnobservedComponents in generation 2 of 10\n"
          ]
        },
        {
          "output_type": "stream",
          "name": "stderr",
          "text": [
            "/usr/local/lib/python3.7/dist-packages/sklearn/_loss/glm_distribution.py:132: RuntimeWarning: divide by zero encountered in true_divide\n",
            "  return -2 * (y - y_pred) / self.unit_variance(y_pred)\n",
            "/usr/local/lib/python3.7/dist-packages/sklearn/linear_model/_glm/glm.py:42: RuntimeWarning: invalid value encountered in multiply\n",
            "  temp = d1 * family.deviance_derivative(y, y_pred, weights)\n",
            "/usr/local/lib/python3.7/dist-packages/sklearn/_loss/glm_distribution.py:323: RuntimeWarning: divide by zero encountered in true_divide\n",
            "  dev = 2 * (xlogy(y, y / y_pred) - y + y_pred)\n"
          ]
        },
        {
          "output_type": "stream",
          "name": "stdout",
          "text": [
            "Model Number: 383 with model UnobservedComponents in generation 2 of 10\n"
          ]
        },
        {
          "output_type": "stream",
          "name": "stderr",
          "text": [
            "INFO:prophet:Disabling yearly seasonality. Run prophet with yearly_seasonality=True to override this.\n",
            "INFO:prophet:Disabling daily seasonality. Run prophet with daily_seasonality=True to override this.\n",
            "DEBUG:cmdstanpy:input tempfile: /tmp/tmp0ow7qcla/xctpgk2c.json\n",
            "DEBUG:cmdstanpy:input tempfile: /tmp/tmp0ow7qcla/6bvc_v5q.json\n",
            "DEBUG:cmdstanpy:idx 0\n",
            "DEBUG:cmdstanpy:running CmdStan, num_threads: None\n",
            "DEBUG:cmdstanpy:CmdStan args: ['/usr/local/lib/python3.7/dist-packages/prophet/stan_model/prophet_model.bin', 'random', 'seed=35722', 'data', 'file=/tmp/tmp0ow7qcla/xctpgk2c.json', 'init=/tmp/tmp0ow7qcla/6bvc_v5q.json', 'output', 'file=/tmp/tmpp5m21nyf/prophet_model-20220820142130.csv', 'method=optimize', 'algorithm=lbfgs', 'iter=10000']\n",
            "14:21:30 - cmdstanpy - INFO - Chain [1] start processing\n",
            "INFO:cmdstanpy:Chain [1] start processing\n"
          ]
        },
        {
          "output_type": "stream",
          "name": "stdout",
          "text": [
            "Model Number: 384 with model FBProphet in generation 2 of 10\n"
          ]
        },
        {
          "output_type": "stream",
          "name": "stderr",
          "text": [
            "14:21:31 - cmdstanpy - INFO - Chain [1] done processing\n",
            "INFO:cmdstanpy:Chain [1] done processing\n"
          ]
        },
        {
          "output_type": "stream",
          "name": "stdout",
          "text": [
            "Model Number: 385 with model GLS in generation 2 of 10\n",
            "Model Number: 386 with model Theta in generation 2 of 10\n",
            "Model Number: 387 with model UnivariateMotif in generation 2 of 10\n",
            "Model Number: 388 with model MultivariateMotif in generation 2 of 10\n",
            "Model Number: 389 with model NVAR in generation 2 of 10\n"
          ]
        },
        {
          "output_type": "stream",
          "name": "stderr",
          "text": [
            "/usr/local/lib/python3.7/dist-packages/sklearn/_loss/glm_distribution.py:132: RuntimeWarning: divide by zero encountered in true_divide\n",
            "  return -2 * (y - y_pred) / self.unit_variance(y_pred)\n",
            "/usr/local/lib/python3.7/dist-packages/sklearn/linear_model/_glm/glm.py:42: RuntimeWarning: invalid value encountered in multiply\n",
            "  temp = d1 * family.deviance_derivative(y, y_pred, weights)\n",
            "/usr/local/lib/python3.7/dist-packages/sklearn/_loss/glm_distribution.py:323: RuntimeWarning: divide by zero encountered in true_divide\n",
            "  dev = 2 * (xlogy(y, y / y_pred) - y + y_pred)\n"
          ]
        },
        {
          "output_type": "stream",
          "name": "stdout",
          "text": [
            "New Generation: 3 of 10\n",
            "Model Number: 390 with model MultivariateMotif in generation 3 of 10\n",
            "Model Number: 391 with model LastValueNaive in generation 3 of 10\n",
            "Model Number: 392 with model FBProphet in generation 3 of 10\n",
            "Template Eval Error: Exception('Transformer BTCD failed on fit') in model 392: FBProphet\n",
            "Model Number: 393 with model ConstantNaive in generation 3 of 10\n",
            "Template Eval Error: Exception('Transformer Cointegration failed on fit') in model 393: ConstantNaive\n",
            "Model Number: 394 with model LastValueNaive in generation 3 of 10\n",
            "Model Number: 395 with model LastValueNaive in generation 3 of 10\n",
            "Model Number: 396 with model LastValueNaive in generation 3 of 10\n",
            "Model Number: 397 with model SeasonalNaive in generation 3 of 10\n",
            "Model Number: 398 with model SeasonalNaive in generation 3 of 10\n",
            "Model Number: 399 with model NVAR in generation 3 of 10\n",
            "Model Number: 400 with model FBProphet in generation 3 of 10\n"
          ]
        },
        {
          "output_type": "stream",
          "name": "stderr",
          "text": [
            "INFO:prophet:Disabling yearly seasonality. Run prophet with yearly_seasonality=True to override this.\n",
            "INFO:prophet:Disabling daily seasonality. Run prophet with daily_seasonality=True to override this.\n",
            "DEBUG:cmdstanpy:input tempfile: /tmp/tmp0ow7qcla/_nof1akw.json\n",
            "DEBUG:cmdstanpy:input tempfile: /tmp/tmp0ow7qcla/3obx33a7.json\n",
            "DEBUG:cmdstanpy:idx 0\n",
            "DEBUG:cmdstanpy:running CmdStan, num_threads: None\n",
            "DEBUG:cmdstanpy:CmdStan args: ['/usr/local/lib/python3.7/dist-packages/prophet/stan_model/prophet_model.bin', 'random', 'seed=6940', 'data', 'file=/tmp/tmp0ow7qcla/_nof1akw.json', 'init=/tmp/tmp0ow7qcla/3obx33a7.json', 'output', 'file=/tmp/tmpv7xawt_i/prophet_model-20220820142136.csv', 'method=optimize', 'algorithm=lbfgs', 'iter=10000']\n",
            "14:21:36 - cmdstanpy - INFO - Chain [1] start processing\n",
            "INFO:cmdstanpy:Chain [1] start processing\n",
            "14:21:36 - cmdstanpy - INFO - Chain [1] done processing\n",
            "INFO:cmdstanpy:Chain [1] done processing\n"
          ]
        },
        {
          "output_type": "stream",
          "name": "stdout",
          "text": [
            "Model Number: 401 with model ETS in generation 3 of 10\n",
            "ETS error ValueError('Can only dampen the trend component')\n",
            "ETS failed on Close with ValueError('Can only dampen the trend component')\n",
            "Model Number: 402 with model MultivariateRegression in generation 3 of 10\n"
          ]
        },
        {
          "output_type": "stream",
          "name": "stderr",
          "text": [
            "[Parallel(n_jobs=-2)]: Using backend SequentialBackend with 1 concurrent workers.\n",
            "[Parallel(n_jobs=-2)]: Done 200 out of 200 | elapsed:    0.6s finished\n",
            "[Parallel(n_jobs=1)]: Using backend SequentialBackend with 1 concurrent workers.\n",
            "[Parallel(n_jobs=1)]: Done 200 out of 200 | elapsed:    0.0s finished\n",
            "[Parallel(n_jobs=1)]: Using backend SequentialBackend with 1 concurrent workers.\n",
            "[Parallel(n_jobs=1)]: Done 200 out of 200 | elapsed:    0.0s finished\n",
            "[Parallel(n_jobs=1)]: Using backend SequentialBackend with 1 concurrent workers.\n",
            "[Parallel(n_jobs=1)]: Done 200 out of 200 | elapsed:    0.0s finished\n",
            "[Parallel(n_jobs=1)]: Using backend SequentialBackend with 1 concurrent workers.\n",
            "[Parallel(n_jobs=1)]: Done 200 out of 200 | elapsed:    0.0s finished\n",
            "[Parallel(n_jobs=1)]: Using backend SequentialBackend with 1 concurrent workers.\n",
            "[Parallel(n_jobs=1)]: Done 200 out of 200 | elapsed:    0.0s finished\n",
            "[Parallel(n_jobs=1)]: Using backend SequentialBackend with 1 concurrent workers.\n",
            "[Parallel(n_jobs=1)]: Done 200 out of 200 | elapsed:    0.0s finished\n",
            "[Parallel(n_jobs=1)]: Using backend SequentialBackend with 1 concurrent workers.\n",
            "[Parallel(n_jobs=1)]: Done 200 out of 200 | elapsed:    0.0s finished\n",
            "[Parallel(n_jobs=1)]: Using backend SequentialBackend with 1 concurrent workers.\n",
            "[Parallel(n_jobs=1)]: Done 200 out of 200 | elapsed:    0.0s finished\n",
            "[Parallel(n_jobs=1)]: Using backend SequentialBackend with 1 concurrent workers.\n",
            "[Parallel(n_jobs=1)]: Done 200 out of 200 | elapsed:    0.0s finished\n",
            "[Parallel(n_jobs=1)]: Using backend SequentialBackend with 1 concurrent workers.\n",
            "[Parallel(n_jobs=1)]: Done 200 out of 200 | elapsed:    0.0s finished\n"
          ]
        },
        {
          "output_type": "stream",
          "name": "stdout",
          "text": [
            "Model Number: 403 with model NVAR in generation 3 of 10\n",
            "Model Number: 404 with model SectionalMotif in generation 3 of 10\n",
            "Template Eval Error: Exception('Transformer BTCD failed on fit') in model 404: SectionalMotif\n",
            "Model Number: 405 with model MultivariateMotif in generation 3 of 10\n",
            "Model Number: 406 with model MultivariateMotif in generation 3 of 10\n"
          ]
        },
        {
          "output_type": "stream",
          "name": "stderr",
          "text": [
            "/usr/local/lib/python3.7/dist-packages/sklearn/_loss/glm_distribution.py:132: RuntimeWarning: divide by zero encountered in true_divide\n",
            "  return -2 * (y - y_pred) / self.unit_variance(y_pred)\n",
            "/usr/local/lib/python3.7/dist-packages/sklearn/linear_model/_glm/glm.py:42: RuntimeWarning: invalid value encountered in multiply\n",
            "  temp = d1 * family.deviance_derivative(y, y_pred, weights)\n",
            "/usr/local/lib/python3.7/dist-packages/sklearn/_loss/glm_distribution.py:323: RuntimeWarning: divide by zero encountered in true_divide\n",
            "  dev = 2 * (xlogy(y, y / y_pred) - y + y_pred)\n"
          ]
        },
        {
          "output_type": "stream",
          "name": "stdout",
          "text": [
            "Model Number: 407 with model NVAR in generation 3 of 10\n",
            "Model Number: 408 with model DatepartRegression in generation 3 of 10\n",
            "Model Number: 409 with model Theta in generation 3 of 10\n"
          ]
        },
        {
          "output_type": "stream",
          "name": "stderr",
          "text": [
            "/usr/local/lib/python3.7/dist-packages/sklearn/_loss/glm_distribution.py:132: RuntimeWarning: divide by zero encountered in true_divide\n",
            "  return -2 * (y - y_pred) / self.unit_variance(y_pred)\n",
            "/usr/local/lib/python3.7/dist-packages/sklearn/linear_model/_glm/glm.py:42: RuntimeWarning: invalid value encountered in multiply\n",
            "  temp = d1 * family.deviance_derivative(y, y_pred, weights)\n",
            "/usr/local/lib/python3.7/dist-packages/sklearn/_loss/glm_distribution.py:326: RuntimeWarning: divide by zero encountered in log\n",
            "  dev = 2 * (np.log(y_pred / y) + y / y_pred - 1)\n",
            "/usr/local/lib/python3.7/dist-packages/sklearn/_loss/glm_distribution.py:326: RuntimeWarning: divide by zero encountered in true_divide\n",
            "  dev = 2 * (np.log(y_pred / y) + y / y_pred - 1)\n",
            "/usr/local/lib/python3.7/dist-packages/sklearn/_loss/glm_distribution.py:326: RuntimeWarning: invalid value encountered in add\n",
            "  dev = 2 * (np.log(y_pred / y) + y / y_pred - 1)\n",
            "/usr/local/lib/python3.7/dist-packages/sklearn/linear_model/_glm/glm.py:323: ConvergenceWarning: lbfgs failed to converge (status=2):\n",
            "ABNORMAL_TERMINATION_IN_LNSRCH.\n",
            "\n",
            "Increase the number of iterations (max_iter) or scale the data as shown in:\n",
            "    https://scikit-learn.org/stable/modules/preprocessing.html\n",
            "  self.n_iter_ = _check_optimize_result(\"lbfgs\", opt_res)\n",
            "/usr/local/lib/python3.7/dist-packages/sklearn/_loss/glm_distribution.py:132: RuntimeWarning: divide by zero encountered in true_divide\n",
            "  return -2 * (y - y_pred) / self.unit_variance(y_pred)\n",
            "/usr/local/lib/python3.7/dist-packages/sklearn/linear_model/_glm/glm.py:42: RuntimeWarning: invalid value encountered in multiply\n",
            "  temp = d1 * family.deviance_derivative(y, y_pred, weights)\n",
            "/usr/local/lib/python3.7/dist-packages/sklearn/_loss/glm_distribution.py:331: RuntimeWarning: divide by zero encountered in power\n",
            "  + np.power(y_pred, 2 - p) / (2 - p)\n"
          ]
        },
        {
          "output_type": "stream",
          "name": "stdout",
          "text": [
            "Model Number: 410 with model UnobservedComponents in generation 3 of 10\n",
            "Template Eval Error: Exception('Transformer MinMaxScaler failed on fit') in model 410: UnobservedComponents\n",
            "Model Number: 411 with model SeasonalNaive in generation 3 of 10\n",
            "Model Number: 412 with model UnobservedComponents in generation 3 of 10\n"
          ]
        },
        {
          "output_type": "stream",
          "name": "stderr",
          "text": [
            "/usr/local/lib/python3.7/dist-packages/sklearn/utils/validation.py:1692: FutureWarning: Feature names only support names that are all strings. Got feature names with dtypes: ['Timestamp', 'str']. An error will be raised in 1.2.\n",
            "  FutureWarning,\n",
            "/usr/local/lib/python3.7/dist-packages/sklearn/preprocessing/_data.py:461: RuntimeWarning: All-NaN slice encountered\n",
            "  data_min = np.nanmin(X, axis=0)\n",
            "/usr/local/lib/python3.7/dist-packages/sklearn/preprocessing/_data.py:462: RuntimeWarning: All-NaN slice encountered\n",
            "  data_max = np.nanmax(X, axis=0)\n",
            "/usr/local/lib/python3.7/dist-packages/sklearn/utils/validation.py:1692: FutureWarning: Feature names only support names that are all strings. Got feature names with dtypes: ['Timestamp', 'str']. An error will be raised in 1.2.\n",
            "  FutureWarning,\n"
          ]
        },
        {
          "output_type": "stream",
          "name": "stdout",
          "text": [
            "Template Eval Error: LinAlgError('Singular matrix') in model 412: UnobservedComponents\n",
            "Model Number: 413 with model WindowRegression in generation 3 of 10\n",
            "Template Eval Error: ValueError(\"regression_type='User' but no future_regressor passed\") in model 413: WindowRegression\n",
            "Model Number: 414 with model NVAR in generation 3 of 10\n",
            "Template Eval Error: LinAlgError('SVD did not converge') in model 414: NVAR\n",
            "Model Number: 415 with model NVAR in generation 3 of 10\n"
          ]
        },
        {
          "output_type": "stream",
          "name": "stderr",
          "text": [
            "INFO:prophet:Disabling yearly seasonality. Run prophet with yearly_seasonality=True to override this.\n",
            "INFO:prophet:Disabling daily seasonality. Run prophet with daily_seasonality=True to override this.\n",
            "DEBUG:cmdstanpy:input tempfile: /tmp/tmp0ow7qcla/9zdoc0fk.json\n",
            "DEBUG:cmdstanpy:input tempfile: /tmp/tmp0ow7qcla/sv3_hu3x.json\n",
            "DEBUG:cmdstanpy:idx 0\n",
            "DEBUG:cmdstanpy:running CmdStan, num_threads: None\n",
            "DEBUG:cmdstanpy:CmdStan args: ['/usr/local/lib/python3.7/dist-packages/prophet/stan_model/prophet_model.bin', 'random', 'seed=47013', 'data', 'file=/tmp/tmp0ow7qcla/9zdoc0fk.json', 'init=/tmp/tmp0ow7qcla/sv3_hu3x.json', 'output', 'file=/tmp/tmps6w0vo66/prophet_model-20220820142142.csv', 'method=optimize', 'algorithm=lbfgs', 'iter=10000']\n",
            "14:21:42 - cmdstanpy - INFO - Chain [1] start processing\n",
            "INFO:cmdstanpy:Chain [1] start processing\n"
          ]
        },
        {
          "output_type": "stream",
          "name": "stdout",
          "text": [
            "Model Number: 416 with model FBProphet in generation 3 of 10\n"
          ]
        },
        {
          "output_type": "stream",
          "name": "stderr",
          "text": [
            "14:21:43 - cmdstanpy - INFO - Chain [1] done processing\n",
            "INFO:cmdstanpy:Chain [1] done processing\n"
          ]
        },
        {
          "output_type": "stream",
          "name": "stdout",
          "text": [
            "Model Number: 417 with model NVAR in generation 3 of 10\n",
            "Model Number: 418 with model SeasonalNaive in generation 3 of 10\n",
            "Model Number: 419 with model UnivariateMotif in generation 3 of 10\n"
          ]
        },
        {
          "output_type": "stream",
          "name": "stderr",
          "text": [
            "INFO:prophet:Disabling yearly seasonality. Run prophet with yearly_seasonality=True to override this.\n",
            "INFO:prophet:Disabling daily seasonality. Run prophet with daily_seasonality=True to override this.\n"
          ]
        },
        {
          "output_type": "stream",
          "name": "stdout",
          "text": [
            "Model Number: 420 with model FBProphet in generation 3 of 10\n"
          ]
        },
        {
          "output_type": "stream",
          "name": "stderr",
          "text": [
            "DEBUG:cmdstanpy:input tempfile: /tmp/tmp0ow7qcla/517v5t0u.json\n",
            "DEBUG:cmdstanpy:input tempfile: /tmp/tmp0ow7qcla/aq1j6vbg.json\n",
            "DEBUG:cmdstanpy:idx 0\n",
            "DEBUG:cmdstanpy:running CmdStan, num_threads: None\n",
            "DEBUG:cmdstanpy:CmdStan args: ['/usr/local/lib/python3.7/dist-packages/prophet/stan_model/prophet_model.bin', 'random', 'seed=33279', 'data', 'file=/tmp/tmp0ow7qcla/517v5t0u.json', 'init=/tmp/tmp0ow7qcla/aq1j6vbg.json', 'output', 'file=/tmp/tmpf3a465qp/prophet_model-20220820142147.csv', 'method=optimize', 'algorithm=lbfgs', 'iter=10000']\n",
            "14:21:47 - cmdstanpy - INFO - Chain [1] start processing\n",
            "INFO:cmdstanpy:Chain [1] start processing\n",
            "14:21:48 - cmdstanpy - INFO - Chain [1] done processing\n",
            "INFO:cmdstanpy:Chain [1] done processing\n"
          ]
        },
        {
          "output_type": "stream",
          "name": "stdout",
          "text": [
            "Model Number: 421 with model ConstantNaive in generation 3 of 10\n",
            "Model Number: 422 with model GLS in generation 3 of 10\n",
            "Model Number: 423 with model ETS in generation 3 of 10\n",
            "Model Number: 424 with model ConstantNaive in generation 3 of 10\n",
            "Model Number: 425 with model ConstantNaive in generation 3 of 10\n",
            "Model Number: 426 with model Theta in generation 3 of 10\n",
            "Model Number: 427 with model Theta in generation 3 of 10\n",
            "Model Number: 428 with model AverageValueNaive in generation 3 of 10\n",
            "Model Number: 429 with model SectionalMotif in generation 3 of 10\n",
            "Model Number: 430 with model SeasonalNaive in generation 3 of 10\n",
            "Model Number: 431 with model LastValueNaive in generation 3 of 10\n",
            "Model Number: 432 with model ETS in generation 3 of 10\n"
          ]
        },
        {
          "output_type": "stream",
          "name": "stderr",
          "text": [
            "/usr/local/lib/python3.7/dist-packages/sklearn/_loss/glm_distribution.py:132: RuntimeWarning: divide by zero encountered in true_divide\n",
            "  return -2 * (y - y_pred) / self.unit_variance(y_pred)\n",
            "/usr/local/lib/python3.7/dist-packages/sklearn/linear_model/_glm/glm.py:42: RuntimeWarning: invalid value encountered in multiply\n",
            "  temp = d1 * family.deviance_derivative(y, y_pred, weights)\n",
            "/usr/local/lib/python3.7/dist-packages/sklearn/_loss/glm_distribution.py:331: RuntimeWarning: divide by zero encountered in power\n",
            "  + np.power(y_pred, 2 - p) / (2 - p)\n"
          ]
        },
        {
          "output_type": "stream",
          "name": "stdout",
          "text": [
            "Model Number: 433 with model NVAR in generation 3 of 10\n",
            "Model Number: 434 with model UnobservedComponents in generation 3 of 10\n",
            "Model Number: 435 with model Theta in generation 3 of 10\n",
            "Model Number: 436 with model MultivariateMotif in generation 3 of 10\n",
            "Model Number: 437 with model UnivariateMotif in generation 3 of 10\n",
            "Template Eval Error: Exception('Transformer Detrend failed on fit') in model 437: UnivariateMotif\n",
            "Model Number: 438 with model UnobservedComponents in generation 3 of 10\n",
            "Model Number: 439 with model ETS in generation 3 of 10\n",
            "ETS error ValueError('Can only dampen the trend component')\n",
            "ETS failed on Close with ValueError('Can only dampen the trend component')\n",
            "Model Number: 440 with model ETS in generation 3 of 10\n",
            "ETS error ValueError('endog must be strictly positive when usingmultiplicative trend or seasonal components.')\n",
            "ETS failed on Close with ValueError('endog must be strictly positive when usingmultiplicative trend or seasonal components.')\n"
          ]
        },
        {
          "output_type": "stream",
          "name": "stderr",
          "text": [
            "/usr/local/lib/python3.7/dist-packages/sklearn/linear_model/_glm/link.py:90: RuntimeWarning: overflow encountered in exp\n",
            "  return np.exp(lin_pred)\n",
            "/usr/local/lib/python3.7/dist-packages/sklearn/linear_model/_glm/link.py:93: RuntimeWarning: overflow encountered in exp\n",
            "  return np.exp(lin_pred)\n",
            "/usr/local/lib/python3.7/dist-packages/sklearn/_loss/glm_distribution.py:132: RuntimeWarning: invalid value encountered in true_divide\n",
            "  return -2 * (y - y_pred) / self.unit_variance(y_pred)\n"
          ]
        },
        {
          "output_type": "stream",
          "name": "stdout",
          "text": [
            "Model Number: 441 with model FBProphet in generation 3 of 10\n"
          ]
        },
        {
          "output_type": "stream",
          "name": "stderr",
          "text": [
            "INFO:prophet:Disabling yearly seasonality. Run prophet with yearly_seasonality=True to override this.\n",
            "INFO:prophet:Disabling daily seasonality. Run prophet with daily_seasonality=True to override this.\n",
            "DEBUG:cmdstanpy:input tempfile: /tmp/tmp0ow7qcla/c09jbz4x.json\n",
            "DEBUG:cmdstanpy:input tempfile: /tmp/tmp0ow7qcla/t99fxqmv.json\n",
            "DEBUG:cmdstanpy:idx 0\n",
            "DEBUG:cmdstanpy:running CmdStan, num_threads: None\n",
            "DEBUG:cmdstanpy:CmdStan args: ['/usr/local/lib/python3.7/dist-packages/prophet/stan_model/prophet_model.bin', 'random', 'seed=11663', 'data', 'file=/tmp/tmp0ow7qcla/c09jbz4x.json', 'init=/tmp/tmp0ow7qcla/t99fxqmv.json', 'output', 'file=/tmp/tmpda4u5a4m/prophet_model-20220820142200.csv', 'method=optimize', 'algorithm=lbfgs', 'iter=10000']\n",
            "14:22:00 - cmdstanpy - INFO - Chain [1] start processing\n",
            "INFO:cmdstanpy:Chain [1] start processing\n",
            "14:22:00 - cmdstanpy - INFO - Chain [1] done processing\n",
            "INFO:cmdstanpy:Chain [1] done processing\n"
          ]
        },
        {
          "output_type": "stream",
          "name": "stdout",
          "text": [
            "Model Number: 442 with model MultivariateMotif in generation 3 of 10\n",
            "Model Number: 443 with model UnivariateMotif in generation 3 of 10\n",
            "Model Number: 444 with model LastValueNaive in generation 3 of 10\n",
            "Model Number: 445 with model LastValueNaive in generation 3 of 10\n"
          ]
        },
        {
          "output_type": "stream",
          "name": "stderr",
          "text": [
            "/usr/local/lib/python3.7/dist-packages/sklearn/_loss/glm_distribution.py:132: RuntimeWarning: divide by zero encountered in true_divide\n",
            "  return -2 * (y - y_pred) / self.unit_variance(y_pred)\n",
            "/usr/local/lib/python3.7/dist-packages/sklearn/linear_model/_glm/glm.py:42: RuntimeWarning: invalid value encountered in multiply\n",
            "  temp = d1 * family.deviance_derivative(y, y_pred, weights)\n",
            "/usr/local/lib/python3.7/dist-packages/sklearn/_loss/glm_distribution.py:323: RuntimeWarning: divide by zero encountered in true_divide\n",
            "  dev = 2 * (xlogy(y, y / y_pred) - y + y_pred)\n",
            "/usr/local/lib/python3.7/dist-packages/sklearn/_loss/glm_distribution.py:132: RuntimeWarning: divide by zero encountered in true_divide\n",
            "  return -2 * (y - y_pred) / self.unit_variance(y_pred)\n",
            "/usr/local/lib/python3.7/dist-packages/sklearn/linear_model/_glm/glm.py:42: RuntimeWarning: invalid value encountered in multiply\n",
            "  temp = d1 * family.deviance_derivative(y, y_pred, weights)\n",
            "/usr/local/lib/python3.7/dist-packages/sklearn/_loss/glm_distribution.py:323: RuntimeWarning: divide by zero encountered in true_divide\n",
            "  dev = 2 * (xlogy(y, y / y_pred) - y + y_pred)\n"
          ]
        },
        {
          "output_type": "stream",
          "name": "stdout",
          "text": [
            "Model Number: 446 with model UnivariateMotif in generation 3 of 10\n",
            "Model Number: 447 with model UnivariateMotif in generation 3 of 10\n",
            "Model Number: 448 with model FBProphet in generation 3 of 10\n"
          ]
        },
        {
          "output_type": "stream",
          "name": "stderr",
          "text": [
            "INFO:prophet:Disabling yearly seasonality. Run prophet with yearly_seasonality=True to override this.\n",
            "INFO:prophet:Disabling daily seasonality. Run prophet with daily_seasonality=True to override this.\n",
            "DEBUG:cmdstanpy:input tempfile: /tmp/tmp0ow7qcla/cuid_f_p.json\n",
            "DEBUG:cmdstanpy:input tempfile: /tmp/tmp0ow7qcla/fse1ohkj.json\n",
            "DEBUG:cmdstanpy:idx 0\n",
            "DEBUG:cmdstanpy:running CmdStan, num_threads: None\n",
            "DEBUG:cmdstanpy:CmdStan args: ['/usr/local/lib/python3.7/dist-packages/prophet/stan_model/prophet_model.bin', 'random', 'seed=41801', 'data', 'file=/tmp/tmp0ow7qcla/cuid_f_p.json', 'init=/tmp/tmp0ow7qcla/fse1ohkj.json', 'output', 'file=/tmp/tmp7ryupbr4/prophet_model-20220820142204.csv', 'method=optimize', 'algorithm=lbfgs', 'iter=10000']\n",
            "14:22:04 - cmdstanpy - INFO - Chain [1] start processing\n",
            "INFO:cmdstanpy:Chain [1] start processing\n",
            "14:22:04 - cmdstanpy - INFO - Chain [1] done processing\n",
            "INFO:cmdstanpy:Chain [1] done processing\n"
          ]
        },
        {
          "output_type": "stream",
          "name": "stdout",
          "text": [
            "Model Number: 449 with model DatepartRegression in generation 3 of 10\n",
            "Model Number: 450 with model UnivariateMotif in generation 3 of 10\n",
            "Model Number: 451 with model GLS in generation 3 of 10\n",
            "Model Number: 452 with model LastValueNaive in generation 3 of 10\n",
            "Model Number: 453 with model UnivariateMotif in generation 3 of 10\n",
            "Model Number: 454 with model UnivariateRegression in generation 3 of 10\n",
            "Template Eval Error: ValueError(\"regression_type='User' but not future_regressor supplied.\") in model 454: UnivariateRegression\n",
            "Model Number: 455 with model MultivariateRegression in generation 3 of 10\n"
          ]
        },
        {
          "output_type": "stream",
          "name": "stderr",
          "text": [
            "[Parallel(n_jobs=-2)]: Using backend SequentialBackend with 1 concurrent workers.\n",
            "[Parallel(n_jobs=-2)]: Done 200 out of 200 | elapsed:    0.4s finished\n",
            "[Parallel(n_jobs=1)]: Using backend SequentialBackend with 1 concurrent workers.\n",
            "[Parallel(n_jobs=1)]: Done 200 out of 200 | elapsed:    0.0s finished\n",
            "[Parallel(n_jobs=1)]: Using backend SequentialBackend with 1 concurrent workers.\n",
            "[Parallel(n_jobs=1)]: Done 200 out of 200 | elapsed:    0.0s finished\n",
            "[Parallel(n_jobs=1)]: Using backend SequentialBackend with 1 concurrent workers.\n",
            "[Parallel(n_jobs=1)]: Done 200 out of 200 | elapsed:    0.0s finished\n",
            "[Parallel(n_jobs=1)]: Using backend SequentialBackend with 1 concurrent workers.\n",
            "[Parallel(n_jobs=1)]: Done 200 out of 200 | elapsed:    0.0s finished\n",
            "[Parallel(n_jobs=1)]: Using backend SequentialBackend with 1 concurrent workers.\n",
            "[Parallel(n_jobs=1)]: Done 200 out of 200 | elapsed:    0.0s finished\n",
            "[Parallel(n_jobs=1)]: Using backend SequentialBackend with 1 concurrent workers.\n",
            "[Parallel(n_jobs=1)]: Done 200 out of 200 | elapsed:    0.1s finished\n",
            "[Parallel(n_jobs=1)]: Using backend SequentialBackend with 1 concurrent workers.\n",
            "[Parallel(n_jobs=1)]: Done 200 out of 200 | elapsed:    0.0s finished\n",
            "[Parallel(n_jobs=1)]: Using backend SequentialBackend with 1 concurrent workers.\n",
            "[Parallel(n_jobs=1)]: Done 200 out of 200 | elapsed:    0.0s finished\n",
            "[Parallel(n_jobs=1)]: Using backend SequentialBackend with 1 concurrent workers.\n"
          ]
        },
        {
          "output_type": "stream",
          "name": "stdout",
          "text": [
            "Model Number: 456 with model AverageValueNaive in generation 3 of 10\n"
          ]
        },
        {
          "output_type": "stream",
          "name": "stderr",
          "text": [
            "[Parallel(n_jobs=1)]: Done 200 out of 200 | elapsed:    0.1s finished\n",
            "[Parallel(n_jobs=1)]: Using backend SequentialBackend with 1 concurrent workers.\n",
            "[Parallel(n_jobs=1)]: Done 200 out of 200 | elapsed:    0.0s finished\n"
          ]
        },
        {
          "output_type": "stream",
          "name": "stdout",
          "text": [
            "Model Number: 457 with model LastValueNaive in generation 3 of 10\n",
            "Model Number: 458 with model UnobservedComponents in generation 3 of 10\n",
            "Model Number: 459 with model MultivariateMotif in generation 3 of 10\n",
            "Model Number: 460 with model NVAR in generation 3 of 10\n",
            "Model Number: 461 with model WindowRegression in generation 3 of 10\n",
            "Model Number: 462 with model MultivariateMotif in generation 3 of 10\n"
          ]
        },
        {
          "output_type": "stream",
          "name": "stderr",
          "text": [
            "/usr/local/lib/python3.7/dist-packages/sklearn/neural_network/_multilayer_perceptron.py:549: ConvergenceWarning: lbfgs failed to converge (status=1):\n",
            "STOP: TOTAL NO. of ITERATIONS REACHED LIMIT.\n",
            "\n",
            "Increase the number of iterations (max_iter) or scale the data as shown in:\n",
            "    https://scikit-learn.org/stable/modules/preprocessing.html\n",
            "  self.n_iter_ = _check_optimize_result(\"lbfgs\", opt_res, self.max_iter)\n"
          ]
        },
        {
          "output_type": "stream",
          "name": "stdout",
          "text": [
            "Model Number: 463 with model SectionalMotif in generation 3 of 10\n",
            "Model Number: 464 with model UnivariateRegression in generation 3 of 10\n",
            "Template Eval Error: ValueError(\"Input contains NaN, infinity or a value too large for dtype('float64').\") in model 464: UnivariateRegression\n",
            "Model Number: 465 with model NVAR in generation 3 of 10\n",
            "Model Number: 466 with model GLS in generation 3 of 10\n",
            "Model Number: 467 with model GLM in generation 3 of 10\n",
            "Model Number: 468 with model LastValueNaive in generation 3 of 10\n",
            "Model Number: 469 with model UnivariateMotif in generation 3 of 10\n",
            "Model Number: 470 with model DatepartRegression in generation 3 of 10\n"
          ]
        },
        {
          "output_type": "stream",
          "name": "stderr",
          "text": [
            "/usr/local/lib/python3.7/dist-packages/sklearn/_loss/glm_distribution.py:132: RuntimeWarning: divide by zero encountered in true_divide\n",
            "  return -2 * (y - y_pred) / self.unit_variance(y_pred)\n",
            "/usr/local/lib/python3.7/dist-packages/sklearn/linear_model/_glm/glm.py:42: RuntimeWarning: invalid value encountered in multiply\n",
            "  temp = d1 * family.deviance_derivative(y, y_pred, weights)\n",
            "/usr/local/lib/python3.7/dist-packages/sklearn/_loss/glm_distribution.py:323: RuntimeWarning: divide by zero encountered in true_divide\n",
            "  dev = 2 * (xlogy(y, y / y_pred) - y + y_pred)\n"
          ]
        },
        {
          "output_type": "stream",
          "name": "stdout",
          "text": [
            "Model Number: 471 with model SectionalMotif in generation 3 of 10\n",
            "Model Number: 472 with model ETS in generation 3 of 10\n",
            "ETS error ValueError('endog must be strictly positive when usingmultiplicative trend or seasonal components.')\n",
            "ETS failed on Close with ValueError('endog must be strictly positive when usingmultiplicative trend or seasonal components.')\n",
            "Model Number: 473 with model ETS in generation 3 of 10\n",
            "Model Number: 474 with model SectionalMotif in generation 3 of 10\n",
            "Template Eval Error: Exception('Transformer MinMaxScaler failed on fit') in model 474: SectionalMotif\n",
            "Model Number: 475 with model ETS in generation 3 of 10\n"
          ]
        },
        {
          "output_type": "stream",
          "name": "stderr",
          "text": [
            "/usr/local/lib/python3.7/dist-packages/sklearn/utils/validation.py:1692: FutureWarning: Feature names only support names that are all strings. Got feature names with dtypes: ['Timestamp', 'str']. An error will be raised in 1.2.\n",
            "  FutureWarning,\n",
            "/usr/local/lib/python3.7/dist-packages/sklearn/preprocessing/_data.py:461: RuntimeWarning: All-NaN slice encountered\n",
            "  data_min = np.nanmin(X, axis=0)\n",
            "/usr/local/lib/python3.7/dist-packages/sklearn/preprocessing/_data.py:462: RuntimeWarning: All-NaN slice encountered\n",
            "  data_max = np.nanmax(X, axis=0)\n",
            "/usr/local/lib/python3.7/dist-packages/sklearn/utils/validation.py:1692: FutureWarning: Feature names only support names that are all strings. Got feature names with dtypes: ['Timestamp', 'str']. An error will be raised in 1.2.\n",
            "  FutureWarning,\n"
          ]
        },
        {
          "output_type": "stream",
          "name": "stdout",
          "text": [
            "Model Number: 476 with model MultivariateRegression in generation 3 of 10\n",
            "Model Number: 477 with model NVAR in generation 3 of 10\n",
            "Model Number: 478 with model MultivariateMotif in generation 3 of 10\n",
            "Model Number: 479 with model UnobservedComponents in generation 3 of 10\n",
            "Model Number: 480 with model LastValueNaive in generation 3 of 10\n",
            "Model Number: 481 with model SectionalMotif in generation 3 of 10\n",
            "Model Number: 482 with model SeasonalNaive in generation 3 of 10\n",
            "Model Number: 483 with model ETS in generation 3 of 10\n",
            "Model Number: 484 with model LastValueNaive in generation 3 of 10\n",
            "Model Number: 485 with model SectionalMotif in generation 3 of 10\n"
          ]
        },
        {
          "output_type": "stream",
          "name": "stderr",
          "text": [
            "INFO:prophet:Disabling yearly seasonality. Run prophet with yearly_seasonality=True to override this.\n",
            "INFO:prophet:Disabling daily seasonality. Run prophet with daily_seasonality=True to override this.\n",
            "DEBUG:cmdstanpy:input tempfile: /tmp/tmp0ow7qcla/v2kvn65y.json\n"
          ]
        },
        {
          "output_type": "stream",
          "name": "stdout",
          "text": [
            "Model Number: 486 with model FBProphet in generation 3 of 10\n"
          ]
        },
        {
          "output_type": "stream",
          "name": "stderr",
          "text": [
            "DEBUG:cmdstanpy:input tempfile: /tmp/tmp0ow7qcla/zmg52huz.json\n",
            "DEBUG:cmdstanpy:idx 0\n",
            "DEBUG:cmdstanpy:running CmdStan, num_threads: None\n",
            "DEBUG:cmdstanpy:CmdStan args: ['/usr/local/lib/python3.7/dist-packages/prophet/stan_model/prophet_model.bin', 'random', 'seed=935', 'data', 'file=/tmp/tmp0ow7qcla/v2kvn65y.json', 'init=/tmp/tmp0ow7qcla/zmg52huz.json', 'output', 'file=/tmp/tmp3ms2qsln/prophet_model-20220820142216.csv', 'method=optimize', 'algorithm=lbfgs', 'iter=10000']\n",
            "14:22:16 - cmdstanpy - INFO - Chain [1] start processing\n",
            "INFO:cmdstanpy:Chain [1] start processing\n",
            "14:22:16 - cmdstanpy - INFO - Chain [1] done processing\n",
            "INFO:cmdstanpy:Chain [1] done processing\n",
            "INFO:prophet:Disabling yearly seasonality. Run prophet with yearly_seasonality=True to override this.\n",
            "INFO:prophet:Disabling daily seasonality. Run prophet with daily_seasonality=True to override this.\n",
            "DEBUG:cmdstanpy:input tempfile: /tmp/tmp0ow7qcla/rbdpxmke.json\n",
            "DEBUG:cmdstanpy:input tempfile: /tmp/tmp0ow7qcla/rsl2v91t.json\n",
            "DEBUG:cmdstanpy:idx 0\n",
            "DEBUG:cmdstanpy:running CmdStan, num_threads: None\n",
            "DEBUG:cmdstanpy:CmdStan args: ['/usr/local/lib/python3.7/dist-packages/prophet/stan_model/prophet_model.bin', 'random', 'seed=45322', 'data', 'file=/tmp/tmp0ow7qcla/rbdpxmke.json', 'init=/tmp/tmp0ow7qcla/rsl2v91t.json', 'output', 'file=/tmp/tmp273o4v73/prophet_model-20220820142218.csv', 'method=optimize', 'algorithm=lbfgs', 'iter=10000']\n",
            "14:22:18 - cmdstanpy - INFO - Chain [1] start processing\n",
            "INFO:cmdstanpy:Chain [1] start processing\n",
            "14:22:18 - cmdstanpy - INFO - Chain [1] done processing\n",
            "INFO:cmdstanpy:Chain [1] done processing\n"
          ]
        },
        {
          "output_type": "stream",
          "name": "stdout",
          "text": [
            "Model Number: 487 with model FBProphet in generation 3 of 10\n",
            "Model Number: 488 with model Theta in generation 3 of 10\n",
            "Model Number: 489 with model UnivariateMotif in generation 3 of 10\n",
            "Model Number: 490 with model MultivariateRegression in generation 3 of 10\n",
            "Template Eval Error: Exception('Transformer Cointegration failed on fit') in model 490: MultivariateRegression\n",
            "Model Number: 491 with model NVAR in generation 3 of 10\n",
            "Model Number: 492 with model ETS in generation 3 of 10\n",
            "Model Number: 493 with model SectionalMotif in generation 3 of 10\n",
            "Model Number: 494 with model FBProphet in generation 3 of 10\n",
            "Template Eval Error: Exception('Transformer MaxAbsScaler failed on fit') in model 494: FBProphet\n",
            "Model Number: 495 with model SectionalMotif in generation 3 of 10\n",
            "Model Number: 496 with model MultivariateMotif in generation 3 of 10\n",
            "Model Number: 497 with model Theta in generation 3 of 10\n"
          ]
        },
        {
          "output_type": "stream",
          "name": "stderr",
          "text": [
            "/usr/local/lib/python3.7/dist-packages/sklearn/utils/validation.py:1692: FutureWarning: Feature names only support names that are all strings. Got feature names with dtypes: ['Timestamp', 'str']. An error will be raised in 1.2.\n",
            "  FutureWarning,\n",
            "/usr/local/lib/python3.7/dist-packages/sklearn/preprocessing/_data.py:1187: RuntimeWarning: All-NaN slice encountered\n",
            "  max_abs = np.nanmax(np.abs(X), axis=0)\n",
            "/usr/local/lib/python3.7/dist-packages/sklearn/utils/validation.py:1692: FutureWarning: Feature names only support names that are all strings. Got feature names with dtypes: ['Timestamp', 'str']. An error will be raised in 1.2.\n",
            "  FutureWarning,\n"
          ]
        },
        {
          "output_type": "stream",
          "name": "stdout",
          "text": [
            "Model Number: 498 with model UnivariateRegression in generation 3 of 10\n",
            "Template Eval Error: Exception('Transformer Detrend failed on fit') in model 498: UnivariateRegression\n",
            "Model Number: 499 with model WindowRegression in generation 3 of 10\n",
            "New Generation: 4 of 10\n"
          ]
        },
        {
          "output_type": "stream",
          "name": "stderr",
          "text": [
            "INFO:prophet:Disabling yearly seasonality. Run prophet with yearly_seasonality=True to override this.\n",
            "INFO:prophet:Disabling daily seasonality. Run prophet with daily_seasonality=True to override this.\n",
            "DEBUG:cmdstanpy:input tempfile: /tmp/tmp0ow7qcla/lmboarkp.json\n",
            "DEBUG:cmdstanpy:input tempfile: /tmp/tmp0ow7qcla/n7rqenc2.json\n",
            "DEBUG:cmdstanpy:idx 0\n",
            "DEBUG:cmdstanpy:running CmdStan, num_threads: None\n",
            "DEBUG:cmdstanpy:CmdStan args: ['/usr/local/lib/python3.7/dist-packages/prophet/stan_model/prophet_model.bin', 'random', 'seed=67312', 'data', 'file=/tmp/tmp0ow7qcla/lmboarkp.json', 'init=/tmp/tmp0ow7qcla/n7rqenc2.json', 'output', 'file=/tmp/tmp2hiqsm_s/prophet_model-20220820142221.csv', 'method=optimize', 'algorithm=lbfgs', 'iter=10000']\n",
            "14:22:21 - cmdstanpy - INFO - Chain [1] start processing\n",
            "INFO:cmdstanpy:Chain [1] start processing\n",
            "14:22:21 - cmdstanpy - INFO - Chain [1] done processing\n",
            "INFO:cmdstanpy:Chain [1] done processing\n"
          ]
        },
        {
          "output_type": "stream",
          "name": "stdout",
          "text": [
            "Model Number: 500 with model FBProphet in generation 4 of 10\n",
            "Model Number: 501 with model MultivariateRegression in generation 4 of 10\n",
            "Model Number: 502 with model SeasonalNaive in generation 4 of 10\n",
            "Model Number: 503 with model ETS in generation 4 of 10\n",
            "Model Number: 504 with model UnobservedComponents in generation 4 of 10\n",
            "Model Number: 505 with model SeasonalNaive in generation 4 of 10\n",
            "Model Number: 506 with model MultivariateRegression in generation 4 of 10\n"
          ]
        },
        {
          "output_type": "stream",
          "name": "stderr",
          "text": [
            "/usr/local/lib/python3.7/dist-packages/sklearn/svm/_base.py:1208: ConvergenceWarning: Liblinear failed to converge, increase the number of iterations.\n",
            "  ConvergenceWarning,\n"
          ]
        },
        {
          "output_type": "stream",
          "name": "stdout",
          "text": [
            "Model Number: 507 with model MultivariateMotif in generation 4 of 10\n"
          ]
        },
        {
          "output_type": "stream",
          "name": "stderr",
          "text": [
            "/usr/local/lib/python3.7/dist-packages/autots/models/basics.py:1111: RuntimeWarning: Mean of empty slice\n",
            "  forecast = np.nanmean(results, axis=0)\n",
            "/usr/local/lib/python3.7/dist-packages/autots/tools/percentile.py:47: RuntimeWarning: All-NaN slice encountered\n",
            "  max_val = np.nanmax(arr)\n"
          ]
        },
        {
          "output_type": "stream",
          "name": "stdout",
          "text": [
            "Template Eval Error: ValueError('Model MultivariateMotif returned NaN for one or more series. fail_on_forecast_nan=True') in model 507: MultivariateMotif\n",
            "Model Number: 508 with model UnivariateMotif in generation 4 of 10\n",
            "Model Number: 509 with model FBProphet in generation 4 of 10\n",
            "Template Eval Error: ValueError(\"regression_type='User' but no future_regressor passed\") in model 509: FBProphet\n",
            "Model Number: 510 with model SectionalMotif in generation 4 of 10\n",
            "Model Number: 511 with model FBProphet in generation 4 of 10\n",
            "Template Eval Error: Exception('Transformer Detrend failed on fit') in model 511: FBProphet\n",
            "Model Number: 512 with model NVAR in generation 4 of 10\n",
            "Model Number: 513 with model GLS in generation 4 of 10\n",
            "Model Number: 514 with model Theta in generation 4 of 10\n",
            "Model Number: 515 with model NVAR in generation 4 of 10\n"
          ]
        },
        {
          "output_type": "stream",
          "name": "stderr",
          "text": [
            "INFO:prophet:Disabling yearly seasonality. Run prophet with yearly_seasonality=True to override this.\n",
            "INFO:prophet:Disabling daily seasonality. Run prophet with daily_seasonality=True to override this.\n",
            "DEBUG:cmdstanpy:input tempfile: /tmp/tmp0ow7qcla/7j9lng7p.json\n",
            "DEBUG:cmdstanpy:input tempfile: /tmp/tmp0ow7qcla/v5d7ax0o.json\n",
            "DEBUG:cmdstanpy:idx 0\n",
            "DEBUG:cmdstanpy:running CmdStan, num_threads: None\n",
            "DEBUG:cmdstanpy:CmdStan args: ['/usr/local/lib/python3.7/dist-packages/prophet/stan_model/prophet_model.bin', 'random', 'seed=37995', 'data', 'file=/tmp/tmp0ow7qcla/7j9lng7p.json', 'init=/tmp/tmp0ow7qcla/v5d7ax0o.json', 'output', 'file=/tmp/tmpwdcg2_6l/prophet_model-20220820142226.csv', 'method=optimize', 'algorithm=lbfgs', 'iter=10000']\n",
            "14:22:26 - cmdstanpy - INFO - Chain [1] start processing\n"
          ]
        },
        {
          "output_type": "stream",
          "name": "stdout",
          "text": [
            "Model Number: 516 with model FBProphet in generation 4 of 10\n"
          ]
        },
        {
          "output_type": "stream",
          "name": "stderr",
          "text": [
            "INFO:cmdstanpy:Chain [1] start processing\n",
            "14:22:26 - cmdstanpy - INFO - Chain [1] done processing\n",
            "INFO:cmdstanpy:Chain [1] done processing\n"
          ]
        },
        {
          "output_type": "stream",
          "name": "stdout",
          "text": [
            "Model Number: 517 with model GLM in generation 4 of 10\n",
            "Model Number: 518 with model ETS in generation 4 of 10\n",
            "Template Eval Error: Exception('Transformer BTCD failed on fit') in model 518: ETS\n",
            "Model Number: 519 with model MultivariateRegression in generation 4 of 10\n",
            "Model Number: 520 with model UnivariateRegression in generation 4 of 10\n"
          ]
        },
        {
          "output_type": "stream",
          "name": "stderr",
          "text": [
            "INFO:prophet:Disabling yearly seasonality. Run prophet with yearly_seasonality=True to override this.\n",
            "INFO:prophet:Disabling daily seasonality. Run prophet with daily_seasonality=True to override this.\n",
            "DEBUG:cmdstanpy:input tempfile: /tmp/tmp0ow7qcla/karh44uy.json\n",
            "DEBUG:cmdstanpy:input tempfile: /tmp/tmp0ow7qcla/c7c7t9ti.json\n",
            "DEBUG:cmdstanpy:idx 0\n",
            "DEBUG:cmdstanpy:running CmdStan, num_threads: None\n",
            "DEBUG:cmdstanpy:CmdStan args: ['/usr/local/lib/python3.7/dist-packages/prophet/stan_model/prophet_model.bin', 'random', 'seed=71027', 'data', 'file=/tmp/tmp0ow7qcla/karh44uy.json', 'init=/tmp/tmp0ow7qcla/c7c7t9ti.json', 'output', 'file=/tmp/tmpo2gh67_5/prophet_model-20220820142228.csv', 'method=optimize', 'algorithm=lbfgs', 'iter=10000']\n",
            "14:22:28 - cmdstanpy - INFO - Chain [1] start processing\n"
          ]
        },
        {
          "output_type": "stream",
          "name": "stdout",
          "text": [
            "Model Number: 521 with model FBProphet in generation 4 of 10\n"
          ]
        },
        {
          "output_type": "stream",
          "name": "stderr",
          "text": [
            "INFO:cmdstanpy:Chain [1] start processing\n",
            "14:22:28 - cmdstanpy - INFO - Chain [1] done processing\n",
            "INFO:cmdstanpy:Chain [1] done processing\n"
          ]
        },
        {
          "output_type": "stream",
          "name": "stdout",
          "text": [
            "Model Number: 522 with model UnivariateMotif in generation 4 of 10\n",
            "Model Number: 523 with model WindowRegression in generation 4 of 10\n",
            "Template Eval Error: ValueError(\"Input contains NaN, infinity or a value too large for dtype('float64').\") in model 523: WindowRegression\n",
            "Model Number: 524 with model LastValueNaive in generation 4 of 10\n",
            "Model Number: 525 with model AverageValueNaive in generation 4 of 10\n",
            "Model Number: 526 with model ETS in generation 4 of 10\n",
            "Model Number: 527 with model UnivariateMotif in generation 4 of 10\n",
            "Model Number: 528 with model SeasonalNaive in generation 4 of 10\n",
            "Model Number: 529 with model SectionalMotif in generation 4 of 10\n",
            "Model Number: 530 with model MultivariateMotif in generation 4 of 10\n",
            "Model Number: 531 with model Theta in generation 4 of 10\n"
          ]
        },
        {
          "output_type": "stream",
          "name": "stderr",
          "text": [
            "/usr/local/lib/python3.7/dist-packages/sklearn/_loss/glm_distribution.py:132: RuntimeWarning: divide by zero encountered in true_divide\n",
            "  return -2 * (y - y_pred) / self.unit_variance(y_pred)\n",
            "/usr/local/lib/python3.7/dist-packages/sklearn/linear_model/_glm/glm.py:42: RuntimeWarning: invalid value encountered in multiply\n",
            "  temp = d1 * family.deviance_derivative(y, y_pred, weights)\n",
            "/usr/local/lib/python3.7/dist-packages/sklearn/_loss/glm_distribution.py:326: RuntimeWarning: divide by zero encountered in log\n",
            "  dev = 2 * (np.log(y_pred / y) + y / y_pred - 1)\n",
            "/usr/local/lib/python3.7/dist-packages/sklearn/_loss/glm_distribution.py:326: RuntimeWarning: divide by zero encountered in true_divide\n",
            "  dev = 2 * (np.log(y_pred / y) + y / y_pred - 1)\n",
            "/usr/local/lib/python3.7/dist-packages/sklearn/_loss/glm_distribution.py:326: RuntimeWarning: invalid value encountered in add\n",
            "  dev = 2 * (np.log(y_pred / y) + y / y_pred - 1)\n",
            "/usr/local/lib/python3.7/dist-packages/sklearn/linear_model/_glm/glm.py:323: ConvergenceWarning: lbfgs failed to converge (status=2):\n",
            "ABNORMAL_TERMINATION_IN_LNSRCH.\n",
            "\n",
            "Increase the number of iterations (max_iter) or scale the data as shown in:\n",
            "    https://scikit-learn.org/stable/modules/preprocessing.html\n",
            "  self.n_iter_ = _check_optimize_result(\"lbfgs\", opt_res)\n"
          ]
        },
        {
          "output_type": "stream",
          "name": "stdout",
          "text": [
            "Model Number: 532 with model MultivariateRegression in generation 4 of 10\n",
            "Template Eval Error: ValueError(\"regression_type='User' but not future_regressor supplied.\") in model 532: MultivariateRegression\n",
            "Model Number: 533 with model LastValueNaive in generation 4 of 10\n",
            "Model Number: 534 with model GLS in generation 4 of 10\n",
            "Model Number: 535 with model ConstantNaive in generation 4 of 10\n",
            "Model Number: 536 with model Theta in generation 4 of 10\n",
            "Model Number: 537 with model NVAR in generation 4 of 10\n",
            "Model Number: 538 with model MultivariateMotif in generation 4 of 10\n",
            "Model Number: 539 with model SectionalMotif in generation 4 of 10\n"
          ]
        },
        {
          "output_type": "stream",
          "name": "stderr",
          "text": [
            "INFO:prophet:Disabling yearly seasonality. Run prophet with yearly_seasonality=True to override this.\n",
            "INFO:prophet:Disabling daily seasonality. Run prophet with daily_seasonality=True to override this.\n"
          ]
        },
        {
          "output_type": "stream",
          "name": "stdout",
          "text": [
            "Model Number: 540 with model FBProphet in generation 4 of 10\n"
          ]
        },
        {
          "output_type": "stream",
          "name": "stderr",
          "text": [
            "DEBUG:cmdstanpy:input tempfile: /tmp/tmp0ow7qcla/2p7aoijw.json\n",
            "DEBUG:cmdstanpy:input tempfile: /tmp/tmp0ow7qcla/y17__ixk.json\n",
            "DEBUG:cmdstanpy:idx 0\n",
            "DEBUG:cmdstanpy:running CmdStan, num_threads: None\n",
            "DEBUG:cmdstanpy:CmdStan args: ['/usr/local/lib/python3.7/dist-packages/prophet/stan_model/prophet_model.bin', 'random', 'seed=62351', 'data', 'file=/tmp/tmp0ow7qcla/2p7aoijw.json', 'init=/tmp/tmp0ow7qcla/y17__ixk.json', 'output', 'file=/tmp/tmpbrkg9lwb/prophet_model-20220820142232.csv', 'method=optimize', 'algorithm=lbfgs', 'iter=10000']\n",
            "14:22:32 - cmdstanpy - INFO - Chain [1] start processing\n",
            "INFO:cmdstanpy:Chain [1] start processing\n",
            "14:22:32 - cmdstanpy - INFO - Chain [1] done processing\n",
            "INFO:cmdstanpy:Chain [1] done processing\n"
          ]
        },
        {
          "output_type": "stream",
          "name": "stdout",
          "text": [
            "Model Number: 541 with model UnobservedComponents in generation 4 of 10\n",
            "Model Number: 542 with model DatepartRegression in generation 4 of 10\n"
          ]
        },
        {
          "output_type": "stream",
          "name": "stderr",
          "text": [
            "/usr/local/lib/python3.7/dist-packages/sklearn/_loss/glm_distribution.py:132: RuntimeWarning: divide by zero encountered in true_divide\n",
            "  return -2 * (y - y_pred) / self.unit_variance(y_pred)\n",
            "/usr/local/lib/python3.7/dist-packages/sklearn/linear_model/_glm/glm.py:42: RuntimeWarning: invalid value encountered in multiply\n",
            "  temp = d1 * family.deviance_derivative(y, y_pred, weights)\n",
            "/usr/local/lib/python3.7/dist-packages/sklearn/_loss/glm_distribution.py:326: RuntimeWarning: divide by zero encountered in log\n",
            "  dev = 2 * (np.log(y_pred / y) + y / y_pred - 1)\n",
            "/usr/local/lib/python3.7/dist-packages/sklearn/_loss/glm_distribution.py:326: RuntimeWarning: divide by zero encountered in true_divide\n",
            "  dev = 2 * (np.log(y_pred / y) + y / y_pred - 1)\n",
            "/usr/local/lib/python3.7/dist-packages/sklearn/_loss/glm_distribution.py:326: RuntimeWarning: invalid value encountered in add\n",
            "  dev = 2 * (np.log(y_pred / y) + y / y_pred - 1)\n",
            "/usr/local/lib/python3.7/dist-packages/sklearn/linear_model/_glm/glm.py:323: ConvergenceWarning: lbfgs failed to converge (status=2):\n",
            "ABNORMAL_TERMINATION_IN_LNSRCH.\n",
            "\n",
            "Increase the number of iterations (max_iter) or scale the data as shown in:\n",
            "    https://scikit-learn.org/stable/modules/preprocessing.html\n",
            "  self.n_iter_ = _check_optimize_result(\"lbfgs\", opt_res)\n"
          ]
        },
        {
          "output_type": "stream",
          "name": "stdout",
          "text": [
            "Model Number: 543 with model SectionalMotif in generation 4 of 10\n",
            "Model Number: 544 with model UnobservedComponents in generation 4 of 10\n",
            "Template Eval Error: ValueError(\"regression_type='User' but no future_regressor supplied\") in model 544: UnobservedComponents\n",
            "Model Number: 545 with model ETS in generation 4 of 10\n",
            "Model Number: 546 with model ETS in generation 4 of 10\n",
            "Model Number: 547 with model AverageValueNaive in generation 4 of 10\n",
            "Model Number: 548 with model NVAR in generation 4 of 10\n",
            "Model Number: 549 with model AverageValueNaive in generation 4 of 10\n",
            "Model Number: 550 with model ETS in generation 4 of 10\n",
            "ETS error ValueError('Can only dampen the trend component')\n",
            "ETS failed on Close with ValueError('Can only dampen the trend component')\n",
            "Model Number: 551 with model GLS in generation 4 of 10\n",
            "Model Number: 552 with model SectionalMotif in generation 4 of 10\n",
            "Model Number: 553 with model NVAR in generation 4 of 10\n",
            "Model Number: 554 with model NVAR in generation 4 of 10\n"
          ]
        },
        {
          "output_type": "stream",
          "name": "stderr",
          "text": [
            "/usr/local/lib/python3.7/dist-packages/sklearn/_loss/glm_distribution.py:132: RuntimeWarning: divide by zero encountered in true_divide\n",
            "  return -2 * (y - y_pred) / self.unit_variance(y_pred)\n",
            "/usr/local/lib/python3.7/dist-packages/sklearn/linear_model/_glm/glm.py:42: RuntimeWarning: invalid value encountered in multiply\n",
            "  temp = d1 * family.deviance_derivative(y, y_pred, weights)\n",
            "/usr/local/lib/python3.7/dist-packages/sklearn/_loss/glm_distribution.py:326: RuntimeWarning: divide by zero encountered in log\n",
            "  dev = 2 * (np.log(y_pred / y) + y / y_pred - 1)\n",
            "/usr/local/lib/python3.7/dist-packages/sklearn/_loss/glm_distribution.py:326: RuntimeWarning: divide by zero encountered in true_divide\n",
            "  dev = 2 * (np.log(y_pred / y) + y / y_pred - 1)\n",
            "/usr/local/lib/python3.7/dist-packages/sklearn/_loss/glm_distribution.py:326: RuntimeWarning: invalid value encountered in add\n",
            "  dev = 2 * (np.log(y_pred / y) + y / y_pred - 1)\n",
            "/usr/local/lib/python3.7/dist-packages/sklearn/linear_model/_glm/glm.py:323: ConvergenceWarning: lbfgs failed to converge (status=2):\n",
            "ABNORMAL_TERMINATION_IN_LNSRCH.\n",
            "\n",
            "Increase the number of iterations (max_iter) or scale the data as shown in:\n",
            "    https://scikit-learn.org/stable/modules/preprocessing.html\n",
            "  self.n_iter_ = _check_optimize_result(\"lbfgs\", opt_res)\n",
            "INFO:prophet:Disabling yearly seasonality. Run prophet with yearly_seasonality=True to override this.\n",
            "INFO:prophet:Disabling daily seasonality. Run prophet with daily_seasonality=True to override this.\n"
          ]
        },
        {
          "output_type": "stream",
          "name": "stdout",
          "text": [
            "Model Number: 555 with model FBProphet in generation 4 of 10\n"
          ]
        },
        {
          "output_type": "stream",
          "name": "stderr",
          "text": [
            "DEBUG:cmdstanpy:input tempfile: /tmp/tmp0ow7qcla/26eylgq1.json\n",
            "DEBUG:cmdstanpy:input tempfile: /tmp/tmp0ow7qcla/j5hk6ksb.json\n",
            "DEBUG:cmdstanpy:idx 0\n",
            "DEBUG:cmdstanpy:running CmdStan, num_threads: None\n",
            "DEBUG:cmdstanpy:CmdStan args: ['/usr/local/lib/python3.7/dist-packages/prophet/stan_model/prophet_model.bin', 'random', 'seed=15847', 'data', 'file=/tmp/tmp0ow7qcla/26eylgq1.json', 'init=/tmp/tmp0ow7qcla/j5hk6ksb.json', 'output', 'file=/tmp/tmpnfiwekep/prophet_model-20220820142235.csv', 'method=optimize', 'algorithm=lbfgs', 'iter=10000']\n",
            "14:22:35 - cmdstanpy - INFO - Chain [1] start processing\n",
            "INFO:cmdstanpy:Chain [1] start processing\n",
            "14:22:35 - cmdstanpy - INFO - Chain [1] done processing\n",
            "INFO:cmdstanpy:Chain [1] done processing\n"
          ]
        },
        {
          "output_type": "stream",
          "name": "stdout",
          "text": [
            "Model Number: 556 with model WindowRegression in generation 4 of 10\n",
            "Model Number: 557 with model UnivariateMotif in generation 4 of 10\n",
            "Model Number: 558 with model AverageValueNaive in generation 4 of 10\n"
          ]
        },
        {
          "output_type": "stream",
          "name": "stderr",
          "text": [
            "/usr/local/lib/python3.7/dist-packages/sklearn/_loss/glm_distribution.py:132: RuntimeWarning: divide by zero encountered in true_divide\n",
            "  return -2 * (y - y_pred) / self.unit_variance(y_pred)\n",
            "/usr/local/lib/python3.7/dist-packages/sklearn/linear_model/_glm/glm.py:42: RuntimeWarning: invalid value encountered in multiply\n",
            "  temp = d1 * family.deviance_derivative(y, y_pred, weights)\n",
            "/usr/local/lib/python3.7/dist-packages/sklearn/_loss/glm_distribution.py:323: RuntimeWarning: divide by zero encountered in true_divide\n",
            "  dev = 2 * (xlogy(y, y / y_pred) - y + y_pred)\n",
            "/usr/local/lib/python3.7/dist-packages/sklearn/svm/_base.py:1208: ConvergenceWarning: Liblinear failed to converge, increase the number of iterations.\n",
            "  ConvergenceWarning,\n",
            "/usr/local/lib/python3.7/dist-packages/sklearn/svm/_base.py:1208: ConvergenceWarning: Liblinear failed to converge, increase the number of iterations.\n",
            "  ConvergenceWarning,\n",
            "/usr/local/lib/python3.7/dist-packages/sklearn/svm/_base.py:1208: ConvergenceWarning: Liblinear failed to converge, increase the number of iterations.\n",
            "  ConvergenceWarning,\n",
            "/usr/local/lib/python3.7/dist-packages/sklearn/svm/_base.py:1208: ConvergenceWarning: Liblinear failed to converge, increase the number of iterations.\n",
            "  ConvergenceWarning,\n",
            "/usr/local/lib/python3.7/dist-packages/sklearn/svm/_base.py:1208: ConvergenceWarning: Liblinear failed to converge, increase the number of iterations.\n",
            "  ConvergenceWarning,\n",
            "/usr/local/lib/python3.7/dist-packages/sklearn/svm/_base.py:1208: ConvergenceWarning: Liblinear failed to converge, increase the number of iterations.\n",
            "  ConvergenceWarning,\n",
            "/usr/local/lib/python3.7/dist-packages/sklearn/svm/_base.py:1208: ConvergenceWarning: Liblinear failed to converge, increase the number of iterations.\n",
            "  ConvergenceWarning,\n",
            "/usr/local/lib/python3.7/dist-packages/sklearn/svm/_base.py:1208: ConvergenceWarning: Liblinear failed to converge, increase the number of iterations.\n",
            "  ConvergenceWarning,\n",
            "/usr/local/lib/python3.7/dist-packages/sklearn/svm/_base.py:1208: ConvergenceWarning: Liblinear failed to converge, increase the number of iterations.\n",
            "  ConvergenceWarning,\n",
            "/usr/local/lib/python3.7/dist-packages/sklearn/svm/_base.py:1208: ConvergenceWarning: Liblinear failed to converge, increase the number of iterations.\n",
            "  ConvergenceWarning,\n"
          ]
        },
        {
          "output_type": "stream",
          "name": "stdout",
          "text": [
            "Model Number: 559 with model MultivariateMotif in generation 4 of 10\n",
            "Model Number: 560 with model Theta in generation 4 of 10\n",
            "Model Number: 561 with model UnivariateMotif in generation 4 of 10\n",
            "Model Number: 562 with model LastValueNaive in generation 4 of 10\n",
            "Template Eval Error: Exception('Transformer Cointegration failed on fit') in model 562: LastValueNaive\n",
            "Model Number: 563 with model UnobservedComponents in generation 4 of 10\n",
            "Model Number: 564 with model UnobservedComponents in generation 4 of 10\n",
            "Model Number: 565 with model ConstantNaive in generation 4 of 10\n",
            "Model Number: 566 with model ETS in generation 4 of 10\n",
            "Model Number: 567 with model GLS in generation 4 of 10\n",
            "Template Eval Error: Exception('Transformer Detrend failed on fit') in model 567: GLS\n",
            "Model Number: 568 with model MultivariateRegression in generation 4 of 10\n"
          ]
        },
        {
          "output_type": "stream",
          "name": "stderr",
          "text": [
            "/usr/local/lib/python3.7/dist-packages/sklearn/linear_model/_glm/link.py:90: RuntimeWarning: overflow encountered in exp\n",
            "  return np.exp(lin_pred)\n",
            "/usr/local/lib/python3.7/dist-packages/sklearn/linear_model/_glm/link.py:93: RuntimeWarning: overflow encountered in exp\n",
            "  return np.exp(lin_pred)\n",
            "/usr/local/lib/python3.7/dist-packages/sklearn/_loss/glm_distribution.py:132: RuntimeWarning: invalid value encountered in true_divide\n",
            "  return -2 * (y - y_pred) / self.unit_variance(y_pred)\n",
            "/usr/local/lib/python3.7/dist-packages/sklearn/_loss/glm_distribution.py:323: RuntimeWarning: invalid value encountered in add\n",
            "  dev = 2 * (xlogy(y, y / y_pred) - y + y_pred)\n",
            "/usr/local/lib/python3.7/dist-packages/sklearn/linear_model/_glm/glm.py:323: ConvergenceWarning: lbfgs failed to converge (status=2):\n",
            "ABNORMAL_TERMINATION_IN_LNSRCH.\n",
            "\n",
            "Increase the number of iterations (max_iter) or scale the data as shown in:\n",
            "    https://scikit-learn.org/stable/modules/preprocessing.html\n",
            "  self.n_iter_ = _check_optimize_result(\"lbfgs\", opt_res)\n",
            "[Parallel(n_jobs=-2)]: Using backend SequentialBackend with 1 concurrent workers.\n",
            "[Parallel(n_jobs=-2)]: Done 200 out of 200 | elapsed:    0.5s finished\n",
            "[Parallel(n_jobs=1)]: Using backend SequentialBackend with 1 concurrent workers.\n",
            "[Parallel(n_jobs=1)]: Done 200 out of 200 | elapsed:    0.0s finished\n",
            "[Parallel(n_jobs=1)]: Using backend SequentialBackend with 1 concurrent workers.\n",
            "[Parallel(n_jobs=1)]: Done 200 out of 200 | elapsed:    0.0s finished\n",
            "[Parallel(n_jobs=1)]: Using backend SequentialBackend with 1 concurrent workers.\n",
            "[Parallel(n_jobs=1)]: Done 200 out of 200 | elapsed:    0.0s finished\n",
            "[Parallel(n_jobs=1)]: Using backend SequentialBackend with 1 concurrent workers.\n",
            "[Parallel(n_jobs=1)]: Done 200 out of 200 | elapsed:    0.0s finished\n",
            "[Parallel(n_jobs=1)]: Using backend SequentialBackend with 1 concurrent workers.\n",
            "[Parallel(n_jobs=1)]: Done 200 out of 200 | elapsed:    0.0s finished\n",
            "[Parallel(n_jobs=1)]: Using backend SequentialBackend with 1 concurrent workers.\n",
            "[Parallel(n_jobs=1)]: Done 200 out of 200 | elapsed:    0.0s finished\n",
            "[Parallel(n_jobs=1)]: Using backend SequentialBackend with 1 concurrent workers.\n",
            "[Parallel(n_jobs=1)]: Done 200 out of 200 | elapsed:    0.0s finished\n",
            "[Parallel(n_jobs=1)]: Using backend SequentialBackend with 1 concurrent workers.\n",
            "[Parallel(n_jobs=1)]: Done 200 out of 200 | elapsed:    0.0s finished\n",
            "[Parallel(n_jobs=1)]: Using backend SequentialBackend with 1 concurrent workers.\n",
            "[Parallel(n_jobs=1)]: Done 200 out of 200 | elapsed:    0.0s finished\n",
            "[Parallel(n_jobs=1)]: Using backend SequentialBackend with 1 concurrent workers.\n"
          ]
        },
        {
          "output_type": "stream",
          "name": "stdout",
          "text": [
            "Model Number: 569 with model SectionalMotif in generation 4 of 10\n",
            "Model Number: 570 with model UnivariateMotif in generation 4 of 10\n"
          ]
        },
        {
          "output_type": "stream",
          "name": "stderr",
          "text": [
            "[Parallel(n_jobs=1)]: Done 200 out of 200 | elapsed:    0.0s finished\n",
            "INFO:prophet:Disabling yearly seasonality. Run prophet with yearly_seasonality=True to override this.\n",
            "INFO:prophet:Disabling daily seasonality. Run prophet with daily_seasonality=True to override this.\n",
            "DEBUG:cmdstanpy:input tempfile: /tmp/tmp0ow7qcla/6i68oblg.json\n",
            "DEBUG:cmdstanpy:input tempfile: /tmp/tmp0ow7qcla/qb0lo2ss.json\n",
            "DEBUG:cmdstanpy:idx 0\n",
            "DEBUG:cmdstanpy:running CmdStan, num_threads: None\n",
            "DEBUG:cmdstanpy:CmdStan args: ['/usr/local/lib/python3.7/dist-packages/prophet/stan_model/prophet_model.bin', 'random', 'seed=30181', 'data', 'file=/tmp/tmp0ow7qcla/6i68oblg.json', 'init=/tmp/tmp0ow7qcla/qb0lo2ss.json', 'output', 'file=/tmp/tmp0kmhk3e5/prophet_model-20220820142239.csv', 'method=optimize', 'algorithm=lbfgs', 'iter=10000']\n",
            "14:22:39 - cmdstanpy - INFO - Chain [1] start processing\n",
            "INFO:cmdstanpy:Chain [1] start processing\n"
          ]
        },
        {
          "output_type": "stream",
          "name": "stdout",
          "text": [
            "Model Number: 571 with model FBProphet in generation 4 of 10\n"
          ]
        },
        {
          "output_type": "stream",
          "name": "stderr",
          "text": [
            "14:22:39 - cmdstanpy - INFO - Chain [1] done processing\n",
            "INFO:cmdstanpy:Chain [1] done processing\n"
          ]
        },
        {
          "output_type": "stream",
          "name": "stdout",
          "text": [
            "Model Number: 572 with model LastValueNaive in generation 4 of 10\n",
            "Model Number: 573 with model NVAR in generation 4 of 10\n",
            "Model Number: 574 with model NVAR in generation 4 of 10\n",
            "Model Number: 575 with model DatepartRegression in generation 4 of 10\n",
            "Template Eval Error: Exception('Transformer Detrend failed on fit') in model 575: DatepartRegression\n",
            "Model Number: 576 with model AverageValueNaive in generation 4 of 10\n"
          ]
        },
        {
          "output_type": "stream",
          "name": "stderr",
          "text": [
            "/usr/local/lib/python3.7/dist-packages/sklearn/_loss/glm_distribution.py:132: RuntimeWarning: divide by zero encountered in true_divide\n",
            "  return -2 * (y - y_pred) / self.unit_variance(y_pred)\n",
            "/usr/local/lib/python3.7/dist-packages/sklearn/linear_model/_glm/glm.py:42: RuntimeWarning: invalid value encountered in multiply\n",
            "  temp = d1 * family.deviance_derivative(y, y_pred, weights)\n",
            "/usr/local/lib/python3.7/dist-packages/sklearn/_loss/glm_distribution.py:331: RuntimeWarning: divide by zero encountered in power\n",
            "  + np.power(y_pred, 2 - p) / (2 - p)\n",
            "INFO:prophet:Disabling yearly seasonality. Run prophet with yearly_seasonality=True to override this.\n",
            "INFO:prophet:Disabling daily seasonality. Run prophet with daily_seasonality=True to override this.\n"
          ]
        },
        {
          "output_type": "stream",
          "name": "stdout",
          "text": [
            "Model Number: 577 with model FBProphet in generation 4 of 10\n"
          ]
        },
        {
          "output_type": "stream",
          "name": "stderr",
          "text": [
            "DEBUG:cmdstanpy:input tempfile: /tmp/tmp0ow7qcla/63u1uy8_.json\n",
            "DEBUG:cmdstanpy:input tempfile: /tmp/tmp0ow7qcla/e682jwda.json\n",
            "DEBUG:cmdstanpy:idx 0\n",
            "DEBUG:cmdstanpy:running CmdStan, num_threads: None\n",
            "DEBUG:cmdstanpy:CmdStan args: ['/usr/local/lib/python3.7/dist-packages/prophet/stan_model/prophet_model.bin', 'random', 'seed=15414', 'data', 'file=/tmp/tmp0ow7qcla/63u1uy8_.json', 'init=/tmp/tmp0ow7qcla/e682jwda.json', 'output', 'file=/tmp/tmpanclhhkx/prophet_model-20220820142241.csv', 'method=optimize', 'algorithm=lbfgs', 'iter=10000']\n",
            "14:22:41 - cmdstanpy - INFO - Chain [1] start processing\n",
            "INFO:cmdstanpy:Chain [1] start processing\n",
            "14:22:41 - cmdstanpy - INFO - Chain [1] done processing\n",
            "INFO:cmdstanpy:Chain [1] done processing\n"
          ]
        },
        {
          "output_type": "stream",
          "name": "stdout",
          "text": [
            "Model Number: 578 with model UnobservedComponents in generation 4 of 10\n",
            "Template Eval Error: LinAlgError('Schur decomposition solver error.') in model 578: UnobservedComponents\n",
            "Model Number: 579 with model UnobservedComponents in generation 4 of 10\n",
            "Model Number: 580 with model UnivariateMotif in generation 4 of 10\n",
            "Model Number: 581 with model MultivariateMotif in generation 4 of 10\n",
            "Model Number: 582 with model Theta in generation 4 of 10\n"
          ]
        },
        {
          "output_type": "stream",
          "name": "stderr",
          "text": [
            "/usr/local/lib/python3.7/dist-packages/sklearn/_loss/glm_distribution.py:132: RuntimeWarning: divide by zero encountered in true_divide\n",
            "  return -2 * (y - y_pred) / self.unit_variance(y_pred)\n",
            "/usr/local/lib/python3.7/dist-packages/sklearn/linear_model/_glm/glm.py:42: RuntimeWarning: invalid value encountered in multiply\n",
            "  temp = d1 * family.deviance_derivative(y, y_pred, weights)\n",
            "/usr/local/lib/python3.7/dist-packages/sklearn/_loss/glm_distribution.py:331: RuntimeWarning: divide by zero encountered in power\n",
            "  + np.power(y_pred, 2 - p) / (2 - p)\n",
            "INFO:prophet:Disabling yearly seasonality. Run prophet with yearly_seasonality=True to override this.\n",
            "INFO:prophet:Disabling daily seasonality. Run prophet with daily_seasonality=True to override this.\n",
            "DEBUG:cmdstanpy:input tempfile: /tmp/tmp0ow7qcla/acj8ppr0.json\n",
            "DEBUG:cmdstanpy:input tempfile: /tmp/tmp0ow7qcla/fx_ksfxa.json\n",
            "DEBUG:cmdstanpy:idx 0\n",
            "DEBUG:cmdstanpy:running CmdStan, num_threads: None\n",
            "DEBUG:cmdstanpy:CmdStan args: ['/usr/local/lib/python3.7/dist-packages/prophet/stan_model/prophet_model.bin', 'random', 'seed=46349', 'data', 'file=/tmp/tmp0ow7qcla/acj8ppr0.json', 'init=/tmp/tmp0ow7qcla/fx_ksfxa.json', 'output', 'file=/tmp/tmponqn2omb/prophet_model-20220820142245.csv', 'method=optimize', 'algorithm=lbfgs', 'iter=10000']\n",
            "14:22:45 - cmdstanpy - INFO - Chain [1] start processing\n",
            "INFO:cmdstanpy:Chain [1] start processing\n"
          ]
        },
        {
          "output_type": "stream",
          "name": "stdout",
          "text": [
            "Model Number: 583 with model FBProphet in generation 4 of 10\n"
          ]
        },
        {
          "output_type": "stream",
          "name": "stderr",
          "text": [
            "14:22:45 - cmdstanpy - INFO - Chain [1] done processing\n",
            "INFO:cmdstanpy:Chain [1] done processing\n"
          ]
        },
        {
          "output_type": "stream",
          "name": "stdout",
          "text": [
            "Model Number: 584 with model Theta in generation 4 of 10\n",
            "Model Number: 585 with model MultivariateMotif in generation 4 of 10\n",
            "Model Number: 586 with model Theta in generation 4 of 10\n",
            "Model Number: 587 with model LastValueNaive in generation 4 of 10\n",
            "Model Number: 588 with model SectionalMotif in generation 4 of 10\n",
            "Model Number: 589 with model LastValueNaive in generation 4 of 10\n",
            "Model Number: 590 with model WindowRegression in generation 4 of 10\n",
            "Template Eval Error: LightGBMError('Check failed: label > 0 at /__w/1/s/python-package/compile/src/metric/regression_metric.hpp, line 268 .\\n') in model 590: WindowRegression\n",
            "Model Number: 591 with model UnobservedComponents in generation 4 of 10\n"
          ]
        },
        {
          "output_type": "stream",
          "name": "stderr",
          "text": [
            "/usr/local/lib/python3.7/dist-packages/sklearn/_loss/glm_distribution.py:132: RuntimeWarning: divide by zero encountered in true_divide\n",
            "  return -2 * (y - y_pred) / self.unit_variance(y_pred)\n",
            "/usr/local/lib/python3.7/dist-packages/sklearn/linear_model/_glm/glm.py:42: RuntimeWarning: invalid value encountered in multiply\n",
            "  temp = d1 * family.deviance_derivative(y, y_pred, weights)\n",
            "/usr/local/lib/python3.7/dist-packages/sklearn/_loss/glm_distribution.py:331: RuntimeWarning: divide by zero encountered in power\n",
            "  + np.power(y_pred, 2 - p) / (2 - p)\n"
          ]
        },
        {
          "output_type": "stream",
          "name": "stdout",
          "text": [
            "Model Number: 592 with model LastValueNaive in generation 4 of 10\n",
            "Model Number: 593 with model UnivariateRegression in generation 4 of 10\n",
            "Template Eval Error: ValueError(\"regression_type='User' but not future_regressor supplied.\") in model 593: UnivariateRegression\n",
            "Model Number: 594 with model SectionalMotif in generation 4 of 10\n",
            "Model Number: 595 with model SeasonalNaive in generation 4 of 10\n",
            "Model Number: 596 with model WindowRegression in generation 4 of 10\n"
          ]
        },
        {
          "output_type": "stream",
          "name": "stderr",
          "text": [
            "/usr/local/lib/python3.7/dist-packages/sklearn/_loss/glm_distribution.py:132: RuntimeWarning: divide by zero encountered in true_divide\n",
            "  return -2 * (y - y_pred) / self.unit_variance(y_pred)\n",
            "/usr/local/lib/python3.7/dist-packages/sklearn/linear_model/_glm/glm.py:42: RuntimeWarning: invalid value encountered in multiply\n",
            "  temp = d1 * family.deviance_derivative(y, y_pred, weights)\n",
            "/usr/local/lib/python3.7/dist-packages/sklearn/_loss/glm_distribution.py:323: RuntimeWarning: divide by zero encountered in true_divide\n",
            "  dev = 2 * (xlogy(y, y / y_pred) - y + y_pred)\n",
            "/usr/local/lib/python3.7/dist-packages/sklearn/_loss/glm_distribution.py:132: RuntimeWarning: divide by zero encountered in true_divide\n",
            "  return -2 * (y - y_pred) / self.unit_variance(y_pred)\n",
            "/usr/local/lib/python3.7/dist-packages/sklearn/linear_model/_glm/glm.py:42: RuntimeWarning: invalid value encountered in multiply\n",
            "  temp = d1 * family.deviance_derivative(y, y_pred, weights)\n",
            "/usr/local/lib/python3.7/dist-packages/sklearn/_loss/glm_distribution.py:331: RuntimeWarning: divide by zero encountered in power\n",
            "  + np.power(y_pred, 2 - p) / (2 - p)\n"
          ]
        },
        {
          "output_type": "stream",
          "name": "stdout",
          "text": [
            "Model Number: 597 with model UnivariateMotif in generation 4 of 10\n",
            "Model Number: 598 with model LastValueNaive in generation 4 of 10\n",
            "Model Number: 599 with model Theta in generation 4 of 10\n",
            "Model Number: 600 with model MultivariateMotif in generation 4 of 10\n",
            "Model Number: 601 with model MultivariateMotif in generation 4 of 10\n",
            "Model Number: 602 with model DatepartRegression in generation 4 of 10\n",
            "Template Eval Error: Exception('Transformer Cointegration failed on fit') in model 602: DatepartRegression\n",
            "Model Number: 603 with model ConstantNaive in generation 4 of 10\n",
            "Model Number: 604 with model UnivariateMotif in generation 4 of 10\n",
            "Model Number: 605 with model MultivariateMotif in generation 4 of 10\n",
            "Model Number: 606 with model LastValueNaive in generation 4 of 10\n",
            "Model Number: 607 with model MultivariateMotif in generation 4 of 10\n",
            "Template Eval Error: ValueError('Model MultivariateMotif returned NaN for one or more series. fail_on_forecast_nan=True') in model 607: MultivariateMotif\n",
            "Model Number: 608 with model MultivariateMotif in generation 4 of 10\n"
          ]
        },
        {
          "output_type": "stream",
          "name": "stderr",
          "text": [
            "/usr/local/lib/python3.7/dist-packages/sklearn/_loss/glm_distribution.py:132: RuntimeWarning: divide by zero encountered in true_divide\n",
            "  return -2 * (y - y_pred) / self.unit_variance(y_pred)\n",
            "/usr/local/lib/python3.7/dist-packages/sklearn/linear_model/_glm/glm.py:42: RuntimeWarning: invalid value encountered in multiply\n",
            "  temp = d1 * family.deviance_derivative(y, y_pred, weights)\n",
            "/usr/local/lib/python3.7/dist-packages/sklearn/_loss/glm_distribution.py:331: RuntimeWarning: divide by zero encountered in power\n",
            "  + np.power(y_pred, 2 - p) / (2 - p)\n",
            "/usr/local/lib/python3.7/dist-packages/sklearn/_loss/glm_distribution.py:132: RuntimeWarning: divide by zero encountered in true_divide\n",
            "  return -2 * (y - y_pred) / self.unit_variance(y_pred)\n",
            "/usr/local/lib/python3.7/dist-packages/sklearn/linear_model/_glm/glm.py:42: RuntimeWarning: invalid value encountered in multiply\n",
            "  temp = d1 * family.deviance_derivative(y, y_pred, weights)\n",
            "/usr/local/lib/python3.7/dist-packages/sklearn/_loss/glm_distribution.py:331: RuntimeWarning: divide by zero encountered in power\n",
            "  + np.power(y_pred, 2 - p) / (2 - p)\n",
            "/usr/local/lib/python3.7/dist-packages/numpy/core/_methods.py:48: RuntimeWarning: invalid value encountered in reduce\n",
            "  return umr_sum(a, axis, dtype, out, keepdims, initial, where)\n",
            "/usr/local/lib/python3.7/dist-packages/numpy/lib/function_base.py:412: RuntimeWarning: invalid value encountered in true_divide\n",
            "  avg = np.multiply(a, wgt, dtype=result_dtype).sum(axis)/scl\n"
          ]
        },
        {
          "output_type": "stream",
          "name": "stdout",
          "text": [
            "Model Number: 609 with model LastValueNaive in generation 4 of 10\n",
            "New Generation: 5 of 10\n"
          ]
        },
        {
          "output_type": "stream",
          "name": "stderr",
          "text": [
            "/usr/local/lib/python3.7/dist-packages/sklearn/_loss/glm_distribution.py:132: RuntimeWarning: divide by zero encountered in true_divide\n",
            "  return -2 * (y - y_pred) / self.unit_variance(y_pred)\n",
            "/usr/local/lib/python3.7/dist-packages/sklearn/linear_model/_glm/glm.py:42: RuntimeWarning: invalid value encountered in multiply\n",
            "  temp = d1 * family.deviance_derivative(y, y_pred, weights)\n",
            "/usr/local/lib/python3.7/dist-packages/sklearn/_loss/glm_distribution.py:326: RuntimeWarning: divide by zero encountered in log\n",
            "  dev = 2 * (np.log(y_pred / y) + y / y_pred - 1)\n",
            "/usr/local/lib/python3.7/dist-packages/sklearn/_loss/glm_distribution.py:326: RuntimeWarning: divide by zero encountered in true_divide\n",
            "  dev = 2 * (np.log(y_pred / y) + y / y_pred - 1)\n",
            "/usr/local/lib/python3.7/dist-packages/sklearn/_loss/glm_distribution.py:326: RuntimeWarning: invalid value encountered in add\n",
            "  dev = 2 * (np.log(y_pred / y) + y / y_pred - 1)\n",
            "/usr/local/lib/python3.7/dist-packages/sklearn/linear_model/_glm/glm.py:323: ConvergenceWarning: lbfgs failed to converge (status=2):\n",
            "ABNORMAL_TERMINATION_IN_LNSRCH.\n",
            "\n",
            "Increase the number of iterations (max_iter) or scale the data as shown in:\n",
            "    https://scikit-learn.org/stable/modules/preprocessing.html\n",
            "  self.n_iter_ = _check_optimize_result(\"lbfgs\", opt_res)\n",
            "INFO:prophet:Disabling yearly seasonality. Run prophet with yearly_seasonality=True to override this.\n",
            "INFO:prophet:Disabling daily seasonality. Run prophet with daily_seasonality=True to override this.\n",
            "DEBUG:cmdstanpy:input tempfile: /tmp/tmp0ow7qcla/7uk2z1ih.json\n",
            "DEBUG:cmdstanpy:input tempfile: /tmp/tmp0ow7qcla/0bjgdkow.json\n",
            "DEBUG:cmdstanpy:idx 0\n",
            "DEBUG:cmdstanpy:running CmdStan, num_threads: None\n",
            "DEBUG:cmdstanpy:CmdStan args: ['/usr/local/lib/python3.7/dist-packages/prophet/stan_model/prophet_model.bin', 'random', 'seed=32775', 'data', 'file=/tmp/tmp0ow7qcla/7uk2z1ih.json', 'init=/tmp/tmp0ow7qcla/0bjgdkow.json', 'output', 'file=/tmp/tmp8dfislih/prophet_model-20220820142250.csv', 'method=optimize', 'algorithm=lbfgs', 'iter=10000']\n",
            "14:22:50 - cmdstanpy - INFO - Chain [1] start processing\n",
            "INFO:cmdstanpy:Chain [1] start processing\n",
            "14:22:50 - cmdstanpy - INFO - Chain [1] done processing\n",
            "INFO:cmdstanpy:Chain [1] done processing\n"
          ]
        },
        {
          "output_type": "stream",
          "name": "stdout",
          "text": [
            "Model Number: 610 with model FBProphet in generation 5 of 10\n"
          ]
        },
        {
          "output_type": "stream",
          "name": "stderr",
          "text": [
            "INFO:prophet:Disabling yearly seasonality. Run prophet with yearly_seasonality=True to override this.\n",
            "INFO:prophet:Disabling daily seasonality. Run prophet with daily_seasonality=True to override this.\n",
            "DEBUG:cmdstanpy:input tempfile: /tmp/tmp0ow7qcla/_v3g_l59.json\n",
            "DEBUG:cmdstanpy:input tempfile: /tmp/tmp0ow7qcla/958y0fg7.json\n",
            "DEBUG:cmdstanpy:idx 0\n",
            "DEBUG:cmdstanpy:running CmdStan, num_threads: None\n",
            "DEBUG:cmdstanpy:CmdStan args: ['/usr/local/lib/python3.7/dist-packages/prophet/stan_model/prophet_model.bin', 'random', 'seed=64401', 'data', 'file=/tmp/tmp0ow7qcla/_v3g_l59.json', 'init=/tmp/tmp0ow7qcla/958y0fg7.json', 'output', 'file=/tmp/tmp1sbf_7qd/prophet_model-20220820142252.csv', 'method=optimize', 'algorithm=lbfgs', 'iter=10000']\n",
            "14:22:52 - cmdstanpy - INFO - Chain [1] start processing\n",
            "INFO:cmdstanpy:Chain [1] start processing\n",
            "14:22:52 - cmdstanpy - INFO - Chain [1] done processing\n",
            "INFO:cmdstanpy:Chain [1] done processing\n"
          ]
        },
        {
          "output_type": "stream",
          "name": "stdout",
          "text": [
            "Model Number: 611 with model FBProphet in generation 5 of 10\n",
            "Model Number: 612 with model SectionalMotif in generation 5 of 10\n",
            "Model Number: 613 with model NVAR in generation 5 of 10\n",
            "Model Number: 614 with model ConstantNaive in generation 5 of 10\n",
            "Model Number: 615 with model Theta in generation 5 of 10\n",
            "Model Number: 616 with model AverageValueNaive in generation 5 of 10\n"
          ]
        },
        {
          "output_type": "stream",
          "name": "stderr",
          "text": [
            "/usr/local/lib/python3.7/dist-packages/sklearn/_loss/glm_distribution.py:132: RuntimeWarning: divide by zero encountered in true_divide\n",
            "  return -2 * (y - y_pred) / self.unit_variance(y_pred)\n",
            "/usr/local/lib/python3.7/dist-packages/sklearn/linear_model/_glm/glm.py:42: RuntimeWarning: invalid value encountered in multiply\n",
            "  temp = d1 * family.deviance_derivative(y, y_pred, weights)\n",
            "/usr/local/lib/python3.7/dist-packages/sklearn/_loss/glm_distribution.py:323: RuntimeWarning: divide by zero encountered in true_divide\n",
            "  dev = 2 * (xlogy(y, y / y_pred) - y + y_pred)\n"
          ]
        },
        {
          "output_type": "stream",
          "name": "stdout",
          "text": [
            "Model Number: 617 with model SeasonalNaive in generation 5 of 10\n",
            "Model Number: 618 with model NVAR in generation 5 of 10\n",
            "Model Number: 619 with model SeasonalNaive in generation 5 of 10\n",
            "Model Number: 620 with model NVAR in generation 5 of 10\n",
            "Model Number: 621 with model FBProphet in generation 5 of 10\n"
          ]
        },
        {
          "output_type": "stream",
          "name": "stderr",
          "text": [
            "/usr/local/lib/python3.7/dist-packages/sklearn/_loss/glm_distribution.py:132: RuntimeWarning: divide by zero encountered in true_divide\n",
            "  return -2 * (y - y_pred) / self.unit_variance(y_pred)\n",
            "/usr/local/lib/python3.7/dist-packages/sklearn/linear_model/_glm/glm.py:42: RuntimeWarning: invalid value encountered in multiply\n",
            "  temp = d1 * family.deviance_derivative(y, y_pred, weights)\n",
            "/usr/local/lib/python3.7/dist-packages/sklearn/_loss/glm_distribution.py:331: RuntimeWarning: divide by zero encountered in power\n",
            "  + np.power(y_pred, 2 - p) / (2 - p)\n",
            "INFO:prophet:Disabling yearly seasonality. Run prophet with yearly_seasonality=True to override this.\n",
            "INFO:prophet:Disabling daily seasonality. Run prophet with daily_seasonality=True to override this.\n",
            "DEBUG:cmdstanpy:input tempfile: /tmp/tmp0ow7qcla/wwgt5hr6.json\n",
            "DEBUG:cmdstanpy:input tempfile: /tmp/tmp0ow7qcla/s1gbmaky.json\n",
            "DEBUG:cmdstanpy:idx 0\n",
            "DEBUG:cmdstanpy:running CmdStan, num_threads: None\n",
            "DEBUG:cmdstanpy:CmdStan args: ['/usr/local/lib/python3.7/dist-packages/prophet/stan_model/prophet_model.bin', 'random', 'seed=17350', 'data', 'file=/tmp/tmp0ow7qcla/wwgt5hr6.json', 'init=/tmp/tmp0ow7qcla/s1gbmaky.json', 'output', 'file=/tmp/tmpzmwep349/prophet_model-20220820142254.csv', 'method=optimize', 'algorithm=lbfgs', 'iter=10000']\n",
            "14:22:54 - cmdstanpy - INFO - Chain [1] start processing\n",
            "INFO:cmdstanpy:Chain [1] start processing\n",
            "14:22:55 - cmdstanpy - INFO - Chain [1] done processing\n",
            "INFO:cmdstanpy:Chain [1] done processing\n"
          ]
        },
        {
          "output_type": "stream",
          "name": "stdout",
          "text": [
            "Model Number: 622 with model ETS in generation 5 of 10\n",
            "ETS failed on Close with ValueError('operands could not be broadcast together with shapes (12,) (28,) ')\n",
            "Model Number: 623 with model UnobservedComponents in generation 5 of 10\n",
            "Model Number: 624 with model UnobservedComponents in generation 5 of 10\n"
          ]
        },
        {
          "output_type": "stream",
          "name": "stderr",
          "text": [
            "/usr/local/lib/python3.7/dist-packages/sklearn/_loss/glm_distribution.py:132: RuntimeWarning: divide by zero encountered in true_divide\n",
            "  return -2 * (y - y_pred) / self.unit_variance(y_pred)\n",
            "/usr/local/lib/python3.7/dist-packages/sklearn/linear_model/_glm/glm.py:42: RuntimeWarning: invalid value encountered in multiply\n",
            "  temp = d1 * family.deviance_derivative(y, y_pred, weights)\n",
            "/usr/local/lib/python3.7/dist-packages/sklearn/_loss/glm_distribution.py:326: RuntimeWarning: divide by zero encountered in log\n",
            "  dev = 2 * (np.log(y_pred / y) + y / y_pred - 1)\n",
            "/usr/local/lib/python3.7/dist-packages/sklearn/_loss/glm_distribution.py:326: RuntimeWarning: divide by zero encountered in true_divide\n",
            "  dev = 2 * (np.log(y_pred / y) + y / y_pred - 1)\n",
            "/usr/local/lib/python3.7/dist-packages/sklearn/_loss/glm_distribution.py:326: RuntimeWarning: invalid value encountered in add\n",
            "  dev = 2 * (np.log(y_pred / y) + y / y_pred - 1)\n",
            "/usr/local/lib/python3.7/dist-packages/sklearn/linear_model/_glm/glm.py:323: ConvergenceWarning: lbfgs failed to converge (status=2):\n",
            "ABNORMAL_TERMINATION_IN_LNSRCH.\n",
            "\n",
            "Increase the number of iterations (max_iter) or scale the data as shown in:\n",
            "    https://scikit-learn.org/stable/modules/preprocessing.html\n",
            "  self.n_iter_ = _check_optimize_result(\"lbfgs\", opt_res)\n"
          ]
        },
        {
          "output_type": "stream",
          "name": "stdout",
          "text": [
            "Model Number: 625 with model SeasonalNaive in generation 5 of 10\n",
            "Model Number: 626 with model NVAR in generation 5 of 10\n",
            "Model Number: 627 with model UnivariateMotif in generation 5 of 10\n",
            "Model Number: 628 with model LastValueNaive in generation 5 of 10\n",
            "Model Number: 629 with model LastValueNaive in generation 5 of 10\n",
            "Model Number: 630 with model UnobservedComponents in generation 5 of 10\n"
          ]
        },
        {
          "output_type": "stream",
          "name": "stderr",
          "text": [
            "/usr/local/lib/python3.7/dist-packages/sklearn/_loss/glm_distribution.py:132: RuntimeWarning: divide by zero encountered in true_divide\n",
            "  return -2 * (y - y_pred) / self.unit_variance(y_pred)\n",
            "/usr/local/lib/python3.7/dist-packages/sklearn/linear_model/_glm/glm.py:42: RuntimeWarning: invalid value encountered in multiply\n",
            "  temp = d1 * family.deviance_derivative(y, y_pred, weights)\n",
            "/usr/local/lib/python3.7/dist-packages/sklearn/_loss/glm_distribution.py:331: RuntimeWarning: divide by zero encountered in power\n",
            "  + np.power(y_pred, 2 - p) / (2 - p)\n"
          ]
        },
        {
          "output_type": "stream",
          "name": "stdout",
          "text": [
            "Model Number: 631 with model UnivariateMotif in generation 5 of 10\n",
            "Model Number: 632 with model UnobservedComponents in generation 5 of 10\n",
            "Model Number: 633 with model ConstantNaive in generation 5 of 10\n",
            "Template Eval Error: Exception('Transformer Cointegration failed on fit') in model 633: ConstantNaive\n",
            "Model Number: 634 with model MultivariateRegression in generation 5 of 10\n",
            "Template Eval Error: ValueError(\"regression_type='User' but not future_regressor supplied.\") in model 634: MultivariateRegression\n",
            "Model Number: 635 with model NVAR in generation 5 of 10\n",
            "Model Number: 636 with model SectionalMotif in generation 5 of 10\n",
            "Model Number: 637 with model MultivariateMotif in generation 5 of 10\n",
            "Model Number: 638 with model GLS in generation 5 of 10\n"
          ]
        },
        {
          "output_type": "stream",
          "name": "stderr",
          "text": [
            "/usr/local/lib/python3.7/dist-packages/sklearn/_loss/glm_distribution.py:132: RuntimeWarning: divide by zero encountered in true_divide\n",
            "  return -2 * (y - y_pred) / self.unit_variance(y_pred)\n",
            "/usr/local/lib/python3.7/dist-packages/sklearn/linear_model/_glm/glm.py:42: RuntimeWarning: invalid value encountered in multiply\n",
            "  temp = d1 * family.deviance_derivative(y, y_pred, weights)\n",
            "/usr/local/lib/python3.7/dist-packages/sklearn/_loss/glm_distribution.py:323: RuntimeWarning: divide by zero encountered in true_divide\n",
            "  dev = 2 * (xlogy(y, y / y_pred) - y + y_pred)\n",
            "/usr/local/lib/python3.7/dist-packages/sklearn/_loss/glm_distribution.py:132: RuntimeWarning: divide by zero encountered in true_divide\n",
            "  return -2 * (y - y_pred) / self.unit_variance(y_pred)\n",
            "/usr/local/lib/python3.7/dist-packages/sklearn/linear_model/_glm/glm.py:42: RuntimeWarning: invalid value encountered in multiply\n",
            "  temp = d1 * family.deviance_derivative(y, y_pred, weights)\n",
            "/usr/local/lib/python3.7/dist-packages/sklearn/_loss/glm_distribution.py:323: RuntimeWarning: divide by zero encountered in true_divide\n",
            "  dev = 2 * (xlogy(y, y / y_pred) - y + y_pred)\n"
          ]
        },
        {
          "output_type": "stream",
          "name": "stdout",
          "text": [
            "Model Number: 639 with model SectionalMotif in generation 5 of 10\n",
            "Model Number: 640 with model DatepartRegression in generation 5 of 10\n",
            "Template Eval Error: Exception('Transformer BTCD failed on fit') in model 640: DatepartRegression\n",
            "Model Number: 641 with model SectionalMotif in generation 5 of 10\n",
            "Model Number: 642 with model Theta in generation 5 of 10\n",
            "Model Number: 643 with model ETS in generation 5 of 10\n",
            "Model Number: 644 with model ETS in generation 5 of 10\n",
            "Model Number: 645 with model LastValueNaive in generation 5 of 10\n",
            "Model Number: 646 with model Theta in generation 5 of 10\n",
            "Model Number: 647 with model SectionalMotif in generation 5 of 10\n",
            "Template Eval Error: Exception('Transformer Cointegration failed on fit') in model 647: SectionalMotif\n",
            "Model Number: 648 with model SeasonalNaive in generation 5 of 10\n",
            "Model Number: 649 with model Theta in generation 5 of 10\n",
            "Model Number: 650 with model LastValueNaive in generation 5 of 10\n",
            "Model Number: 651 with model WindowRegression in generation 5 of 10\n"
          ]
        },
        {
          "output_type": "stream",
          "name": "stderr",
          "text": [
            "/usr/local/lib/python3.7/dist-packages/sklearn/neural_network/_multilayer_perceptron.py:549: ConvergenceWarning: lbfgs failed to converge (status=1):\n",
            "STOP: TOTAL NO. of ITERATIONS REACHED LIMIT.\n",
            "\n",
            "Increase the number of iterations (max_iter) or scale the data as shown in:\n",
            "    https://scikit-learn.org/stable/modules/preprocessing.html\n",
            "  self.n_iter_ = _check_optimize_result(\"lbfgs\", opt_res, self.max_iter)\n"
          ]
        },
        {
          "output_type": "stream",
          "name": "stdout",
          "text": [
            "Model Number: 652 with model MultivariateRegression in generation 5 of 10\n",
            "Model Number: 653 with model NVAR in generation 5 of 10\n",
            "Model Number: 654 with model UnivariateMotif in generation 5 of 10\n",
            "Model Number: 655 with model SeasonalNaive in generation 5 of 10\n",
            "Model Number: 656 with model ConstantNaive in generation 5 of 10\n",
            "Model Number: 657 with model NVAR in generation 5 of 10\n",
            "Template Eval Error: Exception('Transformer Detrend failed on fit') in model 657: NVAR\n",
            "Model Number: 658 with model UnivariateMotif in generation 5 of 10\n",
            "Model Number: 659 with model FBProphet in generation 5 of 10\n"
          ]
        },
        {
          "output_type": "stream",
          "name": "stderr",
          "text": [
            "INFO:prophet:Disabling yearly seasonality. Run prophet with yearly_seasonality=True to override this.\n",
            "INFO:prophet:Disabling daily seasonality. Run prophet with daily_seasonality=True to override this.\n",
            "DEBUG:cmdstanpy:input tempfile: /tmp/tmp0ow7qcla/ax9en4fk.json\n",
            "DEBUG:cmdstanpy:input tempfile: /tmp/tmp0ow7qcla/rnsz6hgc.json\n",
            "DEBUG:cmdstanpy:idx 0\n",
            "DEBUG:cmdstanpy:running CmdStan, num_threads: None\n",
            "DEBUG:cmdstanpy:CmdStan args: ['/usr/local/lib/python3.7/dist-packages/prophet/stan_model/prophet_model.bin', 'random', 'seed=19782', 'data', 'file=/tmp/tmp0ow7qcla/ax9en4fk.json', 'init=/tmp/tmp0ow7qcla/rnsz6hgc.json', 'output', 'file=/tmp/tmp7w6v0m6d/prophet_model-20220820142301.csv', 'method=optimize', 'algorithm=lbfgs', 'iter=10000']\n",
            "14:23:01 - cmdstanpy - INFO - Chain [1] start processing\n",
            "INFO:cmdstanpy:Chain [1] start processing\n",
            "14:23:01 - cmdstanpy - INFO - Chain [1] done processing\n",
            "INFO:cmdstanpy:Chain [1] done processing\n"
          ]
        },
        {
          "output_type": "stream",
          "name": "stdout",
          "text": [
            "Model Number: 660 with model GLS in generation 5 of 10\n",
            "Model Number: 661 with model UnivariateMotif in generation 5 of 10\n",
            "Model Number: 662 with model ConstantNaive in generation 5 of 10\n",
            "Template Eval Error: Exception('Transformer MaxAbsScaler failed on fit') in model 662: ConstantNaive\n",
            "Model Number: 663 with model Theta in generation 5 of 10\n"
          ]
        },
        {
          "output_type": "stream",
          "name": "stderr",
          "text": [
            "/usr/local/lib/python3.7/dist-packages/sklearn/utils/validation.py:1692: FutureWarning: Feature names only support names that are all strings. Got feature names with dtypes: ['Timestamp', 'str']. An error will be raised in 1.2.\n",
            "  FutureWarning,\n",
            "/usr/local/lib/python3.7/dist-packages/sklearn/preprocessing/_data.py:1187: RuntimeWarning: All-NaN slice encountered\n",
            "  max_abs = np.nanmax(np.abs(X), axis=0)\n",
            "/usr/local/lib/python3.7/dist-packages/sklearn/utils/validation.py:1692: FutureWarning: Feature names only support names that are all strings. Got feature names with dtypes: ['Timestamp', 'str']. An error will be raised in 1.2.\n",
            "  FutureWarning,\n"
          ]
        },
        {
          "output_type": "stream",
          "name": "stdout",
          "text": [
            "Model Number: 664 with model LastValueNaive in generation 5 of 10\n"
          ]
        },
        {
          "output_type": "stream",
          "name": "stderr",
          "text": [
            "INFO:prophet:Disabling yearly seasonality. Run prophet with yearly_seasonality=True to override this.\n",
            "INFO:prophet:Disabling daily seasonality. Run prophet with daily_seasonality=True to override this.\n",
            "DEBUG:cmdstanpy:input tempfile: /tmp/tmp0ow7qcla/wr5y1pfc.json\n",
            "DEBUG:cmdstanpy:input tempfile: /tmp/tmp0ow7qcla/6mvvrmqw.json\n",
            "DEBUG:cmdstanpy:idx 0\n",
            "DEBUG:cmdstanpy:running CmdStan, num_threads: None\n",
            "DEBUG:cmdstanpy:CmdStan args: ['/usr/local/lib/python3.7/dist-packages/prophet/stan_model/prophet_model.bin', 'random', 'seed=92298', 'data', 'file=/tmp/tmp0ow7qcla/wr5y1pfc.json', 'init=/tmp/tmp0ow7qcla/6mvvrmqw.json', 'output', 'file=/tmp/tmpsz2isdlf/prophet_model-20220820142304.csv', 'method=optimize', 'algorithm=lbfgs', 'iter=10000']\n",
            "14:23:04 - cmdstanpy - INFO - Chain [1] start processing\n",
            "INFO:cmdstanpy:Chain [1] start processing\n"
          ]
        },
        {
          "output_type": "stream",
          "name": "stdout",
          "text": [
            "Model Number: 665 with model FBProphet in generation 5 of 10\n"
          ]
        },
        {
          "output_type": "stream",
          "name": "stderr",
          "text": [
            "14:23:04 - cmdstanpy - INFO - Chain [1] done processing\n",
            "INFO:cmdstanpy:Chain [1] done processing\n"
          ]
        },
        {
          "output_type": "stream",
          "name": "stdout",
          "text": [
            "Model Number: 666 with model LastValueNaive in generation 5 of 10\n",
            "Model Number: 667 with model AverageValueNaive in generation 5 of 10\n",
            "Model Number: 668 with model NVAR in generation 5 of 10\n",
            "Model Number: 669 with model UnivariateRegression in generation 5 of 10\n",
            "Model Number: 670 with model UnivariateRegression in generation 5 of 10\n",
            "Model Number: 671 with model UnobservedComponents in generation 5 of 10\n",
            "Model Number: 672 with model UnivariateMotif in generation 5 of 10\n",
            "Model Number: 673 with model NVAR in generation 5 of 10\n",
            "Model Number: 674 with model MultivariateRegression in generation 5 of 10\n"
          ]
        },
        {
          "output_type": "stream",
          "name": "stderr",
          "text": [
            "[Parallel(n_jobs=-2)]: Using backend SequentialBackend with 1 concurrent workers.\n",
            "[Parallel(n_jobs=-2)]: Done 200 out of 200 | elapsed:    0.3s finished\n",
            "[Parallel(n_jobs=1)]: Using backend SequentialBackend with 1 concurrent workers.\n",
            "[Parallel(n_jobs=1)]: Done 200 out of 200 | elapsed:    0.0s finished\n",
            "[Parallel(n_jobs=1)]: Using backend SequentialBackend with 1 concurrent workers.\n",
            "[Parallel(n_jobs=1)]: Done 200 out of 200 | elapsed:    0.0s finished\n",
            "[Parallel(n_jobs=1)]: Using backend SequentialBackend with 1 concurrent workers.\n",
            "[Parallel(n_jobs=1)]: Done 200 out of 200 | elapsed:    0.0s finished\n",
            "[Parallel(n_jobs=1)]: Using backend SequentialBackend with 1 concurrent workers.\n",
            "[Parallel(n_jobs=1)]: Done 200 out of 200 | elapsed:    0.0s finished\n",
            "[Parallel(n_jobs=1)]: Using backend SequentialBackend with 1 concurrent workers.\n",
            "[Parallel(n_jobs=1)]: Done 200 out of 200 | elapsed:    0.0s finished\n",
            "[Parallel(n_jobs=1)]: Using backend SequentialBackend with 1 concurrent workers.\n",
            "[Parallel(n_jobs=1)]: Done 200 out of 200 | elapsed:    0.0s finished\n",
            "[Parallel(n_jobs=1)]: Using backend SequentialBackend with 1 concurrent workers.\n",
            "[Parallel(n_jobs=1)]: Done 200 out of 200 | elapsed:    0.0s finished\n",
            "[Parallel(n_jobs=1)]: Using backend SequentialBackend with 1 concurrent workers.\n",
            "[Parallel(n_jobs=1)]: Done 200 out of 200 | elapsed:    0.0s finished\n",
            "[Parallel(n_jobs=1)]: Using backend SequentialBackend with 1 concurrent workers.\n",
            "[Parallel(n_jobs=1)]: Done 200 out of 200 | elapsed:    0.0s finished\n",
            "[Parallel(n_jobs=1)]: Using backend SequentialBackend with 1 concurrent workers.\n"
          ]
        },
        {
          "output_type": "stream",
          "name": "stdout",
          "text": [
            "Model Number: 675 with model SeasonalNaive in generation 5 of 10\n",
            "Model Number: 676 with model ConstantNaive in generation 5 of 10\n"
          ]
        },
        {
          "output_type": "stream",
          "name": "stderr",
          "text": [
            "[Parallel(n_jobs=1)]: Done 200 out of 200 | elapsed:    0.0s finished\n"
          ]
        },
        {
          "output_type": "stream",
          "name": "stdout",
          "text": [
            "Model Number: 677 with model WindowRegression in generation 5 of 10\n",
            "Model Number: 678 with model ETS in generation 5 of 10\n",
            "Model Number: 679 with model SectionalMotif in generation 5 of 10\n"
          ]
        },
        {
          "output_type": "stream",
          "name": "stderr",
          "text": [
            "/usr/local/lib/python3.7/dist-packages/sklearn/neural_network/_multilayer_perceptron.py:549: ConvergenceWarning: lbfgs failed to converge (status=1):\n",
            "STOP: TOTAL NO. of ITERATIONS REACHED LIMIT.\n",
            "\n",
            "Increase the number of iterations (max_iter) or scale the data as shown in:\n",
            "    https://scikit-learn.org/stable/modules/preprocessing.html\n",
            "  self.n_iter_ = _check_optimize_result(\"lbfgs\", opt_res, self.max_iter)\n"
          ]
        },
        {
          "output_type": "stream",
          "name": "stdout",
          "text": [
            "Model Number: 680 with model ConstantNaive in generation 5 of 10\n",
            "Model Number: 681 with model UnobservedComponents in generation 5 of 10\n",
            "Model Number: 682 with model LastValueNaive in generation 5 of 10\n",
            "Model Number: 683 with model GLM in generation 5 of 10\n",
            "Model Number: 684 with model SeasonalNaive in generation 5 of 10\n",
            "Model Number: 685 with model GLS in generation 5 of 10\n",
            "Model Number: 686 with model AverageValueNaive in generation 5 of 10\n"
          ]
        },
        {
          "output_type": "stream",
          "name": "stderr",
          "text": [
            "INFO:prophet:Disabling yearly seasonality. Run prophet with yearly_seasonality=True to override this.\n",
            "INFO:prophet:Disabling daily seasonality. Run prophet with daily_seasonality=True to override this.\n"
          ]
        },
        {
          "output_type": "stream",
          "name": "stdout",
          "text": [
            "Model Number: 687 with model FBProphet in generation 5 of 10\n"
          ]
        },
        {
          "output_type": "stream",
          "name": "stderr",
          "text": [
            "DEBUG:cmdstanpy:input tempfile: /tmp/tmp0ow7qcla/z9ib9f9y.json\n",
            "DEBUG:cmdstanpy:input tempfile: /tmp/tmp0ow7qcla/crx8i7mx.json\n",
            "DEBUG:cmdstanpy:idx 0\n",
            "DEBUG:cmdstanpy:running CmdStan, num_threads: None\n",
            "DEBUG:cmdstanpy:CmdStan args: ['/usr/local/lib/python3.7/dist-packages/prophet/stan_model/prophet_model.bin', 'random', 'seed=75009', 'data', 'file=/tmp/tmp0ow7qcla/z9ib9f9y.json', 'init=/tmp/tmp0ow7qcla/crx8i7mx.json', 'output', 'file=/tmp/tmpo7wlzz78/prophet_model-20220820142310.csv', 'method=optimize', 'algorithm=lbfgs', 'iter=10000']\n",
            "14:23:10 - cmdstanpy - INFO - Chain [1] start processing\n",
            "INFO:cmdstanpy:Chain [1] start processing\n",
            "14:23:10 - cmdstanpy - INFO - Chain [1] done processing\n",
            "INFO:cmdstanpy:Chain [1] done processing\n",
            "INFO:prophet:Disabling yearly seasonality. Run prophet with yearly_seasonality=True to override this.\n",
            "INFO:prophet:Disabling daily seasonality. Run prophet with daily_seasonality=True to override this.\n"
          ]
        },
        {
          "output_type": "stream",
          "name": "stdout",
          "text": [
            "Model Number: 688 with model FBProphet in generation 5 of 10\n",
            "Model Number: 689 with model NVAR in generation 5 of 10\n",
            "Model Number: 690 with model UnobservedComponents in generation 5 of 10\n",
            "Model Number: 691 with model AverageValueNaive in generation 5 of 10\n"
          ]
        },
        {
          "output_type": "stream",
          "name": "stderr",
          "text": [
            "/usr/local/lib/python3.7/dist-packages/sklearn/_loss/glm_distribution.py:132: RuntimeWarning: divide by zero encountered in true_divide\n",
            "  return -2 * (y - y_pred) / self.unit_variance(y_pred)\n",
            "/usr/local/lib/python3.7/dist-packages/sklearn/linear_model/_glm/glm.py:42: RuntimeWarning: invalid value encountered in multiply\n",
            "  temp = d1 * family.deviance_derivative(y, y_pred, weights)\n",
            "/usr/local/lib/python3.7/dist-packages/sklearn/_loss/glm_distribution.py:331: RuntimeWarning: divide by zero encountered in power\n",
            "  + np.power(y_pred, 2 - p) / (2 - p)\n",
            "/usr/local/lib/python3.7/dist-packages/sklearn/_loss/glm_distribution.py:132: RuntimeWarning: divide by zero encountered in true_divide\n",
            "  return -2 * (y - y_pred) / self.unit_variance(y_pred)\n",
            "/usr/local/lib/python3.7/dist-packages/sklearn/linear_model/_glm/glm.py:42: RuntimeWarning: invalid value encountered in multiply\n",
            "  temp = d1 * family.deviance_derivative(y, y_pred, weights)\n",
            "/usr/local/lib/python3.7/dist-packages/sklearn/_loss/glm_distribution.py:326: RuntimeWarning: divide by zero encountered in log\n",
            "  dev = 2 * (np.log(y_pred / y) + y / y_pred - 1)\n",
            "/usr/local/lib/python3.7/dist-packages/sklearn/_loss/glm_distribution.py:326: RuntimeWarning: divide by zero encountered in true_divide\n",
            "  dev = 2 * (np.log(y_pred / y) + y / y_pred - 1)\n",
            "/usr/local/lib/python3.7/dist-packages/sklearn/_loss/glm_distribution.py:326: RuntimeWarning: invalid value encountered in add\n",
            "  dev = 2 * (np.log(y_pred / y) + y / y_pred - 1)\n",
            "/usr/local/lib/python3.7/dist-packages/sklearn/linear_model/_glm/glm.py:323: ConvergenceWarning: lbfgs failed to converge (status=2):\n",
            "ABNORMAL_TERMINATION_IN_LNSRCH.\n",
            "\n",
            "Increase the number of iterations (max_iter) or scale the data as shown in:\n",
            "    https://scikit-learn.org/stable/modules/preprocessing.html\n",
            "  self.n_iter_ = _check_optimize_result(\"lbfgs\", opt_res)\n"
          ]
        },
        {
          "output_type": "stream",
          "name": "stdout",
          "text": [
            "Model Number: 692 with model SectionalMotif in generation 5 of 10\n",
            "Template Eval Error: Exception('Transformer Cointegration failed on fit') in model 692: SectionalMotif\n",
            "Model Number: 693 with model UnivariateRegression in generation 5 of 10\n",
            "Model Number: 694 with model NVAR in generation 5 of 10\n",
            "SinTrend failed with ValueError('array must not contain infs or NaNs') for 2022-02-01 00:00:00 with 0\n",
            "SinTrend failed with ValueError('array must not contain infs or NaNs') for 2022-02-02 00:00:00 with 0\n",
            "SinTrend failed with ValueError('array must not contain infs or NaNs') for 2022-02-03 00:00:00 with 0\n",
            "SinTrend failed with ValueError('array must not contain infs or NaNs') for 2022-02-04 00:00:00 with 0\n",
            "SinTrend failed with ValueError('array must not contain infs or NaNs') for 2022-02-05 00:00:00 with 0\n",
            "SinTrend failed with ValueError('array must not contain infs or NaNs') for 2022-02-06 00:00:00 with 0\n",
            "SinTrend failed with ValueError('array must not contain infs or NaNs') for 2022-02-07 00:00:00 with 0\n",
            "SinTrend failed with ValueError('array must not contain infs or NaNs') for 2022-02-08 00:00:00 with 0\n",
            "SinTrend failed with ValueError('array must not contain infs or NaNs') for 2022-02-09 00:00:00 with 0\n",
            "SinTrend failed with ValueError('array must not contain infs or NaNs') for 2022-02-10 00:00:00 with 0\n",
            "SinTrend failed with ValueError('array must not contain infs or NaNs') for 2022-02-11 00:00:00 with 0\n",
            "SinTrend failed with ValueError('array must not contain infs or NaNs') for 2022-02-12 00:00:00 with 0\n",
            "SinTrend failed with ValueError('array must not contain infs or NaNs') for 2022-02-13 00:00:00 with 0\n",
            "SinTrend failed with ValueError('array must not contain infs or NaNs') for 2022-02-14 00:00:00 with 0\n",
            "SinTrend failed with ValueError('array must not contain infs or NaNs') for 2022-02-15 00:00:00 with 0\n",
            "SinTrend failed with ValueError('array must not contain infs or NaNs') for 2022-02-16 00:00:00 with 0\n",
            "SinTrend failed with ValueError('array must not contain infs or NaNs') for 2022-02-17 00:00:00 with 0\n",
            "SinTrend failed with ValueError('array must not contain infs or NaNs') for 2022-02-18 00:00:00 with 0\n",
            "SinTrend failed with ValueError('array must not contain infs or NaNs') for 2022-02-19 00:00:00 with 0\n",
            "SinTrend failed with ValueError('array must not contain infs or NaNs') for 2022-02-20 00:00:00 with 0\n",
            "SinTrend failed with ValueError('array must not contain infs or NaNs') for 2022-02-21 00:00:00 with 0\n",
            "SinTrend failed with ValueError('array must not contain infs or NaNs') for 2022-02-22 00:00:00 with 0\n",
            "SinTrend failed with ValueError('array must not contain infs or NaNs') for 2022-02-23 00:00:00 with 0\n",
            "SinTrend failed with ValueError('array must not contain infs or NaNs') for 2022-02-24 00:00:00 with 0\n",
            "SinTrend failed with ValueError('array must not contain infs or NaNs') for 2022-02-25 00:00:00 with 0\n",
            "SinTrend failed with ValueError('array must not contain infs or NaNs') for 2022-02-26 00:00:00 with 0\n",
            "SinTrend failed with ValueError('array must not contain infs or NaNs') for 2022-02-27 00:00:00 with 0\n",
            "SinTrend failed with ValueError('array must not contain infs or NaNs') for 2022-02-28 00:00:00 with 0\n",
            "SinTrend failed with ValueError('array must not contain infs or NaNs') for 2022-03-01 00:00:00 with 0\n",
            "SinTrend failed with ValueError('array must not contain infs or NaNs') for 2022-03-02 00:00:00 with 0\n",
            "SinTrend failed with ValueError('array must not contain infs or NaNs') for 2022-03-03 00:00:00 with 0\n",
            "SinTrend failed with ValueError('array must not contain infs or NaNs') for 2022-03-04 00:00:00 with 0\n",
            "SinTrend failed with ValueError('array must not contain infs or NaNs') for 2022-03-05 00:00:00 with 0\n",
            "SinTrend failed with ValueError('array must not contain infs or NaNs') for 2022-03-06 00:00:00 with 0\n",
            "SinTrend failed with ValueError('array must not contain infs or NaNs') for 2022-03-07 00:00:00 with 0\n",
            "SinTrend failed with ValueError('array must not contain infs or NaNs') for 2022-03-08 00:00:00 with 0\n",
            "SinTrend failed with ValueError('array must not contain infs or NaNs') for 2022-03-09 00:00:00 with 0\n",
            "SinTrend failed with ValueError('array must not contain infs or NaNs') for 2022-03-10 00:00:00 with 0\n",
            "SinTrend failed with ValueError('array must not contain infs or NaNs') for 2022-03-11 00:00:00 with 0\n",
            "SinTrend failed with ValueError('array must not contain infs or NaNs') for 2022-03-12 00:00:00 with 0\n",
            "SinTrend failed with ValueError('array must not contain infs or NaNs') for 2022-03-13 00:00:00 with 0\n",
            "SinTrend failed with ValueError('array must not contain infs or NaNs') for 2022-03-14 00:00:00 with 0\n",
            "SinTrend failed with ValueError('array must not contain infs or NaNs') for 2022-03-15 00:00:00 with 0\n",
            "SinTrend failed with ValueError('array must not contain infs or NaNs') for 2022-03-16 00:00:00 with 0\n",
            "SinTrend failed with ValueError('array must not contain infs or NaNs') for 2022-03-17 00:00:00 with 0\n",
            "SinTrend failed with ValueError('array must not contain infs or NaNs') for 2022-03-18 00:00:00 with 0\n",
            "SinTrend failed with ValueError('array must not contain infs or NaNs') for 2022-03-19 00:00:00 with 0\n",
            "SinTrend failed with ValueError('array must not contain infs or NaNs') for 2022-03-20 00:00:00 with 0\n",
            "SinTrend failed with ValueError('array must not contain infs or NaNs') for 2022-03-21 00:00:00 with 0\n",
            "SinTrend failed with ValueError('array must not contain infs or NaNs') for 2022-03-22 00:00:00 with 0\n",
            "SinTrend failed with ValueError('array must not contain infs or NaNs') for 2022-03-23 00:00:00 with 0\n",
            "SinTrend failed with ValueError('array must not contain infs or NaNs') for 2022-03-24 00:00:00 with 0\n",
            "SinTrend failed with ValueError('array must not contain infs or NaNs') for 2022-03-25 00:00:00 with 0\n",
            "SinTrend failed with ValueError('array must not contain infs or NaNs') for 2022-03-26 00:00:00 with 0\n",
            "SinTrend failed with ValueError('array must not contain infs or NaNs') for 2022-03-27 00:00:00 with 0\n",
            "SinTrend failed with ValueError('array must not contain infs or NaNs') for 2022-03-28 00:00:00 with 0\n",
            "SinTrend failed with ValueError('array must not contain infs or NaNs') for 2022-03-29 00:00:00 with 0\n",
            "SinTrend failed with ValueError('array must not contain infs or NaNs') for 2022-03-30 00:00:00 with 0\n",
            "SinTrend failed with ValueError('array must not contain infs or NaNs') for 2022-03-31 00:00:00 with 0\n",
            "SinTrend failed with ValueError('array must not contain infs or NaNs') for 2022-04-01 00:00:00 with 0\n",
            "SinTrend failed with ValueError('array must not contain infs or NaNs') for 2022-04-02 00:00:00 with 0\n",
            "SinTrend failed with ValueError('array must not contain infs or NaNs') for 2022-04-03 00:00:00 with 0\n",
            "SinTrend failed with ValueError('array must not contain infs or NaNs') for 2022-04-04 00:00:00 with 0\n",
            "SinTrend failed with ValueError('array must not contain infs or NaNs') for 2022-04-05 00:00:00 with 0\n",
            "SinTrend failed with ValueError('array must not contain infs or NaNs') for 2022-04-06 00:00:00 with 0\n",
            "SinTrend failed with ValueError('array must not contain infs or NaNs') for 2022-04-07 00:00:00 with 0\n",
            "SinTrend failed with ValueError('array must not contain infs or NaNs') for 2022-04-08 00:00:00 with 0\n",
            "SinTrend failed with ValueError('array must not contain infs or NaNs') for 2022-04-09 00:00:00 with 0\n",
            "SinTrend failed with ValueError('array must not contain infs or NaNs') for 2022-04-10 00:00:00 with 0\n",
            "SinTrend failed with ValueError('array must not contain infs or NaNs') for 2022-04-11 00:00:00 with 0\n",
            "SinTrend failed with ValueError('array must not contain infs or NaNs') for 2022-04-12 00:00:00 with 0\n",
            "SinTrend failed with ValueError('array must not contain infs or NaNs') for 2022-04-13 00:00:00 with 0\n",
            "SinTrend failed with ValueError('array must not contain infs or NaNs') for 2022-04-14 00:00:00 with 0\n",
            "SinTrend failed with ValueError('array must not contain infs or NaNs') for 2022-04-15 00:00:00 with 0\n",
            "SinTrend failed with ValueError('array must not contain infs or NaNs') for 2022-04-16 00:00:00 with 0\n",
            "SinTrend failed with ValueError('array must not contain infs or NaNs') for 2022-04-17 00:00:00 with 0\n",
            "SinTrend failed with ValueError('array must not contain infs or NaNs') for 2022-04-18 00:00:00 with 0\n",
            "SinTrend failed with ValueError('array must not contain infs or NaNs') for 2022-04-19 00:00:00 with 0\n",
            "SinTrend failed with ValueError('array must not contain infs or NaNs') for 2022-04-20 00:00:00 with 0\n",
            "SinTrend failed with ValueError('array must not contain infs or NaNs') for 2022-04-21 00:00:00 with 0\n",
            "SinTrend failed with ValueError('array must not contain infs or NaNs') for 2022-04-22 00:00:00 with 0\n",
            "SinTrend failed with ValueError('array must not contain infs or NaNs') for 2022-04-23 00:00:00 with 0\n",
            "SinTrend failed with ValueError('array must not contain infs or NaNs') for 2022-04-24 00:00:00 with 0\n",
            "SinTrend failed with ValueError('array must not contain infs or NaNs') for 2022-04-25 00:00:00 with 0\n",
            "SinTrend failed with ValueError('array must not contain infs or NaNs') for 2022-04-26 00:00:00 with 0\n",
            "SinTrend failed with ValueError('array must not contain infs or NaNs') for 2022-04-27 00:00:00 with 0\n",
            "SinTrend failed with ValueError('array must not contain infs or NaNs') for 2022-04-28 00:00:00 with 0\n",
            "SinTrend failed with ValueError('array must not contain infs or NaNs') for 2022-04-29 00:00:00 with 0\n",
            "SinTrend failed with ValueError('array must not contain infs or NaNs') for 2022-04-30 00:00:00 with 0\n",
            "SinTrend failed with ValueError('array must not contain infs or NaNs') for 2022-05-01 00:00:00 with 0\n",
            "SinTrend failed with ValueError('array must not contain infs or NaNs') for 2022-05-02 00:00:00 with 0\n",
            "SinTrend failed with ValueError('array must not contain infs or NaNs') for 2022-05-03 00:00:00 with 0\n",
            "SinTrend failed with ValueError('array must not contain infs or NaNs') for 2022-05-04 00:00:00 with 0\n",
            "SinTrend failed with ValueError('array must not contain infs or NaNs') for 2022-05-05 00:00:00 with 0\n",
            "SinTrend failed with ValueError('array must not contain infs or NaNs') for 2022-05-06 00:00:00 with 0\n",
            "SinTrend failed with ValueError('array must not contain infs or NaNs') for 2022-05-07 00:00:00 with 0\n",
            "SinTrend failed with ValueError('array must not contain infs or NaNs') for 2022-05-08 00:00:00 with 0\n",
            "SinTrend failed with ValueError('array must not contain infs or NaNs') for 2022-05-09 00:00:00 with 0\n",
            "SinTrend failed with ValueError('array must not contain infs or NaNs') for 2022-05-10 00:00:00 with 0\n",
            "SinTrend failed with ValueError('array must not contain infs or NaNs') for 2022-05-11 00:00:00 with 0\n",
            "SinTrend failed with ValueError('array must not contain infs or NaNs') for 2022-05-12 00:00:00 with 0\n",
            "SinTrend failed with ValueError('array must not contain infs or NaNs') for 2022-05-13 00:00:00 with 0\n",
            "SinTrend failed with ValueError('array must not contain infs or NaNs') for 2022-05-14 00:00:00 with 0\n",
            "SinTrend failed with ValueError('array must not contain infs or NaNs') for 2022-05-15 00:00:00 with 0\n",
            "SinTrend failed with ValueError('array must not contain infs or NaNs') for 2022-05-16 00:00:00 with 0\n",
            "SinTrend failed with ValueError('array must not contain infs or NaNs') for 2022-05-17 00:00:00 with 0\n",
            "SinTrend failed with ValueError('array must not contain infs or NaNs') for 2022-05-18 00:00:00 with 0\n",
            "SinTrend failed with ValueError('array must not contain infs or NaNs') for 2022-05-19 00:00:00 with 0\n",
            "SinTrend failed with ValueError('array must not contain infs or NaNs') for 2022-05-20 00:00:00 with 0\n",
            "SinTrend failed with ValueError('array must not contain infs or NaNs') for 2022-05-21 00:00:00 with 0\n",
            "SinTrend failed with ValueError('array must not contain infs or NaNs') for 2022-05-22 00:00:00 with 0\n",
            "SinTrend failed with ValueError('array must not contain infs or NaNs') for 2022-05-23 00:00:00 with 0\n",
            "SinTrend failed with ValueError('array must not contain infs or NaNs') for 2022-05-24 00:00:00 with 0\n",
            "SinTrend failed with ValueError('array must not contain infs or NaNs') for 2022-05-25 00:00:00 with 0\n",
            "SinTrend failed with ValueError('array must not contain infs or NaNs') for 2022-05-26 00:00:00 with 0\n",
            "SinTrend failed with ValueError('array must not contain infs or NaNs') for 2022-05-27 00:00:00 with 0\n",
            "SinTrend failed with ValueError('array must not contain infs or NaNs') for 2022-05-28 00:00:00 with 0\n",
            "SinTrend failed with ValueError('array must not contain infs or NaNs') for 2022-05-29 00:00:00 with 0\n",
            "SinTrend failed with ValueError('array must not contain infs or NaNs') for 2022-05-30 00:00:00 with 0\n",
            "SinTrend failed with ValueError('array must not contain infs or NaNs') for 2022-05-31 00:00:00 with 0\n",
            "SinTrend failed with ValueError('array must not contain infs or NaNs') for 2022-06-01 00:00:00 with 0\n",
            "SinTrend failed with ValueError('array must not contain infs or NaNs') for 2022-06-02 00:00:00 with 0\n",
            "SinTrend failed with ValueError('array must not contain infs or NaNs') for 2022-06-03 00:00:00 with 0\n",
            "SinTrend failed with ValueError('array must not contain infs or NaNs') for 2022-06-04 00:00:00 with 0\n",
            "SinTrend failed with ValueError('array must not contain infs or NaNs') for 2022-06-05 00:00:00 with 0\n",
            "SinTrend failed with ValueError('array must not contain infs or NaNs') for 2022-06-06 00:00:00 with 0\n",
            "SinTrend failed with ValueError('array must not contain infs or NaNs') for 2022-06-07 00:00:00 with 0\n",
            "SinTrend failed with ValueError('array must not contain infs or NaNs') for 2022-06-08 00:00:00 with 0\n",
            "SinTrend failed with ValueError('array must not contain infs or NaNs') for 2022-06-09 00:00:00 with 0\n",
            "SinTrend failed with ValueError('array must not contain infs or NaNs') for 2022-06-10 00:00:00 with 0\n",
            "SinTrend failed with ValueError('array must not contain infs or NaNs') for 2022-06-11 00:00:00 with 0\n",
            "SinTrend failed with ValueError('array must not contain infs or NaNs') for 2022-06-12 00:00:00 with 0\n",
            "SinTrend failed with ValueError('array must not contain infs or NaNs') for 2022-06-13 00:00:00 with 0\n",
            "SinTrend failed with ValueError('array must not contain infs or NaNs') for 2022-06-14 00:00:00 with 0\n",
            "SinTrend failed with ValueError('array must not contain infs or NaNs') for 2022-06-15 00:00:00 with 0\n",
            "SinTrend failed with ValueError('array must not contain infs or NaNs') for 2022-06-16 00:00:00 with 0\n",
            "SinTrend failed with ValueError('array must not contain infs or NaNs') for 2022-06-17 00:00:00 with 0\n",
            "SinTrend failed with ValueError('array must not contain infs or NaNs') for 2022-06-18 00:00:00 with 0\n",
            "SinTrend failed with ValueError('array must not contain infs or NaNs') for 2022-06-19 00:00:00 with 0\n",
            "SinTrend failed with ValueError('array must not contain infs or NaNs') for 2022-06-20 00:00:00 with 0\n",
            "SinTrend failed with ValueError('array must not contain infs or NaNs') for 2022-06-21 00:00:00 with 0\n",
            "SinTrend failed with ValueError('array must not contain infs or NaNs') for 2022-06-22 00:00:00 with 0\n",
            "SinTrend failed with ValueError('array must not contain infs or NaNs') for 2022-06-23 00:00:00 with 0\n",
            "SinTrend failed with ValueError('array must not contain infs or NaNs') for 2022-06-24 00:00:00 with 0\n",
            "SinTrend failed with ValueError('array must not contain infs or NaNs') for 2022-06-25 00:00:00 with 0\n",
            "SinTrend failed with ValueError('array must not contain infs or NaNs') for 2022-06-26 00:00:00 with 0\n",
            "SinTrend failed with ValueError('array must not contain infs or NaNs') for 2022-06-27 00:00:00 with 0\n",
            "SinTrend failed with ValueError('array must not contain infs or NaNs') for 2022-06-28 00:00:00 with 0\n",
            "SinTrend failed with ValueError('array must not contain infs or NaNs') for 2022-06-29 00:00:00 with 0\n",
            "SinTrend failed with ValueError('array must not contain infs or NaNs') for 2022-06-30 00:00:00 with 0\n",
            "SinTrend failed with ValueError('array must not contain infs or NaNs') for 2022-07-01 00:00:00 with 0\n",
            "SinTrend failed with ValueError('array must not contain infs or NaNs') for 2022-07-02 00:00:00 with 0\n",
            "SinTrend failed with ValueError('array must not contain infs or NaNs') for 2022-07-03 00:00:00 with 0\n",
            "SinTrend failed with ValueError('array must not contain infs or NaNs') for 2022-07-04 00:00:00 with 0\n",
            "SinTrend failed with ValueError('array must not contain infs or NaNs') for 2022-07-05 00:00:00 with 0\n",
            "SinTrend failed with ValueError('array must not contain infs or NaNs') for 2022-07-06 00:00:00 with 0\n",
            "SinTrend failed with ValueError('array must not contain infs or NaNs') for 2022-07-07 00:00:00 with 0\n",
            "SinTrend failed with ValueError('array must not contain infs or NaNs') for 2022-07-08 00:00:00 with 0\n",
            "SinTrend failed with ValueError('array must not contain infs or NaNs') for 2022-07-09 00:00:00 with 0\n",
            "SinTrend failed with ValueError('array must not contain infs or NaNs') for 2022-07-10 00:00:00 with 0\n",
            "SinTrend failed with ValueError('array must not contain infs or NaNs') for 2022-07-11 00:00:00 with 0\n",
            "SinTrend failed with ValueError('array must not contain infs or NaNs') for 2022-07-12 00:00:00 with 0\n",
            "SinTrend failed with ValueError('array must not contain infs or NaNs') for 2022-07-13 00:00:00 with 0\n",
            "SinTrend failed with ValueError('array must not contain infs or NaNs') for 2022-07-14 00:00:00 with 0\n",
            "SinTrend failed with ValueError('array must not contain infs or NaNs') for 2022-07-15 00:00:00 with 0\n",
            "SinTrend failed with ValueError('array must not contain infs or NaNs') for 2022-07-16 00:00:00 with 0\n",
            "SinTrend failed with ValueError('array must not contain infs or NaNs') for 2022-07-17 00:00:00 with 0\n",
            "SinTrend failed with ValueError('array must not contain infs or NaNs') for 2022-07-18 00:00:00 with 0\n",
            "SinTrend failed with ValueError('array must not contain infs or NaNs') for 2022-07-19 00:00:00 with 0\n",
            "SinTrend failed with ValueError('array must not contain infs or NaNs') for 2022-07-20 00:00:00 with 0\n",
            "SinTrend failed with ValueError('array must not contain infs or NaNs') for 2022-07-21 00:00:00 with 0\n",
            "SinTrend failed with ValueError('array must not contain infs or NaNs') for 2022-07-22 00:00:00 with 0\n",
            "SinTrend failed with ValueError('array must not contain infs or NaNs') for 2022-07-23 00:00:00 with 0\n",
            "SinTrend failed with ValueError('array must not contain infs or NaNs') for 2022-07-24 00:00:00 with 0\n",
            "SinTrend failed with ValueError('array must not contain infs or NaNs') for 2022-07-25 00:00:00 with 0\n",
            "SinTrend failed with ValueError('array must not contain infs or NaNs') for 2022-07-26 00:00:00 with 0\n",
            "SinTrend failed with ValueError('array must not contain infs or NaNs') for 2022-07-27 00:00:00 with 0\n",
            "SinTrend failed with ValueError('array must not contain infs or NaNs') for 2022-07-28 00:00:00 with 0\n",
            "SinTrend failed with ValueError('array must not contain infs or NaNs') for 2022-07-29 00:00:00 with 0\n",
            "SinTrend failed with ValueError('array must not contain infs or NaNs') for 2022-07-30 00:00:00 with 0\n",
            "SinTrend failed with ValueError('array must not contain infs or NaNs') for 2022-07-31 00:00:00 with 0\n",
            "SinTrend failed with ValueError('array must not contain infs or NaNs') for 2022-08-01 00:00:00 with 0\n",
            "SinTrend failed with ValueError('array must not contain infs or NaNs') for 2022-08-02 00:00:00 with 0\n",
            "SinTrend failed with ValueError('array must not contain infs or NaNs') for 2022-08-03 00:00:00 with 0\n",
            "SinTrend failed with ValueError('array must not contain infs or NaNs') for 2022-08-04 00:00:00 with 0\n",
            "SinTrend failed with ValueError('array must not contain infs or NaNs') for 2022-08-05 00:00:00 with 0\n",
            "SinTrend failed with ValueError('array must not contain infs or NaNs') for 2022-08-06 00:00:00 with 0\n",
            "SinTrend failed with ValueError('array must not contain infs or NaNs') for 2022-08-07 00:00:00 with 0\n",
            "SinTrend failed with ValueError('array must not contain infs or NaNs') for 2022-08-08 00:00:00 with 0\n",
            "SinTrend failed with ValueError('array must not contain infs or NaNs') for 2022-08-09 00:00:00 with 0\n",
            "SinTrend failed with ValueError('array must not contain infs or NaNs') for Close with 0\n",
            "Template Eval Error: Exception('Transformer SinTrend failed on fit') in model 694: NVAR\n",
            "Model Number: 695 with model WindowRegression in generation 5 of 10\n",
            "Model Number: 696 with model MultivariateMotif in generation 5 of 10\n"
          ]
        },
        {
          "output_type": "stream",
          "name": "stderr",
          "text": [
            "/usr/local/lib/python3.7/dist-packages/sklearn/neural_network/_multilayer_perceptron.py:549: ConvergenceWarning: lbfgs failed to converge (status=1):\n",
            "STOP: TOTAL NO. of ITERATIONS REACHED LIMIT.\n",
            "\n",
            "Increase the number of iterations (max_iter) or scale the data as shown in:\n",
            "    https://scikit-learn.org/stable/modules/preprocessing.html\n",
            "  self.n_iter_ = _check_optimize_result(\"lbfgs\", opt_res, self.max_iter)\n"
          ]
        },
        {
          "output_type": "stream",
          "name": "stdout",
          "text": [
            "Model Number: 697 with model UnobservedComponents in generation 5 of 10\n",
            "Template Eval Error: ValueError(\"regression_type='User' but no future_regressor supplied\") in model 697: UnobservedComponents\n",
            "New Generation: 6 of 10\n",
            "Model Number: 698 with model LastValueNaive in generation 6 of 10\n",
            "Model Number: 699 with model UnobservedComponents in generation 6 of 10\n",
            "Model Number: 700 with model UnivariateRegression in generation 6 of 10\n",
            "Model Number: 701 with model UnivariateMotif in generation 6 of 10\n",
            "Model Number: 702 with model SectionalMotif in generation 6 of 10\n"
          ]
        },
        {
          "output_type": "stream",
          "name": "stderr",
          "text": [
            "/usr/local/lib/python3.7/dist-packages/sklearn/utils/validation.py:1692: FutureWarning: Feature names only support names that are all strings. Got feature names with dtypes: ['Timestamp', 'str']. An error will be raised in 1.2.\n",
            "  FutureWarning,\n",
            "/usr/local/lib/python3.7/dist-packages/sklearn/preprocessing/_data.py:3253: RuntimeWarning: Degrees of freedom <= 0 for slice\n",
            "  loglike = -n_samples / 2 * np.log(x_trans.var())\n"
          ]
        },
        {
          "output_type": "stream",
          "name": "stdout",
          "text": [
            "Template Eval Error: Exception('Transformer PowerTransformer failed on fit') in model 702: SectionalMotif\n",
            "Model Number: 703 with model SectionalMotif in generation 6 of 10\n",
            "Model Number: 704 with model SectionalMotif in generation 6 of 10\n"
          ]
        },
        {
          "output_type": "stream",
          "name": "stderr",
          "text": [
            "/usr/local/lib/python3.7/dist-packages/sklearn/utils/extmath.py:985: RuntimeWarning: invalid value encountered in true_divide\n",
            "  updated_mean = (last_sum + new_sum) / updated_sample_count\n",
            "/usr/local/lib/python3.7/dist-packages/sklearn/utils/extmath.py:990: RuntimeWarning: invalid value encountered in true_divide\n",
            "  T = new_sum / new_sample_count\n",
            "/usr/local/lib/python3.7/dist-packages/sklearn/utils/extmath.py:1020: RuntimeWarning: invalid value encountered in true_divide\n",
            "  new_unnormalized_variance -= correction ** 2 / new_sample_count\n"
          ]
        },
        {
          "output_type": "stream",
          "name": "stdout",
          "text": [
            "Model Number: 705 with model Theta in generation 6 of 10\n",
            "Model Number: 706 with model DatepartRegression in generation 6 of 10\n",
            "Model Number: 707 with model AverageValueNaive in generation 6 of 10\n",
            "Template Eval Error: Exception('Transformer BTCD failed on fit') in model 707: AverageValueNaive\n",
            "Model Number: 708 with model UnobservedComponents in generation 6 of 10\n"
          ]
        },
        {
          "output_type": "stream",
          "name": "stderr",
          "text": [
            "/usr/local/lib/python3.7/dist-packages/sklearn/svm/_base.py:1208: ConvergenceWarning: Liblinear failed to converge, increase the number of iterations.\n",
            "  ConvergenceWarning,\n"
          ]
        },
        {
          "output_type": "stream",
          "name": "stdout",
          "text": [
            "Model Number: 709 with model MultivariateMotif in generation 6 of 10\n",
            "Model Number: 710 with model WindowRegression in generation 6 of 10\n",
            "Template Eval Error: ValueError(\"regression_type='User' but no future_regressor passed\") in model 710: WindowRegression\n",
            "Model Number: 711 with model AverageValueNaive in generation 6 of 10\n",
            "Model Number: 712 with model UnivariateMotif in generation 6 of 10\n",
            "Model Number: 713 with model SectionalMotif in generation 6 of 10\n"
          ]
        },
        {
          "output_type": "stream",
          "name": "stderr",
          "text": [
            "/usr/local/lib/python3.7/dist-packages/sklearn/_loss/glm_distribution.py:132: RuntimeWarning: divide by zero encountered in true_divide\n",
            "  return -2 * (y - y_pred) / self.unit_variance(y_pred)\n",
            "/usr/local/lib/python3.7/dist-packages/sklearn/linear_model/_glm/glm.py:42: RuntimeWarning: invalid value encountered in multiply\n",
            "  temp = d1 * family.deviance_derivative(y, y_pred, weights)\n",
            "/usr/local/lib/python3.7/dist-packages/sklearn/_loss/glm_distribution.py:326: RuntimeWarning: divide by zero encountered in log\n",
            "  dev = 2 * (np.log(y_pred / y) + y / y_pred - 1)\n",
            "/usr/local/lib/python3.7/dist-packages/sklearn/_loss/glm_distribution.py:326: RuntimeWarning: divide by zero encountered in true_divide\n",
            "  dev = 2 * (np.log(y_pred / y) + y / y_pred - 1)\n",
            "/usr/local/lib/python3.7/dist-packages/sklearn/_loss/glm_distribution.py:326: RuntimeWarning: invalid value encountered in add\n",
            "  dev = 2 * (np.log(y_pred / y) + y / y_pred - 1)\n",
            "/usr/local/lib/python3.7/dist-packages/sklearn/linear_model/_glm/glm.py:323: ConvergenceWarning: lbfgs failed to converge (status=2):\n",
            "ABNORMAL_TERMINATION_IN_LNSRCH.\n",
            "\n",
            "Increase the number of iterations (max_iter) or scale the data as shown in:\n",
            "    https://scikit-learn.org/stable/modules/preprocessing.html\n",
            "  self.n_iter_ = _check_optimize_result(\"lbfgs\", opt_res)\n"
          ]
        },
        {
          "output_type": "stream",
          "name": "stdout",
          "text": [
            "Model Number: 714 with model FBProphet in generation 6 of 10\n",
            "Template Eval Error: Exception('Transformer Cointegration failed on fit') in model 714: FBProphet\n",
            "Model Number: 715 with model NVAR in generation 6 of 10\n",
            "Model Number: 716 with model GLS in generation 6 of 10\n",
            "Model Number: 717 with model NVAR in generation 6 of 10\n",
            "Model Number: 718 with model Theta in generation 6 of 10\n"
          ]
        },
        {
          "output_type": "stream",
          "name": "stderr",
          "text": [
            "/usr/local/lib/python3.7/dist-packages/sklearn/_loss/glm_distribution.py:132: RuntimeWarning: divide by zero encountered in true_divide\n",
            "  return -2 * (y - y_pred) / self.unit_variance(y_pred)\n",
            "/usr/local/lib/python3.7/dist-packages/sklearn/linear_model/_glm/glm.py:42: RuntimeWarning: invalid value encountered in multiply\n",
            "  temp = d1 * family.deviance_derivative(y, y_pred, weights)\n",
            "/usr/local/lib/python3.7/dist-packages/sklearn/_loss/glm_distribution.py:331: RuntimeWarning: divide by zero encountered in power\n",
            "  + np.power(y_pred, 2 - p) / (2 - p)\n",
            "/usr/local/lib/python3.7/dist-packages/sklearn/_loss/glm_distribution.py:132: RuntimeWarning: divide by zero encountered in true_divide\n",
            "  return -2 * (y - y_pred) / self.unit_variance(y_pred)\n",
            "/usr/local/lib/python3.7/dist-packages/sklearn/linear_model/_glm/glm.py:42: RuntimeWarning: invalid value encountered in multiply\n",
            "  temp = d1 * family.deviance_derivative(y, y_pred, weights)\n",
            "/usr/local/lib/python3.7/dist-packages/sklearn/_loss/glm_distribution.py:323: RuntimeWarning: divide by zero encountered in true_divide\n",
            "  dev = 2 * (xlogy(y, y / y_pred) - y + y_pred)\n"
          ]
        },
        {
          "output_type": "stream",
          "name": "stdout",
          "text": [
            "Model Number: 719 with model SeasonalNaive in generation 6 of 10\n"
          ]
        },
        {
          "output_type": "stream",
          "name": "stderr",
          "text": [
            "INFO:prophet:Disabling yearly seasonality. Run prophet with yearly_seasonality=True to override this.\n",
            "INFO:prophet:Disabling daily seasonality. Run prophet with daily_seasonality=True to override this.\n",
            "DEBUG:cmdstanpy:input tempfile: /tmp/tmp0ow7qcla/552dx33j.json\n",
            "DEBUG:cmdstanpy:input tempfile: /tmp/tmp0ow7qcla/wmz2k91w.json\n"
          ]
        },
        {
          "output_type": "stream",
          "name": "stdout",
          "text": [
            "Model Number: 720 with model FBProphet in generation 6 of 10\n"
          ]
        },
        {
          "output_type": "stream",
          "name": "stderr",
          "text": [
            "DEBUG:cmdstanpy:idx 0\n",
            "DEBUG:cmdstanpy:running CmdStan, num_threads: None\n",
            "DEBUG:cmdstanpy:CmdStan args: ['/usr/local/lib/python3.7/dist-packages/prophet/stan_model/prophet_model.bin', 'random', 'seed=16871', 'data', 'file=/tmp/tmp0ow7qcla/552dx33j.json', 'init=/tmp/tmp0ow7qcla/wmz2k91w.json', 'output', 'file=/tmp/tmpao0lpexa/prophet_model-20220820142318.csv', 'method=optimize', 'algorithm=lbfgs', 'iter=10000']\n",
            "14:23:18 - cmdstanpy - INFO - Chain [1] start processing\n",
            "INFO:cmdstanpy:Chain [1] start processing\n",
            "14:23:19 - cmdstanpy - INFO - Chain [1] done processing\n",
            "INFO:cmdstanpy:Chain [1] done processing\n",
            "INFO:prophet:Disabling yearly seasonality. Run prophet with yearly_seasonality=True to override this.\n",
            "INFO:prophet:Disabling daily seasonality. Run prophet with daily_seasonality=True to override this.\n",
            "DEBUG:cmdstanpy:input tempfile: /tmp/tmp0ow7qcla/klgkkesy.json\n",
            "DEBUG:cmdstanpy:input tempfile: /tmp/tmp0ow7qcla/sn49pupg.json\n",
            "DEBUG:cmdstanpy:idx 0\n",
            "DEBUG:cmdstanpy:running CmdStan, num_threads: None\n",
            "DEBUG:cmdstanpy:CmdStan args: ['/usr/local/lib/python3.7/dist-packages/prophet/stan_model/prophet_model.bin', 'random', 'seed=37848', 'data', 'file=/tmp/tmp0ow7qcla/klgkkesy.json', 'init=/tmp/tmp0ow7qcla/sn49pupg.json', 'output', 'file=/tmp/tmp2difv3fs/prophet_model-20220820142320.csv', 'method=optimize', 'algorithm=lbfgs', 'iter=10000']\n",
            "14:23:20 - cmdstanpy - INFO - Chain [1] start processing\n",
            "INFO:cmdstanpy:Chain [1] start processing\n"
          ]
        },
        {
          "output_type": "stream",
          "name": "stdout",
          "text": [
            "Model Number: 721 with model FBProphet in generation 6 of 10\n"
          ]
        },
        {
          "output_type": "stream",
          "name": "stderr",
          "text": [
            "14:23:21 - cmdstanpy - INFO - Chain [1] done processing\n",
            "INFO:cmdstanpy:Chain [1] done processing\n"
          ]
        },
        {
          "output_type": "stream",
          "name": "stdout",
          "text": [
            "Model Number: 722 with model SectionalMotif in generation 6 of 10\n",
            "Model Number: 723 with model SeasonalNaive in generation 6 of 10\n",
            "Model Number: 724 with model WindowRegression in generation 6 of 10\n"
          ]
        },
        {
          "output_type": "stream",
          "name": "stderr",
          "text": [
            "/usr/local/lib/python3.7/dist-packages/sklearn/neural_network/_multilayer_perceptron.py:549: ConvergenceWarning: lbfgs failed to converge (status=1):\n",
            "STOP: TOTAL NO. of ITERATIONS REACHED LIMIT.\n",
            "\n",
            "Increase the number of iterations (max_iter) or scale the data as shown in:\n",
            "    https://scikit-learn.org/stable/modules/preprocessing.html\n",
            "  self.n_iter_ = _check_optimize_result(\"lbfgs\", opt_res, self.max_iter)\n"
          ]
        },
        {
          "output_type": "stream",
          "name": "stdout",
          "text": [
            "Model Number: 725 with model UnobservedComponents in generation 6 of 10\n",
            "Model Number: 726 with model MultivariateRegression in generation 6 of 10\n"
          ]
        },
        {
          "output_type": "stream",
          "name": "stderr",
          "text": [
            "[Parallel(n_jobs=-2)]: Using backend SequentialBackend with 1 concurrent workers.\n",
            "[Parallel(n_jobs=-2)]: Done 200 out of 200 | elapsed:    0.3s finished\n",
            "[Parallel(n_jobs=1)]: Using backend SequentialBackend with 1 concurrent workers.\n",
            "[Parallel(n_jobs=1)]: Done 200 out of 200 | elapsed:    0.0s finished\n",
            "[Parallel(n_jobs=1)]: Using backend SequentialBackend with 1 concurrent workers.\n",
            "[Parallel(n_jobs=1)]: Done 200 out of 200 | elapsed:    0.0s finished\n",
            "[Parallel(n_jobs=1)]: Using backend SequentialBackend with 1 concurrent workers.\n",
            "[Parallel(n_jobs=1)]: Done 200 out of 200 | elapsed:    0.0s finished\n",
            "[Parallel(n_jobs=1)]: Using backend SequentialBackend with 1 concurrent workers.\n",
            "[Parallel(n_jobs=1)]: Done 200 out of 200 | elapsed:    0.0s finished\n",
            "[Parallel(n_jobs=1)]: Using backend SequentialBackend with 1 concurrent workers.\n",
            "[Parallel(n_jobs=1)]: Done 200 out of 200 | elapsed:    0.0s finished\n",
            "[Parallel(n_jobs=1)]: Using backend SequentialBackend with 1 concurrent workers.\n",
            "[Parallel(n_jobs=1)]: Done 200 out of 200 | elapsed:    0.0s finished\n",
            "[Parallel(n_jobs=1)]: Using backend SequentialBackend with 1 concurrent workers.\n",
            "[Parallel(n_jobs=1)]: Done 200 out of 200 | elapsed:    0.0s finished\n",
            "[Parallel(n_jobs=1)]: Using backend SequentialBackend with 1 concurrent workers.\n"
          ]
        },
        {
          "output_type": "stream",
          "name": "stdout",
          "text": [
            "Model Number: 727 with model UnivariateMotif in generation 6 of 10\n"
          ]
        },
        {
          "output_type": "stream",
          "name": "stderr",
          "text": [
            "[Parallel(n_jobs=1)]: Done 200 out of 200 | elapsed:    0.0s finished\n",
            "[Parallel(n_jobs=1)]: Using backend SequentialBackend with 1 concurrent workers.\n",
            "[Parallel(n_jobs=1)]: Done 200 out of 200 | elapsed:    0.0s finished\n",
            "[Parallel(n_jobs=1)]: Using backend SequentialBackend with 1 concurrent workers.\n",
            "[Parallel(n_jobs=1)]: Done 200 out of 200 | elapsed:    0.0s finished\n"
          ]
        },
        {
          "output_type": "stream",
          "name": "stdout",
          "text": [
            "Model Number: 728 with model ETS in generation 6 of 10\n",
            "ETS error ValueError('endog must be strictly positive when usingmultiplicative trend or seasonal components.')\n",
            "ETS failed on 0 with ValueError('endog must be strictly positive when usingmultiplicative trend or seasonal components.')\n",
            "Model Number: 729 with model UnivariateMotif in generation 6 of 10\n",
            "Model Number: 730 with model SectionalMotif in generation 6 of 10\n",
            "Model Number: 731 with model UnobservedComponents in generation 6 of 10\n",
            "Model Number: 732 with model ETS in generation 6 of 10\n",
            "ETS error ValueError('endog must be strictly positive when usingmultiplicative trend or seasonal components.')\n",
            "ETS failed on Close with ValueError('endog must be strictly positive when usingmultiplicative trend or seasonal components.')\n",
            "Model Number: 733 with model MultivariateMotif in generation 6 of 10\n"
          ]
        },
        {
          "output_type": "stream",
          "name": "stderr",
          "text": [
            "INFO:prophet:Disabling yearly seasonality. Run prophet with yearly_seasonality=True to override this.\n",
            "INFO:prophet:Disabling daily seasonality. Run prophet with daily_seasonality=True to override this.\n"
          ]
        },
        {
          "output_type": "stream",
          "name": "stdout",
          "text": [
            "Model Number: 734 with model FBProphet in generation 6 of 10\n"
          ]
        },
        {
          "output_type": "stream",
          "name": "stderr",
          "text": [
            "DEBUG:cmdstanpy:input tempfile: /tmp/tmp0ow7qcla/_zcyh698.json\n",
            "DEBUG:cmdstanpy:input tempfile: /tmp/tmp0ow7qcla/k8s6kk_u.json\n",
            "DEBUG:cmdstanpy:idx 0\n",
            "DEBUG:cmdstanpy:running CmdStan, num_threads: None\n",
            "DEBUG:cmdstanpy:CmdStan args: ['/usr/local/lib/python3.7/dist-packages/prophet/stan_model/prophet_model.bin', 'random', 'seed=27742', 'data', 'file=/tmp/tmp0ow7qcla/_zcyh698.json', 'init=/tmp/tmp0ow7qcla/k8s6kk_u.json', 'output', 'file=/tmp/tmp_e8deblb/prophet_model-20220820142327.csv', 'method=optimize', 'algorithm=lbfgs', 'iter=10000']\n",
            "14:23:27 - cmdstanpy - INFO - Chain [1] start processing\n",
            "INFO:cmdstanpy:Chain [1] start processing\n",
            "14:23:27 - cmdstanpy - INFO - Chain [1] done processing\n",
            "INFO:cmdstanpy:Chain [1] done processing\n"
          ]
        },
        {
          "output_type": "stream",
          "name": "stdout",
          "text": [
            "Model Number: 735 with model SeasonalNaive in generation 6 of 10\n",
            "Model Number: 736 with model SeasonalNaive in generation 6 of 10\n",
            "Model Number: 737 with model UnivariateMotif in generation 6 of 10\n",
            "Model Number: 738 with model ConstantNaive in generation 6 of 10\n",
            "Model Number: 739 with model AverageValueNaive in generation 6 of 10\n",
            "Model Number: 740 with model NVAR in generation 6 of 10\n",
            "Model Number: 741 with model UnivariateMotif in generation 6 of 10\n",
            "Model Number: 742 with model LastValueNaive in generation 6 of 10\n",
            "Model Number: 743 with model UnobservedComponents in generation 6 of 10\n",
            "Model Number: 744 with model FBProphet in generation 6 of 10\n"
          ]
        },
        {
          "output_type": "stream",
          "name": "stderr",
          "text": [
            "/usr/local/lib/python3.7/dist-packages/sklearn/_loss/glm_distribution.py:132: RuntimeWarning: divide by zero encountered in true_divide\n",
            "  return -2 * (y - y_pred) / self.unit_variance(y_pred)\n",
            "/usr/local/lib/python3.7/dist-packages/sklearn/linear_model/_glm/glm.py:42: RuntimeWarning: invalid value encountered in multiply\n",
            "  temp = d1 * family.deviance_derivative(y, y_pred, weights)\n",
            "/usr/local/lib/python3.7/dist-packages/sklearn/_loss/glm_distribution.py:326: RuntimeWarning: divide by zero encountered in log\n",
            "  dev = 2 * (np.log(y_pred / y) + y / y_pred - 1)\n",
            "/usr/local/lib/python3.7/dist-packages/sklearn/_loss/glm_distribution.py:326: RuntimeWarning: divide by zero encountered in true_divide\n",
            "  dev = 2 * (np.log(y_pred / y) + y / y_pred - 1)\n",
            "/usr/local/lib/python3.7/dist-packages/sklearn/_loss/glm_distribution.py:326: RuntimeWarning: invalid value encountered in add\n",
            "  dev = 2 * (np.log(y_pred / y) + y / y_pred - 1)\n",
            "/usr/local/lib/python3.7/dist-packages/sklearn/linear_model/_glm/glm.py:323: ConvergenceWarning: lbfgs failed to converge (status=2):\n",
            "ABNORMAL_TERMINATION_IN_LNSRCH.\n",
            "\n",
            "Increase the number of iterations (max_iter) or scale the data as shown in:\n",
            "    https://scikit-learn.org/stable/modules/preprocessing.html\n",
            "  self.n_iter_ = _check_optimize_result(\"lbfgs\", opt_res)\n",
            "INFO:prophet:Disabling yearly seasonality. Run prophet with yearly_seasonality=True to override this.\n",
            "INFO:prophet:Disabling daily seasonality. Run prophet with daily_seasonality=True to override this.\n",
            "DEBUG:cmdstanpy:input tempfile: /tmp/tmp0ow7qcla/8p0knjfn.json\n",
            "DEBUG:cmdstanpy:input tempfile: /tmp/tmp0ow7qcla/9enxokve.json\n",
            "DEBUG:cmdstanpy:idx 0\n",
            "DEBUG:cmdstanpy:running CmdStan, num_threads: None\n",
            "DEBUG:cmdstanpy:CmdStan args: ['/usr/local/lib/python3.7/dist-packages/prophet/stan_model/prophet_model.bin', 'random', 'seed=51148', 'data', 'file=/tmp/tmp0ow7qcla/8p0knjfn.json', 'init=/tmp/tmp0ow7qcla/9enxokve.json', 'output', 'file=/tmp/tmpdarfv2o6/prophet_model-20220820142329.csv', 'method=optimize', 'algorithm=lbfgs', 'iter=10000']\n",
            "14:23:29 - cmdstanpy - INFO - Chain [1] start processing\n",
            "INFO:cmdstanpy:Chain [1] start processing\n",
            "14:23:29 - cmdstanpy - INFO - Chain [1] done processing\n",
            "INFO:cmdstanpy:Chain [1] done processing\n"
          ]
        },
        {
          "output_type": "stream",
          "name": "stdout",
          "text": [
            "Model Number: 745 with model SectionalMotif in generation 6 of 10\n",
            "Model Number: 746 with model GLM in generation 6 of 10\n",
            "Template Eval Error: ValueError('The first guess on the deviance function returned a nan.  This could be a boundary  problem and should be reported.') in model 746: GLM\n",
            "Model Number: 747 with model UnivariateMotif in generation 6 of 10\n",
            "Model Number: 748 with model UnivariateMotif in generation 6 of 10\n",
            "Model Number: 749 with model FBProphet in generation 6 of 10\n"
          ]
        },
        {
          "output_type": "stream",
          "name": "stderr",
          "text": [
            "/usr/local/lib/python3.7/dist-packages/statsmodels/genmod/families/family.py:1231: RuntimeWarning: invalid value encountered in log\n",
            "  resid_dev -= endog_alpha * np.log(endog_alpha / mu_alpha)\n",
            "INFO:prophet:Disabling yearly seasonality. Run prophet with yearly_seasonality=True to override this.\n",
            "INFO:prophet:Disabling daily seasonality. Run prophet with daily_seasonality=True to override this.\n",
            "DEBUG:cmdstanpy:input tempfile: /tmp/tmp0ow7qcla/508ivoth.json\n",
            "DEBUG:cmdstanpy:input tempfile: /tmp/tmp0ow7qcla/hv6civwq.json\n",
            "DEBUG:cmdstanpy:idx 0\n",
            "DEBUG:cmdstanpy:running CmdStan, num_threads: None\n",
            "DEBUG:cmdstanpy:CmdStan args: ['/usr/local/lib/python3.7/dist-packages/prophet/stan_model/prophet_model.bin', 'random', 'seed=90270', 'data', 'file=/tmp/tmp0ow7qcla/508ivoth.json', 'init=/tmp/tmp0ow7qcla/hv6civwq.json', 'output', 'file=/tmp/tmpwaip4pkn/prophet_model-20220820142331.csv', 'method=optimize', 'algorithm=lbfgs', 'iter=10000']\n",
            "14:23:31 - cmdstanpy - INFO - Chain [1] start processing\n",
            "INFO:cmdstanpy:Chain [1] start processing\n",
            "14:23:31 - cmdstanpy - INFO - Chain [1] done processing\n",
            "INFO:cmdstanpy:Chain [1] done processing\n"
          ]
        },
        {
          "output_type": "stream",
          "name": "stdout",
          "text": [
            "Model Number: 750 with model NVAR in generation 6 of 10\n",
            "Model Number: 751 with model SectionalMotif in generation 6 of 10\n",
            "Model Number: 752 with model ETS in generation 6 of 10\n",
            "Model Number: 753 with model ETS in generation 6 of 10\n",
            "ETS error ValueError('endog must be strictly positive when usingmultiplicative trend or seasonal components.')\n",
            "ETS failed on Close with ValueError('endog must be strictly positive when usingmultiplicative trend or seasonal components.')\n",
            "Model Number: 754 with model Theta in generation 6 of 10\n"
          ]
        },
        {
          "output_type": "stream",
          "name": "stderr",
          "text": [
            "/usr/local/lib/python3.7/dist-packages/sklearn/_loss/glm_distribution.py:132: RuntimeWarning: divide by zero encountered in true_divide\n",
            "  return -2 * (y - y_pred) / self.unit_variance(y_pred)\n",
            "/usr/local/lib/python3.7/dist-packages/sklearn/linear_model/_glm/glm.py:42: RuntimeWarning: invalid value encountered in multiply\n",
            "  temp = d1 * family.deviance_derivative(y, y_pred, weights)\n",
            "/usr/local/lib/python3.7/dist-packages/sklearn/_loss/glm_distribution.py:326: RuntimeWarning: divide by zero encountered in log\n",
            "  dev = 2 * (np.log(y_pred / y) + y / y_pred - 1)\n",
            "/usr/local/lib/python3.7/dist-packages/sklearn/_loss/glm_distribution.py:326: RuntimeWarning: divide by zero encountered in true_divide\n",
            "  dev = 2 * (np.log(y_pred / y) + y / y_pred - 1)\n",
            "/usr/local/lib/python3.7/dist-packages/sklearn/_loss/glm_distribution.py:326: RuntimeWarning: invalid value encountered in add\n",
            "  dev = 2 * (np.log(y_pred / y) + y / y_pred - 1)\n",
            "/usr/local/lib/python3.7/dist-packages/sklearn/linear_model/_glm/glm.py:323: ConvergenceWarning: lbfgs failed to converge (status=2):\n",
            "ABNORMAL_TERMINATION_IN_LNSRCH.\n",
            "\n",
            "Increase the number of iterations (max_iter) or scale the data as shown in:\n",
            "    https://scikit-learn.org/stable/modules/preprocessing.html\n",
            "  self.n_iter_ = _check_optimize_result(\"lbfgs\", opt_res)\n"
          ]
        },
        {
          "output_type": "stream",
          "name": "stdout",
          "text": [
            "Model Number: 755 with model UnivariateMotif in generation 6 of 10\n"
          ]
        },
        {
          "output_type": "stream",
          "name": "stderr",
          "text": [
            "INFO:prophet:Disabling yearly seasonality. Run prophet with yearly_seasonality=True to override this.\n",
            "INFO:prophet:Disabling daily seasonality. Run prophet with daily_seasonality=True to override this.\n",
            "DEBUG:cmdstanpy:input tempfile: /tmp/tmp0ow7qcla/0_mynnly.json\n",
            "DEBUG:cmdstanpy:input tempfile: /tmp/tmp0ow7qcla/t7y1bltx.json\n",
            "DEBUG:cmdstanpy:idx 0\n",
            "DEBUG:cmdstanpy:running CmdStan, num_threads: None\n",
            "DEBUG:cmdstanpy:CmdStan args: ['/usr/local/lib/python3.7/dist-packages/prophet/stan_model/prophet_model.bin', 'random', 'seed=82069', 'data', 'file=/tmp/tmp0ow7qcla/0_mynnly.json', 'init=/tmp/tmp0ow7qcla/t7y1bltx.json', 'output', 'file=/tmp/tmp4ytxp6gt/prophet_model-20220820142333.csv', 'method=optimize', 'algorithm=lbfgs', 'iter=10000']\n",
            "14:23:33 - cmdstanpy - INFO - Chain [1] start processing\n",
            "INFO:cmdstanpy:Chain [1] start processing\n"
          ]
        },
        {
          "output_type": "stream",
          "name": "stdout",
          "text": [
            "Model Number: 756 with model FBProphet in generation 6 of 10\n"
          ]
        },
        {
          "output_type": "stream",
          "name": "stderr",
          "text": [
            "14:23:33 - cmdstanpy - INFO - Chain [1] done processing\n",
            "INFO:cmdstanpy:Chain [1] done processing\n"
          ]
        },
        {
          "output_type": "stream",
          "name": "stdout",
          "text": [
            "Model Number: 757 with model NVAR in generation 6 of 10\n",
            "Model Number: 758 with model ETS in generation 6 of 10\n",
            "ETS error ValueError('endog must be strictly positive when usingmultiplicative trend or seasonal components.')\n",
            "ETS failed on Close with ValueError('endog must be strictly positive when usingmultiplicative trend or seasonal components.')\n",
            "Model Number: 759 with model MultivariateMotif in generation 6 of 10\n",
            "Model Number: 760 with model AverageValueNaive in generation 6 of 10\n"
          ]
        },
        {
          "output_type": "stream",
          "name": "stderr",
          "text": [
            "/usr/local/lib/python3.7/dist-packages/sklearn/_loss/glm_distribution.py:132: RuntimeWarning: divide by zero encountered in true_divide\n",
            "  return -2 * (y - y_pred) / self.unit_variance(y_pred)\n",
            "/usr/local/lib/python3.7/dist-packages/sklearn/linear_model/_glm/glm.py:42: RuntimeWarning: invalid value encountered in multiply\n",
            "  temp = d1 * family.deviance_derivative(y, y_pred, weights)\n",
            "/usr/local/lib/python3.7/dist-packages/sklearn/_loss/glm_distribution.py:331: RuntimeWarning: divide by zero encountered in power\n",
            "  + np.power(y_pred, 2 - p) / (2 - p)\n"
          ]
        },
        {
          "output_type": "stream",
          "name": "stdout",
          "text": [
            "Model Number: 761 with model FBProphet in generation 6 of 10\n"
          ]
        },
        {
          "output_type": "stream",
          "name": "stderr",
          "text": [
            "INFO:prophet:Disabling yearly seasonality. Run prophet with yearly_seasonality=True to override this.\n",
            "INFO:prophet:Disabling daily seasonality. Run prophet with daily_seasonality=True to override this.\n",
            "DEBUG:cmdstanpy:input tempfile: /tmp/tmp0ow7qcla/6cctimqa.json\n",
            "DEBUG:cmdstanpy:input tempfile: /tmp/tmp0ow7qcla/cgey2au9.json\n",
            "DEBUG:cmdstanpy:idx 0\n",
            "DEBUG:cmdstanpy:running CmdStan, num_threads: None\n",
            "DEBUG:cmdstanpy:CmdStan args: ['/usr/local/lib/python3.7/dist-packages/prophet/stan_model/prophet_model.bin', 'random', 'seed=52557', 'data', 'file=/tmp/tmp0ow7qcla/6cctimqa.json', 'init=/tmp/tmp0ow7qcla/cgey2au9.json', 'output', 'file=/tmp/tmpzxum6_zv/prophet_model-20220820142335.csv', 'method=optimize', 'algorithm=lbfgs', 'iter=10000']\n",
            "14:23:35 - cmdstanpy - INFO - Chain [1] start processing\n",
            "INFO:cmdstanpy:Chain [1] start processing\n",
            "14:23:35 - cmdstanpy - INFO - Chain [1] done processing\n",
            "INFO:cmdstanpy:Chain [1] done processing\n"
          ]
        },
        {
          "output_type": "stream",
          "name": "stdout",
          "text": [
            "Model Number: 762 with model ETS in generation 6 of 10\n",
            "Model Number: 763 with model SeasonalNaive in generation 6 of 10\n",
            "Model Number: 764 with model ConstantNaive in generation 6 of 10\n",
            "Model Number: 765 with model UnivariateMotif in generation 6 of 10\n",
            "Model Number: 766 with model ETS in generation 6 of 10\n",
            "ETS error ValueError('endog must be strictly positive when usingmultiplicative trend or seasonal components.')\n",
            "ETS failed on Close with ValueError('endog must be strictly positive when usingmultiplicative trend or seasonal components.')\n",
            "Model Number: 767 with model SectionalMotif in generation 6 of 10\n",
            "Model Number: 768 with model GLS in generation 6 of 10\n",
            "Model Number: 769 with model UnivariateMotif in generation 6 of 10\n",
            "Model Number: 770 with model DatepartRegression in generation 6 of 10\n",
            "Model Number: 771 with model NVAR in generation 6 of 10\n",
            "Model Number: 772 with model ConstantNaive in generation 6 of 10\n",
            "Model Number: 773 with model NVAR in generation 6 of 10\n",
            "Model Number: 774 with model GLS in generation 6 of 10\n"
          ]
        },
        {
          "output_type": "stream",
          "name": "stderr",
          "text": [
            "/usr/local/lib/python3.7/dist-packages/sklearn/_loss/glm_distribution.py:132: RuntimeWarning: divide by zero encountered in true_divide\n",
            "  return -2 * (y - y_pred) / self.unit_variance(y_pred)\n",
            "/usr/local/lib/python3.7/dist-packages/sklearn/linear_model/_glm/glm.py:42: RuntimeWarning: invalid value encountered in multiply\n",
            "  temp = d1 * family.deviance_derivative(y, y_pred, weights)\n",
            "/usr/local/lib/python3.7/dist-packages/sklearn/_loss/glm_distribution.py:326: RuntimeWarning: divide by zero encountered in log\n",
            "  dev = 2 * (np.log(y_pred / y) + y / y_pred - 1)\n",
            "/usr/local/lib/python3.7/dist-packages/sklearn/_loss/glm_distribution.py:326: RuntimeWarning: divide by zero encountered in true_divide\n",
            "  dev = 2 * (np.log(y_pred / y) + y / y_pred - 1)\n",
            "/usr/local/lib/python3.7/dist-packages/sklearn/_loss/glm_distribution.py:326: RuntimeWarning: invalid value encountered in add\n",
            "  dev = 2 * (np.log(y_pred / y) + y / y_pred - 1)\n",
            "/usr/local/lib/python3.7/dist-packages/sklearn/linear_model/_glm/glm.py:323: ConvergenceWarning: lbfgs failed to converge (status=2):\n",
            "ABNORMAL_TERMINATION_IN_LNSRCH.\n",
            "\n",
            "Increase the number of iterations (max_iter) or scale the data as shown in:\n",
            "    https://scikit-learn.org/stable/modules/preprocessing.html\n",
            "  self.n_iter_ = _check_optimize_result(\"lbfgs\", opt_res)\n"
          ]
        },
        {
          "output_type": "stream",
          "name": "stdout",
          "text": [
            "Model Number: 775 with model ETS in generation 6 of 10\n",
            "ETS error ValueError('Can only dampen the trend component')\n",
            "ETS failed on Close with ValueError('Can only dampen the trend component')\n",
            "Model Number: 776 with model AverageValueNaive in generation 6 of 10\n"
          ]
        },
        {
          "output_type": "stream",
          "name": "stderr",
          "text": [
            "INFO:prophet:Disabling yearly seasonality. Run prophet with yearly_seasonality=True to override this.\n",
            "INFO:prophet:Disabling daily seasonality. Run prophet with daily_seasonality=True to override this.\n",
            "DEBUG:cmdstanpy:input tempfile: /tmp/tmp0ow7qcla/pqc2hy_h.json\n",
            "DEBUG:cmdstanpy:input tempfile: /tmp/tmp0ow7qcla/f9e7prme.json\n",
            "DEBUG:cmdstanpy:idx 0\n",
            "DEBUG:cmdstanpy:running CmdStan, num_threads: None\n",
            "DEBUG:cmdstanpy:CmdStan args: ['/usr/local/lib/python3.7/dist-packages/prophet/stan_model/prophet_model.bin', 'random', 'seed=32923', 'data', 'file=/tmp/tmp0ow7qcla/pqc2hy_h.json', 'init=/tmp/tmp0ow7qcla/f9e7prme.json', 'output', 'file=/tmp/tmp_mg7ehu1/prophet_model-20220820142338.csv', 'method=optimize', 'algorithm=lbfgs', 'iter=10000']\n",
            "14:23:38 - cmdstanpy - INFO - Chain [1] start processing\n",
            "INFO:cmdstanpy:Chain [1] start processing\n"
          ]
        },
        {
          "output_type": "stream",
          "name": "stdout",
          "text": [
            "Model Number: 777 with model FBProphet in generation 6 of 10\n"
          ]
        },
        {
          "output_type": "stream",
          "name": "stderr",
          "text": [
            "14:23:39 - cmdstanpy - INFO - Chain [1] done processing\n",
            "INFO:cmdstanpy:Chain [1] done processing\n"
          ]
        },
        {
          "output_type": "stream",
          "name": "stdout",
          "text": [
            "Model Number: 778 with model UnivariateRegression in generation 6 of 10\n",
            "Model Number: 779 with model UnivariateRegression in generation 6 of 10\n"
          ]
        },
        {
          "output_type": "stream",
          "name": "stderr",
          "text": [
            "/usr/local/lib/python3.7/dist-packages/sklearn/linear_model/_glm/link.py:90: RuntimeWarning: overflow encountered in exp\n",
            "  return np.exp(lin_pred)\n",
            "/usr/local/lib/python3.7/dist-packages/sklearn/linear_model/_glm/link.py:93: RuntimeWarning: overflow encountered in exp\n",
            "  return np.exp(lin_pred)\n",
            "/usr/local/lib/python3.7/dist-packages/sklearn/_loss/glm_distribution.py:132: RuntimeWarning: invalid value encountered in true_divide\n",
            "  return -2 * (y - y_pred) / self.unit_variance(y_pred)\n",
            "/usr/local/lib/python3.7/dist-packages/sklearn/_loss/glm_distribution.py:323: RuntimeWarning: invalid value encountered in add\n",
            "  dev = 2 * (xlogy(y, y / y_pred) - y + y_pred)\n",
            "/usr/local/lib/python3.7/dist-packages/sklearn/linear_model/_glm/glm.py:323: ConvergenceWarning: lbfgs failed to converge (status=2):\n",
            "ABNORMAL_TERMINATION_IN_LNSRCH.\n",
            "\n",
            "Increase the number of iterations (max_iter) or scale the data as shown in:\n",
            "    https://scikit-learn.org/stable/modules/preprocessing.html\n",
            "  self.n_iter_ = _check_optimize_result(\"lbfgs\", opt_res)\n"
          ]
        },
        {
          "output_type": "stream",
          "name": "stdout",
          "text": [
            "Model Number: 780 with model UnivariateMotif in generation 6 of 10\n",
            "Model Number: 781 with model DatepartRegression in generation 6 of 10\n",
            "Epoch 1/50\n",
            "24/24 [==============================] - 9s 30ms/step - loss: nan\n",
            "Epoch 2/50\n",
            "24/24 [==============================] - 1s 31ms/step - loss: nan\n",
            "Epoch 3/50\n",
            "24/24 [==============================] - 1s 31ms/step - loss: nan\n",
            "Epoch 4/50\n",
            "24/24 [==============================] - 1s 31ms/step - loss: nan\n",
            "Epoch 5/50\n",
            "24/24 [==============================] - 1s 31ms/step - loss: nan\n",
            "Epoch 6/50\n",
            "24/24 [==============================] - 1s 31ms/step - loss: nan\n",
            "Epoch 7/50\n",
            "24/24 [==============================] - 1s 31ms/step - loss: nan\n",
            "Epoch 8/50\n",
            "24/24 [==============================] - 1s 32ms/step - loss: nan\n",
            "Epoch 9/50\n",
            "24/24 [==============================] - 1s 32ms/step - loss: nan\n",
            "Epoch 10/50\n",
            "24/24 [==============================] - 1s 32ms/step - loss: nan\n",
            "Epoch 11/50\n",
            "24/24 [==============================] - 1s 32ms/step - loss: nan\n",
            "Epoch 12/50\n",
            "24/24 [==============================] - 1s 31ms/step - loss: nan\n",
            "Epoch 13/50\n",
            "24/24 [==============================] - 1s 31ms/step - loss: nan\n",
            "Epoch 14/50\n",
            "24/24 [==============================] - 1s 31ms/step - loss: nan\n",
            "Epoch 15/50\n",
            "24/24 [==============================] - 1s 31ms/step - loss: nan\n",
            "Epoch 16/50\n",
            "24/24 [==============================] - 1s 31ms/step - loss: nan\n",
            "Epoch 17/50\n",
            "24/24 [==============================] - 1s 33ms/step - loss: nan\n",
            "Epoch 18/50\n",
            "24/24 [==============================] - 1s 32ms/step - loss: nan\n",
            "Epoch 19/50\n",
            "24/24 [==============================] - 1s 31ms/step - loss: nan\n",
            "Epoch 20/50\n",
            "24/24 [==============================] - 1s 31ms/step - loss: nan\n",
            "Epoch 21/50\n",
            "24/24 [==============================] - 1s 32ms/step - loss: nan\n",
            "Epoch 22/50\n",
            "24/24 [==============================] - 1s 32ms/step - loss: nan\n",
            "Epoch 23/50\n",
            "24/24 [==============================] - 1s 34ms/step - loss: nan\n",
            "Epoch 24/50\n",
            "24/24 [==============================] - 1s 31ms/step - loss: nan\n",
            "Epoch 25/50\n",
            "24/24 [==============================] - 1s 32ms/step - loss: nan\n",
            "Epoch 26/50\n",
            "24/24 [==============================] - 1s 32ms/step - loss: nan\n",
            "Epoch 27/50\n",
            "24/24 [==============================] - 1s 31ms/step - loss: nan\n",
            "Epoch 28/50\n",
            "24/24 [==============================] - 1s 32ms/step - loss: nan\n",
            "Epoch 29/50\n",
            "24/24 [==============================] - 1s 31ms/step - loss: nan\n",
            "Epoch 30/50\n",
            "24/24 [==============================] - 1s 33ms/step - loss: nan\n",
            "Epoch 31/50\n",
            "24/24 [==============================] - 1s 32ms/step - loss: nan\n",
            "Epoch 32/50\n",
            "24/24 [==============================] - 1s 32ms/step - loss: nan\n",
            "Epoch 33/50\n",
            "24/24 [==============================] - 1s 32ms/step - loss: nan\n",
            "Epoch 34/50\n",
            "24/24 [==============================] - 1s 33ms/step - loss: nan\n",
            "Epoch 35/50\n",
            "24/24 [==============================] - 1s 34ms/step - loss: nan\n",
            "Epoch 36/50\n",
            "24/24 [==============================] - 1s 32ms/step - loss: nan\n",
            "Epoch 37/50\n",
            "24/24 [==============================] - 1s 33ms/step - loss: nan\n",
            "Epoch 38/50\n",
            "24/24 [==============================] - 1s 31ms/step - loss: nan\n",
            "Epoch 39/50\n",
            "24/24 [==============================] - 1s 32ms/step - loss: nan\n",
            "Epoch 40/50\n",
            "24/24 [==============================] - 1s 33ms/step - loss: nan\n",
            "Epoch 41/50\n",
            "24/24 [==============================] - 1s 31ms/step - loss: nan\n",
            "Epoch 42/50\n",
            "24/24 [==============================] - 1s 31ms/step - loss: nan\n",
            "Epoch 43/50\n",
            "24/24 [==============================] - 1s 32ms/step - loss: nan\n",
            "Epoch 44/50\n",
            "24/24 [==============================] - 1s 31ms/step - loss: nan\n",
            "Epoch 45/50\n",
            "24/24 [==============================] - 1s 31ms/step - loss: nan\n",
            "Epoch 46/50\n",
            "24/24 [==============================] - 1s 32ms/step - loss: nan\n",
            "Epoch 47/50\n",
            "24/24 [==============================] - 1s 32ms/step - loss: nan\n",
            "Epoch 48/50\n",
            "24/24 [==============================] - 1s 30ms/step - loss: nan\n",
            "Epoch 49/50\n",
            "24/24 [==============================] - 1s 30ms/step - loss: nan\n",
            "Epoch 50/50\n",
            "24/24 [==============================] - 1s 34ms/step - loss: nan\n"
          ]
        },
        {
          "output_type": "stream",
          "name": "stderr",
          "text": [
            "WARNING:tensorflow:6 out of the last 6 calls to <function Model.make_predict_function.<locals>.predict_function at 0x7f690e1e9290> triggered tf.function retracing. Tracing is expensive and the excessive number of tracings could be due to (1) creating @tf.function repeatedly in a loop, (2) passing tensors with different shapes, (3) passing Python objects instead of tensors. For (1), please define your @tf.function outside of the loop. For (2), @tf.function has experimental_relax_shapes=True option that relaxes argument shapes that can avoid unnecessary retracing. For (3), please refer to https://www.tensorflow.org/guide/function#controlling_retracing and https://www.tensorflow.org/api_docs/python/tf/function for  more details.\n"
          ]
        },
        {
          "output_type": "stream",
          "name": "stdout",
          "text": [
            "Model Number: 782 with model MultivariateMotif in generation 6 of 10\n",
            "Model Number: 783 with model SeasonalNaive in generation 6 of 10\n",
            "Model Number: 784 with model LastValueNaive in generation 6 of 10\n",
            "Model Number: 785 with model UnivariateMotif in generation 6 of 10\n",
            "New Generation: 7 of 10\n"
          ]
        },
        {
          "output_type": "stream",
          "name": "stderr",
          "text": [
            "INFO:prophet:Disabling yearly seasonality. Run prophet with yearly_seasonality=True to override this.\n",
            "INFO:prophet:Disabling daily seasonality. Run prophet with daily_seasonality=True to override this.\n",
            "DEBUG:cmdstanpy:input tempfile: /tmp/tmp0ow7qcla/ri_dfdvr.json\n",
            "DEBUG:cmdstanpy:input tempfile: /tmp/tmp0ow7qcla/9p0syndq.json\n",
            "DEBUG:cmdstanpy:idx 0\n",
            "DEBUG:cmdstanpy:running CmdStan, num_threads: None\n",
            "DEBUG:cmdstanpy:CmdStan args: ['/usr/local/lib/python3.7/dist-packages/prophet/stan_model/prophet_model.bin', 'random', 'seed=10406', 'data', 'file=/tmp/tmp0ow7qcla/ri_dfdvr.json', 'init=/tmp/tmp0ow7qcla/9p0syndq.json', 'output', 'file=/tmp/tmple83y0z8/prophet_model-20220820142431.csv', 'method=optimize', 'algorithm=lbfgs', 'iter=10000']\n",
            "14:24:31 - cmdstanpy - INFO - Chain [1] start processing\n",
            "INFO:cmdstanpy:Chain [1] start processing\n"
          ]
        },
        {
          "output_type": "stream",
          "name": "stdout",
          "text": [
            "Model Number: 786 with model FBProphet in generation 7 of 10\n"
          ]
        },
        {
          "output_type": "stream",
          "name": "stderr",
          "text": [
            "14:24:31 - cmdstanpy - INFO - Chain [1] done processing\n",
            "INFO:cmdstanpy:Chain [1] done processing\n"
          ]
        },
        {
          "output_type": "stream",
          "name": "stdout",
          "text": [
            "Model Number: 787 with model ETS in generation 7 of 10\n",
            "Model Number: 788 with model Theta in generation 7 of 10\n",
            "Model Number: 789 with model Theta in generation 7 of 10\n",
            "Model Number: 790 with model LastValueNaive in generation 7 of 10\n"
          ]
        },
        {
          "output_type": "stream",
          "name": "stderr",
          "text": [
            "INFO:prophet:Disabling yearly seasonality. Run prophet with yearly_seasonality=True to override this.\n",
            "INFO:prophet:Disabling daily seasonality. Run prophet with daily_seasonality=True to override this.\n",
            "DEBUG:cmdstanpy:input tempfile: /tmp/tmp0ow7qcla/1ab51kz2.json\n",
            "DEBUG:cmdstanpy:input tempfile: /tmp/tmp0ow7qcla/7jhayy6v.json\n",
            "DEBUG:cmdstanpy:idx 0\n",
            "DEBUG:cmdstanpy:running CmdStan, num_threads: None\n",
            "DEBUG:cmdstanpy:CmdStan args: ['/usr/local/lib/python3.7/dist-packages/prophet/stan_model/prophet_model.bin', 'random', 'seed=53795', 'data', 'file=/tmp/tmp0ow7qcla/1ab51kz2.json', 'init=/tmp/tmp0ow7qcla/7jhayy6v.json', 'output', 'file=/tmp/tmpt82illmm/prophet_model-20220820142434.csv', 'method=optimize', 'algorithm=lbfgs', 'iter=10000']\n",
            "14:24:34 - cmdstanpy - INFO - Chain [1] start processing\n",
            "INFO:cmdstanpy:Chain [1] start processing\n"
          ]
        },
        {
          "output_type": "stream",
          "name": "stdout",
          "text": [
            "Model Number: 791 with model FBProphet in generation 7 of 10\n"
          ]
        },
        {
          "output_type": "stream",
          "name": "stderr",
          "text": [
            "14:24:34 - cmdstanpy - INFO - Chain [1] done processing\n",
            "INFO:cmdstanpy:Chain [1] done processing\n"
          ]
        },
        {
          "output_type": "stream",
          "name": "stdout",
          "text": [
            "Model Number: 792 with model LastValueNaive in generation 7 of 10\n",
            "Model Number: 793 with model MultivariateMotif in generation 7 of 10\n",
            "Model Number: 794 with model GLS in generation 7 of 10\n",
            "Model Number: 795 with model ETS in generation 7 of 10\n",
            "Model Number: 796 with model MultivariateMotif in generation 7 of 10\n",
            "Model Number: 797 with model SeasonalNaive in generation 7 of 10\n",
            "Model Number: 798 with model ETS in generation 7 of 10\n",
            "Model Number: 799 with model UnivariateMotif in generation 7 of 10\n",
            "Model Number: 800 with model NVAR in generation 7 of 10\n",
            "Model Number: 801 with model AverageValueNaive in generation 7 of 10\n"
          ]
        },
        {
          "output_type": "stream",
          "name": "stderr",
          "text": [
            "INFO:prophet:Disabling yearly seasonality. Run prophet with yearly_seasonality=True to override this.\n",
            "INFO:prophet:Disabling daily seasonality. Run prophet with daily_seasonality=True to override this.\n"
          ]
        },
        {
          "output_type": "stream",
          "name": "stdout",
          "text": [
            "Model Number: 802 with model FBProphet in generation 7 of 10\n"
          ]
        },
        {
          "output_type": "stream",
          "name": "stderr",
          "text": [
            "DEBUG:cmdstanpy:input tempfile: /tmp/tmp0ow7qcla/x2cla147.json\n",
            "DEBUG:cmdstanpy:input tempfile: /tmp/tmp0ow7qcla/5syvaza6.json\n",
            "DEBUG:cmdstanpy:idx 0\n",
            "DEBUG:cmdstanpy:running CmdStan, num_threads: None\n",
            "DEBUG:cmdstanpy:CmdStan args: ['/usr/local/lib/python3.7/dist-packages/prophet/stan_model/prophet_model.bin', 'random', 'seed=53435', 'data', 'file=/tmp/tmp0ow7qcla/x2cla147.json', 'init=/tmp/tmp0ow7qcla/5syvaza6.json', 'output', 'file=/tmp/tmpiw2_om0o/prophet_model-20220820142436.csv', 'method=optimize', 'algorithm=lbfgs', 'iter=10000']\n",
            "14:24:36 - cmdstanpy - INFO - Chain [1] start processing\n",
            "INFO:cmdstanpy:Chain [1] start processing\n",
            "14:24:36 - cmdstanpy - INFO - Chain [1] done processing\n",
            "INFO:cmdstanpy:Chain [1] done processing\n"
          ]
        },
        {
          "output_type": "stream",
          "name": "stdout",
          "text": [
            "Model Number: 803 with model ETS in generation 7 of 10\n",
            "ETS error ValueError('Can only dampen the trend component')\n",
            "ETS failed on Close with ValueError('Can only dampen the trend component')\n",
            "Model Number: 804 with model UnobservedComponents in generation 7 of 10\n",
            "Template Eval Error: ValueError(\"regression_type='User' but no future_regressor supplied\") in model 804: UnobservedComponents\n",
            "Model Number: 805 with model LastValueNaive in generation 7 of 10\n",
            "Model Number: 806 with model AverageValueNaive in generation 7 of 10\n",
            "Model Number: 807 with model SectionalMotif in generation 7 of 10\n",
            "Model Number: 808 with model SeasonalNaive in generation 7 of 10\n"
          ]
        },
        {
          "output_type": "stream",
          "name": "stderr",
          "text": [
            "/usr/local/lib/python3.7/dist-packages/sklearn/_loss/glm_distribution.py:132: RuntimeWarning: divide by zero encountered in true_divide\n",
            "  return -2 * (y - y_pred) / self.unit_variance(y_pred)\n",
            "/usr/local/lib/python3.7/dist-packages/sklearn/linear_model/_glm/glm.py:42: RuntimeWarning: invalid value encountered in multiply\n",
            "  temp = d1 * family.deviance_derivative(y, y_pred, weights)\n",
            "/usr/local/lib/python3.7/dist-packages/sklearn/_loss/glm_distribution.py:326: RuntimeWarning: divide by zero encountered in log\n",
            "  dev = 2 * (np.log(y_pred / y) + y / y_pred - 1)\n",
            "/usr/local/lib/python3.7/dist-packages/sklearn/_loss/glm_distribution.py:326: RuntimeWarning: divide by zero encountered in true_divide\n",
            "  dev = 2 * (np.log(y_pred / y) + y / y_pred - 1)\n",
            "/usr/local/lib/python3.7/dist-packages/sklearn/_loss/glm_distribution.py:326: RuntimeWarning: invalid value encountered in add\n",
            "  dev = 2 * (np.log(y_pred / y) + y / y_pred - 1)\n",
            "/usr/local/lib/python3.7/dist-packages/sklearn/linear_model/_glm/glm.py:323: ConvergenceWarning: lbfgs failed to converge (status=2):\n",
            "ABNORMAL_TERMINATION_IN_LNSRCH.\n",
            "\n",
            "Increase the number of iterations (max_iter) or scale the data as shown in:\n",
            "    https://scikit-learn.org/stable/modules/preprocessing.html\n",
            "  self.n_iter_ = _check_optimize_result(\"lbfgs\", opt_res)\n"
          ]
        },
        {
          "output_type": "stream",
          "name": "stdout",
          "text": [
            "Model Number: 809 with model UnivariateMotif in generation 7 of 10\n",
            "Model Number: 810 with model UnobservedComponents in generation 7 of 10\n",
            "Model Number: 811 with model SectionalMotif in generation 7 of 10\n",
            "Model Number: 812 with model GLM in generation 7 of 10\n",
            "Model Number: 813 with model Theta in generation 7 of 10\n",
            "Model Number: 814 with model NVAR in generation 7 of 10\n",
            "Model Number: 815 with model Theta in generation 7 of 10\n",
            "Template Eval Error: Exception('Transformer Cointegration failed on fit') in model 815: Theta\n",
            "Model Number: 816 with model UnivariateMotif in generation 7 of 10\n",
            "Model Number: 817 with model UnivariateRegression in generation 7 of 10\n"
          ]
        },
        {
          "output_type": "stream",
          "name": "stderr",
          "text": [
            "/usr/local/lib/python3.7/dist-packages/sklearn/_loss/glm_distribution.py:132: RuntimeWarning: divide by zero encountered in true_divide\n",
            "  return -2 * (y - y_pred) / self.unit_variance(y_pred)\n",
            "/usr/local/lib/python3.7/dist-packages/sklearn/linear_model/_glm/glm.py:42: RuntimeWarning: invalid value encountered in multiply\n",
            "  temp = d1 * family.deviance_derivative(y, y_pred, weights)\n",
            "/usr/local/lib/python3.7/dist-packages/sklearn/_loss/glm_distribution.py:326: RuntimeWarning: divide by zero encountered in log\n",
            "  dev = 2 * (np.log(y_pred / y) + y / y_pred - 1)\n",
            "/usr/local/lib/python3.7/dist-packages/sklearn/_loss/glm_distribution.py:326: RuntimeWarning: divide by zero encountered in true_divide\n",
            "  dev = 2 * (np.log(y_pred / y) + y / y_pred - 1)\n",
            "/usr/local/lib/python3.7/dist-packages/sklearn/_loss/glm_distribution.py:326: RuntimeWarning: invalid value encountered in add\n",
            "  dev = 2 * (np.log(y_pred / y) + y / y_pred - 1)\n",
            "/usr/local/lib/python3.7/dist-packages/sklearn/linear_model/_glm/glm.py:323: ConvergenceWarning: lbfgs failed to converge (status=2):\n",
            "ABNORMAL_TERMINATION_IN_LNSRCH.\n",
            "\n",
            "Increase the number of iterations (max_iter) or scale the data as shown in:\n",
            "    https://scikit-learn.org/stable/modules/preprocessing.html\n",
            "  self.n_iter_ = _check_optimize_result(\"lbfgs\", opt_res)\n",
            "/usr/local/lib/python3.7/dist-packages/sklearn/_loss/glm_distribution.py:132: RuntimeWarning: divide by zero encountered in true_divide\n",
            "  return -2 * (y - y_pred) / self.unit_variance(y_pred)\n",
            "/usr/local/lib/python3.7/dist-packages/sklearn/linear_model/_glm/glm.py:42: RuntimeWarning: invalid value encountered in multiply\n",
            "  temp = d1 * family.deviance_derivative(y, y_pred, weights)\n",
            "/usr/local/lib/python3.7/dist-packages/sklearn/_loss/glm_distribution.py:323: RuntimeWarning: divide by zero encountered in true_divide\n",
            "  dev = 2 * (xlogy(y, y / y_pred) - y + y_pred)\n"
          ]
        },
        {
          "output_type": "stream",
          "name": "stdout",
          "text": [
            "Model Number: 818 with model WindowRegression in generation 7 of 10\n"
          ]
        },
        {
          "output_type": "stream",
          "name": "stderr",
          "text": [
            "/usr/local/lib/python3.7/dist-packages/sklearn/neural_network/_multilayer_perceptron.py:549: ConvergenceWarning: lbfgs failed to converge (status=1):\n",
            "STOP: TOTAL NO. of ITERATIONS REACHED LIMIT.\n",
            "\n",
            "Increase the number of iterations (max_iter) or scale the data as shown in:\n",
            "    https://scikit-learn.org/stable/modules/preprocessing.html\n",
            "  self.n_iter_ = _check_optimize_result(\"lbfgs\", opt_res, self.max_iter)\n"
          ]
        },
        {
          "output_type": "stream",
          "name": "stdout",
          "text": [
            "Model Number: 819 with model ETS in generation 7 of 10\n",
            "Model Number: 820 with model UnivariateMotif in generation 7 of 10\n",
            "Model Number: 821 with model UnobservedComponents in generation 7 of 10\n",
            "Model Number: 822 with model AverageValueNaive in generation 7 of 10\n"
          ]
        },
        {
          "output_type": "stream",
          "name": "stderr",
          "text": [
            "/usr/local/lib/python3.7/dist-packages/sklearn/_loss/glm_distribution.py:132: RuntimeWarning: divide by zero encountered in true_divide\n",
            "  return -2 * (y - y_pred) / self.unit_variance(y_pred)\n",
            "/usr/local/lib/python3.7/dist-packages/sklearn/linear_model/_glm/glm.py:42: RuntimeWarning: invalid value encountered in multiply\n",
            "  temp = d1 * family.deviance_derivative(y, y_pred, weights)\n",
            "/usr/local/lib/python3.7/dist-packages/sklearn/_loss/glm_distribution.py:323: RuntimeWarning: divide by zero encountered in true_divide\n",
            "  dev = 2 * (xlogy(y, y / y_pred) - y + y_pred)\n"
          ]
        },
        {
          "output_type": "stream",
          "name": "stdout",
          "text": [
            "Model Number: 823 with model FBProphet in generation 7 of 10\n"
          ]
        },
        {
          "output_type": "stream",
          "name": "stderr",
          "text": [
            "INFO:prophet:Disabling yearly seasonality. Run prophet with yearly_seasonality=True to override this.\n",
            "INFO:prophet:Disabling daily seasonality. Run prophet with daily_seasonality=True to override this.\n",
            "DEBUG:cmdstanpy:input tempfile: /tmp/tmp0ow7qcla/eom816sr.json\n",
            "DEBUG:cmdstanpy:input tempfile: /tmp/tmp0ow7qcla/_iiyxw2y.json\n",
            "DEBUG:cmdstanpy:idx 0\n",
            "DEBUG:cmdstanpy:running CmdStan, num_threads: None\n",
            "DEBUG:cmdstanpy:CmdStan args: ['/usr/local/lib/python3.7/dist-packages/prophet/stan_model/prophet_model.bin', 'random', 'seed=27221', 'data', 'file=/tmp/tmp0ow7qcla/eom816sr.json', 'init=/tmp/tmp0ow7qcla/_iiyxw2y.json', 'output', 'file=/tmp/tmpmqvurf0k/prophet_model-20220820142441.csv', 'method=optimize', 'algorithm=lbfgs', 'iter=10000']\n",
            "14:24:41 - cmdstanpy - INFO - Chain [1] start processing\n",
            "INFO:cmdstanpy:Chain [1] start processing\n",
            "14:24:41 - cmdstanpy - INFO - Chain [1] done processing\n",
            "INFO:cmdstanpy:Chain [1] done processing\n"
          ]
        },
        {
          "output_type": "stream",
          "name": "stdout",
          "text": [
            "Model Number: 824 with model MultivariateMotif in generation 7 of 10\n",
            "Model Number: 825 with model NVAR in generation 7 of 10\n",
            "Template Eval Error: Exception('Transformer BTCD failed on fit') in model 825: NVAR\n",
            "Model Number: 826 with model Theta in generation 7 of 10\n",
            "Model Number: 827 with model LastValueNaive in generation 7 of 10\n"
          ]
        },
        {
          "output_type": "stream",
          "name": "stderr",
          "text": [
            "/usr/local/lib/python3.7/dist-packages/sklearn/_loss/glm_distribution.py:132: RuntimeWarning: divide by zero encountered in true_divide\n",
            "  return -2 * (y - y_pred) / self.unit_variance(y_pred)\n",
            "/usr/local/lib/python3.7/dist-packages/sklearn/linear_model/_glm/glm.py:42: RuntimeWarning: invalid value encountered in multiply\n",
            "  temp = d1 * family.deviance_derivative(y, y_pred, weights)\n",
            "/usr/local/lib/python3.7/dist-packages/sklearn/_loss/glm_distribution.py:326: RuntimeWarning: divide by zero encountered in log\n",
            "  dev = 2 * (np.log(y_pred / y) + y / y_pred - 1)\n",
            "/usr/local/lib/python3.7/dist-packages/sklearn/_loss/glm_distribution.py:326: RuntimeWarning: divide by zero encountered in true_divide\n",
            "  dev = 2 * (np.log(y_pred / y) + y / y_pred - 1)\n",
            "/usr/local/lib/python3.7/dist-packages/sklearn/_loss/glm_distribution.py:326: RuntimeWarning: invalid value encountered in add\n",
            "  dev = 2 * (np.log(y_pred / y) + y / y_pred - 1)\n",
            "/usr/local/lib/python3.7/dist-packages/sklearn/linear_model/_glm/glm.py:323: ConvergenceWarning: lbfgs failed to converge (status=2):\n",
            "ABNORMAL_TERMINATION_IN_LNSRCH.\n",
            "\n",
            "Increase the number of iterations (max_iter) or scale the data as shown in:\n",
            "    https://scikit-learn.org/stable/modules/preprocessing.html\n",
            "  self.n_iter_ = _check_optimize_result(\"lbfgs\", opt_res)\n",
            "INFO:prophet:Disabling yearly seasonality. Run prophet with yearly_seasonality=True to override this.\n",
            "INFO:prophet:Disabling daily seasonality. Run prophet with daily_seasonality=True to override this.\n"
          ]
        },
        {
          "output_type": "stream",
          "name": "stdout",
          "text": [
            "Model Number: 828 with model MultivariateMotif in generation 7 of 10\n",
            "Template Eval Error: Exception('Transformer Detrend failed on fit') in model 828: MultivariateMotif\n",
            "Model Number: 829 with model FBProphet in generation 7 of 10\n",
            "Model Number: 830 with model NVAR in generation 7 of 10\n"
          ]
        },
        {
          "output_type": "stream",
          "name": "stderr",
          "text": [
            "/usr/local/lib/python3.7/dist-packages/sklearn/_loss/glm_distribution.py:132: RuntimeWarning: divide by zero encountered in true_divide\n",
            "  return -2 * (y - y_pred) / self.unit_variance(y_pred)\n",
            "/usr/local/lib/python3.7/dist-packages/sklearn/linear_model/_glm/glm.py:42: RuntimeWarning: invalid value encountered in multiply\n",
            "  temp = d1 * family.deviance_derivative(y, y_pred, weights)\n",
            "/usr/local/lib/python3.7/dist-packages/sklearn/_loss/glm_distribution.py:323: RuntimeWarning: divide by zero encountered in true_divide\n",
            "  dev = 2 * (xlogy(y, y / y_pred) - y + y_pred)\n",
            "INFO:prophet:Disabling yearly seasonality. Run prophet with yearly_seasonality=True to override this.\n",
            "INFO:prophet:Disabling daily seasonality. Run prophet with daily_seasonality=True to override this.\n",
            "DEBUG:cmdstanpy:input tempfile: /tmp/tmp0ow7qcla/w616x3r9.json\n",
            "DEBUG:cmdstanpy:input tempfile: /tmp/tmp0ow7qcla/n8bj017v.json\n",
            "DEBUG:cmdstanpy:idx 0\n",
            "DEBUG:cmdstanpy:running CmdStan, num_threads: None\n",
            "DEBUG:cmdstanpy:CmdStan args: ['/usr/local/lib/python3.7/dist-packages/prophet/stan_model/prophet_model.bin', 'random', 'seed=59496', 'data', 'file=/tmp/tmp0ow7qcla/w616x3r9.json', 'init=/tmp/tmp0ow7qcla/n8bj017v.json', 'output', 'file=/tmp/tmplfupjcu4/prophet_model-20220820142445.csv', 'method=optimize', 'algorithm=lbfgs', 'iter=10000']\n",
            "14:24:45 - cmdstanpy - INFO - Chain [1] start processing\n",
            "INFO:cmdstanpy:Chain [1] start processing\n"
          ]
        },
        {
          "output_type": "stream",
          "name": "stdout",
          "text": [
            "Model Number: 831 with model FBProphet in generation 7 of 10\n"
          ]
        },
        {
          "output_type": "stream",
          "name": "stderr",
          "text": [
            "14:24:46 - cmdstanpy - INFO - Chain [1] done processing\n",
            "INFO:cmdstanpy:Chain [1] done processing\n"
          ]
        },
        {
          "output_type": "stream",
          "name": "stdout",
          "text": [
            "Model Number: 832 with model UnivariateMotif in generation 7 of 10\n",
            "Model Number: 833 with model MultivariateRegression in generation 7 of 10\n",
            "Model Number: 834 with model LastValueNaive in generation 7 of 10\n",
            "Model Number: 835 with model ETS in generation 7 of 10\n",
            "Model Number: 836 with model LastValueNaive in generation 7 of 10\n",
            "Model Number: 837 with model NVAR in generation 7 of 10\n",
            "Model Number: 838 with model GLS in generation 7 of 10\n",
            "Model Number: 839 with model SectionalMotif in generation 7 of 10\n",
            "Template Eval Error: Exception('Transformer BTCD failed on fit') in model 839: SectionalMotif\n",
            "Model Number: 840 with model NVAR in generation 7 of 10\n",
            "Model Number: 841 with model MultivariateMotif in generation 7 of 10\n",
            "Model Number: 842 with model SectionalMotif in generation 7 of 10\n",
            "Model Number: 843 with model ETS in generation 7 of 10\n",
            "Model Number: 844 with model UnivariateMotif in generation 7 of 10\n",
            "Model Number: 845 with model NVAR in generation 7 of 10\n",
            "Model Number: 846 with model UnivariateMotif in generation 7 of 10\n"
          ]
        },
        {
          "output_type": "stream",
          "name": "stderr",
          "text": [
            "INFO:prophet:Disabling yearly seasonality. Run prophet with yearly_seasonality=True to override this.\n",
            "INFO:prophet:Disabling daily seasonality. Run prophet with daily_seasonality=True to override this.\n"
          ]
        },
        {
          "output_type": "stream",
          "name": "stdout",
          "text": [
            "Model Number: 847 with model FBProphet in generation 7 of 10\n"
          ]
        },
        {
          "output_type": "stream",
          "name": "stderr",
          "text": [
            "DEBUG:cmdstanpy:input tempfile: /tmp/tmp0ow7qcla/_da_qi7e.json\n",
            "DEBUG:cmdstanpy:input tempfile: /tmp/tmp0ow7qcla/jjjiie_7.json\n",
            "DEBUG:cmdstanpy:idx 0\n",
            "DEBUG:cmdstanpy:running CmdStan, num_threads: None\n",
            "DEBUG:cmdstanpy:CmdStan args: ['/usr/local/lib/python3.7/dist-packages/prophet/stan_model/prophet_model.bin', 'random', 'seed=43672', 'data', 'file=/tmp/tmp0ow7qcla/_da_qi7e.json', 'init=/tmp/tmp0ow7qcla/jjjiie_7.json', 'output', 'file=/tmp/tmpfkbe9pzq/prophet_model-20220820142449.csv', 'method=optimize', 'algorithm=lbfgs', 'iter=10000']\n",
            "14:24:49 - cmdstanpy - INFO - Chain [1] start processing\n",
            "INFO:cmdstanpy:Chain [1] start processing\n",
            "14:24:49 - cmdstanpy - INFO - Chain [1] done processing\n",
            "INFO:cmdstanpy:Chain [1] done processing\n",
            "INFO:prophet:Disabling yearly seasonality. Run prophet with yearly_seasonality=True to override this.\n",
            "INFO:prophet:Disabling daily seasonality. Run prophet with daily_seasonality=True to override this.\n",
            "DEBUG:cmdstanpy:input tempfile: /tmp/tmp0ow7qcla/eobpt10a.json\n",
            "DEBUG:cmdstanpy:input tempfile: /tmp/tmp0ow7qcla/a0_7_bdv.json\n",
            "DEBUG:cmdstanpy:idx 0\n",
            "DEBUG:cmdstanpy:running CmdStan, num_threads: None\n",
            "DEBUG:cmdstanpy:CmdStan args: ['/usr/local/lib/python3.7/dist-packages/prophet/stan_model/prophet_model.bin', 'random', 'seed=44488', 'data', 'file=/tmp/tmp0ow7qcla/eobpt10a.json', 'init=/tmp/tmp0ow7qcla/a0_7_bdv.json', 'output', 'file=/tmp/tmpwll2lr3r/prophet_model-20220820142450.csv', 'method=optimize', 'algorithm=lbfgs', 'iter=10000']\n",
            "14:24:50 - cmdstanpy - INFO - Chain [1] start processing\n",
            "INFO:cmdstanpy:Chain [1] start processing\n"
          ]
        },
        {
          "output_type": "stream",
          "name": "stdout",
          "text": [
            "Model Number: 848 with model FBProphet in generation 7 of 10\n"
          ]
        },
        {
          "output_type": "stream",
          "name": "stderr",
          "text": [
            "14:24:51 - cmdstanpy - INFO - Chain [1] done processing\n",
            "INFO:cmdstanpy:Chain [1] done processing\n"
          ]
        },
        {
          "output_type": "stream",
          "name": "stdout",
          "text": [
            "Model Number: 849 with model MultivariateMotif in generation 7 of 10\n",
            "Model Number: 850 with model UnivariateRegression in generation 7 of 10\n",
            "Model Number: 851 with model WindowRegression in generation 7 of 10\n",
            "Model Number: 852 with model UnivariateRegression in generation 7 of 10\n",
            "Model Number: 853 with model MultivariateRegression in generation 7 of 10\n",
            "Model Number: 854 with model UnivariateMotif in generation 7 of 10\n",
            "Model Number: 855 with model ConstantNaive in generation 7 of 10\n",
            "Model Number: 856 with model AverageValueNaive in generation 7 of 10\n",
            "Model Number: 857 with model DatepartRegression in generation 7 of 10\n",
            "Model Number: 858 with model UnivariateMotif in generation 7 of 10\n",
            "Model Number: 859 with model Theta in generation 7 of 10\n",
            "Model Number: 860 with model UnobservedComponents in generation 7 of 10\n",
            "Model Number: 861 with model MultivariateMotif in generation 7 of 10\n",
            "Model Number: 862 with model MultivariateRegression in generation 7 of 10\n",
            "Model Number: 863 with model AverageValueNaive in generation 7 of 10\n",
            "Model Number: 864 with model GLM in generation 7 of 10\n",
            "Model Number: 865 with model FBProphet in generation 7 of 10\n",
            "Template Eval Error: Exception('Transformer Detrend failed on fit') in model 865: FBProphet\n",
            "Model Number: 866 with model Theta in generation 7 of 10\n",
            "Model Number: 867 with model FBProphet in generation 7 of 10\n",
            "Template Eval Error: ValueError(\"regression_type='User' but no future_regressor passed\") in model 867: FBProphet\n",
            "Model Number: 868 with model SectionalMotif in generation 7 of 10\n",
            "Model Number: 869 with model ETS in generation 7 of 10\n",
            "Model Number: 870 with model WindowRegression in generation 7 of 10\n",
            "Model Number: 871 with model MultivariateRegression in generation 7 of 10\n"
          ]
        },
        {
          "output_type": "stream",
          "name": "stderr",
          "text": [
            "/usr/local/lib/python3.7/dist-packages/sklearn/svm/_base.py:1208: ConvergenceWarning: Liblinear failed to converge, increase the number of iterations.\n",
            "  ConvergenceWarning,\n",
            "/usr/local/lib/python3.7/dist-packages/sklearn/svm/_base.py:1208: ConvergenceWarning: Liblinear failed to converge, increase the number of iterations.\n",
            "  ConvergenceWarning,\n",
            "/usr/local/lib/python3.7/dist-packages/sklearn/svm/_base.py:1208: ConvergenceWarning: Liblinear failed to converge, increase the number of iterations.\n",
            "  ConvergenceWarning,\n",
            "/usr/local/lib/python3.7/dist-packages/sklearn/svm/_base.py:1208: ConvergenceWarning: Liblinear failed to converge, increase the number of iterations.\n",
            "  ConvergenceWarning,\n",
            "/usr/local/lib/python3.7/dist-packages/sklearn/svm/_base.py:1208: ConvergenceWarning: Liblinear failed to converge, increase the number of iterations.\n",
            "  ConvergenceWarning,\n",
            "/usr/local/lib/python3.7/dist-packages/sklearn/svm/_base.py:1208: ConvergenceWarning: Liblinear failed to converge, increase the number of iterations.\n",
            "  ConvergenceWarning,\n",
            "/usr/local/lib/python3.7/dist-packages/sklearn/svm/_base.py:1208: ConvergenceWarning: Liblinear failed to converge, increase the number of iterations.\n",
            "  ConvergenceWarning,\n",
            "/usr/local/lib/python3.7/dist-packages/sklearn/svm/_base.py:1208: ConvergenceWarning: Liblinear failed to converge, increase the number of iterations.\n",
            "  ConvergenceWarning,\n",
            "/usr/local/lib/python3.7/dist-packages/sklearn/svm/_base.py:1208: ConvergenceWarning: Liblinear failed to converge, increase the number of iterations.\n",
            "  ConvergenceWarning,\n",
            "/usr/local/lib/python3.7/dist-packages/sklearn/svm/_base.py:1208: ConvergenceWarning: Liblinear failed to converge, increase the number of iterations.\n",
            "  ConvergenceWarning,\n"
          ]
        },
        {
          "output_type": "stream",
          "name": "stdout",
          "text": [
            "Model Number: 872 with model FBProphet in generation 7 of 10\n"
          ]
        },
        {
          "output_type": "stream",
          "name": "stderr",
          "text": [
            "INFO:prophet:Disabling yearly seasonality. Run prophet with yearly_seasonality=True to override this.\n",
            "INFO:prophet:Disabling daily seasonality. Run prophet with daily_seasonality=True to override this.\n",
            "DEBUG:cmdstanpy:input tempfile: /tmp/tmp0ow7qcla/6ujehy2f.json\n",
            "DEBUG:cmdstanpy:input tempfile: /tmp/tmp0ow7qcla/er9bu57i.json\n",
            "DEBUG:cmdstanpy:idx 0\n",
            "DEBUG:cmdstanpy:running CmdStan, num_threads: None\n",
            "DEBUG:cmdstanpy:CmdStan args: ['/usr/local/lib/python3.7/dist-packages/prophet/stan_model/prophet_model.bin', 'random', 'seed=22083', 'data', 'file=/tmp/tmp0ow7qcla/6ujehy2f.json', 'init=/tmp/tmp0ow7qcla/er9bu57i.json', 'output', 'file=/tmp/tmph7s3ve4m/prophet_model-20220820142457.csv', 'method=optimize', 'algorithm=lbfgs', 'iter=10000']\n",
            "14:24:57 - cmdstanpy - INFO - Chain [1] start processing\n",
            "INFO:cmdstanpy:Chain [1] start processing\n",
            "14:24:57 - cmdstanpy - INFO - Chain [1] done processing\n",
            "INFO:cmdstanpy:Chain [1] done processing\n"
          ]
        },
        {
          "output_type": "stream",
          "name": "stdout",
          "text": [
            "Model Number: 873 with model LastValueNaive in generation 7 of 10\n",
            "Template Eval Error: Exception('Transformer BTCD failed on fit') in model 873: LastValueNaive\n",
            "New Generation: 8 of 10\n",
            "Model Number: 874 with model UnivariateMotif in generation 8 of 10\n",
            "Model Number: 875 with model ETS in generation 8 of 10\n",
            "Model Number: 876 with model UnivariateMotif in generation 8 of 10\n",
            "Model Number: 877 with model NVAR in generation 8 of 10\n",
            "Model Number: 878 with model UnobservedComponents in generation 8 of 10\n",
            "Model Number: 879 with model WindowRegression in generation 8 of 10\n"
          ]
        },
        {
          "output_type": "stream",
          "name": "stderr",
          "text": [
            "/usr/local/lib/python3.7/dist-packages/sklearn/_loss/glm_distribution.py:132: RuntimeWarning: divide by zero encountered in true_divide\n",
            "  return -2 * (y - y_pred) / self.unit_variance(y_pred)\n",
            "/usr/local/lib/python3.7/dist-packages/sklearn/linear_model/_glm/glm.py:42: RuntimeWarning: invalid value encountered in multiply\n",
            "  temp = d1 * family.deviance_derivative(y, y_pred, weights)\n",
            "/usr/local/lib/python3.7/dist-packages/sklearn/_loss/glm_distribution.py:326: RuntimeWarning: divide by zero encountered in log\n",
            "  dev = 2 * (np.log(y_pred / y) + y / y_pred - 1)\n",
            "/usr/local/lib/python3.7/dist-packages/sklearn/_loss/glm_distribution.py:326: RuntimeWarning: divide by zero encountered in true_divide\n",
            "  dev = 2 * (np.log(y_pred / y) + y / y_pred - 1)\n",
            "/usr/local/lib/python3.7/dist-packages/sklearn/_loss/glm_distribution.py:326: RuntimeWarning: invalid value encountered in add\n",
            "  dev = 2 * (np.log(y_pred / y) + y / y_pred - 1)\n",
            "/usr/local/lib/python3.7/dist-packages/sklearn/linear_model/_glm/glm.py:323: ConvergenceWarning: lbfgs failed to converge (status=2):\n",
            "ABNORMAL_TERMINATION_IN_LNSRCH.\n",
            "\n",
            "Increase the number of iterations (max_iter) or scale the data as shown in:\n",
            "    https://scikit-learn.org/stable/modules/preprocessing.html\n",
            "  self.n_iter_ = _check_optimize_result(\"lbfgs\", opt_res)\n"
          ]
        },
        {
          "output_type": "stream",
          "name": "stdout",
          "text": [
            "Model Number: 880 with model UnobservedComponents in generation 8 of 10\n"
          ]
        },
        {
          "output_type": "stream",
          "name": "stderr",
          "text": [
            "INFO:prophet:Disabling yearly seasonality. Run prophet with yearly_seasonality=True to override this.\n",
            "INFO:prophet:Disabling daily seasonality. Run prophet with daily_seasonality=True to override this.\n",
            "DEBUG:cmdstanpy:input tempfile: /tmp/tmp0ow7qcla/0d7lhs8k.json\n"
          ]
        },
        {
          "output_type": "stream",
          "name": "stdout",
          "text": [
            "Model Number: 881 with model UnivariateMotif in generation 8 of 10\n",
            "Template Eval Error: Exception('Transformer Cointegration failed on fit') in model 881: UnivariateMotif\n",
            "Model Number: 882 with model UnobservedComponents in generation 8 of 10\n",
            "Template Eval Error: ValueError(\"regression_type='User' but no future_regressor supplied\") in model 882: UnobservedComponents\n",
            "Model Number: 883 with model FBProphet in generation 8 of 10\n"
          ]
        },
        {
          "output_type": "stream",
          "name": "stderr",
          "text": [
            "DEBUG:cmdstanpy:input tempfile: /tmp/tmp0ow7qcla/ltp7haak.json\n",
            "DEBUG:cmdstanpy:idx 0\n",
            "DEBUG:cmdstanpy:running CmdStan, num_threads: None\n",
            "DEBUG:cmdstanpy:CmdStan args: ['/usr/local/lib/python3.7/dist-packages/prophet/stan_model/prophet_model.bin', 'random', 'seed=24289', 'data', 'file=/tmp/tmp0ow7qcla/0d7lhs8k.json', 'init=/tmp/tmp0ow7qcla/ltp7haak.json', 'output', 'file=/tmp/tmphsey3soo/prophet_model-20220820142501.csv', 'method=optimize', 'algorithm=lbfgs', 'iter=10000']\n",
            "14:25:01 - cmdstanpy - INFO - Chain [1] start processing\n",
            "INFO:cmdstanpy:Chain [1] start processing\n",
            "14:25:01 - cmdstanpy - INFO - Chain [1] done processing\n",
            "INFO:cmdstanpy:Chain [1] done processing\n"
          ]
        },
        {
          "output_type": "stream",
          "name": "stdout",
          "text": [
            "Model Number: 884 with model UnobservedComponents in generation 8 of 10\n",
            "Model Number: 885 with model SeasonalNaive in generation 8 of 10\n"
          ]
        },
        {
          "output_type": "stream",
          "name": "stderr",
          "text": [
            "INFO:prophet:Disabling yearly seasonality. Run prophet with yearly_seasonality=True to override this.\n",
            "INFO:prophet:Disabling daily seasonality. Run prophet with daily_seasonality=True to override this.\n",
            "DEBUG:cmdstanpy:input tempfile: /tmp/tmp0ow7qcla/z4a9sxzg.json\n",
            "DEBUG:cmdstanpy:input tempfile: /tmp/tmp0ow7qcla/ap9vdjv5.json\n"
          ]
        },
        {
          "output_type": "stream",
          "name": "stdout",
          "text": [
            "Model Number: 886 with model FBProphet in generation 8 of 10\n"
          ]
        },
        {
          "output_type": "stream",
          "name": "stderr",
          "text": [
            "DEBUG:cmdstanpy:idx 0\n",
            "DEBUG:cmdstanpy:running CmdStan, num_threads: None\n",
            "DEBUG:cmdstanpy:CmdStan args: ['/usr/local/lib/python3.7/dist-packages/prophet/stan_model/prophet_model.bin', 'random', 'seed=56549', 'data', 'file=/tmp/tmp0ow7qcla/z4a9sxzg.json', 'init=/tmp/tmp0ow7qcla/ap9vdjv5.json', 'output', 'file=/tmp/tmpie0ch64o/prophet_model-20220820142503.csv', 'method=optimize', 'algorithm=lbfgs', 'iter=10000']\n",
            "14:25:03 - cmdstanpy - INFO - Chain [1] start processing\n",
            "INFO:cmdstanpy:Chain [1] start processing\n",
            "14:25:03 - cmdstanpy - INFO - Chain [1] done processing\n",
            "INFO:cmdstanpy:Chain [1] done processing\n"
          ]
        },
        {
          "output_type": "stream",
          "name": "stdout",
          "text": [
            "Model Number: 887 with model GLS in generation 8 of 10\n",
            "Model Number: 888 with model SeasonalNaive in generation 8 of 10\n",
            "Model Number: 889 with model WindowRegression in generation 8 of 10\n",
            "Model Number: 890 with model SeasonalNaive in generation 8 of 10\n",
            "Template Eval Error: Exception('Transformer Detrend failed on fit') in model 890: SeasonalNaive\n",
            "Model Number: 891 with model UnobservedComponents in generation 8 of 10\n",
            "Model Number: 892 with model DatepartRegression in generation 8 of 10\n",
            "Model Number: 893 with model MultivariateRegression in generation 8 of 10\n",
            "Model Number: 894 with model NVAR in generation 8 of 10\n",
            "Model Number: 895 with model NVAR in generation 8 of 10\n",
            "Model Number: 896 with model ETS in generation 8 of 10\n",
            "Model Number: 897 with model Theta in generation 8 of 10\n",
            "Model Number: 898 with model AverageValueNaive in generation 8 of 10\n"
          ]
        },
        {
          "output_type": "stream",
          "name": "stderr",
          "text": [
            "/usr/local/lib/python3.7/dist-packages/sklearn/_loss/glm_distribution.py:132: RuntimeWarning: divide by zero encountered in true_divide\n",
            "  return -2 * (y - y_pred) / self.unit_variance(y_pred)\n",
            "/usr/local/lib/python3.7/dist-packages/sklearn/linear_model/_glm/glm.py:42: RuntimeWarning: invalid value encountered in multiply\n",
            "  temp = d1 * family.deviance_derivative(y, y_pred, weights)\n",
            "/usr/local/lib/python3.7/dist-packages/sklearn/_loss/glm_distribution.py:323: RuntimeWarning: divide by zero encountered in true_divide\n",
            "  dev = 2 * (xlogy(y, y / y_pred) - y + y_pred)\n",
            "INFO:prophet:Disabling yearly seasonality. Run prophet with yearly_seasonality=True to override this.\n",
            "INFO:prophet:Disabling daily seasonality. Run prophet with daily_seasonality=True to override this.\n",
            "DEBUG:cmdstanpy:input tempfile: /tmp/tmp0ow7qcla/gt95dci2.json\n",
            "DEBUG:cmdstanpy:input tempfile: /tmp/tmp0ow7qcla/g0bi69f3.json\n",
            "DEBUG:cmdstanpy:idx 0\n",
            "DEBUG:cmdstanpy:running CmdStan, num_threads: None\n",
            "DEBUG:cmdstanpy:CmdStan args: ['/usr/local/lib/python3.7/dist-packages/prophet/stan_model/prophet_model.bin', 'random', 'seed=39610', 'data', 'file=/tmp/tmp0ow7qcla/gt95dci2.json', 'init=/tmp/tmp0ow7qcla/g0bi69f3.json', 'output', 'file=/tmp/tmprfpa3rd1/prophet_model-20220820142507.csv', 'method=optimize', 'algorithm=lbfgs', 'iter=10000']\n",
            "14:25:07 - cmdstanpy - INFO - Chain [1] start processing\n",
            "INFO:cmdstanpy:Chain [1] start processing\n"
          ]
        },
        {
          "output_type": "stream",
          "name": "stdout",
          "text": [
            "Model Number: 899 with model FBProphet in generation 8 of 10\n"
          ]
        },
        {
          "output_type": "stream",
          "name": "stderr",
          "text": [
            "14:25:07 - cmdstanpy - INFO - Chain [1] done processing\n",
            "INFO:cmdstanpy:Chain [1] done processing\n"
          ]
        },
        {
          "output_type": "stream",
          "name": "stdout",
          "text": [
            "Model Number: 900 with model NVAR in generation 8 of 10\n",
            "Model Number: 901 with model ConstantNaive in generation 8 of 10\n",
            "Model Number: 902 with model Theta in generation 8 of 10\n",
            "Model Number: 903 with model UnivariateMotif in generation 8 of 10\n",
            "Model Number: 904 with model MultivariateMotif in generation 8 of 10\n",
            "Model Number: 905 with model ETS in generation 8 of 10\n",
            "Model Number: 906 with model MultivariateRegression in generation 8 of 10\n",
            "Model Number: 907 with model MultivariateMotif in generation 8 of 10\n",
            "Model Number: 908 with model AverageValueNaive in generation 8 of 10\n",
            "Model Number: 909 with model GLM in generation 8 of 10\n",
            "Template Eval Error: Exception('Transformer Cointegration failed on fit') in model 909: GLM\n",
            "Model Number: 910 with model UnivariateMotif in generation 8 of 10\n",
            "Model Number: 911 with model SectionalMotif in generation 8 of 10\n",
            "Model Number: 912 with model UnivariateRegression in generation 8 of 10\n",
            "Template Eval Error: ValueError(\"Input contains NaN, infinity or a value too large for dtype('float32').\") in model 912: UnivariateRegression\n",
            "Model Number: 913 with model ETS in generation 8 of 10\n",
            "Model Number: 914 with model ETS in generation 8 of 10\n",
            "Model Number: 915 with model LastValueNaive in generation 8 of 10\n",
            "Model Number: 916 with model MultivariateMotif in generation 8 of 10\n",
            "Model Number: 917 with model MultivariateRegression in generation 8 of 10\n",
            "Model Number: 918 with model SectionalMotif in generation 8 of 10\n",
            "Model Number: 919 with model Theta in generation 8 of 10\n"
          ]
        },
        {
          "output_type": "stream",
          "name": "stderr",
          "text": [
            "/usr/local/lib/python3.7/dist-packages/sklearn/linear_model/_glm/link.py:90: RuntimeWarning: overflow encountered in exp\n",
            "  return np.exp(lin_pred)\n",
            "/usr/local/lib/python3.7/dist-packages/sklearn/linear_model/_glm/link.py:93: RuntimeWarning: overflow encountered in exp\n",
            "  return np.exp(lin_pred)\n",
            "/usr/local/lib/python3.7/dist-packages/sklearn/_loss/glm_distribution.py:132: RuntimeWarning: invalid value encountered in true_divide\n",
            "  return -2 * (y - y_pred) / self.unit_variance(y_pred)\n",
            "/usr/local/lib/python3.7/dist-packages/sklearn/_loss/glm_distribution.py:323: RuntimeWarning: invalid value encountered in add\n",
            "  dev = 2 * (xlogy(y, y / y_pred) - y + y_pred)\n",
            "/usr/local/lib/python3.7/dist-packages/sklearn/linear_model/_glm/glm.py:323: ConvergenceWarning: lbfgs failed to converge (status=2):\n",
            "ABNORMAL_TERMINATION_IN_LNSRCH.\n",
            "\n",
            "Increase the number of iterations (max_iter) or scale the data as shown in:\n",
            "    https://scikit-learn.org/stable/modules/preprocessing.html\n",
            "  self.n_iter_ = _check_optimize_result(\"lbfgs\", opt_res)\n"
          ]
        },
        {
          "output_type": "stream",
          "name": "stdout",
          "text": [
            "Model Number: 920 with model WindowRegression in generation 8 of 10\n",
            "Model Number: 921 with model MultivariateMotif in generation 8 of 10\n"
          ]
        },
        {
          "output_type": "stream",
          "name": "stderr",
          "text": [
            "/usr/local/lib/python3.7/dist-packages/sklearn/neural_network/_multilayer_perceptron.py:549: ConvergenceWarning: lbfgs failed to converge (status=1):\n",
            "STOP: TOTAL NO. of ITERATIONS REACHED LIMIT.\n",
            "\n",
            "Increase the number of iterations (max_iter) or scale the data as shown in:\n",
            "    https://scikit-learn.org/stable/modules/preprocessing.html\n",
            "  self.n_iter_ = _check_optimize_result(\"lbfgs\", opt_res, self.max_iter)\n"
          ]
        },
        {
          "output_type": "stream",
          "name": "stdout",
          "text": [
            "Model Number: 922 with model ETS in generation 8 of 10\n",
            "Model Number: 923 with model Theta in generation 8 of 10\n",
            "Model Number: 924 with model SectionalMotif in generation 8 of 10\n",
            "Model Number: 925 with model LastValueNaive in generation 8 of 10\n",
            "Model Number: 926 with model NVAR in generation 8 of 10\n",
            "Model Number: 927 with model MultivariateRegression in generation 8 of 10\n",
            "Model Number: 928 with model AverageValueNaive in generation 8 of 10\n",
            "Model Number: 929 with model Theta in generation 8 of 10\n",
            "Model Number: 930 with model SeasonalNaive in generation 8 of 10\n",
            "Model Number: 931 with model MultivariateRegression in generation 8 of 10\n",
            "Model Number: 932 with model LastValueNaive in generation 8 of 10\n",
            "Model Number: 933 with model ConstantNaive in generation 8 of 10\n",
            "Model Number: 934 with model MultivariateRegression in generation 8 of 10\n",
            "Model Number: 935 with model MultivariateRegression in generation 8 of 10\n",
            "Model Number: 936 with model UnobservedComponents in generation 8 of 10\n",
            "Model Number: 937 with model UnivariateMotif in generation 8 of 10\n",
            "Model Number: 938 with model SectionalMotif in generation 8 of 10\n",
            "Template Eval Error: Exception('Transformer BTCD failed on fit') in model 938: SectionalMotif\n",
            "Model Number: 939 with model AverageValueNaive in generation 8 of 10\n",
            "Model Number: 940 with model WindowRegression in generation 8 of 10\n",
            "Model Number: 941 with model MultivariateMotif in generation 8 of 10\n"
          ]
        },
        {
          "output_type": "stream",
          "name": "stderr",
          "text": [
            "/usr/local/lib/python3.7/dist-packages/sklearn/neural_network/_multilayer_perceptron.py:549: ConvergenceWarning: lbfgs failed to converge (status=1):\n",
            "STOP: TOTAL NO. of ITERATIONS REACHED LIMIT.\n",
            "\n",
            "Increase the number of iterations (max_iter) or scale the data as shown in:\n",
            "    https://scikit-learn.org/stable/modules/preprocessing.html\n",
            "  self.n_iter_ = _check_optimize_result(\"lbfgs\", opt_res, self.max_iter)\n",
            "/usr/local/lib/python3.7/dist-packages/sklearn/_loss/glm_distribution.py:132: RuntimeWarning: divide by zero encountered in true_divide\n",
            "  return -2 * (y - y_pred) / self.unit_variance(y_pred)\n",
            "/usr/local/lib/python3.7/dist-packages/sklearn/linear_model/_glm/glm.py:42: RuntimeWarning: invalid value encountered in multiply\n",
            "  temp = d1 * family.deviance_derivative(y, y_pred, weights)\n",
            "/usr/local/lib/python3.7/dist-packages/sklearn/_loss/glm_distribution.py:326: RuntimeWarning: divide by zero encountered in log\n",
            "  dev = 2 * (np.log(y_pred / y) + y / y_pred - 1)\n",
            "/usr/local/lib/python3.7/dist-packages/sklearn/_loss/glm_distribution.py:326: RuntimeWarning: divide by zero encountered in true_divide\n",
            "  dev = 2 * (np.log(y_pred / y) + y / y_pred - 1)\n",
            "/usr/local/lib/python3.7/dist-packages/sklearn/_loss/glm_distribution.py:326: RuntimeWarning: invalid value encountered in add\n",
            "  dev = 2 * (np.log(y_pred / y) + y / y_pred - 1)\n",
            "/usr/local/lib/python3.7/dist-packages/sklearn/linear_model/_glm/glm.py:323: ConvergenceWarning: lbfgs failed to converge (status=2):\n",
            "ABNORMAL_TERMINATION_IN_LNSRCH.\n",
            "\n",
            "Increase the number of iterations (max_iter) or scale the data as shown in:\n",
            "    https://scikit-learn.org/stable/modules/preprocessing.html\n",
            "  self.n_iter_ = _check_optimize_result(\"lbfgs\", opt_res)\n",
            "/usr/local/lib/python3.7/dist-packages/sklearn/_loss/glm_distribution.py:132: RuntimeWarning: divide by zero encountered in true_divide\n",
            "  return -2 * (y - y_pred) / self.unit_variance(y_pred)\n",
            "/usr/local/lib/python3.7/dist-packages/sklearn/linear_model/_glm/glm.py:42: RuntimeWarning: invalid value encountered in multiply\n",
            "  temp = d1 * family.deviance_derivative(y, y_pred, weights)\n",
            "/usr/local/lib/python3.7/dist-packages/sklearn/_loss/glm_distribution.py:323: RuntimeWarning: divide by zero encountered in true_divide\n",
            "  dev = 2 * (xlogy(y, y / y_pred) - y + y_pred)\n"
          ]
        },
        {
          "output_type": "stream",
          "name": "stdout",
          "text": [
            "Model Number: 942 with model MultivariateRegression in generation 8 of 10\n",
            "Model Number: 943 with model WindowRegression in generation 8 of 10\n",
            "Template Eval Error: Exception('Transformer BTCD failed on fit') in model 943: WindowRegression\n",
            "Model Number: 944 with model GLS in generation 8 of 10\n",
            "Model Number: 945 with model UnivariateMotif in generation 8 of 10\n"
          ]
        },
        {
          "output_type": "stream",
          "name": "stderr",
          "text": [
            "INFO:prophet:Disabling yearly seasonality. Run prophet with yearly_seasonality=True to override this.\n",
            "INFO:prophet:Disabling daily seasonality. Run prophet with daily_seasonality=True to override this.\n"
          ]
        },
        {
          "output_type": "stream",
          "name": "stdout",
          "text": [
            "Model Number: 946 with model FBProphet in generation 8 of 10\n"
          ]
        },
        {
          "output_type": "stream",
          "name": "stderr",
          "text": [
            "DEBUG:cmdstanpy:input tempfile: /tmp/tmp0ow7qcla/ejoirbg8.json\n",
            "DEBUG:cmdstanpy:input tempfile: /tmp/tmp0ow7qcla/2q7i7vdl.json\n",
            "DEBUG:cmdstanpy:idx 0\n",
            "DEBUG:cmdstanpy:running CmdStan, num_threads: None\n",
            "DEBUG:cmdstanpy:CmdStan args: ['/usr/local/lib/python3.7/dist-packages/prophet/stan_model/prophet_model.bin', 'random', 'seed=30742', 'data', 'file=/tmp/tmp0ow7qcla/ejoirbg8.json', 'init=/tmp/tmp0ow7qcla/2q7i7vdl.json', 'output', 'file=/tmp/tmps120suci/prophet_model-20220820142520.csv', 'method=optimize', 'algorithm=lbfgs', 'iter=10000']\n",
            "14:25:20 - cmdstanpy - INFO - Chain [1] start processing\n",
            "INFO:cmdstanpy:Chain [1] start processing\n",
            "14:25:20 - cmdstanpy - INFO - Chain [1] done processing\n",
            "INFO:cmdstanpy:Chain [1] done processing\n"
          ]
        },
        {
          "output_type": "stream",
          "name": "stdout",
          "text": [
            "Model Number: 947 with model UnivariateRegression in generation 8 of 10\n"
          ]
        },
        {
          "output_type": "stream",
          "name": "stderr",
          "text": [
            "INFO:prophet:Disabling yearly seasonality. Run prophet with yearly_seasonality=True to override this.\n",
            "INFO:prophet:Disabling daily seasonality. Run prophet with daily_seasonality=True to override this.\n"
          ]
        },
        {
          "output_type": "stream",
          "name": "stdout",
          "text": [
            "Model Number: 948 with model FBProphet in generation 8 of 10\n",
            "Model Number: 949 with model LastValueNaive in generation 8 of 10\n",
            "Model Number: 950 with model UnobservedComponents in generation 8 of 10\n",
            "Model Number: 951 with model AverageValueNaive in generation 8 of 10\n"
          ]
        },
        {
          "output_type": "stream",
          "name": "stderr",
          "text": [
            "/usr/local/lib/python3.7/dist-packages/sklearn/_loss/glm_distribution.py:132: RuntimeWarning: divide by zero encountered in true_divide\n",
            "  return -2 * (y - y_pred) / self.unit_variance(y_pred)\n",
            "/usr/local/lib/python3.7/dist-packages/sklearn/linear_model/_glm/glm.py:42: RuntimeWarning: invalid value encountered in multiply\n",
            "  temp = d1 * family.deviance_derivative(y, y_pred, weights)\n",
            "/usr/local/lib/python3.7/dist-packages/sklearn/_loss/glm_distribution.py:326: RuntimeWarning: divide by zero encountered in log\n",
            "  dev = 2 * (np.log(y_pred / y) + y / y_pred - 1)\n",
            "/usr/local/lib/python3.7/dist-packages/sklearn/_loss/glm_distribution.py:326: RuntimeWarning: divide by zero encountered in true_divide\n",
            "  dev = 2 * (np.log(y_pred / y) + y / y_pred - 1)\n",
            "/usr/local/lib/python3.7/dist-packages/sklearn/_loss/glm_distribution.py:326: RuntimeWarning: invalid value encountered in add\n",
            "  dev = 2 * (np.log(y_pred / y) + y / y_pred - 1)\n",
            "/usr/local/lib/python3.7/dist-packages/sklearn/linear_model/_glm/glm.py:323: ConvergenceWarning: lbfgs failed to converge (status=2):\n",
            "ABNORMAL_TERMINATION_IN_LNSRCH.\n",
            "\n",
            "Increase the number of iterations (max_iter) or scale the data as shown in:\n",
            "    https://scikit-learn.org/stable/modules/preprocessing.html\n",
            "  self.n_iter_ = _check_optimize_result(\"lbfgs\", opt_res)\n"
          ]
        },
        {
          "output_type": "stream",
          "name": "stdout",
          "text": [
            "Model Number: 952 with model UnivariateMotif in generation 8 of 10\n",
            "Model Number: 953 with model SectionalMotif in generation 8 of 10\n",
            "Model Number: 954 with model UnivariateMotif in generation 8 of 10\n",
            "Model Number: 955 with model FBProphet in generation 8 of 10\n"
          ]
        },
        {
          "output_type": "stream",
          "name": "stderr",
          "text": [
            "INFO:prophet:Disabling yearly seasonality. Run prophet with yearly_seasonality=True to override this.\n",
            "INFO:prophet:Disabling daily seasonality. Run prophet with daily_seasonality=True to override this.\n",
            "DEBUG:cmdstanpy:input tempfile: /tmp/tmp0ow7qcla/uq0hfmp5.json\n",
            "DEBUG:cmdstanpy:input tempfile: /tmp/tmp0ow7qcla/05jdxflv.json\n",
            "DEBUG:cmdstanpy:idx 0\n",
            "DEBUG:cmdstanpy:running CmdStan, num_threads: None\n",
            "DEBUG:cmdstanpy:CmdStan args: ['/usr/local/lib/python3.7/dist-packages/prophet/stan_model/prophet_model.bin', 'random', 'seed=39200', 'data', 'file=/tmp/tmp0ow7qcla/uq0hfmp5.json', 'init=/tmp/tmp0ow7qcla/05jdxflv.json', 'output', 'file=/tmp/tmpzkozjum7/prophet_model-20220820142524.csv', 'method=optimize', 'algorithm=lbfgs', 'iter=10000']\n",
            "14:25:24 - cmdstanpy - INFO - Chain [1] start processing\n",
            "INFO:cmdstanpy:Chain [1] start processing\n",
            "14:25:24 - cmdstanpy - INFO - Chain [1] done processing\n",
            "INFO:cmdstanpy:Chain [1] done processing\n"
          ]
        },
        {
          "output_type": "stream",
          "name": "stdout",
          "text": [
            "Model Number: 956 with model WindowRegression in generation 8 of 10\n",
            "Model Number: 957 with model GLS in generation 8 of 10\n",
            "Model Number: 958 with model MultivariateMotif in generation 8 of 10\n"
          ]
        },
        {
          "output_type": "stream",
          "name": "stderr",
          "text": [
            "/usr/local/lib/python3.7/dist-packages/sklearn/neural_network/_multilayer_perceptron.py:549: ConvergenceWarning: lbfgs failed to converge (status=1):\n",
            "STOP: TOTAL NO. of ITERATIONS REACHED LIMIT.\n",
            "\n",
            "Increase the number of iterations (max_iter) or scale the data as shown in:\n",
            "    https://scikit-learn.org/stable/modules/preprocessing.html\n",
            "  self.n_iter_ = _check_optimize_result(\"lbfgs\", opt_res, self.max_iter)\n"
          ]
        },
        {
          "output_type": "stream",
          "name": "stdout",
          "text": [
            "Model Number: 959 with model NVAR in generation 8 of 10\n",
            "Model Number: 960 with model ConstantNaive in generation 8 of 10\n",
            "Model Number: 961 with model WindowRegression in generation 8 of 10\n"
          ]
        },
        {
          "output_type": "stream",
          "name": "stderr",
          "text": [
            "/usr/local/lib/python3.7/dist-packages/sklearn/neural_network/_multilayer_perceptron.py:549: ConvergenceWarning: lbfgs failed to converge (status=1):\n",
            "STOP: TOTAL NO. of ITERATIONS REACHED LIMIT.\n",
            "\n",
            "Increase the number of iterations (max_iter) or scale the data as shown in:\n",
            "    https://scikit-learn.org/stable/modules/preprocessing.html\n",
            "  self.n_iter_ = _check_optimize_result(\"lbfgs\", opt_res, self.max_iter)\n"
          ]
        },
        {
          "output_type": "stream",
          "name": "stdout",
          "text": [
            "New Generation: 9 of 10\n",
            "Model Number: 962 with model WindowRegression in generation 9 of 10\n"
          ]
        },
        {
          "output_type": "stream",
          "name": "stderr",
          "text": [
            "/usr/local/lib/python3.7/dist-packages/sklearn/neural_network/_multilayer_perceptron.py:549: ConvergenceWarning: lbfgs failed to converge (status=1):\n",
            "STOP: TOTAL NO. of ITERATIONS REACHED LIMIT.\n",
            "\n",
            "Increase the number of iterations (max_iter) or scale the data as shown in:\n",
            "    https://scikit-learn.org/stable/modules/preprocessing.html\n",
            "  self.n_iter_ = _check_optimize_result(\"lbfgs\", opt_res, self.max_iter)\n",
            "/usr/local/lib/python3.7/dist-packages/sklearn/_loss/glm_distribution.py:132: RuntimeWarning: divide by zero encountered in true_divide\n",
            "  return -2 * (y - y_pred) / self.unit_variance(y_pred)\n",
            "/usr/local/lib/python3.7/dist-packages/sklearn/linear_model/_glm/glm.py:42: RuntimeWarning: invalid value encountered in multiply\n",
            "  temp = d1 * family.deviance_derivative(y, y_pred, weights)\n",
            "/usr/local/lib/python3.7/dist-packages/sklearn/_loss/glm_distribution.py:331: RuntimeWarning: divide by zero encountered in power\n",
            "  + np.power(y_pred, 2 - p) / (2 - p)\n",
            "/usr/local/lib/python3.7/dist-packages/autots/tools/percentile.py:47: RuntimeWarning: All-NaN slice encountered\n",
            "  max_val = np.nanmax(arr)\n"
          ]
        },
        {
          "output_type": "stream",
          "name": "stdout",
          "text": [
            "Model Number: 963 with model UnivariateMotif in generation 9 of 10\n",
            "Template Eval Error: ValueError('Model UnivariateMotif returned NaN for one or more series. fail_on_forecast_nan=True') in model 963: UnivariateMotif\n",
            "Model Number: 964 with model AverageValueNaive in generation 9 of 10\n",
            "Model Number: 965 with model MultivariateRegression in generation 9 of 10\n"
          ]
        },
        {
          "output_type": "stream",
          "name": "stderr",
          "text": [
            "/usr/local/lib/python3.7/dist-packages/sklearn/_loss/glm_distribution.py:132: RuntimeWarning: divide by zero encountered in true_divide\n",
            "  return -2 * (y - y_pred) / self.unit_variance(y_pred)\n",
            "/usr/local/lib/python3.7/dist-packages/sklearn/linear_model/_glm/glm.py:42: RuntimeWarning: invalid value encountered in multiply\n",
            "  temp = d1 * family.deviance_derivative(y, y_pred, weights)\n",
            "/usr/local/lib/python3.7/dist-packages/sklearn/_loss/glm_distribution.py:323: RuntimeWarning: divide by zero encountered in true_divide\n",
            "  dev = 2 * (xlogy(y, y / y_pred) - y + y_pred)\n",
            "/usr/local/lib/python3.7/dist-packages/sklearn/svm/_base.py:1208: ConvergenceWarning: Liblinear failed to converge, increase the number of iterations.\n",
            "  ConvergenceWarning,\n"
          ]
        },
        {
          "output_type": "stream",
          "name": "stdout",
          "text": [
            "Model Number: 966 with model UnivariateMotif in generation 9 of 10\n",
            "Model Number: 967 with model Theta in generation 9 of 10\n",
            "Model Number: 968 with model LastValueNaive in generation 9 of 10\n",
            "Model Number: 969 with model SeasonalNaive in generation 9 of 10\n",
            "Model Number: 970 with model LastValueNaive in generation 9 of 10\n"
          ]
        },
        {
          "output_type": "stream",
          "name": "stderr",
          "text": [
            "INFO:prophet:Disabling yearly seasonality. Run prophet with yearly_seasonality=True to override this.\n",
            "INFO:prophet:Disabling daily seasonality. Run prophet with daily_seasonality=True to override this.\n"
          ]
        },
        {
          "output_type": "stream",
          "name": "stdout",
          "text": [
            "Model Number: 971 with model FBProphet in generation 9 of 10\n"
          ]
        },
        {
          "output_type": "stream",
          "name": "stderr",
          "text": [
            "DEBUG:cmdstanpy:input tempfile: /tmp/tmp0ow7qcla/2gix7fxe.json\n",
            "DEBUG:cmdstanpy:input tempfile: /tmp/tmp0ow7qcla/q08xshos.json\n",
            "DEBUG:cmdstanpy:idx 0\n",
            "DEBUG:cmdstanpy:running CmdStan, num_threads: None\n",
            "DEBUG:cmdstanpy:CmdStan args: ['/usr/local/lib/python3.7/dist-packages/prophet/stan_model/prophet_model.bin', 'random', 'seed=76660', 'data', 'file=/tmp/tmp0ow7qcla/2gix7fxe.json', 'init=/tmp/tmp0ow7qcla/q08xshos.json', 'output', 'file=/tmp/tmp0op46z2a/prophet_model-20220820142531.csv', 'method=optimize', 'algorithm=lbfgs', 'iter=10000']\n",
            "14:25:31 - cmdstanpy - INFO - Chain [1] start processing\n",
            "INFO:cmdstanpy:Chain [1] start processing\n",
            "14:25:31 - cmdstanpy - INFO - Chain [1] done processing\n",
            "INFO:cmdstanpy:Chain [1] done processing\n"
          ]
        },
        {
          "output_type": "stream",
          "name": "stdout",
          "text": [
            "Model Number: 972 with model MultivariateMotif in generation 9 of 10\n",
            "Model Number: 973 with model LastValueNaive in generation 9 of 10\n",
            "Template Eval Error: ValueError('Model LastValueNaive returned NaN for one or more series. fail_on_forecast_nan=True') in model 973: LastValueNaive\n",
            "Model Number: 974 with model SectionalMotif in generation 9 of 10\n",
            "Model Number: 975 with model SeasonalNaive in generation 9 of 10\n"
          ]
        },
        {
          "output_type": "stream",
          "name": "stderr",
          "text": [
            "/usr/local/lib/python3.7/dist-packages/autots/tools/percentile.py:47: RuntimeWarning: All-NaN slice encountered\n",
            "  max_val = np.nanmax(arr)\n"
          ]
        },
        {
          "output_type": "stream",
          "name": "stdout",
          "text": [
            "Model Number: 976 with model UnivariateMotif in generation 9 of 10\n",
            "Model Number: 977 with model UnobservedComponents in generation 9 of 10\n",
            "Model Number: 978 with model SectionalMotif in generation 9 of 10\n",
            "Model Number: 979 with model UnobservedComponents in generation 9 of 10\n",
            "Model Number: 980 with model MultivariateMotif in generation 9 of 10\n",
            "Model Number: 981 with model UnivariateMotif in generation 9 of 10\n",
            "Model Number: 982 with model ETS in generation 9 of 10\n",
            "Model Number: 983 with model DatepartRegression in generation 9 of 10\n",
            "Epoch 1/50\n",
            "6/6 [==============================] - 7s 16ms/step - loss: 0.3925\n",
            "Epoch 2/50\n",
            "6/6 [==============================] - 0s 20ms/step - loss: 0.2483\n",
            "Epoch 3/50\n",
            "6/6 [==============================] - 0s 17ms/step - loss: 0.2129\n",
            "Epoch 4/50\n",
            "6/6 [==============================] - 0s 19ms/step - loss: 0.2013\n",
            "Epoch 5/50\n",
            "6/6 [==============================] - 0s 19ms/step - loss: 0.1844\n",
            "Epoch 6/50\n",
            "6/6 [==============================] - 0s 18ms/step - loss: 0.1920\n",
            "Epoch 7/50\n",
            "6/6 [==============================] - 0s 15ms/step - loss: 0.1816\n",
            "Epoch 8/50\n",
            "6/6 [==============================] - 0s 15ms/step - loss: 0.1793\n",
            "Epoch 9/50\n",
            "6/6 [==============================] - 0s 16ms/step - loss: 0.1788\n",
            "Epoch 10/50\n",
            "6/6 [==============================] - 0s 14ms/step - loss: 0.1741\n",
            "Epoch 11/50\n",
            "6/6 [==============================] - 0s 16ms/step - loss: 0.1721\n",
            "Epoch 12/50\n",
            "6/6 [==============================] - 0s 14ms/step - loss: 0.1731\n",
            "Epoch 13/50\n",
            "6/6 [==============================] - 0s 16ms/step - loss: 0.1747\n",
            "Epoch 14/50\n",
            "6/6 [==============================] - 0s 16ms/step - loss: 0.1781\n",
            "Epoch 15/50\n",
            "6/6 [==============================] - 0s 16ms/step - loss: 0.1754\n",
            "Epoch 16/50\n",
            "6/6 [==============================] - 0s 17ms/step - loss: 0.1725\n",
            "Epoch 17/50\n",
            "6/6 [==============================] - 0s 17ms/step - loss: 0.1788\n",
            "Epoch 18/50\n",
            "6/6 [==============================] - 0s 16ms/step - loss: 0.1741\n",
            "Epoch 19/50\n",
            "6/6 [==============================] - 0s 17ms/step - loss: 0.1699\n",
            "Epoch 20/50\n",
            "6/6 [==============================] - 0s 18ms/step - loss: 0.1728\n",
            "Epoch 21/50\n",
            "6/6 [==============================] - 0s 18ms/step - loss: 0.1752\n",
            "Epoch 22/50\n",
            "6/6 [==============================] - 0s 18ms/step - loss: 0.1743\n",
            "Epoch 23/50\n",
            "6/6 [==============================] - 0s 17ms/step - loss: 0.1757\n",
            "Epoch 24/50\n",
            "6/6 [==============================] - 0s 17ms/step - loss: 0.1731\n",
            "Epoch 25/50\n",
            "6/6 [==============================] - 0s 17ms/step - loss: 0.1723\n",
            "Epoch 26/50\n",
            "6/6 [==============================] - 0s 17ms/step - loss: 0.1713\n",
            "Epoch 27/50\n",
            "6/6 [==============================] - 0s 17ms/step - loss: 0.1736\n",
            "Epoch 28/50\n",
            "6/6 [==============================] - 0s 18ms/step - loss: 0.1707\n",
            "Epoch 29/50\n",
            "6/6 [==============================] - 0s 16ms/step - loss: 0.1746\n",
            "Epoch 30/50\n",
            "6/6 [==============================] - 0s 18ms/step - loss: 0.1703\n",
            "Epoch 31/50\n",
            "6/6 [==============================] - 0s 19ms/step - loss: 0.1708\n",
            "Epoch 32/50\n",
            "6/6 [==============================] - 0s 17ms/step - loss: 0.1703\n",
            "Epoch 33/50\n",
            "6/6 [==============================] - 0s 16ms/step - loss: 0.1712\n",
            "Epoch 34/50\n",
            "6/6 [==============================] - 0s 15ms/step - loss: 0.1721\n",
            "Epoch 35/50\n",
            "6/6 [==============================] - 0s 15ms/step - loss: 0.1723\n",
            "Epoch 36/50\n",
            "6/6 [==============================] - 0s 16ms/step - loss: 0.1690\n",
            "Epoch 37/50\n",
            "6/6 [==============================] - 0s 17ms/step - loss: 0.1713\n",
            "Epoch 38/50\n",
            "6/6 [==============================] - 0s 14ms/step - loss: 0.1731\n",
            "Epoch 39/50\n",
            "6/6 [==============================] - 0s 15ms/step - loss: 0.1687\n",
            "Epoch 40/50\n",
            "6/6 [==============================] - 0s 15ms/step - loss: 0.1720\n",
            "Epoch 41/50\n",
            "6/6 [==============================] - 0s 17ms/step - loss: 0.1716\n",
            "Epoch 42/50\n",
            "6/6 [==============================] - 0s 15ms/step - loss: 0.1718\n",
            "Epoch 43/50\n",
            "6/6 [==============================] - 0s 17ms/step - loss: 0.1719\n",
            "Epoch 44/50\n",
            "6/6 [==============================] - 0s 16ms/step - loss: 0.1728\n",
            "Epoch 45/50\n",
            "6/6 [==============================] - 0s 18ms/step - loss: 0.1732\n",
            "Epoch 46/50\n",
            "6/6 [==============================] - 0s 17ms/step - loss: 0.1714\n",
            "Epoch 47/50\n",
            "6/6 [==============================] - 0s 18ms/step - loss: 0.1706\n",
            "Epoch 48/50\n",
            "6/6 [==============================] - 0s 15ms/step - loss: 0.1699\n",
            "Epoch 49/50\n",
            "6/6 [==============================] - 0s 20ms/step - loss: 0.1734\n",
            "Epoch 50/50\n",
            "6/6 [==============================] - 0s 18ms/step - loss: 0.1681\n",
            "Model Number: 984 with model AverageValueNaive in generation 9 of 10\n",
            "Model Number: 985 with model NVAR in generation 9 of 10\n",
            "Model Number: 986 with model AverageValueNaive in generation 9 of 10\n",
            "Model Number: 987 with model Theta in generation 9 of 10\n",
            "Model Number: 988 with model Theta in generation 9 of 10\n"
          ]
        },
        {
          "output_type": "stream",
          "name": "stderr",
          "text": [
            "INFO:prophet:Disabling yearly seasonality. Run prophet with yearly_seasonality=True to override this.\n",
            "INFO:prophet:Disabling daily seasonality. Run prophet with daily_seasonality=True to override this.\n",
            "DEBUG:cmdstanpy:input tempfile: /tmp/tmp0ow7qcla/bvuqv83g.json\n",
            "DEBUG:cmdstanpy:input tempfile: /tmp/tmp0ow7qcla/lqip63sx.json\n",
            "DEBUG:cmdstanpy:idx 0\n",
            "DEBUG:cmdstanpy:running CmdStan, num_threads: None\n",
            "DEBUG:cmdstanpy:CmdStan args: ['/usr/local/lib/python3.7/dist-packages/prophet/stan_model/prophet_model.bin', 'random', 'seed=52240', 'data', 'file=/tmp/tmp0ow7qcla/bvuqv83g.json', 'init=/tmp/tmp0ow7qcla/lqip63sx.json', 'output', 'file=/tmp/tmpqp85pcvi/prophet_model-20220820142554.csv', 'method=optimize', 'algorithm=lbfgs', 'iter=10000']\n",
            "14:25:54 - cmdstanpy - INFO - Chain [1] start processing\n",
            "INFO:cmdstanpy:Chain [1] start processing\n"
          ]
        },
        {
          "output_type": "stream",
          "name": "stdout",
          "text": [
            "Model Number: 989 with model FBProphet in generation 9 of 10\n"
          ]
        },
        {
          "output_type": "stream",
          "name": "stderr",
          "text": [
            "14:25:54 - cmdstanpy - INFO - Chain [1] done processing\n",
            "INFO:cmdstanpy:Chain [1] done processing\n"
          ]
        },
        {
          "output_type": "stream",
          "name": "stdout",
          "text": [
            "Model Number: 990 with model ConstantNaive in generation 9 of 10\n",
            "Model Number: 991 with model LastValueNaive in generation 9 of 10\n",
            "Model Number: 992 with model SectionalMotif in generation 9 of 10\n",
            "Model Number: 993 with model Theta in generation 9 of 10\n",
            "Model Number: 994 with model AverageValueNaive in generation 9 of 10\n",
            "Model Number: 995 with model WindowRegression in generation 9 of 10\n",
            "Model Number: 996 with model MultivariateMotif in generation 9 of 10\n",
            "Model Number: 997 with model MultivariateMotif in generation 9 of 10\n"
          ]
        },
        {
          "output_type": "stream",
          "name": "stderr",
          "text": [
            "/usr/local/lib/python3.7/dist-packages/sklearn/neural_network/_multilayer_perceptron.py:549: ConvergenceWarning: lbfgs failed to converge (status=1):\n",
            "STOP: TOTAL NO. of ITERATIONS REACHED LIMIT.\n",
            "\n",
            "Increase the number of iterations (max_iter) or scale the data as shown in:\n",
            "    https://scikit-learn.org/stable/modules/preprocessing.html\n",
            "  self.n_iter_ = _check_optimize_result(\"lbfgs\", opt_res, self.max_iter)\n",
            "/usr/local/lib/python3.7/dist-packages/sklearn/_loss/glm_distribution.py:132: RuntimeWarning: divide by zero encountered in true_divide\n",
            "  return -2 * (y - y_pred) / self.unit_variance(y_pred)\n",
            "/usr/local/lib/python3.7/dist-packages/sklearn/linear_model/_glm/glm.py:42: RuntimeWarning: invalid value encountered in multiply\n",
            "  temp = d1 * family.deviance_derivative(y, y_pred, weights)\n",
            "/usr/local/lib/python3.7/dist-packages/sklearn/_loss/glm_distribution.py:326: RuntimeWarning: divide by zero encountered in log\n",
            "  dev = 2 * (np.log(y_pred / y) + y / y_pred - 1)\n",
            "/usr/local/lib/python3.7/dist-packages/sklearn/_loss/glm_distribution.py:326: RuntimeWarning: divide by zero encountered in true_divide\n",
            "  dev = 2 * (np.log(y_pred / y) + y / y_pred - 1)\n",
            "/usr/local/lib/python3.7/dist-packages/sklearn/_loss/glm_distribution.py:326: RuntimeWarning: invalid value encountered in add\n",
            "  dev = 2 * (np.log(y_pred / y) + y / y_pred - 1)\n",
            "/usr/local/lib/python3.7/dist-packages/sklearn/linear_model/_glm/glm.py:323: ConvergenceWarning: lbfgs failed to converge (status=2):\n",
            "ABNORMAL_TERMINATION_IN_LNSRCH.\n",
            "\n",
            "Increase the number of iterations (max_iter) or scale the data as shown in:\n",
            "    https://scikit-learn.org/stable/modules/preprocessing.html\n",
            "  self.n_iter_ = _check_optimize_result(\"lbfgs\", opt_res)\n"
          ]
        },
        {
          "output_type": "stream",
          "name": "stdout",
          "text": [
            "Model Number: 998 with model Theta in generation 9 of 10\n",
            "Model Number: 999 with model UnivariateMotif in generation 9 of 10\n",
            "Model Number: 1000 with model UnivariateRegression in generation 9 of 10\n",
            "Model Number: 1001 with model AverageValueNaive in generation 9 of 10\n",
            "Template Eval Error: Exception('Transformer Cointegration failed on fit') in model 1001: AverageValueNaive\n",
            "Model Number: 1002 with model UnivariateRegression in generation 9 of 10\n"
          ]
        },
        {
          "output_type": "stream",
          "name": "stderr",
          "text": [
            "/usr/local/lib/python3.7/dist-packages/autots/tools/probabilistic.py:67: RuntimeWarning: invalid value encountered in true_divide\n",
            "  (prior_mu / prior_sigma**2) + ((n * data_mu) / prior_sigma**2)\n",
            "/usr/local/lib/python3.7/dist-packages/autots/tools/probabilistic.py:68: RuntimeWarning: divide by zero encountered in true_divide\n",
            "  ) / ((1 / prior_sigma**2) + (n / prior_sigma**2))\n",
            "INFO:prophet:Disabling yearly seasonality. Run prophet with yearly_seasonality=True to override this.\n",
            "INFO:prophet:Disabling daily seasonality. Run prophet with daily_seasonality=True to override this.\n",
            "DEBUG:cmdstanpy:input tempfile: /tmp/tmp0ow7qcla/1yg944z5.json\n",
            "DEBUG:cmdstanpy:input tempfile: /tmp/tmp0ow7qcla/3k5xvhj7.json\n"
          ]
        },
        {
          "output_type": "stream",
          "name": "stdout",
          "text": [
            "Model Number: 1003 with model FBProphet in generation 9 of 10\n"
          ]
        },
        {
          "output_type": "stream",
          "name": "stderr",
          "text": [
            "DEBUG:cmdstanpy:idx 0\n",
            "DEBUG:cmdstanpy:running CmdStan, num_threads: None\n",
            "DEBUG:cmdstanpy:CmdStan args: ['/usr/local/lib/python3.7/dist-packages/prophet/stan_model/prophet_model.bin', 'random', 'seed=81472', 'data', 'file=/tmp/tmp0ow7qcla/1yg944z5.json', 'init=/tmp/tmp0ow7qcla/3k5xvhj7.json', 'output', 'file=/tmp/tmpdm3q2_hs/prophet_model-20220820142558.csv', 'method=optimize', 'algorithm=lbfgs', 'iter=10000']\n",
            "14:25:58 - cmdstanpy - INFO - Chain [1] start processing\n",
            "INFO:cmdstanpy:Chain [1] start processing\n",
            "14:25:59 - cmdstanpy - INFO - Chain [1] done processing\n",
            "INFO:cmdstanpy:Chain [1] done processing\n"
          ]
        },
        {
          "output_type": "stream",
          "name": "stdout",
          "text": [
            "Model Number: 1004 with model WindowRegression in generation 9 of 10\n"
          ]
        },
        {
          "output_type": "stream",
          "name": "stderr",
          "text": [
            "/usr/local/lib/python3.7/dist-packages/sklearn/_loss/glm_distribution.py:132: RuntimeWarning: divide by zero encountered in true_divide\n",
            "  return -2 * (y - y_pred) / self.unit_variance(y_pred)\n",
            "/usr/local/lib/python3.7/dist-packages/sklearn/linear_model/_glm/glm.py:42: RuntimeWarning: invalid value encountered in multiply\n",
            "  temp = d1 * family.deviance_derivative(y, y_pred, weights)\n",
            "/usr/local/lib/python3.7/dist-packages/sklearn/_loss/glm_distribution.py:331: RuntimeWarning: divide by zero encountered in power\n",
            "  + np.power(y_pred, 2 - p) / (2 - p)\n"
          ]
        },
        {
          "output_type": "stream",
          "name": "stdout",
          "text": [
            "Model Number: 1005 with model ETS in generation 9 of 10\n",
            "Model Number: 1006 with model FBProphet in generation 9 of 10\n"
          ]
        },
        {
          "output_type": "stream",
          "name": "stderr",
          "text": [
            "INFO:prophet:Disabling yearly seasonality. Run prophet with yearly_seasonality=True to override this.\n",
            "INFO:prophet:Disabling daily seasonality. Run prophet with daily_seasonality=True to override this.\n",
            "DEBUG:cmdstanpy:input tempfile: /tmp/tmp0ow7qcla/su4ns063.json\n",
            "DEBUG:cmdstanpy:input tempfile: /tmp/tmp0ow7qcla/7itblw23.json\n",
            "DEBUG:cmdstanpy:idx 0\n",
            "DEBUG:cmdstanpy:running CmdStan, num_threads: None\n",
            "DEBUG:cmdstanpy:CmdStan args: ['/usr/local/lib/python3.7/dist-packages/prophet/stan_model/prophet_model.bin', 'random', 'seed=89011', 'data', 'file=/tmp/tmp0ow7qcla/su4ns063.json', 'init=/tmp/tmp0ow7qcla/7itblw23.json', 'output', 'file=/tmp/tmpm6l107ih/prophet_model-20220820142601.csv', 'method=optimize', 'algorithm=lbfgs', 'iter=10000']\n",
            "14:26:01 - cmdstanpy - INFO - Chain [1] start processing\n",
            "INFO:cmdstanpy:Chain [1] start processing\n",
            "14:26:01 - cmdstanpy - INFO - Chain [1] done processing\n",
            "INFO:cmdstanpy:Chain [1] done processing\n"
          ]
        },
        {
          "output_type": "stream",
          "name": "stdout",
          "text": [
            "Model Number: 1007 with model UnivariateMotif in generation 9 of 10\n",
            "Model Number: 1008 with model UnobservedComponents in generation 9 of 10\n",
            "Template Eval Error: ValueError('Model UnobservedComponents returned NaN for one or more series. fail_on_forecast_nan=True') in model 1008: UnobservedComponents\n",
            "Model Number: 1009 with model Theta in generation 9 of 10\n"
          ]
        },
        {
          "output_type": "stream",
          "name": "stderr",
          "text": [
            "/usr/local/lib/python3.7/dist-packages/sklearn/_loss/glm_distribution.py:132: RuntimeWarning: divide by zero encountered in true_divide\n",
            "  return -2 * (y - y_pred) / self.unit_variance(y_pred)\n",
            "/usr/local/lib/python3.7/dist-packages/sklearn/linear_model/_glm/glm.py:42: RuntimeWarning: invalid value encountered in multiply\n",
            "  temp = d1 * family.deviance_derivative(y, y_pred, weights)\n",
            "/usr/local/lib/python3.7/dist-packages/sklearn/_loss/glm_distribution.py:326: RuntimeWarning: divide by zero encountered in log\n",
            "  dev = 2 * (np.log(y_pred / y) + y / y_pred - 1)\n",
            "/usr/local/lib/python3.7/dist-packages/sklearn/_loss/glm_distribution.py:326: RuntimeWarning: divide by zero encountered in true_divide\n",
            "  dev = 2 * (np.log(y_pred / y) + y / y_pred - 1)\n",
            "/usr/local/lib/python3.7/dist-packages/sklearn/_loss/glm_distribution.py:326: RuntimeWarning: invalid value encountered in add\n",
            "  dev = 2 * (np.log(y_pred / y) + y / y_pred - 1)\n",
            "/usr/local/lib/python3.7/dist-packages/sklearn/linear_model/_glm/glm.py:323: ConvergenceWarning: lbfgs failed to converge (status=2):\n",
            "ABNORMAL_TERMINATION_IN_LNSRCH.\n",
            "\n",
            "Increase the number of iterations (max_iter) or scale the data as shown in:\n",
            "    https://scikit-learn.org/stable/modules/preprocessing.html\n",
            "  self.n_iter_ = _check_optimize_result(\"lbfgs\", opt_res)\n"
          ]
        },
        {
          "output_type": "stream",
          "name": "stdout",
          "text": [
            "Model Number: 1010 with model WindowRegression in generation 9 of 10\n",
            "Model Number: 1011 with model MultivariateMotif in generation 9 of 10\n",
            "Model Number: 1012 with model SeasonalNaive in generation 9 of 10\n",
            "Model Number: 1013 with model NVAR in generation 9 of 10\n",
            "Model Number: 1014 with model FBProphet in generation 9 of 10\n"
          ]
        },
        {
          "output_type": "stream",
          "name": "stderr",
          "text": [
            "INFO:prophet:Disabling yearly seasonality. Run prophet with yearly_seasonality=True to override this.\n",
            "INFO:prophet:Disabling daily seasonality. Run prophet with daily_seasonality=True to override this.\n",
            "DEBUG:cmdstanpy:input tempfile: /tmp/tmp0ow7qcla/0udk8b9p.json\n",
            "DEBUG:cmdstanpy:input tempfile: /tmp/tmp0ow7qcla/0fxnhxh9.json\n",
            "DEBUG:cmdstanpy:idx 0\n",
            "DEBUG:cmdstanpy:running CmdStan, num_threads: None\n",
            "DEBUG:cmdstanpy:CmdStan args: ['/usr/local/lib/python3.7/dist-packages/prophet/stan_model/prophet_model.bin', 'random', 'seed=61764', 'data', 'file=/tmp/tmp0ow7qcla/0udk8b9p.json', 'init=/tmp/tmp0ow7qcla/0fxnhxh9.json', 'output', 'file=/tmp/tmpba12krd6/prophet_model-20220820142603.csv', 'method=optimize', 'algorithm=lbfgs', 'iter=10000']\n",
            "14:26:03 - cmdstanpy - INFO - Chain [1] start processing\n",
            "INFO:cmdstanpy:Chain [1] start processing\n",
            "14:26:04 - cmdstanpy - INFO - Chain [1] done processing\n",
            "INFO:cmdstanpy:Chain [1] done processing\n"
          ]
        },
        {
          "output_type": "stream",
          "name": "stdout",
          "text": [
            "Model Number: 1015 with model ETS in generation 9 of 10\n",
            "Model Number: 1016 with model MultivariateRegression in generation 9 of 10\n",
            "Model Number: 1017 with model UnivariateMotif in generation 9 of 10\n",
            "Model Number: 1018 with model UnivariateRegression in generation 9 of 10\n",
            "Model Number: 1019 with model DatepartRegression in generation 9 of 10\n"
          ]
        },
        {
          "output_type": "stream",
          "name": "stderr",
          "text": [
            "[Parallel(n_jobs=-2)]: Using backend SequentialBackend with 1 concurrent workers.\n",
            "[Parallel(n_jobs=-2)]: Done 100 out of 100 | elapsed:    0.1s finished\n",
            "[Parallel(n_jobs=1)]: Using backend SequentialBackend with 1 concurrent workers.\n",
            "[Parallel(n_jobs=1)]: Done 100 out of 100 | elapsed:    0.0s finished\n"
          ]
        },
        {
          "output_type": "stream",
          "name": "stdout",
          "text": [
            "Model Number: 1020 with model ETS in generation 9 of 10\n",
            "Model Number: 1021 with model AverageValueNaive in generation 9 of 10\n",
            "Model Number: 1022 with model AverageValueNaive in generation 9 of 10\n",
            "Model Number: 1023 with model SeasonalNaive in generation 9 of 10\n",
            "Model Number: 1024 with model MultivariateRegression in generation 9 of 10\n",
            "Model Number: 1025 with model UnivariateMotif in generation 9 of 10\n",
            "Model Number: 1026 with model UnivariateMotif in generation 9 of 10\n",
            "Model Number: 1027 with model GLS in generation 9 of 10\n",
            "Model Number: 1028 with model SectionalMotif in generation 9 of 10\n",
            "Model Number: 1029 with model LastValueNaive in generation 9 of 10\n",
            "Model Number: 1030 with model FBProphet in generation 9 of 10\n"
          ]
        },
        {
          "output_type": "stream",
          "name": "stderr",
          "text": [
            "INFO:prophet:Disabling yearly seasonality. Run prophet with yearly_seasonality=True to override this.\n",
            "INFO:prophet:Disabling daily seasonality. Run prophet with daily_seasonality=True to override this.\n",
            "DEBUG:cmdstanpy:input tempfile: /tmp/tmp0ow7qcla/ftb_7_ns.json\n",
            "DEBUG:cmdstanpy:input tempfile: /tmp/tmp0ow7qcla/_pc4oba2.json\n",
            "DEBUG:cmdstanpy:idx 0\n",
            "DEBUG:cmdstanpy:running CmdStan, num_threads: None\n",
            "DEBUG:cmdstanpy:CmdStan args: ['/usr/local/lib/python3.7/dist-packages/prophet/stan_model/prophet_model.bin', 'random', 'seed=23436', 'data', 'file=/tmp/tmp0ow7qcla/ftb_7_ns.json', 'init=/tmp/tmp0ow7qcla/_pc4oba2.json', 'output', 'file=/tmp/tmpfr0ll36v/prophet_model-20220820142607.csv', 'method=optimize', 'algorithm=lbfgs', 'iter=10000']\n",
            "14:26:07 - cmdstanpy - INFO - Chain [1] start processing\n",
            "INFO:cmdstanpy:Chain [1] start processing\n",
            "14:26:07 - cmdstanpy - INFO - Chain [1] done processing\n",
            "INFO:cmdstanpy:Chain [1] done processing\n"
          ]
        },
        {
          "output_type": "stream",
          "name": "stdout",
          "text": [
            "Model Number: 1031 with model MultivariateRegression in generation 9 of 10\n",
            "Model Number: 1032 with model NVAR in generation 9 of 10\n",
            "Template Eval Error: Exception('Transformer Detrend failed on fit') in model 1032: NVAR\n",
            "Model Number: 1033 with model ConstantNaive in generation 9 of 10\n",
            "Model Number: 1034 with model SectionalMotif in generation 9 of 10\n",
            "Model Number: 1035 with model SectionalMotif in generation 9 of 10\n",
            "Model Number: 1036 with model Theta in generation 9 of 10\n",
            "Model Number: 1037 with model WindowRegression in generation 9 of 10\n",
            "Template Eval Error: ValueError(\"regression_type='User' but no future_regressor passed\") in model 1037: WindowRegression\n",
            "Model Number: 1038 with model MultivariateRegression in generation 9 of 10\n",
            "Model Number: 1039 with model Theta in generation 9 of 10\n"
          ]
        },
        {
          "output_type": "stream",
          "name": "stderr",
          "text": [
            "/usr/local/lib/python3.7/dist-packages/sklearn/_loss/glm_distribution.py:132: RuntimeWarning: divide by zero encountered in true_divide\n",
            "  return -2 * (y - y_pred) / self.unit_variance(y_pred)\n",
            "/usr/local/lib/python3.7/dist-packages/sklearn/linear_model/_glm/glm.py:42: RuntimeWarning: invalid value encountered in multiply\n",
            "  temp = d1 * family.deviance_derivative(y, y_pred, weights)\n",
            "/usr/local/lib/python3.7/dist-packages/sklearn/_loss/glm_distribution.py:331: RuntimeWarning: divide by zero encountered in power\n",
            "  + np.power(y_pred, 2 - p) / (2 - p)\n"
          ]
        },
        {
          "output_type": "stream",
          "name": "stdout",
          "text": [
            "Model Number: 1040 with model UnobservedComponents in generation 9 of 10\n",
            "Model Number: 1041 with model MultivariateMotif in generation 9 of 10\n",
            "Model Number: 1042 with model UnivariateMotif in generation 9 of 10\n",
            "Model Number: 1043 with model MultivariateRegression in generation 9 of 10\n",
            "Model Number: 1044 with model UnobservedComponents in generation 9 of 10\n"
          ]
        },
        {
          "output_type": "stream",
          "name": "stderr",
          "text": [
            "INFO:prophet:Disabling yearly seasonality. Run prophet with yearly_seasonality=True to override this.\n",
            "INFO:prophet:Disabling daily seasonality. Run prophet with daily_seasonality=True to override this.\n",
            "DEBUG:cmdstanpy:input tempfile: /tmp/tmp0ow7qcla/n2n_ify9.json\n"
          ]
        },
        {
          "output_type": "stream",
          "name": "stdout",
          "text": [
            "Model Number: 1045 with model FBProphet in generation 9 of 10\n"
          ]
        },
        {
          "output_type": "stream",
          "name": "stderr",
          "text": [
            "DEBUG:cmdstanpy:input tempfile: /tmp/tmp0ow7qcla/87eda5km.json\n",
            "DEBUG:cmdstanpy:idx 0\n",
            "DEBUG:cmdstanpy:running CmdStan, num_threads: None\n",
            "DEBUG:cmdstanpy:CmdStan args: ['/usr/local/lib/python3.7/dist-packages/prophet/stan_model/prophet_model.bin', 'random', 'seed=73402', 'data', 'file=/tmp/tmp0ow7qcla/n2n_ify9.json', 'init=/tmp/tmp0ow7qcla/87eda5km.json', 'output', 'file=/tmp/tmppcl5wi_0/prophet_model-20220820142611.csv', 'method=optimize', 'algorithm=lbfgs', 'iter=10000']\n",
            "14:26:11 - cmdstanpy - INFO - Chain [1] start processing\n",
            "INFO:cmdstanpy:Chain [1] start processing\n",
            "14:26:11 - cmdstanpy - INFO - Chain [1] done processing\n",
            "INFO:cmdstanpy:Chain [1] done processing\n"
          ]
        },
        {
          "output_type": "stream",
          "name": "stdout",
          "text": [
            "Model Number: 1046 with model MultivariateMotif in generation 9 of 10\n",
            "Model Number: 1047 with model ETS in generation 9 of 10\n",
            "Model Number: 1048 with model UnivariateMotif in generation 9 of 10\n",
            "Model Number: 1049 with model UnivariateMotif in generation 9 of 10\n",
            "New Generation: 10 of 10\n",
            "Model Number: 1050 with model FBProphet in generation 10 of 10\n",
            "Template Eval Error: ValueError(\"regression_type='User' but no future_regressor passed\") in model 1050: FBProphet\n",
            "Model Number: 1051 with model Theta in generation 10 of 10\n",
            "Model Number: 1052 with model NVAR in generation 10 of 10\n",
            "Model Number: 1053 with model Theta in generation 10 of 10\n"
          ]
        },
        {
          "output_type": "stream",
          "name": "stderr",
          "text": [
            "/usr/local/lib/python3.7/dist-packages/sklearn/_loss/glm_distribution.py:132: RuntimeWarning: divide by zero encountered in true_divide\n",
            "  return -2 * (y - y_pred) / self.unit_variance(y_pred)\n",
            "/usr/local/lib/python3.7/dist-packages/sklearn/linear_model/_glm/glm.py:42: RuntimeWarning: invalid value encountered in multiply\n",
            "  temp = d1 * family.deviance_derivative(y, y_pred, weights)\n",
            "/usr/local/lib/python3.7/dist-packages/sklearn/_loss/glm_distribution.py:326: RuntimeWarning: divide by zero encountered in log\n",
            "  dev = 2 * (np.log(y_pred / y) + y / y_pred - 1)\n",
            "/usr/local/lib/python3.7/dist-packages/sklearn/_loss/glm_distribution.py:326: RuntimeWarning: divide by zero encountered in true_divide\n",
            "  dev = 2 * (np.log(y_pred / y) + y / y_pred - 1)\n",
            "/usr/local/lib/python3.7/dist-packages/sklearn/_loss/glm_distribution.py:326: RuntimeWarning: invalid value encountered in add\n",
            "  dev = 2 * (np.log(y_pred / y) + y / y_pred - 1)\n",
            "/usr/local/lib/python3.7/dist-packages/sklearn/linear_model/_glm/glm.py:323: ConvergenceWarning: lbfgs failed to converge (status=2):\n",
            "ABNORMAL_TERMINATION_IN_LNSRCH.\n",
            "\n",
            "Increase the number of iterations (max_iter) or scale the data as shown in:\n",
            "    https://scikit-learn.org/stable/modules/preprocessing.html\n",
            "  self.n_iter_ = _check_optimize_result(\"lbfgs\", opt_res)\n"
          ]
        },
        {
          "output_type": "stream",
          "name": "stdout",
          "text": [
            "Model Number: 1054 with model AverageValueNaive in generation 10 of 10\n"
          ]
        },
        {
          "output_type": "stream",
          "name": "stderr",
          "text": [
            "INFO:prophet:Disabling yearly seasonality. Run prophet with yearly_seasonality=True to override this.\n",
            "INFO:prophet:Disabling daily seasonality. Run prophet with daily_seasonality=True to override this.\n",
            "DEBUG:cmdstanpy:input tempfile: /tmp/tmp0ow7qcla/a8yd47fr.json\n",
            "DEBUG:cmdstanpy:input tempfile: /tmp/tmp0ow7qcla/cglx3d6e.json\n",
            "DEBUG:cmdstanpy:idx 0\n",
            "DEBUG:cmdstanpy:running CmdStan, num_threads: None\n",
            "DEBUG:cmdstanpy:CmdStan args: ['/usr/local/lib/python3.7/dist-packages/prophet/stan_model/prophet_model.bin', 'random', 'seed=46970', 'data', 'file=/tmp/tmp0ow7qcla/a8yd47fr.json', 'init=/tmp/tmp0ow7qcla/cglx3d6e.json', 'output', 'file=/tmp/tmpi01ku465/prophet_model-20220820142615.csv', 'method=optimize', 'algorithm=lbfgs', 'iter=10000']\n",
            "14:26:15 - cmdstanpy - INFO - Chain [1] start processing\n",
            "INFO:cmdstanpy:Chain [1] start processing\n"
          ]
        },
        {
          "output_type": "stream",
          "name": "stdout",
          "text": [
            "Model Number: 1055 with model FBProphet in generation 10 of 10\n"
          ]
        },
        {
          "output_type": "stream",
          "name": "stderr",
          "text": [
            "14:26:15 - cmdstanpy - INFO - Chain [1] done processing\n",
            "INFO:cmdstanpy:Chain [1] done processing\n"
          ]
        },
        {
          "output_type": "stream",
          "name": "stdout",
          "text": [
            "Model Number: 1056 with model UnivariateMotif in generation 10 of 10\n",
            "Model Number: 1057 with model Theta in generation 10 of 10\n",
            "Model Number: 1058 with model WindowRegression in generation 10 of 10\n",
            "Model Number: 1059 with model FBProphet in generation 10 of 10\n",
            "Template Eval Error: Exception('Transformer BTCD failed on fit') in model 1059: FBProphet\n",
            "Model Number: 1060 with model NVAR in generation 10 of 10\n",
            "Model Number: 1061 with model UnivariateMotif in generation 10 of 10\n"
          ]
        },
        {
          "output_type": "stream",
          "name": "stderr",
          "text": [
            "/usr/local/lib/python3.7/dist-packages/sklearn/neural_network/_multilayer_perceptron.py:549: ConvergenceWarning: lbfgs failed to converge (status=1):\n",
            "STOP: TOTAL NO. of ITERATIONS REACHED LIMIT.\n",
            "\n",
            "Increase the number of iterations (max_iter) or scale the data as shown in:\n",
            "    https://scikit-learn.org/stable/modules/preprocessing.html\n",
            "  self.n_iter_ = _check_optimize_result(\"lbfgs\", opt_res, self.max_iter)\n"
          ]
        },
        {
          "output_type": "stream",
          "name": "stdout",
          "text": [
            "Model Number: 1062 with model Theta in generation 10 of 10\n",
            "Model Number: 1063 with model SectionalMotif in generation 10 of 10\n",
            "Model Number: 1064 with model MultivariateRegression in generation 10 of 10\n",
            "Model Number: 1065 with model UnobservedComponents in generation 10 of 10\n",
            "Model Number: 1066 with model WindowRegression in generation 10 of 10\n",
            "Template Eval Error: Exception('Transformer StandardScaler failed on fit') in model 1066: WindowRegression\n",
            "Model Number: 1067 with model MultivariateRegression in generation 10 of 10\n",
            "Template Eval Error: ValueError(\"regression_type='User' but not future_regressor supplied.\") in model 1067: MultivariateRegression\n",
            "Model Number: 1068 with model UnivariateMotif in generation 10 of 10\n",
            "Model Number: 1069 with model SectionalMotif in generation 10 of 10\n"
          ]
        },
        {
          "output_type": "stream",
          "name": "stderr",
          "text": [
            "/usr/local/lib/python3.7/dist-packages/sklearn/utils/validation.py:1692: FutureWarning: Feature names only support names that are all strings. Got feature names with dtypes: ['Timestamp', 'str']. An error will be raised in 1.2.\n",
            "  FutureWarning,\n",
            "/usr/local/lib/python3.7/dist-packages/sklearn/utils/extmath.py:985: RuntimeWarning: invalid value encountered in true_divide\n",
            "  updated_mean = (last_sum + new_sum) / updated_sample_count\n",
            "/usr/local/lib/python3.7/dist-packages/sklearn/utils/extmath.py:990: RuntimeWarning: invalid value encountered in true_divide\n",
            "  T = new_sum / new_sample_count\n",
            "/usr/local/lib/python3.7/dist-packages/sklearn/utils/extmath.py:1020: RuntimeWarning: invalid value encountered in true_divide\n",
            "  new_unnormalized_variance -= correction ** 2 / new_sample_count\n",
            "/usr/local/lib/python3.7/dist-packages/sklearn/utils/validation.py:1692: FutureWarning: Feature names only support names that are all strings. Got feature names with dtypes: ['Timestamp', 'str']. An error will be raised in 1.2.\n",
            "  FutureWarning,\n"
          ]
        },
        {
          "output_type": "stream",
          "name": "stdout",
          "text": [
            "Model Number: 1070 with model WindowRegression in generation 10 of 10\n",
            "Template Eval Error: ValueError(\"regression_type='User' but no future_regressor passed\") in model 1070: WindowRegression\n",
            "Model Number: 1071 with model MultivariateMotif in generation 10 of 10\n",
            "Model Number: 1072 with model LastValueNaive in generation 10 of 10\n"
          ]
        },
        {
          "output_type": "stream",
          "name": "stderr",
          "text": [
            "INFO:prophet:Disabling yearly seasonality. Run prophet with yearly_seasonality=True to override this.\n",
            "INFO:prophet:Disabling daily seasonality. Run prophet with daily_seasonality=True to override this.\n"
          ]
        },
        {
          "output_type": "stream",
          "name": "stdout",
          "text": [
            "Model Number: 1073 with model FBProphet in generation 10 of 10\n"
          ]
        },
        {
          "output_type": "stream",
          "name": "stderr",
          "text": [
            "DEBUG:cmdstanpy:input tempfile: /tmp/tmp0ow7qcla/uvpvx6l_.json\n",
            "DEBUG:cmdstanpy:input tempfile: /tmp/tmp0ow7qcla/1_iekvq5.json\n",
            "DEBUG:cmdstanpy:idx 0\n",
            "DEBUG:cmdstanpy:running CmdStan, num_threads: None\n",
            "DEBUG:cmdstanpy:CmdStan args: ['/usr/local/lib/python3.7/dist-packages/prophet/stan_model/prophet_model.bin', 'random', 'seed=14771', 'data', 'file=/tmp/tmp0ow7qcla/uvpvx6l_.json', 'init=/tmp/tmp0ow7qcla/1_iekvq5.json', 'output', 'file=/tmp/tmp0s6l73sy/prophet_model-20220820142619.csv', 'method=optimize', 'algorithm=lbfgs', 'iter=10000']\n",
            "14:26:19 - cmdstanpy - INFO - Chain [1] start processing\n",
            "INFO:cmdstanpy:Chain [1] start processing\n",
            "14:26:19 - cmdstanpy - INFO - Chain [1] done processing\n",
            "INFO:cmdstanpy:Chain [1] done processing\n"
          ]
        },
        {
          "output_type": "stream",
          "name": "stdout",
          "text": [
            "Model Number: 1074 with model UnivariateMotif in generation 10 of 10\n",
            "Model Number: 1075 with model NVAR in generation 10 of 10\n",
            "Template Eval Error: Exception('Transformer Detrend failed on fit') in model 1075: NVAR\n",
            "Model Number: 1076 with model DatepartRegression in generation 10 of 10\n",
            "Template Eval Error: ValueError(\"regression_type='User' but no future_regressor passed\") in model 1076: DatepartRegression\n",
            "Model Number: 1077 with model ETS in generation 10 of 10\n",
            "Model Number: 1078 with model UnivariateMotif in generation 10 of 10\n",
            "Model Number: 1079 with model NVAR in generation 10 of 10\n",
            "Model Number: 1080 with model SectionalMotif in generation 10 of 10\n",
            "Model Number: 1081 with model UnivariateMotif in generation 10 of 10\n"
          ]
        },
        {
          "output_type": "stream",
          "name": "stderr",
          "text": [
            "/usr/local/lib/python3.7/dist-packages/sklearn/_loss/glm_distribution.py:132: RuntimeWarning: divide by zero encountered in true_divide\n",
            "  return -2 * (y - y_pred) / self.unit_variance(y_pred)\n",
            "/usr/local/lib/python3.7/dist-packages/sklearn/linear_model/_glm/glm.py:42: RuntimeWarning: invalid value encountered in multiply\n",
            "  temp = d1 * family.deviance_derivative(y, y_pred, weights)\n",
            "/usr/local/lib/python3.7/dist-packages/sklearn/_loss/glm_distribution.py:323: RuntimeWarning: divide by zero encountered in true_divide\n",
            "  dev = 2 * (xlogy(y, y / y_pred) - y + y_pred)\n",
            "INFO:prophet:Disabling yearly seasonality. Run prophet with yearly_seasonality=True to override this.\n"
          ]
        },
        {
          "output_type": "stream",
          "name": "stdout",
          "text": [
            "Model Number: 1082 with model FBProphet in generation 10 of 10\n"
          ]
        },
        {
          "output_type": "stream",
          "name": "stderr",
          "text": [
            "INFO:prophet:Disabling daily seasonality. Run prophet with daily_seasonality=True to override this.\n",
            "DEBUG:cmdstanpy:input tempfile: /tmp/tmp0ow7qcla/49736emw.json\n",
            "DEBUG:cmdstanpy:input tempfile: /tmp/tmp0ow7qcla/wpx4ou5g.json\n",
            "DEBUG:cmdstanpy:idx 0\n",
            "DEBUG:cmdstanpy:running CmdStan, num_threads: None\n",
            "DEBUG:cmdstanpy:CmdStan args: ['/usr/local/lib/python3.7/dist-packages/prophet/stan_model/prophet_model.bin', 'random', 'seed=67588', 'data', 'file=/tmp/tmp0ow7qcla/49736emw.json', 'init=/tmp/tmp0ow7qcla/wpx4ou5g.json', 'output', 'file=/tmp/tmpedcheq7q/prophet_model-20220820142621.csv', 'method=optimize', 'algorithm=lbfgs', 'iter=10000']\n",
            "14:26:21 - cmdstanpy - INFO - Chain [1] start processing\n",
            "INFO:cmdstanpy:Chain [1] start processing\n",
            "14:26:22 - cmdstanpy - INFO - Chain [1] done processing\n",
            "INFO:cmdstanpy:Chain [1] done processing\n"
          ]
        },
        {
          "output_type": "stream",
          "name": "stdout",
          "text": [
            "Model Number: 1083 with model SectionalMotif in generation 10 of 10\n"
          ]
        },
        {
          "output_type": "stream",
          "name": "stderr",
          "text": [
            "INFO:prophet:Disabling yearly seasonality. Run prophet with yearly_seasonality=True to override this.\n",
            "INFO:prophet:Disabling daily seasonality. Run prophet with daily_seasonality=True to override this.\n",
            "DEBUG:cmdstanpy:input tempfile: /tmp/tmp0ow7qcla/1i8l9h4n.json\n",
            "DEBUG:cmdstanpy:input tempfile: /tmp/tmp0ow7qcla/i39g38s_.json\n",
            "DEBUG:cmdstanpy:idx 0\n",
            "DEBUG:cmdstanpy:running CmdStan, num_threads: None\n",
            "DEBUG:cmdstanpy:CmdStan args: ['/usr/local/lib/python3.7/dist-packages/prophet/stan_model/prophet_model.bin', 'random', 'seed=96802', 'data', 'file=/tmp/tmp0ow7qcla/1i8l9h4n.json', 'init=/tmp/tmp0ow7qcla/i39g38s_.json', 'output', 'file=/tmp/tmp1rtil0vc/prophet_model-20220820142624.csv', 'method=optimize', 'algorithm=lbfgs', 'iter=10000']\n",
            "14:26:24 - cmdstanpy - INFO - Chain [1] start processing\n",
            "INFO:cmdstanpy:Chain [1] start processing\n"
          ]
        },
        {
          "output_type": "stream",
          "name": "stdout",
          "text": [
            "Model Number: 1084 with model FBProphet in generation 10 of 10\n"
          ]
        },
        {
          "output_type": "stream",
          "name": "stderr",
          "text": [
            "14:26:24 - cmdstanpy - INFO - Chain [1] done processing\n",
            "INFO:cmdstanpy:Chain [1] done processing\n"
          ]
        },
        {
          "output_type": "stream",
          "name": "stdout",
          "text": [
            "Model Number: 1085 with model MultivariateMotif in generation 10 of 10\n",
            "Model Number: 1086 with model UnivariateMotif in generation 10 of 10\n",
            "Model Number: 1087 with model ETS in generation 10 of 10\n",
            "Model Number: 1088 with model ETS in generation 10 of 10\n",
            "Template Eval Error: Exception('Transformer MaxAbsScaler failed on fit') in model 1088: ETS\n",
            "Model Number: 1089 with model AverageValueNaive in generation 10 of 10\n",
            "Model Number: 1090 with model LastValueNaive in generation 10 of 10\n",
            "Model Number: 1091 with model UnivariateMotif in generation 10 of 10\n"
          ]
        },
        {
          "output_type": "stream",
          "name": "stderr",
          "text": [
            "/usr/local/lib/python3.7/dist-packages/sklearn/utils/validation.py:1692: FutureWarning: Feature names only support names that are all strings. Got feature names with dtypes: ['Timestamp', 'str']. An error will be raised in 1.2.\n",
            "  FutureWarning,\n",
            "/usr/local/lib/python3.7/dist-packages/sklearn/preprocessing/_data.py:1187: RuntimeWarning: All-NaN slice encountered\n",
            "  max_abs = np.nanmax(np.abs(X), axis=0)\n",
            "/usr/local/lib/python3.7/dist-packages/sklearn/utils/validation.py:1692: FutureWarning: Feature names only support names that are all strings. Got feature names with dtypes: ['Timestamp', 'str']. An error will be raised in 1.2.\n",
            "  FutureWarning,\n"
          ]
        },
        {
          "output_type": "stream",
          "name": "stdout",
          "text": [
            "Model Number: 1092 with model ETS in generation 10 of 10\n",
            "Model Number: 1093 with model FBProphet in generation 10 of 10\n"
          ]
        },
        {
          "output_type": "stream",
          "name": "stderr",
          "text": [
            "/usr/local/lib/python3.7/dist-packages/sklearn/_loss/glm_distribution.py:132: RuntimeWarning: divide by zero encountered in true_divide\n",
            "  return -2 * (y - y_pred) / self.unit_variance(y_pred)\n",
            "/usr/local/lib/python3.7/dist-packages/sklearn/linear_model/_glm/glm.py:42: RuntimeWarning: invalid value encountered in multiply\n",
            "  temp = d1 * family.deviance_derivative(y, y_pred, weights)\n",
            "/usr/local/lib/python3.7/dist-packages/sklearn/_loss/glm_distribution.py:323: RuntimeWarning: divide by zero encountered in true_divide\n",
            "  dev = 2 * (xlogy(y, y / y_pred) - y + y_pred)\n",
            "INFO:prophet:Disabling yearly seasonality. Run prophet with yearly_seasonality=True to override this.\n",
            "INFO:prophet:Disabling daily seasonality. Run prophet with daily_seasonality=True to override this.\n",
            "DEBUG:cmdstanpy:input tempfile: /tmp/tmp0ow7qcla/er9zia6h.json\n",
            "DEBUG:cmdstanpy:input tempfile: /tmp/tmp0ow7qcla/406br1vo.json\n",
            "DEBUG:cmdstanpy:idx 0\n",
            "DEBUG:cmdstanpy:running CmdStan, num_threads: None\n",
            "DEBUG:cmdstanpy:CmdStan args: ['/usr/local/lib/python3.7/dist-packages/prophet/stan_model/prophet_model.bin', 'random', 'seed=77568', 'data', 'file=/tmp/tmp0ow7qcla/er9zia6h.json', 'init=/tmp/tmp0ow7qcla/406br1vo.json', 'output', 'file=/tmp/tmparat09zq/prophet_model-20220820142626.csv', 'method=optimize', 'algorithm=lbfgs', 'iter=10000']\n",
            "14:26:26 - cmdstanpy - INFO - Chain [1] start processing\n",
            "INFO:cmdstanpy:Chain [1] start processing\n",
            "14:26:27 - cmdstanpy - INFO - Chain [1] done processing\n",
            "INFO:cmdstanpy:Chain [1] done processing\n"
          ]
        },
        {
          "output_type": "stream",
          "name": "stdout",
          "text": [
            "Model Number: 1094 with model FBProphet in generation 10 of 10\n",
            "Template Eval Error: ValueError(\"regression_type='User' but no future_regressor passed\") in model 1094: FBProphet\n",
            "Model Number: 1095 with model LastValueNaive in generation 10 of 10\n",
            "Model Number: 1096 with model MultivariateMotif in generation 10 of 10\n",
            "Model Number: 1097 with model ETS in generation 10 of 10\n",
            "Model Number: 1098 with model MultivariateMotif in generation 10 of 10\n",
            "Model Number: 1099 with model FBProphet in generation 10 of 10\n"
          ]
        },
        {
          "output_type": "stream",
          "name": "stderr",
          "text": [
            "INFO:prophet:Disabling yearly seasonality. Run prophet with yearly_seasonality=True to override this.\n",
            "INFO:prophet:Disabling daily seasonality. Run prophet with daily_seasonality=True to override this.\n"
          ]
        },
        {
          "output_type": "stream",
          "name": "stdout",
          "text": [
            "Model Number: 1100 with model MultivariateRegression in generation 10 of 10\n",
            "Template Eval Error: ValueError(\"regression_type='User' but not future_regressor supplied.\") in model 1100: MultivariateRegression\n",
            "Model Number: 1101 with model LastValueNaive in generation 10 of 10\n",
            "Model Number: 1102 with model NVAR in generation 10 of 10\n",
            "Model Number: 1103 with model SectionalMotif in generation 10 of 10\n",
            "Model Number: 1104 with model SectionalMotif in generation 10 of 10\n",
            "Model Number: 1105 with model MultivariateMotif in generation 10 of 10\n",
            "Model Number: 1106 with model MultivariateRegression in generation 10 of 10\n",
            "Model Number: 1107 with model UnobservedComponents in generation 10 of 10\n"
          ]
        },
        {
          "output_type": "stream",
          "name": "stderr",
          "text": [
            "/usr/local/lib/python3.7/dist-packages/sklearn/_loss/glm_distribution.py:132: RuntimeWarning: divide by zero encountered in true_divide\n",
            "  return -2 * (y - y_pred) / self.unit_variance(y_pred)\n",
            "/usr/local/lib/python3.7/dist-packages/sklearn/linear_model/_glm/glm.py:42: RuntimeWarning: invalid value encountered in multiply\n",
            "  temp = d1 * family.deviance_derivative(y, y_pred, weights)\n",
            "/usr/local/lib/python3.7/dist-packages/sklearn/_loss/glm_distribution.py:326: RuntimeWarning: divide by zero encountered in log\n",
            "  dev = 2 * (np.log(y_pred / y) + y / y_pred - 1)\n",
            "/usr/local/lib/python3.7/dist-packages/sklearn/_loss/glm_distribution.py:326: RuntimeWarning: divide by zero encountered in true_divide\n",
            "  dev = 2 * (np.log(y_pred / y) + y / y_pred - 1)\n",
            "/usr/local/lib/python3.7/dist-packages/sklearn/_loss/glm_distribution.py:326: RuntimeWarning: invalid value encountered in add\n",
            "  dev = 2 * (np.log(y_pred / y) + y / y_pred - 1)\n",
            "/usr/local/lib/python3.7/dist-packages/sklearn/linear_model/_glm/glm.py:323: ConvergenceWarning: lbfgs failed to converge (status=2):\n",
            "ABNORMAL_TERMINATION_IN_LNSRCH.\n",
            "\n",
            "Increase the number of iterations (max_iter) or scale the data as shown in:\n",
            "    https://scikit-learn.org/stable/modules/preprocessing.html\n",
            "  self.n_iter_ = _check_optimize_result(\"lbfgs\", opt_res)\n"
          ]
        },
        {
          "output_type": "stream",
          "name": "stdout",
          "text": [
            "Model Number: 1108 with model UnivariateMotif in generation 10 of 10\n",
            "Model Number: 1109 with model SectionalMotif in generation 10 of 10\n",
            "Model Number: 1110 with model UnobservedComponents in generation 10 of 10\n",
            "Model Number: 1111 with model Theta in generation 10 of 10\n",
            "Model Number: 1112 with model MultivariateRegression in generation 10 of 10\n",
            "Model Number: 1113 with model ETS in generation 10 of 10\n",
            "Model Number: 1114 with model FBProphet in generation 10 of 10\n",
            "Template Eval Error: Exception('Transformer BTCD failed on fit') in model 1114: FBProphet\n"
          ]
        },
        {
          "output_type": "stream",
          "name": "stderr",
          "text": [
            "INFO:prophet:Disabling yearly seasonality. Run prophet with yearly_seasonality=True to override this.\n",
            "INFO:prophet:Disabling daily seasonality. Run prophet with daily_seasonality=True to override this.\n",
            "DEBUG:cmdstanpy:input tempfile: /tmp/tmp0ow7qcla/lrkuj0ze.json\n",
            "DEBUG:cmdstanpy:input tempfile: /tmp/tmp0ow7qcla/eudqfjjf.json\n",
            "DEBUG:cmdstanpy:idx 0\n",
            "DEBUG:cmdstanpy:running CmdStan, num_threads: None\n",
            "DEBUG:cmdstanpy:CmdStan args: ['/usr/local/lib/python3.7/dist-packages/prophet/stan_model/prophet_model.bin', 'random', 'seed=87821', 'data', 'file=/tmp/tmp0ow7qcla/lrkuj0ze.json', 'init=/tmp/tmp0ow7qcla/eudqfjjf.json', 'output', 'file=/tmp/tmpox35ngl_/prophet_model-20220820142634.csv', 'method=optimize', 'algorithm=lbfgs', 'iter=10000']\n",
            "14:26:34 - cmdstanpy - INFO - Chain [1] start processing\n",
            "INFO:cmdstanpy:Chain [1] start processing\n"
          ]
        },
        {
          "output_type": "stream",
          "name": "stdout",
          "text": [
            "Model Number: 1115 with model FBProphet in generation 10 of 10\n"
          ]
        },
        {
          "output_type": "stream",
          "name": "stderr",
          "text": [
            "14:26:34 - cmdstanpy - INFO - Chain [1] done processing\n",
            "INFO:cmdstanpy:Chain [1] done processing\n",
            "INFO:prophet:Disabling yearly seasonality. Run prophet with yearly_seasonality=True to override this.\n",
            "INFO:prophet:Disabling daily seasonality. Run prophet with daily_seasonality=True to override this.\n",
            "DEBUG:cmdstanpy:input tempfile: /tmp/tmp0ow7qcla/o3uobk19.json\n",
            "DEBUG:cmdstanpy:input tempfile: /tmp/tmp0ow7qcla/ndnotxov.json\n",
            "DEBUG:cmdstanpy:idx 0\n",
            "DEBUG:cmdstanpy:running CmdStan, num_threads: None\n",
            "DEBUG:cmdstanpy:CmdStan args: ['/usr/local/lib/python3.7/dist-packages/prophet/stan_model/prophet_model.bin', 'random', 'seed=75485', 'data', 'file=/tmp/tmp0ow7qcla/o3uobk19.json', 'init=/tmp/tmp0ow7qcla/ndnotxov.json', 'output', 'file=/tmp/tmpmg6dkw_d/prophet_model-20220820142636.csv', 'method=optimize', 'algorithm=lbfgs', 'iter=10000']\n",
            "14:26:36 - cmdstanpy - INFO - Chain [1] start processing\n",
            "INFO:cmdstanpy:Chain [1] start processing\n"
          ]
        },
        {
          "output_type": "stream",
          "name": "stdout",
          "text": [
            "Model Number: 1116 with model Ensemble in generation 11 of Ensembles\n"
          ]
        },
        {
          "output_type": "stream",
          "name": "stderr",
          "text": [
            "14:26:36 - cmdstanpy - INFO - Chain [1] done processing\n",
            "INFO:cmdstanpy:Chain [1] done processing\n",
            "INFO:prophet:Disabling yearly seasonality. Run prophet with yearly_seasonality=True to override this.\n",
            "INFO:prophet:Disabling daily seasonality. Run prophet with daily_seasonality=True to override this.\n",
            "DEBUG:cmdstanpy:input tempfile: /tmp/tmp0ow7qcla/rirpwwo7.json\n",
            "DEBUG:cmdstanpy:input tempfile: /tmp/tmp0ow7qcla/8_lpkddb.json\n",
            "DEBUG:cmdstanpy:idx 0\n",
            "DEBUG:cmdstanpy:running CmdStan, num_threads: None\n",
            "DEBUG:cmdstanpy:CmdStan args: ['/usr/local/lib/python3.7/dist-packages/prophet/stan_model/prophet_model.bin', 'random', 'seed=45866', 'data', 'file=/tmp/tmp0ow7qcla/rirpwwo7.json', 'init=/tmp/tmp0ow7qcla/8_lpkddb.json', 'output', 'file=/tmp/tmp3kpemvgt/prophet_model-20220820142638.csv', 'method=optimize', 'algorithm=lbfgs', 'iter=10000']\n",
            "14:26:38 - cmdstanpy - INFO - Chain [1] start processing\n",
            "INFO:cmdstanpy:Chain [1] start processing\n",
            "14:26:38 - cmdstanpy - INFO - Chain [1] done processing\n",
            "INFO:cmdstanpy:Chain [1] done processing\n",
            "INFO:prophet:Disabling yearly seasonality. Run prophet with yearly_seasonality=True to override this.\n",
            "INFO:prophet:Disabling daily seasonality. Run prophet with daily_seasonality=True to override this.\n",
            "DEBUG:cmdstanpy:input tempfile: /tmp/tmp0ow7qcla/qsxmgm1s.json\n",
            "DEBUG:cmdstanpy:input tempfile: /tmp/tmp0ow7qcla/21e_0ekg.json\n",
            "DEBUG:cmdstanpy:idx 0\n",
            "DEBUG:cmdstanpy:running CmdStan, num_threads: None\n",
            "DEBUG:cmdstanpy:CmdStan args: ['/usr/local/lib/python3.7/dist-packages/prophet/stan_model/prophet_model.bin', 'random', 'seed=33192', 'data', 'file=/tmp/tmp0ow7qcla/qsxmgm1s.json', 'init=/tmp/tmp0ow7qcla/21e_0ekg.json', 'output', 'file=/tmp/tmpzmwt1cn2/prophet_model-20220820142640.csv', 'method=optimize', 'algorithm=lbfgs', 'iter=10000']\n",
            "14:26:40 - cmdstanpy - INFO - Chain [1] start processing\n",
            "INFO:cmdstanpy:Chain [1] start processing\n",
            "14:26:40 - cmdstanpy - INFO - Chain [1] done processing\n",
            "INFO:cmdstanpy:Chain [1] done processing\n",
            "INFO:prophet:Disabling yearly seasonality. Run prophet with yearly_seasonality=True to override this.\n",
            "INFO:prophet:Disabling daily seasonality. Run prophet with daily_seasonality=True to override this.\n",
            "DEBUG:cmdstanpy:input tempfile: /tmp/tmp0ow7qcla/hgew0jez.json\n",
            "DEBUG:cmdstanpy:input tempfile: /tmp/tmp0ow7qcla/jrdehr2z.json\n",
            "DEBUG:cmdstanpy:idx 0\n",
            "DEBUG:cmdstanpy:running CmdStan, num_threads: None\n",
            "DEBUG:cmdstanpy:CmdStan args: ['/usr/local/lib/python3.7/dist-packages/prophet/stan_model/prophet_model.bin', 'random', 'seed=92106', 'data', 'file=/tmp/tmp0ow7qcla/hgew0jez.json', 'init=/tmp/tmp0ow7qcla/jrdehr2z.json', 'output', 'file=/tmp/tmpd3tsx32p/prophet_model-20220820142642.csv', 'method=optimize', 'algorithm=lbfgs', 'iter=10000']\n",
            "14:26:42 - cmdstanpy - INFO - Chain [1] start processing\n",
            "INFO:cmdstanpy:Chain [1] start processing\n"
          ]
        },
        {
          "output_type": "stream",
          "name": "stdout",
          "text": [
            "Model Number: 1117 with model Ensemble in generation 11 of Ensembles\n"
          ]
        },
        {
          "output_type": "stream",
          "name": "stderr",
          "text": [
            "14:26:42 - cmdstanpy - INFO - Chain [1] done processing\n",
            "INFO:cmdstanpy:Chain [1] done processing\n",
            "INFO:prophet:Disabling yearly seasonality. Run prophet with yearly_seasonality=True to override this.\n",
            "INFO:prophet:Disabling daily seasonality. Run prophet with daily_seasonality=True to override this.\n",
            "DEBUG:cmdstanpy:input tempfile: /tmp/tmp0ow7qcla/7ahdhhh7.json\n",
            "DEBUG:cmdstanpy:input tempfile: /tmp/tmp0ow7qcla/62pq2zje.json\n",
            "DEBUG:cmdstanpy:idx 0\n",
            "DEBUG:cmdstanpy:running CmdStan, num_threads: None\n",
            "DEBUG:cmdstanpy:CmdStan args: ['/usr/local/lib/python3.7/dist-packages/prophet/stan_model/prophet_model.bin', 'random', 'seed=41683', 'data', 'file=/tmp/tmp0ow7qcla/7ahdhhh7.json', 'init=/tmp/tmp0ow7qcla/62pq2zje.json', 'output', 'file=/tmp/tmpxzvbavxy/prophet_model-20220820142644.csv', 'method=optimize', 'algorithm=lbfgs', 'iter=10000']\n",
            "14:26:44 - cmdstanpy - INFO - Chain [1] start processing\n",
            "INFO:cmdstanpy:Chain [1] start processing\n",
            "14:26:44 - cmdstanpy - INFO - Chain [1] done processing\n",
            "INFO:cmdstanpy:Chain [1] done processing\n",
            "INFO:prophet:Disabling yearly seasonality. Run prophet with yearly_seasonality=True to override this.\n",
            "INFO:prophet:Disabling daily seasonality. Run prophet with daily_seasonality=True to override this.\n",
            "DEBUG:cmdstanpy:input tempfile: /tmp/tmp0ow7qcla/kn1gp5z2.json\n",
            "DEBUG:cmdstanpy:input tempfile: /tmp/tmp0ow7qcla/37a53to9.json\n",
            "DEBUG:cmdstanpy:idx 0\n",
            "DEBUG:cmdstanpy:running CmdStan, num_threads: None\n",
            "DEBUG:cmdstanpy:CmdStan args: ['/usr/local/lib/python3.7/dist-packages/prophet/stan_model/prophet_model.bin', 'random', 'seed=89563', 'data', 'file=/tmp/tmp0ow7qcla/kn1gp5z2.json', 'init=/tmp/tmp0ow7qcla/37a53to9.json', 'output', 'file=/tmp/tmpdac7ti_f/prophet_model-20220820142646.csv', 'method=optimize', 'algorithm=lbfgs', 'iter=10000']\n",
            "14:26:46 - cmdstanpy - INFO - Chain [1] start processing\n",
            "INFO:cmdstanpy:Chain [1] start processing\n",
            "14:26:46 - cmdstanpy - INFO - Chain [1] done processing\n",
            "INFO:cmdstanpy:Chain [1] done processing\n",
            "INFO:prophet:Disabling yearly seasonality. Run prophet with yearly_seasonality=True to override this.\n",
            "INFO:prophet:Disabling daily seasonality. Run prophet with daily_seasonality=True to override this.\n",
            "DEBUG:cmdstanpy:input tempfile: /tmp/tmp0ow7qcla/cdkj2dyc.json\n",
            "DEBUG:cmdstanpy:input tempfile: /tmp/tmp0ow7qcla/5mobmsbi.json\n",
            "DEBUG:cmdstanpy:idx 0\n",
            "DEBUG:cmdstanpy:running CmdStan, num_threads: None\n",
            "DEBUG:cmdstanpy:CmdStan args: ['/usr/local/lib/python3.7/dist-packages/prophet/stan_model/prophet_model.bin', 'random', 'seed=92712', 'data', 'file=/tmp/tmp0ow7qcla/cdkj2dyc.json', 'init=/tmp/tmp0ow7qcla/5mobmsbi.json', 'output', 'file=/tmp/tmpgkvvfz1s/prophet_model-20220820142648.csv', 'method=optimize', 'algorithm=lbfgs', 'iter=10000']\n",
            "14:26:48 - cmdstanpy - INFO - Chain [1] start processing\n",
            "INFO:cmdstanpy:Chain [1] start processing\n",
            "14:26:48 - cmdstanpy - INFO - Chain [1] done processing\n",
            "INFO:cmdstanpy:Chain [1] done processing\n",
            "INFO:prophet:Disabling yearly seasonality. Run prophet with yearly_seasonality=True to override this.\n",
            "INFO:prophet:Disabling daily seasonality. Run prophet with daily_seasonality=True to override this.\n",
            "DEBUG:cmdstanpy:input tempfile: /tmp/tmp0ow7qcla/u6dyji_2.json\n",
            "DEBUG:cmdstanpy:input tempfile: /tmp/tmp0ow7qcla/om0mniad.json\n",
            "DEBUG:cmdstanpy:idx 0\n",
            "DEBUG:cmdstanpy:running CmdStan, num_threads: None\n",
            "DEBUG:cmdstanpy:CmdStan args: ['/usr/local/lib/python3.7/dist-packages/prophet/stan_model/prophet_model.bin', 'random', 'seed=52725', 'data', 'file=/tmp/tmp0ow7qcla/u6dyji_2.json', 'init=/tmp/tmp0ow7qcla/om0mniad.json', 'output', 'file=/tmp/tmp0_d0s5lb/prophet_model-20220820142650.csv', 'method=optimize', 'algorithm=lbfgs', 'iter=10000']\n",
            "14:26:50 - cmdstanpy - INFO - Chain [1] start processing\n",
            "INFO:cmdstanpy:Chain [1] start processing\n",
            "14:26:50 - cmdstanpy - INFO - Chain [1] done processing\n",
            "INFO:cmdstanpy:Chain [1] done processing\n"
          ]
        },
        {
          "output_type": "stream",
          "name": "stdout",
          "text": [
            "Model Number: 1118 with model Ensemble in generation 11 of Ensembles\n"
          ]
        },
        {
          "output_type": "stream",
          "name": "stderr",
          "text": [
            "INFO:prophet:Disabling yearly seasonality. Run prophet with yearly_seasonality=True to override this.\n",
            "INFO:prophet:Disabling daily seasonality. Run prophet with daily_seasonality=True to override this.\n",
            "DEBUG:cmdstanpy:input tempfile: /tmp/tmp0ow7qcla/nc35wd5p.json\n",
            "DEBUG:cmdstanpy:input tempfile: /tmp/tmp0ow7qcla/nwceznlz.json\n",
            "DEBUG:cmdstanpy:idx 0\n",
            "DEBUG:cmdstanpy:running CmdStan, num_threads: None\n",
            "DEBUG:cmdstanpy:CmdStan args: ['/usr/local/lib/python3.7/dist-packages/prophet/stan_model/prophet_model.bin', 'random', 'seed=53598', 'data', 'file=/tmp/tmp0ow7qcla/nc35wd5p.json', 'init=/tmp/tmp0ow7qcla/nwceznlz.json', 'output', 'file=/tmp/tmp1bc1_v8p/prophet_model-20220820142653.csv', 'method=optimize', 'algorithm=lbfgs', 'iter=10000']\n",
            "14:26:53 - cmdstanpy - INFO - Chain [1] start processing\n",
            "INFO:cmdstanpy:Chain [1] start processing\n",
            "14:26:53 - cmdstanpy - INFO - Chain [1] done processing\n",
            "INFO:cmdstanpy:Chain [1] done processing\n"
          ]
        },
        {
          "output_type": "stream",
          "name": "stdout",
          "text": [
            "Model Number: 1119 with model Ensemble in generation 11 of Ensembles\n"
          ]
        },
        {
          "output_type": "stream",
          "name": "stderr",
          "text": [
            "INFO:prophet:Disabling yearly seasonality. Run prophet with yearly_seasonality=True to override this.\n",
            "INFO:prophet:Disabling daily seasonality. Run prophet with daily_seasonality=True to override this.\n",
            "DEBUG:cmdstanpy:input tempfile: /tmp/tmp0ow7qcla/457u9iar.json\n",
            "DEBUG:cmdstanpy:input tempfile: /tmp/tmp0ow7qcla/hp8hgceu.json\n",
            "DEBUG:cmdstanpy:idx 0\n",
            "DEBUG:cmdstanpy:running CmdStan, num_threads: None\n",
            "DEBUG:cmdstanpy:CmdStan args: ['/usr/local/lib/python3.7/dist-packages/prophet/stan_model/prophet_model.bin', 'random', 'seed=69388', 'data', 'file=/tmp/tmp0ow7qcla/457u9iar.json', 'init=/tmp/tmp0ow7qcla/hp8hgceu.json', 'output', 'file=/tmp/tmpt83258ky/prophet_model-20220820142656.csv', 'method=optimize', 'algorithm=lbfgs', 'iter=10000']\n",
            "14:26:56 - cmdstanpy - INFO - Chain [1] start processing\n",
            "INFO:cmdstanpy:Chain [1] start processing\n",
            "14:26:57 - cmdstanpy - INFO - Chain [1] done processing\n",
            "INFO:cmdstanpy:Chain [1] done processing\n",
            "INFO:prophet:Disabling yearly seasonality. Run prophet with yearly_seasonality=True to override this.\n",
            "INFO:prophet:Disabling daily seasonality. Run prophet with daily_seasonality=True to override this.\n",
            "DEBUG:cmdstanpy:input tempfile: /tmp/tmp0ow7qcla/mj87pxdx.json\n",
            "DEBUG:cmdstanpy:input tempfile: /tmp/tmp0ow7qcla/x5h7x8by.json\n",
            "DEBUG:cmdstanpy:idx 0\n",
            "DEBUG:cmdstanpy:running CmdStan, num_threads: None\n",
            "DEBUG:cmdstanpy:CmdStan args: ['/usr/local/lib/python3.7/dist-packages/prophet/stan_model/prophet_model.bin', 'random', 'seed=85366', 'data', 'file=/tmp/tmp0ow7qcla/mj87pxdx.json', 'init=/tmp/tmp0ow7qcla/x5h7x8by.json', 'output', 'file=/tmp/tmpwhq3qzd4/prophet_model-20220820142658.csv', 'method=optimize', 'algorithm=lbfgs', 'iter=10000']\n",
            "14:26:58 - cmdstanpy - INFO - Chain [1] start processing\n",
            "INFO:cmdstanpy:Chain [1] start processing\n",
            "14:26:58 - cmdstanpy - INFO - Chain [1] done processing\n",
            "INFO:cmdstanpy:Chain [1] done processing\n",
            "INFO:prophet:Disabling yearly seasonality. Run prophet with yearly_seasonality=True to override this.\n",
            "INFO:prophet:Disabling daily seasonality. Run prophet with daily_seasonality=True to override this.\n",
            "DEBUG:cmdstanpy:input tempfile: /tmp/tmp0ow7qcla/4gsnb29_.json\n",
            "DEBUG:cmdstanpy:input tempfile: /tmp/tmp0ow7qcla/fyxq7a4i.json\n",
            "DEBUG:cmdstanpy:idx 0\n",
            "DEBUG:cmdstanpy:running CmdStan, num_threads: None\n",
            "DEBUG:cmdstanpy:CmdStan args: ['/usr/local/lib/python3.7/dist-packages/prophet/stan_model/prophet_model.bin', 'random', 'seed=60049', 'data', 'file=/tmp/tmp0ow7qcla/4gsnb29_.json', 'init=/tmp/tmp0ow7qcla/fyxq7a4i.json', 'output', 'file=/tmp/tmpeb0bqzhj/prophet_model-20220820142700.csv', 'method=optimize', 'algorithm=lbfgs', 'iter=10000']\n",
            "14:27:01 - cmdstanpy - INFO - Chain [1] start processing\n",
            "INFO:cmdstanpy:Chain [1] start processing\n",
            "14:27:01 - cmdstanpy - INFO - Chain [1] done processing\n",
            "INFO:cmdstanpy:Chain [1] done processing\n",
            "INFO:prophet:Disabling yearly seasonality. Run prophet with yearly_seasonality=True to override this.\n",
            "INFO:prophet:Disabling daily seasonality. Run prophet with daily_seasonality=True to override this.\n",
            "DEBUG:cmdstanpy:input tempfile: /tmp/tmp0ow7qcla/1um3gxno.json\n",
            "DEBUG:cmdstanpy:input tempfile: /tmp/tmp0ow7qcla/_q9hkiw5.json\n",
            "DEBUG:cmdstanpy:idx 0\n",
            "DEBUG:cmdstanpy:running CmdStan, num_threads: None\n",
            "DEBUG:cmdstanpy:CmdStan args: ['/usr/local/lib/python3.7/dist-packages/prophet/stan_model/prophet_model.bin', 'random', 'seed=86183', 'data', 'file=/tmp/tmp0ow7qcla/1um3gxno.json', 'init=/tmp/tmp0ow7qcla/_q9hkiw5.json', 'output', 'file=/tmp/tmpfv8oa7te/prophet_model-20220820142702.csv', 'method=optimize', 'algorithm=lbfgs', 'iter=10000']\n",
            "14:27:02 - cmdstanpy - INFO - Chain [1] start processing\n",
            "INFO:cmdstanpy:Chain [1] start processing\n"
          ]
        },
        {
          "output_type": "stream",
          "name": "stdout",
          "text": [
            "Model Number: 1120 with model Ensemble in generation 11 of Ensembles\n"
          ]
        },
        {
          "output_type": "stream",
          "name": "stderr",
          "text": [
            "14:27:03 - cmdstanpy - INFO - Chain [1] done processing\n",
            "INFO:cmdstanpy:Chain [1] done processing\n",
            "INFO:prophet:Disabling yearly seasonality. Run prophet with yearly_seasonality=True to override this.\n",
            "INFO:prophet:Disabling daily seasonality. Run prophet with daily_seasonality=True to override this.\n",
            "DEBUG:cmdstanpy:input tempfile: /tmp/tmp0ow7qcla/43e4btvt.json\n",
            "DEBUG:cmdstanpy:input tempfile: /tmp/tmp0ow7qcla/jaf0flvc.json\n",
            "DEBUG:cmdstanpy:idx 0\n",
            "DEBUG:cmdstanpy:running CmdStan, num_threads: None\n",
            "DEBUG:cmdstanpy:CmdStan args: ['/usr/local/lib/python3.7/dist-packages/prophet/stan_model/prophet_model.bin', 'random', 'seed=10658', 'data', 'file=/tmp/tmp0ow7qcla/43e4btvt.json', 'init=/tmp/tmp0ow7qcla/jaf0flvc.json', 'output', 'file=/tmp/tmpdpksb0wy/prophet_model-20220820142705.csv', 'method=optimize', 'algorithm=lbfgs', 'iter=10000']\n",
            "14:27:05 - cmdstanpy - INFO - Chain [1] start processing\n",
            "INFO:cmdstanpy:Chain [1] start processing\n"
          ]
        },
        {
          "output_type": "stream",
          "name": "stdout",
          "text": [
            "Model Number: 1121 with model Ensemble in generation 11 of Ensembles\n"
          ]
        },
        {
          "output_type": "stream",
          "name": "stderr",
          "text": [
            "14:27:05 - cmdstanpy - INFO - Chain [1] done processing\n",
            "INFO:cmdstanpy:Chain [1] done processing\n",
            "INFO:prophet:Disabling yearly seasonality. Run prophet with yearly_seasonality=True to override this.\n",
            "INFO:prophet:Disabling daily seasonality. Run prophet with daily_seasonality=True to override this.\n",
            "DEBUG:cmdstanpy:input tempfile: /tmp/tmp0ow7qcla/1dwtcb96.json\n",
            "DEBUG:cmdstanpy:input tempfile: /tmp/tmp0ow7qcla/f65brpu9.json\n",
            "DEBUG:cmdstanpy:idx 0\n",
            "DEBUG:cmdstanpy:running CmdStan, num_threads: None\n",
            "DEBUG:cmdstanpy:CmdStan args: ['/usr/local/lib/python3.7/dist-packages/prophet/stan_model/prophet_model.bin', 'random', 'seed=41308', 'data', 'file=/tmp/tmp0ow7qcla/1dwtcb96.json', 'init=/tmp/tmp0ow7qcla/f65brpu9.json', 'output', 'file=/tmp/tmphlwrv5nr/prophet_model-20220820142707.csv', 'method=optimize', 'algorithm=lbfgs', 'iter=10000']\n",
            "14:27:07 - cmdstanpy - INFO - Chain [1] start processing\n",
            "INFO:cmdstanpy:Chain [1] start processing\n"
          ]
        },
        {
          "output_type": "stream",
          "name": "stdout",
          "text": [
            "Model Number: 1122 with model Ensemble in generation 11 of Ensembles\n"
          ]
        },
        {
          "output_type": "stream",
          "name": "stderr",
          "text": [
            "14:27:07 - cmdstanpy - INFO - Chain [1] done processing\n",
            "INFO:cmdstanpy:Chain [1] done processing\n",
            "INFO:prophet:Disabling yearly seasonality. Run prophet with yearly_seasonality=True to override this.\n",
            "INFO:prophet:Disabling daily seasonality. Run prophet with daily_seasonality=True to override this.\n",
            "DEBUG:cmdstanpy:input tempfile: /tmp/tmp0ow7qcla/dcx05v6n.json\n",
            "DEBUG:cmdstanpy:input tempfile: /tmp/tmp0ow7qcla/hf22f4pc.json\n",
            "DEBUG:cmdstanpy:idx 0\n",
            "DEBUG:cmdstanpy:running CmdStan, num_threads: None\n",
            "DEBUG:cmdstanpy:CmdStan args: ['/usr/local/lib/python3.7/dist-packages/prophet/stan_model/prophet_model.bin', 'random', 'seed=57137', 'data', 'file=/tmp/tmp0ow7qcla/dcx05v6n.json', 'init=/tmp/tmp0ow7qcla/hf22f4pc.json', 'output', 'file=/tmp/tmp5sdpvnjf/prophet_model-20220820142709.csv', 'method=optimize', 'algorithm=lbfgs', 'iter=10000']\n",
            "14:27:09 - cmdstanpy - INFO - Chain [1] start processing\n",
            "INFO:cmdstanpy:Chain [1] start processing\n"
          ]
        },
        {
          "output_type": "stream",
          "name": "stdout",
          "text": [
            "Model Number: 1123 with model Ensemble in generation 11 of Ensembles\n"
          ]
        },
        {
          "output_type": "stream",
          "name": "stderr",
          "text": [
            "14:27:10 - cmdstanpy - INFO - Chain [1] done processing\n",
            "INFO:cmdstanpy:Chain [1] done processing\n"
          ]
        },
        {
          "output_type": "stream",
          "name": "stdout",
          "text": [
            "Validation Round: 1\n",
            "Model Number: 1 of 168 with model Ensemble for Validation 1\n"
          ]
        },
        {
          "output_type": "stream",
          "name": "stderr",
          "text": [
            "INFO:prophet:Disabling yearly seasonality. Run prophet with yearly_seasonality=True to override this.\n",
            "INFO:prophet:Disabling daily seasonality. Run prophet with daily_seasonality=True to override this.\n",
            "DEBUG:cmdstanpy:input tempfile: /tmp/tmp0ow7qcla/wr6i_45n.json\n",
            "DEBUG:cmdstanpy:input tempfile: /tmp/tmp0ow7qcla/c29x80r6.json\n",
            "DEBUG:cmdstanpy:idx 0\n",
            "DEBUG:cmdstanpy:running CmdStan, num_threads: None\n",
            "DEBUG:cmdstanpy:CmdStan args: ['/usr/local/lib/python3.7/dist-packages/prophet/stan_model/prophet_model.bin', 'random', 'seed=86172', 'data', 'file=/tmp/tmp0ow7qcla/wr6i_45n.json', 'init=/tmp/tmp0ow7qcla/c29x80r6.json', 'output', 'file=/tmp/tmpzka4rvd9/prophet_model-20220820142713.csv', 'method=optimize', 'algorithm=lbfgs', 'iter=10000']\n",
            "14:27:13 - cmdstanpy - INFO - Chain [1] start processing\n",
            "INFO:cmdstanpy:Chain [1] start processing\n",
            "14:27:13 - cmdstanpy - INFO - Chain [1] done processing\n",
            "INFO:cmdstanpy:Chain [1] done processing\n"
          ]
        },
        {
          "output_type": "stream",
          "name": "stdout",
          "text": [
            "📈 1 - Ensemble with avg smape 7.84: \n",
            "Model Number: 2 of 168 with model Ensemble for Validation 1\n"
          ]
        },
        {
          "output_type": "stream",
          "name": "stderr",
          "text": [
            "INFO:prophet:Disabling yearly seasonality. Run prophet with yearly_seasonality=True to override this.\n",
            "INFO:prophet:Disabling daily seasonality. Run prophet with daily_seasonality=True to override this.\n",
            "DEBUG:cmdstanpy:input tempfile: /tmp/tmp0ow7qcla/hr2yxfvp.json\n",
            "DEBUG:cmdstanpy:input tempfile: /tmp/tmp0ow7qcla/_cbumcby.json\n",
            "DEBUG:cmdstanpy:idx 0\n",
            "DEBUG:cmdstanpy:running CmdStan, num_threads: None\n",
            "DEBUG:cmdstanpy:CmdStan args: ['/usr/local/lib/python3.7/dist-packages/prophet/stan_model/prophet_model.bin', 'random', 'seed=97071', 'data', 'file=/tmp/tmp0ow7qcla/hr2yxfvp.json', 'init=/tmp/tmp0ow7qcla/_cbumcby.json', 'output', 'file=/tmp/tmpb_1m8idc/prophet_model-20220820142716.csv', 'method=optimize', 'algorithm=lbfgs', 'iter=10000']\n",
            "14:27:16 - cmdstanpy - INFO - Chain [1] start processing\n",
            "INFO:cmdstanpy:Chain [1] start processing\n",
            "14:27:16 - cmdstanpy - INFO - Chain [1] done processing\n",
            "INFO:cmdstanpy:Chain [1] done processing\n",
            "INFO:prophet:Disabling yearly seasonality. Run prophet with yearly_seasonality=True to override this.\n",
            "INFO:prophet:Disabling daily seasonality. Run prophet with daily_seasonality=True to override this.\n",
            "DEBUG:cmdstanpy:input tempfile: /tmp/tmp0ow7qcla/asqmx8bp.json\n",
            "DEBUG:cmdstanpy:input tempfile: /tmp/tmp0ow7qcla/ab8qyyhd.json\n",
            "DEBUG:cmdstanpy:idx 0\n",
            "DEBUG:cmdstanpy:running CmdStan, num_threads: None\n",
            "DEBUG:cmdstanpy:CmdStan args: ['/usr/local/lib/python3.7/dist-packages/prophet/stan_model/prophet_model.bin', 'random', 'seed=64914', 'data', 'file=/tmp/tmp0ow7qcla/asqmx8bp.json', 'init=/tmp/tmp0ow7qcla/ab8qyyhd.json', 'output', 'file=/tmp/tmp2cpxbei5/prophet_model-20220820142719.csv', 'method=optimize', 'algorithm=lbfgs', 'iter=10000']\n",
            "14:27:19 - cmdstanpy - INFO - Chain [1] start processing\n",
            "INFO:cmdstanpy:Chain [1] start processing\n",
            "14:27:19 - cmdstanpy - INFO - Chain [1] done processing\n",
            "INFO:cmdstanpy:Chain [1] done processing\n",
            "INFO:prophet:Disabling yearly seasonality. Run prophet with yearly_seasonality=True to override this.\n",
            "INFO:prophet:Disabling daily seasonality. Run prophet with daily_seasonality=True to override this.\n",
            "DEBUG:cmdstanpy:input tempfile: /tmp/tmp0ow7qcla/30w3unam.json\n",
            "DEBUG:cmdstanpy:input tempfile: /tmp/tmp0ow7qcla/pimbmorj.json\n",
            "DEBUG:cmdstanpy:idx 0\n",
            "DEBUG:cmdstanpy:running CmdStan, num_threads: None\n",
            "DEBUG:cmdstanpy:CmdStan args: ['/usr/local/lib/python3.7/dist-packages/prophet/stan_model/prophet_model.bin', 'random', 'seed=817', 'data', 'file=/tmp/tmp0ow7qcla/30w3unam.json', 'init=/tmp/tmp0ow7qcla/pimbmorj.json', 'output', 'file=/tmp/tmpsnw869r_/prophet_model-20220820142721.csv', 'method=optimize', 'algorithm=lbfgs', 'iter=10000']\n",
            "14:27:21 - cmdstanpy - INFO - Chain [1] start processing\n",
            "INFO:cmdstanpy:Chain [1] start processing\n",
            "14:27:21 - cmdstanpy - INFO - Chain [1] done processing\n",
            "INFO:cmdstanpy:Chain [1] done processing\n",
            "INFO:prophet:Disabling yearly seasonality. Run prophet with yearly_seasonality=True to override this.\n",
            "INFO:prophet:Disabling daily seasonality. Run prophet with daily_seasonality=True to override this.\n",
            "DEBUG:cmdstanpy:input tempfile: /tmp/tmp0ow7qcla/_cwmsrtz.json\n",
            "DEBUG:cmdstanpy:input tempfile: /tmp/tmp0ow7qcla/wlbi4un4.json\n",
            "DEBUG:cmdstanpy:idx 0\n",
            "DEBUG:cmdstanpy:running CmdStan, num_threads: None\n",
            "DEBUG:cmdstanpy:CmdStan args: ['/usr/local/lib/python3.7/dist-packages/prophet/stan_model/prophet_model.bin', 'random', 'seed=12558', 'data', 'file=/tmp/tmp0ow7qcla/_cwmsrtz.json', 'init=/tmp/tmp0ow7qcla/wlbi4un4.json', 'output', 'file=/tmp/tmp652uzb4t/prophet_model-20220820142723.csv', 'method=optimize', 'algorithm=lbfgs', 'iter=10000']\n",
            "14:27:23 - cmdstanpy - INFO - Chain [1] start processing\n",
            "INFO:cmdstanpy:Chain [1] start processing\n"
          ]
        },
        {
          "output_type": "stream",
          "name": "stdout",
          "text": [
            "2 - Ensemble with avg smape 9.17: \n",
            "Model Number: 3 of 168 with model Ensemble for Validation 1\n"
          ]
        },
        {
          "output_type": "stream",
          "name": "stderr",
          "text": [
            "14:27:23 - cmdstanpy - INFO - Chain [1] done processing\n",
            "INFO:cmdstanpy:Chain [1] done processing\n",
            "INFO:prophet:Disabling yearly seasonality. Run prophet with yearly_seasonality=True to override this.\n",
            "INFO:prophet:Disabling daily seasonality. Run prophet with daily_seasonality=True to override this.\n",
            "DEBUG:cmdstanpy:input tempfile: /tmp/tmp0ow7qcla/feuzr9ai.json\n",
            "DEBUG:cmdstanpy:input tempfile: /tmp/tmp0ow7qcla/ecyntrrj.json\n",
            "DEBUG:cmdstanpy:idx 0\n",
            "DEBUG:cmdstanpy:running CmdStan, num_threads: None\n",
            "DEBUG:cmdstanpy:CmdStan args: ['/usr/local/lib/python3.7/dist-packages/prophet/stan_model/prophet_model.bin', 'random', 'seed=72494', 'data', 'file=/tmp/tmp0ow7qcla/feuzr9ai.json', 'init=/tmp/tmp0ow7qcla/ecyntrrj.json', 'output', 'file=/tmp/tmpqb2yor91/prophet_model-20220820142726.csv', 'method=optimize', 'algorithm=lbfgs', 'iter=10000']\n",
            "14:27:26 - cmdstanpy - INFO - Chain [1] start processing\n",
            "INFO:cmdstanpy:Chain [1] start processing\n"
          ]
        },
        {
          "output_type": "stream",
          "name": "stdout",
          "text": [
            "3 - Ensemble with avg smape 10.51: \n",
            "Model Number: 4 of 168 with model FBProphet for Validation 1\n"
          ]
        },
        {
          "output_type": "stream",
          "name": "stderr",
          "text": [
            "14:27:26 - cmdstanpy - INFO - Chain [1] done processing\n",
            "INFO:cmdstanpy:Chain [1] done processing\n",
            "INFO:prophet:Disabling yearly seasonality. Run prophet with yearly_seasonality=True to override this.\n",
            "INFO:prophet:Disabling daily seasonality. Run prophet with daily_seasonality=True to override this.\n",
            "DEBUG:cmdstanpy:input tempfile: /tmp/tmp0ow7qcla/2sbviefe.json\n",
            "DEBUG:cmdstanpy:input tempfile: /tmp/tmp0ow7qcla/mhut6uso.json\n",
            "DEBUG:cmdstanpy:idx 0\n",
            "DEBUG:cmdstanpy:running CmdStan, num_threads: None\n",
            "DEBUG:cmdstanpy:CmdStan args: ['/usr/local/lib/python3.7/dist-packages/prophet/stan_model/prophet_model.bin', 'random', 'seed=77494', 'data', 'file=/tmp/tmp0ow7qcla/2sbviefe.json', 'init=/tmp/tmp0ow7qcla/mhut6uso.json', 'output', 'file=/tmp/tmp9z4la5jl/prophet_model-20220820142727.csv', 'method=optimize', 'algorithm=lbfgs', 'iter=10000']\n",
            "14:27:27 - cmdstanpy - INFO - Chain [1] start processing\n",
            "INFO:cmdstanpy:Chain [1] start processing\n"
          ]
        },
        {
          "output_type": "stream",
          "name": "stdout",
          "text": [
            "4 - FBProphet with avg smape 13.91: \n",
            "Model Number: 5 of 168 with model FBProphet for Validation 1\n"
          ]
        },
        {
          "output_type": "stream",
          "name": "stderr",
          "text": [
            "14:27:28 - cmdstanpy - INFO - Chain [1] done processing\n",
            "INFO:cmdstanpy:Chain [1] done processing\n",
            "INFO:prophet:Disabling yearly seasonality. Run prophet with yearly_seasonality=True to override this.\n",
            "INFO:prophet:Disabling daily seasonality. Run prophet with daily_seasonality=True to override this.\n",
            "DEBUG:cmdstanpy:input tempfile: /tmp/tmp0ow7qcla/tn3dh55r.json\n",
            "DEBUG:cmdstanpy:input tempfile: /tmp/tmp0ow7qcla/e63l9f9e.json\n",
            "DEBUG:cmdstanpy:idx 0\n",
            "DEBUG:cmdstanpy:running CmdStan, num_threads: None\n",
            "DEBUG:cmdstanpy:CmdStan args: ['/usr/local/lib/python3.7/dist-packages/prophet/stan_model/prophet_model.bin', 'random', 'seed=42717', 'data', 'file=/tmp/tmp0ow7qcla/tn3dh55r.json', 'init=/tmp/tmp0ow7qcla/e63l9f9e.json', 'output', 'file=/tmp/tmpg5qs8hv3/prophet_model-20220820142729.csv', 'method=optimize', 'algorithm=lbfgs', 'iter=10000']\n",
            "14:27:29 - cmdstanpy - INFO - Chain [1] start processing\n",
            "INFO:cmdstanpy:Chain [1] start processing\n"
          ]
        },
        {
          "output_type": "stream",
          "name": "stdout",
          "text": [
            "📈 5 - FBProphet with avg smape 4.44: \n",
            "Model Number: 6 of 168 with model Ensemble for Validation 1\n"
          ]
        },
        {
          "output_type": "stream",
          "name": "stderr",
          "text": [
            "14:27:30 - cmdstanpy - INFO - Chain [1] done processing\n",
            "INFO:cmdstanpy:Chain [1] done processing\n",
            "INFO:prophet:Disabling yearly seasonality. Run prophet with yearly_seasonality=True to override this.\n",
            "INFO:prophet:Disabling daily seasonality. Run prophet with daily_seasonality=True to override this.\n",
            "DEBUG:cmdstanpy:input tempfile: /tmp/tmp0ow7qcla/5_c0eha_.json\n",
            "DEBUG:cmdstanpy:input tempfile: /tmp/tmp0ow7qcla/4dds04ct.json\n",
            "DEBUG:cmdstanpy:idx 0\n",
            "DEBUG:cmdstanpy:running CmdStan, num_threads: None\n",
            "DEBUG:cmdstanpy:CmdStan args: ['/usr/local/lib/python3.7/dist-packages/prophet/stan_model/prophet_model.bin', 'random', 'seed=72592', 'data', 'file=/tmp/tmp0ow7qcla/5_c0eha_.json', 'init=/tmp/tmp0ow7qcla/4dds04ct.json', 'output', 'file=/tmp/tmp_o87mttt/prophet_model-20220820142732.csv', 'method=optimize', 'algorithm=lbfgs', 'iter=10000']\n",
            "14:27:32 - cmdstanpy - INFO - Chain [1] start processing\n",
            "INFO:cmdstanpy:Chain [1] start processing\n"
          ]
        },
        {
          "output_type": "stream",
          "name": "stdout",
          "text": [
            "6 - Ensemble with avg smape 11.21: \n",
            "Model Number: 7 of 168 with model Ensemble for Validation 1\n"
          ]
        },
        {
          "output_type": "stream",
          "name": "stderr",
          "text": [
            "14:27:32 - cmdstanpy - INFO - Chain [1] done processing\n",
            "INFO:cmdstanpy:Chain [1] done processing\n",
            "INFO:prophet:Disabling yearly seasonality. Run prophet with yearly_seasonality=True to override this.\n",
            "INFO:prophet:Disabling daily seasonality. Run prophet with daily_seasonality=True to override this.\n"
          ]
        },
        {
          "output_type": "stream",
          "name": "stdout",
          "text": [
            "7 - Ensemble with avg smape 11.21: \n",
            "Model Number: 8 of 168 with model FBProphet for Validation 1\n"
          ]
        },
        {
          "output_type": "stream",
          "name": "stderr",
          "text": [
            "DEBUG:cmdstanpy:input tempfile: /tmp/tmp0ow7qcla/n6ibz6yk.json\n",
            "DEBUG:cmdstanpy:input tempfile: /tmp/tmp0ow7qcla/4_77xfcl.json\n",
            "DEBUG:cmdstanpy:idx 0\n",
            "DEBUG:cmdstanpy:running CmdStan, num_threads: None\n",
            "DEBUG:cmdstanpy:CmdStan args: ['/usr/local/lib/python3.7/dist-packages/prophet/stan_model/prophet_model.bin', 'random', 'seed=24511', 'data', 'file=/tmp/tmp0ow7qcla/n6ibz6yk.json', 'init=/tmp/tmp0ow7qcla/4_77xfcl.json', 'output', 'file=/tmp/tmpmvsl64fa/prophet_model-20220820142734.csv', 'method=optimize', 'algorithm=lbfgs', 'iter=10000']\n",
            "14:27:34 - cmdstanpy - INFO - Chain [1] start processing\n",
            "INFO:cmdstanpy:Chain [1] start processing\n",
            "14:27:34 - cmdstanpy - INFO - Chain [1] done processing\n",
            "INFO:cmdstanpy:Chain [1] done processing\n",
            "INFO:prophet:Disabling yearly seasonality. Run prophet with yearly_seasonality=True to override this.\n",
            "INFO:prophet:Disabling daily seasonality. Run prophet with daily_seasonality=True to override this.\n",
            "DEBUG:cmdstanpy:input tempfile: /tmp/tmp0ow7qcla/5l37koso.json\n",
            "DEBUG:cmdstanpy:input tempfile: /tmp/tmp0ow7qcla/671kek90.json\n",
            "DEBUG:cmdstanpy:idx 0\n",
            "DEBUG:cmdstanpy:running CmdStan, num_threads: None\n",
            "DEBUG:cmdstanpy:CmdStan args: ['/usr/local/lib/python3.7/dist-packages/prophet/stan_model/prophet_model.bin', 'random', 'seed=25616', 'data', 'file=/tmp/tmp0ow7qcla/5l37koso.json', 'init=/tmp/tmp0ow7qcla/671kek90.json', 'output', 'file=/tmp/tmp051jx0im/prophet_model-20220820142736.csv', 'method=optimize', 'algorithm=lbfgs', 'iter=10000']\n",
            "14:27:36 - cmdstanpy - INFO - Chain [1] start processing\n",
            "INFO:cmdstanpy:Chain [1] start processing\n"
          ]
        },
        {
          "output_type": "stream",
          "name": "stdout",
          "text": [
            "8 - FBProphet with avg smape 14.01: \n",
            "Model Number: 9 of 168 with model Ensemble for Validation 1\n"
          ]
        },
        {
          "output_type": "stream",
          "name": "stderr",
          "text": [
            "14:27:36 - cmdstanpy - INFO - Chain [1] done processing\n",
            "INFO:cmdstanpy:Chain [1] done processing\n",
            "INFO:prophet:Disabling yearly seasonality. Run prophet with yearly_seasonality=True to override this.\n",
            "INFO:prophet:Disabling daily seasonality. Run prophet with daily_seasonality=True to override this.\n",
            "DEBUG:cmdstanpy:input tempfile: /tmp/tmp0ow7qcla/y6m4_en6.json\n",
            "DEBUG:cmdstanpy:input tempfile: /tmp/tmp0ow7qcla/egmw8o0r.json\n",
            "DEBUG:cmdstanpy:idx 0\n",
            "DEBUG:cmdstanpy:running CmdStan, num_threads: None\n",
            "DEBUG:cmdstanpy:CmdStan args: ['/usr/local/lib/python3.7/dist-packages/prophet/stan_model/prophet_model.bin', 'random', 'seed=96313', 'data', 'file=/tmp/tmp0ow7qcla/y6m4_en6.json', 'init=/tmp/tmp0ow7qcla/egmw8o0r.json', 'output', 'file=/tmp/tmpv_29dm3j/prophet_model-20220820142738.csv', 'method=optimize', 'algorithm=lbfgs', 'iter=10000']\n",
            "14:27:38 - cmdstanpy - INFO - Chain [1] start processing\n",
            "INFO:cmdstanpy:Chain [1] start processing\n"
          ]
        },
        {
          "output_type": "stream",
          "name": "stdout",
          "text": [
            "9 - Ensemble with avg smape 11.32: \n",
            "Model Number: 10 of 168 with model Ensemble for Validation 1\n"
          ]
        },
        {
          "output_type": "stream",
          "name": "stderr",
          "text": [
            "14:27:38 - cmdstanpy - INFO - Chain [1] done processing\n",
            "INFO:cmdstanpy:Chain [1] done processing\n",
            "INFO:prophet:Disabling yearly seasonality. Run prophet with yearly_seasonality=True to override this.\n",
            "INFO:prophet:Disabling daily seasonality. Run prophet with daily_seasonality=True to override this.\n",
            "DEBUG:cmdstanpy:input tempfile: /tmp/tmp0ow7qcla/kg2aifo4.json\n",
            "DEBUG:cmdstanpy:input tempfile: /tmp/tmp0ow7qcla/f4wgreh8.json\n",
            "DEBUG:cmdstanpy:idx 0\n",
            "DEBUG:cmdstanpy:running CmdStan, num_threads: None\n",
            "DEBUG:cmdstanpy:CmdStan args: ['/usr/local/lib/python3.7/dist-packages/prophet/stan_model/prophet_model.bin', 'random', 'seed=65499', 'data', 'file=/tmp/tmp0ow7qcla/kg2aifo4.json', 'init=/tmp/tmp0ow7qcla/f4wgreh8.json', 'output', 'file=/tmp/tmpxph8w1rp/prophet_model-20220820142740.csv', 'method=optimize', 'algorithm=lbfgs', 'iter=10000']\n",
            "14:27:40 - cmdstanpy - INFO - Chain [1] start processing\n",
            "INFO:cmdstanpy:Chain [1] start processing\n",
            "14:27:40 - cmdstanpy - INFO - Chain [1] done processing\n",
            "INFO:cmdstanpy:Chain [1] done processing\n",
            "INFO:prophet:Disabling yearly seasonality. Run prophet with yearly_seasonality=True to override this.\n",
            "INFO:prophet:Disabling daily seasonality. Run prophet with daily_seasonality=True to override this.\n",
            "DEBUG:cmdstanpy:input tempfile: /tmp/tmp0ow7qcla/5ah4tr8i.json\n",
            "DEBUG:cmdstanpy:input tempfile: /tmp/tmp0ow7qcla/wi4dg_p5.json\n",
            "DEBUG:cmdstanpy:idx 0\n",
            "DEBUG:cmdstanpy:running CmdStan, num_threads: None\n",
            "DEBUG:cmdstanpy:CmdStan args: ['/usr/local/lib/python3.7/dist-packages/prophet/stan_model/prophet_model.bin', 'random', 'seed=87553', 'data', 'file=/tmp/tmp0ow7qcla/5ah4tr8i.json', 'init=/tmp/tmp0ow7qcla/wi4dg_p5.json', 'output', 'file=/tmp/tmpd_nup9bn/prophet_model-20220820142742.csv', 'method=optimize', 'algorithm=lbfgs', 'iter=10000']\n",
            "14:27:42 - cmdstanpy - INFO - Chain [1] start processing\n",
            "INFO:cmdstanpy:Chain [1] start processing\n",
            "14:27:42 - cmdstanpy - INFO - Chain [1] done processing\n",
            "INFO:cmdstanpy:Chain [1] done processing\n",
            "INFO:prophet:Disabling yearly seasonality. Run prophet with yearly_seasonality=True to override this.\n",
            "INFO:prophet:Disabling daily seasonality. Run prophet with daily_seasonality=True to override this.\n",
            "DEBUG:cmdstanpy:input tempfile: /tmp/tmp0ow7qcla/4kq7j_x5.json\n",
            "DEBUG:cmdstanpy:input tempfile: /tmp/tmp0ow7qcla/2udmde26.json\n",
            "DEBUG:cmdstanpy:idx 0\n",
            "DEBUG:cmdstanpy:running CmdStan, num_threads: None\n",
            "DEBUG:cmdstanpy:CmdStan args: ['/usr/local/lib/python3.7/dist-packages/prophet/stan_model/prophet_model.bin', 'random', 'seed=7833', 'data', 'file=/tmp/tmp0ow7qcla/4kq7j_x5.json', 'init=/tmp/tmp0ow7qcla/2udmde26.json', 'output', 'file=/tmp/tmprp53l63c/prophet_model-20220820142744.csv', 'method=optimize', 'algorithm=lbfgs', 'iter=10000']\n",
            "14:27:44 - cmdstanpy - INFO - Chain [1] start processing\n",
            "INFO:cmdstanpy:Chain [1] start processing\n"
          ]
        },
        {
          "output_type": "stream",
          "name": "stdout",
          "text": [
            "10 - Ensemble with avg smape 10.89: \n",
            "Model Number: 11 of 168 with model FBProphet for Validation 1\n"
          ]
        },
        {
          "output_type": "stream",
          "name": "stderr",
          "text": [
            "14:27:45 - cmdstanpy - INFO - Chain [1] done processing\n",
            "INFO:cmdstanpy:Chain [1] done processing\n",
            "INFO:prophet:Disabling yearly seasonality. Run prophet with yearly_seasonality=True to override this.\n",
            "INFO:prophet:Disabling daily seasonality. Run prophet with daily_seasonality=True to override this.\n",
            "DEBUG:cmdstanpy:input tempfile: /tmp/tmp0ow7qcla/9zxejswx.json\n",
            "DEBUG:cmdstanpy:input tempfile: /tmp/tmp0ow7qcla/m3qfbu85.json\n",
            "DEBUG:cmdstanpy:idx 0\n",
            "DEBUG:cmdstanpy:running CmdStan, num_threads: None\n",
            "DEBUG:cmdstanpy:CmdStan args: ['/usr/local/lib/python3.7/dist-packages/prophet/stan_model/prophet_model.bin', 'random', 'seed=5220', 'data', 'file=/tmp/tmp0ow7qcla/9zxejswx.json', 'init=/tmp/tmp0ow7qcla/m3qfbu85.json', 'output', 'file=/tmp/tmpvg6zlsqj/prophet_model-20220820142747.csv', 'method=optimize', 'algorithm=lbfgs', 'iter=10000']\n",
            "14:27:47 - cmdstanpy - INFO - Chain [1] start processing\n",
            "INFO:cmdstanpy:Chain [1] start processing\n"
          ]
        },
        {
          "output_type": "stream",
          "name": "stdout",
          "text": [
            "📈 11 - FBProphet with avg smape 4.4: \n",
            "Model Number: 12 of 168 with model FBProphet for Validation 1\n"
          ]
        },
        {
          "output_type": "stream",
          "name": "stderr",
          "text": [
            "14:27:47 - cmdstanpy - INFO - Chain [1] done processing\n",
            "INFO:cmdstanpy:Chain [1] done processing\n"
          ]
        },
        {
          "output_type": "stream",
          "name": "stdout",
          "text": [
            "12 - FBProphet with avg smape 13.94: \n",
            "Model Number: 13 of 168 with model MultivariateRegression for Validation 1\n"
          ]
        },
        {
          "output_type": "stream",
          "name": "stderr",
          "text": [
            "INFO:prophet:Disabling yearly seasonality. Run prophet with yearly_seasonality=True to override this.\n",
            "INFO:prophet:Disabling daily seasonality. Run prophet with daily_seasonality=True to override this.\n",
            "DEBUG:cmdstanpy:input tempfile: /tmp/tmp0ow7qcla/w3z3__ee.json\n",
            "DEBUG:cmdstanpy:input tempfile: /tmp/tmp0ow7qcla/zz5s7rz3.json\n",
            "DEBUG:cmdstanpy:idx 0\n",
            "DEBUG:cmdstanpy:running CmdStan, num_threads: None\n",
            "DEBUG:cmdstanpy:CmdStan args: ['/usr/local/lib/python3.7/dist-packages/prophet/stan_model/prophet_model.bin', 'random', 'seed=31317', 'data', 'file=/tmp/tmp0ow7qcla/w3z3__ee.json', 'init=/tmp/tmp0ow7qcla/zz5s7rz3.json', 'output', 'file=/tmp/tmpqt6c3c7a/prophet_model-20220820142750.csv', 'method=optimize', 'algorithm=lbfgs', 'iter=10000']\n",
            "14:27:50 - cmdstanpy - INFO - Chain [1] start processing\n",
            "INFO:cmdstanpy:Chain [1] start processing\n"
          ]
        },
        {
          "output_type": "stream",
          "name": "stdout",
          "text": [
            "13 - MultivariateRegression with avg smape 10.85: \n",
            "Model Number: 14 of 168 with model Ensemble for Validation 1\n"
          ]
        },
        {
          "output_type": "stream",
          "name": "stderr",
          "text": [
            "14:27:50 - cmdstanpy - INFO - Chain [1] done processing\n",
            "INFO:cmdstanpy:Chain [1] done processing\n",
            "INFO:prophet:Disabling yearly seasonality. Run prophet with yearly_seasonality=True to override this.\n",
            "INFO:prophet:Disabling daily seasonality. Run prophet with daily_seasonality=True to override this.\n",
            "DEBUG:cmdstanpy:input tempfile: /tmp/tmp0ow7qcla/tgst7aql.json\n",
            "DEBUG:cmdstanpy:input tempfile: /tmp/tmp0ow7qcla/_1hecsos.json\n",
            "DEBUG:cmdstanpy:idx 0\n",
            "DEBUG:cmdstanpy:running CmdStan, num_threads: None\n",
            "DEBUG:cmdstanpy:CmdStan args: ['/usr/local/lib/python3.7/dist-packages/prophet/stan_model/prophet_model.bin', 'random', 'seed=85747', 'data', 'file=/tmp/tmp0ow7qcla/tgst7aql.json', 'init=/tmp/tmp0ow7qcla/_1hecsos.json', 'output', 'file=/tmp/tmpjzt6cfaa/prophet_model-20220820142752.csv', 'method=optimize', 'algorithm=lbfgs', 'iter=10000']\n",
            "14:27:52 - cmdstanpy - INFO - Chain [1] start processing\n",
            "INFO:cmdstanpy:Chain [1] start processing\n",
            "14:27:52 - cmdstanpy - INFO - Chain [1] done processing\n",
            "INFO:cmdstanpy:Chain [1] done processing\n",
            "INFO:prophet:Disabling yearly seasonality. Run prophet with yearly_seasonality=True to override this.\n",
            "INFO:prophet:Disabling daily seasonality. Run prophet with daily_seasonality=True to override this.\n",
            "DEBUG:cmdstanpy:input tempfile: /tmp/tmp0ow7qcla/gq5epvyh.json\n",
            "DEBUG:cmdstanpy:input tempfile: /tmp/tmp0ow7qcla/cqj8sh9i.json\n",
            "DEBUG:cmdstanpy:idx 0\n",
            "DEBUG:cmdstanpy:running CmdStan, num_threads: None\n",
            "DEBUG:cmdstanpy:CmdStan args: ['/usr/local/lib/python3.7/dist-packages/prophet/stan_model/prophet_model.bin', 'random', 'seed=51784', 'data', 'file=/tmp/tmp0ow7qcla/gq5epvyh.json', 'init=/tmp/tmp0ow7qcla/cqj8sh9i.json', 'output', 'file=/tmp/tmp7b7anw__/prophet_model-20220820142753.csv', 'method=optimize', 'algorithm=lbfgs', 'iter=10000']\n",
            "14:27:53 - cmdstanpy - INFO - Chain [1] start processing\n",
            "INFO:cmdstanpy:Chain [1] start processing\n",
            "14:27:54 - cmdstanpy - INFO - Chain [1] done processing\n",
            "INFO:cmdstanpy:Chain [1] done processing\n",
            "INFO:prophet:Disabling yearly seasonality. Run prophet with yearly_seasonality=True to override this.\n",
            "INFO:prophet:Disabling daily seasonality. Run prophet with daily_seasonality=True to override this.\n",
            "DEBUG:cmdstanpy:input tempfile: /tmp/tmp0ow7qcla/knxmhi4a.json\n",
            "DEBUG:cmdstanpy:input tempfile: /tmp/tmp0ow7qcla/vye9aqp4.json\n",
            "DEBUG:cmdstanpy:idx 0\n",
            "DEBUG:cmdstanpy:running CmdStan, num_threads: None\n",
            "DEBUG:cmdstanpy:CmdStan args: ['/usr/local/lib/python3.7/dist-packages/prophet/stan_model/prophet_model.bin', 'random', 'seed=67879', 'data', 'file=/tmp/tmp0ow7qcla/knxmhi4a.json', 'init=/tmp/tmp0ow7qcla/vye9aqp4.json', 'output', 'file=/tmp/tmpdbtdi5z2/prophet_model-20220820142756.csv', 'method=optimize', 'algorithm=lbfgs', 'iter=10000']\n",
            "14:27:56 - cmdstanpy - INFO - Chain [1] start processing\n",
            "INFO:cmdstanpy:Chain [1] start processing\n",
            "14:27:56 - cmdstanpy - INFO - Chain [1] done processing\n",
            "INFO:cmdstanpy:Chain [1] done processing\n",
            "INFO:prophet:Disabling yearly seasonality. Run prophet with yearly_seasonality=True to override this.\n",
            "INFO:prophet:Disabling daily seasonality. Run prophet with daily_seasonality=True to override this.\n",
            "DEBUG:cmdstanpy:input tempfile: /tmp/tmp0ow7qcla/b5lmh5ll.json\n",
            "DEBUG:cmdstanpy:input tempfile: /tmp/tmp0ow7qcla/fftkperd.json\n",
            "DEBUG:cmdstanpy:idx 0\n",
            "DEBUG:cmdstanpy:running CmdStan, num_threads: None\n",
            "DEBUG:cmdstanpy:CmdStan args: ['/usr/local/lib/python3.7/dist-packages/prophet/stan_model/prophet_model.bin', 'random', 'seed=25363', 'data', 'file=/tmp/tmp0ow7qcla/b5lmh5ll.json', 'init=/tmp/tmp0ow7qcla/fftkperd.json', 'output', 'file=/tmp/tmpna1umxht/prophet_model-20220820142758.csv', 'method=optimize', 'algorithm=lbfgs', 'iter=10000']\n",
            "14:27:58 - cmdstanpy - INFO - Chain [1] start processing\n",
            "INFO:cmdstanpy:Chain [1] start processing\n",
            "14:27:58 - cmdstanpy - INFO - Chain [1] done processing\n",
            "INFO:cmdstanpy:Chain [1] done processing\n"
          ]
        },
        {
          "output_type": "stream",
          "name": "stdout",
          "text": [
            "14 - Ensemble with avg smape 13.82: \n",
            "Model Number: 15 of 168 with model MultivariateRegression for Validation 1\n",
            "15 - MultivariateRegression with avg smape 10.77: \n",
            "Model Number: 16 of 168 with model FBProphet for Validation 1\n"
          ]
        },
        {
          "output_type": "stream",
          "name": "stderr",
          "text": [
            "INFO:prophet:Disabling yearly seasonality. Run prophet with yearly_seasonality=True to override this.\n",
            "INFO:prophet:Disabling daily seasonality. Run prophet with daily_seasonality=True to override this.\n",
            "DEBUG:cmdstanpy:input tempfile: /tmp/tmp0ow7qcla/mf9yzi5e.json\n",
            "DEBUG:cmdstanpy:input tempfile: /tmp/tmp0ow7qcla/zaa4pl9k.json\n",
            "DEBUG:cmdstanpy:idx 0\n",
            "DEBUG:cmdstanpy:running CmdStan, num_threads: None\n",
            "DEBUG:cmdstanpy:CmdStan args: ['/usr/local/lib/python3.7/dist-packages/prophet/stan_model/prophet_model.bin', 'random', 'seed=98062', 'data', 'file=/tmp/tmp0ow7qcla/mf9yzi5e.json', 'init=/tmp/tmp0ow7qcla/zaa4pl9k.json', 'output', 'file=/tmp/tmpit3czj91/prophet_model-20220820142800.csv', 'method=optimize', 'algorithm=lbfgs', 'iter=10000']\n",
            "14:28:00 - cmdstanpy - INFO - Chain [1] start processing\n",
            "INFO:cmdstanpy:Chain [1] start processing\n",
            "14:28:00 - cmdstanpy - INFO - Chain [1] done processing\n",
            "INFO:cmdstanpy:Chain [1] done processing\n",
            "INFO:prophet:Disabling yearly seasonality. Run prophet with yearly_seasonality=True to override this.\n",
            "INFO:prophet:Disabling daily seasonality. Run prophet with daily_seasonality=True to override this.\n",
            "DEBUG:cmdstanpy:input tempfile: /tmp/tmp0ow7qcla/l7olbka0.json\n",
            "DEBUG:cmdstanpy:input tempfile: /tmp/tmp0ow7qcla/8qdx8v4l.json\n",
            "DEBUG:cmdstanpy:idx 0\n",
            "DEBUG:cmdstanpy:running CmdStan, num_threads: None\n",
            "DEBUG:cmdstanpy:CmdStan args: ['/usr/local/lib/python3.7/dist-packages/prophet/stan_model/prophet_model.bin', 'random', 'seed=95969', 'data', 'file=/tmp/tmp0ow7qcla/l7olbka0.json', 'init=/tmp/tmp0ow7qcla/8qdx8v4l.json', 'output', 'file=/tmp/tmpz3wedusu/prophet_model-20220820142802.csv', 'method=optimize', 'algorithm=lbfgs', 'iter=10000']\n",
            "14:28:02 - cmdstanpy - INFO - Chain [1] start processing\n",
            "INFO:cmdstanpy:Chain [1] start processing\n"
          ]
        },
        {
          "output_type": "stream",
          "name": "stdout",
          "text": [
            "16 - FBProphet with avg smape 13.91: \n",
            "Model Number: 17 of 168 with model FBProphet for Validation 1\n"
          ]
        },
        {
          "output_type": "stream",
          "name": "stderr",
          "text": [
            "14:28:02 - cmdstanpy - INFO - Chain [1] done processing\n",
            "INFO:cmdstanpy:Chain [1] done processing\n",
            "INFO:prophet:Disabling yearly seasonality. Run prophet with yearly_seasonality=True to override this.\n",
            "INFO:prophet:Disabling daily seasonality. Run prophet with daily_seasonality=True to override this.\n",
            "DEBUG:cmdstanpy:input tempfile: /tmp/tmp0ow7qcla/4fowkci5.json\n",
            "DEBUG:cmdstanpy:input tempfile: /tmp/tmp0ow7qcla/jvtllep2.json\n",
            "DEBUG:cmdstanpy:idx 0\n",
            "DEBUG:cmdstanpy:running CmdStan, num_threads: None\n",
            "DEBUG:cmdstanpy:CmdStan args: ['/usr/local/lib/python3.7/dist-packages/prophet/stan_model/prophet_model.bin', 'random', 'seed=46736', 'data', 'file=/tmp/tmp0ow7qcla/4fowkci5.json', 'init=/tmp/tmp0ow7qcla/jvtllep2.json', 'output', 'file=/tmp/tmpga1o10ho/prophet_model-20220820142804.csv', 'method=optimize', 'algorithm=lbfgs', 'iter=10000']\n",
            "14:28:04 - cmdstanpy - INFO - Chain [1] start processing\n",
            "INFO:cmdstanpy:Chain [1] start processing\n"
          ]
        },
        {
          "output_type": "stream",
          "name": "stdout",
          "text": [
            "📈 17 - FBProphet with avg smape 4.15: \n",
            "Model Number: 18 of 168 with model FBProphet for Validation 1\n"
          ]
        },
        {
          "output_type": "stream",
          "name": "stderr",
          "text": [
            "14:28:04 - cmdstanpy - INFO - Chain [1] done processing\n",
            "INFO:cmdstanpy:Chain [1] done processing\n"
          ]
        },
        {
          "output_type": "stream",
          "name": "stdout",
          "text": [
            "18 - FBProphet with avg smape 13.84: \n",
            "Model Number: 19 of 168 with model MultivariateRegression for Validation 1\n",
            "19 - MultivariateRegression with avg smape 10.79: \n",
            "Model Number: 20 of 168 with model MultivariateRegression for Validation 1\n"
          ]
        },
        {
          "output_type": "stream",
          "name": "stderr",
          "text": [
            "INFO:prophet:Disabling yearly seasonality. Run prophet with yearly_seasonality=True to override this.\n",
            "INFO:prophet:Disabling daily seasonality. Run prophet with daily_seasonality=True to override this.\n",
            "DEBUG:cmdstanpy:input tempfile: /tmp/tmp0ow7qcla/84bgot9t.json\n",
            "DEBUG:cmdstanpy:input tempfile: /tmp/tmp0ow7qcla/bfqu0s2u.json\n",
            "DEBUG:cmdstanpy:idx 0\n",
            "DEBUG:cmdstanpy:running CmdStan, num_threads: None\n",
            "DEBUG:cmdstanpy:CmdStan args: ['/usr/local/lib/python3.7/dist-packages/prophet/stan_model/prophet_model.bin', 'random', 'seed=75671', 'data', 'file=/tmp/tmp0ow7qcla/84bgot9t.json', 'init=/tmp/tmp0ow7qcla/bfqu0s2u.json', 'output', 'file=/tmp/tmph3afp4m5/prophet_model-20220820142807.csv', 'method=optimize', 'algorithm=lbfgs', 'iter=10000']\n",
            "14:28:07 - cmdstanpy - INFO - Chain [1] start processing\n",
            "INFO:cmdstanpy:Chain [1] start processing\n"
          ]
        },
        {
          "output_type": "stream",
          "name": "stdout",
          "text": [
            "20 - MultivariateRegression with avg smape 10.79: \n",
            "Model Number: 21 of 168 with model FBProphet for Validation 1\n"
          ]
        },
        {
          "output_type": "stream",
          "name": "stderr",
          "text": [
            "14:28:07 - cmdstanpy - INFO - Chain [1] done processing\n",
            "INFO:cmdstanpy:Chain [1] done processing\n"
          ]
        },
        {
          "output_type": "stream",
          "name": "stdout",
          "text": [
            "21 - FBProphet with avg smape 14.99: \n",
            "Model Number: 22 of 168 with model SectionalMotif for Validation 1\n",
            "22 - SectionalMotif with avg smape 8.78: \n",
            "Model Number: 23 of 168 with model Theta for Validation 1\n",
            "23 - Theta with avg smape 10.25: \n",
            "Model Number: 24 of 168 with model Theta for Validation 1\n",
            "24 - Theta with avg smape 10.25: \n",
            "Model Number: 25 of 168 with model Theta for Validation 1\n",
            "25 - Theta with avg smape 10.25: \n",
            "Model Number: 26 of 168 with model Theta for Validation 1\n",
            "26 - Theta with avg smape 10.24: \n",
            "Model Number: 27 of 168 with model Theta for Validation 1\n",
            "27 - Theta with avg smape 10.25: \n",
            "Model Number: 28 of 168 with model Theta for Validation 1\n",
            "28 - Theta with avg smape 10.25: \n",
            "Model Number: 29 of 168 with model Theta for Validation 1\n",
            "29 - Theta with avg smape 10.24: \n",
            "Model Number: 30 of 168 with model Theta for Validation 1\n",
            "30 - Theta with avg smape 10.37: \n",
            "Model Number: 31 of 168 with model Theta for Validation 1\n",
            "31 - Theta with avg smape 10.38: \n",
            "Model Number: 32 of 168 with model LastValueNaive for Validation 1\n",
            "32 - LastValueNaive with avg smape 10.32: \n",
            "Model Number: 33 of 168 with model LastValueNaive for Validation 1\n",
            "33 - LastValueNaive with avg smape 10.32: \n",
            "Model Number: 34 of 168 with model LastValueNaive for Validation 1\n",
            "34 - LastValueNaive with avg smape 10.32: \n",
            "Model Number: 35 of 168 with model LastValueNaive for Validation 1\n",
            "35 - LastValueNaive with avg smape 10.32: \n",
            "Model Number: 36 of 168 with model LastValueNaive for Validation 1\n",
            "36 - LastValueNaive with avg smape 10.32: \n",
            "Model Number: 37 of 168 with model LastValueNaive for Validation 1\n",
            "37 - LastValueNaive with avg smape 10.32: \n",
            "Model Number: 38 of 168 with model LastValueNaive for Validation 1\n",
            "38 - LastValueNaive with avg smape 10.32: \n",
            "Model Number: 39 of 168 with model LastValueNaive for Validation 1\n",
            "39 - LastValueNaive with avg smape 10.32: \n",
            "Model Number: 40 of 168 with model LastValueNaive for Validation 1\n",
            "40 - LastValueNaive with avg smape 10.32: \n",
            "Model Number: 41 of 168 with model UnivariateMotif for Validation 1\n",
            "📈 41 - UnivariateMotif with avg smape 1.27: \n",
            "Model Number: 42 of 168 with model UnivariateMotif for Validation 1\n",
            "42 - UnivariateMotif with avg smape 1.27: \n",
            "Model Number: 43 of 168 with model UnivariateMotif for Validation 1\n",
            "43 - UnivariateMotif with avg smape 2.0: \n",
            "Model Number: 44 of 168 with model SectionalMotif for Validation 1\n",
            "44 - SectionalMotif with avg smape 5.03: \n",
            "Model Number: 45 of 168 with model SectionalMotif for Validation 1\n",
            "45 - SectionalMotif with avg smape 5.03: \n",
            "Model Number: 46 of 168 with model SectionalMotif for Validation 1\n",
            "46 - SectionalMotif with avg smape 5.02: \n",
            "Model Number: 47 of 168 with model SectionalMotif for Validation 1\n",
            "47 - SectionalMotif with avg smape 5.02: \n",
            "Model Number: 48 of 168 with model UnivariateMotif for Validation 1\n",
            "48 - UnivariateMotif with avg smape 2.0: \n",
            "Model Number: 49 of 168 with model UnivariateMotif for Validation 1\n",
            "49 - UnivariateMotif with avg smape 2.0: \n",
            "Model Number: 50 of 168 with model UnivariateMotif for Validation 1\n",
            "50 - UnivariateMotif with avg smape 2.0: \n",
            "Model Number: 51 of 168 with model SectionalMotif for Validation 1\n",
            "51 - SectionalMotif with avg smape 5.0: \n",
            "Model Number: 52 of 168 with model MultivariateRegression for Validation 1\n",
            "52 - MultivariateRegression with avg smape 9.1: \n",
            "Model Number: 53 of 168 with model WindowRegression for Validation 1\n",
            "53 - WindowRegression with avg smape 10.21: \n",
            "Model Number: 54 of 168 with model UnobservedComponents for Validation 1\n"
          ]
        },
        {
          "output_type": "stream",
          "name": "stderr",
          "text": [
            "/usr/local/lib/python3.7/dist-packages/sklearn/neural_network/_multilayer_perceptron.py:549: ConvergenceWarning: lbfgs failed to converge (status=1):\n",
            "STOP: TOTAL NO. of ITERATIONS REACHED LIMIT.\n",
            "\n",
            "Increase the number of iterations (max_iter) or scale the data as shown in:\n",
            "    https://scikit-learn.org/stable/modules/preprocessing.html\n",
            "  self.n_iter_ = _check_optimize_result(\"lbfgs\", opt_res, self.max_iter)\n"
          ]
        },
        {
          "output_type": "stream",
          "name": "stdout",
          "text": [
            "54 - UnobservedComponents with avg smape 10.32: \n",
            "Model Number: 55 of 168 with model UnobservedComponents for Validation 1\n",
            "55 - UnobservedComponents with avg smape 9.71: \n",
            "Model Number: 56 of 168 with model UnivariateMotif for Validation 1\n",
            "56 - UnivariateMotif with avg smape 2.18: \n",
            "Model Number: 57 of 168 with model UnivariateMotif for Validation 1\n",
            "57 - UnivariateMotif with avg smape 2.18: \n",
            "Model Number: 58 of 168 with model UnobservedComponents for Validation 1\n",
            "58 - UnobservedComponents with avg smape 10.37: \n",
            "Model Number: 59 of 168 with model UnivariateMotif for Validation 1\n",
            "59 - UnivariateMotif with avg smape 2.0: \n",
            "Model Number: 60 of 168 with model UnobservedComponents for Validation 1\n",
            "60 - UnobservedComponents with avg smape 10.78: \n",
            "Model Number: 61 of 168 with model UnobservedComponents for Validation 1\n"
          ]
        },
        {
          "output_type": "stream",
          "name": "stderr",
          "text": [
            "/usr/local/lib/python3.7/dist-packages/sklearn/_loss/glm_distribution.py:132: RuntimeWarning: divide by zero encountered in true_divide\n",
            "  return -2 * (y - y_pred) / self.unit_variance(y_pred)\n",
            "/usr/local/lib/python3.7/dist-packages/sklearn/linear_model/_glm/glm.py:42: RuntimeWarning: invalid value encountered in multiply\n",
            "  temp = d1 * family.deviance_derivative(y, y_pred, weights)\n",
            "/usr/local/lib/python3.7/dist-packages/sklearn/_loss/glm_distribution.py:326: RuntimeWarning: divide by zero encountered in log\n",
            "  dev = 2 * (np.log(y_pred / y) + y / y_pred - 1)\n",
            "/usr/local/lib/python3.7/dist-packages/sklearn/_loss/glm_distribution.py:326: RuntimeWarning: divide by zero encountered in true_divide\n",
            "  dev = 2 * (np.log(y_pred / y) + y / y_pred - 1)\n",
            "/usr/local/lib/python3.7/dist-packages/sklearn/_loss/glm_distribution.py:326: RuntimeWarning: invalid value encountered in add\n",
            "  dev = 2 * (np.log(y_pred / y) + y / y_pred - 1)\n",
            "/usr/local/lib/python3.7/dist-packages/sklearn/linear_model/_glm/glm.py:323: ConvergenceWarning: lbfgs failed to converge (status=2):\n",
            "ABNORMAL_TERMINATION_IN_LNSRCH.\n",
            "\n",
            "Increase the number of iterations (max_iter) or scale the data as shown in:\n",
            "    https://scikit-learn.org/stable/modules/preprocessing.html\n",
            "  self.n_iter_ = _check_optimize_result(\"lbfgs\", opt_res)\n",
            "/usr/local/lib/python3.7/dist-packages/sklearn/_loss/glm_distribution.py:132: RuntimeWarning: divide by zero encountered in true_divide\n",
            "  return -2 * (y - y_pred) / self.unit_variance(y_pred)\n",
            "/usr/local/lib/python3.7/dist-packages/sklearn/linear_model/_glm/glm.py:42: RuntimeWarning: invalid value encountered in multiply\n",
            "  temp = d1 * family.deviance_derivative(y, y_pred, weights)\n",
            "/usr/local/lib/python3.7/dist-packages/sklearn/_loss/glm_distribution.py:326: RuntimeWarning: divide by zero encountered in log\n",
            "  dev = 2 * (np.log(y_pred / y) + y / y_pred - 1)\n",
            "/usr/local/lib/python3.7/dist-packages/sklearn/_loss/glm_distribution.py:326: RuntimeWarning: divide by zero encountered in true_divide\n",
            "  dev = 2 * (np.log(y_pred / y) + y / y_pred - 1)\n"
          ]
        },
        {
          "output_type": "stream",
          "name": "stdout",
          "text": [
            "61 - UnobservedComponents with avg smape 10.78: \n",
            "Model Number: 62 of 168 with model MultivariateMotif for Validation 1\n"
          ]
        },
        {
          "output_type": "stream",
          "name": "stderr",
          "text": [
            "/usr/local/lib/python3.7/dist-packages/sklearn/_loss/glm_distribution.py:326: RuntimeWarning: invalid value encountered in add\n",
            "  dev = 2 * (np.log(y_pred / y) + y / y_pred - 1)\n",
            "/usr/local/lib/python3.7/dist-packages/sklearn/linear_model/_glm/glm.py:323: ConvergenceWarning: lbfgs failed to converge (status=2):\n",
            "ABNORMAL_TERMINATION_IN_LNSRCH.\n",
            "\n",
            "Increase the number of iterations (max_iter) or scale the data as shown in:\n",
            "    https://scikit-learn.org/stable/modules/preprocessing.html\n",
            "  self.n_iter_ = _check_optimize_result(\"lbfgs\", opt_res)\n"
          ]
        },
        {
          "output_type": "stream",
          "name": "stdout",
          "text": [
            "62 - MultivariateMotif with avg smape 13.89: \n",
            "Model Number: 63 of 168 with model MultivariateMotif for Validation 1\n",
            "63 - MultivariateMotif with avg smape 13.89: \n",
            "Model Number: 64 of 168 with model NVAR for Validation 1\n",
            "64 - NVAR with avg smape 9.44: \n",
            "Model Number: 65 of 168 with model MultivariateMotif for Validation 1\n",
            "65 - MultivariateMotif with avg smape 13.83: \n",
            "Model Number: 66 of 168 with model MultivariateMotif for Validation 1\n",
            "66 - MultivariateMotif with avg smape 13.83: \n",
            "Model Number: 67 of 168 with model ETS for Validation 1\n",
            "67 - ETS with avg smape 4.17: \n",
            "Model Number: 68 of 168 with model ETS for Validation 1\n",
            "68 - ETS with avg smape 4.17: \n",
            "Model Number: 69 of 168 with model ETS for Validation 1\n",
            "69 - ETS with avg smape 4.17: \n",
            "Model Number: 70 of 168 with model NVAR for Validation 1\n",
            "70 - NVAR with avg smape 8.11: \n",
            "Model Number: 71 of 168 with model NVAR for Validation 1\n",
            "71 - NVAR with avg smape 8.1: \n",
            "Model Number: 72 of 168 with model WindowRegression for Validation 1\n",
            "72 - WindowRegression with avg smape 2.65: \n",
            "Model Number: 73 of 168 with model ETS for Validation 1\n"
          ]
        },
        {
          "output_type": "stream",
          "name": "stderr",
          "text": [
            "/usr/local/lib/python3.7/dist-packages/sklearn/neural_network/_multilayer_perceptron.py:549: ConvergenceWarning: lbfgs failed to converge (status=1):\n",
            "STOP: TOTAL NO. of ITERATIONS REACHED LIMIT.\n",
            "\n",
            "Increase the number of iterations (max_iter) or scale the data as shown in:\n",
            "    https://scikit-learn.org/stable/modules/preprocessing.html\n",
            "  self.n_iter_ = _check_optimize_result(\"lbfgs\", opt_res, self.max_iter)\n",
            "/usr/local/lib/python3.7/dist-packages/sklearn/_loss/glm_distribution.py:132: RuntimeWarning: divide by zero encountered in true_divide\n",
            "  return -2 * (y - y_pred) / self.unit_variance(y_pred)\n",
            "/usr/local/lib/python3.7/dist-packages/sklearn/linear_model/_glm/glm.py:42: RuntimeWarning: invalid value encountered in multiply\n",
            "  temp = d1 * family.deviance_derivative(y, y_pred, weights)\n",
            "/usr/local/lib/python3.7/dist-packages/sklearn/_loss/glm_distribution.py:326: RuntimeWarning: divide by zero encountered in log\n",
            "  dev = 2 * (np.log(y_pred / y) + y / y_pred - 1)\n",
            "/usr/local/lib/python3.7/dist-packages/sklearn/_loss/glm_distribution.py:326: RuntimeWarning: divide by zero encountered in true_divide\n",
            "  dev = 2 * (np.log(y_pred / y) + y / y_pred - 1)\n",
            "/usr/local/lib/python3.7/dist-packages/sklearn/_loss/glm_distribution.py:326: RuntimeWarning: invalid value encountered in add\n",
            "  dev = 2 * (np.log(y_pred / y) + y / y_pred - 1)\n",
            "/usr/local/lib/python3.7/dist-packages/sklearn/linear_model/_glm/glm.py:323: ConvergenceWarning: lbfgs failed to converge (status=2):\n",
            "ABNORMAL_TERMINATION_IN_LNSRCH.\n",
            "\n",
            "Increase the number of iterations (max_iter) or scale the data as shown in:\n",
            "    https://scikit-learn.org/stable/modules/preprocessing.html\n",
            "  self.n_iter_ = _check_optimize_result(\"lbfgs\", opt_res)\n"
          ]
        },
        {
          "output_type": "stream",
          "name": "stdout",
          "text": [
            "73 - ETS with avg smape 7.69: \n",
            "Model Number: 74 of 168 with model UnobservedComponents for Validation 1\n",
            "74 - UnobservedComponents with avg smape 9.98: \n",
            "Model Number: 75 of 168 with model ETS for Validation 1\n",
            "75 - ETS with avg smape 3.8: \n",
            "Model Number: 76 of 168 with model AverageValueNaive for Validation 1\n",
            "76 - AverageValueNaive with avg smape 11.97: \n",
            "Model Number: 77 of 168 with model AverageValueNaive for Validation 1\n",
            "77 - AverageValueNaive with avg smape 11.97: \n",
            "Model Number: 78 of 168 with model AverageValueNaive for Validation 1\n",
            "78 - AverageValueNaive with avg smape 11.97: \n",
            "Model Number: 79 of 168 with model ETS for Validation 1\n",
            "79 - ETS with avg smape 4.93: \n",
            "Model Number: 80 of 168 with model ETS for Validation 1\n",
            "80 - ETS with avg smape 4.93: \n",
            "Model Number: 81 of 168 with model SectionalMotif for Validation 1\n",
            "81 - SectionalMotif with avg smape 4.38: \n",
            "Model Number: 82 of 168 with model NVAR for Validation 1\n",
            "82 - NVAR with avg smape 9.87: \n",
            "Model Number: 83 of 168 with model NVAR for Validation 1\n",
            "83 - NVAR with avg smape 6.64: \n",
            "Model Number: 84 of 168 with model MultivariateMotif for Validation 1\n",
            "84 - MultivariateMotif with avg smape 12.48: \n",
            "Model Number: 85 of 168 with model UnobservedComponents for Validation 1\n",
            "85 - UnobservedComponents with avg smape 10.48: \n",
            "Model Number: 86 of 168 with model ETS for Validation 1\n",
            "86 - ETS with avg smape 4.88: \n",
            "Model Number: 87 of 168 with model NVAR for Validation 1\n",
            "87 - NVAR with avg smape 9.61: \n",
            "Model Number: 88 of 168 with model UnobservedComponents for Validation 1\n",
            "88 - UnobservedComponents with avg smape 10.58: \n",
            "Model Number: 89 of 168 with model NVAR for Validation 1\n"
          ]
        },
        {
          "output_type": "stream",
          "name": "stderr",
          "text": [
            "/usr/local/lib/python3.7/dist-packages/sklearn/_loss/glm_distribution.py:132: RuntimeWarning: divide by zero encountered in true_divide\n",
            "  return -2 * (y - y_pred) / self.unit_variance(y_pred)\n",
            "/usr/local/lib/python3.7/dist-packages/sklearn/linear_model/_glm/glm.py:42: RuntimeWarning: invalid value encountered in multiply\n",
            "  temp = d1 * family.deviance_derivative(y, y_pred, weights)\n",
            "/usr/local/lib/python3.7/dist-packages/sklearn/_loss/glm_distribution.py:326: RuntimeWarning: divide by zero encountered in log\n",
            "  dev = 2 * (np.log(y_pred / y) + y / y_pred - 1)\n",
            "/usr/local/lib/python3.7/dist-packages/sklearn/_loss/glm_distribution.py:326: RuntimeWarning: divide by zero encountered in true_divide\n",
            "  dev = 2 * (np.log(y_pred / y) + y / y_pred - 1)\n",
            "/usr/local/lib/python3.7/dist-packages/sklearn/_loss/glm_distribution.py:326: RuntimeWarning: invalid value encountered in add\n",
            "  dev = 2 * (np.log(y_pred / y) + y / y_pred - 1)\n",
            "/usr/local/lib/python3.7/dist-packages/sklearn/linear_model/_glm/glm.py:323: ConvergenceWarning: lbfgs failed to converge (status=2):\n",
            "ABNORMAL_TERMINATION_IN_LNSRCH.\n",
            "\n",
            "Increase the number of iterations (max_iter) or scale the data as shown in:\n",
            "    https://scikit-learn.org/stable/modules/preprocessing.html\n",
            "  self.n_iter_ = _check_optimize_result(\"lbfgs\", opt_res)\n"
          ]
        },
        {
          "output_type": "stream",
          "name": "stdout",
          "text": [
            "89 - NVAR with avg smape 6.76: \n",
            "Model Number: 90 of 168 with model NVAR for Validation 1\n",
            "90 - NVAR with avg smape 6.76: \n",
            "Model Number: 91 of 168 with model NVAR for Validation 1\n",
            "91 - NVAR with avg smape 6.76: \n",
            "Model Number: 92 of 168 with model SectionalMotif for Validation 1\n",
            "92 - SectionalMotif with avg smape 4.58: \n",
            "Model Number: 93 of 168 with model ETS for Validation 1\n",
            "93 - ETS with avg smape 7.69: \n",
            "Model Number: 94 of 168 with model UnobservedComponents for Validation 1\n",
            "94 - UnobservedComponents with avg smape 10.32: \n",
            "Model Number: 95 of 168 with model MultivariateRegression for Validation 1\n",
            "95 - MultivariateRegression with avg smape 10.46: \n",
            "Model Number: 96 of 168 with model SectionalMotif for Validation 1\n",
            "96 - SectionalMotif with avg smape 4.19: \n",
            "Model Number: 97 of 168 with model AverageValueNaive for Validation 1\n",
            "97 - AverageValueNaive with avg smape 10.31: \n",
            "Model Number: 98 of 168 with model SeasonalNaive for Validation 1\n",
            "98 - SeasonalNaive with avg smape 10.44: \n",
            "Model Number: 99 of 168 with model AverageValueNaive for Validation 1\n",
            "99 - AverageValueNaive with avg smape 10.3: \n",
            "Model Number: 100 of 168 with model AverageValueNaive for Validation 1\n",
            "100 - AverageValueNaive with avg smape 10.3: \n",
            "Model Number: 101 of 168 with model AverageValueNaive for Validation 1\n",
            "101 - AverageValueNaive with avg smape 10.3: \n",
            "Model Number: 102 of 168 with model AverageValueNaive for Validation 1\n",
            "102 - AverageValueNaive with avg smape 10.3: \n",
            "Model Number: 103 of 168 with model MultivariateRegression for Validation 1\n",
            "103 - MultivariateRegression with avg smape 10.82: \n",
            "Model Number: 104 of 168 with model AverageValueNaive for Validation 1\n",
            "104 - AverageValueNaive with avg smape 2.69: \n",
            "Model Number: 105 of 168 with model MultivariateRegression for Validation 1\n",
            "105 - MultivariateRegression with avg smape 8.24: \n",
            "Model Number: 106 of 168 with model SeasonalNaive for Validation 1\n",
            "106 - SeasonalNaive with avg smape 5.23: \n",
            "Model Number: 107 of 168 with model MultivariateRegression for Validation 1\n",
            "107 - MultivariateRegression with avg smape 10.68: \n",
            "Model Number: 108 of 168 with model SeasonalNaive for Validation 1\n",
            "108 - SeasonalNaive with avg smape 11.06: \n",
            "Model Number: 109 of 168 with model DatepartRegression for Validation 1\n",
            "Epoch 1/50\n",
            "6/6 [==============================] - 7s 15ms/step - loss: 0.4106\n",
            "Epoch 2/50\n",
            "6/6 [==============================] - 0s 16ms/step - loss: 0.2280\n",
            "Epoch 3/50\n",
            "6/6 [==============================] - 0s 19ms/step - loss: 0.2085\n",
            "Epoch 4/50\n",
            "6/6 [==============================] - 0s 18ms/step - loss: 0.2067\n",
            "Epoch 5/50\n",
            "6/6 [==============================] - 0s 16ms/step - loss: 0.1973\n",
            "Epoch 6/50\n",
            "6/6 [==============================] - 0s 18ms/step - loss: 0.1969\n",
            "Epoch 7/50\n",
            "6/6 [==============================] - 0s 16ms/step - loss: 0.1918\n",
            "Epoch 8/50\n",
            "6/6 [==============================] - 0s 16ms/step - loss: 0.1875\n",
            "Epoch 9/50\n",
            "6/6 [==============================] - 0s 17ms/step - loss: 0.1878\n",
            "Epoch 10/50\n",
            "6/6 [==============================] - 0s 17ms/step - loss: 0.1877\n",
            "Epoch 11/50\n",
            "6/6 [==============================] - 0s 17ms/step - loss: 0.1863\n",
            "Epoch 12/50\n",
            "6/6 [==============================] - 0s 21ms/step - loss: 0.1846\n",
            "Epoch 13/50\n",
            "6/6 [==============================] - 0s 19ms/step - loss: 0.1875\n",
            "Epoch 14/50\n",
            "6/6 [==============================] - 0s 17ms/step - loss: 0.1846\n",
            "Epoch 15/50\n",
            "6/6 [==============================] - 0s 16ms/step - loss: 0.1819\n",
            "Epoch 16/50\n",
            "6/6 [==============================] - 0s 18ms/step - loss: 0.1824\n",
            "Epoch 17/50\n",
            "6/6 [==============================] - 0s 16ms/step - loss: 0.1839\n",
            "Epoch 18/50\n",
            "6/6 [==============================] - 0s 18ms/step - loss: 0.1838\n",
            "Epoch 19/50\n",
            "6/6 [==============================] - 0s 18ms/step - loss: 0.1807\n",
            "Epoch 20/50\n",
            "6/6 [==============================] - 0s 18ms/step - loss: 0.1868\n",
            "Epoch 21/50\n",
            "6/6 [==============================] - 0s 18ms/step - loss: 0.1830\n",
            "Epoch 22/50\n",
            "6/6 [==============================] - 0s 18ms/step - loss: 0.1806\n",
            "Epoch 23/50\n",
            "6/6 [==============================] - 0s 18ms/step - loss: 0.1821\n",
            "Epoch 24/50\n",
            "6/6 [==============================] - 0s 19ms/step - loss: 0.1819\n",
            "Epoch 25/50\n",
            "6/6 [==============================] - 0s 18ms/step - loss: 0.1806\n",
            "Epoch 26/50\n",
            "6/6 [==============================] - 0s 17ms/step - loss: 0.1836\n",
            "Epoch 27/50\n",
            "6/6 [==============================] - 0s 18ms/step - loss: 0.1858\n",
            "Epoch 28/50\n",
            "6/6 [==============================] - 0s 18ms/step - loss: 0.1787\n",
            "Epoch 29/50\n",
            "6/6 [==============================] - 0s 19ms/step - loss: 0.1830\n",
            "Epoch 30/50\n",
            "6/6 [==============================] - 0s 17ms/step - loss: 0.1860\n",
            "Epoch 31/50\n",
            "6/6 [==============================] - 0s 16ms/step - loss: 0.1837\n",
            "Epoch 32/50\n",
            "6/6 [==============================] - 0s 17ms/step - loss: 0.1797\n",
            "Epoch 33/50\n",
            "6/6 [==============================] - 0s 19ms/step - loss: 0.1854\n",
            "Epoch 34/50\n",
            "6/6 [==============================] - 0s 17ms/step - loss: 0.1815\n",
            "Epoch 35/50\n",
            "6/6 [==============================] - 0s 18ms/step - loss: 0.1817\n",
            "Epoch 36/50\n",
            "6/6 [==============================] - 0s 18ms/step - loss: 0.1824\n",
            "Epoch 37/50\n",
            "6/6 [==============================] - 0s 20ms/step - loss: 0.1800\n",
            "Epoch 38/50\n",
            "6/6 [==============================] - 0s 18ms/step - loss: 0.1807\n",
            "Epoch 39/50\n",
            "6/6 [==============================] - 0s 17ms/step - loss: 0.1805\n",
            "Epoch 40/50\n",
            "6/6 [==============================] - 0s 17ms/step - loss: 0.1800\n",
            "Epoch 41/50\n",
            "6/6 [==============================] - 0s 17ms/step - loss: 0.1797\n",
            "Epoch 42/50\n",
            "6/6 [==============================] - 0s 18ms/step - loss: 0.1800\n",
            "Epoch 43/50\n",
            "6/6 [==============================] - 0s 16ms/step - loss: 0.1808\n",
            "Epoch 44/50\n",
            "6/6 [==============================] - 0s 17ms/step - loss: 0.1788\n",
            "Epoch 45/50\n",
            "6/6 [==============================] - 0s 17ms/step - loss: 0.1817\n",
            "Epoch 46/50\n",
            "6/6 [==============================] - 0s 17ms/step - loss: 0.1780\n",
            "Epoch 47/50\n",
            "6/6 [==============================] - 0s 18ms/step - loss: 0.1793\n",
            "Epoch 48/50\n",
            "6/6 [==============================] - 0s 18ms/step - loss: 0.1784\n",
            "Epoch 49/50\n",
            "6/6 [==============================] - 0s 18ms/step - loss: 0.1808\n",
            "Epoch 50/50\n",
            "6/6 [==============================] - 0s 17ms/step - loss: 0.1770\n",
            "109 - DatepartRegression with avg smape 15.13: \n",
            "Model Number: 110 of 168 with model MultivariateMotif for Validation 1\n",
            "110 - MultivariateMotif with avg smape 3.22: \n",
            "Model Number: 111 of 168 with model WindowRegression for Validation 1\n"
          ]
        },
        {
          "output_type": "stream",
          "name": "stderr",
          "text": [
            "/usr/local/lib/python3.7/dist-packages/sklearn/neural_network/_multilayer_perceptron.py:549: ConvergenceWarning: lbfgs failed to converge (status=1):\n",
            "STOP: TOTAL NO. of ITERATIONS REACHED LIMIT.\n",
            "\n",
            "Increase the number of iterations (max_iter) or scale the data as shown in:\n",
            "    https://scikit-learn.org/stable/modules/preprocessing.html\n",
            "  self.n_iter_ = _check_optimize_result(\"lbfgs\", opt_res, self.max_iter)\n"
          ]
        },
        {
          "output_type": "stream",
          "name": "stdout",
          "text": [
            "111 - WindowRegression with avg smape 8.98: \n",
            "Model Number: 112 of 168 with model WindowRegression for Validation 1\n",
            "112 - WindowRegression with avg smape 8.98: \n",
            "Model Number: 113 of 168 with model MultivariateMotif for Validation 1\n",
            "113 - MultivariateMotif with avg smape 7.17: \n",
            "Model Number: 114 of 168 with model MultivariateMotif for Validation 1\n"
          ]
        },
        {
          "output_type": "stream",
          "name": "stderr",
          "text": [
            "/usr/local/lib/python3.7/dist-packages/sklearn/neural_network/_multilayer_perceptron.py:549: ConvergenceWarning: lbfgs failed to converge (status=1):\n",
            "STOP: TOTAL NO. of ITERATIONS REACHED LIMIT.\n",
            "\n",
            "Increase the number of iterations (max_iter) or scale the data as shown in:\n",
            "    https://scikit-learn.org/stable/modules/preprocessing.html\n",
            "  self.n_iter_ = _check_optimize_result(\"lbfgs\", opt_res, self.max_iter)\n"
          ]
        },
        {
          "output_type": "stream",
          "name": "stdout",
          "text": [
            "114 - MultivariateMotif with avg smape 4.09: \n",
            "Model Number: 115 of 168 with model DatepartRegression for Validation 1\n",
            "115 - DatepartRegression with avg smape 10.48: \n",
            "Model Number: 116 of 168 with model DatepartRegression for Validation 1\n",
            "116 - DatepartRegression with avg smape 10.48: \n",
            "Model Number: 117 of 168 with model DatepartRegression for Validation 1\n"
          ]
        },
        {
          "output_type": "stream",
          "name": "stderr",
          "text": [
            "/usr/local/lib/python3.7/dist-packages/sklearn/svm/_base.py:1208: ConvergenceWarning: Liblinear failed to converge, increase the number of iterations.\n",
            "  ConvergenceWarning,\n"
          ]
        },
        {
          "output_type": "stream",
          "name": "stdout",
          "text": [
            "117 - DatepartRegression with avg smape 10.48: \n",
            "Model Number: 118 of 168 with model DatepartRegression for Validation 1\n",
            "118 - DatepartRegression with avg smape 10.48: \n",
            "Model Number: 119 of 168 with model ConstantNaive for Validation 1\n",
            "119 - ConstantNaive with avg smape 8.69: \n",
            "Model Number: 120 of 168 with model WindowRegression for Validation 1\n",
            "120 - WindowRegression with avg smape 8.41: \n",
            "Model Number: 121 of 168 with model GLS for Validation 1\n"
          ]
        },
        {
          "output_type": "stream",
          "name": "stderr",
          "text": [
            "/usr/local/lib/python3.7/dist-packages/sklearn/neural_network/_multilayer_perceptron.py:549: ConvergenceWarning: lbfgs failed to converge (status=1):\n",
            "STOP: TOTAL NO. of ITERATIONS REACHED LIMIT.\n",
            "\n",
            "Increase the number of iterations (max_iter) or scale the data as shown in:\n",
            "    https://scikit-learn.org/stable/modules/preprocessing.html\n",
            "  self.n_iter_ = _check_optimize_result(\"lbfgs\", opt_res, self.max_iter)\n"
          ]
        },
        {
          "output_type": "stream",
          "name": "stdout",
          "text": [
            "121 - GLS with avg smape 10.66: \n",
            "Model Number: 122 of 168 with model GLS for Validation 1\n",
            "122 - GLS with avg smape 10.66: \n",
            "Model Number: 123 of 168 with model GLS for Validation 1\n",
            "123 - GLS with avg smape 2.68: \n",
            "Model Number: 124 of 168 with model MultivariateMotif for Validation 1\n",
            "124 - MultivariateMotif with avg smape 14.2: \n",
            "Model Number: 125 of 168 with model SeasonalNaive for Validation 1\n",
            "125 - SeasonalNaive with avg smape 14.05: \n",
            "Model Number: 126 of 168 with model GLS for Validation 1\n",
            "126 - GLS with avg smape 7.37: \n",
            "Model Number: 127 of 168 with model SeasonalNaive for Validation 1\n",
            "127 - SeasonalNaive with avg smape 4.41: \n",
            "Model Number: 128 of 168 with model SeasonalNaive for Validation 1\n",
            "128 - SeasonalNaive with avg smape 4.41: \n",
            "Model Number: 129 of 168 with model UnivariateRegression for Validation 1\n",
            "129 - UnivariateRegression with avg smape 6.9: \n",
            "Model Number: 130 of 168 with model SeasonalNaive for Validation 1\n",
            "130 - SeasonalNaive with avg smape 3.29: \n",
            "Model Number: 131 of 168 with model SeasonalNaive for Validation 1\n",
            "131 - SeasonalNaive with avg smape 7.37: \n",
            "Model Number: 132 of 168 with model SeasonalNaive for Validation 1\n",
            "132 - SeasonalNaive with avg smape 2.68: \n",
            "Model Number: 133 of 168 with model UnivariateRegression for Validation 1\n",
            "133 - UnivariateRegression with avg smape 10.19: \n",
            "Model Number: 134 of 168 with model UnivariateRegression for Validation 1\n",
            "134 - UnivariateRegression with avg smape 5.96: \n",
            "Model Number: 135 of 168 with model ConstantNaive for Validation 1\n",
            "135 - ConstantNaive with avg smape 10.48: \n",
            "Model Number: 136 of 168 with model UnivariateRegression for Validation 1\n",
            "136 - UnivariateRegression with avg smape 3.01: \n",
            "Model Number: 137 of 168 with model ConstantNaive for Validation 1\n",
            "137 - ConstantNaive with avg smape 11.8: \n",
            "Model Number: 138 of 168 with model GLS for Validation 1\n",
            "138 - GLS with avg smape 4.65: \n",
            "Model Number: 139 of 168 with model WindowRegression for Validation 1\n"
          ]
        },
        {
          "output_type": "stream",
          "name": "stderr",
          "text": [
            "/usr/local/lib/python3.7/dist-packages/sklearn/neural_network/_multilayer_perceptron.py:549: ConvergenceWarning: lbfgs failed to converge (status=1):\n",
            "STOP: TOTAL NO. of ITERATIONS REACHED LIMIT.\n",
            "\n",
            "Increase the number of iterations (max_iter) or scale the data as shown in:\n",
            "    https://scikit-learn.org/stable/modules/preprocessing.html\n",
            "  self.n_iter_ = _check_optimize_result(\"lbfgs\", opt_res, self.max_iter)\n"
          ]
        },
        {
          "output_type": "stream",
          "name": "stdout",
          "text": [
            "139 - WindowRegression with avg smape 7.17: \n",
            "Model Number: 140 of 168 with model WindowRegression for Validation 1\n",
            "140 - WindowRegression with avg smape 7.17: \n",
            "Model Number: 141 of 168 with model UnivariateRegression for Validation 1\n"
          ]
        },
        {
          "output_type": "stream",
          "name": "stderr",
          "text": [
            "/usr/local/lib/python3.7/dist-packages/sklearn/neural_network/_multilayer_perceptron.py:549: ConvergenceWarning: lbfgs failed to converge (status=1):\n",
            "STOP: TOTAL NO. of ITERATIONS REACHED LIMIT.\n",
            "\n",
            "Increase the number of iterations (max_iter) or scale the data as shown in:\n",
            "    https://scikit-learn.org/stable/modules/preprocessing.html\n",
            "  self.n_iter_ = _check_optimize_result(\"lbfgs\", opt_res, self.max_iter)\n"
          ]
        },
        {
          "output_type": "stream",
          "name": "stdout",
          "text": [
            "141 - UnivariateRegression with avg smape 12.32: \n",
            "Model Number: 142 of 168 with model ConstantNaive for Validation 1\n",
            "142 - ConstantNaive with avg smape 7.17: \n",
            "Model Number: 143 of 168 with model ConstantNaive for Validation 1\n",
            "143 - ConstantNaive with avg smape 4.41: \n",
            "Model Number: 144 of 168 with model ConstantNaive for Validation 1\n",
            "144 - ConstantNaive with avg smape 4.41: \n",
            "Model Number: 145 of 168 with model GLS for Validation 1\n",
            "145 - GLS with avg smape 20.13: \n",
            "Model Number: 146 of 168 with model ConstantNaive for Validation 1\n",
            "146 - ConstantNaive with avg smape 4.92: \n",
            "Model Number: 147 of 168 with model WindowRegression for Validation 1\n",
            "147 - WindowRegression with avg smape 7.82: \n",
            "Model Number: 148 of 168 with model GLS for Validation 1\n",
            "148 - GLS with avg smape 5.11: \n",
            "Model Number: 149 of 168 with model WindowRegression for Validation 1\n",
            "149 - WindowRegression with avg smape 2.79: \n",
            "Model Number: 150 of 168 with model GLS for Validation 1\n",
            "150 - GLS with avg smape 4.24: \n",
            "Model Number: 151 of 168 with model UnivariateRegression for Validation 1\n",
            "151 - UnivariateRegression with avg smape 4.41: \n",
            "Model Number: 152 of 168 with model GLS for Validation 1\n",
            "152 - GLS with avg smape 1.7: \n",
            "Model Number: 153 of 168 with model ConstantNaive for Validation 1\n",
            "153 - ConstantNaive with avg smape 2.02: \n",
            "Model Number: 154 of 168 with model ConstantNaive for Validation 1\n",
            "154 - ConstantNaive with avg smape 2.02: \n",
            "Model Number: 155 of 168 with model DatepartRegression for Validation 1\n",
            "155 - DatepartRegression with avg smape 8.85: \n",
            "Model Number: 156 of 168 with model UnivariateRegression for Validation 1\n",
            "156 - UnivariateRegression with avg smape 4.3: \n",
            "Model Number: 157 of 168 with model UnivariateRegression for Validation 1\n",
            "157 - UnivariateRegression with avg smape 4.2: \n",
            "Model Number: 158 of 168 with model DatepartRegression for Validation 1\n",
            "158 - DatepartRegression with avg smape 5.3: \n",
            "Model Number: 159 of 168 with model UnivariateRegression for Validation 1\n",
            "159 - UnivariateRegression with avg smape 7.17: \n",
            "Model Number: 160 of 168 with model DatepartRegression for Validation 1\n"
          ]
        },
        {
          "output_type": "stream",
          "name": "stderr",
          "text": [
            "[Parallel(n_jobs=-2)]: Using backend SequentialBackend with 1 concurrent workers.\n",
            "[Parallel(n_jobs=-2)]: Done 100 out of 100 | elapsed:    0.1s finished\n",
            "[Parallel(n_jobs=1)]: Using backend SequentialBackend with 1 concurrent workers.\n",
            "[Parallel(n_jobs=1)]: Done 100 out of 100 | elapsed:    0.0s finished\n"
          ]
        },
        {
          "output_type": "stream",
          "name": "stdout",
          "text": [
            "160 - DatepartRegression with avg smape 3.98: \n",
            "Model Number: 161 of 168 with model DatepartRegression for Validation 1\n",
            "161 - DatepartRegression with avg smape 7.22: \n",
            "Model Number: 162 of 168 with model GLM for Validation 1\n",
            "162 - GLM with avg smape 44.96: \n",
            "Model Number: 163 of 168 with model GLM for Validation 1\n",
            "163 - GLM with avg smape 43.51: \n",
            "Model Number: 164 of 168 with model GLM for Validation 1\n",
            "164 - GLM with avg smape 43.39: \n",
            "Model Number: 165 of 168 with model GLM for Validation 1\n",
            "165 - GLM with avg smape 42.89: \n",
            "Model Number: 166 of 168 with model GLM for Validation 1\n",
            "166 - GLM with avg smape 44.03: \n",
            "Model Number: 167 of 168 with model GLM for Validation 1\n",
            "167 - GLM with avg smape 44.03: \n",
            "Model Number: 168 of 168 with model GLM for Validation 1\n",
            "168 - GLM with avg smape 52.33: \n",
            "Validation Round: 2\n",
            "Model Number: 1 of 168 with model Ensemble for Validation 2\n"
          ]
        },
        {
          "output_type": "stream",
          "name": "stderr",
          "text": [
            "INFO:prophet:Disabling yearly seasonality. Run prophet with yearly_seasonality=True to override this.\n",
            "INFO:prophet:Disabling daily seasonality. Run prophet with daily_seasonality=True to override this.\n",
            "DEBUG:cmdstanpy:input tempfile: /tmp/tmp0ow7qcla/zel3plm_.json\n",
            "DEBUG:cmdstanpy:input tempfile: /tmp/tmp0ow7qcla/6b_wazjf.json\n",
            "DEBUG:cmdstanpy:idx 0\n",
            "DEBUG:cmdstanpy:running CmdStan, num_threads: None\n",
            "DEBUG:cmdstanpy:CmdStan args: ['/usr/local/lib/python3.7/dist-packages/prophet/stan_model/prophet_model.bin', 'random', 'seed=31937', 'data', 'file=/tmp/tmp0ow7qcla/zel3plm_.json', 'init=/tmp/tmp0ow7qcla/6b_wazjf.json', 'output', 'file=/tmp/tmpqksuna3_/prophet_model-20220820142850.csv', 'method=optimize', 'algorithm=lbfgs', 'iter=10000']\n",
            "14:28:50 - cmdstanpy - INFO - Chain [1] start processing\n",
            "INFO:cmdstanpy:Chain [1] start processing\n",
            "14:28:50 - cmdstanpy - INFO - Chain [1] done processing\n",
            "INFO:cmdstanpy:Chain [1] done processing\n"
          ]
        },
        {
          "output_type": "stream",
          "name": "stdout",
          "text": [
            "📈 1 - Ensemble with avg smape 13.56: \n",
            "Model Number: 2 of 168 with model Ensemble for Validation 2\n"
          ]
        },
        {
          "output_type": "stream",
          "name": "stderr",
          "text": [
            "INFO:prophet:Disabling yearly seasonality. Run prophet with yearly_seasonality=True to override this.\n",
            "INFO:prophet:Disabling daily seasonality. Run prophet with daily_seasonality=True to override this.\n",
            "DEBUG:cmdstanpy:input tempfile: /tmp/tmp0ow7qcla/toayqkpg.json\n",
            "DEBUG:cmdstanpy:input tempfile: /tmp/tmp0ow7qcla/s8th2pny.json\n",
            "DEBUG:cmdstanpy:idx 0\n",
            "DEBUG:cmdstanpy:running CmdStan, num_threads: None\n",
            "DEBUG:cmdstanpy:CmdStan args: ['/usr/local/lib/python3.7/dist-packages/prophet/stan_model/prophet_model.bin', 'random', 'seed=11802', 'data', 'file=/tmp/tmp0ow7qcla/toayqkpg.json', 'init=/tmp/tmp0ow7qcla/s8th2pny.json', 'output', 'file=/tmp/tmpcznp84mc/prophet_model-20220820142853.csv', 'method=optimize', 'algorithm=lbfgs', 'iter=10000']\n",
            "14:28:53 - cmdstanpy - INFO - Chain [1] start processing\n",
            "INFO:cmdstanpy:Chain [1] start processing\n",
            "14:28:53 - cmdstanpy - INFO - Chain [1] done processing\n",
            "INFO:cmdstanpy:Chain [1] done processing\n",
            "INFO:prophet:Disabling yearly seasonality. Run prophet with yearly_seasonality=True to override this.\n",
            "INFO:prophet:Disabling daily seasonality. Run prophet with daily_seasonality=True to override this.\n",
            "DEBUG:cmdstanpy:input tempfile: /tmp/tmp0ow7qcla/xfgbde0p.json\n",
            "DEBUG:cmdstanpy:input tempfile: /tmp/tmp0ow7qcla/rixs_fo2.json\n",
            "DEBUG:cmdstanpy:idx 0\n",
            "DEBUG:cmdstanpy:running CmdStan, num_threads: None\n",
            "DEBUG:cmdstanpy:CmdStan args: ['/usr/local/lib/python3.7/dist-packages/prophet/stan_model/prophet_model.bin', 'random', 'seed=63954', 'data', 'file=/tmp/tmp0ow7qcla/xfgbde0p.json', 'init=/tmp/tmp0ow7qcla/rixs_fo2.json', 'output', 'file=/tmp/tmpc5tg_9_z/prophet_model-20220820142855.csv', 'method=optimize', 'algorithm=lbfgs', 'iter=10000']\n",
            "14:28:55 - cmdstanpy - INFO - Chain [1] start processing\n",
            "INFO:cmdstanpy:Chain [1] start processing\n",
            "14:28:55 - cmdstanpy - INFO - Chain [1] done processing\n",
            "INFO:cmdstanpy:Chain [1] done processing\n",
            "INFO:prophet:Disabling yearly seasonality. Run prophet with yearly_seasonality=True to override this.\n",
            "INFO:prophet:Disabling daily seasonality. Run prophet with daily_seasonality=True to override this.\n",
            "DEBUG:cmdstanpy:input tempfile: /tmp/tmp0ow7qcla/5vuy5ieb.json\n",
            "DEBUG:cmdstanpy:input tempfile: /tmp/tmp0ow7qcla/ur50222k.json\n",
            "DEBUG:cmdstanpy:idx 0\n",
            "DEBUG:cmdstanpy:running CmdStan, num_threads: None\n",
            "DEBUG:cmdstanpy:CmdStan args: ['/usr/local/lib/python3.7/dist-packages/prophet/stan_model/prophet_model.bin', 'random', 'seed=42500', 'data', 'file=/tmp/tmp0ow7qcla/5vuy5ieb.json', 'init=/tmp/tmp0ow7qcla/ur50222k.json', 'output', 'file=/tmp/tmp4spqknkc/prophet_model-20220820142857.csv', 'method=optimize', 'algorithm=lbfgs', 'iter=10000']\n",
            "14:28:57 - cmdstanpy - INFO - Chain [1] start processing\n",
            "INFO:cmdstanpy:Chain [1] start processing\n",
            "14:28:57 - cmdstanpy - INFO - Chain [1] done processing\n",
            "INFO:cmdstanpy:Chain [1] done processing\n",
            "INFO:prophet:Disabling yearly seasonality. Run prophet with yearly_seasonality=True to override this.\n",
            "INFO:prophet:Disabling daily seasonality. Run prophet with daily_seasonality=True to override this.\n",
            "DEBUG:cmdstanpy:input tempfile: /tmp/tmp0ow7qcla/szj3my66.json\n",
            "DEBUG:cmdstanpy:input tempfile: /tmp/tmp0ow7qcla/oujm4wdl.json\n",
            "DEBUG:cmdstanpy:idx 0\n",
            "DEBUG:cmdstanpy:running CmdStan, num_threads: None\n",
            "DEBUG:cmdstanpy:CmdStan args: ['/usr/local/lib/python3.7/dist-packages/prophet/stan_model/prophet_model.bin', 'random', 'seed=40681', 'data', 'file=/tmp/tmp0ow7qcla/szj3my66.json', 'init=/tmp/tmp0ow7qcla/oujm4wdl.json', 'output', 'file=/tmp/tmpqvgo3qc_/prophet_model-20220820142859.csv', 'method=optimize', 'algorithm=lbfgs', 'iter=10000']\n",
            "14:28:59 - cmdstanpy - INFO - Chain [1] start processing\n",
            "INFO:cmdstanpy:Chain [1] start processing\n"
          ]
        },
        {
          "output_type": "stream",
          "name": "stdout",
          "text": [
            "2 - Ensemble with avg smape 17.34: \n",
            "Model Number: 3 of 168 with model Ensemble for Validation 2\n"
          ]
        },
        {
          "output_type": "stream",
          "name": "stderr",
          "text": [
            "14:28:59 - cmdstanpy - INFO - Chain [1] done processing\n",
            "INFO:cmdstanpy:Chain [1] done processing\n",
            "INFO:prophet:Disabling yearly seasonality. Run prophet with yearly_seasonality=True to override this.\n",
            "INFO:prophet:Disabling daily seasonality. Run prophet with daily_seasonality=True to override this.\n",
            "DEBUG:cmdstanpy:input tempfile: /tmp/tmp0ow7qcla/1l6mfpwh.json\n",
            "DEBUG:cmdstanpy:input tempfile: /tmp/tmp0ow7qcla/a6mwdaf5.json\n",
            "DEBUG:cmdstanpy:idx 0\n",
            "DEBUG:cmdstanpy:running CmdStan, num_threads: None\n",
            "DEBUG:cmdstanpy:CmdStan args: ['/usr/local/lib/python3.7/dist-packages/prophet/stan_model/prophet_model.bin', 'random', 'seed=60116', 'data', 'file=/tmp/tmp0ow7qcla/1l6mfpwh.json', 'init=/tmp/tmp0ow7qcla/a6mwdaf5.json', 'output', 'file=/tmp/tmpudbow8u1/prophet_model-20220820142902.csv', 'method=optimize', 'algorithm=lbfgs', 'iter=10000']\n",
            "14:29:02 - cmdstanpy - INFO - Chain [1] start processing\n",
            "INFO:cmdstanpy:Chain [1] start processing\n"
          ]
        },
        {
          "output_type": "stream",
          "name": "stdout",
          "text": [
            "3 - Ensemble with avg smape 13.64: \n",
            "Model Number: 4 of 168 with model FBProphet for Validation 2\n"
          ]
        },
        {
          "output_type": "stream",
          "name": "stderr",
          "text": [
            "14:29:02 - cmdstanpy - INFO - Chain [1] done processing\n",
            "INFO:cmdstanpy:Chain [1] done processing\n",
            "INFO:prophet:Disabling yearly seasonality. Run prophet with yearly_seasonality=True to override this.\n",
            "INFO:prophet:Disabling daily seasonality. Run prophet with daily_seasonality=True to override this.\n",
            "DEBUG:cmdstanpy:input tempfile: /tmp/tmp0ow7qcla/xcaokc5w.json\n",
            "DEBUG:cmdstanpy:input tempfile: /tmp/tmp0ow7qcla/inmx6isf.json\n",
            "DEBUG:cmdstanpy:idx 0\n",
            "DEBUG:cmdstanpy:running CmdStan, num_threads: None\n",
            "DEBUG:cmdstanpy:CmdStan args: ['/usr/local/lib/python3.7/dist-packages/prophet/stan_model/prophet_model.bin', 'random', 'seed=82895', 'data', 'file=/tmp/tmp0ow7qcla/xcaokc5w.json', 'init=/tmp/tmp0ow7qcla/inmx6isf.json', 'output', 'file=/tmp/tmpwtc1a4uw/prophet_model-20220820142903.csv', 'method=optimize', 'algorithm=lbfgs', 'iter=10000']\n",
            "14:29:03 - cmdstanpy - INFO - Chain [1] start processing\n",
            "INFO:cmdstanpy:Chain [1] start processing\n"
          ]
        },
        {
          "output_type": "stream",
          "name": "stdout",
          "text": [
            "4 - FBProphet with avg smape 18.23: \n",
            "Model Number: 5 of 168 with model FBProphet for Validation 2\n"
          ]
        },
        {
          "output_type": "stream",
          "name": "stderr",
          "text": [
            "14:29:04 - cmdstanpy - INFO - Chain [1] done processing\n",
            "INFO:cmdstanpy:Chain [1] done processing\n",
            "INFO:prophet:Disabling yearly seasonality. Run prophet with yearly_seasonality=True to override this.\n",
            "INFO:prophet:Disabling daily seasonality. Run prophet with daily_seasonality=True to override this.\n",
            "DEBUG:cmdstanpy:input tempfile: /tmp/tmp0ow7qcla/1q2wvdlv.json\n",
            "DEBUG:cmdstanpy:input tempfile: /tmp/tmp0ow7qcla/gort1kx8.json\n",
            "DEBUG:cmdstanpy:idx 0\n",
            "DEBUG:cmdstanpy:running CmdStan, num_threads: None\n",
            "DEBUG:cmdstanpy:CmdStan args: ['/usr/local/lib/python3.7/dist-packages/prophet/stan_model/prophet_model.bin', 'random', 'seed=70532', 'data', 'file=/tmp/tmp0ow7qcla/1q2wvdlv.json', 'init=/tmp/tmp0ow7qcla/gort1kx8.json', 'output', 'file=/tmp/tmpb2438377/prophet_model-20220820142906.csv', 'method=optimize', 'algorithm=lbfgs', 'iter=10000']\n",
            "14:29:06 - cmdstanpy - INFO - Chain [1] start processing\n",
            "INFO:cmdstanpy:Chain [1] start processing\n"
          ]
        },
        {
          "output_type": "stream",
          "name": "stdout",
          "text": [
            "📈 5 - FBProphet with avg smape 8.6: \n",
            "Model Number: 6 of 168 with model Ensemble for Validation 2\n"
          ]
        },
        {
          "output_type": "stream",
          "name": "stderr",
          "text": [
            "14:29:06 - cmdstanpy - INFO - Chain [1] done processing\n",
            "INFO:cmdstanpy:Chain [1] done processing\n",
            "INFO:prophet:Disabling yearly seasonality. Run prophet with yearly_seasonality=True to override this.\n",
            "INFO:prophet:Disabling daily seasonality. Run prophet with daily_seasonality=True to override this.\n",
            "DEBUG:cmdstanpy:input tempfile: /tmp/tmp0ow7qcla/aq2ivn90.json\n",
            "DEBUG:cmdstanpy:input tempfile: /tmp/tmp0ow7qcla/bi4elf90.json\n",
            "DEBUG:cmdstanpy:idx 0\n",
            "DEBUG:cmdstanpy:running CmdStan, num_threads: None\n",
            "DEBUG:cmdstanpy:CmdStan args: ['/usr/local/lib/python3.7/dist-packages/prophet/stan_model/prophet_model.bin', 'random', 'seed=61466', 'data', 'file=/tmp/tmp0ow7qcla/aq2ivn90.json', 'init=/tmp/tmp0ow7qcla/bi4elf90.json', 'output', 'file=/tmp/tmpiru_h03s/prophet_model-20220820142908.csv', 'method=optimize', 'algorithm=lbfgs', 'iter=10000']\n",
            "14:29:08 - cmdstanpy - INFO - Chain [1] start processing\n",
            "INFO:cmdstanpy:Chain [1] start processing\n"
          ]
        },
        {
          "output_type": "stream",
          "name": "stdout",
          "text": [
            "6 - Ensemble with avg smape 13.19: \n",
            "Model Number: 7 of 168 with model Ensemble for Validation 2\n"
          ]
        },
        {
          "output_type": "stream",
          "name": "stderr",
          "text": [
            "14:29:08 - cmdstanpy - INFO - Chain [1] done processing\n",
            "INFO:cmdstanpy:Chain [1] done processing\n",
            "INFO:prophet:Disabling yearly seasonality. Run prophet with yearly_seasonality=True to override this.\n",
            "INFO:prophet:Disabling daily seasonality. Run prophet with daily_seasonality=True to override this.\n",
            "DEBUG:cmdstanpy:input tempfile: /tmp/tmp0ow7qcla/w2y0mc8r.json\n",
            "DEBUG:cmdstanpy:input tempfile: /tmp/tmp0ow7qcla/mq2y36hp.json\n",
            "DEBUG:cmdstanpy:idx 0\n",
            "DEBUG:cmdstanpy:running CmdStan, num_threads: None\n",
            "DEBUG:cmdstanpy:CmdStan args: ['/usr/local/lib/python3.7/dist-packages/prophet/stan_model/prophet_model.bin', 'random', 'seed=19250', 'data', 'file=/tmp/tmp0ow7qcla/w2y0mc8r.json', 'init=/tmp/tmp0ow7qcla/mq2y36hp.json', 'output', 'file=/tmp/tmpe1z_ajgo/prophet_model-20220820142910.csv', 'method=optimize', 'algorithm=lbfgs', 'iter=10000']\n",
            "14:29:10 - cmdstanpy - INFO - Chain [1] start processing\n",
            "INFO:cmdstanpy:Chain [1] start processing\n"
          ]
        },
        {
          "output_type": "stream",
          "name": "stdout",
          "text": [
            "7 - Ensemble with avg smape 13.19: \n",
            "Model Number: 8 of 168 with model FBProphet for Validation 2\n"
          ]
        },
        {
          "output_type": "stream",
          "name": "stderr",
          "text": [
            "14:29:10 - cmdstanpy - INFO - Chain [1] done processing\n",
            "INFO:cmdstanpy:Chain [1] done processing\n",
            "INFO:prophet:Disabling yearly seasonality. Run prophet with yearly_seasonality=True to override this.\n",
            "INFO:prophet:Disabling daily seasonality. Run prophet with daily_seasonality=True to override this.\n",
            "DEBUG:cmdstanpy:input tempfile: /tmp/tmp0ow7qcla/inzqwimr.json\n",
            "DEBUG:cmdstanpy:input tempfile: /tmp/tmp0ow7qcla/z3u992pl.json\n",
            "DEBUG:cmdstanpy:idx 0\n",
            "DEBUG:cmdstanpy:running CmdStan, num_threads: None\n",
            "DEBUG:cmdstanpy:CmdStan args: ['/usr/local/lib/python3.7/dist-packages/prophet/stan_model/prophet_model.bin', 'random', 'seed=94088', 'data', 'file=/tmp/tmp0ow7qcla/inzqwimr.json', 'init=/tmp/tmp0ow7qcla/z3u992pl.json', 'output', 'file=/tmp/tmpff_urum6/prophet_model-20220820142912.csv', 'method=optimize', 'algorithm=lbfgs', 'iter=10000']\n",
            "14:29:12 - cmdstanpy - INFO - Chain [1] start processing\n",
            "INFO:cmdstanpy:Chain [1] start processing\n"
          ]
        },
        {
          "output_type": "stream",
          "name": "stdout",
          "text": [
            "8 - FBProphet with avg smape 18.26: \n",
            "Model Number: 9 of 168 with model Ensemble for Validation 2\n"
          ]
        },
        {
          "output_type": "stream",
          "name": "stderr",
          "text": [
            "14:29:12 - cmdstanpy - INFO - Chain [1] done processing\n",
            "INFO:cmdstanpy:Chain [1] done processing\n",
            "INFO:prophet:Disabling yearly seasonality. Run prophet with yearly_seasonality=True to override this.\n",
            "INFO:prophet:Disabling daily seasonality. Run prophet with daily_seasonality=True to override this.\n",
            "DEBUG:cmdstanpy:input tempfile: /tmp/tmp0ow7qcla/v_j_76kw.json\n",
            "DEBUG:cmdstanpy:input tempfile: /tmp/tmp0ow7qcla/o0o3gn5g.json\n",
            "DEBUG:cmdstanpy:idx 0\n",
            "DEBUG:cmdstanpy:running CmdStan, num_threads: None\n",
            "DEBUG:cmdstanpy:CmdStan args: ['/usr/local/lib/python3.7/dist-packages/prophet/stan_model/prophet_model.bin', 'random', 'seed=87618', 'data', 'file=/tmp/tmp0ow7qcla/v_j_76kw.json', 'init=/tmp/tmp0ow7qcla/o0o3gn5g.json', 'output', 'file=/tmp/tmpkp24ew2y/prophet_model-20220820142914.csv', 'method=optimize', 'algorithm=lbfgs', 'iter=10000']\n",
            "14:29:14 - cmdstanpy - INFO - Chain [1] start processing\n",
            "INFO:cmdstanpy:Chain [1] start processing\n"
          ]
        },
        {
          "output_type": "stream",
          "name": "stdout",
          "text": [
            "9 - Ensemble with avg smape 13.32: \n",
            "Model Number: 10 of 168 with model Ensemble for Validation 2\n"
          ]
        },
        {
          "output_type": "stream",
          "name": "stderr",
          "text": [
            "14:29:14 - cmdstanpy - INFO - Chain [1] done processing\n",
            "INFO:cmdstanpy:Chain [1] done processing\n",
            "INFO:prophet:Disabling yearly seasonality. Run prophet with yearly_seasonality=True to override this.\n",
            "INFO:prophet:Disabling daily seasonality. Run prophet with daily_seasonality=True to override this.\n",
            "DEBUG:cmdstanpy:input tempfile: /tmp/tmp0ow7qcla/lnx9u2py.json\n",
            "DEBUG:cmdstanpy:input tempfile: /tmp/tmp0ow7qcla/c04zud82.json\n",
            "DEBUG:cmdstanpy:idx 0\n",
            "DEBUG:cmdstanpy:running CmdStan, num_threads: None\n",
            "DEBUG:cmdstanpy:CmdStan args: ['/usr/local/lib/python3.7/dist-packages/prophet/stan_model/prophet_model.bin', 'random', 'seed=10164', 'data', 'file=/tmp/tmp0ow7qcla/lnx9u2py.json', 'init=/tmp/tmp0ow7qcla/c04zud82.json', 'output', 'file=/tmp/tmpp006eygj/prophet_model-20220820142916.csv', 'method=optimize', 'algorithm=lbfgs', 'iter=10000']\n",
            "14:29:16 - cmdstanpy - INFO - Chain [1] start processing\n",
            "INFO:cmdstanpy:Chain [1] start processing\n",
            "14:29:17 - cmdstanpy - INFO - Chain [1] done processing\n",
            "INFO:cmdstanpy:Chain [1] done processing\n",
            "INFO:prophet:Disabling yearly seasonality. Run prophet with yearly_seasonality=True to override this.\n",
            "INFO:prophet:Disabling daily seasonality. Run prophet with daily_seasonality=True to override this.\n",
            "DEBUG:cmdstanpy:input tempfile: /tmp/tmp0ow7qcla/o3tzwm6v.json\n",
            "DEBUG:cmdstanpy:input tempfile: /tmp/tmp0ow7qcla/8ylrypdj.json\n",
            "DEBUG:cmdstanpy:idx 0\n",
            "DEBUG:cmdstanpy:running CmdStan, num_threads: None\n",
            "DEBUG:cmdstanpy:CmdStan args: ['/usr/local/lib/python3.7/dist-packages/prophet/stan_model/prophet_model.bin', 'random', 'seed=40617', 'data', 'file=/tmp/tmp0ow7qcla/o3tzwm6v.json', 'init=/tmp/tmp0ow7qcla/8ylrypdj.json', 'output', 'file=/tmp/tmp9owh_nnn/prophet_model-20220820142918.csv', 'method=optimize', 'algorithm=lbfgs', 'iter=10000']\n",
            "14:29:18 - cmdstanpy - INFO - Chain [1] start processing\n",
            "INFO:cmdstanpy:Chain [1] start processing\n",
            "14:29:19 - cmdstanpy - INFO - Chain [1] done processing\n",
            "INFO:cmdstanpy:Chain [1] done processing\n",
            "INFO:prophet:Disabling yearly seasonality. Run prophet with yearly_seasonality=True to override this.\n",
            "INFO:prophet:Disabling daily seasonality. Run prophet with daily_seasonality=True to override this.\n",
            "DEBUG:cmdstanpy:input tempfile: /tmp/tmp0ow7qcla/3y3g6h6c.json\n",
            "DEBUG:cmdstanpy:input tempfile: /tmp/tmp0ow7qcla/0it1ljn9.json\n",
            "DEBUG:cmdstanpy:idx 0\n",
            "DEBUG:cmdstanpy:running CmdStan, num_threads: None\n",
            "DEBUG:cmdstanpy:CmdStan args: ['/usr/local/lib/python3.7/dist-packages/prophet/stan_model/prophet_model.bin', 'random', 'seed=60062', 'data', 'file=/tmp/tmp0ow7qcla/3y3g6h6c.json', 'init=/tmp/tmp0ow7qcla/0it1ljn9.json', 'output', 'file=/tmp/tmpm27w8r1v/prophet_model-20220820142920.csv', 'method=optimize', 'algorithm=lbfgs', 'iter=10000']\n",
            "14:29:20 - cmdstanpy - INFO - Chain [1] start processing\n",
            "INFO:cmdstanpy:Chain [1] start processing\n"
          ]
        },
        {
          "output_type": "stream",
          "name": "stdout",
          "text": [
            "10 - Ensemble with avg smape 15.14: \n",
            "Model Number: 11 of 168 with model FBProphet for Validation 2\n"
          ]
        },
        {
          "output_type": "stream",
          "name": "stderr",
          "text": [
            "14:29:21 - cmdstanpy - INFO - Chain [1] done processing\n",
            "INFO:cmdstanpy:Chain [1] done processing\n",
            "INFO:prophet:Disabling yearly seasonality. Run prophet with yearly_seasonality=True to override this.\n",
            "INFO:prophet:Disabling daily seasonality. Run prophet with daily_seasonality=True to override this.\n",
            "DEBUG:cmdstanpy:input tempfile: /tmp/tmp0ow7qcla/zstdonyw.json\n",
            "DEBUG:cmdstanpy:input tempfile: /tmp/tmp0ow7qcla/q51j24se.json\n",
            "DEBUG:cmdstanpy:idx 0\n",
            "DEBUG:cmdstanpy:running CmdStan, num_threads: None\n",
            "DEBUG:cmdstanpy:CmdStan args: ['/usr/local/lib/python3.7/dist-packages/prophet/stan_model/prophet_model.bin', 'random', 'seed=36027', 'data', 'file=/tmp/tmp0ow7qcla/zstdonyw.json', 'init=/tmp/tmp0ow7qcla/q51j24se.json', 'output', 'file=/tmp/tmpal7jev15/prophet_model-20220820142922.csv', 'method=optimize', 'algorithm=lbfgs', 'iter=10000']\n",
            "14:29:22 - cmdstanpy - INFO - Chain [1] start processing\n",
            "INFO:cmdstanpy:Chain [1] start processing\n"
          ]
        },
        {
          "output_type": "stream",
          "name": "stdout",
          "text": [
            "📈 11 - FBProphet with avg smape 8.57: \n",
            "Model Number: 12 of 168 with model FBProphet for Validation 2\n"
          ]
        },
        {
          "output_type": "stream",
          "name": "stderr",
          "text": [
            "14:29:23 - cmdstanpy - INFO - Chain [1] done processing\n",
            "INFO:cmdstanpy:Chain [1] done processing\n"
          ]
        },
        {
          "output_type": "stream",
          "name": "stdout",
          "text": [
            "12 - FBProphet with avg smape 18.37: \n",
            "Model Number: 13 of 168 with model MultivariateRegression for Validation 2\n"
          ]
        },
        {
          "output_type": "stream",
          "name": "stderr",
          "text": [
            "INFO:prophet:Disabling yearly seasonality. Run prophet with yearly_seasonality=True to override this.\n",
            "INFO:prophet:Disabling daily seasonality. Run prophet with daily_seasonality=True to override this.\n",
            "DEBUG:cmdstanpy:input tempfile: /tmp/tmp0ow7qcla/4b_xt9o9.json\n",
            "DEBUG:cmdstanpy:input tempfile: /tmp/tmp0ow7qcla/jlfzlrtl.json\n",
            "DEBUG:cmdstanpy:idx 0\n",
            "DEBUG:cmdstanpy:running CmdStan, num_threads: None\n",
            "DEBUG:cmdstanpy:CmdStan args: ['/usr/local/lib/python3.7/dist-packages/prophet/stan_model/prophet_model.bin', 'random', 'seed=53562', 'data', 'file=/tmp/tmp0ow7qcla/4b_xt9o9.json', 'init=/tmp/tmp0ow7qcla/jlfzlrtl.json', 'output', 'file=/tmp/tmpxzjtedw3/prophet_model-20220820142925.csv', 'method=optimize', 'algorithm=lbfgs', 'iter=10000']\n",
            "14:29:25 - cmdstanpy - INFO - Chain [1] start processing\n",
            "INFO:cmdstanpy:Chain [1] start processing\n"
          ]
        },
        {
          "output_type": "stream",
          "name": "stdout",
          "text": [
            "13 - MultivariateRegression with avg smape 8.66: \n",
            "Model Number: 14 of 168 with model Ensemble for Validation 2\n"
          ]
        },
        {
          "output_type": "stream",
          "name": "stderr",
          "text": [
            "14:29:25 - cmdstanpy - INFO - Chain [1] done processing\n",
            "INFO:cmdstanpy:Chain [1] done processing\n",
            "INFO:prophet:Disabling yearly seasonality. Run prophet with yearly_seasonality=True to override this.\n",
            "INFO:prophet:Disabling daily seasonality. Run prophet with daily_seasonality=True to override this.\n",
            "DEBUG:cmdstanpy:input tempfile: /tmp/tmp0ow7qcla/c_8z7xwh.json\n",
            "DEBUG:cmdstanpy:input tempfile: /tmp/tmp0ow7qcla/rkplzvup.json\n",
            "DEBUG:cmdstanpy:idx 0\n",
            "DEBUG:cmdstanpy:running CmdStan, num_threads: None\n",
            "DEBUG:cmdstanpy:CmdStan args: ['/usr/local/lib/python3.7/dist-packages/prophet/stan_model/prophet_model.bin', 'random', 'seed=96855', 'data', 'file=/tmp/tmp0ow7qcla/c_8z7xwh.json', 'init=/tmp/tmp0ow7qcla/rkplzvup.json', 'output', 'file=/tmp/tmpg4lnk_ux/prophet_model-20220820142927.csv', 'method=optimize', 'algorithm=lbfgs', 'iter=10000']\n",
            "14:29:27 - cmdstanpy - INFO - Chain [1] start processing\n",
            "INFO:cmdstanpy:Chain [1] start processing\n",
            "14:29:27 - cmdstanpy - INFO - Chain [1] done processing\n",
            "INFO:cmdstanpy:Chain [1] done processing\n",
            "INFO:prophet:Disabling yearly seasonality. Run prophet with yearly_seasonality=True to override this.\n",
            "INFO:prophet:Disabling daily seasonality. Run prophet with daily_seasonality=True to override this.\n",
            "DEBUG:cmdstanpy:input tempfile: /tmp/tmp0ow7qcla/4h_qtz3m.json\n",
            "DEBUG:cmdstanpy:input tempfile: /tmp/tmp0ow7qcla/3qsdv4op.json\n",
            "DEBUG:cmdstanpy:idx 0\n",
            "DEBUG:cmdstanpy:running CmdStan, num_threads: None\n",
            "DEBUG:cmdstanpy:CmdStan args: ['/usr/local/lib/python3.7/dist-packages/prophet/stan_model/prophet_model.bin', 'random', 'seed=55524', 'data', 'file=/tmp/tmp0ow7qcla/4h_qtz3m.json', 'init=/tmp/tmp0ow7qcla/3qsdv4op.json', 'output', 'file=/tmp/tmpiwatxiy8/prophet_model-20220820142929.csv', 'method=optimize', 'algorithm=lbfgs', 'iter=10000']\n",
            "14:29:29 - cmdstanpy - INFO - Chain [1] start processing\n",
            "INFO:cmdstanpy:Chain [1] start processing\n",
            "14:29:29 - cmdstanpy - INFO - Chain [1] done processing\n",
            "INFO:cmdstanpy:Chain [1] done processing\n",
            "INFO:prophet:Disabling yearly seasonality. Run prophet with yearly_seasonality=True to override this.\n",
            "INFO:prophet:Disabling daily seasonality. Run prophet with daily_seasonality=True to override this.\n",
            "DEBUG:cmdstanpy:input tempfile: /tmp/tmp0ow7qcla/i3haelky.json\n",
            "DEBUG:cmdstanpy:input tempfile: /tmp/tmp0ow7qcla/k001omgm.json\n",
            "DEBUG:cmdstanpy:idx 0\n",
            "DEBUG:cmdstanpy:running CmdStan, num_threads: None\n",
            "DEBUG:cmdstanpy:CmdStan args: ['/usr/local/lib/python3.7/dist-packages/prophet/stan_model/prophet_model.bin', 'random', 'seed=9188', 'data', 'file=/tmp/tmp0ow7qcla/i3haelky.json', 'init=/tmp/tmp0ow7qcla/k001omgm.json', 'output', 'file=/tmp/tmpdfct2_gv/prophet_model-20220820142931.csv', 'method=optimize', 'algorithm=lbfgs', 'iter=10000']\n",
            "14:29:31 - cmdstanpy - INFO - Chain [1] start processing\n",
            "INFO:cmdstanpy:Chain [1] start processing\n",
            "14:29:31 - cmdstanpy - INFO - Chain [1] done processing\n",
            "INFO:cmdstanpy:Chain [1] done processing\n",
            "INFO:prophet:Disabling yearly seasonality. Run prophet with yearly_seasonality=True to override this.\n",
            "INFO:prophet:Disabling daily seasonality. Run prophet with daily_seasonality=True to override this.\n",
            "DEBUG:cmdstanpy:input tempfile: /tmp/tmp0ow7qcla/qy4nlr5g.json\n",
            "DEBUG:cmdstanpy:input tempfile: /tmp/tmp0ow7qcla/3lwj0jbi.json\n",
            "DEBUG:cmdstanpy:idx 0\n",
            "DEBUG:cmdstanpy:running CmdStan, num_threads: None\n",
            "DEBUG:cmdstanpy:CmdStan args: ['/usr/local/lib/python3.7/dist-packages/prophet/stan_model/prophet_model.bin', 'random', 'seed=37271', 'data', 'file=/tmp/tmp0ow7qcla/qy4nlr5g.json', 'init=/tmp/tmp0ow7qcla/3lwj0jbi.json', 'output', 'file=/tmp/tmpg3_drugf/prophet_model-20220820142933.csv', 'method=optimize', 'algorithm=lbfgs', 'iter=10000']\n",
            "14:29:33 - cmdstanpy - INFO - Chain [1] start processing\n",
            "INFO:cmdstanpy:Chain [1] start processing\n",
            "14:29:33 - cmdstanpy - INFO - Chain [1] done processing\n",
            "INFO:cmdstanpy:Chain [1] done processing\n"
          ]
        },
        {
          "output_type": "stream",
          "name": "stdout",
          "text": [
            "14 - Ensemble with avg smape 18.15: \n",
            "Model Number: 15 of 168 with model MultivariateRegression for Validation 2\n",
            "15 - MultivariateRegression with avg smape 14.46: \n",
            "Model Number: 16 of 168 with model FBProphet for Validation 2\n"
          ]
        },
        {
          "output_type": "stream",
          "name": "stderr",
          "text": [
            "INFO:prophet:Disabling yearly seasonality. Run prophet with yearly_seasonality=True to override this.\n",
            "INFO:prophet:Disabling daily seasonality. Run prophet with daily_seasonality=True to override this.\n",
            "DEBUG:cmdstanpy:input tempfile: /tmp/tmp0ow7qcla/9drybvoq.json\n",
            "DEBUG:cmdstanpy:input tempfile: /tmp/tmp0ow7qcla/z8rxmr4h.json\n",
            "DEBUG:cmdstanpy:idx 0\n",
            "DEBUG:cmdstanpy:running CmdStan, num_threads: None\n",
            "DEBUG:cmdstanpy:CmdStan args: ['/usr/local/lib/python3.7/dist-packages/prophet/stan_model/prophet_model.bin', 'random', 'seed=37482', 'data', 'file=/tmp/tmp0ow7qcla/9drybvoq.json', 'init=/tmp/tmp0ow7qcla/z8rxmr4h.json', 'output', 'file=/tmp/tmps7vt48o1/prophet_model-20220820142935.csv', 'method=optimize', 'algorithm=lbfgs', 'iter=10000']\n",
            "14:29:35 - cmdstanpy - INFO - Chain [1] start processing\n",
            "INFO:cmdstanpy:Chain [1] start processing\n",
            "14:29:36 - cmdstanpy - INFO - Chain [1] done processing\n",
            "INFO:cmdstanpy:Chain [1] done processing\n",
            "INFO:prophet:Disabling yearly seasonality. Run prophet with yearly_seasonality=True to override this.\n",
            "INFO:prophet:Disabling daily seasonality. Run prophet with daily_seasonality=True to override this.\n",
            "DEBUG:cmdstanpy:input tempfile: /tmp/tmp0ow7qcla/ln2o1bdq.json\n",
            "DEBUG:cmdstanpy:input tempfile: /tmp/tmp0ow7qcla/p0xvyp6b.json\n",
            "DEBUG:cmdstanpy:idx 0\n",
            "DEBUG:cmdstanpy:running CmdStan, num_threads: None\n",
            "DEBUG:cmdstanpy:CmdStan args: ['/usr/local/lib/python3.7/dist-packages/prophet/stan_model/prophet_model.bin', 'random', 'seed=90241', 'data', 'file=/tmp/tmp0ow7qcla/ln2o1bdq.json', 'init=/tmp/tmp0ow7qcla/p0xvyp6b.json', 'output', 'file=/tmp/tmpmqtc8fb4/prophet_model-20220820142937.csv', 'method=optimize', 'algorithm=lbfgs', 'iter=10000']\n",
            "14:29:37 - cmdstanpy - INFO - Chain [1] start processing\n",
            "INFO:cmdstanpy:Chain [1] start processing\n"
          ]
        },
        {
          "output_type": "stream",
          "name": "stdout",
          "text": [
            "16 - FBProphet with avg smape 18.13: \n",
            "Model Number: 17 of 168 with model FBProphet for Validation 2\n"
          ]
        },
        {
          "output_type": "stream",
          "name": "stderr",
          "text": [
            "14:29:38 - cmdstanpy - INFO - Chain [1] done processing\n",
            "INFO:cmdstanpy:Chain [1] done processing\n",
            "INFO:prophet:Disabling yearly seasonality. Run prophet with yearly_seasonality=True to override this.\n",
            "INFO:prophet:Disabling daily seasonality. Run prophet with daily_seasonality=True to override this.\n",
            "DEBUG:cmdstanpy:input tempfile: /tmp/tmp0ow7qcla/nli3c79l.json\n",
            "DEBUG:cmdstanpy:input tempfile: /tmp/tmp0ow7qcla/nht150xc.json\n",
            "DEBUG:cmdstanpy:idx 0\n",
            "DEBUG:cmdstanpy:running CmdStan, num_threads: None\n",
            "DEBUG:cmdstanpy:CmdStan args: ['/usr/local/lib/python3.7/dist-packages/prophet/stan_model/prophet_model.bin', 'random', 'seed=5535', 'data', 'file=/tmp/tmp0ow7qcla/nli3c79l.json', 'init=/tmp/tmp0ow7qcla/nht150xc.json', 'output', 'file=/tmp/tmpqqheep1b/prophet_model-20220820142939.csv', 'method=optimize', 'algorithm=lbfgs', 'iter=10000']\n",
            "14:29:39 - cmdstanpy - INFO - Chain [1] start processing\n",
            "INFO:cmdstanpy:Chain [1] start processing\n"
          ]
        },
        {
          "output_type": "stream",
          "name": "stdout",
          "text": [
            "📈 17 - FBProphet with avg smape 8.52: \n",
            "Model Number: 18 of 168 with model FBProphet for Validation 2\n"
          ]
        },
        {
          "output_type": "stream",
          "name": "stderr",
          "text": [
            "14:29:40 - cmdstanpy - INFO - Chain [1] done processing\n",
            "INFO:cmdstanpy:Chain [1] done processing\n"
          ]
        },
        {
          "output_type": "stream",
          "name": "stdout",
          "text": [
            "18 - FBProphet with avg smape 18.05: \n",
            "Model Number: 19 of 168 with model MultivariateRegression for Validation 2\n",
            "19 - MultivariateRegression with avg smape 9.91: \n",
            "Model Number: 20 of 168 with model MultivariateRegression for Validation 2\n"
          ]
        },
        {
          "output_type": "stream",
          "name": "stderr",
          "text": [
            "INFO:prophet:Disabling yearly seasonality. Run prophet with yearly_seasonality=True to override this.\n",
            "INFO:prophet:Disabling daily seasonality. Run prophet with daily_seasonality=True to override this.\n",
            "DEBUG:cmdstanpy:input tempfile: /tmp/tmp0ow7qcla/mlafnfb7.json\n",
            "DEBUG:cmdstanpy:input tempfile: /tmp/tmp0ow7qcla/ws1xe46r.json\n",
            "DEBUG:cmdstanpy:idx 0\n",
            "DEBUG:cmdstanpy:running CmdStan, num_threads: None\n",
            "DEBUG:cmdstanpy:CmdStan args: ['/usr/local/lib/python3.7/dist-packages/prophet/stan_model/prophet_model.bin', 'random', 'seed=67256', 'data', 'file=/tmp/tmp0ow7qcla/mlafnfb7.json', 'init=/tmp/tmp0ow7qcla/ws1xe46r.json', 'output', 'file=/tmp/tmpi3hlhzu9/prophet_model-20220820142942.csv', 'method=optimize', 'algorithm=lbfgs', 'iter=10000']\n",
            "14:29:42 - cmdstanpy - INFO - Chain [1] start processing\n",
            "INFO:cmdstanpy:Chain [1] start processing\n"
          ]
        },
        {
          "output_type": "stream",
          "name": "stdout",
          "text": [
            "20 - MultivariateRegression with avg smape 9.91: \n",
            "Model Number: 21 of 168 with model FBProphet for Validation 2\n"
          ]
        },
        {
          "output_type": "stream",
          "name": "stderr",
          "text": [
            "14:29:42 - cmdstanpy - INFO - Chain [1] done processing\n",
            "INFO:cmdstanpy:Chain [1] done processing\n"
          ]
        },
        {
          "output_type": "stream",
          "name": "stdout",
          "text": [
            "21 - FBProphet with avg smape 18.71: \n",
            "Model Number: 22 of 168 with model SectionalMotif for Validation 2\n",
            "22 - SectionalMotif with avg smape 12.37: \n",
            "Model Number: 23 of 168 with model Theta for Validation 2\n",
            "23 - Theta with avg smape 13.99: \n",
            "Model Number: 24 of 168 with model Theta for Validation 2\n",
            "24 - Theta with avg smape 13.99: \n",
            "Model Number: 25 of 168 with model Theta for Validation 2\n",
            "25 - Theta with avg smape 13.99: \n",
            "Model Number: 26 of 168 with model Theta for Validation 2\n",
            "26 - Theta with avg smape 13.98: \n",
            "Model Number: 27 of 168 with model Theta for Validation 2\n",
            "27 - Theta with avg smape 13.99: \n",
            "Model Number: 28 of 168 with model Theta for Validation 2\n",
            "28 - Theta with avg smape 13.99: \n",
            "Model Number: 29 of 168 with model Theta for Validation 2\n",
            "29 - Theta with avg smape 13.98: \n",
            "Model Number: 30 of 168 with model Theta for Validation 2\n",
            "30 - Theta with avg smape 14.28: \n",
            "Model Number: 31 of 168 with model Theta for Validation 2\n",
            "31 - Theta with avg smape 14.3: \n",
            "Model Number: 32 of 168 with model LastValueNaive for Validation 2\n",
            "32 - LastValueNaive with avg smape 14.27: \n",
            "Model Number: 33 of 168 with model LastValueNaive for Validation 2\n",
            "33 - LastValueNaive with avg smape 14.27: \n",
            "Model Number: 34 of 168 with model LastValueNaive for Validation 2\n",
            "34 - LastValueNaive with avg smape 14.27: \n",
            "Model Number: 35 of 168 with model LastValueNaive for Validation 2\n",
            "35 - LastValueNaive with avg smape 14.27: \n",
            "Model Number: 36 of 168 with model LastValueNaive for Validation 2\n",
            "36 - LastValueNaive with avg smape 14.27: \n",
            "Model Number: 37 of 168 with model LastValueNaive for Validation 2\n",
            "37 - LastValueNaive with avg smape 14.27: \n",
            "Model Number: 38 of 168 with model LastValueNaive for Validation 2\n",
            "38 - LastValueNaive with avg smape 14.27: \n",
            "Model Number: 39 of 168 with model LastValueNaive for Validation 2\n",
            "39 - LastValueNaive with avg smape 14.27: \n",
            "Model Number: 40 of 168 with model LastValueNaive for Validation 2\n",
            "40 - LastValueNaive with avg smape 14.27: \n",
            "Model Number: 41 of 168 with model UnivariateMotif for Validation 2\n",
            "📈 41 - UnivariateMotif with avg smape 3.0: \n",
            "Model Number: 42 of 168 with model UnivariateMotif for Validation 2\n",
            "42 - UnivariateMotif with avg smape 3.0: \n",
            "Model Number: 43 of 168 with model UnivariateMotif for Validation 2\n",
            "📈 43 - UnivariateMotif with avg smape 2.3: \n",
            "Model Number: 44 of 168 with model SectionalMotif for Validation 2\n",
            "44 - SectionalMotif with avg smape 4.16: \n",
            "Model Number: 45 of 168 with model SectionalMotif for Validation 2\n",
            "45 - SectionalMotif with avg smape 4.16: \n",
            "Model Number: 46 of 168 with model SectionalMotif for Validation 2\n",
            "46 - SectionalMotif with avg smape 4.16: \n",
            "Model Number: 47 of 168 with model SectionalMotif for Validation 2\n",
            "47 - SectionalMotif with avg smape 4.16: \n",
            "Model Number: 48 of 168 with model UnivariateMotif for Validation 2\n",
            "48 - UnivariateMotif with avg smape 2.77: \n",
            "Model Number: 49 of 168 with model UnivariateMotif for Validation 2\n",
            "49 - UnivariateMotif with avg smape 2.77: \n",
            "Model Number: 50 of 168 with model UnivariateMotif for Validation 2\n",
            "50 - UnivariateMotif with avg smape 2.77: \n",
            "Model Number: 51 of 168 with model SectionalMotif for Validation 2\n",
            "51 - SectionalMotif with avg smape 4.12: \n",
            "Model Number: 52 of 168 with model MultivariateRegression for Validation 2\n",
            "52 - MultivariateRegression with avg smape 20.37: \n",
            "Model Number: 53 of 168 with model WindowRegression for Validation 2\n",
            "53 - WindowRegression with avg smape 16.79: \n",
            "Model Number: 54 of 168 with model UnobservedComponents for Validation 2\n"
          ]
        },
        {
          "output_type": "stream",
          "name": "stderr",
          "text": [
            "/usr/local/lib/python3.7/dist-packages/sklearn/neural_network/_multilayer_perceptron.py:549: ConvergenceWarning: lbfgs failed to converge (status=1):\n",
            "STOP: TOTAL NO. of ITERATIONS REACHED LIMIT.\n",
            "\n",
            "Increase the number of iterations (max_iter) or scale the data as shown in:\n",
            "    https://scikit-learn.org/stable/modules/preprocessing.html\n",
            "  self.n_iter_ = _check_optimize_result(\"lbfgs\", opt_res, self.max_iter)\n"
          ]
        },
        {
          "output_type": "stream",
          "name": "stdout",
          "text": [
            "54 - UnobservedComponents with avg smape 14.27: \n",
            "Model Number: 55 of 168 with model UnobservedComponents for Validation 2\n",
            "55 - UnobservedComponents with avg smape 13.69: \n",
            "Model Number: 56 of 168 with model UnivariateMotif for Validation 2\n",
            "56 - UnivariateMotif with avg smape 4.24: \n",
            "Model Number: 57 of 168 with model UnivariateMotif for Validation 2\n",
            "57 - UnivariateMotif with avg smape 5.57: \n",
            "Model Number: 58 of 168 with model UnobservedComponents for Validation 2\n",
            "58 - UnobservedComponents with avg smape 14.29: \n",
            "Model Number: 59 of 168 with model UnivariateMotif for Validation 2\n",
            "59 - UnivariateMotif with avg smape 2.77: \n",
            "Model Number: 60 of 168 with model UnobservedComponents for Validation 2\n"
          ]
        },
        {
          "output_type": "stream",
          "name": "stderr",
          "text": [
            "/usr/local/lib/python3.7/dist-packages/sklearn/_loss/glm_distribution.py:132: RuntimeWarning: divide by zero encountered in true_divide\n",
            "  return -2 * (y - y_pred) / self.unit_variance(y_pred)\n",
            "/usr/local/lib/python3.7/dist-packages/sklearn/linear_model/_glm/glm.py:42: RuntimeWarning: invalid value encountered in multiply\n",
            "  temp = d1 * family.deviance_derivative(y, y_pred, weights)\n",
            "/usr/local/lib/python3.7/dist-packages/sklearn/_loss/glm_distribution.py:326: RuntimeWarning: divide by zero encountered in log\n",
            "  dev = 2 * (np.log(y_pred / y) + y / y_pred - 1)\n",
            "/usr/local/lib/python3.7/dist-packages/sklearn/_loss/glm_distribution.py:326: RuntimeWarning: divide by zero encountered in true_divide\n",
            "  dev = 2 * (np.log(y_pred / y) + y / y_pred - 1)\n",
            "/usr/local/lib/python3.7/dist-packages/sklearn/_loss/glm_distribution.py:326: RuntimeWarning: invalid value encountered in add\n",
            "  dev = 2 * (np.log(y_pred / y) + y / y_pred - 1)\n",
            "/usr/local/lib/python3.7/dist-packages/sklearn/linear_model/_glm/glm.py:323: ConvergenceWarning: lbfgs failed to converge (status=2):\n",
            "ABNORMAL_TERMINATION_IN_LNSRCH.\n",
            "\n",
            "Increase the number of iterations (max_iter) or scale the data as shown in:\n",
            "    https://scikit-learn.org/stable/modules/preprocessing.html\n",
            "  self.n_iter_ = _check_optimize_result(\"lbfgs\", opt_res)\n"
          ]
        },
        {
          "output_type": "stream",
          "name": "stdout",
          "text": [
            "60 - UnobservedComponents with avg smape 14.47: \n",
            "Model Number: 61 of 168 with model UnobservedComponents for Validation 2\n"
          ]
        },
        {
          "output_type": "stream",
          "name": "stderr",
          "text": [
            "/usr/local/lib/python3.7/dist-packages/sklearn/_loss/glm_distribution.py:132: RuntimeWarning: divide by zero encountered in true_divide\n",
            "  return -2 * (y - y_pred) / self.unit_variance(y_pred)\n",
            "/usr/local/lib/python3.7/dist-packages/sklearn/linear_model/_glm/glm.py:42: RuntimeWarning: invalid value encountered in multiply\n",
            "  temp = d1 * family.deviance_derivative(y, y_pred, weights)\n",
            "/usr/local/lib/python3.7/dist-packages/sklearn/_loss/glm_distribution.py:326: RuntimeWarning: divide by zero encountered in log\n",
            "  dev = 2 * (np.log(y_pred / y) + y / y_pred - 1)\n",
            "/usr/local/lib/python3.7/dist-packages/sklearn/_loss/glm_distribution.py:326: RuntimeWarning: divide by zero encountered in true_divide\n",
            "  dev = 2 * (np.log(y_pred / y) + y / y_pred - 1)\n",
            "/usr/local/lib/python3.7/dist-packages/sklearn/_loss/glm_distribution.py:326: RuntimeWarning: invalid value encountered in add\n",
            "  dev = 2 * (np.log(y_pred / y) + y / y_pred - 1)\n",
            "/usr/local/lib/python3.7/dist-packages/sklearn/linear_model/_glm/glm.py:323: ConvergenceWarning: lbfgs failed to converge (status=2):\n",
            "ABNORMAL_TERMINATION_IN_LNSRCH.\n",
            "\n",
            "Increase the number of iterations (max_iter) or scale the data as shown in:\n",
            "    https://scikit-learn.org/stable/modules/preprocessing.html\n",
            "  self.n_iter_ = _check_optimize_result(\"lbfgs\", opt_res)\n"
          ]
        },
        {
          "output_type": "stream",
          "name": "stdout",
          "text": [
            "61 - UnobservedComponents with avg smape 14.47: \n",
            "Model Number: 62 of 168 with model MultivariateMotif for Validation 2\n",
            "62 - MultivariateMotif with avg smape 14.88: \n",
            "Model Number: 63 of 168 with model MultivariateMotif for Validation 2\n",
            "63 - MultivariateMotif with avg smape 14.88: \n",
            "Model Number: 64 of 168 with model NVAR for Validation 2\n",
            "64 - NVAR with avg smape 12.51: \n",
            "Model Number: 65 of 168 with model MultivariateMotif for Validation 2\n",
            "65 - MultivariateMotif with avg smape 14.8: \n",
            "Model Number: 66 of 168 with model MultivariateMotif for Validation 2\n",
            "66 - MultivariateMotif with avg smape 14.8: \n",
            "Model Number: 67 of 168 with model ETS for Validation 2\n",
            "67 - ETS with avg smape 12.21: \n",
            "Model Number: 68 of 168 with model ETS for Validation 2\n",
            "68 - ETS with avg smape 12.21: \n",
            "Model Number: 69 of 168 with model ETS for Validation 2\n",
            "69 - ETS with avg smape 12.21: \n",
            "Model Number: 70 of 168 with model NVAR for Validation 2\n",
            "70 - NVAR with avg smape 10.99: \n",
            "Model Number: 71 of 168 with model NVAR for Validation 2\n",
            "71 - NVAR with avg smape 10.98: \n",
            "Model Number: 72 of 168 with model WindowRegression for Validation 2\n",
            "72 - WindowRegression with avg smape 8.43: \n",
            "Model Number: 73 of 168 with model ETS for Validation 2\n"
          ]
        },
        {
          "output_type": "stream",
          "name": "stderr",
          "text": [
            "/usr/local/lib/python3.7/dist-packages/sklearn/neural_network/_multilayer_perceptron.py:549: ConvergenceWarning: lbfgs failed to converge (status=1):\n",
            "STOP: TOTAL NO. of ITERATIONS REACHED LIMIT.\n",
            "\n",
            "Increase the number of iterations (max_iter) or scale the data as shown in:\n",
            "    https://scikit-learn.org/stable/modules/preprocessing.html\n",
            "  self.n_iter_ = _check_optimize_result(\"lbfgs\", opt_res, self.max_iter)\n",
            "/usr/local/lib/python3.7/dist-packages/sklearn/_loss/glm_distribution.py:132: RuntimeWarning: divide by zero encountered in true_divide\n",
            "  return -2 * (y - y_pred) / self.unit_variance(y_pred)\n",
            "/usr/local/lib/python3.7/dist-packages/sklearn/linear_model/_glm/glm.py:42: RuntimeWarning: invalid value encountered in multiply\n",
            "  temp = d1 * family.deviance_derivative(y, y_pred, weights)\n",
            "/usr/local/lib/python3.7/dist-packages/sklearn/_loss/glm_distribution.py:326: RuntimeWarning: divide by zero encountered in log\n",
            "  dev = 2 * (np.log(y_pred / y) + y / y_pred - 1)\n",
            "/usr/local/lib/python3.7/dist-packages/sklearn/_loss/glm_distribution.py:326: RuntimeWarning: divide by zero encountered in true_divide\n",
            "  dev = 2 * (np.log(y_pred / y) + y / y_pred - 1)\n",
            "/usr/local/lib/python3.7/dist-packages/sklearn/_loss/glm_distribution.py:326: RuntimeWarning: invalid value encountered in add\n",
            "  dev = 2 * (np.log(y_pred / y) + y / y_pred - 1)\n",
            "/usr/local/lib/python3.7/dist-packages/sklearn/linear_model/_glm/glm.py:323: ConvergenceWarning: lbfgs failed to converge (status=2):\n",
            "ABNORMAL_TERMINATION_IN_LNSRCH.\n",
            "\n",
            "Increase the number of iterations (max_iter) or scale the data as shown in:\n",
            "    https://scikit-learn.org/stable/modules/preprocessing.html\n",
            "  self.n_iter_ = _check_optimize_result(\"lbfgs\", opt_res)\n"
          ]
        },
        {
          "output_type": "stream",
          "name": "stdout",
          "text": [
            "73 - ETS with avg smape 17.08: \n",
            "Model Number: 74 of 168 with model UnobservedComponents for Validation 2\n",
            "74 - UnobservedComponents with avg smape 9.88: \n",
            "Model Number: 75 of 168 with model ETS for Validation 2\n",
            "75 - ETS with avg smape 13.18: \n",
            "Model Number: 76 of 168 with model AverageValueNaive for Validation 2\n",
            "76 - AverageValueNaive with avg smape 12.5: \n",
            "Model Number: 77 of 168 with model AverageValueNaive for Validation 2\n",
            "77 - AverageValueNaive with avg smape 12.51: \n",
            "Model Number: 78 of 168 with model AverageValueNaive for Validation 2\n",
            "78 - AverageValueNaive with avg smape 12.51: \n",
            "Model Number: 79 of 168 with model ETS for Validation 2\n",
            "79 - ETS with avg smape 12.59: \n",
            "Model Number: 80 of 168 with model ETS for Validation 2\n",
            "80 - ETS with avg smape 12.59: \n",
            "Model Number: 81 of 168 with model SectionalMotif for Validation 2\n",
            "81 - SectionalMotif with avg smape 3.78: \n",
            "Model Number: 82 of 168 with model NVAR for Validation 2\n",
            "82 - NVAR with avg smape 13.2: \n",
            "Model Number: 83 of 168 with model NVAR for Validation 2\n",
            "83 - NVAR with avg smape 2.95: \n",
            "Model Number: 84 of 168 with model MultivariateMotif for Validation 2\n",
            "84 - MultivariateMotif with avg smape 20.8: \n",
            "Model Number: 85 of 168 with model UnobservedComponents for Validation 2\n",
            "85 - UnobservedComponents with avg smape 10.49: \n",
            "Model Number: 86 of 168 with model ETS for Validation 2\n",
            "86 - ETS with avg smape 12.83: \n",
            "Model Number: 87 of 168 with model NVAR for Validation 2\n",
            "87 - NVAR with avg smape 12.99: \n",
            "Model Number: 88 of 168 with model UnobservedComponents for Validation 2\n"
          ]
        },
        {
          "output_type": "stream",
          "name": "stderr",
          "text": [
            "/usr/local/lib/python3.7/dist-packages/sklearn/_loss/glm_distribution.py:132: RuntimeWarning: divide by zero encountered in true_divide\n",
            "  return -2 * (y - y_pred) / self.unit_variance(y_pred)\n",
            "/usr/local/lib/python3.7/dist-packages/sklearn/linear_model/_glm/glm.py:42: RuntimeWarning: invalid value encountered in multiply\n",
            "  temp = d1 * family.deviance_derivative(y, y_pred, weights)\n",
            "/usr/local/lib/python3.7/dist-packages/sklearn/_loss/glm_distribution.py:326: RuntimeWarning: divide by zero encountered in log\n",
            "  dev = 2 * (np.log(y_pred / y) + y / y_pred - 1)\n",
            "/usr/local/lib/python3.7/dist-packages/sklearn/_loss/glm_distribution.py:326: RuntimeWarning: divide by zero encountered in true_divide\n",
            "  dev = 2 * (np.log(y_pred / y) + y / y_pred - 1)\n",
            "/usr/local/lib/python3.7/dist-packages/sklearn/_loss/glm_distribution.py:326: RuntimeWarning: invalid value encountered in add\n",
            "  dev = 2 * (np.log(y_pred / y) + y / y_pred - 1)\n",
            "/usr/local/lib/python3.7/dist-packages/sklearn/linear_model/_glm/glm.py:323: ConvergenceWarning: lbfgs failed to converge (status=2):\n",
            "ABNORMAL_TERMINATION_IN_LNSRCH.\n",
            "\n",
            "Increase the number of iterations (max_iter) or scale the data as shown in:\n",
            "    https://scikit-learn.org/stable/modules/preprocessing.html\n",
            "  self.n_iter_ = _check_optimize_result(\"lbfgs\", opt_res)\n"
          ]
        },
        {
          "output_type": "stream",
          "name": "stdout",
          "text": [
            "88 - UnobservedComponents with avg smape 10.58: \n",
            "Model Number: 89 of 168 with model NVAR for Validation 2\n",
            "89 - NVAR with avg smape 2.95: \n",
            "Model Number: 90 of 168 with model NVAR for Validation 2\n",
            "90 - NVAR with avg smape 2.95: \n",
            "Model Number: 91 of 168 with model NVAR for Validation 2\n",
            "91 - NVAR with avg smape 2.95: \n",
            "Model Number: 92 of 168 with model SectionalMotif for Validation 2\n",
            "92 - SectionalMotif with avg smape 6.26: \n",
            "Model Number: 93 of 168 with model ETS for Validation 2\n",
            "93 - ETS with avg smape 16.49: \n",
            "Model Number: 94 of 168 with model UnobservedComponents for Validation 2\n",
            "94 - UnobservedComponents with avg smape 14.3: \n",
            "Model Number: 95 of 168 with model MultivariateRegression for Validation 2\n",
            "95 - MultivariateRegression with avg smape 13.23: \n",
            "Model Number: 96 of 168 with model SectionalMotif for Validation 2\n",
            "96 - SectionalMotif with avg smape 6.03: \n",
            "Model Number: 97 of 168 with model AverageValueNaive for Validation 2\n",
            "97 - AverageValueNaive with avg smape 10.29: \n",
            "Model Number: 98 of 168 with model SeasonalNaive for Validation 2\n",
            "98 - SeasonalNaive with avg smape 14.32: \n",
            "Model Number: 99 of 168 with model AverageValueNaive for Validation 2\n",
            "99 - AverageValueNaive with avg smape 10.29: \n",
            "Model Number: 100 of 168 with model AverageValueNaive for Validation 2\n",
            "100 - AverageValueNaive with avg smape 10.29: \n",
            "Model Number: 101 of 168 with model AverageValueNaive for Validation 2\n",
            "101 - AverageValueNaive with avg smape 10.29: \n",
            "Model Number: 102 of 168 with model AverageValueNaive for Validation 2\n",
            "102 - AverageValueNaive with avg smape 10.29: \n",
            "Model Number: 103 of 168 with model MultivariateRegression for Validation 2\n",
            "103 - MultivariateRegression with avg smape 8.65: \n",
            "Model Number: 104 of 168 with model AverageValueNaive for Validation 2\n",
            "104 - AverageValueNaive with avg smape 11.82: \n",
            "Model Number: 105 of 168 with model MultivariateRegression for Validation 2\n",
            "105 - MultivariateRegression with avg smape 8.58: \n",
            "Model Number: 106 of 168 with model SeasonalNaive for Validation 2\n",
            "106 - SeasonalNaive with avg smape 15.89: \n",
            "Model Number: 107 of 168 with model MultivariateRegression for Validation 2\n",
            "107 - MultivariateRegression with avg smape 13.25: \n",
            "Model Number: 108 of 168 with model SeasonalNaive for Validation 2\n",
            "108 - SeasonalNaive with avg smape 14.54: \n",
            "Model Number: 109 of 168 with model DatepartRegression for Validation 2\n",
            "Epoch 1/50\n",
            "6/6 [==============================] - 7s 19ms/step - loss: 0.4306\n",
            "Epoch 2/50\n",
            "6/6 [==============================] - 0s 18ms/step - loss: 0.2467\n",
            "Epoch 3/50\n",
            "6/6 [==============================] - 0s 17ms/step - loss: 0.2363\n",
            "Epoch 4/50\n",
            "6/6 [==============================] - 0s 17ms/step - loss: 0.2178\n",
            "Epoch 5/50\n",
            "6/6 [==============================] - 0s 17ms/step - loss: 0.2198\n",
            "Epoch 6/50\n",
            "6/6 [==============================] - 0s 20ms/step - loss: 0.2113\n",
            "Epoch 7/50\n",
            "6/6 [==============================] - 0s 20ms/step - loss: 0.2094\n",
            "Epoch 8/50\n",
            "6/6 [==============================] - 0s 16ms/step - loss: 0.2077\n",
            "Epoch 9/50\n",
            "6/6 [==============================] - 0s 24ms/step - loss: 0.2050\n",
            "Epoch 10/50\n",
            "6/6 [==============================] - 0s 18ms/step - loss: 0.2091\n",
            "Epoch 11/50\n",
            "6/6 [==============================] - 0s 18ms/step - loss: 0.2057\n",
            "Epoch 12/50\n",
            "6/6 [==============================] - 0s 18ms/step - loss: 0.2057\n",
            "Epoch 13/50\n",
            "6/6 [==============================] - 0s 16ms/step - loss: 0.2050\n",
            "Epoch 14/50\n",
            "6/6 [==============================] - 0s 19ms/step - loss: 0.2043\n",
            "Epoch 15/50\n",
            "6/6 [==============================] - 0s 18ms/step - loss: 0.2049\n",
            "Epoch 16/50\n",
            "6/6 [==============================] - 0s 18ms/step - loss: 0.2054\n",
            "Epoch 17/50\n",
            "6/6 [==============================] - 0s 16ms/step - loss: 0.2006\n",
            "Epoch 18/50\n",
            "6/6 [==============================] - 0s 20ms/step - loss: 0.2017\n",
            "Epoch 19/50\n",
            "6/6 [==============================] - 0s 18ms/step - loss: 0.2006\n",
            "Epoch 20/50\n",
            "6/6 [==============================] - 0s 17ms/step - loss: 0.2003\n",
            "Epoch 21/50\n",
            "6/6 [==============================] - 0s 18ms/step - loss: 0.2004\n",
            "Epoch 22/50\n",
            "6/6 [==============================] - 0s 17ms/step - loss: 0.1992\n",
            "Epoch 23/50\n",
            "6/6 [==============================] - 0s 18ms/step - loss: 0.1980\n",
            "Epoch 24/50\n",
            "6/6 [==============================] - 0s 17ms/step - loss: 0.1983\n",
            "Epoch 25/50\n",
            "6/6 [==============================] - 0s 19ms/step - loss: 0.1941\n",
            "Epoch 26/50\n",
            "6/6 [==============================] - 0s 18ms/step - loss: 0.2036\n",
            "Epoch 27/50\n",
            "6/6 [==============================] - 0s 17ms/step - loss: 0.1964\n",
            "Epoch 28/50\n",
            "6/6 [==============================] - 0s 19ms/step - loss: 0.1991\n",
            "Epoch 29/50\n",
            "6/6 [==============================] - 0s 17ms/step - loss: 0.1969\n",
            "Epoch 30/50\n",
            "6/6 [==============================] - 0s 18ms/step - loss: 0.1965\n",
            "Epoch 31/50\n",
            "6/6 [==============================] - 0s 18ms/step - loss: 0.1940\n",
            "Epoch 32/50\n",
            "6/6 [==============================] - 0s 19ms/step - loss: 0.1949\n",
            "Epoch 33/50\n",
            "6/6 [==============================] - 0s 18ms/step - loss: 0.1983\n",
            "Epoch 34/50\n",
            "6/6 [==============================] - 0s 16ms/step - loss: 0.1942\n",
            "Epoch 35/50\n",
            "6/6 [==============================] - 0s 21ms/step - loss: 0.1994\n",
            "Epoch 36/50\n",
            "6/6 [==============================] - 0s 18ms/step - loss: 0.1966\n",
            "Epoch 37/50\n",
            "6/6 [==============================] - 0s 18ms/step - loss: 0.1966\n",
            "Epoch 38/50\n",
            "6/6 [==============================] - 0s 18ms/step - loss: 0.1930\n",
            "Epoch 39/50\n",
            "6/6 [==============================] - 0s 19ms/step - loss: 0.1979\n",
            "Epoch 40/50\n",
            "6/6 [==============================] - 0s 18ms/step - loss: 0.1964\n",
            "Epoch 41/50\n",
            "6/6 [==============================] - 0s 18ms/step - loss: 0.1980\n",
            "Epoch 42/50\n",
            "6/6 [==============================] - 0s 19ms/step - loss: 0.1983\n",
            "Epoch 43/50\n",
            "6/6 [==============================] - 0s 18ms/step - loss: 0.1955\n",
            "Epoch 44/50\n",
            "6/6 [==============================] - 0s 17ms/step - loss: 0.1995\n",
            "Epoch 45/50\n",
            "6/6 [==============================] - 0s 20ms/step - loss: 0.1968\n",
            "Epoch 46/50\n",
            "6/6 [==============================] - 0s 18ms/step - loss: 0.1946\n",
            "Epoch 47/50\n",
            "6/6 [==============================] - 0s 17ms/step - loss: 0.1979\n",
            "Epoch 48/50\n",
            "6/6 [==============================] - 0s 16ms/step - loss: 0.1945\n",
            "Epoch 49/50\n",
            "6/6 [==============================] - 0s 18ms/step - loss: 0.1964\n",
            "Epoch 50/50\n",
            "6/6 [==============================] - 0s 19ms/step - loss: 0.1955\n",
            "109 - DatepartRegression with avg smape 8.23: \n",
            "Model Number: 110 of 168 with model MultivariateMotif for Validation 2\n",
            "110 - MultivariateMotif with avg smape 4.89: \n",
            "Model Number: 111 of 168 with model WindowRegression for Validation 2\n"
          ]
        },
        {
          "output_type": "stream",
          "name": "stderr",
          "text": [
            "/usr/local/lib/python3.7/dist-packages/sklearn/neural_network/_multilayer_perceptron.py:549: ConvergenceWarning: lbfgs failed to converge (status=1):\n",
            "STOP: TOTAL NO. of ITERATIONS REACHED LIMIT.\n",
            "\n",
            "Increase the number of iterations (max_iter) or scale the data as shown in:\n",
            "    https://scikit-learn.org/stable/modules/preprocessing.html\n",
            "  self.n_iter_ = _check_optimize_result(\"lbfgs\", opt_res, self.max_iter)\n"
          ]
        },
        {
          "output_type": "stream",
          "name": "stdout",
          "text": [
            "111 - WindowRegression with avg smape 3.84: \n",
            "Model Number: 112 of 168 with model WindowRegression for Validation 2\n",
            "112 - WindowRegression with avg smape 3.84: \n",
            "Model Number: 113 of 168 with model MultivariateMotif for Validation 2\n",
            "113 - MultivariateMotif with avg smape 12.58: \n",
            "Model Number: 114 of 168 with model MultivariateMotif for Validation 2\n"
          ]
        },
        {
          "output_type": "stream",
          "name": "stderr",
          "text": [
            "/usr/local/lib/python3.7/dist-packages/sklearn/neural_network/_multilayer_perceptron.py:549: ConvergenceWarning: lbfgs failed to converge (status=1):\n",
            "STOP: TOTAL NO. of ITERATIONS REACHED LIMIT.\n",
            "\n",
            "Increase the number of iterations (max_iter) or scale the data as shown in:\n",
            "    https://scikit-learn.org/stable/modules/preprocessing.html\n",
            "  self.n_iter_ = _check_optimize_result(\"lbfgs\", opt_res, self.max_iter)\n",
            "/usr/local/lib/python3.7/dist-packages/sklearn/svm/_base.py:1208: ConvergenceWarning: Liblinear failed to converge, increase the number of iterations.\n",
            "  ConvergenceWarning,\n"
          ]
        },
        {
          "output_type": "stream",
          "name": "stdout",
          "text": [
            "114 - MultivariateMotif with avg smape 5.72: \n",
            "Model Number: 115 of 168 with model DatepartRegression for Validation 2\n",
            "115 - DatepartRegression with avg smape 10.49: \n",
            "Model Number: 116 of 168 with model DatepartRegression for Validation 2\n",
            "116 - DatepartRegression with avg smape 10.49: \n",
            "Model Number: 117 of 168 with model DatepartRegression for Validation 2\n",
            "117 - DatepartRegression with avg smape 10.49: \n",
            "Model Number: 118 of 168 with model DatepartRegression for Validation 2\n",
            "118 - DatepartRegression with avg smape 10.49: \n",
            "Model Number: 119 of 168 with model ConstantNaive for Validation 2\n",
            "119 - ConstantNaive with avg smape 9.27: \n",
            "Model Number: 120 of 168 with model WindowRegression for Validation 2\n",
            "120 - WindowRegression with avg smape 14.42: \n",
            "Model Number: 121 of 168 with model GLS for Validation 2\n"
          ]
        },
        {
          "output_type": "stream",
          "name": "stderr",
          "text": [
            "/usr/local/lib/python3.7/dist-packages/sklearn/neural_network/_multilayer_perceptron.py:549: ConvergenceWarning: lbfgs failed to converge (status=1):\n",
            "STOP: TOTAL NO. of ITERATIONS REACHED LIMIT.\n",
            "\n",
            "Increase the number of iterations (max_iter) or scale the data as shown in:\n",
            "    https://scikit-learn.org/stable/modules/preprocessing.html\n",
            "  self.n_iter_ = _check_optimize_result(\"lbfgs\", opt_res, self.max_iter)\n"
          ]
        },
        {
          "output_type": "stream",
          "name": "stdout",
          "text": [
            "121 - GLS with avg smape 10.66: \n",
            "Model Number: 122 of 168 with model GLS for Validation 2\n",
            "122 - GLS with avg smape 10.66: \n",
            "Model Number: 123 of 168 with model GLS for Validation 2\n",
            "123 - GLS with avg smape 14.64: \n",
            "Model Number: 124 of 168 with model MultivariateMotif for Validation 2\n",
            "124 - MultivariateMotif with avg smape 14.87: \n",
            "Model Number: 125 of 168 with model SeasonalNaive for Validation 2\n",
            "125 - SeasonalNaive with avg smape 9.65: \n",
            "Model Number: 126 of 168 with model GLS for Validation 2\n",
            "126 - GLS with avg smape 8.53: \n",
            "Model Number: 127 of 168 with model SeasonalNaive for Validation 2\n",
            "127 - SeasonalNaive with avg smape 3.76: \n",
            "Model Number: 128 of 168 with model SeasonalNaive for Validation 2\n",
            "128 - SeasonalNaive with avg smape 3.76: \n",
            "Model Number: 129 of 168 with model UnivariateRegression for Validation 2\n",
            "129 - UnivariateRegression with avg smape 6.87: \n",
            "Model Number: 130 of 168 with model SeasonalNaive for Validation 2\n",
            "130 - SeasonalNaive with avg smape 6.09: \n",
            "Model Number: 131 of 168 with model SeasonalNaive for Validation 2\n",
            "131 - SeasonalNaive with avg smape 5.56: \n",
            "Model Number: 132 of 168 with model SeasonalNaive for Validation 2\n",
            "132 - SeasonalNaive with avg smape 12.89: \n",
            "Model Number: 133 of 168 with model UnivariateRegression for Validation 2\n",
            "133 - UnivariateRegression with avg smape 12.21: \n",
            "Model Number: 134 of 168 with model UnivariateRegression for Validation 2\n",
            "134 - UnivariateRegression with avg smape 6.32: \n",
            "Model Number: 135 of 168 with model ConstantNaive for Validation 2\n",
            "135 - ConstantNaive with avg smape 10.49: \n",
            "Model Number: 136 of 168 with model UnivariateRegression for Validation 2\n",
            "136 - UnivariateRegression with avg smape 6.44: \n",
            "Model Number: 137 of 168 with model ConstantNaive for Validation 2\n",
            "137 - ConstantNaive with avg smape 14.81: \n",
            "Model Number: 138 of 168 with model GLS for Validation 2\n",
            "138 - GLS with avg smape 15.19: \n",
            "Model Number: 139 of 168 with model WindowRegression for Validation 2\n"
          ]
        },
        {
          "output_type": "stream",
          "name": "stderr",
          "text": [
            "/usr/local/lib/python3.7/dist-packages/sklearn/neural_network/_multilayer_perceptron.py:549: ConvergenceWarning: lbfgs failed to converge (status=1):\n",
            "STOP: TOTAL NO. of ITERATIONS REACHED LIMIT.\n",
            "\n",
            "Increase the number of iterations (max_iter) or scale the data as shown in:\n",
            "    https://scikit-learn.org/stable/modules/preprocessing.html\n",
            "  self.n_iter_ = _check_optimize_result(\"lbfgs\", opt_res, self.max_iter)\n"
          ]
        },
        {
          "output_type": "stream",
          "name": "stdout",
          "text": [
            "139 - WindowRegression with avg smape 12.58: \n",
            "Model Number: 140 of 168 with model WindowRegression for Validation 2\n",
            "140 - WindowRegression with avg smape 12.58: \n",
            "Model Number: 141 of 168 with model UnivariateRegression for Validation 2\n",
            "141 - UnivariateRegression with avg smape 14.92: \n",
            "Model Number: 142 of 168 with model ConstantNaive for Validation 2\n"
          ]
        },
        {
          "output_type": "stream",
          "name": "stderr",
          "text": [
            "/usr/local/lib/python3.7/dist-packages/sklearn/neural_network/_multilayer_perceptron.py:549: ConvergenceWarning: lbfgs failed to converge (status=1):\n",
            "STOP: TOTAL NO. of ITERATIONS REACHED LIMIT.\n",
            "\n",
            "Increase the number of iterations (max_iter) or scale the data as shown in:\n",
            "    https://scikit-learn.org/stable/modules/preprocessing.html\n",
            "  self.n_iter_ = _check_optimize_result(\"lbfgs\", opt_res, self.max_iter)\n"
          ]
        },
        {
          "output_type": "stream",
          "name": "stdout",
          "text": [
            "142 - ConstantNaive with avg smape 12.58: \n",
            "Model Number: 143 of 168 with model ConstantNaive for Validation 2\n",
            "143 - ConstantNaive with avg smape 5.93: \n",
            "Model Number: 144 of 168 with model ConstantNaive for Validation 2\n",
            "144 - ConstantNaive with avg smape 5.93: \n",
            "Model Number: 145 of 168 with model GLS for Validation 2\n",
            "145 - GLS with avg smape 30.1: \n",
            "Model Number: 146 of 168 with model ConstantNaive for Validation 2\n",
            "146 - ConstantNaive with avg smape 7.29: \n",
            "Model Number: 147 of 168 with model WindowRegression for Validation 2\n",
            "147 - WindowRegression with avg smape 13.42: \n",
            "Model Number: 148 of 168 with model GLS for Validation 2\n",
            "148 - GLS with avg smape 10.36: \n",
            "Model Number: 149 of 168 with model WindowRegression for Validation 2\n",
            "149 - WindowRegression with avg smape 3.81: \n",
            "Model Number: 150 of 168 with model GLS for Validation 2\n",
            "150 - GLS with avg smape 9.53: \n",
            "Model Number: 151 of 168 with model UnivariateRegression for Validation 2\n",
            "151 - UnivariateRegression with avg smape 4.28: \n",
            "Model Number: 152 of 168 with model GLS for Validation 2\n",
            "152 - GLS with avg smape 3.1: \n",
            "Model Number: 153 of 168 with model ConstantNaive for Validation 2\n",
            "153 - ConstantNaive with avg smape 4.24: \n",
            "Model Number: 154 of 168 with model ConstantNaive for Validation 2\n",
            "154 - ConstantNaive with avg smape 4.24: \n",
            "Model Number: 155 of 168 with model DatepartRegression for Validation 2\n",
            "155 - DatepartRegression with avg smape 24.58: \n",
            "Model Number: 156 of 168 with model UnivariateRegression for Validation 2\n",
            "156 - UnivariateRegression with avg smape 2.8: \n",
            "Model Number: 157 of 168 with model UnivariateRegression for Validation 2\n",
            "157 - UnivariateRegression with avg smape 3.58: \n",
            "Model Number: 158 of 168 with model DatepartRegression for Validation 2\n",
            "158 - DatepartRegression with avg smape 10.45: \n",
            "Model Number: 159 of 168 with model UnivariateRegression for Validation 2\n",
            "159 - UnivariateRegression with avg smape 12.58: \n",
            "Model Number: 160 of 168 with model DatepartRegression for Validation 2\n"
          ]
        },
        {
          "output_type": "stream",
          "name": "stderr",
          "text": [
            "[Parallel(n_jobs=-2)]: Using backend SequentialBackend with 1 concurrent workers.\n",
            "[Parallel(n_jobs=-2)]: Done 100 out of 100 | elapsed:    0.1s finished\n",
            "[Parallel(n_jobs=1)]: Using backend SequentialBackend with 1 concurrent workers.\n",
            "[Parallel(n_jobs=1)]: Done 100 out of 100 | elapsed:    0.0s finished\n"
          ]
        },
        {
          "output_type": "stream",
          "name": "stdout",
          "text": [
            "160 - DatepartRegression with avg smape 4.0: \n",
            "Model Number: 161 of 168 with model DatepartRegression for Validation 2\n",
            "161 - DatepartRegression with avg smape 3.91: \n",
            "Model Number: 162 of 168 with model GLM for Validation 2\n",
            "162 - GLM with avg smape 49.07: \n",
            "Model Number: 163 of 168 with model GLM for Validation 2\n",
            "163 - GLM with avg smape 47.4: \n",
            "Model Number: 164 of 168 with model GLM for Validation 2\n",
            "164 - GLM with avg smape 46.51: \n",
            "Model Number: 165 of 168 with model GLM for Validation 2\n",
            "165 - GLM with avg smape 53.43: \n",
            "Model Number: 166 of 168 with model GLM for Validation 2\n",
            "166 - GLM with avg smape 47.64: \n",
            "Model Number: 167 of 168 with model GLM for Validation 2\n",
            "167 - GLM with avg smape 47.64: \n",
            "Model Number: 168 of 168 with model GLM for Validation 2\n",
            "168 - GLM with avg smape 55.71: \n",
            "Validation Round: 3\n",
            "Model Number: 1 of 168 with model Ensemble for Validation 3\n"
          ]
        },
        {
          "output_type": "stream",
          "name": "stderr",
          "text": [
            "INFO:prophet:Disabling yearly seasonality. Run prophet with yearly_seasonality=True to override this.\n",
            "INFO:prophet:Disabling daily seasonality. Run prophet with daily_seasonality=True to override this.\n",
            "DEBUG:cmdstanpy:input tempfile: /tmp/tmp0ow7qcla/mw5l88a2.json\n",
            "DEBUG:cmdstanpy:input tempfile: /tmp/tmp0ow7qcla/tr_zwutm.json\n",
            "DEBUG:cmdstanpy:idx 0\n",
            "DEBUG:cmdstanpy:running CmdStan, num_threads: None\n",
            "DEBUG:cmdstanpy:CmdStan args: ['/usr/local/lib/python3.7/dist-packages/prophet/stan_model/prophet_model.bin', 'random', 'seed=23458', 'data', 'file=/tmp/tmp0ow7qcla/mw5l88a2.json', 'init=/tmp/tmp0ow7qcla/tr_zwutm.json', 'output', 'file=/tmp/tmp8bh2zd14/prophet_model-20220820143027.csv', 'method=optimize', 'algorithm=lbfgs', 'iter=10000']\n",
            "14:30:27 - cmdstanpy - INFO - Chain [1] start processing\n",
            "INFO:cmdstanpy:Chain [1] start processing\n",
            "14:30:27 - cmdstanpy - INFO - Chain [1] done processing\n",
            "INFO:cmdstanpy:Chain [1] done processing\n"
          ]
        },
        {
          "output_type": "stream",
          "name": "stdout",
          "text": [
            "📈 1 - Ensemble with avg smape 19.01: \n",
            "Model Number: 2 of 168 with model Ensemble for Validation 3\n"
          ]
        },
        {
          "output_type": "stream",
          "name": "stderr",
          "text": [
            "INFO:prophet:Disabling yearly seasonality. Run prophet with yearly_seasonality=True to override this.\n",
            "INFO:prophet:Disabling daily seasonality. Run prophet with daily_seasonality=True to override this.\n",
            "DEBUG:cmdstanpy:input tempfile: /tmp/tmp0ow7qcla/pw67qw1s.json\n",
            "DEBUG:cmdstanpy:input tempfile: /tmp/tmp0ow7qcla/vs4xk3gm.json\n",
            "DEBUG:cmdstanpy:idx 0\n",
            "DEBUG:cmdstanpy:running CmdStan, num_threads: None\n",
            "DEBUG:cmdstanpy:CmdStan args: ['/usr/local/lib/python3.7/dist-packages/prophet/stan_model/prophet_model.bin', 'random', 'seed=41761', 'data', 'file=/tmp/tmp0ow7qcla/pw67qw1s.json', 'init=/tmp/tmp0ow7qcla/vs4xk3gm.json', 'output', 'file=/tmp/tmp2w7u3naw/prophet_model-20220820143030.csv', 'method=optimize', 'algorithm=lbfgs', 'iter=10000']\n",
            "14:30:30 - cmdstanpy - INFO - Chain [1] start processing\n",
            "INFO:cmdstanpy:Chain [1] start processing\n",
            "14:30:30 - cmdstanpy - INFO - Chain [1] done processing\n",
            "INFO:cmdstanpy:Chain [1] done processing\n",
            "INFO:prophet:Disabling yearly seasonality. Run prophet with yearly_seasonality=True to override this.\n",
            "INFO:prophet:Disabling daily seasonality. Run prophet with daily_seasonality=True to override this.\n",
            "DEBUG:cmdstanpy:input tempfile: /tmp/tmp0ow7qcla/pxw99s0v.json\n",
            "DEBUG:cmdstanpy:input tempfile: /tmp/tmp0ow7qcla/vgjt69z6.json\n",
            "DEBUG:cmdstanpy:idx 0\n",
            "DEBUG:cmdstanpy:running CmdStan, num_threads: None\n",
            "DEBUG:cmdstanpy:CmdStan args: ['/usr/local/lib/python3.7/dist-packages/prophet/stan_model/prophet_model.bin', 'random', 'seed=90718', 'data', 'file=/tmp/tmp0ow7qcla/pxw99s0v.json', 'init=/tmp/tmp0ow7qcla/vgjt69z6.json', 'output', 'file=/tmp/tmpwzg1zdxb/prophet_model-20220820143032.csv', 'method=optimize', 'algorithm=lbfgs', 'iter=10000']\n",
            "14:30:32 - cmdstanpy - INFO - Chain [1] start processing\n",
            "INFO:cmdstanpy:Chain [1] start processing\n",
            "14:30:32 - cmdstanpy - INFO - Chain [1] done processing\n",
            "INFO:cmdstanpy:Chain [1] done processing\n",
            "INFO:prophet:Disabling yearly seasonality. Run prophet with yearly_seasonality=True to override this.\n",
            "INFO:prophet:Disabling daily seasonality. Run prophet with daily_seasonality=True to override this.\n",
            "DEBUG:cmdstanpy:input tempfile: /tmp/tmp0ow7qcla/zz2vgz6l.json\n",
            "DEBUG:cmdstanpy:input tempfile: /tmp/tmp0ow7qcla/wxbpev57.json\n",
            "DEBUG:cmdstanpy:idx 0\n",
            "DEBUG:cmdstanpy:running CmdStan, num_threads: None\n",
            "DEBUG:cmdstanpy:CmdStan args: ['/usr/local/lib/python3.7/dist-packages/prophet/stan_model/prophet_model.bin', 'random', 'seed=68675', 'data', 'file=/tmp/tmp0ow7qcla/zz2vgz6l.json', 'init=/tmp/tmp0ow7qcla/wxbpev57.json', 'output', 'file=/tmp/tmpbyklvq7p/prophet_model-20220820143034.csv', 'method=optimize', 'algorithm=lbfgs', 'iter=10000']\n",
            "14:30:34 - cmdstanpy - INFO - Chain [1] start processing\n",
            "INFO:cmdstanpy:Chain [1] start processing\n",
            "14:30:34 - cmdstanpy - INFO - Chain [1] done processing\n",
            "INFO:cmdstanpy:Chain [1] done processing\n",
            "INFO:prophet:Disabling yearly seasonality. Run prophet with yearly_seasonality=True to override this.\n",
            "INFO:prophet:Disabling daily seasonality. Run prophet with daily_seasonality=True to override this.\n",
            "DEBUG:cmdstanpy:input tempfile: /tmp/tmp0ow7qcla/c_u4tkz0.json\n",
            "DEBUG:cmdstanpy:input tempfile: /tmp/tmp0ow7qcla/rd3ua17o.json\n",
            "DEBUG:cmdstanpy:idx 0\n",
            "DEBUG:cmdstanpy:running CmdStan, num_threads: None\n",
            "DEBUG:cmdstanpy:CmdStan args: ['/usr/local/lib/python3.7/dist-packages/prophet/stan_model/prophet_model.bin', 'random', 'seed=20011', 'data', 'file=/tmp/tmp0ow7qcla/c_u4tkz0.json', 'init=/tmp/tmp0ow7qcla/rd3ua17o.json', 'output', 'file=/tmp/tmpgdfzugm4/prophet_model-20220820143036.csv', 'method=optimize', 'algorithm=lbfgs', 'iter=10000']\n",
            "14:30:36 - cmdstanpy - INFO - Chain [1] start processing\n",
            "INFO:cmdstanpy:Chain [1] start processing\n"
          ]
        },
        {
          "output_type": "stream",
          "name": "stdout",
          "text": [
            "2 - Ensemble with avg smape 22.85: \n",
            "Model Number: 3 of 168 with model Ensemble for Validation 3\n"
          ]
        },
        {
          "output_type": "stream",
          "name": "stderr",
          "text": [
            "14:30:36 - cmdstanpy - INFO - Chain [1] done processing\n",
            "INFO:cmdstanpy:Chain [1] done processing\n",
            "INFO:prophet:Disabling yearly seasonality. Run prophet with yearly_seasonality=True to override this.\n",
            "INFO:prophet:Disabling daily seasonality. Run prophet with daily_seasonality=True to override this.\n",
            "DEBUG:cmdstanpy:input tempfile: /tmp/tmp0ow7qcla/hpba7jqj.json\n",
            "DEBUG:cmdstanpy:input tempfile: /tmp/tmp0ow7qcla/hmbkirit.json\n",
            "DEBUG:cmdstanpy:idx 0\n",
            "DEBUG:cmdstanpy:running CmdStan, num_threads: None\n",
            "DEBUG:cmdstanpy:CmdStan args: ['/usr/local/lib/python3.7/dist-packages/prophet/stan_model/prophet_model.bin', 'random', 'seed=12346', 'data', 'file=/tmp/tmp0ow7qcla/hpba7jqj.json', 'init=/tmp/tmp0ow7qcla/hmbkirit.json', 'output', 'file=/tmp/tmpdkqkysgy/prophet_model-20220820143039.csv', 'method=optimize', 'algorithm=lbfgs', 'iter=10000']\n",
            "14:30:39 - cmdstanpy - INFO - Chain [1] start processing\n",
            "INFO:cmdstanpy:Chain [1] start processing\n"
          ]
        },
        {
          "output_type": "stream",
          "name": "stdout",
          "text": [
            "3 - Ensemble with avg smape 19.91: \n",
            "Model Number: 4 of 168 with model FBProphet for Validation 3\n"
          ]
        },
        {
          "output_type": "stream",
          "name": "stderr",
          "text": [
            "14:30:39 - cmdstanpy - INFO - Chain [1] done processing\n",
            "INFO:cmdstanpy:Chain [1] done processing\n",
            "INFO:prophet:Disabling yearly seasonality. Run prophet with yearly_seasonality=True to override this.\n",
            "INFO:prophet:Disabling daily seasonality. Run prophet with daily_seasonality=True to override this.\n",
            "DEBUG:cmdstanpy:input tempfile: /tmp/tmp0ow7qcla/x6n6e0x7.json\n",
            "DEBUG:cmdstanpy:input tempfile: /tmp/tmp0ow7qcla/zh968lx2.json\n",
            "DEBUG:cmdstanpy:idx 0\n",
            "DEBUG:cmdstanpy:running CmdStan, num_threads: None\n",
            "DEBUG:cmdstanpy:CmdStan args: ['/usr/local/lib/python3.7/dist-packages/prophet/stan_model/prophet_model.bin', 'random', 'seed=67831', 'data', 'file=/tmp/tmp0ow7qcla/x6n6e0x7.json', 'init=/tmp/tmp0ow7qcla/zh968lx2.json', 'output', 'file=/tmp/tmp7ha9hhqz/prophet_model-20220820143040.csv', 'method=optimize', 'algorithm=lbfgs', 'iter=10000']\n",
            "14:30:41 - cmdstanpy - INFO - Chain [1] start processing\n",
            "INFO:cmdstanpy:Chain [1] start processing\n"
          ]
        },
        {
          "output_type": "stream",
          "name": "stdout",
          "text": [
            "4 - FBProphet with avg smape 26.11: \n",
            "Model Number: 5 of 168 with model FBProphet for Validation 3\n"
          ]
        },
        {
          "output_type": "stream",
          "name": "stderr",
          "text": [
            "14:30:41 - cmdstanpy - INFO - Chain [1] done processing\n",
            "INFO:cmdstanpy:Chain [1] done processing\n",
            "INFO:prophet:Disabling yearly seasonality. Run prophet with yearly_seasonality=True to override this.\n",
            "INFO:prophet:Disabling daily seasonality. Run prophet with daily_seasonality=True to override this.\n",
            "DEBUG:cmdstanpy:input tempfile: /tmp/tmp0ow7qcla/dt2o60tb.json\n",
            "DEBUG:cmdstanpy:input tempfile: /tmp/tmp0ow7qcla/zuzqjcbh.json\n",
            "DEBUG:cmdstanpy:idx 0\n",
            "DEBUG:cmdstanpy:running CmdStan, num_threads: None\n",
            "DEBUG:cmdstanpy:CmdStan args: ['/usr/local/lib/python3.7/dist-packages/prophet/stan_model/prophet_model.bin', 'random', 'seed=83701', 'data', 'file=/tmp/tmp0ow7qcla/dt2o60tb.json', 'init=/tmp/tmp0ow7qcla/zuzqjcbh.json', 'output', 'file=/tmp/tmp0ayzjcyx/prophet_model-20220820143042.csv', 'method=optimize', 'algorithm=lbfgs', 'iter=10000']\n",
            "14:30:42 - cmdstanpy - INFO - Chain [1] start processing\n",
            "INFO:cmdstanpy:Chain [1] start processing\n"
          ]
        },
        {
          "output_type": "stream",
          "name": "stdout",
          "text": [
            "📈 5 - FBProphet with avg smape 6.83: \n",
            "Model Number: 6 of 168 with model Ensemble for Validation 3\n"
          ]
        },
        {
          "output_type": "stream",
          "name": "stderr",
          "text": [
            "14:30:43 - cmdstanpy - INFO - Chain [1] done processing\n",
            "INFO:cmdstanpy:Chain [1] done processing\n",
            "INFO:prophet:Disabling yearly seasonality. Run prophet with yearly_seasonality=True to override this.\n",
            "INFO:prophet:Disabling daily seasonality. Run prophet with daily_seasonality=True to override this.\n",
            "DEBUG:cmdstanpy:input tempfile: /tmp/tmp0ow7qcla/kmfyy858.json\n",
            "DEBUG:cmdstanpy:input tempfile: /tmp/tmp0ow7qcla/_awf6gen.json\n",
            "DEBUG:cmdstanpy:idx 0\n",
            "DEBUG:cmdstanpy:running CmdStan, num_threads: None\n",
            "DEBUG:cmdstanpy:CmdStan args: ['/usr/local/lib/python3.7/dist-packages/prophet/stan_model/prophet_model.bin', 'random', 'seed=67849', 'data', 'file=/tmp/tmp0ow7qcla/kmfyy858.json', 'init=/tmp/tmp0ow7qcla/_awf6gen.json', 'output', 'file=/tmp/tmp14zg6j0n/prophet_model-20220820143045.csv', 'method=optimize', 'algorithm=lbfgs', 'iter=10000']\n",
            "14:30:45 - cmdstanpy - INFO - Chain [1] start processing\n",
            "INFO:cmdstanpy:Chain [1] start processing\n"
          ]
        },
        {
          "output_type": "stream",
          "name": "stdout",
          "text": [
            "6 - Ensemble with avg smape 20.13: \n",
            "Model Number: 7 of 168 with model Ensemble for Validation 3\n"
          ]
        },
        {
          "output_type": "stream",
          "name": "stderr",
          "text": [
            "14:30:45 - cmdstanpy - INFO - Chain [1] done processing\n",
            "INFO:cmdstanpy:Chain [1] done processing\n",
            "INFO:prophet:Disabling yearly seasonality. Run prophet with yearly_seasonality=True to override this.\n",
            "INFO:prophet:Disabling daily seasonality. Run prophet with daily_seasonality=True to override this.\n",
            "DEBUG:cmdstanpy:input tempfile: /tmp/tmp0ow7qcla/ccp1yo_w.json\n",
            "DEBUG:cmdstanpy:input tempfile: /tmp/tmp0ow7qcla/jn5r8nfk.json\n",
            "DEBUG:cmdstanpy:idx 0\n",
            "DEBUG:cmdstanpy:running CmdStan, num_threads: None\n",
            "DEBUG:cmdstanpy:CmdStan args: ['/usr/local/lib/python3.7/dist-packages/prophet/stan_model/prophet_model.bin', 'random', 'seed=34826', 'data', 'file=/tmp/tmp0ow7qcla/ccp1yo_w.json', 'init=/tmp/tmp0ow7qcla/jn5r8nfk.json', 'output', 'file=/tmp/tmpn0cjx84k/prophet_model-20220820143047.csv', 'method=optimize', 'algorithm=lbfgs', 'iter=10000']\n",
            "14:30:47 - cmdstanpy - INFO - Chain [1] start processing\n",
            "INFO:cmdstanpy:Chain [1] start processing\n"
          ]
        },
        {
          "output_type": "stream",
          "name": "stdout",
          "text": [
            "7 - Ensemble with avg smape 20.13: \n",
            "Model Number: 8 of 168 with model FBProphet for Validation 3\n"
          ]
        },
        {
          "output_type": "stream",
          "name": "stderr",
          "text": [
            "14:30:47 - cmdstanpy - INFO - Chain [1] done processing\n",
            "INFO:cmdstanpy:Chain [1] done processing\n",
            "INFO:prophet:Disabling yearly seasonality. Run prophet with yearly_seasonality=True to override this.\n",
            "INFO:prophet:Disabling daily seasonality. Run prophet with daily_seasonality=True to override this.\n",
            "DEBUG:cmdstanpy:input tempfile: /tmp/tmp0ow7qcla/c8a2_ibg.json\n",
            "DEBUG:cmdstanpy:input tempfile: /tmp/tmp0ow7qcla/a34e3wxw.json\n",
            "DEBUG:cmdstanpy:idx 0\n",
            "DEBUG:cmdstanpy:running CmdStan, num_threads: None\n",
            "DEBUG:cmdstanpy:CmdStan args: ['/usr/local/lib/python3.7/dist-packages/prophet/stan_model/prophet_model.bin', 'random', 'seed=12902', 'data', 'file=/tmp/tmp0ow7qcla/c8a2_ibg.json', 'init=/tmp/tmp0ow7qcla/a34e3wxw.json', 'output', 'file=/tmp/tmpw0jfi7y_/prophet_model-20220820143049.csv', 'method=optimize', 'algorithm=lbfgs', 'iter=10000']\n",
            "14:30:49 - cmdstanpy - INFO - Chain [1] start processing\n",
            "INFO:cmdstanpy:Chain [1] start processing\n"
          ]
        },
        {
          "output_type": "stream",
          "name": "stdout",
          "text": [
            "8 - FBProphet with avg smape 26.13: \n",
            "Model Number: 9 of 168 with model Ensemble for Validation 3\n"
          ]
        },
        {
          "output_type": "stream",
          "name": "stderr",
          "text": [
            "14:30:49 - cmdstanpy - INFO - Chain [1] done processing\n",
            "INFO:cmdstanpy:Chain [1] done processing\n",
            "INFO:prophet:Disabling yearly seasonality. Run prophet with yearly_seasonality=True to override this.\n",
            "INFO:prophet:Disabling daily seasonality. Run prophet with daily_seasonality=True to override this.\n",
            "DEBUG:cmdstanpy:input tempfile: /tmp/tmp0ow7qcla/s4u450sq.json\n",
            "DEBUG:cmdstanpy:input tempfile: /tmp/tmp0ow7qcla/f8orp73r.json\n",
            "DEBUG:cmdstanpy:idx 0\n",
            "DEBUG:cmdstanpy:running CmdStan, num_threads: None\n",
            "DEBUG:cmdstanpy:CmdStan args: ['/usr/local/lib/python3.7/dist-packages/prophet/stan_model/prophet_model.bin', 'random', 'seed=3956', 'data', 'file=/tmp/tmp0ow7qcla/s4u450sq.json', 'init=/tmp/tmp0ow7qcla/f8orp73r.json', 'output', 'file=/tmp/tmp20zwt_t_/prophet_model-20220820143051.csv', 'method=optimize', 'algorithm=lbfgs', 'iter=10000']\n",
            "14:30:51 - cmdstanpy - INFO - Chain [1] start processing\n",
            "INFO:cmdstanpy:Chain [1] start processing\n"
          ]
        },
        {
          "output_type": "stream",
          "name": "stdout",
          "text": [
            "9 - Ensemble with avg smape 20.35: \n",
            "Model Number: 10 of 168 with model Ensemble for Validation 3\n"
          ]
        },
        {
          "output_type": "stream",
          "name": "stderr",
          "text": [
            "14:30:51 - cmdstanpy - INFO - Chain [1] done processing\n",
            "INFO:cmdstanpy:Chain [1] done processing\n",
            "INFO:prophet:Disabling yearly seasonality. Run prophet with yearly_seasonality=True to override this.\n",
            "INFO:prophet:Disabling daily seasonality. Run prophet with daily_seasonality=True to override this.\n",
            "DEBUG:cmdstanpy:input tempfile: /tmp/tmp0ow7qcla/sxuktpkh.json\n",
            "DEBUG:cmdstanpy:input tempfile: /tmp/tmp0ow7qcla/v0lspbcb.json\n",
            "DEBUG:cmdstanpy:idx 0\n",
            "DEBUG:cmdstanpy:running CmdStan, num_threads: None\n",
            "DEBUG:cmdstanpy:CmdStan args: ['/usr/local/lib/python3.7/dist-packages/prophet/stan_model/prophet_model.bin', 'random', 'seed=65540', 'data', 'file=/tmp/tmp0ow7qcla/sxuktpkh.json', 'init=/tmp/tmp0ow7qcla/v0lspbcb.json', 'output', 'file=/tmp/tmpq9hnixy0/prophet_model-20220820143053.csv', 'method=optimize', 'algorithm=lbfgs', 'iter=10000']\n",
            "14:30:53 - cmdstanpy - INFO - Chain [1] start processing\n",
            "INFO:cmdstanpy:Chain [1] start processing\n",
            "14:30:53 - cmdstanpy - INFO - Chain [1] done processing\n",
            "INFO:cmdstanpy:Chain [1] done processing\n",
            "INFO:prophet:Disabling yearly seasonality. Run prophet with yearly_seasonality=True to override this.\n",
            "INFO:prophet:Disabling daily seasonality. Run prophet with daily_seasonality=True to override this.\n",
            "DEBUG:cmdstanpy:input tempfile: /tmp/tmp0ow7qcla/fhyepq7m.json\n",
            "DEBUG:cmdstanpy:input tempfile: /tmp/tmp0ow7qcla/1lm5zmc9.json\n",
            "DEBUG:cmdstanpy:idx 0\n",
            "DEBUG:cmdstanpy:running CmdStan, num_threads: None\n",
            "DEBUG:cmdstanpy:CmdStan args: ['/usr/local/lib/python3.7/dist-packages/prophet/stan_model/prophet_model.bin', 'random', 'seed=77595', 'data', 'file=/tmp/tmp0ow7qcla/fhyepq7m.json', 'init=/tmp/tmp0ow7qcla/1lm5zmc9.json', 'output', 'file=/tmp/tmpwnqz1xrp/prophet_model-20220820143055.csv', 'method=optimize', 'algorithm=lbfgs', 'iter=10000']\n",
            "14:30:55 - cmdstanpy - INFO - Chain [1] start processing\n",
            "INFO:cmdstanpy:Chain [1] start processing\n",
            "14:30:55 - cmdstanpy - INFO - Chain [1] done processing\n",
            "INFO:cmdstanpy:Chain [1] done processing\n",
            "INFO:prophet:Disabling yearly seasonality. Run prophet with yearly_seasonality=True to override this.\n",
            "INFO:prophet:Disabling daily seasonality. Run prophet with daily_seasonality=True to override this.\n",
            "DEBUG:cmdstanpy:input tempfile: /tmp/tmp0ow7qcla/4hi5zpxe.json\n",
            "DEBUG:cmdstanpy:input tempfile: /tmp/tmp0ow7qcla/9nrlgl6v.json\n",
            "DEBUG:cmdstanpy:idx 0\n",
            "DEBUG:cmdstanpy:running CmdStan, num_threads: None\n",
            "DEBUG:cmdstanpy:CmdStan args: ['/usr/local/lib/python3.7/dist-packages/prophet/stan_model/prophet_model.bin', 'random', 'seed=32258', 'data', 'file=/tmp/tmp0ow7qcla/4hi5zpxe.json', 'init=/tmp/tmp0ow7qcla/9nrlgl6v.json', 'output', 'file=/tmp/tmphe2iroc2/prophet_model-20220820143057.csv', 'method=optimize', 'algorithm=lbfgs', 'iter=10000']\n",
            "14:30:57 - cmdstanpy - INFO - Chain [1] start processing\n",
            "INFO:cmdstanpy:Chain [1] start processing\n"
          ]
        },
        {
          "output_type": "stream",
          "name": "stdout",
          "text": [
            "10 - Ensemble with avg smape 20.12: \n",
            "Model Number: 11 of 168 with model FBProphet for Validation 3\n"
          ]
        },
        {
          "output_type": "stream",
          "name": "stderr",
          "text": [
            "14:30:57 - cmdstanpy - INFO - Chain [1] done processing\n",
            "INFO:cmdstanpy:Chain [1] done processing\n",
            "INFO:prophet:Disabling yearly seasonality. Run prophet with yearly_seasonality=True to override this.\n",
            "INFO:prophet:Disabling daily seasonality. Run prophet with daily_seasonality=True to override this.\n",
            "DEBUG:cmdstanpy:input tempfile: /tmp/tmp0ow7qcla/ivmlr1a5.json\n",
            "DEBUG:cmdstanpy:input tempfile: /tmp/tmp0ow7qcla/ulapmtgf.json\n",
            "DEBUG:cmdstanpy:idx 0\n",
            "DEBUG:cmdstanpy:running CmdStan, num_threads: None\n",
            "DEBUG:cmdstanpy:CmdStan args: ['/usr/local/lib/python3.7/dist-packages/prophet/stan_model/prophet_model.bin', 'random', 'seed=6313', 'data', 'file=/tmp/tmp0ow7qcla/ivmlr1a5.json', 'init=/tmp/tmp0ow7qcla/ulapmtgf.json', 'output', 'file=/tmp/tmp7s6o2k0l/prophet_model-20220820143059.csv', 'method=optimize', 'algorithm=lbfgs', 'iter=10000']\n",
            "14:30:59 - cmdstanpy - INFO - Chain [1] start processing\n",
            "INFO:cmdstanpy:Chain [1] start processing\n"
          ]
        },
        {
          "output_type": "stream",
          "name": "stdout",
          "text": [
            "11 - FBProphet with avg smape 6.83: \n",
            "Model Number: 12 of 168 with model FBProphet for Validation 3\n"
          ]
        },
        {
          "output_type": "stream",
          "name": "stderr",
          "text": [
            "14:30:59 - cmdstanpy - INFO - Chain [1] done processing\n",
            "INFO:cmdstanpy:Chain [1] done processing\n"
          ]
        },
        {
          "output_type": "stream",
          "name": "stdout",
          "text": [
            "12 - FBProphet with avg smape 26.2: \n",
            "Model Number: 13 of 168 with model MultivariateRegression for Validation 3\n"
          ]
        },
        {
          "output_type": "stream",
          "name": "stderr",
          "text": [
            "INFO:prophet:Disabling yearly seasonality. Run prophet with yearly_seasonality=True to override this.\n",
            "INFO:prophet:Disabling daily seasonality. Run prophet with daily_seasonality=True to override this.\n",
            "DEBUG:cmdstanpy:input tempfile: /tmp/tmp0ow7qcla/gw64h6dw.json\n",
            "DEBUG:cmdstanpy:input tempfile: /tmp/tmp0ow7qcla/f79dz9is.json\n",
            "DEBUG:cmdstanpy:idx 0\n",
            "DEBUG:cmdstanpy:running CmdStan, num_threads: None\n",
            "DEBUG:cmdstanpy:CmdStan args: ['/usr/local/lib/python3.7/dist-packages/prophet/stan_model/prophet_model.bin', 'random', 'seed=94777', 'data', 'file=/tmp/tmp0ow7qcla/gw64h6dw.json', 'init=/tmp/tmp0ow7qcla/f79dz9is.json', 'output', 'file=/tmp/tmpum3kxhvb/prophet_model-20220820143101.csv', 'method=optimize', 'algorithm=lbfgs', 'iter=10000']\n",
            "14:31:01 - cmdstanpy - INFO - Chain [1] start processing\n",
            "INFO:cmdstanpy:Chain [1] start processing\n"
          ]
        },
        {
          "output_type": "stream",
          "name": "stdout",
          "text": [
            "13 - MultivariateRegression with avg smape 17.64: \n",
            "Model Number: 14 of 168 with model Ensemble for Validation 3\n"
          ]
        },
        {
          "output_type": "stream",
          "name": "stderr",
          "text": [
            "14:31:02 - cmdstanpy - INFO - Chain [1] done processing\n",
            "INFO:cmdstanpy:Chain [1] done processing\n",
            "INFO:prophet:Disabling yearly seasonality. Run prophet with yearly_seasonality=True to override this.\n",
            "INFO:prophet:Disabling daily seasonality. Run prophet with daily_seasonality=True to override this.\n",
            "DEBUG:cmdstanpy:input tempfile: /tmp/tmp0ow7qcla/38anjbqf.json\n",
            "DEBUG:cmdstanpy:input tempfile: /tmp/tmp0ow7qcla/qfdgvf4y.json\n",
            "DEBUG:cmdstanpy:idx 0\n",
            "DEBUG:cmdstanpy:running CmdStan, num_threads: None\n",
            "DEBUG:cmdstanpy:CmdStan args: ['/usr/local/lib/python3.7/dist-packages/prophet/stan_model/prophet_model.bin', 'random', 'seed=33532', 'data', 'file=/tmp/tmp0ow7qcla/38anjbqf.json', 'init=/tmp/tmp0ow7qcla/qfdgvf4y.json', 'output', 'file=/tmp/tmposuk2o_s/prophet_model-20220820143103.csv', 'method=optimize', 'algorithm=lbfgs', 'iter=10000']\n",
            "14:31:03 - cmdstanpy - INFO - Chain [1] start processing\n",
            "INFO:cmdstanpy:Chain [1] start processing\n",
            "14:31:03 - cmdstanpy - INFO - Chain [1] done processing\n",
            "INFO:cmdstanpy:Chain [1] done processing\n",
            "INFO:prophet:Disabling yearly seasonality. Run prophet with yearly_seasonality=True to override this.\n",
            "INFO:prophet:Disabling daily seasonality. Run prophet with daily_seasonality=True to override this.\n",
            "DEBUG:cmdstanpy:input tempfile: /tmp/tmp0ow7qcla/ggxfwg6q.json\n",
            "DEBUG:cmdstanpy:input tempfile: /tmp/tmp0ow7qcla/6ilmcal1.json\n",
            "DEBUG:cmdstanpy:idx 0\n",
            "DEBUG:cmdstanpy:running CmdStan, num_threads: None\n",
            "DEBUG:cmdstanpy:CmdStan args: ['/usr/local/lib/python3.7/dist-packages/prophet/stan_model/prophet_model.bin', 'random', 'seed=98930', 'data', 'file=/tmp/tmp0ow7qcla/ggxfwg6q.json', 'init=/tmp/tmp0ow7qcla/6ilmcal1.json', 'output', 'file=/tmp/tmpud_1bucp/prophet_model-20220820143105.csv', 'method=optimize', 'algorithm=lbfgs', 'iter=10000']\n",
            "14:31:05 - cmdstanpy - INFO - Chain [1] start processing\n",
            "INFO:cmdstanpy:Chain [1] start processing\n",
            "14:31:05 - cmdstanpy - INFO - Chain [1] done processing\n",
            "INFO:cmdstanpy:Chain [1] done processing\n",
            "INFO:prophet:Disabling yearly seasonality. Run prophet with yearly_seasonality=True to override this.\n",
            "INFO:prophet:Disabling daily seasonality. Run prophet with daily_seasonality=True to override this.\n",
            "DEBUG:cmdstanpy:input tempfile: /tmp/tmp0ow7qcla/x_hqlprb.json\n",
            "DEBUG:cmdstanpy:input tempfile: /tmp/tmp0ow7qcla/c3d6lgmk.json\n",
            "DEBUG:cmdstanpy:idx 0\n",
            "DEBUG:cmdstanpy:running CmdStan, num_threads: None\n",
            "DEBUG:cmdstanpy:CmdStan args: ['/usr/local/lib/python3.7/dist-packages/prophet/stan_model/prophet_model.bin', 'random', 'seed=70354', 'data', 'file=/tmp/tmp0ow7qcla/x_hqlprb.json', 'init=/tmp/tmp0ow7qcla/c3d6lgmk.json', 'output', 'file=/tmp/tmp44nsgzig/prophet_model-20220820143107.csv', 'method=optimize', 'algorithm=lbfgs', 'iter=10000']\n",
            "14:31:07 - cmdstanpy - INFO - Chain [1] start processing\n",
            "INFO:cmdstanpy:Chain [1] start processing\n",
            "14:31:07 - cmdstanpy - INFO - Chain [1] done processing\n",
            "INFO:cmdstanpy:Chain [1] done processing\n",
            "INFO:prophet:Disabling yearly seasonality. Run prophet with yearly_seasonality=True to override this.\n",
            "INFO:prophet:Disabling daily seasonality. Run prophet with daily_seasonality=True to override this.\n",
            "DEBUG:cmdstanpy:input tempfile: /tmp/tmp0ow7qcla/pahnfarb.json\n",
            "DEBUG:cmdstanpy:input tempfile: /tmp/tmp0ow7qcla/8mhq_ln7.json\n",
            "DEBUG:cmdstanpy:idx 0\n",
            "DEBUG:cmdstanpy:running CmdStan, num_threads: None\n",
            "DEBUG:cmdstanpy:CmdStan args: ['/usr/local/lib/python3.7/dist-packages/prophet/stan_model/prophet_model.bin', 'random', 'seed=77639', 'data', 'file=/tmp/tmp0ow7qcla/pahnfarb.json', 'init=/tmp/tmp0ow7qcla/8mhq_ln7.json', 'output', 'file=/tmp/tmp80e21dc9/prophet_model-20220820143109.csv', 'method=optimize', 'algorithm=lbfgs', 'iter=10000']\n",
            "14:31:09 - cmdstanpy - INFO - Chain [1] start processing\n",
            "INFO:cmdstanpy:Chain [1] start processing\n",
            "14:31:10 - cmdstanpy - INFO - Chain [1] done processing\n",
            "INFO:cmdstanpy:Chain [1] done processing\n"
          ]
        },
        {
          "output_type": "stream",
          "name": "stdout",
          "text": [
            "14 - Ensemble with avg smape 25.99: \n",
            "Model Number: 15 of 168 with model MultivariateRegression for Validation 3\n",
            "15 - MultivariateRegression with avg smape 21.55: \n",
            "Model Number: 16 of 168 with model FBProphet for Validation 3\n"
          ]
        },
        {
          "output_type": "stream",
          "name": "stderr",
          "text": [
            "INFO:prophet:Disabling yearly seasonality. Run prophet with yearly_seasonality=True to override this.\n",
            "INFO:prophet:Disabling daily seasonality. Run prophet with daily_seasonality=True to override this.\n",
            "DEBUG:cmdstanpy:input tempfile: /tmp/tmp0ow7qcla/2era92_d.json\n",
            "DEBUG:cmdstanpy:input tempfile: /tmp/tmp0ow7qcla/cb31s9xb.json\n",
            "DEBUG:cmdstanpy:idx 0\n",
            "DEBUG:cmdstanpy:running CmdStan, num_threads: None\n",
            "DEBUG:cmdstanpy:CmdStan args: ['/usr/local/lib/python3.7/dist-packages/prophet/stan_model/prophet_model.bin', 'random', 'seed=63181', 'data', 'file=/tmp/tmp0ow7qcla/2era92_d.json', 'init=/tmp/tmp0ow7qcla/cb31s9xb.json', 'output', 'file=/tmp/tmppm5pw6pz/prophet_model-20220820143111.csv', 'method=optimize', 'algorithm=lbfgs', 'iter=10000']\n",
            "14:31:11 - cmdstanpy - INFO - Chain [1] start processing\n",
            "INFO:cmdstanpy:Chain [1] start processing\n",
            "14:31:12 - cmdstanpy - INFO - Chain [1] done processing\n",
            "INFO:cmdstanpy:Chain [1] done processing\n",
            "INFO:prophet:Disabling yearly seasonality. Run prophet with yearly_seasonality=True to override this.\n",
            "INFO:prophet:Disabling daily seasonality. Run prophet with daily_seasonality=True to override this.\n",
            "DEBUG:cmdstanpy:input tempfile: /tmp/tmp0ow7qcla/sm20l_xr.json\n",
            "DEBUG:cmdstanpy:input tempfile: /tmp/tmp0ow7qcla/k_31vrfn.json\n",
            "DEBUG:cmdstanpy:idx 0\n",
            "DEBUG:cmdstanpy:running CmdStan, num_threads: None\n",
            "DEBUG:cmdstanpy:CmdStan args: ['/usr/local/lib/python3.7/dist-packages/prophet/stan_model/prophet_model.bin', 'random', 'seed=60502', 'data', 'file=/tmp/tmp0ow7qcla/sm20l_xr.json', 'init=/tmp/tmp0ow7qcla/k_31vrfn.json', 'output', 'file=/tmp/tmpbr2v8l_t/prophet_model-20220820143113.csv', 'method=optimize', 'algorithm=lbfgs', 'iter=10000']\n",
            "14:31:13 - cmdstanpy - INFO - Chain [1] start processing\n",
            "INFO:cmdstanpy:Chain [1] start processing\n"
          ]
        },
        {
          "output_type": "stream",
          "name": "stdout",
          "text": [
            "16 - FBProphet with avg smape 26.05: \n",
            "Model Number: 17 of 168 with model FBProphet for Validation 3\n"
          ]
        },
        {
          "output_type": "stream",
          "name": "stderr",
          "text": [
            "14:31:14 - cmdstanpy - INFO - Chain [1] done processing\n",
            "INFO:cmdstanpy:Chain [1] done processing\n",
            "INFO:prophet:Disabling yearly seasonality. Run prophet with yearly_seasonality=True to override this.\n",
            "INFO:prophet:Disabling daily seasonality. Run prophet with daily_seasonality=True to override this.\n",
            "DEBUG:cmdstanpy:input tempfile: /tmp/tmp0ow7qcla/y7wp__ss.json\n",
            "DEBUG:cmdstanpy:input tempfile: /tmp/tmp0ow7qcla/33wdgmr2.json\n",
            "DEBUG:cmdstanpy:idx 0\n",
            "DEBUG:cmdstanpy:running CmdStan, num_threads: None\n",
            "DEBUG:cmdstanpy:CmdStan args: ['/usr/local/lib/python3.7/dist-packages/prophet/stan_model/prophet_model.bin', 'random', 'seed=58040', 'data', 'file=/tmp/tmp0ow7qcla/y7wp__ss.json', 'init=/tmp/tmp0ow7qcla/33wdgmr2.json', 'output', 'file=/tmp/tmptrmlit7y/prophet_model-20220820143115.csv', 'method=optimize', 'algorithm=lbfgs', 'iter=10000']\n",
            "14:31:15 - cmdstanpy - INFO - Chain [1] start processing\n",
            "INFO:cmdstanpy:Chain [1] start processing\n"
          ]
        },
        {
          "output_type": "stream",
          "name": "stdout",
          "text": [
            "17 - FBProphet with avg smape 7.37: \n",
            "Model Number: 18 of 168 with model FBProphet for Validation 3\n"
          ]
        },
        {
          "output_type": "stream",
          "name": "stderr",
          "text": [
            "14:31:16 - cmdstanpy - INFO - Chain [1] done processing\n",
            "INFO:cmdstanpy:Chain [1] done processing\n"
          ]
        },
        {
          "output_type": "stream",
          "name": "stdout",
          "text": [
            "18 - FBProphet with avg smape 26.13: \n",
            "Model Number: 19 of 168 with model MultivariateRegression for Validation 3\n",
            "19 - MultivariateRegression with avg smape 17.61: \n",
            "Model Number: 20 of 168 with model MultivariateRegression for Validation 3\n"
          ]
        },
        {
          "output_type": "stream",
          "name": "stderr",
          "text": [
            "INFO:prophet:Disabling yearly seasonality. Run prophet with yearly_seasonality=True to override this.\n",
            "INFO:prophet:Disabling daily seasonality. Run prophet with daily_seasonality=True to override this.\n",
            "DEBUG:cmdstanpy:input tempfile: /tmp/tmp0ow7qcla/63zmrj63.json\n",
            "DEBUG:cmdstanpy:input tempfile: /tmp/tmp0ow7qcla/sb0u6rl8.json\n",
            "DEBUG:cmdstanpy:idx 0\n",
            "DEBUG:cmdstanpy:running CmdStan, num_threads: None\n",
            "DEBUG:cmdstanpy:CmdStan args: ['/usr/local/lib/python3.7/dist-packages/prophet/stan_model/prophet_model.bin', 'random', 'seed=78297', 'data', 'file=/tmp/tmp0ow7qcla/63zmrj63.json', 'init=/tmp/tmp0ow7qcla/sb0u6rl8.json', 'output', 'file=/tmp/tmpt6vxsu_p/prophet_model-20220820143118.csv', 'method=optimize', 'algorithm=lbfgs', 'iter=10000']\n",
            "14:31:18 - cmdstanpy - INFO - Chain [1] start processing\n",
            "INFO:cmdstanpy:Chain [1] start processing\n"
          ]
        },
        {
          "output_type": "stream",
          "name": "stdout",
          "text": [
            "20 - MultivariateRegression with avg smape 17.61: \n",
            "Model Number: 21 of 168 with model FBProphet for Validation 3\n"
          ]
        },
        {
          "output_type": "stream",
          "name": "stderr",
          "text": [
            "14:31:19 - cmdstanpy - INFO - Chain [1] done processing\n",
            "INFO:cmdstanpy:Chain [1] done processing\n"
          ]
        },
        {
          "output_type": "stream",
          "name": "stdout",
          "text": [
            "21 - FBProphet with avg smape 26.62: \n",
            "Model Number: 22 of 168 with model SectionalMotif for Validation 3\n",
            "22 - SectionalMotif with avg smape 16.3: \n",
            "Model Number: 23 of 168 with model Theta for Validation 3\n",
            "23 - Theta with avg smape 21.31: \n",
            "Model Number: 24 of 168 with model Theta for Validation 3\n",
            "24 - Theta with avg smape 21.31: \n",
            "Model Number: 25 of 168 with model Theta for Validation 3\n",
            "25 - Theta with avg smape 21.31: \n",
            "Model Number: 26 of 168 with model Theta for Validation 3\n",
            "26 - Theta with avg smape 21.3: \n",
            "Model Number: 27 of 168 with model Theta for Validation 3\n",
            "27 - Theta with avg smape 21.31: \n",
            "Model Number: 28 of 168 with model Theta for Validation 3\n",
            "28 - Theta with avg smape 21.31: \n",
            "Model Number: 29 of 168 with model Theta for Validation 3\n",
            "29 - Theta with avg smape 21.3: \n",
            "Model Number: 30 of 168 with model Theta for Validation 3\n",
            "30 - Theta with avg smape 21.65: \n",
            "Model Number: 31 of 168 with model Theta for Validation 3\n",
            "31 - Theta with avg smape 21.66: \n",
            "Model Number: 32 of 168 with model LastValueNaive for Validation 3\n",
            "32 - LastValueNaive with avg smape 21.69: \n",
            "Model Number: 33 of 168 with model LastValueNaive for Validation 3\n",
            "33 - LastValueNaive with avg smape 21.69: \n",
            "Model Number: 34 of 168 with model LastValueNaive for Validation 3\n",
            "34 - LastValueNaive with avg smape 21.69: \n",
            "Model Number: 35 of 168 with model LastValueNaive for Validation 3\n",
            "35 - LastValueNaive with avg smape 21.69: \n",
            "Model Number: 36 of 168 with model LastValueNaive for Validation 3\n",
            "36 - LastValueNaive with avg smape 21.69: \n",
            "Model Number: 37 of 168 with model LastValueNaive for Validation 3\n",
            "37 - LastValueNaive with avg smape 21.69: \n",
            "Model Number: 38 of 168 with model LastValueNaive for Validation 3\n",
            "38 - LastValueNaive with avg smape 21.69: \n",
            "Model Number: 39 of 168 with model LastValueNaive for Validation 3\n",
            "39 - LastValueNaive with avg smape 21.69: \n",
            "Model Number: 40 of 168 with model LastValueNaive for Validation 3\n",
            "40 - LastValueNaive with avg smape 21.69: \n",
            "Model Number: 41 of 168 with model UnivariateMotif for Validation 3\n",
            "41 - UnivariateMotif with avg smape 7.69: \n",
            "Model Number: 42 of 168 with model UnivariateMotif for Validation 3\n",
            "42 - UnivariateMotif with avg smape 7.69: \n",
            "Model Number: 43 of 168 with model UnivariateMotif for Validation 3\n",
            "43 - UnivariateMotif with avg smape 7.33: \n",
            "Model Number: 44 of 168 with model SectionalMotif for Validation 3\n",
            "📈 44 - SectionalMotif with avg smape 4.24: \n",
            "Model Number: 45 of 168 with model SectionalMotif for Validation 3\n",
            "📈 45 - SectionalMotif with avg smape 4.23: \n",
            "Model Number: 46 of 168 with model SectionalMotif for Validation 3\n",
            "📈 46 - SectionalMotif with avg smape 4.22: \n",
            "Model Number: 47 of 168 with model SectionalMotif for Validation 3\n",
            "47 - SectionalMotif with avg smape 4.22: \n",
            "Model Number: 48 of 168 with model UnivariateMotif for Validation 3\n",
            "48 - UnivariateMotif with avg smape 7.43: \n",
            "Model Number: 49 of 168 with model UnivariateMotif for Validation 3\n",
            "49 - UnivariateMotif with avg smape 7.43: \n",
            "Model Number: 50 of 168 with model UnivariateMotif for Validation 3\n",
            "50 - UnivariateMotif with avg smape 7.43: \n",
            "Model Number: 51 of 168 with model SectionalMotif for Validation 3\n",
            "📈 51 - SectionalMotif with avg smape 4.04: \n",
            "Model Number: 52 of 168 with model MultivariateRegression for Validation 3\n",
            "52 - MultivariateRegression with avg smape 23.33: \n",
            "Model Number: 53 of 168 with model WindowRegression for Validation 3\n",
            "53 - WindowRegression with avg smape 24.55: \n",
            "Model Number: 54 of 168 with model UnobservedComponents for Validation 3\n"
          ]
        },
        {
          "output_type": "stream",
          "name": "stderr",
          "text": [
            "/usr/local/lib/python3.7/dist-packages/sklearn/neural_network/_multilayer_perceptron.py:549: ConvergenceWarning: lbfgs failed to converge (status=1):\n",
            "STOP: TOTAL NO. of ITERATIONS REACHED LIMIT.\n",
            "\n",
            "Increase the number of iterations (max_iter) or scale the data as shown in:\n",
            "    https://scikit-learn.org/stable/modules/preprocessing.html\n",
            "  self.n_iter_ = _check_optimize_result(\"lbfgs\", opt_res, self.max_iter)\n"
          ]
        },
        {
          "output_type": "stream",
          "name": "stdout",
          "text": [
            "54 - UnobservedComponents with avg smape 21.69: \n",
            "Model Number: 55 of 168 with model UnobservedComponents for Validation 3\n",
            "55 - UnobservedComponents with avg smape 21.21: \n",
            "Model Number: 56 of 168 with model UnivariateMotif for Validation 3\n",
            "56 - UnivariateMotif with avg smape 6.95: \n",
            "Model Number: 57 of 168 with model UnivariateMotif for Validation 3\n",
            "57 - UnivariateMotif with avg smape 8.81: \n",
            "Model Number: 58 of 168 with model UnobservedComponents for Validation 3\n",
            "58 - UnobservedComponents with avg smape 21.67: \n",
            "Model Number: 59 of 168 with model UnivariateMotif for Validation 3\n",
            "59 - UnivariateMotif with avg smape 7.44: \n",
            "Model Number: 60 of 168 with model UnobservedComponents for Validation 3\n"
          ]
        },
        {
          "output_type": "stream",
          "name": "stderr",
          "text": [
            "/usr/local/lib/python3.7/dist-packages/sklearn/_loss/glm_distribution.py:132: RuntimeWarning: divide by zero encountered in true_divide\n",
            "  return -2 * (y - y_pred) / self.unit_variance(y_pred)\n",
            "/usr/local/lib/python3.7/dist-packages/sklearn/linear_model/_glm/glm.py:42: RuntimeWarning: invalid value encountered in multiply\n",
            "  temp = d1 * family.deviance_derivative(y, y_pred, weights)\n",
            "/usr/local/lib/python3.7/dist-packages/sklearn/_loss/glm_distribution.py:326: RuntimeWarning: divide by zero encountered in log\n",
            "  dev = 2 * (np.log(y_pred / y) + y / y_pred - 1)\n",
            "/usr/local/lib/python3.7/dist-packages/sklearn/_loss/glm_distribution.py:326: RuntimeWarning: divide by zero encountered in true_divide\n",
            "  dev = 2 * (np.log(y_pred / y) + y / y_pred - 1)\n",
            "/usr/local/lib/python3.7/dist-packages/sklearn/_loss/glm_distribution.py:326: RuntimeWarning: invalid value encountered in add\n",
            "  dev = 2 * (np.log(y_pred / y) + y / y_pred - 1)\n",
            "/usr/local/lib/python3.7/dist-packages/sklearn/linear_model/_glm/glm.py:323: ConvergenceWarning: lbfgs failed to converge (status=2):\n",
            "ABNORMAL_TERMINATION_IN_LNSRCH.\n",
            "\n",
            "Increase the number of iterations (max_iter) or scale the data as shown in:\n",
            "    https://scikit-learn.org/stable/modules/preprocessing.html\n",
            "  self.n_iter_ = _check_optimize_result(\"lbfgs\", opt_res)\n"
          ]
        },
        {
          "output_type": "stream",
          "name": "stdout",
          "text": [
            "60 - UnobservedComponents with avg smape 21.56: \n",
            "Model Number: 61 of 168 with model UnobservedComponents for Validation 3\n"
          ]
        },
        {
          "output_type": "stream",
          "name": "stderr",
          "text": [
            "/usr/local/lib/python3.7/dist-packages/sklearn/_loss/glm_distribution.py:132: RuntimeWarning: divide by zero encountered in true_divide\n",
            "  return -2 * (y - y_pred) / self.unit_variance(y_pred)\n",
            "/usr/local/lib/python3.7/dist-packages/sklearn/linear_model/_glm/glm.py:42: RuntimeWarning: invalid value encountered in multiply\n",
            "  temp = d1 * family.deviance_derivative(y, y_pred, weights)\n",
            "/usr/local/lib/python3.7/dist-packages/sklearn/_loss/glm_distribution.py:326: RuntimeWarning: divide by zero encountered in log\n",
            "  dev = 2 * (np.log(y_pred / y) + y / y_pred - 1)\n",
            "/usr/local/lib/python3.7/dist-packages/sklearn/_loss/glm_distribution.py:326: RuntimeWarning: divide by zero encountered in true_divide\n",
            "  dev = 2 * (np.log(y_pred / y) + y / y_pred - 1)\n",
            "/usr/local/lib/python3.7/dist-packages/sklearn/_loss/glm_distribution.py:326: RuntimeWarning: invalid value encountered in add\n",
            "  dev = 2 * (np.log(y_pred / y) + y / y_pred - 1)\n",
            "/usr/local/lib/python3.7/dist-packages/sklearn/linear_model/_glm/glm.py:323: ConvergenceWarning: lbfgs failed to converge (status=2):\n",
            "ABNORMAL_TERMINATION_IN_LNSRCH.\n",
            "\n",
            "Increase the number of iterations (max_iter) or scale the data as shown in:\n",
            "    https://scikit-learn.org/stable/modules/preprocessing.html\n",
            "  self.n_iter_ = _check_optimize_result(\"lbfgs\", opt_res)\n"
          ]
        },
        {
          "output_type": "stream",
          "name": "stdout",
          "text": [
            "61 - UnobservedComponents with avg smape 21.56: \n",
            "Model Number: 62 of 168 with model MultivariateMotif for Validation 3\n",
            "62 - MultivariateMotif with avg smape 24.38: \n",
            "Model Number: 63 of 168 with model MultivariateMotif for Validation 3\n",
            "63 - MultivariateMotif with avg smape 24.38: \n",
            "Model Number: 64 of 168 with model NVAR for Validation 3\n",
            "64 - NVAR with avg smape 21.0: \n",
            "Model Number: 65 of 168 with model MultivariateMotif for Validation 3\n",
            "65 - MultivariateMotif with avg smape 24.33: \n",
            "Model Number: 66 of 168 with model MultivariateMotif for Validation 3\n",
            "66 - MultivariateMotif with avg smape 24.33: \n",
            "Model Number: 67 of 168 with model ETS for Validation 3\n",
            "67 - ETS with avg smape 23.96: \n",
            "Model Number: 68 of 168 with model ETS for Validation 3\n",
            "68 - ETS with avg smape 23.96: \n",
            "Model Number: 69 of 168 with model ETS for Validation 3\n",
            "69 - ETS with avg smape 23.96: \n",
            "Model Number: 70 of 168 with model NVAR for Validation 3\n",
            "70 - NVAR with avg smape 20.75: \n",
            "Model Number: 71 of 168 with model NVAR for Validation 3\n",
            "71 - NVAR with avg smape 20.75: \n",
            "Model Number: 72 of 168 with model WindowRegression for Validation 3\n",
            "📈 72 - WindowRegression with avg smape 3.46: \n",
            "Model Number: 73 of 168 with model ETS for Validation 3\n"
          ]
        },
        {
          "output_type": "stream",
          "name": "stderr",
          "text": [
            "/usr/local/lib/python3.7/dist-packages/sklearn/neural_network/_multilayer_perceptron.py:549: ConvergenceWarning: lbfgs failed to converge (status=1):\n",
            "STOP: TOTAL NO. of ITERATIONS REACHED LIMIT.\n",
            "\n",
            "Increase the number of iterations (max_iter) or scale the data as shown in:\n",
            "    https://scikit-learn.org/stable/modules/preprocessing.html\n",
            "  self.n_iter_ = _check_optimize_result(\"lbfgs\", opt_res, self.max_iter)\n",
            "/usr/local/lib/python3.7/dist-packages/sklearn/_loss/glm_distribution.py:132: RuntimeWarning: divide by zero encountered in true_divide\n",
            "  return -2 * (y - y_pred) / self.unit_variance(y_pred)\n",
            "/usr/local/lib/python3.7/dist-packages/sklearn/linear_model/_glm/glm.py:42: RuntimeWarning: invalid value encountered in multiply\n",
            "  temp = d1 * family.deviance_derivative(y, y_pred, weights)\n",
            "/usr/local/lib/python3.7/dist-packages/sklearn/_loss/glm_distribution.py:326: RuntimeWarning: divide by zero encountered in log\n",
            "  dev = 2 * (np.log(y_pred / y) + y / y_pred - 1)\n",
            "/usr/local/lib/python3.7/dist-packages/sklearn/_loss/glm_distribution.py:326: RuntimeWarning: divide by zero encountered in true_divide\n",
            "  dev = 2 * (np.log(y_pred / y) + y / y_pred - 1)\n",
            "/usr/local/lib/python3.7/dist-packages/sklearn/_loss/glm_distribution.py:326: RuntimeWarning: invalid value encountered in add\n",
            "  dev = 2 * (np.log(y_pred / y) + y / y_pred - 1)\n",
            "/usr/local/lib/python3.7/dist-packages/sklearn/linear_model/_glm/glm.py:323: ConvergenceWarning: lbfgs failed to converge (status=2):\n",
            "ABNORMAL_TERMINATION_IN_LNSRCH.\n",
            "\n",
            "Increase the number of iterations (max_iter) or scale the data as shown in:\n",
            "    https://scikit-learn.org/stable/modules/preprocessing.html\n",
            "  self.n_iter_ = _check_optimize_result(\"lbfgs\", opt_res)\n"
          ]
        },
        {
          "output_type": "stream",
          "name": "stdout",
          "text": [
            "73 - ETS with avg smape 7.17: \n",
            "Model Number: 74 of 168 with model UnobservedComponents for Validation 3\n",
            "74 - UnobservedComponents with avg smape 13.11: \n",
            "Model Number: 75 of 168 with model ETS for Validation 3\n",
            "75 - ETS with avg smape 25.98: \n",
            "Model Number: 76 of 168 with model AverageValueNaive for Validation 3\n",
            "76 - AverageValueNaive with avg smape 15.74: \n",
            "Model Number: 77 of 168 with model AverageValueNaive for Validation 3\n",
            "77 - AverageValueNaive with avg smape 15.69: \n",
            "Model Number: 78 of 168 with model AverageValueNaive for Validation 3\n",
            "78 - AverageValueNaive with avg smape 15.69: \n",
            "Model Number: 79 of 168 with model ETS for Validation 3\n",
            "79 - ETS with avg smape 24.13: \n",
            "Model Number: 80 of 168 with model ETS for Validation 3\n",
            "80 - ETS with avg smape 24.13: \n",
            "Model Number: 81 of 168 with model SectionalMotif for Validation 3\n",
            "81 - SectionalMotif with avg smape 4.45: \n",
            "Model Number: 82 of 168 with model NVAR for Validation 3\n",
            "82 - NVAR with avg smape 20.31: \n",
            "Model Number: 83 of 168 with model NVAR for Validation 3\n",
            "83 - NVAR with avg smape 6.15: \n",
            "Model Number: 84 of 168 with model MultivariateMotif for Validation 3\n",
            "84 - MultivariateMotif with avg smape 27.09: \n",
            "Model Number: 85 of 168 with model UnobservedComponents for Validation 3\n",
            "85 - UnobservedComponents with avg smape 13.78: \n",
            "Model Number: 86 of 168 with model ETS for Validation 3\n",
            "86 - ETS with avg smape 24.2: \n",
            "Model Number: 87 of 168 with model NVAR for Validation 3\n",
            "87 - NVAR with avg smape 20.01: \n",
            "Model Number: 88 of 168 with model UnobservedComponents for Validation 3\n"
          ]
        },
        {
          "output_type": "stream",
          "name": "stderr",
          "text": [
            "/usr/local/lib/python3.7/dist-packages/sklearn/_loss/glm_distribution.py:132: RuntimeWarning: divide by zero encountered in true_divide\n",
            "  return -2 * (y - y_pred) / self.unit_variance(y_pred)\n",
            "/usr/local/lib/python3.7/dist-packages/sklearn/linear_model/_glm/glm.py:42: RuntimeWarning: invalid value encountered in multiply\n",
            "  temp = d1 * family.deviance_derivative(y, y_pred, weights)\n",
            "/usr/local/lib/python3.7/dist-packages/sklearn/_loss/glm_distribution.py:326: RuntimeWarning: divide by zero encountered in log\n",
            "  dev = 2 * (np.log(y_pred / y) + y / y_pred - 1)\n",
            "/usr/local/lib/python3.7/dist-packages/sklearn/_loss/glm_distribution.py:326: RuntimeWarning: divide by zero encountered in true_divide\n",
            "  dev = 2 * (np.log(y_pred / y) + y / y_pred - 1)\n",
            "/usr/local/lib/python3.7/dist-packages/sklearn/_loss/glm_distribution.py:326: RuntimeWarning: invalid value encountered in add\n",
            "  dev = 2 * (np.log(y_pred / y) + y / y_pred - 1)\n",
            "/usr/local/lib/python3.7/dist-packages/sklearn/linear_model/_glm/glm.py:323: ConvergenceWarning: lbfgs failed to converge (status=2):\n",
            "ABNORMAL_TERMINATION_IN_LNSRCH.\n",
            "\n",
            "Increase the number of iterations (max_iter) or scale the data as shown in:\n",
            "    https://scikit-learn.org/stable/modules/preprocessing.html\n",
            "  self.n_iter_ = _check_optimize_result(\"lbfgs\", opt_res)\n"
          ]
        },
        {
          "output_type": "stream",
          "name": "stdout",
          "text": [
            "88 - UnobservedComponents with avg smape 13.84: \n",
            "Model Number: 89 of 168 with model NVAR for Validation 3\n",
            "89 - NVAR with avg smape 6.11: \n",
            "Model Number: 90 of 168 with model NVAR for Validation 3\n",
            "90 - NVAR with avg smape 6.11: \n",
            "Model Number: 91 of 168 with model NVAR for Validation 3\n",
            "91 - NVAR with avg smape 6.11: \n",
            "Model Number: 92 of 168 with model SectionalMotif for Validation 3\n",
            "92 - SectionalMotif with avg smape 8.62: \n",
            "Model Number: 93 of 168 with model ETS for Validation 3\n",
            "93 - ETS with avg smape 24.78: \n",
            "Model Number: 94 of 168 with model UnobservedComponents for Validation 3\n",
            "94 - UnobservedComponents with avg smape 21.65: \n",
            "Model Number: 95 of 168 with model MultivariateRegression for Validation 3\n",
            "95 - MultivariateRegression with avg smape 17.75: \n",
            "Model Number: 96 of 168 with model SectionalMotif for Validation 3\n",
            "96 - SectionalMotif with avg smape 7.9: \n",
            "Model Number: 97 of 168 with model AverageValueNaive for Validation 3\n",
            "97 - AverageValueNaive with avg smape 13.58: \n",
            "Model Number: 98 of 168 with model SeasonalNaive for Validation 3\n",
            "98 - SeasonalNaive with avg smape 21.66: \n",
            "Model Number: 99 of 168 with model AverageValueNaive for Validation 3\n",
            "99 - AverageValueNaive with avg smape 13.58: \n",
            "Model Number: 100 of 168 with model AverageValueNaive for Validation 3\n",
            "100 - AverageValueNaive with avg smape 13.58: \n",
            "Model Number: 101 of 168 with model AverageValueNaive for Validation 3\n",
            "101 - AverageValueNaive with avg smape 13.58: \n",
            "Model Number: 102 of 168 with model AverageValueNaive for Validation 3\n",
            "102 - AverageValueNaive with avg smape 13.58: \n",
            "Model Number: 103 of 168 with model MultivariateRegression for Validation 3\n",
            "103 - MultivariateRegression with avg smape 17.55: \n",
            "Model Number: 104 of 168 with model AverageValueNaive for Validation 3\n",
            "104 - AverageValueNaive with avg smape 17.92: \n",
            "Model Number: 105 of 168 with model MultivariateRegression for Validation 3\n",
            "105 - MultivariateRegression with avg smape 4.96: \n",
            "Model Number: 106 of 168 with model SeasonalNaive for Validation 3\n",
            "106 - SeasonalNaive with avg smape 36.63: \n",
            "Model Number: 107 of 168 with model MultivariateRegression for Validation 3\n",
            "107 - MultivariateRegression with avg smape 21.14: \n",
            "Model Number: 108 of 168 with model SeasonalNaive for Validation 3\n",
            "108 - SeasonalNaive with avg smape 21.36: \n",
            "Model Number: 109 of 168 with model DatepartRegression for Validation 3\n",
            "Epoch 1/50\n",
            "5/5 [==============================] - 5s 17ms/step - loss: 0.4437\n",
            "Epoch 2/50\n",
            "5/5 [==============================] - 0s 16ms/step - loss: 0.2643\n",
            "Epoch 3/50\n",
            "5/5 [==============================] - 0s 20ms/step - loss: 0.2528\n",
            "Epoch 4/50\n",
            "5/5 [==============================] - 0s 15ms/step - loss: 0.2376\n",
            "Epoch 5/50\n",
            "5/5 [==============================] - 0s 20ms/step - loss: 0.2417\n",
            "Epoch 6/50\n",
            "5/5 [==============================] - 0s 17ms/step - loss: 0.2311\n",
            "Epoch 7/50\n",
            "5/5 [==============================] - 0s 18ms/step - loss: 0.2223\n",
            "Epoch 8/50\n",
            "5/5 [==============================] - 0s 18ms/step - loss: 0.2267\n",
            "Epoch 9/50\n",
            "5/5 [==============================] - 0s 16ms/step - loss: 0.2233\n",
            "Epoch 10/50\n",
            "5/5 [==============================] - 0s 18ms/step - loss: 0.2240\n",
            "Epoch 11/50\n",
            "5/5 [==============================] - 0s 15ms/step - loss: 0.2201\n",
            "Epoch 12/50\n",
            "5/5 [==============================] - 0s 19ms/step - loss: 0.2244\n",
            "Epoch 13/50\n",
            "5/5 [==============================] - 0s 15ms/step - loss: 0.2224\n",
            "Epoch 14/50\n",
            "5/5 [==============================] - 0s 19ms/step - loss: 0.2159\n",
            "Epoch 15/50\n",
            "5/5 [==============================] - 0s 15ms/step - loss: 0.2201\n",
            "Epoch 16/50\n",
            "5/5 [==============================] - 0s 19ms/step - loss: 0.2165\n",
            "Epoch 17/50\n",
            "5/5 [==============================] - 0s 12ms/step - loss: 0.2183\n",
            "Epoch 18/50\n",
            "5/5 [==============================] - 0s 18ms/step - loss: 0.2170\n",
            "Epoch 19/50\n",
            "5/5 [==============================] - 0s 18ms/step - loss: 0.2160\n",
            "Epoch 20/50\n",
            "5/5 [==============================] - 0s 12ms/step - loss: 0.2134\n",
            "Epoch 21/50\n",
            "5/5 [==============================] - 0s 19ms/step - loss: 0.2134\n",
            "Epoch 22/50\n",
            "5/5 [==============================] - 0s 11ms/step - loss: 0.2128\n",
            "Epoch 23/50\n",
            "5/5 [==============================] - 0s 11ms/step - loss: 0.2171\n",
            "Epoch 24/50\n",
            "5/5 [==============================] - 0s 12ms/step - loss: 0.2141\n",
            "Epoch 25/50\n",
            "5/5 [==============================] - 0s 15ms/step - loss: 0.2151\n",
            "Epoch 26/50\n",
            "5/5 [==============================] - 0s 16ms/step - loss: 0.2143\n",
            "Epoch 27/50\n",
            "5/5 [==============================] - 0s 14ms/step - loss: 0.2127\n",
            "Epoch 28/50\n",
            "5/5 [==============================] - 0s 14ms/step - loss: 0.2135\n",
            "Epoch 29/50\n",
            "5/5 [==============================] - 0s 16ms/step - loss: 0.2146\n",
            "Epoch 30/50\n",
            "5/5 [==============================] - 0s 19ms/step - loss: 0.2131\n",
            "Epoch 31/50\n",
            "5/5 [==============================] - 0s 16ms/step - loss: 0.2118\n",
            "Epoch 32/50\n",
            "5/5 [==============================] - 0s 19ms/step - loss: 0.2129\n",
            "Epoch 33/50\n",
            "5/5 [==============================] - 0s 16ms/step - loss: 0.2120\n",
            "Epoch 34/50\n",
            "5/5 [==============================] - 0s 18ms/step - loss: 0.2153\n",
            "Epoch 35/50\n",
            "5/5 [==============================] - 0s 18ms/step - loss: 0.2112\n",
            "Epoch 36/50\n",
            "5/5 [==============================] - 0s 17ms/step - loss: 0.2156\n",
            "Epoch 37/50\n",
            "5/5 [==============================] - 0s 18ms/step - loss: 0.2136\n",
            "Epoch 38/50\n",
            "5/5 [==============================] - 0s 14ms/step - loss: 0.2168\n",
            "Epoch 39/50\n",
            "5/5 [==============================] - 0s 15ms/step - loss: 0.2111\n",
            "Epoch 40/50\n",
            "5/5 [==============================] - 0s 17ms/step - loss: 0.2149\n",
            "Epoch 41/50\n",
            "5/5 [==============================] - 0s 18ms/step - loss: 0.2088\n",
            "Epoch 42/50\n",
            "5/5 [==============================] - 0s 16ms/step - loss: 0.2114\n",
            "Epoch 43/50\n",
            "5/5 [==============================] - 0s 19ms/step - loss: 0.2091\n",
            "Epoch 44/50\n",
            "5/5 [==============================] - 0s 18ms/step - loss: 0.2106\n",
            "Epoch 45/50\n",
            "5/5 [==============================] - 0s 15ms/step - loss: 0.2140\n",
            "Epoch 46/50\n",
            "5/5 [==============================] - 0s 17ms/step - loss: 0.2115\n",
            "Epoch 47/50\n",
            "5/5 [==============================] - 0s 18ms/step - loss: 0.2088\n",
            "Epoch 48/50\n",
            "5/5 [==============================] - 0s 16ms/step - loss: 0.2063\n",
            "Epoch 49/50\n",
            "5/5 [==============================] - 0s 17ms/step - loss: 0.2082\n",
            "Epoch 50/50\n",
            "5/5 [==============================] - 0s 19ms/step - loss: 0.2101\n",
            "109 - DatepartRegression with avg smape 13.69: \n",
            "Model Number: 110 of 168 with model MultivariateMotif for Validation 3\n",
            "110 - MultivariateMotif with avg smape 6.4: \n",
            "Model Number: 111 of 168 with model WindowRegression for Validation 3\n"
          ]
        },
        {
          "output_type": "stream",
          "name": "stderr",
          "text": [
            "/usr/local/lib/python3.7/dist-packages/sklearn/neural_network/_multilayer_perceptron.py:549: ConvergenceWarning: lbfgs failed to converge (status=1):\n",
            "STOP: TOTAL NO. of ITERATIONS REACHED LIMIT.\n",
            "\n",
            "Increase the number of iterations (max_iter) or scale the data as shown in:\n",
            "    https://scikit-learn.org/stable/modules/preprocessing.html\n",
            "  self.n_iter_ = _check_optimize_result(\"lbfgs\", opt_res, self.max_iter)\n"
          ]
        },
        {
          "output_type": "stream",
          "name": "stdout",
          "text": [
            "111 - WindowRegression with avg smape 9.06: \n",
            "Model Number: 112 of 168 with model WindowRegression for Validation 3\n",
            "112 - WindowRegression with avg smape 9.06: \n",
            "Model Number: 113 of 168 with model MultivariateMotif for Validation 3\n",
            "113 - MultivariateMotif with avg smape 21.9: \n",
            "Model Number: 114 of 168 with model MultivariateMotif for Validation 3\n"
          ]
        },
        {
          "output_type": "stream",
          "name": "stderr",
          "text": [
            "/usr/local/lib/python3.7/dist-packages/sklearn/neural_network/_multilayer_perceptron.py:549: ConvergenceWarning: lbfgs failed to converge (status=1):\n",
            "STOP: TOTAL NO. of ITERATIONS REACHED LIMIT.\n",
            "\n",
            "Increase the number of iterations (max_iter) or scale the data as shown in:\n",
            "    https://scikit-learn.org/stable/modules/preprocessing.html\n",
            "  self.n_iter_ = _check_optimize_result(\"lbfgs\", opt_res, self.max_iter)\n",
            "/usr/local/lib/python3.7/dist-packages/sklearn/svm/_base.py:1208: ConvergenceWarning: Liblinear failed to converge, increase the number of iterations.\n",
            "  ConvergenceWarning,\n"
          ]
        },
        {
          "output_type": "stream",
          "name": "stdout",
          "text": [
            "114 - MultivariateMotif with avg smape 7.7: \n",
            "Model Number: 115 of 168 with model DatepartRegression for Validation 3\n",
            "115 - DatepartRegression with avg smape 13.78: \n",
            "Model Number: 116 of 168 with model DatepartRegression for Validation 3\n",
            "116 - DatepartRegression with avg smape 13.78: \n",
            "Model Number: 117 of 168 with model DatepartRegression for Validation 3\n",
            "117 - DatepartRegression with avg smape 13.78: \n",
            "Model Number: 118 of 168 with model DatepartRegression for Validation 3\n",
            "118 - DatepartRegression with avg smape 13.78: \n",
            "Model Number: 119 of 168 with model ConstantNaive for Validation 3\n",
            "119 - ConstantNaive with avg smape 7.35: \n",
            "Model Number: 120 of 168 with model WindowRegression for Validation 3\n",
            "120 - WindowRegression with avg smape 27.12: \n",
            "Model Number: 121 of 168 with model GLS for Validation 3\n"
          ]
        },
        {
          "output_type": "stream",
          "name": "stderr",
          "text": [
            "/usr/local/lib/python3.7/dist-packages/sklearn/neural_network/_multilayer_perceptron.py:549: ConvergenceWarning: lbfgs failed to converge (status=1):\n",
            "STOP: TOTAL NO. of ITERATIONS REACHED LIMIT.\n",
            "\n",
            "Increase the number of iterations (max_iter) or scale the data as shown in:\n",
            "    https://scikit-learn.org/stable/modules/preprocessing.html\n",
            "  self.n_iter_ = _check_optimize_result(\"lbfgs\", opt_res, self.max_iter)\n"
          ]
        },
        {
          "output_type": "stream",
          "name": "stdout",
          "text": [
            "121 - GLS with avg smape 13.94: \n",
            "Model Number: 122 of 168 with model GLS for Validation 3\n",
            "122 - GLS with avg smape 13.94: \n",
            "Model Number: 123 of 168 with model GLS for Validation 3\n",
            "123 - GLS with avg smape 16.96: \n",
            "Model Number: 124 of 168 with model MultivariateMotif for Validation 3\n",
            "124 - MultivariateMotif with avg smape 20.95: \n",
            "Model Number: 125 of 168 with model SeasonalNaive for Validation 3\n",
            "125 - SeasonalNaive with avg smape 5.57: \n",
            "Model Number: 126 of 168 with model GLS for Validation 3\n",
            "126 - GLS with avg smape 15.79: \n",
            "Model Number: 127 of 168 with model SeasonalNaive for Validation 3\n",
            "127 - SeasonalNaive with avg smape 6.24: \n",
            "Model Number: 128 of 168 with model SeasonalNaive for Validation 3\n",
            "128 - SeasonalNaive with avg smape 6.24: \n",
            "Model Number: 129 of 168 with model UnivariateRegression for Validation 3\n",
            "129 - UnivariateRegression with avg smape 17.25: \n",
            "Model Number: 130 of 168 with model SeasonalNaive for Validation 3\n",
            "130 - SeasonalNaive with avg smape 6.47: \n",
            "Model Number: 131 of 168 with model SeasonalNaive for Validation 3\n",
            "131 - SeasonalNaive with avg smape 7.14: \n",
            "Model Number: 132 of 168 with model SeasonalNaive for Validation 3\n",
            "132 - SeasonalNaive with avg smape 17.54: \n",
            "Model Number: 133 of 168 with model UnivariateRegression for Validation 3\n",
            "133 - UnivariateRegression with avg smape 26.54: \n",
            "Model Number: 134 of 168 with model UnivariateRegression for Validation 3\n",
            "134 - UnivariateRegression with avg smape 4.5: \n",
            "Model Number: 135 of 168 with model ConstantNaive for Validation 3\n",
            "135 - ConstantNaive with avg smape 13.78: \n",
            "Model Number: 136 of 168 with model UnivariateRegression for Validation 3\n",
            "136 - UnivariateRegression with avg smape 8.17: \n",
            "Model Number: 137 of 168 with model ConstantNaive for Validation 3\n",
            "137 - ConstantNaive with avg smape 21.04: \n",
            "Model Number: 138 of 168 with model GLS for Validation 3\n",
            "138 - GLS with avg smape 20.91: \n",
            "Model Number: 139 of 168 with model WindowRegression for Validation 3\n"
          ]
        },
        {
          "output_type": "stream",
          "name": "stderr",
          "text": [
            "/usr/local/lib/python3.7/dist-packages/sklearn/neural_network/_multilayer_perceptron.py:549: ConvergenceWarning: lbfgs failed to converge (status=1):\n",
            "STOP: TOTAL NO. of ITERATIONS REACHED LIMIT.\n",
            "\n",
            "Increase the number of iterations (max_iter) or scale the data as shown in:\n",
            "    https://scikit-learn.org/stable/modules/preprocessing.html\n",
            "  self.n_iter_ = _check_optimize_result(\"lbfgs\", opt_res, self.max_iter)\n"
          ]
        },
        {
          "output_type": "stream",
          "name": "stdout",
          "text": [
            "139 - WindowRegression with avg smape 21.9: \n",
            "Model Number: 140 of 168 with model WindowRegression for Validation 3\n",
            "140 - WindowRegression with avg smape 21.9: \n",
            "Model Number: 141 of 168 with model UnivariateRegression for Validation 3\n",
            "141 - UnivariateRegression with avg smape 29.93: \n",
            "Model Number: 142 of 168 with model ConstantNaive for Validation 3\n"
          ]
        },
        {
          "output_type": "stream",
          "name": "stderr",
          "text": [
            "/usr/local/lib/python3.7/dist-packages/sklearn/neural_network/_multilayer_perceptron.py:549: ConvergenceWarning: lbfgs failed to converge (status=1):\n",
            "STOP: TOTAL NO. of ITERATIONS REACHED LIMIT.\n",
            "\n",
            "Increase the number of iterations (max_iter) or scale the data as shown in:\n",
            "    https://scikit-learn.org/stable/modules/preprocessing.html\n",
            "  self.n_iter_ = _check_optimize_result(\"lbfgs\", opt_res, self.max_iter)\n"
          ]
        },
        {
          "output_type": "stream",
          "name": "stdout",
          "text": [
            "142 - ConstantNaive with avg smape 21.9: \n",
            "Model Number: 143 of 168 with model ConstantNaive for Validation 3\n",
            "143 - ConstantNaive with avg smape 6.63: \n",
            "Model Number: 144 of 168 with model ConstantNaive for Validation 3\n",
            "144 - ConstantNaive with avg smape 6.63: \n",
            "Model Number: 145 of 168 with model GLS for Validation 3\n",
            "145 - GLS with avg smape 42.82: \n",
            "Model Number: 146 of 168 with model ConstantNaive for Validation 3\n",
            "146 - ConstantNaive with avg smape 13.41: \n",
            "Model Number: 147 of 168 with model WindowRegression for Validation 3\n",
            "147 - WindowRegression with avg smape 23.34: \n",
            "Model Number: 148 of 168 with model GLS for Validation 3\n",
            "148 - GLS with avg smape 19.68: \n",
            "Model Number: 149 of 168 with model WindowRegression for Validation 3\n",
            "149 - WindowRegression with avg smape 8.28: \n",
            "Model Number: 150 of 168 with model GLS for Validation 3\n",
            "150 - GLS with avg smape 18.94: \n",
            "Model Number: 151 of 168 with model UnivariateRegression for Validation 3\n",
            "151 - UnivariateRegression with avg smape 6.54: \n",
            "Model Number: 152 of 168 with model GLS for Validation 3\n",
            "152 - GLS with avg smape 6.78: \n",
            "Model Number: 153 of 168 with model ConstantNaive for Validation 3\n",
            "153 - ConstantNaive with avg smape 6.02: \n",
            "Model Number: 154 of 168 with model ConstantNaive for Validation 3\n",
            "154 - ConstantNaive with avg smape 6.02: \n",
            "Model Number: 155 of 168 with model DatepartRegression for Validation 3\n",
            "155 - DatepartRegression with avg smape 49.97: \n",
            "Model Number: 156 of 168 with model UnivariateRegression for Validation 3\n",
            "156 - UnivariateRegression with avg smape 13.17: \n",
            "Model Number: 157 of 168 with model UnivariateRegression for Validation 3\n",
            "157 - UnivariateRegression with avg smape 13.41: \n",
            "Model Number: 158 of 168 with model DatepartRegression for Validation 3\n",
            "158 - DatepartRegression with avg smape 3.9: \n",
            "Model Number: 159 of 168 with model UnivariateRegression for Validation 3\n",
            "159 - UnivariateRegression with avg smape 21.9: \n",
            "Model Number: 160 of 168 with model DatepartRegression for Validation 3\n"
          ]
        },
        {
          "output_type": "stream",
          "name": "stderr",
          "text": [
            "[Parallel(n_jobs=-2)]: Using backend SequentialBackend with 1 concurrent workers.\n",
            "[Parallel(n_jobs=-2)]: Done 100 out of 100 | elapsed:    0.1s finished\n",
            "[Parallel(n_jobs=1)]: Using backend SequentialBackend with 1 concurrent workers.\n",
            "[Parallel(n_jobs=1)]: Done 100 out of 100 | elapsed:    0.0s finished\n"
          ]
        },
        {
          "output_type": "stream",
          "name": "stdout",
          "text": [
            "160 - DatepartRegression with avg smape 6.15: \n",
            "Model Number: 161 of 168 with model DatepartRegression for Validation 3\n",
            "161 - DatepartRegression with avg smape 12.46: \n",
            "Model Number: 162 of 168 with model GLM for Validation 3\n",
            "162 - GLM with avg smape 55.59: \n",
            "Model Number: 163 of 168 with model GLM for Validation 3\n",
            "163 - GLM with avg smape 54.0: \n",
            "Model Number: 164 of 168 with model GLM for Validation 3\n",
            "164 - GLM with avg smape 53.94: \n",
            "Model Number: 165 of 168 with model GLM for Validation 3\n",
            "165 - GLM with avg smape 52.65: \n",
            "Model Number: 166 of 168 with model GLM for Validation 3\n",
            "166 - GLM with avg smape 54.2: \n",
            "Model Number: 167 of 168 with model GLM for Validation 3\n",
            "167 - GLM with avg smape 54.2: \n",
            "Model Number: 168 of 168 with model GLM for Validation 3\n",
            "168 - GLM with avg smape 62.59: \n"
          ]
        },
        {
          "output_type": "execute_result",
          "data": {
            "text/plain": [
              "Initiated AutoTS object with best model: \n",
              "UnivariateMotif\n",
              "{'fillna': 'pchip', 'transformations': {'0': 'ScipyFilter', '1': 'SinTrend'}, 'transformation_params': {'0': {'method': 'savgol_filter', 'method_args': [9, 1]}, '1': {}}}\n",
              "{'window': 10, 'point_method': 'midhinge', 'distance_metric': 'braycurtis', 'k': 10, 'max_windows': 10000}\n",
              "SMAPE: 4.896015666482629, 2.0038288156863615, 2.2993157723351, 7.3279195540626345\n",
              "MAE: 0.0037678372329789044, 0.0013791127456551922, 0.0015208690815044334, 0.004811696852720722\n",
              "SPL: 0.9791942408712173, 0.15554704799222527, 0.30437332052696736, 0.7803549850440401"
            ]
          },
          "metadata": {},
          "execution_count": 23
        }
      ]
    },
    {
      "cell_type": "code",
      "source": [
        "prediction = model.predict()\n",
        "forecast = prediction.forecast\n",
        "print(forecast)"
      ],
      "metadata": {
        "colab": {
          "base_uri": "https://localhost:8080/"
        },
        "id": "oyrfnWnVnIAR",
        "outputId": "f9da3b34-7d10-4572-d68a-e4b6e2e8b817"
      },
      "execution_count": 25,
      "outputs": [
        {
          "output_type": "stream",
          "name": "stdout",
          "text": [
            "               Close\n",
            "2022-08-20  0.077745\n",
            "2022-08-21  0.078690\n",
            "2022-08-22  0.079512\n",
            "2022-08-23  0.080570\n",
            "2022-08-24  0.081934\n",
            "2022-08-25  0.083117\n",
            "2022-08-26  0.084567\n",
            "2022-08-27  0.085656\n",
            "2022-08-28  0.086327\n",
            "2022-08-29  0.086650\n"
          ]
        }
      ]
    },
    {
      "cell_type": "code",
      "source": [
        ""
      ],
      "metadata": {
        "id": "TkxvK1Mtq1Xk"
      },
      "execution_count": null,
      "outputs": []
    }
  ]
}