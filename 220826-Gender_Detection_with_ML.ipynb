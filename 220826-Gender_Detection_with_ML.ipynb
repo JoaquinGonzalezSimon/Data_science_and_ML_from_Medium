{
 "cells": [
  {
   "cell_type": "markdown",
   "metadata": {},
   "source": [
    "### This project was taken from the following link and I use it to practice my skills\n",
    "\n",
    "https://thecleverprogrammer.com/2021/05/15/gender-detection-with-machine-learning/\n",
    "\n",
    "https://medium.com/coders-camp/180-data-science-and-machine-learning-projects-with-python-6191bc7b9db9"
   ]
  },
  {
   "cell_type": "code",
   "execution_count": 1,
   "metadata": {},
   "outputs": [],
   "source": [
    "import cv2\n",
    "import cvlib as cv\n",
    "import numpy as np\n",
    "import sys\n",
    "from numpy.lib.type_check import imag"
   ]
  },
  {
   "cell_type": "code",
   "execution_count": 3,
   "metadata": {},
   "outputs": [],
   "source": [
    "image = cv2.imread('Personal\\Data_science_and_ML_from_Medium\\Profile Pic_Larger.jpg')\n",
    "padding = 20"
   ]
  },
  {
   "cell_type": "code",
   "execution_count": 13,
   "metadata": {},
   "outputs": [],
   "source": [
    "face, confidence = cv.detect_face(image)\n",
    "\n",
    "for i in face:\n",
    "    (x,y) = max(0, i[0]-padding), max(0,i[1]-padding)\n",
    "    (x2,y2) = min(image.shape[1]-1, i[2]+padding), min(image.shape[0]-1, i[3]+padding)\n",
    "    cv2.rectangle(image, (x,y), (x2,y2), (0, 255, 0), 2)\n",
    "    crop=np.copy(image[y:y2, x:x2])\n",
    "    (label, confidence) = cv.detect_gender(crop)\n",
    "    idx = np.argmax(confidence)\n",
    "    label = label[idx]\n",
    "    label = '{}: {:.2f}%'.format(label, confidence[idx]*100)\n",
    "    Y = y-10 if y-10>10 else y+10\n",
    "    cv2.putText(image, label, (y,Y), cv2.FONT_HERSHEY_SIMPLEX, 0.7, (0,255,0),2)\n",
    "\n",
    "cv2.imshow('Gender Detection', image)\n",
    "cv2.waitKey()\n",
    "cv2.destroyAllWindows()\n"
   ]
  },
  {
   "cell_type": "code",
   "execution_count": 10,
   "metadata": {},
   "outputs": [],
   "source": [
    "def gender_detect(image):\n",
    "    face, confidence = cv.detect_face(image)\n",
    "\n",
    "    for i in face:\n",
    "        (x,y) = max(0, i[0]-padding), max(0,i[1]-padding)\n",
    "        (x2,y2) = min(image.shape[1]-1, i[2]+padding), min(image.shape[0]-1, i[3]+padding)\n",
    "        cv2.rectangle(image, (x,y), (x2,y2), (0, 255, 0), 2)\n",
    "        crop=np.copy(image[y:y2, x:x2])\n",
    "        (label, confidence) = cv.detect_gender(crop)\n",
    "        idx = np.argmax(confidence)\n",
    "        label = label[idx]\n",
    "        label = '{}: {:.2f}%'.format(label, confidence[idx]*100)\n",
    "        Y = y-10 if y-10>10 else y+10\n",
    "        cv2.putText(image, label, (y,Y), cv2.FONT_HERSHEY_SIMPLEX, 0.7, (0,255,0),2)\n",
    "\n",
    "    cv2.imshow('Gender Detection', image)\n",
    "    cv2.waitKey()\n",
    "    cv2.destroyAllWindows()"
   ]
  },
  {
   "cell_type": "code",
   "execution_count": 20,
   "metadata": {},
   "outputs": [],
   "source": [
    "girl = cv2.imread('Personal\\Data_science_and_ML_from_Medium\\IMG_7783.jpg')"
   ]
  },
  {
   "cell_type": "code",
   "execution_count": 21,
   "metadata": {},
   "outputs": [
    {
     "data": {
      "text/plain": [
       "numpy.ndarray"
      ]
     },
     "execution_count": 21,
     "metadata": {},
     "output_type": "execute_result"
    }
   ],
   "source": [
    "type(image)"
   ]
  },
  {
   "cell_type": "code",
   "execution_count": 22,
   "metadata": {},
   "outputs": [
    {
     "data": {
      "text/plain": [
       "numpy.ndarray"
      ]
     },
     "execution_count": 22,
     "metadata": {},
     "output_type": "execute_result"
    }
   ],
   "source": [
    "type(girl)"
   ]
  },
  {
   "cell_type": "code",
   "execution_count": 23,
   "metadata": {},
   "outputs": [],
   "source": [
    "gender_detect(girl)"
   ]
  },
  {
   "cell_type": "code",
   "execution_count": null,
   "metadata": {},
   "outputs": [],
   "source": []
  }
 ],
 "metadata": {
  "kernelspec": {
   "display_name": "Python 3.10.2 64-bit",
   "language": "python",
   "name": "python3"
  },
  "language_info": {
   "codemirror_mode": {
    "name": "ipython",
    "version": 3
   },
   "file_extension": ".py",
   "mimetype": "text/x-python",
   "name": "python",
   "nbconvert_exporter": "python",
   "pygments_lexer": "ipython3",
   "version": "3.10.2"
  },
  "orig_nbformat": 4,
  "vscode": {
   "interpreter": {
    "hash": "268d64074831433b6d8ce17017f514bcbe9d44c4886ac0d5c8ad68ab11c3a2ff"
   }
  }
 },
 "nbformat": 4,
 "nbformat_minor": 2
}
