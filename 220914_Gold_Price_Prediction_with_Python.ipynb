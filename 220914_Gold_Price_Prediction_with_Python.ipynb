{
  "nbformat": 4,
  "nbformat_minor": 0,
  "metadata": {
    "colab": {
      "provenance": [],
      "collapsed_sections": [],
      "authorship_tag": "ABX9TyPtWpCIUfrpUQpvxwahUbaP",
      "include_colab_link": true
    },
    "kernelspec": {
      "name": "python3",
      "display_name": "Python 3"
    },
    "language_info": {
      "name": "python"
    }
  },
  "cells": [
    {
      "cell_type": "markdown",
      "metadata": {
        "id": "view-in-github",
        "colab_type": "text"
      },
      "source": [
        "<a href=\"https://colab.research.google.com/github/JoaquinGonzalezSimon/Data_science_and_ML_from_Medium/blob/main/220914_Gold_Price_Prediction_with_Python.ipynb\" target=\"_parent\"><img src=\"https://colab.research.google.com/assets/colab-badge.svg\" alt=\"Open In Colab\"/></a>"
      ]
    },
    {
      "cell_type": "markdown",
      "source": [
        "### This project was taken from the following link and I use it to practice my skills\n",
        "\n",
        "https://thecleverprogrammer.com/2020/12/23/gold-price-prediction-with-python/\n",
        "\n",
        "https://medium.com/coders-camp/180-data-science-and-machine-learning-projects-with-python-6191bc7b9db9"
      ],
      "metadata": {
        "id": "Ltrbco9tnGNR"
      }
    },
    {
      "cell_type": "code",
      "execution_count": 1,
      "metadata": {
        "id": "3R98Qfq8nEuL"
      },
      "outputs": [],
      "source": [
        "from pandas.core.generic import InvalidIndexError\n",
        "import pandas as pd\n",
        "import numpy as np\n",
        "\n",
        "import matplotlib.pyplot as plt\n",
        "import seaborn as sns\n",
        "%matplotlib inline "
      ]
    },
    {
      "cell_type": "code",
      "source": [
        "data = pd.read_csv('https://raw.githubusercontent.com/amankharwal/Website-data/master/gold_price.csv')"
      ],
      "metadata": {
        "id": "MevhZF1collj"
      },
      "execution_count": 2,
      "outputs": []
    },
    {
      "cell_type": "code",
      "source": [
        "data.info()"
      ],
      "metadata": {
        "colab": {
          "base_uri": "https://localhost:8080/"
        },
        "id": "j-d76ECWpgec",
        "outputId": "191f97a8-5c29-463f-f0df-f036049218c8"
      },
      "execution_count": 3,
      "outputs": [
        {
          "output_type": "stream",
          "name": "stdout",
          "text": [
            "<class 'pandas.core.frame.DataFrame'>\n",
            "RangeIndex: 4718 entries, 0 to 4717\n",
            "Data columns (total 7 columns):\n",
            " #   Column     Non-Null Count  Dtype  \n",
            "---  ------     --------------  -----  \n",
            " 0   Date       4718 non-null   object \n",
            " 1   USD (AM)   4718 non-null   float64\n",
            " 2   USD (PM)   4682 non-null   float64\n",
            " 3   GBP (AM)   4718 non-null   float64\n",
            " 4   GBP (PM)   4682 non-null   float64\n",
            " 5   EURO (AM)  4718 non-null   float64\n",
            " 6   EURO (PM)  4682 non-null   float64\n",
            "dtypes: float64(6), object(1)\n",
            "memory usage: 258.1+ KB\n"
          ]
        }
      ]
    },
    {
      "cell_type": "code",
      "source": [
        "data.head()"
      ],
      "metadata": {
        "colab": {
          "base_uri": "https://localhost:8080/",
          "height": 206
        },
        "id": "yjjUysTJphLs",
        "outputId": "3d9b1d68-fd2d-4af7-adaa-5cfc7200c378"
      },
      "execution_count": 4,
      "outputs": [
        {
          "output_type": "execute_result",
          "data": {
            "text/plain": [
              "         Date  USD (AM)  USD (PM)  GBP (AM)  GBP (PM)  EURO (AM)  EURO (PM)\n",
              "0  2001-01-02    272.80    271.10   183.026   181.617    288.677    287.334\n",
              "1  2001-01-03    269.00    267.15   178.916   177.390    281.823    281.655\n",
              "2  2001-01-04    268.75    267.10   178.869   178.352    282.538    282.049\n",
              "3  2001-01-05    268.00    267.40   178.488   178.148    280.775    280.882\n",
              "4  2001-01-08    268.60    268.30   178.769   178.664    282.410    282.481"
            ],
            "text/html": [
              "\n",
              "  <div id=\"df-e0cbab6c-58f8-48d6-90b2-d1da55b8c7a4\">\n",
              "    <div class=\"colab-df-container\">\n",
              "      <div>\n",
              "<style scoped>\n",
              "    .dataframe tbody tr th:only-of-type {\n",
              "        vertical-align: middle;\n",
              "    }\n",
              "\n",
              "    .dataframe tbody tr th {\n",
              "        vertical-align: top;\n",
              "    }\n",
              "\n",
              "    .dataframe thead th {\n",
              "        text-align: right;\n",
              "    }\n",
              "</style>\n",
              "<table border=\"1\" class=\"dataframe\">\n",
              "  <thead>\n",
              "    <tr style=\"text-align: right;\">\n",
              "      <th></th>\n",
              "      <th>Date</th>\n",
              "      <th>USD (AM)</th>\n",
              "      <th>USD (PM)</th>\n",
              "      <th>GBP (AM)</th>\n",
              "      <th>GBP (PM)</th>\n",
              "      <th>EURO (AM)</th>\n",
              "      <th>EURO (PM)</th>\n",
              "    </tr>\n",
              "  </thead>\n",
              "  <tbody>\n",
              "    <tr>\n",
              "      <th>0</th>\n",
              "      <td>2001-01-02</td>\n",
              "      <td>272.80</td>\n",
              "      <td>271.10</td>\n",
              "      <td>183.026</td>\n",
              "      <td>181.617</td>\n",
              "      <td>288.677</td>\n",
              "      <td>287.334</td>\n",
              "    </tr>\n",
              "    <tr>\n",
              "      <th>1</th>\n",
              "      <td>2001-01-03</td>\n",
              "      <td>269.00</td>\n",
              "      <td>267.15</td>\n",
              "      <td>178.916</td>\n",
              "      <td>177.390</td>\n",
              "      <td>281.823</td>\n",
              "      <td>281.655</td>\n",
              "    </tr>\n",
              "    <tr>\n",
              "      <th>2</th>\n",
              "      <td>2001-01-04</td>\n",
              "      <td>268.75</td>\n",
              "      <td>267.10</td>\n",
              "      <td>178.869</td>\n",
              "      <td>178.352</td>\n",
              "      <td>282.538</td>\n",
              "      <td>282.049</td>\n",
              "    </tr>\n",
              "    <tr>\n",
              "      <th>3</th>\n",
              "      <td>2001-01-05</td>\n",
              "      <td>268.00</td>\n",
              "      <td>267.40</td>\n",
              "      <td>178.488</td>\n",
              "      <td>178.148</td>\n",
              "      <td>280.775</td>\n",
              "      <td>280.882</td>\n",
              "    </tr>\n",
              "    <tr>\n",
              "      <th>4</th>\n",
              "      <td>2001-01-08</td>\n",
              "      <td>268.60</td>\n",
              "      <td>268.30</td>\n",
              "      <td>178.769</td>\n",
              "      <td>178.664</td>\n",
              "      <td>282.410</td>\n",
              "      <td>282.481</td>\n",
              "    </tr>\n",
              "  </tbody>\n",
              "</table>\n",
              "</div>\n",
              "      <button class=\"colab-df-convert\" onclick=\"convertToInteractive('df-e0cbab6c-58f8-48d6-90b2-d1da55b8c7a4')\"\n",
              "              title=\"Convert this dataframe to an interactive table.\"\n",
              "              style=\"display:none;\">\n",
              "        \n",
              "  <svg xmlns=\"http://www.w3.org/2000/svg\" height=\"24px\"viewBox=\"0 0 24 24\"\n",
              "       width=\"24px\">\n",
              "    <path d=\"M0 0h24v24H0V0z\" fill=\"none\"/>\n",
              "    <path d=\"M18.56 5.44l.94 2.06.94-2.06 2.06-.94-2.06-.94-.94-2.06-.94 2.06-2.06.94zm-11 1L8.5 8.5l.94-2.06 2.06-.94-2.06-.94L8.5 2.5l-.94 2.06-2.06.94zm10 10l.94 2.06.94-2.06 2.06-.94-2.06-.94-.94-2.06-.94 2.06-2.06.94z\"/><path d=\"M17.41 7.96l-1.37-1.37c-.4-.4-.92-.59-1.43-.59-.52 0-1.04.2-1.43.59L10.3 9.45l-7.72 7.72c-.78.78-.78 2.05 0 2.83L4 21.41c.39.39.9.59 1.41.59.51 0 1.02-.2 1.41-.59l7.78-7.78 2.81-2.81c.8-.78.8-2.07 0-2.86zM5.41 20L4 18.59l7.72-7.72 1.47 1.35L5.41 20z\"/>\n",
              "  </svg>\n",
              "      </button>\n",
              "      \n",
              "  <style>\n",
              "    .colab-df-container {\n",
              "      display:flex;\n",
              "      flex-wrap:wrap;\n",
              "      gap: 12px;\n",
              "    }\n",
              "\n",
              "    .colab-df-convert {\n",
              "      background-color: #E8F0FE;\n",
              "      border: none;\n",
              "      border-radius: 50%;\n",
              "      cursor: pointer;\n",
              "      display: none;\n",
              "      fill: #1967D2;\n",
              "      height: 32px;\n",
              "      padding: 0 0 0 0;\n",
              "      width: 32px;\n",
              "    }\n",
              "\n",
              "    .colab-df-convert:hover {\n",
              "      background-color: #E2EBFA;\n",
              "      box-shadow: 0px 1px 2px rgba(60, 64, 67, 0.3), 0px 1px 3px 1px rgba(60, 64, 67, 0.15);\n",
              "      fill: #174EA6;\n",
              "    }\n",
              "\n",
              "    [theme=dark] .colab-df-convert {\n",
              "      background-color: #3B4455;\n",
              "      fill: #D2E3FC;\n",
              "    }\n",
              "\n",
              "    [theme=dark] .colab-df-convert:hover {\n",
              "      background-color: #434B5C;\n",
              "      box-shadow: 0px 1px 3px 1px rgba(0, 0, 0, 0.15);\n",
              "      filter: drop-shadow(0px 1px 2px rgba(0, 0, 0, 0.3));\n",
              "      fill: #FFFFFF;\n",
              "    }\n",
              "  </style>\n",
              "\n",
              "      <script>\n",
              "        const buttonEl =\n",
              "          document.querySelector('#df-e0cbab6c-58f8-48d6-90b2-d1da55b8c7a4 button.colab-df-convert');\n",
              "        buttonEl.style.display =\n",
              "          google.colab.kernel.accessAllowed ? 'block' : 'none';\n",
              "\n",
              "        async function convertToInteractive(key) {\n",
              "          const element = document.querySelector('#df-e0cbab6c-58f8-48d6-90b2-d1da55b8c7a4');\n",
              "          const dataTable =\n",
              "            await google.colab.kernel.invokeFunction('convertToInteractive',\n",
              "                                                     [key], {});\n",
              "          if (!dataTable) return;\n",
              "\n",
              "          const docLinkHtml = 'Like what you see? Visit the ' +\n",
              "            '<a target=\"_blank\" href=https://colab.research.google.com/notebooks/data_table.ipynb>data table notebook</a>'\n",
              "            + ' to learn more about interactive tables.';\n",
              "          element.innerHTML = '';\n",
              "          dataTable['output_type'] = 'display_data';\n",
              "          await google.colab.output.renderOutput(dataTable, element);\n",
              "          const docLink = document.createElement('div');\n",
              "          docLink.innerHTML = docLinkHtml;\n",
              "          element.appendChild(docLink);\n",
              "        }\n",
              "      </script>\n",
              "    </div>\n",
              "  </div>\n",
              "  "
            ]
          },
          "metadata": {},
          "execution_count": 4
        }
      ]
    },
    {
      "cell_type": "code",
      "source": [
        "df = pd.read_csv('https://raw.githubusercontent.com/amankharwal/Website-data/master/gold_price.csv', parse_dates=True, index_col='Date')"
      ],
      "metadata": {
        "id": "DZ1atK_2pkbE"
      },
      "execution_count": 5,
      "outputs": []
    },
    {
      "cell_type": "code",
      "source": [
        "df.head()"
      ],
      "metadata": {
        "colab": {
          "base_uri": "https://localhost:8080/",
          "height": 237
        },
        "id": "92exmAkHpSF8",
        "outputId": "3bc3db64-4e3d-420c-e63e-b47df623dc80"
      },
      "execution_count": 6,
      "outputs": [
        {
          "output_type": "execute_result",
          "data": {
            "text/plain": [
              "            USD (AM)  USD (PM)  GBP (AM)  GBP (PM)  EURO (AM)  EURO (PM)\n",
              "Date                                                                    \n",
              "2001-01-02    272.80    271.10   183.026   181.617    288.677    287.334\n",
              "2001-01-03    269.00    267.15   178.916   177.390    281.823    281.655\n",
              "2001-01-04    268.75    267.10   178.869   178.352    282.538    282.049\n",
              "2001-01-05    268.00    267.40   178.488   178.148    280.775    280.882\n",
              "2001-01-08    268.60    268.30   178.769   178.664    282.410    282.481"
            ],
            "text/html": [
              "\n",
              "  <div id=\"df-d3b94b85-cdb1-4bb8-990f-e2b38511b9b0\">\n",
              "    <div class=\"colab-df-container\">\n",
              "      <div>\n",
              "<style scoped>\n",
              "    .dataframe tbody tr th:only-of-type {\n",
              "        vertical-align: middle;\n",
              "    }\n",
              "\n",
              "    .dataframe tbody tr th {\n",
              "        vertical-align: top;\n",
              "    }\n",
              "\n",
              "    .dataframe thead th {\n",
              "        text-align: right;\n",
              "    }\n",
              "</style>\n",
              "<table border=\"1\" class=\"dataframe\">\n",
              "  <thead>\n",
              "    <tr style=\"text-align: right;\">\n",
              "      <th></th>\n",
              "      <th>USD (AM)</th>\n",
              "      <th>USD (PM)</th>\n",
              "      <th>GBP (AM)</th>\n",
              "      <th>GBP (PM)</th>\n",
              "      <th>EURO (AM)</th>\n",
              "      <th>EURO (PM)</th>\n",
              "    </tr>\n",
              "    <tr>\n",
              "      <th>Date</th>\n",
              "      <th></th>\n",
              "      <th></th>\n",
              "      <th></th>\n",
              "      <th></th>\n",
              "      <th></th>\n",
              "      <th></th>\n",
              "    </tr>\n",
              "  </thead>\n",
              "  <tbody>\n",
              "    <tr>\n",
              "      <th>2001-01-02</th>\n",
              "      <td>272.80</td>\n",
              "      <td>271.10</td>\n",
              "      <td>183.026</td>\n",
              "      <td>181.617</td>\n",
              "      <td>288.677</td>\n",
              "      <td>287.334</td>\n",
              "    </tr>\n",
              "    <tr>\n",
              "      <th>2001-01-03</th>\n",
              "      <td>269.00</td>\n",
              "      <td>267.15</td>\n",
              "      <td>178.916</td>\n",
              "      <td>177.390</td>\n",
              "      <td>281.823</td>\n",
              "      <td>281.655</td>\n",
              "    </tr>\n",
              "    <tr>\n",
              "      <th>2001-01-04</th>\n",
              "      <td>268.75</td>\n",
              "      <td>267.10</td>\n",
              "      <td>178.869</td>\n",
              "      <td>178.352</td>\n",
              "      <td>282.538</td>\n",
              "      <td>282.049</td>\n",
              "    </tr>\n",
              "    <tr>\n",
              "      <th>2001-01-05</th>\n",
              "      <td>268.00</td>\n",
              "      <td>267.40</td>\n",
              "      <td>178.488</td>\n",
              "      <td>178.148</td>\n",
              "      <td>280.775</td>\n",
              "      <td>280.882</td>\n",
              "    </tr>\n",
              "    <tr>\n",
              "      <th>2001-01-08</th>\n",
              "      <td>268.60</td>\n",
              "      <td>268.30</td>\n",
              "      <td>178.769</td>\n",
              "      <td>178.664</td>\n",
              "      <td>282.410</td>\n",
              "      <td>282.481</td>\n",
              "    </tr>\n",
              "  </tbody>\n",
              "</table>\n",
              "</div>\n",
              "      <button class=\"colab-df-convert\" onclick=\"convertToInteractive('df-d3b94b85-cdb1-4bb8-990f-e2b38511b9b0')\"\n",
              "              title=\"Convert this dataframe to an interactive table.\"\n",
              "              style=\"display:none;\">\n",
              "        \n",
              "  <svg xmlns=\"http://www.w3.org/2000/svg\" height=\"24px\"viewBox=\"0 0 24 24\"\n",
              "       width=\"24px\">\n",
              "    <path d=\"M0 0h24v24H0V0z\" fill=\"none\"/>\n",
              "    <path d=\"M18.56 5.44l.94 2.06.94-2.06 2.06-.94-2.06-.94-.94-2.06-.94 2.06-2.06.94zm-11 1L8.5 8.5l.94-2.06 2.06-.94-2.06-.94L8.5 2.5l-.94 2.06-2.06.94zm10 10l.94 2.06.94-2.06 2.06-.94-2.06-.94-.94-2.06-.94 2.06-2.06.94z\"/><path d=\"M17.41 7.96l-1.37-1.37c-.4-.4-.92-.59-1.43-.59-.52 0-1.04.2-1.43.59L10.3 9.45l-7.72 7.72c-.78.78-.78 2.05 0 2.83L4 21.41c.39.39.9.59 1.41.59.51 0 1.02-.2 1.41-.59l7.78-7.78 2.81-2.81c.8-.78.8-2.07 0-2.86zM5.41 20L4 18.59l7.72-7.72 1.47 1.35L5.41 20z\"/>\n",
              "  </svg>\n",
              "      </button>\n",
              "      \n",
              "  <style>\n",
              "    .colab-df-container {\n",
              "      display:flex;\n",
              "      flex-wrap:wrap;\n",
              "      gap: 12px;\n",
              "    }\n",
              "\n",
              "    .colab-df-convert {\n",
              "      background-color: #E8F0FE;\n",
              "      border: none;\n",
              "      border-radius: 50%;\n",
              "      cursor: pointer;\n",
              "      display: none;\n",
              "      fill: #1967D2;\n",
              "      height: 32px;\n",
              "      padding: 0 0 0 0;\n",
              "      width: 32px;\n",
              "    }\n",
              "\n",
              "    .colab-df-convert:hover {\n",
              "      background-color: #E2EBFA;\n",
              "      box-shadow: 0px 1px 2px rgba(60, 64, 67, 0.3), 0px 1px 3px 1px rgba(60, 64, 67, 0.15);\n",
              "      fill: #174EA6;\n",
              "    }\n",
              "\n",
              "    [theme=dark] .colab-df-convert {\n",
              "      background-color: #3B4455;\n",
              "      fill: #D2E3FC;\n",
              "    }\n",
              "\n",
              "    [theme=dark] .colab-df-convert:hover {\n",
              "      background-color: #434B5C;\n",
              "      box-shadow: 0px 1px 3px 1px rgba(0, 0, 0, 0.15);\n",
              "      filter: drop-shadow(0px 1px 2px rgba(0, 0, 0, 0.3));\n",
              "      fill: #FFFFFF;\n",
              "    }\n",
              "  </style>\n",
              "\n",
              "      <script>\n",
              "        const buttonEl =\n",
              "          document.querySelector('#df-d3b94b85-cdb1-4bb8-990f-e2b38511b9b0 button.colab-df-convert');\n",
              "        buttonEl.style.display =\n",
              "          google.colab.kernel.accessAllowed ? 'block' : 'none';\n",
              "\n",
              "        async function convertToInteractive(key) {\n",
              "          const element = document.querySelector('#df-d3b94b85-cdb1-4bb8-990f-e2b38511b9b0');\n",
              "          const dataTable =\n",
              "            await google.colab.kernel.invokeFunction('convertToInteractive',\n",
              "                                                     [key], {});\n",
              "          if (!dataTable) return;\n",
              "\n",
              "          const docLinkHtml = 'Like what you see? Visit the ' +\n",
              "            '<a target=\"_blank\" href=https://colab.research.google.com/notebooks/data_table.ipynb>data table notebook</a>'\n",
              "            + ' to learn more about interactive tables.';\n",
              "          element.innerHTML = '';\n",
              "          dataTable['output_type'] = 'display_data';\n",
              "          await google.colab.output.renderOutput(dataTable, element);\n",
              "          const docLink = document.createElement('div');\n",
              "          docLink.innerHTML = docLinkHtml;\n",
              "          element.appendChild(docLink);\n",
              "        }\n",
              "      </script>\n",
              "    </div>\n",
              "  </div>\n",
              "  "
            ]
          },
          "metadata": {},
          "execution_count": 6
        }
      ]
    },
    {
      "cell_type": "code",
      "source": [
        "df.info()"
      ],
      "metadata": {
        "colab": {
          "base_uri": "https://localhost:8080/"
        },
        "id": "G9SAczxUpTOz",
        "outputId": "c83c8226-535b-4b3b-fef9-2cef06eb52be"
      },
      "execution_count": 7,
      "outputs": [
        {
          "output_type": "stream",
          "name": "stdout",
          "text": [
            "<class 'pandas.core.frame.DataFrame'>\n",
            "DatetimeIndex: 4718 entries, 2001-01-02 to 2019-09-02\n",
            "Data columns (total 6 columns):\n",
            " #   Column     Non-Null Count  Dtype  \n",
            "---  ------     --------------  -----  \n",
            " 0   USD (AM)   4718 non-null   float64\n",
            " 1   USD (PM)   4682 non-null   float64\n",
            " 2   GBP (AM)   4718 non-null   float64\n",
            " 3   GBP (PM)   4682 non-null   float64\n",
            " 4   EURO (AM)  4718 non-null   float64\n",
            " 5   EURO (PM)  4682 non-null   float64\n",
            "dtypes: float64(6)\n",
            "memory usage: 258.0 KB\n"
          ]
        }
      ]
    },
    {
      "cell_type": "code",
      "source": [
        "df['Return'] = df['USD (PM)'].pct_change()*100"
      ],
      "metadata": {
        "id": "I2tvyWaUpVBo"
      },
      "execution_count": 8,
      "outputs": []
    },
    {
      "cell_type": "code",
      "source": [
        "df.head()"
      ],
      "metadata": {
        "colab": {
          "base_uri": "https://localhost:8080/",
          "height": 237
        },
        "id": "KLAiIVIjpsSn",
        "outputId": "0447ea88-cca0-476e-f0b5-24f2db941e3d"
      },
      "execution_count": 9,
      "outputs": [
        {
          "output_type": "execute_result",
          "data": {
            "text/plain": [
              "            USD (AM)  USD (PM)  GBP (AM)  GBP (PM)  EURO (AM)  EURO (PM)  \\\n",
              "Date                                                                       \n",
              "2001-01-02    272.80    271.10   183.026   181.617    288.677    287.334   \n",
              "2001-01-03    269.00    267.15   178.916   177.390    281.823    281.655   \n",
              "2001-01-04    268.75    267.10   178.869   178.352    282.538    282.049   \n",
              "2001-01-05    268.00    267.40   178.488   178.148    280.775    280.882   \n",
              "2001-01-08    268.60    268.30   178.769   178.664    282.410    282.481   \n",
              "\n",
              "              Return  \n",
              "Date                  \n",
              "2001-01-02       NaN  \n",
              "2001-01-03 -1.457027  \n",
              "2001-01-04 -0.018716  \n",
              "2001-01-05  0.112317  \n",
              "2001-01-08  0.336574  "
            ],
            "text/html": [
              "\n",
              "  <div id=\"df-5b9b8e4d-38ce-4758-86e2-bdbbc7e3481d\">\n",
              "    <div class=\"colab-df-container\">\n",
              "      <div>\n",
              "<style scoped>\n",
              "    .dataframe tbody tr th:only-of-type {\n",
              "        vertical-align: middle;\n",
              "    }\n",
              "\n",
              "    .dataframe tbody tr th {\n",
              "        vertical-align: top;\n",
              "    }\n",
              "\n",
              "    .dataframe thead th {\n",
              "        text-align: right;\n",
              "    }\n",
              "</style>\n",
              "<table border=\"1\" class=\"dataframe\">\n",
              "  <thead>\n",
              "    <tr style=\"text-align: right;\">\n",
              "      <th></th>\n",
              "      <th>USD (AM)</th>\n",
              "      <th>USD (PM)</th>\n",
              "      <th>GBP (AM)</th>\n",
              "      <th>GBP (PM)</th>\n",
              "      <th>EURO (AM)</th>\n",
              "      <th>EURO (PM)</th>\n",
              "      <th>Return</th>\n",
              "    </tr>\n",
              "    <tr>\n",
              "      <th>Date</th>\n",
              "      <th></th>\n",
              "      <th></th>\n",
              "      <th></th>\n",
              "      <th></th>\n",
              "      <th></th>\n",
              "      <th></th>\n",
              "      <th></th>\n",
              "    </tr>\n",
              "  </thead>\n",
              "  <tbody>\n",
              "    <tr>\n",
              "      <th>2001-01-02</th>\n",
              "      <td>272.80</td>\n",
              "      <td>271.10</td>\n",
              "      <td>183.026</td>\n",
              "      <td>181.617</td>\n",
              "      <td>288.677</td>\n",
              "      <td>287.334</td>\n",
              "      <td>NaN</td>\n",
              "    </tr>\n",
              "    <tr>\n",
              "      <th>2001-01-03</th>\n",
              "      <td>269.00</td>\n",
              "      <td>267.15</td>\n",
              "      <td>178.916</td>\n",
              "      <td>177.390</td>\n",
              "      <td>281.823</td>\n",
              "      <td>281.655</td>\n",
              "      <td>-1.457027</td>\n",
              "    </tr>\n",
              "    <tr>\n",
              "      <th>2001-01-04</th>\n",
              "      <td>268.75</td>\n",
              "      <td>267.10</td>\n",
              "      <td>178.869</td>\n",
              "      <td>178.352</td>\n",
              "      <td>282.538</td>\n",
              "      <td>282.049</td>\n",
              "      <td>-0.018716</td>\n",
              "    </tr>\n",
              "    <tr>\n",
              "      <th>2001-01-05</th>\n",
              "      <td>268.00</td>\n",
              "      <td>267.40</td>\n",
              "      <td>178.488</td>\n",
              "      <td>178.148</td>\n",
              "      <td>280.775</td>\n",
              "      <td>280.882</td>\n",
              "      <td>0.112317</td>\n",
              "    </tr>\n",
              "    <tr>\n",
              "      <th>2001-01-08</th>\n",
              "      <td>268.60</td>\n",
              "      <td>268.30</td>\n",
              "      <td>178.769</td>\n",
              "      <td>178.664</td>\n",
              "      <td>282.410</td>\n",
              "      <td>282.481</td>\n",
              "      <td>0.336574</td>\n",
              "    </tr>\n",
              "  </tbody>\n",
              "</table>\n",
              "</div>\n",
              "      <button class=\"colab-df-convert\" onclick=\"convertToInteractive('df-5b9b8e4d-38ce-4758-86e2-bdbbc7e3481d')\"\n",
              "              title=\"Convert this dataframe to an interactive table.\"\n",
              "              style=\"display:none;\">\n",
              "        \n",
              "  <svg xmlns=\"http://www.w3.org/2000/svg\" height=\"24px\"viewBox=\"0 0 24 24\"\n",
              "       width=\"24px\">\n",
              "    <path d=\"M0 0h24v24H0V0z\" fill=\"none\"/>\n",
              "    <path d=\"M18.56 5.44l.94 2.06.94-2.06 2.06-.94-2.06-.94-.94-2.06-.94 2.06-2.06.94zm-11 1L8.5 8.5l.94-2.06 2.06-.94-2.06-.94L8.5 2.5l-.94 2.06-2.06.94zm10 10l.94 2.06.94-2.06 2.06-.94-2.06-.94-.94-2.06-.94 2.06-2.06.94z\"/><path d=\"M17.41 7.96l-1.37-1.37c-.4-.4-.92-.59-1.43-.59-.52 0-1.04.2-1.43.59L10.3 9.45l-7.72 7.72c-.78.78-.78 2.05 0 2.83L4 21.41c.39.39.9.59 1.41.59.51 0 1.02-.2 1.41-.59l7.78-7.78 2.81-2.81c.8-.78.8-2.07 0-2.86zM5.41 20L4 18.59l7.72-7.72 1.47 1.35L5.41 20z\"/>\n",
              "  </svg>\n",
              "      </button>\n",
              "      \n",
              "  <style>\n",
              "    .colab-df-container {\n",
              "      display:flex;\n",
              "      flex-wrap:wrap;\n",
              "      gap: 12px;\n",
              "    }\n",
              "\n",
              "    .colab-df-convert {\n",
              "      background-color: #E8F0FE;\n",
              "      border: none;\n",
              "      border-radius: 50%;\n",
              "      cursor: pointer;\n",
              "      display: none;\n",
              "      fill: #1967D2;\n",
              "      height: 32px;\n",
              "      padding: 0 0 0 0;\n",
              "      width: 32px;\n",
              "    }\n",
              "\n",
              "    .colab-df-convert:hover {\n",
              "      background-color: #E2EBFA;\n",
              "      box-shadow: 0px 1px 2px rgba(60, 64, 67, 0.3), 0px 1px 3px 1px rgba(60, 64, 67, 0.15);\n",
              "      fill: #174EA6;\n",
              "    }\n",
              "\n",
              "    [theme=dark] .colab-df-convert {\n",
              "      background-color: #3B4455;\n",
              "      fill: #D2E3FC;\n",
              "    }\n",
              "\n",
              "    [theme=dark] .colab-df-convert:hover {\n",
              "      background-color: #434B5C;\n",
              "      box-shadow: 0px 1px 3px 1px rgba(0, 0, 0, 0.15);\n",
              "      filter: drop-shadow(0px 1px 2px rgba(0, 0, 0, 0.3));\n",
              "      fill: #FFFFFF;\n",
              "    }\n",
              "  </style>\n",
              "\n",
              "      <script>\n",
              "        const buttonEl =\n",
              "          document.querySelector('#df-5b9b8e4d-38ce-4758-86e2-bdbbc7e3481d button.colab-df-convert');\n",
              "        buttonEl.style.display =\n",
              "          google.colab.kernel.accessAllowed ? 'block' : 'none';\n",
              "\n",
              "        async function convertToInteractive(key) {\n",
              "          const element = document.querySelector('#df-5b9b8e4d-38ce-4758-86e2-bdbbc7e3481d');\n",
              "          const dataTable =\n",
              "            await google.colab.kernel.invokeFunction('convertToInteractive',\n",
              "                                                     [key], {});\n",
              "          if (!dataTable) return;\n",
              "\n",
              "          const docLinkHtml = 'Like what you see? Visit the ' +\n",
              "            '<a target=\"_blank\" href=https://colab.research.google.com/notebooks/data_table.ipynb>data table notebook</a>'\n",
              "            + ' to learn more about interactive tables.';\n",
              "          element.innerHTML = '';\n",
              "          dataTable['output_type'] = 'display_data';\n",
              "          await google.colab.output.renderOutput(dataTable, element);\n",
              "          const docLink = document.createElement('div');\n",
              "          docLink.innerHTML = docLinkHtml;\n",
              "          element.appendChild(docLink);\n",
              "        }\n",
              "      </script>\n",
              "    </div>\n",
              "  </div>\n",
              "  "
            ]
          },
          "metadata": {},
          "execution_count": 9
        }
      ]
    },
    {
      "cell_type": "code",
      "source": [
        "df['Lagged_Return'] = df['Return'].shift()"
      ],
      "metadata": {
        "id": "eONFSpXoptCe"
      },
      "execution_count": 10,
      "outputs": []
    },
    {
      "cell_type": "code",
      "source": [
        "df.isnull().sum()"
      ],
      "metadata": {
        "colab": {
          "base_uri": "https://localhost:8080/"
        },
        "id": "UZE5cHDJp2p-",
        "outputId": "173891c4-f21d-42d4-a873-ba0a02be668d"
      },
      "execution_count": 11,
      "outputs": [
        {
          "output_type": "execute_result",
          "data": {
            "text/plain": [
              "USD (AM)          0\n",
              "USD (PM)         36\n",
              "GBP (AM)          0\n",
              "GBP (PM)         36\n",
              "EURO (AM)         0\n",
              "EURO (PM)        36\n",
              "Return            1\n",
              "Lagged_Return     2\n",
              "dtype: int64"
            ]
          },
          "metadata": {},
          "execution_count": 11
        }
      ]
    },
    {
      "cell_type": "code",
      "source": [
        "df.dropna(inplace=True)"
      ],
      "metadata": {
        "id": "AUH_GgSFp6Lw"
      },
      "execution_count": 12,
      "outputs": []
    },
    {
      "cell_type": "code",
      "source": [
        "df.tail()"
      ],
      "metadata": {
        "colab": {
          "base_uri": "https://localhost:8080/",
          "height": 237
        },
        "id": "3knncZn3qK88",
        "outputId": "3813e445-7ce3-474c-c641-206322b1eadc"
      },
      "execution_count": 13,
      "outputs": [
        {
          "output_type": "execute_result",
          "data": {
            "text/plain": [
              "            USD (AM)  USD (PM)  GBP (AM)  GBP (PM)  EURO (AM)  EURO (PM)  \\\n",
              "Date                                                                       \n",
              "2019-08-27   1531.85   1532.95   1250.91   1247.51    1378.97    1380.88   \n",
              "2019-08-28   1541.75   1537.15   1263.31   1258.77    1389.89    1387.43   \n",
              "2019-08-29   1536.65   1540.20   1260.51   1262.96    1387.29    1392.03   \n",
              "2019-08-30   1526.55   1528.40   1253.14   1251.15    1382.75    1383.51   \n",
              "2019-09-02   1523.35   1525.95   1260.42   1265.01    1388.69    1391.51   \n",
              "\n",
              "              Return  Lagged_Return  \n",
              "Date                                 \n",
              "2019-08-27  1.938423       0.116507  \n",
              "2019-08-28  0.273982       1.938423  \n",
              "2019-08-29  0.198419       0.273982  \n",
              "2019-08-30 -0.766134       0.198419  \n",
              "2019-09-02 -0.160298      -0.766134  "
            ],
            "text/html": [
              "\n",
              "  <div id=\"df-054d7dcc-8bc1-4cd3-9862-e5994cea496e\">\n",
              "    <div class=\"colab-df-container\">\n",
              "      <div>\n",
              "<style scoped>\n",
              "    .dataframe tbody tr th:only-of-type {\n",
              "        vertical-align: middle;\n",
              "    }\n",
              "\n",
              "    .dataframe tbody tr th {\n",
              "        vertical-align: top;\n",
              "    }\n",
              "\n",
              "    .dataframe thead th {\n",
              "        text-align: right;\n",
              "    }\n",
              "</style>\n",
              "<table border=\"1\" class=\"dataframe\">\n",
              "  <thead>\n",
              "    <tr style=\"text-align: right;\">\n",
              "      <th></th>\n",
              "      <th>USD (AM)</th>\n",
              "      <th>USD (PM)</th>\n",
              "      <th>GBP (AM)</th>\n",
              "      <th>GBP (PM)</th>\n",
              "      <th>EURO (AM)</th>\n",
              "      <th>EURO (PM)</th>\n",
              "      <th>Return</th>\n",
              "      <th>Lagged_Return</th>\n",
              "    </tr>\n",
              "    <tr>\n",
              "      <th>Date</th>\n",
              "      <th></th>\n",
              "      <th></th>\n",
              "      <th></th>\n",
              "      <th></th>\n",
              "      <th></th>\n",
              "      <th></th>\n",
              "      <th></th>\n",
              "      <th></th>\n",
              "    </tr>\n",
              "  </thead>\n",
              "  <tbody>\n",
              "    <tr>\n",
              "      <th>2019-08-27</th>\n",
              "      <td>1531.85</td>\n",
              "      <td>1532.95</td>\n",
              "      <td>1250.91</td>\n",
              "      <td>1247.51</td>\n",
              "      <td>1378.97</td>\n",
              "      <td>1380.88</td>\n",
              "      <td>1.938423</td>\n",
              "      <td>0.116507</td>\n",
              "    </tr>\n",
              "    <tr>\n",
              "      <th>2019-08-28</th>\n",
              "      <td>1541.75</td>\n",
              "      <td>1537.15</td>\n",
              "      <td>1263.31</td>\n",
              "      <td>1258.77</td>\n",
              "      <td>1389.89</td>\n",
              "      <td>1387.43</td>\n",
              "      <td>0.273982</td>\n",
              "      <td>1.938423</td>\n",
              "    </tr>\n",
              "    <tr>\n",
              "      <th>2019-08-29</th>\n",
              "      <td>1536.65</td>\n",
              "      <td>1540.20</td>\n",
              "      <td>1260.51</td>\n",
              "      <td>1262.96</td>\n",
              "      <td>1387.29</td>\n",
              "      <td>1392.03</td>\n",
              "      <td>0.198419</td>\n",
              "      <td>0.273982</td>\n",
              "    </tr>\n",
              "    <tr>\n",
              "      <th>2019-08-30</th>\n",
              "      <td>1526.55</td>\n",
              "      <td>1528.40</td>\n",
              "      <td>1253.14</td>\n",
              "      <td>1251.15</td>\n",
              "      <td>1382.75</td>\n",
              "      <td>1383.51</td>\n",
              "      <td>-0.766134</td>\n",
              "      <td>0.198419</td>\n",
              "    </tr>\n",
              "    <tr>\n",
              "      <th>2019-09-02</th>\n",
              "      <td>1523.35</td>\n",
              "      <td>1525.95</td>\n",
              "      <td>1260.42</td>\n",
              "      <td>1265.01</td>\n",
              "      <td>1388.69</td>\n",
              "      <td>1391.51</td>\n",
              "      <td>-0.160298</td>\n",
              "      <td>-0.766134</td>\n",
              "    </tr>\n",
              "  </tbody>\n",
              "</table>\n",
              "</div>\n",
              "      <button class=\"colab-df-convert\" onclick=\"convertToInteractive('df-054d7dcc-8bc1-4cd3-9862-e5994cea496e')\"\n",
              "              title=\"Convert this dataframe to an interactive table.\"\n",
              "              style=\"display:none;\">\n",
              "        \n",
              "  <svg xmlns=\"http://www.w3.org/2000/svg\" height=\"24px\"viewBox=\"0 0 24 24\"\n",
              "       width=\"24px\">\n",
              "    <path d=\"M0 0h24v24H0V0z\" fill=\"none\"/>\n",
              "    <path d=\"M18.56 5.44l.94 2.06.94-2.06 2.06-.94-2.06-.94-.94-2.06-.94 2.06-2.06.94zm-11 1L8.5 8.5l.94-2.06 2.06-.94-2.06-.94L8.5 2.5l-.94 2.06-2.06.94zm10 10l.94 2.06.94-2.06 2.06-.94-2.06-.94-.94-2.06-.94 2.06-2.06.94z\"/><path d=\"M17.41 7.96l-1.37-1.37c-.4-.4-.92-.59-1.43-.59-.52 0-1.04.2-1.43.59L10.3 9.45l-7.72 7.72c-.78.78-.78 2.05 0 2.83L4 21.41c.39.39.9.59 1.41.59.51 0 1.02-.2 1.41-.59l7.78-7.78 2.81-2.81c.8-.78.8-2.07 0-2.86zM5.41 20L4 18.59l7.72-7.72 1.47 1.35L5.41 20z\"/>\n",
              "  </svg>\n",
              "      </button>\n",
              "      \n",
              "  <style>\n",
              "    .colab-df-container {\n",
              "      display:flex;\n",
              "      flex-wrap:wrap;\n",
              "      gap: 12px;\n",
              "    }\n",
              "\n",
              "    .colab-df-convert {\n",
              "      background-color: #E8F0FE;\n",
              "      border: none;\n",
              "      border-radius: 50%;\n",
              "      cursor: pointer;\n",
              "      display: none;\n",
              "      fill: #1967D2;\n",
              "      height: 32px;\n",
              "      padding: 0 0 0 0;\n",
              "      width: 32px;\n",
              "    }\n",
              "\n",
              "    .colab-df-convert:hover {\n",
              "      background-color: #E2EBFA;\n",
              "      box-shadow: 0px 1px 2px rgba(60, 64, 67, 0.3), 0px 1px 3px 1px rgba(60, 64, 67, 0.15);\n",
              "      fill: #174EA6;\n",
              "    }\n",
              "\n",
              "    [theme=dark] .colab-df-convert {\n",
              "      background-color: #3B4455;\n",
              "      fill: #D2E3FC;\n",
              "    }\n",
              "\n",
              "    [theme=dark] .colab-df-convert:hover {\n",
              "      background-color: #434B5C;\n",
              "      box-shadow: 0px 1px 3px 1px rgba(0, 0, 0, 0.15);\n",
              "      filter: drop-shadow(0px 1px 2px rgba(0, 0, 0, 0.3));\n",
              "      fill: #FFFFFF;\n",
              "    }\n",
              "  </style>\n",
              "\n",
              "      <script>\n",
              "        const buttonEl =\n",
              "          document.querySelector('#df-054d7dcc-8bc1-4cd3-9862-e5994cea496e button.colab-df-convert');\n",
              "        buttonEl.style.display =\n",
              "          google.colab.kernel.accessAllowed ? 'block' : 'none';\n",
              "\n",
              "        async function convertToInteractive(key) {\n",
              "          const element = document.querySelector('#df-054d7dcc-8bc1-4cd3-9862-e5994cea496e');\n",
              "          const dataTable =\n",
              "            await google.colab.kernel.invokeFunction('convertToInteractive',\n",
              "                                                     [key], {});\n",
              "          if (!dataTable) return;\n",
              "\n",
              "          const docLinkHtml = 'Like what you see? Visit the ' +\n",
              "            '<a target=\"_blank\" href=https://colab.research.google.com/notebooks/data_table.ipynb>data table notebook</a>'\n",
              "            + ' to learn more about interactive tables.';\n",
              "          element.innerHTML = '';\n",
              "          dataTable['output_type'] = 'display_data';\n",
              "          await google.colab.output.renderOutput(dataTable, element);\n",
              "          const docLink = document.createElement('div');\n",
              "          docLink.innerHTML = docLinkHtml;\n",
              "          element.appendChild(docLink);\n",
              "        }\n",
              "      </script>\n",
              "    </div>\n",
              "  </div>\n",
              "  "
            ]
          },
          "metadata": {},
          "execution_count": 13
        }
      ]
    },
    {
      "cell_type": "code",
      "source": [
        "train = df['2001': '2018']\n",
        "test = df['2019']"
      ],
      "metadata": {
        "colab": {
          "base_uri": "https://localhost:8080/"
        },
        "id": "_HbyA_uEp-IR",
        "outputId": "cd5d7645-fc2c-4a7e-c399-3ce983ad9c03"
      },
      "execution_count": 14,
      "outputs": [
        {
          "output_type": "stream",
          "name": "stderr",
          "text": [
            "/usr/local/lib/python3.7/dist-packages/ipykernel_launcher.py:2: FutureWarning: Indexing a DataFrame with a datetimelike index using a single string to slice the rows, like `frame[string]`, is deprecated and will be removed in a future version. Use `frame.loc[string]` instead.\n",
            "  \n"
          ]
        }
      ]
    },
    {
      "cell_type": "code",
      "source": [
        "xtrain = train['Lagged_Return'].to_frame()\n",
        "ytrain = train['Return']\n",
        "xtest = test['Lagged_Return'].to_frame()\n",
        "ytest = test['Return']"
      ],
      "metadata": {
        "id": "Z7XtN0CPqONl"
      },
      "execution_count": 15,
      "outputs": []
    },
    {
      "cell_type": "code",
      "source": [
        "from sklearn.linear_model import LinearRegression"
      ],
      "metadata": {
        "id": "OHCrddFMqdfD"
      },
      "execution_count": 16,
      "outputs": []
    },
    {
      "cell_type": "code",
      "source": [
        "model = LinearRegression()\n",
        "model.fit(xtrain, ytrain)"
      ],
      "metadata": {
        "colab": {
          "base_uri": "https://localhost:8080/"
        },
        "id": "MLNXzu47qj2Q",
        "outputId": "fb846d7f-353c-46b2-acde-09585aa25375"
      },
      "execution_count": 17,
      "outputs": [
        {
          "output_type": "execute_result",
          "data": {
            "text/plain": [
              "LinearRegression()"
            ]
          },
          "metadata": {},
          "execution_count": 17
        }
      ]
    },
    {
      "cell_type": "code",
      "source": [
        "ypred = model.predict(xtest)"
      ],
      "metadata": {
        "id": "a3aXJkm8qob_"
      },
      "execution_count": 18,
      "outputs": []
    },
    {
      "cell_type": "code",
      "source": [
        "oosr = ytest.to_frame()"
      ],
      "metadata": {
        "id": "Nbu7AUbyqsNa"
      },
      "execution_count": 19,
      "outputs": []
    },
    {
      "cell_type": "code",
      "source": [
        "oosr.head()"
      ],
      "metadata": {
        "colab": {
          "base_uri": "https://localhost:8080/",
          "height": 237
        },
        "id": "Q6KiJy-mq2nn",
        "outputId": "30f8e761-37b7-49f4-f1db-8525543f396e"
      },
      "execution_count": 20,
      "outputs": [
        {
          "output_type": "execute_result",
          "data": {
            "text/plain": [
              "              Return\n",
              "Date                \n",
              "2019-01-02  0.304926\n",
              "2019-01-03  0.588510\n",
              "2019-01-04 -0.817544\n",
              "2019-01-07  0.961013\n",
              "2019-01-08 -0.444978"
            ],
            "text/html": [
              "\n",
              "  <div id=\"df-5dbe3743-25d1-4705-9c2d-e2269a75d636\">\n",
              "    <div class=\"colab-df-container\">\n",
              "      <div>\n",
              "<style scoped>\n",
              "    .dataframe tbody tr th:only-of-type {\n",
              "        vertical-align: middle;\n",
              "    }\n",
              "\n",
              "    .dataframe tbody tr th {\n",
              "        vertical-align: top;\n",
              "    }\n",
              "\n",
              "    .dataframe thead th {\n",
              "        text-align: right;\n",
              "    }\n",
              "</style>\n",
              "<table border=\"1\" class=\"dataframe\">\n",
              "  <thead>\n",
              "    <tr style=\"text-align: right;\">\n",
              "      <th></th>\n",
              "      <th>Return</th>\n",
              "    </tr>\n",
              "    <tr>\n",
              "      <th>Date</th>\n",
              "      <th></th>\n",
              "    </tr>\n",
              "  </thead>\n",
              "  <tbody>\n",
              "    <tr>\n",
              "      <th>2019-01-02</th>\n",
              "      <td>0.304926</td>\n",
              "    </tr>\n",
              "    <tr>\n",
              "      <th>2019-01-03</th>\n",
              "      <td>0.588510</td>\n",
              "    </tr>\n",
              "    <tr>\n",
              "      <th>2019-01-04</th>\n",
              "      <td>-0.817544</td>\n",
              "    </tr>\n",
              "    <tr>\n",
              "      <th>2019-01-07</th>\n",
              "      <td>0.961013</td>\n",
              "    </tr>\n",
              "    <tr>\n",
              "      <th>2019-01-08</th>\n",
              "      <td>-0.444978</td>\n",
              "    </tr>\n",
              "  </tbody>\n",
              "</table>\n",
              "</div>\n",
              "      <button class=\"colab-df-convert\" onclick=\"convertToInteractive('df-5dbe3743-25d1-4705-9c2d-e2269a75d636')\"\n",
              "              title=\"Convert this dataframe to an interactive table.\"\n",
              "              style=\"display:none;\">\n",
              "        \n",
              "  <svg xmlns=\"http://www.w3.org/2000/svg\" height=\"24px\"viewBox=\"0 0 24 24\"\n",
              "       width=\"24px\">\n",
              "    <path d=\"M0 0h24v24H0V0z\" fill=\"none\"/>\n",
              "    <path d=\"M18.56 5.44l.94 2.06.94-2.06 2.06-.94-2.06-.94-.94-2.06-.94 2.06-2.06.94zm-11 1L8.5 8.5l.94-2.06 2.06-.94-2.06-.94L8.5 2.5l-.94 2.06-2.06.94zm10 10l.94 2.06.94-2.06 2.06-.94-2.06-.94-.94-2.06-.94 2.06-2.06.94z\"/><path d=\"M17.41 7.96l-1.37-1.37c-.4-.4-.92-.59-1.43-.59-.52 0-1.04.2-1.43.59L10.3 9.45l-7.72 7.72c-.78.78-.78 2.05 0 2.83L4 21.41c.39.39.9.59 1.41.59.51 0 1.02-.2 1.41-.59l7.78-7.78 2.81-2.81c.8-.78.8-2.07 0-2.86zM5.41 20L4 18.59l7.72-7.72 1.47 1.35L5.41 20z\"/>\n",
              "  </svg>\n",
              "      </button>\n",
              "      \n",
              "  <style>\n",
              "    .colab-df-container {\n",
              "      display:flex;\n",
              "      flex-wrap:wrap;\n",
              "      gap: 12px;\n",
              "    }\n",
              "\n",
              "    .colab-df-convert {\n",
              "      background-color: #E8F0FE;\n",
              "      border: none;\n",
              "      border-radius: 50%;\n",
              "      cursor: pointer;\n",
              "      display: none;\n",
              "      fill: #1967D2;\n",
              "      height: 32px;\n",
              "      padding: 0 0 0 0;\n",
              "      width: 32px;\n",
              "    }\n",
              "\n",
              "    .colab-df-convert:hover {\n",
              "      background-color: #E2EBFA;\n",
              "      box-shadow: 0px 1px 2px rgba(60, 64, 67, 0.3), 0px 1px 3px 1px rgba(60, 64, 67, 0.15);\n",
              "      fill: #174EA6;\n",
              "    }\n",
              "\n",
              "    [theme=dark] .colab-df-convert {\n",
              "      background-color: #3B4455;\n",
              "      fill: #D2E3FC;\n",
              "    }\n",
              "\n",
              "    [theme=dark] .colab-df-convert:hover {\n",
              "      background-color: #434B5C;\n",
              "      box-shadow: 0px 1px 3px 1px rgba(0, 0, 0, 0.15);\n",
              "      filter: drop-shadow(0px 1px 2px rgba(0, 0, 0, 0.3));\n",
              "      fill: #FFFFFF;\n",
              "    }\n",
              "  </style>\n",
              "\n",
              "      <script>\n",
              "        const buttonEl =\n",
              "          document.querySelector('#df-5dbe3743-25d1-4705-9c2d-e2269a75d636 button.colab-df-convert');\n",
              "        buttonEl.style.display =\n",
              "          google.colab.kernel.accessAllowed ? 'block' : 'none';\n",
              "\n",
              "        async function convertToInteractive(key) {\n",
              "          const element = document.querySelector('#df-5dbe3743-25d1-4705-9c2d-e2269a75d636');\n",
              "          const dataTable =\n",
              "            await google.colab.kernel.invokeFunction('convertToInteractive',\n",
              "                                                     [key], {});\n",
              "          if (!dataTable) return;\n",
              "\n",
              "          const docLinkHtml = 'Like what you see? Visit the ' +\n",
              "            '<a target=\"_blank\" href=https://colab.research.google.com/notebooks/data_table.ipynb>data table notebook</a>'\n",
              "            + ' to learn more about interactive tables.';\n",
              "          element.innerHTML = '';\n",
              "          dataTable['output_type'] = 'display_data';\n",
              "          await google.colab.output.renderOutput(dataTable, element);\n",
              "          const docLink = document.createElement('div');\n",
              "          docLink.innerHTML = docLinkHtml;\n",
              "          element.appendChild(docLink);\n",
              "        }\n",
              "      </script>\n",
              "    </div>\n",
              "  </div>\n",
              "  "
            ]
          },
          "metadata": {},
          "execution_count": 20
        }
      ]
    },
    {
      "cell_type": "code",
      "source": [
        "oosr['Out_of_sample_Prediction'] = model.predict(xtest)\n",
        "oosr.plot(subplots=True, title='Gold prices, USD')\n",
        "plt.show()"
      ],
      "metadata": {
        "colab": {
          "base_uri": "https://localhost:8080/",
          "height": 306
        },
        "id": "YNlnTN-7q3ge",
        "outputId": "9178e76b-2697-441e-f440-dd03d6d21fdd"
      },
      "execution_count": 21,
      "outputs": [
        {
          "output_type": "display_data",
          "data": {
            "text/plain": [
              "<Figure size 432x288 with 2 Axes>"
            ],
            "image/png": "[encoded data removed]"
          },
          "metadata": {
            "needs_background": "light"
          }
        }
      ]
    },
    {
      "cell_type": "code",
      "source": [],
      "metadata": {
        "id": "K9UNj3ZdrE-_"
      },
      "execution_count": null,
      "outputs": []
    }
  ]
}