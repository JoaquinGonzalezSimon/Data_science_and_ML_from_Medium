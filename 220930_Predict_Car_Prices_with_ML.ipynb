{
  "nbformat": 4,
  "nbformat_minor": 0,
  "metadata": {
    "colab": {
      "provenance": [],
      "collapsed_sections": [],
      "authorship_tag": "ABX9TyOor5lQTFdhH8z1R/qTaMd0",
      "include_colab_link": true
    },
    "kernelspec": {
      "name": "python3",
      "display_name": "Python 3"
    },
    "language_info": {
      "name": "python"
    }
  },
  "cells": [
    {
      "cell_type": "markdown",
      "metadata": {
        "id": "view-in-github",
        "colab_type": "text"
      },
      "source": [
        "<a href=\"https://colab.research.google.com/github/JoaquinGonzalezSimon/Data_science_and_ML_from_Medium/blob/main/220930_Predict_Car_Prices_with_ML.ipynb\" target=\"_parent\"><img src=\"https://colab.research.google.com/assets/colab-badge.svg\" alt=\"Open In Colab\"/></a>"
      ]
    },
    {
      "cell_type": "markdown",
      "source": [
        "### This project was taken from the following link and I use it to practice my skills\n",
        "\n",
        "https://thecleverprogrammer.com/2020/09/29/fake-currency-detection-with-machine-learning/\n",
        "\n",
        "https://medium.com/coders-camp/180-data-science-and-machine-learning-projects-with-python-6191bc7b9db9"
      ],
      "metadata": {
        "id": "rYJ1nf4rE9_3"
      }
    },
    {
      "cell_type": "code",
      "source": [
        "pip install jovian"
      ],
      "metadata": {
        "colab": {
          "base_uri": "https://localhost:8080/",
          "height": 450
        },
        "id": "mJtVDBGhFhUK",
        "outputId": "8bd62347-f929-41eb-da75-2fe90a184a6a"
      },
      "execution_count": 2,
      "outputs": [
        {
          "output_type": "stream",
          "name": "stdout",
          "text": [
            "Looking in indexes: https://pypi.org/simple, https://us-python.pkg.dev/colab-wheels/public/simple/\n",
            "Collecting jovian\n",
            "  Downloading jovian-0.2.41-py2.py3-none-any.whl (68 kB)\n",
            "\u001b[K     |████████████████████████████████| 68 kB 3.0 MB/s \n",
            "\u001b[?25hRequirement already satisfied: pyyaml in /usr/local/lib/python3.7/dist-packages (from jovian) (6.0)\n",
            "Collecting uuid\n",
            "  Downloading uuid-1.30.tar.gz (5.8 kB)\n",
            "Requirement already satisfied: requests in /usr/local/lib/python3.7/dist-packages (from jovian) (2.23.0)\n",
            "Requirement already satisfied: click in /usr/local/lib/python3.7/dist-packages (from jovian) (7.1.2)\n",
            "Requirement already satisfied: chardet<4,>=3.0.2 in /usr/local/lib/python3.7/dist-packages (from requests->jovian) (3.0.4)\n",
            "Requirement already satisfied: idna<3,>=2.5 in /usr/local/lib/python3.7/dist-packages (from requests->jovian) (2.10)\n",
            "Requirement already satisfied: certifi>=2017.4.17 in /usr/local/lib/python3.7/dist-packages (from requests->jovian) (2022.6.15)\n",
            "Requirement already satisfied: urllib3!=1.25.0,!=1.25.1,<1.26,>=1.21.1 in /usr/local/lib/python3.7/dist-packages (from requests->jovian) (1.24.3)\n",
            "Building wheels for collected packages: uuid\n",
            "  Building wheel for uuid (setup.py) ... \u001b[?25l\u001b[?25hdone\n",
            "  Created wheel for uuid: filename=uuid-1.30-py3-none-any.whl size=6503 sha256=a4e8712d7debf9eb0d930acce7e2d335282352ced6a2677596df3d39f4ea6259\n",
            "  Stored in directory: /root/.cache/pip/wheels/2a/ea/87/dd57f1ecb4f0752f3e1dbf958ebf8b36d920d190425bcdc24d\n",
            "Successfully built uuid\n",
            "Installing collected packages: uuid, jovian\n",
            "Successfully installed jovian-0.2.41 uuid-1.30\n"
          ]
        },
        {
          "output_type": "display_data",
          "data": {
            "application/vnd.colab-display-data+json": {
              "pip_warning": {
                "packages": [
                  "uuid"
                ]
              }
            }
          },
          "metadata": {}
        }
      ]
    },
    {
      "cell_type": "code",
      "execution_count": 3,
      "metadata": {
        "id": "szjLFW7dE82u"
      },
      "outputs": [],
      "source": [
        "import pandas as pd\n",
        "import numpy as np\n",
        "\n",
        "import matplotlib.pyplot as plt\n",
        "\n",
        "import torch\n",
        "import jovian\n",
        "import torch.nn as nn\n",
        "import torch.nn.functional as F\n",
        "from torch.utils.data import DataLoader, TensorDataset, random_split"
      ]
    },
    {
      "cell_type": "code",
      "source": [
        "data_raw = pd.read_csv('https://raw.githubusercontent.com/amankharwal/Website-data/master/car%20data.csv')"
      ],
      "metadata": {
        "id": "HIHRntmnFd05"
      },
      "execution_count": 32,
      "outputs": []
    },
    {
      "cell_type": "code",
      "source": [
        "data_raw.info()"
      ],
      "metadata": {
        "colab": {
          "base_uri": "https://localhost:8080/"
        },
        "id": "CYcKRVl5FtQM",
        "outputId": "0535c530-cfae-4e81-819c-41c5df62c330"
      },
      "execution_count": 33,
      "outputs": [
        {
          "output_type": "stream",
          "name": "stdout",
          "text": [
            "<class 'pandas.core.frame.DataFrame'>\n",
            "RangeIndex: 301 entries, 0 to 300\n",
            "Data columns (total 9 columns):\n",
            " #   Column         Non-Null Count  Dtype  \n",
            "---  ------         --------------  -----  \n",
            " 0   Car_Name       301 non-null    object \n",
            " 1   Year           301 non-null    int64  \n",
            " 2   Selling_Price  301 non-null    float64\n",
            " 3   Present_Price  301 non-null    float64\n",
            " 4   Kms_Driven     301 non-null    int64  \n",
            " 5   Fuel_Type      301 non-null    object \n",
            " 6   Seller_Type    301 non-null    object \n",
            " 7   Transmission   301 non-null    object \n",
            " 8   Owner          301 non-null    int64  \n",
            "dtypes: float64(2), int64(3), object(4)\n",
            "memory usage: 21.3+ KB\n"
          ]
        }
      ]
    },
    {
      "cell_type": "code",
      "source": [
        "data_raw.head()"
      ],
      "metadata": {
        "colab": {
          "base_uri": "https://localhost:8080/",
          "height": 206
        },
        "id": "dE5Ivu0eFv13",
        "outputId": "ea02ee17-4fc7-44d8-c208-8fc60bad443b"
      },
      "execution_count": 34,
      "outputs": [
        {
          "output_type": "execute_result",
          "data": {
            "text/plain": [
              "  Car_Name  Year  Selling_Price  Present_Price  Kms_Driven Fuel_Type  \\\n",
              "0     ritz  2014           3.35           5.59       27000    Petrol   \n",
              "1      sx4  2013           4.75           9.54       43000    Diesel   \n",
              "2     ciaz  2017           7.25           9.85        6900    Petrol   \n",
              "3  wagon r  2011           2.85           4.15        5200    Petrol   \n",
              "4    swift  2014           4.60           6.87       42450    Diesel   \n",
              "\n",
              "  Seller_Type Transmission  Owner  \n",
              "0      Dealer       Manual      0  \n",
              "1      Dealer       Manual      0  \n",
              "2      Dealer       Manual      0  \n",
              "3      Dealer       Manual      0  \n",
              "4      Dealer       Manual      0  "
            ],
            "text/html": [
              "\n",
              "  <div id=\"df-868a7c8b-5f52-49ee-8a1a-07aaf3cc2a71\">\n",
              "    <div class=\"colab-df-container\">\n",
              "      <div>\n",
              "<style scoped>\n",
              "    .dataframe tbody tr th:only-of-type {\n",
              "        vertical-align: middle;\n",
              "    }\n",
              "\n",
              "    .dataframe tbody tr th {\n",
              "        vertical-align: top;\n",
              "    }\n",
              "\n",
              "    .dataframe thead th {\n",
              "        text-align: right;\n",
              "    }\n",
              "</style>\n",
              "<table border=\"1\" class=\"dataframe\">\n",
              "  <thead>\n",
              "    <tr style=\"text-align: right;\">\n",
              "      <th></th>\n",
              "      <th>Car_Name</th>\n",
              "      <th>Year</th>\n",
              "      <th>Selling_Price</th>\n",
              "      <th>Present_Price</th>\n",
              "      <th>Kms_Driven</th>\n",
              "      <th>Fuel_Type</th>\n",
              "      <th>Seller_Type</th>\n",
              "      <th>Transmission</th>\n",
              "      <th>Owner</th>\n",
              "    </tr>\n",
              "  </thead>\n",
              "  <tbody>\n",
              "    <tr>\n",
              "      <th>0</th>\n",
              "      <td>ritz</td>\n",
              "      <td>2014</td>\n",
              "      <td>3.35</td>\n",
              "      <td>5.59</td>\n",
              "      <td>27000</td>\n",
              "      <td>Petrol</td>\n",
              "      <td>Dealer</td>\n",
              "      <td>Manual</td>\n",
              "      <td>0</td>\n",
              "    </tr>\n",
              "    <tr>\n",
              "      <th>1</th>\n",
              "      <td>sx4</td>\n",
              "      <td>2013</td>\n",
              "      <td>4.75</td>\n",
              "      <td>9.54</td>\n",
              "      <td>43000</td>\n",
              "      <td>Diesel</td>\n",
              "      <td>Dealer</td>\n",
              "      <td>Manual</td>\n",
              "      <td>0</td>\n",
              "    </tr>\n",
              "    <tr>\n",
              "      <th>2</th>\n",
              "      <td>ciaz</td>\n",
              "      <td>2017</td>\n",
              "      <td>7.25</td>\n",
              "      <td>9.85</td>\n",
              "      <td>6900</td>\n",
              "      <td>Petrol</td>\n",
              "      <td>Dealer</td>\n",
              "      <td>Manual</td>\n",
              "      <td>0</td>\n",
              "    </tr>\n",
              "    <tr>\n",
              "      <th>3</th>\n",
              "      <td>wagon r</td>\n",
              "      <td>2011</td>\n",
              "      <td>2.85</td>\n",
              "      <td>4.15</td>\n",
              "      <td>5200</td>\n",
              "      <td>Petrol</td>\n",
              "      <td>Dealer</td>\n",
              "      <td>Manual</td>\n",
              "      <td>0</td>\n",
              "    </tr>\n",
              "    <tr>\n",
              "      <th>4</th>\n",
              "      <td>swift</td>\n",
              "      <td>2014</td>\n",
              "      <td>4.60</td>\n",
              "      <td>6.87</td>\n",
              "      <td>42450</td>\n",
              "      <td>Diesel</td>\n",
              "      <td>Dealer</td>\n",
              "      <td>Manual</td>\n",
              "      <td>0</td>\n",
              "    </tr>\n",
              "  </tbody>\n",
              "</table>\n",
              "</div>\n",
              "      <button class=\"colab-df-convert\" onclick=\"convertToInteractive('df-868a7c8b-5f52-49ee-8a1a-07aaf3cc2a71')\"\n",
              "              title=\"Convert this dataframe to an interactive table.\"\n",
              "              style=\"display:none;\">\n",
              "        \n",
              "  <svg xmlns=\"http://www.w3.org/2000/svg\" height=\"24px\"viewBox=\"0 0 24 24\"\n",
              "       width=\"24px\">\n",
              "    <path d=\"M0 0h24v24H0V0z\" fill=\"none\"/>\n",
              "    <path d=\"M18.56 5.44l.94 2.06.94-2.06 2.06-.94-2.06-.94-.94-2.06-.94 2.06-2.06.94zm-11 1L8.5 8.5l.94-2.06 2.06-.94-2.06-.94L8.5 2.5l-.94 2.06-2.06.94zm10 10l.94 2.06.94-2.06 2.06-.94-2.06-.94-.94-2.06-.94 2.06-2.06.94z\"/><path d=\"M17.41 7.96l-1.37-1.37c-.4-.4-.92-.59-1.43-.59-.52 0-1.04.2-1.43.59L10.3 9.45l-7.72 7.72c-.78.78-.78 2.05 0 2.83L4 21.41c.39.39.9.59 1.41.59.51 0 1.02-.2 1.41-.59l7.78-7.78 2.81-2.81c.8-.78.8-2.07 0-2.86zM5.41 20L4 18.59l7.72-7.72 1.47 1.35L5.41 20z\"/>\n",
              "  </svg>\n",
              "      </button>\n",
              "      \n",
              "  <style>\n",
              "    .colab-df-container {\n",
              "      display:flex;\n",
              "      flex-wrap:wrap;\n",
              "      gap: 12px;\n",
              "    }\n",
              "\n",
              "    .colab-df-convert {\n",
              "      background-color: #E8F0FE;\n",
              "      border: none;\n",
              "      border-radius: 50%;\n",
              "      cursor: pointer;\n",
              "      display: none;\n",
              "      fill: #1967D2;\n",
              "      height: 32px;\n",
              "      padding: 0 0 0 0;\n",
              "      width: 32px;\n",
              "    }\n",
              "\n",
              "    .colab-df-convert:hover {\n",
              "      background-color: #E2EBFA;\n",
              "      box-shadow: 0px 1px 2px rgba(60, 64, 67, 0.3), 0px 1px 3px 1px rgba(60, 64, 67, 0.15);\n",
              "      fill: #174EA6;\n",
              "    }\n",
              "\n",
              "    [theme=dark] .colab-df-convert {\n",
              "      background-color: #3B4455;\n",
              "      fill: #D2E3FC;\n",
              "    }\n",
              "\n",
              "    [theme=dark] .colab-df-convert:hover {\n",
              "      background-color: #434B5C;\n",
              "      box-shadow: 0px 1px 3px 1px rgba(0, 0, 0, 0.15);\n",
              "      filter: drop-shadow(0px 1px 2px rgba(0, 0, 0, 0.3));\n",
              "      fill: #FFFFFF;\n",
              "    }\n",
              "  </style>\n",
              "\n",
              "      <script>\n",
              "        const buttonEl =\n",
              "          document.querySelector('#df-868a7c8b-5f52-49ee-8a1a-07aaf3cc2a71 button.colab-df-convert');\n",
              "        buttonEl.style.display =\n",
              "          google.colab.kernel.accessAllowed ? 'block' : 'none';\n",
              "\n",
              "        async function convertToInteractive(key) {\n",
              "          const element = document.querySelector('#df-868a7c8b-5f52-49ee-8a1a-07aaf3cc2a71');\n",
              "          const dataTable =\n",
              "            await google.colab.kernel.invokeFunction('convertToInteractive',\n",
              "                                                     [key], {});\n",
              "          if (!dataTable) return;\n",
              "\n",
              "          const docLinkHtml = 'Like what you see? Visit the ' +\n",
              "            '<a target=\"_blank\" href=https://colab.research.google.com/notebooks/data_table.ipynb>data table notebook</a>'\n",
              "            + ' to learn more about interactive tables.';\n",
              "          element.innerHTML = '';\n",
              "          dataTable['output_type'] = 'display_data';\n",
              "          await google.colab.output.renderOutput(dataTable, element);\n",
              "          const docLink = document.createElement('div');\n",
              "          docLink.innerHTML = docLinkHtml;\n",
              "          element.appendChild(docLink);\n",
              "        }\n",
              "      </script>\n",
              "    </div>\n",
              "  </div>\n",
              "  "
            ]
          },
          "metadata": {},
          "execution_count": 34
        }
      ]
    },
    {
      "cell_type": "code",
      "source": [
        "len(data_raw)"
      ],
      "metadata": {
        "colab": {
          "base_uri": "https://localhost:8080/"
        },
        "id": "y1a8m3ubGNF9",
        "outputId": "d29d8e09-b262-4782-93dc-8124ddcec160"
      },
      "execution_count": 35,
      "outputs": [
        {
          "output_type": "execute_result",
          "data": {
            "text/plain": [
              "301"
            ]
          },
          "metadata": {},
          "execution_count": 35
        }
      ]
    },
    {
      "cell_type": "code",
      "source": [
        "int(ord('Alejandro'[2]))"
      ],
      "metadata": {
        "colab": {
          "base_uri": "https://localhost:8080/"
        },
        "id": "slwqSTD3GV7w",
        "outputId": "0135a833-1554-4d94-8649-6d3688dbc3ad"
      },
      "execution_count": 36,
      "outputs": [
        {
          "output_type": "execute_result",
          "data": {
            "text/plain": [
              "101"
            ]
          },
          "metadata": {},
          "execution_count": 36
        }
      ]
    },
    {
      "cell_type": "code",
      "source": [
        "your_name = 'Aman Kharwal'\n",
        "def customize_dataset(dataframe_raw, rand_str):\n",
        "    data = dataframe_raw.copy()\n",
        "    data = data.sample(int(0.95*len(data)), random_state = int(ord(rand_str[0])))\n",
        "    data.Year = data.Year * ord(rand_str[1])/100\n",
        "    data.Selling_Price = data.Selling_Price * ord(rand_str[2])/100\n",
        "    data = data.drop(['Car_Name'], axis=1)\n",
        "    return data"
      ],
      "metadata": {
        "id": "-CnKWzimFy76"
      },
      "execution_count": 37,
      "outputs": []
    },
    {
      "cell_type": "code",
      "source": [
        "data = customize_dataset(data_raw, your_name)"
      ],
      "metadata": {
        "id": "4EKQk1A5G_vm"
      },
      "execution_count": 38,
      "outputs": []
    },
    {
      "cell_type": "code",
      "source": [
        "data.head()"
      ],
      "metadata": {
        "colab": {
          "base_uri": "https://localhost:8080/",
          "height": 206
        },
        "id": "Fj44ZvK_HD3t",
        "outputId": "15c460d0-adb5-4aee-f8ec-c0e55d44f08a"
      },
      "execution_count": 39,
      "outputs": [
        {
          "output_type": "execute_result",
          "data": {
            "text/plain": [
              "        Year  Selling_Price  Present_Price  Kms_Driven Fuel_Type Seller_Type  \\\n",
              "2    2198.53         7.0325           9.85        6900    Petrol      Dealer   \n",
              "128  2198.53         0.7760           0.87        3000    Petrol  Individual   \n",
              "286  2197.44         5.4805           7.90       28569    Petrol      Dealer   \n",
              "272  2196.35         7.2750          10.00       27600    Petrol      Dealer   \n",
              "205  2197.44         5.0925           5.70        3493    Petrol      Dealer   \n",
              "\n",
              "    Transmission  Owner  \n",
              "2         Manual      0  \n",
              "128       Manual      0  \n",
              "286       Manual      0  \n",
              "272       Manual      0  \n",
              "205       Manual      1  "
            ],
            "text/html": [
              "\n",
              "  <div id=\"df-8b03b987-774c-4066-9e8c-a6f78c6b4cdf\">\n",
              "    <div class=\"colab-df-container\">\n",
              "      <div>\n",
              "<style scoped>\n",
              "    .dataframe tbody tr th:only-of-type {\n",
              "        vertical-align: middle;\n",
              "    }\n",
              "\n",
              "    .dataframe tbody tr th {\n",
              "        vertical-align: top;\n",
              "    }\n",
              "\n",
              "    .dataframe thead th {\n",
              "        text-align: right;\n",
              "    }\n",
              "</style>\n",
              "<table border=\"1\" class=\"dataframe\">\n",
              "  <thead>\n",
              "    <tr style=\"text-align: right;\">\n",
              "      <th></th>\n",
              "      <th>Year</th>\n",
              "      <th>Selling_Price</th>\n",
              "      <th>Present_Price</th>\n",
              "      <th>Kms_Driven</th>\n",
              "      <th>Fuel_Type</th>\n",
              "      <th>Seller_Type</th>\n",
              "      <th>Transmission</th>\n",
              "      <th>Owner</th>\n",
              "    </tr>\n",
              "  </thead>\n",
              "  <tbody>\n",
              "    <tr>\n",
              "      <th>2</th>\n",
              "      <td>2198.53</td>\n",
              "      <td>7.0325</td>\n",
              "      <td>9.85</td>\n",
              "      <td>6900</td>\n",
              "      <td>Petrol</td>\n",
              "      <td>Dealer</td>\n",
              "      <td>Manual</td>\n",
              "      <td>0</td>\n",
              "    </tr>\n",
              "    <tr>\n",
              "      <th>128</th>\n",
              "      <td>2198.53</td>\n",
              "      <td>0.7760</td>\n",
              "      <td>0.87</td>\n",
              "      <td>3000</td>\n",
              "      <td>Petrol</td>\n",
              "      <td>Individual</td>\n",
              "      <td>Manual</td>\n",
              "      <td>0</td>\n",
              "    </tr>\n",
              "    <tr>\n",
              "      <th>286</th>\n",
              "      <td>2197.44</td>\n",
              "      <td>5.4805</td>\n",
              "      <td>7.90</td>\n",
              "      <td>28569</td>\n",
              "      <td>Petrol</td>\n",
              "      <td>Dealer</td>\n",
              "      <td>Manual</td>\n",
              "      <td>0</td>\n",
              "    </tr>\n",
              "    <tr>\n",
              "      <th>272</th>\n",
              "      <td>2196.35</td>\n",
              "      <td>7.2750</td>\n",
              "      <td>10.00</td>\n",
              "      <td>27600</td>\n",
              "      <td>Petrol</td>\n",
              "      <td>Dealer</td>\n",
              "      <td>Manual</td>\n",
              "      <td>0</td>\n",
              "    </tr>\n",
              "    <tr>\n",
              "      <th>205</th>\n",
              "      <td>2197.44</td>\n",
              "      <td>5.0925</td>\n",
              "      <td>5.70</td>\n",
              "      <td>3493</td>\n",
              "      <td>Petrol</td>\n",
              "      <td>Dealer</td>\n",
              "      <td>Manual</td>\n",
              "      <td>1</td>\n",
              "    </tr>\n",
              "  </tbody>\n",
              "</table>\n",
              "</div>\n",
              "      <button class=\"colab-df-convert\" onclick=\"convertToInteractive('df-8b03b987-774c-4066-9e8c-a6f78c6b4cdf')\"\n",
              "              title=\"Convert this dataframe to an interactive table.\"\n",
              "              style=\"display:none;\">\n",
              "        \n",
              "  <svg xmlns=\"http://www.w3.org/2000/svg\" height=\"24px\"viewBox=\"0 0 24 24\"\n",
              "       width=\"24px\">\n",
              "    <path d=\"M0 0h24v24H0V0z\" fill=\"none\"/>\n",
              "    <path d=\"M18.56 5.44l.94 2.06.94-2.06 2.06-.94-2.06-.94-.94-2.06-.94 2.06-2.06.94zm-11 1L8.5 8.5l.94-2.06 2.06-.94-2.06-.94L8.5 2.5l-.94 2.06-2.06.94zm10 10l.94 2.06.94-2.06 2.06-.94-2.06-.94-.94-2.06-.94 2.06-2.06.94z\"/><path d=\"M17.41 7.96l-1.37-1.37c-.4-.4-.92-.59-1.43-.59-.52 0-1.04.2-1.43.59L10.3 9.45l-7.72 7.72c-.78.78-.78 2.05 0 2.83L4 21.41c.39.39.9.59 1.41.59.51 0 1.02-.2 1.41-.59l7.78-7.78 2.81-2.81c.8-.78.8-2.07 0-2.86zM5.41 20L4 18.59l7.72-7.72 1.47 1.35L5.41 20z\"/>\n",
              "  </svg>\n",
              "      </button>\n",
              "      \n",
              "  <style>\n",
              "    .colab-df-container {\n",
              "      display:flex;\n",
              "      flex-wrap:wrap;\n",
              "      gap: 12px;\n",
              "    }\n",
              "\n",
              "    .colab-df-convert {\n",
              "      background-color: #E8F0FE;\n",
              "      border: none;\n",
              "      border-radius: 50%;\n",
              "      cursor: pointer;\n",
              "      display: none;\n",
              "      fill: #1967D2;\n",
              "      height: 32px;\n",
              "      padding: 0 0 0 0;\n",
              "      width: 32px;\n",
              "    }\n",
              "\n",
              "    .colab-df-convert:hover {\n",
              "      background-color: #E2EBFA;\n",
              "      box-shadow: 0px 1px 2px rgba(60, 64, 67, 0.3), 0px 1px 3px 1px rgba(60, 64, 67, 0.15);\n",
              "      fill: #174EA6;\n",
              "    }\n",
              "\n",
              "    [theme=dark] .colab-df-convert {\n",
              "      background-color: #3B4455;\n",
              "      fill: #D2E3FC;\n",
              "    }\n",
              "\n",
              "    [theme=dark] .colab-df-convert:hover {\n",
              "      background-color: #434B5C;\n",
              "      box-shadow: 0px 1px 3px 1px rgba(0, 0, 0, 0.15);\n",
              "      filter: drop-shadow(0px 1px 2px rgba(0, 0, 0, 0.3));\n",
              "      fill: #FFFFFF;\n",
              "    }\n",
              "  </style>\n",
              "\n",
              "      <script>\n",
              "        const buttonEl =\n",
              "          document.querySelector('#df-8b03b987-774c-4066-9e8c-a6f78c6b4cdf button.colab-df-convert');\n",
              "        buttonEl.style.display =\n",
              "          google.colab.kernel.accessAllowed ? 'block' : 'none';\n",
              "\n",
              "        async function convertToInteractive(key) {\n",
              "          const element = document.querySelector('#df-8b03b987-774c-4066-9e8c-a6f78c6b4cdf');\n",
              "          const dataTable =\n",
              "            await google.colab.kernel.invokeFunction('convertToInteractive',\n",
              "                                                     [key], {});\n",
              "          if (!dataTable) return;\n",
              "\n",
              "          const docLinkHtml = 'Like what you see? Visit the ' +\n",
              "            '<a target=\"_blank\" href=https://colab.research.google.com/notebooks/data_table.ipynb>data table notebook</a>'\n",
              "            + ' to learn more about interactive tables.';\n",
              "          element.innerHTML = '';\n",
              "          dataTable['output_type'] = 'display_data';\n",
              "          await google.colab.output.renderOutput(dataTable, element);\n",
              "          const docLink = document.createElement('div');\n",
              "          docLink.innerHTML = docLinkHtml;\n",
              "          element.appendChild(docLink);\n",
              "        }\n",
              "      </script>\n",
              "    </div>\n",
              "  </div>\n",
              "  "
            ]
          },
          "metadata": {},
          "execution_count": 39
        }
      ]
    },
    {
      "cell_type": "code",
      "source": [
        "data.info()"
      ],
      "metadata": {
        "colab": {
          "base_uri": "https://localhost:8080/"
        },
        "id": "VCtgKJ07ID_x",
        "outputId": "22bf25ee-0aeb-4850-bc32-7d474d49987c"
      },
      "execution_count": 46,
      "outputs": [
        {
          "output_type": "stream",
          "name": "stdout",
          "text": [
            "<class 'pandas.core.frame.DataFrame'>\n",
            "Int64Index: 285 entries, 2 to 147\n",
            "Data columns (total 8 columns):\n",
            " #   Column         Non-Null Count  Dtype  \n",
            "---  ------         --------------  -----  \n",
            " 0   Year           285 non-null    float64\n",
            " 1   Selling_Price  285 non-null    float64\n",
            " 2   Present_Price  285 non-null    float64\n",
            " 3   Kms_Driven     285 non-null    int64  \n",
            " 4   Fuel_Type      285 non-null    object \n",
            " 5   Seller_Type    285 non-null    object \n",
            " 6   Transmission   285 non-null    object \n",
            " 7   Owner          285 non-null    int64  \n",
            "dtypes: float64(3), int64(2), object(3)\n",
            "memory usage: 20.0+ KB\n"
          ]
        }
      ]
    },
    {
      "cell_type": "code",
      "source": [
        "data.Selling_Price"
      ],
      "metadata": {
        "colab": {
          "base_uri": "https://localhost:8080/"
        },
        "id": "WKdDNuKQKrif",
        "outputId": "60089807-78c3-4217-d923-43121145c05e"
      },
      "execution_count": 61,
      "outputs": [
        {
          "output_type": "execute_result",
          "data": {
            "text/plain": [
              "2       7.0325\n",
              "128     0.7760\n",
              "286     5.4805\n",
              "272     7.2750\n",
              "205     5.0925\n",
              "        ...   \n",
              "15      7.5175\n",
              "98      6.8385\n",
              "64     32.0100\n",
              "196     0.1649\n",
              "147     0.5335\n",
              "Name: Selling_Price, Length: 285, dtype: float64"
            ]
          },
          "metadata": {},
          "execution_count": 61
        }
      ]
    },
    {
      "cell_type": "code",
      "source": [
        "input_cols = data._get_numeric_data().drop('Selling_Price', axis=1).columns.to_list()\n",
        "cat_cols = data.select_dtypes('object').columns.to_list()\n",
        "output_col = ['Selling_Price']"
      ],
      "metadata": {
        "id": "iaG_-UlvIWLS"
      },
      "execution_count": 62,
      "outputs": []
    },
    {
      "cell_type": "code",
      "source": [
        "def dataframe_to_arrays(dataframe):\n",
        "    dataframe1 = dataframe.copy(deep=True)\n",
        "    for col in cat_cols:\n",
        "      dataframe1[col] = dataframe1[col].astype('category').cat.codes\n",
        "    inputs_array = dataframe1[input_cols].to_numpy()\n",
        "    targets_array = dataframe1[output_col].to_numpy()\n",
        "    return inputs_array, targets_array"
      ],
      "metadata": {
        "id": "I6LnCnmQLBTX"
      },
      "execution_count": 63,
      "outputs": []
    },
    {
      "cell_type": "code",
      "source": [
        "inputs_array, targets_array = dataframe_to_arrays(data)"
      ],
      "metadata": {
        "id": "gRJ0aXXtLkt6"
      },
      "execution_count": 64,
      "outputs": []
    },
    {
      "cell_type": "code",
      "source": [
        "inputs_array"
      ],
      "metadata": {
        "colab": {
          "base_uri": "https://localhost:8080/"
        },
        "id": "FEUAK54qLqv3",
        "outputId": "8c346118-9b3f-40b4-b2aa-6e6900d3c75f"
      },
      "execution_count": 65,
      "outputs": [
        {
          "output_type": "execute_result",
          "data": {
            "text/plain": [
              "array([[2.19853e+03, 9.85000e+00, 6.90000e+03, 0.00000e+00],\n",
              "       [2.19853e+03, 8.70000e-01, 3.00000e+03, 0.00000e+00],\n",
              "       [2.19744e+03, 7.90000e+00, 2.85690e+04, 0.00000e+00],\n",
              "       ...,\n",
              "       [2.19853e+03, 3.62300e+01, 6.00000e+03, 0.00000e+00],\n",
              "       [2.18872e+03, 5.20000e-01, 5.00000e+05, 0.00000e+00],\n",
              "       [2.19635e+03, 8.40000e-01, 5.80000e+04, 0.00000e+00]])"
            ]
          },
          "metadata": {},
          "execution_count": 65
        }
      ]
    },
    {
      "cell_type": "code",
      "source": [
        "targets_array"
      ],
      "metadata": {
        "colab": {
          "base_uri": "https://localhost:8080/"
        },
        "id": "Sp4nqh2ELtOy",
        "outputId": "39cf1d9a-9553-4785-cdaa-e86c851677d4"
      },
      "execution_count": 66,
      "outputs": [
        {
          "output_type": "execute_result",
          "data": {
            "text/plain": [
              "array([[ 7.0325],\n",
              "       [ 0.776 ],\n",
              "       [ 5.4805],\n",
              "       [ 7.275 ],\n",
              "       [ 5.0925],\n",
              "       [ 0.4656],\n",
              "       [ 2.7645],\n",
              "       [ 0.3395],\n",
              "       [ 1.6975],\n",
              "       [ 4.8015],\n",
              "       [ 8.9725],\n",
              "       [ 5.141 ],\n",
              "       [ 3.783 ],\n",
              "       [ 8.827 ],\n",
              "       [ 4.268 ],\n",
              "       [ 3.3853],\n",
              "       [19.1575],\n",
              "       [ 7.0325],\n",
              "       [10.9125],\n",
              "       [12.513 ],\n",
              "       [14.2881],\n",
              "       [ 4.753 ],\n",
              "       [ 5.0925],\n",
              "       [ 3.1525],\n",
              "       [ 7.2265],\n",
              "       [ 0.5335],\n",
              "       [ 2.813 ],\n",
              "       [ 0.3007],\n",
              "       [ 0.2619],\n",
              "       [ 7.178 ],\n",
              "       [ 0.582 ],\n",
              "       [ 5.9655],\n",
              "       [ 2.7645],\n",
              "       [ 8.148 ],\n",
              "       [ 0.485 ],\n",
              "       [ 7.275 ],\n",
              "       [ 0.9215],\n",
              "       [ 5.7715],\n",
              "       [ 4.365 ],\n",
              "       [ 0.485 ],\n",
              "       [ 4.365 ],\n",
              "       [ 2.91  ],\n",
              "       [ 0.4365],\n",
              "       [ 0.291 ],\n",
              "       [ 4.6075],\n",
              "       [ 0.2425],\n",
              "       [ 0.4074],\n",
              "       [ 3.977 ],\n",
              "       [ 4.365 ],\n",
              "       [ 0.4365],\n",
              "       [ 0.4656],\n",
              "       [ 1.0185],\n",
              "       [ 2.813 ],\n",
              "       [19.3903],\n",
              "       [ 0.4365],\n",
              "       [ 0.5044],\n",
              "       [ 3.686 ],\n",
              "       [ 5.335 ],\n",
              "       [ 1.164 ],\n",
              "       [ 0.097 ],\n",
              "       [ 4.753 ],\n",
              "       [ 0.1164],\n",
              "       [ 5.917 ],\n",
              "       [ 8.2935],\n",
              "       [ 0.388 ],\n",
              "       [ 0.194 ],\n",
              "       [ 0.388 ],\n",
              "       [ 5.0925],\n",
              "       [ 8.7203],\n",
              "       [ 6.5475],\n",
              "       [ 2.4735],\n",
              "       [ 6.305 ],\n",
              "       [ 0.485 ],\n",
              "       [ 0.1552],\n",
              "       [ 0.7275],\n",
              "       [ 0.388 ],\n",
              "       [ 4.656 ],\n",
              "       [ 1.164 ],\n",
              "       [ 4.656 ],\n",
              "       [ 3.6375],\n",
              "       [ 8.9725],\n",
              "       [ 5.723 ],\n",
              "       [ 2.425 ],\n",
              "       [ 4.7045],\n",
              "       [ 0.4947],\n",
              "       [ 1.3095],\n",
              "       [ 1.2125],\n",
              "       [ 5.335 ],\n",
              "       [ 2.2795],\n",
              "       [11.3975],\n",
              "       [ 8.3905],\n",
              "       [ 0.1455],\n",
              "       [ 0.485 ],\n",
              "       [ 9.9425],\n",
              "       [ 2.1825],\n",
              "       [ 3.88  ],\n",
              "       [ 3.88  ],\n",
              "       [12.125 ],\n",
              "       [ 3.4047],\n",
              "       [ 4.6075],\n",
              "       [ 0.3686],\n",
              "       [ 0.2425],\n",
              "       [ 8.4875],\n",
              "       [10.573 ],\n",
              "       [ 7.2265],\n",
              "       [ 0.582 ],\n",
              "       [ 0.582 ],\n",
              "       [ 0.6305],\n",
              "       [ 0.194 ],\n",
              "       [ 1.0185],\n",
              "       [ 7.275 ],\n",
              "       [ 1.3095],\n",
              "       [ 0.194 ],\n",
              "       [ 1.4065],\n",
              "       [ 4.2195],\n",
              "       [ 2.619 ],\n",
              "       [ 9.3605],\n",
              "       [ 3.3465],\n",
              "       [ 4.365 ],\n",
              "       [ 5.335 ],\n",
              "       [ 3.395 ],\n",
              "       [ 0.194 ],\n",
              "       [ 3.8315],\n",
              "       [ 1.1155],\n",
              "       [ 4.365 ],\n",
              "       [ 0.582 ],\n",
              "       [ 0.291 ],\n",
              "       [ 3.977 ],\n",
              "       [ 1.1155],\n",
              "       [17.46  ],\n",
              "       [ 0.873 ],\n",
              "       [ 5.82  ],\n",
              "       [ 2.5705],\n",
              "       [ 4.268 ],\n",
              "       [ 4.365 ],\n",
              "       [ 0.4365],\n",
              "       [ 6.984 ],\n",
              "       [ 0.4365],\n",
              "       [ 8.0025],\n",
              "       [ 3.5405],\n",
              "       [ 2.91  ],\n",
              "       [ 2.1825],\n",
              "       [ 2.1825],\n",
              "       [ 0.4656],\n",
              "       [ 9.409 ],\n",
              "       [ 1.0767],\n",
              "       [ 3.0555],\n",
              "       [ 7.5175],\n",
              "       [ 8.9725],\n",
              "       [ 5.5775],\n",
              "       [ 9.8067],\n",
              "       [ 0.6305],\n",
              "       [ 4.462 ],\n",
              "       [ 6.402 ],\n",
              "       [ 2.5705],\n",
              "       [ 3.8315],\n",
              "       [ 4.6075],\n",
              "       [ 4.9567],\n",
              "       [ 2.6675],\n",
              "       [ 0.7275],\n",
              "       [ 8.8755],\n",
              "       [ 6.7415],\n",
              "       [ 3.1525],\n",
              "       [ 1.3095],\n",
              "       [ 4.6075],\n",
              "       [ 6.6445],\n",
              "       [ 0.1746],\n",
              "       [22.31  ],\n",
              "       [ 0.3395],\n",
              "       [ 1.8915],\n",
              "       [ 3.007 ],\n",
              "       [ 0.4074],\n",
              "       [ 6.0625],\n",
              "       [ 0.7275],\n",
              "       [ 5.238 ],\n",
              "       [ 1.1155],\n",
              "       [ 7.2265],\n",
              "       [18.1875],\n",
              "       [ 7.5175],\n",
              "       [15.52  ],\n",
              "       [ 8.148 ],\n",
              "       [ 5.82  ],\n",
              "       [ 5.335 ],\n",
              "       [ 5.0925],\n",
              "       [ 1.0185],\n",
              "       [ 0.582 ],\n",
              "       [ 2.91  ],\n",
              "       [ 5.1895],\n",
              "       [ 2.8615],\n",
              "       [ 1.067 ],\n",
              "       [ 3.88  ],\n",
              "       [ 0.6984],\n",
              "       [ 0.4656],\n",
              "       [13.8225],\n",
              "       [ 0.6305],\n",
              "       [ 0.388 ],\n",
              "       [ 4.85  ],\n",
              "       [ 3.783 ],\n",
              "       [ 5.141 ],\n",
              "       [ 1.0185],\n",
              "       [ 2.7645],\n",
              "       [ 6.499 ],\n",
              "       [ 4.6075],\n",
              "       [ 2.037 ],\n",
              "       [14.065 ],\n",
              "       [ 3.007 ],\n",
              "       [ 6.2565],\n",
              "       [ 3.395 ],\n",
              "       [ 5.82  ],\n",
              "       [ 0.582 ],\n",
              "       [ 3.492 ],\n",
              "       [ 2.8615],\n",
              "       [ 0.485 ],\n",
              "       [ 8.0995],\n",
              "       [ 4.268 ],\n",
              "       [ 4.5105],\n",
              "       [ 5.0925],\n",
              "       [ 0.291 ],\n",
              "       [ 0.3395],\n",
              "       [ 5.5775],\n",
              "       [ 2.4735],\n",
              "       [ 0.2425],\n",
              "       [ 7.663 ],\n",
              "       [ 1.6005],\n",
              "       [ 1.1155],\n",
              "       [ 5.335 ],\n",
              "       [ 0.4365],\n",
              "       [ 0.7566],\n",
              "       [ 5.82  ],\n",
              "       [ 6.0625],\n",
              "       [10.9125],\n",
              "       [ 0.582 ],\n",
              "       [ 3.1525],\n",
              "       [22.31  ],\n",
              "       [ 4.9955],\n",
              "       [ 1.164 ],\n",
              "       [ 0.873 ],\n",
              "       [ 1.8915],\n",
              "       [ 3.2495],\n",
              "       [ 0.3686],\n",
              "       [ 5.626 ],\n",
              "       [ 1.2125],\n",
              "       [ 1.455 ],\n",
              "       [ 0.2425],\n",
              "       [ 0.4365],\n",
              "       [ 6.305 ],\n",
              "       [ 3.6375],\n",
              "       [33.95  ],\n",
              "       [ 0.194 ],\n",
              "       [ 5.0925],\n",
              "       [ 3.2495],\n",
              "       [11.155 ],\n",
              "       [ 0.7275],\n",
              "       [ 3.007 ],\n",
              "       [22.31  ],\n",
              "       [ 4.6075],\n",
              "       [20.1275],\n",
              "       [ 6.208 ],\n",
              "       [14.453 ],\n",
              "       [ 5.238 ],\n",
              "       [ 5.044 ],\n",
              "       [ 2.6675],\n",
              "       [ 5.0925],\n",
              "       [ 1.067 ],\n",
              "       [11.1065],\n",
              "       [ 4.8015],\n",
              "       [10.9125],\n",
              "       [ 2.5705],\n",
              "       [ 2.425 ],\n",
              "       [ 5.6745],\n",
              "       [ 0.194 ],\n",
              "       [ 5.7715],\n",
              "       [ 4.365 ],\n",
              "       [ 0.4365],\n",
              "       [ 0.97  ],\n",
              "       [ 2.91  ],\n",
              "       [ 5.6745],\n",
              "       [ 0.3395],\n",
              "       [ 3.88  ],\n",
              "       [ 1.649 ],\n",
              "       [ 7.5175],\n",
              "       [ 6.8385],\n",
              "       [32.01  ],\n",
              "       [ 0.1649],\n",
              "       [ 0.5335]])"
            ]
          },
          "metadata": {},
          "execution_count": 66
        }
      ]
    },
    {
      "cell_type": "code",
      "source": [
        "inputs = torch.Tensor(inputs_array)\n",
        "targets = torch.Tensor(targets_array)"
      ],
      "metadata": {
        "id": "BmNDx9rjLvPn"
      },
      "execution_count": 67,
      "outputs": []
    },
    {
      "cell_type": "code",
      "source": [
        "inputs.shape, targets.shape"
      ],
      "metadata": {
        "colab": {
          "base_uri": "https://localhost:8080/"
        },
        "id": "tLkfJajgL5r0",
        "outputId": "a3131a76-5d5e-4679-f4aa-262d5cd1e21d"
      },
      "execution_count": 73,
      "outputs": [
        {
          "output_type": "execute_result",
          "data": {
            "text/plain": [
              "(torch.Size([285, 4]), torch.Size([285, 1]))"
            ]
          },
          "metadata": {},
          "execution_count": 73
        }
      ]
    },
    {
      "cell_type": "code",
      "source": [
        "dataset = TensorDataset(inputs, targets)"
      ],
      "metadata": {
        "id": "ajA665edL6sq"
      },
      "execution_count": 69,
      "outputs": []
    },
    {
      "cell_type": "code",
      "source": [
        "dataset"
      ],
      "metadata": {
        "colab": {
          "base_uri": "https://localhost:8080/"
        },
        "id": "OhFuP1DSL9GA",
        "outputId": "4413aeb6-e8b0-4243-b516-1fb138bd5d7f"
      },
      "execution_count": 70,
      "outputs": [
        {
          "output_type": "execute_result",
          "data": {
            "text/plain": [
              "<torch.utils.data.dataset.TensorDataset at 0x7f7ab30c78d0>"
            ]
          },
          "metadata": {},
          "execution_count": 70
        }
      ]
    },
    {
      "cell_type": "code",
      "source": [
        "train_ds, vals_ds = random_split(dataset, [228,57])\n",
        "batch_size = 128"
      ],
      "metadata": {
        "id": "wPZ53-gWL9rO"
      },
      "execution_count": 75,
      "outputs": []
    },
    {
      "cell_type": "code",
      "source": [
        "train_loader = DataLoader(train_ds, batch_size, shuffle=True)\n",
        "val_loader = DataLoader(vals_ds, batch_size)"
      ],
      "metadata": {
        "id": "NwI9doeOMF0Q"
      },
      "execution_count": 76,
      "outputs": []
    },
    {
      "cell_type": "code",
      "source": [
        "input_size = len(input_cols)\n",
        "output_size = len(output_col)\n",
        "\n",
        "class CarsModel(nn.Module):\n",
        "    def __init__(self):\n",
        "      super().__init__()\n",
        "      self.linear = nn.Linear(input_size, output_size)\n",
        "\n",
        "    def forward(self, xb):\n",
        "      out = self.linear(xb)\n",
        "      return out\n",
        "\n",
        "    def training_step(self, batch):\n",
        "      inputs, targets = batch\n",
        "      out = self(inputs)\n",
        "      loss = F.l1_loss(out, targets)\n",
        "      return loss\n",
        "\n",
        "    def validation_step(self, batch):\n",
        "      inputs, targets = batch\n",
        "      out = self(inputs)\n",
        "      loss = F.l1_loss(out,targets)\n",
        "      return {'val_loss': loss.detach()}\n",
        "\n",
        "    def validation_epoch_end(self, outputs):\n",
        "      batch_losses = [x['val_loss'] for x in outputs]\n",
        "      epoch_loss = torch.stack(batch_losses).mean()\n",
        "      return {'val_loss': epoch_loss.item()}\n",
        "\n",
        "    def epoch_end(self, epoch, result, num_epochs):\n",
        "      if (epoch+1) % 20 == 0 or epoch == num_epochs -1:\n",
        "        print('Epoch [{}], val_loss: {:.4f}'.format(epoch+1, result['val_loss']))"
      ],
      "metadata": {
        "id": "vEprDStUMdbw"
      },
      "execution_count": 94,
      "outputs": []
    },
    {
      "cell_type": "code",
      "source": [
        "model = CarsModel()\n",
        "list(model.parameters())"
      ],
      "metadata": {
        "colab": {
          "base_uri": "https://localhost:8080/"
        },
        "id": "tGseXyNDOCoR",
        "outputId": "2ae7a541-fd5d-499c-f135-6340705da98a"
      },
      "execution_count": 95,
      "outputs": [
        {
          "output_type": "execute_result",
          "data": {
            "text/plain": [
              "[Parameter containing:\n",
              " tensor([[ 0.0125, -0.2317,  0.1048, -0.0325]], requires_grad=True),\n",
              " Parameter containing:\n",
              " tensor([-0.4559], requires_grad=True)]"
            ]
          },
          "metadata": {},
          "execution_count": 95
        }
      ]
    },
    {
      "cell_type": "code",
      "source": [
        "def evaluate(model, val_loader):\n",
        "    outputs = [model.validation_step(batch) for batch in val_loader]\n",
        "    return model.validation_epoch_end(outputs)"
      ],
      "metadata": {
        "id": "Ponq1Mg1OGJ5"
      },
      "execution_count": 96,
      "outputs": []
    },
    {
      "cell_type": "code",
      "source": [
        "def fit(epochs, lr, model, train_loader, val_loader, opt_func=torch.optim.SGD):\n",
        "    history = []\n",
        "    optimizer = opt_func(model.parameters(), lr)\n",
        "    for epoch in range(epochs):\n",
        "        for batch in train_loader:\n",
        "            loss = model.training_step(batch)\n",
        "            loss.backward()\n",
        "            optimizer.step()\n",
        "            optimizer.zero_grad()\n",
        "        result = evaluate(model, val_loader)\n",
        "        model.epoch_end(epoch, result, epochs)\n",
        "        history.append(result)\n",
        "    return history"
      ],
      "metadata": {
        "id": "IPfewGMAOhhr"
      },
      "execution_count": 97,
      "outputs": []
    },
    {
      "cell_type": "code",
      "source": [
        "result = evaluate(model, val_loader)\n",
        "result"
      ],
      "metadata": {
        "colab": {
          "base_uri": "https://localhost:8080/"
        },
        "id": "K3jAUHiEPPDm",
        "outputId": "a9d42cb9-572f-42a5-914b-cb13c067b761"
      },
      "execution_count": 98,
      "outputs": [
        {
          "output_type": "execute_result",
          "data": {
            "text/plain": [
              "{'val_loss': 3955.63037109375}"
            ]
          },
          "metadata": {},
          "execution_count": 98
        }
      ]
    },
    {
      "cell_type": "code",
      "source": [
        "epochs = 90\n",
        "lr = 1e-8\n",
        "history1 = fit(epochs, lr, model, train_loader, val_loader)"
      ],
      "metadata": {
        "colab": {
          "base_uri": "https://localhost:8080/"
        },
        "id": "zVIPGh_vPUBb",
        "outputId": "1d15a367-be2b-4171-ecc8-2be43f2fb8e2"
      },
      "execution_count": 99,
      "outputs": [
        {
          "output_type": "stream",
          "name": "stdout",
          "text": [
            "Epoch [20], val_loss: 3389.7048\n",
            "Epoch [40], val_loss: 2821.3862\n",
            "Epoch [60], val_loss: 2256.1663\n",
            "Epoch [80], val_loss: 1689.3011\n",
            "Epoch [90], val_loss: 1406.6409\n"
          ]
        }
      ]
    },
    {
      "cell_type": "code",
      "source": [
        "epochs = 50\n",
        "lr = 1e-7\n",
        "history1 = fit(epochs, lr, model, train_loader, val_loader)"
      ],
      "metadata": {
        "colab": {
          "base_uri": "https://localhost:8080/"
        },
        "id": "Mirea6YIPrT6",
        "outputId": "35d8d9d4-c198-46d6-82f9-bb3cbe1d2027"
      },
      "execution_count": 101,
      "outputs": [
        {
          "output_type": "stream",
          "name": "stdout",
          "text": [
            "Epoch [20], val_loss: 99.7965\n",
            "Epoch [40], val_loss: 82.9036\n",
            "Epoch [50], val_loss: 47.8342\n"
          ]
        }
      ]
    },
    {
      "cell_type": "code",
      "source": [
        "def predict_single(input, target, model):\n",
        "    inputs = input.unsqueeze(0)\n",
        "    predictions = model(inputs)\n",
        "    prediction = predictions[0].detach()\n",
        "    print('Input: ', input)\n",
        "    print('Target: ', target)\n",
        "    print('Prediction: ', prediction)"
      ],
      "metadata": {
        "id": "3RUePLYWP7A5"
      },
      "execution_count": 102,
      "outputs": []
    },
    {
      "cell_type": "code",
      "source": [
        "input, target = vals_ds[0]"
      ],
      "metadata": {
        "id": "LsM67mf6QXBv"
      },
      "execution_count": 103,
      "outputs": []
    },
    {
      "cell_type": "code",
      "source": [
        "predict_single(input, target, model)"
      ],
      "metadata": {
        "colab": {
          "base_uri": "https://localhost:8080/"
        },
        "id": "TAkXHdaYQaTB",
        "outputId": "679d4e79-d2e9-485d-b4f9-ea98393c2972"
      },
      "execution_count": 104,
      "outputs": [
        {
          "output_type": "stream",
          "name": "stdout",
          "text": [
            "Input:  tensor([2.1964e+03, 8.4000e-01, 2.3000e+04, 0.0000e+00])\n",
            "Target:  tensor([0.4656])\n",
            "Prediction:  tensor([-19.7858])\n"
          ]
        }
      ]
    },
    {
      "cell_type": "code",
      "source": [
        "input, target = vals_ds[10]\n",
        "predict_single(input, target, model)"
      ],
      "metadata": {
        "colab": {
          "base_uri": "https://localhost:8080/"
        },
        "id": "D3Zt0KCqQcYX",
        "outputId": "76dc7917-efef-4d12-c5a8-bda50ac746d8"
      },
      "execution_count": 106,
      "outputs": [
        {
          "output_type": "stream",
          "name": "stdout",
          "text": [
            "Input:  tensor([2198.5300,    3.6000, 2135.0000,    0.0000])\n",
            "Target:  tensor([2.7645])\n",
            "Prediction:  tensor([6.8881])\n"
          ]
        }
      ]
    },
    {
      "cell_type": "code",
      "source": [],
      "metadata": {
        "id": "0gspHY7oQiT0"
      },
      "execution_count": null,
      "outputs": []
    }
  ]
}