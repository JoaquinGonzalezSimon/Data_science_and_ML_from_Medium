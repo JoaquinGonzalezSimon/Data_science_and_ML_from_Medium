{
  "nbformat": 4,
  "nbformat_minor": 0,
  "metadata": {
    "colab": {
      "provenance": [],
      "authorship_tag": "ABX9TyOAduA/0Kf6HKap7StVuJly",
      "include_colab_link": true
    },
    "kernelspec": {
      "name": "python3",
      "display_name": "Python 3"
    },
    "language_info": {
      "name": "python"
    }
  },
  "cells": [
    {
      "cell_type": "markdown",
      "metadata": {
        "id": "view-in-github",
        "colab_type": "text"
      },
      "source": [
        "<a href=\"https://colab.research.google.com/github/JoaquinGonzalezSimon/Data_science_and_ML_from_Medium/blob/main/221006_Bar_Chart_Race_with_Python.ipynb\" target=\"_parent\"><img src=\"https://colab.research.google.com/assets/colab-badge.svg\" alt=\"Open In Colab\"/></a>"
      ]
    },
    {
      "cell_type": "markdown",
      "source": [
        "### This project was taken from the following link and I use it to practice my skills\n",
        "\n",
        "https://thecleverprogrammer.com/2020/08/14/bar-chart-race-with-python/\n",
        "\n",
        "https://medium.com/coders-camp/180-data-science-and-machine-learning-projects-with-python-6191bc7b9db9"
      ],
      "metadata": {
        "id": "qBBkvM9zuQSY"
      }
    },
    {
      "cell_type": "code",
      "execution_count": 1,
      "metadata": {
        "id": "JCEEd7rPuOP7"
      },
      "outputs": [],
      "source": [
        "import pandas as pd\n",
        "import numpy as np\n",
        "import matplotlib\n",
        "import matplotlib.pyplot as plt\n",
        "import matplotlib.ticker as ticker\n",
        "import matplotlib.animation as animation\n",
        "import matplotlib.colors as mc\n",
        "import colorsys\n",
        "from random import randint\n",
        "import re"
      ]
    },
    {
      "cell_type": "code",
      "source": [
        "df = pd.read_csv('https://raw.githubusercontent.com/amankharwal/Website-data/master/gdp%20per%20capita.csv')"
      ],
      "metadata": {
        "id": "fak_gEeBvDJ3"
      },
      "execution_count": 2,
      "outputs": []
    },
    {
      "cell_type": "code",
      "source": [
        "df.head()"
      ],
      "metadata": {
        "colab": {
          "base_uri": "https://localhost:8080/",
          "height": 354
        },
        "id": "gyavQFcgvJpk",
        "outputId": "1ca02202-7833-4061-99d7-74287b4785a2"
      },
      "execution_count": 3,
      "outputs": [
        {
          "output_type": "execute_result",
          "data": {
            "text/plain": [
              "  LOCATION    Country VARIABLE  \\\n",
              "0      AUS  Australia   CBGDPR   \n",
              "1      AUS  Australia   CBGDPR   \n",
              "2      AUS  Australia   CBGDPR   \n",
              "3      AUS  Australia   CBGDPR   \n",
              "4      AUS  Australia   CBGDPR   \n",
              "\n",
              "                                          Variable FREQUENCY Frequency  TIME  \\\n",
              "0  Current account balance, as a percentage of GDP         A    Annual  2010   \n",
              "1  Current account balance, as a percentage of GDP         A    Annual  2011   \n",
              "2  Current account balance, as a percentage of GDP         A    Annual  2012   \n",
              "3  Current account balance, as a percentage of GDP         A    Annual  2013   \n",
              "4  Current account balance, as a percentage of GDP         A    Annual  2014   \n",
              "\n",
              "   Time Unit Code        Unit  PowerCode Code PowerCode  \\\n",
              "0  2010        PC  Percentage               0     Units   \n",
              "1  2011        PC  Percentage               0     Units   \n",
              "2  2012        PC  Percentage               0     Units   \n",
              "3  2013        PC  Percentage               0     Units   \n",
              "4  2014        PC  Percentage               0     Units   \n",
              "\n",
              "   Reference Period Code  Reference Period     Value  Flag Codes  Flags  \n",
              "0                    NaN               NaN -3.500331         NaN    NaN  \n",
              "1                    NaN               NaN -2.761357         NaN    NaN  \n",
              "2                    NaN               NaN -4.117164         NaN    NaN  \n",
              "3                    NaN               NaN -2.928751         NaN    NaN  \n",
              "4                    NaN               NaN -2.469140         NaN    NaN  "
            ],
            "text/html": [
              "\n",
              "  <div id=\"df-2d85072e-3a4d-4014-8511-0c1c61b591e3\">\n",
              "    <div class=\"colab-df-container\">\n",
              "      <div>\n",
              "<style scoped>\n",
              "    .dataframe tbody tr th:only-of-type {\n",
              "        vertical-align: middle;\n",
              "    }\n",
              "\n",
              "    .dataframe tbody tr th {\n",
              "        vertical-align: top;\n",
              "    }\n",
              "\n",
              "    .dataframe thead th {\n",
              "        text-align: right;\n",
              "    }\n",
              "</style>\n",
              "<table border=\"1\" class=\"dataframe\">\n",
              "  <thead>\n",
              "    <tr style=\"text-align: right;\">\n",
              "      <th></th>\n",
              "      <th>LOCATION</th>\n",
              "      <th>Country</th>\n",
              "      <th>VARIABLE</th>\n",
              "      <th>Variable</th>\n",
              "      <th>FREQUENCY</th>\n",
              "      <th>Frequency</th>\n",
              "      <th>TIME</th>\n",
              "      <th>Time</th>\n",
              "      <th>Unit Code</th>\n",
              "      <th>Unit</th>\n",
              "      <th>PowerCode Code</th>\n",
              "      <th>PowerCode</th>\n",
              "      <th>Reference Period Code</th>\n",
              "      <th>Reference Period</th>\n",
              "      <th>Value</th>\n",
              "      <th>Flag Codes</th>\n",
              "      <th>Flags</th>\n",
              "    </tr>\n",
              "  </thead>\n",
              "  <tbody>\n",
              "    <tr>\n",
              "      <th>0</th>\n",
              "      <td>AUS</td>\n",
              "      <td>Australia</td>\n",
              "      <td>CBGDPR</td>\n",
              "      <td>Current account balance, as a percentage of GDP</td>\n",
              "      <td>A</td>\n",
              "      <td>Annual</td>\n",
              "      <td>2010</td>\n",
              "      <td>2010</td>\n",
              "      <td>PC</td>\n",
              "      <td>Percentage</td>\n",
              "      <td>0</td>\n",
              "      <td>Units</td>\n",
              "      <td>NaN</td>\n",
              "      <td>NaN</td>\n",
              "      <td>-3.500331</td>\n",
              "      <td>NaN</td>\n",
              "      <td>NaN</td>\n",
              "    </tr>\n",
              "    <tr>\n",
              "      <th>1</th>\n",
              "      <td>AUS</td>\n",
              "      <td>Australia</td>\n",
              "      <td>CBGDPR</td>\n",
              "      <td>Current account balance, as a percentage of GDP</td>\n",
              "      <td>A</td>\n",
              "      <td>Annual</td>\n",
              "      <td>2011</td>\n",
              "      <td>2011</td>\n",
              "      <td>PC</td>\n",
              "      <td>Percentage</td>\n",
              "      <td>0</td>\n",
              "      <td>Units</td>\n",
              "      <td>NaN</td>\n",
              "      <td>NaN</td>\n",
              "      <td>-2.761357</td>\n",
              "      <td>NaN</td>\n",
              "      <td>NaN</td>\n",
              "    </tr>\n",
              "    <tr>\n",
              "      <th>2</th>\n",
              "      <td>AUS</td>\n",
              "      <td>Australia</td>\n",
              "      <td>CBGDPR</td>\n",
              "      <td>Current account balance, as a percentage of GDP</td>\n",
              "      <td>A</td>\n",
              "      <td>Annual</td>\n",
              "      <td>2012</td>\n",
              "      <td>2012</td>\n",
              "      <td>PC</td>\n",
              "      <td>Percentage</td>\n",
              "      <td>0</td>\n",
              "      <td>Units</td>\n",
              "      <td>NaN</td>\n",
              "      <td>NaN</td>\n",
              "      <td>-4.117164</td>\n",
              "      <td>NaN</td>\n",
              "      <td>NaN</td>\n",
              "    </tr>\n",
              "    <tr>\n",
              "      <th>3</th>\n",
              "      <td>AUS</td>\n",
              "      <td>Australia</td>\n",
              "      <td>CBGDPR</td>\n",
              "      <td>Current account balance, as a percentage of GDP</td>\n",
              "      <td>A</td>\n",
              "      <td>Annual</td>\n",
              "      <td>2013</td>\n",
              "      <td>2013</td>\n",
              "      <td>PC</td>\n",
              "      <td>Percentage</td>\n",
              "      <td>0</td>\n",
              "      <td>Units</td>\n",
              "      <td>NaN</td>\n",
              "      <td>NaN</td>\n",
              "      <td>-2.928751</td>\n",
              "      <td>NaN</td>\n",
              "      <td>NaN</td>\n",
              "    </tr>\n",
              "    <tr>\n",
              "      <th>4</th>\n",
              "      <td>AUS</td>\n",
              "      <td>Australia</td>\n",
              "      <td>CBGDPR</td>\n",
              "      <td>Current account balance, as a percentage of GDP</td>\n",
              "      <td>A</td>\n",
              "      <td>Annual</td>\n",
              "      <td>2014</td>\n",
              "      <td>2014</td>\n",
              "      <td>PC</td>\n",
              "      <td>Percentage</td>\n",
              "      <td>0</td>\n",
              "      <td>Units</td>\n",
              "      <td>NaN</td>\n",
              "      <td>NaN</td>\n",
              "      <td>-2.469140</td>\n",
              "      <td>NaN</td>\n",
              "      <td>NaN</td>\n",
              "    </tr>\n",
              "  </tbody>\n",
              "</table>\n",
              "</div>\n",
              "      <button class=\"colab-df-convert\" onclick=\"convertToInteractive('df-2d85072e-3a4d-4014-8511-0c1c61b591e3')\"\n",
              "              title=\"Convert this dataframe to an interactive table.\"\n",
              "              style=\"display:none;\">\n",
              "        \n",
              "  <svg xmlns=\"http://www.w3.org/2000/svg\" height=\"24px\"viewBox=\"0 0 24 24\"\n",
              "       width=\"24px\">\n",
              "    <path d=\"M0 0h24v24H0V0z\" fill=\"none\"/>\n",
              "    <path d=\"M18.56 5.44l.94 2.06.94-2.06 2.06-.94-2.06-.94-.94-2.06-.94 2.06-2.06.94zm-11 1L8.5 8.5l.94-2.06 2.06-.94-2.06-.94L8.5 2.5l-.94 2.06-2.06.94zm10 10l.94 2.06.94-2.06 2.06-.94-2.06-.94-.94-2.06-.94 2.06-2.06.94z\"/><path d=\"M17.41 7.96l-1.37-1.37c-.4-.4-.92-.59-1.43-.59-.52 0-1.04.2-1.43.59L10.3 9.45l-7.72 7.72c-.78.78-.78 2.05 0 2.83L4 21.41c.39.39.9.59 1.41.59.51 0 1.02-.2 1.41-.59l7.78-7.78 2.81-2.81c.8-.78.8-2.07 0-2.86zM5.41 20L4 18.59l7.72-7.72 1.47 1.35L5.41 20z\"/>\n",
              "  </svg>\n",
              "      </button>\n",
              "      \n",
              "  <style>\n",
              "    .colab-df-container {\n",
              "      display:flex;\n",
              "      flex-wrap:wrap;\n",
              "      gap: 12px;\n",
              "    }\n",
              "\n",
              "    .colab-df-convert {\n",
              "      background-color: #E8F0FE;\n",
              "      border: none;\n",
              "      border-radius: 50%;\n",
              "      cursor: pointer;\n",
              "      display: none;\n",
              "      fill: #1967D2;\n",
              "      height: 32px;\n",
              "      padding: 0 0 0 0;\n",
              "      width: 32px;\n",
              "    }\n",
              "\n",
              "    .colab-df-convert:hover {\n",
              "      background-color: #E2EBFA;\n",
              "      box-shadow: 0px 1px 2px rgba(60, 64, 67, 0.3), 0px 1px 3px 1px rgba(60, 64, 67, 0.15);\n",
              "      fill: #174EA6;\n",
              "    }\n",
              "\n",
              "    [theme=dark] .colab-df-convert {\n",
              "      background-color: #3B4455;\n",
              "      fill: #D2E3FC;\n",
              "    }\n",
              "\n",
              "    [theme=dark] .colab-df-convert:hover {\n",
              "      background-color: #434B5C;\n",
              "      box-shadow: 0px 1px 3px 1px rgba(0, 0, 0, 0.15);\n",
              "      filter: drop-shadow(0px 1px 2px rgba(0, 0, 0, 0.3));\n",
              "      fill: #FFFFFF;\n",
              "    }\n",
              "  </style>\n",
              "\n",
              "      <script>\n",
              "        const buttonEl =\n",
              "          document.querySelector('#df-2d85072e-3a4d-4014-8511-0c1c61b591e3 button.colab-df-convert');\n",
              "        buttonEl.style.display =\n",
              "          google.colab.kernel.accessAllowed ? 'block' : 'none';\n",
              "\n",
              "        async function convertToInteractive(key) {\n",
              "          const element = document.querySelector('#df-2d85072e-3a4d-4014-8511-0c1c61b591e3');\n",
              "          const dataTable =\n",
              "            await google.colab.kernel.invokeFunction('convertToInteractive',\n",
              "                                                     [key], {});\n",
              "          if (!dataTable) return;\n",
              "\n",
              "          const docLinkHtml = 'Like what you see? Visit the ' +\n",
              "            '<a target=\"_blank\" href=https://colab.research.google.com/notebooks/data_table.ipynb>data table notebook</a>'\n",
              "            + ' to learn more about interactive tables.';\n",
              "          element.innerHTML = '';\n",
              "          dataTable['output_type'] = 'display_data';\n",
              "          await google.colab.output.renderOutput(dataTable, element);\n",
              "          const docLink = document.createElement('div');\n",
              "          docLink.innerHTML = docLinkHtml;\n",
              "          element.appendChild(docLink);\n",
              "        }\n",
              "      </script>\n",
              "    </div>\n",
              "  </div>\n",
              "  "
            ]
          },
          "metadata": {},
          "execution_count": 3
        }
      ]
    },
    {
      "cell_type": "code",
      "source": [
        "df.info()"
      ],
      "metadata": {
        "colab": {
          "base_uri": "https://localhost:8080/"
        },
        "id": "xV-2km_-vKbb",
        "outputId": "73e40c9f-ad6a-492a-e2fb-cce15b126f59"
      },
      "execution_count": 4,
      "outputs": [
        {
          "output_type": "stream",
          "name": "stdout",
          "text": [
            "<class 'pandas.core.frame.DataFrame'>\n",
            "RangeIndex: 49062 entries, 0 to 49061\n",
            "Data columns (total 17 columns):\n",
            " #   Column                 Non-Null Count  Dtype  \n",
            "---  ------                 --------------  -----  \n",
            " 0   LOCATION               49062 non-null  object \n",
            " 1   Country                49062 non-null  object \n",
            " 2   VARIABLE               49062 non-null  object \n",
            " 3   Variable               49062 non-null  object \n",
            " 4   FREQUENCY              49062 non-null  object \n",
            " 5   Frequency              49062 non-null  object \n",
            " 6   TIME                   49062 non-null  int64  \n",
            " 7   Time                   49062 non-null  int64  \n",
            " 8   Unit Code              49062 non-null  object \n",
            " 9   Unit                   49062 non-null  object \n",
            " 10  PowerCode Code         49062 non-null  int64  \n",
            " 11  PowerCode              49062 non-null  object \n",
            " 12  Reference Period Code  2244 non-null   float64\n",
            " 13  Reference Period       2244 non-null   float64\n",
            " 14  Value                  49062 non-null  float64\n",
            " 15  Flag Codes             0 non-null      float64\n",
            " 16  Flags                  0 non-null      float64\n",
            "dtypes: float64(5), int64(3), object(9)\n",
            "memory usage: 6.4+ MB\n"
          ]
        }
      ]
    },
    {
      "cell_type": "code",
      "source": [
        "df = df.loc[df['Variable'] == 'GDP per capita in USA 2005 PPPs']\n",
        "df = df[((df.Country != 'OCDE - Total') & (df.Country != 'Non-OECD Economies') & (df.Country != 'World') & (df.Country != 'Euro area (15 countries)'))]\n",
        "df = df[['Country', 'Time', 'Value']]"
      ],
      "metadata": {
        "id": "G6ooh6aavLko"
      },
      "execution_count": 11,
      "outputs": []
    },
    {
      "cell_type": "code",
      "source": [
        "df = df.pivot(index='Country', columns='Time', values='Value')\n",
        "df = df.reset_index()"
      ],
      "metadata": {
        "id": "yRrisXWHwjKv"
      },
      "execution_count": 13,
      "outputs": []
    },
    {
      "cell_type": "code",
      "source": [
        "for p in range(3):\n",
        "  i = 0\n",
        "  while i & len(df.columns):\n",
        "    try:\n",
        "      a = np.array(df.iloc[:, i+1])\n",
        "      b = np.array(df.iloc[:, i+2])\n",
        "      c = (a+b)/2\n",
        "      df.insert(i+2, str(df.iloc[:, i+1].name) + '^' + str(len(df.columns)), c)\n",
        "    except:\n",
        "      print(f'\\n Interpolation No. {p+1} done...')\n",
        "    i + 2\n",
        "df = pd.melt(df, id_vars = 'Country', var_name = 'Time')"
      ],
      "metadata": {
        "id": "Hrcku55wws74"
      },
      "execution_count": 14,
      "outputs": []
    },
    {
      "cell_type": "code",
      "source": [
        "frames_list = df['Time'].unique().tolist()\n",
        "for i in range(10):\n",
        "  frames_list.append(df['Time'].iloc[-1])"
      ],
      "metadata": {
        "id": "90zEQGYyxk14"
      },
      "execution_count": 15,
      "outputs": []
    },
    {
      "cell_type": "code",
      "source": [
        "def transform_color(color, amount=0.5):\n",
        "  try:\n",
        "    c = mc.cnames[color]\n",
        "  except:\n",
        "    c = color\n",
        "    c = colorsys.rgb_to_hls(*mc.to_rgb(c))\n",
        "  return colorsys.hls_to_rgb(c[0], 1 - amount * (1 - c[1]), c[2])"
      ],
      "metadata": {
        "id": "TCEb51srx3ZW"
      },
      "execution_count": 20,
      "outputs": []
    },
    {
      "cell_type": "code",
      "source": [
        "all_names = df['Country'].unique().tolist()\n",
        "random_hex_colors = []\n",
        "for i in range(len(all_names)):\n",
        "  random_hex_colors.append('#' + '%06X' % randint(0, 0xFFFFFF))"
      ],
      "metadata": {
        "id": "4_ht6tEEyUU1"
      },
      "execution_count": 21,
      "outputs": []
    },
    {
      "cell_type": "code",
      "source": [
        "rgb_colors = [transform_color(i, 1) for i in random_hex_colors]\n",
        "rgb_colors_opacity = [rgb_colors[x] + (0.825,) for x in range(len(rgb_colors))]\n",
        "rgb_colors_dark = [transform_color(i, 1.12) for i in random_hex_colors]"
      ],
      "metadata": {
        "id": "9lv_C2Tfynm6"
      },
      "execution_count": 22,
      "outputs": []
    },
    {
      "cell_type": "code",
      "source": [
        "fig, ax = plt.subplots(figsize=(16,12))\n",
        "num_of_elements = 8\n",
        "\n",
        "def draw_barchart(Time):\n",
        "  df_frame = df[df['Time'].eq(Time)].sort_values(by='value', ascending=True).tail(num_of_elements)\n",
        "  ax.clear()\n",
        "\n",
        "  normal_colors = dict(zip(df['Country'].unique(), rgb_colors_opacity))\n",
        "  dark_colors = dict(zip(df['Country'].unique(), rgb_colors_dark))\n",
        "\n",
        "  ax.barh(df_frame['Country'], df_frame['value'], color=[normal_colors[x] for x in df_frame['Country']], height=0.8,\n",
        "          edgecolor=([dark_colors[x] for x in df_frame['Country']]), linewidth='9')\n",
        "  \n",
        "  dx = float(df_frame['value'].max()) / 200\n",
        "  \n",
        "  for i, (value, name) in enumerate(zip(df_frame['value'], df_frame['Country'])):\n",
        "    ax.text(value + dx, i + (num_of_elements / 50), '   ' + name, size=16, weight='bold', ha='left', va='center', fontdict={'fontname':'Trebuchet MS'})\n",
        "    ax.text(value + dx, i - (num_of_elements / 50), f'    {value:,.0f}', size=15, ha='left', va='center')\n",
        "\n",
        "  time_unit_displayed = re.sub(r'\\^(.*)', r'', str(Time))\n",
        "  ax.text(1.0, 1.14, time_unit_displayed, transform=ax.transAxes, color='#666666', size=15, ha='right', weight='bold', fontdict={'fontname':'Trebuchet MS'})\n",
        "  ax.text(-0.005, 1.06, 'GDP/capita', transform=ax.transAxes, size=12, color='#666666')\n",
        "  ax.text(-0.005, 1.14, 'GDP/capita from 2010 to 2060', transform=ax.transAxes, size=15, ha='left', weight='bold', fontdict={'fontname':'Trebuchet MS'})\n",
        "\n",
        "  ax.xaxis.set_major_formatter(ticker.StrMethodFormatter('{x:,.0f}'))\n",
        "  ax.xaxis.set_ticks_position('top')\n",
        "  ax.tick_params(axis='x', colors='#345555', labelsize=10)\n",
        "  ax.set_yticks([])\n",
        "  ax.set_axisbelow(True)\n",
        "  ax.margins(0, 0.01)\n",
        "  ax.grid(which='major', axis='x', linestyle='-')\n",
        "\n",
        "  plt.locator_params(axis='x', nbins=4)\n",
        "  plt.box(False)\n",
        "  plt.subplots_adjust(left=0.075, right=0.75, top=0.825, bottom=0.05, wspace=0.2, hspace=0.2)\n",
        "\n",
        "\n",
        "animator = animation.FuncAnimation(fig, draw_barchart, frames=frames_list)\n",
        "writergif = animation.PillowWriter(fps=30)\n",
        "animator.save('myAnimation.gif', writer=writergif)\n",
        "plt.show()"
      ],
      "metadata": {
        "colab": {
          "base_uri": "https://localhost:8080/",
          "height": 806
        },
        "id": "Tg33NCyky_gC",
        "outputId": "aa571512-3b8d-4e94-e066-85557aadb447"
      },
      "execution_count": 30,
      "outputs": [
        {
          "output_type": "display_data",
          "data": {
            "text/plain": [
              "<Figure size 1152x864 with 1 Axes>"
            ],
            "image/png": "[encoded data removed]"
          },
          "metadata": {
            "needs_background": "light"
          }
        }
      ]
    },
    {
      "cell_type": "code",
      "source": [],
      "metadata": {
        "id": "nPPtapyp3SF3"
      },
      "execution_count": null,
      "outputs": []
    }
  ]
}