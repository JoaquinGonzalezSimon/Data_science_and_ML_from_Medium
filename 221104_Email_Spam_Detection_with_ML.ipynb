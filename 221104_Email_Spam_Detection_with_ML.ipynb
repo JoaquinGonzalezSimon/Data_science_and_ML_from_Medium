{
  "nbformat": 4,
  "nbformat_minor": 0,
  "metadata": {
    "colab": {
      "provenance": [],
      "collapsed_sections": [],
      "authorship_tag": "ABX9TyPbi+0OzYFHqY2+x06LL5xp",
      "include_colab_link": true
    },
    "kernelspec": {
      "name": "python3",
      "display_name": "Python 3"
    },
    "language_info": {
      "name": "python"
    }
  },
  "cells": [
    {
      "cell_type": "markdown",
      "metadata": {
        "id": "view-in-github",
        "colab_type": "text"
      },
      "source": [
        "<a href=\"https://colab.research.google.com/github/JoaquinGonzalezSimon/Data_science_and_ML_from_Medium/blob/main/221104_Email_Spam_Detection_with_ML.ipynb\" target=\"_parent\"><img src=\"https://colab.research.google.com/assets/colab-badge.svg\" alt=\"Open In Colab\"/></a>"
      ]
    },
    {
      "cell_type": "markdown",
      "source": [
        "### This project was taken from the following link and I use it to practice my skills\n",
        "\n",
        "https://thecleverprogrammer.com/2020/05/17/email-spam-detection-with-machine-learning/\n",
        "\n",
        "https://medium.com/coders-camp/180-data-science-and-machine-learning-projects-with-python-6191bc7b9db9"
      ],
      "metadata": {
        "id": "S-vBoM6tObuz"
      }
    },
    {
      "cell_type": "code",
      "execution_count": 46,
      "metadata": {
        "id": "qsCS11jZOakm"
      },
      "outputs": [],
      "source": [
        "import pandas as pd\n",
        "import numpy as np\n",
        "\n",
        "import nltk\n",
        "from nltk.corpus import stopwords\n",
        "import string"
      ]
    },
    {
      "cell_type": "code",
      "source": [
        "data = pd.read_csv('https://raw.githubusercontent.com/amankharwal/Email-spam-detection/master/emails.csv')"
      ],
      "metadata": {
        "id": "VfUECiq2OniX"
      },
      "execution_count": 47,
      "outputs": []
    },
    {
      "cell_type": "code",
      "source": [
        "data.head()"
      ],
      "metadata": {
        "colab": {
          "base_uri": "https://localhost:8080/",
          "height": 206
        },
        "id": "cRLZHs_2OsrN",
        "outputId": "64922708-72dc-4ad0-f3c3-3069eb296ed8"
      },
      "execution_count": 48,
      "outputs": [
        {
          "output_type": "execute_result",
          "data": {
            "text/plain": [
              "                                                text  spam\n",
              "0  Subject: naturally irresistible your corporate...     1\n",
              "1  Subject: the stock trading gunslinger  fanny i...     1\n",
              "2  Subject: unbelievable new homes made easy  im ...     1\n",
              "3  Subject: 4 color printing special  request add...     1\n",
              "4  Subject: do not have money , get software cds ...     1"
            ],
            "text/html": [
              "\n",
              "  <div id=\"df-dd068a78-d8e5-4283-876c-039874db4f6f\">\n",
              "    <div class=\"colab-df-container\">\n",
              "      <div>\n",
              "<style scoped>\n",
              "    .dataframe tbody tr th:only-of-type {\n",
              "        vertical-align: middle;\n",
              "    }\n",
              "\n",
              "    .dataframe tbody tr th {\n",
              "        vertical-align: top;\n",
              "    }\n",
              "\n",
              "    .dataframe thead th {\n",
              "        text-align: right;\n",
              "    }\n",
              "</style>\n",
              "<table border=\"1\" class=\"dataframe\">\n",
              "  <thead>\n",
              "    <tr style=\"text-align: right;\">\n",
              "      <th></th>\n",
              "      <th>text</th>\n",
              "      <th>spam</th>\n",
              "    </tr>\n",
              "  </thead>\n",
              "  <tbody>\n",
              "    <tr>\n",
              "      <th>0</th>\n",
              "      <td>Subject: naturally irresistible your corporate...</td>\n",
              "      <td>1</td>\n",
              "    </tr>\n",
              "    <tr>\n",
              "      <th>1</th>\n",
              "      <td>Subject: the stock trading gunslinger  fanny i...</td>\n",
              "      <td>1</td>\n",
              "    </tr>\n",
              "    <tr>\n",
              "      <th>2</th>\n",
              "      <td>Subject: unbelievable new homes made easy  im ...</td>\n",
              "      <td>1</td>\n",
              "    </tr>\n",
              "    <tr>\n",
              "      <th>3</th>\n",
              "      <td>Subject: 4 color printing special  request add...</td>\n",
              "      <td>1</td>\n",
              "    </tr>\n",
              "    <tr>\n",
              "      <th>4</th>\n",
              "      <td>Subject: do not have money , get software cds ...</td>\n",
              "      <td>1</td>\n",
              "    </tr>\n",
              "  </tbody>\n",
              "</table>\n",
              "</div>\n",
              "      <button class=\"colab-df-convert\" onclick=\"convertToInteractive('df-dd068a78-d8e5-4283-876c-039874db4f6f')\"\n",
              "              title=\"Convert this dataframe to an interactive table.\"\n",
              "              style=\"display:none;\">\n",
              "        \n",
              "  <svg xmlns=\"http://www.w3.org/2000/svg\" height=\"24px\"viewBox=\"0 0 24 24\"\n",
              "       width=\"24px\">\n",
              "    <path d=\"M0 0h24v24H0V0z\" fill=\"none\"/>\n",
              "    <path d=\"M18.56 5.44l.94 2.06.94-2.06 2.06-.94-2.06-.94-.94-2.06-.94 2.06-2.06.94zm-11 1L8.5 8.5l.94-2.06 2.06-.94-2.06-.94L8.5 2.5l-.94 2.06-2.06.94zm10 10l.94 2.06.94-2.06 2.06-.94-2.06-.94-.94-2.06-.94 2.06-2.06.94z\"/><path d=\"M17.41 7.96l-1.37-1.37c-.4-.4-.92-.59-1.43-.59-.52 0-1.04.2-1.43.59L10.3 9.45l-7.72 7.72c-.78.78-.78 2.05 0 2.83L4 21.41c.39.39.9.59 1.41.59.51 0 1.02-.2 1.41-.59l7.78-7.78 2.81-2.81c.8-.78.8-2.07 0-2.86zM5.41 20L4 18.59l7.72-7.72 1.47 1.35L5.41 20z\"/>\n",
              "  </svg>\n",
              "      </button>\n",
              "      \n",
              "  <style>\n",
              "    .colab-df-container {\n",
              "      display:flex;\n",
              "      flex-wrap:wrap;\n",
              "      gap: 12px;\n",
              "    }\n",
              "\n",
              "    .colab-df-convert {\n",
              "      background-color: #E8F0FE;\n",
              "      border: none;\n",
              "      border-radius: 50%;\n",
              "      cursor: pointer;\n",
              "      display: none;\n",
              "      fill: #1967D2;\n",
              "      height: 32px;\n",
              "      padding: 0 0 0 0;\n",
              "      width: 32px;\n",
              "    }\n",
              "\n",
              "    .colab-df-convert:hover {\n",
              "      background-color: #E2EBFA;\n",
              "      box-shadow: 0px 1px 2px rgba(60, 64, 67, 0.3), 0px 1px 3px 1px rgba(60, 64, 67, 0.15);\n",
              "      fill: #174EA6;\n",
              "    }\n",
              "\n",
              "    [theme=dark] .colab-df-convert {\n",
              "      background-color: #3B4455;\n",
              "      fill: #D2E3FC;\n",
              "    }\n",
              "\n",
              "    [theme=dark] .colab-df-convert:hover {\n",
              "      background-color: #434B5C;\n",
              "      box-shadow: 0px 1px 3px 1px rgba(0, 0, 0, 0.15);\n",
              "      filter: drop-shadow(0px 1px 2px rgba(0, 0, 0, 0.3));\n",
              "      fill: #FFFFFF;\n",
              "    }\n",
              "  </style>\n",
              "\n",
              "      <script>\n",
              "        const buttonEl =\n",
              "          document.querySelector('#df-dd068a78-d8e5-4283-876c-039874db4f6f button.colab-df-convert');\n",
              "        buttonEl.style.display =\n",
              "          google.colab.kernel.accessAllowed ? 'block' : 'none';\n",
              "\n",
              "        async function convertToInteractive(key) {\n",
              "          const element = document.querySelector('#df-dd068a78-d8e5-4283-876c-039874db4f6f');\n",
              "          const dataTable =\n",
              "            await google.colab.kernel.invokeFunction('convertToInteractive',\n",
              "                                                     [key], {});\n",
              "          if (!dataTable) return;\n",
              "\n",
              "          const docLinkHtml = 'Like what you see? Visit the ' +\n",
              "            '<a target=\"_blank\" href=https://colab.research.google.com/notebooks/data_table.ipynb>data table notebook</a>'\n",
              "            + ' to learn more about interactive tables.';\n",
              "          element.innerHTML = '';\n",
              "          dataTable['output_type'] = 'display_data';\n",
              "          await google.colab.output.renderOutput(dataTable, element);\n",
              "          const docLink = document.createElement('div');\n",
              "          docLink.innerHTML = docLinkHtml;\n",
              "          element.appendChild(docLink);\n",
              "        }\n",
              "      </script>\n",
              "    </div>\n",
              "  </div>\n",
              "  "
            ]
          },
          "metadata": {},
          "execution_count": 48
        }
      ]
    },
    {
      "cell_type": "code",
      "source": [
        "data.info()"
      ],
      "metadata": {
        "colab": {
          "base_uri": "https://localhost:8080/"
        },
        "id": "DhmDvUdIOupo",
        "outputId": "438a9c35-fc6e-4400-bfa4-5289fcfea02c"
      },
      "execution_count": 49,
      "outputs": [
        {
          "output_type": "stream",
          "name": "stdout",
          "text": [
            "<class 'pandas.core.frame.DataFrame'>\n",
            "RangeIndex: 5728 entries, 0 to 5727\n",
            "Data columns (total 2 columns):\n",
            " #   Column  Non-Null Count  Dtype \n",
            "---  ------  --------------  ----- \n",
            " 0   text    5728 non-null   object\n",
            " 1   spam    5728 non-null   int64 \n",
            "dtypes: int64(1), object(1)\n",
            "memory usage: 89.6+ KB\n"
          ]
        }
      ]
    },
    {
      "cell_type": "code",
      "source": [
        "data.spam.value_counts()"
      ],
      "metadata": {
        "colab": {
          "base_uri": "https://localhost:8080/"
        },
        "id": "Jns2p95nOyRK",
        "outputId": "731c9b67-d23a-49ea-dcb5-47b561cba5e2"
      },
      "execution_count": 50,
      "outputs": [
        {
          "output_type": "execute_result",
          "data": {
            "text/plain": [
              "0    4360\n",
              "1    1368\n",
              "Name: spam, dtype: int64"
            ]
          },
          "metadata": {},
          "execution_count": 50
        }
      ]
    },
    {
      "cell_type": "code",
      "source": [
        "data.spam.value_counts() / data.shape[0]"
      ],
      "metadata": {
        "colab": {
          "base_uri": "https://localhost:8080/"
        },
        "id": "YJKi6_gtO0le",
        "outputId": "bc2de84e-71d2-456e-e335-f861e01a291b"
      },
      "execution_count": 51,
      "outputs": [
        {
          "output_type": "execute_result",
          "data": {
            "text/plain": [
              "0    0.761173\n",
              "1    0.238827\n",
              "Name: spam, dtype: float64"
            ]
          },
          "metadata": {},
          "execution_count": 51
        }
      ]
    },
    {
      "cell_type": "code",
      "source": [
        "data[data.duplicated(keep='last')].sort_values(by=['text']).count()"
      ],
      "metadata": {
        "colab": {
          "base_uri": "https://localhost:8080/"
        },
        "id": "s81oeW8LO81_",
        "outputId": "350ab99c-d73e-4e6e-87e4-deebf57cb23e"
      },
      "execution_count": 52,
      "outputs": [
        {
          "output_type": "execute_result",
          "data": {
            "text/plain": [
              "text    33\n",
              "spam    33\n",
              "dtype: int64"
            ]
          },
          "metadata": {},
          "execution_count": 52
        }
      ]
    },
    {
      "cell_type": "code",
      "source": [
        "data.drop_duplicates(inplace=True)"
      ],
      "metadata": {
        "id": "C87dmTEhSktO"
      },
      "execution_count": 53,
      "outputs": []
    },
    {
      "cell_type": "code",
      "source": [
        "data.spam.value_counts() / data.shape[0]"
      ],
      "metadata": {
        "colab": {
          "base_uri": "https://localhost:8080/"
        },
        "id": "Od1jZRy9SoHv",
        "outputId": "4fbc063d-d526-42ab-cf18-ad2e50a5a6af"
      },
      "execution_count": 54,
      "outputs": [
        {
          "output_type": "execute_result",
          "data": {
            "text/plain": [
              "0    0.759789\n",
              "1    0.240211\n",
              "Name: spam, dtype: float64"
            ]
          },
          "metadata": {},
          "execution_count": 54
        }
      ]
    },
    {
      "cell_type": "code",
      "source": [
        "data.isnull().sum()"
      ],
      "metadata": {
        "colab": {
          "base_uri": "https://localhost:8080/"
        },
        "id": "JdK1TolOSp78",
        "outputId": "c8f3ffea-2c42-45ff-d117-9d96a43fec13"
      },
      "execution_count": 55,
      "outputs": [
        {
          "output_type": "execute_result",
          "data": {
            "text/plain": [
              "text    0\n",
              "spam    0\n",
              "dtype: int64"
            ]
          },
          "metadata": {},
          "execution_count": 55
        }
      ]
    },
    {
      "cell_type": "code",
      "source": [
        "nltk.download('stopwords')"
      ],
      "metadata": {
        "colab": {
          "base_uri": "https://localhost:8080/"
        },
        "id": "IzScWAdcS2UW",
        "outputId": "649120f3-3f61-46e6-c291-70cd8e9e09db"
      },
      "execution_count": 56,
      "outputs": [
        {
          "output_type": "stream",
          "name": "stderr",
          "text": [
            "[nltk_data] Downloading package stopwords to /root/nltk_data...\n",
            "[nltk_data]   Package stopwords is already up-to-date!\n"
          ]
        },
        {
          "output_type": "execute_result",
          "data": {
            "text/plain": [
              "True"
            ]
          },
          "metadata": {},
          "execution_count": 56
        }
      ]
    },
    {
      "cell_type": "code",
      "source": [
        "def process(text):\n",
        "  no_punc = [char for char in text if char not in string.punctuation]\n",
        "  no_punc = ''.join(no_punc)\n",
        "\n",
        "  clean = [word for word in no_punc.split() if word.lower() not in stopwords.words('english')]\n",
        "  return clean"
      ],
      "metadata": {
        "id": "ixATaIIqS6On"
      },
      "execution_count": 57,
      "outputs": []
    },
    {
      "cell_type": "code",
      "source": [
        "string.punctuation"
      ],
      "metadata": {
        "colab": {
          "base_uri": "https://localhost:8080/",
          "height": 36
        },
        "id": "QSywHPAPcNS4",
        "outputId": "70158e99-1f82-4225-9965-d2056342ddfb"
      },
      "execution_count": 58,
      "outputs": [
        {
          "output_type": "execute_result",
          "data": {
            "text/plain": [
              "'!\"#$%&\\'()*+,-./:;<=>?@[\\\\]^_`{|}~'"
            ],
            "application/vnd.google.colaboratory.intrinsic+json": {
              "type": "string"
            }
          },
          "metadata": {},
          "execution_count": 58
        }
      ]
    },
    {
      "cell_type": "code",
      "source": [
        "no_punc = [char for char in data.text[0] if char not in string.punctuation]"
      ],
      "metadata": {
        "id": "kgV_QY3fcED4"
      },
      "execution_count": 59,
      "outputs": []
    },
    {
      "cell_type": "code",
      "source": [
        "no_punc = ''.join(no_punc)\n",
        "no_punc"
      ],
      "metadata": {
        "colab": {
          "base_uri": "https://localhost:8080/",
          "height": 123
        },
        "id": "Zbh1WAafcXjO",
        "outputId": "2218965a-6bce-4a5f-c842-7436484c16fb"
      },
      "execution_count": 60,
      "outputs": [
        {
          "output_type": "execute_result",
          "data": {
            "text/plain": [
              "'Subject naturally irresistible your corporate identity  lt is really hard to recollect a company  the  market is full of suqgestions and the information isoverwhelminq  but a good  catchy logo  stylish statlonery and outstanding website  will make the task much easier   we do not promise that havinq ordered a iogo your  company will automaticaily become a world ieader  it isguite ciear that  without good products  effective business organization and practicable aim it  will be hotat nowadays market  but we do promise that your marketing efforts  will become much more effective  here is the list of clear  benefits  creativeness  hand  made  original logos  specially done  to reflect your distinctive company image  convenience  logo and stationery  are provided in all formats  easy  to  use content management system letsyou  change your website content and even its structure  promptness  you  will see logo drafts within three business days  affordability  your  marketing break  through shouldn  t make gaps in your budget  100  satisfaction  guaranteed  we provide unlimited amount of changes with no extra fees for you to  be surethat you will love the result of this collaboration  have a look at our  portfolio                                                     not interested                                                       '"
            ],
            "application/vnd.google.colaboratory.intrinsic+json": {
              "type": "string"
            }
          },
          "metadata": {},
          "execution_count": 60
        }
      ]
    },
    {
      "cell_type": "code",
      "source": [
        "clean = [word for word in no_punc.split() if word.lower() not in stopwords.words('english')]\n",
        "clean"
      ],
      "metadata": {
        "id": "AAegACrCceLL",
        "colab": {
          "base_uri": "https://localhost:8080/"
        },
        "outputId": "da74733e-b30f-4648-80c3-b72475ac9701"
      },
      "execution_count": 61,
      "outputs": [
        {
          "output_type": "execute_result",
          "data": {
            "text/plain": [
              "['Subject',\n",
              " 'naturally',\n",
              " 'irresistible',\n",
              " 'corporate',\n",
              " 'identity',\n",
              " 'lt',\n",
              " 'really',\n",
              " 'hard',\n",
              " 'recollect',\n",
              " 'company',\n",
              " 'market',\n",
              " 'full',\n",
              " 'suqgestions',\n",
              " 'information',\n",
              " 'isoverwhelminq',\n",
              " 'good',\n",
              " 'catchy',\n",
              " 'logo',\n",
              " 'stylish',\n",
              " 'statlonery',\n",
              " 'outstanding',\n",
              " 'website',\n",
              " 'make',\n",
              " 'task',\n",
              " 'much',\n",
              " 'easier',\n",
              " 'promise',\n",
              " 'havinq',\n",
              " 'ordered',\n",
              " 'iogo',\n",
              " 'company',\n",
              " 'automaticaily',\n",
              " 'become',\n",
              " 'world',\n",
              " 'ieader',\n",
              " 'isguite',\n",
              " 'ciear',\n",
              " 'without',\n",
              " 'good',\n",
              " 'products',\n",
              " 'effective',\n",
              " 'business',\n",
              " 'organization',\n",
              " 'practicable',\n",
              " 'aim',\n",
              " 'hotat',\n",
              " 'nowadays',\n",
              " 'market',\n",
              " 'promise',\n",
              " 'marketing',\n",
              " 'efforts',\n",
              " 'become',\n",
              " 'much',\n",
              " 'effective',\n",
              " 'list',\n",
              " 'clear',\n",
              " 'benefits',\n",
              " 'creativeness',\n",
              " 'hand',\n",
              " 'made',\n",
              " 'original',\n",
              " 'logos',\n",
              " 'specially',\n",
              " 'done',\n",
              " 'reflect',\n",
              " 'distinctive',\n",
              " 'company',\n",
              " 'image',\n",
              " 'convenience',\n",
              " 'logo',\n",
              " 'stationery',\n",
              " 'provided',\n",
              " 'formats',\n",
              " 'easy',\n",
              " 'use',\n",
              " 'content',\n",
              " 'management',\n",
              " 'system',\n",
              " 'letsyou',\n",
              " 'change',\n",
              " 'website',\n",
              " 'content',\n",
              " 'even',\n",
              " 'structure',\n",
              " 'promptness',\n",
              " 'see',\n",
              " 'logo',\n",
              " 'drafts',\n",
              " 'within',\n",
              " 'three',\n",
              " 'business',\n",
              " 'days',\n",
              " 'affordability',\n",
              " 'marketing',\n",
              " 'break',\n",
              " 'make',\n",
              " 'gaps',\n",
              " 'budget',\n",
              " '100',\n",
              " 'satisfaction',\n",
              " 'guaranteed',\n",
              " 'provide',\n",
              " 'unlimited',\n",
              " 'amount',\n",
              " 'changes',\n",
              " 'extra',\n",
              " 'fees',\n",
              " 'surethat',\n",
              " 'love',\n",
              " 'result',\n",
              " 'collaboration',\n",
              " 'look',\n",
              " 'portfolio',\n",
              " 'interested']"
            ]
          },
          "metadata": {},
          "execution_count": 61
        }
      ]
    },
    {
      "cell_type": "code",
      "source": [
        "data['text'].head().apply(process)[0]"
      ],
      "metadata": {
        "colab": {
          "base_uri": "https://localhost:8080/"
        },
        "id": "4d0AgShccqO8",
        "outputId": "069fabb2-333b-4c88-b9ab-7f039eeddf9a"
      },
      "execution_count": 62,
      "outputs": [
        {
          "output_type": "execute_result",
          "data": {
            "text/plain": [
              "['Subject',\n",
              " 'naturally',\n",
              " 'irresistible',\n",
              " 'corporate',\n",
              " 'identity',\n",
              " 'lt',\n",
              " 'really',\n",
              " 'hard',\n",
              " 'recollect',\n",
              " 'company',\n",
              " 'market',\n",
              " 'full',\n",
              " 'suqgestions',\n",
              " 'information',\n",
              " 'isoverwhelminq',\n",
              " 'good',\n",
              " 'catchy',\n",
              " 'logo',\n",
              " 'stylish',\n",
              " 'statlonery',\n",
              " 'outstanding',\n",
              " 'website',\n",
              " 'make',\n",
              " 'task',\n",
              " 'much',\n",
              " 'easier',\n",
              " 'promise',\n",
              " 'havinq',\n",
              " 'ordered',\n",
              " 'iogo',\n",
              " 'company',\n",
              " 'automaticaily',\n",
              " 'become',\n",
              " 'world',\n",
              " 'ieader',\n",
              " 'isguite',\n",
              " 'ciear',\n",
              " 'without',\n",
              " 'good',\n",
              " 'products',\n",
              " 'effective',\n",
              " 'business',\n",
              " 'organization',\n",
              " 'practicable',\n",
              " 'aim',\n",
              " 'hotat',\n",
              " 'nowadays',\n",
              " 'market',\n",
              " 'promise',\n",
              " 'marketing',\n",
              " 'efforts',\n",
              " 'become',\n",
              " 'much',\n",
              " 'effective',\n",
              " 'list',\n",
              " 'clear',\n",
              " 'benefits',\n",
              " 'creativeness',\n",
              " 'hand',\n",
              " 'made',\n",
              " 'original',\n",
              " 'logos',\n",
              " 'specially',\n",
              " 'done',\n",
              " 'reflect',\n",
              " 'distinctive',\n",
              " 'company',\n",
              " 'image',\n",
              " 'convenience',\n",
              " 'logo',\n",
              " 'stationery',\n",
              " 'provided',\n",
              " 'formats',\n",
              " 'easy',\n",
              " 'use',\n",
              " 'content',\n",
              " 'management',\n",
              " 'system',\n",
              " 'letsyou',\n",
              " 'change',\n",
              " 'website',\n",
              " 'content',\n",
              " 'even',\n",
              " 'structure',\n",
              " 'promptness',\n",
              " 'see',\n",
              " 'logo',\n",
              " 'drafts',\n",
              " 'within',\n",
              " 'three',\n",
              " 'business',\n",
              " 'days',\n",
              " 'affordability',\n",
              " 'marketing',\n",
              " 'break',\n",
              " 'make',\n",
              " 'gaps',\n",
              " 'budget',\n",
              " '100',\n",
              " 'satisfaction',\n",
              " 'guaranteed',\n",
              " 'provide',\n",
              " 'unlimited',\n",
              " 'amount',\n",
              " 'changes',\n",
              " 'extra',\n",
              " 'fees',\n",
              " 'surethat',\n",
              " 'love',\n",
              " 'result',\n",
              " 'collaboration',\n",
              " 'look',\n",
              " 'portfolio',\n",
              " 'interested']"
            ]
          },
          "metadata": {},
          "execution_count": 62
        }
      ]
    },
    {
      "cell_type": "code",
      "source": [
        "from sklearn.feature_extraction.text import CountVectorizer"
      ],
      "metadata": {
        "id": "wAruOsJycvWy"
      },
      "execution_count": 63,
      "outputs": []
    },
    {
      "cell_type": "code",
      "source": [
        "message = CountVectorizer(analyzer=process).fit_transform(data['text'])\n",
        "message"
      ],
      "metadata": {
        "colab": {
          "base_uri": "https://localhost:8080/"
        },
        "id": "zVnNvToCdVBj",
        "outputId": "745f9caf-8bda-48a0-baed-eaed3dc6f4cc"
      },
      "execution_count": 64,
      "outputs": [
        {
          "output_type": "execute_result",
          "data": {
            "text/plain": [
              "<5695x37229 sparse matrix of type '<class 'numpy.int64'>'\n",
              "\twith 562930 stored elements in Compressed Sparse Row format>"
            ]
          },
          "metadata": {},
          "execution_count": 64
        }
      ]
    },
    {
      "cell_type": "code",
      "source": [
        "from sklearn.model_selection import train_test_split"
      ],
      "metadata": {
        "id": "4SE1gJ7-jgiE"
      },
      "execution_count": 65,
      "outputs": []
    },
    {
      "cell_type": "code",
      "source": [
        "xtrain, xtest, ytrain, ytest = train_test_split(message, data['spam'], test_size=0.20)\n",
        "xtrain, xtest, ytrain, ytest"
      ],
      "metadata": {
        "colab": {
          "base_uri": "https://localhost:8080/"
        },
        "id": "oUnxQYVWjit5",
        "outputId": "a759d958-7d86-46f4-f958-5ed38e3c39c5"
      },
      "execution_count": 66,
      "outputs": [
        {
          "output_type": "execute_result",
          "data": {
            "text/plain": [
              "(<4556x37229 sparse matrix of type '<class 'numpy.int64'>'\n",
              " \twith 451096 stored elements in Compressed Sparse Row format>,\n",
              " <1139x37229 sparse matrix of type '<class 'numpy.int64'>'\n",
              " \twith 111834 stored elements in Compressed Sparse Row format>,\n",
              " 4918    0\n",
              " 143     1\n",
              " 3206    0\n",
              " 1507    0\n",
              " 1787    0\n",
              "        ..\n",
              " 5624    0\n",
              " 1325    1\n",
              " 5439    0\n",
              " 3553    0\n",
              " 1159    1\n",
              " Name: spam, Length: 4556, dtype: int64,\n",
              " 4549    0\n",
              " 3219    0\n",
              " 1335    1\n",
              " 4381    0\n",
              " 1003    1\n",
              "        ..\n",
              " 4343    0\n",
              " 2953    0\n",
              " 4608    0\n",
              " 3385    0\n",
              " 4036    0\n",
              " Name: spam, Length: 1139, dtype: int64)"
            ]
          },
          "metadata": {},
          "execution_count": 66
        }
      ]
    },
    {
      "cell_type": "code",
      "source": [
        "from sklearn.naive_bayes import MultinomialNB"
      ],
      "metadata": {
        "id": "alalVskBjwOz"
      },
      "execution_count": 67,
      "outputs": []
    },
    {
      "cell_type": "code",
      "source": [
        "classifier = MultinomialNB().fit(xtrain, ytrain)\n",
        "classifier.predict(xtrain)"
      ],
      "metadata": {
        "colab": {
          "base_uri": "https://localhost:8080/"
        },
        "id": "ecAnfs1qkCzh",
        "outputId": "6252d77b-a617-46e6-ff16-c5a4af9704ec"
      },
      "execution_count": 68,
      "outputs": [
        {
          "output_type": "execute_result",
          "data": {
            "text/plain": [
              "array([0, 1, 0, ..., 0, 0, 1])"
            ]
          },
          "metadata": {},
          "execution_count": 68
        }
      ]
    },
    {
      "cell_type": "code",
      "source": [
        "ytrain.values"
      ],
      "metadata": {
        "colab": {
          "base_uri": "https://localhost:8080/"
        },
        "id": "qk1RXETwniUD",
        "outputId": "6104753c-6250-4fa3-dbdc-c18aaa110c17"
      },
      "execution_count": 69,
      "outputs": [
        {
          "output_type": "execute_result",
          "data": {
            "text/plain": [
              "array([0, 1, 0, ..., 0, 0, 1])"
            ]
          },
          "metadata": {},
          "execution_count": 69
        }
      ]
    },
    {
      "cell_type": "code",
      "source": [
        "from sklearn.metrics import confusion_matrix, classification_report, accuracy_score"
      ],
      "metadata": {
        "id": "DfkgRbwhnlhW"
      },
      "execution_count": 71,
      "outputs": []
    },
    {
      "cell_type": "code",
      "source": [
        "pred = classifier.predict(xtrain)\n",
        "print(classification_report(ytrain, pred))\n",
        "print('--------------------'*2)\n",
        "print('Confusion matrix: \\n', confusion_matrix(ytrain, pred))\n",
        "print('Accuracy Score: \\n', accuracy_score(ytrain, pred))"
      ],
      "metadata": {
        "colab": {
          "base_uri": "https://localhost:8080/"
        },
        "id": "4S-yC9djnrfD",
        "outputId": "e61116fe-52a2-4859-f185-1d2cc031be63"
      },
      "execution_count": 72,
      "outputs": [
        {
          "output_type": "stream",
          "name": "stdout",
          "text": [
            "              precision    recall  f1-score   support\n",
            "\n",
            "           0       1.00      1.00      1.00      3481\n",
            "           1       0.99      1.00      0.99      1075\n",
            "\n",
            "    accuracy                           1.00      4556\n",
            "   macro avg       0.99      1.00      1.00      4556\n",
            "weighted avg       1.00      1.00      1.00      4556\n",
            "\n",
            "----------------------------------------\n",
            "Confusion matrix: \n",
            " [[3468   13]\n",
            " [   3 1072]]\n",
            "Accuracy Score: \n",
            " 0.9964881474978051\n"
          ]
        }
      ]
    },
    {
      "cell_type": "code",
      "source": [
        "classifier.predict(xtest)"
      ],
      "metadata": {
        "colab": {
          "base_uri": "https://localhost:8080/"
        },
        "id": "nRjqjK1ZoHUd",
        "outputId": "e913d3dd-d5fe-49e2-f47f-a3269d023216"
      },
      "execution_count": 73,
      "outputs": [
        {
          "output_type": "execute_result",
          "data": {
            "text/plain": [
              "array([0, 0, 1, ..., 0, 0, 0])"
            ]
          },
          "metadata": {},
          "execution_count": 73
        }
      ]
    },
    {
      "cell_type": "code",
      "source": [
        "ytest.values"
      ],
      "metadata": {
        "colab": {
          "base_uri": "https://localhost:8080/"
        },
        "id": "rQxr2ElOoRxB",
        "outputId": "320b1e61-2464-4153-a0d0-6391b8dc1238"
      },
      "execution_count": 74,
      "outputs": [
        {
          "output_type": "execute_result",
          "data": {
            "text/plain": [
              "array([0, 0, 1, ..., 0, 0, 0])"
            ]
          },
          "metadata": {},
          "execution_count": 74
        }
      ]
    },
    {
      "cell_type": "code",
      "source": [
        "pred_test = classifier.predict(xtest)\n",
        "print(classification_report(ytest, pred_test))\n",
        "print('--------------------'*2)\n",
        "print('Confusion matrix: \\n', confusion_matrix(ytest, pred_test))\n",
        "print('--------------------'*2)\n",
        "print('Accuracy Score: \\n', accuracy_score(ytest, pred_test))"
      ],
      "metadata": {
        "colab": {
          "base_uri": "https://localhost:8080/"
        },
        "id": "jx-adyD-oTa1",
        "outputId": "e3b76619-dcba-42c6-901c-45223603b20f"
      },
      "execution_count": 76,
      "outputs": [
        {
          "output_type": "stream",
          "name": "stdout",
          "text": [
            "              precision    recall  f1-score   support\n",
            "\n",
            "           0       1.00      0.99      0.99       846\n",
            "           1       0.97      0.99      0.98       293\n",
            "\n",
            "    accuracy                           0.99      1139\n",
            "   macro avg       0.98      0.99      0.99      1139\n",
            "weighted avg       0.99      0.99      0.99      1139\n",
            "\n",
            "----------------------------------------\n",
            "Confusion matrix: \n",
            " [[837   9]\n",
            " [  2 291]]\n",
            "----------------------------------------\n",
            "Accuracy Score: \n",
            " 0.990342405618964\n"
          ]
        }
      ]
    },
    {
      "cell_type": "code",
      "source": [],
      "metadata": {
        "id": "t9JB8SnKoc1d"
      },
      "execution_count": null,
      "outputs": []
    },
    {
      "cell_type": "code",
      "source": [],
      "metadata": {
        "id": "7NSoVy7Yoidu"
      },
      "execution_count": null,
      "outputs": []
    }
  ]
}