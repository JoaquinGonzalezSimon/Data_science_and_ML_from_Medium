{
  "nbformat": 4,
  "nbformat_minor": 0,
  "metadata": {
    "colab": {
      "provenance": [],
      "collapsed_sections": [],
      "authorship_tag": "ABX9TyP+elFfpBze/L++GhD6mr+f",
      "include_colab_link": true
    },
    "kernelspec": {
      "name": "python3",
      "display_name": "Python 3"
    },
    "language_info": {
      "name": "python"
    }
  },
  "cells": [
    {
      "cell_type": "markdown",
      "metadata": {
        "id": "view-in-github",
        "colab_type": "text"
      },
      "source": [
        "<a href=\"https://colab.research.google.com/github/JoaquinGonzalezSimon/Data_science_and_ML_from_Medium/blob/main/221111_Bitcoin_Price_Prediction_with_ML.ipynb\" target=\"_parent\"><img src=\"https://colab.research.google.com/assets/colab-badge.svg\" alt=\"Open In Colab\"/></a>"
      ]
    },
    {
      "cell_type": "markdown",
      "source": [
        "### This project was taken from the following link and I use it to practice my skills\n",
        "\n",
        "https://thecleverprogrammer.com/2020/05/23/bitcoin-price-prediction-with-machine-learning/\n",
        "\n",
        "https://medium.com/coders-camp/180-data-science-and-machine-learning-projects-with-python-6191bc7b9db9"
      ],
      "metadata": {
        "id": "UVT8GR_vg4f-"
      }
    },
    {
      "cell_type": "code",
      "execution_count": 1,
      "metadata": {
        "colab": {
          "base_uri": "https://localhost:8080/"
        },
        "id": "41yfOVvJg18t",
        "outputId": "4ba64e38-3480-48e0-e718-977a333cfc08"
      },
      "outputs": [
        {
          "output_type": "stream",
          "name": "stdout",
          "text": [
            "Looking in indexes: https://pypi.org/simple, https://us-python.pkg.dev/colab-wheels/public/simple/\n",
            "Collecting yfinance\n",
            "  Downloading yfinance-0.1.85-py2.py3-none-any.whl (29 kB)\n",
            "Requirement already satisfied: appdirs>=1.4.4 in /usr/local/lib/python3.7/dist-packages (from yfinance) (1.4.4)\n",
            "Requirement already satisfied: pandas>=0.24.0 in /usr/local/lib/python3.7/dist-packages (from yfinance) (1.3.5)\n",
            "Collecting requests>=2.26\n",
            "  Downloading requests-2.28.1-py3-none-any.whl (62 kB)\n",
            "\u001b[K     |████████████████████████████████| 62 kB 952 kB/s \n",
            "\u001b[?25hRequirement already satisfied: multitasking>=0.0.7 in /usr/local/lib/python3.7/dist-packages (from yfinance) (0.0.11)\n",
            "Requirement already satisfied: numpy>=1.15 in /usr/local/lib/python3.7/dist-packages (from yfinance) (1.21.6)\n",
            "Requirement already satisfied: lxml>=4.5.1 in /usr/local/lib/python3.7/dist-packages (from yfinance) (4.9.1)\n",
            "Requirement already satisfied: python-dateutil>=2.7.3 in /usr/local/lib/python3.7/dist-packages (from pandas>=0.24.0->yfinance) (2.8.2)\n",
            "Requirement already satisfied: pytz>=2017.3 in /usr/local/lib/python3.7/dist-packages (from pandas>=0.24.0->yfinance) (2022.6)\n",
            "Requirement already satisfied: six>=1.5 in /usr/local/lib/python3.7/dist-packages (from python-dateutil>=2.7.3->pandas>=0.24.0->yfinance) (1.15.0)\n",
            "Requirement already satisfied: charset-normalizer<3,>=2 in /usr/local/lib/python3.7/dist-packages (from requests>=2.26->yfinance) (2.1.1)\n",
            "Requirement already satisfied: idna<4,>=2.5 in /usr/local/lib/python3.7/dist-packages (from requests>=2.26->yfinance) (2.10)\n",
            "Requirement already satisfied: urllib3<1.27,>=1.21.1 in /usr/local/lib/python3.7/dist-packages (from requests>=2.26->yfinance) (1.24.3)\n",
            "Requirement already satisfied: certifi>=2017.4.17 in /usr/local/lib/python3.7/dist-packages (from requests>=2.26->yfinance) (2022.9.24)\n",
            "Installing collected packages: requests, yfinance\n",
            "  Attempting uninstall: requests\n",
            "    Found existing installation: requests 2.23.0\n",
            "    Uninstalling requests-2.23.0:\n",
            "      Successfully uninstalled requests-2.23.0\n",
            "Successfully installed requests-2.28.1 yfinance-0.1.85\n"
          ]
        }
      ],
      "source": [
        "pip install yfinance"
      ]
    },
    {
      "cell_type": "code",
      "source": [
        "import pandas as pd\n",
        "import numpy as np\n",
        "\n",
        "import yfinance as yf"
      ],
      "metadata": {
        "id": "D8r0UH15hGKF"
      },
      "execution_count": 2,
      "outputs": []
    },
    {
      "cell_type": "code",
      "source": [
        "btc = yf.Ticker('BTC-USD')\n",
        "btc"
      ],
      "metadata": {
        "colab": {
          "base_uri": "https://localhost:8080/"
        },
        "id": "Xn5J2Nopi8Ci",
        "outputId": "34024480-9d88-46ed-dbda-d87beb03d4e1"
      },
      "execution_count": 3,
      "outputs": [
        {
          "output_type": "execute_result",
          "data": {
            "text/plain": [
              "yfinance.Ticker object <BTC-USD>"
            ]
          },
          "metadata": {},
          "execution_count": 3
        }
      ]
    },
    {
      "cell_type": "code",
      "source": [
        "btc.history(period='max')"
      ],
      "metadata": {
        "colab": {
          "base_uri": "https://localhost:8080/",
          "height": 455
        },
        "id": "fHidBSzwjU64",
        "outputId": "fedae722-e367-40b3-9524-fc7d64c73c3a"
      },
      "execution_count": 4,
      "outputs": [
        {
          "output_type": "execute_result",
          "data": {
            "text/plain": [
              "                                   Open          High           Low  \\\n",
              "Date                                                                  \n",
              "2014-09-17 00:00:00+00:00    465.864014    468.174011    452.421997   \n",
              "2014-09-18 00:00:00+00:00    456.859985    456.859985    413.104004   \n",
              "2014-09-19 00:00:00+00:00    424.102997    427.834991    384.532013   \n",
              "2014-09-20 00:00:00+00:00    394.673004    423.295990    389.882996   \n",
              "2014-09-21 00:00:00+00:00    408.084991    412.425995    393.181000   \n",
              "...                                 ...           ...           ...   \n",
              "2022-11-07 00:00:00+00:00  20924.621094  21053.246094  20489.972656   \n",
              "2022-11-08 00:00:00+00:00  20600.671875  20664.607422  17603.544922   \n",
              "2022-11-09 00:00:00+00:00  18543.761719  18590.458984  15682.692383   \n",
              "2022-11-10 00:00:00+00:00  15883.158203  18054.312500  15834.018555   \n",
              "2022-11-11 00:00:00+00:00  17613.328125  17646.191406  16565.859375   \n",
              "\n",
              "                                  Close        Volume  Dividends  Stock Splits  \n",
              "Date                                                                            \n",
              "2014-09-17 00:00:00+00:00    457.334015      21056800          0             0  \n",
              "2014-09-18 00:00:00+00:00    424.440002      34483200          0             0  \n",
              "2014-09-19 00:00:00+00:00    394.795990      37919700          0             0  \n",
              "2014-09-20 00:00:00+00:00    408.903992      36863600          0             0  \n",
              "2014-09-21 00:00:00+00:00    398.821014      26580100          0             0  \n",
              "...                                 ...           ...        ...           ...  \n",
              "2022-11-07 00:00:00+00:00  20602.816406   53510852236          0             0  \n",
              "2022-11-08 00:00:00+00:00  18541.271484  118992465607          0             0  \n",
              "2022-11-09 00:00:00+00:00  15880.780273  102905151606          0             0  \n",
              "2022-11-10 00:00:00+00:00  17586.771484   83202283721          0             0  \n",
              "2022-11-11 00:00:00+00:00  16694.468750   61361295360          0             0  \n",
              "\n",
              "[2978 rows x 7 columns]"
            ],
            "text/html": [
              "\n",
              "  <div id=\"df-b67fd27b-7b6b-40bb-863b-e131e195a13b\">\n",
              "    <div class=\"colab-df-container\">\n",
              "      <div>\n",
              "<style scoped>\n",
              "    .dataframe tbody tr th:only-of-type {\n",
              "        vertical-align: middle;\n",
              "    }\n",
              "\n",
              "    .dataframe tbody tr th {\n",
              "        vertical-align: top;\n",
              "    }\n",
              "\n",
              "    .dataframe thead th {\n",
              "        text-align: right;\n",
              "    }\n",
              "</style>\n",
              "<table border=\"1\" class=\"dataframe\">\n",
              "  <thead>\n",
              "    <tr style=\"text-align: right;\">\n",
              "      <th></th>\n",
              "      <th>Open</th>\n",
              "      <th>High</th>\n",
              "      <th>Low</th>\n",
              "      <th>Close</th>\n",
              "      <th>Volume</th>\n",
              "      <th>Dividends</th>\n",
              "      <th>Stock Splits</th>\n",
              "    </tr>\n",
              "    <tr>\n",
              "      <th>Date</th>\n",
              "      <th></th>\n",
              "      <th></th>\n",
              "      <th></th>\n",
              "      <th></th>\n",
              "      <th></th>\n",
              "      <th></th>\n",
              "      <th></th>\n",
              "    </tr>\n",
              "  </thead>\n",
              "  <tbody>\n",
              "    <tr>\n",
              "      <th>2014-09-17 00:00:00+00:00</th>\n",
              "      <td>465.864014</td>\n",
              "      <td>468.174011</td>\n",
              "      <td>452.421997</td>\n",
              "      <td>457.334015</td>\n",
              "      <td>21056800</td>\n",
              "      <td>0</td>\n",
              "      <td>0</td>\n",
              "    </tr>\n",
              "    <tr>\n",
              "      <th>2014-09-18 00:00:00+00:00</th>\n",
              "      <td>456.859985</td>\n",
              "      <td>456.859985</td>\n",
              "      <td>413.104004</td>\n",
              "      <td>424.440002</td>\n",
              "      <td>34483200</td>\n",
              "      <td>0</td>\n",
              "      <td>0</td>\n",
              "    </tr>\n",
              "    <tr>\n",
              "      <th>2014-09-19 00:00:00+00:00</th>\n",
              "      <td>424.102997</td>\n",
              "      <td>427.834991</td>\n",
              "      <td>384.532013</td>\n",
              "      <td>394.795990</td>\n",
              "      <td>37919700</td>\n",
              "      <td>0</td>\n",
              "      <td>0</td>\n",
              "    </tr>\n",
              "    <tr>\n",
              "      <th>2014-09-20 00:00:00+00:00</th>\n",
              "      <td>394.673004</td>\n",
              "      <td>423.295990</td>\n",
              "      <td>389.882996</td>\n",
              "      <td>408.903992</td>\n",
              "      <td>36863600</td>\n",
              "      <td>0</td>\n",
              "      <td>0</td>\n",
              "    </tr>\n",
              "    <tr>\n",
              "      <th>2014-09-21 00:00:00+00:00</th>\n",
              "      <td>408.084991</td>\n",
              "      <td>412.425995</td>\n",
              "      <td>393.181000</td>\n",
              "      <td>398.821014</td>\n",
              "      <td>26580100</td>\n",
              "      <td>0</td>\n",
              "      <td>0</td>\n",
              "    </tr>\n",
              "    <tr>\n",
              "      <th>...</th>\n",
              "      <td>...</td>\n",
              "      <td>...</td>\n",
              "      <td>...</td>\n",
              "      <td>...</td>\n",
              "      <td>...</td>\n",
              "      <td>...</td>\n",
              "      <td>...</td>\n",
              "    </tr>\n",
              "    <tr>\n",
              "      <th>2022-11-07 00:00:00+00:00</th>\n",
              "      <td>20924.621094</td>\n",
              "      <td>21053.246094</td>\n",
              "      <td>20489.972656</td>\n",
              "      <td>20602.816406</td>\n",
              "      <td>53510852236</td>\n",
              "      <td>0</td>\n",
              "      <td>0</td>\n",
              "    </tr>\n",
              "    <tr>\n",
              "      <th>2022-11-08 00:00:00+00:00</th>\n",
              "      <td>20600.671875</td>\n",
              "      <td>20664.607422</td>\n",
              "      <td>17603.544922</td>\n",
              "      <td>18541.271484</td>\n",
              "      <td>118992465607</td>\n",
              "      <td>0</td>\n",
              "      <td>0</td>\n",
              "    </tr>\n",
              "    <tr>\n",
              "      <th>2022-11-09 00:00:00+00:00</th>\n",
              "      <td>18543.761719</td>\n",
              "      <td>18590.458984</td>\n",
              "      <td>15682.692383</td>\n",
              "      <td>15880.780273</td>\n",
              "      <td>102905151606</td>\n",
              "      <td>0</td>\n",
              "      <td>0</td>\n",
              "    </tr>\n",
              "    <tr>\n",
              "      <th>2022-11-10 00:00:00+00:00</th>\n",
              "      <td>15883.158203</td>\n",
              "      <td>18054.312500</td>\n",
              "      <td>15834.018555</td>\n",
              "      <td>17586.771484</td>\n",
              "      <td>83202283721</td>\n",
              "      <td>0</td>\n",
              "      <td>0</td>\n",
              "    </tr>\n",
              "    <tr>\n",
              "      <th>2022-11-11 00:00:00+00:00</th>\n",
              "      <td>17613.328125</td>\n",
              "      <td>17646.191406</td>\n",
              "      <td>16565.859375</td>\n",
              "      <td>16694.468750</td>\n",
              "      <td>61361295360</td>\n",
              "      <td>0</td>\n",
              "      <td>0</td>\n",
              "    </tr>\n",
              "  </tbody>\n",
              "</table>\n",
              "<p>2978 rows × 7 columns</p>\n",
              "</div>\n",
              "      <button class=\"colab-df-convert\" onclick=\"convertToInteractive('df-b67fd27b-7b6b-40bb-863b-e131e195a13b')\"\n",
              "              title=\"Convert this dataframe to an interactive table.\"\n",
              "              style=\"display:none;\">\n",
              "        \n",
              "  <svg xmlns=\"http://www.w3.org/2000/svg\" height=\"24px\"viewBox=\"0 0 24 24\"\n",
              "       width=\"24px\">\n",
              "    <path d=\"M0 0h24v24H0V0z\" fill=\"none\"/>\n",
              "    <path d=\"M18.56 5.44l.94 2.06.94-2.06 2.06-.94-2.06-.94-.94-2.06-.94 2.06-2.06.94zm-11 1L8.5 8.5l.94-2.06 2.06-.94-2.06-.94L8.5 2.5l-.94 2.06-2.06.94zm10 10l.94 2.06.94-2.06 2.06-.94-2.06-.94-.94-2.06-.94 2.06-2.06.94z\"/><path d=\"M17.41 7.96l-1.37-1.37c-.4-.4-.92-.59-1.43-.59-.52 0-1.04.2-1.43.59L10.3 9.45l-7.72 7.72c-.78.78-.78 2.05 0 2.83L4 21.41c.39.39.9.59 1.41.59.51 0 1.02-.2 1.41-.59l7.78-7.78 2.81-2.81c.8-.78.8-2.07 0-2.86zM5.41 20L4 18.59l7.72-7.72 1.47 1.35L5.41 20z\"/>\n",
              "  </svg>\n",
              "      </button>\n",
              "      \n",
              "  <style>\n",
              "    .colab-df-container {\n",
              "      display:flex;\n",
              "      flex-wrap:wrap;\n",
              "      gap: 12px;\n",
              "    }\n",
              "\n",
              "    .colab-df-convert {\n",
              "      background-color: #E8F0FE;\n",
              "      border: none;\n",
              "      border-radius: 50%;\n",
              "      cursor: pointer;\n",
              "      display: none;\n",
              "      fill: #1967D2;\n",
              "      height: 32px;\n",
              "      padding: 0 0 0 0;\n",
              "      width: 32px;\n",
              "    }\n",
              "\n",
              "    .colab-df-convert:hover {\n",
              "      background-color: #E2EBFA;\n",
              "      box-shadow: 0px 1px 2px rgba(60, 64, 67, 0.3), 0px 1px 3px 1px rgba(60, 64, 67, 0.15);\n",
              "      fill: #174EA6;\n",
              "    }\n",
              "\n",
              "    [theme=dark] .colab-df-convert {\n",
              "      background-color: #3B4455;\n",
              "      fill: #D2E3FC;\n",
              "    }\n",
              "\n",
              "    [theme=dark] .colab-df-convert:hover {\n",
              "      background-color: #434B5C;\n",
              "      box-shadow: 0px 1px 3px 1px rgba(0, 0, 0, 0.15);\n",
              "      filter: drop-shadow(0px 1px 2px rgba(0, 0, 0, 0.3));\n",
              "      fill: #FFFFFF;\n",
              "    }\n",
              "  </style>\n",
              "\n",
              "      <script>\n",
              "        const buttonEl =\n",
              "          document.querySelector('#df-b67fd27b-7b6b-40bb-863b-e131e195a13b button.colab-df-convert');\n",
              "        buttonEl.style.display =\n",
              "          google.colab.kernel.accessAllowed ? 'block' : 'none';\n",
              "\n",
              "        async function convertToInteractive(key) {\n",
              "          const element = document.querySelector('#df-b67fd27b-7b6b-40bb-863b-e131e195a13b');\n",
              "          const dataTable =\n",
              "            await google.colab.kernel.invokeFunction('convertToInteractive',\n",
              "                                                     [key], {});\n",
              "          if (!dataTable) return;\n",
              "\n",
              "          const docLinkHtml = 'Like what you see? Visit the ' +\n",
              "            '<a target=\"_blank\" href=https://colab.research.google.com/notebooks/data_table.ipynb>data table notebook</a>'\n",
              "            + ' to learn more about interactive tables.';\n",
              "          element.innerHTML = '';\n",
              "          dataTable['output_type'] = 'display_data';\n",
              "          await google.colab.output.renderOutput(dataTable, element);\n",
              "          const docLink = document.createElement('div');\n",
              "          docLink.innerHTML = docLinkHtml;\n",
              "          element.appendChild(docLink);\n",
              "        }\n",
              "      </script>\n",
              "    </div>\n",
              "  </div>\n",
              "  "
            ]
          },
          "metadata": {},
          "execution_count": 4
        }
      ]
    },
    {
      "cell_type": "code",
      "source": [
        "data = btc.history(period='max')\n",
        "data.info()"
      ],
      "metadata": {
        "colab": {
          "base_uri": "https://localhost:8080/"
        },
        "id": "mCESsIA8j1sV",
        "outputId": "3f7acb03-3010-4546-bb07-21eba531617f"
      },
      "execution_count": 7,
      "outputs": [
        {
          "output_type": "stream",
          "name": "stdout",
          "text": [
            "<class 'pandas.core.frame.DataFrame'>\n",
            "DatetimeIndex: 2978 entries, 2014-09-17 00:00:00+00:00 to 2022-11-11 00:00:00+00:00\n",
            "Data columns (total 7 columns):\n",
            " #   Column        Non-Null Count  Dtype  \n",
            "---  ------        --------------  -----  \n",
            " 0   Open          2978 non-null   float64\n",
            " 1   High          2978 non-null   float64\n",
            " 2   Low           2978 non-null   float64\n",
            " 3   Close         2978 non-null   float64\n",
            " 4   Volume        2978 non-null   int64  \n",
            " 5   Dividends     2978 non-null   int64  \n",
            " 6   Stock Splits  2978 non-null   int64  \n",
            "dtypes: float64(4), int64(3)\n",
            "memory usage: 250.7 KB\n"
          ]
        }
      ]
    },
    {
      "cell_type": "code",
      "source": [
        "data.reset_index(drop=False, inplace=True)"
      ],
      "metadata": {
        "id": "33scp9khj9ow"
      },
      "execution_count": 11,
      "outputs": []
    },
    {
      "cell_type": "code",
      "source": [
        "data.info()"
      ],
      "metadata": {
        "colab": {
          "base_uri": "https://localhost:8080/"
        },
        "id": "5D68nkunkTEa",
        "outputId": "5cbbb1ac-79b1-4016-a5c1-5a14fc8e5936"
      },
      "execution_count": 12,
      "outputs": [
        {
          "output_type": "stream",
          "name": "stdout",
          "text": [
            "<class 'pandas.core.frame.DataFrame'>\n",
            "RangeIndex: 2978 entries, 0 to 2977\n",
            "Data columns (total 8 columns):\n",
            " #   Column        Non-Null Count  Dtype              \n",
            "---  ------        --------------  -----              \n",
            " 0   Date          2978 non-null   datetime64[ns, UTC]\n",
            " 1   Open          2978 non-null   float64            \n",
            " 2   High          2978 non-null   float64            \n",
            " 3   Low           2978 non-null   float64            \n",
            " 4   Close         2978 non-null   float64            \n",
            " 5   Volume        2978 non-null   int64              \n",
            " 6   Dividends     2978 non-null   int64              \n",
            " 7   Stock Splits  2978 non-null   int64              \n",
            "dtypes: datetime64[ns, UTC](1), float64(4), int64(3)\n",
            "memory usage: 186.2 KB\n"
          ]
        }
      ]
    },
    {
      "cell_type": "code",
      "source": [
        "data = data[['Date', 'Close']]"
      ],
      "metadata": {
        "id": "9ojuQ6MakXnz"
      },
      "execution_count": 14,
      "outputs": []
    },
    {
      "cell_type": "code",
      "source": [
        "data.drop(columns='Date', inplace=True)"
      ],
      "metadata": {
        "id": "BVSZI8Kaka9d"
      },
      "execution_count": 18,
      "outputs": []
    },
    {
      "cell_type": "code",
      "source": [
        "pred_days = 30\n",
        "data['prediction'] = data['Close'].shift(-pred_days)\n",
        "data.head()"
      ],
      "metadata": {
        "colab": {
          "base_uri": "https://localhost:8080/",
          "height": 206
        },
        "id": "IS724__ckeUG",
        "outputId": "3c1665a5-c3ea-4710-adae-547aab8f0061"
      },
      "execution_count": 19,
      "outputs": [
        {
          "output_type": "execute_result",
          "data": {
            "text/plain": [
              "        Close  prediction\n",
              "0  457.334015  383.757996\n",
              "1  424.440002  391.441986\n",
              "2  394.795990  389.545990\n",
              "3  408.903992  382.845001\n",
              "4  398.821014  386.475006"
            ],
            "text/html": [
              "\n",
              "  <div id=\"df-1c8a7ce6-9d79-4f93-b6f0-c7702338618c\">\n",
              "    <div class=\"colab-df-container\">\n",
              "      <div>\n",
              "<style scoped>\n",
              "    .dataframe tbody tr th:only-of-type {\n",
              "        vertical-align: middle;\n",
              "    }\n",
              "\n",
              "    .dataframe tbody tr th {\n",
              "        vertical-align: top;\n",
              "    }\n",
              "\n",
              "    .dataframe thead th {\n",
              "        text-align: right;\n",
              "    }\n",
              "</style>\n",
              "<table border=\"1\" class=\"dataframe\">\n",
              "  <thead>\n",
              "    <tr style=\"text-align: right;\">\n",
              "      <th></th>\n",
              "      <th>Close</th>\n",
              "      <th>prediction</th>\n",
              "    </tr>\n",
              "  </thead>\n",
              "  <tbody>\n",
              "    <tr>\n",
              "      <th>0</th>\n",
              "      <td>457.334015</td>\n",
              "      <td>383.757996</td>\n",
              "    </tr>\n",
              "    <tr>\n",
              "      <th>1</th>\n",
              "      <td>424.440002</td>\n",
              "      <td>391.441986</td>\n",
              "    </tr>\n",
              "    <tr>\n",
              "      <th>2</th>\n",
              "      <td>394.795990</td>\n",
              "      <td>389.545990</td>\n",
              "    </tr>\n",
              "    <tr>\n",
              "      <th>3</th>\n",
              "      <td>408.903992</td>\n",
              "      <td>382.845001</td>\n",
              "    </tr>\n",
              "    <tr>\n",
              "      <th>4</th>\n",
              "      <td>398.821014</td>\n",
              "      <td>386.475006</td>\n",
              "    </tr>\n",
              "  </tbody>\n",
              "</table>\n",
              "</div>\n",
              "      <button class=\"colab-df-convert\" onclick=\"convertToInteractive('df-1c8a7ce6-9d79-4f93-b6f0-c7702338618c')\"\n",
              "              title=\"Convert this dataframe to an interactive table.\"\n",
              "              style=\"display:none;\">\n",
              "        \n",
              "  <svg xmlns=\"http://www.w3.org/2000/svg\" height=\"24px\"viewBox=\"0 0 24 24\"\n",
              "       width=\"24px\">\n",
              "    <path d=\"M0 0h24v24H0V0z\" fill=\"none\"/>\n",
              "    <path d=\"M18.56 5.44l.94 2.06.94-2.06 2.06-.94-2.06-.94-.94-2.06-.94 2.06-2.06.94zm-11 1L8.5 8.5l.94-2.06 2.06-.94-2.06-.94L8.5 2.5l-.94 2.06-2.06.94zm10 10l.94 2.06.94-2.06 2.06-.94-2.06-.94-.94-2.06-.94 2.06-2.06.94z\"/><path d=\"M17.41 7.96l-1.37-1.37c-.4-.4-.92-.59-1.43-.59-.52 0-1.04.2-1.43.59L10.3 9.45l-7.72 7.72c-.78.78-.78 2.05 0 2.83L4 21.41c.39.39.9.59 1.41.59.51 0 1.02-.2 1.41-.59l7.78-7.78 2.81-2.81c.8-.78.8-2.07 0-2.86zM5.41 20L4 18.59l7.72-7.72 1.47 1.35L5.41 20z\"/>\n",
              "  </svg>\n",
              "      </button>\n",
              "      \n",
              "  <style>\n",
              "    .colab-df-container {\n",
              "      display:flex;\n",
              "      flex-wrap:wrap;\n",
              "      gap: 12px;\n",
              "    }\n",
              "\n",
              "    .colab-df-convert {\n",
              "      background-color: #E8F0FE;\n",
              "      border: none;\n",
              "      border-radius: 50%;\n",
              "      cursor: pointer;\n",
              "      display: none;\n",
              "      fill: #1967D2;\n",
              "      height: 32px;\n",
              "      padding: 0 0 0 0;\n",
              "      width: 32px;\n",
              "    }\n",
              "\n",
              "    .colab-df-convert:hover {\n",
              "      background-color: #E2EBFA;\n",
              "      box-shadow: 0px 1px 2px rgba(60, 64, 67, 0.3), 0px 1px 3px 1px rgba(60, 64, 67, 0.15);\n",
              "      fill: #174EA6;\n",
              "    }\n",
              "\n",
              "    [theme=dark] .colab-df-convert {\n",
              "      background-color: #3B4455;\n",
              "      fill: #D2E3FC;\n",
              "    }\n",
              "\n",
              "    [theme=dark] .colab-df-convert:hover {\n",
              "      background-color: #434B5C;\n",
              "      box-shadow: 0px 1px 3px 1px rgba(0, 0, 0, 0.15);\n",
              "      filter: drop-shadow(0px 1px 2px rgba(0, 0, 0, 0.3));\n",
              "      fill: #FFFFFF;\n",
              "    }\n",
              "  </style>\n",
              "\n",
              "      <script>\n",
              "        const buttonEl =\n",
              "          document.querySelector('#df-1c8a7ce6-9d79-4f93-b6f0-c7702338618c button.colab-df-convert');\n",
              "        buttonEl.style.display =\n",
              "          google.colab.kernel.accessAllowed ? 'block' : 'none';\n",
              "\n",
              "        async function convertToInteractive(key) {\n",
              "          const element = document.querySelector('#df-1c8a7ce6-9d79-4f93-b6f0-c7702338618c');\n",
              "          const dataTable =\n",
              "            await google.colab.kernel.invokeFunction('convertToInteractive',\n",
              "                                                     [key], {});\n",
              "          if (!dataTable) return;\n",
              "\n",
              "          const docLinkHtml = 'Like what you see? Visit the ' +\n",
              "            '<a target=\"_blank\" href=https://colab.research.google.com/notebooks/data_table.ipynb>data table notebook</a>'\n",
              "            + ' to learn more about interactive tables.';\n",
              "          element.innerHTML = '';\n",
              "          dataTable['output_type'] = 'display_data';\n",
              "          await google.colab.output.renderOutput(dataTable, element);\n",
              "          const docLink = document.createElement('div');\n",
              "          docLink.innerHTML = docLinkHtml;\n",
              "          element.appendChild(docLink);\n",
              "        }\n",
              "      </script>\n",
              "    </div>\n",
              "  </div>\n",
              "  "
            ]
          },
          "metadata": {},
          "execution_count": 19
        }
      ]
    },
    {
      "cell_type": "code",
      "source": [
        "data.tail()"
      ],
      "metadata": {
        "colab": {
          "base_uri": "https://localhost:8080/",
          "height": 206
        },
        "id": "cEwJW4PolBA5",
        "outputId": "4265d7a1-0bbc-4f1c-f3b3-08e31f2fe22e"
      },
      "execution_count": 20,
      "outputs": [
        {
          "output_type": "execute_result",
          "data": {
            "text/plain": [
              "             Close  prediction\n",
              "2973  20602.816406         NaN\n",
              "2974  18541.271484         NaN\n",
              "2975  15880.780273         NaN\n",
              "2976  17586.771484         NaN\n",
              "2977  16702.640625         NaN"
            ],
            "text/html": [
              "\n",
              "  <div id=\"df-00364152-43ce-4f27-99c6-602cd88c8318\">\n",
              "    <div class=\"colab-df-container\">\n",
              "      <div>\n",
              "<style scoped>\n",
              "    .dataframe tbody tr th:only-of-type {\n",
              "        vertical-align: middle;\n",
              "    }\n",
              "\n",
              "    .dataframe tbody tr th {\n",
              "        vertical-align: top;\n",
              "    }\n",
              "\n",
              "    .dataframe thead th {\n",
              "        text-align: right;\n",
              "    }\n",
              "</style>\n",
              "<table border=\"1\" class=\"dataframe\">\n",
              "  <thead>\n",
              "    <tr style=\"text-align: right;\">\n",
              "      <th></th>\n",
              "      <th>Close</th>\n",
              "      <th>prediction</th>\n",
              "    </tr>\n",
              "  </thead>\n",
              "  <tbody>\n",
              "    <tr>\n",
              "      <th>2973</th>\n",
              "      <td>20602.816406</td>\n",
              "      <td>NaN</td>\n",
              "    </tr>\n",
              "    <tr>\n",
              "      <th>2974</th>\n",
              "      <td>18541.271484</td>\n",
              "      <td>NaN</td>\n",
              "    </tr>\n",
              "    <tr>\n",
              "      <th>2975</th>\n",
              "      <td>15880.780273</td>\n",
              "      <td>NaN</td>\n",
              "    </tr>\n",
              "    <tr>\n",
              "      <th>2976</th>\n",
              "      <td>17586.771484</td>\n",
              "      <td>NaN</td>\n",
              "    </tr>\n",
              "    <tr>\n",
              "      <th>2977</th>\n",
              "      <td>16702.640625</td>\n",
              "      <td>NaN</td>\n",
              "    </tr>\n",
              "  </tbody>\n",
              "</table>\n",
              "</div>\n",
              "      <button class=\"colab-df-convert\" onclick=\"convertToInteractive('df-00364152-43ce-4f27-99c6-602cd88c8318')\"\n",
              "              title=\"Convert this dataframe to an interactive table.\"\n",
              "              style=\"display:none;\">\n",
              "        \n",
              "  <svg xmlns=\"http://www.w3.org/2000/svg\" height=\"24px\"viewBox=\"0 0 24 24\"\n",
              "       width=\"24px\">\n",
              "    <path d=\"M0 0h24v24H0V0z\" fill=\"none\"/>\n",
              "    <path d=\"M18.56 5.44l.94 2.06.94-2.06 2.06-.94-2.06-.94-.94-2.06-.94 2.06-2.06.94zm-11 1L8.5 8.5l.94-2.06 2.06-.94-2.06-.94L8.5 2.5l-.94 2.06-2.06.94zm10 10l.94 2.06.94-2.06 2.06-.94-2.06-.94-.94-2.06-.94 2.06-2.06.94z\"/><path d=\"M17.41 7.96l-1.37-1.37c-.4-.4-.92-.59-1.43-.59-.52 0-1.04.2-1.43.59L10.3 9.45l-7.72 7.72c-.78.78-.78 2.05 0 2.83L4 21.41c.39.39.9.59 1.41.59.51 0 1.02-.2 1.41-.59l7.78-7.78 2.81-2.81c.8-.78.8-2.07 0-2.86zM5.41 20L4 18.59l7.72-7.72 1.47 1.35L5.41 20z\"/>\n",
              "  </svg>\n",
              "      </button>\n",
              "      \n",
              "  <style>\n",
              "    .colab-df-container {\n",
              "      display:flex;\n",
              "      flex-wrap:wrap;\n",
              "      gap: 12px;\n",
              "    }\n",
              "\n",
              "    .colab-df-convert {\n",
              "      background-color: #E8F0FE;\n",
              "      border: none;\n",
              "      border-radius: 50%;\n",
              "      cursor: pointer;\n",
              "      display: none;\n",
              "      fill: #1967D2;\n",
              "      height: 32px;\n",
              "      padding: 0 0 0 0;\n",
              "      width: 32px;\n",
              "    }\n",
              "\n",
              "    .colab-df-convert:hover {\n",
              "      background-color: #E2EBFA;\n",
              "      box-shadow: 0px 1px 2px rgba(60, 64, 67, 0.3), 0px 1px 3px 1px rgba(60, 64, 67, 0.15);\n",
              "      fill: #174EA6;\n",
              "    }\n",
              "\n",
              "    [theme=dark] .colab-df-convert {\n",
              "      background-color: #3B4455;\n",
              "      fill: #D2E3FC;\n",
              "    }\n",
              "\n",
              "    [theme=dark] .colab-df-convert:hover {\n",
              "      background-color: #434B5C;\n",
              "      box-shadow: 0px 1px 3px 1px rgba(0, 0, 0, 0.15);\n",
              "      filter: drop-shadow(0px 1px 2px rgba(0, 0, 0, 0.3));\n",
              "      fill: #FFFFFF;\n",
              "    }\n",
              "  </style>\n",
              "\n",
              "      <script>\n",
              "        const buttonEl =\n",
              "          document.querySelector('#df-00364152-43ce-4f27-99c6-602cd88c8318 button.colab-df-convert');\n",
              "        buttonEl.style.display =\n",
              "          google.colab.kernel.accessAllowed ? 'block' : 'none';\n",
              "\n",
              "        async function convertToInteractive(key) {\n",
              "          const element = document.querySelector('#df-00364152-43ce-4f27-99c6-602cd88c8318');\n",
              "          const dataTable =\n",
              "            await google.colab.kernel.invokeFunction('convertToInteractive',\n",
              "                                                     [key], {});\n",
              "          if (!dataTable) return;\n",
              "\n",
              "          const docLinkHtml = 'Like what you see? Visit the ' +\n",
              "            '<a target=\"_blank\" href=https://colab.research.google.com/notebooks/data_table.ipynb>data table notebook</a>'\n",
              "            + ' to learn more about interactive tables.';\n",
              "          element.innerHTML = '';\n",
              "          dataTable['output_type'] = 'display_data';\n",
              "          await google.colab.output.renderOutput(dataTable, element);\n",
              "          const docLink = document.createElement('div');\n",
              "          docLink.innerHTML = docLinkHtml;\n",
              "          element.appendChild(docLink);\n",
              "        }\n",
              "      </script>\n",
              "    </div>\n",
              "  </div>\n",
              "  "
            ]
          },
          "metadata": {},
          "execution_count": 20
        }
      ]
    },
    {
      "cell_type": "code",
      "source": [
        "x = np.array(data[['Close']])\n",
        "x = x[:len(data)-pred_days]\n",
        "x"
      ],
      "metadata": {
        "colab": {
          "base_uri": "https://localhost:8080/"
        },
        "id": "1UGBa95XlIiF",
        "outputId": "5f86891c-6563-4118-9823-475eda0d6ebb"
      },
      "execution_count": 30,
      "outputs": [
        {
          "output_type": "execute_result",
          "data": {
            "text/plain": [
              "array([[  457.33401489],\n",
              "       [  424.44000244],\n",
              "       [  394.79598999],\n",
              "       ...,\n",
              "       [19141.484375  ],\n",
              "       [19051.41796875],\n",
              "       [19157.4453125 ]])"
            ]
          },
          "metadata": {},
          "execution_count": 30
        }
      ]
    },
    {
      "cell_type": "code",
      "source": [
        "y = np.array(data[['prediction']])\n",
        "y = y[: -pred_days]\n",
        "y"
      ],
      "metadata": {
        "colab": {
          "base_uri": "https://localhost:8080/"
        },
        "id": "Un7JVDDzlozf",
        "outputId": "1b55499e-cfa8-4a2d-b25f-29ebdcfb7046"
      },
      "execution_count": 31,
      "outputs": [
        {
          "output_type": "execute_result",
          "data": {
            "text/plain": [
              "array([[  383.75799561],\n",
              "       [  391.44198608],\n",
              "       [  389.54598999],\n",
              "       ...,\n",
              "       [15880.78027344],\n",
              "       [17586.77148438],\n",
              "       [16702.640625  ]])"
            ]
          },
          "metadata": {},
          "execution_count": 31
        }
      ]
    },
    {
      "cell_type": "code",
      "source": [
        "from sklearn.model_selection import train_test_split"
      ],
      "metadata": {
        "id": "ZnFDkt4elvcZ"
      },
      "execution_count": 32,
      "outputs": []
    },
    {
      "cell_type": "code",
      "source": [
        "xtrain, xtest, ytrain, ytest = train_test_split(x, y, test_size=0.2)"
      ],
      "metadata": {
        "id": "4N__lGA9l0Ny"
      },
      "execution_count": 38,
      "outputs": []
    },
    {
      "cell_type": "code",
      "source": [
        "xtrain.shape, ytrain.shape, xtest.shape, ytest.shape"
      ],
      "metadata": {
        "colab": {
          "base_uri": "https://localhost:8080/"
        },
        "id": "-DptJbDTl5ou",
        "outputId": "f85462d5-bc43-41a9-c00f-4b6c43efe9fd"
      },
      "execution_count": 39,
      "outputs": [
        {
          "output_type": "execute_result",
          "data": {
            "text/plain": [
              "((2358, 1), (2358, 1), (590, 1), (590, 1))"
            ]
          },
          "metadata": {},
          "execution_count": 39
        }
      ]
    },
    {
      "cell_type": "code",
      "source": [
        "pred_days_array = np.array(data.drop(['prediction'],1))[-pred_days:]\n",
        "pred_days_array"
      ],
      "metadata": {
        "colab": {
          "base_uri": "https://localhost:8080/"
        },
        "id": "l5-GPL-Cl9Qo",
        "outputId": "b11470c7-3af3-4deb-a62c-032fc01a3ac6"
      },
      "execution_count": 40,
      "outputs": [
        {
          "output_type": "stream",
          "name": "stderr",
          "text": [
            "/usr/local/lib/python3.7/dist-packages/ipykernel_launcher.py:1: FutureWarning: In a future version of pandas all arguments of DataFrame.drop except for the argument 'labels' will be keyword-only\n",
            "  \"\"\"Entry point for launching an IPython kernel.\n"
          ]
        },
        {
          "output_type": "execute_result",
          "data": {
            "text/plain": [
              "array([[19382.90429688],\n",
              "       [19185.65625   ],\n",
              "       [19067.63476562],\n",
              "       [19268.09375   ],\n",
              "       [19550.7578125 ],\n",
              "       [19334.41601562],\n",
              "       [19139.53515625],\n",
              "       [19053.74023438],\n",
              "       [19172.46875   ],\n",
              "       [19208.18945312],\n",
              "       [19567.0078125 ],\n",
              "       [19345.57226562],\n",
              "       [20095.85742188],\n",
              "       [20770.44140625],\n",
              "       [20285.8359375 ],\n",
              "       [20595.3515625 ],\n",
              "       [20818.4765625 ],\n",
              "       [20635.60351562],\n",
              "       [20495.7734375 ],\n",
              "       [20485.2734375 ],\n",
              "       [20159.50390625],\n",
              "       [20209.98828125],\n",
              "       [21147.23046875],\n",
              "       [21282.69140625],\n",
              "       [20926.48632812],\n",
              "       [20602.81640625],\n",
              "       [18541.27148438],\n",
              "       [15880.78027344],\n",
              "       [17586.77148438],\n",
              "       [16702.640625  ]])"
            ]
          },
          "metadata": {},
          "execution_count": 40
        }
      ]
    },
    {
      "cell_type": "code",
      "source": [
        "from sklearn.svm import SVR"
      ],
      "metadata": {
        "id": "3XA3S1X0m1Fx"
      },
      "execution_count": 41,
      "outputs": []
    },
    {
      "cell_type": "code",
      "source": [
        "svr_rbf = SVR(kernel='rbf', C=1e3, gamma=0.00001)\n",
        "svr_rbf.fit(xtrain, ytrain)"
      ],
      "metadata": {
        "colab": {
          "base_uri": "https://localhost:8080/"
        },
        "id": "B4T5hXNXm71l",
        "outputId": "a6cb7a58-7a54-4230-e093-80212b7bae0d"
      },
      "execution_count": 42,
      "outputs": [
        {
          "output_type": "stream",
          "name": "stderr",
          "text": [
            "/usr/local/lib/python3.7/dist-packages/sklearn/utils/validation.py:993: DataConversionWarning: A column-vector y was passed when a 1d array was expected. Please change the shape of y to (n_samples, ), for example using ravel().\n",
            "  y = column_or_1d(y, warn=True)\n"
          ]
        },
        {
          "output_type": "execute_result",
          "data": {
            "text/plain": [
              "SVR(C=1000.0, gamma=1e-05)"
            ]
          },
          "metadata": {},
          "execution_count": 42
        }
      ]
    },
    {
      "cell_type": "code",
      "source": [
        "svr_rbf_confidence = svr_rbf.score(xtest, ytest)"
      ],
      "metadata": {
        "id": "xtJiyFbbnEeP"
      },
      "execution_count": 43,
      "outputs": []
    },
    {
      "cell_type": "code",
      "source": [
        "svr_rbf_confidence"
      ],
      "metadata": {
        "colab": {
          "base_uri": "https://localhost:8080/"
        },
        "id": "lRGMPIeingku",
        "outputId": "444c0317-0b99-4f8e-d2e7-a5aaadbe0add"
      },
      "execution_count": 44,
      "outputs": [
        {
          "output_type": "execute_result",
          "data": {
            "text/plain": [
              "0.7206564985641354"
            ]
          },
          "metadata": {},
          "execution_count": 44
        }
      ]
    },
    {
      "cell_type": "code",
      "source": [
        "svm_pred = svr_rbf.predict(xtest)\n",
        "svm_pred"
      ],
      "metadata": {
        "colab": {
          "base_uri": "https://localhost:8080/"
        },
        "id": "MBsKDSidnh98",
        "outputId": "476b6ee6-b931-4998-b818-8082f26afe32"
      },
      "execution_count": 46,
      "outputs": [
        {
          "output_type": "execute_result",
          "data": {
            "text/plain": [
              "array([ 9144.98647806,   335.84261973, 28841.44188609, 21919.23601623,\n",
              "       18631.64805344, 20577.20527893, 31805.96286528,  3920.75623217,\n",
              "       11337.46160033,  8819.81090811,  5250.97395057,  9421.50626225,\n",
              "        1232.56419424,  8372.69353676,  9129.42958985, 17983.8521629 ,\n",
              "        3985.97275578,  4210.71658664,   877.61279424, 31502.22682108,\n",
              "        7567.05010759,   288.24594977,   288.50744821, 29261.34737191,\n",
              "         295.66787906,  3899.66747266,  4842.33392946,  2750.71538113,\n",
              "       27240.24688131,  5239.35897165, 27196.6104319 ,  9379.20640262,\n",
              "       24808.14729093,  9248.91042316,  4051.95942955, 10492.80661488,\n",
              "       20717.97177899,   352.51143382,   326.04645916, 10763.39081908,\n",
              "         228.5870289 , 21363.64274466,   197.75792572,   204.67372734,\n",
              "        1218.54499045,   194.60163733, 10162.63226633,  8116.38045761,\n",
              "       20273.20884045,  8998.62560095,   771.99481039, 24555.34698272,\n",
              "         418.86762815,   322.99749257, 25681.03575526,   369.25760882,\n",
              "       20702.25506183, 10349.68780819,   672.71934046,  3987.94131689,\n",
              "         194.13671747, 20682.28716988, 25585.33113917,  6760.10381112,\n",
              "       18366.95454575,  7315.08780347, 28402.35915909,   757.53155833,\n",
              "       28563.12439918,   256.3287783 ,  1090.7761135 ,   363.67655405,\n",
              "        8413.29415631,   335.39677685, 23886.76905946,  9252.07655716,\n",
              "         746.32010324, 30634.72559485, 28161.98667944,   488.95273441,\n",
              "       29556.88354135,   601.84880806, 11402.63025054, 19749.78213053,\n",
              "       18017.45604306, 17605.52783481,  6359.73696917, 19146.24288875,\n",
              "       37806.34289638,  8810.98065858,  8581.92460586, 32331.32229814,\n",
              "       34733.45147149,  7943.04374391, 22071.62045941,   502.81945887,\n",
              "        8658.91307279, 21313.85747896, 29426.50676815,   444.68490589,\n",
              "       31741.94451849, 19704.13992175,   207.52747596,   605.56365512,\n",
              "       27196.1146317 ,   490.93249578,   200.08303347,  9424.80650256,\n",
              "        3974.80556241,   234.21053949,  4727.45191784, 28903.12713764,\n",
              "       30752.67465739, 10175.57995357, 31818.48158659,  7593.79823208,\n",
              "        4992.98768584,   206.52900764,  8852.88476079,   448.9162001 ,\n",
              "        6006.2499743 ,   690.33170707, 29204.67450448, 11122.1532504 ,\n",
              "        9160.93319094,  9232.64755911,  7181.1022036 , 10415.49307466,\n",
              "       29440.17698702,  9415.36243892,   716.02774027,  8218.65862794,\n",
              "        6309.51616784,  9035.62397396, 10520.11964739,  8673.77210592,\n",
              "       25552.57353913, 11169.84929457,   200.69124829, 31962.24690661,\n",
              "        5643.39246772,   605.53629005,   390.46286546,   194.1359391 ,\n",
              "         471.8256008 ,   328.04054326,   360.48654338, 21279.74824554,\n",
              "        6411.73745327, 10158.71374166,   323.62732387,   324.29255239,\n",
              "         627.74066505, 10485.23064604, 30648.62642424,  9328.69397897,\n",
              "       19751.74702291, 30428.26125203,  9924.55596098,  4717.92115328,\n",
              "       10955.00677947,   288.57901517,   480.59256048, 27853.38871778,\n",
              "       10713.75398806,   776.35931796, 31469.54918711,   238.07875319,\n",
              "         803.61103072,  9836.43210577,   637.53606248,   866.13742474,\n",
              "       19275.91518525, 21167.44116332, 23111.27165995, 11093.05005455,\n",
              "         808.88993504,  7606.56033391,  7246.04133794,   482.24581322,\n",
              "       10402.90699715, 28422.35754805, 10062.57746987, 26006.28453309,\n",
              "         196.89419635, 10318.68432093,   955.20163934, 17822.37617881,\n",
              "        6294.33663589,  7538.8537086 ,  7821.69832729,   605.82125409,\n",
              "       22820.88753678,  3930.8306554 ,   815.01799944, 27301.98977757,\n",
              "         317.04835484,  6256.88519876, 22013.92451201, 25482.32641343,\n",
              "         461.17431802, 17783.04324491,   379.89712238,  6540.85385686,\n",
              "       20581.4466379 , 31729.19709272,   448.79171077,   195.14385585,\n",
              "         245.08224564,  8771.61916226, 31922.69301378, 32334.02145728,\n",
              "         491.58917049,   822.91070852, 10409.68830249,   195.01545784,\n",
              "         229.13700027, 27371.79344229, 22440.57131123, 29766.70875391,\n",
              "        1964.57322135,   226.5200197 ,   861.7328763 ,   278.26862358,\n",
              "       31661.3690278 , 26724.30316816,  9522.19633   ,  1193.32879235,\n",
              "       33727.99611688,  8855.20220415, 28492.97992397,  9662.36021103,\n",
              "         951.50987451, 23183.31407344, 18927.06311357, 25434.30269665,\n",
              "         866.70570353,  6232.68189774, 22646.26231987,   194.28271546,\n",
              "       29949.12199874,  9879.65795868, 32030.07943072,   474.73562122,\n",
              "        7449.81462897, 18770.1158907 , 11508.73559957,  3820.77149673,\n",
              "        8965.24161824,  8214.48054759,  8754.41327877,  7566.33404613,\n",
              "        8663.84919568,  6820.29645336,   637.78494621, 10354.26219541,\n",
              "        9323.41138656,  9557.36275992, 20996.0666883 , 30907.58519826,\n",
              "        9253.50054191, 31615.13083994,   224.34990611,  3883.03893978,\n",
              "         608.99746648,  5260.56102141, 11361.33055961,   456.00056188,\n",
              "        9430.29093263,   247.19414629,   607.5052487 ,   297.60145648,\n",
              "         635.86007441, 10181.48440565,  8792.59650808,   344.75623793,\n",
              "       10284.61695763,   460.89516358,   330.08930999,   263.15524172,\n",
              "        5132.66146188,  1244.18207444, 18746.58792198,   354.66851939,\n",
              "        9442.11485244,   222.29096434,   445.30035325,   266.36718863,\n",
              "         211.24847459, 23175.6386779 ,   213.61227385,   196.91971265,\n",
              "       21493.08028326,   722.9995702 , 21999.90111354, 17881.63971851,\n",
              "         202.97032743,  7164.83942605, 32572.21776243,  8655.94344049,\n",
              "       25476.02717607, 11588.71714232, 22800.11055301,   324.04632063,\n",
              "         671.02344301,   500.55521116,  7524.37920605,  9526.08091137,\n",
              "        8807.39708745, 22217.79083271, 23533.09538626,  6458.33866105,\n",
              "        8207.69015875, 11402.40644969,  5912.22193312,   317.30827879,\n",
              "       21455.8510496 ,   304.08523249,  8696.50577794,  9226.48342931,\n",
              "        4047.22384827,  6300.07703946,  5110.49979253,   227.61214426,\n",
              "         483.58990254,   221.10974324,  9101.1912407 , 23502.4822152 ,\n",
              "       31703.49973869,  1179.53753714, 28062.46624685,  9663.76784238,\n",
              "       28311.23392481,  8303.45828666,   384.54712761,   368.62100941,\n",
              "        9333.13928725, 20714.70239546,   503.26481873,  5240.32677059,\n",
              "         275.4533787 , 10764.48411457,  3430.76996051,  9205.9210486 ,\n",
              "         196.57301066,  9173.73716959,   463.13108624,   508.25961544,\n",
              "       12023.17158888, 11290.82452429,  3906.57402404,   194.25301703,\n",
              "         637.03389164,  6205.48252453,   338.9129586 ,  8914.62963853,\n",
              "       24622.63955837,   733.35129424,   203.11167947,  6723.66823462,\n",
              "       37563.2252863 ,   603.43277257,  4121.48114675, 26112.67821685,\n",
              "         652.31628029,  9469.71413022,  9311.12050654, 22882.0208028 ,\n",
              "        8114.54031943,  2750.52690198,   462.05545736, 20591.33822182,\n",
              "        9527.20842004, 22539.68296422,   194.18254209,   972.57426676,\n",
              "        9161.53741005,   427.11554093,  9406.31687889,  7038.32904994,\n",
              "       28189.82068124, 25544.36440836, 28467.14829007, 24224.53064228,\n",
              "        1387.12295067, 31992.25243932, 10885.06298716,  1650.36956025,\n",
              "         220.81494858, 31466.93778885,  1162.68083291,  5271.07345632,\n",
              "         487.23521278, 11359.2993183 ,  8950.32499309, 29953.05390453,\n",
              "         640.57951853, 29432.17535109,   194.86159653,  1173.3353236 ,\n",
              "        2777.25027808,  8151.29796461, 22148.23423357,   437.30849211,\n",
              "       11492.23017469,  8679.2359382 , 23144.87495202, 11483.78605253,\n",
              "        8492.77408649,  6795.63937884,  1445.598664  ,   310.13905623,\n",
              "       25693.22917945,   447.32852823,  9301.87071641,  8007.10582129,\n",
              "        8590.59898818, 29432.01650024,  9519.53906634,  8721.67245521,\n",
              "        5345.94267162,  4660.14263238, 10489.39267753,   219.72388806,\n",
              "         603.94531666, 27191.25783116,   369.89119655,  1486.14038649,\n",
              "         232.19166727,   370.20774928, 11360.73989595,  9512.49103693,\n",
              "       10211.70075861, 30004.88498212,  6410.21015382,  8725.46387792,\n",
              "         195.53879906,   475.41874472, 22324.60132887,  4282.06342554,\n",
              "         511.43318282, 31810.21946258,  5268.06458563,   834.78101585,\n",
              "        5347.76704859,   737.89203743, 21308.21897049,   451.57725075,\n",
              "         215.58991744, 23440.43717524, 20060.05285037,  9281.61605312,\n",
              "         864.36147226, 28306.44393778,  3928.4667234 ,  9498.12647082,\n",
              "        5243.6491841 ,  9269.72923036,  2732.86184043,  8152.5067444 ,\n",
              "        9427.2414418 ,   450.26432209,  7016.95390971,  8211.52453624,\n",
              "         249.54894832,   223.46520068,  8243.39888818, 11057.21856072,\n",
              "        4247.48505698,  7772.71145815, 10706.12424378, 20577.28680417,\n",
              "       10252.66576175,  9131.76869754, 32292.47392793,   274.127646  ,\n",
              "         858.73923016,   372.97604555,  8202.61355923,   474.19295907,\n",
              "       10122.3950999 , 17545.94413759,  3899.33659596, 27858.21226897,\n",
              "       10278.87077709,   223.24927296,  1176.02471997,   601.42774645,\n",
              "        9304.91279251, 29055.84548201,  9283.8407915 ,  4178.12799061,\n",
              "        7560.25733607,  4653.54583049,  7679.24304871,   195.78572324,\n",
              "       27129.71487146,  4475.64710443, 31319.7235362 , 17228.11049493,\n",
              "         295.3920487 ,  8286.4709063 ,  7726.3443895 ,   254.02909947,\n",
              "        4383.19684861,   802.0246653 ,  9311.44601043,  9193.44268458,\n",
              "         392.65238409,   458.96549461,  9496.28887766,   498.62833315,\n",
              "         249.49460083,  1226.92551151,  6191.40493861,   451.60277403,\n",
              "       11360.37805028,  7481.86268584, 21339.44089953, 30907.7844163 ,\n",
              "         240.31562125,  1251.9106488 ,  6230.2321843 ,   633.83546645,\n",
              "       26441.570113  ,  4541.2094828 ,   361.20294739,  4003.87209547,\n",
              "       30136.15726739, 10547.41381068,  8180.44771207, 11498.77252443,\n",
              "         352.66472547,  9236.90898405,  6299.12173526, 30421.30000148,\n",
              "         290.90198615,   262.20965836, 30490.7916127 ,   371.84610385,\n",
              "        9978.47946926,  6267.0382944 ,   409.52283501,  7258.64809271,\n",
              "         379.15628058,  5247.83375445, 35724.05283305,   505.01298088,\n",
              "         574.08599302,   633.36596346, 10295.85141881,  9716.09508007,\n",
              "       28674.50202923,  4235.57660222, 31285.66516214,   683.84727594,\n",
              "        6928.16377563,  3899.31272881, 18165.97834673, 25654.43569056,\n",
              "         417.54994201,  8594.25673786,  3885.16712538,  7595.18941639,\n",
              "       19687.69373463,  9209.98452025,   457.44108277, 21812.87656144,\n",
              "        9459.98583913, 28766.99440053,   272.64823055,  6660.30188802,\n",
              "        7616.80431175, 27120.62955123,  6281.67543835,   504.16276776,\n",
              "         351.50206414, 11367.02689136,   629.80266153,   273.38592291,\n",
              "        8674.59578992,  7824.76845836,   291.92457961, 33236.71300168,\n",
              "       20492.87215977, 28206.01673508,  1077.53372537,   195.71561776,\n",
              "       29568.72221834,   341.85966029])"
            ]
          },
          "metadata": {},
          "execution_count": 46
        }
      ]
    },
    {
      "cell_type": "code",
      "source": [],
      "metadata": {
        "id": "bP8PYfeUnmrK"
      },
      "execution_count": null,
      "outputs": []
    }
  ]
}