{
 "cells": [
  {
   "attachments": {},
   "cell_type": "markdown",
   "metadata": {},
   "source": [
    "### This project was taken from the following link\n",
    "\n",
    "https://thecleverprogrammer.com/2022/07/19/book-recommendation-system-using-python/"
   ]
  },
  {
   "cell_type": "code",
   "execution_count": 1,
   "metadata": {},
   "outputs": [],
   "source": [
    "import pandas as pd\n",
    "import numpy as np\n",
    "\n",
    "import zipfile\n",
    "import io\n",
    "\n",
    "import plotly.express as px\n",
    "import matplotlib.pyplot as plt\n",
    "\n",
    "from sklearn.feature_extraction import text\n",
    "from sklearn.metrics.pairwise import linear_kernel"
   ]
  },
  {
   "cell_type": "code",
   "execution_count": 59,
   "metadata": {},
   "outputs": [],
   "source": [
    "path = '/Archivos de trabajo/book_data.csv.zip'\n",
    "# Adjusted for privacy"
   ]
  },
  {
   "cell_type": "code",
   "execution_count": 60,
   "metadata": {},
   "outputs": [],
   "source": [
    "z = zipfile.ZipFile(path)"
   ]
  },
  {
   "cell_type": "code",
   "execution_count": 61,
   "metadata": {},
   "outputs": [
    {
     "name": "stdout",
     "output_type": "stream",
     "text": [
      "<class 'pandas.core.frame.DataFrame'>\n",
      "RangeIndex: 54301 entries, 0 to 54300\n",
      "Data columns (total 12 columns):\n",
      " #   Column             Non-Null Count  Dtype  \n",
      "---  ------             --------------  -----  \n",
      " 0   book_authors       54301 non-null  object \n",
      " 1   book_desc          52970 non-null  object \n",
      " 2   book_edition       5453 non-null   object \n",
      " 3   book_format        52645 non-null  object \n",
      " 4   book_isbn          41435 non-null  object \n",
      " 5   book_pages         51779 non-null  object \n",
      " 6   book_rating        54301 non-null  float64\n",
      " 7   book_rating_count  54301 non-null  int64  \n",
      " 8   book_review_count  54301 non-null  int64  \n",
      " 9   book_title         54301 non-null  object \n",
      " 10  genres             51059 non-null  object \n",
      " 11  image_url          53618 non-null  object \n",
      "dtypes: float64(1), int64(2), object(9)\n",
      "memory usage: 5.0+ MB\n"
     ]
    }
   ],
   "source": [
    "df = pd.read_csv(z.open(z.namelist()[0]))\n",
    "df.info()"
   ]
  },
  {
   "cell_type": "code",
   "execution_count": 62,
   "metadata": {},
   "outputs": [],
   "source": [
    "data = df[['book_title', 'book_desc', 'book_rating_count']]"
   ]
  },
  {
   "cell_type": "code",
   "execution_count": 63,
   "metadata": {},
   "outputs": [
    {
     "data": {
      "text/html": [
       "<div>\n",
       "<style scoped>\n",
       "    .dataframe tbody tr th:only-of-type {\n",
       "        vertical-align: middle;\n",
       "    }\n",
       "\n",
       "    .dataframe tbody tr th {\n",
       "        vertical-align: top;\n",
       "    }\n",
       "\n",
       "    .dataframe thead th {\n",
       "        text-align: right;\n",
       "    }\n",
       "</style>\n",
       "<table border=\"1\" class=\"dataframe\">\n",
       "  <thead>\n",
       "    <tr style=\"text-align: right;\">\n",
       "      <th></th>\n",
       "      <th>book_title</th>\n",
       "      <th>book_desc</th>\n",
       "      <th>book_rating_count</th>\n",
       "    </tr>\n",
       "  </thead>\n",
       "  <tbody>\n",
       "    <tr>\n",
       "      <th>0</th>\n",
       "      <td>The Hunger Games</td>\n",
       "      <td>Winning will make you famous. Losing means cer...</td>\n",
       "      <td>5519135</td>\n",
       "    </tr>\n",
       "    <tr>\n",
       "      <th>1</th>\n",
       "      <td>Harry Potter and the Order of the Phoenix</td>\n",
       "      <td>There is a door at the end of a silent corrido...</td>\n",
       "      <td>2041594</td>\n",
       "    </tr>\n",
       "    <tr>\n",
       "      <th>2</th>\n",
       "      <td>To Kill a Mockingbird</td>\n",
       "      <td>The unforgettable novel of a childhood in a sl...</td>\n",
       "      <td>3745197</td>\n",
       "    </tr>\n",
       "    <tr>\n",
       "      <th>3</th>\n",
       "      <td>Pride and Prejudice</td>\n",
       "      <td>«È cosa ormai risaputa che a uno scapolo in po...</td>\n",
       "      <td>2453620</td>\n",
       "    </tr>\n",
       "    <tr>\n",
       "      <th>4</th>\n",
       "      <td>Twilight</td>\n",
       "      <td>About three things I was absolutely positive.F...</td>\n",
       "      <td>4281268</td>\n",
       "    </tr>\n",
       "  </tbody>\n",
       "</table>\n",
       "</div>"
      ],
      "text/plain": [
       "                                  book_title  \\\n",
       "0                           The Hunger Games   \n",
       "1  Harry Potter and the Order of the Phoenix   \n",
       "2                      To Kill a Mockingbird   \n",
       "3                        Pride and Prejudice   \n",
       "4                                   Twilight   \n",
       "\n",
       "                                           book_desc  book_rating_count  \n",
       "0  Winning will make you famous. Losing means cer...            5519135  \n",
       "1  There is a door at the end of a silent corrido...            2041594  \n",
       "2  The unforgettable novel of a childhood in a sl...            3745197  \n",
       "3  «È cosa ormai risaputa che a uno scapolo in po...            2453620  \n",
       "4  About three things I was absolutely positive.F...            4281268  "
      ]
     },
     "execution_count": 63,
     "metadata": {},
     "output_type": "execute_result"
    }
   ],
   "source": [
    "data.head()"
   ]
  },
  {
   "cell_type": "code",
   "execution_count": 64,
   "metadata": {},
   "outputs": [
    {
     "data": {
      "text/plain": [
       "book_title              0\n",
       "book_desc            1331\n",
       "book_rating_count       0\n",
       "dtype: int64"
      ]
     },
     "execution_count": 64,
     "metadata": {},
     "output_type": "execute_result"
    }
   ],
   "source": [
    "data.isnull().sum()"
   ]
  },
  {
   "cell_type": "code",
   "execution_count": 65,
   "metadata": {},
   "outputs": [
    {
     "data": {
      "text/html": [
       "<div>\n",
       "<style scoped>\n",
       "    .dataframe tbody tr th:only-of-type {\n",
       "        vertical-align: middle;\n",
       "    }\n",
       "\n",
       "    .dataframe tbody tr th {\n",
       "        vertical-align: top;\n",
       "    }\n",
       "\n",
       "    .dataframe thead th {\n",
       "        text-align: right;\n",
       "    }\n",
       "</style>\n",
       "<table border=\"1\" class=\"dataframe\">\n",
       "  <thead>\n",
       "    <tr style=\"text-align: right;\">\n",
       "      <th></th>\n",
       "      <th>book_title</th>\n",
       "      <th>book_desc</th>\n",
       "      <th>book_rating_count</th>\n",
       "    </tr>\n",
       "  </thead>\n",
       "  <tbody>\n",
       "    <tr>\n",
       "      <th>50</th>\n",
       "      <td>Harry Potter and the Sorcerer's Stone</td>\n",
       "      <td>Harry Potter's life is miserable. His parents ...</td>\n",
       "      <td>5588580</td>\n",
       "    </tr>\n",
       "    <tr>\n",
       "      <th>44271</th>\n",
       "      <td>Los juegos del hambre</td>\n",
       "      <td>\\r\\r\\nGanar significa fama y fortuna. Perder s...</td>\n",
       "      <td>5523413</td>\n",
       "    </tr>\n",
       "    <tr>\n",
       "      <th>28154</th>\n",
       "      <td>Bado žaidynės</td>\n",
       "      <td>LAIMĖJIMAS ATNEŠ ŠLOVĘ IR TURTĄ.PRALAIMĖJIMAS ...</td>\n",
       "      <td>5522714</td>\n",
       "    </tr>\n",
       "    <tr>\n",
       "      <th>25990</th>\n",
       "      <td>Açlık Oyunları</td>\n",
       "      <td>Etkileyici bir fantastik dünya, bitmek bilmeye...</td>\n",
       "      <td>5522513</td>\n",
       "    </tr>\n",
       "    <tr>\n",
       "      <th>21895</th>\n",
       "      <td>Hunger Games</td>\n",
       "      <td>Quando Katniss urla \"Mi offro volontaria, mi o...</td>\n",
       "      <td>5522483</td>\n",
       "    </tr>\n",
       "  </tbody>\n",
       "</table>\n",
       "</div>"
      ],
      "text/plain": [
       "                                  book_title  \\\n",
       "50     Harry Potter and the Sorcerer's Stone   \n",
       "44271                  Los juegos del hambre   \n",
       "28154                          Bado žaidynės   \n",
       "25990                         Açlık Oyunları   \n",
       "21895                           Hunger Games   \n",
       "\n",
       "                                               book_desc  book_rating_count  \n",
       "50     Harry Potter's life is miserable. His parents ...            5588580  \n",
       "44271  \\r\\r\\nGanar significa fama y fortuna. Perder s...            5523413  \n",
       "28154  LAIMĖJIMAS ATNEŠ ŠLOVĘ IR TURTĄ.PRALAIMĖJIMAS ...            5522714  \n",
       "25990  Etkileyici bir fantastik dünya, bitmek bilmeye...            5522513  \n",
       "21895  Quando Katniss urla \"Mi offro volontaria, mi o...            5522483  "
      ]
     },
     "execution_count": 65,
     "metadata": {},
     "output_type": "execute_result"
    }
   ],
   "source": [
    "top_5 = data.sort_values(by='book_rating_count', ascending=False).head(5)\n",
    "top_5"
   ]
  },
  {
   "cell_type": "code",
   "execution_count": 66,
   "metadata": {},
   "outputs": [
    {
     "data": {
      "image/png": "[encoded data removed]",
      "text/plain": [
       "<Figure size 1080x720 with 1 Axes>"
      ]
     },
     "metadata": {},
     "output_type": "display_data"
    }
   ],
   "source": [
    "plt.figure(figsize=(15,10), facecolor='white')\n",
    "plt.pie(x=top_5.book_rating_count.values, labels=top_5.book_title.values)\n",
    "plt.show()"
   ]
  },
  {
   "cell_type": "code",
   "execution_count": 67,
   "metadata": {},
   "outputs": [
    {
     "name": "stderr",
     "output_type": "stream",
     "text": [
      "C:\\Users\\52551\\AppData\\Local\\Temp\\ipykernel_6440\\1368182302.py:1: SettingWithCopyWarning: \n",
      "A value is trying to be set on a copy of a slice from a DataFrame\n",
      "\n",
      "See the caveats in the documentation: https://pandas.pydata.org/pandas-docs/stable/user_guide/indexing.html#returning-a-view-versus-a-copy\n",
      "  data.dropna(inplace=True)\n"
     ]
    }
   ],
   "source": [
    "data.dropna(inplace=True)"
   ]
  },
  {
   "cell_type": "code",
   "execution_count": 68,
   "metadata": {},
   "outputs": [
    {
     "name": "stdout",
     "output_type": "stream",
     "text": [
      "<class 'pandas.core.frame.DataFrame'>\n",
      "Int64Index: 52970 entries, 0 to 54300\n",
      "Data columns (total 3 columns):\n",
      " #   Column             Non-Null Count  Dtype \n",
      "---  ------             --------------  ----- \n",
      " 0   book_title         52970 non-null  object\n",
      " 1   book_desc          52970 non-null  object\n",
      " 2   book_rating_count  52970 non-null  int64 \n",
      "dtypes: int64(1), object(2)\n",
      "memory usage: 1.6+ MB\n"
     ]
    }
   ],
   "source": [
    "data.info()"
   ]
  },
  {
   "cell_type": "code",
   "execution_count": 74,
   "metadata": {},
   "outputs": [
    {
     "data": {
      "text/html": [
       "<div>\n",
       "<style scoped>\n",
       "    .dataframe tbody tr th:only-of-type {\n",
       "        vertical-align: middle;\n",
       "    }\n",
       "\n",
       "    .dataframe tbody tr th {\n",
       "        vertical-align: top;\n",
       "    }\n",
       "\n",
       "    .dataframe thead th {\n",
       "        text-align: right;\n",
       "    }\n",
       "</style>\n",
       "<table border=\"1\" class=\"dataframe\">\n",
       "  <thead>\n",
       "    <tr style=\"text-align: right;\">\n",
       "      <th></th>\n",
       "      <th>book_title</th>\n",
       "      <th>book_desc</th>\n",
       "      <th>book_rating_count</th>\n",
       "    </tr>\n",
       "  </thead>\n",
       "  <tbody>\n",
       "    <tr>\n",
       "      <th>0</th>\n",
       "      <td>The Hunger Games</td>\n",
       "      <td>Winning will make you famous. Losing means cer...</td>\n",
       "      <td>5519135</td>\n",
       "    </tr>\n",
       "    <tr>\n",
       "      <th>1</th>\n",
       "      <td>Harry Potter and the Order of the Phoenix</td>\n",
       "      <td>There is a door at the end of a silent corrido...</td>\n",
       "      <td>2041594</td>\n",
       "    </tr>\n",
       "    <tr>\n",
       "      <th>2</th>\n",
       "      <td>To Kill a Mockingbird</td>\n",
       "      <td>The unforgettable novel of a childhood in a sl...</td>\n",
       "      <td>3745197</td>\n",
       "    </tr>\n",
       "    <tr>\n",
       "      <th>3</th>\n",
       "      <td>Pride and Prejudice</td>\n",
       "      <td>«È cosa ormai risaputa che a uno scapolo in po...</td>\n",
       "      <td>2453620</td>\n",
       "    </tr>\n",
       "    <tr>\n",
       "      <th>4</th>\n",
       "      <td>Twilight</td>\n",
       "      <td>About three things I was absolutely positive.F...</td>\n",
       "      <td>4281268</td>\n",
       "    </tr>\n",
       "  </tbody>\n",
       "</table>\n",
       "</div>"
      ],
      "text/plain": [
       "                                  book_title  \\\n",
       "0                           The Hunger Games   \n",
       "1  Harry Potter and the Order of the Phoenix   \n",
       "2                      To Kill a Mockingbird   \n",
       "3                        Pride and Prejudice   \n",
       "4                                   Twilight   \n",
       "\n",
       "                                           book_desc  book_rating_count  \n",
       "0  Winning will make you famous. Losing means cer...            5519135  \n",
       "1  There is a door at the end of a silent corrido...            2041594  \n",
       "2  The unforgettable novel of a childhood in a sl...            3745197  \n",
       "3  «È cosa ormai risaputa che a uno scapolo in po...            2453620  \n",
       "4  About three things I was absolutely positive.F...            4281268  "
      ]
     },
     "execution_count": 74,
     "metadata": {},
     "output_type": "execute_result"
    }
   ],
   "source": [
    "data = data.iloc[0:30000]\n",
    "data.head()"
   ]
  },
  {
   "cell_type": "code",
   "execution_count": 75,
   "metadata": {},
   "outputs": [],
   "source": [
    "feature = data['book_desc'].tolist()\n",
    "tfidf = text.TfidfVectorizer(input=feature, stop_words='english')\n",
    "tfidf_matrix = tfidf.fit_transform(feature)\n",
    "similarity = linear_kernel(tfidf_matrix, tfidf_matrix)"
   ]
  },
  {
   "cell_type": "code",
   "execution_count": 76,
   "metadata": {},
   "outputs": [],
   "source": [
    "indices = pd.Series(data.index, index=data['book_title']).drop_duplicates()"
   ]
  },
  {
   "cell_type": "code",
   "execution_count": 77,
   "metadata": {},
   "outputs": [],
   "source": [
    "def book_recommendation(title, similarity = similarity):\n",
    "    index = indices[title]\n",
    "    similarity_scores = list(enumerate(similarity[index]))\n",
    "    similarity_scores = sorted(similarity_scores, key=lambda x: x[1], reverse=True)\n",
    "    similarity_scores = similarity_scores[0:5]\n",
    "    bookindices = [i[0] for i in similarity_scores]\n",
    "    return data['book_title'].iloc[bookindices]"
   ]
  },
  {
   "cell_type": "code",
   "execution_count": 90,
   "metadata": {},
   "outputs": [
    {
     "data": {
      "text/plain": [
       "359                              Beautiful Creatures\n",
       "26118                            Beautiful Creatures\n",
       "1048                              Beautiful Darkness\n",
       "2107                            Beautiful Redemption\n",
       "8393     The Beautiful Creatures Complete Collection\n",
       "1504                                 Beautiful Chaos\n",
       "2844                                 The Lost Prince\n",
       "16124                            Someone Is Watching\n",
       "11868                                   Rising Tides\n",
       "12594                        Ethan, Who Loved Carter\n",
       "Name: book_title, dtype: object"
      ]
     },
     "execution_count": 90,
     "metadata": {},
     "output_type": "execute_result"
    }
   ],
   "source": [
    "index = indices['The Gunslinger'][0]\n",
    "sim_score = list(enumerate(similarity[index]))\n",
    "sim_score = sorted(sim_score, key=lambda x: x[1], reverse=True)\n",
    "sim_score = sim_score[0:10]\n",
    "book_ind = [i[0] for i in sim_score]\n",
    "data['book_title'].iloc[book_ind]"
   ]
  },
  {
   "cell_type": "code",
   "execution_count": null,
   "metadata": {},
   "outputs": [],
   "source": []
  }
 ],
 "metadata": {
  "kernelspec": {
   "display_name": "Python 3",
   "language": "python",
   "name": "python3"
  },
  "language_info": {
   "codemirror_mode": {
    "name": "ipython",
    "version": 3
   },
   "file_extension": ".py",
   "mimetype": "text/x-python",
   "name": "python",
   "nbconvert_exporter": "python",
   "pygments_lexer": "ipython3",
   "version": "3.10.2 (tags/v3.10.2:a58ebcc, Jan 17 2022, 14:12:15) [MSC v.1929 64 bit (AMD64)]"
  },
  "orig_nbformat": 4,
  "vscode": {
   "interpreter": {
    "hash": "268d64074831433b6d8ce17017f514bcbe9d44c4886ac0d5c8ad68ab11c3a2ff"
   }
  }
 },
 "nbformat": 4,
 "nbformat_minor": 2
}
