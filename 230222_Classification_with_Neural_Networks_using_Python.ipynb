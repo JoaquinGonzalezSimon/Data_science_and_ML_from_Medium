{
  "nbformat": 4,
  "nbformat_minor": 0,
  "metadata": {
    "colab": {
      "provenance": [],
      "authorship_tag": "ABX9TyOQCsF6O6SVAnPHPLJsuHZS",
      "include_colab_link": true
    },
    "kernelspec": {
      "name": "python3",
      "display_name": "Python 3"
    },
    "language_info": {
      "name": "python"
    }
  },
  "cells": [
    {
      "cell_type": "markdown",
      "metadata": {
        "id": "view-in-github",
        "colab_type": "text"
      },
      "source": [
        "<a href=\"https://colab.research.google.com/github/JoaquinGonzalezSimon/Data_science_and_ML_from_Medium/blob/main/230222_Classification_with_Neural_Networks_using_Python.ipynb\" target=\"_parent\"><img src=\"https://colab.research.google.com/assets/colab-badge.svg\" alt=\"Open In Colab\"/></a>"
      ]
    },
    {
      "cell_type": "markdown",
      "source": [
        "### This project was taken from the following link\n",
        "\n",
        "https://thecleverprogrammer.com/2022/01/10/classification-with-neural-networks-using-python/"
      ],
      "metadata": {
        "id": "6HmjYnvOODnv"
      }
    },
    {
      "cell_type": "code",
      "execution_count": 1,
      "metadata": {
        "id": "mThYXfpDOA7g"
      },
      "outputs": [],
      "source": [
        "import tensorflow as tf\n",
        "from tensorflow import keras\n",
        "\n",
        "import numpy as np\n",
        "import matplotlib.pyplot as plt"
      ]
    },
    {
      "cell_type": "code",
      "source": [
        "fashion = keras.datasets.fashion_mnist\n",
        "(xtrain, ytrain), (xtest, ytest) = fashion.load_data()"
      ],
      "metadata": {
        "colab": {
          "base_uri": "https://localhost:8080/"
        },
        "id": "XEOuoXLlOWll",
        "outputId": "fc607733-a15f-4e0a-89a8-9a3b481f986d"
      },
      "execution_count": 2,
      "outputs": [
        {
          "output_type": "stream",
          "name": "stdout",
          "text": [
            "Downloading data from https://storage.googleapis.com/tensorflow/tf-keras-datasets/train-labels-idx1-ubyte.gz\n",
            "29515/29515 [==============================] - 0s 0us/step\n",
            "Downloading data from https://storage.googleapis.com/tensorflow/tf-keras-datasets/train-images-idx3-ubyte.gz\n",
            "26421880/26421880 [==============================] - 0s 0us/step\n",
            "Downloading data from https://storage.googleapis.com/tensorflow/tf-keras-datasets/t10k-labels-idx1-ubyte.gz\n",
            "5148/5148 [==============================] - 0s 0us/step\n",
            "Downloading data from https://storage.googleapis.com/tensorflow/tf-keras-datasets/t10k-images-idx3-ubyte.gz\n",
            "4422102/4422102 [==============================] - 0s 0us/step\n"
          ]
        }
      ]
    },
    {
      "cell_type": "code",
      "source": [
        "imgIndex=9\n",
        "image = xtrain[imgIndex]"
      ],
      "metadata": {
        "id": "-vnL5_kJOdZR"
      },
      "execution_count": 3,
      "outputs": []
    },
    {
      "cell_type": "code",
      "source": [
        "print('Image label: ', ytrain[imgIndex])\n",
        "plt.imshow(image)"
      ],
      "metadata": {
        "colab": {
          "base_uri": "https://localhost:8080/",
          "height": 300
        },
        "id": "EZFDtwVEOjH3",
        "outputId": "4345ae9a-7efa-45e3-bb88-fc9643b8a276"
      },
      "execution_count": 5,
      "outputs": [
        {
          "output_type": "stream",
          "name": "stdout",
          "text": [
            "Image label:  5\n"
          ]
        },
        {
          "output_type": "execute_result",
          "data": {
            "text/plain": [
              "<matplotlib.image.AxesImage at 0x7f77bceeb430>"
            ]
          },
          "metadata": {},
          "execution_count": 5
        },
        {
          "output_type": "display_data",
          "data": {
            "text/plain": [
              "<Figure size 432x288 with 1 Axes>"
            ],
            "image/png": "[encoded data removed]"
          },
          "metadata": {
            "needs_background": "light"
          }
        }
      ]
    },
    {
      "cell_type": "code",
      "source": [
        "xtrain.shape, xtest.shape"
      ],
      "metadata": {
        "colab": {
          "base_uri": "https://localhost:8080/"
        },
        "id": "RsWdoLjhOjke",
        "outputId": "42174f4b-b6e8-4406-f12d-b223dd47db36"
      },
      "execution_count": 6,
      "outputs": [
        {
          "output_type": "execute_result",
          "data": {
            "text/plain": [
              "((60000, 28, 28), (10000, 28, 28))"
            ]
          },
          "metadata": {},
          "execution_count": 6
        }
      ]
    },
    {
      "cell_type": "code",
      "source": [
        "model = keras.models.Sequential([\n",
        "    keras.layers.Flatten(input_shape=[28,28]),\n",
        "    keras.layers.Dense(300, activation='relu'),\n",
        "    keras.layers.Dense(100, activation='relu'),\n",
        "    keras.layers.Dense(10, activation='softmax')\n",
        "])"
      ],
      "metadata": {
        "id": "HNwaJ044OvJp"
      },
      "execution_count": 7,
      "outputs": []
    },
    {
      "cell_type": "code",
      "source": [
        "model.summary()"
      ],
      "metadata": {
        "colab": {
          "base_uri": "https://localhost:8080/"
        },
        "id": "SZdcd8vUPJE0",
        "outputId": "7e193359-1a5e-4177-b121-61ebeb353bf2"
      },
      "execution_count": 8,
      "outputs": [
        {
          "output_type": "stream",
          "name": "stdout",
          "text": [
            "Model: \"sequential\"\n",
            "_________________________________________________________________\n",
            " Layer (type)                Output Shape              Param #   \n",
            "=================================================================\n",
            " flatten (Flatten)           (None, 784)               0         \n",
            "                                                                 \n",
            " dense (Dense)               (None, 300)               235500    \n",
            "                                                                 \n",
            " dense_1 (Dense)             (None, 100)               30100     \n",
            "                                                                 \n",
            " dense_2 (Dense)             (None, 10)                1010      \n",
            "                                                                 \n",
            "=================================================================\n",
            "Total params: 266,610\n",
            "Trainable params: 266,610\n",
            "Non-trainable params: 0\n",
            "_________________________________________________________________\n"
          ]
        }
      ]
    },
    {
      "cell_type": "code",
      "source": [
        "xvalid, xtrain = xtrain[:5000]/255.0, xtrain[5000:]/255.0\n",
        "yvalid, ytrain = ytrain[:5000], ytrain[5000:]"
      ],
      "metadata": {
        "id": "7CndMYoJPKAL"
      },
      "execution_count": 9,
      "outputs": []
    },
    {
      "cell_type": "code",
      "source": [
        "model.compile(loss='sparse_categorical_crossentropy', optimizer='sgd', metrics=['accuracy'])\n",
        "history = model.fit(xtrain, ytrain, epochs=30, validation_data = (xvalid,yvalid))"
      ],
      "metadata": {
        "colab": {
          "base_uri": "https://localhost:8080/"
        },
        "id": "yM-pP26xPVYQ",
        "outputId": "e3cf07aa-37be-4c8a-ef37-6241d164b92e"
      },
      "execution_count": 11,
      "outputs": [
        {
          "output_type": "stream",
          "name": "stdout",
          "text": [
            "Epoch 1/30\n",
            "1719/1719 [==============================] - 13s 7ms/step - loss: 0.7246 - accuracy: 0.7653 - val_loss: 0.5052 - val_accuracy: 0.8296\n",
            "Epoch 2/30\n",
            "1719/1719 [==============================] - 21s 12ms/step - loss: 0.4867 - accuracy: 0.8323 - val_loss: 0.4446 - val_accuracy: 0.8506\n",
            "Epoch 3/30\n",
            "1719/1719 [==============================] - 20s 12ms/step - loss: 0.4423 - accuracy: 0.8454 - val_loss: 0.4322 - val_accuracy: 0.8496\n",
            "Epoch 4/30\n",
            "1719/1719 [==============================] - 12s 7ms/step - loss: 0.4152 - accuracy: 0.8552 - val_loss: 0.4002 - val_accuracy: 0.8634\n",
            "Epoch 5/30\n",
            "1719/1719 [==============================] - 12s 7ms/step - loss: 0.3936 - accuracy: 0.8612 - val_loss: 0.3826 - val_accuracy: 0.8690\n",
            "Epoch 6/30\n",
            "1719/1719 [==============================] - 12s 7ms/step - loss: 0.3788 - accuracy: 0.8661 - val_loss: 0.3787 - val_accuracy: 0.8706\n",
            "Epoch 7/30\n",
            "1719/1719 [==============================] - 12s 7ms/step - loss: 0.3646 - accuracy: 0.8718 - val_loss: 0.3789 - val_accuracy: 0.8684\n",
            "Epoch 8/30\n",
            "1719/1719 [==============================] - 12s 7ms/step - loss: 0.3535 - accuracy: 0.8740 - val_loss: 0.3679 - val_accuracy: 0.8688\n",
            "Epoch 9/30\n",
            "1719/1719 [==============================] - 13s 7ms/step - loss: 0.3440 - accuracy: 0.8774 - val_loss: 0.3572 - val_accuracy: 0.8724\n",
            "Epoch 10/30\n",
            "1719/1719 [==============================] - 12s 7ms/step - loss: 0.3342 - accuracy: 0.8818 - val_loss: 0.3479 - val_accuracy: 0.8794\n",
            "Epoch 11/30\n",
            "1719/1719 [==============================] - 12s 7ms/step - loss: 0.3251 - accuracy: 0.8841 - val_loss: 0.3405 - val_accuracy: 0.8816\n",
            "Epoch 12/30\n",
            "1719/1719 [==============================] - 13s 7ms/step - loss: 0.3178 - accuracy: 0.8868 - val_loss: 0.3285 - val_accuracy: 0.8830\n",
            "Epoch 13/30\n",
            "1719/1719 [==============================] - 12s 7ms/step - loss: 0.3106 - accuracy: 0.8889 - val_loss: 0.3322 - val_accuracy: 0.8840\n",
            "Epoch 14/30\n",
            "1719/1719 [==============================] - 16s 9ms/step - loss: 0.3036 - accuracy: 0.8908 - val_loss: 0.3254 - val_accuracy: 0.8844\n",
            "Epoch 15/30\n",
            "1719/1719 [==============================] - 12s 7ms/step - loss: 0.2970 - accuracy: 0.8933 - val_loss: 0.3139 - val_accuracy: 0.8896\n",
            "Epoch 16/30\n",
            "1719/1719 [==============================] - 13s 7ms/step - loss: 0.2913 - accuracy: 0.8953 - val_loss: 0.3364 - val_accuracy: 0.8762\n",
            "Epoch 17/30\n",
            "1719/1719 [==============================] - 12s 7ms/step - loss: 0.2850 - accuracy: 0.8968 - val_loss: 0.3158 - val_accuracy: 0.8888\n",
            "Epoch 18/30\n",
            "1719/1719 [==============================] - 12s 7ms/step - loss: 0.2803 - accuracy: 0.8982 - val_loss: 0.3017 - val_accuracy: 0.8856\n",
            "Epoch 19/30\n",
            "1719/1719 [==============================] - 13s 7ms/step - loss: 0.2745 - accuracy: 0.9014 - val_loss: 0.3215 - val_accuracy: 0.8802\n",
            "Epoch 20/30\n",
            "1719/1719 [==============================] - 12s 7ms/step - loss: 0.2693 - accuracy: 0.9031 - val_loss: 0.3101 - val_accuracy: 0.8890\n",
            "Epoch 21/30\n",
            "1719/1719 [==============================] - 12s 7ms/step - loss: 0.2642 - accuracy: 0.9050 - val_loss: 0.2961 - val_accuracy: 0.8936\n",
            "Epoch 22/30\n",
            "1719/1719 [==============================] - 13s 7ms/step - loss: 0.2584 - accuracy: 0.9065 - val_loss: 0.3373 - val_accuracy: 0.8816\n",
            "Epoch 23/30\n",
            "1719/1719 [==============================] - 13s 7ms/step - loss: 0.2548 - accuracy: 0.9077 - val_loss: 0.3208 - val_accuracy: 0.8838\n",
            "Epoch 24/30\n",
            "1719/1719 [==============================] - 12s 7ms/step - loss: 0.2511 - accuracy: 0.9098 - val_loss: 0.3166 - val_accuracy: 0.8820\n",
            "Epoch 25/30\n",
            "1719/1719 [==============================] - 12s 7ms/step - loss: 0.2459 - accuracy: 0.9116 - val_loss: 0.3051 - val_accuracy: 0.8888\n",
            "Epoch 26/30\n",
            "1719/1719 [==============================] - 13s 7ms/step - loss: 0.2426 - accuracy: 0.9125 - val_loss: 0.3276 - val_accuracy: 0.8772\n",
            "Epoch 27/30\n",
            "1719/1719 [==============================] - 12s 7ms/step - loss: 0.2377 - accuracy: 0.9140 - val_loss: 0.3041 - val_accuracy: 0.8902\n",
            "Epoch 28/30\n",
            "1719/1719 [==============================] - 12s 7ms/step - loss: 0.2339 - accuracy: 0.9154 - val_loss: 0.2909 - val_accuracy: 0.8908\n",
            "Epoch 29/30\n",
            "1719/1719 [==============================] - 13s 7ms/step - loss: 0.2298 - accuracy: 0.9161 - val_loss: 0.3119 - val_accuracy: 0.8884\n",
            "Epoch 30/30\n",
            "1719/1719 [==============================] - 12s 7ms/step - loss: 0.2256 - accuracy: 0.9187 - val_loss: 0.2999 - val_accuracy: 0.8930\n"
          ]
        }
      ]
    },
    {
      "cell_type": "code",
      "source": [
        "new = xtest[:5]\n",
        "predictions = model.predict(new)\n",
        "predictions"
      ],
      "metadata": {
        "colab": {
          "base_uri": "https://localhost:8080/"
        },
        "id": "45F73zcbPkWd",
        "outputId": "437755e2-a533-4ee0-f53f-d7b821b04997"
      },
      "execution_count": 12,
      "outputs": [
        {
          "output_type": "stream",
          "name": "stdout",
          "text": [
            "1/1 [==============================] - 0s 196ms/step\n"
          ]
        },
        {
          "output_type": "execute_result",
          "data": {
            "text/plain": [
              "array([[0.0000e+00, 0.0000e+00, 0.0000e+00, 0.0000e+00, 0.0000e+00,\n",
              "        0.0000e+00, 0.0000e+00, 0.0000e+00, 0.0000e+00, 1.0000e+00],\n",
              "       [0.0000e+00, 0.0000e+00, 1.0000e+00, 0.0000e+00, 0.0000e+00,\n",
              "        0.0000e+00, 0.0000e+00, 0.0000e+00, 0.0000e+00, 0.0000e+00],\n",
              "       [0.0000e+00, 1.0000e+00, 0.0000e+00, 0.0000e+00, 0.0000e+00,\n",
              "        0.0000e+00, 0.0000e+00, 0.0000e+00, 0.0000e+00, 0.0000e+00],\n",
              "       [0.0000e+00, 1.0000e+00, 0.0000e+00, 0.0000e+00, 0.0000e+00,\n",
              "        0.0000e+00, 0.0000e+00, 0.0000e+00, 0.0000e+00, 0.0000e+00],\n",
              "       [7.2211e-33, 0.0000e+00, 0.0000e+00, 0.0000e+00, 0.0000e+00,\n",
              "        0.0000e+00, 1.0000e+00, 0.0000e+00, 0.0000e+00, 0.0000e+00]],\n",
              "      dtype=float32)"
            ]
          },
          "metadata": {},
          "execution_count": 12
        }
      ]
    },
    {
      "cell_type": "code",
      "source": [
        "classes = np.argmax(predictions, axis=1)\n",
        "classes"
      ],
      "metadata": {
        "colab": {
          "base_uri": "https://localhost:8080/"
        },
        "id": "m2maJS2aP1AZ",
        "outputId": "ef31045f-4467-4c2d-e4de-0a7c489f5390"
      },
      "execution_count": 13,
      "outputs": [
        {
          "output_type": "execute_result",
          "data": {
            "text/plain": [
              "array([9, 2, 1, 1, 6])"
            ]
          },
          "metadata": {},
          "execution_count": 13
        }
      ]
    },
    {
      "cell_type": "code",
      "source": [],
      "metadata": {
        "id": "j8J_oWN5P4Qr"
      },
      "execution_count": null,
      "outputs": []
    }
  ]
}