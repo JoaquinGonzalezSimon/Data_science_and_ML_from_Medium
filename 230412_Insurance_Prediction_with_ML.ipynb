{
  "nbformat": 4,
  "nbformat_minor": 0,
  "metadata": {
    "colab": {
      "provenance": [],
      "authorship_tag": "ABX9TyOlFCiRDQHXRuK+672FlIPP",
      "include_colab_link": true
    },
    "kernelspec": {
      "name": "python3",
      "display_name": "Python 3"
    },
    "language_info": {
      "name": "python"
    }
  },
  "cells": [
    {
      "cell_type": "markdown",
      "metadata": {
        "id": "view-in-github",
        "colab_type": "text"
      },
      "source": [
        "<a href=\"https://colab.research.google.com/github/JoaquinGonzalezSimon/Data_science_and_ML_from_Medium/blob/main/230412_Insurance_Prediction_with_ML.ipynb\" target=\"_parent\"><img src=\"https://colab.research.google.com/assets/colab-badge.svg\" alt=\"Open In Colab\"/></a>"
      ]
    },
    {
      "cell_type": "markdown",
      "source": [
        "### This project was taken from the following link\n",
        "\n",
        "https://thecleverprogrammer.com/2021/09/03/insurance-prediction-with-machine-learning/"
      ],
      "metadata": {
        "id": "LAvn-9i0eHLP"
      }
    },
    {
      "cell_type": "code",
      "execution_count": 1,
      "metadata": {
        "id": "yUr-nH1_dz00"
      },
      "outputs": [],
      "source": [
        "import pandas as pd\n",
        "import numpy as np\n",
        "\n",
        "import plotly.express as px\n",
        "\n",
        "from sklearn.preprocessing import LabelEncoder\n",
        "from sklearn.model_selection import train_test_split\n",
        "from sklearn.tree import DecisionTreeClassifier"
      ]
    },
    {
      "cell_type": "code",
      "source": [
        "data = pd.read_csv('https://raw.githubusercontent.com/amankharwal/Website-data/master/TravelInsurancePrediction.csv')\n",
        "data.head()"
      ],
      "metadata": {
        "colab": {
          "base_uri": "https://localhost:8080/",
          "height": 206
        },
        "id": "Irq6EwAKefS9",
        "outputId": "cfcb9373-b5e8-445f-9ff8-c89583c8a5eb"
      },
      "execution_count": 2,
      "outputs": [
        {
          "output_type": "execute_result",
          "data": {
            "text/plain": [
              "   Unnamed: 0  Age               Employment Type GraduateOrNot  AnnualIncome  \\\n",
              "0           0   31             Government Sector           Yes        400000   \n",
              "1           1   31  Private Sector/Self Employed           Yes       1250000   \n",
              "2           2   34  Private Sector/Self Employed           Yes        500000   \n",
              "3           3   28  Private Sector/Self Employed           Yes        700000   \n",
              "4           4   28  Private Sector/Self Employed           Yes        700000   \n",
              "\n",
              "   FamilyMembers  ChronicDiseases FrequentFlyer EverTravelledAbroad  \\\n",
              "0              6                1            No                  No   \n",
              "1              7                0            No                  No   \n",
              "2              4                1            No                  No   \n",
              "3              3                1            No                  No   \n",
              "4              8                1           Yes                  No   \n",
              "\n",
              "   TravelInsurance  \n",
              "0                0  \n",
              "1                0  \n",
              "2                1  \n",
              "3                0  \n",
              "4                0  "
            ],
            "text/html": [
              "\n",
              "  <div id=\"df-dbfbe87d-e8c5-4a9b-b31a-f831e7c38088\">\n",
              "    <div class=\"colab-df-container\">\n",
              "      <div>\n",
              "<style scoped>\n",
              "    .dataframe tbody tr th:only-of-type {\n",
              "        vertical-align: middle;\n",
              "    }\n",
              "\n",
              "    .dataframe tbody tr th {\n",
              "        vertical-align: top;\n",
              "    }\n",
              "\n",
              "    .dataframe thead th {\n",
              "        text-align: right;\n",
              "    }\n",
              "</style>\n",
              "<table border=\"1\" class=\"dataframe\">\n",
              "  <thead>\n",
              "    <tr style=\"text-align: right;\">\n",
              "      <th></th>\n",
              "      <th>Unnamed: 0</th>\n",
              "      <th>Age</th>\n",
              "      <th>Employment Type</th>\n",
              "      <th>GraduateOrNot</th>\n",
              "      <th>AnnualIncome</th>\n",
              "      <th>FamilyMembers</th>\n",
              "      <th>ChronicDiseases</th>\n",
              "      <th>FrequentFlyer</th>\n",
              "      <th>EverTravelledAbroad</th>\n",
              "      <th>TravelInsurance</th>\n",
              "    </tr>\n",
              "  </thead>\n",
              "  <tbody>\n",
              "    <tr>\n",
              "      <th>0</th>\n",
              "      <td>0</td>\n",
              "      <td>31</td>\n",
              "      <td>Government Sector</td>\n",
              "      <td>Yes</td>\n",
              "      <td>400000</td>\n",
              "      <td>6</td>\n",
              "      <td>1</td>\n",
              "      <td>No</td>\n",
              "      <td>No</td>\n",
              "      <td>0</td>\n",
              "    </tr>\n",
              "    <tr>\n",
              "      <th>1</th>\n",
              "      <td>1</td>\n",
              "      <td>31</td>\n",
              "      <td>Private Sector/Self Employed</td>\n",
              "      <td>Yes</td>\n",
              "      <td>1250000</td>\n",
              "      <td>7</td>\n",
              "      <td>0</td>\n",
              "      <td>No</td>\n",
              "      <td>No</td>\n",
              "      <td>0</td>\n",
              "    </tr>\n",
              "    <tr>\n",
              "      <th>2</th>\n",
              "      <td>2</td>\n",
              "      <td>34</td>\n",
              "      <td>Private Sector/Self Employed</td>\n",
              "      <td>Yes</td>\n",
              "      <td>500000</td>\n",
              "      <td>4</td>\n",
              "      <td>1</td>\n",
              "      <td>No</td>\n",
              "      <td>No</td>\n",
              "      <td>1</td>\n",
              "    </tr>\n",
              "    <tr>\n",
              "      <th>3</th>\n",
              "      <td>3</td>\n",
              "      <td>28</td>\n",
              "      <td>Private Sector/Self Employed</td>\n",
              "      <td>Yes</td>\n",
              "      <td>700000</td>\n",
              "      <td>3</td>\n",
              "      <td>1</td>\n",
              "      <td>No</td>\n",
              "      <td>No</td>\n",
              "      <td>0</td>\n",
              "    </tr>\n",
              "    <tr>\n",
              "      <th>4</th>\n",
              "      <td>4</td>\n",
              "      <td>28</td>\n",
              "      <td>Private Sector/Self Employed</td>\n",
              "      <td>Yes</td>\n",
              "      <td>700000</td>\n",
              "      <td>8</td>\n",
              "      <td>1</td>\n",
              "      <td>Yes</td>\n",
              "      <td>No</td>\n",
              "      <td>0</td>\n",
              "    </tr>\n",
              "  </tbody>\n",
              "</table>\n",
              "</div>\n",
              "      <button class=\"colab-df-convert\" onclick=\"convertToInteractive('df-dbfbe87d-e8c5-4a9b-b31a-f831e7c38088')\"\n",
              "              title=\"Convert this dataframe to an interactive table.\"\n",
              "              style=\"display:none;\">\n",
              "        \n",
              "  <svg xmlns=\"http://www.w3.org/2000/svg\" height=\"24px\"viewBox=\"0 0 24 24\"\n",
              "       width=\"24px\">\n",
              "    <path d=\"M0 0h24v24H0V0z\" fill=\"none\"/>\n",
              "    <path d=\"M18.56 5.44l.94 2.06.94-2.06 2.06-.94-2.06-.94-.94-2.06-.94 2.06-2.06.94zm-11 1L8.5 8.5l.94-2.06 2.06-.94-2.06-.94L8.5 2.5l-.94 2.06-2.06.94zm10 10l.94 2.06.94-2.06 2.06-.94-2.06-.94-.94-2.06-.94 2.06-2.06.94z\"/><path d=\"M17.41 7.96l-1.37-1.37c-.4-.4-.92-.59-1.43-.59-.52 0-1.04.2-1.43.59L10.3 9.45l-7.72 7.72c-.78.78-.78 2.05 0 2.83L4 21.41c.39.39.9.59 1.41.59.51 0 1.02-.2 1.41-.59l7.78-7.78 2.81-2.81c.8-.78.8-2.07 0-2.86zM5.41 20L4 18.59l7.72-7.72 1.47 1.35L5.41 20z\"/>\n",
              "  </svg>\n",
              "      </button>\n",
              "      \n",
              "  <style>\n",
              "    .colab-df-container {\n",
              "      display:flex;\n",
              "      flex-wrap:wrap;\n",
              "      gap: 12px;\n",
              "    }\n",
              "\n",
              "    .colab-df-convert {\n",
              "      background-color: #E8F0FE;\n",
              "      border: none;\n",
              "      border-radius: 50%;\n",
              "      cursor: pointer;\n",
              "      display: none;\n",
              "      fill: #1967D2;\n",
              "      height: 32px;\n",
              "      padding: 0 0 0 0;\n",
              "      width: 32px;\n",
              "    }\n",
              "\n",
              "    .colab-df-convert:hover {\n",
              "      background-color: #E2EBFA;\n",
              "      box-shadow: 0px 1px 2px rgba(60, 64, 67, 0.3), 0px 1px 3px 1px rgba(60, 64, 67, 0.15);\n",
              "      fill: #174EA6;\n",
              "    }\n",
              "\n",
              "    [theme=dark] .colab-df-convert {\n",
              "      background-color: #3B4455;\n",
              "      fill: #D2E3FC;\n",
              "    }\n",
              "\n",
              "    [theme=dark] .colab-df-convert:hover {\n",
              "      background-color: #434B5C;\n",
              "      box-shadow: 0px 1px 3px 1px rgba(0, 0, 0, 0.15);\n",
              "      filter: drop-shadow(0px 1px 2px rgba(0, 0, 0, 0.3));\n",
              "      fill: #FFFFFF;\n",
              "    }\n",
              "  </style>\n",
              "\n",
              "      <script>\n",
              "        const buttonEl =\n",
              "          document.querySelector('#df-dbfbe87d-e8c5-4a9b-b31a-f831e7c38088 button.colab-df-convert');\n",
              "        buttonEl.style.display =\n",
              "          google.colab.kernel.accessAllowed ? 'block' : 'none';\n",
              "\n",
              "        async function convertToInteractive(key) {\n",
              "          const element = document.querySelector('#df-dbfbe87d-e8c5-4a9b-b31a-f831e7c38088');\n",
              "          const dataTable =\n",
              "            await google.colab.kernel.invokeFunction('convertToInteractive',\n",
              "                                                     [key], {});\n",
              "          if (!dataTable) return;\n",
              "\n",
              "          const docLinkHtml = 'Like what you see? Visit the ' +\n",
              "            '<a target=\"_blank\" href=https://colab.research.google.com/notebooks/data_table.ipynb>data table notebook</a>'\n",
              "            + ' to learn more about interactive tables.';\n",
              "          element.innerHTML = '';\n",
              "          dataTable['output_type'] = 'display_data';\n",
              "          await google.colab.output.renderOutput(dataTable, element);\n",
              "          const docLink = document.createElement('div');\n",
              "          docLink.innerHTML = docLinkHtml;\n",
              "          element.appendChild(docLink);\n",
              "        }\n",
              "      </script>\n",
              "    </div>\n",
              "  </div>\n",
              "  "
            ]
          },
          "metadata": {},
          "execution_count": 2
        }
      ]
    },
    {
      "cell_type": "code",
      "source": [
        "data.info()"
      ],
      "metadata": {
        "colab": {
          "base_uri": "https://localhost:8080/"
        },
        "id": "LiOUuMwgence",
        "outputId": "0e2fcedb-828f-461e-c7e7-aba25b3847f4"
      },
      "execution_count": 3,
      "outputs": [
        {
          "output_type": "stream",
          "name": "stdout",
          "text": [
            "<class 'pandas.core.frame.DataFrame'>\n",
            "RangeIndex: 1987 entries, 0 to 1986\n",
            "Data columns (total 10 columns):\n",
            " #   Column               Non-Null Count  Dtype \n",
            "---  ------               --------------  ----- \n",
            " 0   Unnamed: 0           1987 non-null   int64 \n",
            " 1   Age                  1987 non-null   int64 \n",
            " 2   Employment Type      1987 non-null   object\n",
            " 3   GraduateOrNot        1987 non-null   object\n",
            " 4   AnnualIncome         1987 non-null   int64 \n",
            " 5   FamilyMembers        1987 non-null   int64 \n",
            " 6   ChronicDiseases      1987 non-null   int64 \n",
            " 7   FrequentFlyer        1987 non-null   object\n",
            " 8   EverTravelledAbroad  1987 non-null   object\n",
            " 9   TravelInsurance      1987 non-null   int64 \n",
            "dtypes: int64(6), object(4)\n",
            "memory usage: 155.4+ KB\n"
          ]
        }
      ]
    },
    {
      "cell_type": "code",
      "source": [
        "data.isnull().sum()"
      ],
      "metadata": {
        "colab": {
          "base_uri": "https://localhost:8080/"
        },
        "id": "yM0dhEy_eoQF",
        "outputId": "2893e0d4-a1df-408a-e7ea-f22086f73e22"
      },
      "execution_count": 4,
      "outputs": [
        {
          "output_type": "execute_result",
          "data": {
            "text/plain": [
              "Unnamed: 0             0\n",
              "Age                    0\n",
              "Employment Type        0\n",
              "GraduateOrNot          0\n",
              "AnnualIncome           0\n",
              "FamilyMembers          0\n",
              "ChronicDiseases        0\n",
              "FrequentFlyer          0\n",
              "EverTravelledAbroad    0\n",
              "TravelInsurance        0\n",
              "dtype: int64"
            ]
          },
          "metadata": {},
          "execution_count": 4
        }
      ]
    },
    {
      "cell_type": "code",
      "source": [
        "data.drop('Unnamed: 0', axis=1, inplace=True)"
      ],
      "metadata": {
        "id": "mUj4LTjHepvK"
      },
      "execution_count": 5,
      "outputs": []
    },
    {
      "cell_type": "code",
      "source": [
        "data.info()"
      ],
      "metadata": {
        "colab": {
          "base_uri": "https://localhost:8080/"
        },
        "id": "WUoGkLjEexC0",
        "outputId": "d53e55c6-c1e6-486b-b978-cddfb88d6c98"
      },
      "execution_count": 6,
      "outputs": [
        {
          "output_type": "stream",
          "name": "stdout",
          "text": [
            "<class 'pandas.core.frame.DataFrame'>\n",
            "RangeIndex: 1987 entries, 0 to 1986\n",
            "Data columns (total 9 columns):\n",
            " #   Column               Non-Null Count  Dtype \n",
            "---  ------               --------------  ----- \n",
            " 0   Age                  1987 non-null   int64 \n",
            " 1   Employment Type      1987 non-null   object\n",
            " 2   GraduateOrNot        1987 non-null   object\n",
            " 3   AnnualIncome         1987 non-null   int64 \n",
            " 4   FamilyMembers        1987 non-null   int64 \n",
            " 5   ChronicDiseases      1987 non-null   int64 \n",
            " 6   FrequentFlyer        1987 non-null   object\n",
            " 7   EverTravelledAbroad  1987 non-null   object\n",
            " 8   TravelInsurance      1987 non-null   int64 \n",
            "dtypes: int64(5), object(4)\n",
            "memory usage: 139.8+ KB\n"
          ]
        }
      ]
    },
    {
      "cell_type": "code",
      "source": [
        "data.TravelInsurance.value_counts()"
      ],
      "metadata": {
        "colab": {
          "base_uri": "https://localhost:8080/"
        },
        "id": "swY3BdQ2exv0",
        "outputId": "460b44df-d327-4108-9fad-1bd749bd1921"
      },
      "execution_count": 7,
      "outputs": [
        {
          "output_type": "execute_result",
          "data": {
            "text/plain": [
              "0    1277\n",
              "1     710\n",
              "Name: TravelInsurance, dtype: int64"
            ]
          },
          "metadata": {},
          "execution_count": 7
        }
      ]
    },
    {
      "cell_type": "code",
      "source": [
        "data['TravelInsurance'] = data['TravelInsurance'].map({0:'Not Purchased', 1:'Purchased'})\n",
        "data.TravelInsurance.value_counts()"
      ],
      "metadata": {
        "colab": {
          "base_uri": "https://localhost:8080/"
        },
        "id": "MXX6HIc2fAfK",
        "outputId": "716045e8-92c9-4685-c3f8-a5c807c90d83"
      },
      "execution_count": 8,
      "outputs": [
        {
          "output_type": "execute_result",
          "data": {
            "text/plain": [
              "Not Purchased    1277\n",
              "Purchased         710\n",
              "Name: TravelInsurance, dtype: int64"
            ]
          },
          "metadata": {},
          "execution_count": 8
        }
      ]
    },
    {
      "cell_type": "code",
      "source": [
        "graph_cols = ['Age', 'Employment Type', 'AnnualIncome']"
      ],
      "metadata": {
        "id": "Hb7agYmefJyK"
      },
      "execution_count": 9,
      "outputs": []
    },
    {
      "cell_type": "code",
      "source": [
        "for col in graph_cols:\n",
        "  figure = px.histogram(data, x=col, color='TravelInsurance', title=f'Factors affecting purchase of travel insurance: {col}')\n",
        "  figure.show()"
      ],
      "metadata": {
        "colab": {
          "base_uri": "https://localhost:8080/",
          "height": 1000
        },
        "id": "ne1F7qIrfYRa",
        "outputId": "d130b250-7a45-4f15-b55f-07b4a6e3bd7f"
      },
      "execution_count": 10,
      "outputs": [
        {
          "output_type": "display_data",
          "data": {
            "text/html": [
              "<html>\n",
              "<head><meta charset=\"utf-8\" /></head>\n",
              "<body>\n",
              "    <div>            <script src=\"https://cdnjs.cloudflare.com/ajax/libs/mathjax/2.7.5/MathJax.js?config=TeX-AMS-MML_SVG\"></script><script type=\"text/javascript\">if (window.MathJax && window.MathJax.Hub && window.MathJax.Hub.Config) {window.MathJax.Hub.Config({SVG: {font: \"STIX-Web\"}});}</script>                <script type=\"text/javascript\">window.PlotlyConfig = {MathJaxConfig: 'local'};</script>\n",
              "        <script src=\"https://cdn.plot.ly/plotly-2.18.2.min.js\"></script>                <div id=\"d312be4b-6364-4afb-a3f1-e915cc28fbb0\" class=\"plotly-graph-div\" style=\"height:525px; width:100%;\"></div>            <script type=\"text/javascript\">                                    window.PLOTLYENV=window.PLOTLYENV || {};                                    if (document.getElementById(\"d312be4b-6364-4afb-a3f1-e915cc28fbb0\")) {                    Plotly.newPlot(                        \"d312be4b-6364-4afb-a3f1-e915cc28fbb0\",                        [{\"alignmentgroup\":\"True\",\"bingroup\":\"x\",\"hovertemplate\":\"TravelInsurance=Not Purchased<br>Age=%{x}<br>count=%{y}<extra></extra>\",\"legendgroup\":\"Not Purchased\",\"marker\":{\"color\":\"#636efa\",\"pattern\":{\"shape\":\"\"}},\"name\":\"Not Purchased\",\"offsetgroup\":\"Not Purchased\",\"orientation\":\"v\",\"showlegend\":true,\"x\":[31,31,28,28,25,31,33,31,31,34,28,28,31,31,35,28,26,31,30,31,32,33,31,34,34,33,35,28,31,29,31,28,29,26,31,28,27,26,30,29,31,34,28,28,28,28,34,31,31,26,25,28,32,32,28,34,28,27,28,28,34,28,29,29,29,29,28,28,34,34,31,28,30,29,29,29,31,31,28,32,27,32,32,27,29,28,28,28,28,29,28,28,25,32,26,31,28,31,28,28,25,28,28,28,27,32,28,33,28,31,27,25,28,27,30,28,32,26,28,26,25,25,28,26,27,30,28,34,33,29,28,32,29,31,25,28,27,28,27,33,28,26,31,35,28,28,30,31,31,34,34,34,29,31,28,31,34,30,30,29,26,27,33,26,27,28,31,28,28,28,29,26,35,29,27,31,27,35,28,29,31,32,32,26,26,33,28,29,29,26,32,34,27,29,28,32,27,27,31,34,26,28,34,30,32,28,31,35,28,28,28,31,28,34,28,35,31,32,30,28,29,27,28,28,32,29,34,31,28,31,29,31,34,34,34,25,28,28,34,31,28,31,32,27,29,28,28,28,31,28,29,29,33,34,28,28,29,32,25,28,35,29,34,31,28,32,31,28,28,28,28,28,34,25,34,28,29,25,28,32,28,34,28,28,27,33,28,29,27,28,29,31,28,31,28,35,25,26,26,33,28,26,28,28,26,28,31,29,34,29,32,28,27,33,28,30,29,34,29,34,31,26,29,32,31,31,29,28,28,32,31,31,29,27,27,31,35,28,33,32,26,31,28,25,28,29,28,29,30,28,33,29,27,34,31,26,28,27,28,34,27,33,32,26,33,27,34,29,33,29,28,27,35,27,25,32,28,27,29,34,33,31,28,29,29,28,28,25,28,33,25,34,34,34,32,28,28,31,28,28,31,34,28,27,29,28,32,28,34,31,28,27,28,25,28,34,28,34,28,34,31,27,34,26,28,32,28,28,28,28,27,32,28,31,34,28,28,26,28,28,26,33,26,28,29,27,27,27,29,27,26,28,28,25,28,33,27,33,31,31,27,28,32,32,28,27,27,34,28,34,28,28,28,27,34,27,34,29,25,28,27,28,30,27,28,30,28,29,29,28,27,28,35,33,32,29,28,27,27,28,28,27,29,34,28,30,28,35,31,28,32,27,27,31,28,29,29,29,34,34,28,26,32,28,28,31,31,29,27,29,30,29,26,33,30,29,25,34,28,25,29,28,32,28,26,27,35,29,29,29,29,33,28,28,35,34,32,27,31,32,26,27,28,34,28,29,26,33,28,35,25,27,28,29,28,26,28,29,26,32,28,28,35,29,29,31,33,31,31,33,28,28,28,34,34,34,27,32,28,28,32,33,29,28,31,30,28,28,28,33,28,34,25,29,33,28,35,29,28,29,34,28,27,31,28,33,25,29,31,31,27,28,26,32,30,28,27,27,28,31,28,34,28,27,28,28,29,31,31,27,28,27,29,25,29,28,31,25,27,28,25,25,31,34,29,31,34,28,28,26,31,30,28,33,25,29,33,25,29,31,31,28,27,32,35,31,32,28,29,28,28,33,27,31,28,34,32,27,31,34,28,29,25,29,28,28,31,28,26,29,34,28,28,34,29,34,34,34,29,34,35,33,33,34,28,33,28,31,29,28,29,30,33,28,31,35,28,26,28,33,27,27,31,28,29,28,28,28,34,34,31,29,29,34,34,28,34,31,30,33,34,34,27,26,28,28,29,35,33,31,29,26,34,31,25,34,31,28,33,28,28,28,33,26,31,34,31,31,28,28,28,29,33,31,29,31,31,27,34,28,28,31,28,28,25,26,26,28,28,28,34,28,28,30,28,31,34,31,31,29,34,29,29,28,33,26,28,34,28,28,33,28,28,29,28,28,31,28,28,28,28,31,34,29,25,26,31,34,34,28,28,33,29,28,25,28,28,34,28,29,28,33,28,31,33,30,30,34,28,29,34,31,34,28,28,28,27,34,35,34,27,28,27,32,31,33,30,35,32,28,25,29,28,26,28,33,31,28,28,34,26,35,27,33,28,33,31,28,26,34,31,32,34,31,26,31,28,31,32,29,25,30,27,28,28,31,28,28,31,35,29,32,31,28,33,28,29,28,28,34,28,27,33,28,28,34,32,32,28,25,27,32,28,33,28,28,28,29,34,27,28,27,28,26,26,28,32,34,28,31,27,29,30,28,26,27,28,26,31,34,28,28,32,29,30,27,28,28,28,31,32,32,34,28,28,31,30,28,29,27,28,25,33,28,30,28,27,28,28,31,28,28,28,31,30,28,26,34,31,31,32,27,28,28,28,29,26,33,27,33,28,30,28,28,25,27,31,26,29,34,33,32,25,34,31,28,26,28,31,28,25,34,28,28,28,26,28,35,29,28,28,28,25,31,28,29,28,34,28,28,31,29,30,28,28,28,31,31,27,29,31,35,28,29,29,28,31,27,31,26,28,33,35,28,28,28,27,28,31,29,32,28,28,26,31,31,29,31,34,34,27,29,29,26,28,28,28,34,31,28,33,28,28,26,34,25,26,25,30,28,29,32,26,28,29,34,28,28,32,29,34,28,31,29,34,25,31,34,26,28,28,28,27,28,28,25,29,31,28,29,26,28,28,27,29,28,34,26,28,35,28,29,29,28,31,29,29,31,31,33,34,28,32,28,32,34,28,27,28,32,31,28,28,28,34,26,27,32,28,34,28,34,28,29,34,29,28,27,27,35,32,31,26,31,28,28,32,28,26,25,31,27,28,33,28,25,28,28,28,34,33,30,28,28,28,32,31,34,26,33,33,31,34,35,28,25,33,34,34,27,25,28,29,32,28,27,30,33,31,31,28,26,25,28,34,34,28,31,31,28,28,32,28,25,28,28,34],\"xaxis\":\"x\",\"yaxis\":\"y\",\"type\":\"histogram\"},{\"alignmentgroup\":\"True\",\"bingroup\":\"x\",\"hovertemplate\":\"TravelInsurance=Purchased<br>Age=%{x}<br>count=%{y}<extra></extra>\",\"legendgroup\":\"Purchased\",\"marker\":{\"color\":\"#EF553B\",\"pattern\":{\"shape\":\"\"}},\"name\":\"Purchased\",\"offsetgroup\":\"Purchased\",\"orientation\":\"v\",\"showlegend\":true,\"x\":[34,31,28,26,32,31,28,29,34,29,28,34,25,28,33,25,26,28,25,34,25,31,28,34,33,33,32,30,34,29,31,34,25,33,26,28,33,26,26,25,28,31,26,29,31,25,28,29,35,30,25,28,29,34,31,31,34,34,31,26,34,34,35,28,28,26,25,34,25,30,27,31,28,25,29,26,34,34,26,35,27,34,34,29,28,34,34,33,33,26,28,33,34,34,34,32,26,32,26,28,31,35,25,32,34,33,33,34,25,26,32,34,25,33,34,33,31,29,28,28,25,31,25,28,29,25,35,31,27,25,27,31,28,31,33,28,31,28,33,33,28,25,25,33,31,31,34,25,29,25,26,34,34,34,34,25,28,33,31,34,26,34,25,35,34,26,25,25,34,33,34,34,33,34,28,28,26,28,28,28,28,31,29,25,35,31,27,31,29,26,26,25,29,26,33,35,29,31,27,29,34,29,35,26,25,31,35,34,34,33,28,28,28,30,31,35,33,25,26,34,26,33,33,28,30,32,34,30,25,29,26,34,33,34,25,33,28,29,33,33,26,34,28,28,29,33,30,25,34,31,34,28,33,34,34,34,34,34,28,28,33,34,26,34,29,25,25,27,31,28,32,35,28,34,31,30,27,34,30,27,28,34,29,32,34,34,34,31,33,28,26,28,34,29,28,34,28,30,31,31,33,32,26,29,28,35,31,33,30,28,25,29,34,26,26,31,31,26,33,26,34,33,26,26,34,27,27,28,31,25,25,29,34,28,34,25,28,26,33,25,34,26,26,30,34,35,25,25,33,33,29,30,31,26,34,26,34,26,34,35,26,26,27,28,25,32,31,32,25,29,30,32,25,31,34,25,29,34,27,31,26,34,31,26,34,30,35,27,26,26,35,25,28,34,34,25,26,34,35,31,28,27,26,25,28,34,28,28,28,28,34,31,28,25,28,32,28,33,31,25,26,31,28,29,34,30,25,25,25,27,34,33,34,33,31,34,34,34,33,33,26,28,25,34,28,34,33,33,27,33,31,33,25,33,31,34,30,29,25,31,31,34,35,27,28,34,29,33,28,28,31,31,25,31,31,34,33,30,33,31,25,28,34,28,25,26,25,26,33,26,30,26,32,26,28,27,29,28,33,28,26,28,25,28,25,30,25,27,31,28,34,33,28,29,26,31,30,31,25,34,32,25,25,28,31,34,30,33,29,29,34,31,33,25,25,34,35,33,25,34,29,26,25,29,33,25,25,28,34,26,31,28,29,30,31,31,33,33,33,29,33,34,34,28,28,26,30,29,34,33,34,28,33,25,28,25,25,25,28,29,26,26,31,34,27,34,33,25,28,29,31,35,29,25,28,28,25,34,34,26,25,29,34,26,34,29,28,33,27,31,26,35,26,31,28,26,31,28,34,34,25,30,34,28,34,35,33,35,33,33,30,29,34,34,35,26,33,25,29,34,34,34,28,25,26,33,26,29,28,33,29,25,25,25,32,31,25,28,28,34,27,30,31,26,35,25,31,25,34,26,34,28,27,34,31,28,28,31,35,33,28,28,27,34,33,25,34,34,28,33,27,34,28,32,35,34,31,34,32,28,33,30,29,31,26,25,34,27,33,34],\"xaxis\":\"x\",\"yaxis\":\"y\",\"type\":\"histogram\"}],                        {\"template\":{\"data\":{\"histogram2dcontour\":[{\"type\":\"histogram2dcontour\",\"colorbar\":{\"outlinewidth\":0,\"ticks\":\"\"},\"colorscale\":[[0.0,\"#0d0887\"],[0.1111111111111111,\"#46039f\"],[0.2222222222222222,\"#7201a8\"],[0.3333333333333333,\"#9c179e\"],[0.4444444444444444,\"#bd3786\"],[0.5555555555555556,\"#d8576b\"],[0.6666666666666666,\"#ed7953\"],[0.7777777777777778,\"#fb9f3a\"],[0.8888888888888888,\"#fdca26\"],[1.0,\"#f0f921\"]]}],\"choropleth\":[{\"type\":\"choropleth\",\"colorbar\":{\"outlinewidth\":0,\"ticks\":\"\"}}],\"histogram2d\":[{\"type\":\"histogram2d\",\"colorbar\":{\"outlinewidth\":0,\"ticks\":\"\"},\"colorscale\":[[0.0,\"#0d0887\"],[0.1111111111111111,\"#46039f\"],[0.2222222222222222,\"#7201a8\"],[0.3333333333333333,\"#9c179e\"],[0.4444444444444444,\"#bd3786\"],[0.5555555555555556,\"#d8576b\"],[0.6666666666666666,\"#ed7953\"],[0.7777777777777778,\"#fb9f3a\"],[0.8888888888888888,\"#fdca26\"],[1.0,\"#f0f921\"]]}],\"heatmap\":[{\"type\":\"heatmap\",\"colorbar\":{\"outlinewidth\":0,\"ticks\":\"\"},\"colorscale\":[[0.0,\"#0d0887\"],[0.1111111111111111,\"#46039f\"],[0.2222222222222222,\"#7201a8\"],[0.3333333333333333,\"#9c179e\"],[0.4444444444444444,\"#bd3786\"],[0.5555555555555556,\"#d8576b\"],[0.6666666666666666,\"#ed7953\"],[0.7777777777777778,\"#fb9f3a\"],[0.8888888888888888,\"#fdca26\"],[1.0,\"#f0f921\"]]}],\"heatmapgl\":[{\"type\":\"heatmapgl\",\"colorbar\":{\"outlinewidth\":0,\"ticks\":\"\"},\"colorscale\":[[0.0,\"#0d0887\"],[0.1111111111111111,\"#46039f\"],[0.2222222222222222,\"#7201a8\"],[0.3333333333333333,\"#9c179e\"],[0.4444444444444444,\"#bd3786\"],[0.5555555555555556,\"#d8576b\"],[0.6666666666666666,\"#ed7953\"],[0.7777777777777778,\"#fb9f3a\"],[0.8888888888888888,\"#fdca26\"],[1.0,\"#f0f921\"]]}],\"contourcarpet\":[{\"type\":\"contourcarpet\",\"colorbar\":{\"outlinewidth\":0,\"ticks\":\"\"}}],\"contour\":[{\"type\":\"contour\",\"colorbar\":{\"outlinewidth\":0,\"ticks\":\"\"},\"colorscale\":[[0.0,\"#0d0887\"],[0.1111111111111111,\"#46039f\"],[0.2222222222222222,\"#7201a8\"],[0.3333333333333333,\"#9c179e\"],[0.4444444444444444,\"#bd3786\"],[0.5555555555555556,\"#d8576b\"],[0.6666666666666666,\"#ed7953\"],[0.7777777777777778,\"#fb9f3a\"],[0.8888888888888888,\"#fdca26\"],[1.0,\"#f0f921\"]]}],\"surface\":[{\"type\":\"surface\",\"colorbar\":{\"outlinewidth\":0,\"ticks\":\"\"},\"colorscale\":[[0.0,\"#0d0887\"],[0.1111111111111111,\"#46039f\"],[0.2222222222222222,\"#7201a8\"],[0.3333333333333333,\"#9c179e\"],[0.4444444444444444,\"#bd3786\"],[0.5555555555555556,\"#d8576b\"],[0.6666666666666666,\"#ed7953\"],[0.7777777777777778,\"#fb9f3a\"],[0.8888888888888888,\"#fdca26\"],[1.0,\"#f0f921\"]]}],\"mesh3d\":[{\"type\":\"mesh3d\",\"colorbar\":{\"outlinewidth\":0,\"ticks\":\"\"}}],\"scatter\":[{\"fillpattern\":{\"fillmode\":\"overlay\",\"size\":10,\"solidity\":0.2},\"type\":\"scatter\"}],\"parcoords\":[{\"type\":\"parcoords\",\"line\":{\"colorbar\":{\"outlinewidth\":0,\"ticks\":\"\"}}}],\"scatterpolargl\":[{\"type\":\"scatterpolargl\",\"marker\":{\"colorbar\":{\"outlinewidth\":0,\"ticks\":\"\"}}}],\"bar\":[{\"error_x\":{\"color\":\"#2a3f5f\"},\"error_y\":{\"color\":\"#2a3f5f\"},\"marker\":{\"line\":{\"color\":\"#E5ECF6\",\"width\":0.5},\"pattern\":{\"fillmode\":\"overlay\",\"size\":10,\"solidity\":0.2}},\"type\":\"bar\"}],\"scattergeo\":[{\"type\":\"scattergeo\",\"marker\":{\"colorbar\":{\"outlinewidth\":0,\"ticks\":\"\"}}}],\"scatterpolar\":[{\"type\":\"scatterpolar\",\"marker\":{\"colorbar\":{\"outlinewidth\":0,\"ticks\":\"\"}}}],\"histogram\":[{\"marker\":{\"pattern\":{\"fillmode\":\"overlay\",\"size\":10,\"solidity\":0.2}},\"type\":\"histogram\"}],\"scattergl\":[{\"type\":\"scattergl\",\"marker\":{\"colorbar\":{\"outlinewidth\":0,\"ticks\":\"\"}}}],\"scatter3d\":[{\"type\":\"scatter3d\",\"line\":{\"colorbar\":{\"outlinewidth\":0,\"ticks\":\"\"}},\"marker\":{\"colorbar\":{\"outlinewidth\":0,\"ticks\":\"\"}}}],\"scattermapbox\":[{\"type\":\"scattermapbox\",\"marker\":{\"colorbar\":{\"outlinewidth\":0,\"ticks\":\"\"}}}],\"scatterternary\":[{\"type\":\"scatterternary\",\"marker\":{\"colorbar\":{\"outlinewidth\":0,\"ticks\":\"\"}}}],\"scattercarpet\":[{\"type\":\"scattercarpet\",\"marker\":{\"colorbar\":{\"outlinewidth\":0,\"ticks\":\"\"}}}],\"carpet\":[{\"aaxis\":{\"endlinecolor\":\"#2a3f5f\",\"gridcolor\":\"white\",\"linecolor\":\"white\",\"minorgridcolor\":\"white\",\"startlinecolor\":\"#2a3f5f\"},\"baxis\":{\"endlinecolor\":\"#2a3f5f\",\"gridcolor\":\"white\",\"linecolor\":\"white\",\"minorgridcolor\":\"white\",\"startlinecolor\":\"#2a3f5f\"},\"type\":\"carpet\"}],\"table\":[{\"cells\":{\"fill\":{\"color\":\"#EBF0F8\"},\"line\":{\"color\":\"white\"}},\"header\":{\"fill\":{\"color\":\"#C8D4E3\"},\"line\":{\"color\":\"white\"}},\"type\":\"table\"}],\"barpolar\":[{\"marker\":{\"line\":{\"color\":\"#E5ECF6\",\"width\":0.5},\"pattern\":{\"fillmode\":\"overlay\",\"size\":10,\"solidity\":0.2}},\"type\":\"barpolar\"}],\"pie\":[{\"automargin\":true,\"type\":\"pie\"}]},\"layout\":{\"autotypenumbers\":\"strict\",\"colorway\":[\"#636efa\",\"#EF553B\",\"#00cc96\",\"#ab63fa\",\"#FFA15A\",\"#19d3f3\",\"#FF6692\",\"#B6E880\",\"#FF97FF\",\"#FECB52\"],\"font\":{\"color\":\"#2a3f5f\"},\"hovermode\":\"closest\",\"hoverlabel\":{\"align\":\"left\"},\"paper_bgcolor\":\"white\",\"plot_bgcolor\":\"#E5ECF6\",\"polar\":{\"bgcolor\":\"#E5ECF6\",\"angularaxis\":{\"gridcolor\":\"white\",\"linecolor\":\"white\",\"ticks\":\"\"},\"radialaxis\":{\"gridcolor\":\"white\",\"linecolor\":\"white\",\"ticks\":\"\"}},\"ternary\":{\"bgcolor\":\"#E5ECF6\",\"aaxis\":{\"gridcolor\":\"white\",\"linecolor\":\"white\",\"ticks\":\"\"},\"baxis\":{\"gridcolor\":\"white\",\"linecolor\":\"white\",\"ticks\":\"\"},\"caxis\":{\"gridcolor\":\"white\",\"linecolor\":\"white\",\"ticks\":\"\"}},\"coloraxis\":{\"colorbar\":{\"outlinewidth\":0,\"ticks\":\"\"}},\"colorscale\":{\"sequential\":[[0.0,\"#0d0887\"],[0.1111111111111111,\"#46039f\"],[0.2222222222222222,\"#7201a8\"],[0.3333333333333333,\"#9c179e\"],[0.4444444444444444,\"#bd3786\"],[0.5555555555555556,\"#d8576b\"],[0.6666666666666666,\"#ed7953\"],[0.7777777777777778,\"#fb9f3a\"],[0.8888888888888888,\"#fdca26\"],[1.0,\"#f0f921\"]],\"sequentialminus\":[[0.0,\"#0d0887\"],[0.1111111111111111,\"#46039f\"],[0.2222222222222222,\"#7201a8\"],[0.3333333333333333,\"#9c179e\"],[0.4444444444444444,\"#bd3786\"],[0.5555555555555556,\"#d8576b\"],[0.6666666666666666,\"#ed7953\"],[0.7777777777777778,\"#fb9f3a\"],[0.8888888888888888,\"#fdca26\"],[1.0,\"#f0f921\"]],\"diverging\":[[0,\"#8e0152\"],[0.1,\"#c51b7d\"],[0.2,\"#de77ae\"],[0.3,\"#f1b6da\"],[0.4,\"#fde0ef\"],[0.5,\"#f7f7f7\"],[0.6,\"#e6f5d0\"],[0.7,\"#b8e186\"],[0.8,\"#7fbc41\"],[0.9,\"#4d9221\"],[1,\"#276419\"]]},\"xaxis\":{\"gridcolor\":\"white\",\"linecolor\":\"white\",\"ticks\":\"\",\"title\":{\"standoff\":15},\"zerolinecolor\":\"white\",\"automargin\":true,\"zerolinewidth\":2},\"yaxis\":{\"gridcolor\":\"white\",\"linecolor\":\"white\",\"ticks\":\"\",\"title\":{\"standoff\":15},\"zerolinecolor\":\"white\",\"automargin\":true,\"zerolinewidth\":2},\"scene\":{\"xaxis\":{\"backgroundcolor\":\"#E5ECF6\",\"gridcolor\":\"white\",\"linecolor\":\"white\",\"showbackground\":true,\"ticks\":\"\",\"zerolinecolor\":\"white\",\"gridwidth\":2},\"yaxis\":{\"backgroundcolor\":\"#E5ECF6\",\"gridcolor\":\"white\",\"linecolor\":\"white\",\"showbackground\":true,\"ticks\":\"\",\"zerolinecolor\":\"white\",\"gridwidth\":2},\"zaxis\":{\"backgroundcolor\":\"#E5ECF6\",\"gridcolor\":\"white\",\"linecolor\":\"white\",\"showbackground\":true,\"ticks\":\"\",\"zerolinecolor\":\"white\",\"gridwidth\":2}},\"shapedefaults\":{\"line\":{\"color\":\"#2a3f5f\"}},\"annotationdefaults\":{\"arrowcolor\":\"#2a3f5f\",\"arrowhead\":0,\"arrowwidth\":1},\"geo\":{\"bgcolor\":\"white\",\"landcolor\":\"#E5ECF6\",\"subunitcolor\":\"white\",\"showland\":true,\"showlakes\":true,\"lakecolor\":\"white\"},\"title\":{\"x\":0.05},\"mapbox\":{\"style\":\"light\"}}},\"xaxis\":{\"anchor\":\"y\",\"domain\":[0.0,1.0],\"title\":{\"text\":\"Age\"}},\"yaxis\":{\"anchor\":\"x\",\"domain\":[0.0,1.0],\"title\":{\"text\":\"count\"}},\"legend\":{\"title\":{\"text\":\"TravelInsurance\"},\"tracegroupgap\":0},\"title\":{\"text\":\"Factors affecting purchase of travel insurance: Age\"},\"barmode\":\"relative\"},                        {\"responsive\": true}                    ).then(function(){\n",
              "                            \n",
              "var gd = document.getElementById('d312be4b-6364-4afb-a3f1-e915cc28fbb0');\n",
              "var x = new MutationObserver(function (mutations, observer) {{\n",
              "        var display = window.getComputedStyle(gd).display;\n",
              "        if (!display || display === 'none') {{\n",
              "            console.log([gd, 'removed!']);\n",
              "            Plotly.purge(gd);\n",
              "            observer.disconnect();\n",
              "        }}\n",
              "}});\n",
              "\n",
              "// Listen for the removal of the full notebook cells\n",
              "var notebookContainer = gd.closest('#notebook-container');\n",
              "if (notebookContainer) {{\n",
              "    x.observe(notebookContainer, {childList: true});\n",
              "}}\n",
              "\n",
              "// Listen for the clearing of the current output cell\n",
              "var outputEl = gd.closest('.output');\n",
              "if (outputEl) {{\n",
              "    x.observe(outputEl, {childList: true});\n",
              "}}\n",
              "\n",
              "                        })                };                            </script>        </div>\n",
              "</body>\n",
              "</html>"
            ]
          },
          "metadata": {}
        },
        {
          "output_type": "display_data",
          "data": {
            "text/html": [
              "<html>\n",
              "<head><meta charset=\"utf-8\" /></head>\n",
              "<body>\n",
              "    <div>            <script src=\"https://cdnjs.cloudflare.com/ajax/libs/mathjax/2.7.5/MathJax.js?config=TeX-AMS-MML_SVG\"></script><script type=\"text/javascript\">if (window.MathJax && window.MathJax.Hub && window.MathJax.Hub.Config) {window.MathJax.Hub.Config({SVG: {font: \"STIX-Web\"}});}</script>                <script type=\"text/javascript\">window.PlotlyConfig = {MathJaxConfig: 'local'};</script>\n",
              "        <script src=\"https://cdn.plot.ly/plotly-2.18.2.min.js\"></script>                <div id=\"b8db7c08-0e37-44d3-a23d-175ca52096bc\" class=\"plotly-graph-div\" style=\"height:525px; width:100%;\"></div>            <script type=\"text/javascript\">                                    window.PLOTLYENV=window.PLOTLYENV || {};                                    if (document.getElementById(\"b8db7c08-0e37-44d3-a23d-175ca52096bc\")) {                    Plotly.newPlot(                        \"b8db7c08-0e37-44d3-a23d-175ca52096bc\",                        [{\"alignmentgroup\":\"True\",\"bingroup\":\"x\",\"hovertemplate\":\"TravelInsurance=Not Purchased<br>Employment Type=%{x}<br>count=%{y}<extra></extra>\",\"legendgroup\":\"Not Purchased\",\"marker\":{\"color\":\"#636efa\",\"pattern\":{\"shape\":\"\"}},\"name\":\"Not Purchased\",\"offsetgroup\":\"Not Purchased\",\"orientation\":\"v\",\"showlegend\":true,\"x\":[\"Government Sector\",\"Private Sector/Self Employed\",\"Private Sector/Self Employed\",\"Private Sector/Self Employed\",\"Private Sector/Self Employed\",\"Government Sector\",\"Government Sector\",\"Government Sector\",\"Government Sector\",\"Private Sector/Self Employed\",\"Private Sector/Self Employed\",\"Private Sector/Self Employed\",\"Private Sector/Self Employed\",\"Government Sector\",\"Private Sector/Self Employed\",\"Private Sector/Self Employed\",\"Private Sector/Self Employed\",\"Private Sector/Self Employed\",\"Private Sector/Self Employed\",\"Government Sector\",\"Government Sector\",\"Private Sector/Self Employed\",\"Government Sector\",\"Private Sector/Self Employed\",\"Government Sector\",\"Private Sector/Self Employed\",\"Government Sector\",\"Private Sector/Self Employed\",\"Private Sector/Self Employed\",\"Private Sector/Self Employed\",\"Private Sector/Self Employed\",\"Government Sector\",\"Private Sector/Self Employed\",\"Private Sector/Self Employed\",\"Private Sector/Self Employed\",\"Private Sector/Self Employed\",\"Government Sector\",\"Private Sector/Self Employed\",\"Private Sector/Self Employed\",\"Private Sector/Self Employed\",\"Government Sector\",\"Government Sector\",\"Private Sector/Self Employed\",\"Private Sector/Self Employed\",\"Private Sector/Self Employed\",\"Private Sector/Self Employed\",\"Private Sector/Self Employed\",\"Government Sector\",\"Government Sector\",\"Private Sector/Self Employed\",\"Private Sector/Self Employed\",\"Private Sector/Self Employed\",\"Government Sector\",\"Government Sector\",\"Government Sector\",\"Private Sector/Self Employed\",\"Government Sector\",\"Government Sector\",\"Government Sector\",\"Private Sector/Self Employed\",\"Private Sector/Self Employed\",\"Private Sector/Self Employed\",\"Private Sector/Self Employed\",\"Private Sector/Self Employed\",\"Government Sector\",\"Private Sector/Self Employed\",\"Private Sector/Self Employed\",\"Private Sector/Self Employed\",\"Private Sector/Self Employed\",\"Private Sector/Self Employed\",\"Government Sector\",\"Private Sector/Self Employed\",\"Private Sector/Self Employed\",\"Private Sector/Self Employed\",\"Private Sector/Self Employed\",\"Private Sector/Self Employed\",\"Government Sector\",\"Private Sector/Self Employed\",\"Private Sector/Self Employed\",\"Government Sector\",\"Government Sector\",\"Government Sector\",\"Government Sector\",\"Government Sector\",\"Private Sector/Self Employed\",\"Private Sector/Self Employed\",\"Private Sector/Self Employed\",\"Private Sector/Self Employed\",\"Private Sector/Self Employed\",\"Private Sector/Self Employed\",\"Private Sector/Self Employed\",\"Private Sector/Self Employed\",\"Private Sector/Self Employed\",\"Government Sector\",\"Private Sector/Self Employed\",\"Private Sector/Self Employed\",\"Private Sector/Self Employed\",\"Government Sector\",\"Private Sector/Self Employed\",\"Private Sector/Self Employed\",\"Private Sector/Self Employed\",\"Private Sector/Self Employed\",\"Private Sector/Self Employed\",\"Private Sector/Self Employed\",\"Government Sector\",\"Government Sector\",\"Government Sector\",\"Government Sector\",\"Private Sector/Self Employed\",\"Government Sector\",\"Government Sector\",\"Private Sector/Self Employed\",\"Private Sector/Self Employed\",\"Private Sector/Self Employed\",\"Private Sector/Self Employed\",\"Private Sector/Self Employed\",\"Government Sector\",\"Private Sector/Self Employed\",\"Private Sector/Self Employed\",\"Private Sector/Self Employed\",\"Private Sector/Self Employed\",\"Government Sector\",\"Private Sector/Self Employed\",\"Government Sector\",\"Government Sector\",\"Private Sector/Self Employed\",\"Private Sector/Self Employed\",\"Private Sector/Self Employed\",\"Government Sector\",\"Private Sector/Self Employed\",\"Private Sector/Self Employed\",\"Government Sector\",\"Private Sector/Self Employed\",\"Government Sector\",\"Private Sector/Self Employed\",\"Private Sector/Self Employed\",\"Private Sector/Self Employed\",\"Private Sector/Self Employed\",\"Government Sector\",\"Government Sector\",\"Private Sector/Self Employed\",\"Private Sector/Self Employed\",\"Private Sector/Self Employed\",\"Private Sector/Self Employed\",\"Private Sector/Self Employed\",\"Private Sector/Self Employed\",\"Private Sector/Self Employed\",\"Private Sector/Self Employed\",\"Private Sector/Self Employed\",\"Private Sector/Self Employed\",\"Private Sector/Self Employed\",\"Private Sector/Self Employed\",\"Private Sector/Self Employed\",\"Government Sector\",\"Private Sector/Self Employed\",\"Government Sector\",\"Private Sector/Self Employed\",\"Private Sector/Self Employed\",\"Private Sector/Self Employed\",\"Private Sector/Self Employed\",\"Private Sector/Self Employed\",\"Private Sector/Self Employed\",\"Government Sector\",\"Private Sector/Self Employed\",\"Government Sector\",\"Private Sector/Self Employed\",\"Government Sector\",\"Private Sector/Self Employed\",\"Government Sector\",\"Government Sector\",\"Private Sector/Self Employed\",\"Private Sector/Self Employed\",\"Private Sector/Self Employed\",\"Private Sector/Self Employed\",\"Government Sector\",\"Government Sector\",\"Private Sector/Self Employed\",\"Government Sector\",\"Private Sector/Self Employed\",\"Private Sector/Self Employed\",\"Private Sector/Self Employed\",\"Government Sector\",\"Government Sector\",\"Private Sector/Self Employed\",\"Private Sector/Self Employed\",\"Private Sector/Self Employed\",\"Private Sector/Self Employed\",\"Private Sector/Self Employed\",\"Private Sector/Self Employed\",\"Private Sector/Self Employed\",\"Government Sector\",\"Private Sector/Self Employed\",\"Government Sector\",\"Private Sector/Self Employed\",\"Private Sector/Self Employed\",\"Government Sector\",\"Private Sector/Self Employed\",\"Government Sector\",\"Government Sector\",\"Private Sector/Self Employed\",\"Private Sector/Self Employed\",\"Private Sector/Self Employed\",\"Private Sector/Self Employed\",\"Private Sector/Self Employed\",\"Government Sector\",\"Government Sector\",\"Private Sector/Self Employed\",\"Private Sector/Self Employed\",\"Private Sector/Self Employed\",\"Private Sector/Self Employed\",\"Government Sector\",\"Private Sector/Self Employed\",\"Private Sector/Self Employed\",\"Government Sector\",\"Private Sector/Self Employed\",\"Private Sector/Self Employed\",\"Private Sector/Self Employed\",\"Government Sector\",\"Private Sector/Self Employed\",\"Private Sector/Self Employed\",\"Private Sector/Self Employed\",\"Private Sector/Self Employed\",\"Private Sector/Self Employed\",\"Private Sector/Self Employed\",\"Government Sector\",\"Private Sector/Self Employed\",\"Private Sector/Self Employed\",\"Private Sector/Self Employed\",\"Private Sector/Self Employed\",\"Private Sector/Self Employed\",\"Private Sector/Self Employed\",\"Government Sector\",\"Private Sector/Self Employed\",\"Private Sector/Self Employed\",\"Private Sector/Self Employed\",\"Private Sector/Self Employed\",\"Private Sector/Self Employed\",\"Private Sector/Self Employed\",\"Government Sector\",\"Government Sector\",\"Government Sector\",\"Government Sector\",\"Government Sector\",\"Government Sector\",\"Private Sector/Self Employed\",\"Private Sector/Self Employed\",\"Government Sector\",\"Private Sector/Self Employed\",\"Government Sector\",\"Private Sector/Self Employed\",\"Private Sector/Self Employed\",\"Private Sector/Self Employed\",\"Government Sector\",\"Private Sector/Self Employed\",\"Government Sector\",\"Private Sector/Self Employed\",\"Private Sector/Self Employed\",\"Government Sector\",\"Government Sector\",\"Private Sector/Self Employed\",\"Private Sector/Self Employed\",\"Private Sector/Self Employed\",\"Private Sector/Self Employed\",\"Private Sector/Self Employed\",\"Private Sector/Self Employed\",\"Government Sector\",\"Government Sector\",\"Private Sector/Self Employed\",\"Private Sector/Self Employed\",\"Government Sector\",\"Government Sector\",\"Government Sector\",\"Private Sector/Self Employed\",\"Private Sector/Self Employed\",\"Private Sector/Self Employed\",\"Government Sector\",\"Private Sector/Self Employed\",\"Private Sector/Self Employed\",\"Private Sector/Self Employed\",\"Government Sector\",\"Private Sector/Self Employed\",\"Private Sector/Self Employed\",\"Private Sector/Self Employed\",\"Private Sector/Self Employed\",\"Private Sector/Self Employed\",\"Government Sector\",\"Private Sector/Self Employed\",\"Private Sector/Self Employed\",\"Government Sector\",\"Private Sector/Self Employed\",\"Private Sector/Self Employed\",\"Private Sector/Self Employed\",\"Private Sector/Self Employed\",\"Private Sector/Self Employed\",\"Government Sector\",\"Government Sector\",\"Private Sector/Self Employed\",\"Private Sector/Self Employed\",\"Private Sector/Self Employed\",\"Private Sector/Self Employed\",\"Private Sector/Self Employed\",\"Government Sector\",\"Private Sector/Self Employed\",\"Private Sector/Self Employed\",\"Private Sector/Self Employed\",\"Government Sector\",\"Private Sector/Self Employed\",\"Private Sector/Self Employed\",\"Government Sector\",\"Private Sector/Self Employed\",\"Government Sector\",\"Private Sector/Self Employed\",\"Private Sector/Self Employed\",\"Private Sector/Self Employed\",\"Government Sector\",\"Private Sector/Self Employed\",\"Private Sector/Self Employed\",\"Private Sector/Self Employed\",\"Private Sector/Self Employed\",\"Government Sector\",\"Government Sector\",\"Private Sector/Self Employed\",\"Private Sector/Self Employed\",\"Government Sector\",\"Private Sector/Self Employed\",\"Government Sector\",\"Private Sector/Self Employed\",\"Private Sector/Self Employed\",\"Private Sector/Self Employed\",\"Government Sector\",\"Private Sector/Self Employed\",\"Private Sector/Self Employed\",\"Private Sector/Self Employed\",\"Government Sector\",\"Government Sector\",\"Private Sector/Self Employed\",\"Government Sector\",\"Private Sector/Self Employed\",\"Government Sector\",\"Government Sector\",\"Private Sector/Self Employed\",\"Private Sector/Self Employed\",\"Private Sector/Self Employed\",\"Private Sector/Self Employed\",\"Private Sector/Self Employed\",\"Private Sector/Self Employed\",\"Private Sector/Self Employed\",\"Private Sector/Self Employed\",\"Private Sector/Self Employed\",\"Private Sector/Self Employed\",\"Government Sector\",\"Private Sector/Self Employed\",\"Private Sector/Self Employed\",\"Private Sector/Self Employed\",\"Government Sector\",\"Private Sector/Self Employed\",\"Private Sector/Self Employed\",\"Government Sector\",\"Government Sector\",\"Private Sector/Self Employed\",\"Government Sector\",\"Private Sector/Self Employed\",\"Government Sector\",\"Private Sector/Self Employed\",\"Private Sector/Self Employed\",\"Government Sector\",\"Private Sector/Self Employed\",\"Private Sector/Self Employed\",\"Government Sector\",\"Private Sector/Self Employed\",\"Private Sector/Self Employed\",\"Government Sector\",\"Private Sector/Self Employed\",\"Government Sector\",\"Private Sector/Self Employed\",\"Government Sector\",\"Private Sector/Self Employed\",\"Private Sector/Self Employed\",\"Private Sector/Self Employed\",\"Private Sector/Self Employed\",\"Government Sector\",\"Private Sector/Self Employed\",\"Private Sector/Self Employed\",\"Private Sector/Self Employed\",\"Private Sector/Self Employed\",\"Government Sector\",\"Private Sector/Self Employed\",\"Private Sector/Self Employed\",\"Government Sector\",\"Private Sector/Self Employed\",\"Private Sector/Self Employed\",\"Private Sector/Self Employed\",\"Private Sector/Self Employed\",\"Private Sector/Self Employed\",\"Government Sector\",\"Private Sector/Self Employed\",\"Private Sector/Self Employed\",\"Private Sector/Self Employed\",\"Private Sector/Self Employed\",\"Private Sector/Self Employed\",\"Private Sector/Self Employed\",\"Private Sector/Self Employed\",\"Government Sector\",\"Government Sector\",\"Private Sector/Self Employed\",\"Private Sector/Self Employed\",\"Government Sector\",\"Private Sector/Self Employed\",\"Private Sector/Self Employed\",\"Private Sector/Self Employed\",\"Private Sector/Self Employed\",\"Government Sector\",\"Private Sector/Self Employed\",\"Private Sector/Self Employed\",\"Private Sector/Self Employed\",\"Private Sector/Self Employed\",\"Private Sector/Self Employed\",\"Private Sector/Self Employed\",\"Private Sector/Self Employed\",\"Private Sector/Self Employed\",\"Private Sector/Self Employed\",\"Private Sector/Self Employed\",\"Private Sector/Self Employed\",\"Government Sector\",\"Private Sector/Self Employed\",\"Government Sector\",\"Private Sector/Self Employed\",\"Private Sector/Self Employed\",\"Private Sector/Self Employed\",\"Government Sector\",\"Government Sector\",\"Government Sector\",\"Private Sector/Self Employed\",\"Private Sector/Self Employed\",\"Private Sector/Self Employed\",\"Government Sector\",\"Government Sector\",\"Private Sector/Self Employed\",\"Private Sector/Self Employed\",\"Private Sector/Self Employed\",\"Private Sector/Self Employed\",\"Government Sector\",\"Private Sector/Self Employed\",\"Private Sector/Self Employed\",\"Private Sector/Self Employed\",\"Government Sector\",\"Government Sector\",\"Private Sector/Self Employed\",\"Private Sector/Self Employed\",\"Private Sector/Self Employed\",\"Government Sector\",\"Private Sector/Self Employed\",\"Private Sector/Self Employed\",\"Private Sector/Self Employed\",\"Private Sector/Self Employed\",\"Government Sector\",\"Government Sector\",\"Private Sector/Self Employed\",\"Private Sector/Self Employed\",\"Government Sector\",\"Private Sector/Self Employed\",\"Private Sector/Self Employed\",\"Government Sector\",\"Government Sector\",\"Private Sector/Self Employed\",\"Government Sector\",\"Government Sector\",\"Private Sector/Self Employed\",\"Private Sector/Self Employed\",\"Private Sector/Self Employed\",\"Government Sector\",\"Private Sector/Self Employed\",\"Private Sector/Self Employed\",\"Government Sector\",\"Private Sector/Self Employed\",\"Government Sector\",\"Private Sector/Self Employed\",\"Private Sector/Self Employed\",\"Government Sector\",\"Private Sector/Self Employed\",\"Private Sector/Self Employed\",\"Private Sector/Self Employed\",\"Private Sector/Self Employed\",\"Government Sector\",\"Government Sector\",\"Private Sector/Self Employed\",\"Private Sector/Self Employed\",\"Private Sector/Self Employed\",\"Private Sector/Self Employed\",\"Government Sector\",\"Government Sector\",\"Private Sector/Self Employed\",\"Private Sector/Self Employed\",\"Government Sector\",\"Government Sector\",\"Private Sector/Self Employed\",\"Government Sector\",\"Government Sector\",\"Government Sector\",\"Private Sector/Self Employed\",\"Government Sector\",\"Government Sector\",\"Private Sector/Self Employed\",\"Private Sector/Self Employed\",\"Government Sector\",\"Private Sector/Self Employed\",\"Government Sector\",\"Private Sector/Self Employed\",\"Private Sector/Self Employed\",\"Private Sector/Self Employed\",\"Government Sector\",\"Government Sector\",\"Government Sector\",\"Government Sector\",\"Private Sector/Self Employed\",\"Private Sector/Self Employed\",\"Private Sector/Self Employed\",\"Private Sector/Self Employed\",\"Private Sector/Self Employed\",\"Private Sector/Self Employed\",\"Private Sector/Self Employed\",\"Government Sector\",\"Government Sector\",\"Government Sector\",\"Government Sector\",\"Government Sector\",\"Government Sector\",\"Private Sector/Self Employed\",\"Private Sector/Self Employed\",\"Private Sector/Self Employed\",\"Private Sector/Self Employed\",\"Private Sector/Self Employed\",\"Private Sector/Self Employed\",\"Government Sector\",\"Private Sector/Self Employed\",\"Private Sector/Self Employed\",\"Private Sector/Self Employed\",\"Private Sector/Self Employed\",\"Private Sector/Self Employed\",\"Private Sector/Self Employed\",\"Private Sector/Self Employed\",\"Private Sector/Self Employed\",\"Government Sector\",\"Private Sector/Self Employed\",\"Private Sector/Self Employed\",\"Government Sector\",\"Private Sector/Self Employed\",\"Private Sector/Self Employed\",\"Private Sector/Self Employed\",\"Private Sector/Self Employed\",\"Private Sector/Self Employed\",\"Government Sector\",\"Private Sector/Self Employed\",\"Private Sector/Self Employed\",\"Government Sector\",\"Government Sector\",\"Government Sector\",\"Government Sector\",\"Government Sector\",\"Government Sector\",\"Private Sector/Self Employed\",\"Government Sector\",\"Private Sector/Self Employed\",\"Private Sector/Self Employed\",\"Government Sector\",\"Private Sector/Self Employed\",\"Private Sector/Self Employed\",\"Private Sector/Self Employed\",\"Government Sector\",\"Private Sector/Self Employed\",\"Private Sector/Self Employed\",\"Private Sector/Self Employed\",\"Private Sector/Self Employed\",\"Private Sector/Self Employed\",\"Private Sector/Self Employed\",\"Private Sector/Self Employed\",\"Private Sector/Self Employed\",\"Private Sector/Self Employed\",\"Private Sector/Self Employed\",\"Government Sector\",\"Government Sector\",\"Private Sector/Self Employed\",\"Private Sector/Self Employed\",\"Private Sector/Self Employed\",\"Private Sector/Self Employed\",\"Government Sector\",\"Government Sector\",\"Government Sector\",\"Government Sector\",\"Government Sector\",\"Government Sector\",\"Government Sector\",\"Private Sector/Self Employed\",\"Government Sector\",\"Private Sector/Self Employed\",\"Government Sector\",\"Government Sector\",\"Government Sector\",\"Government Sector\",\"Government Sector\",\"Government Sector\",\"Government Sector\",\"Private Sector/Self Employed\",\"Private Sector/Self Employed\",\"Government Sector\",\"Private Sector/Self Employed\",\"Government Sector\",\"Government Sector\",\"Private Sector/Self Employed\",\"Government Sector\",\"Private Sector/Self Employed\",\"Private Sector/Self Employed\",\"Private Sector/Self Employed\",\"Private Sector/Self Employed\",\"Government Sector\",\"Private Sector/Self Employed\",\"Private Sector/Self Employed\",\"Private Sector/Self Employed\",\"Private Sector/Self Employed\",\"Private Sector/Self Employed\",\"Private Sector/Self Employed\",\"Private Sector/Self Employed\",\"Private Sector/Self Employed\",\"Private Sector/Self Employed\",\"Government Sector\",\"Government Sector\",\"Private Sector/Self Employed\",\"Private Sector/Self Employed\",\"Private Sector/Self Employed\",\"Private Sector/Self Employed\",\"Private Sector/Self Employed\",\"Private Sector/Self Employed\",\"Private Sector/Self Employed\",\"Government Sector\",\"Private Sector/Self Employed\",\"Government Sector\",\"Government Sector\",\"Government Sector\",\"Private Sector/Self Employed\",\"Private Sector/Self Employed\",\"Private Sector/Self Employed\",\"Private Sector/Self Employed\",\"Private Sector/Self Employed\",\"Government Sector\",\"Private Sector/Self Employed\",\"Government Sector\",\"Private Sector/Self Employed\",\"Private Sector/Self Employed\",\"Government Sector\",\"Private Sector/Self Employed\",\"Private Sector/Self Employed\",\"Government Sector\",\"Private Sector/Self Employed\",\"Private Sector/Self Employed\",\"Private Sector/Self Employed\",\"Government Sector\",\"Government Sector\",\"Private Sector/Self Employed\",\"Government Sector\",\"Private Sector/Self Employed\",\"Private Sector/Self Employed\",\"Private Sector/Self Employed\",\"Government Sector\",\"Private Sector/Self Employed\",\"Private Sector/Self Employed\",\"Private Sector/Self Employed\",\"Private Sector/Self Employed\",\"Private Sector/Self Employed\",\"Private Sector/Self Employed\",\"Private Sector/Self Employed\",\"Private Sector/Self Employed\",\"Private Sector/Self Employed\",\"Private Sector/Self Employed\",\"Government Sector\",\"Private Sector/Self Employed\",\"Private Sector/Self Employed\",\"Government Sector\",\"Private Sector/Self Employed\",\"Private Sector/Self Employed\",\"Government Sector\",\"Government Sector\",\"Private Sector/Self Employed\",\"Government Sector\",\"Government Sector\",\"Private Sector/Self Employed\",\"Government Sector\",\"Government Sector\",\"Private Sector/Self Employed\",\"Private Sector/Self Employed\",\"Government Sector\",\"Private Sector/Self Employed\",\"Government Sector\",\"Government Sector\",\"Government Sector\",\"Private Sector/Self Employed\",\"Private Sector/Self Employed\",\"Government Sector\",\"Government Sector\",\"Government Sector\",\"Private Sector/Self Employed\",\"Private Sector/Self Employed\",\"Private Sector/Self Employed\",\"Private Sector/Self Employed\",\"Private Sector/Self Employed\",\"Private Sector/Self Employed\",\"Government Sector\",\"Government Sector\",\"Private Sector/Self Employed\",\"Private Sector/Self Employed\",\"Private Sector/Self Employed\",\"Private Sector/Self Employed\",\"Government Sector\",\"Private Sector/Self Employed\",\"Private Sector/Self Employed\",\"Private Sector/Self Employed\",\"Private Sector/Self Employed\",\"Private Sector/Self Employed\",\"Private Sector/Self Employed\",\"Private Sector/Self Employed\",\"Private Sector/Self Employed\",\"Private Sector/Self Employed\",\"Government Sector\",\"Government Sector\",\"Private Sector/Self Employed\",\"Private Sector/Self Employed\",\"Government Sector\",\"Government Sector\",\"Government Sector\",\"Private Sector/Self Employed\",\"Government Sector\",\"Private Sector/Self Employed\",\"Private Sector/Self Employed\",\"Government Sector\",\"Private Sector/Self Employed\",\"Government Sector\",\"Private Sector/Self Employed\",\"Private Sector/Self Employed\",\"Private Sector/Self Employed\",\"Private Sector/Self Employed\",\"Private Sector/Self Employed\",\"Government Sector\",\"Government Sector\",\"Government Sector\",\"Private Sector/Self Employed\",\"Private Sector/Self Employed\",\"Private Sector/Self Employed\",\"Government Sector\",\"Private Sector/Self Employed\",\"Private Sector/Self Employed\",\"Private Sector/Self Employed\",\"Private Sector/Self Employed\",\"Private Sector/Self Employed\",\"Private Sector/Self Employed\",\"Private Sector/Self Employed\",\"Private Sector/Self Employed\",\"Government Sector\",\"Government Sector\",\"Government Sector\",\"Private Sector/Self Employed\",\"Government Sector\",\"Private Sector/Self Employed\",\"Private Sector/Self Employed\",\"Government Sector\",\"Private Sector/Self Employed\",\"Private Sector/Self Employed\",\"Government Sector\",\"Private Sector/Self Employed\",\"Private Sector/Self Employed\",\"Government Sector\",\"Private Sector/Self Employed\",\"Private Sector/Self Employed\",\"Private Sector/Self Employed\",\"Private Sector/Self Employed\",\"Private Sector/Self Employed\",\"Private Sector/Self Employed\",\"Private Sector/Self Employed\",\"Private Sector/Self Employed\",\"Government Sector\",\"Government Sector\",\"Government Sector\",\"Private Sector/Self Employed\",\"Private Sector/Self Employed\",\"Government Sector\",\"Private Sector/Self Employed\",\"Government Sector\",\"Private Sector/Self Employed\",\"Government Sector\",\"Government Sector\",\"Private Sector/Self Employed\",\"Private Sector/Self Employed\",\"Government Sector\",\"Private Sector/Self Employed\",\"Private Sector/Self Employed\",\"Government Sector\",\"Private Sector/Self Employed\",\"Government Sector\",\"Government Sector\",\"Government Sector\",\"Government Sector\",\"Government Sector\",\"Government Sector\",\"Private Sector/Self Employed\",\"Private Sector/Self Employed\",\"Private Sector/Self Employed\",\"Private Sector/Self Employed\",\"Private Sector/Self Employed\",\"Private Sector/Self Employed\",\"Private Sector/Self Employed\",\"Government Sector\",\"Private Sector/Self Employed\",\"Private Sector/Self Employed\",\"Government Sector\",\"Private Sector/Self Employed\",\"Private Sector/Self Employed\",\"Government Sector\",\"Government Sector\",\"Private Sector/Self Employed\",\"Government Sector\",\"Government Sector\",\"Private Sector/Self Employed\",\"Private Sector/Self Employed\",\"Private Sector/Self Employed\",\"Government Sector\",\"Private Sector/Self Employed\",\"Government Sector\",\"Government Sector\",\"Private Sector/Self Employed\",\"Private Sector/Self Employed\",\"Private Sector/Self Employed\",\"Private Sector/Self Employed\",\"Government Sector\",\"Government Sector\",\"Private Sector/Self Employed\",\"Private Sector/Self Employed\",\"Government Sector\",\"Private Sector/Self Employed\",\"Government Sector\",\"Private Sector/Self Employed\",\"Private Sector/Self Employed\",\"Private Sector/Self Employed\",\"Private Sector/Self Employed\",\"Private Sector/Self Employed\",\"Private Sector/Self Employed\",\"Private Sector/Self Employed\",\"Private Sector/Self Employed\",\"Private Sector/Self Employed\",\"Government Sector\",\"Private Sector/Self Employed\",\"Private Sector/Self Employed\",\"Private Sector/Self Employed\",\"Private Sector/Self Employed\",\"Government Sector\",\"Private Sector/Self Employed\",\"Private Sector/Self Employed\",\"Government Sector\",\"Private Sector/Self Employed\",\"Private Sector/Self Employed\",\"Private Sector/Self Employed\",\"Private Sector/Self Employed\",\"Private Sector/Self Employed\",\"Private Sector/Self Employed\",\"Government Sector\",\"Private Sector/Self Employed\",\"Government Sector\",\"Private Sector/Self Employed\",\"Private Sector/Self Employed\",\"Private Sector/Self Employed\",\"Private Sector/Self Employed\",\"Government Sector\",\"Private Sector/Self Employed\",\"Private Sector/Self Employed\",\"Government Sector\",\"Private Sector/Self Employed\",\"Private Sector/Self Employed\",\"Private Sector/Self Employed\",\"Government Sector\",\"Government Sector\",\"Government Sector\",\"Private Sector/Self Employed\",\"Private Sector/Self Employed\",\"Government Sector\",\"Private Sector/Self Employed\",\"Private Sector/Self Employed\",\"Government Sector\",\"Private Sector/Self Employed\",\"Government Sector\",\"Private Sector/Self Employed\",\"Government Sector\",\"Government Sector\",\"Private Sector/Self Employed\",\"Private Sector/Self Employed\",\"Private Sector/Self Employed\",\"Government Sector\",\"Private Sector/Self Employed\",\"Government Sector\",\"Government Sector\",\"Private Sector/Self Employed\",\"Private Sector/Self Employed\",\"Private Sector/Self Employed\",\"Private Sector/Self Employed\",\"Private Sector/Self Employed\",\"Private Sector/Self Employed\",\"Government Sector\",\"Government Sector\",\"Private Sector/Self Employed\",\"Private Sector/Self Employed\",\"Government Sector\",\"Government Sector\",\"Government Sector\",\"Private Sector/Self Employed\",\"Private Sector/Self Employed\",\"Government Sector\",\"Private Sector/Self Employed\",\"Government Sector\",\"Private Sector/Self Employed\",\"Private Sector/Self Employed\",\"Private Sector/Self Employed\",\"Government Sector\",\"Government Sector\",\"Private Sector/Self Employed\",\"Private Sector/Self Employed\",\"Private Sector/Self Employed\",\"Government Sector\",\"Private Sector/Self Employed\",\"Private Sector/Self Employed\",\"Government Sector\",\"Private Sector/Self Employed\",\"Private Sector/Self Employed\",\"Government Sector\",\"Private Sector/Self Employed\",\"Private Sector/Self Employed\",\"Government Sector\",\"Private Sector/Self Employed\",\"Government Sector\",\"Government Sector\",\"Private Sector/Self Employed\",\"Private Sector/Self Employed\",\"Government Sector\",\"Government Sector\",\"Private Sector/Self Employed\",\"Government Sector\",\"Government Sector\",\"Government Sector\",\"Government Sector\",\"Private Sector/Self Employed\",\"Private Sector/Self Employed\",\"Government Sector\",\"Government Sector\",\"Private Sector/Self Employed\",\"Private Sector/Self Employed\",\"Private Sector/Self Employed\",\"Government Sector\",\"Private Sector/Self Employed\",\"Government Sector\",\"Private Sector/Self Employed\",\"Private Sector/Self Employed\",\"Private Sector/Self Employed\",\"Private Sector/Self Employed\",\"Private Sector/Self Employed\",\"Government Sector\",\"Private Sector/Self Employed\",\"Government Sector\",\"Private Sector/Self Employed\",\"Private Sector/Self Employed\",\"Private Sector/Self Employed\",\"Private Sector/Self Employed\",\"Government Sector\",\"Government Sector\",\"Government Sector\",\"Government Sector\",\"Government Sector\",\"Private Sector/Self Employed\",\"Private Sector/Self Employed\",\"Private Sector/Self Employed\",\"Private Sector/Self Employed\",\"Government Sector\",\"Government Sector\",\"Private Sector/Self Employed\",\"Government Sector\",\"Government Sector\",\"Private Sector/Self Employed\",\"Private Sector/Self Employed\",\"Government Sector\",\"Private Sector/Self Employed\",\"Private Sector/Self Employed\",\"Private Sector/Self Employed\",\"Private Sector/Self Employed\",\"Private Sector/Self Employed\",\"Private Sector/Self Employed\",\"Private Sector/Self Employed\",\"Government Sector\",\"Government Sector\",\"Private Sector/Self Employed\",\"Private Sector/Self Employed\",\"Private Sector/Self Employed\",\"Private Sector/Self Employed\",\"Private Sector/Self Employed\",\"Private Sector/Self Employed\",\"Private Sector/Self Employed\",\"Government Sector\",\"Private Sector/Self Employed\",\"Private Sector/Self Employed\",\"Government Sector\",\"Private Sector/Self Employed\",\"Private Sector/Self Employed\",\"Government Sector\",\"Government Sector\",\"Private Sector/Self Employed\",\"Private Sector/Self Employed\",\"Private Sector/Self Employed\",\"Government Sector\",\"Government Sector\",\"Private Sector/Self Employed\",\"Private Sector/Self Employed\",\"Private Sector/Self Employed\",\"Government Sector\",\"Private Sector/Self Employed\",\"Private Sector/Self Employed\",\"Government Sector\",\"Private Sector/Self Employed\",\"Government Sector\",\"Government Sector\",\"Private Sector/Self Employed\",\"Private Sector/Self Employed\",\"Government Sector\",\"Private Sector/Self Employed\",\"Private Sector/Self Employed\",\"Government Sector\",\"Government Sector\",\"Private Sector/Self Employed\",\"Private Sector/Self Employed\",\"Private Sector/Self Employed\",\"Private Sector/Self Employed\",\"Government Sector\",\"Government Sector\",\"Government Sector\",\"Private Sector/Self Employed\",\"Private Sector/Self Employed\",\"Private Sector/Self Employed\",\"Private Sector/Self Employed\",\"Government Sector\",\"Government Sector\",\"Private Sector/Self Employed\",\"Private Sector/Self Employed\",\"Private Sector/Self Employed\",\"Private Sector/Self Employed\",\"Private Sector/Self Employed\",\"Private Sector/Self Employed\",\"Private Sector/Self Employed\",\"Private Sector/Self Employed\",\"Private Sector/Self Employed\",\"Private Sector/Self Employed\",\"Private Sector/Self Employed\",\"Private Sector/Self Employed\",\"Government Sector\",\"Private Sector/Self Employed\",\"Private Sector/Self Employed\",\"Private Sector/Self Employed\",\"Private Sector/Self Employed\",\"Private Sector/Self Employed\",\"Private Sector/Self Employed\",\"Private Sector/Self Employed\",\"Private Sector/Self Employed\",\"Government Sector\",\"Private Sector/Self Employed\",\"Private Sector/Self Employed\",\"Private Sector/Self Employed\",\"Private Sector/Self Employed\",\"Government Sector\",\"Private Sector/Self Employed\",\"Government Sector\",\"Private Sector/Self Employed\",\"Private Sector/Self Employed\",\"Private Sector/Self Employed\",\"Private Sector/Self Employed\",\"Private Sector/Self Employed\",\"Government Sector\",\"Private Sector/Self Employed\",\"Government Sector\",\"Private Sector/Self Employed\",\"Government Sector\",\"Government Sector\",\"Private Sector/Self Employed\",\"Private Sector/Self Employed\",\"Private Sector/Self Employed\",\"Private Sector/Self Employed\",\"Private Sector/Self Employed\",\"Government Sector\",\"Private Sector/Self Employed\",\"Private Sector/Self Employed\",\"Government Sector\",\"Government Sector\",\"Private Sector/Self Employed\",\"Private Sector/Self Employed\",\"Private Sector/Self Employed\",\"Private Sector/Self Employed\",\"Government Sector\",\"Private Sector/Self Employed\",\"Private Sector/Self Employed\",\"Private Sector/Self Employed\",\"Government Sector\",\"Private Sector/Self Employed\",\"Private Sector/Self Employed\",\"Private Sector/Self Employed\",\"Private Sector/Self Employed\",\"Private Sector/Self Employed\",\"Private Sector/Self Employed\",\"Government Sector\",\"Private Sector/Self Employed\",\"Private Sector/Self Employed\",\"Government Sector\",\"Private Sector/Self Employed\",\"Private Sector/Self Employed\",\"Private Sector/Self Employed\",\"Private Sector/Self Employed\",\"Private Sector/Self Employed\",\"Private Sector/Self Employed\",\"Private Sector/Self Employed\",\"Government Sector\",\"Private Sector/Self Employed\",\"Government Sector\",\"Private Sector/Self Employed\",\"Government Sector\",\"Government Sector\",\"Private Sector/Self Employed\",\"Private Sector/Self Employed\",\"Government Sector\",\"Government Sector\",\"Private Sector/Self Employed\",\"Private Sector/Self Employed\",\"Private Sector/Self Employed\",\"Government Sector\",\"Government Sector\",\"Private Sector/Self Employed\",\"Private Sector/Self Employed\",\"Private Sector/Self Employed\",\"Private Sector/Self Employed\",\"Private Sector/Self Employed\",\"Government Sector\",\"Private Sector/Self Employed\",\"Private Sector/Self Employed\",\"Private Sector/Self Employed\",\"Private Sector/Self Employed\",\"Private Sector/Self Employed\",\"Private Sector/Self Employed\",\"Private Sector/Self Employed\",\"Private Sector/Self Employed\",\"Private Sector/Self Employed\",\"Private Sector/Self Employed\",\"Private Sector/Self Employed\",\"Private Sector/Self Employed\",\"Private Sector/Self Employed\",\"Government Sector\",\"Private Sector/Self Employed\",\"Private Sector/Self Employed\",\"Government Sector\",\"Private Sector/Self Employed\",\"Government Sector\",\"Private Sector/Self Employed\",\"Private Sector/Self Employed\",\"Private Sector/Self Employed\",\"Private Sector/Self Employed\",\"Government Sector\",\"Private Sector/Self Employed\",\"Private Sector/Self Employed\",\"Private Sector/Self Employed\",\"Private Sector/Self Employed\",\"Government Sector\",\"Private Sector/Self Employed\",\"Private Sector/Self Employed\",\"Private Sector/Self Employed\",\"Private Sector/Self Employed\",\"Private Sector/Self Employed\",\"Government Sector\",\"Government Sector\",\"Private Sector/Self Employed\",\"Private Sector/Self Employed\",\"Private Sector/Self Employed\",\"Government Sector\",\"Government Sector\",\"Private Sector/Self Employed\",\"Private Sector/Self Employed\",\"Government Sector\",\"Private Sector/Self Employed\",\"Government Sector\",\"Private Sector/Self Employed\",\"Private Sector/Self Employed\",\"Private Sector/Self Employed\",\"Government Sector\",\"Government Sector\",\"Government Sector\",\"Private Sector/Self Employed\",\"Government Sector\",\"Private Sector/Self Employed\",\"Private Sector/Self Employed\",\"Private Sector/Self Employed\",\"Government Sector\",\"Government Sector\",\"Private Sector/Self Employed\",\"Private Sector/Self Employed\",\"Private Sector/Self Employed\",\"Private Sector/Self Employed\",\"Government Sector\",\"Private Sector/Self Employed\",\"Private Sector/Self Employed\",\"Private Sector/Self Employed\",\"Private Sector/Self Employed\",\"Private Sector/Self Employed\",\"Government Sector\",\"Government Sector\",\"Government Sector\",\"Private Sector/Self Employed\",\"Private Sector/Self Employed\",\"Government Sector\",\"Government Sector\",\"Private Sector/Self Employed\",\"Government Sector\",\"Private Sector/Self Employed\",\"Government Sector\",\"Private Sector/Self Employed\",\"Private Sector/Self Employed\",\"Private Sector/Self Employed\",\"Government Sector\",\"Government Sector\",\"Private Sector/Self Employed\",\"Private Sector/Self Employed\",\"Private Sector/Self Employed\",\"Government Sector\",\"Private Sector/Self Employed\",\"Private Sector/Self Employed\",\"Government Sector\",\"Private Sector/Self Employed\",\"Private Sector/Self Employed\",\"Government Sector\",\"Government Sector\",\"Government Sector\",\"Government Sector\",\"Private Sector/Self Employed\",\"Private Sector/Self Employed\",\"Private Sector/Self Employed\",\"Government Sector\",\"Government Sector\",\"Private Sector/Self Employed\",\"Private Sector/Self Employed\",\"Private Sector/Self Employed\",\"Private Sector/Self Employed\",\"Government Sector\",\"Private Sector/Self Employed\",\"Private Sector/Self Employed\",\"Private Sector/Self Employed\",\"Private Sector/Self Employed\",\"Private Sector/Self Employed\",\"Private Sector/Self Employed\",\"Government Sector\",\"Private Sector/Self Employed\",\"Private Sector/Self Employed\",\"Private Sector/Self Employed\",\"Government Sector\",\"Private Sector/Self Employed\",\"Government Sector\",\"Private Sector/Self Employed\",\"Government Sector\",\"Private Sector/Self Employed\",\"Government Sector\",\"Private Sector/Self Employed\",\"Private Sector/Self Employed\",\"Government Sector\",\"Private Sector/Self Employed\",\"Private Sector/Self Employed\",\"Private Sector/Self Employed\",\"Private Sector/Self Employed\",\"Government Sector\",\"Private Sector/Self Employed\",\"Private Sector/Self Employed\",\"Private Sector/Self Employed\",\"Private Sector/Self Employed\",\"Private Sector/Self Employed\"],\"xaxis\":\"x\",\"yaxis\":\"y\",\"type\":\"histogram\"},{\"alignmentgroup\":\"True\",\"bingroup\":\"x\",\"hovertemplate\":\"TravelInsurance=Purchased<br>Employment Type=%{x}<br>count=%{y}<extra></extra>\",\"legendgroup\":\"Purchased\",\"marker\":{\"color\":\"#EF553B\",\"pattern\":{\"shape\":\"\"}},\"name\":\"Purchased\",\"offsetgroup\":\"Purchased\",\"orientation\":\"v\",\"showlegend\":true,\"x\":[\"Private Sector/Self Employed\",\"Private Sector/Self Employed\",\"Private Sector/Self Employed\",\"Private Sector/Self Employed\",\"Government Sector\",\"Government Sector\",\"Private Sector/Self Employed\",\"Private Sector/Self Employed\",\"Private Sector/Self Employed\",\"Private Sector/Self Employed\",\"Government Sector\",\"Private Sector/Self Employed\",\"Government Sector\",\"Private Sector/Self Employed\",\"Private Sector/Self Employed\",\"Private Sector/Self Employed\",\"Private Sector/Self Employed\",\"Private Sector/Self Employed\",\"Private Sector/Self Employed\",\"Private Sector/Self Employed\",\"Private Sector/Self Employed\",\"Private Sector/Self Employed\",\"Private Sector/Self Employed\",\"Private Sector/Self Employed\",\"Private Sector/Self Employed\",\"Private Sector/Self Employed\",\"Government Sector\",\"Private Sector/Self Employed\",\"Private Sector/Self Employed\",\"Private Sector/Self Employed\",\"Government Sector\",\"Private Sector/Self Employed\",\"Private Sector/Self Employed\",\"Government Sector\",\"Private Sector/Self Employed\",\"Private Sector/Self Employed\",\"Private Sector/Self Employed\",\"Private Sector/Self Employed\",\"Private Sector/Self Employed\",\"Private Sector/Self Employed\",\"Private Sector/Self Employed\",\"Government Sector\",\"Private Sector/Self Employed\",\"Private Sector/Self Employed\",\"Private Sector/Self Employed\",\"Private Sector/Self Employed\",\"Private Sector/Self Employed\",\"Private Sector/Self Employed\",\"Private Sector/Self Employed\",\"Private Sector/Self Employed\",\"Private Sector/Self Employed\",\"Private Sector/Self Employed\",\"Private Sector/Self Employed\",\"Private Sector/Self Employed\",\"Private Sector/Self Employed\",\"Government Sector\",\"Private Sector/Self Employed\",\"Private Sector/Self Employed\",\"Private Sector/Self Employed\",\"Private Sector/Self Employed\",\"Private Sector/Self Employed\",\"Private Sector/Self Employed\",\"Private Sector/Self Employed\",\"Government Sector\",\"Private Sector/Self Employed\",\"Private Sector/Self Employed\",\"Private Sector/Self Employed\",\"Private Sector/Self Employed\",\"Private Sector/Self Employed\",\"Private Sector/Self Employed\",\"Government Sector\",\"Private Sector/Self Employed\",\"Private Sector/Self Employed\",\"Private Sector/Self Employed\",\"Private Sector/Self Employed\",\"Private Sector/Self Employed\",\"Private Sector/Self Employed\",\"Government Sector\",\"Private Sector/Self Employed\",\"Private Sector/Self Employed\",\"Government Sector\",\"Government Sector\",\"Private Sector/Self Employed\",\"Private Sector/Self Employed\",\"Private Sector/Self Employed\",\"Private Sector/Self Employed\",\"Government Sector\",\"Private Sector/Self Employed\",\"Government Sector\",\"Private Sector/Self Employed\",\"Private Sector/Self Employed\",\"Government Sector\",\"Private Sector/Self Employed\",\"Government Sector\",\"Private Sector/Self Employed\",\"Government Sector\",\"Private Sector/Self Employed\",\"Government Sector\",\"Private Sector/Self Employed\",\"Private Sector/Self Employed\",\"Private Sector/Self Employed\",\"Private Sector/Self Employed\",\"Private Sector/Self Employed\",\"Government Sector\",\"Private Sector/Self Employed\",\"Government Sector\",\"Government Sector\",\"Private Sector/Self Employed\",\"Private Sector/Self Employed\",\"Private Sector/Self Employed\",\"Government Sector\",\"Government Sector\",\"Private Sector/Self Employed\",\"Private Sector/Self Employed\",\"Private Sector/Self Employed\",\"Private Sector/Self Employed\",\"Private Sector/Self Employed\",\"Private Sector/Self Employed\",\"Private Sector/Self Employed\",\"Private Sector/Self Employed\",\"Private Sector/Self Employed\",\"Private Sector/Self Employed\",\"Private Sector/Self Employed\",\"Private Sector/Self Employed\",\"Private Sector/Self Employed\",\"Private Sector/Self Employed\",\"Private Sector/Self Employed\",\"Government Sector\",\"Private Sector/Self Employed\",\"Private Sector/Self Employed\",\"Private Sector/Self Employed\",\"Private Sector/Self Employed\",\"Private Sector/Self Employed\",\"Private Sector/Self Employed\",\"Private Sector/Self Employed\",\"Government Sector\",\"Private Sector/Self Employed\",\"Private Sector/Self Employed\",\"Government Sector\",\"Government Sector\",\"Private Sector/Self Employed\",\"Private Sector/Self Employed\",\"Private Sector/Self Employed\",\"Private Sector/Self Employed\",\"Private Sector/Self Employed\",\"Private Sector/Self Employed\",\"Private Sector/Self Employed\",\"Private Sector/Self Employed\",\"Private Sector/Self Employed\",\"Private Sector/Self Employed\",\"Private Sector/Self Employed\",\"Private Sector/Self Employed\",\"Private Sector/Self Employed\",\"Private Sector/Self Employed\",\"Private Sector/Self Employed\",\"Private Sector/Self Employed\",\"Private Sector/Self Employed\",\"Private Sector/Self Employed\",\"Private Sector/Self Employed\",\"Private Sector/Self Employed\",\"Private Sector/Self Employed\",\"Private Sector/Self Employed\",\"Private Sector/Self Employed\",\"Government Sector\",\"Private Sector/Self Employed\",\"Private Sector/Self Employed\",\"Private Sector/Self Employed\",\"Private Sector/Self Employed\",\"Private Sector/Self Employed\",\"Private Sector/Self Employed\",\"Private Sector/Self Employed\",\"Private Sector/Self Employed\",\"Government Sector\",\"Private Sector/Self Employed\",\"Private Sector/Self Employed\",\"Private Sector/Self Employed\",\"Private Sector/Self Employed\",\"Government Sector\",\"Private Sector/Self Employed\",\"Private Sector/Self Employed\",\"Private Sector/Self Employed\",\"Private Sector/Self Employed\",\"Private Sector/Self Employed\",\"Private Sector/Self Employed\",\"Private Sector/Self Employed\",\"Government Sector\",\"Private Sector/Self Employed\",\"Private Sector/Self Employed\",\"Private Sector/Self Employed\",\"Private Sector/Self Employed\",\"Private Sector/Self Employed\",\"Private Sector/Self Employed\",\"Private Sector/Self Employed\",\"Private Sector/Self Employed\",\"Private Sector/Self Employed\",\"Private Sector/Self Employed\",\"Private Sector/Self Employed\",\"Private Sector/Self Employed\",\"Government Sector\",\"Private Sector/Self Employed\",\"Private Sector/Self Employed\",\"Private Sector/Self Employed\",\"Private Sector/Self Employed\",\"Private Sector/Self Employed\",\"Private Sector/Self Employed\",\"Private Sector/Self Employed\",\"Private Sector/Self Employed\",\"Private Sector/Self Employed\",\"Private Sector/Self Employed\",\"Private Sector/Self Employed\",\"Private Sector/Self Employed\",\"Private Sector/Self Employed\",\"Private Sector/Self Employed\",\"Private Sector/Self Employed\",\"Private Sector/Self Employed\",\"Government Sector\",\"Private Sector/Self Employed\",\"Private Sector/Self Employed\",\"Government Sector\",\"Private Sector/Self Employed\",\"Private Sector/Self Employed\",\"Private Sector/Self Employed\",\"Government Sector\",\"Private Sector/Self Employed\",\"Private Sector/Self Employed\",\"Government Sector\",\"Private Sector/Self Employed\",\"Private Sector/Self Employed\",\"Private Sector/Self Employed\",\"Private Sector/Self Employed\",\"Private Sector/Self Employed\",\"Private Sector/Self Employed\",\"Private Sector/Self Employed\",\"Government Sector\",\"Private Sector/Self Employed\",\"Private Sector/Self Employed\",\"Private Sector/Self Employed\",\"Private Sector/Self Employed\",\"Government Sector\",\"Private Sector/Self Employed\",\"Government Sector\",\"Private Sector/Self Employed\",\"Private Sector/Self Employed\",\"Private Sector/Self Employed\",\"Private Sector/Self Employed\",\"Government Sector\",\"Private Sector/Self Employed\",\"Private Sector/Self Employed\",\"Government Sector\",\"Private Sector/Self Employed\",\"Private Sector/Self Employed\",\"Private Sector/Self Employed\",\"Private Sector/Self Employed\",\"Private Sector/Self Employed\",\"Private Sector/Self Employed\",\"Private Sector/Self Employed\",\"Private Sector/Self Employed\",\"Government Sector\",\"Private Sector/Self Employed\",\"Private Sector/Self Employed\",\"Private Sector/Self Employed\",\"Private Sector/Self Employed\",\"Private Sector/Self Employed\",\"Private Sector/Self Employed\",\"Private Sector/Self Employed\",\"Private Sector/Self Employed\",\"Private Sector/Self Employed\",\"Government Sector\",\"Government Sector\",\"Private Sector/Self Employed\",\"Government Sector\",\"Private Sector/Self Employed\",\"Private Sector/Self Employed\",\"Government Sector\",\"Private Sector/Self Employed\",\"Private Sector/Self Employed\",\"Government Sector\",\"Private Sector/Self Employed\",\"Private Sector/Self Employed\",\"Government Sector\",\"Private Sector/Self Employed\",\"Private Sector/Self Employed\",\"Private Sector/Self Employed\",\"Government Sector\",\"Private Sector/Self Employed\",\"Private Sector/Self Employed\",\"Private Sector/Self Employed\",\"Government Sector\",\"Private Sector/Self Employed\",\"Private Sector/Self Employed\",\"Private Sector/Self Employed\",\"Private Sector/Self Employed\",\"Private Sector/Self Employed\",\"Private Sector/Self Employed\",\"Private Sector/Self Employed\",\"Private Sector/Self Employed\",\"Government Sector\",\"Private Sector/Self Employed\",\"Private Sector/Self Employed\",\"Private Sector/Self Employed\",\"Private Sector/Self Employed\",\"Government Sector\",\"Private Sector/Self Employed\",\"Private Sector/Self Employed\",\"Private Sector/Self Employed\",\"Government Sector\",\"Private Sector/Self Employed\",\"Private Sector/Self Employed\",\"Private Sector/Self Employed\",\"Private Sector/Self Employed\",\"Private Sector/Self Employed\",\"Private Sector/Self Employed\",\"Private Sector/Self Employed\",\"Private Sector/Self Employed\",\"Private Sector/Self Employed\",\"Private Sector/Self Employed\",\"Private Sector/Self Employed\",\"Private Sector/Self Employed\",\"Government Sector\",\"Private Sector/Self Employed\",\"Private Sector/Self Employed\",\"Private Sector/Self Employed\",\"Private Sector/Self Employed\",\"Private Sector/Self Employed\",\"Private Sector/Self Employed\",\"Government Sector\",\"Private Sector/Self Employed\",\"Government Sector\",\"Private Sector/Self Employed\",\"Private Sector/Self Employed\",\"Private Sector/Self Employed\",\"Private Sector/Self Employed\",\"Private Sector/Self Employed\",\"Private Sector/Self Employed\",\"Private Sector/Self Employed\",\"Private Sector/Self Employed\",\"Private Sector/Self Employed\",\"Private Sector/Self Employed\",\"Government Sector\",\"Private Sector/Self Employed\",\"Private Sector/Self Employed\",\"Private Sector/Self Employed\",\"Private Sector/Self Employed\",\"Private Sector/Self Employed\",\"Private Sector/Self Employed\",\"Private Sector/Self Employed\",\"Private Sector/Self Employed\",\"Private Sector/Self Employed\",\"Private Sector/Self Employed\",\"Government Sector\",\"Private Sector/Self Employed\",\"Private Sector/Self Employed\",\"Private Sector/Self Employed\",\"Private Sector/Self Employed\",\"Private Sector/Self Employed\",\"Private Sector/Self Employed\",\"Private Sector/Self Employed\",\"Private Sector/Self Employed\",\"Private Sector/Self Employed\",\"Private Sector/Self Employed\",\"Government Sector\",\"Private Sector/Self Employed\",\"Government Sector\",\"Private Sector/Self Employed\",\"Private Sector/Self Employed\",\"Government Sector\",\"Government Sector\",\"Government Sector\",\"Private Sector/Self Employed\",\"Private Sector/Self Employed\",\"Private Sector/Self Employed\",\"Government Sector\",\"Private Sector/Self Employed\",\"Private Sector/Self Employed\",\"Private Sector/Self Employed\",\"Private Sector/Self Employed\",\"Private Sector/Self Employed\",\"Private Sector/Self Employed\",\"Government Sector\",\"Private Sector/Self Employed\",\"Government Sector\",\"Private Sector/Self Employed\",\"Government Sector\",\"Private Sector/Self Employed\",\"Government Sector\",\"Private Sector/Self Employed\",\"Private Sector/Self Employed\",\"Private Sector/Self Employed\",\"Government Sector\",\"Private Sector/Self Employed\",\"Private Sector/Self Employed\",\"Private Sector/Self Employed\",\"Government Sector\",\"Private Sector/Self Employed\",\"Private Sector/Self Employed\",\"Private Sector/Self Employed\",\"Private Sector/Self Employed\",\"Government Sector\",\"Government Sector\",\"Private Sector/Self Employed\",\"Private Sector/Self Employed\",\"Private Sector/Self Employed\",\"Private Sector/Self Employed\",\"Private Sector/Self Employed\",\"Private Sector/Self Employed\",\"Private Sector/Self Employed\",\"Government Sector\",\"Private Sector/Self Employed\",\"Private Sector/Self Employed\",\"Private Sector/Self Employed\",\"Private Sector/Self Employed\",\"Private Sector/Self Employed\",\"Private Sector/Self Employed\",\"Private Sector/Self Employed\",\"Private Sector/Self Employed\",\"Government Sector\",\"Private Sector/Self Employed\",\"Government Sector\",\"Private Sector/Self Employed\",\"Private Sector/Self Employed\",\"Private Sector/Self Employed\",\"Private Sector/Self Employed\",\"Private Sector/Self Employed\",\"Private Sector/Self Employed\",\"Private Sector/Self Employed\",\"Private Sector/Self Employed\",\"Private Sector/Self Employed\",\"Government Sector\",\"Private Sector/Self Employed\",\"Private Sector/Self Employed\",\"Private Sector/Self Employed\",\"Private Sector/Self Employed\",\"Private Sector/Self Employed\",\"Government Sector\",\"Government Sector\",\"Private Sector/Self Employed\",\"Private Sector/Self Employed\",\"Private Sector/Self Employed\",\"Government Sector\",\"Government Sector\",\"Private Sector/Self Employed\",\"Private Sector/Self Employed\",\"Private Sector/Self Employed\",\"Private Sector/Self Employed\",\"Private Sector/Self Employed\",\"Government Sector\",\"Government Sector\",\"Government Sector\",\"Government Sector\",\"Private Sector/Self Employed\",\"Private Sector/Self Employed\",\"Government Sector\",\"Private Sector/Self Employed\",\"Government Sector\",\"Government Sector\",\"Private Sector/Self Employed\",\"Private Sector/Self Employed\",\"Private Sector/Self Employed\",\"Private Sector/Self Employed\",\"Private Sector/Self Employed\",\"Private Sector/Self Employed\",\"Private Sector/Self Employed\",\"Government Sector\",\"Government Sector\",\"Private Sector/Self Employed\",\"Private Sector/Self Employed\",\"Private Sector/Self Employed\",\"Private Sector/Self Employed\",\"Private Sector/Self Employed\",\"Private Sector/Self Employed\",\"Private Sector/Self Employed\",\"Private Sector/Self Employed\",\"Private Sector/Self Employed\",\"Private Sector/Self Employed\",\"Private Sector/Self Employed\",\"Private Sector/Self Employed\",\"Government Sector\",\"Private Sector/Self Employed\",\"Private Sector/Self Employed\",\"Private Sector/Self Employed\",\"Government Sector\",\"Private Sector/Self Employed\",\"Private Sector/Self Employed\",\"Private Sector/Self Employed\",\"Private Sector/Self Employed\",\"Private Sector/Self Employed\",\"Private Sector/Self Employed\",\"Private Sector/Self Employed\",\"Government Sector\",\"Private Sector/Self Employed\",\"Private Sector/Self Employed\",\"Private Sector/Self Employed\",\"Government Sector\",\"Private Sector/Self Employed\",\"Private Sector/Self Employed\",\"Government Sector\",\"Private Sector/Self Employed\",\"Government Sector\",\"Private Sector/Self Employed\",\"Private Sector/Self Employed\",\"Government Sector\",\"Private Sector/Self Employed\",\"Private Sector/Self Employed\",\"Private Sector/Self Employed\",\"Private Sector/Self Employed\",\"Private Sector/Self Employed\",\"Private Sector/Self Employed\",\"Government Sector\",\"Private Sector/Self Employed\",\"Private Sector/Self Employed\",\"Private Sector/Self Employed\",\"Government Sector\",\"Private Sector/Self Employed\",\"Private Sector/Self Employed\",\"Private Sector/Self Employed\",\"Government Sector\",\"Private Sector/Self Employed\",\"Private Sector/Self Employed\",\"Private Sector/Self Employed\",\"Private Sector/Self Employed\",\"Government Sector\",\"Private Sector/Self Employed\",\"Private Sector/Self Employed\",\"Private Sector/Self Employed\",\"Private Sector/Self Employed\",\"Private Sector/Self Employed\",\"Private Sector/Self Employed\",\"Government Sector\",\"Private Sector/Self Employed\",\"Private Sector/Self Employed\",\"Private Sector/Self Employed\",\"Private Sector/Self Employed\",\"Government Sector\",\"Private Sector/Self Employed\",\"Private Sector/Self Employed\",\"Private Sector/Self Employed\",\"Government Sector\",\"Private Sector/Self Employed\",\"Private Sector/Self Employed\",\"Private Sector/Self Employed\",\"Private Sector/Self Employed\",\"Private Sector/Self Employed\",\"Government Sector\",\"Private Sector/Self Employed\",\"Government Sector\",\"Private Sector/Self Employed\",\"Private Sector/Self Employed\",\"Private Sector/Self Employed\",\"Private Sector/Self Employed\",\"Private Sector/Self Employed\",\"Private Sector/Self Employed\",\"Government Sector\",\"Private Sector/Self Employed\",\"Private Sector/Self Employed\",\"Private Sector/Self Employed\",\"Private Sector/Self Employed\",\"Government Sector\",\"Government Sector\",\"Government Sector\",\"Private Sector/Self Employed\",\"Private Sector/Self Employed\",\"Private Sector/Self Employed\",\"Private Sector/Self Employed\",\"Private Sector/Self Employed\",\"Private Sector/Self Employed\",\"Private Sector/Self Employed\",\"Private Sector/Self Employed\",\"Private Sector/Self Employed\",\"Private Sector/Self Employed\",\"Private Sector/Self Employed\",\"Private Sector/Self Employed\",\"Private Sector/Self Employed\",\"Private Sector/Self Employed\",\"Private Sector/Self Employed\",\"Private Sector/Self Employed\",\"Private Sector/Self Employed\",\"Private Sector/Self Employed\",\"Private Sector/Self Employed\",\"Government Sector\",\"Private Sector/Self Employed\",\"Private Sector/Self Employed\",\"Private Sector/Self Employed\",\"Private Sector/Self Employed\",\"Government Sector\",\"Government Sector\",\"Private Sector/Self Employed\",\"Private Sector/Self Employed\",\"Private Sector/Self Employed\",\"Government Sector\",\"Private Sector/Self Employed\",\"Private Sector/Self Employed\",\"Private Sector/Self Employed\",\"Private Sector/Self Employed\",\"Private Sector/Self Employed\",\"Private Sector/Self Employed\",\"Private Sector/Self Employed\",\"Private Sector/Self Employed\",\"Private Sector/Self Employed\",\"Government Sector\",\"Private Sector/Self Employed\",\"Private Sector/Self Employed\",\"Private Sector/Self Employed\",\"Private Sector/Self Employed\",\"Private Sector/Self Employed\",\"Private Sector/Self Employed\",\"Private Sector/Self Employed\",\"Private Sector/Self Employed\",\"Private Sector/Self Employed\",\"Government Sector\",\"Private Sector/Self Employed\",\"Private Sector/Self Employed\",\"Private Sector/Self Employed\",\"Private Sector/Self Employed\",\"Government Sector\",\"Private Sector/Self Employed\",\"Private Sector/Self Employed\",\"Private Sector/Self Employed\",\"Private Sector/Self Employed\",\"Private Sector/Self Employed\",\"Private Sector/Self Employed\",\"Private Sector/Self Employed\",\"Private Sector/Self Employed\",\"Private Sector/Self Employed\",\"Private Sector/Self Employed\",\"Private Sector/Self Employed\",\"Government Sector\",\"Private Sector/Self Employed\",\"Private Sector/Self Employed\",\"Private Sector/Self Employed\",\"Government Sector\",\"Private Sector/Self Employed\",\"Private Sector/Self Employed\",\"Private Sector/Self Employed\",\"Private Sector/Self Employed\",\"Private Sector/Self Employed\",\"Private Sector/Self Employed\",\"Government Sector\",\"Private Sector/Self Employed\",\"Private Sector/Self Employed\",\"Private Sector/Self Employed\",\"Private Sector/Self Employed\",\"Private Sector/Self Employed\",\"Private Sector/Self Employed\",\"Private Sector/Self Employed\",\"Government Sector\",\"Private Sector/Self Employed\",\"Government Sector\",\"Private Sector/Self Employed\",\"Private Sector/Self Employed\",\"Private Sector/Self Employed\",\"Private Sector/Self Employed\",\"Private Sector/Self Employed\",\"Private Sector/Self Employed\",\"Private Sector/Self Employed\",\"Government Sector\",\"Private Sector/Self Employed\",\"Private Sector/Self Employed\",\"Government Sector\",\"Private Sector/Self Employed\",\"Government Sector\",\"Private Sector/Self Employed\",\"Private Sector/Self Employed\",\"Government Sector\",\"Private Sector/Self Employed\",\"Private Sector/Self Employed\",\"Private Sector/Self Employed\",\"Government Sector\",\"Private Sector/Self Employed\",\"Private Sector/Self Employed\",\"Private Sector/Self Employed\",\"Private Sector/Self Employed\",\"Private Sector/Self Employed\",\"Government Sector\",\"Private Sector/Self Employed\",\"Private Sector/Self Employed\",\"Government Sector\",\"Private Sector/Self Employed\",\"Private Sector/Self Employed\",\"Government Sector\",\"Government Sector\",\"Private Sector/Self Employed\",\"Private Sector/Self Employed\",\"Private Sector/Self Employed\",\"Private Sector/Self Employed\",\"Private Sector/Self Employed\",\"Private Sector/Self Employed\",\"Private Sector/Self Employed\",\"Private Sector/Self Employed\",\"Government Sector\",\"Private Sector/Self Employed\",\"Private Sector/Self Employed\",\"Private Sector/Self Employed\",\"Private Sector/Self Employed\",\"Government Sector\",\"Private Sector/Self Employed\",\"Private Sector/Self Employed\",\"Government Sector\",\"Government Sector\",\"Government Sector\",\"Government Sector\",\"Government Sector\",\"Private Sector/Self Employed\",\"Private Sector/Self Employed\",\"Private Sector/Self Employed\",\"Private Sector/Self Employed\",\"Private Sector/Self Employed\",\"Private Sector/Self Employed\",\"Government Sector\",\"Private Sector/Self Employed\",\"Private Sector/Self Employed\"],\"xaxis\":\"x\",\"yaxis\":\"y\",\"type\":\"histogram\"}],                        {\"template\":{\"data\":{\"histogram2dcontour\":[{\"type\":\"histogram2dcontour\",\"colorbar\":{\"outlinewidth\":0,\"ticks\":\"\"},\"colorscale\":[[0.0,\"#0d0887\"],[0.1111111111111111,\"#46039f\"],[0.2222222222222222,\"#7201a8\"],[0.3333333333333333,\"#9c179e\"],[0.4444444444444444,\"#bd3786\"],[0.5555555555555556,\"#d8576b\"],[0.6666666666666666,\"#ed7953\"],[0.7777777777777778,\"#fb9f3a\"],[0.8888888888888888,\"#fdca26\"],[1.0,\"#f0f921\"]]}],\"choropleth\":[{\"type\":\"choropleth\",\"colorbar\":{\"outlinewidth\":0,\"ticks\":\"\"}}],\"histogram2d\":[{\"type\":\"histogram2d\",\"colorbar\":{\"outlinewidth\":0,\"ticks\":\"\"},\"colorscale\":[[0.0,\"#0d0887\"],[0.1111111111111111,\"#46039f\"],[0.2222222222222222,\"#7201a8\"],[0.3333333333333333,\"#9c179e\"],[0.4444444444444444,\"#bd3786\"],[0.5555555555555556,\"#d8576b\"],[0.6666666666666666,\"#ed7953\"],[0.7777777777777778,\"#fb9f3a\"],[0.8888888888888888,\"#fdca26\"],[1.0,\"#f0f921\"]]}],\"heatmap\":[{\"type\":\"heatmap\",\"colorbar\":{\"outlinewidth\":0,\"ticks\":\"\"},\"colorscale\":[[0.0,\"#0d0887\"],[0.1111111111111111,\"#46039f\"],[0.2222222222222222,\"#7201a8\"],[0.3333333333333333,\"#9c179e\"],[0.4444444444444444,\"#bd3786\"],[0.5555555555555556,\"#d8576b\"],[0.6666666666666666,\"#ed7953\"],[0.7777777777777778,\"#fb9f3a\"],[0.8888888888888888,\"#fdca26\"],[1.0,\"#f0f921\"]]}],\"heatmapgl\":[{\"type\":\"heatmapgl\",\"colorbar\":{\"outlinewidth\":0,\"ticks\":\"\"},\"colorscale\":[[0.0,\"#0d0887\"],[0.1111111111111111,\"#46039f\"],[0.2222222222222222,\"#7201a8\"],[0.3333333333333333,\"#9c179e\"],[0.4444444444444444,\"#bd3786\"],[0.5555555555555556,\"#d8576b\"],[0.6666666666666666,\"#ed7953\"],[0.7777777777777778,\"#fb9f3a\"],[0.8888888888888888,\"#fdca26\"],[1.0,\"#f0f921\"]]}],\"contourcarpet\":[{\"type\":\"contourcarpet\",\"colorbar\":{\"outlinewidth\":0,\"ticks\":\"\"}}],\"contour\":[{\"type\":\"contour\",\"colorbar\":{\"outlinewidth\":0,\"ticks\":\"\"},\"colorscale\":[[0.0,\"#0d0887\"],[0.1111111111111111,\"#46039f\"],[0.2222222222222222,\"#7201a8\"],[0.3333333333333333,\"#9c179e\"],[0.4444444444444444,\"#bd3786\"],[0.5555555555555556,\"#d8576b\"],[0.6666666666666666,\"#ed7953\"],[0.7777777777777778,\"#fb9f3a\"],[0.8888888888888888,\"#fdca26\"],[1.0,\"#f0f921\"]]}],\"surface\":[{\"type\":\"surface\",\"colorbar\":{\"outlinewidth\":0,\"ticks\":\"\"},\"colorscale\":[[0.0,\"#0d0887\"],[0.1111111111111111,\"#46039f\"],[0.2222222222222222,\"#7201a8\"],[0.3333333333333333,\"#9c179e\"],[0.4444444444444444,\"#bd3786\"],[0.5555555555555556,\"#d8576b\"],[0.6666666666666666,\"#ed7953\"],[0.7777777777777778,\"#fb9f3a\"],[0.8888888888888888,\"#fdca26\"],[1.0,\"#f0f921\"]]}],\"mesh3d\":[{\"type\":\"mesh3d\",\"colorbar\":{\"outlinewidth\":0,\"ticks\":\"\"}}],\"scatter\":[{\"fillpattern\":{\"fillmode\":\"overlay\",\"size\":10,\"solidity\":0.2},\"type\":\"scatter\"}],\"parcoords\":[{\"type\":\"parcoords\",\"line\":{\"colorbar\":{\"outlinewidth\":0,\"ticks\":\"\"}}}],\"scatterpolargl\":[{\"type\":\"scatterpolargl\",\"marker\":{\"colorbar\":{\"outlinewidth\":0,\"ticks\":\"\"}}}],\"bar\":[{\"error_x\":{\"color\":\"#2a3f5f\"},\"error_y\":{\"color\":\"#2a3f5f\"},\"marker\":{\"line\":{\"color\":\"#E5ECF6\",\"width\":0.5},\"pattern\":{\"fillmode\":\"overlay\",\"size\":10,\"solidity\":0.2}},\"type\":\"bar\"}],\"scattergeo\":[{\"type\":\"scattergeo\",\"marker\":{\"colorbar\":{\"outlinewidth\":0,\"ticks\":\"\"}}}],\"scatterpolar\":[{\"type\":\"scatterpolar\",\"marker\":{\"colorbar\":{\"outlinewidth\":0,\"ticks\":\"\"}}}],\"histogram\":[{\"marker\":{\"pattern\":{\"fillmode\":\"overlay\",\"size\":10,\"solidity\":0.2}},\"type\":\"histogram\"}],\"scattergl\":[{\"type\":\"scattergl\",\"marker\":{\"colorbar\":{\"outlinewidth\":0,\"ticks\":\"\"}}}],\"scatter3d\":[{\"type\":\"scatter3d\",\"line\":{\"colorbar\":{\"outlinewidth\":0,\"ticks\":\"\"}},\"marker\":{\"colorbar\":{\"outlinewidth\":0,\"ticks\":\"\"}}}],\"scattermapbox\":[{\"type\":\"scattermapbox\",\"marker\":{\"colorbar\":{\"outlinewidth\":0,\"ticks\":\"\"}}}],\"scatterternary\":[{\"type\":\"scatterternary\",\"marker\":{\"colorbar\":{\"outlinewidth\":0,\"ticks\":\"\"}}}],\"scattercarpet\":[{\"type\":\"scattercarpet\",\"marker\":{\"colorbar\":{\"outlinewidth\":0,\"ticks\":\"\"}}}],\"carpet\":[{\"aaxis\":{\"endlinecolor\":\"#2a3f5f\",\"gridcolor\":\"white\",\"linecolor\":\"white\",\"minorgridcolor\":\"white\",\"startlinecolor\":\"#2a3f5f\"},\"baxis\":{\"endlinecolor\":\"#2a3f5f\",\"gridcolor\":\"white\",\"linecolor\":\"white\",\"minorgridcolor\":\"white\",\"startlinecolor\":\"#2a3f5f\"},\"type\":\"carpet\"}],\"table\":[{\"cells\":{\"fill\":{\"color\":\"#EBF0F8\"},\"line\":{\"color\":\"white\"}},\"header\":{\"fill\":{\"color\":\"#C8D4E3\"},\"line\":{\"color\":\"white\"}},\"type\":\"table\"}],\"barpolar\":[{\"marker\":{\"line\":{\"color\":\"#E5ECF6\",\"width\":0.5},\"pattern\":{\"fillmode\":\"overlay\",\"size\":10,\"solidity\":0.2}},\"type\":\"barpolar\"}],\"pie\":[{\"automargin\":true,\"type\":\"pie\"}]},\"layout\":{\"autotypenumbers\":\"strict\",\"colorway\":[\"#636efa\",\"#EF553B\",\"#00cc96\",\"#ab63fa\",\"#FFA15A\",\"#19d3f3\",\"#FF6692\",\"#B6E880\",\"#FF97FF\",\"#FECB52\"],\"font\":{\"color\":\"#2a3f5f\"},\"hovermode\":\"closest\",\"hoverlabel\":{\"align\":\"left\"},\"paper_bgcolor\":\"white\",\"plot_bgcolor\":\"#E5ECF6\",\"polar\":{\"bgcolor\":\"#E5ECF6\",\"angularaxis\":{\"gridcolor\":\"white\",\"linecolor\":\"white\",\"ticks\":\"\"},\"radialaxis\":{\"gridcolor\":\"white\",\"linecolor\":\"white\",\"ticks\":\"\"}},\"ternary\":{\"bgcolor\":\"#E5ECF6\",\"aaxis\":{\"gridcolor\":\"white\",\"linecolor\":\"white\",\"ticks\":\"\"},\"baxis\":{\"gridcolor\":\"white\",\"linecolor\":\"white\",\"ticks\":\"\"},\"caxis\":{\"gridcolor\":\"white\",\"linecolor\":\"white\",\"ticks\":\"\"}},\"coloraxis\":{\"colorbar\":{\"outlinewidth\":0,\"ticks\":\"\"}},\"colorscale\":{\"sequential\":[[0.0,\"#0d0887\"],[0.1111111111111111,\"#46039f\"],[0.2222222222222222,\"#7201a8\"],[0.3333333333333333,\"#9c179e\"],[0.4444444444444444,\"#bd3786\"],[0.5555555555555556,\"#d8576b\"],[0.6666666666666666,\"#ed7953\"],[0.7777777777777778,\"#fb9f3a\"],[0.8888888888888888,\"#fdca26\"],[1.0,\"#f0f921\"]],\"sequentialminus\":[[0.0,\"#0d0887\"],[0.1111111111111111,\"#46039f\"],[0.2222222222222222,\"#7201a8\"],[0.3333333333333333,\"#9c179e\"],[0.4444444444444444,\"#bd3786\"],[0.5555555555555556,\"#d8576b\"],[0.6666666666666666,\"#ed7953\"],[0.7777777777777778,\"#fb9f3a\"],[0.8888888888888888,\"#fdca26\"],[1.0,\"#f0f921\"]],\"diverging\":[[0,\"#8e0152\"],[0.1,\"#c51b7d\"],[0.2,\"#de77ae\"],[0.3,\"#f1b6da\"],[0.4,\"#fde0ef\"],[0.5,\"#f7f7f7\"],[0.6,\"#e6f5d0\"],[0.7,\"#b8e186\"],[0.8,\"#7fbc41\"],[0.9,\"#4d9221\"],[1,\"#276419\"]]},\"xaxis\":{\"gridcolor\":\"white\",\"linecolor\":\"white\",\"ticks\":\"\",\"title\":{\"standoff\":15},\"zerolinecolor\":\"white\",\"automargin\":true,\"zerolinewidth\":2},\"yaxis\":{\"gridcolor\":\"white\",\"linecolor\":\"white\",\"ticks\":\"\",\"title\":{\"standoff\":15},\"zerolinecolor\":\"white\",\"automargin\":true,\"zerolinewidth\":2},\"scene\":{\"xaxis\":{\"backgroundcolor\":\"#E5ECF6\",\"gridcolor\":\"white\",\"linecolor\":\"white\",\"showbackground\":true,\"ticks\":\"\",\"zerolinecolor\":\"white\",\"gridwidth\":2},\"yaxis\":{\"backgroundcolor\":\"#E5ECF6\",\"gridcolor\":\"white\",\"linecolor\":\"white\",\"showbackground\":true,\"ticks\":\"\",\"zerolinecolor\":\"white\",\"gridwidth\":2},\"zaxis\":{\"backgroundcolor\":\"#E5ECF6\",\"gridcolor\":\"white\",\"linecolor\":\"white\",\"showbackground\":true,\"ticks\":\"\",\"zerolinecolor\":\"white\",\"gridwidth\":2}},\"shapedefaults\":{\"line\":{\"color\":\"#2a3f5f\"}},\"annotationdefaults\":{\"arrowcolor\":\"#2a3f5f\",\"arrowhead\":0,\"arrowwidth\":1},\"geo\":{\"bgcolor\":\"white\",\"landcolor\":\"#E5ECF6\",\"subunitcolor\":\"white\",\"showland\":true,\"showlakes\":true,\"lakecolor\":\"white\"},\"title\":{\"x\":0.05},\"mapbox\":{\"style\":\"light\"}}},\"xaxis\":{\"anchor\":\"y\",\"domain\":[0.0,1.0],\"title\":{\"text\":\"Employment Type\"}},\"yaxis\":{\"anchor\":\"x\",\"domain\":[0.0,1.0],\"title\":{\"text\":\"count\"}},\"legend\":{\"title\":{\"text\":\"TravelInsurance\"},\"tracegroupgap\":0},\"title\":{\"text\":\"Factors affecting purchase of travel insurance: Employment Type\"},\"barmode\":\"relative\"},                        {\"responsive\": true}                    ).then(function(){\n",
              "                            \n",
              "var gd = document.getElementById('b8db7c08-0e37-44d3-a23d-175ca52096bc');\n",
              "var x = new MutationObserver(function (mutations, observer) {{\n",
              "        var display = window.getComputedStyle(gd).display;\n",
              "        if (!display || display === 'none') {{\n",
              "            console.log([gd, 'removed!']);\n",
              "            Plotly.purge(gd);\n",
              "            observer.disconnect();\n",
              "        }}\n",
              "}});\n",
              "\n",
              "// Listen for the removal of the full notebook cells\n",
              "var notebookContainer = gd.closest('#notebook-container');\n",
              "if (notebookContainer) {{\n",
              "    x.observe(notebookContainer, {childList: true});\n",
              "}}\n",
              "\n",
              "// Listen for the clearing of the current output cell\n",
              "var outputEl = gd.closest('.output');\n",
              "if (outputEl) {{\n",
              "    x.observe(outputEl, {childList: true});\n",
              "}}\n",
              "\n",
              "                        })                };                            </script>        </div>\n",
              "</body>\n",
              "</html>"
            ]
          },
          "metadata": {}
        },
        {
          "output_type": "display_data",
          "data": {
            "text/html": [
              "<html>\n",
              "<head><meta charset=\"utf-8\" /></head>\n",
              "<body>\n",
              "    <div>            <script src=\"https://cdnjs.cloudflare.com/ajax/libs/mathjax/2.7.5/MathJax.js?config=TeX-AMS-MML_SVG\"></script><script type=\"text/javascript\">if (window.MathJax && window.MathJax.Hub && window.MathJax.Hub.Config) {window.MathJax.Hub.Config({SVG: {font: \"STIX-Web\"}});}</script>                <script type=\"text/javascript\">window.PlotlyConfig = {MathJaxConfig: 'local'};</script>\n",
              "        <script src=\"https://cdn.plot.ly/plotly-2.18.2.min.js\"></script>                <div id=\"ffa4f348-945b-4f78-93cb-4c5b8dd384cf\" class=\"plotly-graph-div\" style=\"height:525px; width:100%;\"></div>            <script type=\"text/javascript\">                                    window.PLOTLYENV=window.PLOTLYENV || {};                                    if (document.getElementById(\"ffa4f348-945b-4f78-93cb-4c5b8dd384cf\")) {                    Plotly.newPlot(                        \"ffa4f348-945b-4f78-93cb-4c5b8dd384cf\",                        [{\"alignmentgroup\":\"True\",\"bingroup\":\"x\",\"hovertemplate\":\"TravelInsurance=Not Purchased<br>AnnualIncome=%{x}<br>count=%{y}<extra></extra>\",\"legendgroup\":\"Not Purchased\",\"marker\":{\"color\":\"#636efa\",\"pattern\":{\"shape\":\"\"}},\"name\":\"Not Purchased\",\"offsetgroup\":\"Not Purchased\",\"orientation\":\"v\",\"showlegend\":true,\"x\":[400000,1250000,700000,700000,1150000,1300000,800000,400000,400000,700000,1150000,1150000,1100000,1500000,800000,1250000,600000,900000,550000,300000,850000,1400000,300000,700000,1100000,550000,1100000,600000,1250000,1050000,1250000,300000,1200000,750000,1250000,800000,500000,600000,800000,350000,300000,1300000,750000,800000,750000,700000,1300000,400000,400000,1300000,1150000,1250000,350000,900000,300000,1050000,300000,1050000,300000,1150000,1300000,700000,350000,1100000,600000,500000,1150000,750000,1300000,850000,400000,800000,800000,900000,500000,900000,400000,500000,800000,800000,850000,350000,800000,750000,1050000,800000,750000,1100000,600000,600000,1150000,550000,1400000,350000,1300000,1250000,1150000,400000,800000,1200000,600000,700000,900000,600000,900000,350000,300000,1000000,800000,400000,850000,600000,900000,600000,800000,1250000,350000,1250000,750000,1300000,1700000,750000,650000,500000,900000,650000,800000,1300000,1100000,1150000,1100000,900000,1150000,350000,1700000,1200000,450000,750000,850000,1100000,800000,1500000,1250000,800000,1200000,1200000,650000,1100000,1250000,1300000,1000000,1000000,900000,1200000,1250000,1200000,1300000,550000,500000,600000,1250000,350000,400000,750000,500000,1150000,350000,1150000,300000,1200000,900000,750000,800000,350000,850000,400000,800000,900000,700000,1050000,950000,350000,800000,750000,600000,750000,600000,1200000,1100000,500000,900000,1300000,850000,1200000,550000,350000,450000,850000,300000,1050000,1250000,1150000,1000000,550000,850000,300000,950000,800000,500000,750000,300000,1250000,1150000,1300000,1100000,800000,1400000,350000,550000,600000,1050000,800000,550000,1250000,800000,1200000,1300000,1400000,500000,950000,1200000,300000,1000000,500000,1000000,1150000,550000,700000,1300000,1200000,300000,1300000,800000,900000,350000,900000,600000,1100000,1300000,1200000,1200000,1100000,600000,1000000,300000,550000,1050000,800000,750000,1250000,800000,1200000,700000,1250000,800000,850000,350000,700000,550000,600000,300000,600000,1000000,1150000,1050000,300000,350000,500000,700000,350000,500000,500000,1100000,1200000,800000,400000,800000,1100000,1050000,700000,500000,1250000,800000,1100000,300000,1100000,1150000,750000,1250000,750000,550000,500000,1200000,1300000,1250000,300000,1100000,900000,1300000,1100000,850000,1150000,450000,550000,300000,800000,1200000,500000,1050000,1300000,1200000,600000,600000,350000,1250000,1300000,500000,800000,600000,800000,950000,1250000,1100000,850000,850000,1250000,1100000,1100000,400000,800000,500000,1100000,700000,1150000,1250000,900000,1150000,600000,500000,1150000,400000,1200000,600000,850000,400000,600000,550000,850000,300000,1050000,1050000,1400000,800000,1750000,550000,1050000,850000,1050000,1000000,900000,800000,850000,800000,500000,1150000,850000,550000,350000,1150000,1000000,400000,1250000,700000,1100000,900000,300000,500000,1150000,600000,550000,1150000,1000000,700000,1300000,350000,800000,550000,900000,500000,550000,1250000,1000000,300000,750000,1050000,650000,800000,1100000,1000000,1750000,1100000,500000,1150000,600000,1100000,700000,700000,1300000,550000,1300000,1250000,800000,700000,500000,1100000,800000,1100000,1100000,800000,300000,500000,1750000,700000,500000,500000,300000,300000,500000,1250000,800000,1300000,1000000,600000,800000,1100000,1050000,850000,350000,1200000,450000,500000,1200000,750000,1150000,1150000,400000,500000,1400000,950000,300000,800000,1150000,350000,800000,500000,500000,850000,700000,550000,1000000,300000,1200000,800000,900000,1300000,850000,1050000,1050000,750000,1250000,600000,800000,800000,900000,300000,650000,800000,500000,1050000,600000,500000,650000,800000,1100000,850000,1200000,300000,500000,500000,800000,600000,500000,350000,700000,300000,800000,600000,950000,950000,800000,350000,500000,850000,400000,1200000,1100000,1200000,500000,1000000,500000,750000,500000,350000,300000,300000,1200000,1200000,1050000,350000,1050000,550000,600000,450000,1000000,550000,1050000,1700000,1050000,1150000,1150000,1200000,1200000,850000,1150000,600000,1050000,600000,1100000,1100000,1100000,600000,1100000,750000,700000,900000,1300000,850000,500000,400000,850000,500000,1050000,800000,1000000,300000,1100000,600000,750000,1200000,800000,1700000,1000000,550000,600000,800000,600000,750000,1200000,600000,350000,600000,1250000,800000,1050000,1050000,400000,600000,1300000,1300000,700000,600000,300000,550000,1300000,1300000,1300000,1050000,800000,600000,300000,650000,400000,900000,1100000,400000,800000,1200000,600000,800000,800000,1250000,1000000,500000,1200000,600000,1200000,800000,500000,550000,1750000,1000000,500000,350000,500000,300000,1000000,1150000,900000,1250000,900000,450000,1200000,1300000,900000,650000,300000,750000,850000,550000,1750000,1100000,700000,550000,850000,700000,300000,500000,1250000,400000,350000,1100000,500000,1200000,600000,350000,300000,400000,1150000,850000,700000,1150000,1150000,300000,1000000,1200000,1250000,1300000,750000,800000,500000,500000,500000,1100000,400000,500000,900000,1100000,600000,1200000,400000,1300000,700000,900000,350000,950000,400000,650000,1200000,1200000,300000,800000,800000,750000,400000,500000,1500000,650000,1050000,300000,1000000,700000,1200000,1150000,1050000,1250000,300000,1200000,1250000,500000,1100000,700000,600000,1150000,500000,1200000,1050000,1000000,1300000,1100000,500000,800000,400000,1000000,700000,800000,1100000,300000,300000,1100000,300000,1200000,650000,700000,550000,400000,800000,900000,500000,750000,750000,750000,500000,300000,500000,1200000,700000,300000,1150000,1000000,700000,1250000,1050000,900000,1300000,1050000,600000,1300000,400000,800000,400000,1300000,700000,500000,500000,600000,300000,1100000,800000,400000,900000,1200000,500000,1300000,1250000,1150000,950000,900000,300000,400000,1200000,650000,1150000,700000,450000,1200000,1300000,1200000,400000,1150000,1100000,300000,1350000,550000,350000,1050000,400000,350000,1050000,1300000,1200000,600000,900000,700000,700000,1150000,1250000,500000,1200000,600000,800000,1050000,1200000,550000,550000,600000,400000,1000000,1200000,350000,1200000,1000000,600000,600000,900000,400000,500000,550000,500000,750000,800000,650000,300000,600000,1050000,300000,700000,1200000,550000,1200000,700000,900000,1250000,1300000,900000,1150000,600000,300000,1750000,700000,800000,900000,1100000,1200000,1250000,750000,900000,1250000,1000000,700000,1100000,1300000,800000,1100000,400000,1200000,550000,550000,1300000,600000,350000,750000,1750000,750000,800000,650000,300000,750000,1300000,800000,1000000,500000,500000,350000,900000,1400000,1000000,650000,1100000,350000,900000,600000,1050000,300000,600000,600000,1100000,1250000,550000,1150000,700000,600000,800000,1050000,700000,700000,550000,400000,600000,500000,1750000,900000,850000,850000,400000,500000,900000,1100000,300000,800000,1100000,1150000,550000,1050000,800000,550000,400000,500000,1150000,400000,950000,1200000,850000,1250000,300000,1100000,1200000,1050000,300000,300000,1000000,1100000,750000,700000,300000,800000,500000,350000,350000,700000,1150000,1000000,900000,750000,600000,1200000,800000,750000,500000,850000,500000,1150000,750000,1300000,500000,1300000,500000,350000,1300000,600000,400000,750000,1200000,800000,750000,500000,750000,1200000,600000,400000,1100000,1100000,800000,350000,1200000,550000,450000,700000,1200000,1300000,900000,800000,800000,1050000,1200000,700000,1250000,550000,800000,1200000,500000,700000,1150000,650000,550000,550000,300000,500000,1200000,1200000,900000,300000,300000,750000,900000,550000,300000,500000,500000,400000,1250000,650000,850000,1250000,700000,600000,1050000,450000,700000,500000,550000,550000,650000,1150000,300000,750000,850000,900000,600000,1150000,1000000,1000000,800000,1150000,1000000,1250000,1400000,600000,1100000,1250000,1150000,1150000,850000,1100000,1150000,300000,600000,550000,950000,500000,700000,550000,1250000,1150000,300000,750000,350000,700000,950000,300000,550000,1300000,1050000,800000,800000,750000,800000,400000,1250000,500000,1100000,400000,1100000,800000,1050000,500000,800000,1250000,1050000,900000,1400000,300000,400000,800000,1200000,1100000,800000,500000,800000,1250000,1100000,800000,700000,1100000,500000,1100000,500000,1200000,300000,1050000,500000,1050000,1200000,500000,600000,800000,800000,550000,850000,400000,1100000,1100000,700000,300000,500000,850000,1150000,500000,750000,500000,1300000,1050000,900000,550000,650000,1050000,1050000,1150000,500000,350000,1200000,700000,750000,950000,600000,850000,1150000,950000,500000,1750000,1150000,1150000,1200000,850000,1200000,800000,750000,1200000,400000,1100000,1200000,600000,500000,300000,350000,1100000,800000,1000000,500000,800000,800000,800000,600000,1200000,300000,350000,1050000,1200000,1100000,400000,800000,1300000,700000,350000,900000,350000,700000,1200000,350000,300000,850000,400000,1250000,300000,1200000,700000,600000,900000,800000,550000,1050000,550000,500000,300000,1050000,1000000,500000,1100000,350000,500000,1100000,350000,900000,750000,1300000,1200000,700000,850000,700000,500000,600000,1250000,1000000,600000,400000,700000,600000,800000,300000,1150000,500000,1100000,550000,800000,1100000,300000,800000,300000,500000,750000,750000,400000,1200000,1300000,800000,550000,1350000,1000000,500000,1400000,450000,1400000,900000,1050000,900000,1250000,600000,550000,1750000,1250000,1300000,550000,500000,1150000,1100000,700000,700000,300000,500000,950000,800000,1200000,900000,1100000,1150000,1750000,1150000,500000],\"xaxis\":\"x\",\"yaxis\":\"y\",\"type\":\"histogram\"},{\"alignmentgroup\":\"True\",\"bingroup\":\"x\",\"hovertemplate\":\"TravelInsurance=Purchased<br>AnnualIncome=%{x}<br>count=%{y}<extra></extra>\",\"legendgroup\":\"Purchased\",\"marker\":{\"color\":\"#EF553B\",\"pattern\":{\"shape\":\"\"}},\"name\":\"Purchased\",\"offsetgroup\":\"Purchased\",\"orientation\":\"v\",\"showlegend\":true,\"x\":[500000,1350000,1450000,1400000,850000,1500000,800000,1050000,1500000,350000,600000,1300000,750000,800000,1500000,1400000,1500000,1200000,1400000,1400000,1400000,1350000,550000,1000000,1400000,1400000,800000,1450000,1500000,1200000,1300000,950000,1700000,700000,1400000,1300000,1500000,1400000,1300000,1700000,1150000,1500000,1400000,500000,1350000,1750000,800000,500000,800000,750000,1400000,650000,1200000,1300000,1250000,1200000,1400000,500000,1350000,450000,700000,1050000,800000,300000,500000,1400000,1400000,1000000,1350000,1450000,1050000,1400000,600000,1150000,1350000,1400000,1050000,1300000,1500000,800000,1050000,1300000,1000000,1350000,1400000,1500000,1300000,550000,400000,1400000,1100000,1100000,500000,1300000,1000000,850000,1400000,800000,1400000,750000,1250000,800000,1700000,900000,700000,650000,650000,1500000,1150000,1400000,800000,1100000,1700000,1400000,700000,550000,1650000,1050000,800000,1100000,1800000,1350000,1150000,1400000,1350000,1700000,800000,1300000,1550000,1700000,1550000,1400000,1350000,1350000,550000,1200000,950000,1200000,650000,650000,1200000,1700000,1700000,1400000,1400000,1400000,1500000,1400000,1100000,1400000,1300000,1300000,1500000,1000000,850000,1150000,700000,1500000,500000,1300000,1500000,1500000,1350000,900000,1500000,1500000,1700000,1400000,1000000,1400000,1500000,1050000,800000,850000,1100000,1200000,1500000,300000,900000,1450000,500000,1250000,1350000,1700000,800000,1300000,450000,1350000,600000,1500000,1400000,1400000,1200000,1400000,550000,800000,900000,1400000,500000,500000,1400000,900000,800000,1400000,1700000,1350000,800000,1500000,1500000,1400000,1250000,800000,700000,550000,1650000,1100000,1400000,1400000,1450000,1300000,1400000,1400000,800000,1200000,1450000,800000,1500000,750000,1700000,1100000,1500000,1500000,1500000,1100000,1400000,1200000,1450000,1350000,700000,1500000,1450000,1000000,1450000,1100000,1100000,400000,800000,1700000,1100000,500000,1050000,700000,550000,1000000,1300000,1050000,1300000,1300000,1350000,550000,1400000,700000,1500000,1500000,500000,1400000,1400000,500000,1500000,750000,900000,800000,1150000,1300000,500000,550000,1050000,1500000,1450000,500000,900000,1000000,900000,850000,1000000,1050000,1500000,1500000,1400000,1450000,1250000,1100000,1500000,1050000,500000,700000,600000,1450000,1350000,1400000,1400000,350000,1400000,1050000,1350000,1100000,1350000,1400000,800000,600000,1700000,1050000,500000,1400000,1400000,1400000,1400000,1500000,1000000,1500000,700000,1500000,450000,600000,700000,1050000,1550000,1200000,500000,1400000,1400000,1200000,1500000,1450000,1300000,1700000,1450000,600000,400000,1700000,1050000,1500000,1500000,1450000,1500000,950000,1400000,1400000,1400000,400000,600000,1450000,1400000,1400000,1300000,1250000,1000000,1400000,1500000,950000,550000,1400000,850000,1150000,1400000,800000,1300000,850000,1400000,900000,550000,850000,1350000,1350000,1050000,1700000,1200000,700000,500000,1350000,1450000,1500000,1500000,1500000,1100000,1450000,800000,450000,1450000,1400000,950000,1400000,600000,1000000,700000,1800000,1500000,1300000,1100000,1250000,1100000,600000,1500000,1400000,600000,700000,600000,1300000,800000,600000,1400000,1400000,1150000,1400000,900000,850000,800000,1100000,1350000,1700000,1400000,1400000,800000,1200000,1500000,800000,1700000,750000,1700000,800000,700000,1400000,1500000,400000,1500000,1500000,700000,1500000,1100000,700000,1400000,500000,1700000,700000,500000,1300000,400000,800000,500000,1400000,1350000,1000000,500000,650000,1200000,1500000,550000,1200000,1400000,1400000,1400000,1500000,900000,500000,550000,1050000,900000,1400000,1150000,800000,1400000,1400000,1700000,1350000,1350000,1050000,400000,800000,1400000,1250000,750000,1450000,1500000,700000,1400000,1500000,1700000,1400000,700000,1400000,650000,1500000,850000,1400000,700000,850000,1350000,1200000,550000,1450000,1450000,500000,1400000,1400000,1400000,650000,1150000,1050000,1400000,750000,1000000,700000,1200000,1200000,500000,1300000,800000,1350000,1150000,1300000,650000,1400000,1150000,700000,1400000,500000,500000,400000,1200000,500000,1050000,1350000,1100000,1700000,600000,1500000,1100000,1750000,1400000,500000,1350000,1400000,750000,600000,400000,1750000,1700000,1450000,1000000,1400000,1250000,300000,1350000,550000,1250000,1250000,600000,1750000,650000,500000,550000,1400000,1500000,750000,1450000,1400000,1450000,1100000,1500000,1500000,1500000,1100000,550000,1700000,1450000,1400000,1700000,1400000,300000,350000,1500000,1400000,1400000,1300000,500000,1000000,1400000,1150000,300000,1050000,900000,800000,1200000,1700000,1100000,1250000,1800000,1500000,1100000,500000,1400000,1200000,1300000,500000,1050000,1350000,1350000,750000,1050000,1350000,1400000,800000,1400000,1300000,700000,1250000,1350000,1400000,1500000,700000,1700000,1450000,1500000,900000,1500000,900000,750000,950000,1500000,600000,1450000,900000,1500000,1300000,800000,1400000,1100000,1700000,1200000,700000,1500000,1500000,1450000,1700000,1450000,1400000,550000,1350000,550000,550000,1050000,1400000,1350000,1800000,800000,1400000,1700000,1200000,550000,1300000,1550000,750000,400000,1400000,800000,1400000,1500000,1700000,1500000,1400000,1500000,700000,1050000,1300000,1350000,1200000,800000,1400000,1100000,650000,1450000,600000,1550000,1300000,1400000,1400000,1000000,1500000,600000,1500000,450000,1500000,550000,850000,800000,700000,1500000,1300000,350000,300000,1100000,550000,500000,1350000,1400000,1350000,700000,850000,1500000,1000000],\"xaxis\":\"x\",\"yaxis\":\"y\",\"type\":\"histogram\"}],                        {\"template\":{\"data\":{\"histogram2dcontour\":[{\"type\":\"histogram2dcontour\",\"colorbar\":{\"outlinewidth\":0,\"ticks\":\"\"},\"colorscale\":[[0.0,\"#0d0887\"],[0.1111111111111111,\"#46039f\"],[0.2222222222222222,\"#7201a8\"],[0.3333333333333333,\"#9c179e\"],[0.4444444444444444,\"#bd3786\"],[0.5555555555555556,\"#d8576b\"],[0.6666666666666666,\"#ed7953\"],[0.7777777777777778,\"#fb9f3a\"],[0.8888888888888888,\"#fdca26\"],[1.0,\"#f0f921\"]]}],\"choropleth\":[{\"type\":\"choropleth\",\"colorbar\":{\"outlinewidth\":0,\"ticks\":\"\"}}],\"histogram2d\":[{\"type\":\"histogram2d\",\"colorbar\":{\"outlinewidth\":0,\"ticks\":\"\"},\"colorscale\":[[0.0,\"#0d0887\"],[0.1111111111111111,\"#46039f\"],[0.2222222222222222,\"#7201a8\"],[0.3333333333333333,\"#9c179e\"],[0.4444444444444444,\"#bd3786\"],[0.5555555555555556,\"#d8576b\"],[0.6666666666666666,\"#ed7953\"],[0.7777777777777778,\"#fb9f3a\"],[0.8888888888888888,\"#fdca26\"],[1.0,\"#f0f921\"]]}],\"heatmap\":[{\"type\":\"heatmap\",\"colorbar\":{\"outlinewidth\":0,\"ticks\":\"\"},\"colorscale\":[[0.0,\"#0d0887\"],[0.1111111111111111,\"#46039f\"],[0.2222222222222222,\"#7201a8\"],[0.3333333333333333,\"#9c179e\"],[0.4444444444444444,\"#bd3786\"],[0.5555555555555556,\"#d8576b\"],[0.6666666666666666,\"#ed7953\"],[0.7777777777777778,\"#fb9f3a\"],[0.8888888888888888,\"#fdca26\"],[1.0,\"#f0f921\"]]}],\"heatmapgl\":[{\"type\":\"heatmapgl\",\"colorbar\":{\"outlinewidth\":0,\"ticks\":\"\"},\"colorscale\":[[0.0,\"#0d0887\"],[0.1111111111111111,\"#46039f\"],[0.2222222222222222,\"#7201a8\"],[0.3333333333333333,\"#9c179e\"],[0.4444444444444444,\"#bd3786\"],[0.5555555555555556,\"#d8576b\"],[0.6666666666666666,\"#ed7953\"],[0.7777777777777778,\"#fb9f3a\"],[0.8888888888888888,\"#fdca26\"],[1.0,\"#f0f921\"]]}],\"contourcarpet\":[{\"type\":\"contourcarpet\",\"colorbar\":{\"outlinewidth\":0,\"ticks\":\"\"}}],\"contour\":[{\"type\":\"contour\",\"colorbar\":{\"outlinewidth\":0,\"ticks\":\"\"},\"colorscale\":[[0.0,\"#0d0887\"],[0.1111111111111111,\"#46039f\"],[0.2222222222222222,\"#7201a8\"],[0.3333333333333333,\"#9c179e\"],[0.4444444444444444,\"#bd3786\"],[0.5555555555555556,\"#d8576b\"],[0.6666666666666666,\"#ed7953\"],[0.7777777777777778,\"#fb9f3a\"],[0.8888888888888888,\"#fdca26\"],[1.0,\"#f0f921\"]]}],\"surface\":[{\"type\":\"surface\",\"colorbar\":{\"outlinewidth\":0,\"ticks\":\"\"},\"colorscale\":[[0.0,\"#0d0887\"],[0.1111111111111111,\"#46039f\"],[0.2222222222222222,\"#7201a8\"],[0.3333333333333333,\"#9c179e\"],[0.4444444444444444,\"#bd3786\"],[0.5555555555555556,\"#d8576b\"],[0.6666666666666666,\"#ed7953\"],[0.7777777777777778,\"#fb9f3a\"],[0.8888888888888888,\"#fdca26\"],[1.0,\"#f0f921\"]]}],\"mesh3d\":[{\"type\":\"mesh3d\",\"colorbar\":{\"outlinewidth\":0,\"ticks\":\"\"}}],\"scatter\":[{\"fillpattern\":{\"fillmode\":\"overlay\",\"size\":10,\"solidity\":0.2},\"type\":\"scatter\"}],\"parcoords\":[{\"type\":\"parcoords\",\"line\":{\"colorbar\":{\"outlinewidth\":0,\"ticks\":\"\"}}}],\"scatterpolargl\":[{\"type\":\"scatterpolargl\",\"marker\":{\"colorbar\":{\"outlinewidth\":0,\"ticks\":\"\"}}}],\"bar\":[{\"error_x\":{\"color\":\"#2a3f5f\"},\"error_y\":{\"color\":\"#2a3f5f\"},\"marker\":{\"line\":{\"color\":\"#E5ECF6\",\"width\":0.5},\"pattern\":{\"fillmode\":\"overlay\",\"size\":10,\"solidity\":0.2}},\"type\":\"bar\"}],\"scattergeo\":[{\"type\":\"scattergeo\",\"marker\":{\"colorbar\":{\"outlinewidth\":0,\"ticks\":\"\"}}}],\"scatterpolar\":[{\"type\":\"scatterpolar\",\"marker\":{\"colorbar\":{\"outlinewidth\":0,\"ticks\":\"\"}}}],\"histogram\":[{\"marker\":{\"pattern\":{\"fillmode\":\"overlay\",\"size\":10,\"solidity\":0.2}},\"type\":\"histogram\"}],\"scattergl\":[{\"type\":\"scattergl\",\"marker\":{\"colorbar\":{\"outlinewidth\":0,\"ticks\":\"\"}}}],\"scatter3d\":[{\"type\":\"scatter3d\",\"line\":{\"colorbar\":{\"outlinewidth\":0,\"ticks\":\"\"}},\"marker\":{\"colorbar\":{\"outlinewidth\":0,\"ticks\":\"\"}}}],\"scattermapbox\":[{\"type\":\"scattermapbox\",\"marker\":{\"colorbar\":{\"outlinewidth\":0,\"ticks\":\"\"}}}],\"scatterternary\":[{\"type\":\"scatterternary\",\"marker\":{\"colorbar\":{\"outlinewidth\":0,\"ticks\":\"\"}}}],\"scattercarpet\":[{\"type\":\"scattercarpet\",\"marker\":{\"colorbar\":{\"outlinewidth\":0,\"ticks\":\"\"}}}],\"carpet\":[{\"aaxis\":{\"endlinecolor\":\"#2a3f5f\",\"gridcolor\":\"white\",\"linecolor\":\"white\",\"minorgridcolor\":\"white\",\"startlinecolor\":\"#2a3f5f\"},\"baxis\":{\"endlinecolor\":\"#2a3f5f\",\"gridcolor\":\"white\",\"linecolor\":\"white\",\"minorgridcolor\":\"white\",\"startlinecolor\":\"#2a3f5f\"},\"type\":\"carpet\"}],\"table\":[{\"cells\":{\"fill\":{\"color\":\"#EBF0F8\"},\"line\":{\"color\":\"white\"}},\"header\":{\"fill\":{\"color\":\"#C8D4E3\"},\"line\":{\"color\":\"white\"}},\"type\":\"table\"}],\"barpolar\":[{\"marker\":{\"line\":{\"color\":\"#E5ECF6\",\"width\":0.5},\"pattern\":{\"fillmode\":\"overlay\",\"size\":10,\"solidity\":0.2}},\"type\":\"barpolar\"}],\"pie\":[{\"automargin\":true,\"type\":\"pie\"}]},\"layout\":{\"autotypenumbers\":\"strict\",\"colorway\":[\"#636efa\",\"#EF553B\",\"#00cc96\",\"#ab63fa\",\"#FFA15A\",\"#19d3f3\",\"#FF6692\",\"#B6E880\",\"#FF97FF\",\"#FECB52\"],\"font\":{\"color\":\"#2a3f5f\"},\"hovermode\":\"closest\",\"hoverlabel\":{\"align\":\"left\"},\"paper_bgcolor\":\"white\",\"plot_bgcolor\":\"#E5ECF6\",\"polar\":{\"bgcolor\":\"#E5ECF6\",\"angularaxis\":{\"gridcolor\":\"white\",\"linecolor\":\"white\",\"ticks\":\"\"},\"radialaxis\":{\"gridcolor\":\"white\",\"linecolor\":\"white\",\"ticks\":\"\"}},\"ternary\":{\"bgcolor\":\"#E5ECF6\",\"aaxis\":{\"gridcolor\":\"white\",\"linecolor\":\"white\",\"ticks\":\"\"},\"baxis\":{\"gridcolor\":\"white\",\"linecolor\":\"white\",\"ticks\":\"\"},\"caxis\":{\"gridcolor\":\"white\",\"linecolor\":\"white\",\"ticks\":\"\"}},\"coloraxis\":{\"colorbar\":{\"outlinewidth\":0,\"ticks\":\"\"}},\"colorscale\":{\"sequential\":[[0.0,\"#0d0887\"],[0.1111111111111111,\"#46039f\"],[0.2222222222222222,\"#7201a8\"],[0.3333333333333333,\"#9c179e\"],[0.4444444444444444,\"#bd3786\"],[0.5555555555555556,\"#d8576b\"],[0.6666666666666666,\"#ed7953\"],[0.7777777777777778,\"#fb9f3a\"],[0.8888888888888888,\"#fdca26\"],[1.0,\"#f0f921\"]],\"sequentialminus\":[[0.0,\"#0d0887\"],[0.1111111111111111,\"#46039f\"],[0.2222222222222222,\"#7201a8\"],[0.3333333333333333,\"#9c179e\"],[0.4444444444444444,\"#bd3786\"],[0.5555555555555556,\"#d8576b\"],[0.6666666666666666,\"#ed7953\"],[0.7777777777777778,\"#fb9f3a\"],[0.8888888888888888,\"#fdca26\"],[1.0,\"#f0f921\"]],\"diverging\":[[0,\"#8e0152\"],[0.1,\"#c51b7d\"],[0.2,\"#de77ae\"],[0.3,\"#f1b6da\"],[0.4,\"#fde0ef\"],[0.5,\"#f7f7f7\"],[0.6,\"#e6f5d0\"],[0.7,\"#b8e186\"],[0.8,\"#7fbc41\"],[0.9,\"#4d9221\"],[1,\"#276419\"]]},\"xaxis\":{\"gridcolor\":\"white\",\"linecolor\":\"white\",\"ticks\":\"\",\"title\":{\"standoff\":15},\"zerolinecolor\":\"white\",\"automargin\":true,\"zerolinewidth\":2},\"yaxis\":{\"gridcolor\":\"white\",\"linecolor\":\"white\",\"ticks\":\"\",\"title\":{\"standoff\":15},\"zerolinecolor\":\"white\",\"automargin\":true,\"zerolinewidth\":2},\"scene\":{\"xaxis\":{\"backgroundcolor\":\"#E5ECF6\",\"gridcolor\":\"white\",\"linecolor\":\"white\",\"showbackground\":true,\"ticks\":\"\",\"zerolinecolor\":\"white\",\"gridwidth\":2},\"yaxis\":{\"backgroundcolor\":\"#E5ECF6\",\"gridcolor\":\"white\",\"linecolor\":\"white\",\"showbackground\":true,\"ticks\":\"\",\"zerolinecolor\":\"white\",\"gridwidth\":2},\"zaxis\":{\"backgroundcolor\":\"#E5ECF6\",\"gridcolor\":\"white\",\"linecolor\":\"white\",\"showbackground\":true,\"ticks\":\"\",\"zerolinecolor\":\"white\",\"gridwidth\":2}},\"shapedefaults\":{\"line\":{\"color\":\"#2a3f5f\"}},\"annotationdefaults\":{\"arrowcolor\":\"#2a3f5f\",\"arrowhead\":0,\"arrowwidth\":1},\"geo\":{\"bgcolor\":\"white\",\"landcolor\":\"#E5ECF6\",\"subunitcolor\":\"white\",\"showland\":true,\"showlakes\":true,\"lakecolor\":\"white\"},\"title\":{\"x\":0.05},\"mapbox\":{\"style\":\"light\"}}},\"xaxis\":{\"anchor\":\"y\",\"domain\":[0.0,1.0],\"title\":{\"text\":\"AnnualIncome\"}},\"yaxis\":{\"anchor\":\"x\",\"domain\":[0.0,1.0],\"title\":{\"text\":\"count\"}},\"legend\":{\"title\":{\"text\":\"TravelInsurance\"},\"tracegroupgap\":0},\"title\":{\"text\":\"Factors affecting purchase of travel insurance: AnnualIncome\"},\"barmode\":\"relative\"},                        {\"responsive\": true}                    ).then(function(){\n",
              "                            \n",
              "var gd = document.getElementById('ffa4f348-945b-4f78-93cb-4c5b8dd384cf');\n",
              "var x = new MutationObserver(function (mutations, observer) {{\n",
              "        var display = window.getComputedStyle(gd).display;\n",
              "        if (!display || display === 'none') {{\n",
              "            console.log([gd, 'removed!']);\n",
              "            Plotly.purge(gd);\n",
              "            observer.disconnect();\n",
              "        }}\n",
              "}});\n",
              "\n",
              "// Listen for the removal of the full notebook cells\n",
              "var notebookContainer = gd.closest('#notebook-container');\n",
              "if (notebookContainer) {{\n",
              "    x.observe(notebookContainer, {childList: true});\n",
              "}}\n",
              "\n",
              "// Listen for the clearing of the current output cell\n",
              "var outputEl = gd.closest('.output');\n",
              "if (outputEl) {{\n",
              "    x.observe(outputEl, {childList: true});\n",
              "}}\n",
              "\n",
              "                        })                };                            </script>        </div>\n",
              "</body>\n",
              "</html>"
            ]
          },
          "metadata": {}
        }
      ]
    },
    {
      "cell_type": "code",
      "source": [
        "le = LabelEncoder()"
      ],
      "metadata": {
        "id": "SyXVawHUfoLd"
      },
      "execution_count": 11,
      "outputs": []
    },
    {
      "cell_type": "code",
      "source": [
        "encode_cols = ['GraduateOrNot', 'FrequentFlyer', 'EverTravelledAbroad']"
      ],
      "metadata": {
        "id": "Q-my5zCbfuHj"
      },
      "execution_count": 12,
      "outputs": []
    },
    {
      "cell_type": "code",
      "source": [
        "for col in encode_cols:\n",
        "  data['le'+col] = le.fit_transform(data[col])"
      ],
      "metadata": {
        "id": "f83jQSGKf2Vt"
      },
      "execution_count": 13,
      "outputs": []
    },
    {
      "cell_type": "code",
      "source": [
        "data.info()"
      ],
      "metadata": {
        "colab": {
          "base_uri": "https://localhost:8080/"
        },
        "id": "53upHOcfgAeu",
        "outputId": "88b3070a-0a6b-4229-e3ff-b32165c27c97"
      },
      "execution_count": 14,
      "outputs": [
        {
          "output_type": "stream",
          "name": "stdout",
          "text": [
            "<class 'pandas.core.frame.DataFrame'>\n",
            "RangeIndex: 1987 entries, 0 to 1986\n",
            "Data columns (total 12 columns):\n",
            " #   Column                 Non-Null Count  Dtype \n",
            "---  ------                 --------------  ----- \n",
            " 0   Age                    1987 non-null   int64 \n",
            " 1   Employment Type        1987 non-null   object\n",
            " 2   GraduateOrNot          1987 non-null   object\n",
            " 3   AnnualIncome           1987 non-null   int64 \n",
            " 4   FamilyMembers          1987 non-null   int64 \n",
            " 5   ChronicDiseases        1987 non-null   int64 \n",
            " 6   FrequentFlyer          1987 non-null   object\n",
            " 7   EverTravelledAbroad    1987 non-null   object\n",
            " 8   TravelInsurance        1987 non-null   object\n",
            " 9   leGraduateOrNot        1987 non-null   int64 \n",
            " 10  leFrequentFlyer        1987 non-null   int64 \n",
            " 11  leEverTravelledAbroad  1987 non-null   int64 \n",
            "dtypes: int64(7), object(5)\n",
            "memory usage: 186.4+ KB\n"
          ]
        }
      ]
    },
    {
      "cell_type": "code",
      "source": [
        "data.head()"
      ],
      "metadata": {
        "colab": {
          "base_uri": "https://localhost:8080/",
          "height": 443
        },
        "id": "EQIjkcofgBiy",
        "outputId": "c777b83f-f008-4b07-b8d4-0bb342b20aca"
      },
      "execution_count": 15,
      "outputs": [
        {
          "output_type": "execute_result",
          "data": {
            "text/plain": [
              "   Age               Employment Type GraduateOrNot  AnnualIncome  \\\n",
              "0   31             Government Sector           Yes        400000   \n",
              "1   31  Private Sector/Self Employed           Yes       1250000   \n",
              "2   34  Private Sector/Self Employed           Yes        500000   \n",
              "3   28  Private Sector/Self Employed           Yes        700000   \n",
              "4   28  Private Sector/Self Employed           Yes        700000   \n",
              "\n",
              "   FamilyMembers  ChronicDiseases FrequentFlyer EverTravelledAbroad  \\\n",
              "0              6                1            No                  No   \n",
              "1              7                0            No                  No   \n",
              "2              4                1            No                  No   \n",
              "3              3                1            No                  No   \n",
              "4              8                1           Yes                  No   \n",
              "\n",
              "  TravelInsurance  leGraduateOrNot  leFrequentFlyer  leEverTravelledAbroad  \n",
              "0   Not Purchased                1                0                      0  \n",
              "1   Not Purchased                1                0                      0  \n",
              "2       Purchased                1                0                      0  \n",
              "3   Not Purchased                1                0                      0  \n",
              "4   Not Purchased                1                1                      0  "
            ],
            "text/html": [
              "\n",
              "  <div id=\"df-9b5e0e25-f3c2-4f44-a2af-322b2e4c5c5a\">\n",
              "    <div class=\"colab-df-container\">\n",
              "      <div>\n",
              "<style scoped>\n",
              "    .dataframe tbody tr th:only-of-type {\n",
              "        vertical-align: middle;\n",
              "    }\n",
              "\n",
              "    .dataframe tbody tr th {\n",
              "        vertical-align: top;\n",
              "    }\n",
              "\n",
              "    .dataframe thead th {\n",
              "        text-align: right;\n",
              "    }\n",
              "</style>\n",
              "<table border=\"1\" class=\"dataframe\">\n",
              "  <thead>\n",
              "    <tr style=\"text-align: right;\">\n",
              "      <th></th>\n",
              "      <th>Age</th>\n",
              "      <th>Employment Type</th>\n",
              "      <th>GraduateOrNot</th>\n",
              "      <th>AnnualIncome</th>\n",
              "      <th>FamilyMembers</th>\n",
              "      <th>ChronicDiseases</th>\n",
              "      <th>FrequentFlyer</th>\n",
              "      <th>EverTravelledAbroad</th>\n",
              "      <th>TravelInsurance</th>\n",
              "      <th>leGraduateOrNot</th>\n",
              "      <th>leFrequentFlyer</th>\n",
              "      <th>leEverTravelledAbroad</th>\n",
              "    </tr>\n",
              "  </thead>\n",
              "  <tbody>\n",
              "    <tr>\n",
              "      <th>0</th>\n",
              "      <td>31</td>\n",
              "      <td>Government Sector</td>\n",
              "      <td>Yes</td>\n",
              "      <td>400000</td>\n",
              "      <td>6</td>\n",
              "      <td>1</td>\n",
              "      <td>No</td>\n",
              "      <td>No</td>\n",
              "      <td>Not Purchased</td>\n",
              "      <td>1</td>\n",
              "      <td>0</td>\n",
              "      <td>0</td>\n",
              "    </tr>\n",
              "    <tr>\n",
              "      <th>1</th>\n",
              "      <td>31</td>\n",
              "      <td>Private Sector/Self Employed</td>\n",
              "      <td>Yes</td>\n",
              "      <td>1250000</td>\n",
              "      <td>7</td>\n",
              "      <td>0</td>\n",
              "      <td>No</td>\n",
              "      <td>No</td>\n",
              "      <td>Not Purchased</td>\n",
              "      <td>1</td>\n",
              "      <td>0</td>\n",
              "      <td>0</td>\n",
              "    </tr>\n",
              "    <tr>\n",
              "      <th>2</th>\n",
              "      <td>34</td>\n",
              "      <td>Private Sector/Self Employed</td>\n",
              "      <td>Yes</td>\n",
              "      <td>500000</td>\n",
              "      <td>4</td>\n",
              "      <td>1</td>\n",
              "      <td>No</td>\n",
              "      <td>No</td>\n",
              "      <td>Purchased</td>\n",
              "      <td>1</td>\n",
              "      <td>0</td>\n",
              "      <td>0</td>\n",
              "    </tr>\n",
              "    <tr>\n",
              "      <th>3</th>\n",
              "      <td>28</td>\n",
              "      <td>Private Sector/Self Employed</td>\n",
              "      <td>Yes</td>\n",
              "      <td>700000</td>\n",
              "      <td>3</td>\n",
              "      <td>1</td>\n",
              "      <td>No</td>\n",
              "      <td>No</td>\n",
              "      <td>Not Purchased</td>\n",
              "      <td>1</td>\n",
              "      <td>0</td>\n",
              "      <td>0</td>\n",
              "    </tr>\n",
              "    <tr>\n",
              "      <th>4</th>\n",
              "      <td>28</td>\n",
              "      <td>Private Sector/Self Employed</td>\n",
              "      <td>Yes</td>\n",
              "      <td>700000</td>\n",
              "      <td>8</td>\n",
              "      <td>1</td>\n",
              "      <td>Yes</td>\n",
              "      <td>No</td>\n",
              "      <td>Not Purchased</td>\n",
              "      <td>1</td>\n",
              "      <td>1</td>\n",
              "      <td>0</td>\n",
              "    </tr>\n",
              "  </tbody>\n",
              "</table>\n",
              "</div>\n",
              "      <button class=\"colab-df-convert\" onclick=\"convertToInteractive('df-9b5e0e25-f3c2-4f44-a2af-322b2e4c5c5a')\"\n",
              "              title=\"Convert this dataframe to an interactive table.\"\n",
              "              style=\"display:none;\">\n",
              "        \n",
              "  <svg xmlns=\"http://www.w3.org/2000/svg\" height=\"24px\"viewBox=\"0 0 24 24\"\n",
              "       width=\"24px\">\n",
              "    <path d=\"M0 0h24v24H0V0z\" fill=\"none\"/>\n",
              "    <path d=\"M18.56 5.44l.94 2.06.94-2.06 2.06-.94-2.06-.94-.94-2.06-.94 2.06-2.06.94zm-11 1L8.5 8.5l.94-2.06 2.06-.94-2.06-.94L8.5 2.5l-.94 2.06-2.06.94zm10 10l.94 2.06.94-2.06 2.06-.94-2.06-.94-.94-2.06-.94 2.06-2.06.94z\"/><path d=\"M17.41 7.96l-1.37-1.37c-.4-.4-.92-.59-1.43-.59-.52 0-1.04.2-1.43.59L10.3 9.45l-7.72 7.72c-.78.78-.78 2.05 0 2.83L4 21.41c.39.39.9.59 1.41.59.51 0 1.02-.2 1.41-.59l7.78-7.78 2.81-2.81c.8-.78.8-2.07 0-2.86zM5.41 20L4 18.59l7.72-7.72 1.47 1.35L5.41 20z\"/>\n",
              "  </svg>\n",
              "      </button>\n",
              "      \n",
              "  <style>\n",
              "    .colab-df-container {\n",
              "      display:flex;\n",
              "      flex-wrap:wrap;\n",
              "      gap: 12px;\n",
              "    }\n",
              "\n",
              "    .colab-df-convert {\n",
              "      background-color: #E8F0FE;\n",
              "      border: none;\n",
              "      border-radius: 50%;\n",
              "      cursor: pointer;\n",
              "      display: none;\n",
              "      fill: #1967D2;\n",
              "      height: 32px;\n",
              "      padding: 0 0 0 0;\n",
              "      width: 32px;\n",
              "    }\n",
              "\n",
              "    .colab-df-convert:hover {\n",
              "      background-color: #E2EBFA;\n",
              "      box-shadow: 0px 1px 2px rgba(60, 64, 67, 0.3), 0px 1px 3px 1px rgba(60, 64, 67, 0.15);\n",
              "      fill: #174EA6;\n",
              "    }\n",
              "\n",
              "    [theme=dark] .colab-df-convert {\n",
              "      background-color: #3B4455;\n",
              "      fill: #D2E3FC;\n",
              "    }\n",
              "\n",
              "    [theme=dark] .colab-df-convert:hover {\n",
              "      background-color: #434B5C;\n",
              "      box-shadow: 0px 1px 3px 1px rgba(0, 0, 0, 0.15);\n",
              "      filter: drop-shadow(0px 1px 2px rgba(0, 0, 0, 0.3));\n",
              "      fill: #FFFFFF;\n",
              "    }\n",
              "  </style>\n",
              "\n",
              "      <script>\n",
              "        const buttonEl =\n",
              "          document.querySelector('#df-9b5e0e25-f3c2-4f44-a2af-322b2e4c5c5a button.colab-df-convert');\n",
              "        buttonEl.style.display =\n",
              "          google.colab.kernel.accessAllowed ? 'block' : 'none';\n",
              "\n",
              "        async function convertToInteractive(key) {\n",
              "          const element = document.querySelector('#df-9b5e0e25-f3c2-4f44-a2af-322b2e4c5c5a');\n",
              "          const dataTable =\n",
              "            await google.colab.kernel.invokeFunction('convertToInteractive',\n",
              "                                                     [key], {});\n",
              "          if (!dataTable) return;\n",
              "\n",
              "          const docLinkHtml = 'Like what you see? Visit the ' +\n",
              "            '<a target=\"_blank\" href=https://colab.research.google.com/notebooks/data_table.ipynb>data table notebook</a>'\n",
              "            + ' to learn more about interactive tables.';\n",
              "          element.innerHTML = '';\n",
              "          dataTable['output_type'] = 'display_data';\n",
              "          await google.colab.output.renderOutput(dataTable, element);\n",
              "          const docLink = document.createElement('div');\n",
              "          docLink.innerHTML = docLinkHtml;\n",
              "          element.appendChild(docLink);\n",
              "        }\n",
              "      </script>\n",
              "    </div>\n",
              "  </div>\n",
              "  "
            ]
          },
          "metadata": {},
          "execution_count": 15
        }
      ]
    },
    {
      "cell_type": "code",
      "source": [
        "x = np.array(data[['Age', 'leGraduateOrNot', 'AnnualIncome', 'FamilyMembers', 'ChronicDiseases', 'leFrequentFlyer', 'leEverTravelledAbroad']])\n",
        "y = np.array(data[['TravelInsurance']])"
      ],
      "metadata": {
        "id": "YFGuadnYgECm"
      },
      "execution_count": 16,
      "outputs": []
    },
    {
      "cell_type": "code",
      "source": [
        "xtrain, xtest, ytrain, ytest = train_test_split(x, y, test_size=0.2)\n",
        "xtrain.shape, xtest.shape, ytrain.shape, ytest.shape"
      ],
      "metadata": {
        "colab": {
          "base_uri": "https://localhost:8080/"
        },
        "id": "yLz6k5htgdFz",
        "outputId": "d05a1fb2-b89c-4869-d3ac-207397a60b7d"
      },
      "execution_count": 17,
      "outputs": [
        {
          "output_type": "execute_result",
          "data": {
            "text/plain": [
              "((1589, 7), (398, 7), (1589, 1), (398, 1))"
            ]
          },
          "metadata": {},
          "execution_count": 17
        }
      ]
    },
    {
      "cell_type": "code",
      "source": [
        "model = DecisionTreeClassifier()\n",
        "model.fit(xtrain, ytrain)\n",
        "pred = model.predict(xtest)"
      ],
      "metadata": {
        "id": "uKl9R4aygjgA"
      },
      "execution_count": 18,
      "outputs": []
    },
    {
      "cell_type": "code",
      "source": [
        "pred"
      ],
      "metadata": {
        "colab": {
          "base_uri": "https://localhost:8080/"
        },
        "id": "etvq9U49grIK",
        "outputId": "5aa8e902-e8aa-48f9-84c8-ada6962f0f4d"
      },
      "execution_count": 19,
      "outputs": [
        {
          "output_type": "execute_result",
          "data": {
            "text/plain": [
              "array(['Not Purchased', 'Purchased', 'Not Purchased', 'Purchased',\n",
              "       'Purchased', 'Not Purchased', 'Not Purchased', 'Not Purchased',\n",
              "       'Not Purchased', 'Purchased', 'Not Purchased', 'Not Purchased',\n",
              "       'Not Purchased', 'Not Purchased', 'Not Purchased', 'Not Purchased',\n",
              "       'Not Purchased', 'Not Purchased', 'Not Purchased', 'Not Purchased',\n",
              "       'Purchased', 'Not Purchased', 'Not Purchased', 'Not Purchased',\n",
              "       'Not Purchased', 'Not Purchased', 'Not Purchased', 'Not Purchased',\n",
              "       'Not Purchased', 'Purchased', 'Not Purchased', 'Not Purchased',\n",
              "       'Not Purchased', 'Purchased', 'Purchased', 'Purchased',\n",
              "       'Not Purchased', 'Purchased', 'Not Purchased', 'Purchased',\n",
              "       'Not Purchased', 'Not Purchased', 'Not Purchased', 'Not Purchased',\n",
              "       'Not Purchased', 'Not Purchased', 'Not Purchased', 'Not Purchased',\n",
              "       'Not Purchased', 'Not Purchased', 'Not Purchased', 'Not Purchased',\n",
              "       'Not Purchased', 'Not Purchased', 'Not Purchased', 'Not Purchased',\n",
              "       'Not Purchased', 'Not Purchased', 'Purchased', 'Purchased',\n",
              "       'Not Purchased', 'Purchased', 'Not Purchased', 'Not Purchased',\n",
              "       'Not Purchased', 'Purchased', 'Not Purchased', 'Not Purchased',\n",
              "       'Not Purchased', 'Not Purchased', 'Purchased', 'Not Purchased',\n",
              "       'Purchased', 'Not Purchased', 'Not Purchased', 'Not Purchased',\n",
              "       'Not Purchased', 'Not Purchased', 'Not Purchased', 'Not Purchased',\n",
              "       'Not Purchased', 'Purchased', 'Not Purchased', 'Not Purchased',\n",
              "       'Not Purchased', 'Not Purchased', 'Purchased', 'Not Purchased',\n",
              "       'Not Purchased', 'Not Purchased', 'Not Purchased', 'Purchased',\n",
              "       'Not Purchased', 'Not Purchased', 'Not Purchased', 'Purchased',\n",
              "       'Not Purchased', 'Not Purchased', 'Not Purchased', 'Purchased',\n",
              "       'Not Purchased', 'Not Purchased', 'Not Purchased', 'Not Purchased',\n",
              "       'Not Purchased', 'Not Purchased', 'Purchased', 'Purchased',\n",
              "       'Not Purchased', 'Not Purchased', 'Not Purchased', 'Not Purchased',\n",
              "       'Not Purchased', 'Not Purchased', 'Not Purchased', 'Purchased',\n",
              "       'Not Purchased', 'Purchased', 'Purchased', 'Purchased',\n",
              "       'Not Purchased', 'Not Purchased', 'Not Purchased', 'Purchased',\n",
              "       'Not Purchased', 'Not Purchased', 'Not Purchased', 'Not Purchased',\n",
              "       'Purchased', 'Not Purchased', 'Not Purchased', 'Not Purchased',\n",
              "       'Purchased', 'Not Purchased', 'Not Purchased', 'Purchased',\n",
              "       'Not Purchased', 'Not Purchased', 'Purchased', 'Not Purchased',\n",
              "       'Purchased', 'Not Purchased', 'Not Purchased', 'Purchased',\n",
              "       'Not Purchased', 'Not Purchased', 'Not Purchased', 'Not Purchased',\n",
              "       'Not Purchased', 'Purchased', 'Purchased', 'Not Purchased',\n",
              "       'Not Purchased', 'Not Purchased', 'Not Purchased', 'Not Purchased',\n",
              "       'Not Purchased', 'Not Purchased', 'Purchased', 'Not Purchased',\n",
              "       'Not Purchased', 'Not Purchased', 'Not Purchased', 'Not Purchased',\n",
              "       'Not Purchased', 'Not Purchased', 'Purchased', 'Purchased',\n",
              "       'Not Purchased', 'Not Purchased', 'Not Purchased', 'Not Purchased',\n",
              "       'Not Purchased', 'Purchased', 'Not Purchased', 'Not Purchased',\n",
              "       'Not Purchased', 'Not Purchased', 'Not Purchased', 'Purchased',\n",
              "       'Not Purchased', 'Purchased', 'Not Purchased', 'Purchased',\n",
              "       'Not Purchased', 'Not Purchased', 'Purchased', 'Purchased',\n",
              "       'Not Purchased', 'Purchased', 'Purchased', 'Not Purchased',\n",
              "       'Not Purchased', 'Not Purchased', 'Purchased', 'Purchased',\n",
              "       'Purchased', 'Not Purchased', 'Not Purchased', 'Not Purchased',\n",
              "       'Not Purchased', 'Not Purchased', 'Not Purchased', 'Not Purchased',\n",
              "       'Not Purchased', 'Not Purchased', 'Purchased', 'Not Purchased',\n",
              "       'Purchased', 'Purchased', 'Purchased', 'Not Purchased',\n",
              "       'Not Purchased', 'Not Purchased', 'Not Purchased', 'Not Purchased',\n",
              "       'Not Purchased', 'Not Purchased', 'Purchased', 'Not Purchased',\n",
              "       'Purchased', 'Purchased', 'Not Purchased', 'Not Purchased',\n",
              "       'Not Purchased', 'Purchased', 'Not Purchased', 'Not Purchased',\n",
              "       'Not Purchased', 'Not Purchased', 'Purchased', 'Purchased',\n",
              "       'Not Purchased', 'Not Purchased', 'Purchased', 'Not Purchased',\n",
              "       'Purchased', 'Not Purchased', 'Not Purchased', 'Purchased',\n",
              "       'Not Purchased', 'Not Purchased', 'Not Purchased', 'Purchased',\n",
              "       'Not Purchased', 'Not Purchased', 'Not Purchased', 'Not Purchased',\n",
              "       'Not Purchased', 'Purchased', 'Not Purchased', 'Not Purchased',\n",
              "       'Purchased', 'Not Purchased', 'Not Purchased', 'Not Purchased',\n",
              "       'Not Purchased', 'Purchased', 'Not Purchased', 'Not Purchased',\n",
              "       'Purchased', 'Purchased', 'Not Purchased', 'Purchased',\n",
              "       'Not Purchased', 'Not Purchased', 'Purchased', 'Not Purchased',\n",
              "       'Not Purchased', 'Not Purchased', 'Purchased', 'Purchased',\n",
              "       'Purchased', 'Purchased', 'Purchased', 'Not Purchased',\n",
              "       'Not Purchased', 'Not Purchased', 'Not Purchased', 'Not Purchased',\n",
              "       'Not Purchased', 'Not Purchased', 'Not Purchased', 'Not Purchased',\n",
              "       'Not Purchased', 'Not Purchased', 'Purchased', 'Purchased',\n",
              "       'Not Purchased', 'Not Purchased', 'Purchased', 'Not Purchased',\n",
              "       'Purchased', 'Not Purchased', 'Purchased', 'Purchased',\n",
              "       'Not Purchased', 'Not Purchased', 'Not Purchased', 'Purchased',\n",
              "       'Not Purchased', 'Not Purchased', 'Not Purchased', 'Purchased',\n",
              "       'Purchased', 'Not Purchased', 'Not Purchased', 'Purchased',\n",
              "       'Purchased', 'Purchased', 'Not Purchased', 'Not Purchased',\n",
              "       'Purchased', 'Not Purchased', 'Not Purchased', 'Not Purchased',\n",
              "       'Purchased', 'Not Purchased', 'Not Purchased', 'Not Purchased',\n",
              "       'Not Purchased', 'Not Purchased', 'Not Purchased', 'Purchased',\n",
              "       'Not Purchased', 'Not Purchased', 'Not Purchased', 'Not Purchased',\n",
              "       'Not Purchased', 'Purchased', 'Not Purchased', 'Not Purchased',\n",
              "       'Purchased', 'Not Purchased', 'Not Purchased', 'Not Purchased',\n",
              "       'Not Purchased', 'Not Purchased', 'Purchased', 'Not Purchased',\n",
              "       'Not Purchased', 'Not Purchased', 'Not Purchased', 'Not Purchased',\n",
              "       'Not Purchased', 'Not Purchased', 'Not Purchased', 'Not Purchased',\n",
              "       'Not Purchased', 'Not Purchased', 'Not Purchased', 'Purchased',\n",
              "       'Not Purchased', 'Not Purchased', 'Not Purchased', 'Not Purchased',\n",
              "       'Not Purchased', 'Not Purchased', 'Not Purchased', 'Purchased',\n",
              "       'Purchased', 'Not Purchased', 'Not Purchased', 'Purchased',\n",
              "       'Not Purchased', 'Not Purchased', 'Not Purchased', 'Not Purchased',\n",
              "       'Purchased', 'Not Purchased', 'Not Purchased', 'Not Purchased',\n",
              "       'Not Purchased', 'Not Purchased', 'Not Purchased', 'Not Purchased',\n",
              "       'Not Purchased', 'Not Purchased', 'Not Purchased', 'Not Purchased',\n",
              "       'Purchased', 'Not Purchased', 'Not Purchased', 'Purchased',\n",
              "       'Purchased', 'Purchased', 'Not Purchased', 'Not Purchased',\n",
              "       'Not Purchased', 'Purchased', 'Not Purchased', 'Purchased',\n",
              "       'Not Purchased', 'Not Purchased', 'Purchased', 'Not Purchased',\n",
              "       'Not Purchased', 'Not Purchased'], dtype=object)"
            ]
          },
          "metadata": {},
          "execution_count": 19
        }
      ]
    },
    {
      "cell_type": "code",
      "source": [],
      "metadata": {
        "id": "tHJzkzTbhLIK"
      },
      "execution_count": null,
      "outputs": []
    }
  ]
}