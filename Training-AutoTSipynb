{
  "nbformat": 4,
  "nbformat_minor": 0,
  "metadata": {
    "colab": {
      "name": "AutoTS-Training.ipynb",
      "provenance": [],
      "collapsed_sections": [],
      "authorship_tag": "ABX9TyM1uqXBlgb2LuDM3uLrIzSb",
      "include_colab_link": true
    },
    "kernelspec": {
      "name": "python3",
      "display_name": "Python 3"
    },
    "language_info": {
      "name": "python"
    }
  },
  "cells": [
    {
      "cell_type": "markdown",
      "metadata": {
        "id": "view-in-github",
        "colab_type": "text"
      },
      "source": [
        "<a href=\"https://colab.research.google.com/github/JoaquinGonzalezSimon/Data_science_and_ML_from_Medium/blob/main/AutoTS_Training.ipynb\" target=\"_parent\"><img src=\"https://colab.research.google.com/assets/colab-badge.svg\" alt=\"Open In Colab\"/></a>"
      ]
    },
    {
      "cell_type": "markdown",
      "source": [
        "# AutoTS training\n",
        "https://thecleverprogrammer.com/2021/04/19/autots-in-python-tutorial/"
      ],
      "metadata": {
        "id": "lsPo88rRMMfK"
      }
    },
    {
      "cell_type": "code",
      "source": [
        "pip install yfinance"
      ],
      "metadata": {
        "colab": {
          "base_uri": "https://localhost:8080/"
        },
        "id": "U4RO36hVMbuh",
        "outputId": "db712a7b-db6b-4eaf-e4c2-6cec0ed35118"
      },
      "execution_count": 1,
      "outputs": [
        {
          "output_type": "stream",
          "name": "stdout",
          "text": [
            "Looking in indexes: https://pypi.org/simple, https://us-python.pkg.dev/colab-wheels/public/simple/\n",
            "Collecting yfinance\n",
            "  Downloading yfinance-0.1.70-py2.py3-none-any.whl (26 kB)\n",
            "Requirement already satisfied: numpy>=1.15 in /usr/local/lib/python3.7/dist-packages (from yfinance) (1.21.6)\n",
            "Requirement already satisfied: multitasking>=0.0.7 in /usr/local/lib/python3.7/dist-packages (from yfinance) (0.0.10)\n",
            "Collecting requests>=2.26\n",
            "  Downloading requests-2.27.1-py2.py3-none-any.whl (63 kB)\n",
            "\u001b[K     |████████████████████████████████| 63 kB 143 kB/s \n",
            "\u001b[?25hCollecting lxml>=4.5.1\n",
            "  Downloading lxml-4.9.0-cp37-cp37m-manylinux_2_17_x86_64.manylinux2014_x86_64.manylinux_2_24_x86_64.whl (6.4 MB)\n",
            "\u001b[K     |████████████████████████████████| 6.4 MB 11.6 MB/s \n",
            "\u001b[?25hRequirement already satisfied: pandas>=0.24.0 in /usr/local/lib/python3.7/dist-packages (from yfinance) (1.3.5)\n",
            "Requirement already satisfied: pytz>=2017.3 in /usr/local/lib/python3.7/dist-packages (from pandas>=0.24.0->yfinance) (2022.1)\n",
            "Requirement already satisfied: python-dateutil>=2.7.3 in /usr/local/lib/python3.7/dist-packages (from pandas>=0.24.0->yfinance) (2.8.2)\n",
            "Requirement already satisfied: six>=1.5 in /usr/local/lib/python3.7/dist-packages (from python-dateutil>=2.7.3->pandas>=0.24.0->yfinance) (1.15.0)\n",
            "Requirement already satisfied: certifi>=2017.4.17 in /usr/local/lib/python3.7/dist-packages (from requests>=2.26->yfinance) (2022.5.18.1)\n",
            "Requirement already satisfied: charset-normalizer~=2.0.0 in /usr/local/lib/python3.7/dist-packages (from requests>=2.26->yfinance) (2.0.12)\n",
            "Requirement already satisfied: idna<4,>=2.5 in /usr/local/lib/python3.7/dist-packages (from requests>=2.26->yfinance) (2.10)\n",
            "Requirement already satisfied: urllib3<1.27,>=1.21.1 in /usr/local/lib/python3.7/dist-packages (from requests>=2.26->yfinance) (1.24.3)\n",
            "Installing collected packages: requests, lxml, yfinance\n",
            "  Attempting uninstall: requests\n",
            "    Found existing installation: requests 2.23.0\n",
            "    Uninstalling requests-2.23.0:\n",
            "      Successfully uninstalled requests-2.23.0\n",
            "  Attempting uninstall: lxml\n",
            "    Found existing installation: lxml 4.2.6\n",
            "    Uninstalling lxml-4.2.6:\n",
            "      Successfully uninstalled lxml-4.2.6\n",
            "\u001b[31mERROR: pip's dependency resolver does not currently take into account all the packages that are installed. This behaviour is the source of the following dependency conflicts.\n",
            "google-colab 1.0.0 requires requests~=2.23.0, but you have requests 2.27.1 which is incompatible.\n",
            "datascience 0.10.6 requires folium==0.2.1, but you have folium 0.8.3 which is incompatible.\u001b[0m\n",
            "Successfully installed lxml-4.9.0 requests-2.27.1 yfinance-0.1.70\n"
          ]
        }
      ]
    },
    {
      "cell_type": "code",
      "source": [
        "import pandas as pd\n",
        "import matplotlib.pyplot as plt\n",
        "import yfinance as yf"
      ],
      "metadata": {
        "id": "VWZ35uWHMSHp"
      },
      "execution_count": 2,
      "outputs": []
    },
    {
      "cell_type": "code",
      "source": [
        "import datetime\n",
        "from datetime import date, timedelta"
      ],
      "metadata": {
        "id": "MEE4VN48MnZ6"
      },
      "execution_count": 3,
      "outputs": []
    },
    {
      "cell_type": "code",
      "source": [
        "end_date = date.today().strftime('%Y-%m-%d')\n",
        "end_date"
      ],
      "metadata": {
        "colab": {
          "base_uri": "https://localhost:8080/",
          "height": 36
        },
        "id": "WnXjJWZ5Mh7Z",
        "outputId": "c1b4e8f7-8cf9-4792-cc60-7800efac323b"
      },
      "execution_count": 7,
      "outputs": [
        {
          "output_type": "execute_result",
          "data": {
            "text/plain": [
              "'2022-06-02'"
            ],
            "application/vnd.google.colaboratory.intrinsic+json": {
              "type": "string"
            }
          },
          "metadata": {},
          "execution_count": 7
        }
      ]
    },
    {
      "cell_type": "code",
      "source": [
        "start_date = date.today() - timedelta(days=730)\n",
        "start_date = start_date.strftime('%Y-%m-%d')\n",
        "start_date"
      ],
      "metadata": {
        "colab": {
          "base_uri": "https://localhost:8080/",
          "height": 36
        },
        "id": "f9ka8Vc8MwiJ",
        "outputId": "0361ced6-8115-4116-8522-69b6acc64e7f"
      },
      "execution_count": 8,
      "outputs": [
        {
          "output_type": "execute_result",
          "data": {
            "text/plain": [
              "'2020-06-02'"
            ],
            "application/vnd.google.colaboratory.intrinsic+json": {
              "type": "string"
            }
          },
          "metadata": {},
          "execution_count": 8
        }
      ]
    },
    {
      "cell_type": "code",
      "source": [
        "data = yf.download('AAPL', start=start_date, end=end_date, progress=True)"
      ],
      "metadata": {
        "colab": {
          "base_uri": "https://localhost:8080/"
        },
        "id": "2a9LaNo8M95T",
        "outputId": "388e344f-429a-4ea6-f715-5a53873560ba"
      },
      "execution_count": 9,
      "outputs": [
        {
          "output_type": "stream",
          "name": "stdout",
          "text": [
            "\r[*********************100%***********************]  1 of 1 completed\n"
          ]
        }
      ]
    },
    {
      "cell_type": "code",
      "source": [
        "data.head()"
      ],
      "metadata": {
        "colab": {
          "base_uri": "https://localhost:8080/",
          "height": 237
        },
        "id": "mkf_WbEjNKKt",
        "outputId": "75e964a1-a22f-4b10-e5ef-b347d52a31b3"
      },
      "execution_count": 10,
      "outputs": [
        {
          "output_type": "execute_result",
          "data": {
            "text/plain": [
              "                 Open       High        Low      Close  Adj Close     Volume\n",
              "Date                                                                        \n",
              "2020-06-02  80.187500  80.860001  79.732498  80.834999  79.837837   87642800\n",
              "2020-06-03  81.165001  81.550003  80.574997  81.279999  80.277344  104491200\n",
              "2020-06-04  81.097504  81.404999  80.195000  80.580002  79.585991   87560400\n",
              "2020-06-05  80.837502  82.937500  80.807503  82.875000  81.852669  137250400\n",
              "2020-06-08  82.562500  83.400002  81.830002  83.364998  82.336624   95654400"
            ],
            "text/html": [
              "\n",
              "  <div id=\"df-282f20c6-dccb-4991-a5d6-d16a0f5a48d8\">\n",
              "    <div class=\"colab-df-container\">\n",
              "      <div>\n",
              "<style scoped>\n",
              "    .dataframe tbody tr th:only-of-type {\n",
              "        vertical-align: middle;\n",
              "    }\n",
              "\n",
              "    .dataframe tbody tr th {\n",
              "        vertical-align: top;\n",
              "    }\n",
              "\n",
              "    .dataframe thead th {\n",
              "        text-align: right;\n",
              "    }\n",
              "</style>\n",
              "<table border=\"1\" class=\"dataframe\">\n",
              "  <thead>\n",
              "    <tr style=\"text-align: right;\">\n",
              "      <th></th>\n",
              "      <th>Open</th>\n",
              "      <th>High</th>\n",
              "      <th>Low</th>\n",
              "      <th>Close</th>\n",
              "      <th>Adj Close</th>\n",
              "      <th>Volume</th>\n",
              "    </tr>\n",
              "    <tr>\n",
              "      <th>Date</th>\n",
              "      <th></th>\n",
              "      <th></th>\n",
              "      <th></th>\n",
              "      <th></th>\n",
              "      <th></th>\n",
              "      <th></th>\n",
              "    </tr>\n",
              "  </thead>\n",
              "  <tbody>\n",
              "    <tr>\n",
              "      <th>2020-06-02</th>\n",
              "      <td>80.187500</td>\n",
              "      <td>80.860001</td>\n",
              "      <td>79.732498</td>\n",
              "      <td>80.834999</td>\n",
              "      <td>79.837837</td>\n",
              "      <td>87642800</td>\n",
              "    </tr>\n",
              "    <tr>\n",
              "      <th>2020-06-03</th>\n",
              "      <td>81.165001</td>\n",
              "      <td>81.550003</td>\n",
              "      <td>80.574997</td>\n",
              "      <td>81.279999</td>\n",
              "      <td>80.277344</td>\n",
              "      <td>104491200</td>\n",
              "    </tr>\n",
              "    <tr>\n",
              "      <th>2020-06-04</th>\n",
              "      <td>81.097504</td>\n",
              "      <td>81.404999</td>\n",
              "      <td>80.195000</td>\n",
              "      <td>80.580002</td>\n",
              "      <td>79.585991</td>\n",
              "      <td>87560400</td>\n",
              "    </tr>\n",
              "    <tr>\n",
              "      <th>2020-06-05</th>\n",
              "      <td>80.837502</td>\n",
              "      <td>82.937500</td>\n",
              "      <td>80.807503</td>\n",
              "      <td>82.875000</td>\n",
              "      <td>81.852669</td>\n",
              "      <td>137250400</td>\n",
              "    </tr>\n",
              "    <tr>\n",
              "      <th>2020-06-08</th>\n",
              "      <td>82.562500</td>\n",
              "      <td>83.400002</td>\n",
              "      <td>81.830002</td>\n",
              "      <td>83.364998</td>\n",
              "      <td>82.336624</td>\n",
              "      <td>95654400</td>\n",
              "    </tr>\n",
              "  </tbody>\n",
              "</table>\n",
              "</div>\n",
              "      <button class=\"colab-df-convert\" onclick=\"convertToInteractive('df-282f20c6-dccb-4991-a5d6-d16a0f5a48d8')\"\n",
              "              title=\"Convert this dataframe to an interactive table.\"\n",
              "              style=\"display:none;\">\n",
              "        \n",
              "  <svg xmlns=\"http://www.w3.org/2000/svg\" height=\"24px\"viewBox=\"0 0 24 24\"\n",
              "       width=\"24px\">\n",
              "    <path d=\"M0 0h24v24H0V0z\" fill=\"none\"/>\n",
              "    <path d=\"M18.56 5.44l.94 2.06.94-2.06 2.06-.94-2.06-.94-.94-2.06-.94 2.06-2.06.94zm-11 1L8.5 8.5l.94-2.06 2.06-.94-2.06-.94L8.5 2.5l-.94 2.06-2.06.94zm10 10l.94 2.06.94-2.06 2.06-.94-2.06-.94-.94-2.06-.94 2.06-2.06.94z\"/><path d=\"M17.41 7.96l-1.37-1.37c-.4-.4-.92-.59-1.43-.59-.52 0-1.04.2-1.43.59L10.3 9.45l-7.72 7.72c-.78.78-.78 2.05 0 2.83L4 21.41c.39.39.9.59 1.41.59.51 0 1.02-.2 1.41-.59l7.78-7.78 2.81-2.81c.8-.78.8-2.07 0-2.86zM5.41 20L4 18.59l7.72-7.72 1.47 1.35L5.41 20z\"/>\n",
              "  </svg>\n",
              "      </button>\n",
              "      \n",
              "  <style>\n",
              "    .colab-df-container {\n",
              "      display:flex;\n",
              "      flex-wrap:wrap;\n",
              "      gap: 12px;\n",
              "    }\n",
              "\n",
              "    .colab-df-convert {\n",
              "      background-color: #E8F0FE;\n",
              "      border: none;\n",
              "      border-radius: 50%;\n",
              "      cursor: pointer;\n",
              "      display: none;\n",
              "      fill: #1967D2;\n",
              "      height: 32px;\n",
              "      padding: 0 0 0 0;\n",
              "      width: 32px;\n",
              "    }\n",
              "\n",
              "    .colab-df-convert:hover {\n",
              "      background-color: #E2EBFA;\n",
              "      box-shadow: 0px 1px 2px rgba(60, 64, 67, 0.3), 0px 1px 3px 1px rgba(60, 64, 67, 0.15);\n",
              "      fill: #174EA6;\n",
              "    }\n",
              "\n",
              "    [theme=dark] .colab-df-convert {\n",
              "      background-color: #3B4455;\n",
              "      fill: #D2E3FC;\n",
              "    }\n",
              "\n",
              "    [theme=dark] .colab-df-convert:hover {\n",
              "      background-color: #434B5C;\n",
              "      box-shadow: 0px 1px 3px 1px rgba(0, 0, 0, 0.15);\n",
              "      filter: drop-shadow(0px 1px 2px rgba(0, 0, 0, 0.3));\n",
              "      fill: #FFFFFF;\n",
              "    }\n",
              "  </style>\n",
              "\n",
              "      <script>\n",
              "        const buttonEl =\n",
              "          document.querySelector('#df-282f20c6-dccb-4991-a5d6-d16a0f5a48d8 button.colab-df-convert');\n",
              "        buttonEl.style.display =\n",
              "          google.colab.kernel.accessAllowed ? 'block' : 'none';\n",
              "\n",
              "        async function convertToInteractive(key) {\n",
              "          const element = document.querySelector('#df-282f20c6-dccb-4991-a5d6-d16a0f5a48d8');\n",
              "          const dataTable =\n",
              "            await google.colab.kernel.invokeFunction('convertToInteractive',\n",
              "                                                     [key], {});\n",
              "          if (!dataTable) return;\n",
              "\n",
              "          const docLinkHtml = 'Like what you see? Visit the ' +\n",
              "            '<a target=\"_blank\" href=https://colab.research.google.com/notebooks/data_table.ipynb>data table notebook</a>'\n",
              "            + ' to learn more about interactive tables.';\n",
              "          element.innerHTML = '';\n",
              "          dataTable['output_type'] = 'display_data';\n",
              "          await google.colab.output.renderOutput(dataTable, element);\n",
              "          const docLink = document.createElement('div');\n",
              "          docLink.innerHTML = docLinkHtml;\n",
              "          element.appendChild(docLink);\n",
              "        }\n",
              "      </script>\n",
              "    </div>\n",
              "  </div>\n",
              "  "
            ]
          },
          "metadata": {},
          "execution_count": 10
        }
      ]
    },
    {
      "cell_type": "code",
      "source": [
        "data['Date'] = data.index\n",
        "data.reset_index(drop=True, inplace=True)\n",
        "data.head()"
      ],
      "metadata": {
        "colab": {
          "base_uri": "https://localhost:8080/",
          "height": 206
        },
        "id": "QPbl5FuPNXTb",
        "outputId": "add6fa73-de03-4812-a018-de7cddebd6cf"
      },
      "execution_count": 12,
      "outputs": [
        {
          "output_type": "execute_result",
          "data": {
            "text/plain": [
              "        Open       High        Low      Close  Adj Close     Volume       Date\n",
              "0  80.187500  80.860001  79.732498  80.834999  79.837837   87642800 2020-06-02\n",
              "1  81.165001  81.550003  80.574997  81.279999  80.277344  104491200 2020-06-03\n",
              "2  81.097504  81.404999  80.195000  80.580002  79.585991   87560400 2020-06-04\n",
              "3  80.837502  82.937500  80.807503  82.875000  81.852669  137250400 2020-06-05\n",
              "4  82.562500  83.400002  81.830002  83.364998  82.336624   95654400 2020-06-08"
            ],
            "text/html": [
              "\n",
              "  <div id=\"df-0f4f8c56-f77a-4420-8222-defd31ab643a\">\n",
              "    <div class=\"colab-df-container\">\n",
              "      <div>\n",
              "<style scoped>\n",
              "    .dataframe tbody tr th:only-of-type {\n",
              "        vertical-align: middle;\n",
              "    }\n",
              "\n",
              "    .dataframe tbody tr th {\n",
              "        vertical-align: top;\n",
              "    }\n",
              "\n",
              "    .dataframe thead th {\n",
              "        text-align: right;\n",
              "    }\n",
              "</style>\n",
              "<table border=\"1\" class=\"dataframe\">\n",
              "  <thead>\n",
              "    <tr style=\"text-align: right;\">\n",
              "      <th></th>\n",
              "      <th>Open</th>\n",
              "      <th>High</th>\n",
              "      <th>Low</th>\n",
              "      <th>Close</th>\n",
              "      <th>Adj Close</th>\n",
              "      <th>Volume</th>\n",
              "      <th>Date</th>\n",
              "    </tr>\n",
              "  </thead>\n",
              "  <tbody>\n",
              "    <tr>\n",
              "      <th>0</th>\n",
              "      <td>80.187500</td>\n",
              "      <td>80.860001</td>\n",
              "      <td>79.732498</td>\n",
              "      <td>80.834999</td>\n",
              "      <td>79.837837</td>\n",
              "      <td>87642800</td>\n",
              "      <td>2020-06-02</td>\n",
              "    </tr>\n",
              "    <tr>\n",
              "      <th>1</th>\n",
              "      <td>81.165001</td>\n",
              "      <td>81.550003</td>\n",
              "      <td>80.574997</td>\n",
              "      <td>81.279999</td>\n",
              "      <td>80.277344</td>\n",
              "      <td>104491200</td>\n",
              "      <td>2020-06-03</td>\n",
              "    </tr>\n",
              "    <tr>\n",
              "      <th>2</th>\n",
              "      <td>81.097504</td>\n",
              "      <td>81.404999</td>\n",
              "      <td>80.195000</td>\n",
              "      <td>80.580002</td>\n",
              "      <td>79.585991</td>\n",
              "      <td>87560400</td>\n",
              "      <td>2020-06-04</td>\n",
              "    </tr>\n",
              "    <tr>\n",
              "      <th>3</th>\n",
              "      <td>80.837502</td>\n",
              "      <td>82.937500</td>\n",
              "      <td>80.807503</td>\n",
              "      <td>82.875000</td>\n",
              "      <td>81.852669</td>\n",
              "      <td>137250400</td>\n",
              "      <td>2020-06-05</td>\n",
              "    </tr>\n",
              "    <tr>\n",
              "      <th>4</th>\n",
              "      <td>82.562500</td>\n",
              "      <td>83.400002</td>\n",
              "      <td>81.830002</td>\n",
              "      <td>83.364998</td>\n",
              "      <td>82.336624</td>\n",
              "      <td>95654400</td>\n",
              "      <td>2020-06-08</td>\n",
              "    </tr>\n",
              "  </tbody>\n",
              "</table>\n",
              "</div>\n",
              "      <button class=\"colab-df-convert\" onclick=\"convertToInteractive('df-0f4f8c56-f77a-4420-8222-defd31ab643a')\"\n",
              "              title=\"Convert this dataframe to an interactive table.\"\n",
              "              style=\"display:none;\">\n",
              "        \n",
              "  <svg xmlns=\"http://www.w3.org/2000/svg\" height=\"24px\"viewBox=\"0 0 24 24\"\n",
              "       width=\"24px\">\n",
              "    <path d=\"M0 0h24v24H0V0z\" fill=\"none\"/>\n",
              "    <path d=\"M18.56 5.44l.94 2.06.94-2.06 2.06-.94-2.06-.94-.94-2.06-.94 2.06-2.06.94zm-11 1L8.5 8.5l.94-2.06 2.06-.94-2.06-.94L8.5 2.5l-.94 2.06-2.06.94zm10 10l.94 2.06.94-2.06 2.06-.94-2.06-.94-.94-2.06-.94 2.06-2.06.94z\"/><path d=\"M17.41 7.96l-1.37-1.37c-.4-.4-.92-.59-1.43-.59-.52 0-1.04.2-1.43.59L10.3 9.45l-7.72 7.72c-.78.78-.78 2.05 0 2.83L4 21.41c.39.39.9.59 1.41.59.51 0 1.02-.2 1.41-.59l7.78-7.78 2.81-2.81c.8-.78.8-2.07 0-2.86zM5.41 20L4 18.59l7.72-7.72 1.47 1.35L5.41 20z\"/>\n",
              "  </svg>\n",
              "      </button>\n",
              "      \n",
              "  <style>\n",
              "    .colab-df-container {\n",
              "      display:flex;\n",
              "      flex-wrap:wrap;\n",
              "      gap: 12px;\n",
              "    }\n",
              "\n",
              "    .colab-df-convert {\n",
              "      background-color: #E8F0FE;\n",
              "      border: none;\n",
              "      border-radius: 50%;\n",
              "      cursor: pointer;\n",
              "      display: none;\n",
              "      fill: #1967D2;\n",
              "      height: 32px;\n",
              "      padding: 0 0 0 0;\n",
              "      width: 32px;\n",
              "    }\n",
              "\n",
              "    .colab-df-convert:hover {\n",
              "      background-color: #E2EBFA;\n",
              "      box-shadow: 0px 1px 2px rgba(60, 64, 67, 0.3), 0px 1px 3px 1px rgba(60, 64, 67, 0.15);\n",
              "      fill: #174EA6;\n",
              "    }\n",
              "\n",
              "    [theme=dark] .colab-df-convert {\n",
              "      background-color: #3B4455;\n",
              "      fill: #D2E3FC;\n",
              "    }\n",
              "\n",
              "    [theme=dark] .colab-df-convert:hover {\n",
              "      background-color: #434B5C;\n",
              "      box-shadow: 0px 1px 3px 1px rgba(0, 0, 0, 0.15);\n",
              "      filter: drop-shadow(0px 1px 2px rgba(0, 0, 0, 0.3));\n",
              "      fill: #FFFFFF;\n",
              "    }\n",
              "  </style>\n",
              "\n",
              "      <script>\n",
              "        const buttonEl =\n",
              "          document.querySelector('#df-0f4f8c56-f77a-4420-8222-defd31ab643a button.colab-df-convert');\n",
              "        buttonEl.style.display =\n",
              "          google.colab.kernel.accessAllowed ? 'block' : 'none';\n",
              "\n",
              "        async function convertToInteractive(key) {\n",
              "          const element = document.querySelector('#df-0f4f8c56-f77a-4420-8222-defd31ab643a');\n",
              "          const dataTable =\n",
              "            await google.colab.kernel.invokeFunction('convertToInteractive',\n",
              "                                                     [key], {});\n",
              "          if (!dataTable) return;\n",
              "\n",
              "          const docLinkHtml = 'Like what you see? Visit the ' +\n",
              "            '<a target=\"_blank\" href=https://colab.research.google.com/notebooks/data_table.ipynb>data table notebook</a>'\n",
              "            + ' to learn more about interactive tables.';\n",
              "          element.innerHTML = '';\n",
              "          dataTable['output_type'] = 'display_data';\n",
              "          await google.colab.output.renderOutput(dataTable, element);\n",
              "          const docLink = document.createElement('div');\n",
              "          docLink.innerHTML = docLinkHtml;\n",
              "          element.appendChild(docLink);\n",
              "        }\n",
              "      </script>\n",
              "    </div>\n",
              "  </div>\n",
              "  "
            ]
          },
          "metadata": {},
          "execution_count": 12
        }
      ]
    },
    {
      "cell_type": "code",
      "source": [
        "df=data.copy()\n",
        "df.head()"
      ],
      "metadata": {
        "colab": {
          "base_uri": "https://localhost:8080/",
          "height": 206
        },
        "id": "xAbbFLORNgvT",
        "outputId": "8c60b732-5c12-4c3a-f87c-4b3533cacc3c"
      },
      "execution_count": 13,
      "outputs": [
        {
          "output_type": "execute_result",
          "data": {
            "text/plain": [
              "        Open       High        Low      Close  Adj Close     Volume       Date\n",
              "0  80.187500  80.860001  79.732498  80.834999  79.837837   87642800 2020-06-02\n",
              "1  81.165001  81.550003  80.574997  81.279999  80.277344  104491200 2020-06-03\n",
              "2  81.097504  81.404999  80.195000  80.580002  79.585991   87560400 2020-06-04\n",
              "3  80.837502  82.937500  80.807503  82.875000  81.852669  137250400 2020-06-05\n",
              "4  82.562500  83.400002  81.830002  83.364998  82.336624   95654400 2020-06-08"
            ],
            "text/html": [
              "\n",
              "  <div id=\"df-b2078b9b-22d9-4848-b365-83fdc89b37a7\">\n",
              "    <div class=\"colab-df-container\">\n",
              "      <div>\n",
              "<style scoped>\n",
              "    .dataframe tbody tr th:only-of-type {\n",
              "        vertical-align: middle;\n",
              "    }\n",
              "\n",
              "    .dataframe tbody tr th {\n",
              "        vertical-align: top;\n",
              "    }\n",
              "\n",
              "    .dataframe thead th {\n",
              "        text-align: right;\n",
              "    }\n",
              "</style>\n",
              "<table border=\"1\" class=\"dataframe\">\n",
              "  <thead>\n",
              "    <tr style=\"text-align: right;\">\n",
              "      <th></th>\n",
              "      <th>Open</th>\n",
              "      <th>High</th>\n",
              "      <th>Low</th>\n",
              "      <th>Close</th>\n",
              "      <th>Adj Close</th>\n",
              "      <th>Volume</th>\n",
              "      <th>Date</th>\n",
              "    </tr>\n",
              "  </thead>\n",
              "  <tbody>\n",
              "    <tr>\n",
              "      <th>0</th>\n",
              "      <td>80.187500</td>\n",
              "      <td>80.860001</td>\n",
              "      <td>79.732498</td>\n",
              "      <td>80.834999</td>\n",
              "      <td>79.837837</td>\n",
              "      <td>87642800</td>\n",
              "      <td>2020-06-02</td>\n",
              "    </tr>\n",
              "    <tr>\n",
              "      <th>1</th>\n",
              "      <td>81.165001</td>\n",
              "      <td>81.550003</td>\n",
              "      <td>80.574997</td>\n",
              "      <td>81.279999</td>\n",
              "      <td>80.277344</td>\n",
              "      <td>104491200</td>\n",
              "      <td>2020-06-03</td>\n",
              "    </tr>\n",
              "    <tr>\n",
              "      <th>2</th>\n",
              "      <td>81.097504</td>\n",
              "      <td>81.404999</td>\n",
              "      <td>80.195000</td>\n",
              "      <td>80.580002</td>\n",
              "      <td>79.585991</td>\n",
              "      <td>87560400</td>\n",
              "      <td>2020-06-04</td>\n",
              "    </tr>\n",
              "    <tr>\n",
              "      <th>3</th>\n",
              "      <td>80.837502</td>\n",
              "      <td>82.937500</td>\n",
              "      <td>80.807503</td>\n",
              "      <td>82.875000</td>\n",
              "      <td>81.852669</td>\n",
              "      <td>137250400</td>\n",
              "      <td>2020-06-05</td>\n",
              "    </tr>\n",
              "    <tr>\n",
              "      <th>4</th>\n",
              "      <td>82.562500</td>\n",
              "      <td>83.400002</td>\n",
              "      <td>81.830002</td>\n",
              "      <td>83.364998</td>\n",
              "      <td>82.336624</td>\n",
              "      <td>95654400</td>\n",
              "      <td>2020-06-08</td>\n",
              "    </tr>\n",
              "  </tbody>\n",
              "</table>\n",
              "</div>\n",
              "      <button class=\"colab-df-convert\" onclick=\"convertToInteractive('df-b2078b9b-22d9-4848-b365-83fdc89b37a7')\"\n",
              "              title=\"Convert this dataframe to an interactive table.\"\n",
              "              style=\"display:none;\">\n",
              "        \n",
              "  <svg xmlns=\"http://www.w3.org/2000/svg\" height=\"24px\"viewBox=\"0 0 24 24\"\n",
              "       width=\"24px\">\n",
              "    <path d=\"M0 0h24v24H0V0z\" fill=\"none\"/>\n",
              "    <path d=\"M18.56 5.44l.94 2.06.94-2.06 2.06-.94-2.06-.94-.94-2.06-.94 2.06-2.06.94zm-11 1L8.5 8.5l.94-2.06 2.06-.94-2.06-.94L8.5 2.5l-.94 2.06-2.06.94zm10 10l.94 2.06.94-2.06 2.06-.94-2.06-.94-.94-2.06-.94 2.06-2.06.94z\"/><path d=\"M17.41 7.96l-1.37-1.37c-.4-.4-.92-.59-1.43-.59-.52 0-1.04.2-1.43.59L10.3 9.45l-7.72 7.72c-.78.78-.78 2.05 0 2.83L4 21.41c.39.39.9.59 1.41.59.51 0 1.02-.2 1.41-.59l7.78-7.78 2.81-2.81c.8-.78.8-2.07 0-2.86zM5.41 20L4 18.59l7.72-7.72 1.47 1.35L5.41 20z\"/>\n",
              "  </svg>\n",
              "      </button>\n",
              "      \n",
              "  <style>\n",
              "    .colab-df-container {\n",
              "      display:flex;\n",
              "      flex-wrap:wrap;\n",
              "      gap: 12px;\n",
              "    }\n",
              "\n",
              "    .colab-df-convert {\n",
              "      background-color: #E8F0FE;\n",
              "      border: none;\n",
              "      border-radius: 50%;\n",
              "      cursor: pointer;\n",
              "      display: none;\n",
              "      fill: #1967D2;\n",
              "      height: 32px;\n",
              "      padding: 0 0 0 0;\n",
              "      width: 32px;\n",
              "    }\n",
              "\n",
              "    .colab-df-convert:hover {\n",
              "      background-color: #E2EBFA;\n",
              "      box-shadow: 0px 1px 2px rgba(60, 64, 67, 0.3), 0px 1px 3px 1px rgba(60, 64, 67, 0.15);\n",
              "      fill: #174EA6;\n",
              "    }\n",
              "\n",
              "    [theme=dark] .colab-df-convert {\n",
              "      background-color: #3B4455;\n",
              "      fill: #D2E3FC;\n",
              "    }\n",
              "\n",
              "    [theme=dark] .colab-df-convert:hover {\n",
              "      background-color: #434B5C;\n",
              "      box-shadow: 0px 1px 3px 1px rgba(0, 0, 0, 0.15);\n",
              "      filter: drop-shadow(0px 1px 2px rgba(0, 0, 0, 0.3));\n",
              "      fill: #FFFFFF;\n",
              "    }\n",
              "  </style>\n",
              "\n",
              "      <script>\n",
              "        const buttonEl =\n",
              "          document.querySelector('#df-b2078b9b-22d9-4848-b365-83fdc89b37a7 button.colab-df-convert');\n",
              "        buttonEl.style.display =\n",
              "          google.colab.kernel.accessAllowed ? 'block' : 'none';\n",
              "\n",
              "        async function convertToInteractive(key) {\n",
              "          const element = document.querySelector('#df-b2078b9b-22d9-4848-b365-83fdc89b37a7');\n",
              "          const dataTable =\n",
              "            await google.colab.kernel.invokeFunction('convertToInteractive',\n",
              "                                                     [key], {});\n",
              "          if (!dataTable) return;\n",
              "\n",
              "          const docLinkHtml = 'Like what you see? Visit the ' +\n",
              "            '<a target=\"_blank\" href=https://colab.research.google.com/notebooks/data_table.ipynb>data table notebook</a>'\n",
              "            + ' to learn more about interactive tables.';\n",
              "          element.innerHTML = '';\n",
              "          dataTable['output_type'] = 'display_data';\n",
              "          await google.colab.output.renderOutput(dataTable, element);\n",
              "          const docLink = document.createElement('div');\n",
              "          docLink.innerHTML = docLinkHtml;\n",
              "          element.appendChild(docLink);\n",
              "        }\n",
              "      </script>\n",
              "    </div>\n",
              "  </div>\n",
              "  "
            ]
          },
          "metadata": {},
          "execution_count": 13
        }
      ]
    },
    {
      "cell_type": "code",
      "source": [
        "df=df[['Date', 'Close']]\n",
        "df.head()"
      ],
      "metadata": {
        "colab": {
          "base_uri": "https://localhost:8080/",
          "height": 206
        },
        "id": "6PwumWlzNr0k",
        "outputId": "e439ae71-38ee-4ced-a714-13c4d7e1a337"
      },
      "execution_count": 14,
      "outputs": [
        {
          "output_type": "execute_result",
          "data": {
            "text/plain": [
              "        Date      Close\n",
              "0 2020-06-02  80.834999\n",
              "1 2020-06-03  81.279999\n",
              "2 2020-06-04  80.580002\n",
              "3 2020-06-05  82.875000\n",
              "4 2020-06-08  83.364998"
            ],
            "text/html": [
              "\n",
              "  <div id=\"df-84d9a161-39ea-4f0f-93b9-ce494f1367df\">\n",
              "    <div class=\"colab-df-container\">\n",
              "      <div>\n",
              "<style scoped>\n",
              "    .dataframe tbody tr th:only-of-type {\n",
              "        vertical-align: middle;\n",
              "    }\n",
              "\n",
              "    .dataframe tbody tr th {\n",
              "        vertical-align: top;\n",
              "    }\n",
              "\n",
              "    .dataframe thead th {\n",
              "        text-align: right;\n",
              "    }\n",
              "</style>\n",
              "<table border=\"1\" class=\"dataframe\">\n",
              "  <thead>\n",
              "    <tr style=\"text-align: right;\">\n",
              "      <th></th>\n",
              "      <th>Date</th>\n",
              "      <th>Close</th>\n",
              "    </tr>\n",
              "  </thead>\n",
              "  <tbody>\n",
              "    <tr>\n",
              "      <th>0</th>\n",
              "      <td>2020-06-02</td>\n",
              "      <td>80.834999</td>\n",
              "    </tr>\n",
              "    <tr>\n",
              "      <th>1</th>\n",
              "      <td>2020-06-03</td>\n",
              "      <td>81.279999</td>\n",
              "    </tr>\n",
              "    <tr>\n",
              "      <th>2</th>\n",
              "      <td>2020-06-04</td>\n",
              "      <td>80.580002</td>\n",
              "    </tr>\n",
              "    <tr>\n",
              "      <th>3</th>\n",
              "      <td>2020-06-05</td>\n",
              "      <td>82.875000</td>\n",
              "    </tr>\n",
              "    <tr>\n",
              "      <th>4</th>\n",
              "      <td>2020-06-08</td>\n",
              "      <td>83.364998</td>\n",
              "    </tr>\n",
              "  </tbody>\n",
              "</table>\n",
              "</div>\n",
              "      <button class=\"colab-df-convert\" onclick=\"convertToInteractive('df-84d9a161-39ea-4f0f-93b9-ce494f1367df')\"\n",
              "              title=\"Convert this dataframe to an interactive table.\"\n",
              "              style=\"display:none;\">\n",
              "        \n",
              "  <svg xmlns=\"http://www.w3.org/2000/svg\" height=\"24px\"viewBox=\"0 0 24 24\"\n",
              "       width=\"24px\">\n",
              "    <path d=\"M0 0h24v24H0V0z\" fill=\"none\"/>\n",
              "    <path d=\"M18.56 5.44l.94 2.06.94-2.06 2.06-.94-2.06-.94-.94-2.06-.94 2.06-2.06.94zm-11 1L8.5 8.5l.94-2.06 2.06-.94-2.06-.94L8.5 2.5l-.94 2.06-2.06.94zm10 10l.94 2.06.94-2.06 2.06-.94-2.06-.94-.94-2.06-.94 2.06-2.06.94z\"/><path d=\"M17.41 7.96l-1.37-1.37c-.4-.4-.92-.59-1.43-.59-.52 0-1.04.2-1.43.59L10.3 9.45l-7.72 7.72c-.78.78-.78 2.05 0 2.83L4 21.41c.39.39.9.59 1.41.59.51 0 1.02-.2 1.41-.59l7.78-7.78 2.81-2.81c.8-.78.8-2.07 0-2.86zM5.41 20L4 18.59l7.72-7.72 1.47 1.35L5.41 20z\"/>\n",
              "  </svg>\n",
              "      </button>\n",
              "      \n",
              "  <style>\n",
              "    .colab-df-container {\n",
              "      display:flex;\n",
              "      flex-wrap:wrap;\n",
              "      gap: 12px;\n",
              "    }\n",
              "\n",
              "    .colab-df-convert {\n",
              "      background-color: #E8F0FE;\n",
              "      border: none;\n",
              "      border-radius: 50%;\n",
              "      cursor: pointer;\n",
              "      display: none;\n",
              "      fill: #1967D2;\n",
              "      height: 32px;\n",
              "      padding: 0 0 0 0;\n",
              "      width: 32px;\n",
              "    }\n",
              "\n",
              "    .colab-df-convert:hover {\n",
              "      background-color: #E2EBFA;\n",
              "      box-shadow: 0px 1px 2px rgba(60, 64, 67, 0.3), 0px 1px 3px 1px rgba(60, 64, 67, 0.15);\n",
              "      fill: #174EA6;\n",
              "    }\n",
              "\n",
              "    [theme=dark] .colab-df-convert {\n",
              "      background-color: #3B4455;\n",
              "      fill: #D2E3FC;\n",
              "    }\n",
              "\n",
              "    [theme=dark] .colab-df-convert:hover {\n",
              "      background-color: #434B5C;\n",
              "      box-shadow: 0px 1px 3px 1px rgba(0, 0, 0, 0.15);\n",
              "      filter: drop-shadow(0px 1px 2px rgba(0, 0, 0, 0.3));\n",
              "      fill: #FFFFFF;\n",
              "    }\n",
              "  </style>\n",
              "\n",
              "      <script>\n",
              "        const buttonEl =\n",
              "          document.querySelector('#df-84d9a161-39ea-4f0f-93b9-ce494f1367df button.colab-df-convert');\n",
              "        buttonEl.style.display =\n",
              "          google.colab.kernel.accessAllowed ? 'block' : 'none';\n",
              "\n",
              "        async function convertToInteractive(key) {\n",
              "          const element = document.querySelector('#df-84d9a161-39ea-4f0f-93b9-ce494f1367df');\n",
              "          const dataTable =\n",
              "            await google.colab.kernel.invokeFunction('convertToInteractive',\n",
              "                                                     [key], {});\n",
              "          if (!dataTable) return;\n",
              "\n",
              "          const docLinkHtml = 'Like what you see? Visit the ' +\n",
              "            '<a target=\"_blank\" href=https://colab.research.google.com/notebooks/data_table.ipynb>data table notebook</a>'\n",
              "            + ' to learn more about interactive tables.';\n",
              "          element.innerHTML = '';\n",
              "          dataTable['output_type'] = 'display_data';\n",
              "          await google.colab.output.renderOutput(dataTable, element);\n",
              "          const docLink = document.createElement('div');\n",
              "          docLink.innerHTML = docLinkHtml;\n",
              "          element.appendChild(docLink);\n",
              "        }\n",
              "      </script>\n",
              "    </div>\n",
              "  </div>\n",
              "  "
            ]
          },
          "metadata": {},
          "execution_count": 14
        }
      ]
    },
    {
      "cell_type": "code",
      "source": [
        "df.info()"
      ],
      "metadata": {
        "colab": {
          "base_uri": "https://localhost:8080/"
        },
        "id": "e55KspU_Nw37",
        "outputId": "957bc0b6-33e0-4e16-c492-2e4ed6d0bc7f"
      },
      "execution_count": 15,
      "outputs": [
        {
          "output_type": "stream",
          "name": "stdout",
          "text": [
            "<class 'pandas.core.frame.DataFrame'>\n",
            "RangeIndex: 505 entries, 0 to 504\n",
            "Data columns (total 2 columns):\n",
            " #   Column  Non-Null Count  Dtype         \n",
            "---  ------  --------------  -----         \n",
            " 0   Date    505 non-null    datetime64[ns]\n",
            " 1   Close   505 non-null    float64       \n",
            "dtypes: datetime64[ns](1), float64(1)\n",
            "memory usage: 8.0 KB\n"
          ]
        }
      ]
    },
    {
      "cell_type": "code",
      "source": [
        "data.Close.plot(figsize=(15,10), \n",
        "                title='Apple Stock Price', fontsize=20, label='Close Price')\n",
        "plt.legend()\n",
        "plt.grid()\n",
        "plt.show()"
      ],
      "metadata": {
        "colab": {
          "base_uri": "https://localhost:8080/",
          "height": 448
        },
        "id": "HwdMldIlNzJp",
        "outputId": "070430b0-2022-4ae4-90b8-532719fceeb9"
      },
      "execution_count": 19,
      "outputs": [
        {
          "output_type": "display_data",
          "data": {
            "text/plain": [
              "<Figure size 1080x720 with 1 Axes>"
            ],
            "image/png": "[encoded data removed]"
          },
          "metadata": {
            "needs_background": "light"
          }
        }
      ]
    },
    {
      "cell_type": "markdown",
      "source": [
        "### Import AutoTS library"
      ],
      "metadata": {
        "id": "FBs2H5ASOZ3g"
      }
    },
    {
      "cell_type": "code",
      "source": [
        "!pip install autots"
      ],
      "metadata": {
        "colab": {
          "base_uri": "https://localhost:8080/"
        },
        "id": "xb4EifCXOftW",
        "outputId": "88370138-284e-43f8-d13d-d92cb8cc90dc"
      },
      "execution_count": 21,
      "outputs": [
        {
          "output_type": "stream",
          "name": "stdout",
          "text": [
            "Looking in indexes: https://pypi.org/simple, https://us-python.pkg.dev/colab-wheels/public/simple/\n",
            "Collecting autots\n",
            "  Downloading AutoTS-0.4.1-py3-none-any.whl (470 kB)\n",
            "\u001b[K     |████████████████████████████████| 470 kB 5.3 MB/s \n",
            "\u001b[?25hRequirement already satisfied: scikit-learn>=0.20.* in /usr/local/lib/python3.7/dist-packages (from autots) (1.0.2)\n",
            "Requirement already satisfied: statsmodels>=0.10.* in /usr/local/lib/python3.7/dist-packages (from autots) (0.10.2)\n",
            "Requirement already satisfied: numpy>=1.14.6 in /usr/local/lib/python3.7/dist-packages (from autots) (1.21.6)\n",
            "Requirement already satisfied: pandas>=0.25.* in /usr/local/lib/python3.7/dist-packages (from autots) (1.3.5)\n",
            "Requirement already satisfied: pytz>=2017.3 in /usr/local/lib/python3.7/dist-packages (from pandas>=0.25.*->autots) (2022.1)\n",
            "Requirement already satisfied: python-dateutil>=2.7.3 in /usr/local/lib/python3.7/dist-packages (from pandas>=0.25.*->autots) (2.8.2)\n",
            "Requirement already satisfied: six>=1.5 in /usr/local/lib/python3.7/dist-packages (from python-dateutil>=2.7.3->pandas>=0.25.*->autots) (1.15.0)\n",
            "Requirement already satisfied: joblib>=0.11 in /usr/local/lib/python3.7/dist-packages (from scikit-learn>=0.20.*->autots) (1.1.0)\n",
            "Requirement already satisfied: scipy>=1.1.0 in /usr/local/lib/python3.7/dist-packages (from scikit-learn>=0.20.*->autots) (1.4.1)\n",
            "Requirement already satisfied: threadpoolctl>=2.0.0 in /usr/local/lib/python3.7/dist-packages (from scikit-learn>=0.20.*->autots) (3.1.0)\n",
            "Requirement already satisfied: patsy>=0.4.0 in /usr/local/lib/python3.7/dist-packages (from statsmodels>=0.10.*->autots) (0.5.2)\n",
            "Installing collected packages: autots\n",
            "Successfully installed autots-0.4.1\n"
          ]
        }
      ]
    },
    {
      "cell_type": "code",
      "source": [
        "from autots import AutoTS"
      ],
      "metadata": {
        "colab": {
          "base_uri": "https://localhost:8080/"
        },
        "id": "TKju5mT9OHCe",
        "outputId": "2ea8ecf7-a3d1-4f5d-b187-b5b7a0be79eb"
      },
      "execution_count": 22,
      "outputs": [
        {
          "output_type": "stream",
          "name": "stderr",
          "text": [
            "/usr/local/lib/python3.7/dist-packages/statsmodels/tools/_testing.py:19: FutureWarning: pandas.util.testing is deprecated. Use the functions in the public API at pandas.testing instead.\n",
            "  import pandas.util.testing as tm\n"
          ]
        }
      ]
    },
    {
      "cell_type": "code",
      "source": [
        "model = AutoTS(forecast_length=10, frequency='infer',\n",
        "               ensemble='simple', drop_data_older_than_periods=200)\n",
        "model.fit(df, date_col='Date', value_col='Close', id_col=None)"
      ],
      "metadata": {
        "colab": {
          "base_uri": "https://localhost:8080/"
        },
        "id": "BeNuyGN8OeVA",
        "outputId": "c936094f-1e95-44e7-92c1-99b6937308a7"
      },
      "execution_count": 23,
      "outputs": [
        {
          "output_type": "stream",
          "name": "stdout",
          "text": [
            "Inferred frequency is: B\n",
            "Old data dropped by `drop_data_older_than_periods`.\n",
            "Model Number: 1 with model AverageValueNaive in generation 0 of 10\n",
            "Model Number: 2 with model AverageValueNaive in generation 0 of 10\n",
            "Model Number: 3 with model AverageValueNaive in generation 0 of 10\n",
            "Model Number: 4 with model DatepartRegression in generation 0 of 10\n",
            "Model Number: 5 with model DatepartRegression in generation 0 of 10\n",
            "Model Number: 6 with model DatepartRegression in generation 0 of 10\n"
          ]
        },
        {
          "output_type": "stream",
          "name": "stderr",
          "text": [
            "/usr/local/lib/python3.7/dist-packages/sklearn/svm/_base.py:1208: ConvergenceWarning: Liblinear failed to converge, increase the number of iterations.\n",
            "  ConvergenceWarning,\n",
            "/usr/local/lib/python3.7/dist-packages/sklearn/neural_network/_multilayer_perceptron.py:549: ConvergenceWarning: lbfgs failed to converge (status=1):\n",
            "STOP: TOTAL NO. of ITERATIONS REACHED LIMIT.\n",
            "\n",
            "Increase the number of iterations (max_iter) or scale the data as shown in:\n",
            "    https://scikit-learn.org/stable/modules/preprocessing.html\n",
            "  self.n_iter_ = _check_optimize_result(\"lbfgs\", opt_res, self.max_iter)\n"
          ]
        },
        {
          "output_type": "stream",
          "name": "stdout",
          "text": [
            "Model Number: 7 with model DatepartRegression in generation 0 of 10\n",
            "Epoch 1/50\n",
            "6/6 [==============================] - 11s 9ms/step - loss: 0.3842\n",
            "Epoch 2/50\n",
            "6/6 [==============================] - 0s 9ms/step - loss: 0.3759\n",
            "Epoch 3/50\n",
            "6/6 [==============================] - 0s 12ms/step - loss: 0.3697\n",
            "Epoch 4/50\n",
            "6/6 [==============================] - 0s 11ms/step - loss: 0.3673\n",
            "Epoch 5/50\n",
            "6/6 [==============================] - 0s 10ms/step - loss: 0.3566\n",
            "Epoch 6/50\n",
            "6/6 [==============================] - 0s 11ms/step - loss: 0.3501\n",
            "Epoch 7/50\n",
            "6/6 [==============================] - 0s 10ms/step - loss: 0.3513\n",
            "Epoch 8/50\n",
            "6/6 [==============================] - 0s 14ms/step - loss: 0.3405\n",
            "Epoch 9/50\n",
            "6/6 [==============================] - 0s 8ms/step - loss: 0.3289\n",
            "Epoch 10/50\n",
            "6/6 [==============================] - 0s 13ms/step - loss: 0.3222\n",
            "Epoch 11/50\n",
            "6/6 [==============================] - 0s 10ms/step - loss: 0.3176\n",
            "Epoch 12/50\n",
            "6/6 [==============================] - 0s 14ms/step - loss: 0.3223\n",
            "Epoch 13/50\n",
            "6/6 [==============================] - 0s 9ms/step - loss: 0.3201\n",
            "Epoch 14/50\n",
            "6/6 [==============================] - 0s 9ms/step - loss: 0.3217\n",
            "Epoch 15/50\n",
            "6/6 [==============================] - 0s 9ms/step - loss: 0.3134\n",
            "Epoch 16/50\n",
            "6/6 [==============================] - 0s 9ms/step - loss: 0.3171\n",
            "Epoch 17/50\n",
            "6/6 [==============================] - 0s 10ms/step - loss: 0.3186\n",
            "Epoch 18/50\n",
            "6/6 [==============================] - 0s 12ms/step - loss: 0.3169\n",
            "Epoch 19/50\n",
            "6/6 [==============================] - 0s 13ms/step - loss: 0.3100\n",
            "Epoch 20/50\n",
            "6/6 [==============================] - 0s 14ms/step - loss: 0.3164\n",
            "Epoch 21/50\n",
            "6/6 [==============================] - 0s 9ms/step - loss: 0.3128\n",
            "Epoch 22/50\n",
            "6/6 [==============================] - 0s 9ms/step - loss: 0.3060\n",
            "Epoch 23/50\n",
            "6/6 [==============================] - 0s 10ms/step - loss: 0.3086\n",
            "Epoch 24/50\n",
            "6/6 [==============================] - 0s 9ms/step - loss: 0.3065\n",
            "Epoch 25/50\n",
            "6/6 [==============================] - 0s 12ms/step - loss: 0.3003\n",
            "Epoch 26/50\n",
            "6/6 [==============================] - 0s 9ms/step - loss: 0.3052\n",
            "Epoch 27/50\n",
            "6/6 [==============================] - 0s 8ms/step - loss: 0.3030\n",
            "Epoch 28/50\n",
            "6/6 [==============================] - 0s 9ms/step - loss: 0.3022\n",
            "Epoch 29/50\n",
            "6/6 [==============================] - 0s 10ms/step - loss: 0.2963\n",
            "Epoch 30/50\n",
            "6/6 [==============================] - 0s 14ms/step - loss: 0.2956\n",
            "Epoch 31/50\n",
            "6/6 [==============================] - 0s 7ms/step - loss: 0.2960\n",
            "Epoch 32/50\n",
            "6/6 [==============================] - 0s 9ms/step - loss: 0.2978\n",
            "Epoch 33/50\n",
            "6/6 [==============================] - 0s 10ms/step - loss: 0.2953\n",
            "Epoch 34/50\n",
            "6/6 [==============================] - 0s 9ms/step - loss: 0.2951\n",
            "Epoch 35/50\n",
            "6/6 [==============================] - 0s 12ms/step - loss: 0.2885\n",
            "Epoch 36/50\n",
            "6/6 [==============================] - 0s 9ms/step - loss: 0.2924\n",
            "Epoch 37/50\n",
            "6/6 [==============================] - 0s 12ms/step - loss: 0.2869\n",
            "Epoch 38/50\n",
            "6/6 [==============================] - 0s 12ms/step - loss: 0.2911\n",
            "Epoch 39/50\n",
            "6/6 [==============================] - 0s 9ms/step - loss: 0.2847\n",
            "Epoch 40/50\n",
            "6/6 [==============================] - 0s 13ms/step - loss: 0.2843\n",
            "Epoch 41/50\n",
            "6/6 [==============================] - 0s 10ms/step - loss: 0.2815\n",
            "Epoch 42/50\n",
            "6/6 [==============================] - 0s 9ms/step - loss: 0.2800\n",
            "Epoch 43/50\n",
            "6/6 [==============================] - 0s 8ms/step - loss: 0.2798\n",
            "Epoch 44/50\n",
            "6/6 [==============================] - 0s 10ms/step - loss: 0.2825\n",
            "Epoch 45/50\n",
            "6/6 [==============================] - 0s 8ms/step - loss: 0.2846\n",
            "Epoch 46/50\n",
            "6/6 [==============================] - 0s 11ms/step - loss: 0.2741\n",
            "Epoch 47/50\n",
            "6/6 [==============================] - 0s 10ms/step - loss: 0.2784\n",
            "Epoch 48/50\n",
            "6/6 [==============================] - 0s 10ms/step - loss: 0.2756\n",
            "Epoch 49/50\n",
            "6/6 [==============================] - 0s 10ms/step - loss: 0.2761\n",
            "Epoch 50/50\n",
            "6/6 [==============================] - 0s 10ms/step - loss: 0.2716\n",
            "Template Eval Error: ValueError('Model DatepartRegression returned NaN for one or more series. fail_on_forecast_nan=True') in model 7: DatepartRegression\n",
            "Model Number: 8 with model ETS in generation 0 of 10\n",
            "ETS error TypeError(\"__init__() got an unexpected keyword argument 'damped_trend'\")\n",
            "Model Number: 9 with model ETS in generation 0 of 10\n",
            "ETS error TypeError(\"__init__() got an unexpected keyword argument 'damped_trend'\")\n",
            "Model Number: 10 with model GLM in generation 0 of 10\n",
            "Template Eval Error: TypeError(\"ufunc 'isfinite' not supported for the input types, and the inputs could not be safely coerced to any supported types according to the casting rule ''safe''\") in model 10: GLM\n",
            "Model Number: 11 with model GLM in generation 0 of 10\n",
            "Model Number: 12 with model GLS in generation 0 of 10\n",
            "Model Number: 13 with model GLS in generation 0 of 10\n",
            "Model Number: 14 with model LastValueNaive in generation 0 of 10\n",
            "Model Number: 15 with model LastValueNaive in generation 0 of 10\n",
            "Model Number: 16 with model LastValueNaive in generation 0 of 10\n",
            "Model Number: 17 with model LastValueNaive in generation 0 of 10\n",
            "Model Number: 18 with model SeasonalNaive in generation 0 of 10\n",
            "Model Number: 19 with model SeasonalNaive in generation 0 of 10\n",
            "Model Number: 20 with model SeasonalNaive in generation 0 of 10\n",
            "Model Number: 21 with model UnobservedComponents in generation 0 of 10\n",
            "Template Eval Error: ValueError('Provided exogenous values are not of the appropriate shape. Required (10, 1), got (10,).') in model 21: UnobservedComponents\n",
            "Model Number: 22 with model UnobservedComponents in generation 0 of 10\n",
            "Model Number: 23 with model UnobservedComponents in generation 0 of 10\n",
            "Model Number: 24 with model VAR in generation 0 of 10\n",
            "Template Eval Error: ValueError('Only gave one variable to VAR') in model 24: VAR\n",
            "Model Number: 25 with model VAR in generation 0 of 10\n",
            "Template Eval Error: ValueError('Only gave one variable to VAR') in model 25: VAR\n",
            "Model Number: 26 with model VECM in generation 0 of 10\n",
            "Template Eval Error: ValueError('Only gave one variable to VECM') in model 26: VECM\n",
            "Model Number: 27 with model VECM in generation 0 of 10\n",
            "Template Eval Error: ValueError('Only gave one variable to VECM') in model 27: VECM\n",
            "Model Number: 28 with model WindowRegression in generation 0 of 10\n",
            "Model Number: 29 with model ConstantNaive in generation 0 of 10\n"
          ]
        },
        {
          "output_type": "stream",
          "name": "stderr",
          "text": [
            "/usr/local/lib/python3.7/dist-packages/sklearn/neural_network/_multilayer_perceptron.py:549: ConvergenceWarning: lbfgs failed to converge (status=1):\n",
            "STOP: TOTAL NO. of ITERATIONS REACHED LIMIT.\n",
            "\n",
            "Increase the number of iterations (max_iter) or scale the data as shown in:\n",
            "    https://scikit-learn.org/stable/modules/preprocessing.html\n",
            "  self.n_iter_ = _check_optimize_result(\"lbfgs\", opt_res, self.max_iter)\n"
          ]
        },
        {
          "output_type": "stream",
          "name": "stdout",
          "text": [
            "Model Number: 30 with model FBProphet in generation 0 of 10\n"
          ]
        },
        {
          "output_type": "stream",
          "name": "stderr",
          "text": [
            "INFO:fbprophet:Disabling yearly seasonality. Run prophet with yearly_seasonality=True to override this.\n",
            "INFO:fbprophet:Disabling daily seasonality. Run prophet with daily_seasonality=True to override this.\n"
          ]
        },
        {
          "output_type": "stream",
          "name": "stdout",
          "text": [
            "Model Number: 31 with model MultivariateRegression in generation 0 of 10\n"
          ]
        },
        {
          "output_type": "stream",
          "name": "stderr",
          "text": [
            "[Parallel(n_jobs=-2)]: Using backend SequentialBackend with 1 concurrent workers.\n",
            "[Parallel(n_jobs=-2)]: Done 200 out of 200 | elapsed:    0.5s finished\n",
            "[Parallel(n_jobs=1)]: Using backend SequentialBackend with 1 concurrent workers.\n",
            "[Parallel(n_jobs=1)]: Done 200 out of 200 | elapsed:    0.0s finished\n",
            "[Parallel(n_jobs=1)]: Using backend SequentialBackend with 1 concurrent workers.\n",
            "[Parallel(n_jobs=1)]: Done 200 out of 200 | elapsed:    0.0s finished\n",
            "[Parallel(n_jobs=1)]: Using backend SequentialBackend with 1 concurrent workers.\n",
            "[Parallel(n_jobs=1)]: Done 200 out of 200 | elapsed:    0.0s finished\n",
            "[Parallel(n_jobs=1)]: Using backend SequentialBackend with 1 concurrent workers.\n",
            "[Parallel(n_jobs=1)]: Done 200 out of 200 | elapsed:    0.0s finished\n",
            "[Parallel(n_jobs=1)]: Using backend SequentialBackend with 1 concurrent workers.\n",
            "[Parallel(n_jobs=1)]: Done 200 out of 200 | elapsed:    0.0s finished\n",
            "[Parallel(n_jobs=1)]: Using backend SequentialBackend with 1 concurrent workers.\n",
            "[Parallel(n_jobs=1)]: Done 200 out of 200 | elapsed:    0.0s finished\n",
            "[Parallel(n_jobs=1)]: Using backend SequentialBackend with 1 concurrent workers.\n",
            "[Parallel(n_jobs=1)]: Done 200 out of 200 | elapsed:    0.0s finished\n",
            "[Parallel(n_jobs=1)]: Using backend SequentialBackend with 1 concurrent workers.\n",
            "[Parallel(n_jobs=1)]: Done 200 out of 200 | elapsed:    0.0s finished\n",
            "[Parallel(n_jobs=1)]: Using backend SequentialBackend with 1 concurrent workers.\n",
            "[Parallel(n_jobs=1)]: Done 200 out of 200 | elapsed:    0.0s finished\n",
            "[Parallel(n_jobs=1)]: Using backend SequentialBackend with 1 concurrent workers.\n",
            "[Parallel(n_jobs=1)]: Done 200 out of 200 | elapsed:    0.0s finished\n"
          ]
        },
        {
          "output_type": "stream",
          "name": "stdout",
          "text": [
            "Model Number: 32 with model MultivariateRegression in generation 0 of 10\n",
            "Template Eval Error: ValueError(\"regression_type='User' but not future_regressor supplied.\") in model 32: MultivariateRegression\n",
            "Model Number: 33 with model DatepartRegression in generation 0 of 10\n",
            "Template Eval Error: ValueError(\"regression_type='User' but no future_regressor passed\") in model 33: DatepartRegression\n",
            "Model Number: 34 with model SeasonalNaive in generation 0 of 10\n",
            "Model Number: 35 with model DatepartRegression in generation 0 of 10\n",
            "Model Number: 36 with model UnobservedComponents in generation 0 of 10\n",
            "Template Eval Error: ValueError('Provided exogenous values are not of the appropriate shape. Required (10, 1), got (10,).') in model 36: UnobservedComponents\n",
            "Model Number: 37 with model UnobservedComponents in generation 0 of 10\n",
            "Template Eval Error: ValueError('Provided exogenous values are not of the appropriate shape. Required (10, 1), got (10,).') in model 37: UnobservedComponents\n",
            "Model Number: 38 with model ETS in generation 0 of 10\n",
            "ETS error TypeError(\"__init__() got an unexpected keyword argument 'damped_trend'\")\n",
            "Model Number: 39 with model VECM in generation 0 of 10\n",
            "Template Eval Error: ValueError('Only gave one variable to VECM') in model 39: VECM\n",
            "Model Number: 40 with model ARDL in generation 0 of 10\n",
            "Template Eval Error: ImportError(\"cannot import name 'ARDL' from 'statsmodels.tsa.api' (/usr/local/lib/python3.7/dist-packages/statsmodels/tsa/api.py)\") in model 40: ARDL\n",
            "Model Number: 41 with model MultivariateMotif in generation 0 of 10\n",
            "Model Number: 42 with model MultivariateMotif in generation 0 of 10\n",
            "Model Number: 43 with model UnivariateMotif in generation 0 of 10\n",
            "Model Number: 44 with model UnivariateMotif in generation 0 of 10\n",
            "Model Number: 45 with model SectionalMotif in generation 0 of 10\n",
            "Model Number: 46 with model SectionalMotif in generation 0 of 10\n",
            "Model Number: 47 with model MultivariateRegression in generation 0 of 10\n"
          ]
        },
        {
          "output_type": "stream",
          "name": "stderr",
          "text": [
            "INFO:fbprophet:Disabling yearly seasonality. Run prophet with yearly_seasonality=True to override this.\n",
            "INFO:fbprophet:Disabling daily seasonality. Run prophet with daily_seasonality=True to override this.\n"
          ]
        },
        {
          "output_type": "stream",
          "name": "stdout",
          "text": [
            "Model Number: 48 with model FBProphet in generation 0 of 10\n",
            "Model Number: 49 with model SeasonalNaive in generation 0 of 10\n",
            "Model Number: 50 with model DatepartRegression in generation 0 of 10\n"
          ]
        },
        {
          "output_type": "stream",
          "name": "stderr",
          "text": [
            "[Parallel(n_jobs=-2)]: Using backend SequentialBackend with 1 concurrent workers.\n",
            "[Parallel(n_jobs=-2)]: Done 100 out of 100 | elapsed:    0.2s finished\n",
            "[Parallel(n_jobs=1)]: Using backend SequentialBackend with 1 concurrent workers.\n"
          ]
        },
        {
          "output_type": "stream",
          "name": "stdout",
          "text": [
            "Model Number: 51 with model NVAR in generation 0 of 10\n",
            "Model Number: 52 with model Theta in generation 0 of 10\n",
            "Template Eval Error: ModuleNotFoundError(\"No module named 'statsmodels.tsa.forecasting'\") in model 52: Theta\n",
            "Model Number: 53 with model ConstantNaive in generation 0 of 10\n"
          ]
        },
        {
          "output_type": "stream",
          "name": "stderr",
          "text": [
            "[Parallel(n_jobs=1)]: Done 100 out of 100 | elapsed:    0.0s finished\n"
          ]
        },
        {
          "output_type": "stream",
          "name": "stdout",
          "text": [
            "Model Number: 54 with model LastValueNaive in generation 0 of 10\n",
            "Template Eval Error: Exception('Transformer STLFilter failed on fit') in model 54: LastValueNaive\n",
            "Model Number: 55 with model AverageValueNaive in generation 0 of 10\n",
            "Model Number: 56 with model GLS in generation 0 of 10\n",
            "Model Number: 57 with model SeasonalNaive in generation 0 of 10\n",
            "Model Number: 58 with model GLM in generation 0 of 10\n",
            "Template Eval Error: ValueError('regression_type=user and no future_regressor passed') in model 58: GLM\n",
            "Model Number: 59 with model ETS in generation 0 of 10\n",
            "ETS error TypeError(\"__init__() got an unexpected keyword argument 'damped_trend'\")\n",
            "Model Number: 60 with model FBProphet in generation 0 of 10\n"
          ]
        },
        {
          "output_type": "stream",
          "name": "stderr",
          "text": [
            "INFO:fbprophet:Disabling yearly seasonality. Run prophet with yearly_seasonality=True to override this.\n",
            "INFO:fbprophet:Disabling daily seasonality. Run prophet with daily_seasonality=True to override this.\n"
          ]
        },
        {
          "output_type": "stream",
          "name": "stdout",
          "text": [
            "Model Number: 61 with model UnobservedComponents in generation 0 of 10\n",
            "Model Number: 62 with model VAR in generation 0 of 10\n",
            "Template Eval Error: ValueError('Only gave one variable to VAR') in model 62: VAR\n",
            "Model Number: 63 with model VECM in generation 0 of 10\n",
            "Template Eval Error: ValueError('Only gave one variable to VECM') in model 63: VECM\n",
            "Model Number: 64 with model WindowRegression in generation 0 of 10\n",
            "Template Eval Error: Exception('Transformer STLFilter failed on fit') in model 64: WindowRegression\n",
            "Model Number: 65 with model DatepartRegression in generation 0 of 10\n",
            "Model Number: 66 with model MultivariateRegression in generation 0 of 10\n",
            "Model Number: 67 with model UnivariateMotif in generation 0 of 10\n",
            "Model Number: 68 with model MultivariateMotif in generation 0 of 10\n",
            "Model Number: 69 with model SectionalMotif in generation 0 of 10\n",
            "Model Number: 70 with model NVAR in generation 0 of 10\n",
            "Model Number: 71 with model Theta in generation 0 of 10\n",
            "Template Eval Error: ModuleNotFoundError(\"No module named 'statsmodels.tsa.forecasting'\") in model 71: Theta\n",
            "Model Number: 72 with model ARDL in generation 0 of 10\n",
            "Template Eval Error: ImportError(\"cannot import name 'ARDL' from 'statsmodels.tsa.api' (/usr/local/lib/python3.7/dist-packages/statsmodels/tsa/api.py)\") in model 72: ARDL\n",
            "Model Number: 73 with model VECM in generation 0 of 10\n",
            "Template Eval Error: ValueError('Only gave one variable to VECM') in model 73: VECM\n",
            "Model Number: 74 with model MultivariateRegression in generation 0 of 10\n",
            "Model Number: 75 with model WindowRegression in generation 0 of 10\n",
            "Model Number: 76 with model SectionalMotif in generation 0 of 10\n",
            "Model Number: 77 with model Theta in generation 0 of 10\n",
            "Template Eval Error: ModuleNotFoundError(\"No module named 'statsmodels.tsa.forecasting'\") in model 77: Theta\n",
            "Model Number: 78 with model GLS in generation 0 of 10\n",
            "Model Number: 79 with model VECM in generation 0 of 10\n",
            "Template Eval Error: ValueError('Only gave one variable to VECM') in model 79: VECM\n",
            "Model Number: 80 with model WindowRegression in generation 0 of 10\n",
            "Model Number: 81 with model SectionalMotif in generation 0 of 10\n",
            "Template Eval Error: ValueError(\"regression_type=='User' but no future_regressor supplied\") in model 81: SectionalMotif\n",
            "Model Number: 82 with model MultivariateMotif in generation 0 of 10\n",
            "Model Number: 83 with model ConstantNaive in generation 0 of 10\n",
            "Model Number: 84 with model VECM in generation 0 of 10\n",
            "Template Eval Error: ValueError('Only gave one variable to VECM') in model 84: VECM\n",
            "Model Number: 85 with model SectionalMotif in generation 0 of 10\n",
            "Model Number: 86 with model LastValueNaive in generation 0 of 10\n",
            "Model Number: 87 with model LastValueNaive in generation 0 of 10\n",
            "Model Number: 88 with model UnivariateMotif in generation 0 of 10\n",
            "Model Number: 89 with model ETS in generation 0 of 10\n",
            "ETS error TypeError(\"__init__() got an unexpected keyword argument 'damped_trend'\")\n",
            "Model Number: 90 with model ConstantNaive in generation 0 of 10\n",
            "Model Number: 91 with model MultivariateRegression in generation 0 of 10\n",
            "Template Eval Error: ValueError(\"regression_type='User' but not future_regressor supplied.\") in model 91: MultivariateRegression\n",
            "Model Number: 92 with model ARDL in generation 0 of 10\n",
            "Template Eval Error: ValueError(\"regression_type='User' but future_regressor not supplied\") in model 92: ARDL\n",
            "Model Number: 93 with model NVAR in generation 0 of 10\n",
            "Model Number: 94 with model SectionalMotif in generation 0 of 10\n",
            "Model Number: 95 with model UnivariateMotif in generation 0 of 10\n",
            "Template Eval Error: ValueError('Model UnivariateMotif returned NaN for one or more series. fail_on_forecast_nan=True') in model 95: UnivariateMotif\n",
            "Model Number: 96 with model UnobservedComponents in generation 0 of 10\n"
          ]
        },
        {
          "output_type": "stream",
          "name": "stderr",
          "text": [
            "/usr/local/lib/python3.7/dist-packages/numpy/core/_methods.py:48: RuntimeWarning: invalid value encountered in reduce\n",
            "  return umr_sum(a, axis, dtype, out, keepdims, initial, where)\n",
            "/usr/local/lib/python3.7/dist-packages/numpy/lib/function_base.py:412: RuntimeWarning: invalid value encountered in true_divide\n",
            "  avg = np.multiply(a, wgt, dtype=result_dtype).sum(axis)/scl\n"
          ]
        },
        {
          "output_type": "stream",
          "name": "stdout",
          "text": [
            "Model Number: 97 with model DatepartRegression in generation 0 of 10\n",
            "Template Eval Error: ValueError(\"regression_type='User' but no future_regressor passed\") in model 97: DatepartRegression\n",
            "Model Number: 98 with model Theta in generation 0 of 10\n",
            "Template Eval Error: ModuleNotFoundError(\"No module named 'statsmodels.tsa.forecasting'\") in model 98: Theta\n",
            "Model Number: 99 with model ConstantNaive in generation 0 of 10\n",
            "Model Number: 100 with model NVAR in generation 0 of 10\n",
            "Model Number: 101 with model ConstantNaive in generation 0 of 10\n",
            "Model Number: 102 with model FBProphet in generation 0 of 10\n"
          ]
        },
        {
          "output_type": "stream",
          "name": "stderr",
          "text": [
            "INFO:fbprophet:Disabling yearly seasonality. Run prophet with yearly_seasonality=True to override this.\n",
            "INFO:fbprophet:Disabling daily seasonality. Run prophet with daily_seasonality=True to override this.\n"
          ]
        },
        {
          "output_type": "stream",
          "name": "stdout",
          "text": [
            "Model Number: 103 with model ConstantNaive in generation 0 of 10\n",
            "Model Number: 104 with model DatepartRegression in generation 0 of 10\n",
            "Epoch 1/50\n",
            "3/3 [==============================] - 10s 35ms/step - loss: 105.5389\n",
            "Epoch 2/50\n",
            "3/3 [==============================] - 0s 23ms/step - loss: 110.9122\n",
            "Epoch 3/50\n",
            "3/3 [==============================] - 0s 23ms/step - loss: 110.0312\n",
            "Epoch 4/50\n",
            "3/3 [==============================] - 0s 23ms/step - loss: 106.6186\n",
            "Epoch 5/50\n",
            "3/3 [==============================] - 0s 20ms/step - loss: 100.1441\n",
            "Epoch 6/50\n",
            "3/3 [==============================] - 0s 22ms/step - loss: 103.4184\n",
            "Epoch 7/50\n",
            "3/3 [==============================] - 0s 19ms/step - loss: 99.5225\n",
            "Epoch 8/50\n",
            "3/3 [==============================] - 0s 23ms/step - loss: 103.4080\n",
            "Epoch 9/50\n",
            "3/3 [==============================] - 0s 19ms/step - loss: 103.6609\n",
            "Epoch 10/50\n",
            "3/3 [==============================] - 0s 19ms/step - loss: 100.5946\n",
            "Epoch 11/50\n",
            "3/3 [==============================] - 0s 20ms/step - loss: 101.7312\n",
            "Epoch 12/50\n",
            "3/3 [==============================] - 0s 15ms/step - loss: 103.6250\n",
            "Epoch 13/50\n",
            "3/3 [==============================] - 0s 19ms/step - loss: 103.4392\n",
            "Epoch 14/50\n",
            "3/3 [==============================] - 0s 21ms/step - loss: 102.6352\n",
            "Epoch 15/50\n",
            "3/3 [==============================] - 0s 18ms/step - loss: 102.7198\n",
            "Epoch 16/50\n",
            "3/3 [==============================] - 0s 20ms/step - loss: 101.5285\n",
            "Epoch 17/50\n",
            "3/3 [==============================] - 0s 19ms/step - loss: 99.8761\n",
            "Epoch 18/50\n",
            "3/3 [==============================] - 0s 16ms/step - loss: 102.0560\n",
            "Epoch 19/50\n",
            "3/3 [==============================] - 0s 21ms/step - loss: 104.2465\n",
            "Epoch 20/50\n",
            "3/3 [==============================] - 0s 19ms/step - loss: 102.3358\n",
            "Epoch 21/50\n",
            "3/3 [==============================] - 0s 17ms/step - loss: 102.1394\n",
            "Epoch 22/50\n",
            "3/3 [==============================] - 0s 23ms/step - loss: 100.0253\n",
            "Epoch 23/50\n",
            "3/3 [==============================] - 0s 20ms/step - loss: 100.2469\n",
            "Epoch 24/50\n",
            "3/3 [==============================] - 0s 19ms/step - loss: 98.7300\n",
            "Epoch 25/50\n",
            "3/3 [==============================] - 0s 18ms/step - loss: 104.1312\n",
            "Epoch 26/50\n",
            "3/3 [==============================] - 0s 16ms/step - loss: 100.4883\n",
            "Epoch 27/50\n",
            "3/3 [==============================] - 0s 19ms/step - loss: 102.3648\n",
            "Epoch 28/50\n",
            "3/3 [==============================] - 0s 24ms/step - loss: 102.2480\n",
            "Epoch 29/50\n",
            "3/3 [==============================] - 0s 21ms/step - loss: 99.5961\n",
            "Epoch 30/50\n",
            "3/3 [==============================] - 0s 20ms/step - loss: 103.5358\n",
            "Epoch 31/50\n",
            "3/3 [==============================] - 0s 31ms/step - loss: 101.3649\n",
            "Epoch 32/50\n",
            "3/3 [==============================] - 0s 21ms/step - loss: 100.8067\n",
            "Epoch 33/50\n",
            "3/3 [==============================] - 0s 22ms/step - loss: 100.2066\n",
            "Epoch 34/50\n",
            "3/3 [==============================] - 0s 18ms/step - loss: 102.7061\n",
            "Epoch 35/50\n",
            "3/3 [==============================] - 0s 19ms/step - loss: 104.1639\n",
            "Epoch 36/50\n",
            "3/3 [==============================] - 0s 18ms/step - loss: 101.2061\n",
            "Epoch 37/50\n",
            "3/3 [==============================] - 0s 17ms/step - loss: 100.2809\n",
            "Epoch 38/50\n",
            "3/3 [==============================] - 0s 20ms/step - loss: 100.6508\n",
            "Epoch 39/50\n",
            "3/3 [==============================] - 0s 24ms/step - loss: 99.9308\n",
            "Epoch 40/50\n",
            "3/3 [==============================] - 0s 19ms/step - loss: 102.1175\n",
            "Epoch 41/50\n",
            "3/3 [==============================] - 0s 27ms/step - loss: 99.1804\n",
            "Epoch 42/50\n",
            "3/3 [==============================] - 0s 19ms/step - loss: 100.8406\n",
            "Epoch 43/50\n",
            "3/3 [==============================] - 0s 19ms/step - loss: 101.7274\n",
            "Epoch 44/50\n",
            "3/3 [==============================] - 0s 20ms/step - loss: 100.9767\n",
            "Epoch 45/50\n",
            "3/3 [==============================] - 0s 18ms/step - loss: 99.7203\n",
            "Epoch 46/50\n",
            "3/3 [==============================] - 0s 18ms/step - loss: 101.3206\n",
            "Epoch 47/50\n",
            "3/3 [==============================] - 0s 19ms/step - loss: 101.2191\n",
            "Epoch 48/50\n",
            "3/3 [==============================] - 0s 19ms/step - loss: 100.0545\n",
            "Epoch 49/50\n",
            "3/3 [==============================] - 0s 18ms/step - loss: 101.5839\n",
            "Epoch 50/50\n",
            "3/3 [==============================] - 0s 18ms/step - loss: 99.9166\n"
          ]
        },
        {
          "output_type": "stream",
          "name": "stderr",
          "text": [
            "INFO:fbprophet:Disabling yearly seasonality. Run prophet with yearly_seasonality=True to override this.\n",
            "INFO:fbprophet:Disabling daily seasonality. Run prophet with daily_seasonality=True to override this.\n"
          ]
        },
        {
          "output_type": "stream",
          "name": "stdout",
          "text": [
            "Template Eval Error: ValueError('Model DatepartRegression returned NaN for one or more series. fail_on_forecast_nan=True') in model 104: DatepartRegression\n",
            "Model Number: 105 with model FBProphet in generation 0 of 10\n"
          ]
        },
        {
          "output_type": "stream",
          "name": "stderr",
          "text": [
            "INFO:fbprophet:Disabling yearly seasonality. Run prophet with yearly_seasonality=True to override this.\n",
            "INFO:fbprophet:Disabling daily seasonality. Run prophet with daily_seasonality=True to override this.\n"
          ]
        },
        {
          "output_type": "stream",
          "name": "stdout",
          "text": [
            "Model Number: 106 with model FBProphet in generation 0 of 10\n",
            "Model Number: 107 with model MultivariateRegression in generation 0 of 10\n",
            "Model Number: 108 with model Theta in generation 0 of 10\n",
            "Template Eval Error: ModuleNotFoundError(\"No module named 'statsmodels.tsa.forecasting'\") in model 108: Theta\n",
            "Model Number: 109 with model MultivariateRegression in generation 0 of 10\n"
          ]
        },
        {
          "output_type": "stream",
          "name": "stderr",
          "text": [
            "/usr/local/lib/python3.7/dist-packages/sklearn/neural_network/_multilayer_perceptron.py:549: ConvergenceWarning: lbfgs failed to converge (status=2):\n",
            "ABNORMAL_TERMINATION_IN_LNSRCH.\n",
            "\n",
            "Increase the number of iterations (max_iter) or scale the data as shown in:\n",
            "    https://scikit-learn.org/stable/modules/preprocessing.html\n",
            "  self.n_iter_ = _check_optimize_result(\"lbfgs\", opt_res, self.max_iter)\n"
          ]
        },
        {
          "output_type": "stream",
          "name": "stdout",
          "text": [
            "Model Number: 110 with model LastValueNaive in generation 0 of 10\n",
            "Model Number: 111 with model GLS in generation 0 of 10\n",
            "Model Number: 112 with model ConstantNaive in generation 0 of 10\n",
            "Model Number: 113 with model DatepartRegression in generation 0 of 10\n",
            "Template Eval Error: ValueError(\"regression_type='User' but no future_regressor passed\") in model 113: DatepartRegression\n",
            "Model Number: 114 with model GLS in generation 0 of 10\n",
            "Model Number: 115 with model UnobservedComponents in generation 0 of 10\n",
            "Template Eval Error: ValueError('Provided exogenous values are not of the appropriate shape. Required (10, 1), got (10,).') in model 115: UnobservedComponents\n",
            "Model Number: 116 with model DatepartRegression in generation 0 of 10\n"
          ]
        },
        {
          "output_type": "stream",
          "name": "stderr",
          "text": [
            "/usr/local/lib/python3.7/dist-packages/sklearn/svm/_base.py:1208: ConvergenceWarning: Liblinear failed to converge, increase the number of iterations.\n",
            "  ConvergenceWarning,\n"
          ]
        },
        {
          "output_type": "stream",
          "name": "stdout",
          "text": [
            "Model Number: 117 with model DatepartRegression in generation 0 of 10\n",
            "Template Eval Error: ValueError(\"regression_type='User' but no future_regressor passed\") in model 117: DatepartRegression\n",
            "Model Number: 118 with model UnobservedComponents in generation 0 of 10\n",
            "Model Number: 119 with model MultivariateRegression in generation 0 of 10\n",
            "Template Eval Error: Exception('Transformer STLFilter failed on fit') in model 119: MultivariateRegression\n",
            "Model Number: 120 with model UnivariateMotif in generation 0 of 10\n",
            "Model Number: 121 with model SeasonalNaive in generation 0 of 10\n",
            "Model Number: 122 with model GLS in generation 0 of 10\n",
            "Model Number: 123 with model SectionalMotif in generation 0 of 10\n",
            "Model Number: 124 with model MultivariateMotif in generation 0 of 10\n",
            "Model Number: 125 with model UnivariateMotif in generation 0 of 10\n",
            "Model Number: 126 with model VAR in generation 0 of 10\n",
            "Template Eval Error: ValueError('Only gave one variable to VAR') in model 126: VAR\n",
            "Model Number: 127 with model LastValueNaive in generation 0 of 10\n",
            "Model Number: 128 with model UnivariateMotif in generation 0 of 10\n",
            "Model Number: 129 with model GLM in generation 0 of 10\n",
            "Template Eval Error: TypeError(\"ufunc 'isfinite' not supported for the input types, and the inputs could not be safely coerced to any supported types according to the casting rule ''safe''\") in model 129: GLM\n",
            "Model Number: 130 with model MultivariateMotif in generation 0 of 10\n",
            "Template Eval Error: Exception('Transformer STLFilter failed on fit') in model 130: MultivariateMotif\n",
            "Model Number: 131 with model GLM in generation 0 of 10\n",
            "Template Eval Error: TypeError(\"ufunc 'isfinite' not supported for the input types, and the inputs could not be safely coerced to any supported types according to the casting rule ''safe''\") in model 131: GLM\n",
            "Model Number: 132 with model LastValueNaive in generation 0 of 10\n",
            "Model Number: 133 with model UnobservedComponents in generation 0 of 10\n",
            "Template Eval Error: ValueError(\"regression_type='User' but no future_regressor supplied\") in model 133: UnobservedComponents\n",
            "Model Number: 134 with model Theta in generation 0 of 10\n",
            "Template Eval Error: ModuleNotFoundError(\"No module named 'statsmodels.tsa.forecasting'\") in model 134: Theta\n",
            "Model Number: 135 with model VAR in generation 0 of 10\n",
            "Template Eval Error: ValueError('Only gave one variable to VAR') in model 135: VAR\n",
            "Model Number: 136 with model NVAR in generation 0 of 10\n",
            "Model Number: 137 with model UnivariateMotif in generation 0 of 10\n",
            "Model Number: 138 with model ConstantNaive in generation 0 of 10\n",
            "Model Number: 139 with model SectionalMotif in generation 0 of 10\n",
            "Model Number: 140 with model ConstantNaive in generation 0 of 10\n",
            "Model Number: 141 with model AverageValueNaive in generation 0 of 10\n",
            "Model Number: 142 with model AverageValueNaive in generation 0 of 10\n",
            "Template Eval Error: Exception('Transformer STLFilter failed on fit') in model 142: AverageValueNaive\n",
            "Model Number: 143 with model GLS in generation 0 of 10\n",
            "Model Number: 144 with model ARDL in generation 0 of 10\n",
            "Template Eval Error: ImportError(\"cannot import name 'ARDL' from 'statsmodels.tsa.api' (/usr/local/lib/python3.7/dist-packages/statsmodels/tsa/api.py)\") in model 144: ARDL\n",
            "Model Number: 145 with model UnivariateMotif in generation 0 of 10\n",
            "Model Number: 146 with model WindowRegression in generation 0 of 10\n"
          ]
        },
        {
          "output_type": "stream",
          "name": "stderr",
          "text": [
            "[Parallel(n_jobs=-2)]: Using backend SequentialBackend with 1 concurrent workers.\n",
            "[Parallel(n_jobs=-2)]: Done 1000 out of 1000 | elapsed:    2.3s finished\n",
            "[Parallel(n_jobs=1)]: Using backend SequentialBackend with 1 concurrent workers.\n",
            "[Parallel(n_jobs=1)]: Done 1000 out of 1000 | elapsed:    0.2s finished\n",
            "[Parallel(n_jobs=1)]: Using backend SequentialBackend with 1 concurrent workers.\n",
            "[Parallel(n_jobs=1)]: Done 1000 out of 1000 | elapsed:    0.2s finished\n",
            "[Parallel(n_jobs=1)]: Using backend SequentialBackend with 1 concurrent workers.\n",
            "[Parallel(n_jobs=1)]: Done 1000 out of 1000 | elapsed:    0.2s finished\n",
            "[Parallel(n_jobs=1)]: Using backend SequentialBackend with 1 concurrent workers.\n",
            "[Parallel(n_jobs=1)]: Done 1000 out of 1000 | elapsed:    0.2s finished\n",
            "[Parallel(n_jobs=1)]: Using backend SequentialBackend with 1 concurrent workers.\n",
            "[Parallel(n_jobs=1)]: Done 1000 out of 1000 | elapsed:    0.2s finished\n",
            "[Parallel(n_jobs=1)]: Using backend SequentialBackend with 1 concurrent workers.\n",
            "[Parallel(n_jobs=1)]: Done 1000 out of 1000 | elapsed:    0.2s finished\n",
            "[Parallel(n_jobs=1)]: Using backend SequentialBackend with 1 concurrent workers.\n",
            "[Parallel(n_jobs=1)]: Done 1000 out of 1000 | elapsed:    0.2s finished\n",
            "[Parallel(n_jobs=1)]: Using backend SequentialBackend with 1 concurrent workers.\n",
            "[Parallel(n_jobs=1)]: Done 1000 out of 1000 | elapsed:    0.2s finished\n",
            "[Parallel(n_jobs=1)]: Using backend SequentialBackend with 1 concurrent workers.\n",
            "[Parallel(n_jobs=1)]: Done 1000 out of 1000 | elapsed:    0.2s finished\n",
            "[Parallel(n_jobs=1)]: Using backend SequentialBackend with 1 concurrent workers.\n",
            "[Parallel(n_jobs=1)]: Done 1000 out of 1000 | elapsed:    0.2s finished\n"
          ]
        },
        {
          "output_type": "stream",
          "name": "stdout",
          "text": [
            "Model Number: 147 with model ARDL in generation 0 of 10\n",
            "Template Eval Error: ValueError(\"regression_type='User' but future_regressor not supplied\") in model 147: ARDL\n",
            "Model Number: 148 with model LastValueNaive in generation 0 of 10\n",
            "Model Number: 149 with model ConstantNaive in generation 0 of 10\n",
            "Model Number: 150 with model VECM in generation 0 of 10\n",
            "Template Eval Error: ValueError('Only gave one variable to VECM') in model 150: VECM\n",
            "Model Number: 151 with model NVAR in generation 0 of 10\n",
            "Template Eval Error: Exception('Transformer STLFilter failed on fit') in model 151: NVAR\n",
            "Model Number: 152 with model NVAR in generation 0 of 10\n",
            "New Generation: 1 of 10\n",
            "Model Number: 153 with model SectionalMotif in generation 1 of 10\n",
            "Model Number: 154 with model SectionalMotif in generation 1 of 10\n",
            "Model Number: 155 with model SectionalMotif in generation 1 of 10\n",
            "Model Number: 156 with model SectionalMotif in generation 1 of 10\n",
            "Model Number: 157 with model DatepartRegression in generation 1 of 10\n",
            "Template Eval Error: ValueError(\"regression_type='User' but no future_regressor passed\") in model 157: DatepartRegression\n",
            "Model Number: 158 with model DatepartRegression in generation 1 of 10\n",
            "Template Eval Error: ValueError('Model DatepartRegression returned NaN for one or more series. fail_on_forecast_nan=True') in model 158: DatepartRegression\n",
            "Model Number: 159 with model DatepartRegression in generation 1 of 10\n"
          ]
        },
        {
          "output_type": "stream",
          "name": "stderr",
          "text": [
            "/usr/local/lib/python3.7/dist-packages/sklearn/neighbors/_regression.py:470: UserWarning: One or more samples have no neighbors within specified radius; predicting NaN.\n",
            "  warnings.warn(empty_warning_msg)\n",
            "/usr/local/lib/python3.7/dist-packages/sklearn/svm/_base.py:1208: ConvergenceWarning: Liblinear failed to converge, increase the number of iterations.\n",
            "  ConvergenceWarning,\n"
          ]
        },
        {
          "output_type": "stream",
          "name": "stdout",
          "text": [
            "Model Number: 160 with model NVAR in generation 1 of 10\n",
            "Model Number: 161 with model NVAR in generation 1 of 10\n",
            "Model Number: 162 with model NVAR in generation 1 of 10\n",
            "Model Number: 163 with model NVAR in generation 1 of 10\n",
            "Model Number: 164 with model LastValueNaive in generation 1 of 10\n",
            "Model Number: 165 with model LastValueNaive in generation 1 of 10\n",
            "Model Number: 166 with model LastValueNaive in generation 1 of 10\n",
            "Model Number: 167 with model WindowRegression in generation 1 of 10\n",
            "Model Number: 168 with model WindowRegression in generation 1 of 10\n"
          ]
        },
        {
          "output_type": "stream",
          "name": "stderr",
          "text": [
            "/usr/local/lib/python3.7/dist-packages/sklearn/experimental/enable_hist_gradient_boosting.py:17: UserWarning: Since version 1.0, it is not needed to import enable_hist_gradient_boosting anymore. HistGradientBoostingClassifier and HistGradientBoostingRegressor are now stable and can be normally imported from sklearn.ensemble.\n",
            "  \"Since version 1.0, \"\n"
          ]
        },
        {
          "output_type": "stream",
          "name": "stdout",
          "text": [
            "Model Number: 169 with model WindowRegression in generation 1 of 10\n",
            "Template Eval Error: ValueError(\"regression_type='User' but no future_regressor passed\") in model 169: WindowRegression\n",
            "Model Number: 170 with model ETS in generation 1 of 10\n",
            "ETS error TypeError(\"__init__() got an unexpected keyword argument 'damped_trend'\")\n",
            "Model Number: 171 with model ETS in generation 1 of 10\n",
            "ETS error TypeError(\"__init__() got an unexpected keyword argument 'damped_trend'\")\n",
            "Model Number: 172 with model ETS in generation 1 of 10\n",
            "ETS error TypeError(\"__init__() got an unexpected keyword argument 'damped_trend'\")\n",
            "Model Number: 173 with model ETS in generation 1 of 10\n",
            "ETS error TypeError(\"__init__() got an unexpected keyword argument 'damped_trend'\")\n",
            "Model Number: 174 with model UnobservedComponents in generation 1 of 10\n",
            "Model Number: 175 with model UnobservedComponents in generation 1 of 10\n",
            "Template Eval Error: ValueError('Provided exogenous values are not of the appropriate shape. Required (10, 1), got (10,).') in model 175: UnobservedComponents\n",
            "Model Number: 176 with model UnobservedComponents in generation 1 of 10\n",
            "Template Eval Error: ValueError(\"regression_type='User' but no future_regressor supplied\") in model 176: UnobservedComponents\n",
            "Model Number: 177 with model AverageValueNaive in generation 1 of 10\n",
            "Model Number: 178 with model AverageValueNaive in generation 1 of 10\n",
            "Model Number: 179 with model AverageValueNaive in generation 1 of 10\n",
            "Model Number: 180 with model SeasonalNaive in generation 1 of 10\n",
            "Model Number: 181 with model SeasonalNaive in generation 1 of 10\n",
            "Model Number: 182 with model SeasonalNaive in generation 1 of 10\n",
            "Model Number: 183 with model SeasonalNaive in generation 1 of 10\n",
            "Model Number: 184 with model MultivariateRegression in generation 1 of 10\n"
          ]
        },
        {
          "output_type": "stream",
          "name": "stderr",
          "text": [
            "[Parallel(n_jobs=-2)]: Using backend SequentialBackend with 1 concurrent workers.\n",
            "[Parallel(n_jobs=-2)]: Done 1000 out of 1000 | elapsed:    2.1s finished\n",
            "[Parallel(n_jobs=1)]: Using backend SequentialBackend with 1 concurrent workers.\n",
            "[Parallel(n_jobs=1)]: Done 1000 out of 1000 | elapsed:    0.2s finished\n",
            "[Parallel(n_jobs=1)]: Using backend SequentialBackend with 1 concurrent workers.\n",
            "[Parallel(n_jobs=1)]: Done 1000 out of 1000 | elapsed:    0.2s finished\n",
            "[Parallel(n_jobs=1)]: Using backend SequentialBackend with 1 concurrent workers.\n",
            "[Parallel(n_jobs=1)]: Done 1000 out of 1000 | elapsed:    0.2s finished\n",
            "[Parallel(n_jobs=1)]: Using backend SequentialBackend with 1 concurrent workers.\n",
            "[Parallel(n_jobs=1)]: Done 1000 out of 1000 | elapsed:    0.2s finished\n",
            "[Parallel(n_jobs=1)]: Using backend SequentialBackend with 1 concurrent workers.\n",
            "[Parallel(n_jobs=1)]: Done 1000 out of 1000 | elapsed:    0.2s finished\n",
            "[Parallel(n_jobs=1)]: Using backend SequentialBackend with 1 concurrent workers.\n",
            "[Parallel(n_jobs=1)]: Done 1000 out of 1000 | elapsed:    0.2s finished\n",
            "[Parallel(n_jobs=1)]: Using backend SequentialBackend with 1 concurrent workers.\n",
            "[Parallel(n_jobs=1)]: Done 1000 out of 1000 | elapsed:    0.2s finished\n",
            "[Parallel(n_jobs=1)]: Using backend SequentialBackend with 1 concurrent workers.\n",
            "[Parallel(n_jobs=1)]: Done 1000 out of 1000 | elapsed:    0.2s finished\n",
            "[Parallel(n_jobs=1)]: Using backend SequentialBackend with 1 concurrent workers.\n",
            "[Parallel(n_jobs=1)]: Done 1000 out of 1000 | elapsed:    0.8s finished\n",
            "[Parallel(n_jobs=1)]: Using backend SequentialBackend with 1 concurrent workers.\n",
            "[Parallel(n_jobs=1)]: Done 1000 out of 1000 | elapsed:    0.2s finished\n"
          ]
        },
        {
          "output_type": "stream",
          "name": "stdout",
          "text": [
            "Model Number: 185 with model MultivariateRegression in generation 1 of 10\n"
          ]
        },
        {
          "output_type": "stream",
          "name": "stderr",
          "text": [
            "[Parallel(n_jobs=-2)]: Using backend SequentialBackend with 1 concurrent workers.\n",
            "[Parallel(n_jobs=-2)]: Done 1000 out of 1000 | elapsed:    2.9s finished\n",
            "[Parallel(n_jobs=1)]: Using backend SequentialBackend with 1 concurrent workers.\n",
            "[Parallel(n_jobs=1)]: Done 1000 out of 1000 | elapsed:    0.2s finished\n",
            "[Parallel(n_jobs=1)]: Using backend SequentialBackend with 1 concurrent workers.\n",
            "[Parallel(n_jobs=1)]: Done 1000 out of 1000 | elapsed:    0.2s finished\n",
            "[Parallel(n_jobs=1)]: Using backend SequentialBackend with 1 concurrent workers.\n",
            "[Parallel(n_jobs=1)]: Done 1000 out of 1000 | elapsed:    0.1s finished\n",
            "[Parallel(n_jobs=1)]: Using backend SequentialBackend with 1 concurrent workers.\n",
            "[Parallel(n_jobs=1)]: Done 1000 out of 1000 | elapsed:    0.2s finished\n",
            "[Parallel(n_jobs=1)]: Using backend SequentialBackend with 1 concurrent workers.\n",
            "[Parallel(n_jobs=1)]: Done 1000 out of 1000 | elapsed:    0.2s finished\n",
            "[Parallel(n_jobs=1)]: Using backend SequentialBackend with 1 concurrent workers.\n",
            "[Parallel(n_jobs=1)]: Done 1000 out of 1000 | elapsed:    0.2s finished\n",
            "[Parallel(n_jobs=1)]: Using backend SequentialBackend with 1 concurrent workers.\n",
            "[Parallel(n_jobs=1)]: Done 1000 out of 1000 | elapsed:    0.2s finished\n",
            "[Parallel(n_jobs=1)]: Using backend SequentialBackend with 1 concurrent workers.\n",
            "[Parallel(n_jobs=1)]: Done 1000 out of 1000 | elapsed:    0.1s finished\n",
            "[Parallel(n_jobs=1)]: Using backend SequentialBackend with 1 concurrent workers.\n",
            "[Parallel(n_jobs=1)]: Done 1000 out of 1000 | elapsed:    0.2s finished\n",
            "[Parallel(n_jobs=1)]: Using backend SequentialBackend with 1 concurrent workers.\n",
            "[Parallel(n_jobs=1)]: Done 1000 out of 1000 | elapsed:    0.2s finished\n"
          ]
        },
        {
          "output_type": "stream",
          "name": "stdout",
          "text": [
            "Model Number: 186 with model MultivariateRegression in generation 1 of 10\n",
            "Template Eval Error: ValueError(\"regression_type='User' but not future_regressor supplied.\") in model 186: MultivariateRegression\n",
            "Model Number: 187 with model MultivariateRegression in generation 1 of 10\n"
          ]
        },
        {
          "output_type": "stream",
          "name": "stderr",
          "text": [
            "[Parallel(n_jobs=-2)]: Using backend SequentialBackend with 1 concurrent workers.\n",
            "[Parallel(n_jobs=-2)]: Done 200 out of 200 | elapsed:    0.7s finished\n",
            "[Parallel(n_jobs=1)]: Using backend SequentialBackend with 1 concurrent workers.\n",
            "[Parallel(n_jobs=1)]: Done 200 out of 200 | elapsed:    0.1s finished\n",
            "[Parallel(n_jobs=1)]: Using backend SequentialBackend with 1 concurrent workers.\n",
            "[Parallel(n_jobs=1)]: Done 200 out of 200 | elapsed:    0.0s finished\n",
            "[Parallel(n_jobs=1)]: Using backend SequentialBackend with 1 concurrent workers.\n",
            "[Parallel(n_jobs=1)]: Done 200 out of 200 | elapsed:    0.0s finished\n",
            "[Parallel(n_jobs=1)]: Using backend SequentialBackend with 1 concurrent workers.\n",
            "[Parallel(n_jobs=1)]: Done 200 out of 200 | elapsed:    0.0s finished\n",
            "[Parallel(n_jobs=1)]: Using backend SequentialBackend with 1 concurrent workers.\n",
            "[Parallel(n_jobs=1)]: Done 200 out of 200 | elapsed:    0.0s finished\n",
            "[Parallel(n_jobs=1)]: Using backend SequentialBackend with 1 concurrent workers.\n",
            "[Parallel(n_jobs=1)]: Done 200 out of 200 | elapsed:    0.0s finished\n",
            "[Parallel(n_jobs=1)]: Using backend SequentialBackend with 1 concurrent workers.\n",
            "[Parallel(n_jobs=1)]: Done 200 out of 200 | elapsed:    0.0s finished\n",
            "[Parallel(n_jobs=1)]: Using backend SequentialBackend with 1 concurrent workers.\n",
            "[Parallel(n_jobs=1)]: Done 200 out of 200 | elapsed:    0.0s finished\n",
            "[Parallel(n_jobs=1)]: Using backend SequentialBackend with 1 concurrent workers.\n",
            "[Parallel(n_jobs=1)]: Done 200 out of 200 | elapsed:    0.0s finished\n",
            "[Parallel(n_jobs=1)]: Using backend SequentialBackend with 1 concurrent workers.\n",
            "[Parallel(n_jobs=1)]: Done 200 out of 200 | elapsed:    0.0s finished\n"
          ]
        },
        {
          "output_type": "stream",
          "name": "stdout",
          "text": [
            "Model Number: 188 with model UnivariateMotif in generation 1 of 10\n",
            "Model Number: 189 with model UnivariateMotif in generation 1 of 10\n",
            "Model Number: 190 with model UnivariateMotif in generation 1 of 10\n",
            "Model Number: 191 with model UnivariateMotif in generation 1 of 10\n",
            "Model Number: 192 with model GLS in generation 1 of 10\n",
            "Model Number: 193 with model GLS in generation 1 of 10\n",
            "Model Number: 194 with model GLS in generation 1 of 10\n",
            "Model Number: 195 with model MultivariateMotif in generation 1 of 10\n",
            "Template Eval Error: ValueError('Model MultivariateMotif returned NaN for one or more series. fail_on_forecast_nan=True') in model 195: MultivariateMotif\n",
            "Model Number: 196 with model MultivariateMotif in generation 1 of 10\n",
            "Model Number: 197 with model MultivariateMotif in generation 1 of 10\n",
            "Model Number: 198 with model MultivariateMotif in generation 1 of 10\n"
          ]
        },
        {
          "output_type": "stream",
          "name": "stderr",
          "text": [
            "/usr/local/lib/python3.7/dist-packages/numpy/core/_methods.py:48: RuntimeWarning: invalid value encountered in reduce\n",
            "  return umr_sum(a, axis, dtype, out, keepdims, initial, where)\n",
            "/usr/local/lib/python3.7/dist-packages/numpy/lib/function_base.py:412: RuntimeWarning: invalid value encountered in true_divide\n",
            "  avg = np.multiply(a, wgt, dtype=result_dtype).sum(axis)/scl\n"
          ]
        },
        {
          "output_type": "stream",
          "name": "stdout",
          "text": [
            "Model Number: 199 with model FBProphet in generation 1 of 10\n",
            "Template Eval Error: ValueError(\"regression_type='User' but no future_regressor passed\") in model 199: FBProphet\n",
            "Model Number: 200 with model FBProphet in generation 1 of 10\n"
          ]
        },
        {
          "output_type": "stream",
          "name": "stderr",
          "text": [
            "INFO:fbprophet:Disabling yearly seasonality. Run prophet with yearly_seasonality=True to override this.\n",
            "INFO:fbprophet:Disabling daily seasonality. Run prophet with daily_seasonality=True to override this.\n",
            "INFO:fbprophet:Disabling yearly seasonality. Run prophet with yearly_seasonality=True to override this.\n",
            "INFO:fbprophet:Disabling daily seasonality. Run prophet with daily_seasonality=True to override this.\n"
          ]
        },
        {
          "output_type": "stream",
          "name": "stdout",
          "text": [
            "Model Number: 201 with model FBProphet in generation 1 of 10\n",
            "Template Eval Error: ValueError(\"regression_type='User' but no future_regressor passed\") in model 201: FBProphet\n",
            "Model Number: 202 with model FBProphet in generation 1 of 10\n",
            "Model Number: 203 with model ConstantNaive in generation 1 of 10\n",
            "Model Number: 204 with model ConstantNaive in generation 1 of 10\n",
            "Model Number: 205 with model ConstantNaive in generation 1 of 10\n",
            "Model Number: 206 with model GLM in generation 1 of 10\n"
          ]
        },
        {
          "output_type": "stream",
          "name": "stderr",
          "text": [
            "/usr/local/lib/python3.7/dist-packages/statsmodels/genmod/families/family.py:1223: RuntimeWarning: divide by zero encountered in true_divide\n",
            "  endog_mu = self._clean(endog / mu)\n"
          ]
        },
        {
          "output_type": "stream",
          "name": "stdout",
          "text": [
            "Model Number: 207 with model GLM in generation 1 of 10\n",
            "Template Eval Error: TypeError(\"ufunc 'isfinite' not supported for the input types, and the inputs could not be safely coerced to any supported types according to the casting rule ''safe''\") in model 207: GLM\n",
            "Model Number: 208 with model GLM in generation 1 of 10\n",
            "Template Eval Error: TypeError(\"ufunc 'isfinite' not supported for the input types, and the inputs could not be safely coerced to any supported types according to the casting rule ''safe''\") in model 208: GLM\n",
            "Model Number: 209 with model GLM in generation 1 of 10\n",
            "Model Number: 210 with model VAR in generation 1 of 10\n",
            "Template Eval Error: ValueError('Only gave one variable to VAR') in model 210: VAR\n",
            "Model Number: 211 with model VAR in generation 1 of 10\n",
            "Template Eval Error: ValueError('Only gave one variable to VAR') in model 211: VAR\n",
            "Model Number: 212 with model VAR in generation 1 of 10\n",
            "Template Eval Error: ValueError('Only gave one variable to VAR') in model 212: VAR\n",
            "Model Number: 213 with model VAR in generation 1 of 10\n",
            "Template Eval Error: ValueError('Only gave one variable to VAR') in model 213: VAR\n",
            "Model Number: 214 with model VECM in generation 1 of 10\n",
            "Template Eval Error: ValueError('Only gave one variable to VECM') in model 214: VECM\n",
            "Model Number: 215 with model VECM in generation 1 of 10\n",
            "Template Eval Error: ValueError('Only gave one variable to VECM') in model 215: VECM\n",
            "Model Number: 216 with model VECM in generation 1 of 10\n",
            "Template Eval Error: ValueError('Only gave one variable to VECM') in model 216: VECM\n",
            "Model Number: 217 with model VECM in generation 1 of 10\n",
            "Template Eval Error: ValueError('Only gave one variable to VECM') in model 217: VECM\n",
            "Model Number: 218 with model ARDL in generation 1 of 10\n",
            "Template Eval Error: ValueError(\"regression_type='User' but future_regressor not supplied\") in model 218: ARDL\n",
            "Model Number: 219 with model ARDL in generation 1 of 10\n",
            "Template Eval Error: ValueError(\"regression_type='User' but future_regressor not supplied\") in model 219: ARDL\n",
            "Model Number: 220 with model ARDL in generation 1 of 10\n",
            "Template Eval Error: ImportError(\"cannot import name 'ARDL' from 'statsmodels.tsa.api' (/usr/local/lib/python3.7/dist-packages/statsmodels/tsa/api.py)\") in model 220: ARDL\n",
            "Model Number: 221 with model ARDL in generation 1 of 10\n",
            "Template Eval Error: ImportError(\"cannot import name 'ARDL' from 'statsmodels.tsa.api' (/usr/local/lib/python3.7/dist-packages/statsmodels/tsa/api.py)\") in model 221: ARDL\n",
            "Model Number: 222 with model Theta in generation 1 of 10\n",
            "Template Eval Error: ModuleNotFoundError(\"No module named 'statsmodels.tsa.forecasting'\") in model 222: Theta\n",
            "Model Number: 223 with model Theta in generation 1 of 10\n",
            "Template Eval Error: ModuleNotFoundError(\"No module named 'statsmodels.tsa.forecasting'\") in model 223: Theta\n",
            "Model Number: 224 with model Theta in generation 1 of 10\n",
            "Template Eval Error: ModuleNotFoundError(\"No module named 'statsmodels.tsa.forecasting'\") in model 224: Theta\n",
            "Model Number: 225 with model Theta in generation 1 of 10\n",
            "Template Eval Error: ModuleNotFoundError(\"No module named 'statsmodels.tsa.forecasting'\") in model 225: Theta\n",
            "New Generation: 2 of 10\n",
            "Model Number: 226 with model SectionalMotif in generation 2 of 10\n",
            "Model Number: 227 with model SectionalMotif in generation 2 of 10\n",
            "Model Number: 228 with model SectionalMotif in generation 2 of 10\n",
            "Model Number: 229 with model SectionalMotif in generation 2 of 10\n",
            "Model Number: 230 with model NVAR in generation 2 of 10\n",
            "Model Number: 231 with model NVAR in generation 2 of 10\n",
            "Model Number: 232 with model NVAR in generation 2 of 10\n",
            "Model Number: 233 with model NVAR in generation 2 of 10\n",
            "Model Number: 234 with model DatepartRegression in generation 2 of 10\n",
            "Model Number: 235 with model DatepartRegression in generation 2 of 10\n"
          ]
        },
        {
          "output_type": "stream",
          "name": "stderr",
          "text": [
            "[Parallel(n_jobs=-2)]: Using backend SequentialBackend with 1 concurrent workers.\n",
            "[Parallel(n_jobs=-2)]: Done 1000 out of 1000 | elapsed:    2.3s finished\n",
            "[Parallel(n_jobs=1)]: Using backend SequentialBackend with 1 concurrent workers.\n",
            "[Parallel(n_jobs=1)]: Done 1000 out of 1000 | elapsed:    0.2s finished\n"
          ]
        },
        {
          "output_type": "stream",
          "name": "stdout",
          "text": [
            "Model Number: 236 with model DatepartRegression in generation 2 of 10\n",
            "Template Eval Error: ValueError('Failed to convert a NumPy array to a Tensor (Unsupported object type int).') in model 236: DatepartRegression\n",
            "Model Number: 237 with model AverageValueNaive in generation 2 of 10\n",
            "Model Number: 238 with model AverageValueNaive in generation 2 of 10\n",
            "Model Number: 239 with model AverageValueNaive in generation 2 of 10\n",
            "Model Number: 240 with model LastValueNaive in generation 2 of 10\n",
            "Model Number: 241 with model LastValueNaive in generation 2 of 10\n",
            "Model Number: 242 with model WindowRegression in generation 2 of 10\n",
            "Model Number: 243 with model WindowRegression in generation 2 of 10\n",
            "Model Number: 244 with model WindowRegression in generation 2 of 10\n",
            "Model Number: 245 with model ETS in generation 2 of 10\n",
            "ETS error TypeError(\"__init__() got an unexpected keyword argument 'damped_trend'\")\n",
            "Model Number: 246 with model ETS in generation 2 of 10\n",
            "ETS error TypeError(\"__init__() got an unexpected keyword argument 'damped_trend'\")\n",
            "ETS failed on Close with ValueError('endog must be strictly positive when using multiplicative trend or seasonal components.')\n",
            "Model Number: 247 with model ETS in generation 2 of 10\n",
            "ETS error TypeError(\"__init__() got an unexpected keyword argument 'damped_trend'\")\n",
            "Model Number: 248 with model SeasonalNaive in generation 2 of 10\n",
            "Model Number: 249 with model SeasonalNaive in generation 2 of 10\n",
            "Model Number: 250 with model SeasonalNaive in generation 2 of 10\n",
            "Model Number: 251 with model SeasonalNaive in generation 2 of 10\n",
            "Model Number: 252 with model UnobservedComponents in generation 2 of 10\n",
            "Template Eval Error: ValueError('Provided exogenous values are not of the appropriate shape. Required (10, 1), got (10,).') in model 252: UnobservedComponents\n",
            "Model Number: 253 with model UnobservedComponents in generation 2 of 10\n",
            "Template Eval Error: ValueError(\"regression_type='User' but no future_regressor supplied\") in model 253: UnobservedComponents\n",
            "Model Number: 254 with model UnobservedComponents in generation 2 of 10\n",
            "Model Number: 255 with model MultivariateRegression in generation 2 of 10\n",
            "Template Eval Error: ValueError(\"regression_type='User' but not future_regressor supplied.\") in model 255: MultivariateRegression\n",
            "Model Number: 256 with model MultivariateRegression in generation 2 of 10\n",
            "Template Eval Error: ValueError(\"regression_type='User' but not future_regressor supplied.\") in model 256: MultivariateRegression\n",
            "Model Number: 257 with model MultivariateRegression in generation 2 of 10\n",
            "Template Eval Error: ValueError(\"regression_type='User' but not future_regressor supplied.\") in model 257: MultivariateRegression\n",
            "Model Number: 258 with model MultivariateRegression in generation 2 of 10\n"
          ]
        },
        {
          "output_type": "stream",
          "name": "stderr",
          "text": [
            "[Parallel(n_jobs=-2)]: Using backend SequentialBackend with 1 concurrent workers.\n",
            "[Parallel(n_jobs=-2)]: Done 200 out of 200 | elapsed:    0.5s finished\n",
            "[Parallel(n_jobs=1)]: Using backend SequentialBackend with 1 concurrent workers.\n",
            "[Parallel(n_jobs=1)]: Done 200 out of 200 | elapsed:    0.0s finished\n",
            "[Parallel(n_jobs=1)]: Using backend SequentialBackend with 1 concurrent workers.\n",
            "[Parallel(n_jobs=1)]: Done 200 out of 200 | elapsed:    0.0s finished\n",
            "[Parallel(n_jobs=1)]: Using backend SequentialBackend with 1 concurrent workers.\n",
            "[Parallel(n_jobs=1)]: Done 200 out of 200 | elapsed:    0.0s finished\n",
            "[Parallel(n_jobs=1)]: Using backend SequentialBackend with 1 concurrent workers.\n",
            "[Parallel(n_jobs=1)]: Done 200 out of 200 | elapsed:    0.0s finished\n",
            "[Parallel(n_jobs=1)]: Using backend SequentialBackend with 1 concurrent workers.\n",
            "[Parallel(n_jobs=1)]: Done 200 out of 200 | elapsed:    0.0s finished\n",
            "[Parallel(n_jobs=1)]: Using backend SequentialBackend with 1 concurrent workers.\n",
            "[Parallel(n_jobs=1)]: Done 200 out of 200 | elapsed:    0.0s finished\n",
            "[Parallel(n_jobs=1)]: Using backend SequentialBackend with 1 concurrent workers.\n",
            "[Parallel(n_jobs=1)]: Done 200 out of 200 | elapsed:    0.0s finished\n",
            "[Parallel(n_jobs=1)]: Using backend SequentialBackend with 1 concurrent workers.\n",
            "[Parallel(n_jobs=1)]: Done 200 out of 200 | elapsed:    0.0s finished\n",
            "[Parallel(n_jobs=1)]: Using backend SequentialBackend with 1 concurrent workers.\n",
            "[Parallel(n_jobs=1)]: Done 200 out of 200 | elapsed:    0.0s finished\n"
          ]
        },
        {
          "output_type": "stream",
          "name": "stdout",
          "text": [
            "Model Number: 259 with model MultivariateMotif in generation 2 of 10\n"
          ]
        },
        {
          "output_type": "stream",
          "name": "stderr",
          "text": [
            "[Parallel(n_jobs=1)]: Using backend SequentialBackend with 1 concurrent workers.\n",
            "[Parallel(n_jobs=1)]: Done 200 out of 200 | elapsed:    0.0s finished\n"
          ]
        },
        {
          "output_type": "stream",
          "name": "stdout",
          "text": [
            "Model Number: 260 with model MultivariateMotif in generation 2 of 10\n",
            "Model Number: 261 with model MultivariateMotif in generation 2 of 10\n",
            "Model Number: 262 with model MultivariateMotif in generation 2 of 10\n",
            "Model Number: 263 with model ConstantNaive in generation 2 of 10\n",
            "Model Number: 264 with model ConstantNaive in generation 2 of 10\n",
            "Model Number: 265 with model ConstantNaive in generation 2 of 10\n",
            "Model Number: 266 with model FBProphet in generation 2 of 10\n"
          ]
        },
        {
          "output_type": "stream",
          "name": "stderr",
          "text": [
            "INFO:fbprophet:Disabling yearly seasonality. Run prophet with yearly_seasonality=True to override this.\n",
            "INFO:fbprophet:Disabling daily seasonality. Run prophet with daily_seasonality=True to override this.\n",
            "INFO:fbprophet:Disabling yearly seasonality. Run prophet with yearly_seasonality=True to override this.\n",
            "INFO:fbprophet:Disabling daily seasonality. Run prophet with daily_seasonality=True to override this.\n"
          ]
        },
        {
          "output_type": "stream",
          "name": "stdout",
          "text": [
            "Model Number: 267 with model FBProphet in generation 2 of 10\n"
          ]
        },
        {
          "output_type": "stream",
          "name": "stderr",
          "text": [
            "INFO:fbprophet:Disabling yearly seasonality. Run prophet with yearly_seasonality=True to override this.\n",
            "INFO:fbprophet:Disabling daily seasonality. Run prophet with daily_seasonality=True to override this.\n"
          ]
        },
        {
          "output_type": "stream",
          "name": "stdout",
          "text": [
            "Model Number: 268 with model FBProphet in generation 2 of 10\n"
          ]
        },
        {
          "output_type": "stream",
          "name": "stderr",
          "text": [
            "INFO:fbprophet:Disabling yearly seasonality. Run prophet with yearly_seasonality=True to override this.\n",
            "INFO:fbprophet:Disabling daily seasonality. Run prophet with daily_seasonality=True to override this.\n"
          ]
        },
        {
          "output_type": "stream",
          "name": "stdout",
          "text": [
            "Model Number: 269 with model FBProphet in generation 2 of 10\n",
            "Model Number: 270 with model UnivariateMotif in generation 2 of 10\n",
            "Template Eval Error: Exception('Transformer STLFilter failed on fit') in model 270: UnivariateMotif\n",
            "Model Number: 271 with model UnivariateMotif in generation 2 of 10\n",
            "Model Number: 272 with model UnivariateMotif in generation 2 of 10\n",
            "Template Eval Error: Exception('Transformer STLFilter failed on fit') in model 272: UnivariateMotif\n",
            "Model Number: 273 with model UnivariateMotif in generation 2 of 10\n",
            "Model Number: 274 with model GLS in generation 2 of 10\n",
            "Model Number: 275 with model GLS in generation 2 of 10\n",
            "Model Number: 276 with model GLS in generation 2 of 10\n",
            "Model Number: 277 with model GLM in generation 2 of 10\n",
            "Template Eval Error: TypeError(\"ufunc 'isfinite' not supported for the input types, and the inputs could not be safely coerced to any supported types according to the casting rule ''safe''\") in model 277: GLM\n",
            "Model Number: 278 with model GLM in generation 2 of 10\n",
            "Template Eval Error: TypeError(\"ufunc 'isfinite' not supported for the input types, and the inputs could not be safely coerced to any supported types according to the casting rule ''safe''\") in model 278: GLM\n",
            "Model Number: 279 with model GLM in generation 2 of 10\n"
          ]
        },
        {
          "output_type": "stream",
          "name": "stderr",
          "text": [
            "/usr/local/lib/python3.7/dist-packages/statsmodels/genmod/families/family.py:1223: RuntimeWarning: divide by zero encountered in true_divide\n",
            "  endog_mu = self._clean(endog / mu)\n"
          ]
        },
        {
          "output_type": "stream",
          "name": "stdout",
          "text": [
            "Model Number: 280 with model GLM in generation 2 of 10\n",
            "Template Eval Error: TypeError(\"ufunc 'isfinite' not supported for the input types, and the inputs could not be safely coerced to any supported types according to the casting rule ''safe''\") in model 280: GLM\n",
            "Model Number: 281 with model VAR in generation 2 of 10\n",
            "Template Eval Error: ValueError('Only gave one variable to VAR') in model 281: VAR\n",
            "Model Number: 282 with model VAR in generation 2 of 10\n",
            "Template Eval Error: ValueError('Only gave one variable to VAR') in model 282: VAR\n",
            "Model Number: 283 with model VAR in generation 2 of 10\n",
            "Template Eval Error: ValueError('Only gave one variable to VAR') in model 283: VAR\n",
            "Model Number: 284 with model VAR in generation 2 of 10\n",
            "Template Eval Error: ValueError('Only gave one variable to VAR') in model 284: VAR\n",
            "Model Number: 285 with model VECM in generation 2 of 10\n",
            "Template Eval Error: ValueError('Only gave one variable to VECM') in model 285: VECM\n",
            "Model Number: 286 with model VECM in generation 2 of 10\n",
            "Template Eval Error: ValueError('Only gave one variable to VECM') in model 286: VECM\n",
            "Model Number: 287 with model VECM in generation 2 of 10\n",
            "Template Eval Error: ValueError('Only gave one variable to VECM') in model 287: VECM\n",
            "Model Number: 288 with model VECM in generation 2 of 10\n",
            "Template Eval Error: ValueError('Only gave one variable to VECM') in model 288: VECM\n",
            "Model Number: 289 with model ARDL in generation 2 of 10\n",
            "Template Eval Error: ImportError(\"cannot import name 'ARDL' from 'statsmodels.tsa.api' (/usr/local/lib/python3.7/dist-packages/statsmodels/tsa/api.py)\") in model 289: ARDL\n",
            "Model Number: 290 with model ARDL in generation 2 of 10\n",
            "Template Eval Error: ImportError(\"cannot import name 'ARDL' from 'statsmodels.tsa.api' (/usr/local/lib/python3.7/dist-packages/statsmodels/tsa/api.py)\") in model 290: ARDL\n",
            "Model Number: 291 with model ARDL in generation 2 of 10\n",
            "Template Eval Error: ImportError(\"cannot import name 'ARDL' from 'statsmodels.tsa.api' (/usr/local/lib/python3.7/dist-packages/statsmodels/tsa/api.py)\") in model 291: ARDL\n",
            "Model Number: 292 with model ARDL in generation 2 of 10\n",
            "Template Eval Error: ImportError(\"cannot import name 'ARDL' from 'statsmodels.tsa.api' (/usr/local/lib/python3.7/dist-packages/statsmodels/tsa/api.py)\") in model 292: ARDL\n",
            "Model Number: 293 with model Theta in generation 2 of 10\n",
            "Template Eval Error: ModuleNotFoundError(\"No module named 'statsmodels.tsa.forecasting'\") in model 293: Theta\n",
            "Model Number: 294 with model Theta in generation 2 of 10\n",
            "Template Eval Error: ModuleNotFoundError(\"No module named 'statsmodels.tsa.forecasting'\") in model 294: Theta\n",
            "Model Number: 295 with model Theta in generation 2 of 10\n",
            "Template Eval Error: ModuleNotFoundError(\"No module named 'statsmodels.tsa.forecasting'\") in model 295: Theta\n",
            "Model Number: 296 with model Theta in generation 2 of 10\n",
            "Template Eval Error: ModuleNotFoundError(\"No module named 'statsmodels.tsa.forecasting'\") in model 296: Theta\n",
            "New Generation: 3 of 10\n",
            "Model Number: 297 with model NVAR in generation 3 of 10\n",
            "Model Number: 298 with model NVAR in generation 3 of 10\n",
            "Model Number: 299 with model NVAR in generation 3 of 10\n",
            "Model Number: 300 with model SectionalMotif in generation 3 of 10\n",
            "Model Number: 301 with model SectionalMotif in generation 3 of 10\n",
            "Model Number: 302 with model SectionalMotif in generation 3 of 10\n",
            "Model Number: 303 with model SectionalMotif in generation 3 of 10\n",
            "Model Number: 304 with model WindowRegression in generation 3 of 10\n",
            "Model Number: 305 with model WindowRegression in generation 3 of 10\n"
          ]
        },
        {
          "output_type": "stream",
          "name": "stderr",
          "text": [
            "[Parallel(n_jobs=-2)]: Using backend SequentialBackend with 1 concurrent workers.\n",
            "[Parallel(n_jobs=-2)]: Done 100 out of 100 | elapsed:    0.2s finished\n",
            "[Parallel(n_jobs=1)]: Using backend SequentialBackend with 1 concurrent workers.\n",
            "[Parallel(n_jobs=1)]: Done 100 out of 100 | elapsed:    0.0s finished\n",
            "[Parallel(n_jobs=1)]: Using backend SequentialBackend with 1 concurrent workers.\n",
            "[Parallel(n_jobs=1)]: Done 100 out of 100 | elapsed:    0.0s finished\n",
            "[Parallel(n_jobs=1)]: Using backend SequentialBackend with 1 concurrent workers.\n",
            "[Parallel(n_jobs=1)]: Done 100 out of 100 | elapsed:    0.0s finished\n",
            "[Parallel(n_jobs=1)]: Using backend SequentialBackend with 1 concurrent workers.\n",
            "[Parallel(n_jobs=1)]: Done 100 out of 100 | elapsed:    0.0s finished\n",
            "[Parallel(n_jobs=1)]: Using backend SequentialBackend with 1 concurrent workers.\n",
            "[Parallel(n_jobs=1)]: Done 100 out of 100 | elapsed:    0.0s finished\n",
            "[Parallel(n_jobs=1)]: Using backend SequentialBackend with 1 concurrent workers.\n",
            "[Parallel(n_jobs=1)]: Done 100 out of 100 | elapsed:    0.0s finished\n",
            "[Parallel(n_jobs=1)]: Using backend SequentialBackend with 1 concurrent workers.\n",
            "[Parallel(n_jobs=1)]: Done 100 out of 100 | elapsed:    0.0s finished\n",
            "[Parallel(n_jobs=1)]: Using backend SequentialBackend with 1 concurrent workers.\n",
            "[Parallel(n_jobs=1)]: Done 100 out of 100 | elapsed:    0.0s finished\n"
          ]
        },
        {
          "output_type": "stream",
          "name": "stdout",
          "text": [
            "Model Number: 306 with model WindowRegression in generation 3 of 10\n"
          ]
        },
        {
          "output_type": "stream",
          "name": "stderr",
          "text": [
            "[Parallel(n_jobs=1)]: Using backend SequentialBackend with 1 concurrent workers.\n",
            "[Parallel(n_jobs=1)]: Done 100 out of 100 | elapsed:    0.0s finished\n",
            "[Parallel(n_jobs=1)]: Using backend SequentialBackend with 1 concurrent workers.\n",
            "[Parallel(n_jobs=1)]: Done 100 out of 100 | elapsed:    0.0s finished\n"
          ]
        },
        {
          "output_type": "stream",
          "name": "stdout",
          "text": [
            "Model Number: 307 with model DatepartRegression in generation 3 of 10\n",
            "Template Eval Error: ValueError(\"regression_type='User' but no future_regressor passed\") in model 307: DatepartRegression\n",
            "Model Number: 308 with model DatepartRegression in generation 3 of 10\n",
            "Template Eval Error: ValueError(\"regression_type='User' but no future_regressor passed\") in model 308: DatepartRegression\n",
            "Model Number: 309 with model DatepartRegression in generation 3 of 10\n",
            "[LibLinear][LibLinear][LibLinear][LibLinear][LibLinear]"
          ]
        },
        {
          "output_type": "stream",
          "name": "stderr",
          "text": [
            "/usr/local/lib/python3.7/dist-packages/sklearn/svm/_base.py:1208: ConvergenceWarning: Liblinear failed to converge, increase the number of iterations.\n",
            "  ConvergenceWarning,\n",
            "/usr/local/lib/python3.7/dist-packages/sklearn/svm/_base.py:1208: ConvergenceWarning: Liblinear failed to converge, increase the number of iterations.\n",
            "  ConvergenceWarning,\n",
            "/usr/local/lib/python3.7/dist-packages/sklearn/svm/_base.py:1208: ConvergenceWarning: Liblinear failed to converge, increase the number of iterations.\n",
            "  ConvergenceWarning,\n",
            "/usr/local/lib/python3.7/dist-packages/sklearn/svm/_base.py:1208: ConvergenceWarning: Liblinear failed to converge, increase the number of iterations.\n",
            "  ConvergenceWarning,\n",
            "/usr/local/lib/python3.7/dist-packages/sklearn/svm/_base.py:1208: ConvergenceWarning: Liblinear failed to converge, increase the number of iterations.\n",
            "  ConvergenceWarning,\n"
          ]
        },
        {
          "output_type": "stream",
          "name": "stdout",
          "text": [
            "[LibLinear][LibLinear][LibLinear][LibLinear][LibLinear][LibLinear]"
          ]
        },
        {
          "output_type": "stream",
          "name": "stderr",
          "text": [
            "/usr/local/lib/python3.7/dist-packages/sklearn/svm/_base.py:1208: ConvergenceWarning: Liblinear failed to converge, increase the number of iterations.\n",
            "  ConvergenceWarning,\n",
            "/usr/local/lib/python3.7/dist-packages/sklearn/svm/_base.py:1208: ConvergenceWarning: Liblinear failed to converge, increase the number of iterations.\n",
            "  ConvergenceWarning,\n",
            "/usr/local/lib/python3.7/dist-packages/sklearn/svm/_base.py:1208: ConvergenceWarning: Liblinear failed to converge, increase the number of iterations.\n",
            "  ConvergenceWarning,\n",
            "/usr/local/lib/python3.7/dist-packages/sklearn/svm/_base.py:1208: ConvergenceWarning: Liblinear failed to converge, increase the number of iterations.\n",
            "  ConvergenceWarning,\n",
            "/usr/local/lib/python3.7/dist-packages/sklearn/svm/_base.py:1208: ConvergenceWarning: Liblinear failed to converge, increase the number of iterations.\n",
            "  ConvergenceWarning,\n",
            "/usr/local/lib/python3.7/dist-packages/sklearn/svm/_base.py:1208: ConvergenceWarning: Liblinear failed to converge, increase the number of iterations.\n",
            "  ConvergenceWarning,\n"
          ]
        },
        {
          "output_type": "stream",
          "name": "stdout",
          "text": [
            "[LibLinear][LibLinear][LibLinear][LibLinear][LibLinear]"
          ]
        },
        {
          "output_type": "stream",
          "name": "stderr",
          "text": [
            "/usr/local/lib/python3.7/dist-packages/sklearn/svm/_base.py:1208: ConvergenceWarning: Liblinear failed to converge, increase the number of iterations.\n",
            "  ConvergenceWarning,\n",
            "/usr/local/lib/python3.7/dist-packages/sklearn/svm/_base.py:1208: ConvergenceWarning: Liblinear failed to converge, increase the number of iterations.\n",
            "  ConvergenceWarning,\n",
            "/usr/local/lib/python3.7/dist-packages/sklearn/svm/_base.py:1208: ConvergenceWarning: Liblinear failed to converge, increase the number of iterations.\n",
            "  ConvergenceWarning,\n",
            "/usr/local/lib/python3.7/dist-packages/sklearn/svm/_base.py:1208: ConvergenceWarning: Liblinear failed to converge, increase the number of iterations.\n",
            "  ConvergenceWarning,\n",
            "/usr/local/lib/python3.7/dist-packages/sklearn/svm/_base.py:1208: ConvergenceWarning: Liblinear failed to converge, increase the number of iterations.\n",
            "  ConvergenceWarning,\n"
          ]
        },
        {
          "output_type": "stream",
          "name": "stdout",
          "text": [
            "[LibLinear][LibLinear][LibLinear][LibLinear][LibLinear]"
          ]
        },
        {
          "output_type": "stream",
          "name": "stderr",
          "text": [
            "/usr/local/lib/python3.7/dist-packages/sklearn/svm/_base.py:1208: ConvergenceWarning: Liblinear failed to converge, increase the number of iterations.\n",
            "  ConvergenceWarning,\n",
            "/usr/local/lib/python3.7/dist-packages/sklearn/svm/_base.py:1208: ConvergenceWarning: Liblinear failed to converge, increase the number of iterations.\n",
            "  ConvergenceWarning,\n",
            "/usr/local/lib/python3.7/dist-packages/sklearn/svm/_base.py:1208: ConvergenceWarning: Liblinear failed to converge, increase the number of iterations.\n",
            "  ConvergenceWarning,\n",
            "/usr/local/lib/python3.7/dist-packages/sklearn/svm/_base.py:1208: ConvergenceWarning: Liblinear failed to converge, increase the number of iterations.\n",
            "  ConvergenceWarning,\n"
          ]
        },
        {
          "output_type": "stream",
          "name": "stdout",
          "text": [
            "Model Number: 310 with model AverageValueNaive in generation 3 of 10\n"
          ]
        },
        {
          "output_type": "stream",
          "name": "stderr",
          "text": [
            "/usr/local/lib/python3.7/dist-packages/sklearn/svm/_base.py:1208: ConvergenceWarning: Liblinear failed to converge, increase the number of iterations.\n",
            "  ConvergenceWarning,\n"
          ]
        },
        {
          "output_type": "stream",
          "name": "stdout",
          "text": [
            "Model Number: 311 with model AverageValueNaive in generation 3 of 10\n",
            "Model Number: 312 with model AverageValueNaive in generation 3 of 10\n",
            "Model Number: 313 with model LastValueNaive in generation 3 of 10\n",
            "Model Number: 314 with model LastValueNaive in generation 3 of 10\n",
            "Model Number: 315 with model MultivariateRegression in generation 3 of 10\n",
            "Model Number: 316 with model MultivariateRegression in generation 3 of 10\n",
            "Model Number: 317 with model MultivariateRegression in generation 3 of 10\n",
            "Model Number: 318 with model MultivariateRegression in generation 3 of 10\n"
          ]
        },
        {
          "output_type": "stream",
          "name": "stderr",
          "text": [
            "[Parallel(n_jobs=-2)]: Using backend SequentialBackend with 1 concurrent workers.\n",
            "[Parallel(n_jobs=-2)]: Done 200 out of 200 | elapsed:    0.4s finished\n",
            "[Parallel(n_jobs=1)]: Using backend SequentialBackend with 1 concurrent workers.\n",
            "[Parallel(n_jobs=1)]: Done 200 out of 200 | elapsed:    0.0s finished\n",
            "[Parallel(n_jobs=1)]: Using backend SequentialBackend with 1 concurrent workers.\n",
            "[Parallel(n_jobs=1)]: Done 200 out of 200 | elapsed:    0.0s finished\n",
            "[Parallel(n_jobs=1)]: Using backend SequentialBackend with 1 concurrent workers.\n",
            "[Parallel(n_jobs=1)]: Done 200 out of 200 | elapsed:    0.0s finished\n",
            "[Parallel(n_jobs=1)]: Using backend SequentialBackend with 1 concurrent workers.\n",
            "[Parallel(n_jobs=1)]: Done 200 out of 200 | elapsed:    0.0s finished\n",
            "[Parallel(n_jobs=1)]: Using backend SequentialBackend with 1 concurrent workers.\n",
            "[Parallel(n_jobs=1)]: Done 200 out of 200 | elapsed:    0.0s finished\n",
            "[Parallel(n_jobs=1)]: Using backend SequentialBackend with 1 concurrent workers.\n",
            "[Parallel(n_jobs=1)]: Done 200 out of 200 | elapsed:    0.0s finished\n",
            "[Parallel(n_jobs=1)]: Using backend SequentialBackend with 1 concurrent workers.\n",
            "[Parallel(n_jobs=1)]: Done 200 out of 200 | elapsed:    0.0s finished\n",
            "[Parallel(n_jobs=1)]: Using backend SequentialBackend with 1 concurrent workers.\n",
            "[Parallel(n_jobs=1)]: Done 200 out of 200 | elapsed:    0.0s finished\n",
            "[Parallel(n_jobs=1)]: Using backend SequentialBackend with 1 concurrent workers.\n",
            "[Parallel(n_jobs=1)]: Done 200 out of 200 | elapsed:    0.0s finished\n",
            "[Parallel(n_jobs=1)]: Using backend SequentialBackend with 1 concurrent workers.\n",
            "[Parallel(n_jobs=1)]: Done 200 out of 200 | elapsed:    0.0s finished\n"
          ]
        },
        {
          "output_type": "stream",
          "name": "stdout",
          "text": [
            "Model Number: 319 with model ETS in generation 3 of 10\n",
            "ETS error TypeError(\"__init__() got an unexpected keyword argument 'damped_trend'\")\n",
            "Model Number: 320 with model UnobservedComponents in generation 3 of 10\n",
            "Template Eval Error: ValueError('Provided exogenous values are not of the appropriate shape. Required (10, 1), got (10,).') in model 320: UnobservedComponents\n",
            "Model Number: 321 with model UnobservedComponents in generation 3 of 10\n",
            "Model Number: 322 with model UnobservedComponents in generation 3 of 10\n",
            "Template Eval Error: ValueError(\"regression_type='User' but no future_regressor supplied\") in model 322: UnobservedComponents\n",
            "Model Number: 323 with model SeasonalNaive in generation 3 of 10\n",
            "Model Number: 324 with model SeasonalNaive in generation 3 of 10\n",
            "Model Number: 325 with model SeasonalNaive in generation 3 of 10\n",
            "Model Number: 326 with model SeasonalNaive in generation 3 of 10\n",
            "Model Number: 327 with model GLS in generation 3 of 10\n",
            "Model Number: 328 with model GLS in generation 3 of 10\n",
            "Model Number: 329 with model GLS in generation 3 of 10\n",
            "Model Number: 330 with model ConstantNaive in generation 3 of 10\n",
            "Model Number: 331 with model ConstantNaive in generation 3 of 10\n",
            "Model Number: 332 with model ConstantNaive in generation 3 of 10\n",
            "Model Number: 333 with model MultivariateMotif in generation 3 of 10\n",
            "Model Number: 334 with model MultivariateMotif in generation 3 of 10\n",
            "Model Number: 335 with model MultivariateMotif in generation 3 of 10\n",
            "Model Number: 336 with model MultivariateMotif in generation 3 of 10\n",
            "Model Number: 337 with model FBProphet in generation 3 of 10\n"
          ]
        },
        {
          "output_type": "stream",
          "name": "stderr",
          "text": [
            "INFO:fbprophet:Disabling yearly seasonality. Run prophet with yearly_seasonality=True to override this.\n",
            "INFO:fbprophet:Disabling daily seasonality. Run prophet with daily_seasonality=True to override this.\n",
            "INFO:fbprophet:n_changepoints greater than number of observations. Using 29.\n",
            "INFO:fbprophet:Disabling yearly seasonality. Run prophet with yearly_seasonality=True to override this.\n",
            "INFO:fbprophet:Disabling daily seasonality. Run prophet with daily_seasonality=True to override this.\n"
          ]
        },
        {
          "output_type": "stream",
          "name": "stdout",
          "text": [
            "Model Number: 338 with model FBProphet in generation 3 of 10\n"
          ]
        },
        {
          "output_type": "stream",
          "name": "stderr",
          "text": [
            "INFO:fbprophet:Disabling yearly seasonality. Run prophet with yearly_seasonality=True to override this.\n",
            "INFO:fbprophet:Disabling daily seasonality. Run prophet with daily_seasonality=True to override this.\n"
          ]
        },
        {
          "output_type": "stream",
          "name": "stdout",
          "text": [
            "Model Number: 339 with model FBProphet in generation 3 of 10\n"
          ]
        },
        {
          "output_type": "stream",
          "name": "stderr",
          "text": [
            "INFO:fbprophet:Disabling yearly seasonality. Run prophet with yearly_seasonality=True to override this.\n",
            "INFO:fbprophet:Disabling daily seasonality. Run prophet with daily_seasonality=True to override this.\n"
          ]
        },
        {
          "output_type": "stream",
          "name": "stdout",
          "text": [
            "Model Number: 340 with model FBProphet in generation 3 of 10\n",
            "Model Number: 341 with model UnivariateMotif in generation 3 of 10\n",
            "Model Number: 342 with model UnivariateMotif in generation 3 of 10\n",
            "Model Number: 343 with model UnivariateMotif in generation 3 of 10\n",
            "Model Number: 344 with model UnivariateMotif in generation 3 of 10\n",
            "Model Number: 345 with model GLM in generation 3 of 10\n",
            "Template Eval Error: TypeError(\"ufunc 'isfinite' not supported for the input types, and the inputs could not be safely coerced to any supported types according to the casting rule ''safe''\") in model 345: GLM\n",
            "Model Number: 346 with model GLM in generation 3 of 10\n",
            "Template Eval Error: TypeError(\"ufunc 'isfinite' not supported for the input types, and the inputs could not be safely coerced to any supported types according to the casting rule ''safe''\") in model 346: GLM\n",
            "Model Number: 347 with model GLM in generation 3 of 10\n",
            "Template Eval Error: ValueError('regression_type=user and no future_regressor passed') in model 347: GLM\n",
            "Model Number: 348 with model GLM in generation 3 of 10\n",
            "Model Number: 349 with model VAR in generation 3 of 10\n",
            "Template Eval Error: ValueError('Only gave one variable to VAR') in model 349: VAR\n",
            "Model Number: 350 with model VAR in generation 3 of 10\n",
            "Template Eval Error: ValueError('Only gave one variable to VAR') in model 350: VAR\n",
            "Model Number: 351 with model VAR in generation 3 of 10\n",
            "Template Eval Error: ValueError('Only gave one variable to VAR') in model 351: VAR\n",
            "Model Number: 352 with model VECM in generation 3 of 10\n",
            "Template Eval Error: ValueError('Only gave one variable to VECM') in model 352: VECM\n",
            "Model Number: 353 with model VECM in generation 3 of 10\n",
            "Template Eval Error: ValueError('Only gave one variable to VECM') in model 353: VECM\n",
            "Model Number: 354 with model VECM in generation 3 of 10\n",
            "Template Eval Error: ValueError('Only gave one variable to VECM') in model 354: VECM\n",
            "Model Number: 355 with model VECM in generation 3 of 10\n",
            "Template Eval Error: ValueError('Only gave one variable to VECM') in model 355: VECM\n",
            "Model Number: 356 with model ARDL in generation 3 of 10\n",
            "Template Eval Error: ImportError(\"cannot import name 'ARDL' from 'statsmodels.tsa.api' (/usr/local/lib/python3.7/dist-packages/statsmodels/tsa/api.py)\") in model 356: ARDL\n",
            "Model Number: 357 with model ARDL in generation 3 of 10\n",
            "Template Eval Error: ImportError(\"cannot import name 'ARDL' from 'statsmodels.tsa.api' (/usr/local/lib/python3.7/dist-packages/statsmodels/tsa/api.py)\") in model 357: ARDL\n",
            "Model Number: 358 with model ARDL in generation 3 of 10\n",
            "Template Eval Error: ValueError(\"regression_type='User' but future_regressor not supplied\") in model 358: ARDL\n",
            "Model Number: 359 with model ARDL in generation 3 of 10\n",
            "Template Eval Error: ImportError(\"cannot import name 'ARDL' from 'statsmodels.tsa.api' (/usr/local/lib/python3.7/dist-packages/statsmodels/tsa/api.py)\") in model 359: ARDL\n",
            "Model Number: 360 with model Theta in generation 3 of 10\n",
            "Template Eval Error: ModuleNotFoundError(\"No module named 'statsmodels.tsa.forecasting'\") in model 360: Theta\n",
            "Model Number: 361 with model Theta in generation 3 of 10\n",
            "Template Eval Error: ModuleNotFoundError(\"No module named 'statsmodels.tsa.forecasting'\") in model 361: Theta\n",
            "Model Number: 362 with model Theta in generation 3 of 10\n",
            "Template Eval Error: ModuleNotFoundError(\"No module named 'statsmodels.tsa.forecasting'\") in model 362: Theta\n",
            "Model Number: 363 with model Theta in generation 3 of 10\n",
            "Template Eval Error: ModuleNotFoundError(\"No module named 'statsmodels.tsa.forecasting'\") in model 363: Theta\n",
            "New Generation: 4 of 10\n",
            "Model Number: 364 with model NVAR in generation 4 of 10\n",
            "Model Number: 365 with model NVAR in generation 4 of 10\n",
            "Model Number: 366 with model NVAR in generation 4 of 10\n",
            "Model Number: 367 with model NVAR in generation 4 of 10\n",
            "Model Number: 368 with model SectionalMotif in generation 4 of 10\n",
            "Model Number: 369 with model SectionalMotif in generation 4 of 10\n",
            "Model Number: 370 with model SectionalMotif in generation 4 of 10\n",
            "Model Number: 371 with model SectionalMotif in generation 4 of 10\n",
            "Model Number: 372 with model WindowRegression in generation 4 of 10\n",
            "Model Number: 373 with model WindowRegression in generation 4 of 10\n"
          ]
        },
        {
          "output_type": "stream",
          "name": "stderr",
          "text": [
            "/usr/local/lib/python3.7/dist-packages/sklearn/svm/_base.py:1208: ConvergenceWarning: Liblinear failed to converge, increase the number of iterations.\n",
            "  ConvergenceWarning,\n",
            "/usr/local/lib/python3.7/dist-packages/sklearn/svm/_base.py:1208: ConvergenceWarning: Liblinear failed to converge, increase the number of iterations.\n",
            "  ConvergenceWarning,\n",
            "/usr/local/lib/python3.7/dist-packages/sklearn/svm/_base.py:1208: ConvergenceWarning: Liblinear failed to converge, increase the number of iterations.\n",
            "  ConvergenceWarning,\n",
            "/usr/local/lib/python3.7/dist-packages/sklearn/svm/_base.py:1208: ConvergenceWarning: Liblinear failed to converge, increase the number of iterations.\n",
            "  ConvergenceWarning,\n",
            "/usr/local/lib/python3.7/dist-packages/sklearn/svm/_base.py:1208: ConvergenceWarning: Liblinear failed to converge, increase the number of iterations.\n",
            "  ConvergenceWarning,\n",
            "/usr/local/lib/python3.7/dist-packages/sklearn/svm/_base.py:1208: ConvergenceWarning: Liblinear failed to converge, increase the number of iterations.\n",
            "  ConvergenceWarning,\n",
            "/usr/local/lib/python3.7/dist-packages/sklearn/svm/_base.py:1208: ConvergenceWarning: Liblinear failed to converge, increase the number of iterations.\n",
            "  ConvergenceWarning,\n",
            "/usr/local/lib/python3.7/dist-packages/sklearn/svm/_base.py:1208: ConvergenceWarning: Liblinear failed to converge, increase the number of iterations.\n",
            "  ConvergenceWarning,\n",
            "/usr/local/lib/python3.7/dist-packages/sklearn/svm/_base.py:1208: ConvergenceWarning: Liblinear failed to converge, increase the number of iterations.\n",
            "  ConvergenceWarning,\n",
            "/usr/local/lib/python3.7/dist-packages/sklearn/svm/_base.py:1208: ConvergenceWarning: Liblinear failed to converge, increase the number of iterations.\n",
            "  ConvergenceWarning,\n"
          ]
        },
        {
          "output_type": "stream",
          "name": "stdout",
          "text": [
            "Model Number: 374 with model WindowRegression in generation 4 of 10\n",
            "Model Number: 375 with model DatepartRegression in generation 4 of 10\n",
            "Template Eval Error: ValueError(\"regression_type='User' but no future_regressor passed\") in model 375: DatepartRegression\n",
            "Model Number: 376 with model DatepartRegression in generation 4 of 10\n",
            "Template Eval Error: ValueError(\"regression_type='User' but no future_regressor passed\") in model 376: DatepartRegression\n",
            "Model Number: 377 with model DatepartRegression in generation 4 of 10\n",
            "Epoch 1/50\n",
            "6/6 [==============================] - 11s 37ms/step - loss: 0.1607\n",
            "Epoch 2/50\n",
            "6/6 [==============================] - 0s 34ms/step - loss: 0.0851\n",
            "Epoch 3/50\n",
            "6/6 [==============================] - 0s 37ms/step - loss: 0.1044\n",
            "Epoch 4/50\n",
            "6/6 [==============================] - 0s 38ms/step - loss: 0.0844\n",
            "Epoch 5/50\n",
            "6/6 [==============================] - 0s 37ms/step - loss: 0.0855\n",
            "Epoch 6/50\n",
            "6/6 [==============================] - 0s 38ms/step - loss: 0.0942\n",
            "Epoch 7/50\n",
            "6/6 [==============================] - 0s 42ms/step - loss: 0.0804\n",
            "Epoch 8/50\n",
            "6/6 [==============================] - 0s 42ms/step - loss: 0.0814\n",
            "Epoch 9/50\n",
            "6/6 [==============================] - 0s 39ms/step - loss: 0.0907\n",
            "Epoch 10/50\n",
            "6/6 [==============================] - 0s 36ms/step - loss: 0.0792\n",
            "Epoch 11/50\n",
            "6/6 [==============================] - 0s 44ms/step - loss: 0.0788\n",
            "Epoch 12/50\n",
            "6/6 [==============================] - 0s 40ms/step - loss: 0.0834\n",
            "Epoch 13/50\n",
            "6/6 [==============================] - 0s 37ms/step - loss: 0.0797\n",
            "Epoch 14/50\n",
            "6/6 [==============================] - 0s 38ms/step - loss: 0.0791\n",
            "Epoch 15/50\n",
            "6/6 [==============================] - 0s 44ms/step - loss: 0.0802\n",
            "Epoch 16/50\n",
            "6/6 [==============================] - 0s 38ms/step - loss: 0.0807\n",
            "Epoch 17/50\n",
            "6/6 [==============================] - 0s 36ms/step - loss: 0.0747\n",
            "Epoch 18/50\n",
            "6/6 [==============================] - 0s 36ms/step - loss: 0.0796\n",
            "Epoch 19/50\n",
            "6/6 [==============================] - 0s 37ms/step - loss: 0.0753\n",
            "Epoch 20/50\n",
            "6/6 [==============================] - 0s 35ms/step - loss: 0.0770\n",
            "Epoch 21/50\n",
            "6/6 [==============================] - 0s 35ms/step - loss: 0.0730\n",
            "Epoch 22/50\n",
            "6/6 [==============================] - 0s 35ms/step - loss: 0.0768\n",
            "Epoch 23/50\n",
            "6/6 [==============================] - 0s 34ms/step - loss: 0.0756\n",
            "Epoch 24/50\n",
            "6/6 [==============================] - 0s 32ms/step - loss: 0.0719\n",
            "Epoch 25/50\n",
            "6/6 [==============================] - 0s 38ms/step - loss: 0.0725\n",
            "Epoch 26/50\n",
            "6/6 [==============================] - 0s 36ms/step - loss: 0.0735\n",
            "Epoch 27/50\n",
            "6/6 [==============================] - 0s 39ms/step - loss: 0.0785\n",
            "Epoch 28/50\n",
            "6/6 [==============================] - 0s 36ms/step - loss: 0.0730\n",
            "Epoch 29/50\n",
            "6/6 [==============================] - 0s 35ms/step - loss: 0.0723\n",
            "Epoch 30/50\n",
            "6/6 [==============================] - 0s 39ms/step - loss: 0.0742\n",
            "Epoch 31/50\n",
            "6/6 [==============================] - 0s 38ms/step - loss: 0.0755\n",
            "Epoch 32/50\n",
            "6/6 [==============================] - 0s 36ms/step - loss: 0.0746\n",
            "Epoch 33/50\n",
            "6/6 [==============================] - 0s 42ms/step - loss: 0.0719\n",
            "Epoch 34/50\n",
            "6/6 [==============================] - 0s 38ms/step - loss: 0.0732\n",
            "Epoch 35/50\n",
            "6/6 [==============================] - 0s 37ms/step - loss: 0.0722\n",
            "Epoch 36/50\n",
            "6/6 [==============================] - 0s 35ms/step - loss: 0.0709\n",
            "Epoch 37/50\n",
            "6/6 [==============================] - 0s 32ms/step - loss: 0.0702\n",
            "Epoch 38/50\n",
            "6/6 [==============================] - 0s 35ms/step - loss: 0.0745\n",
            "Epoch 39/50\n",
            "6/6 [==============================] - 0s 37ms/step - loss: 0.0749\n",
            "Epoch 40/50\n",
            "6/6 [==============================] - 0s 39ms/step - loss: 0.0721\n",
            "Epoch 41/50\n",
            "6/6 [==============================] - 0s 35ms/step - loss: 0.0722\n",
            "Epoch 42/50\n",
            "6/6 [==============================] - 0s 36ms/step - loss: 0.0739\n",
            "Epoch 43/50\n",
            "6/6 [==============================] - 0s 46ms/step - loss: 0.0713\n",
            "Epoch 44/50\n",
            "6/6 [==============================] - 0s 36ms/step - loss: 0.0717\n",
            "Epoch 45/50\n",
            "6/6 [==============================] - 0s 35ms/step - loss: 0.0722\n",
            "Epoch 46/50\n",
            "6/6 [==============================] - 0s 37ms/step - loss: 0.0722\n",
            "Epoch 47/50\n",
            "6/6 [==============================] - 0s 37ms/step - loss: 0.0743\n",
            "Epoch 48/50\n",
            "6/6 [==============================] - 0s 35ms/step - loss: 0.0708\n",
            "Epoch 49/50\n",
            "6/6 [==============================] - 0s 40ms/step - loss: 0.0739\n",
            "Epoch 50/50\n",
            "6/6 [==============================] - 0s 35ms/step - loss: 0.0711\n",
            "Template Eval Error: ValueError('Model DatepartRegression returned NaN for one or more series. fail_on_forecast_nan=True') in model 377: DatepartRegression\n",
            "Model Number: 378 with model AverageValueNaive in generation 4 of 10\n",
            "Model Number: 379 with model AverageValueNaive in generation 4 of 10\n",
            "Model Number: 380 with model AverageValueNaive in generation 4 of 10\n",
            "Model Number: 381 with model LastValueNaive in generation 4 of 10\n",
            "Model Number: 382 with model LastValueNaive in generation 4 of 10\n",
            "Model Number: 383 with model LastValueNaive in generation 4 of 10\n",
            "Model Number: 384 with model MultivariateRegression in generation 4 of 10\n",
            "Template Eval Error: ValueError('Some value(s) of y are out of the valid range for family PoissonDistribution') in model 384: MultivariateRegression\n",
            "Model Number: 385 with model MultivariateRegression in generation 4 of 10\n",
            "Template Eval Error: ValueError(\"regression_type='User' but not future_regressor supplied.\") in model 385: MultivariateRegression\n",
            "Model Number: 386 with model MultivariateRegression in generation 4 of 10\n",
            "Template Eval Error: ValueError(\"regression_type='User' but not future_regressor supplied.\") in model 386: MultivariateRegression\n",
            "Model Number: 387 with model MultivariateRegression in generation 4 of 10\n",
            "Model Number: 388 with model ETS in generation 4 of 10\n",
            "ETS error TypeError(\"__init__() got an unexpected keyword argument 'damped_trend'\")\n",
            "Model Number: 389 with model ETS in generation 4 of 10\n",
            "ETS error TypeError(\"__init__() got an unexpected keyword argument 'damped_trend'\")\n",
            "Model Number: 390 with model ETS in generation 4 of 10\n",
            "ETS error TypeError(\"__init__() got an unexpected keyword argument 'damped_trend'\")\n",
            "Model Number: 391 with model ETS in generation 4 of 10\n",
            "ETS error TypeError(\"__init__() got an unexpected keyword argument 'damped_trend'\")\n",
            "Model Number: 392 with model UnobservedComponents in generation 4 of 10\n",
            "Template Eval Error: ValueError(\"regression_type='User' but no future_regressor supplied\") in model 392: UnobservedComponents\n",
            "Model Number: 393 with model UnobservedComponents in generation 4 of 10\n",
            "Model Number: 394 with model UnobservedComponents in generation 4 of 10\n",
            "Model Number: 395 with model SeasonalNaive in generation 4 of 10\n",
            "Template Eval Error: Exception('Transformer STLFilter failed on fit') in model 395: SeasonalNaive\n",
            "Model Number: 396 with model SeasonalNaive in generation 4 of 10\n",
            "Model Number: 397 with model SeasonalNaive in generation 4 of 10\n",
            "Template Eval Error: Exception('Transformer STLFilter failed on fit') in model 397: SeasonalNaive\n",
            "Model Number: 398 with model SeasonalNaive in generation 4 of 10\n",
            "Model Number: 399 with model MultivariateMotif in generation 4 of 10\n",
            "Model Number: 400 with model MultivariateMotif in generation 4 of 10\n",
            "Model Number: 401 with model MultivariateMotif in generation 4 of 10\n",
            "Model Number: 402 with model MultivariateMotif in generation 4 of 10\n",
            "Model Number: 403 with model GLS in generation 4 of 10\n",
            "Model Number: 404 with model GLS in generation 4 of 10\n",
            "Model Number: 405 with model GLS in generation 4 of 10\n",
            "Model Number: 406 with model ConstantNaive in generation 4 of 10\n",
            "Model Number: 407 with model ConstantNaive in generation 4 of 10\n",
            "Model Number: 408 with model ConstantNaive in generation 4 of 10\n",
            "Model Number: 409 with model FBProphet in generation 4 of 10\n"
          ]
        },
        {
          "output_type": "stream",
          "name": "stderr",
          "text": [
            "INFO:fbprophet:Disabling yearly seasonality. Run prophet with yearly_seasonality=True to override this.\n",
            "INFO:fbprophet:Disabling daily seasonality. Run prophet with daily_seasonality=True to override this.\n",
            "INFO:fbprophet:Disabling yearly seasonality. Run prophet with yearly_seasonality=True to override this.\n",
            "INFO:fbprophet:Disabling daily seasonality. Run prophet with daily_seasonality=True to override this.\n"
          ]
        },
        {
          "output_type": "stream",
          "name": "stdout",
          "text": [
            "Model Number: 410 with model FBProphet in generation 4 of 10\n"
          ]
        },
        {
          "output_type": "stream",
          "name": "stderr",
          "text": [
            "INFO:fbprophet:Disabling yearly seasonality. Run prophet with yearly_seasonality=True to override this.\n",
            "INFO:fbprophet:Disabling daily seasonality. Run prophet with daily_seasonality=True to override this.\n",
            "INFO:fbprophet:n_changepoints greater than number of observations. Using 29.\n"
          ]
        },
        {
          "output_type": "stream",
          "name": "stdout",
          "text": [
            "Model Number: 411 with model FBProphet in generation 4 of 10\n"
          ]
        },
        {
          "output_type": "stream",
          "name": "stderr",
          "text": [
            "INFO:fbprophet:Disabling yearly seasonality. Run prophet with yearly_seasonality=True to override this.\n",
            "INFO:fbprophet:Disabling daily seasonality. Run prophet with daily_seasonality=True to override this.\n"
          ]
        },
        {
          "output_type": "stream",
          "name": "stdout",
          "text": [
            "Model Number: 412 with model FBProphet in generation 4 of 10\n",
            "Model Number: 413 with model UnivariateMotif in generation 4 of 10\n",
            "Model Number: 414 with model UnivariateMotif in generation 4 of 10\n",
            "Model Number: 415 with model UnivariateMotif in generation 4 of 10\n",
            "Model Number: 416 with model UnivariateMotif in generation 4 of 10\n",
            "Model Number: 417 with model GLM in generation 4 of 10\n",
            "Template Eval Error: ValueError('regression_type=user and no future_regressor passed') in model 417: GLM\n",
            "Model Number: 418 with model GLM in generation 4 of 10\n",
            "Template Eval Error: ValueError('regression_type=user and no future_regressor passed') in model 418: GLM\n",
            "Model Number: 419 with model GLM in generation 4 of 10\n",
            "Model Number: 420 with model GLM in generation 4 of 10\n",
            "Template Eval Error: ValueError('The first guess on the deviance function returned a nan.  This could be a boundary  problem and should be reported.') in model 420: GLM\n",
            "Model Number: 421 with model VAR in generation 4 of 10\n",
            "Template Eval Error: ValueError('Only gave one variable to VAR') in model 421: VAR\n",
            "Model Number: 422 with model VAR in generation 4 of 10\n",
            "Template Eval Error: ValueError('Only gave one variable to VAR') in model 422: VAR\n",
            "Model Number: 423 with model VAR in generation 4 of 10\n",
            "Template Eval Error: ValueError('Only gave one variable to VAR') in model 423: VAR\n",
            "Model Number: 424 with model VAR in generation 4 of 10\n",
            "Template Eval Error: ValueError('Only gave one variable to VAR') in model 424: VAR\n",
            "Model Number: 425 with model VECM in generation 4 of 10\n",
            "Template Eval Error: ValueError(\"regression_type='User' but no future_regressor supplied\") in model 425: VECM\n",
            "Model Number: 426 with model VECM in generation 4 of 10\n"
          ]
        },
        {
          "output_type": "stream",
          "name": "stderr",
          "text": [
            "/usr/local/lib/python3.7/dist-packages/statsmodels/genmod/families/family.py:1227: RuntimeWarning: invalid value encountered in log\n",
            "  resid_dev -= endog_alpha * np.log(endog_alpha / mu_alpha)\n"
          ]
        },
        {
          "output_type": "stream",
          "name": "stdout",
          "text": [
            "Template Eval Error: ValueError('Only gave one variable to VECM') in model 426: VECM\n",
            "Model Number: 427 with model VECM in generation 4 of 10\n",
            "Template Eval Error: ValueError('Only gave one variable to VECM') in model 427: VECM\n",
            "Model Number: 428 with model VECM in generation 4 of 10\n",
            "Template Eval Error: ValueError('Only gave one variable to VECM') in model 428: VECM\n",
            "Model Number: 429 with model ARDL in generation 4 of 10\n",
            "Template Eval Error: ImportError(\"cannot import name 'ARDL' from 'statsmodels.tsa.api' (/usr/local/lib/python3.7/dist-packages/statsmodels/tsa/api.py)\") in model 429: ARDL\n",
            "Model Number: 430 with model ARDL in generation 4 of 10\n",
            "Template Eval Error: ImportError(\"cannot import name 'ARDL' from 'statsmodels.tsa.api' (/usr/local/lib/python3.7/dist-packages/statsmodels/tsa/api.py)\") in model 430: ARDL\n",
            "Model Number: 431 with model ARDL in generation 4 of 10\n",
            "Template Eval Error: ImportError(\"cannot import name 'ARDL' from 'statsmodels.tsa.api' (/usr/local/lib/python3.7/dist-packages/statsmodels/tsa/api.py)\") in model 431: ARDL\n",
            "Model Number: 432 with model ARDL in generation 4 of 10\n",
            "Template Eval Error: ImportError(\"cannot import name 'ARDL' from 'statsmodels.tsa.api' (/usr/local/lib/python3.7/dist-packages/statsmodels/tsa/api.py)\") in model 432: ARDL\n",
            "Model Number: 433 with model Theta in generation 4 of 10\n",
            "Template Eval Error: ModuleNotFoundError(\"No module named 'statsmodels.tsa.forecasting'\") in model 433: Theta\n",
            "Model Number: 434 with model Theta in generation 4 of 10\n",
            "Template Eval Error: ModuleNotFoundError(\"No module named 'statsmodels.tsa.forecasting'\") in model 434: Theta\n",
            "Model Number: 435 with model Theta in generation 4 of 10\n",
            "Template Eval Error: ModuleNotFoundError(\"No module named 'statsmodels.tsa.forecasting'\") in model 435: Theta\n",
            "Model Number: 436 with model Theta in generation 4 of 10\n",
            "Template Eval Error: ModuleNotFoundError(\"No module named 'statsmodels.tsa.forecasting'\") in model 436: Theta\n",
            "New Generation: 5 of 10\n",
            "Model Number: 437 with model NVAR in generation 5 of 10\n",
            "Model Number: 438 with model NVAR in generation 5 of 10\n",
            "Model Number: 439 with model NVAR in generation 5 of 10\n",
            "Model Number: 440 with model NVAR in generation 5 of 10\n",
            "Model Number: 441 with model SectionalMotif in generation 5 of 10\n",
            "Model Number: 442 with model SectionalMotif in generation 5 of 10\n",
            "Model Number: 443 with model SectionalMotif in generation 5 of 10\n",
            "Model Number: 444 with model SectionalMotif in generation 5 of 10\n",
            "Model Number: 445 with model WindowRegression in generation 5 of 10\n",
            "Epoch 1/50\n",
            "5/5 [==============================] - 9s 292ms/step - loss: 0.1712 - val_loss: 0.0936\n",
            "Epoch 2/50\n",
            "5/5 [==============================] - 0s 54ms/step - loss: 0.1661 - val_loss: 0.0926\n",
            "Epoch 3/50\n",
            "5/5 [==============================] - 0s 51ms/step - loss: 0.1614 - val_loss: 0.0917\n",
            "Epoch 4/50\n",
            "5/5 [==============================] - 0s 45ms/step - loss: 0.1557 - val_loss: 0.0908\n",
            "Epoch 5/50\n",
            "5/5 [==============================] - 0s 49ms/step - loss: 0.1515 - val_loss: 0.0899\n",
            "Epoch 6/50\n",
            "5/5 [==============================] - 0s 53ms/step - loss: 0.1533 - val_loss: 0.0891\n",
            "Epoch 7/50\n",
            "5/5 [==============================] - 0s 45ms/step - loss: 0.1451 - val_loss: 0.0882\n",
            "Epoch 8/50\n",
            "5/5 [==============================] - 0s 47ms/step - loss: 0.1350 - val_loss: 0.0874\n",
            "Epoch 9/50\n",
            "5/5 [==============================] - 0s 51ms/step - loss: 0.1344 - val_loss: 0.0866\n",
            "Epoch 10/50\n",
            "5/5 [==============================] - 0s 51ms/step - loss: 0.1326 - val_loss: 0.0859\n",
            "Epoch 11/50\n",
            "5/5 [==============================] - 0s 56ms/step - loss: 0.1326 - val_loss: 0.0853\n",
            "Epoch 12/50\n",
            "5/5 [==============================] - 0s 54ms/step - loss: 0.1292 - val_loss: 0.0846\n",
            "Epoch 13/50\n",
            "5/5 [==============================] - 0s 54ms/step - loss: 0.1226 - val_loss: 0.0840\n",
            "Epoch 14/50\n",
            "5/5 [==============================] - 0s 52ms/step - loss: 0.1218 - val_loss: 0.0834\n",
            "Epoch 15/50\n",
            "5/5 [==============================] - 0s 44ms/step - loss: 0.1203 - val_loss: 0.0829\n",
            "Epoch 16/50\n",
            "5/5 [==============================] - 0s 46ms/step - loss: 0.1156 - val_loss: 0.0823\n",
            "Epoch 17/50\n",
            "5/5 [==============================] - 0s 54ms/step - loss: 0.1142 - val_loss: 0.0818\n",
            "Epoch 18/50\n",
            "5/5 [==============================] - 0s 51ms/step - loss: 0.1083 - val_loss: 0.0813\n",
            "Epoch 19/50\n",
            "5/5 [==============================] - 0s 50ms/step - loss: 0.1077 - val_loss: 0.0808\n",
            "Epoch 20/50\n",
            "5/5 [==============================] - 0s 48ms/step - loss: 0.1076 - val_loss: 0.0804\n",
            "Epoch 21/50\n",
            "5/5 [==============================] - 0s 47ms/step - loss: 0.1079 - val_loss: 0.0799\n",
            "Epoch 22/50\n",
            "5/5 [==============================] - 0s 54ms/step - loss: 0.1076 - val_loss: 0.0795\n",
            "Epoch 23/50\n",
            "5/5 [==============================] - 0s 47ms/step - loss: 0.1011 - val_loss: 0.0792\n",
            "Epoch 24/50\n",
            "5/5 [==============================] - 0s 47ms/step - loss: 0.0981 - val_loss: 0.0790\n",
            "Epoch 25/50\n",
            "5/5 [==============================] - 0s 47ms/step - loss: 0.0972 - val_loss: 0.0787\n",
            "Epoch 26/50\n",
            "5/5 [==============================] - 0s 44ms/step - loss: 0.0943 - val_loss: 0.0785\n",
            "Epoch 27/50\n",
            "5/5 [==============================] - 0s 53ms/step - loss: 0.0929 - val_loss: 0.0782\n",
            "Epoch 28/50\n",
            "5/5 [==============================] - 0s 56ms/step - loss: 0.0930 - val_loss: 0.0780\n",
            "Epoch 29/50\n",
            "5/5 [==============================] - 0s 54ms/step - loss: 0.0911 - val_loss: 0.0778\n",
            "Epoch 30/50\n",
            "5/5 [==============================] - 0s 44ms/step - loss: 0.0890 - val_loss: 0.0775\n",
            "Epoch 31/50\n",
            "5/5 [==============================] - 0s 48ms/step - loss: 0.0876 - val_loss: 0.0773\n",
            "Epoch 32/50\n",
            "5/5 [==============================] - 0s 49ms/step - loss: 0.0864 - val_loss: 0.0771\n",
            "Epoch 33/50\n",
            "5/5 [==============================] - 0s 46ms/step - loss: 0.0817 - val_loss: 0.0769\n",
            "Epoch 34/50\n",
            "5/5 [==============================] - 0s 50ms/step - loss: 0.0834 - val_loss: 0.0766\n",
            "Epoch 35/50\n",
            "5/5 [==============================] - 0s 55ms/step - loss: 0.0829 - val_loss: 0.0764\n",
            "Epoch 36/50\n",
            "5/5 [==============================] - 0s 55ms/step - loss: 0.0799 - val_loss: 0.0763\n",
            "Epoch 37/50\n",
            "5/5 [==============================] - 0s 52ms/step - loss: 0.0818 - val_loss: 0.0762\n",
            "Epoch 38/50\n",
            "5/5 [==============================] - 0s 52ms/step - loss: 0.0791 - val_loss: 0.0762\n",
            "Epoch 39/50\n",
            "5/5 [==============================] - 0s 47ms/step - loss: 0.0792 - val_loss: 0.0762\n",
            "Epoch 40/50\n",
            "5/5 [==============================] - 0s 44ms/step - loss: 0.0772 - val_loss: 0.0761\n",
            "Epoch 41/50\n",
            "5/5 [==============================] - 0s 47ms/step - loss: 0.0739 - val_loss: 0.0760\n",
            "Epoch 42/50\n",
            "5/5 [==============================] - 0s 45ms/step - loss: 0.0775 - val_loss: 0.0759\n",
            "Epoch 43/50\n",
            "5/5 [==============================] - 0s 48ms/step - loss: 0.0737 - val_loss: 0.0757\n",
            "Epoch 44/50\n",
            "5/5 [==============================] - 0s 48ms/step - loss: 0.0772 - val_loss: 0.0756\n",
            "Epoch 45/50\n",
            "5/5 [==============================] - 0s 50ms/step - loss: 0.0717 - val_loss: 0.0755\n",
            "Epoch 46/50\n",
            "5/5 [==============================] - 0s 45ms/step - loss: 0.0704 - val_loss: 0.0755\n",
            "Epoch 47/50\n",
            "5/5 [==============================] - 0s 40ms/step - loss: 0.0680 - val_loss: 0.0753\n",
            "Epoch 48/50\n",
            "5/5 [==============================] - 0s 43ms/step - loss: 0.0731 - val_loss: 0.0753\n",
            "Epoch 49/50\n",
            "5/5 [==============================] - 0s 48ms/step - loss: 0.0709 - val_loss: 0.0752\n",
            "Epoch 50/50\n",
            "5/5 [==============================] - 0s 43ms/step - loss: 0.0705 - val_loss: 0.0752\n",
            "Model Number: 446 with model WindowRegression in generation 5 of 10\n",
            "Model Number: 447 with model WindowRegression in generation 5 of 10\n",
            "Template Eval Error: ValueError(\"regression_type='User' but no future_regressor passed\") in model 447: WindowRegression\n",
            "Model Number: 448 with model DatepartRegression in generation 5 of 10\n"
          ]
        },
        {
          "output_type": "stream",
          "name": "stderr",
          "text": [
            "/usr/local/lib/python3.7/dist-packages/sklearn/svm/_base.py:1208: ConvergenceWarning: Liblinear failed to converge, increase the number of iterations.\n",
            "  ConvergenceWarning,\n",
            "/usr/local/lib/python3.7/dist-packages/sklearn/svm/_base.py:1208: ConvergenceWarning: Liblinear failed to converge, increase the number of iterations.\n",
            "  ConvergenceWarning,\n"
          ]
        },
        {
          "output_type": "stream",
          "name": "stdout",
          "text": [
            "Epoch 1/50\n",
            "24/24 [==============================] - 12s 63ms/step - loss: 9.3423\n",
            "Epoch 2/50\n",
            "24/24 [==============================] - 1s 47ms/step - loss: 9.2725\n",
            "Epoch 3/50\n",
            "24/24 [==============================] - 1s 50ms/step - loss: 9.0762\n",
            "Epoch 4/50\n",
            "24/24 [==============================] - 1s 52ms/step - loss: 9.1356\n",
            "Epoch 5/50\n",
            "24/24 [==============================] - 1s 52ms/step - loss: 9.5456\n",
            "Epoch 6/50\n",
            "24/24 [==============================] - 1s 51ms/step - loss: 9.2047\n",
            "Epoch 7/50\n",
            "24/24 [==============================] - 1s 48ms/step - loss: 9.0275\n",
            "Epoch 8/50\n",
            "24/24 [==============================] - 2s 73ms/step - loss: 8.8596\n",
            "Epoch 9/50\n",
            "24/24 [==============================] - 1s 51ms/step - loss: 8.4926\n",
            "Epoch 10/50\n",
            "24/24 [==============================] - 1s 48ms/step - loss: 8.2360\n",
            "Epoch 11/50\n",
            "24/24 [==============================] - 1s 51ms/step - loss: 8.1491\n",
            "Epoch 12/50\n",
            "24/24 [==============================] - 1s 53ms/step - loss: 9.9632\n",
            "Epoch 13/50\n",
            "24/24 [==============================] - 1s 53ms/step - loss: 9.8456\n",
            "Epoch 14/50\n",
            "24/24 [==============================] - 1s 49ms/step - loss: 9.4568\n",
            "Epoch 15/50\n",
            "24/24 [==============================] - 1s 48ms/step - loss: 9.0852\n",
            "Epoch 16/50\n",
            "24/24 [==============================] - 1s 52ms/step - loss: 8.8473\n",
            "Epoch 17/50\n",
            "24/24 [==============================] - 1s 46ms/step - loss: 8.5397\n",
            "Epoch 18/50\n",
            "24/24 [==============================] - 1s 46ms/step - loss: 8.2671\n",
            "Epoch 19/50\n",
            "24/24 [==============================] - 1s 52ms/step - loss: 8.1546\n",
            "Epoch 20/50\n",
            "24/24 [==============================] - 1s 52ms/step - loss: 8.1141\n",
            "Epoch 21/50\n",
            "24/24 [==============================] - 1s 49ms/step - loss: 7.9185\n",
            "Epoch 22/50\n",
            "24/24 [==============================] - 1s 45ms/step - loss: 7.7509\n",
            "Epoch 23/50\n",
            "24/24 [==============================] - 1s 53ms/step - loss: 7.9856\n",
            "Epoch 24/50\n",
            "24/24 [==============================] - 1s 49ms/step - loss: 7.5515\n",
            "Epoch 25/50\n",
            "24/24 [==============================] - 1s 47ms/step - loss: 7.7646\n",
            "Epoch 26/50\n",
            "24/24 [==============================] - 1s 49ms/step - loss: 7.3511\n",
            "Epoch 27/50\n",
            "24/24 [==============================] - 1s 53ms/step - loss: 7.8039\n",
            "Epoch 28/50\n",
            "24/24 [==============================] - 1s 44ms/step - loss: 7.4097\n",
            "Epoch 29/50\n",
            "24/24 [==============================] - 1s 46ms/step - loss: 7.5646\n",
            "Epoch 30/50\n",
            "24/24 [==============================] - 1s 47ms/step - loss: 7.1246\n",
            "Epoch 31/50\n",
            "24/24 [==============================] - 1s 47ms/step - loss: 7.1657\n",
            "Epoch 32/50\n",
            "24/24 [==============================] - 1s 48ms/step - loss: 7.3901\n",
            "Epoch 33/50\n",
            "24/24 [==============================] - 1s 46ms/step - loss: 7.1056\n",
            "Epoch 34/50\n",
            "24/24 [==============================] - 1s 46ms/step - loss: 6.7851\n",
            "Epoch 35/50\n",
            "24/24 [==============================] - 1s 47ms/step - loss: 6.9497\n",
            "Epoch 36/50\n",
            "24/24 [==============================] - 1s 48ms/step - loss: 7.1661\n",
            "Epoch 37/50\n",
            "24/24 [==============================] - 1s 52ms/step - loss: 6.9567\n",
            "Epoch 38/50\n",
            "24/24 [==============================] - 1s 50ms/step - loss: 6.6468\n",
            "Epoch 39/50\n",
            "24/24 [==============================] - 1s 52ms/step - loss: 6.6099\n",
            "Epoch 40/50\n",
            "24/24 [==============================] - 1s 52ms/step - loss: 6.8426\n",
            "Epoch 41/50\n",
            "24/24 [==============================] - 1s 52ms/step - loss: 6.6227\n",
            "Epoch 42/50\n",
            "24/24 [==============================] - 1s 50ms/step - loss: 6.7504\n",
            "Epoch 43/50\n",
            "24/24 [==============================] - 1s 45ms/step - loss: 6.6882\n",
            "Epoch 44/50\n",
            "24/24 [==============================] - 1s 50ms/step - loss: 6.9185\n",
            "Epoch 45/50\n",
            "24/24 [==============================] - 1s 47ms/step - loss: 6.6889\n",
            "Epoch 46/50\n",
            "24/24 [==============================] - 1s 49ms/step - loss: 6.8964\n",
            "Epoch 47/50\n",
            "24/24 [==============================] - 1s 50ms/step - loss: 6.5810\n",
            "Epoch 48/50\n",
            "24/24 [==============================] - 1s 54ms/step - loss: 6.8789\n",
            "Epoch 49/50\n",
            "24/24 [==============================] - 1s 48ms/step - loss: 6.5927\n",
            "Epoch 50/50\n",
            "24/24 [==============================] - 1s 49ms/step - loss: 6.5507\n",
            "WARNING:tensorflow:5 out of the last 5 calls to <function Model.make_predict_function.<locals>.predict_function at 0x7fd477e34440> triggered tf.function retracing. Tracing is expensive and the excessive number of tracings could be due to (1) creating @tf.function repeatedly in a loop, (2) passing tensors with different shapes, (3) passing Python objects instead of tensors. For (1), please define your @tf.function outside of the loop. For (2), @tf.function has experimental_relax_shapes=True option that relaxes argument shapes that can avoid unnecessary retracing. For (3), please refer to https://www.tensorflow.org/guide/function#controlling_retracing and https://www.tensorflow.org/api_docs/python/tf/function for  more details.\n"
          ]
        },
        {
          "output_type": "stream",
          "name": "stderr",
          "text": [
            "WARNING:tensorflow:5 out of the last 5 calls to <function Model.make_predict_function.<locals>.predict_function at 0x7fd477e34440> triggered tf.function retracing. Tracing is expensive and the excessive number of tracings could be due to (1) creating @tf.function repeatedly in a loop, (2) passing tensors with different shapes, (3) passing Python objects instead of tensors. For (1), please define your @tf.function outside of the loop. For (2), @tf.function has experimental_relax_shapes=True option that relaxes argument shapes that can avoid unnecessary retracing. For (3), please refer to https://www.tensorflow.org/guide/function#controlling_retracing and https://www.tensorflow.org/api_docs/python/tf/function for  more details.\n"
          ]
        },
        {
          "output_type": "stream",
          "name": "stdout",
          "text": [
            "Template Eval Error: ValueError('Model DatepartRegression returned NaN for one or more series. fail_on_forecast_nan=True') in model 448: DatepartRegression\n",
            "Model Number: 449 with model DatepartRegression in generation 5 of 10\n",
            "Template Eval Error: ValueError(\"regression_type='User' but no future_regressor passed\") in model 449: DatepartRegression\n",
            "Model Number: 450 with model DatepartRegression in generation 5 of 10\n",
            "Model Number: 451 with model LastValueNaive in generation 5 of 10\n",
            "Model Number: 452 with model LastValueNaive in generation 5 of 10\n",
            "Model Number: 453 with model LastValueNaive in generation 5 of 10\n",
            "Model Number: 454 with model AverageValueNaive in generation 5 of 10\n",
            "Model Number: 455 with model AverageValueNaive in generation 5 of 10\n",
            "Model Number: 456 with model AverageValueNaive in generation 5 of 10\n",
            "Model Number: 457 with model UnobservedComponents in generation 5 of 10\n",
            "Template Eval Error: ValueError('Provided exogenous values are not of the appropriate shape. Required (10, 1), got (10,).') in model 457: UnobservedComponents\n",
            "Model Number: 458 with model UnobservedComponents in generation 5 of 10\n",
            "Template Eval Error: ValueError('Model UnobservedComponents returned NaN for one or more series. fail_on_forecast_nan=True') in model 458: UnobservedComponents\n",
            "Model Number: 459 with model UnobservedComponents in generation 5 of 10\n",
            "Model Number: 460 with model MultivariateRegression in generation 5 of 10\n"
          ]
        },
        {
          "output_type": "stream",
          "name": "stderr",
          "text": [
            "[Parallel(n_jobs=-2)]: Using backend SequentialBackend with 1 concurrent workers.\n",
            "[Parallel(n_jobs=-2)]: Done 200 out of 200 | elapsed:    0.4s finished\n",
            "[Parallel(n_jobs=1)]: Using backend SequentialBackend with 1 concurrent workers.\n",
            "[Parallel(n_jobs=1)]: Done 200 out of 200 | elapsed:    0.0s finished\n",
            "[Parallel(n_jobs=1)]: Using backend SequentialBackend with 1 concurrent workers.\n",
            "[Parallel(n_jobs=1)]: Done 200 out of 200 | elapsed:    0.0s finished\n",
            "[Parallel(n_jobs=1)]: Using backend SequentialBackend with 1 concurrent workers.\n",
            "[Parallel(n_jobs=1)]: Done 200 out of 200 | elapsed:    0.1s finished\n",
            "[Parallel(n_jobs=1)]: Using backend SequentialBackend with 1 concurrent workers.\n",
            "[Parallel(n_jobs=1)]: Done 200 out of 200 | elapsed:    0.0s finished\n",
            "[Parallel(n_jobs=1)]: Using backend SequentialBackend with 1 concurrent workers.\n",
            "[Parallel(n_jobs=1)]: Done 200 out of 200 | elapsed:    0.0s finished\n",
            "[Parallel(n_jobs=1)]: Using backend SequentialBackend with 1 concurrent workers.\n",
            "[Parallel(n_jobs=1)]: Done 200 out of 200 | elapsed:    0.0s finished\n",
            "[Parallel(n_jobs=1)]: Using backend SequentialBackend with 1 concurrent workers.\n",
            "[Parallel(n_jobs=1)]: Done 200 out of 200 | elapsed:    0.0s finished\n",
            "[Parallel(n_jobs=1)]: Using backend SequentialBackend with 1 concurrent workers.\n",
            "[Parallel(n_jobs=1)]: Done 200 out of 200 | elapsed:    0.0s finished\n",
            "[Parallel(n_jobs=1)]: Using backend SequentialBackend with 1 concurrent workers.\n",
            "[Parallel(n_jobs=1)]: Done 200 out of 200 | elapsed:    0.0s finished\n",
            "[Parallel(n_jobs=1)]: Using backend SequentialBackend with 1 concurrent workers.\n",
            "[Parallel(n_jobs=1)]: Done 200 out of 200 | elapsed:    0.0s finished\n"
          ]
        },
        {
          "output_type": "stream",
          "name": "stdout",
          "text": [
            "Model Number: 461 with model MultivariateRegression in generation 5 of 10\n"
          ]
        },
        {
          "output_type": "stream",
          "name": "stderr",
          "text": [
            "[Parallel(n_jobs=-2)]: Using backend SequentialBackend with 1 concurrent workers.\n",
            "[Parallel(n_jobs=-2)]: Done 200 out of 200 | elapsed:    0.4s finished\n",
            "[Parallel(n_jobs=1)]: Using backend SequentialBackend with 1 concurrent workers.\n",
            "[Parallel(n_jobs=1)]: Done 200 out of 200 | elapsed:    0.0s finished\n",
            "[Parallel(n_jobs=1)]: Using backend SequentialBackend with 1 concurrent workers.\n",
            "[Parallel(n_jobs=1)]: Done 200 out of 200 | elapsed:    0.0s finished\n",
            "[Parallel(n_jobs=1)]: Using backend SequentialBackend with 1 concurrent workers.\n",
            "[Parallel(n_jobs=1)]: Done 200 out of 200 | elapsed:    0.0s finished\n",
            "[Parallel(n_jobs=1)]: Using backend SequentialBackend with 1 concurrent workers.\n",
            "[Parallel(n_jobs=1)]: Done 200 out of 200 | elapsed:    0.0s finished\n",
            "[Parallel(n_jobs=1)]: Using backend SequentialBackend with 1 concurrent workers.\n",
            "[Parallel(n_jobs=1)]: Done 200 out of 200 | elapsed:    0.0s finished\n",
            "[Parallel(n_jobs=1)]: Using backend SequentialBackend with 1 concurrent workers.\n",
            "[Parallel(n_jobs=1)]: Done 200 out of 200 | elapsed:    0.0s finished\n",
            "[Parallel(n_jobs=1)]: Using backend SequentialBackend with 1 concurrent workers.\n",
            "[Parallel(n_jobs=1)]: Done 200 out of 200 | elapsed:    0.0s finished\n",
            "[Parallel(n_jobs=1)]: Using backend SequentialBackend with 1 concurrent workers.\n",
            "[Parallel(n_jobs=1)]: Done 200 out of 200 | elapsed:    0.0s finished\n",
            "[Parallel(n_jobs=1)]: Using backend SequentialBackend with 1 concurrent workers.\n",
            "[Parallel(n_jobs=1)]: Done 200 out of 200 | elapsed:    0.0s finished\n",
            "[Parallel(n_jobs=1)]: Using backend SequentialBackend with 1 concurrent workers.\n",
            "[Parallel(n_jobs=1)]: Done 200 out of 200 | elapsed:    0.0s finished\n"
          ]
        },
        {
          "output_type": "stream",
          "name": "stdout",
          "text": [
            "Model Number: 462 with model MultivariateRegression in generation 5 of 10\n",
            "Template Eval Error: ValueError(\"regression_type='User' but not future_regressor supplied.\") in model 462: MultivariateRegression\n",
            "Model Number: 463 with model MultivariateRegression in generation 5 of 10\n"
          ]
        },
        {
          "output_type": "stream",
          "name": "stderr",
          "text": [
            "[Parallel(n_jobs=-2)]: Using backend SequentialBackend with 1 concurrent workers.\n",
            "[Parallel(n_jobs=-2)]: Done 200 out of 200 | elapsed:    0.6s finished\n",
            "[Parallel(n_jobs=1)]: Using backend SequentialBackend with 1 concurrent workers.\n",
            "[Parallel(n_jobs=1)]: Done 200 out of 200 | elapsed:    0.0s finished\n",
            "[Parallel(n_jobs=1)]: Using backend SequentialBackend with 1 concurrent workers.\n",
            "[Parallel(n_jobs=1)]: Done 200 out of 200 | elapsed:    0.0s finished\n",
            "[Parallel(n_jobs=1)]: Using backend SequentialBackend with 1 concurrent workers.\n",
            "[Parallel(n_jobs=1)]: Done 200 out of 200 | elapsed:    0.0s finished\n",
            "[Parallel(n_jobs=1)]: Using backend SequentialBackend with 1 concurrent workers.\n",
            "[Parallel(n_jobs=1)]: Done 200 out of 200 | elapsed:    0.0s finished\n",
            "[Parallel(n_jobs=1)]: Using backend SequentialBackend with 1 concurrent workers.\n",
            "[Parallel(n_jobs=1)]: Done 200 out of 200 | elapsed:    0.0s finished\n",
            "[Parallel(n_jobs=1)]: Using backend SequentialBackend with 1 concurrent workers.\n",
            "[Parallel(n_jobs=1)]: Done 200 out of 200 | elapsed:    0.0s finished\n",
            "[Parallel(n_jobs=1)]: Using backend SequentialBackend with 1 concurrent workers.\n",
            "[Parallel(n_jobs=1)]: Done 200 out of 200 | elapsed:    0.0s finished\n",
            "[Parallel(n_jobs=1)]: Using backend SequentialBackend with 1 concurrent workers.\n",
            "[Parallel(n_jobs=1)]: Done 200 out of 200 | elapsed:    0.0s finished\n",
            "[Parallel(n_jobs=1)]: Using backend SequentialBackend with 1 concurrent workers.\n",
            "[Parallel(n_jobs=1)]: Done 200 out of 200 | elapsed:    0.0s finished\n",
            "[Parallel(n_jobs=1)]: Using backend SequentialBackend with 1 concurrent workers.\n",
            "[Parallel(n_jobs=1)]: Done 200 out of 200 | elapsed:    0.0s finished\n"
          ]
        },
        {
          "output_type": "stream",
          "name": "stdout",
          "text": [
            "Model Number: 464 with model ETS in generation 5 of 10\n",
            "ETS error TypeError(\"__init__() got an unexpected keyword argument 'damped_trend'\")\n",
            "Model Number: 465 with model ETS in generation 5 of 10\n",
            "ETS error TypeError(\"__init__() got an unexpected keyword argument 'damped_trend'\")\n",
            "ETS failed on Close with ValueError('endog must be strictly positive when using multiplicative trend or seasonal components.')\n",
            "Model Number: 466 with model ETS in generation 5 of 10\n",
            "ETS error TypeError(\"__init__() got an unexpected keyword argument 'damped_trend'\")\n",
            "Model Number: 467 with model ETS in generation 5 of 10\n",
            "ETS error TypeError(\"__init__() got an unexpected keyword argument 'damped_trend'\")\n",
            "ETS failed on Close with ValueError('endog must be strictly positive when using multiplicative trend or seasonal components.')\n",
            "Model Number: 468 with model SeasonalNaive in generation 5 of 10\n",
            "Model Number: 469 with model SeasonalNaive in generation 5 of 10\n",
            "Model Number: 470 with model SeasonalNaive in generation 5 of 10\n",
            "Model Number: 471 with model SeasonalNaive in generation 5 of 10\n",
            "Model Number: 472 with model MultivariateMotif in generation 5 of 10\n",
            "Model Number: 473 with model MultivariateMotif in generation 5 of 10\n",
            "Model Number: 474 with model MultivariateMotif in generation 5 of 10\n",
            "Model Number: 475 with model MultivariateMotif in generation 5 of 10\n",
            "Model Number: 476 with model GLS in generation 5 of 10\n",
            "Model Number: 477 with model GLS in generation 5 of 10\n",
            "Model Number: 478 with model GLS in generation 5 of 10\n",
            "Model Number: 479 with model ConstantNaive in generation 5 of 10\n",
            "Model Number: 480 with model ConstantNaive in generation 5 of 10\n",
            "Model Number: 481 with model ConstantNaive in generation 5 of 10\n",
            "Model Number: 482 with model FBProphet in generation 5 of 10\n"
          ]
        },
        {
          "output_type": "stream",
          "name": "stderr",
          "text": [
            "INFO:fbprophet:Disabling yearly seasonality. Run prophet with yearly_seasonality=True to override this.\n",
            "INFO:fbprophet:Disabling daily seasonality. Run prophet with daily_seasonality=True to override this.\n",
            "INFO:fbprophet:Disabling yearly seasonality. Run prophet with yearly_seasonality=True to override this.\n",
            "INFO:fbprophet:Disabling daily seasonality. Run prophet with daily_seasonality=True to override this.\n"
          ]
        },
        {
          "output_type": "stream",
          "name": "stdout",
          "text": [
            "Model Number: 483 with model FBProphet in generation 5 of 10\n"
          ]
        },
        {
          "output_type": "stream",
          "name": "stderr",
          "text": [
            "INFO:fbprophet:Disabling yearly seasonality. Run prophet with yearly_seasonality=True to override this.\n",
            "INFO:fbprophet:Disabling daily seasonality. Run prophet with daily_seasonality=True to override this.\n"
          ]
        },
        {
          "output_type": "stream",
          "name": "stdout",
          "text": [
            "Model Number: 484 with model FBProphet in generation 5 of 10\n"
          ]
        },
        {
          "output_type": "stream",
          "name": "stderr",
          "text": [
            "INFO:fbprophet:Disabling yearly seasonality. Run prophet with yearly_seasonality=True to override this.\n",
            "INFO:fbprophet:Disabling daily seasonality. Run prophet with daily_seasonality=True to override this.\n"
          ]
        },
        {
          "output_type": "stream",
          "name": "stdout",
          "text": [
            "Model Number: 485 with model FBProphet in generation 5 of 10\n",
            "Model Number: 486 with model UnivariateMotif in generation 5 of 10\n",
            "Model Number: 487 with model UnivariateMotif in generation 5 of 10\n",
            "Model Number: 488 with model UnivariateMotif in generation 5 of 10\n",
            "Model Number: 489 with model UnivariateMotif in generation 5 of 10\n",
            "Model Number: 490 with model GLM in generation 5 of 10\n",
            "Template Eval Error: ValueError('regression_type=user and no future_regressor passed') in model 490: GLM\n",
            "Model Number: 491 with model GLM in generation 5 of 10\n",
            "Model Number: 492 with model GLM in generation 5 of 10\n",
            "Template Eval Error: Exception('Transformer STLFilter failed on fit') in model 492: GLM\n",
            "Model Number: 493 with model GLM in generation 5 of 10\n"
          ]
        },
        {
          "output_type": "stream",
          "name": "stderr",
          "text": [
            "/usr/local/lib/python3.7/dist-packages/statsmodels/genmod/families/family.py:1440: RuntimeWarning: invalid value encountered in log\n",
            "  endog * np.log(endog / mu) + (mu - endog))\n"
          ]
        },
        {
          "output_type": "stream",
          "name": "stdout",
          "text": [
            "Model Number: 494 with model VAR in generation 5 of 10\n",
            "Template Eval Error: ValueError('Only gave one variable to VAR') in model 494: VAR\n",
            "Model Number: 495 with model VAR in generation 5 of 10\n",
            "Template Eval Error: ValueError('Only gave one variable to VAR') in model 495: VAR\n",
            "Model Number: 496 with model VAR in generation 5 of 10\n",
            "Template Eval Error: ValueError('Only gave one variable to VAR') in model 496: VAR\n",
            "Model Number: 497 with model VAR in generation 5 of 10\n",
            "Template Eval Error: ValueError('Only gave one variable to VAR') in model 497: VAR\n",
            "Model Number: 498 with model VECM in generation 5 of 10\n",
            "Template Eval Error: ValueError('Only gave one variable to VECM') in model 498: VECM\n",
            "Model Number: 499 with model VECM in generation 5 of 10\n",
            "Template Eval Error: ValueError('Only gave one variable to VECM') in model 499: VECM\n",
            "Model Number: 500 with model VECM in generation 5 of 10\n",
            "Template Eval Error: ValueError('Only gave one variable to VECM') in model 500: VECM\n",
            "Model Number: 501 with model VECM in generation 5 of 10\n",
            "Template Eval Error: ValueError('Only gave one variable to VECM') in model 501: VECM\n",
            "Model Number: 502 with model ARDL in generation 5 of 10\n",
            "Template Eval Error: ImportError(\"cannot import name 'ARDL' from 'statsmodels.tsa.api' (/usr/local/lib/python3.7/dist-packages/statsmodels/tsa/api.py)\") in model 502: ARDL\n",
            "Model Number: 503 with model ARDL in generation 5 of 10\n",
            "Template Eval Error: ValueError(\"regression_type='User' but future_regressor not supplied\") in model 503: ARDL\n",
            "Model Number: 504 with model ARDL in generation 5 of 10\n",
            "Template Eval Error: ImportError(\"cannot import name 'ARDL' from 'statsmodels.tsa.api' (/usr/local/lib/python3.7/dist-packages/statsmodels/tsa/api.py)\") in model 504: ARDL\n",
            "Model Number: 505 with model ARDL in generation 5 of 10\n",
            "Template Eval Error: Exception('Transformer STLFilter failed on fit') in model 505: ARDL\n",
            "Model Number: 506 with model Theta in generation 5 of 10\n",
            "Template Eval Error: ModuleNotFoundError(\"No module named 'statsmodels.tsa.forecasting'\") in model 506: Theta\n",
            "Model Number: 507 with model Theta in generation 5 of 10\n",
            "Template Eval Error: ModuleNotFoundError(\"No module named 'statsmodels.tsa.forecasting'\") in model 507: Theta\n",
            "Model Number: 508 with model Theta in generation 5 of 10\n",
            "Template Eval Error: ModuleNotFoundError(\"No module named 'statsmodels.tsa.forecasting'\") in model 508: Theta\n",
            "Model Number: 509 with model Theta in generation 5 of 10\n",
            "Template Eval Error: ModuleNotFoundError(\"No module named 'statsmodels.tsa.forecasting'\") in model 509: Theta\n",
            "New Generation: 6 of 10\n",
            "Model Number: 510 with model NVAR in generation 6 of 10\n",
            "Model Number: 511 with model NVAR in generation 6 of 10\n",
            "Model Number: 512 with model NVAR in generation 6 of 10\n",
            "Model Number: 513 with model NVAR in generation 6 of 10\n",
            "Model Number: 514 with model SectionalMotif in generation 6 of 10\n",
            "Model Number: 515 with model SectionalMotif in generation 6 of 10\n",
            "Model Number: 516 with model SectionalMotif in generation 6 of 10\n",
            "Model Number: 517 with model SectionalMotif in generation 6 of 10\n",
            "Model Number: 518 with model WindowRegression in generation 6 of 10\n",
            "Model Number: 519 with model WindowRegression in generation 6 of 10\n",
            "Model Number: 520 with model WindowRegression in generation 6 of 10\n"
          ]
        },
        {
          "output_type": "stream",
          "name": "stderr",
          "text": [
            "/usr/local/lib/python3.7/dist-packages/sklearn/neural_network/_multilayer_perceptron.py:549: ConvergenceWarning: lbfgs failed to converge (status=1):\n",
            "STOP: TOTAL NO. of ITERATIONS REACHED LIMIT.\n",
            "\n",
            "Increase the number of iterations (max_iter) or scale the data as shown in:\n",
            "    https://scikit-learn.org/stable/modules/preprocessing.html\n",
            "  self.n_iter_ = _check_optimize_result(\"lbfgs\", opt_res, self.max_iter)\n"
          ]
        },
        {
          "output_type": "stream",
          "name": "stdout",
          "text": [
            "Model Number: 521 with model DatepartRegression in generation 6 of 10\n",
            "Epoch 1/50\n",
            "Template Eval Error: TypeError('in user code:\\n\\n    File \"/usr/local/lib/python3.7/dist-packages/keras/engine/training.py\", line 1021, in train_function  *\\n        return step_function(self, iterator)\\n    File \"/usr/local/lib/python3.7/dist-packages/keras/engine/training.py\", line 1010, in step_function  **\\n        outputs = model.distribute_strategy.run(run_step, args=(data,))\\n    File \"/usr/local/lib/python3.7/dist-packages/keras/engine/training.py\", line 1000, in run_step  **\\n        outputs = model.train_step(data)\\n    File \"/usr/local/lib/python3.7/dist-packages/keras/engine/training.py\", line 859, in train_step\\n        y_pred = self(x, training=True)\\n    File \"/usr/local/lib/python3.7/dist-packages/keras/utils/traceback_utils.py\", line 67, in error_handler\\n        raise e.with_traceback(filtered_tb) from None\\n\\n    TypeError: Exception encountered when calling layer \"residual_wrapper\" (type ResidualWrapper).\\n    \\n    in user code:\\n    \\n        File \"/usr/local/lib/python3.7/dist-packages/autots/models/dnn.py\", line 31, in call  *\\n            return inputs + delta\\n    \\n        TypeError: Input \\'y\\' of \\'AddV2\\' Op has type float32 that does not match type int64 of argument \\'x\\'.\\n    \\n    \\n    Call arguments received:\\n      • inputs=tf.Tensor(shape=(None, 1, 4), dtype=int64)\\n      • args=<class \\'inspect._empty\\'>\\n      • kwargs={\\'training\\': \\'True\\'}\\n') in model 521: DatepartRegression\n",
            "Model Number: 522 with model DatepartRegression in generation 6 of 10\n",
            "Model Number: 523 with model DatepartRegression in generation 6 of 10\n",
            "Template Eval Error: ValueError(\"regression_type='User' but no future_regressor passed\") in model 523: DatepartRegression\n",
            "Model Number: 524 with model LastValueNaive in generation 6 of 10\n",
            "Model Number: 525 with model LastValueNaive in generation 6 of 10\n",
            "Model Number: 526 with model LastValueNaive in generation 6 of 10\n",
            "Model Number: 527 with model AverageValueNaive in generation 6 of 10\n",
            "Model Number: 528 with model AverageValueNaive in generation 6 of 10\n",
            "Model Number: 529 with model AverageValueNaive in generation 6 of 10\n",
            "Model Number: 530 with model MultivariateRegression in generation 6 of 10\n"
          ]
        },
        {
          "output_type": "stream",
          "name": "stderr",
          "text": [
            "[Parallel(n_jobs=-2)]: Using backend SequentialBackend with 1 concurrent workers.\n",
            "[Parallel(n_jobs=-2)]: Done 200 out of 200 | elapsed:    0.4s finished\n",
            "[Parallel(n_jobs=1)]: Using backend SequentialBackend with 1 concurrent workers.\n",
            "[Parallel(n_jobs=1)]: Done 200 out of 200 | elapsed:    0.0s finished\n",
            "[Parallel(n_jobs=1)]: Using backend SequentialBackend with 1 concurrent workers.\n",
            "[Parallel(n_jobs=1)]: Done 200 out of 200 | elapsed:    0.0s finished\n",
            "[Parallel(n_jobs=1)]: Using backend SequentialBackend with 1 concurrent workers.\n",
            "[Parallel(n_jobs=1)]: Done 200 out of 200 | elapsed:    0.0s finished\n",
            "[Parallel(n_jobs=1)]: Using backend SequentialBackend with 1 concurrent workers.\n",
            "[Parallel(n_jobs=1)]: Done 200 out of 200 | elapsed:    0.0s finished\n",
            "[Parallel(n_jobs=1)]: Using backend SequentialBackend with 1 concurrent workers.\n",
            "[Parallel(n_jobs=1)]: Done 200 out of 200 | elapsed:    0.0s finished\n",
            "[Parallel(n_jobs=1)]: Using backend SequentialBackend with 1 concurrent workers.\n",
            "[Parallel(n_jobs=1)]: Done 200 out of 200 | elapsed:    0.0s finished\n",
            "[Parallel(n_jobs=1)]: Using backend SequentialBackend with 1 concurrent workers.\n",
            "[Parallel(n_jobs=1)]: Done 200 out of 200 | elapsed:    0.0s finished\n",
            "[Parallel(n_jobs=1)]: Using backend SequentialBackend with 1 concurrent workers.\n",
            "[Parallel(n_jobs=1)]: Done 200 out of 200 | elapsed:    0.0s finished\n",
            "[Parallel(n_jobs=1)]: Using backend SequentialBackend with 1 concurrent workers.\n",
            "[Parallel(n_jobs=1)]: Done 200 out of 200 | elapsed:    0.0s finished\n",
            "[Parallel(n_jobs=1)]: Using backend SequentialBackend with 1 concurrent workers.\n",
            "[Parallel(n_jobs=1)]: Done 200 out of 200 | elapsed:    0.0s finished\n"
          ]
        },
        {
          "output_type": "stream",
          "name": "stdout",
          "text": [
            "Model Number: 531 with model MultivariateRegression in generation 6 of 10\n",
            "Model Number: 532 with model MultivariateRegression in generation 6 of 10\n"
          ]
        },
        {
          "output_type": "stream",
          "name": "stderr",
          "text": [
            "[Parallel(n_jobs=-2)]: Using backend SequentialBackend with 1 concurrent workers.\n",
            "[Parallel(n_jobs=-2)]: Done 200 out of 200 | elapsed:    0.4s finished\n",
            "[Parallel(n_jobs=1)]: Using backend SequentialBackend with 1 concurrent workers.\n",
            "[Parallel(n_jobs=1)]: Done 200 out of 200 | elapsed:    0.0s finished\n",
            "[Parallel(n_jobs=1)]: Using backend SequentialBackend with 1 concurrent workers.\n",
            "[Parallel(n_jobs=1)]: Done 200 out of 200 | elapsed:    0.0s finished\n",
            "[Parallel(n_jobs=1)]: Using backend SequentialBackend with 1 concurrent workers.\n",
            "[Parallel(n_jobs=1)]: Done 200 out of 200 | elapsed:    0.0s finished\n",
            "[Parallel(n_jobs=1)]: Using backend SequentialBackend with 1 concurrent workers.\n",
            "[Parallel(n_jobs=1)]: Done 200 out of 200 | elapsed:    0.0s finished\n",
            "[Parallel(n_jobs=1)]: Using backend SequentialBackend with 1 concurrent workers.\n",
            "[Parallel(n_jobs=1)]: Done 200 out of 200 | elapsed:    0.0s finished\n",
            "[Parallel(n_jobs=1)]: Using backend SequentialBackend with 1 concurrent workers.\n",
            "[Parallel(n_jobs=1)]: Done 200 out of 200 | elapsed:    0.0s finished\n",
            "[Parallel(n_jobs=1)]: Using backend SequentialBackend with 1 concurrent workers.\n",
            "[Parallel(n_jobs=1)]: Done 200 out of 200 | elapsed:    0.0s finished\n",
            "[Parallel(n_jobs=1)]: Using backend SequentialBackend with 1 concurrent workers.\n",
            "[Parallel(n_jobs=1)]: Done 200 out of 200 | elapsed:    0.0s finished\n",
            "[Parallel(n_jobs=1)]: Using backend SequentialBackend with 1 concurrent workers.\n",
            "[Parallel(n_jobs=1)]: Done 200 out of 200 | elapsed:    0.0s finished\n",
            "[Parallel(n_jobs=1)]: Using backend SequentialBackend with 1 concurrent workers.\n",
            "[Parallel(n_jobs=1)]: Done 200 out of 200 | elapsed:    0.0s finished\n"
          ]
        },
        {
          "output_type": "stream",
          "name": "stdout",
          "text": [
            "Model Number: 533 with model MultivariateRegression in generation 6 of 10\n"
          ]
        },
        {
          "output_type": "stream",
          "name": "stderr",
          "text": [
            "[Parallel(n_jobs=-2)]: Using backend SequentialBackend with 1 concurrent workers.\n",
            "[Parallel(n_jobs=-2)]: Done 200 out of 200 | elapsed:    0.5s finished\n",
            "[Parallel(n_jobs=1)]: Using backend SequentialBackend with 1 concurrent workers.\n",
            "[Parallel(n_jobs=1)]: Done 200 out of 200 | elapsed:    0.0s finished\n",
            "[Parallel(n_jobs=1)]: Using backend SequentialBackend with 1 concurrent workers.\n",
            "[Parallel(n_jobs=1)]: Done 200 out of 200 | elapsed:    0.0s finished\n",
            "[Parallel(n_jobs=1)]: Using backend SequentialBackend with 1 concurrent workers.\n",
            "[Parallel(n_jobs=1)]: Done 200 out of 200 | elapsed:    0.0s finished\n",
            "[Parallel(n_jobs=1)]: Using backend SequentialBackend with 1 concurrent workers.\n",
            "[Parallel(n_jobs=1)]: Done 200 out of 200 | elapsed:    0.0s finished\n",
            "[Parallel(n_jobs=1)]: Using backend SequentialBackend with 1 concurrent workers.\n",
            "[Parallel(n_jobs=1)]: Done 200 out of 200 | elapsed:    0.0s finished\n",
            "[Parallel(n_jobs=1)]: Using backend SequentialBackend with 1 concurrent workers.\n",
            "[Parallel(n_jobs=1)]: Done 200 out of 200 | elapsed:    0.0s finished\n",
            "[Parallel(n_jobs=1)]: Using backend SequentialBackend with 1 concurrent workers.\n",
            "[Parallel(n_jobs=1)]: Done 200 out of 200 | elapsed:    0.0s finished\n",
            "[Parallel(n_jobs=1)]: Using backend SequentialBackend with 1 concurrent workers.\n",
            "[Parallel(n_jobs=1)]: Done 200 out of 200 | elapsed:    0.0s finished\n",
            "[Parallel(n_jobs=1)]: Using backend SequentialBackend with 1 concurrent workers.\n",
            "[Parallel(n_jobs=1)]: Done 200 out of 200 | elapsed:    0.0s finished\n",
            "[Parallel(n_jobs=1)]: Using backend SequentialBackend with 1 concurrent workers.\n",
            "[Parallel(n_jobs=1)]: Done 200 out of 200 | elapsed:    0.0s finished\n"
          ]
        },
        {
          "output_type": "stream",
          "name": "stdout",
          "text": [
            "Model Number: 534 with model UnobservedComponents in generation 6 of 10\n",
            "Template Eval Error: ValueError('Provided exogenous values are not of the appropriate shape. Required (10, 1), got (10,).') in model 534: UnobservedComponents\n",
            "Model Number: 535 with model UnobservedComponents in generation 6 of 10\n",
            "Model Number: 536 with model UnobservedComponents in generation 6 of 10\n",
            "Template Eval Error: ValueError(\"regression_type='User' but no future_regressor supplied\") in model 536: UnobservedComponents\n",
            "Model Number: 537 with model ETS in generation 6 of 10\n",
            "ETS error TypeError(\"__init__() got an unexpected keyword argument 'damped_trend'\")\n",
            "Model Number: 538 with model ETS in generation 6 of 10\n",
            "ETS error TypeError(\"__init__() got an unexpected keyword argument 'damped_trend'\")\n",
            "Model Number: 539 with model ETS in generation 6 of 10\n",
            "ETS error TypeError(\"__init__() got an unexpected keyword argument 'damped_trend'\")\n",
            "Model Number: 540 with model SeasonalNaive in generation 6 of 10\n",
            "Model Number: 541 with model SeasonalNaive in generation 6 of 10\n",
            "Model Number: 542 with model SeasonalNaive in generation 6 of 10\n",
            "Model Number: 543 with model SeasonalNaive in generation 6 of 10\n",
            "Model Number: 544 with model MultivariateMotif in generation 6 of 10\n",
            "Model Number: 545 with model MultivariateMotif in generation 6 of 10\n",
            "Model Number: 546 with model MultivariateMotif in generation 6 of 10\n",
            "Model Number: 547 with model MultivariateMotif in generation 6 of 10\n",
            "Model Number: 548 with model GLS in generation 6 of 10\n",
            "Model Number: 549 with model GLS in generation 6 of 10\n",
            "Model Number: 550 with model GLS in generation 6 of 10\n",
            "Model Number: 551 with model ConstantNaive in generation 6 of 10\n",
            "Model Number: 552 with model ConstantNaive in generation 6 of 10\n",
            "Model Number: 553 with model ConstantNaive in generation 6 of 10\n",
            "Model Number: 554 with model FBProphet in generation 6 of 10\n"
          ]
        },
        {
          "output_type": "stream",
          "name": "stderr",
          "text": [
            "INFO:fbprophet:Disabling yearly seasonality. Run prophet with yearly_seasonality=True to override this.\n",
            "INFO:fbprophet:Disabling daily seasonality. Run prophet with daily_seasonality=True to override this.\n",
            "INFO:fbprophet:n_changepoints greater than number of observations. Using 29.\n",
            "INFO:fbprophet:Disabling yearly seasonality. Run prophet with yearly_seasonality=True to override this.\n",
            "INFO:fbprophet:Disabling daily seasonality. Run prophet with daily_seasonality=True to override this.\n"
          ]
        },
        {
          "output_type": "stream",
          "name": "stdout",
          "text": [
            "Model Number: 555 with model FBProphet in generation 6 of 10\n"
          ]
        },
        {
          "output_type": "stream",
          "name": "stderr",
          "text": [
            "INFO:fbprophet:Disabling yearly seasonality. Run prophet with yearly_seasonality=True to override this.\n",
            "INFO:fbprophet:Disabling daily seasonality. Run prophet with daily_seasonality=True to override this.\n"
          ]
        },
        {
          "output_type": "stream",
          "name": "stdout",
          "text": [
            "Model Number: 556 with model FBProphet in generation 6 of 10\n",
            "Model Number: 557 with model FBProphet in generation 6 of 10\n",
            "Template Eval Error: Exception('Transformer STLFilter failed on fit') in model 557: FBProphet\n",
            "Model Number: 558 with model UnivariateMotif in generation 6 of 10\n",
            "Model Number: 559 with model UnivariateMotif in generation 6 of 10\n",
            "Model Number: 560 with model UnivariateMotif in generation 6 of 10\n",
            "Model Number: 561 with model UnivariateMotif in generation 6 of 10\n",
            "Model Number: 562 with model GLM in generation 6 of 10\n",
            "Template Eval Error: Exception('Transformer STLFilter failed on fit') in model 562: GLM\n",
            "Model Number: 563 with model GLM in generation 6 of 10\n",
            "Template Eval Error: Exception('Transformer STLFilter failed on fit') in model 563: GLM\n",
            "Model Number: 564 with model GLM in generation 6 of 10\n",
            "Template Eval Error: TypeError(\"ufunc 'isfinite' not supported for the input types, and the inputs could not be safely coerced to any supported types according to the casting rule ''safe''\") in model 564: GLM\n",
            "Model Number: 565 with model VAR in generation 6 of 10\n",
            "Template Eval Error: ValueError('Only gave one variable to VAR') in model 565: VAR\n",
            "Model Number: 566 with model VAR in generation 6 of 10\n",
            "Template Eval Error: ValueError('Only gave one variable to VAR') in model 566: VAR\n",
            "Model Number: 567 with model VAR in generation 6 of 10\n",
            "Template Eval Error: ValueError('Only gave one variable to VAR') in model 567: VAR\n",
            "Model Number: 568 with model VAR in generation 6 of 10\n",
            "Template Eval Error: ValueError('Only gave one variable to VAR') in model 568: VAR\n",
            "Model Number: 569 with model VECM in generation 6 of 10\n",
            "Template Eval Error: ValueError('Only gave one variable to VECM') in model 569: VECM\n",
            "Model Number: 570 with model VECM in generation 6 of 10\n",
            "Template Eval Error: ValueError('Only gave one variable to VECM') in model 570: VECM\n",
            "Model Number: 571 with model VECM in generation 6 of 10\n",
            "Template Eval Error: ValueError('Only gave one variable to VECM') in model 571: VECM\n",
            "Model Number: 572 with model VECM in generation 6 of 10\n",
            "Template Eval Error: ValueError('Only gave one variable to VECM') in model 572: VECM\n",
            "Model Number: 573 with model ARDL in generation 6 of 10\n",
            "Template Eval Error: ValueError(\"regression_type='User' but future_regressor not supplied\") in model 573: ARDL\n",
            "Model Number: 574 with model ARDL in generation 6 of 10\n",
            "Template Eval Error: ValueError(\"regression_type='User' but future_regressor not supplied\") in model 574: ARDL\n",
            "Model Number: 575 with model ARDL in generation 6 of 10\n",
            "Template Eval Error: ImportError(\"cannot import name 'ARDL' from 'statsmodels.tsa.api' (/usr/local/lib/python3.7/dist-packages/statsmodels/tsa/api.py)\") in model 575: ARDL\n",
            "Model Number: 576 with model ARDL in generation 6 of 10\n",
            "Template Eval Error: ImportError(\"cannot import name 'ARDL' from 'statsmodels.tsa.api' (/usr/local/lib/python3.7/dist-packages/statsmodels/tsa/api.py)\") in model 576: ARDL\n",
            "Model Number: 577 with model Theta in generation 6 of 10\n",
            "Template Eval Error: ModuleNotFoundError(\"No module named 'statsmodels.tsa.forecasting'\") in model 577: Theta\n",
            "Model Number: 578 with model Theta in generation 6 of 10\n",
            "Template Eval Error: ModuleNotFoundError(\"No module named 'statsmodels.tsa.forecasting'\") in model 578: Theta\n",
            "Model Number: 579 with model Theta in generation 6 of 10\n",
            "Template Eval Error: ModuleNotFoundError(\"No module named 'statsmodels.tsa.forecasting'\") in model 579: Theta\n",
            "Model Number: 580 with model Theta in generation 6 of 10\n",
            "Template Eval Error: ModuleNotFoundError(\"No module named 'statsmodels.tsa.forecasting'\") in model 580: Theta\n",
            "New Generation: 7 of 10\n",
            "Model Number: 581 with model NVAR in generation 7 of 10\n",
            "Template Eval Error: Exception('Transformer MinMaxScaler failed on inverse') in model 581: NVAR\n",
            "Model Number: 582 with model NVAR in generation 7 of 10\n",
            "Model Number: 583 with model NVAR in generation 7 of 10\n",
            "Model Number: 584 with model NVAR in generation 7 of 10\n",
            "Model Number: 585 with model SectionalMotif in generation 7 of 10\n",
            "Model Number: 586 with model SectionalMotif in generation 7 of 10\n",
            "Model Number: 587 with model SectionalMotif in generation 7 of 10\n",
            "Model Number: 588 with model SectionalMotif in generation 7 of 10\n",
            "Model Number: 589 with model WindowRegression in generation 7 of 10\n",
            "Template Eval Error: ValueError('RANSAC could not find a valid consensus set. All `max_trials` iterations were skipped because each randomly chosen sub-sample failed the passing criteria. See estimator attributes for diagnostics (n_skips*).') in model 589: WindowRegression\n",
            "Model Number: 590 with model WindowRegression in generation 7 of 10\n",
            "Model Number: 591 with model WindowRegression in generation 7 of 10\n"
          ]
        },
        {
          "output_type": "stream",
          "name": "stderr",
          "text": [
            "/usr/local/lib/python3.7/dist-packages/sklearn/svm/_base.py:1208: ConvergenceWarning: Liblinear failed to converge, increase the number of iterations.\n",
            "  ConvergenceWarning,\n"
          ]
        },
        {
          "output_type": "stream",
          "name": "stdout",
          "text": [
            "Model Number: 592 with model DatepartRegression in generation 7 of 10\n"
          ]
        },
        {
          "output_type": "stream",
          "name": "stderr",
          "text": [
            "/usr/local/lib/python3.7/dist-packages/sklearn/svm/_base.py:1208: ConvergenceWarning: Liblinear failed to converge, increase the number of iterations.\n",
            "  ConvergenceWarning,\n"
          ]
        },
        {
          "output_type": "stream",
          "name": "stdout",
          "text": [
            "Model Number: 593 with model DatepartRegression in generation 7 of 10\n",
            "Model Number: 594 with model DatepartRegression in generation 7 of 10\n",
            "Epoch 1/100\n",
            "24/24 [==============================] - 10s 44ms/step - loss: 6.4870\n",
            "Epoch 2/100\n",
            "24/24 [==============================] - 1s 45ms/step - loss: 1.1048\n",
            "Epoch 3/100\n",
            "24/24 [==============================] - 1s 45ms/step - loss: 0.6531\n",
            "Epoch 4/100\n",
            "24/24 [==============================] - 1s 43ms/step - loss: 0.4615\n",
            "Epoch 5/100\n",
            "24/24 [==============================] - 1s 47ms/step - loss: 0.9179\n",
            "Epoch 6/100\n",
            "24/24 [==============================] - 1s 44ms/step - loss: 0.6575\n",
            "Epoch 7/100\n",
            "24/24 [==============================] - 1s 45ms/step - loss: 0.6713\n",
            "Epoch 8/100\n",
            "24/24 [==============================] - 1s 41ms/step - loss: 0.4994\n",
            "Epoch 9/100\n",
            "24/24 [==============================] - 1s 41ms/step - loss: 0.3269\n",
            "Epoch 10/100\n",
            "24/24 [==============================] - 1s 40ms/step - loss: 0.4962\n",
            "Epoch 11/100\n",
            "24/24 [==============================] - 1s 48ms/step - loss: 0.3636\n",
            "Epoch 12/100\n",
            "24/24 [==============================] - 1s 44ms/step - loss: 0.6360\n",
            "Epoch 13/100\n",
            "24/24 [==============================] - 1s 24ms/step - loss: 0.4350\n",
            "Epoch 14/100\n",
            "24/24 [==============================] - 1s 22ms/step - loss: 0.2005\n",
            "Epoch 15/100\n",
            "24/24 [==============================] - 1s 21ms/step - loss: 0.4701\n",
            "Epoch 16/100\n",
            "24/24 [==============================] - 1s 21ms/step - loss: 0.6293\n",
            "Epoch 17/100\n",
            "24/24 [==============================] - 1s 21ms/step - loss: 0.2418\n",
            "Epoch 18/100\n",
            "24/24 [==============================] - 1s 21ms/step - loss: 0.2137\n",
            "Epoch 19/100\n",
            "24/24 [==============================] - 1s 21ms/step - loss: 0.4160\n",
            "Epoch 20/100\n",
            "24/24 [==============================] - 1s 22ms/step - loss: 0.2909\n",
            "Epoch 21/100\n",
            "24/24 [==============================] - 1s 22ms/step - loss: 0.3038\n",
            "Epoch 22/100\n",
            "24/24 [==============================] - 1s 21ms/step - loss: 0.3165\n",
            "Epoch 23/100\n",
            "24/24 [==============================] - 1s 21ms/step - loss: 0.4464\n",
            "Epoch 24/100\n",
            "24/24 [==============================] - 1s 21ms/step - loss: 0.2393\n",
            "Epoch 25/100\n",
            "24/24 [==============================] - 1s 22ms/step - loss: 0.2163\n",
            "Epoch 26/100\n",
            "24/24 [==============================] - 1s 22ms/step - loss: 0.3104\n",
            "Epoch 27/100\n",
            "24/24 [==============================] - 1s 22ms/step - loss: 0.2825\n",
            "Epoch 28/100\n",
            "24/24 [==============================] - 1s 21ms/step - loss: 0.3650\n",
            "Epoch 29/100\n",
            "24/24 [==============================] - 1s 22ms/step - loss: 0.3539\n",
            "Epoch 30/100\n",
            "24/24 [==============================] - 1s 21ms/step - loss: 0.4150\n",
            "Epoch 31/100\n",
            "24/24 [==============================] - 1s 21ms/step - loss: 0.3311\n",
            "Epoch 32/100\n",
            "24/24 [==============================] - 1s 23ms/step - loss: 0.3375\n",
            "Epoch 33/100\n",
            "24/24 [==============================] - 1s 22ms/step - loss: 0.4774\n",
            "Epoch 34/100\n",
            "24/24 [==============================] - 1s 23ms/step - loss: 0.2441\n",
            "Epoch 35/100\n",
            "24/24 [==============================] - 1s 22ms/step - loss: 0.4974\n",
            "Epoch 36/100\n",
            "24/24 [==============================] - 1s 21ms/step - loss: 0.3538\n",
            "Epoch 37/100\n",
            "24/24 [==============================] - 1s 22ms/step - loss: 0.1955\n",
            "Epoch 38/100\n",
            "24/24 [==============================] - 1s 21ms/step - loss: 0.2119\n",
            "Epoch 39/100\n",
            "24/24 [==============================] - 1s 22ms/step - loss: 0.2311\n",
            "Epoch 40/100\n",
            "24/24 [==============================] - 1s 21ms/step - loss: 0.2093\n",
            "Epoch 41/100\n",
            "24/24 [==============================] - 1s 21ms/step - loss: 0.2490\n",
            "Epoch 42/100\n",
            "24/24 [==============================] - 1s 21ms/step - loss: 0.2962\n",
            "Epoch 43/100\n",
            "24/24 [==============================] - 1s 22ms/step - loss: 0.2902\n",
            "Epoch 44/100\n",
            "24/24 [==============================] - 0s 21ms/step - loss: 0.2238\n",
            "Epoch 45/100\n",
            "24/24 [==============================] - 1s 26ms/step - loss: 0.2130\n",
            "Epoch 46/100\n",
            "24/24 [==============================] - 1s 21ms/step - loss: 0.1611\n",
            "Epoch 47/100\n",
            "24/24 [==============================] - 1s 21ms/step - loss: 0.3984\n",
            "Epoch 48/100\n",
            "24/24 [==============================] - 0s 20ms/step - loss: 0.3429\n",
            "Epoch 49/100\n",
            "24/24 [==============================] - 1s 22ms/step - loss: 0.1839\n",
            "Epoch 50/100\n",
            "24/24 [==============================] - 1s 21ms/step - loss: 0.2411\n",
            "Epoch 51/100\n",
            "24/24 [==============================] - 1s 22ms/step - loss: 0.2347\n",
            "Epoch 52/100\n",
            "24/24 [==============================] - 1s 22ms/step - loss: 0.3356\n",
            "Epoch 53/100\n",
            "24/24 [==============================] - 1s 21ms/step - loss: 0.2171\n",
            "Epoch 54/100\n",
            "24/24 [==============================] - 1s 21ms/step - loss: 0.2092\n",
            "Epoch 55/100\n",
            "24/24 [==============================] - 1s 21ms/step - loss: 0.2942\n",
            "Epoch 56/100\n",
            "24/24 [==============================] - 1s 22ms/step - loss: 0.1689\n",
            "Epoch 57/100\n",
            "24/24 [==============================] - 1s 21ms/step - loss: 0.1942\n",
            "Epoch 58/100\n",
            "24/24 [==============================] - 1s 21ms/step - loss: 0.2764\n",
            "Epoch 59/100\n",
            "24/24 [==============================] - 1s 21ms/step - loss: 0.2303\n",
            "Epoch 60/100\n",
            "24/24 [==============================] - 1s 23ms/step - loss: 0.3986\n",
            "Epoch 61/100\n",
            "24/24 [==============================] - 1s 21ms/step - loss: 0.4841\n",
            "Epoch 62/100\n",
            "24/24 [==============================] - 1s 23ms/step - loss: 0.3237\n",
            "Epoch 63/100\n",
            "24/24 [==============================] - 1s 21ms/step - loss: 0.2085\n",
            "Epoch 64/100\n",
            "24/24 [==============================] - 1s 22ms/step - loss: 0.1952\n",
            "Epoch 65/100\n",
            "24/24 [==============================] - 1s 21ms/step - loss: 0.2322\n",
            "Epoch 66/100\n",
            "24/24 [==============================] - 1s 22ms/step - loss: 0.2226\n",
            "Epoch 67/100\n",
            "24/24 [==============================] - 1s 21ms/step - loss: 0.2797\n",
            "Epoch 68/100\n",
            "24/24 [==============================] - 1s 23ms/step - loss: 0.1581\n",
            "Epoch 69/100\n",
            "24/24 [==============================] - 1s 21ms/step - loss: 0.1838\n",
            "Epoch 70/100\n",
            "24/24 [==============================] - 1s 23ms/step - loss: 0.1913\n",
            "Epoch 71/100\n",
            "24/24 [==============================] - 1s 21ms/step - loss: 0.4380\n",
            "Epoch 72/100\n",
            "24/24 [==============================] - 1s 23ms/step - loss: 0.2807\n",
            "Epoch 73/100\n",
            "24/24 [==============================] - 1s 21ms/step - loss: 0.3866\n",
            "Epoch 74/100\n",
            "24/24 [==============================] - 1s 22ms/step - loss: 0.3041\n",
            "Epoch 75/100\n",
            "24/24 [==============================] - 1s 21ms/step - loss: 0.1440\n",
            "Epoch 76/100\n",
            "24/24 [==============================] - 1s 21ms/step - loss: 0.2099\n",
            "Epoch 77/100\n",
            "24/24 [==============================] - 1s 21ms/step - loss: 0.1754\n",
            "Epoch 78/100\n",
            "24/24 [==============================] - 1s 22ms/step - loss: 0.2265\n",
            "Epoch 79/100\n",
            "24/24 [==============================] - 1s 22ms/step - loss: 0.2668\n",
            "Epoch 80/100\n",
            "24/24 [==============================] - 1s 22ms/step - loss: 0.1486\n",
            "Epoch 81/100\n",
            "24/24 [==============================] - 1s 22ms/step - loss: 0.2210\n",
            "Epoch 82/100\n",
            "24/24 [==============================] - 1s 21ms/step - loss: 0.1419\n",
            "Epoch 83/100\n",
            "24/24 [==============================] - 1s 22ms/step - loss: 0.1764\n",
            "Epoch 84/100\n",
            "24/24 [==============================] - 1s 21ms/step - loss: 0.2392\n",
            "Epoch 85/100\n",
            "24/24 [==============================] - 1s 22ms/step - loss: 0.1813\n",
            "Epoch 86/100\n",
            "24/24 [==============================] - 0s 20ms/step - loss: 0.2754\n",
            "Epoch 87/100\n",
            "24/24 [==============================] - 1s 21ms/step - loss: 0.2408\n",
            "Epoch 88/100\n",
            "24/24 [==============================] - 1s 22ms/step - loss: 0.1620\n",
            "Epoch 89/100\n",
            "24/24 [==============================] - 1s 23ms/step - loss: 0.1677\n",
            "Epoch 90/100\n",
            "24/24 [==============================] - 1s 21ms/step - loss: 0.1885\n",
            "Epoch 91/100\n",
            "24/24 [==============================] - 1s 21ms/step - loss: 0.2922\n",
            "Epoch 92/100\n",
            "24/24 [==============================] - 0s 20ms/step - loss: 0.3471\n",
            "Epoch 93/100\n",
            "24/24 [==============================] - 1s 22ms/step - loss: 0.3482\n",
            "Epoch 94/100\n",
            "24/24 [==============================] - 1s 21ms/step - loss: 0.3918\n",
            "Epoch 95/100\n",
            "24/24 [==============================] - 1s 22ms/step - loss: 0.2445\n",
            "Epoch 96/100\n",
            "24/24 [==============================] - 1s 22ms/step - loss: 0.2955\n",
            "Epoch 97/100\n",
            "24/24 [==============================] - 1s 23ms/step - loss: 0.1668\n",
            "Epoch 98/100\n",
            "24/24 [==============================] - 1s 22ms/step - loss: 0.1672\n",
            "Epoch 99/100\n",
            "24/24 [==============================] - 1s 24ms/step - loss: 0.2270\n",
            "Epoch 100/100\n",
            "24/24 [==============================] - 1s 23ms/step - loss: 0.1792\n",
            "WARNING:tensorflow:6 out of the last 6 calls to <function Model.make_predict_function.<locals>.predict_function at 0x7fd4711e37a0> triggered tf.function retracing. Tracing is expensive and the excessive number of tracings could be due to (1) creating @tf.function repeatedly in a loop, (2) passing tensors with different shapes, (3) passing Python objects instead of tensors. For (1), please define your @tf.function outside of the loop. For (2), @tf.function has experimental_relax_shapes=True option that relaxes argument shapes that can avoid unnecessary retracing. For (3), please refer to https://www.tensorflow.org/guide/function#controlling_retracing and https://www.tensorflow.org/api_docs/python/tf/function for  more details.\n"
          ]
        },
        {
          "output_type": "stream",
          "name": "stderr",
          "text": [
            "WARNING:tensorflow:6 out of the last 6 calls to <function Model.make_predict_function.<locals>.predict_function at 0x7fd4711e37a0> triggered tf.function retracing. Tracing is expensive and the excessive number of tracings could be due to (1) creating @tf.function repeatedly in a loop, (2) passing tensors with different shapes, (3) passing Python objects instead of tensors. For (1), please define your @tf.function outside of the loop. For (2), @tf.function has experimental_relax_shapes=True option that relaxes argument shapes that can avoid unnecessary retracing. For (3), please refer to https://www.tensorflow.org/guide/function#controlling_retracing and https://www.tensorflow.org/api_docs/python/tf/function for  more details.\n"
          ]
        },
        {
          "output_type": "stream",
          "name": "stdout",
          "text": [
            "Template Eval Error: ValueError('Model DatepartRegression returned NaN for one or more series. fail_on_forecast_nan=True') in model 594: DatepartRegression\n",
            "Model Number: 595 with model LastValueNaive in generation 7 of 10\n",
            "Model Number: 596 with model LastValueNaive in generation 7 of 10\n",
            "Model Number: 597 with model LastValueNaive in generation 7 of 10\n",
            "Model Number: 598 with model UnivariateMotif in generation 7 of 10\n",
            "Model Number: 599 with model UnivariateMotif in generation 7 of 10\n",
            "Model Number: 600 with model UnivariateMotif in generation 7 of 10\n",
            "Model Number: 601 with model UnivariateMotif in generation 7 of 10\n",
            "Model Number: 602 with model AverageValueNaive in generation 7 of 10\n",
            "Model Number: 603 with model AverageValueNaive in generation 7 of 10\n",
            "Model Number: 604 with model AverageValueNaive in generation 7 of 10\n",
            "Template Eval Error: Exception('Transformer STLFilter failed on fit') in model 604: AverageValueNaive\n",
            "Model Number: 605 with model MultivariateRegression in generation 7 of 10\n",
            "Model Number: 606 with model MultivariateRegression in generation 7 of 10\n"
          ]
        },
        {
          "output_type": "stream",
          "name": "stderr",
          "text": [
            "[Parallel(n_jobs=-2)]: Using backend SequentialBackend with 1 concurrent workers.\n",
            "[Parallel(n_jobs=-2)]: Done 200 out of 200 | elapsed:    0.2s finished\n",
            "[Parallel(n_jobs=1)]: Using backend SequentialBackend with 1 concurrent workers.\n",
            "[Parallel(n_jobs=1)]: Done 200 out of 200 | elapsed:    0.0s finished\n",
            "[Parallel(n_jobs=1)]: Using backend SequentialBackend with 1 concurrent workers.\n",
            "[Parallel(n_jobs=1)]: Done 200 out of 200 | elapsed:    0.0s finished\n",
            "[Parallel(n_jobs=1)]: Using backend SequentialBackend with 1 concurrent workers.\n",
            "[Parallel(n_jobs=1)]: Done 200 out of 200 | elapsed:    0.0s finished\n",
            "[Parallel(n_jobs=1)]: Using backend SequentialBackend with 1 concurrent workers.\n",
            "[Parallel(n_jobs=1)]: Done 200 out of 200 | elapsed:    0.0s finished\n",
            "[Parallel(n_jobs=1)]: Using backend SequentialBackend with 1 concurrent workers.\n",
            "[Parallel(n_jobs=1)]: Done 200 out of 200 | elapsed:    0.0s finished\n",
            "[Parallel(n_jobs=1)]: Using backend SequentialBackend with 1 concurrent workers.\n",
            "[Parallel(n_jobs=1)]: Done 200 out of 200 | elapsed:    0.0s finished\n",
            "[Parallel(n_jobs=1)]: Using backend SequentialBackend with 1 concurrent workers.\n",
            "[Parallel(n_jobs=1)]: Done 200 out of 200 | elapsed:    0.0s finished\n",
            "[Parallel(n_jobs=1)]: Using backend SequentialBackend with 1 concurrent workers.\n",
            "[Parallel(n_jobs=1)]: Done 200 out of 200 | elapsed:    0.0s finished\n",
            "[Parallel(n_jobs=1)]: Using backend SequentialBackend with 1 concurrent workers.\n",
            "[Parallel(n_jobs=1)]: Done 200 out of 200 | elapsed:    0.0s finished\n",
            "[Parallel(n_jobs=1)]: Using backend SequentialBackend with 1 concurrent workers.\n",
            "[Parallel(n_jobs=1)]: Done 200 out of 200 | elapsed:    0.0s finished\n"
          ]
        },
        {
          "output_type": "stream",
          "name": "stdout",
          "text": [
            "Model Number: 607 with model MultivariateRegression in generation 7 of 10\n",
            "Model Number: 608 with model MultivariateRegression in generation 7 of 10\n"
          ]
        },
        {
          "output_type": "stream",
          "name": "stderr",
          "text": [
            "[Parallel(n_jobs=-2)]: Using backend SequentialBackend with 1 concurrent workers.\n",
            "[Parallel(n_jobs=-2)]: Done 200 out of 200 | elapsed:    0.2s finished\n",
            "[Parallel(n_jobs=1)]: Using backend SequentialBackend with 1 concurrent workers.\n",
            "[Parallel(n_jobs=1)]: Done 200 out of 200 | elapsed:    0.0s finished\n",
            "[Parallel(n_jobs=1)]: Using backend SequentialBackend with 1 concurrent workers.\n",
            "[Parallel(n_jobs=1)]: Done 200 out of 200 | elapsed:    0.0s finished\n",
            "[Parallel(n_jobs=1)]: Using backend SequentialBackend with 1 concurrent workers.\n",
            "[Parallel(n_jobs=1)]: Done 200 out of 200 | elapsed:    0.0s finished\n",
            "[Parallel(n_jobs=1)]: Using backend SequentialBackend with 1 concurrent workers.\n",
            "[Parallel(n_jobs=1)]: Done 200 out of 200 | elapsed:    0.0s finished\n",
            "[Parallel(n_jobs=1)]: Using backend SequentialBackend with 1 concurrent workers.\n",
            "[Parallel(n_jobs=1)]: Done 200 out of 200 | elapsed:    0.0s finished\n",
            "[Parallel(n_jobs=1)]: Using backend SequentialBackend with 1 concurrent workers.\n",
            "[Parallel(n_jobs=1)]: Done 200 out of 200 | elapsed:    0.0s finished\n",
            "[Parallel(n_jobs=1)]: Using backend SequentialBackend with 1 concurrent workers.\n",
            "[Parallel(n_jobs=1)]: Done 200 out of 200 | elapsed:    0.0s finished\n",
            "[Parallel(n_jobs=1)]: Using backend SequentialBackend with 1 concurrent workers.\n",
            "[Parallel(n_jobs=1)]: Done 200 out of 200 | elapsed:    0.0s finished\n",
            "[Parallel(n_jobs=1)]: Using backend SequentialBackend with 1 concurrent workers.\n",
            "[Parallel(n_jobs=1)]: Done 200 out of 200 | elapsed:    0.0s finished\n",
            "[Parallel(n_jobs=1)]: Using backend SequentialBackend with 1 concurrent workers.\n",
            "[Parallel(n_jobs=1)]: Done 200 out of 200 | elapsed:    0.0s finished\n"
          ]
        },
        {
          "output_type": "stream",
          "name": "stdout",
          "text": [
            "Model Number: 609 with model UnobservedComponents in generation 7 of 10\n",
            "Template Eval Error: ValueError('Provided exogenous values are not of the appropriate shape. Required (10, 1), got (10,).') in model 609: UnobservedComponents\n",
            "Model Number: 610 with model UnobservedComponents in generation 7 of 10\n",
            "Model Number: 611 with model UnobservedComponents in generation 7 of 10\n",
            "Model Number: 612 with model ETS in generation 7 of 10\n",
            "ETS error TypeError(\"__init__() got an unexpected keyword argument 'damped_trend'\")\n",
            "Model Number: 613 with model ETS in generation 7 of 10\n",
            "ETS error TypeError(\"__init__() got an unexpected keyword argument 'damped_trend'\")\n",
            "Model Number: 614 with model ETS in generation 7 of 10\n",
            "ETS error TypeError(\"__init__() got an unexpected keyword argument 'damped_trend'\")\n",
            "Model Number: 615 with model ETS in generation 7 of 10\n",
            "ETS error TypeError(\"__init__() got an unexpected keyword argument 'damped_trend'\")\n",
            "Model Number: 616 with model SeasonalNaive in generation 7 of 10\n",
            "Model Number: 617 with model SeasonalNaive in generation 7 of 10\n",
            "Model Number: 618 with model SeasonalNaive in generation 7 of 10\n",
            "Model Number: 619 with model MultivariateMotif in generation 7 of 10\n",
            "Model Number: 620 with model MultivariateMotif in generation 7 of 10\n",
            "Model Number: 621 with model MultivariateMotif in generation 7 of 10\n",
            "Model Number: 622 with model MultivariateMotif in generation 7 of 10\n",
            "Model Number: 623 with model GLS in generation 7 of 10\n",
            "Model Number: 624 with model GLS in generation 7 of 10\n",
            "Model Number: 625 with model FBProphet in generation 7 of 10\n",
            "Template Eval Error: ValueError(\"regression_type='User' but no future_regressor passed\") in model 625: FBProphet\n",
            "Model Number: 626 with model FBProphet in generation 7 of 10\n"
          ]
        },
        {
          "output_type": "stream",
          "name": "stderr",
          "text": [
            "INFO:fbprophet:Disabling yearly seasonality. Run prophet with yearly_seasonality=True to override this.\n",
            "INFO:fbprophet:Disabling daily seasonality. Run prophet with daily_seasonality=True to override this.\n",
            "INFO:fbprophet:Disabling yearly seasonality. Run prophet with yearly_seasonality=True to override this.\n",
            "INFO:fbprophet:Disabling daily seasonality. Run prophet with daily_seasonality=True to override this.\n"
          ]
        },
        {
          "output_type": "stream",
          "name": "stdout",
          "text": [
            "Model Number: 627 with model FBProphet in generation 7 of 10\n"
          ]
        },
        {
          "output_type": "stream",
          "name": "stderr",
          "text": [
            "INFO:fbprophet:Disabling yearly seasonality. Run prophet with yearly_seasonality=True to override this.\n",
            "INFO:fbprophet:Disabling daily seasonality. Run prophet with daily_seasonality=True to override this.\n"
          ]
        },
        {
          "output_type": "stream",
          "name": "stdout",
          "text": [
            "Model Number: 628 with model FBProphet in generation 7 of 10\n",
            "Model Number: 629 with model ConstantNaive in generation 7 of 10\n",
            "Model Number: 630 with model ConstantNaive in generation 7 of 10\n",
            "Model Number: 631 with model ConstantNaive in generation 7 of 10\n",
            "Model Number: 632 with model GLM in generation 7 of 10\n",
            "Model Number: 633 with model GLM in generation 7 of 10\n",
            "Model Number: 634 with model VAR in generation 7 of 10\n",
            "Template Eval Error: ValueError('Only gave one variable to VAR') in model 634: VAR\n",
            "Model Number: 635 with model VAR in generation 7 of 10\n",
            "Template Eval Error: ValueError('Only gave one variable to VAR') in model 635: VAR\n",
            "Model Number: 636 with model VAR in generation 7 of 10\n",
            "Template Eval Error: ValueError('Only gave one variable to VAR') in model 636: VAR\n",
            "Model Number: 637 with model VAR in generation 7 of 10\n",
            "Template Eval Error: ValueError('Only gave one variable to VAR') in model 637: VAR\n",
            "Model Number: 638 with model VECM in generation 7 of 10\n",
            "Template Eval Error: ValueError('Only gave one variable to VECM') in model 638: VECM\n",
            "Model Number: 639 with model VECM in generation 7 of 10\n",
            "Template Eval Error: ValueError('Only gave one variable to VECM') in model 639: VECM\n",
            "Model Number: 640 with model VECM in generation 7 of 10\n"
          ]
        },
        {
          "output_type": "stream",
          "name": "stderr",
          "text": [
            "/usr/local/lib/python3.7/dist-packages/statsmodels/genmod/families/links.py:190: RuntimeWarning: overflow encountered in exp\n",
            "  t = np.exp(-z)\n",
            "/usr/local/lib/python3.7/dist-packages/statsmodels/genmod/families/family.py:889: RuntimeWarning: divide by zero encountered in true_divide\n",
            "  endog_mu = self._clean(endog / mu)\n"
          ]
        },
        {
          "output_type": "stream",
          "name": "stdout",
          "text": [
            "Template Eval Error: ValueError(\"regression_type='User' but no future_regressor supplied\") in model 640: VECM\n",
            "Model Number: 641 with model VECM in generation 7 of 10\n",
            "Template Eval Error: ValueError('Only gave one variable to VECM') in model 641: VECM\n",
            "Model Number: 642 with model ARDL in generation 7 of 10\n",
            "Template Eval Error: ValueError(\"regression_type='User' but future_regressor not supplied\") in model 642: ARDL\n",
            "Model Number: 643 with model ARDL in generation 7 of 10\n",
            "Template Eval Error: ValueError(\"regression_type='User' but future_regressor not supplied\") in model 643: ARDL\n",
            "Model Number: 644 with model ARDL in generation 7 of 10\n",
            "Template Eval Error: ValueError(\"regression_type='User' but future_regressor not supplied\") in model 644: ARDL\n",
            "Model Number: 645 with model ARDL in generation 7 of 10\n",
            "Template Eval Error: ValueError(\"regression_type='User' but future_regressor not supplied\") in model 645: ARDL\n",
            "Model Number: 646 with model Theta in generation 7 of 10\n",
            "Template Eval Error: ModuleNotFoundError(\"No module named 'statsmodels.tsa.forecasting'\") in model 646: Theta\n",
            "Model Number: 647 with model Theta in generation 7 of 10\n",
            "Template Eval Error: ModuleNotFoundError(\"No module named 'statsmodels.tsa.forecasting'\") in model 647: Theta\n",
            "Model Number: 648 with model Theta in generation 7 of 10\n",
            "Template Eval Error: ModuleNotFoundError(\"No module named 'statsmodels.tsa.forecasting'\") in model 648: Theta\n",
            "Model Number: 649 with model Theta in generation 7 of 10\n",
            "Template Eval Error: ModuleNotFoundError(\"No module named 'statsmodels.tsa.forecasting'\") in model 649: Theta\n",
            "New Generation: 8 of 10\n",
            "Model Number: 650 with model NVAR in generation 8 of 10\n",
            "Model Number: 651 with model NVAR in generation 8 of 10\n",
            "Model Number: 652 with model NVAR in generation 8 of 10\n",
            "Model Number: 653 with model NVAR in generation 8 of 10\n",
            "Model Number: 654 with model SectionalMotif in generation 8 of 10\n",
            "Model Number: 655 with model SectionalMotif in generation 8 of 10\n",
            "Model Number: 656 with model SectionalMotif in generation 8 of 10\n",
            "Model Number: 657 with model SectionalMotif in generation 8 of 10\n",
            "Model Number: 658 with model WindowRegression in generation 8 of 10\n",
            "Model Number: 659 with model WindowRegression in generation 8 of 10\n",
            "Epoch 1/50\n",
            "2/2 [==============================] - 6s 876ms/step - loss: 95.6030 - val_loss: 90.7888\n",
            "Epoch 2/50\n",
            "2/2 [==============================] - 1s 329ms/step - loss: 96.9247 - val_loss: 90.2062\n",
            "Epoch 3/50\n",
            "2/2 [==============================] - 1s 333ms/step - loss: 94.0104 - val_loss: 89.6254\n",
            "Epoch 4/50\n",
            "2/2 [==============================] - 1s 346ms/step - loss: 92.7781 - val_loss: 89.0480\n",
            "Epoch 5/50\n",
            "2/2 [==============================] - 1s 330ms/step - loss: 92.3475 - val_loss: 88.4728\n",
            "Epoch 6/50\n",
            "2/2 [==============================] - 1s 335ms/step - loss: 94.2592 - val_loss: 87.9032\n",
            "Epoch 7/50\n",
            "2/2 [==============================] - 1s 345ms/step - loss: 93.4054 - val_loss: 87.3356\n",
            "Epoch 8/50\n",
            "2/2 [==============================] - 1s 326ms/step - loss: 91.3205 - val_loss: 86.7692\n",
            "Epoch 9/50\n",
            "2/2 [==============================] - 1s 339ms/step - loss: 92.7603 - val_loss: 86.2051\n",
            "Epoch 10/50\n",
            "2/2 [==============================] - 1s 345ms/step - loss: 91.9672 - val_loss: 85.6450\n",
            "Epoch 11/50\n",
            "2/2 [==============================] - 1s 346ms/step - loss: 91.6718 - val_loss: 85.0880\n",
            "Epoch 12/50\n",
            "2/2 [==============================] - 1s 337ms/step - loss: 87.6218 - val_loss: 84.5359\n",
            "Epoch 13/50\n",
            "2/2 [==============================] - 1s 342ms/step - loss: 91.7741 - val_loss: 83.9924\n",
            "Epoch 14/50\n",
            "2/2 [==============================] - 1s 333ms/step - loss: 87.5036 - val_loss: 83.4539\n",
            "Epoch 15/50\n",
            "2/2 [==============================] - 1s 345ms/step - loss: 90.4762 - val_loss: 82.9191\n",
            "Epoch 16/50\n",
            "2/2 [==============================] - 1s 333ms/step - loss: 87.1049 - val_loss: 82.3863\n",
            "Epoch 17/50\n",
            "2/2 [==============================] - 1s 326ms/step - loss: 92.7028 - val_loss: 81.8594\n",
            "Epoch 18/50\n",
            "2/2 [==============================] - 1s 354ms/step - loss: 89.2409 - val_loss: 81.3365\n",
            "Epoch 19/50\n",
            "2/2 [==============================] - 1s 343ms/step - loss: 88.0788 - val_loss: 80.8175\n",
            "Epoch 20/50\n",
            "2/2 [==============================] - 1s 333ms/step - loss: 85.6378 - val_loss: 80.3021\n",
            "Epoch 21/50\n",
            "2/2 [==============================] - 1s 341ms/step - loss: 87.2961 - val_loss: 79.7878\n",
            "Epoch 22/50\n",
            "2/2 [==============================] - 1s 337ms/step - loss: 85.8190 - val_loss: 79.2750\n",
            "Epoch 23/50\n",
            "2/2 [==============================] - 1s 338ms/step - loss: 83.0268 - val_loss: 78.7661\n",
            "Epoch 24/50\n",
            "2/2 [==============================] - 1s 342ms/step - loss: 83.3221 - val_loss: 78.2569\n",
            "Epoch 25/50\n",
            "2/2 [==============================] - 1s 347ms/step - loss: 83.4496 - val_loss: 77.7492\n",
            "Epoch 26/50\n",
            "2/2 [==============================] - 1s 340ms/step - loss: 84.0982 - val_loss: 77.2460\n",
            "Epoch 27/50\n",
            "2/2 [==============================] - 1s 359ms/step - loss: 83.8993 - val_loss: 76.7471\n",
            "Epoch 28/50\n",
            "2/2 [==============================] - 1s 341ms/step - loss: 83.2515 - val_loss: 76.2563\n",
            "Epoch 29/50\n",
            "2/2 [==============================] - 1s 329ms/step - loss: 82.5196 - val_loss: 75.7777\n",
            "Epoch 30/50\n",
            "2/2 [==============================] - 1s 339ms/step - loss: 82.0512 - val_loss: 75.3035\n",
            "Epoch 31/50\n",
            "2/2 [==============================] - 1s 343ms/step - loss: 83.0716 - val_loss: 74.8295\n",
            "Epoch 32/50\n",
            "2/2 [==============================] - 1s 335ms/step - loss: 78.8920 - val_loss: 74.3545\n",
            "Epoch 33/50\n",
            "2/2 [==============================] - 1s 340ms/step - loss: 79.3016 - val_loss: 73.8816\n",
            "Epoch 34/50\n",
            "2/2 [==============================] - 1s 347ms/step - loss: 79.6909 - val_loss: 73.4114\n",
            "Epoch 35/50\n",
            "2/2 [==============================] - 1s 336ms/step - loss: 80.0176 - val_loss: 72.9495\n",
            "Epoch 36/50\n",
            "2/2 [==============================] - 1s 344ms/step - loss: 78.4241 - val_loss: 72.4912\n",
            "Epoch 37/50\n",
            "2/2 [==============================] - 1s 810ms/step - loss: 78.7012 - val_loss: 72.0420\n",
            "Epoch 38/50\n",
            "2/2 [==============================] - 1s 334ms/step - loss: 81.2263 - val_loss: 71.5991\n",
            "Epoch 39/50\n",
            "2/2 [==============================] - 1s 337ms/step - loss: 79.9828 - val_loss: 71.1646\n",
            "Epoch 40/50\n",
            "2/2 [==============================] - 1s 337ms/step - loss: 75.3030 - val_loss: 70.7345\n",
            "Epoch 41/50\n",
            "2/2 [==============================] - 1s 332ms/step - loss: 77.5539 - val_loss: 70.3116\n",
            "Epoch 42/50\n",
            "2/2 [==============================] - 1s 338ms/step - loss: 76.9705 - val_loss: 69.8918\n",
            "Epoch 43/50\n",
            "2/2 [==============================] - 1s 345ms/step - loss: 77.1422 - val_loss: 69.4788\n",
            "Epoch 44/50\n",
            "2/2 [==============================] - 1s 331ms/step - loss: 77.5022 - val_loss: 69.0678\n",
            "Epoch 45/50\n",
            "2/2 [==============================] - 1s 338ms/step - loss: 80.7605 - val_loss: 68.6632\n",
            "Epoch 46/50\n",
            "2/2 [==============================] - 1s 347ms/step - loss: 75.3680 - val_loss: 68.2690\n",
            "Epoch 47/50\n",
            "2/2 [==============================] - 1s 338ms/step - loss: 74.5463 - val_loss: 67.8873\n",
            "Epoch 48/50\n",
            "2/2 [==============================] - 1s 333ms/step - loss: 75.4330 - val_loss: 67.5145\n",
            "Epoch 49/50\n",
            "2/2 [==============================] - 1s 347ms/step - loss: 78.9170 - val_loss: 67.1464\n",
            "Epoch 50/50\n",
            "2/2 [==============================] - 1s 340ms/step - loss: 75.5386 - val_loss: 66.7823\n",
            "Model Number: 660 with model WindowRegression in generation 8 of 10\n",
            "Model Number: 661 with model DatepartRegression in generation 8 of 10\n",
            "Model Number: 662 with model DatepartRegression in generation 8 of 10\n"
          ]
        },
        {
          "output_type": "stream",
          "name": "stderr",
          "text": [
            "/usr/local/lib/python3.7/dist-packages/sklearn/svm/_base.py:1208: ConvergenceWarning: Liblinear failed to converge, increase the number of iterations.\n",
            "  ConvergenceWarning,\n"
          ]
        },
        {
          "output_type": "stream",
          "name": "stdout",
          "text": [
            "Model Number: 663 with model DatepartRegression in generation 8 of 10\n",
            "Model Number: 664 with model LastValueNaive in generation 8 of 10\n",
            "Model Number: 665 with model LastValueNaive in generation 8 of 10\n",
            "Model Number: 666 with model LastValueNaive in generation 8 of 10\n",
            "Model Number: 667 with model UnivariateMotif in generation 8 of 10\n",
            "Model Number: 668 with model UnivariateMotif in generation 8 of 10\n",
            "Model Number: 669 with model UnivariateMotif in generation 8 of 10\n",
            "Model Number: 670 with model UnivariateMotif in generation 8 of 10\n",
            "Model Number: 671 with model AverageValueNaive in generation 8 of 10\n",
            "Model Number: 672 with model AverageValueNaive in generation 8 of 10\n",
            "Model Number: 673 with model AverageValueNaive in generation 8 of 10\n",
            "Model Number: 674 with model MultivariateRegression in generation 8 of 10\n"
          ]
        },
        {
          "output_type": "stream",
          "name": "stderr",
          "text": [
            "[Parallel(n_jobs=-2)]: Using backend SequentialBackend with 1 concurrent workers.\n",
            "[Parallel(n_jobs=-2)]: Done 200 out of 200 | elapsed:    0.3s finished\n",
            "[Parallel(n_jobs=1)]: Using backend SequentialBackend with 1 concurrent workers.\n",
            "[Parallel(n_jobs=1)]: Done 200 out of 200 | elapsed:    0.0s finished\n",
            "[Parallel(n_jobs=1)]: Using backend SequentialBackend with 1 concurrent workers.\n",
            "[Parallel(n_jobs=1)]: Done 200 out of 200 | elapsed:    0.0s finished\n",
            "[Parallel(n_jobs=1)]: Using backend SequentialBackend with 1 concurrent workers.\n",
            "[Parallel(n_jobs=1)]: Done 200 out of 200 | elapsed:    0.0s finished\n",
            "[Parallel(n_jobs=1)]: Using backend SequentialBackend with 1 concurrent workers.\n",
            "[Parallel(n_jobs=1)]: Done 200 out of 200 | elapsed:    0.0s finished\n",
            "[Parallel(n_jobs=1)]: Using backend SequentialBackend with 1 concurrent workers.\n",
            "[Parallel(n_jobs=1)]: Done 200 out of 200 | elapsed:    0.0s finished\n",
            "[Parallel(n_jobs=1)]: Using backend SequentialBackend with 1 concurrent workers.\n",
            "[Parallel(n_jobs=1)]: Done 200 out of 200 | elapsed:    0.0s finished\n",
            "[Parallel(n_jobs=1)]: Using backend SequentialBackend with 1 concurrent workers.\n",
            "[Parallel(n_jobs=1)]: Done 200 out of 200 | elapsed:    0.0s finished\n",
            "[Parallel(n_jobs=1)]: Using backend SequentialBackend with 1 concurrent workers.\n",
            "[Parallel(n_jobs=1)]: Done 200 out of 200 | elapsed:    0.0s finished\n",
            "[Parallel(n_jobs=1)]: Using backend SequentialBackend with 1 concurrent workers.\n",
            "[Parallel(n_jobs=1)]: Done 200 out of 200 | elapsed:    0.0s finished\n",
            "[Parallel(n_jobs=1)]: Using backend SequentialBackend with 1 concurrent workers.\n",
            "[Parallel(n_jobs=1)]: Done 200 out of 200 | elapsed:    0.0s finished\n"
          ]
        },
        {
          "output_type": "stream",
          "name": "stdout",
          "text": [
            "Model Number: 675 with model MultivariateRegression in generation 8 of 10\n",
            "Template Eval Error: ValueError(\"regression_type='User' but not future_regressor supplied.\") in model 675: MultivariateRegression\n",
            "Model Number: 676 with model MultivariateRegression in generation 8 of 10\n",
            "Template Eval Error: ValueError(\"regression_type='User' but not future_regressor supplied.\") in model 676: MultivariateRegression\n",
            "Model Number: 677 with model MultivariateRegression in generation 8 of 10\n",
            "Epoch 1/100\n",
            "Template Eval Error: InvalidArgumentError() in model 677: MultivariateRegression\n",
            "Model Number: 678 with model UnobservedComponents in generation 8 of 10\n",
            "Model Number: 679 with model UnobservedComponents in generation 8 of 10\n",
            "Model Number: 680 with model UnobservedComponents in generation 8 of 10\n",
            "Model Number: 681 with model ETS in generation 8 of 10\n",
            "ETS error TypeError(\"__init__() got an unexpected keyword argument 'damped_trend'\")\n",
            "Model Number: 682 with model ETS in generation 8 of 10\n",
            "ETS error TypeError(\"__init__() got an unexpected keyword argument 'damped_trend'\")\n",
            "Model Number: 683 with model ETS in generation 8 of 10\n",
            "ETS error TypeError(\"__init__() got an unexpected keyword argument 'damped_trend'\")\n",
            "ETS failed on Close with ValueError('endog must be strictly positive when using multiplicative trend or seasonal components.')\n",
            "Model Number: 684 with model ETS in generation 8 of 10\n",
            "ETS error TypeError(\"__init__() got an unexpected keyword argument 'damped_trend'\")\n",
            "Model Number: 685 with model SeasonalNaive in generation 8 of 10\n",
            "Model Number: 686 with model SeasonalNaive in generation 8 of 10\n",
            "Model Number: 687 with model SeasonalNaive in generation 8 of 10\n",
            "Model Number: 688 with model SeasonalNaive in generation 8 of 10\n",
            "Model Number: 689 with model MultivariateMotif in generation 8 of 10\n",
            "Model Number: 690 with model MultivariateMotif in generation 8 of 10\n",
            "Model Number: 691 with model MultivariateMotif in generation 8 of 10\n",
            "Model Number: 692 with model MultivariateMotif in generation 8 of 10\n",
            "Model Number: 693 with model GLS in generation 8 of 10\n",
            "Model Number: 694 with model GLS in generation 8 of 10\n",
            "Model Number: 695 with model GLS in generation 8 of 10\n",
            "Model Number: 696 with model ConstantNaive in generation 8 of 10\n",
            "Model Number: 697 with model ConstantNaive in generation 8 of 10\n",
            "Model Number: 698 with model ConstantNaive in generation 8 of 10\n",
            "Model Number: 699 with model FBProphet in generation 8 of 10\n"
          ]
        },
        {
          "output_type": "stream",
          "name": "stderr",
          "text": [
            "INFO:fbprophet:Disabling yearly seasonality. Run prophet with yearly_seasonality=True to override this.\n",
            "INFO:fbprophet:Disabling daily seasonality. Run prophet with daily_seasonality=True to override this.\n",
            "INFO:fbprophet:Disabling yearly seasonality. Run prophet with yearly_seasonality=True to override this.\n",
            "INFO:fbprophet:Disabling daily seasonality. Run prophet with daily_seasonality=True to override this.\n"
          ]
        },
        {
          "output_type": "stream",
          "name": "stdout",
          "text": [
            "Model Number: 700 with model FBProphet in generation 8 of 10\n"
          ]
        },
        {
          "output_type": "stream",
          "name": "stderr",
          "text": [
            "INFO:fbprophet:Disabling yearly seasonality. Run prophet with yearly_seasonality=True to override this.\n",
            "INFO:fbprophet:Disabling daily seasonality. Run prophet with daily_seasonality=True to override this.\n"
          ]
        },
        {
          "output_type": "stream",
          "name": "stdout",
          "text": [
            "Model Number: 701 with model FBProphet in generation 8 of 10\n"
          ]
        },
        {
          "output_type": "stream",
          "name": "stderr",
          "text": [
            "INFO:fbprophet:Disabling yearly seasonality. Run prophet with yearly_seasonality=True to override this.\n",
            "INFO:fbprophet:Disabling daily seasonality. Run prophet with daily_seasonality=True to override this.\n"
          ]
        },
        {
          "output_type": "stream",
          "name": "stdout",
          "text": [
            "Model Number: 702 with model FBProphet in generation 8 of 10\n",
            "Model Number: 703 with model GLM in generation 8 of 10\n",
            "Model Number: 704 with model GLM in generation 8 of 10\n",
            "Model Number: 705 with model GLM in generation 8 of 10\n",
            "Model Number: 706 with model VAR in generation 8 of 10\n",
            "Template Eval Error: ValueError('Only gave one variable to VAR') in model 706: VAR\n",
            "Model Number: 707 with model VAR in generation 8 of 10\n",
            "Template Eval Error: ValueError('Only gave one variable to VAR') in model 707: VAR\n",
            "Model Number: 708 with model VAR in generation 8 of 10\n",
            "Template Eval Error: ValueError('Only gave one variable to VAR') in model 708: VAR\n"
          ]
        },
        {
          "output_type": "stream",
          "name": "stderr",
          "text": [
            "/usr/local/lib/python3.7/dist-packages/statsmodels/genmod/families/family.py:890: RuntimeWarning: divide by zero encountered in true_divide\n",
            "  n_endog_mu = self._clean((1. - endog) / (1. - mu))\n"
          ]
        },
        {
          "output_type": "stream",
          "name": "stdout",
          "text": [
            "Model Number: 709 with model VAR in generation 8 of 10\n",
            "Template Eval Error: ValueError('Only gave one variable to VAR') in model 709: VAR\n",
            "Model Number: 710 with model VECM in generation 8 of 10\n",
            "Template Eval Error: ValueError('Only gave one variable to VECM') in model 710: VECM\n",
            "Model Number: 711 with model VECM in generation 8 of 10\n",
            "Template Eval Error: ValueError('Only gave one variable to VECM') in model 711: VECM\n",
            "Model Number: 712 with model VECM in generation 8 of 10\n",
            "Template Eval Error: ValueError('Only gave one variable to VECM') in model 712: VECM\n",
            "Model Number: 713 with model VECM in generation 8 of 10\n",
            "Template Eval Error: ValueError('Only gave one variable to VECM') in model 713: VECM\n",
            "Model Number: 714 with model ARDL in generation 8 of 10\n",
            "Template Eval Error: ImportError(\"cannot import name 'ARDL' from 'statsmodels.tsa.api' (/usr/local/lib/python3.7/dist-packages/statsmodels/tsa/api.py)\") in model 714: ARDL\n",
            "Model Number: 715 with model ARDL in generation 8 of 10\n",
            "Template Eval Error: ImportError(\"cannot import name 'ARDL' from 'statsmodels.tsa.api' (/usr/local/lib/python3.7/dist-packages/statsmodels/tsa/api.py)\") in model 715: ARDL\n",
            "Model Number: 716 with model ARDL in generation 8 of 10\n",
            "Template Eval Error: ValueError(\"regression_type='User' but future_regressor not supplied\") in model 716: ARDL\n",
            "Model Number: 717 with model ARDL in generation 8 of 10\n",
            "Template Eval Error: ValueError(\"regression_type='User' but future_regressor not supplied\") in model 717: ARDL\n",
            "Model Number: 718 with model Theta in generation 8 of 10\n",
            "Template Eval Error: ModuleNotFoundError(\"No module named 'statsmodels.tsa.forecasting'\") in model 718: Theta\n",
            "Model Number: 719 with model Theta in generation 8 of 10\n",
            "Template Eval Error: ModuleNotFoundError(\"No module named 'statsmodels.tsa.forecasting'\") in model 719: Theta\n",
            "Model Number: 720 with model Theta in generation 8 of 10\n",
            "Template Eval Error: ModuleNotFoundError(\"No module named 'statsmodels.tsa.forecasting'\") in model 720: Theta\n",
            "Model Number: 721 with model Theta in generation 8 of 10\n",
            "Template Eval Error: ModuleNotFoundError(\"No module named 'statsmodels.tsa.forecasting'\") in model 721: Theta\n",
            "New Generation: 9 of 10\n",
            "Model Number: 722 with model NVAR in generation 9 of 10\n",
            "Model Number: 723 with model NVAR in generation 9 of 10\n",
            "Model Number: 724 with model NVAR in generation 9 of 10\n",
            "Model Number: 725 with model NVAR in generation 9 of 10\n",
            "Model Number: 726 with model SectionalMotif in generation 9 of 10\n",
            "Model Number: 727 with model SectionalMotif in generation 9 of 10\n",
            "Model Number: 728 with model SectionalMotif in generation 9 of 10\n",
            "Model Number: 729 with model SectionalMotif in generation 9 of 10\n",
            "Model Number: 730 with model WindowRegression in generation 9 of 10\n",
            "Model Number: 731 with model WindowRegression in generation 9 of 10\n"
          ]
        },
        {
          "output_type": "stream",
          "name": "stderr",
          "text": [
            "[Parallel(n_jobs=-2)]: Using backend SequentialBackend with 1 concurrent workers.\n"
          ]
        },
        {
          "output_type": "stream",
          "name": "stdout",
          "text": [
            "Model Number: 732 with model WindowRegression in generation 9 of 10\n"
          ]
        },
        {
          "output_type": "stream",
          "name": "stderr",
          "text": [
            "[Parallel(n_jobs=-2)]: Done 300 out of 300 | elapsed:    0.8s finished\n",
            "[Parallel(n_jobs=1)]: Using backend SequentialBackend with 1 concurrent workers.\n",
            "[Parallel(n_jobs=1)]: Done 300 out of 300 | elapsed:    0.0s finished\n",
            "/usr/local/lib/python3.7/dist-packages/sklearn/svm/_base.py:1208: ConvergenceWarning: Liblinear failed to converge, increase the number of iterations.\n",
            "  ConvergenceWarning,\n",
            "/usr/local/lib/python3.7/dist-packages/sklearn/svm/_base.py:1208: ConvergenceWarning: Liblinear failed to converge, increase the number of iterations.\n",
            "  ConvergenceWarning,\n",
            "/usr/local/lib/python3.7/dist-packages/sklearn/svm/_base.py:1208: ConvergenceWarning: Liblinear failed to converge, increase the number of iterations.\n",
            "  ConvergenceWarning,\n",
            "/usr/local/lib/python3.7/dist-packages/sklearn/svm/_base.py:1208: ConvergenceWarning: Liblinear failed to converge, increase the number of iterations.\n",
            "  ConvergenceWarning,\n",
            "/usr/local/lib/python3.7/dist-packages/sklearn/svm/_base.py:1208: ConvergenceWarning: Liblinear failed to converge, increase the number of iterations.\n",
            "  ConvergenceWarning,\n",
            "/usr/local/lib/python3.7/dist-packages/sklearn/svm/_base.py:1208: ConvergenceWarning: Liblinear failed to converge, increase the number of iterations.\n",
            "  ConvergenceWarning,\n",
            "/usr/local/lib/python3.7/dist-packages/sklearn/svm/_base.py:1208: ConvergenceWarning: Liblinear failed to converge, increase the number of iterations.\n",
            "  ConvergenceWarning,\n",
            "/usr/local/lib/python3.7/dist-packages/sklearn/svm/_base.py:1208: ConvergenceWarning: Liblinear failed to converge, increase the number of iterations.\n",
            "  ConvergenceWarning,\n",
            "/usr/local/lib/python3.7/dist-packages/sklearn/svm/_base.py:1208: ConvergenceWarning: Liblinear failed to converge, increase the number of iterations.\n",
            "  ConvergenceWarning,\n",
            "/usr/local/lib/python3.7/dist-packages/sklearn/svm/_base.py:1208: ConvergenceWarning: Liblinear failed to converge, increase the number of iterations.\n",
            "  ConvergenceWarning,\n"
          ]
        },
        {
          "output_type": "stream",
          "name": "stdout",
          "text": [
            "Model Number: 733 with model ETS in generation 9 of 10\n",
            "ETS error TypeError(\"__init__() got an unexpected keyword argument 'damped_trend'\")\n",
            "Model Number: 734 with model ETS in generation 9 of 10\n",
            "ETS error TypeError(\"__init__() got an unexpected keyword argument 'damped_trend'\")\n",
            "Model Number: 735 with model ETS in generation 9 of 10\n",
            "ETS error TypeError(\"__init__() got an unexpected keyword argument 'damped_trend'\")\n",
            "Model Number: 736 with model ETS in generation 9 of 10\n",
            "ETS error TypeError(\"__init__() got an unexpected keyword argument 'damped_trend'\")\n",
            "Model Number: 737 with model LastValueNaive in generation 9 of 10\n",
            "Model Number: 738 with model LastValueNaive in generation 9 of 10\n",
            "Model Number: 739 with model DatepartRegression in generation 9 of 10\n",
            "Template Eval Error: ValueError('Model DatepartRegression returned NaN for one or more series. fail_on_forecast_nan=True') in model 739: DatepartRegression\n",
            "Model Number: 740 with model DatepartRegression in generation 9 of 10\n",
            "Template Eval Error: ValueError('Model DatepartRegression returned NaN for one or more series. fail_on_forecast_nan=True') in model 740: DatepartRegression\n",
            "Model Number: 741 with model DatepartRegression in generation 9 of 10\n"
          ]
        },
        {
          "output_type": "stream",
          "name": "stderr",
          "text": [
            "/usr/local/lib/python3.7/dist-packages/sklearn/neighbors/_regression.py:470: UserWarning: One or more samples have no neighbors within specified radius; predicting NaN.\n",
            "  warnings.warn(empty_warning_msg)\n",
            "/usr/local/lib/python3.7/dist-packages/sklearn/neighbors/_regression.py:470: UserWarning: One or more samples have no neighbors within specified radius; predicting NaN.\n",
            "  warnings.warn(empty_warning_msg)\n"
          ]
        },
        {
          "output_type": "stream",
          "name": "stdout",
          "text": [
            "Template Eval Error: ValueError('Failed to convert a NumPy array to a Tensor (Unsupported object type int).') in model 741: DatepartRegression\n",
            "Model Number: 742 with model UnivariateMotif in generation 9 of 10\n",
            "Model Number: 743 with model UnivariateMotif in generation 9 of 10\n",
            "Model Number: 744 with model UnivariateMotif in generation 9 of 10\n",
            "Model Number: 745 with model UnivariateMotif in generation 9 of 10\n",
            "Model Number: 746 with model AverageValueNaive in generation 9 of 10\n",
            "Model Number: 747 with model AverageValueNaive in generation 9 of 10\n",
            "Model Number: 748 with model MultivariateRegression in generation 9 of 10\n",
            "Template Eval Error: ValueError(\"regression_type='User' but not future_regressor supplied.\") in model 748: MultivariateRegression\n",
            "Model Number: 749 with model MultivariateRegression in generation 9 of 10\n",
            "Template Eval Error: ValueError(\"regression_type='User' but not future_regressor supplied.\") in model 749: MultivariateRegression\n",
            "Model Number: 750 with model MultivariateRegression in generation 9 of 10\n"
          ]
        },
        {
          "output_type": "stream",
          "name": "stderr",
          "text": [
            "[Parallel(n_jobs=-2)]: Using backend SequentialBackend with 1 concurrent workers.\n",
            "[Parallel(n_jobs=-2)]: Done 200 out of 200 | elapsed:    0.3s finished\n",
            "[Parallel(n_jobs=1)]: Using backend SequentialBackend with 1 concurrent workers.\n",
            "[Parallel(n_jobs=1)]: Done 200 out of 200 | elapsed:    0.0s finished\n",
            "[Parallel(n_jobs=1)]: Using backend SequentialBackend with 1 concurrent workers.\n",
            "[Parallel(n_jobs=1)]: Done 200 out of 200 | elapsed:    0.0s finished\n",
            "[Parallel(n_jobs=1)]: Using backend SequentialBackend with 1 concurrent workers.\n",
            "[Parallel(n_jobs=1)]: Done 200 out of 200 | elapsed:    0.0s finished\n",
            "[Parallel(n_jobs=1)]: Using backend SequentialBackend with 1 concurrent workers.\n",
            "[Parallel(n_jobs=1)]: Done 200 out of 200 | elapsed:    0.0s finished\n",
            "[Parallel(n_jobs=1)]: Using backend SequentialBackend with 1 concurrent workers.\n",
            "[Parallel(n_jobs=1)]: Done 200 out of 200 | elapsed:    0.0s finished\n",
            "[Parallel(n_jobs=1)]: Using backend SequentialBackend with 1 concurrent workers.\n",
            "[Parallel(n_jobs=1)]: Done 200 out of 200 | elapsed:    0.0s finished\n",
            "[Parallel(n_jobs=1)]: Using backend SequentialBackend with 1 concurrent workers.\n",
            "[Parallel(n_jobs=1)]: Done 200 out of 200 | elapsed:    0.0s finished\n",
            "[Parallel(n_jobs=1)]: Using backend SequentialBackend with 1 concurrent workers.\n",
            "[Parallel(n_jobs=1)]: Done 200 out of 200 | elapsed:    0.0s finished\n",
            "[Parallel(n_jobs=1)]: Using backend SequentialBackend with 1 concurrent workers.\n",
            "[Parallel(n_jobs=1)]: Done 200 out of 200 | elapsed:    0.0s finished\n",
            "[Parallel(n_jobs=1)]: Using backend SequentialBackend with 1 concurrent workers.\n",
            "[Parallel(n_jobs=1)]: Done 200 out of 200 | elapsed:    0.0s finished\n"
          ]
        },
        {
          "output_type": "stream",
          "name": "stdout",
          "text": [
            "Model Number: 751 with model MultivariateRegression in generation 9 of 10\n"
          ]
        },
        {
          "output_type": "stream",
          "name": "stderr",
          "text": [
            "[Parallel(n_jobs=-2)]: Using backend SequentialBackend with 1 concurrent workers.\n",
            "[Parallel(n_jobs=-2)]: Done 200 out of 200 | elapsed:    0.3s finished\n",
            "[Parallel(n_jobs=1)]: Using backend SequentialBackend with 1 concurrent workers.\n",
            "[Parallel(n_jobs=1)]: Done 200 out of 200 | elapsed:    0.0s finished\n",
            "[Parallel(n_jobs=1)]: Using backend SequentialBackend with 1 concurrent workers.\n",
            "[Parallel(n_jobs=1)]: Done 200 out of 200 | elapsed:    0.0s finished\n",
            "[Parallel(n_jobs=1)]: Using backend SequentialBackend with 1 concurrent workers.\n",
            "[Parallel(n_jobs=1)]: Done 200 out of 200 | elapsed:    0.0s finished\n",
            "[Parallel(n_jobs=1)]: Using backend SequentialBackend with 1 concurrent workers.\n",
            "[Parallel(n_jobs=1)]: Done 200 out of 200 | elapsed:    0.0s finished\n",
            "[Parallel(n_jobs=1)]: Using backend SequentialBackend with 1 concurrent workers.\n",
            "[Parallel(n_jobs=1)]: Done 200 out of 200 | elapsed:    0.0s finished\n",
            "[Parallel(n_jobs=1)]: Using backend SequentialBackend with 1 concurrent workers.\n",
            "[Parallel(n_jobs=1)]: Done 200 out of 200 | elapsed:    0.0s finished\n",
            "[Parallel(n_jobs=1)]: Using backend SequentialBackend with 1 concurrent workers.\n",
            "[Parallel(n_jobs=1)]: Done 200 out of 200 | elapsed:    0.0s finished\n",
            "[Parallel(n_jobs=1)]: Using backend SequentialBackend with 1 concurrent workers.\n",
            "[Parallel(n_jobs=1)]: Done 200 out of 200 | elapsed:    0.0s finished\n",
            "[Parallel(n_jobs=1)]: Using backend SequentialBackend with 1 concurrent workers.\n",
            "[Parallel(n_jobs=1)]: Done 200 out of 200 | elapsed:    0.0s finished\n",
            "[Parallel(n_jobs=1)]: Using backend SequentialBackend with 1 concurrent workers.\n",
            "[Parallel(n_jobs=1)]: Done 200 out of 200 | elapsed:    0.0s finished\n"
          ]
        },
        {
          "output_type": "stream",
          "name": "stdout",
          "text": [
            "Model Number: 752 with model UnobservedComponents in generation 9 of 10\n",
            "Model Number: 753 with model UnobservedComponents in generation 9 of 10\n",
            "Template Eval Error: ValueError('Provided exogenous values are not of the appropriate shape. Required (10, 1), got (10,).') in model 753: UnobservedComponents\n",
            "Model Number: 754 with model UnobservedComponents in generation 9 of 10\n",
            "Template Eval Error: ValueError('Provided exogenous values are not of the appropriate shape. Required (10, 1), got (10,).') in model 754: UnobservedComponents\n",
            "Model Number: 755 with model SeasonalNaive in generation 9 of 10\n",
            "Model Number: 756 with model SeasonalNaive in generation 9 of 10\n",
            "Model Number: 757 with model SeasonalNaive in generation 9 of 10\n",
            "Model Number: 758 with model SeasonalNaive in generation 9 of 10\n",
            "Model Number: 759 with model MultivariateMotif in generation 9 of 10\n",
            "Model Number: 760 with model MultivariateMotif in generation 9 of 10\n",
            "Model Number: 761 with model MultivariateMotif in generation 9 of 10\n",
            "Model Number: 762 with model MultivariateMotif in generation 9 of 10\n",
            "Model Number: 763 with model GLS in generation 9 of 10\n",
            "Model Number: 764 with model GLS in generation 9 of 10\n",
            "Model Number: 765 with model ConstantNaive in generation 9 of 10\n",
            "Model Number: 766 with model ConstantNaive in generation 9 of 10\n",
            "Template Eval Error: Exception('Transformer STLFilter failed on fit') in model 766: ConstantNaive\n",
            "Model Number: 767 with model ConstantNaive in generation 9 of 10\n",
            "Model Number: 768 with model FBProphet in generation 9 of 10\n"
          ]
        },
        {
          "output_type": "stream",
          "name": "stderr",
          "text": [
            "INFO:fbprophet:Disabling yearly seasonality. Run prophet with yearly_seasonality=True to override this.\n",
            "INFO:fbprophet:Disabling daily seasonality. Run prophet with daily_seasonality=True to override this.\n",
            "INFO:fbprophet:Disabling yearly seasonality. Run prophet with yearly_seasonality=True to override this.\n",
            "INFO:fbprophet:Disabling daily seasonality. Run prophet with daily_seasonality=True to override this.\n"
          ]
        },
        {
          "output_type": "stream",
          "name": "stdout",
          "text": [
            "Model Number: 769 with model FBProphet in generation 9 of 10\n"
          ]
        },
        {
          "output_type": "stream",
          "name": "stderr",
          "text": [
            "INFO:fbprophet:Disabling yearly seasonality. Run prophet with yearly_seasonality=True to override this.\n",
            "INFO:fbprophet:Disabling daily seasonality. Run prophet with daily_seasonality=True to override this.\n"
          ]
        },
        {
          "output_type": "stream",
          "name": "stdout",
          "text": [
            "Model Number: 770 with model FBProphet in generation 9 of 10\n"
          ]
        },
        {
          "output_type": "stream",
          "name": "stderr",
          "text": [
            "INFO:fbprophet:Disabling yearly seasonality. Run prophet with yearly_seasonality=True to override this.\n",
            "INFO:fbprophet:Disabling daily seasonality. Run prophet with daily_seasonality=True to override this.\n"
          ]
        },
        {
          "output_type": "stream",
          "name": "stdout",
          "text": [
            "Model Number: 771 with model FBProphet in generation 9 of 10\n",
            "Model Number: 772 with model GLM in generation 9 of 10\n",
            "Model Number: 773 with model GLM in generation 9 of 10\n",
            "Model Number: 774 with model GLM in generation 9 of 10\n",
            "Model Number: 775 with model GLM in generation 9 of 10\n",
            "Template Eval Error: ValueError('NaN, inf or invalid value detected in weights, estimation infeasible.') in model 775: GLM\n",
            "Model Number: 776 with model VAR in generation 9 of 10\n",
            "Template Eval Error: ValueError('Only gave one variable to VAR') in model 776: VAR\n",
            "Model Number: 777 with model VAR in generation 9 of 10\n",
            "Template Eval Error: ValueError('Only gave one variable to VAR') in model 777: VAR\n",
            "Model Number: 778 with model VAR in generation 9 of 10\n",
            "Template Eval Error: ValueError('Only gave one variable to VAR') in model 778: VAR\n",
            "Model Number: 779 with model VAR in generation 9 of 10\n",
            "Template Eval Error: ValueError('Only gave one variable to VAR') in model 779: VAR\n",
            "Model Number: 780 with model VECM in generation 9 of 10\n",
            "Template Eval Error: ValueError('Only gave one variable to VECM') in model 780: VECM\n",
            "Model Number: 781 with model VECM in generation 9 of 10\n",
            "Template Eval Error: ValueError('Only gave one variable to VECM') in model 781: VECM\n",
            "Model Number: 782 with model VECM in generation 9 of 10\n",
            "Template Eval Error: ValueError('Only gave one variable to VECM') in model 782: VECM\n",
            "Model Number: 783 with model VECM in generation 9 of 10\n"
          ]
        },
        {
          "output_type": "stream",
          "name": "stderr",
          "text": [
            "/usr/local/lib/python3.7/dist-packages/statsmodels/genmod/families/links.py:521: RuntimeWarning: overflow encountered in exp\n",
            "  return np.exp(z)\n",
            "/usr/local/lib/python3.7/dist-packages/statsmodels/genmod/families/family.py:134: RuntimeWarning: invalid value encountered in multiply\n",
            "  return 1. / (self.link.deriv(mu)**2 * self.variance(mu))\n",
            "/usr/local/lib/python3.7/dist-packages/statsmodels/genmod/generalized_linear_model.py:1163: RuntimeWarning: invalid value encountered in multiply\n",
            "  - self._offset_exposure)\n"
          ]
        },
        {
          "output_type": "stream",
          "name": "stdout",
          "text": [
            "Template Eval Error: ValueError('Only gave one variable to VECM') in model 783: VECM\n",
            "Model Number: 784 with model ARDL in generation 9 of 10\n",
            "Template Eval Error: ValueError(\"regression_type='User' but future_regressor not supplied\") in model 784: ARDL\n",
            "Model Number: 785 with model ARDL in generation 9 of 10\n",
            "Template Eval Error: ValueError(\"regression_type='User' but future_regressor not supplied\") in model 785: ARDL\n",
            "Model Number: 786 with model ARDL in generation 9 of 10\n",
            "Template Eval Error: ValueError(\"regression_type='User' but future_regressor not supplied\") in model 786: ARDL\n",
            "Model Number: 787 with model ARDL in generation 9 of 10\n",
            "Template Eval Error: ImportError(\"cannot import name 'ARDL' from 'statsmodels.tsa.api' (/usr/local/lib/python3.7/dist-packages/statsmodels/tsa/api.py)\") in model 787: ARDL\n",
            "Model Number: 788 with model Theta in generation 9 of 10\n",
            "Template Eval Error: ModuleNotFoundError(\"No module named 'statsmodels.tsa.forecasting'\") in model 788: Theta\n",
            "Model Number: 789 with model Theta in generation 9 of 10\n",
            "Template Eval Error: ModuleNotFoundError(\"No module named 'statsmodels.tsa.forecasting'\") in model 789: Theta\n",
            "Model Number: 790 with model Theta in generation 9 of 10\n",
            "Template Eval Error: ModuleNotFoundError(\"No module named 'statsmodels.tsa.forecasting'\") in model 790: Theta\n",
            "Model Number: 791 with model Theta in generation 9 of 10\n",
            "Template Eval Error: ModuleNotFoundError(\"No module named 'statsmodels.tsa.forecasting'\") in model 791: Theta\n",
            "New Generation: 10 of 10\n",
            "Model Number: 792 with model NVAR in generation 10 of 10\n",
            "Model Number: 793 with model NVAR in generation 10 of 10\n",
            "Model Number: 794 with model NVAR in generation 10 of 10\n",
            "Model Number: 795 with model NVAR in generation 10 of 10\n",
            "Model Number: 796 with model SectionalMotif in generation 10 of 10\n",
            "Model Number: 797 with model SectionalMotif in generation 10 of 10\n",
            "Model Number: 798 with model SectionalMotif in generation 10 of 10\n",
            "Model Number: 799 with model SectionalMotif in generation 10 of 10\n",
            "Model Number: 800 with model WindowRegression in generation 10 of 10\n",
            "Model Number: 801 with model WindowRegression in generation 10 of 10\n",
            "Model Number: 802 with model WindowRegression in generation 10 of 10\n",
            "Model Number: 803 with model ETS in generation 10 of 10\n",
            "ETS error TypeError(\"__init__() got an unexpected keyword argument 'damped_trend'\")\n",
            "ETS failed on Close with ValueError('endog must be strictly positive when using multiplicative trend or seasonal components.')\n",
            "Model Number: 804 with model ETS in generation 10 of 10\n",
            "ETS error TypeError(\"__init__() got an unexpected keyword argument 'damped_trend'\")\n",
            "Model Number: 805 with model ETS in generation 10 of 10\n",
            "ETS error TypeError(\"__init__() got an unexpected keyword argument 'damped_trend'\")\n",
            "Model Number: 806 with model ETS in generation 10 of 10\n",
            "ETS error TypeError(\"__init__() got an unexpected keyword argument 'damped_trend'\")\n",
            "Model Number: 807 with model LastValueNaive in generation 10 of 10\n",
            "Model Number: 808 with model LastValueNaive in generation 10 of 10\n",
            "Model Number: 809 with model LastValueNaive in generation 10 of 10\n",
            "Model Number: 810 with model DatepartRegression in generation 10 of 10\n",
            "Model Number: 811 with model DatepartRegression in generation 10 of 10\n",
            "Model Number: 812 with model DatepartRegression in generation 10 of 10\n",
            "Model Number: 813 with model UnivariateMotif in generation 10 of 10\n",
            "Template Eval Error: ValueError('kth(=100) out of bounds (63)') in model 813: UnivariateMotif\n",
            "Model Number: 814 with model UnivariateMotif in generation 10 of 10\n",
            "Model Number: 815 with model UnivariateMotif in generation 10 of 10\n",
            "Model Number: 816 with model UnivariateMotif in generation 10 of 10\n",
            "Model Number: 817 with model AverageValueNaive in generation 10 of 10\n",
            "Model Number: 818 with model AverageValueNaive in generation 10 of 10\n",
            "Model Number: 819 with model AverageValueNaive in generation 10 of 10\n",
            "Model Number: 820 with model MultivariateRegression in generation 10 of 10\n"
          ]
        },
        {
          "output_type": "stream",
          "name": "stderr",
          "text": [
            "[Parallel(n_jobs=-2)]: Using backend SequentialBackend with 1 concurrent workers.\n",
            "[Parallel(n_jobs=-2)]: Done 200 out of 200 | elapsed:    0.3s finished\n",
            "[Parallel(n_jobs=1)]: Using backend SequentialBackend with 1 concurrent workers.\n",
            "[Parallel(n_jobs=1)]: Done 200 out of 200 | elapsed:    0.0s finished\n",
            "[Parallel(n_jobs=1)]: Using backend SequentialBackend with 1 concurrent workers.\n",
            "[Parallel(n_jobs=1)]: Done 200 out of 200 | elapsed:    0.0s finished\n",
            "[Parallel(n_jobs=1)]: Using backend SequentialBackend with 1 concurrent workers.\n",
            "[Parallel(n_jobs=1)]: Done 200 out of 200 | elapsed:    0.0s finished\n",
            "[Parallel(n_jobs=1)]: Using backend SequentialBackend with 1 concurrent workers.\n",
            "[Parallel(n_jobs=1)]: Done 200 out of 200 | elapsed:    0.0s finished\n",
            "[Parallel(n_jobs=1)]: Using backend SequentialBackend with 1 concurrent workers.\n",
            "[Parallel(n_jobs=1)]: Done 200 out of 200 | elapsed:    0.0s finished\n",
            "[Parallel(n_jobs=1)]: Using backend SequentialBackend with 1 concurrent workers.\n",
            "[Parallel(n_jobs=1)]: Done 200 out of 200 | elapsed:    0.0s finished\n",
            "[Parallel(n_jobs=1)]: Using backend SequentialBackend with 1 concurrent workers.\n",
            "[Parallel(n_jobs=1)]: Done 200 out of 200 | elapsed:    0.0s finished\n",
            "[Parallel(n_jobs=1)]: Using backend SequentialBackend with 1 concurrent workers.\n",
            "[Parallel(n_jobs=1)]: Done 200 out of 200 | elapsed:    0.0s finished\n",
            "[Parallel(n_jobs=1)]: Using backend SequentialBackend with 1 concurrent workers.\n",
            "[Parallel(n_jobs=1)]: Done 200 out of 200 | elapsed:    0.0s finished\n",
            "[Parallel(n_jobs=1)]: Using backend SequentialBackend with 1 concurrent workers.\n",
            "[Parallel(n_jobs=1)]: Done 200 out of 200 | elapsed:    0.0s finished\n"
          ]
        },
        {
          "output_type": "stream",
          "name": "stdout",
          "text": [
            "Model Number: 821 with model MultivariateRegression in generation 10 of 10\n"
          ]
        },
        {
          "output_type": "stream",
          "name": "stderr",
          "text": [
            "[Parallel(n_jobs=-2)]: Using backend SequentialBackend with 1 concurrent workers.\n",
            "[Parallel(n_jobs=-2)]: Done 200 out of 200 | elapsed:    0.2s finished\n",
            "[Parallel(n_jobs=1)]: Using backend SequentialBackend with 1 concurrent workers.\n",
            "[Parallel(n_jobs=1)]: Done 200 out of 200 | elapsed:    0.0s finished\n",
            "[Parallel(n_jobs=1)]: Using backend SequentialBackend with 1 concurrent workers.\n",
            "[Parallel(n_jobs=1)]: Done 200 out of 200 | elapsed:    0.0s finished\n",
            "[Parallel(n_jobs=1)]: Using backend SequentialBackend with 1 concurrent workers.\n",
            "[Parallel(n_jobs=1)]: Done 200 out of 200 | elapsed:    0.0s finished\n",
            "[Parallel(n_jobs=1)]: Using backend SequentialBackend with 1 concurrent workers.\n",
            "[Parallel(n_jobs=1)]: Done 200 out of 200 | elapsed:    0.0s finished\n",
            "[Parallel(n_jobs=1)]: Using backend SequentialBackend with 1 concurrent workers.\n",
            "[Parallel(n_jobs=1)]: Done 200 out of 200 | elapsed:    0.0s finished\n",
            "[Parallel(n_jobs=1)]: Using backend SequentialBackend with 1 concurrent workers.\n",
            "[Parallel(n_jobs=1)]: Done 200 out of 200 | elapsed:    0.0s finished\n",
            "[Parallel(n_jobs=1)]: Using backend SequentialBackend with 1 concurrent workers.\n",
            "[Parallel(n_jobs=1)]: Done 200 out of 200 | elapsed:    0.0s finished\n",
            "[Parallel(n_jobs=1)]: Using backend SequentialBackend with 1 concurrent workers.\n",
            "[Parallel(n_jobs=1)]: Done 200 out of 200 | elapsed:    0.0s finished\n",
            "[Parallel(n_jobs=1)]: Using backend SequentialBackend with 1 concurrent workers.\n",
            "[Parallel(n_jobs=1)]: Done 200 out of 200 | elapsed:    0.0s finished\n",
            "[Parallel(n_jobs=1)]: Using backend SequentialBackend with 1 concurrent workers.\n",
            "[Parallel(n_jobs=1)]: Done 200 out of 200 | elapsed:    0.0s finished\n"
          ]
        },
        {
          "output_type": "stream",
          "name": "stdout",
          "text": [
            "Model Number: 822 with model MultivariateRegression in generation 10 of 10\n",
            "Model Number: 823 with model MultivariateRegression in generation 10 of 10\n"
          ]
        },
        {
          "output_type": "stream",
          "name": "stderr",
          "text": [
            "[Parallel(n_jobs=-2)]: Using backend SequentialBackend with 1 concurrent workers.\n",
            "[Parallel(n_jobs=-2)]: Done 200 out of 200 | elapsed:    0.4s finished\n",
            "[Parallel(n_jobs=1)]: Using backend SequentialBackend with 1 concurrent workers.\n",
            "[Parallel(n_jobs=1)]: Done 200 out of 200 | elapsed:    0.0s finished\n",
            "[Parallel(n_jobs=1)]: Using backend SequentialBackend with 1 concurrent workers.\n",
            "[Parallel(n_jobs=1)]: Done 200 out of 200 | elapsed:    0.0s finished\n",
            "[Parallel(n_jobs=1)]: Using backend SequentialBackend with 1 concurrent workers.\n",
            "[Parallel(n_jobs=1)]: Done 200 out of 200 | elapsed:    0.0s finished\n",
            "[Parallel(n_jobs=1)]: Using backend SequentialBackend with 1 concurrent workers.\n",
            "[Parallel(n_jobs=1)]: Done 200 out of 200 | elapsed:    0.0s finished\n",
            "[Parallel(n_jobs=1)]: Using backend SequentialBackend with 1 concurrent workers.\n",
            "[Parallel(n_jobs=1)]: Done 200 out of 200 | elapsed:    0.0s finished\n",
            "[Parallel(n_jobs=1)]: Using backend SequentialBackend with 1 concurrent workers.\n",
            "[Parallel(n_jobs=1)]: Done 200 out of 200 | elapsed:    0.0s finished\n",
            "[Parallel(n_jobs=1)]: Using backend SequentialBackend with 1 concurrent workers.\n",
            "[Parallel(n_jobs=1)]: Done 200 out of 200 | elapsed:    0.0s finished\n",
            "[Parallel(n_jobs=1)]: Using backend SequentialBackend with 1 concurrent workers.\n",
            "[Parallel(n_jobs=1)]: Done 200 out of 200 | elapsed:    0.0s finished\n",
            "[Parallel(n_jobs=1)]: Using backend SequentialBackend with 1 concurrent workers.\n",
            "[Parallel(n_jobs=1)]: Done 200 out of 200 | elapsed:    0.0s finished\n",
            "[Parallel(n_jobs=1)]: Using backend SequentialBackend with 1 concurrent workers.\n",
            "[Parallel(n_jobs=1)]: Done 200 out of 200 | elapsed:    0.0s finished\n"
          ]
        },
        {
          "output_type": "stream",
          "name": "stdout",
          "text": [
            "Model Number: 824 with model UnobservedComponents in generation 10 of 10\n",
            "Model Number: 825 with model UnobservedComponents in generation 10 of 10\n",
            "Template Eval Error: ValueError('Provided exogenous values are not of the appropriate shape. Required (10, 1), got (10,).') in model 825: UnobservedComponents\n",
            "Model Number: 826 with model UnobservedComponents in generation 10 of 10\n",
            "Model Number: 827 with model SeasonalNaive in generation 10 of 10\n",
            "Model Number: 828 with model SeasonalNaive in generation 10 of 10\n",
            "Model Number: 829 with model SeasonalNaive in generation 10 of 10\n",
            "Model Number: 830 with model SeasonalNaive in generation 10 of 10\n",
            "Model Number: 831 with model MultivariateMotif in generation 10 of 10\n",
            "Model Number: 832 with model MultivariateMotif in generation 10 of 10\n",
            "Model Number: 833 with model MultivariateMotif in generation 10 of 10\n",
            "Model Number: 834 with model MultivariateMotif in generation 10 of 10\n",
            "Model Number: 835 with model GLS in generation 10 of 10\n",
            "Model Number: 836 with model GLS in generation 10 of 10\n",
            "Model Number: 837 with model ConstantNaive in generation 10 of 10\n",
            "Model Number: 838 with model ConstantNaive in generation 10 of 10\n",
            "Model Number: 839 with model ConstantNaive in generation 10 of 10\n",
            "Model Number: 840 with model Ensemble in generation 11 of Ensembles\n",
            "Model Number: 841 with model Ensemble in generation 11 of Ensembles\n",
            "Model Number: 842 with model Ensemble in generation 11 of Ensembles\n",
            "Model Number: 843 with model Ensemble in generation 11 of Ensembles\n",
            "Model Number: 844 with model Ensemble in generation 11 of Ensembles\n",
            "Model Number: 845 with model Ensemble in generation 11 of Ensembles\n",
            "ETS error TypeError(\"__init__() got an unexpected keyword argument 'damped_trend'\")\n",
            "Model Number: 846 with model Ensemble in generation 11 of Ensembles\n",
            "Model Number: 847 with model Ensemble in generation 11 of Ensembles\n",
            "Validation Round: 1\n",
            "Model Number: 1 of 127 with model Ensemble for Validation 1\n",
            "📈 1 - Ensemble with avg smape 10.21: \n",
            "Model Number: 2 of 127 with model NVAR for Validation 1\n",
            "📈 2 - NVAR with avg smape 8.75: \n",
            "Model Number: 3 of 127 with model Ensemble for Validation 1\n",
            "📈 3 - Ensemble with avg smape 8.74: \n",
            "Model Number: 4 of 127 with model Ensemble for Validation 1\n",
            "4 - Ensemble with avg smape 9.5: \n",
            "Model Number: 5 of 127 with model Ensemble for Validation 1\n",
            "ETS error TypeError(\"__init__() got an unexpected keyword argument 'damped_trend'\")\n",
            "5 - Ensemble with avg smape 10.22: \n",
            "Model Number: 6 of 127 with model Ensemble for Validation 1\n",
            "6 - Ensemble with avg smape 10.07: \n",
            "Model Number: 7 of 127 with model Ensemble for Validation 1\n",
            "7 - Ensemble with avg smape 10.66: \n",
            "Model Number: 8 of 127 with model Ensemble for Validation 1\n",
            "8 - Ensemble with avg smape 10.73: \n",
            "Model Number: 9 of 127 with model SectionalMotif for Validation 1\n",
            "9 - SectionalMotif with avg smape 11.85: \n",
            "Model Number: 10 of 127 with model NVAR for Validation 1\n",
            "📈 10 - NVAR with avg smape 7.84: \n",
            "Model Number: 11 of 127 with model WindowRegression for Validation 1\n",
            "11 - WindowRegression with avg smape 10.0: \n",
            "Model Number: 12 of 127 with model NVAR for Validation 1\n",
            "📈 12 - NVAR with avg smape 7.47: \n",
            "Model Number: 13 of 127 with model Ensemble for Validation 1\n",
            "13 - Ensemble with avg smape 10.56: \n",
            "Model Number: 14 of 127 with model NVAR for Validation 1\n",
            "📈 14 - NVAR with avg smape 7.45: \n",
            "Model Number: 15 of 127 with model NVAR for Validation 1\n",
            "15 - NVAR with avg smape 7.84: \n",
            "Model Number: 16 of 127 with model ETS for Validation 1\n",
            "ETS error TypeError(\"__init__() got an unexpected keyword argument 'damped_trend'\")\n",
            "16 - ETS with avg smape 9.5: \n",
            "Model Number: 17 of 127 with model WindowRegression for Validation 1\n",
            "17 - WindowRegression with avg smape 10.32: \n",
            "Model Number: 18 of 127 with model WindowRegression for Validation 1\n",
            "18 - WindowRegression with avg smape 9.6: \n",
            "Model Number: 19 of 127 with model NVAR for Validation 1\n",
            "19 - NVAR with avg smape 12.37: \n"
          ]
        },
        {
          "output_type": "stream",
          "name": "stderr",
          "text": [
            "/usr/local/lib/python3.7/dist-packages/sklearn/svm/_base.py:1208: ConvergenceWarning: Liblinear failed to converge, increase the number of iterations.\n",
            "  ConvergenceWarning,\n",
            "/usr/local/lib/python3.7/dist-packages/sklearn/svm/_base.py:1208: ConvergenceWarning: Liblinear failed to converge, increase the number of iterations.\n",
            "  ConvergenceWarning,\n",
            "/usr/local/lib/python3.7/dist-packages/sklearn/svm/_base.py:1208: ConvergenceWarning: Liblinear failed to converge, increase the number of iterations.\n",
            "  ConvergenceWarning,\n",
            "/usr/local/lib/python3.7/dist-packages/sklearn/svm/_base.py:1208: ConvergenceWarning: Liblinear failed to converge, increase the number of iterations.\n",
            "  ConvergenceWarning,\n",
            "/usr/local/lib/python3.7/dist-packages/sklearn/svm/_base.py:1208: ConvergenceWarning: Liblinear failed to converge, increase the number of iterations.\n",
            "  ConvergenceWarning,\n",
            "/usr/local/lib/python3.7/dist-packages/sklearn/svm/_base.py:1208: ConvergenceWarning: Liblinear failed to converge, increase the number of iterations.\n",
            "  ConvergenceWarning,\n",
            "/usr/local/lib/python3.7/dist-packages/sklearn/svm/_base.py:1208: ConvergenceWarning: Liblinear failed to converge, increase the number of iterations.\n",
            "  ConvergenceWarning,\n",
            "/usr/local/lib/python3.7/dist-packages/sklearn/svm/_base.py:1208: ConvergenceWarning: Liblinear failed to converge, increase the number of iterations.\n",
            "  ConvergenceWarning,\n",
            "/usr/local/lib/python3.7/dist-packages/sklearn/svm/_base.py:1208: ConvergenceWarning: Liblinear failed to converge, increase the number of iterations.\n",
            "  ConvergenceWarning,\n",
            "/usr/local/lib/python3.7/dist-packages/sklearn/svm/_base.py:1208: ConvergenceWarning: Liblinear failed to converge, increase the number of iterations.\n",
            "  ConvergenceWarning,\n",
            "/usr/local/lib/python3.7/dist-packages/sklearn/svm/_base.py:1208: ConvergenceWarning: Liblinear failed to converge, increase the number of iterations.\n",
            "  ConvergenceWarning,\n",
            "/usr/local/lib/python3.7/dist-packages/sklearn/svm/_base.py:1208: ConvergenceWarning: Liblinear failed to converge, increase the number of iterations.\n",
            "  ConvergenceWarning,\n",
            "/usr/local/lib/python3.7/dist-packages/sklearn/svm/_base.py:1208: ConvergenceWarning: Liblinear failed to converge, increase the number of iterations.\n",
            "  ConvergenceWarning,\n",
            "/usr/local/lib/python3.7/dist-packages/sklearn/svm/_base.py:1208: ConvergenceWarning: Liblinear failed to converge, increase the number of iterations.\n",
            "  ConvergenceWarning,\n",
            "/usr/local/lib/python3.7/dist-packages/sklearn/svm/_base.py:1208: ConvergenceWarning: Liblinear failed to converge, increase the number of iterations.\n",
            "  ConvergenceWarning,\n"
          ]
        },
        {
          "output_type": "stream",
          "name": "stdout",
          "text": [
            "Model Number: 20 of 127 with model LastValueNaive for Validation 1\n",
            "20 - LastValueNaive with avg smape 11.54: \n",
            "Model Number: 21 of 127 with model DatepartRegression for Validation 1\n",
            "📈 21 - DatepartRegression with avg smape 4.56: \n",
            "Model Number: 22 of 127 with model UnivariateMotif for Validation 1\n",
            "22 - UnivariateMotif with avg smape 9.95: \n",
            "Model Number: 23 of 127 with model NVAR for Validation 1\n",
            "23 - NVAR with avg smape 11.31: \n",
            "Model Number: 24 of 127 with model LastValueNaive for Validation 1\n"
          ]
        },
        {
          "output_type": "stream",
          "name": "stderr",
          "text": [
            "/usr/local/lib/python3.7/dist-packages/sklearn/neural_network/_multilayer_perceptron.py:549: ConvergenceWarning: lbfgs failed to converge (status=1):\n",
            "STOP: TOTAL NO. of ITERATIONS REACHED LIMIT.\n",
            "\n",
            "Increase the number of iterations (max_iter) or scale the data as shown in:\n",
            "    https://scikit-learn.org/stable/modules/preprocessing.html\n",
            "  self.n_iter_ = _check_optimize_result(\"lbfgs\", opt_res, self.max_iter)\n"
          ]
        },
        {
          "output_type": "stream",
          "name": "stdout",
          "text": [
            "24 - LastValueNaive with avg smape 11.54: \n",
            "Model Number: 25 of 127 with model LastValueNaive for Validation 1\n",
            "25 - LastValueNaive with avg smape 10.71: \n",
            "Model Number: 26 of 127 with model LastValueNaive for Validation 1\n",
            "26 - LastValueNaive with avg smape 10.71: \n",
            "Model Number: 27 of 127 with model LastValueNaive for Validation 1\n",
            "27 - LastValueNaive with avg smape 10.71: \n",
            "Model Number: 28 of 127 with model LastValueNaive for Validation 1\n",
            "28 - LastValueNaive with avg smape 10.71: \n",
            "Model Number: 29 of 127 with model LastValueNaive for Validation 1\n",
            "29 - LastValueNaive with avg smape 10.71: \n",
            "Model Number: 30 of 127 with model LastValueNaive for Validation 1\n",
            "30 - LastValueNaive with avg smape 10.71: \n",
            "Model Number: 31 of 127 with model AverageValueNaive for Validation 1\n",
            "31 - AverageValueNaive with avg smape 11.53: \n",
            "Model Number: 32 of 127 with model WindowRegression for Validation 1\n",
            "32 - WindowRegression with avg smape 10.51: \n",
            "Model Number: 33 of 127 with model SectionalMotif for Validation 1\n",
            "33 - SectionalMotif with avg smape 11.43: \n",
            "Model Number: 34 of 127 with model NVAR for Validation 1\n"
          ]
        },
        {
          "output_type": "stream",
          "name": "stderr",
          "text": [
            "/usr/local/lib/python3.7/dist-packages/sklearn/svm/_base.py:1208: ConvergenceWarning: Liblinear failed to converge, increase the number of iterations.\n",
            "  ConvergenceWarning,\n",
            "/usr/local/lib/python3.7/dist-packages/sklearn/svm/_base.py:1208: ConvergenceWarning: Liblinear failed to converge, increase the number of iterations.\n",
            "  ConvergenceWarning,\n",
            "/usr/local/lib/python3.7/dist-packages/sklearn/svm/_base.py:1208: ConvergenceWarning: Liblinear failed to converge, increase the number of iterations.\n",
            "  ConvergenceWarning,\n",
            "/usr/local/lib/python3.7/dist-packages/sklearn/svm/_base.py:1208: ConvergenceWarning: Liblinear failed to converge, increase the number of iterations.\n",
            "  ConvergenceWarning,\n",
            "/usr/local/lib/python3.7/dist-packages/sklearn/svm/_base.py:1208: ConvergenceWarning: Liblinear failed to converge, increase the number of iterations.\n",
            "  ConvergenceWarning,\n",
            "/usr/local/lib/python3.7/dist-packages/sklearn/svm/_base.py:1208: ConvergenceWarning: Liblinear failed to converge, increase the number of iterations.\n",
            "  ConvergenceWarning,\n",
            "/usr/local/lib/python3.7/dist-packages/sklearn/svm/_base.py:1208: ConvergenceWarning: Liblinear failed to converge, increase the number of iterations.\n",
            "  ConvergenceWarning,\n",
            "/usr/local/lib/python3.7/dist-packages/sklearn/svm/_base.py:1208: ConvergenceWarning: Liblinear failed to converge, increase the number of iterations.\n",
            "  ConvergenceWarning,\n",
            "/usr/local/lib/python3.7/dist-packages/sklearn/svm/_base.py:1208: ConvergenceWarning: Liblinear failed to converge, increase the number of iterations.\n",
            "  ConvergenceWarning,\n",
            "/usr/local/lib/python3.7/dist-packages/sklearn/svm/_base.py:1208: ConvergenceWarning: Liblinear failed to converge, increase the number of iterations.\n",
            "  ConvergenceWarning,\n"
          ]
        },
        {
          "output_type": "stream",
          "name": "stdout",
          "text": [
            "34 - NVAR with avg smape 11.33: \n",
            "Model Number: 35 of 127 with model WindowRegression for Validation 1\n"
          ]
        },
        {
          "output_type": "stream",
          "name": "stderr",
          "text": [
            "[Parallel(n_jobs=-2)]: Using backend SequentialBackend with 1 concurrent workers.\n",
            "[Parallel(n_jobs=-2)]: Done 100 out of 100 | elapsed:    0.1s finished\n",
            "[Parallel(n_jobs=1)]: Using backend SequentialBackend with 1 concurrent workers.\n",
            "[Parallel(n_jobs=1)]: Done 100 out of 100 | elapsed:    0.0s finished\n",
            "[Parallel(n_jobs=1)]: Using backend SequentialBackend with 1 concurrent workers.\n",
            "[Parallel(n_jobs=1)]: Done 100 out of 100 | elapsed:    0.0s finished\n",
            "[Parallel(n_jobs=1)]: Using backend SequentialBackend with 1 concurrent workers.\n",
            "[Parallel(n_jobs=1)]: Done 100 out of 100 | elapsed:    0.0s finished\n",
            "[Parallel(n_jobs=1)]: Using backend SequentialBackend with 1 concurrent workers.\n",
            "[Parallel(n_jobs=1)]: Done 100 out of 100 | elapsed:    0.0s finished\n",
            "[Parallel(n_jobs=1)]: Using backend SequentialBackend with 1 concurrent workers.\n",
            "[Parallel(n_jobs=1)]: Done 100 out of 100 | elapsed:    0.0s finished\n",
            "[Parallel(n_jobs=1)]: Using backend SequentialBackend with 1 concurrent workers.\n",
            "[Parallel(n_jobs=1)]: Done 100 out of 100 | elapsed:    0.0s finished\n",
            "[Parallel(n_jobs=1)]: Using backend SequentialBackend with 1 concurrent workers.\n",
            "[Parallel(n_jobs=1)]: Done 100 out of 100 | elapsed:    0.0s finished\n",
            "[Parallel(n_jobs=1)]: Using backend SequentialBackend with 1 concurrent workers.\n",
            "[Parallel(n_jobs=1)]: Done 100 out of 100 | elapsed:    0.0s finished\n",
            "[Parallel(n_jobs=1)]: Using backend SequentialBackend with 1 concurrent workers.\n",
            "[Parallel(n_jobs=1)]: Done 100 out of 100 | elapsed:    0.0s finished\n",
            "[Parallel(n_jobs=1)]: Using backend SequentialBackend with 1 concurrent workers.\n",
            "[Parallel(n_jobs=1)]: Done 100 out of 100 | elapsed:    0.0s finished\n"
          ]
        },
        {
          "output_type": "stream",
          "name": "stdout",
          "text": [
            "35 - WindowRegression with avg smape 10.56: \n",
            "Model Number: 36 of 127 with model MultivariateRegression for Validation 1\n"
          ]
        },
        {
          "output_type": "stream",
          "name": "stderr",
          "text": [
            "[Parallel(n_jobs=-2)]: Using backend SequentialBackend with 1 concurrent workers.\n",
            "[Parallel(n_jobs=-2)]: Done 200 out of 200 | elapsed:    0.3s finished\n",
            "[Parallel(n_jobs=1)]: Using backend SequentialBackend with 1 concurrent workers.\n",
            "[Parallel(n_jobs=1)]: Done 200 out of 200 | elapsed:    0.0s finished\n",
            "[Parallel(n_jobs=1)]: Using backend SequentialBackend with 1 concurrent workers.\n",
            "[Parallel(n_jobs=1)]: Done 200 out of 200 | elapsed:    0.0s finished\n",
            "[Parallel(n_jobs=1)]: Using backend SequentialBackend with 1 concurrent workers.\n",
            "[Parallel(n_jobs=1)]: Done 200 out of 200 | elapsed:    0.0s finished\n",
            "[Parallel(n_jobs=1)]: Using backend SequentialBackend with 1 concurrent workers.\n",
            "[Parallel(n_jobs=1)]: Done 200 out of 200 | elapsed:    0.0s finished\n",
            "[Parallel(n_jobs=1)]: Using backend SequentialBackend with 1 concurrent workers.\n",
            "[Parallel(n_jobs=1)]: Done 200 out of 200 | elapsed:    0.0s finished\n",
            "[Parallel(n_jobs=1)]: Using backend SequentialBackend with 1 concurrent workers.\n",
            "[Parallel(n_jobs=1)]: Done 200 out of 200 | elapsed:    0.0s finished\n",
            "[Parallel(n_jobs=1)]: Using backend SequentialBackend with 1 concurrent workers.\n",
            "[Parallel(n_jobs=1)]: Done 200 out of 200 | elapsed:    0.0s finished\n",
            "[Parallel(n_jobs=1)]: Using backend SequentialBackend with 1 concurrent workers.\n",
            "[Parallel(n_jobs=1)]: Done 200 out of 200 | elapsed:    0.0s finished\n",
            "[Parallel(n_jobs=1)]: Using backend SequentialBackend with 1 concurrent workers.\n",
            "[Parallel(n_jobs=1)]: Done 200 out of 200 | elapsed:    0.0s finished\n",
            "[Parallel(n_jobs=1)]: Using backend SequentialBackend with 1 concurrent workers.\n",
            "[Parallel(n_jobs=1)]: Done 200 out of 200 | elapsed:    0.0s finished\n"
          ]
        },
        {
          "output_type": "stream",
          "name": "stdout",
          "text": [
            "36 - MultivariateRegression with avg smape 15.02: \n",
            "Model Number: 37 of 127 with model AverageValueNaive for Validation 1\n",
            "37 - AverageValueNaive with avg smape 11.17: \n",
            "Model Number: 38 of 127 with model DatepartRegression for Validation 1\n",
            "38 - DatepartRegression with avg smape 10.0: \n",
            "Model Number: 39 of 127 with model UnobservedComponents for Validation 1\n",
            "39 - UnobservedComponents with avg smape 10.55: \n",
            "Model Number: 40 of 127 with model MultivariateRegression for Validation 1\n"
          ]
        },
        {
          "output_type": "stream",
          "name": "stderr",
          "text": [
            "[Parallel(n_jobs=-2)]: Using backend SequentialBackend with 1 concurrent workers.\n",
            "[Parallel(n_jobs=-2)]: Done 200 out of 200 | elapsed:    0.4s finished\n",
            "[Parallel(n_jobs=1)]: Using backend SequentialBackend with 1 concurrent workers.\n",
            "[Parallel(n_jobs=1)]: Done 200 out of 200 | elapsed:    0.0s finished\n",
            "[Parallel(n_jobs=1)]: Using backend SequentialBackend with 1 concurrent workers.\n",
            "[Parallel(n_jobs=1)]: Done 200 out of 200 | elapsed:    0.0s finished\n",
            "[Parallel(n_jobs=1)]: Using backend SequentialBackend with 1 concurrent workers.\n",
            "[Parallel(n_jobs=1)]: Done 200 out of 200 | elapsed:    0.0s finished\n",
            "[Parallel(n_jobs=1)]: Using backend SequentialBackend with 1 concurrent workers.\n",
            "[Parallel(n_jobs=1)]: Done 200 out of 200 | elapsed:    0.0s finished\n",
            "[Parallel(n_jobs=1)]: Using backend SequentialBackend with 1 concurrent workers.\n",
            "[Parallel(n_jobs=1)]: Done 200 out of 200 | elapsed:    0.0s finished\n",
            "[Parallel(n_jobs=1)]: Using backend SequentialBackend with 1 concurrent workers.\n",
            "[Parallel(n_jobs=1)]: Done 200 out of 200 | elapsed:    0.0s finished\n",
            "[Parallel(n_jobs=1)]: Using backend SequentialBackend with 1 concurrent workers.\n",
            "[Parallel(n_jobs=1)]: Done 200 out of 200 | elapsed:    0.0s finished\n",
            "[Parallel(n_jobs=1)]: Using backend SequentialBackend with 1 concurrent workers.\n",
            "[Parallel(n_jobs=1)]: Done 200 out of 200 | elapsed:    0.0s finished\n",
            "[Parallel(n_jobs=1)]: Using backend SequentialBackend with 1 concurrent workers.\n",
            "[Parallel(n_jobs=1)]: Done 200 out of 200 | elapsed:    0.0s finished\n",
            "[Parallel(n_jobs=1)]: Using backend SequentialBackend with 1 concurrent workers.\n",
            "[Parallel(n_jobs=1)]: Done 200 out of 200 | elapsed:    0.0s finished\n"
          ]
        },
        {
          "output_type": "stream",
          "name": "stdout",
          "text": [
            "40 - MultivariateRegression with avg smape 9.67: \n",
            "Model Number: 41 of 127 with model SectionalMotif for Validation 1\n",
            "41 - SectionalMotif with avg smape 12.64: \n",
            "Model Number: 42 of 127 with model SectionalMotif for Validation 1\n",
            "42 - SectionalMotif with avg smape 12.57: \n",
            "Model Number: 43 of 127 with model UnobservedComponents for Validation 1\n",
            "43 - UnobservedComponents with avg smape 11.93: \n",
            "Model Number: 44 of 127 with model UnobservedComponents for Validation 1\n",
            "44 - UnobservedComponents with avg smape 10.75: \n",
            "Model Number: 45 of 127 with model WindowRegression for Validation 1\n",
            "45 - WindowRegression with avg smape 200.0: \n",
            "Model Number: 46 of 127 with model UnobservedComponents for Validation 1\n",
            "46 - UnobservedComponents with avg smape 11.01: \n",
            "Model Number: 47 of 127 with model ETS for Validation 1\n",
            "ETS error TypeError(\"__init__() got an unexpected keyword argument 'damped_trend'\")\n",
            "47 - ETS with avg smape 9.79: \n",
            "Model Number: 48 of 127 with model WindowRegression for Validation 1\n",
            "48 - WindowRegression with avg smape 11.39: \n",
            "Model Number: 49 of 127 with model AverageValueNaive for Validation 1\n",
            "49 - AverageValueNaive with avg smape 10.71: \n",
            "Model Number: 50 of 127 with model ETS for Validation 1\n",
            "ETS error TypeError(\"__init__() got an unexpected keyword argument 'damped_trend'\")\n",
            "50 - ETS with avg smape 10.71: \n",
            "Model Number: 51 of 127 with model WindowRegression for Validation 1\n"
          ]
        },
        {
          "output_type": "stream",
          "name": "stderr",
          "text": [
            "[Parallel(n_jobs=-2)]: Using backend SequentialBackend with 1 concurrent workers.\n",
            "[Parallel(n_jobs=-2)]: Done 1000 out of 1000 | elapsed:    1.0s finished\n",
            "[Parallel(n_jobs=1)]: Using backend SequentialBackend with 1 concurrent workers.\n",
            "[Parallel(n_jobs=1)]: Done 1000 out of 1000 | elapsed:    0.1s finished\n",
            "[Parallel(n_jobs=1)]: Using backend SequentialBackend with 1 concurrent workers.\n",
            "[Parallel(n_jobs=1)]: Done 1000 out of 1000 | elapsed:    0.1s finished\n",
            "[Parallel(n_jobs=1)]: Using backend SequentialBackend with 1 concurrent workers.\n",
            "[Parallel(n_jobs=1)]: Done 1000 out of 1000 | elapsed:    0.1s finished\n",
            "[Parallel(n_jobs=1)]: Using backend SequentialBackend with 1 concurrent workers.\n",
            "[Parallel(n_jobs=1)]: Done 1000 out of 1000 | elapsed:    0.1s finished\n",
            "[Parallel(n_jobs=1)]: Using backend SequentialBackend with 1 concurrent workers.\n",
            "[Parallel(n_jobs=1)]: Done 1000 out of 1000 | elapsed:    0.1s finished\n",
            "[Parallel(n_jobs=1)]: Using backend SequentialBackend with 1 concurrent workers.\n",
            "[Parallel(n_jobs=1)]: Done 1000 out of 1000 | elapsed:    0.1s finished\n",
            "[Parallel(n_jobs=1)]: Using backend SequentialBackend with 1 concurrent workers.\n",
            "[Parallel(n_jobs=1)]: Done 1000 out of 1000 | elapsed:    0.1s finished\n",
            "[Parallel(n_jobs=1)]: Using backend SequentialBackend with 1 concurrent workers.\n",
            "[Parallel(n_jobs=1)]: Done 1000 out of 1000 | elapsed:    0.1s finished\n",
            "[Parallel(n_jobs=1)]: Using backend SequentialBackend with 1 concurrent workers.\n",
            "[Parallel(n_jobs=1)]: Done 1000 out of 1000 | elapsed:    0.1s finished\n",
            "[Parallel(n_jobs=1)]: Using backend SequentialBackend with 1 concurrent workers.\n"
          ]
        },
        {
          "output_type": "stream",
          "name": "stdout",
          "text": [
            "51 - WindowRegression with avg smape 13.47: \n",
            "Model Number: 52 of 127 with model UnivariateMotif for Validation 1\n",
            "52 - UnivariateMotif with avg smape 10.52: \n",
            "Model Number: 53 of 127 with model UnobservedComponents for Validation 1\n"
          ]
        },
        {
          "output_type": "stream",
          "name": "stderr",
          "text": [
            "[Parallel(n_jobs=1)]: Done 1000 out of 1000 | elapsed:    0.1s finished\n"
          ]
        },
        {
          "output_type": "stream",
          "name": "stdout",
          "text": [
            "53 - UnobservedComponents with avg smape 10.96: \n",
            "Model Number: 54 of 127 with model MultivariateRegression for Validation 1\n"
          ]
        },
        {
          "output_type": "stream",
          "name": "stderr",
          "text": [
            "[Parallel(n_jobs=-2)]: Using backend SequentialBackend with 1 concurrent workers.\n",
            "[Parallel(n_jobs=-2)]: Done 200 out of 200 | elapsed:    0.2s finished\n",
            "[Parallel(n_jobs=1)]: Using backend SequentialBackend with 1 concurrent workers.\n",
            "[Parallel(n_jobs=1)]: Done 200 out of 200 | elapsed:    0.0s finished\n",
            "[Parallel(n_jobs=1)]: Using backend SequentialBackend with 1 concurrent workers.\n",
            "[Parallel(n_jobs=1)]: Done 200 out of 200 | elapsed:    0.0s finished\n",
            "[Parallel(n_jobs=1)]: Using backend SequentialBackend with 1 concurrent workers.\n",
            "[Parallel(n_jobs=1)]: Done 200 out of 200 | elapsed:    0.0s finished\n",
            "[Parallel(n_jobs=1)]: Using backend SequentialBackend with 1 concurrent workers.\n",
            "[Parallel(n_jobs=1)]: Done 200 out of 200 | elapsed:    0.0s finished\n",
            "[Parallel(n_jobs=1)]: Using backend SequentialBackend with 1 concurrent workers.\n",
            "[Parallel(n_jobs=1)]: Done 200 out of 200 | elapsed:    0.0s finished\n",
            "[Parallel(n_jobs=1)]: Using backend SequentialBackend with 1 concurrent workers.\n",
            "[Parallel(n_jobs=1)]: Done 200 out of 200 | elapsed:    0.0s finished\n",
            "[Parallel(n_jobs=1)]: Using backend SequentialBackend with 1 concurrent workers.\n",
            "[Parallel(n_jobs=1)]: Done 200 out of 200 | elapsed:    0.0s finished\n",
            "[Parallel(n_jobs=1)]: Using backend SequentialBackend with 1 concurrent workers.\n",
            "[Parallel(n_jobs=1)]: Done 200 out of 200 | elapsed:    0.0s finished\n",
            "[Parallel(n_jobs=1)]: Using backend SequentialBackend with 1 concurrent workers.\n",
            "[Parallel(n_jobs=1)]: Done 200 out of 200 | elapsed:    0.0s finished\n",
            "[Parallel(n_jobs=1)]: Using backend SequentialBackend with 1 concurrent workers.\n",
            "[Parallel(n_jobs=1)]: Done 200 out of 200 | elapsed:    0.0s finished\n"
          ]
        },
        {
          "output_type": "stream",
          "name": "stdout",
          "text": [
            "54 - MultivariateRegression with avg smape 15.0: \n",
            "Model Number: 55 of 127 with model UnobservedComponents for Validation 1\n",
            "55 - UnobservedComponents with avg smape 10.96: \n",
            "Model Number: 56 of 127 with model ETS for Validation 1\n",
            "ETS error TypeError(\"__init__() got an unexpected keyword argument 'damped_trend'\")\n",
            "56 - ETS with avg smape 9.86: \n",
            "Model Number: 57 of 127 with model ETS for Validation 1\n",
            "ETS error TypeError(\"__init__() got an unexpected keyword argument 'damped_trend'\")\n",
            "57 - ETS with avg smape 10.1: \n",
            "Model Number: 58 of 127 with model ETS for Validation 1\n",
            "ETS error TypeError(\"__init__() got an unexpected keyword argument 'damped_trend'\")\n",
            "58 - ETS with avg smape 9.91: \n",
            "Model Number: 59 of 127 with model MultivariateRegression for Validation 1\n"
          ]
        },
        {
          "output_type": "stream",
          "name": "stderr",
          "text": [
            "[Parallel(n_jobs=-2)]: Using backend SequentialBackend with 1 concurrent workers.\n",
            "[Parallel(n_jobs=-2)]: Done 200 out of 200 | elapsed:    0.3s finished\n",
            "[Parallel(n_jobs=1)]: Using backend SequentialBackend with 1 concurrent workers.\n",
            "[Parallel(n_jobs=1)]: Done 200 out of 200 | elapsed:    0.0s finished\n",
            "[Parallel(n_jobs=1)]: Using backend SequentialBackend with 1 concurrent workers.\n",
            "[Parallel(n_jobs=1)]: Done 200 out of 200 | elapsed:    0.0s finished\n",
            "[Parallel(n_jobs=1)]: Using backend SequentialBackend with 1 concurrent workers.\n",
            "[Parallel(n_jobs=1)]: Done 200 out of 200 | elapsed:    0.0s finished\n",
            "[Parallel(n_jobs=1)]: Using backend SequentialBackend with 1 concurrent workers.\n",
            "[Parallel(n_jobs=1)]: Done 200 out of 200 | elapsed:    0.0s finished\n",
            "[Parallel(n_jobs=1)]: Using backend SequentialBackend with 1 concurrent workers.\n",
            "[Parallel(n_jobs=1)]: Done 200 out of 200 | elapsed:    0.0s finished\n",
            "[Parallel(n_jobs=1)]: Using backend SequentialBackend with 1 concurrent workers.\n",
            "[Parallel(n_jobs=1)]: Done 200 out of 200 | elapsed:    0.0s finished\n",
            "[Parallel(n_jobs=1)]: Using backend SequentialBackend with 1 concurrent workers.\n",
            "[Parallel(n_jobs=1)]: Done 200 out of 200 | elapsed:    0.0s finished\n",
            "[Parallel(n_jobs=1)]: Using backend SequentialBackend with 1 concurrent workers.\n",
            "[Parallel(n_jobs=1)]: Done 200 out of 200 | elapsed:    0.0s finished\n",
            "[Parallel(n_jobs=1)]: Using backend SequentialBackend with 1 concurrent workers.\n",
            "[Parallel(n_jobs=1)]: Done 200 out of 200 | elapsed:    0.0s finished\n",
            "[Parallel(n_jobs=1)]: Using backend SequentialBackend with 1 concurrent workers.\n",
            "[Parallel(n_jobs=1)]: Done 200 out of 200 | elapsed:    0.0s finished\n"
          ]
        },
        {
          "output_type": "stream",
          "name": "stdout",
          "text": [
            "59 - MultivariateRegression with avg smape 12.61: \n",
            "Model Number: 60 of 127 with model MultivariateRegression for Validation 1\n"
          ]
        },
        {
          "output_type": "stream",
          "name": "stderr",
          "text": [
            "[Parallel(n_jobs=-2)]: Using backend SequentialBackend with 1 concurrent workers.\n",
            "[Parallel(n_jobs=-2)]: Done 200 out of 200 | elapsed:    0.2s finished\n",
            "[Parallel(n_jobs=1)]: Using backend SequentialBackend with 1 concurrent workers.\n",
            "[Parallel(n_jobs=1)]: Done 200 out of 200 | elapsed:    0.0s finished\n",
            "[Parallel(n_jobs=1)]: Using backend SequentialBackend with 1 concurrent workers.\n",
            "[Parallel(n_jobs=1)]: Done 200 out of 200 | elapsed:    0.0s finished\n",
            "[Parallel(n_jobs=1)]: Using backend SequentialBackend with 1 concurrent workers.\n",
            "[Parallel(n_jobs=1)]: Done 200 out of 200 | elapsed:    0.0s finished\n",
            "[Parallel(n_jobs=1)]: Using backend SequentialBackend with 1 concurrent workers.\n",
            "[Parallel(n_jobs=1)]: Done 200 out of 200 | elapsed:    0.0s finished\n",
            "[Parallel(n_jobs=1)]: Using backend SequentialBackend with 1 concurrent workers.\n",
            "[Parallel(n_jobs=1)]: Done 200 out of 200 | elapsed:    0.0s finished\n",
            "[Parallel(n_jobs=1)]: Using backend SequentialBackend with 1 concurrent workers.\n",
            "[Parallel(n_jobs=1)]: Done 200 out of 200 | elapsed:    0.0s finished\n",
            "[Parallel(n_jobs=1)]: Using backend SequentialBackend with 1 concurrent workers.\n",
            "[Parallel(n_jobs=1)]: Done 200 out of 200 | elapsed:    0.0s finished\n",
            "[Parallel(n_jobs=1)]: Using backend SequentialBackend with 1 concurrent workers.\n",
            "[Parallel(n_jobs=1)]: Done 200 out of 200 | elapsed:    0.0s finished\n",
            "[Parallel(n_jobs=1)]: Using backend SequentialBackend with 1 concurrent workers.\n",
            "[Parallel(n_jobs=1)]: Done 200 out of 200 | elapsed:    0.0s finished\n",
            "[Parallel(n_jobs=1)]: Using backend SequentialBackend with 1 concurrent workers.\n",
            "[Parallel(n_jobs=1)]: Done 200 out of 200 | elapsed:    0.0s finished\n"
          ]
        },
        {
          "output_type": "stream",
          "name": "stdout",
          "text": [
            "60 - MultivariateRegression with avg smape 15.06: \n",
            "Model Number: 61 of 127 with model UnivariateMotif for Validation 1\n",
            "61 - UnivariateMotif with avg smape 12.59: \n",
            "Model Number: 62 of 127 with model ETS for Validation 1\n",
            "ETS error TypeError(\"__init__() got an unexpected keyword argument 'damped_trend'\")\n",
            "62 - ETS with avg smape 10.47: \n",
            "Model Number: 63 of 127 with model ETS for Validation 1\n",
            "ETS error TypeError(\"__init__() got an unexpected keyword argument 'damped_trend'\")\n",
            "63 - ETS with avg smape 10.71: \n",
            "Model Number: 64 of 127 with model UnobservedComponents for Validation 1\n",
            "64 - UnobservedComponents with avg smape 8.8: \n",
            "Model Number: 65 of 127 with model AverageValueNaive for Validation 1\n",
            "65 - AverageValueNaive with avg smape 8.0: \n",
            "Model Number: 66 of 127 with model AverageValueNaive for Validation 1\n",
            "66 - AverageValueNaive with avg smape 10.74: \n",
            "Model Number: 67 of 127 with model SeasonalNaive for Validation 1\n",
            "67 - SeasonalNaive with avg smape 9.63: \n",
            "Model Number: 68 of 127 with model MultivariateMotif for Validation 1\n",
            "68 - MultivariateMotif with avg smape 14.06: \n",
            "Model Number: 69 of 127 with model SeasonalNaive for Validation 1\n",
            "69 - SeasonalNaive with avg smape 9.8: \n",
            "Model Number: 70 of 127 with model SeasonalNaive for Validation 1\n",
            "70 - SeasonalNaive with avg smape 9.81: \n",
            "Model Number: 71 of 127 with model SeasonalNaive for Validation 1\n",
            "71 - SeasonalNaive with avg smape 8.5: \n",
            "Model Number: 72 of 127 with model UnobservedComponents for Validation 1\n",
            "72 - UnobservedComponents with avg smape 6.47: \n",
            "Model Number: 73 of 127 with model SeasonalNaive for Validation 1\n",
            "73 - SeasonalNaive with avg smape 10.89: \n",
            "Model Number: 74 of 127 with model AverageValueNaive for Validation 1\n",
            "74 - AverageValueNaive with avg smape 11.0: \n",
            "Model Number: 75 of 127 with model MultivariateMotif for Validation 1\n",
            "75 - MultivariateMotif with avg smape 14.12: \n",
            "Model Number: 76 of 127 with model AverageValueNaive for Validation 1\n",
            "76 - AverageValueNaive with avg smape 10.99: \n",
            "Model Number: 77 of 127 with model GLS for Validation 1\n",
            "77 - GLS with avg smape 10.95: \n",
            "Model Number: 78 of 127 with model GLS for Validation 1\n",
            "78 - GLS with avg smape 10.95: \n",
            "Model Number: 79 of 127 with model AverageValueNaive for Validation 1\n",
            "79 - AverageValueNaive with avg smape 5.74: \n",
            "Model Number: 80 of 127 with model MultivariateRegression for Validation 1\n",
            "80 - MultivariateRegression with avg smape 12.1: \n",
            "Model Number: 81 of 127 with model DatepartRegression for Validation 1\n",
            "81 - DatepartRegression with avg smape 9.94: \n",
            "Model Number: 82 of 127 with model GLS for Validation 1\n",
            "82 - GLS with avg smape 10.88: \n",
            "Model Number: 83 of 127 with model GLS for Validation 1\n",
            "83 - GLS with avg smape 10.99: \n",
            "Model Number: 84 of 127 with model SeasonalNaive for Validation 1\n",
            "84 - SeasonalNaive with avg smape 9.39: \n",
            "Model Number: 85 of 127 with model SectionalMotif for Validation 1\n",
            "85 - SectionalMotif with avg smape 10.6: \n",
            "Model Number: 86 of 127 with model ConstantNaive for Validation 1\n",
            "86 - ConstantNaive with avg smape 10.75: \n",
            "Model Number: 87 of 127 with model GLS for Validation 1\n",
            "87 - GLS with avg smape 11.08: \n",
            "Model Number: 88 of 127 with model MultivariateRegression for Validation 1\n",
            "88 - MultivariateRegression with avg smape 15.48: \n",
            "Model Number: 89 of 127 with model UnivariateMotif for Validation 1\n",
            "89 - UnivariateMotif with avg smape 9.66: \n",
            "Model Number: 90 of 127 with model MultivariateRegression for Validation 1\n"
          ]
        },
        {
          "output_type": "stream",
          "name": "stderr",
          "text": [
            "[Parallel(n_jobs=-2)]: Using backend SequentialBackend with 1 concurrent workers.\n",
            "[Parallel(n_jobs=-2)]: Done 200 out of 200 | elapsed:    0.3s finished\n",
            "[Parallel(n_jobs=1)]: Using backend SequentialBackend with 1 concurrent workers.\n",
            "[Parallel(n_jobs=1)]: Done 200 out of 200 | elapsed:    0.0s finished\n",
            "[Parallel(n_jobs=1)]: Using backend SequentialBackend with 1 concurrent workers.\n",
            "[Parallel(n_jobs=1)]: Done 200 out of 200 | elapsed:    0.0s finished\n",
            "[Parallel(n_jobs=1)]: Using backend SequentialBackend with 1 concurrent workers.\n",
            "[Parallel(n_jobs=1)]: Done 200 out of 200 | elapsed:    0.0s finished\n",
            "[Parallel(n_jobs=1)]: Using backend SequentialBackend with 1 concurrent workers.\n",
            "[Parallel(n_jobs=1)]: Done 200 out of 200 | elapsed:    0.0s finished\n",
            "[Parallel(n_jobs=1)]: Using backend SequentialBackend with 1 concurrent workers.\n",
            "[Parallel(n_jobs=1)]: Done 200 out of 200 | elapsed:    0.0s finished\n",
            "[Parallel(n_jobs=1)]: Using backend SequentialBackend with 1 concurrent workers.\n",
            "[Parallel(n_jobs=1)]: Done 200 out of 200 | elapsed:    0.0s finished\n",
            "[Parallel(n_jobs=1)]: Using backend SequentialBackend with 1 concurrent workers.\n",
            "[Parallel(n_jobs=1)]: Done 200 out of 200 | elapsed:    0.0s finished\n",
            "[Parallel(n_jobs=1)]: Using backend SequentialBackend with 1 concurrent workers.\n",
            "[Parallel(n_jobs=1)]: Done 200 out of 200 | elapsed:    0.0s finished\n",
            "[Parallel(n_jobs=1)]: Using backend SequentialBackend with 1 concurrent workers.\n",
            "[Parallel(n_jobs=1)]: Done 200 out of 200 | elapsed:    0.0s finished\n",
            "[Parallel(n_jobs=1)]: Using backend SequentialBackend with 1 concurrent workers.\n",
            "[Parallel(n_jobs=1)]: Done 200 out of 200 | elapsed:    0.0s finished\n"
          ]
        },
        {
          "output_type": "stream",
          "name": "stdout",
          "text": [
            "90 - MultivariateRegression with avg smape 10.27: \n",
            "Model Number: 91 of 127 with model UnivariateMotif for Validation 1\n",
            "91 - UnivariateMotif with avg smape 10.0: \n",
            "Model Number: 92 of 127 with model UnivariateMotif for Validation 1\n",
            "92 - UnivariateMotif with avg smape 10.87: \n",
            "Model Number: 93 of 127 with model DatepartRegression for Validation 1\n"
          ]
        },
        {
          "output_type": "stream",
          "name": "stderr",
          "text": [
            "[Parallel(n_jobs=-2)]: Using backend SequentialBackend with 1 concurrent workers.\n"
          ]
        },
        {
          "output_type": "stream",
          "name": "stdout",
          "text": [
            "93 - DatepartRegression with avg smape 8.26: \n",
            "Model Number: 94 of 127 with model GLS for Validation 1\n"
          ]
        },
        {
          "output_type": "stream",
          "name": "stderr",
          "text": [
            "[Parallel(n_jobs=-2)]: Done 1000 out of 1000 | elapsed:    1.4s finished\n",
            "[Parallel(n_jobs=1)]: Using backend SequentialBackend with 1 concurrent workers.\n",
            "[Parallel(n_jobs=1)]: Done 1000 out of 1000 | elapsed:    0.1s finished\n"
          ]
        },
        {
          "output_type": "stream",
          "name": "stdout",
          "text": [
            "94 - GLS with avg smape 10.39: \n",
            "Model Number: 95 of 127 with model DatepartRegression for Validation 1\n"
          ]
        },
        {
          "output_type": "stream",
          "name": "stderr",
          "text": [
            "[Parallel(n_jobs=-2)]: Using backend SequentialBackend with 1 concurrent workers.\n",
            "[Parallel(n_jobs=-2)]: Done 100 out of 100 | elapsed:    0.1s finished\n",
            "[Parallel(n_jobs=1)]: Using backend SequentialBackend with 1 concurrent workers.\n",
            "[Parallel(n_jobs=1)]: Done 100 out of 100 | elapsed:    0.0s finished\n"
          ]
        },
        {
          "output_type": "stream",
          "name": "stdout",
          "text": [
            "95 - DatepartRegression with avg smape 8.92: \n",
            "Model Number: 96 of 127 with model DatepartRegression for Validation 1\n",
            "96 - DatepartRegression with avg smape 6.93: \n",
            "Model Number: 97 of 127 with model MultivariateMotif for Validation 1\n",
            "97 - MultivariateMotif with avg smape 12.88: \n",
            "Model Number: 98 of 127 with model GLS for Validation 1\n"
          ]
        },
        {
          "output_type": "stream",
          "name": "stderr",
          "text": [
            "/usr/local/lib/python3.7/dist-packages/sklearn/svm/_base.py:1208: ConvergenceWarning: Liblinear failed to converge, increase the number of iterations.\n",
            "  ConvergenceWarning,\n"
          ]
        },
        {
          "output_type": "stream",
          "name": "stdout",
          "text": [
            "98 - GLS with avg smape 10.78: \n",
            "Model Number: 99 of 127 with model SectionalMotif for Validation 1\n",
            "99 - SectionalMotif with avg smape 9.87: \n",
            "Model Number: 100 of 127 with model ConstantNaive for Validation 1\n",
            "100 - ConstantNaive with avg smape 10.71: \n",
            "Model Number: 101 of 127 with model SeasonalNaive for Validation 1\n",
            "101 - SeasonalNaive with avg smape 8.7: \n",
            "Model Number: 102 of 127 with model MultivariateMotif for Validation 1\n",
            "102 - MultivariateMotif with avg smape 12.97: \n",
            "Model Number: 103 of 127 with model UnivariateMotif for Validation 1\n",
            "103 - UnivariateMotif with avg smape 12.87: \n",
            "Model Number: 104 of 127 with model SeasonalNaive for Validation 1\n",
            "104 - SeasonalNaive with avg smape 6.04: \n",
            "Model Number: 105 of 127 with model SectionalMotif for Validation 1\n",
            "105 - SectionalMotif with avg smape 13.36: \n",
            "Model Number: 106 of 127 with model FBProphet for Validation 1\n"
          ]
        },
        {
          "output_type": "stream",
          "name": "stderr",
          "text": [
            "INFO:fbprophet:Disabling yearly seasonality. Run prophet with yearly_seasonality=True to override this.\n",
            "INFO:fbprophet:Disabling daily seasonality. Run prophet with daily_seasonality=True to override this.\n"
          ]
        },
        {
          "output_type": "stream",
          "name": "stdout",
          "text": [
            "106 - FBProphet with avg smape 9.3: \n",
            "Model Number: 107 of 127 with model ConstantNaive for Validation 1\n",
            "107 - ConstantNaive with avg smape 11.07: \n",
            "Model Number: 108 of 127 with model MultivariateMotif for Validation 1\n",
            "108 - MultivariateMotif with avg smape 10.01: \n",
            "Model Number: 109 of 127 with model FBProphet for Validation 1\n"
          ]
        },
        {
          "output_type": "stream",
          "name": "stderr",
          "text": [
            "INFO:fbprophet:Disabling yearly seasonality. Run prophet with yearly_seasonality=True to override this.\n",
            "INFO:fbprophet:Disabling daily seasonality. Run prophet with daily_seasonality=True to override this.\n",
            "INFO:fbprophet:Disabling yearly seasonality. Run prophet with yearly_seasonality=True to override this.\n",
            "INFO:fbprophet:Disabling daily seasonality. Run prophet with daily_seasonality=True to override this.\n",
            "INFO:fbprophet:n_changepoints greater than number of observations. Using 27.\n"
          ]
        },
        {
          "output_type": "stream",
          "name": "stdout",
          "text": [
            "109 - FBProphet with avg smape 9.59: \n",
            "Model Number: 110 of 127 with model FBProphet for Validation 1\n"
          ]
        },
        {
          "output_type": "stream",
          "name": "stderr",
          "text": [
            "INFO:fbprophet:Disabling yearly seasonality. Run prophet with yearly_seasonality=True to override this.\n",
            "INFO:fbprophet:Disabling daily seasonality. Run prophet with daily_seasonality=True to override this.\n"
          ]
        },
        {
          "output_type": "stream",
          "name": "stdout",
          "text": [
            "110 - FBProphet with avg smape 9.38: \n",
            "Model Number: 111 of 127 with model FBProphet for Validation 1\n"
          ]
        },
        {
          "output_type": "stream",
          "name": "stderr",
          "text": [
            "INFO:fbprophet:Disabling yearly seasonality. Run prophet with yearly_seasonality=True to override this.\n",
            "INFO:fbprophet:Disabling daily seasonality. Run prophet with daily_seasonality=True to override this.\n"
          ]
        },
        {
          "output_type": "stream",
          "name": "stdout",
          "text": [
            "111 - FBProphet with avg smape 12.34: \n",
            "Model Number: 112 of 127 with model FBProphet for Validation 1\n"
          ]
        },
        {
          "output_type": "stream",
          "name": "stderr",
          "text": [
            "INFO:fbprophet:Disabling yearly seasonality. Run prophet with yearly_seasonality=True to override this.\n",
            "INFO:fbprophet:Disabling daily seasonality. Run prophet with daily_seasonality=True to override this.\n"
          ]
        },
        {
          "output_type": "stream",
          "name": "stdout",
          "text": [
            "112 - FBProphet with avg smape 12.87: \n",
            "Model Number: 113 of 127 with model FBProphet for Validation 1\n",
            "113 - FBProphet with avg smape 12.44: \n",
            "Model Number: 114 of 127 with model UnivariateMotif for Validation 1\n",
            "114 - UnivariateMotif with avg smape 12.57: \n",
            "Model Number: 115 of 127 with model MultivariateMotif for Validation 1\n",
            "115 - MultivariateMotif with avg smape 13.19: \n",
            "Model Number: 116 of 127 with model SectionalMotif for Validation 1\n",
            "116 - SectionalMotif with avg smape 7.7: \n",
            "Model Number: 117 of 127 with model FBProphet for Validation 1\n"
          ]
        },
        {
          "output_type": "stream",
          "name": "stderr",
          "text": [
            "INFO:fbprophet:Disabling yearly seasonality. Run prophet with yearly_seasonality=True to override this.\n",
            "INFO:fbprophet:Disabling daily seasonality. Run prophet with daily_seasonality=True to override this.\n"
          ]
        },
        {
          "output_type": "stream",
          "name": "stdout",
          "text": [
            "117 - FBProphet with avg smape 7.49: \n",
            "Model Number: 118 of 127 with model MultivariateMotif for Validation 1\n",
            "118 - MultivariateMotif with avg smape 12.06: \n",
            "Model Number: 119 of 127 with model MultivariateMotif for Validation 1\n",
            "119 - MultivariateMotif with avg smape 14.19: \n",
            "Model Number: 120 of 127 with model GLS for Validation 1\n",
            "120 - GLS with avg smape 6.79: \n",
            "Model Number: 121 of 127 with model FBProphet for Validation 1\n"
          ]
        },
        {
          "output_type": "stream",
          "name": "stderr",
          "text": [
            "INFO:fbprophet:Disabling yearly seasonality. Run prophet with yearly_seasonality=True to override this.\n",
            "INFO:fbprophet:Disabling daily seasonality. Run prophet with daily_seasonality=True to override this.\n"
          ]
        },
        {
          "output_type": "stream",
          "name": "stdout",
          "text": [
            "121 - FBProphet with avg smape 10.15: \n",
            "Model Number: 122 of 127 with model DatepartRegression for Validation 1\n",
            "122 - DatepartRegression with avg smape 6.23: \n",
            "Model Number: 123 of 127 with model ConstantNaive for Validation 1\n",
            "123 - ConstantNaive with avg smape 6.93: \n",
            "Model Number: 124 of 127 with model ConstantNaive for Validation 1\n",
            "124 - ConstantNaive with avg smape 6.93: \n",
            "Model Number: 125 of 127 with model ConstantNaive for Validation 1\n",
            "125 - ConstantNaive with avg smape 6.93: \n",
            "Model Number: 126 of 127 with model ConstantNaive for Validation 1\n",
            "126 - ConstantNaive with avg smape 6.93: \n",
            "Model Number: 127 of 127 with model GLM for Validation 1\n",
            "127 - GLM with avg smape 6.93: \n",
            "Validation Round: 2\n",
            "Model Number: 1 of 127 with model Ensemble for Validation 2\n",
            "📈 1 - Ensemble with avg smape 3.95: \n",
            "Model Number: 2 of 127 with model NVAR for Validation 2\n",
            "📈 2 - NVAR with avg smape 3.77: \n",
            "Model Number: 3 of 127 with model Ensemble for Validation 2\n",
            "3 - Ensemble with avg smape 3.77: \n",
            "Model Number: 4 of 127 with model Ensemble for Validation 2\n",
            "📈 4 - Ensemble with avg smape 3.56: \n",
            "Model Number: 5 of 127 with model Ensemble for Validation 2\n",
            "ETS error TypeError(\"__init__() got an unexpected keyword argument 'damped_trend'\")\n",
            "5 - Ensemble with avg smape 4.49: \n",
            "Model Number: 6 of 127 with model Ensemble for Validation 2\n",
            "📈 6 - Ensemble with avg smape 3.23: \n",
            "Model Number: 7 of 127 with model Ensemble for Validation 2\n",
            "7 - Ensemble with avg smape 3.88: \n",
            "Model Number: 8 of 127 with model Ensemble for Validation 2\n",
            "8 - Ensemble with avg smape 3.9: \n",
            "Model Number: 9 of 127 with model SectionalMotif for Validation 2\n",
            "9 - SectionalMotif with avg smape 3.27: \n",
            "Model Number: 10 of 127 with model NVAR for Validation 2\n",
            "10 - NVAR with avg smape 3.74: \n",
            "Model Number: 11 of 127 with model WindowRegression for Validation 2\n",
            "11 - WindowRegression with avg smape 4.9: \n",
            "Model Number: 12 of 127 with model NVAR for Validation 2\n",
            "12 - NVAR with avg smape 3.79: \n",
            "Model Number: 13 of 127 with model Ensemble for Validation 2\n",
            "13 - Ensemble with avg smape 3.83: \n",
            "Model Number: 14 of 127 with model NVAR for Validation 2\n",
            "14 - NVAR with avg smape 4.11: \n",
            "Model Number: 15 of 127 with model NVAR for Validation 2\n",
            "15 - NVAR with avg smape 3.56: \n",
            "Model Number: 16 of 127 with model ETS for Validation 2\n",
            "ETS error TypeError(\"__init__() got an unexpected keyword argument 'damped_trend'\")\n",
            "16 - ETS with avg smape 5.84: \n",
            "Model Number: 17 of 127 with model WindowRegression for Validation 2\n",
            "📈 17 - WindowRegression with avg smape 3.18: \n",
            "Model Number: 18 of 127 with model WindowRegression for Validation 2\n",
            "📈 18 - WindowRegression with avg smape 3.12: \n",
            "Model Number: 19 of 127 with model NVAR for Validation 2\n",
            "19 - NVAR with avg smape 4.22: \n",
            "Model Number: 20 of 127 with model LastValueNaive for Validation 2\n"
          ]
        },
        {
          "output_type": "stream",
          "name": "stderr",
          "text": [
            "/usr/local/lib/python3.7/dist-packages/sklearn/svm/_base.py:1208: ConvergenceWarning: Liblinear failed to converge, increase the number of iterations.\n",
            "  ConvergenceWarning,\n",
            "/usr/local/lib/python3.7/dist-packages/sklearn/svm/_base.py:1208: ConvergenceWarning: Liblinear failed to converge, increase the number of iterations.\n",
            "  ConvergenceWarning,\n",
            "/usr/local/lib/python3.7/dist-packages/sklearn/svm/_base.py:1208: ConvergenceWarning: Liblinear failed to converge, increase the number of iterations.\n",
            "  ConvergenceWarning,\n",
            "/usr/local/lib/python3.7/dist-packages/sklearn/svm/_base.py:1208: ConvergenceWarning: Liblinear failed to converge, increase the number of iterations.\n",
            "  ConvergenceWarning,\n",
            "/usr/local/lib/python3.7/dist-packages/sklearn/svm/_base.py:1208: ConvergenceWarning: Liblinear failed to converge, increase the number of iterations.\n",
            "  ConvergenceWarning,\n",
            "/usr/local/lib/python3.7/dist-packages/sklearn/svm/_base.py:1208: ConvergenceWarning: Liblinear failed to converge, increase the number of iterations.\n",
            "  ConvergenceWarning,\n",
            "/usr/local/lib/python3.7/dist-packages/sklearn/svm/_base.py:1208: ConvergenceWarning: Liblinear failed to converge, increase the number of iterations.\n",
            "  ConvergenceWarning,\n",
            "/usr/local/lib/python3.7/dist-packages/sklearn/svm/_base.py:1208: ConvergenceWarning: Liblinear failed to converge, increase the number of iterations.\n",
            "  ConvergenceWarning,\n",
            "/usr/local/lib/python3.7/dist-packages/sklearn/svm/_base.py:1208: ConvergenceWarning: Liblinear failed to converge, increase the number of iterations.\n",
            "  ConvergenceWarning,\n",
            "/usr/local/lib/python3.7/dist-packages/sklearn/svm/_base.py:1208: ConvergenceWarning: Liblinear failed to converge, increase the number of iterations.\n",
            "  ConvergenceWarning,\n",
            "/usr/local/lib/python3.7/dist-packages/sklearn/svm/_base.py:1208: ConvergenceWarning: Liblinear failed to converge, increase the number of iterations.\n",
            "  ConvergenceWarning,\n",
            "/usr/local/lib/python3.7/dist-packages/sklearn/svm/_base.py:1208: ConvergenceWarning: Liblinear failed to converge, increase the number of iterations.\n",
            "  ConvergenceWarning,\n",
            "/usr/local/lib/python3.7/dist-packages/sklearn/svm/_base.py:1208: ConvergenceWarning: Liblinear failed to converge, increase the number of iterations.\n",
            "  ConvergenceWarning,\n",
            "/usr/local/lib/python3.7/dist-packages/sklearn/svm/_base.py:1208: ConvergenceWarning: Liblinear failed to converge, increase the number of iterations.\n",
            "  ConvergenceWarning,\n",
            "/usr/local/lib/python3.7/dist-packages/sklearn/svm/_base.py:1208: ConvergenceWarning: Liblinear failed to converge, increase the number of iterations.\n",
            "  ConvergenceWarning,\n"
          ]
        },
        {
          "output_type": "stream",
          "name": "stdout",
          "text": [
            "20 - LastValueNaive with avg smape 4.76: \n",
            "Model Number: 21 of 127 with model DatepartRegression for Validation 2\n",
            "21 - DatepartRegression with avg smape 4.2: \n",
            "Model Number: 22 of 127 with model UnivariateMotif for Validation 2\n",
            "📈 22 - UnivariateMotif with avg smape 2.54: \n",
            "Model Number: 23 of 127 with model NVAR for Validation 2\n",
            "23 - NVAR with avg smape 4.88: \n",
            "Model Number: 24 of 127 with model LastValueNaive for Validation 2\n"
          ]
        },
        {
          "output_type": "stream",
          "name": "stderr",
          "text": [
            "/usr/local/lib/python3.7/dist-packages/sklearn/neural_network/_multilayer_perceptron.py:549: ConvergenceWarning: lbfgs failed to converge (status=1):\n",
            "STOP: TOTAL NO. of ITERATIONS REACHED LIMIT.\n",
            "\n",
            "Increase the number of iterations (max_iter) or scale the data as shown in:\n",
            "    https://scikit-learn.org/stable/modules/preprocessing.html\n",
            "  self.n_iter_ = _check_optimize_result(\"lbfgs\", opt_res, self.max_iter)\n"
          ]
        },
        {
          "output_type": "stream",
          "name": "stdout",
          "text": [
            "24 - LastValueNaive with avg smape 4.49: \n",
            "Model Number: 25 of 127 with model LastValueNaive for Validation 2\n",
            "25 - LastValueNaive with avg smape 3.87: \n",
            "Model Number: 26 of 127 with model LastValueNaive for Validation 2\n",
            "26 - LastValueNaive with avg smape 3.87: \n",
            "Model Number: 27 of 127 with model LastValueNaive for Validation 2\n",
            "27 - LastValueNaive with avg smape 3.87: \n",
            "Model Number: 28 of 127 with model LastValueNaive for Validation 2\n",
            "28 - LastValueNaive with avg smape 3.87: \n",
            "Model Number: 29 of 127 with model LastValueNaive for Validation 2\n",
            "29 - LastValueNaive with avg smape 3.87: \n",
            "Model Number: 30 of 127 with model LastValueNaive for Validation 2\n",
            "30 - LastValueNaive with avg smape 3.87: \n",
            "Model Number: 31 of 127 with model AverageValueNaive for Validation 2\n",
            "31 - AverageValueNaive with avg smape 4.72: \n",
            "Model Number: 32 of 127 with model WindowRegression for Validation 2\n",
            "32 - WindowRegression with avg smape 3.51: \n",
            "Model Number: 33 of 127 with model SectionalMotif for Validation 2\n",
            "33 - SectionalMotif with avg smape 4.28: \n",
            "Model Number: 34 of 127 with model NVAR for Validation 2\n"
          ]
        },
        {
          "output_type": "stream",
          "name": "stderr",
          "text": [
            "/usr/local/lib/python3.7/dist-packages/sklearn/svm/_base.py:1208: ConvergenceWarning: Liblinear failed to converge, increase the number of iterations.\n",
            "  ConvergenceWarning,\n",
            "/usr/local/lib/python3.7/dist-packages/sklearn/svm/_base.py:1208: ConvergenceWarning: Liblinear failed to converge, increase the number of iterations.\n",
            "  ConvergenceWarning,\n",
            "/usr/local/lib/python3.7/dist-packages/sklearn/svm/_base.py:1208: ConvergenceWarning: Liblinear failed to converge, increase the number of iterations.\n",
            "  ConvergenceWarning,\n",
            "/usr/local/lib/python3.7/dist-packages/sklearn/svm/_base.py:1208: ConvergenceWarning: Liblinear failed to converge, increase the number of iterations.\n",
            "  ConvergenceWarning,\n",
            "/usr/local/lib/python3.7/dist-packages/sklearn/svm/_base.py:1208: ConvergenceWarning: Liblinear failed to converge, increase the number of iterations.\n",
            "  ConvergenceWarning,\n",
            "/usr/local/lib/python3.7/dist-packages/sklearn/svm/_base.py:1208: ConvergenceWarning: Liblinear failed to converge, increase the number of iterations.\n",
            "  ConvergenceWarning,\n",
            "/usr/local/lib/python3.7/dist-packages/sklearn/svm/_base.py:1208: ConvergenceWarning: Liblinear failed to converge, increase the number of iterations.\n",
            "  ConvergenceWarning,\n",
            "/usr/local/lib/python3.7/dist-packages/sklearn/svm/_base.py:1208: ConvergenceWarning: Liblinear failed to converge, increase the number of iterations.\n",
            "  ConvergenceWarning,\n",
            "/usr/local/lib/python3.7/dist-packages/sklearn/svm/_base.py:1208: ConvergenceWarning: Liblinear failed to converge, increase the number of iterations.\n",
            "  ConvergenceWarning,\n",
            "/usr/local/lib/python3.7/dist-packages/sklearn/svm/_base.py:1208: ConvergenceWarning: Liblinear failed to converge, increase the number of iterations.\n",
            "  ConvergenceWarning,\n"
          ]
        },
        {
          "output_type": "stream",
          "name": "stdout",
          "text": [
            "34 - NVAR with avg smape 4.47: \n",
            "Model Number: 35 of 127 with model WindowRegression for Validation 2\n"
          ]
        },
        {
          "output_type": "stream",
          "name": "stderr",
          "text": [
            "[Parallel(n_jobs=-2)]: Using backend SequentialBackend with 1 concurrent workers.\n",
            "[Parallel(n_jobs=-2)]: Done 100 out of 100 | elapsed:    0.1s finished\n",
            "[Parallel(n_jobs=1)]: Using backend SequentialBackend with 1 concurrent workers.\n",
            "[Parallel(n_jobs=1)]: Done 100 out of 100 | elapsed:    0.0s finished\n",
            "[Parallel(n_jobs=1)]: Using backend SequentialBackend with 1 concurrent workers.\n",
            "[Parallel(n_jobs=1)]: Done 100 out of 100 | elapsed:    0.0s finished\n",
            "[Parallel(n_jobs=1)]: Using backend SequentialBackend with 1 concurrent workers.\n",
            "[Parallel(n_jobs=1)]: Done 100 out of 100 | elapsed:    0.0s finished\n",
            "[Parallel(n_jobs=1)]: Using backend SequentialBackend with 1 concurrent workers.\n",
            "[Parallel(n_jobs=1)]: Done 100 out of 100 | elapsed:    0.0s finished\n",
            "[Parallel(n_jobs=1)]: Using backend SequentialBackend with 1 concurrent workers.\n",
            "[Parallel(n_jobs=1)]: Done 100 out of 100 | elapsed:    0.0s finished\n",
            "[Parallel(n_jobs=1)]: Using backend SequentialBackend with 1 concurrent workers.\n",
            "[Parallel(n_jobs=1)]: Done 100 out of 100 | elapsed:    0.0s finished\n",
            "[Parallel(n_jobs=1)]: Using backend SequentialBackend with 1 concurrent workers.\n",
            "[Parallel(n_jobs=1)]: Done 100 out of 100 | elapsed:    0.0s finished\n",
            "[Parallel(n_jobs=1)]: Using backend SequentialBackend with 1 concurrent workers.\n",
            "[Parallel(n_jobs=1)]: Done 100 out of 100 | elapsed:    0.0s finished\n",
            "[Parallel(n_jobs=1)]: Using backend SequentialBackend with 1 concurrent workers.\n",
            "[Parallel(n_jobs=1)]: Done 100 out of 100 | elapsed:    0.0s finished\n",
            "[Parallel(n_jobs=1)]: Using backend SequentialBackend with 1 concurrent workers.\n",
            "[Parallel(n_jobs=1)]: Done 100 out of 100 | elapsed:    0.0s finished\n"
          ]
        },
        {
          "output_type": "stream",
          "name": "stdout",
          "text": [
            "35 - WindowRegression with avg smape 2.89: \n",
            "Model Number: 36 of 127 with model MultivariateRegression for Validation 2\n"
          ]
        },
        {
          "output_type": "stream",
          "name": "stderr",
          "text": [
            "[Parallel(n_jobs=-2)]: Using backend SequentialBackend with 1 concurrent workers.\n",
            "[Parallel(n_jobs=-2)]: Done 200 out of 200 | elapsed:    0.3s finished\n",
            "[Parallel(n_jobs=1)]: Using backend SequentialBackend with 1 concurrent workers.\n",
            "[Parallel(n_jobs=1)]: Done 200 out of 200 | elapsed:    0.0s finished\n",
            "[Parallel(n_jobs=1)]: Using backend SequentialBackend with 1 concurrent workers.\n",
            "[Parallel(n_jobs=1)]: Done 200 out of 200 | elapsed:    0.0s finished\n",
            "[Parallel(n_jobs=1)]: Using backend SequentialBackend with 1 concurrent workers.\n",
            "[Parallel(n_jobs=1)]: Done 200 out of 200 | elapsed:    0.0s finished\n",
            "[Parallel(n_jobs=1)]: Using backend SequentialBackend with 1 concurrent workers.\n",
            "[Parallel(n_jobs=1)]: Done 200 out of 200 | elapsed:    0.0s finished\n",
            "[Parallel(n_jobs=1)]: Using backend SequentialBackend with 1 concurrent workers.\n",
            "[Parallel(n_jobs=1)]: Done 200 out of 200 | elapsed:    0.0s finished\n",
            "[Parallel(n_jobs=1)]: Using backend SequentialBackend with 1 concurrent workers.\n",
            "[Parallel(n_jobs=1)]: Done 200 out of 200 | elapsed:    0.0s finished\n",
            "[Parallel(n_jobs=1)]: Using backend SequentialBackend with 1 concurrent workers.\n",
            "[Parallel(n_jobs=1)]: Done 200 out of 200 | elapsed:    0.0s finished\n",
            "[Parallel(n_jobs=1)]: Using backend SequentialBackend with 1 concurrent workers.\n",
            "[Parallel(n_jobs=1)]: Done 200 out of 200 | elapsed:    0.0s finished\n",
            "[Parallel(n_jobs=1)]: Using backend SequentialBackend with 1 concurrent workers.\n",
            "[Parallel(n_jobs=1)]: Done 200 out of 200 | elapsed:    0.0s finished\n",
            "[Parallel(n_jobs=1)]: Using backend SequentialBackend with 1 concurrent workers.\n",
            "[Parallel(n_jobs=1)]: Done 200 out of 200 | elapsed:    0.0s finished\n"
          ]
        },
        {
          "output_type": "stream",
          "name": "stdout",
          "text": [
            "36 - MultivariateRegression with avg smape 2.71: \n",
            "Model Number: 37 of 127 with model AverageValueNaive for Validation 2\n",
            "37 - AverageValueNaive with avg smape 4.75: \n",
            "Model Number: 38 of 127 with model DatepartRegression for Validation 2\n",
            "38 - DatepartRegression with avg smape 4.83: \n",
            "Model Number: 39 of 127 with model UnobservedComponents for Validation 2\n",
            "39 - UnobservedComponents with avg smape 3.94: \n",
            "Model Number: 40 of 127 with model MultivariateRegression for Validation 2\n"
          ]
        },
        {
          "output_type": "stream",
          "name": "stderr",
          "text": [
            "[Parallel(n_jobs=-2)]: Using backend SequentialBackend with 1 concurrent workers.\n",
            "[Parallel(n_jobs=-2)]: Done 200 out of 200 | elapsed:    0.3s finished\n",
            "[Parallel(n_jobs=1)]: Using backend SequentialBackend with 1 concurrent workers.\n",
            "[Parallel(n_jobs=1)]: Done 200 out of 200 | elapsed:    0.0s finished\n",
            "[Parallel(n_jobs=1)]: Using backend SequentialBackend with 1 concurrent workers.\n",
            "[Parallel(n_jobs=1)]: Done 200 out of 200 | elapsed:    0.0s finished\n",
            "[Parallel(n_jobs=1)]: Using backend SequentialBackend with 1 concurrent workers.\n",
            "[Parallel(n_jobs=1)]: Done 200 out of 200 | elapsed:    0.0s finished\n",
            "[Parallel(n_jobs=1)]: Using backend SequentialBackend with 1 concurrent workers.\n",
            "[Parallel(n_jobs=1)]: Done 200 out of 200 | elapsed:    0.0s finished\n",
            "[Parallel(n_jobs=1)]: Using backend SequentialBackend with 1 concurrent workers.\n",
            "[Parallel(n_jobs=1)]: Done 200 out of 200 | elapsed:    0.0s finished\n",
            "[Parallel(n_jobs=1)]: Using backend SequentialBackend with 1 concurrent workers.\n",
            "[Parallel(n_jobs=1)]: Done 200 out of 200 | elapsed:    0.0s finished\n",
            "[Parallel(n_jobs=1)]: Using backend SequentialBackend with 1 concurrent workers.\n",
            "[Parallel(n_jobs=1)]: Done 200 out of 200 | elapsed:    0.0s finished\n",
            "[Parallel(n_jobs=1)]: Using backend SequentialBackend with 1 concurrent workers.\n",
            "[Parallel(n_jobs=1)]: Done 200 out of 200 | elapsed:    0.0s finished\n",
            "[Parallel(n_jobs=1)]: Using backend SequentialBackend with 1 concurrent workers.\n",
            "[Parallel(n_jobs=1)]: Done 200 out of 200 | elapsed:    0.0s finished\n",
            "[Parallel(n_jobs=1)]: Using backend SequentialBackend with 1 concurrent workers.\n",
            "[Parallel(n_jobs=1)]: Done 200 out of 200 | elapsed:    0.0s finished\n"
          ]
        },
        {
          "output_type": "stream",
          "name": "stdout",
          "text": [
            "40 - MultivariateRegression with avg smape 2.54: \n",
            "Model Number: 41 of 127 with model SectionalMotif for Validation 2\n",
            "41 - SectionalMotif with avg smape 4.06: \n",
            "Model Number: 42 of 127 with model SectionalMotif for Validation 2\n",
            "42 - SectionalMotif with avg smape 3.69: \n",
            "Model Number: 43 of 127 with model UnobservedComponents for Validation 2\n",
            "43 - UnobservedComponents with avg smape 5.33: \n",
            "Model Number: 44 of 127 with model UnobservedComponents for Validation 2\n",
            "44 - UnobservedComponents with avg smape 3.91: \n",
            "Model Number: 45 of 127 with model WindowRegression for Validation 2\n",
            "45 - WindowRegression with avg smape 200.0: \n",
            "Model Number: 46 of 127 with model UnobservedComponents for Validation 2\n",
            "46 - UnobservedComponents with avg smape 4.37: \n",
            "Model Number: 47 of 127 with model ETS for Validation 2\n",
            "ETS error TypeError(\"__init__() got an unexpected keyword argument 'damped_trend'\")\n",
            "47 - ETS with avg smape 3.77: \n",
            "Model Number: 48 of 127 with model WindowRegression for Validation 2\n",
            "48 - WindowRegression with avg smape 4.88: \n",
            "Model Number: 49 of 127 with model AverageValueNaive for Validation 2\n",
            "49 - AverageValueNaive with avg smape 3.87: \n",
            "Model Number: 50 of 127 with model ETS for Validation 2\n",
            "ETS error TypeError(\"__init__() got an unexpected keyword argument 'damped_trend'\")\n"
          ]
        },
        {
          "output_type": "stream",
          "name": "stderr",
          "text": [
            "/usr/local/lib/python3.7/dist-packages/sklearn/svm/_base.py:1208: ConvergenceWarning: Liblinear failed to converge, increase the number of iterations.\n",
            "  ConvergenceWarning,\n"
          ]
        },
        {
          "output_type": "stream",
          "name": "stdout",
          "text": [
            "50 - ETS with avg smape 3.87: \n",
            "Model Number: 51 of 127 with model WindowRegression for Validation 2\n"
          ]
        },
        {
          "output_type": "stream",
          "name": "stderr",
          "text": [
            "[Parallel(n_jobs=-2)]: Using backend SequentialBackend with 1 concurrent workers.\n",
            "[Parallel(n_jobs=-2)]: Done 1000 out of 1000 | elapsed:    1.0s finished\n",
            "[Parallel(n_jobs=1)]: Using backend SequentialBackend with 1 concurrent workers.\n",
            "[Parallel(n_jobs=1)]: Done 1000 out of 1000 | elapsed:    0.1s finished\n",
            "[Parallel(n_jobs=1)]: Using backend SequentialBackend with 1 concurrent workers.\n",
            "[Parallel(n_jobs=1)]: Done 1000 out of 1000 | elapsed:    0.1s finished\n",
            "[Parallel(n_jobs=1)]: Using backend SequentialBackend with 1 concurrent workers.\n",
            "[Parallel(n_jobs=1)]: Done 1000 out of 1000 | elapsed:    0.1s finished\n",
            "[Parallel(n_jobs=1)]: Using backend SequentialBackend with 1 concurrent workers.\n",
            "[Parallel(n_jobs=1)]: Done 1000 out of 1000 | elapsed:    0.1s finished\n",
            "[Parallel(n_jobs=1)]: Using backend SequentialBackend with 1 concurrent workers.\n",
            "[Parallel(n_jobs=1)]: Done 1000 out of 1000 | elapsed:    0.1s finished\n",
            "[Parallel(n_jobs=1)]: Using backend SequentialBackend with 1 concurrent workers.\n",
            "[Parallel(n_jobs=1)]: Done 1000 out of 1000 | elapsed:    0.1s finished\n",
            "[Parallel(n_jobs=1)]: Using backend SequentialBackend with 1 concurrent workers.\n",
            "[Parallel(n_jobs=1)]: Done 1000 out of 1000 | elapsed:    0.1s finished\n",
            "[Parallel(n_jobs=1)]: Using backend SequentialBackend with 1 concurrent workers.\n",
            "[Parallel(n_jobs=1)]: Done 1000 out of 1000 | elapsed:    0.1s finished\n",
            "[Parallel(n_jobs=1)]: Using backend SequentialBackend with 1 concurrent workers.\n",
            "[Parallel(n_jobs=1)]: Done 1000 out of 1000 | elapsed:    0.1s finished\n",
            "[Parallel(n_jobs=1)]: Using backend SequentialBackend with 1 concurrent workers.\n",
            "[Parallel(n_jobs=1)]: Done 1000 out of 1000 | elapsed:    0.1s finished\n"
          ]
        },
        {
          "output_type": "stream",
          "name": "stdout",
          "text": [
            "51 - WindowRegression with avg smape 5.77: \n",
            "Model Number: 52 of 127 with model UnivariateMotif for Validation 2\n",
            "52 - UnivariateMotif with avg smape 3.39: \n",
            "Model Number: 53 of 127 with model UnobservedComponents for Validation 2\n",
            "53 - UnobservedComponents with avg smape 4.41: \n",
            "Model Number: 54 of 127 with model MultivariateRegression for Validation 2\n"
          ]
        },
        {
          "output_type": "stream",
          "name": "stderr",
          "text": [
            "[Parallel(n_jobs=-2)]: Using backend SequentialBackend with 1 concurrent workers.\n",
            "[Parallel(n_jobs=-2)]: Done 200 out of 200 | elapsed:    0.3s finished\n",
            "[Parallel(n_jobs=1)]: Using backend SequentialBackend with 1 concurrent workers.\n",
            "[Parallel(n_jobs=1)]: Done 200 out of 200 | elapsed:    0.0s finished\n",
            "[Parallel(n_jobs=1)]: Using backend SequentialBackend with 1 concurrent workers.\n",
            "[Parallel(n_jobs=1)]: Done 200 out of 200 | elapsed:    0.0s finished\n",
            "[Parallel(n_jobs=1)]: Using backend SequentialBackend with 1 concurrent workers.\n",
            "[Parallel(n_jobs=1)]: Done 200 out of 200 | elapsed:    0.0s finished\n",
            "[Parallel(n_jobs=1)]: Using backend SequentialBackend with 1 concurrent workers.\n",
            "[Parallel(n_jobs=1)]: Done 200 out of 200 | elapsed:    0.0s finished\n",
            "[Parallel(n_jobs=1)]: Using backend SequentialBackend with 1 concurrent workers.\n",
            "[Parallel(n_jobs=1)]: Done 200 out of 200 | elapsed:    0.0s finished\n",
            "[Parallel(n_jobs=1)]: Using backend SequentialBackend with 1 concurrent workers.\n",
            "[Parallel(n_jobs=1)]: Done 200 out of 200 | elapsed:    0.0s finished\n",
            "[Parallel(n_jobs=1)]: Using backend SequentialBackend with 1 concurrent workers.\n",
            "[Parallel(n_jobs=1)]: Done 200 out of 200 | elapsed:    0.0s finished\n",
            "[Parallel(n_jobs=1)]: Using backend SequentialBackend with 1 concurrent workers.\n",
            "[Parallel(n_jobs=1)]: Done 200 out of 200 | elapsed:    0.0s finished\n",
            "[Parallel(n_jobs=1)]: Using backend SequentialBackend with 1 concurrent workers.\n",
            "[Parallel(n_jobs=1)]: Done 200 out of 200 | elapsed:    0.0s finished\n",
            "[Parallel(n_jobs=1)]: Using backend SequentialBackend with 1 concurrent workers.\n",
            "[Parallel(n_jobs=1)]: Done 200 out of 200 | elapsed:    0.0s finished\n"
          ]
        },
        {
          "output_type": "stream",
          "name": "stdout",
          "text": [
            "📈 54 - MultivariateRegression with avg smape 2.25: \n",
            "Model Number: 55 of 127 with model UnobservedComponents for Validation 2\n",
            "55 - UnobservedComponents with avg smape 4.41: \n",
            "Model Number: 56 of 127 with model ETS for Validation 2\n",
            "ETS error TypeError(\"__init__() got an unexpected keyword argument 'damped_trend'\")\n",
            "56 - ETS with avg smape 3.79: \n",
            "Model Number: 57 of 127 with model ETS for Validation 2\n",
            "ETS error TypeError(\"__init__() got an unexpected keyword argument 'damped_trend'\")\n",
            "57 - ETS with avg smape 4.41: \n",
            "Model Number: 58 of 127 with model ETS for Validation 2\n",
            "ETS error TypeError(\"__init__() got an unexpected keyword argument 'damped_trend'\")\n",
            "58 - ETS with avg smape 3.82: \n",
            "Model Number: 59 of 127 with model MultivariateRegression for Validation 2\n"
          ]
        },
        {
          "output_type": "stream",
          "name": "stderr",
          "text": [
            "[Parallel(n_jobs=-2)]: Using backend SequentialBackend with 1 concurrent workers.\n",
            "[Parallel(n_jobs=-2)]: Done 200 out of 200 | elapsed:    0.3s finished\n",
            "[Parallel(n_jobs=1)]: Using backend SequentialBackend with 1 concurrent workers.\n",
            "[Parallel(n_jobs=1)]: Done 200 out of 200 | elapsed:    0.0s finished\n",
            "[Parallel(n_jobs=1)]: Using backend SequentialBackend with 1 concurrent workers.\n",
            "[Parallel(n_jobs=1)]: Done 200 out of 200 | elapsed:    0.0s finished\n",
            "[Parallel(n_jobs=1)]: Using backend SequentialBackend with 1 concurrent workers.\n",
            "[Parallel(n_jobs=1)]: Done 200 out of 200 | elapsed:    0.0s finished\n",
            "[Parallel(n_jobs=1)]: Using backend SequentialBackend with 1 concurrent workers.\n",
            "[Parallel(n_jobs=1)]: Done 200 out of 200 | elapsed:    0.0s finished\n",
            "[Parallel(n_jobs=1)]: Using backend SequentialBackend with 1 concurrent workers.\n",
            "[Parallel(n_jobs=1)]: Done 200 out of 200 | elapsed:    0.0s finished\n",
            "[Parallel(n_jobs=1)]: Using backend SequentialBackend with 1 concurrent workers.\n",
            "[Parallel(n_jobs=1)]: Done 200 out of 200 | elapsed:    0.0s finished\n",
            "[Parallel(n_jobs=1)]: Using backend SequentialBackend with 1 concurrent workers.\n",
            "[Parallel(n_jobs=1)]: Done 200 out of 200 | elapsed:    0.0s finished\n",
            "[Parallel(n_jobs=1)]: Using backend SequentialBackend with 1 concurrent workers.\n",
            "[Parallel(n_jobs=1)]: Done 200 out of 200 | elapsed:    0.0s finished\n",
            "[Parallel(n_jobs=1)]: Using backend SequentialBackend with 1 concurrent workers.\n",
            "[Parallel(n_jobs=1)]: Done 200 out of 200 | elapsed:    0.0s finished\n",
            "[Parallel(n_jobs=1)]: Using backend SequentialBackend with 1 concurrent workers.\n",
            "[Parallel(n_jobs=1)]: Done 200 out of 200 | elapsed:    0.0s finished\n"
          ]
        },
        {
          "output_type": "stream",
          "name": "stdout",
          "text": [
            "59 - MultivariateRegression with avg smape 2.63: \n",
            "Model Number: 60 of 127 with model MultivariateRegression for Validation 2\n"
          ]
        },
        {
          "output_type": "stream",
          "name": "stderr",
          "text": [
            "[Parallel(n_jobs=-2)]: Using backend SequentialBackend with 1 concurrent workers.\n",
            "[Parallel(n_jobs=-2)]: Done 200 out of 200 | elapsed:    0.3s finished\n",
            "[Parallel(n_jobs=1)]: Using backend SequentialBackend with 1 concurrent workers.\n",
            "[Parallel(n_jobs=1)]: Done 200 out of 200 | elapsed:    0.0s finished\n",
            "[Parallel(n_jobs=1)]: Using backend SequentialBackend with 1 concurrent workers.\n",
            "[Parallel(n_jobs=1)]: Done 200 out of 200 | elapsed:    0.0s finished\n",
            "[Parallel(n_jobs=1)]: Using backend SequentialBackend with 1 concurrent workers.\n",
            "[Parallel(n_jobs=1)]: Done 200 out of 200 | elapsed:    0.0s finished\n",
            "[Parallel(n_jobs=1)]: Using backend SequentialBackend with 1 concurrent workers.\n",
            "[Parallel(n_jobs=1)]: Done 200 out of 200 | elapsed:    0.0s finished\n",
            "[Parallel(n_jobs=1)]: Using backend SequentialBackend with 1 concurrent workers.\n",
            "[Parallel(n_jobs=1)]: Done 200 out of 200 | elapsed:    0.0s finished\n",
            "[Parallel(n_jobs=1)]: Using backend SequentialBackend with 1 concurrent workers.\n",
            "[Parallel(n_jobs=1)]: Done 200 out of 200 | elapsed:    0.0s finished\n",
            "[Parallel(n_jobs=1)]: Using backend SequentialBackend with 1 concurrent workers.\n",
            "[Parallel(n_jobs=1)]: Done 200 out of 200 | elapsed:    0.0s finished\n",
            "[Parallel(n_jobs=1)]: Using backend SequentialBackend with 1 concurrent workers.\n",
            "[Parallel(n_jobs=1)]: Done 200 out of 200 | elapsed:    0.0s finished\n",
            "[Parallel(n_jobs=1)]: Using backend SequentialBackend with 1 concurrent workers.\n",
            "[Parallel(n_jobs=1)]: Done 200 out of 200 | elapsed:    0.0s finished\n",
            "[Parallel(n_jobs=1)]: Using backend SequentialBackend with 1 concurrent workers.\n",
            "[Parallel(n_jobs=1)]: Done 200 out of 200 | elapsed:    0.0s finished\n"
          ]
        },
        {
          "output_type": "stream",
          "name": "stdout",
          "text": [
            "60 - MultivariateRegression with avg smape 2.32: \n",
            "Model Number: 61 of 127 with model UnivariateMotif for Validation 2\n",
            "61 - UnivariateMotif with avg smape 5.61: \n",
            "Model Number: 62 of 127 with model ETS for Validation 2\n",
            "ETS error TypeError(\"__init__() got an unexpected keyword argument 'damped_trend'\")\n",
            "62 - ETS with avg smape 3.98: \n",
            "Model Number: 63 of 127 with model ETS for Validation 2\n",
            "ETS error TypeError(\"__init__() got an unexpected keyword argument 'damped_trend'\")\n",
            "63 - ETS with avg smape 3.86: \n",
            "Model Number: 64 of 127 with model UnobservedComponents for Validation 2\n",
            "64 - UnobservedComponents with avg smape 3.69: \n",
            "Model Number: 65 of 127 with model AverageValueNaive for Validation 2\n",
            "65 - AverageValueNaive with avg smape 3.46: \n",
            "Model Number: 66 of 127 with model AverageValueNaive for Validation 2\n",
            "66 - AverageValueNaive with avg smape 3.88: \n",
            "Model Number: 67 of 127 with model SeasonalNaive for Validation 2\n",
            "67 - SeasonalNaive with avg smape 3.89: \n",
            "Model Number: 68 of 127 with model MultivariateMotif for Validation 2\n",
            "68 - MultivariateMotif with avg smape 5.2: \n",
            "Model Number: 69 of 127 with model SeasonalNaive for Validation 2\n",
            "69 - SeasonalNaive with avg smape 3.89: \n",
            "Model Number: 70 of 127 with model SeasonalNaive for Validation 2\n",
            "70 - SeasonalNaive with avg smape 3.9: \n",
            "Model Number: 71 of 127 with model SeasonalNaive for Validation 2\n",
            "71 - SeasonalNaive with avg smape 2.91: \n",
            "Model Number: 72 of 127 with model UnobservedComponents for Validation 2\n",
            "72 - UnobservedComponents with avg smape 4.55: \n",
            "Model Number: 73 of 127 with model SeasonalNaive for Validation 2\n",
            "73 - SeasonalNaive with avg smape 4.47: \n",
            "Model Number: 74 of 127 with model AverageValueNaive for Validation 2\n",
            "74 - AverageValueNaive with avg smape 4.55: \n",
            "Model Number: 75 of 127 with model MultivariateMotif for Validation 2\n",
            "75 - MultivariateMotif with avg smape 2.86: \n",
            "Model Number: 76 of 127 with model AverageValueNaive for Validation 2\n",
            "76 - AverageValueNaive with avg smape 4.45: \n",
            "Model Number: 77 of 127 with model GLS for Validation 2\n",
            "77 - GLS with avg smape 4.37: \n",
            "Model Number: 78 of 127 with model GLS for Validation 2\n",
            "78 - GLS with avg smape 4.37: \n",
            "Model Number: 79 of 127 with model AverageValueNaive for Validation 2\n",
            "79 - AverageValueNaive with avg smape 3.87: \n",
            "Model Number: 80 of 127 with model MultivariateRegression for Validation 2\n",
            "80 - MultivariateRegression with avg smape 5.95: \n",
            "Model Number: 81 of 127 with model DatepartRegression for Validation 2\n",
            "81 - DatepartRegression with avg smape 5.96: \n",
            "Model Number: 82 of 127 with model GLS for Validation 2\n",
            "82 - GLS with avg smape 4.22: \n",
            "Model Number: 83 of 127 with model GLS for Validation 2\n",
            "83 - GLS with avg smape 4.45: \n",
            "Model Number: 84 of 127 with model SeasonalNaive for Validation 2\n",
            "84 - SeasonalNaive with avg smape 5.86: \n",
            "Model Number: 85 of 127 with model SectionalMotif for Validation 2\n",
            "85 - SectionalMotif with avg smape 5.02: \n",
            "Model Number: 86 of 127 with model ConstantNaive for Validation 2\n",
            "86 - ConstantNaive with avg smape 3.91: \n",
            "Model Number: 87 of 127 with model GLS for Validation 2\n",
            "87 - GLS with avg smape 4.32: \n",
            "Model Number: 88 of 127 with model MultivariateRegression for Validation 2\n",
            "📈 88 - MultivariateRegression with avg smape 1.59: \n",
            "Model Number: 89 of 127 with model UnivariateMotif for Validation 2\n",
            "89 - UnivariateMotif with avg smape 6.68: \n",
            "Model Number: 90 of 127 with model MultivariateRegression for Validation 2\n"
          ]
        },
        {
          "output_type": "stream",
          "name": "stderr",
          "text": [
            "[Parallel(n_jobs=-2)]: Using backend SequentialBackend with 1 concurrent workers.\n",
            "[Parallel(n_jobs=-2)]: Done 200 out of 200 | elapsed:    0.3s finished\n",
            "[Parallel(n_jobs=1)]: Using backend SequentialBackend with 1 concurrent workers.\n",
            "[Parallel(n_jobs=1)]: Done 200 out of 200 | elapsed:    0.0s finished\n",
            "[Parallel(n_jobs=1)]: Using backend SequentialBackend with 1 concurrent workers.\n",
            "[Parallel(n_jobs=1)]: Done 200 out of 200 | elapsed:    0.0s finished\n",
            "[Parallel(n_jobs=1)]: Using backend SequentialBackend with 1 concurrent workers.\n",
            "[Parallel(n_jobs=1)]: Done 200 out of 200 | elapsed:    0.0s finished\n",
            "[Parallel(n_jobs=1)]: Using backend SequentialBackend with 1 concurrent workers.\n",
            "[Parallel(n_jobs=1)]: Done 200 out of 200 | elapsed:    0.0s finished\n",
            "[Parallel(n_jobs=1)]: Using backend SequentialBackend with 1 concurrent workers.\n",
            "[Parallel(n_jobs=1)]: Done 200 out of 200 | elapsed:    0.0s finished\n",
            "[Parallel(n_jobs=1)]: Using backend SequentialBackend with 1 concurrent workers.\n",
            "[Parallel(n_jobs=1)]: Done 200 out of 200 | elapsed:    0.0s finished\n",
            "[Parallel(n_jobs=1)]: Using backend SequentialBackend with 1 concurrent workers.\n",
            "[Parallel(n_jobs=1)]: Done 200 out of 200 | elapsed:    0.0s finished\n",
            "[Parallel(n_jobs=1)]: Using backend SequentialBackend with 1 concurrent workers.\n",
            "[Parallel(n_jobs=1)]: Done 200 out of 200 | elapsed:    0.0s finished\n",
            "[Parallel(n_jobs=1)]: Using backend SequentialBackend with 1 concurrent workers.\n",
            "[Parallel(n_jobs=1)]: Done 200 out of 200 | elapsed:    0.0s finished\n",
            "[Parallel(n_jobs=1)]: Using backend SequentialBackend with 1 concurrent workers.\n",
            "[Parallel(n_jobs=1)]: Done 200 out of 200 | elapsed:    0.0s finished\n"
          ]
        },
        {
          "output_type": "stream",
          "name": "stdout",
          "text": [
            "90 - MultivariateRegression with avg smape 2.17: \n",
            "Model Number: 91 of 127 with model UnivariateMotif for Validation 2\n",
            "91 - UnivariateMotif with avg smape 7.05: \n",
            "Model Number: 92 of 127 with model UnivariateMotif for Validation 2\n",
            "92 - UnivariateMotif with avg smape 4.18: \n",
            "Model Number: 93 of 127 with model DatepartRegression for Validation 2\n"
          ]
        },
        {
          "output_type": "stream",
          "name": "stderr",
          "text": [
            "[Parallel(n_jobs=-2)]: Using backend SequentialBackend with 1 concurrent workers.\n"
          ]
        },
        {
          "output_type": "stream",
          "name": "stdout",
          "text": [
            "93 - DatepartRegression with avg smape 6.98: \n",
            "Model Number: 94 of 127 with model GLS for Validation 2\n"
          ]
        },
        {
          "output_type": "stream",
          "name": "stderr",
          "text": [
            "[Parallel(n_jobs=-2)]: Done 1000 out of 1000 | elapsed:    1.4s finished\n",
            "[Parallel(n_jobs=1)]: Using backend SequentialBackend with 1 concurrent workers.\n",
            "[Parallel(n_jobs=1)]: Done 1000 out of 1000 | elapsed:    0.1s finished\n"
          ]
        },
        {
          "output_type": "stream",
          "name": "stdout",
          "text": [
            "94 - GLS with avg smape 3.61: \n",
            "Model Number: 95 of 127 with model DatepartRegression for Validation 2\n"
          ]
        },
        {
          "output_type": "stream",
          "name": "stderr",
          "text": [
            "[Parallel(n_jobs=-2)]: Using backend SequentialBackend with 1 concurrent workers.\n",
            "[Parallel(n_jobs=-2)]: Done 100 out of 100 | elapsed:    0.1s finished\n",
            "[Parallel(n_jobs=1)]: Using backend SequentialBackend with 1 concurrent workers.\n",
            "[Parallel(n_jobs=1)]: Done 100 out of 100 | elapsed:    0.0s finished\n"
          ]
        },
        {
          "output_type": "stream",
          "name": "stdout",
          "text": [
            "95 - DatepartRegression with avg smape 6.77: \n",
            "Model Number: 96 of 127 with model DatepartRegression for Validation 2\n",
            "96 - DatepartRegression with avg smape 14.49: \n",
            "Model Number: 97 of 127 with model MultivariateMotif for Validation 2\n",
            "97 - MultivariateMotif with avg smape 2.39: \n",
            "Model Number: 98 of 127 with model GLS for Validation 2\n",
            "98 - GLS with avg smape 4.08: \n"
          ]
        },
        {
          "output_type": "stream",
          "name": "stderr",
          "text": [
            "/usr/local/lib/python3.7/dist-packages/sklearn/svm/_base.py:1208: ConvergenceWarning: Liblinear failed to converge, increase the number of iterations.\n",
            "  ConvergenceWarning,\n"
          ]
        },
        {
          "output_type": "stream",
          "name": "stdout",
          "text": [
            "Model Number: 99 of 127 with model SectionalMotif for Validation 2\n",
            "99 - SectionalMotif with avg smape 2.24: \n",
            "Model Number: 100 of 127 with model ConstantNaive for Validation 2\n",
            "100 - ConstantNaive with avg smape 3.87: \n",
            "Model Number: 101 of 127 with model SeasonalNaive for Validation 2\n",
            "101 - SeasonalNaive with avg smape 3.92: \n",
            "Model Number: 102 of 127 with model MultivariateMotif for Validation 2\n",
            "102 - MultivariateMotif with avg smape 2.49: \n",
            "Model Number: 103 of 127 with model UnivariateMotif for Validation 2\n",
            "103 - UnivariateMotif with avg smape 4.19: \n",
            "Model Number: 104 of 127 with model SeasonalNaive for Validation 2\n",
            "104 - SeasonalNaive with avg smape 2.87: \n",
            "Model Number: 105 of 127 with model SectionalMotif for Validation 2\n",
            "105 - SectionalMotif with avg smape 2.45: \n",
            "Model Number: 106 of 127 with model FBProphet for Validation 2\n"
          ]
        },
        {
          "output_type": "stream",
          "name": "stderr",
          "text": [
            "INFO:fbprophet:Disabling yearly seasonality. Run prophet with yearly_seasonality=True to override this.\n",
            "INFO:fbprophet:Disabling daily seasonality. Run prophet with daily_seasonality=True to override this.\n"
          ]
        },
        {
          "output_type": "stream",
          "name": "stdout",
          "text": [
            "106 - FBProphet with avg smape 2.81: \n",
            "Model Number: 107 of 127 with model ConstantNaive for Validation 2\n",
            "107 - ConstantNaive with avg smape 4.27: \n",
            "Model Number: 108 of 127 with model MultivariateMotif for Validation 2\n"
          ]
        },
        {
          "output_type": "stream",
          "name": "stderr",
          "text": [
            "INFO:fbprophet:Disabling yearly seasonality. Run prophet with yearly_seasonality=True to override this.\n",
            "INFO:fbprophet:Disabling daily seasonality. Run prophet with daily_seasonality=True to override this.\n"
          ]
        },
        {
          "output_type": "stream",
          "name": "stdout",
          "text": [
            "108 - MultivariateMotif with avg smape 3.74: \n",
            "Model Number: 109 of 127 with model FBProphet for Validation 2\n"
          ]
        },
        {
          "output_type": "stream",
          "name": "stderr",
          "text": [
            "INFO:fbprophet:Disabling yearly seasonality. Run prophet with yearly_seasonality=True to override this.\n",
            "INFO:fbprophet:Disabling daily seasonality. Run prophet with daily_seasonality=True to override this.\n",
            "INFO:fbprophet:n_changepoints greater than number of observations. Using 26.\n"
          ]
        },
        {
          "output_type": "stream",
          "name": "stdout",
          "text": [
            "109 - FBProphet with avg smape 4.06: \n",
            "Model Number: 110 of 127 with model FBProphet for Validation 2\n"
          ]
        },
        {
          "output_type": "stream",
          "name": "stderr",
          "text": [
            "INFO:fbprophet:Disabling yearly seasonality. Run prophet with yearly_seasonality=True to override this.\n",
            "INFO:fbprophet:Disabling daily seasonality. Run prophet with daily_seasonality=True to override this.\n"
          ]
        },
        {
          "output_type": "stream",
          "name": "stdout",
          "text": [
            "110 - FBProphet with avg smape 2.6: \n",
            "Model Number: 111 of 127 with model FBProphet for Validation 2\n"
          ]
        },
        {
          "output_type": "stream",
          "name": "stderr",
          "text": [
            "INFO:fbprophet:Disabling yearly seasonality. Run prophet with yearly_seasonality=True to override this.\n",
            "INFO:fbprophet:Disabling daily seasonality. Run prophet with daily_seasonality=True to override this.\n"
          ]
        },
        {
          "output_type": "stream",
          "name": "stdout",
          "text": [
            "111 - FBProphet with avg smape 4.76: \n",
            "Model Number: 112 of 127 with model FBProphet for Validation 2\n"
          ]
        },
        {
          "output_type": "stream",
          "name": "stderr",
          "text": [
            "INFO:fbprophet:Disabling yearly seasonality. Run prophet with yearly_seasonality=True to override this.\n",
            "INFO:fbprophet:Disabling daily seasonality. Run prophet with daily_seasonality=True to override this.\n"
          ]
        },
        {
          "output_type": "stream",
          "name": "stdout",
          "text": [
            "112 - FBProphet with avg smape 4.64: \n",
            "Model Number: 113 of 127 with model FBProphet for Validation 2\n",
            "113 - FBProphet with avg smape 4.86: \n",
            "Model Number: 114 of 127 with model UnivariateMotif for Validation 2\n",
            "114 - UnivariateMotif with avg smape 2.39: \n",
            "Model Number: 115 of 127 with model MultivariateMotif for Validation 2\n",
            "115 - MultivariateMotif with avg smape 1.86: \n",
            "Model Number: 116 of 127 with model SectionalMotif for Validation 2\n",
            "116 - SectionalMotif with avg smape 4.93: \n",
            "Model Number: 117 of 127 with model FBProphet for Validation 2\n"
          ]
        },
        {
          "output_type": "stream",
          "name": "stderr",
          "text": [
            "INFO:fbprophet:Disabling yearly seasonality. Run prophet with yearly_seasonality=True to override this.\n",
            "INFO:fbprophet:Disabling daily seasonality. Run prophet with daily_seasonality=True to override this.\n"
          ]
        },
        {
          "output_type": "stream",
          "name": "stdout",
          "text": [
            "117 - FBProphet with avg smape 8.97: \n",
            "Model Number: 118 of 127 with model MultivariateMotif for Validation 2\n",
            "118 - MultivariateMotif with avg smape 3.96: \n",
            "Model Number: 119 of 127 with model MultivariateMotif for Validation 2\n",
            "119 - MultivariateMotif with avg smape 2.19: \n",
            "Model Number: 120 of 127 with model GLS for Validation 2\n",
            "120 - GLS with avg smape 3.29: \n",
            "Model Number: 121 of 127 with model FBProphet for Validation 2\n"
          ]
        },
        {
          "output_type": "stream",
          "name": "stderr",
          "text": [
            "INFO:fbprophet:Disabling yearly seasonality. Run prophet with yearly_seasonality=True to override this.\n",
            "INFO:fbprophet:Disabling daily seasonality. Run prophet with daily_seasonality=True to override this.\n"
          ]
        },
        {
          "output_type": "stream",
          "name": "stdout",
          "text": [
            "121 - FBProphet with avg smape 4.04: \n",
            "Model Number: 122 of 127 with model DatepartRegression for Validation 2\n",
            "122 - DatepartRegression with avg smape 5.9: \n",
            "Model Number: 123 of 127 with model ConstantNaive for Validation 2\n",
            "123 - ConstantNaive with avg smape 14.49: \n",
            "Model Number: 124 of 127 with model ConstantNaive for Validation 2\n",
            "124 - ConstantNaive with avg smape 14.49: \n",
            "Model Number: 125 of 127 with model ConstantNaive for Validation 2\n",
            "125 - ConstantNaive with avg smape 14.49: \n",
            "Model Number: 126 of 127 with model ConstantNaive for Validation 2\n",
            "126 - ConstantNaive with avg smape 14.49: \n",
            "Model Number: 127 of 127 with model GLM for Validation 2\n",
            "127 - GLM with avg smape 14.49: \n",
            "Validation Round: 3\n",
            "Model Number: 1 of 127 with model Ensemble for Validation 3\n",
            "📈 1 - Ensemble with avg smape 2.6: \n",
            "Model Number: 2 of 127 with model NVAR for Validation 3\n",
            "2 - NVAR with avg smape 3.88: \n",
            "Model Number: 3 of 127 with model Ensemble for Validation 3\n",
            "3 - Ensemble with avg smape 3.88: \n",
            "Model Number: 4 of 127 with model Ensemble for Validation 3\n",
            "4 - Ensemble with avg smape 3.48: \n",
            "Model Number: 5 of 127 with model Ensemble for Validation 3\n",
            "ETS error TypeError(\"__init__() got an unexpected keyword argument 'damped_trend'\")\n",
            "📈 5 - Ensemble with avg smape 2.14: \n",
            "Model Number: 6 of 127 with model Ensemble for Validation 3\n",
            "6 - Ensemble with avg smape 3.42: \n",
            "Model Number: 7 of 127 with model Ensemble for Validation 3\n",
            "7 - Ensemble with avg smape 2.55: \n",
            "Model Number: 8 of 127 with model Ensemble for Validation 3\n",
            "8 - Ensemble with avg smape 2.48: \n",
            "Model Number: 9 of 127 with model SectionalMotif for Validation 3\n",
            "9 - SectionalMotif with avg smape 2.51: \n",
            "Model Number: 10 of 127 with model NVAR for Validation 3\n",
            "10 - NVAR with avg smape 4.04: \n",
            "Model Number: 11 of 127 with model WindowRegression for Validation 3\n",
            "📈 11 - WindowRegression with avg smape 1.61: \n",
            "Model Number: 12 of 127 with model NVAR for Validation 3\n",
            "12 - NVAR with avg smape 4.5: \n",
            "Model Number: 13 of 127 with model Ensemble for Validation 3\n",
            "13 - Ensemble with avg smape 3.0: \n",
            "Model Number: 14 of 127 with model NVAR for Validation 3\n",
            "14 - NVAR with avg smape 4.43: \n",
            "Model Number: 15 of 127 with model NVAR for Validation 3\n",
            "15 - NVAR with avg smape 4.06: \n",
            "Model Number: 16 of 127 with model ETS for Validation 3\n",
            "ETS error TypeError(\"__init__() got an unexpected keyword argument 'damped_trend'\")\n",
            "16 - ETS with avg smape 2.62: \n",
            "Model Number: 17 of 127 with model WindowRegression for Validation 3\n",
            "📈 17 - WindowRegression with avg smape 1.52: \n",
            "Model Number: 18 of 127 with model WindowRegression for Validation 3\n",
            "18 - WindowRegression with avg smape 1.94: \n",
            "Model Number: 19 of 127 with model NVAR for Validation 3\n",
            "19 - NVAR with avg smape 2.14: \n",
            "Model Number: 20 of 127 with model LastValueNaive for Validation 3\n"
          ]
        },
        {
          "output_type": "stream",
          "name": "stderr",
          "text": [
            "/usr/local/lib/python3.7/dist-packages/sklearn/svm/_base.py:1208: ConvergenceWarning: Liblinear failed to converge, increase the number of iterations.\n",
            "  ConvergenceWarning,\n",
            "/usr/local/lib/python3.7/dist-packages/sklearn/svm/_base.py:1208: ConvergenceWarning: Liblinear failed to converge, increase the number of iterations.\n",
            "  ConvergenceWarning,\n",
            "/usr/local/lib/python3.7/dist-packages/sklearn/svm/_base.py:1208: ConvergenceWarning: Liblinear failed to converge, increase the number of iterations.\n",
            "  ConvergenceWarning,\n",
            "/usr/local/lib/python3.7/dist-packages/sklearn/svm/_base.py:1208: ConvergenceWarning: Liblinear failed to converge, increase the number of iterations.\n",
            "  ConvergenceWarning,\n",
            "/usr/local/lib/python3.7/dist-packages/sklearn/svm/_base.py:1208: ConvergenceWarning: Liblinear failed to converge, increase the number of iterations.\n",
            "  ConvergenceWarning,\n",
            "/usr/local/lib/python3.7/dist-packages/sklearn/svm/_base.py:1208: ConvergenceWarning: Liblinear failed to converge, increase the number of iterations.\n",
            "  ConvergenceWarning,\n",
            "/usr/local/lib/python3.7/dist-packages/sklearn/svm/_base.py:1208: ConvergenceWarning: Liblinear failed to converge, increase the number of iterations.\n",
            "  ConvergenceWarning,\n",
            "/usr/local/lib/python3.7/dist-packages/sklearn/svm/_base.py:1208: ConvergenceWarning: Liblinear failed to converge, increase the number of iterations.\n",
            "  ConvergenceWarning,\n",
            "/usr/local/lib/python3.7/dist-packages/sklearn/svm/_base.py:1208: ConvergenceWarning: Liblinear failed to converge, increase the number of iterations.\n",
            "  ConvergenceWarning,\n",
            "/usr/local/lib/python3.7/dist-packages/sklearn/svm/_base.py:1208: ConvergenceWarning: Liblinear failed to converge, increase the number of iterations.\n",
            "  ConvergenceWarning,\n",
            "/usr/local/lib/python3.7/dist-packages/sklearn/svm/_base.py:1208: ConvergenceWarning: Liblinear failed to converge, increase the number of iterations.\n",
            "  ConvergenceWarning,\n",
            "/usr/local/lib/python3.7/dist-packages/sklearn/svm/_base.py:1208: ConvergenceWarning: Liblinear failed to converge, increase the number of iterations.\n",
            "  ConvergenceWarning,\n",
            "/usr/local/lib/python3.7/dist-packages/sklearn/svm/_base.py:1208: ConvergenceWarning: Liblinear failed to converge, increase the number of iterations.\n",
            "  ConvergenceWarning,\n",
            "/usr/local/lib/python3.7/dist-packages/sklearn/svm/_base.py:1208: ConvergenceWarning: Liblinear failed to converge, increase the number of iterations.\n",
            "  ConvergenceWarning,\n"
          ]
        },
        {
          "output_type": "stream",
          "name": "stdout",
          "text": [
            "📈 20 - LastValueNaive with avg smape 1.09: \n",
            "Model Number: 21 of 127 with model DatepartRegression for Validation 3\n",
            "21 - DatepartRegression with avg smape 4.56: \n",
            "Model Number: 22 of 127 with model UnivariateMotif for Validation 3\n",
            "22 - UnivariateMotif with avg smape 3.97: \n",
            "Model Number: 23 of 127 with model NVAR for Validation 3\n",
            "23 - NVAR with avg smape 2.55: \n",
            "Model Number: 24 of 127 with model LastValueNaive for Validation 3\n",
            "24 - LastValueNaive with avg smape 1.26: \n",
            "Model Number: 25 of 127 with model LastValueNaive for Validation 3\n"
          ]
        },
        {
          "output_type": "stream",
          "name": "stderr",
          "text": [
            "/usr/local/lib/python3.7/dist-packages/sklearn/neural_network/_multilayer_perceptron.py:549: ConvergenceWarning: lbfgs failed to converge (status=1):\n",
            "STOP: TOTAL NO. of ITERATIONS REACHED LIMIT.\n",
            "\n",
            "Increase the number of iterations (max_iter) or scale the data as shown in:\n",
            "    https://scikit-learn.org/stable/modules/preprocessing.html\n",
            "  self.n_iter_ = _check_optimize_result(\"lbfgs\", opt_res, self.max_iter)\n"
          ]
        },
        {
          "output_type": "stream",
          "name": "stdout",
          "text": [
            "25 - LastValueNaive with avg smape 2.37: \n",
            "Model Number: 26 of 127 with model LastValueNaive for Validation 3\n",
            "26 - LastValueNaive with avg smape 2.37: \n",
            "Model Number: 27 of 127 with model LastValueNaive for Validation 3\n",
            "27 - LastValueNaive with avg smape 2.37: \n",
            "Model Number: 28 of 127 with model LastValueNaive for Validation 3\n",
            "28 - LastValueNaive with avg smape 2.37: \n",
            "Model Number: 29 of 127 with model LastValueNaive for Validation 3\n",
            "29 - LastValueNaive with avg smape 2.37: \n",
            "Model Number: 30 of 127 with model LastValueNaive for Validation 3\n",
            "30 - LastValueNaive with avg smape 2.37: \n",
            "Model Number: 31 of 127 with model AverageValueNaive for Validation 3\n",
            "31 - AverageValueNaive with avg smape 2.57: \n",
            "Model Number: 32 of 127 with model WindowRegression for Validation 3\n",
            "32 - WindowRegression with avg smape 1.45: \n",
            "Model Number: 33 of 127 with model SectionalMotif for Validation 3\n",
            "33 - SectionalMotif with avg smape 1.87: \n",
            "Model Number: 34 of 127 with model NVAR for Validation 3\n"
          ]
        },
        {
          "output_type": "stream",
          "name": "stderr",
          "text": [
            "/usr/local/lib/python3.7/dist-packages/sklearn/svm/_base.py:1208: ConvergenceWarning: Liblinear failed to converge, increase the number of iterations.\n",
            "  ConvergenceWarning,\n",
            "/usr/local/lib/python3.7/dist-packages/sklearn/svm/_base.py:1208: ConvergenceWarning: Liblinear failed to converge, increase the number of iterations.\n",
            "  ConvergenceWarning,\n",
            "/usr/local/lib/python3.7/dist-packages/sklearn/svm/_base.py:1208: ConvergenceWarning: Liblinear failed to converge, increase the number of iterations.\n",
            "  ConvergenceWarning,\n",
            "/usr/local/lib/python3.7/dist-packages/sklearn/svm/_base.py:1208: ConvergenceWarning: Liblinear failed to converge, increase the number of iterations.\n",
            "  ConvergenceWarning,\n",
            "/usr/local/lib/python3.7/dist-packages/sklearn/svm/_base.py:1208: ConvergenceWarning: Liblinear failed to converge, increase the number of iterations.\n",
            "  ConvergenceWarning,\n",
            "/usr/local/lib/python3.7/dist-packages/sklearn/svm/_base.py:1208: ConvergenceWarning: Liblinear failed to converge, increase the number of iterations.\n",
            "  ConvergenceWarning,\n",
            "/usr/local/lib/python3.7/dist-packages/sklearn/svm/_base.py:1208: ConvergenceWarning: Liblinear failed to converge, increase the number of iterations.\n",
            "  ConvergenceWarning,\n",
            "/usr/local/lib/python3.7/dist-packages/sklearn/svm/_base.py:1208: ConvergenceWarning: Liblinear failed to converge, increase the number of iterations.\n",
            "  ConvergenceWarning,\n",
            "/usr/local/lib/python3.7/dist-packages/sklearn/svm/_base.py:1208: ConvergenceWarning: Liblinear failed to converge, increase the number of iterations.\n",
            "  ConvergenceWarning,\n",
            "/usr/local/lib/python3.7/dist-packages/sklearn/svm/_base.py:1208: ConvergenceWarning: Liblinear failed to converge, increase the number of iterations.\n",
            "  ConvergenceWarning,\n"
          ]
        },
        {
          "output_type": "stream",
          "name": "stdout",
          "text": [
            "34 - NVAR with avg smape 2.18: \n",
            "Model Number: 35 of 127 with model WindowRegression for Validation 3\n"
          ]
        },
        {
          "output_type": "stream",
          "name": "stderr",
          "text": [
            "[Parallel(n_jobs=-2)]: Using backend SequentialBackend with 1 concurrent workers.\n",
            "[Parallel(n_jobs=-2)]: Done 100 out of 100 | elapsed:    0.1s finished\n",
            "[Parallel(n_jobs=1)]: Using backend SequentialBackend with 1 concurrent workers.\n",
            "[Parallel(n_jobs=1)]: Done 100 out of 100 | elapsed:    0.0s finished\n",
            "[Parallel(n_jobs=1)]: Using backend SequentialBackend with 1 concurrent workers.\n",
            "[Parallel(n_jobs=1)]: Done 100 out of 100 | elapsed:    0.0s finished\n",
            "[Parallel(n_jobs=1)]: Using backend SequentialBackend with 1 concurrent workers.\n",
            "[Parallel(n_jobs=1)]: Done 100 out of 100 | elapsed:    0.0s finished\n",
            "[Parallel(n_jobs=1)]: Using backend SequentialBackend with 1 concurrent workers.\n",
            "[Parallel(n_jobs=1)]: Done 100 out of 100 | elapsed:    0.0s finished\n",
            "[Parallel(n_jobs=1)]: Using backend SequentialBackend with 1 concurrent workers.\n",
            "[Parallel(n_jobs=1)]: Done 100 out of 100 | elapsed:    0.0s finished\n",
            "[Parallel(n_jobs=1)]: Using backend SequentialBackend with 1 concurrent workers.\n",
            "[Parallel(n_jobs=1)]: Done 100 out of 100 | elapsed:    0.0s finished\n",
            "[Parallel(n_jobs=1)]: Using backend SequentialBackend with 1 concurrent workers.\n",
            "[Parallel(n_jobs=1)]: Done 100 out of 100 | elapsed:    0.0s finished\n",
            "[Parallel(n_jobs=1)]: Using backend SequentialBackend with 1 concurrent workers.\n",
            "[Parallel(n_jobs=1)]: Done 100 out of 100 | elapsed:    0.0s finished\n",
            "[Parallel(n_jobs=1)]: Using backend SequentialBackend with 1 concurrent workers.\n",
            "[Parallel(n_jobs=1)]: Done 100 out of 100 | elapsed:    0.0s finished\n",
            "[Parallel(n_jobs=1)]: Using backend SequentialBackend with 1 concurrent workers.\n",
            "[Parallel(n_jobs=1)]: Done 100 out of 100 | elapsed:    0.0s finished\n",
            "[Parallel(n_jobs=-2)]: Using backend SequentialBackend with 1 concurrent workers.\n"
          ]
        },
        {
          "output_type": "stream",
          "name": "stdout",
          "text": [
            "35 - WindowRegression with avg smape 3.74: \n",
            "Model Number: 36 of 127 with model MultivariateRegression for Validation 3\n"
          ]
        },
        {
          "output_type": "stream",
          "name": "stderr",
          "text": [
            "[Parallel(n_jobs=-2)]: Done 200 out of 200 | elapsed:    0.3s finished\n",
            "[Parallel(n_jobs=1)]: Using backend SequentialBackend with 1 concurrent workers.\n",
            "[Parallel(n_jobs=1)]: Done 200 out of 200 | elapsed:    0.0s finished\n",
            "[Parallel(n_jobs=1)]: Using backend SequentialBackend with 1 concurrent workers.\n",
            "[Parallel(n_jobs=1)]: Done 200 out of 200 | elapsed:    0.0s finished\n",
            "[Parallel(n_jobs=1)]: Using backend SequentialBackend with 1 concurrent workers.\n",
            "[Parallel(n_jobs=1)]: Done 200 out of 200 | elapsed:    0.0s finished\n",
            "[Parallel(n_jobs=1)]: Using backend SequentialBackend with 1 concurrent workers.\n",
            "[Parallel(n_jobs=1)]: Done 200 out of 200 | elapsed:    0.0s finished\n",
            "[Parallel(n_jobs=1)]: Using backend SequentialBackend with 1 concurrent workers.\n",
            "[Parallel(n_jobs=1)]: Done 200 out of 200 | elapsed:    0.0s finished\n",
            "[Parallel(n_jobs=1)]: Using backend SequentialBackend with 1 concurrent workers.\n",
            "[Parallel(n_jobs=1)]: Done 200 out of 200 | elapsed:    0.0s finished\n",
            "[Parallel(n_jobs=1)]: Using backend SequentialBackend with 1 concurrent workers.\n",
            "[Parallel(n_jobs=1)]: Done 200 out of 200 | elapsed:    0.0s finished\n",
            "[Parallel(n_jobs=1)]: Using backend SequentialBackend with 1 concurrent workers.\n",
            "[Parallel(n_jobs=1)]: Done 200 out of 200 | elapsed:    0.0s finished\n",
            "[Parallel(n_jobs=1)]: Using backend SequentialBackend with 1 concurrent workers.\n",
            "[Parallel(n_jobs=1)]: Done 200 out of 200 | elapsed:    0.0s finished\n",
            "[Parallel(n_jobs=1)]: Using backend SequentialBackend with 1 concurrent workers.\n",
            "[Parallel(n_jobs=1)]: Done 200 out of 200 | elapsed:    0.0s finished\n"
          ]
        },
        {
          "output_type": "stream",
          "name": "stdout",
          "text": [
            "36 - MultivariateRegression with avg smape 2.35: \n",
            "Model Number: 37 of 127 with model AverageValueNaive for Validation 3\n",
            "37 - AverageValueNaive with avg smape 2.54: \n",
            "Model Number: 38 of 127 with model DatepartRegression for Validation 3\n",
            "38 - DatepartRegression with avg smape 2.9: \n",
            "Model Number: 39 of 127 with model UnobservedComponents for Validation 3\n",
            "39 - UnobservedComponents with avg smape 2.32: \n",
            "Model Number: 40 of 127 with model MultivariateRegression for Validation 3\n"
          ]
        },
        {
          "output_type": "stream",
          "name": "stderr",
          "text": [
            "[Parallel(n_jobs=-2)]: Using backend SequentialBackend with 1 concurrent workers.\n",
            "[Parallel(n_jobs=-2)]: Done 200 out of 200 | elapsed:    0.3s finished\n",
            "[Parallel(n_jobs=1)]: Using backend SequentialBackend with 1 concurrent workers.\n",
            "[Parallel(n_jobs=1)]: Done 200 out of 200 | elapsed:    0.0s finished\n",
            "[Parallel(n_jobs=1)]: Using backend SequentialBackend with 1 concurrent workers.\n",
            "[Parallel(n_jobs=1)]: Done 200 out of 200 | elapsed:    0.0s finished\n",
            "[Parallel(n_jobs=1)]: Using backend SequentialBackend with 1 concurrent workers.\n",
            "[Parallel(n_jobs=1)]: Done 200 out of 200 | elapsed:    0.0s finished\n",
            "[Parallel(n_jobs=1)]: Using backend SequentialBackend with 1 concurrent workers.\n",
            "[Parallel(n_jobs=1)]: Done 200 out of 200 | elapsed:    0.0s finished\n",
            "[Parallel(n_jobs=1)]: Using backend SequentialBackend with 1 concurrent workers.\n",
            "[Parallel(n_jobs=1)]: Done 200 out of 200 | elapsed:    0.0s finished\n",
            "[Parallel(n_jobs=1)]: Using backend SequentialBackend with 1 concurrent workers.\n",
            "[Parallel(n_jobs=1)]: Done 200 out of 200 | elapsed:    0.0s finished\n",
            "[Parallel(n_jobs=1)]: Using backend SequentialBackend with 1 concurrent workers.\n",
            "[Parallel(n_jobs=1)]: Done 200 out of 200 | elapsed:    0.0s finished\n",
            "[Parallel(n_jobs=1)]: Using backend SequentialBackend with 1 concurrent workers.\n",
            "[Parallel(n_jobs=1)]: Done 200 out of 200 | elapsed:    0.0s finished\n",
            "[Parallel(n_jobs=1)]: Using backend SequentialBackend with 1 concurrent workers.\n",
            "[Parallel(n_jobs=1)]: Done 200 out of 200 | elapsed:    0.0s finished\n",
            "[Parallel(n_jobs=1)]: Using backend SequentialBackend with 1 concurrent workers.\n",
            "[Parallel(n_jobs=1)]: Done 200 out of 200 | elapsed:    0.0s finished\n"
          ]
        },
        {
          "output_type": "stream",
          "name": "stdout",
          "text": [
            "40 - MultivariateRegression with avg smape 3.69: \n",
            "Model Number: 41 of 127 with model SectionalMotif for Validation 3\n",
            "41 - SectionalMotif with avg smape 2.14: \n",
            "Model Number: 42 of 127 with model SectionalMotif for Validation 3\n",
            "42 - SectionalMotif with avg smape 2.08: \n",
            "Model Number: 43 of 127 with model UnobservedComponents for Validation 3\n",
            "43 - UnobservedComponents with avg smape 2.81: \n",
            "Model Number: 44 of 127 with model UnobservedComponents for Validation 3\n",
            "44 - UnobservedComponents with avg smape 2.41: \n",
            "Model Number: 45 of 127 with model WindowRegression for Validation 3\n",
            "45 - WindowRegression with avg smape 200.0: \n",
            "Model Number: 46 of 127 with model UnobservedComponents for Validation 3\n",
            "46 - UnobservedComponents with avg smape 2.9: \n",
            "Model Number: 47 of 127 with model ETS for Validation 3\n",
            "ETS error TypeError(\"__init__() got an unexpected keyword argument 'damped_trend'\")\n",
            "47 - ETS with avg smape 2.64: \n",
            "Model Number: 48 of 127 with model WindowRegression for Validation 3\n",
            "48 - WindowRegression with avg smape 2.25: \n",
            "Model Number: 49 of 127 with model AverageValueNaive for Validation 3\n",
            "49 - AverageValueNaive with avg smape 2.37: \n",
            "Model Number: 50 of 127 with model ETS for Validation 3\n",
            "ETS error TypeError(\"__init__() got an unexpected keyword argument 'damped_trend'\")\n"
          ]
        },
        {
          "output_type": "stream",
          "name": "stderr",
          "text": [
            "/usr/local/lib/python3.7/dist-packages/sklearn/svm/_base.py:1208: ConvergenceWarning: Liblinear failed to converge, increase the number of iterations.\n",
            "  ConvergenceWarning,\n"
          ]
        },
        {
          "output_type": "stream",
          "name": "stdout",
          "text": [
            "50 - ETS with avg smape 2.38: \n",
            "Model Number: 51 of 127 with model WindowRegression for Validation 3\n"
          ]
        },
        {
          "output_type": "stream",
          "name": "stderr",
          "text": [
            "[Parallel(n_jobs=-2)]: Using backend SequentialBackend with 1 concurrent workers.\n",
            "[Parallel(n_jobs=-2)]: Done 1000 out of 1000 | elapsed:    0.9s finished\n",
            "[Parallel(n_jobs=1)]: Using backend SequentialBackend with 1 concurrent workers.\n",
            "[Parallel(n_jobs=1)]: Done 1000 out of 1000 | elapsed:    0.1s finished\n",
            "[Parallel(n_jobs=1)]: Using backend SequentialBackend with 1 concurrent workers.\n",
            "[Parallel(n_jobs=1)]: Done 1000 out of 1000 | elapsed:    0.1s finished\n",
            "[Parallel(n_jobs=1)]: Using backend SequentialBackend with 1 concurrent workers.\n",
            "[Parallel(n_jobs=1)]: Done 1000 out of 1000 | elapsed:    0.1s finished\n",
            "[Parallel(n_jobs=1)]: Using backend SequentialBackend with 1 concurrent workers.\n",
            "[Parallel(n_jobs=1)]: Done 1000 out of 1000 | elapsed:    0.1s finished\n",
            "[Parallel(n_jobs=1)]: Using backend SequentialBackend with 1 concurrent workers.\n",
            "[Parallel(n_jobs=1)]: Done 1000 out of 1000 | elapsed:    0.1s finished\n",
            "[Parallel(n_jobs=1)]: Using backend SequentialBackend with 1 concurrent workers.\n",
            "[Parallel(n_jobs=1)]: Done 1000 out of 1000 | elapsed:    0.1s finished\n",
            "[Parallel(n_jobs=1)]: Using backend SequentialBackend with 1 concurrent workers.\n",
            "[Parallel(n_jobs=1)]: Done 1000 out of 1000 | elapsed:    0.1s finished\n",
            "[Parallel(n_jobs=1)]: Using backend SequentialBackend with 1 concurrent workers.\n",
            "[Parallel(n_jobs=1)]: Done 1000 out of 1000 | elapsed:    0.1s finished\n",
            "[Parallel(n_jobs=1)]: Using backend SequentialBackend with 1 concurrent workers.\n"
          ]
        },
        {
          "output_type": "stream",
          "name": "stdout",
          "text": [
            "51 - WindowRegression with avg smape 4.62: \n",
            "Model Number: 52 of 127 with model UnivariateMotif for Validation 3\n"
          ]
        },
        {
          "output_type": "stream",
          "name": "stderr",
          "text": [
            "[Parallel(n_jobs=1)]: Done 1000 out of 1000 | elapsed:    0.1s finished\n",
            "[Parallel(n_jobs=1)]: Using backend SequentialBackend with 1 concurrent workers.\n",
            "[Parallel(n_jobs=1)]: Done 1000 out of 1000 | elapsed:    0.1s finished\n"
          ]
        },
        {
          "output_type": "stream",
          "name": "stdout",
          "text": [
            "52 - UnivariateMotif with avg smape 2.54: \n",
            "Model Number: 53 of 127 with model UnobservedComponents for Validation 3\n",
            "53 - UnobservedComponents with avg smape 2.53: \n",
            "Model Number: 54 of 127 with model MultivariateRegression for Validation 3\n"
          ]
        },
        {
          "output_type": "stream",
          "name": "stderr",
          "text": [
            "[Parallel(n_jobs=-2)]: Using backend SequentialBackend with 1 concurrent workers.\n",
            "[Parallel(n_jobs=-2)]: Done 200 out of 200 | elapsed:    0.3s finished\n",
            "[Parallel(n_jobs=1)]: Using backend SequentialBackend with 1 concurrent workers.\n",
            "[Parallel(n_jobs=1)]: Done 200 out of 200 | elapsed:    0.0s finished\n",
            "[Parallel(n_jobs=1)]: Using backend SequentialBackend with 1 concurrent workers.\n",
            "[Parallel(n_jobs=1)]: Done 200 out of 200 | elapsed:    0.0s finished\n",
            "[Parallel(n_jobs=1)]: Using backend SequentialBackend with 1 concurrent workers.\n",
            "[Parallel(n_jobs=1)]: Done 200 out of 200 | elapsed:    0.0s finished\n",
            "[Parallel(n_jobs=1)]: Using backend SequentialBackend with 1 concurrent workers.\n",
            "[Parallel(n_jobs=1)]: Done 200 out of 200 | elapsed:    0.0s finished\n",
            "[Parallel(n_jobs=1)]: Using backend SequentialBackend with 1 concurrent workers.\n",
            "[Parallel(n_jobs=1)]: Done 200 out of 200 | elapsed:    0.0s finished\n",
            "[Parallel(n_jobs=1)]: Using backend SequentialBackend with 1 concurrent workers.\n",
            "[Parallel(n_jobs=1)]: Done 200 out of 200 | elapsed:    0.0s finished\n",
            "[Parallel(n_jobs=1)]: Using backend SequentialBackend with 1 concurrent workers.\n",
            "[Parallel(n_jobs=1)]: Done 200 out of 200 | elapsed:    0.0s finished\n",
            "[Parallel(n_jobs=1)]: Using backend SequentialBackend with 1 concurrent workers.\n",
            "[Parallel(n_jobs=1)]: Done 200 out of 200 | elapsed:    0.0s finished\n",
            "[Parallel(n_jobs=1)]: Using backend SequentialBackend with 1 concurrent workers.\n",
            "[Parallel(n_jobs=1)]: Done 200 out of 200 | elapsed:    0.0s finished\n",
            "[Parallel(n_jobs=1)]: Using backend SequentialBackend with 1 concurrent workers.\n",
            "[Parallel(n_jobs=1)]: Done 200 out of 200 | elapsed:    0.0s finished\n"
          ]
        },
        {
          "output_type": "stream",
          "name": "stdout",
          "text": [
            "54 - MultivariateRegression with avg smape 2.56: \n",
            "Model Number: 55 of 127 with model UnobservedComponents for Validation 3\n",
            "55 - UnobservedComponents with avg smape 2.53: \n",
            "Model Number: 56 of 127 with model ETS for Validation 3\n",
            "ETS error TypeError(\"__init__() got an unexpected keyword argument 'damped_trend'\")\n",
            "56 - ETS with avg smape 2.6: \n",
            "Model Number: 57 of 127 with model ETS for Validation 3\n",
            "ETS error TypeError(\"__init__() got an unexpected keyword argument 'damped_trend'\")\n",
            "57 - ETS with avg smape 2.95: \n",
            "Model Number: 58 of 127 with model ETS for Validation 3\n",
            "ETS error TypeError(\"__init__() got an unexpected keyword argument 'damped_trend'\")\n",
            "58 - ETS with avg smape 2.55: \n",
            "Model Number: 59 of 127 with model MultivariateRegression for Validation 3\n"
          ]
        },
        {
          "output_type": "stream",
          "name": "stderr",
          "text": [
            "[Parallel(n_jobs=-2)]: Using backend SequentialBackend with 1 concurrent workers.\n",
            "[Parallel(n_jobs=-2)]: Done 200 out of 200 | elapsed:    0.3s finished\n",
            "[Parallel(n_jobs=1)]: Using backend SequentialBackend with 1 concurrent workers.\n",
            "[Parallel(n_jobs=1)]: Done 200 out of 200 | elapsed:    0.0s finished\n",
            "[Parallel(n_jobs=1)]: Using backend SequentialBackend with 1 concurrent workers.\n",
            "[Parallel(n_jobs=1)]: Done 200 out of 200 | elapsed:    0.0s finished\n",
            "[Parallel(n_jobs=1)]: Using backend SequentialBackend with 1 concurrent workers.\n",
            "[Parallel(n_jobs=1)]: Done 200 out of 200 | elapsed:    0.0s finished\n",
            "[Parallel(n_jobs=1)]: Using backend SequentialBackend with 1 concurrent workers.\n",
            "[Parallel(n_jobs=1)]: Done 200 out of 200 | elapsed:    0.0s finished\n",
            "[Parallel(n_jobs=1)]: Using backend SequentialBackend with 1 concurrent workers.\n",
            "[Parallel(n_jobs=1)]: Done 200 out of 200 | elapsed:    0.0s finished\n",
            "[Parallel(n_jobs=1)]: Using backend SequentialBackend with 1 concurrent workers.\n",
            "[Parallel(n_jobs=1)]: Done 200 out of 200 | elapsed:    0.0s finished\n",
            "[Parallel(n_jobs=1)]: Using backend SequentialBackend with 1 concurrent workers.\n",
            "[Parallel(n_jobs=1)]: Done 200 out of 200 | elapsed:    0.0s finished\n",
            "[Parallel(n_jobs=1)]: Using backend SequentialBackend with 1 concurrent workers.\n",
            "[Parallel(n_jobs=1)]: Done 200 out of 200 | elapsed:    0.0s finished\n",
            "[Parallel(n_jobs=1)]: Using backend SequentialBackend with 1 concurrent workers.\n",
            "[Parallel(n_jobs=1)]: Done 200 out of 200 | elapsed:    0.0s finished\n",
            "[Parallel(n_jobs=1)]: Using backend SequentialBackend with 1 concurrent workers.\n",
            "[Parallel(n_jobs=1)]: Done 200 out of 200 | elapsed:    0.0s finished\n"
          ]
        },
        {
          "output_type": "stream",
          "name": "stdout",
          "text": [
            "59 - MultivariateRegression with avg smape 4.85: \n",
            "Model Number: 60 of 127 with model MultivariateRegression for Validation 3\n"
          ]
        },
        {
          "output_type": "stream",
          "name": "stderr",
          "text": [
            "[Parallel(n_jobs=-2)]: Using backend SequentialBackend with 1 concurrent workers.\n",
            "[Parallel(n_jobs=-2)]: Done 200 out of 200 | elapsed:    0.2s finished\n",
            "[Parallel(n_jobs=1)]: Using backend SequentialBackend with 1 concurrent workers.\n",
            "[Parallel(n_jobs=1)]: Done 200 out of 200 | elapsed:    0.0s finished\n",
            "[Parallel(n_jobs=1)]: Using backend SequentialBackend with 1 concurrent workers.\n",
            "[Parallel(n_jobs=1)]: Done 200 out of 200 | elapsed:    0.0s finished\n",
            "[Parallel(n_jobs=1)]: Using backend SequentialBackend with 1 concurrent workers.\n",
            "[Parallel(n_jobs=1)]: Done 200 out of 200 | elapsed:    0.0s finished\n",
            "[Parallel(n_jobs=1)]: Using backend SequentialBackend with 1 concurrent workers.\n",
            "[Parallel(n_jobs=1)]: Done 200 out of 200 | elapsed:    0.0s finished\n",
            "[Parallel(n_jobs=1)]: Using backend SequentialBackend with 1 concurrent workers.\n",
            "[Parallel(n_jobs=1)]: Done 200 out of 200 | elapsed:    0.0s finished\n",
            "[Parallel(n_jobs=1)]: Using backend SequentialBackend with 1 concurrent workers.\n",
            "[Parallel(n_jobs=1)]: Done 200 out of 200 | elapsed:    0.0s finished\n",
            "[Parallel(n_jobs=1)]: Using backend SequentialBackend with 1 concurrent workers.\n",
            "[Parallel(n_jobs=1)]: Done 200 out of 200 | elapsed:    0.0s finished\n",
            "[Parallel(n_jobs=1)]: Using backend SequentialBackend with 1 concurrent workers.\n",
            "[Parallel(n_jobs=1)]: Done 200 out of 200 | elapsed:    0.0s finished\n",
            "[Parallel(n_jobs=1)]: Using backend SequentialBackend with 1 concurrent workers.\n",
            "[Parallel(n_jobs=1)]: Done 200 out of 200 | elapsed:    0.0s finished\n",
            "[Parallel(n_jobs=1)]: Using backend SequentialBackend with 1 concurrent workers.\n",
            "[Parallel(n_jobs=1)]: Done 200 out of 200 | elapsed:    0.0s finished\n"
          ]
        },
        {
          "output_type": "stream",
          "name": "stdout",
          "text": [
            "60 - MultivariateRegression with avg smape 2.57: \n",
            "Model Number: 61 of 127 with model UnivariateMotif for Validation 3\n",
            "61 - UnivariateMotif with avg smape 3.52: \n",
            "Model Number: 62 of 127 with model ETS for Validation 3\n",
            "ETS error TypeError(\"__init__() got an unexpected keyword argument 'damped_trend'\")\n",
            "62 - ETS with avg smape 2.53: \n",
            "Model Number: 63 of 127 with model ETS for Validation 3\n",
            "ETS error TypeError(\"__init__() got an unexpected keyword argument 'damped_trend'\")\n",
            "63 - ETS with avg smape 2.37: \n",
            "Model Number: 64 of 127 with model UnobservedComponents for Validation 3\n",
            "64 - UnobservedComponents with avg smape 3.38: \n",
            "Model Number: 65 of 127 with model AverageValueNaive for Validation 3\n",
            "65 - AverageValueNaive with avg smape 4.23: \n",
            "Model Number: 66 of 127 with model AverageValueNaive for Validation 3\n",
            "66 - AverageValueNaive with avg smape 2.44: \n",
            "Model Number: 67 of 127 with model SeasonalNaive for Validation 3\n",
            "67 - SeasonalNaive with avg smape 2.74: \n",
            "Model Number: 68 of 127 with model MultivariateMotif for Validation 3\n",
            "68 - MultivariateMotif with avg smape 2.02: \n",
            "Model Number: 69 of 127 with model SeasonalNaive for Validation 3\n",
            "69 - SeasonalNaive with avg smape 2.65: \n",
            "Model Number: 70 of 127 with model SeasonalNaive for Validation 3\n",
            "70 - SeasonalNaive with avg smape 2.67: \n",
            "Model Number: 71 of 127 with model SeasonalNaive for Validation 3\n",
            "71 - SeasonalNaive with avg smape 1.34: \n",
            "Model Number: 72 of 127 with model UnobservedComponents for Validation 3\n",
            "72 - UnobservedComponents with avg smape 5.87: \n",
            "Model Number: 73 of 127 with model SeasonalNaive for Validation 3\n",
            "73 - SeasonalNaive with avg smape 1.91: \n",
            "Model Number: 74 of 127 with model AverageValueNaive for Validation 3\n",
            "74 - AverageValueNaive with avg smape 2.54: \n",
            "Model Number: 75 of 127 with model MultivariateMotif for Validation 3\n",
            "75 - MultivariateMotif with avg smape 2.91: \n",
            "Model Number: 76 of 127 with model AverageValueNaive for Validation 3\n",
            "76 - AverageValueNaive with avg smape 2.53: \n",
            "Model Number: 77 of 127 with model GLS for Validation 3\n",
            "77 - GLS with avg smape 2.65: \n",
            "Model Number: 78 of 127 with model GLS for Validation 3\n",
            "78 - GLS with avg smape 2.65: \n",
            "Model Number: 79 of 127 with model AverageValueNaive for Validation 3\n",
            "79 - AverageValueNaive with avg smape 4.19: \n",
            "Model Number: 80 of 127 with model MultivariateRegression for Validation 3\n",
            "80 - MultivariateRegression with avg smape 2.5: \n",
            "Model Number: 81 of 127 with model DatepartRegression for Validation 3\n",
            "81 - DatepartRegression with avg smape 1.75: \n",
            "Model Number: 82 of 127 with model GLS for Validation 3\n",
            "82 - GLS with avg smape 2.42: \n",
            "Model Number: 83 of 127 with model GLS for Validation 3\n",
            "83 - GLS with avg smape 2.53: \n",
            "Model Number: 84 of 127 with model SeasonalNaive for Validation 3\n",
            "84 - SeasonalNaive with avg smape 1.23: \n",
            "Model Number: 85 of 127 with model SectionalMotif for Validation 3\n",
            "85 - SectionalMotif with avg smape 2.52: \n",
            "Model Number: 86 of 127 with model ConstantNaive for Validation 3\n",
            "86 - ConstantNaive with avg smape 2.4: \n",
            "Model Number: 87 of 127 with model GLS for Validation 3\n",
            "87 - GLS with avg smape 2.54: \n",
            "Model Number: 88 of 127 with model MultivariateRegression for Validation 3\n",
            "88 - MultivariateRegression with avg smape 4.64: \n",
            "Model Number: 89 of 127 with model UnivariateMotif for Validation 3\n",
            "89 - UnivariateMotif with avg smape 1.94: \n",
            "Model Number: 90 of 127 with model MultivariateRegression for Validation 3\n"
          ]
        },
        {
          "output_type": "stream",
          "name": "stderr",
          "text": [
            "[Parallel(n_jobs=-2)]: Using backend SequentialBackend with 1 concurrent workers.\n",
            "[Parallel(n_jobs=-2)]: Done 200 out of 200 | elapsed:    0.3s finished\n",
            "[Parallel(n_jobs=1)]: Using backend SequentialBackend with 1 concurrent workers.\n",
            "[Parallel(n_jobs=1)]: Done 200 out of 200 | elapsed:    0.0s finished\n",
            "[Parallel(n_jobs=1)]: Using backend SequentialBackend with 1 concurrent workers.\n",
            "[Parallel(n_jobs=1)]: Done 200 out of 200 | elapsed:    0.0s finished\n",
            "[Parallel(n_jobs=1)]: Using backend SequentialBackend with 1 concurrent workers.\n",
            "[Parallel(n_jobs=1)]: Done 200 out of 200 | elapsed:    0.0s finished\n",
            "[Parallel(n_jobs=1)]: Using backend SequentialBackend with 1 concurrent workers.\n",
            "[Parallel(n_jobs=1)]: Done 200 out of 200 | elapsed:    0.0s finished\n",
            "[Parallel(n_jobs=1)]: Using backend SequentialBackend with 1 concurrent workers.\n",
            "[Parallel(n_jobs=1)]: Done 200 out of 200 | elapsed:    0.0s finished\n",
            "[Parallel(n_jobs=1)]: Using backend SequentialBackend with 1 concurrent workers.\n",
            "[Parallel(n_jobs=1)]: Done 200 out of 200 | elapsed:    0.0s finished\n",
            "[Parallel(n_jobs=1)]: Using backend SequentialBackend with 1 concurrent workers.\n",
            "[Parallel(n_jobs=1)]: Done 200 out of 200 | elapsed:    0.0s finished\n",
            "[Parallel(n_jobs=1)]: Using backend SequentialBackend with 1 concurrent workers.\n",
            "[Parallel(n_jobs=1)]: Done 200 out of 200 | elapsed:    0.0s finished\n",
            "[Parallel(n_jobs=1)]: Using backend SequentialBackend with 1 concurrent workers.\n",
            "[Parallel(n_jobs=1)]: Done 200 out of 200 | elapsed:    0.0s finished\n",
            "[Parallel(n_jobs=1)]: Using backend SequentialBackend with 1 concurrent workers.\n",
            "[Parallel(n_jobs=1)]: Done 200 out of 200 | elapsed:    0.0s finished\n"
          ]
        },
        {
          "output_type": "stream",
          "name": "stdout",
          "text": [
            "90 - MultivariateRegression with avg smape 2.19: \n",
            "Model Number: 91 of 127 with model UnivariateMotif for Validation 3\n",
            "91 - UnivariateMotif with avg smape 1.79: \n",
            "Model Number: 92 of 127 with model UnivariateMotif for Validation 3\n",
            "92 - UnivariateMotif with avg smape 2.6: \n",
            "Model Number: 93 of 127 with model DatepartRegression for Validation 3\n"
          ]
        },
        {
          "output_type": "stream",
          "name": "stderr",
          "text": [
            "[Parallel(n_jobs=-2)]: Using backend SequentialBackend with 1 concurrent workers.\n"
          ]
        },
        {
          "output_type": "stream",
          "name": "stdout",
          "text": [
            "93 - DatepartRegression with avg smape 4.05: \n",
            "Model Number: 94 of 127 with model GLS for Validation 3\n"
          ]
        },
        {
          "output_type": "stream",
          "name": "stderr",
          "text": [
            "[Parallel(n_jobs=-2)]: Done 1000 out of 1000 | elapsed:    1.3s finished\n",
            "[Parallel(n_jobs=1)]: Using backend SequentialBackend with 1 concurrent workers.\n",
            "[Parallel(n_jobs=1)]: Done 1000 out of 1000 | elapsed:    0.1s finished\n"
          ]
        },
        {
          "output_type": "stream",
          "name": "stdout",
          "text": [
            "94 - GLS with avg smape 2.21: \n",
            "Model Number: 95 of 127 with model DatepartRegression for Validation 3\n"
          ]
        },
        {
          "output_type": "stream",
          "name": "stderr",
          "text": [
            "[Parallel(n_jobs=-2)]: Using backend SequentialBackend with 1 concurrent workers.\n",
            "[Parallel(n_jobs=-2)]: Done 100 out of 100 | elapsed:    0.1s finished\n",
            "[Parallel(n_jobs=1)]: Using backend SequentialBackend with 1 concurrent workers.\n",
            "[Parallel(n_jobs=1)]: Done 100 out of 100 | elapsed:    0.0s finished\n"
          ]
        },
        {
          "output_type": "stream",
          "name": "stdout",
          "text": [
            "95 - DatepartRegression with avg smape 4.18: \n",
            "Model Number: 96 of 127 with model DatepartRegression for Validation 3\n",
            "96 - DatepartRegression with avg smape 18.72: \n",
            "Model Number: 97 of 127 with model MultivariateMotif for Validation 3\n",
            "97 - MultivariateMotif with avg smape 2.68: \n",
            "Model Number: 98 of 127 with model GLS for Validation 3\n",
            "98 - GLS with avg smape 2.54: \n",
            "Model Number: 99 of 127 with model SectionalMotif for Validation 3\n"
          ]
        },
        {
          "output_type": "stream",
          "name": "stderr",
          "text": [
            "/usr/local/lib/python3.7/dist-packages/sklearn/svm/_base.py:1208: ConvergenceWarning: Liblinear failed to converge, increase the number of iterations.\n",
            "  ConvergenceWarning,\n"
          ]
        },
        {
          "output_type": "stream",
          "name": "stdout",
          "text": [
            "99 - SectionalMotif with avg smape 6.68: \n",
            "Model Number: 100 of 127 with model ConstantNaive for Validation 3\n",
            "100 - ConstantNaive with avg smape 2.37: \n",
            "Model Number: 101 of 127 with model SeasonalNaive for Validation 3\n",
            "101 - SeasonalNaive with avg smape 3.16: \n",
            "Model Number: 102 of 127 with model MultivariateMotif for Validation 3\n",
            "102 - MultivariateMotif with avg smape 1.49: \n",
            "Model Number: 103 of 127 with model UnivariateMotif for Validation 3\n",
            "103 - UnivariateMotif with avg smape 3.51: \n",
            "Model Number: 104 of 127 with model SeasonalNaive for Validation 3\n",
            "104 - SeasonalNaive with avg smape 2.19: \n",
            "Model Number: 105 of 127 with model SectionalMotif for Validation 3\n",
            "105 - SectionalMotif with avg smape 3.82: \n",
            "Model Number: 106 of 127 with model FBProphet for Validation 3\n"
          ]
        },
        {
          "output_type": "stream",
          "name": "stderr",
          "text": [
            "INFO:fbprophet:Disabling yearly seasonality. Run prophet with yearly_seasonality=True to override this.\n",
            "INFO:fbprophet:Disabling daily seasonality. Run prophet with daily_seasonality=True to override this.\n",
            "INFO:fbprophet:n_changepoints greater than number of observations. Using 24.\n"
          ]
        },
        {
          "output_type": "stream",
          "name": "stdout",
          "text": [
            "106 - FBProphet with avg smape 6.29: \n",
            "Model Number: 107 of 127 with model ConstantNaive for Validation 3\n",
            "107 - ConstantNaive with avg smape 2.84: \n",
            "Model Number: 108 of 127 with model MultivariateMotif for Validation 3\n",
            "108 - MultivariateMotif with avg smape 1.48: \n",
            "Model Number: 109 of 127 with model FBProphet for Validation 3\n"
          ]
        },
        {
          "output_type": "stream",
          "name": "stderr",
          "text": [
            "INFO:fbprophet:Disabling yearly seasonality. Run prophet with yearly_seasonality=True to override this.\n",
            "INFO:fbprophet:Disabling daily seasonality. Run prophet with daily_seasonality=True to override this.\n",
            "INFO:fbprophet:Disabling yearly seasonality. Run prophet with yearly_seasonality=True to override this.\n",
            "INFO:fbprophet:Disabling daily seasonality. Run prophet with daily_seasonality=True to override this.\n",
            "INFO:fbprophet:n_changepoints greater than number of observations. Using 24.\n"
          ]
        },
        {
          "output_type": "stream",
          "name": "stdout",
          "text": [
            "109 - FBProphet with avg smape 6.23: \n",
            "Model Number: 110 of 127 with model FBProphet for Validation 3\n"
          ]
        },
        {
          "output_type": "stream",
          "name": "stderr",
          "text": [
            "INFO:fbprophet:Disabling yearly seasonality. Run prophet with yearly_seasonality=True to override this.\n",
            "INFO:fbprophet:Disabling daily seasonality. Run prophet with daily_seasonality=True to override this.\n",
            "INFO:fbprophet:n_changepoints greater than number of observations. Using 24.\n"
          ]
        },
        {
          "output_type": "stream",
          "name": "stdout",
          "text": [
            "110 - FBProphet with avg smape 8.03: \n",
            "Model Number: 111 of 127 with model FBProphet for Validation 3\n"
          ]
        },
        {
          "output_type": "stream",
          "name": "stderr",
          "text": [
            "INFO:fbprophet:Disabling yearly seasonality. Run prophet with yearly_seasonality=True to override this.\n",
            "INFO:fbprophet:Disabling daily seasonality. Run prophet with daily_seasonality=True to override this.\n",
            "INFO:fbprophet:n_changepoints greater than number of observations. Using 24.\n"
          ]
        },
        {
          "output_type": "stream",
          "name": "stdout",
          "text": [
            "111 - FBProphet with avg smape 3.57: \n",
            "Model Number: 112 of 127 with model FBProphet for Validation 3\n"
          ]
        },
        {
          "output_type": "stream",
          "name": "stderr",
          "text": [
            "INFO:fbprophet:Disabling yearly seasonality. Run prophet with yearly_seasonality=True to override this.\n",
            "INFO:fbprophet:Disabling daily seasonality. Run prophet with daily_seasonality=True to override this.\n",
            "INFO:fbprophet:n_changepoints greater than number of observations. Using 24.\n"
          ]
        },
        {
          "output_type": "stream",
          "name": "stdout",
          "text": [
            "112 - FBProphet with avg smape 3.45: \n",
            "Model Number: 113 of 127 with model FBProphet for Validation 3\n",
            "113 - FBProphet with avg smape 3.57: \n",
            "Model Number: 114 of 127 with model UnivariateMotif for Validation 3\n",
            "114 - UnivariateMotif with avg smape 2.1: \n",
            "Model Number: 115 of 127 with model MultivariateMotif for Validation 3\n",
            "115 - MultivariateMotif with avg smape 2.19: \n",
            "Model Number: 116 of 127 with model SectionalMotif for Validation 3\n",
            "116 - SectionalMotif with avg smape 2.46: \n",
            "Model Number: 117 of 127 with model FBProphet for Validation 3\n"
          ]
        },
        {
          "output_type": "stream",
          "name": "stderr",
          "text": [
            "INFO:fbprophet:Disabling yearly seasonality. Run prophet with yearly_seasonality=True to override this.\n",
            "INFO:fbprophet:Disabling daily seasonality. Run prophet with daily_seasonality=True to override this.\n",
            "INFO:fbprophet:n_changepoints greater than number of observations. Using 24.\n"
          ]
        },
        {
          "output_type": "stream",
          "name": "stdout",
          "text": [
            "117 - FBProphet with avg smape 6.33: \n",
            "Model Number: 118 of 127 with model MultivariateMotif for Validation 3\n",
            "118 - MultivariateMotif with avg smape 2.36: \n",
            "Model Number: 119 of 127 with model MultivariateMotif for Validation 3\n",
            "119 - MultivariateMotif with avg smape 2.63: \n",
            "Model Number: 120 of 127 with model GLS for Validation 3\n",
            "120 - GLS with avg smape 5.03: \n",
            "Model Number: 121 of 127 with model FBProphet for Validation 3\n"
          ]
        },
        {
          "output_type": "stream",
          "name": "stderr",
          "text": [
            "INFO:fbprophet:Disabling yearly seasonality. Run prophet with yearly_seasonality=True to override this.\n",
            "INFO:fbprophet:Disabling daily seasonality. Run prophet with daily_seasonality=True to override this.\n"
          ]
        },
        {
          "output_type": "stream",
          "name": "stdout",
          "text": [
            "121 - FBProphet with avg smape 2.76: \n",
            "Model Number: 122 of 127 with model DatepartRegression for Validation 3\n",
            "122 - DatepartRegression with avg smape 4.42: \n",
            "Model Number: 123 of 127 with model ConstantNaive for Validation 3\n",
            "123 - ConstantNaive with avg smape 18.72: \n",
            "Model Number: 124 of 127 with model ConstantNaive for Validation 3\n",
            "124 - ConstantNaive with avg smape 18.72: \n",
            "Model Number: 125 of 127 with model ConstantNaive for Validation 3\n",
            "125 - ConstantNaive with avg smape 18.72: \n",
            "Model Number: 126 of 127 with model ConstantNaive for Validation 3\n",
            "126 - ConstantNaive with avg smape 17.82: \n",
            "Model Number: 127 of 127 with model GLM for Validation 3\n",
            "127 - GLM with avg smape 9.14: \n"
          ]
        },
        {
          "output_type": "execute_result",
          "data": {
            "text/plain": [
              "Initiated AutoTS object with best model: \n",
              "SeasonalNaive\n",
              "{'fillna': 'rolling_mean_24', 'transformations': {'0': 'SinTrend', '1': 'Round', '2': 'PowerTransformer'}, 'transformation_params': {'0': {}, '1': {'model': 'middle', 'decimals': 2, 'on_transform': False, 'on_inverse': True}, '2': {}}}\n",
              "{'method': 'lastvalue', 'lag_1': 2, 'lag_2': 7}\n",
              "SMAPE: 3.7046552650167075, 6.0382072347693505, 2.866516685902586, 2.1920493938764967\n",
              "MAE: 5.326477348671407, 9.20503313626045, 4.641356879678296, 3.7174720881076238\n",
              "SPL: 0.8832591787027694, 1.4789101960029978, 0.9088118464500407, 1.0922716077932517"
            ]
          },
          "metadata": {},
          "execution_count": 23
        }
      ]
    },
    {
      "cell_type": "code",
      "source": [
        "prediction = model.predict()\n",
        "forecast = prediction.forecast\n",
        "print(\"Stock Price Prediction of Apple\")\n",
        "print(forecast)"
      ],
      "metadata": {
        "colab": {
          "base_uri": "https://localhost:8080/"
        },
        "id": "ZIyc7g4oO3xp",
        "outputId": "dbeb6994-9005-42a1-975c-3e9ce0a80cb2"
      },
      "execution_count": 24,
      "outputs": [
        {
          "output_type": "stream",
          "name": "stdout",
          "text": [
            "Stock Price Prediction of Apple\n",
            "                 Close\n",
            "2022-06-02  143.664274\n",
            "2022-06-03  143.707545\n",
            "2022-06-06  145.013526\n",
            "2022-06-07  147.921133\n",
            "2022-06-08  148.154984\n",
            "2022-06-09  147.645137\n",
            "2022-06-10  147.541647\n",
            "2022-06-13  142.399820\n",
            "2022-06-14  142.482243\n",
            "2022-06-15  144.151248\n"
          ]
        }
      ]
    }
  ]
}
