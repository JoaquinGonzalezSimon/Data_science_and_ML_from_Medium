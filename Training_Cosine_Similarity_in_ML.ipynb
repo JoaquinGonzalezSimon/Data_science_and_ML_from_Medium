{
  "nbformat": 4,
  "nbformat_minor": 0,
  "metadata": {
    "colab": {
      "name": "Training-Cosine_Similarity_in_ML.ipynb",
      "provenance": [],
      "collapsed_sections": [],
      "authorship_tag": "ABX9TyN82qP1rd3jmksJDIA57W/E",
      "include_colab_link": true
    },
    "kernelspec": {
      "name": "python3",
      "display_name": "Python 3"
    },
    "language_info": {
      "name": "python"
    }
  },
  "cells": [
    {
      "cell_type": "markdown",
      "metadata": {
        "id": "view-in-github",
        "colab_type": "text"
      },
      "source": [
        "<a href=\"https://colab.research.google.com/github/JoaquinGonzalezSimon/Data_science_and_ML_from_Medium/blob/main/Training_Cosine_Similarity_in_ML.ipynb\" target=\"_parent\"><img src=\"https://colab.research.google.com/assets/colab-badge.svg\" alt=\"Open In Colab\"/></a>"
      ]
    },
    {
      "cell_type": "markdown",
      "source": [
        "### Training- Cosine Similarity in ML\n",
        "\n",
        "https://thecleverprogrammer.com/2021/02/27/cosine-similarity-in-machine-learning/"
      ],
      "metadata": {
        "id": "xPysa8Ng-qbE"
      }
    },
    {
      "cell_type": "code",
      "execution_count": 1,
      "metadata": {
        "id": "K3Zt2hNs-phL"
      },
      "outputs": [],
      "source": [
        "import pandas as pd\n",
        "import numpy as np\n",
        "from sklearn.metrics.pairwise import cosine_similarity"
      ]
    },
    {
      "cell_type": "code",
      "source": [
        "a = np.array([10,5,15,7,5])\n",
        "b = np.array([5,10,17,5,3])"
      ],
      "metadata": {
        "id": "LUcdpGx2-6X6"
      },
      "execution_count": 2,
      "outputs": []
    },
    {
      "cell_type": "code",
      "source": [
        "cosine = cosine_similarity(a.reshape(1,-1), b.reshape(1,-1))\n",
        "print(cosine)"
      ],
      "metadata": {
        "colab": {
          "base_uri": "https://localhost:8080/"
        },
        "id": "W4o5uU74_A1G",
        "outputId": "e4aa2d48-d741-4e83-ff90-1ba126f4148c"
      },
      "execution_count": 3,
      "outputs": [
        {
          "output_type": "stream",
          "name": "stdout",
          "text": [
            "[[0.92925111]]\n"
          ]
        }
      ]
    },
    {
      "cell_type": "code",
      "source": [
        "c = np.array([25,4358,2,.15,9])"
      ],
      "metadata": {
        "id": "f5i2u3h7_IVQ"
      },
      "execution_count": 4,
      "outputs": []
    },
    {
      "cell_type": "code",
      "source": [
        "cosine2 = cosine_similarity(a.reshape(1,-1), c.reshape(1,-1))\n",
        "cosine2"
      ],
      "metadata": {
        "colab": {
          "base_uri": "https://localhost:8080/"
        },
        "id": "ffQg4IKf_QOy",
        "outputId": "61c0ec83-356e-4fa8-9ac9-22c68f547ead"
      },
      "execution_count": 5,
      "outputs": [
        {
          "output_type": "execute_result",
          "data": {
            "text/plain": [
              "array([[0.24645027]])"
            ]
          },
          "metadata": {},
          "execution_count": 5
        }
      ]
    }
  ]
}